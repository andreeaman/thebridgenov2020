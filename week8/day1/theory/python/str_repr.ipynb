{
 "cells": [
  {
   "cell_type": "code",
   "execution_count": 1,
   "metadata": {},
   "outputs": [
    {
     "output_type": "execute_result",
     "data": {
      "text/plain": [
       "<__main__.Puerta at 0x27a31393a58>"
      ]
     },
     "metadata": {},
     "execution_count": 1
    }
   ],
   "source": [
    "class Puerta:\n",
    "\n",
    "    def __init__(self):\n",
    "        self.color = \"Red\"\n",
    "\n",
    "puerta1 = Puerta()\n",
    "\n",
    "puerta1"
   ]
  },
  {
   "cell_type": "code",
   "execution_count": 12,
   "metadata": {
    "tags": []
   },
   "outputs": [
    {
     "output_type": "stream",
     "name": "stdout",
     "text": [
      "Dory tiene 5 años\nTengo dos perros: Dory tiene 5 años Estoy en el __str__ \n Blanca tiene 2 años Estoy en el __str__\n"
     ]
    }
   ],
   "source": [
    "class Dog:\n",
    "    def __init__(self, name, age):\n",
    "        self.name = name\n",
    "        self.age = age\n",
    "\n",
    "    def __str__(self):\n",
    "        return str(self.name) + \" tiene \" + str(self.age) + \" años\" + \" Estoy en el __str__\"\n",
    "\n",
    "    def __eq__(self, another):\n",
    "        \"\"\" Se compara los hash. Esta función siempre viene por defecto\"\"\"\n",
    "        if self.name == another.name:\n",
    "            return True\n",
    "        else:\n",
    "            return False\n",
    "\n",
    "    def show_attributes(self):\n",
    "        \"\"\" Función no necesaria porque uso __str__\"\"\"\n",
    "        x = 2\n",
    "        print(str(self.name) + \" tiene \" + str(self.age) + \" años\")\n",
    "\n",
    "dory = Dog(name=\"Dory\", age=5)\n",
    "dory.show_attributes()\n",
    "chucho = Dog(name=\"Blanca\", age=2)\n",
    "\n",
    "print(\"Tengo dos perros:\", dory, \"\\n\", chucho)\n"
   ]
  },
  {
   "cell_type": "code",
   "execution_count": 13,
   "metadata": {},
   "outputs": [
    {
     "output_type": "execute_result",
     "data": {
      "text/plain": [
       "False"
      ]
     },
     "metadata": {},
     "execution_count": 13
    }
   ],
   "source": [
    "dory == chucho"
   ]
  },
  {
   "cell_type": "code",
   "execution_count": 14,
   "metadata": {},
   "outputs": [
    {
     "output_type": "error",
     "ename": "TypeError",
     "evalue": "unsupported operand type(s) for +: 'Dog' and 'Dog'",
     "traceback": [
      "\u001b[1;31m---------------------------------------------------------------------------\u001b[0m",
      "\u001b[1;31mTypeError\u001b[0m                                 Traceback (most recent call last)",
      "\u001b[1;32m<ipython-input-14-f8bc256406b5>\u001b[0m in \u001b[0;36m<module>\u001b[1;34m\u001b[0m\n\u001b[1;32m----> 1\u001b[1;33m \u001b[0mdory\u001b[0m \u001b[1;33m+\u001b[0m \u001b[0mchucho\u001b[0m\u001b[1;33m\u001b[0m\u001b[0m\n\u001b[0m",
      "\u001b[1;31mTypeError\u001b[0m: unsupported operand type(s) for +: 'Dog' and 'Dog'"
     ]
    }
   ],
   "source": [
    "dory + chucho"
   ]
  },
  {
   "cell_type": "code",
   "execution_count": 15,
   "metadata": {},
   "outputs": [
    {
     "output_type": "execute_result",
     "data": {
      "text/plain": [
       "'Dory tiene 5 años Estoy en el __str__'"
      ]
     },
     "metadata": {},
     "execution_count": 15
    }
   ],
   "source": [
    "dory_str = str(dory)\n",
    "dory_str"
   ]
  },
  {
   "cell_type": "code",
   "execution_count": 8,
   "metadata": {},
   "outputs": [
    {
     "output_type": "execute_result",
     "data": {
      "text/plain": [
       "2"
      ]
     },
     "metadata": {},
     "execution_count": 8
    }
   ],
   "source": [
    "def mi_funcion():\n",
    "\n",
    "    return 2, 5\n",
    "\n",
    "x, y = mi_funcion()\n",
    "x"
   ]
  },
  {
   "cell_type": "code",
   "execution_count": 22,
   "metadata": {
    "tags": []
   },
   "outputs": [
    {
     "output_type": "stream",
     "name": "stdout",
     "text": [
      "La suma: 122\nNombre Lorena tiene 98 años. 2\n¿Son iguales Juan y Lorena? False\n¿Son iguales Juan y su clonación? True\n"
     ]
    }
   ],
   "source": [
    "class Human:\n",
    "\n",
    "    def __init__(self, name, age):\n",
    "        self.name = name\n",
    "        self.age = age\n",
    "\n",
    "    def __str__(self):\n",
    "        return \"Nombre \" + self.name + \" tiene \" + str(self.age) + \" años.\"\n",
    "        \n",
    "    def __repr__(self):\n",
    "        return \"Nombre \" + self.name + \" y edad \" + str(self.age) + \" años\"\n",
    "    \n",
    "    def __eq__(self, x):\n",
    "        if self.name == x.name and self.age == x.age:\n",
    "            return True\n",
    "        else:\n",
    "            return False\n",
    "    \n",
    "    def __add__(self, another):\n",
    "        return self.age + another.age\n",
    "\n",
    "juan = Human(\"Juan\", 24)\n",
    "lorena = Human(\"Lorena\", 98)\n",
    "juan_clonado = Human(\"Juan\", 24)\n",
    "print(\"La suma:\", juan + lorena)\n",
    "print(lorena, 2)\n",
    "print(\"¿Son iguales Juan y Lorena?\", juan == lorena)\n",
    "print(\"¿Son iguales Juan y su clonación?\", juan == juan_clonado)"
   ]
  },
  {
   "cell_type": "code",
   "execution_count": 23,
   "metadata": {},
   "outputs": [
    {
     "output_type": "stream",
     "name": "stdout",
     "text": [
      "Lasy tiene 2 años Estoy en el __str__\n"
     ]
    },
    {
     "output_type": "execute_result",
     "data": {
      "text/plain": [
       "'<__main__.Dog object at 0x0000027A3314F518>'"
      ]
     },
     "metadata": {},
     "execution_count": 23
    }
   ],
   "source": [
    "lasy = Dog(name=\"Lasy\", age=2)\n",
    "print(lasy)\n",
    "repr(lasy)"
   ]
  },
  {
   "cell_type": "code",
   "execution_count": 24,
   "metadata": {
    "tags": []
   },
   "outputs": [
    {
     "output_type": "stream",
     "name": "stdout",
     "text": [
      "Nombre Juan tiene 24 años.\n"
     ]
    }
   ],
   "source": [
    "print(str(juan))"
   ]
  },
  {
   "cell_type": "code",
   "execution_count": 25,
   "metadata": {
    "tags": []
   },
   "outputs": [
    {
     "output_type": "stream",
     "name": "stdout",
     "text": [
      "Nombre Lorena tiene 98 años.\n"
     ]
    }
   ],
   "source": [
    "print(lorena)"
   ]
  },
  {
   "cell_type": "code",
   "execution_count": 26,
   "metadata": {},
   "outputs": [
    {
     "output_type": "execute_result",
     "data": {
      "text/plain": [
       "'Nombre Juan y edad 24 años'"
      ]
     },
     "metadata": {},
     "execution_count": 26
    }
   ],
   "source": [
    "repr(juan)"
   ]
  },
  {
   "cell_type": "code",
   "execution_count": 27,
   "metadata": {},
   "outputs": [
    {
     "output_type": "execute_result",
     "data": {
      "text/plain": [
       "'Nombre Lorena y edad 98 años'"
      ]
     },
     "metadata": {},
     "execution_count": 27
    }
   ],
   "source": [
    "repr(lorena)"
   ]
  },
  {
   "cell_type": "code",
   "execution_count": 28,
   "metadata": {},
   "outputs": [
    {
     "output_type": "stream",
     "name": "stdout",
     "text": [
      "Son la misma Lorena!!!\n"
     ]
    }
   ],
   "source": [
    "another_lorena = Human(\"Lorena\", 98)\n",
    "if lorena == another_lorena:\n",
    "    print(\"Son la misma Lorena!!!\")"
   ]
  },
  {
   "cell_type": "code",
   "execution_count": 31,
   "metadata": {
    "tags": []
   },
   "outputs": [
    {
     "output_type": "stream",
     "name": "stdout",
     "text": [
      "Son el mismo perro!!!\n"
     ]
    }
   ],
   "source": [
    "lasy1 = Dog(name=\"Lasy\", age=2)\n",
    "lasy2 = Dog(name=\"Lasy\", age=2)\n",
    "\n",
    "if lasy1 == lasy2:\n",
    "    print(\"Son el mismo perro!!!\")\n",
    "else:\n",
    "    print(\"No son iguales\")"
   ]
  },
  {
   "cell_type": "code",
   "execution_count": 32,
   "metadata": {},
   "outputs": [
    {
     "output_type": "execute_result",
     "data": {
      "text/plain": [
       "True"
      ]
     },
     "metadata": {},
     "execution_count": 32
    }
   ],
   "source": [
    "lasy1.__eq__(lasy2)"
   ]
  },
  {
   "cell_type": "code",
   "execution_count": 33,
   "metadata": {},
   "outputs": [
    {
     "output_type": "stream",
     "name": "stdout",
     "text": [
      "Yes\n"
     ]
    }
   ],
   "source": [
    "if lasy1 == lasy1:\n",
    "    print(\"Yes\")\n",
    "\n"
   ]
  },
  {
   "cell_type": "code",
   "execution_count": 34,
   "metadata": {},
   "outputs": [
    {
     "output_type": "stream",
     "name": "stdout",
     "text": [
      "196\n"
     ]
    }
   ],
   "source": [
    "print(str(lorena + another_lorena))"
   ]
  },
  {
   "cell_type": "code",
   "execution_count": null,
   "metadata": {},
   "outputs": [],
   "source": []
  }
 ],
 "metadata": {
  "language_info": {
   "name": "python",
   "codemirror_mode": {
    "name": "ipython",
    "version": 3
   },
   "version": "3.6.4-final"
  },
  "orig_nbformat": 2,
  "file_extension": ".py",
  "mimetype": "text/x-python",
  "name": "python",
  "npconvert_exporter": "python",
  "pygments_lexer": "ipython3",
  "version": 3,
  "kernelspec": {
   "name": "python36464bitc2077ed07ea84d23aa5b518d224882ab",
   "display_name": "Python 3.6.4 64-bit",
   "language": "python"
  }
 },
 "nbformat": 4,
 "nbformat_minor": 2
}