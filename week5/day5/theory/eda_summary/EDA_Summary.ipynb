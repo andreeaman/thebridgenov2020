{
 "nbformat": 4,
 "nbformat_minor": 2,
 "metadata": {
  "language_info": {
   "name": "python",
   "codemirror_mode": {
    "name": "ipython",
    "version": 3
   }
  },
  "orig_nbformat": 2,
  "file_extension": ".py",
  "mimetype": "text/x-python",
  "name": "python",
  "npconvert_exporter": "python",
  "pygments_lexer": "ipython3",
  "version": 3
 },
 "cells": [
  {
   "cell_type": "markdown",
   "metadata": {},
   "source": [
    "### Visualizing data summary:\n",
    "\n",
    "https://learning.oreilly.com/library/view/data-science-from/9781492041122/ch03.html\n",
    "\n",
    "Univariate\n",
    "\n",
    "Bivariate\n",
    "\n",
    "Multivariate Data"
   ]
  },
  {
   "cell_type": "markdown",
   "metadata": {},
   "source": [
    "### Data Manipulation:\n",
    "\n",
    "#### Data Assembly:\n",
    "\n",
    "Combining various data sets together for analysis.\n",
    "\n",
    "https://learning.oreilly.com/library/view/Pandas+for+Everyone:+Python+Data+Analysis,+First+Edition/9780134547046/ch04.xhtml#ch04\n",
    "\n",
    "#### Missing Data:\n",
    "\n",
    "Rarely will you be given a data set without any missing values. There are many representations of missing data. In databases, they are NULL values; certain programming languages use NA; and depending on where you get your data, missing values can be an empty string, '', or even numeric values such as 88 or 99. Pandas displays missing values as NaN.\n",
    "\n",
    "https://learning.oreilly.com/library/view/Pandas+for+Everyone:+Python+Data+Analysis,+First+Edition/9780134547046/ch05.xhtml#ch05\n",
    "\n",
    "Video:\n",
    "\n",
    "12 min\n",
    "\n",
    "- https://learning.oreilly.com/videos/exploratory-data-analysis/9781789959116/9781789959116-video2_1\n",
    "\n",
    "7 min\n",
    "\n",
    "- https://learning.oreilly.com/videos/exploratory-data-analysis/9781789959116/9781789959116-video2_2\n",
    "\n",
    "15 min\n",
    "- https://learning.oreilly.com/videos/exploratory-data-analysis/9781789959116/9781789959116-video2_3\n",
    "\n",
    "#### Tidy Data:\n",
    "\n",
    "Tidy data is a framework to structure data sets so they can be easily analyzed. It is mainly used as a goal one should aim for when cleaning data.\n",
    "\n",
    "https://learning.oreilly.com/library/view/Pandas+for+Everyone:+Python+Data+Analysis,+First+Edition/9780134547046/ch06.xhtml#ch06\n"
   ]
  },
  {
   "cell_type": "markdown",
   "metadata": {},
   "source": [
    "### Data Munging:\n",
    "\n",
    "#### Data Types\n",
    "\n",
    "Data types determine what can and cannot be done to a variable (i.e., column). For example, when numeric data types are added together, the result will be a sum of the values; in contrast, if strings (in Pandas they are called object) are added, the strings will be concatenated together.\n",
    "\n",
    "https://learning.oreilly.com/library/view/Pandas+for+Everyone:+Python+Data+Analysis,+First+Edition/9780134547046/ch07.xhtml#ch07\n",
    "\n",
    "#### Strings and Text Data\n",
    "\n",
    "Most data in the world can be stored as text and strings. Even values that may eventually be numeric data may initially come in the form of text. It’s important to be able to work with text data.\n",
    "\n",
    "https://learning.oreilly.com/library/view/pandas-for-everyone/9780134547046/ch08.xhtml\n",
    "\n",
    "#### Apply\n",
    "\n",
    "Learning about apply is fundamental in the data cleaning process. It also encapsulates key concepts in programming, mainly writing functions. apply takes a function and “applies” (i.e., runs it) across each row or column of a dataframe “simultaneously.”\n",
    "\n",
    "https://learning.oreilly.com/library/view/pandas-for-everyone/9780134547046/ch09.xhtml\n",
    "\n",
    "#### Groupby Operations: Split–Apply–Combine\n",
    "\n",
    "Learning about apply is fundamental in the data cleaning process. It also encapsulates key concepts in programming, mainly writing functions. apply takes a function and “applies” (i.e., runs it) across each row or column of a dataframe “simultaneously.” If you’ve programmed before, then the concept of an “apply” should be familiar. It is similar to writing a for loop across each row or column and calling the function—apply just does it simultaneously. In general, this is the preferred way to apply functions across dataframes, because it typically is much faster than writing a for loop in Python.\n",
    "\n",
    "https://learning.oreilly.com/library/view/pandas-for-everyone/9780134547046/ch10.xhtml\n",
    "\n",
    "#### The datetime Data Type\n",
    "\n",
    "One of the biggest reasons for using Pandas is its ability to work with time-series data. We observed some of this capability earlier, when we concatenated data in Chapter 4 and saw how the indices automatically aligned themselves. This chapter focuses on the more common tasks when working with data that involve dates and times.\n",
    "\n",
    "https://learning.oreilly.com/library/view/pandas-for-everyone/9780134547046/ch11.xhtml"
   ]
  },
  {
   "cell_type": "markdown",
   "metadata": {},
   "source": [
    "Student:\n",
    "- https://learning.oreilly.com/library/view/Pandas+for+Everyone:+Python+Data+Analysis,+First+Edition/9780134547046/ch03.xhtml#sec3_3_1\n",
    "- https://learning.oreilly.com/library/view/data-science-from/9781492041122/ch09.html"
   ]
  },
  {
   "cell_type": "code",
   "execution_count": null,
   "metadata": {},
   "outputs": [],
   "source": []
  }
 ]
}