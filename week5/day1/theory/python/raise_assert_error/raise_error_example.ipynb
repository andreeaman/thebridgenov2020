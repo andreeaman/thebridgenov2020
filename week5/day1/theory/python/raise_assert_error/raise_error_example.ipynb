{
 "cells": [
  {
   "cell_type": "code",
   "execution_count": null,
   "metadata": {
    "tags": []
   },
   "outputs": [],
   "source": [
    "\n",
    "print(\"Hola\")\n",
    "raise Exception(\"No sigas\")\n",
    "raise ValueError(\"No sigas\")\n",
    "print(\"Adiós\")\n",
    "\n"
   ]
  },
  {
   "cell_type": "code",
   "execution_count": null,
   "metadata": {
    "tags": []
   },
   "outputs": [],
   "source": [
    "def suma(a, b):\n",
    "    if isinstance(a, (int, float)) and isinstance(b, (int, float)):\n",
    "        print(a + b)\n",
    "    else:\n",
    "        raise ValueError(\"Solo se admiten números\")\n",
    "\n",
    "suma(\"7.7\", 8)"
   ]
  },
  {
   "cell_type": "code",
   "execution_count": null,
   "metadata": {},
   "outputs": [],
   "source": [
    "# Raise\n",
    "# Assert"
   ]
  },
  {
   "cell_type": "code",
   "execution_count": null,
   "metadata": {
    "tags": []
   },
   "outputs": [],
   "source": [
    "def suma(a, b):\n",
    "    assert isinstance(a, (int, float)), \"a solo puede ser num\"\n",
    "    assert isinstance(b, (int, float)), \"b solo puede ser num\"\n",
    "    assert a > 0 and b > 0, \"a y b deben ser mayor a 0\"\n",
    "    print(a + b)\n",
    "\n",
    "suma(-1, 8)\n",
    "\n"
   ]
  },
  {
   "cell_type": "code",
   "execution_count": null,
   "metadata": {
    "tags": []
   },
   "outputs": [],
   "source": [
    "x = 5\n",
    "try:\n",
    "    print(\"Hola\")\n",
    "    raise Exception(\"STOP1\")\n",
    "    assert x < 4, \"X debe ser menor a 4\"\n",
    "    print(\"KO\")\n",
    "    x = 2 + \"2\"\n",
    "except Exception as error:\n",
    "    try:\n",
    "        raise Exception(\"STOP2\")\n",
    "        print(error)\n",
    "        print(2 + 2)\n",
    "    except Exception as error:\n",
    "        #raise Exception(\"STOP3\")\n",
    "        print(\"No hay errores\")\n",
    "\n",
    "print(\"Fin\")"
   ]
  },
  {
   "cell_type": "code",
   "execution_count": null,
   "metadata": {},
   "outputs": [],
   "source": []
  }
 ],
 "metadata": {
  "language_info": {
   "codemirror_mode": {
    "name": "ipython",
    "version": 3
   },
   "file_extension": ".py",
   "mimetype": "text/x-python",
   "name": "python",
   "nbconvert_exporter": "python",
   "pygments_lexer": "ipython3",
   "version": "3.6.4-final"
  },
  "orig_nbformat": 2,
  "kernelspec": {
   "name": "python36464bitc2077ed07ea84d23aa5b518d224882ab",
   "display_name": "Python 3.6.4 64-bit"
  }
 },
 "nbformat": 4,
 "nbformat_minor": 2
}