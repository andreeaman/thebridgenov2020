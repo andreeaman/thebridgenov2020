{
 "cells": [
  {
   "cell_type": "markdown",
   "metadata": {},
   "source": [
    "# Ficheros"
   ]
  },
  {
   "cell_type": "markdown",
   "metadata": {},
   "source": [
    "------------------"
   ]
  },
  {
   "cell_type": "code",
   "execution_count": 11,
   "metadata": {},
   "outputs": [],
   "source": [
    "with open('nombre.txt', 'a', encoding=\"utf-8\") as f:\n",
    "    f.write('Otra línea\\n')\n",
    "\n",
    "with open('nombre.txt', 'a', encoding=\"utf-8\") as f2:\n",
    "    f2.write('Otra 2\\n')\n"
   ]
  },
  {
   "cell_type": "code",
   "execution_count": 15,
   "metadata": {},
   "outputs": [],
   "source": [
    "import time \n",
    "with open('nombre.txt', mode='a') as open_file:\n",
    "    for i in range(6):\n",
    "        open_file.write('A string to write ' + str(i) + '\\n')\n",
    "        time.sleep(1)"
   ]
  },
  {
   "cell_type": "code",
   "execution_count": null,
   "metadata": {},
   "outputs": [],
   "source": []
  },
  {
   "cell_type": "code",
   "execution_count": 16,
   "metadata": {},
   "outputs": [],
   "source": [
    "with open('nombre.txt', 'a') as open_file:\n",
    "    open_file.write(\"\\n------\\n Last Line.\\n \")"
   ]
  },
  {
   "cell_type": "code",
   "execution_count": 20,
   "metadata": {},
   "outputs": [
    {
     "output_type": "stream",
     "name": "stdout",
     "text": [
      "A string to write 24\nA string to write 25\nA string to write 26\nA string to write 27\nA string to write 28\nA string to write 29\n\n------\n Last Line.\n \n2\n<_io.TextIOWrapper name='nombre.txt' mode='r' encoding='cp1252'>\n"
     ]
    }
   ],
   "source": [
    "with open('nombre.txt', 'r') as open_file:\n",
    "    all_text = open_file.read()\n",
    "    x = 2\n",
    "print(all_text)\n",
    "print(x)\n",
    "print(open_file)"
   ]
  },
  {
   "cell_type": "code",
   "execution_count": 26,
   "metadata": {},
   "outputs": [
    {
     "output_type": "stream",
     "name": "stdout",
     "text": [
      "<class 'str'>\nA string to write 24\n\nSegundo line:\n A string to write 25\n\n"
     ]
    }
   ],
   "source": [
    "with open('nombre.txt', 'r') as open_file:\n",
    "    line = open_file.readline()\n",
    "    print(type(line))\n",
    "    print(line)\n",
    "    line = open_file.readline()\n",
    "    print(\"Segundo line:\\n\", line)"
   ]
  },
  {
   "cell_type": "code",
   "execution_count": 30,
   "metadata": {},
   "outputs": [],
   "source": [
    "line = \"\"\n",
    "if line:\n",
    "    print(\"Existe\")"
   ]
  },
  {
   "cell_type": "code",
   "execution_count": 31,
   "metadata": {},
   "outputs": [
    {
     "output_type": "stream",
     "name": "stdout",
     "text": [
      "A string to write 24\n\nA string to write 25\n\nA string to write 26\n\nA string to write 27\n\nA string to write 28\n\nA string to write 29\n\n\n\n------\n\n Last Line.\n\n \n- linea: \n"
     ]
    }
   ],
   "source": [
    "l = \"\\n\"\n",
    "with open('nombre.txt', 'r') as open_file:\n",
    "    line = open_file.readline()\n",
    "    count = 1\n",
    "    while line:\n",
    "        if count > 2 or count < 10:\n",
    "            count += 1\n",
    "            continue\n",
    "        print(line)\n",
    "        line = open_file.readline()\n",
    "        count += 1\n",
    "    line = open_file.readline()\n",
    "    print(\"- linea:\", line)"
   ]
  },
  {
   "cell_type": "code",
   "execution_count": 34,
   "metadata": {},
   "outputs": [],
   "source": [
    "with open(\"new_file.ghkhaf\", \"a\") as new_file:\n",
    "    for i in range(30):\n",
    "        new_file.write(\"úíó\")\n"
   ]
  },
  {
   "cell_type": "code",
   "execution_count": 36,
   "metadata": {},
   "outputs": [
    {
     "output_type": "stream",
     "name": "stdout",
     "text": [
      "Se ha escrito\nPrimera\n\nSegunda\n\nTercera\n\n"
     ]
    }
   ],
   "source": [
    "with open(\"new_file.gh\", \"a\") as new_file:\n",
    "    new_file.write(\"Primera\\n\")\n",
    "    new_file.write(\"Segunda\\n\")\n",
    "    new_file.write(\"Tercera\\n\")\n",
    "    print(\"Se ha escrito\")\n",
    "\n",
    "with open(\"new_file.gh\", \"r\") as new_file:\n",
    "    linea = new_file.readline()\n",
    "    print(linea)\n",
    "    print(new_file.readline())\n",
    "    print(new_file.readline())"
   ]
  },
  {
   "cell_type": "code",
   "execution_count": 39,
   "metadata": {},
   "outputs": [
    {
     "output_type": "execute_result",
     "data": {
      "text/plain": [
       "True"
      ]
     },
     "metadata": {},
     "execution_count": 39
    }
   ],
   "source": [
    "s = \"jkgaj  ghag1k    scgjskjg\"\n",
    "\n",
    "\"1\" in s"
   ]
  },
  {
   "cell_type": "code",
   "execution_count": 37,
   "metadata": {},
   "outputs": [
    {
     "output_type": "stream",
     "name": "stdout",
     "text": [
      "A string to write 24\n\nA string to write 25\n\n1\n\n"
     ]
    }
   ],
   "source": [
    "with open('nombre.txt', 'r') as open_file:\n",
    "    line = open_file.readline()\n",
    "    while line:\n",
    "        if \"1\" in line:\n",
    "            print(line)\n",
    "            break\n",
    "        print(line)\n",
    "        line = open_file.readline()"
   ]
  },
  {
   "cell_type": "code",
   "execution_count": 44,
   "metadata": {},
   "outputs": [
    {
     "output_type": "stream",
     "name": "stdout",
     "text": [
      "['Ester Santos ', ' 20000 ', ' 20']\n"
     ]
    }
   ],
   "source": [
    "s = \"Ester Santos | 20000 | 20\"\n",
    "print(s.split(\"|\"))"
   ]
  },
  {
   "cell_type": "code",
   "execution_count": 50,
   "metadata": {},
   "outputs": [
    {
     "output_type": "stream",
     "name": "stdout",
     "text": [
      "Nombre:  A\nDinero:  string\nEdad:  to\n----------\nNombre:  A\nDinero:  string\nEdad:  to\n----------\nNombre:  A\nDinero:  string\nEdad:  to\n----------\nNombre:  A\nDinero:  string\nEdad:  to\n----------\nNombre:  Ester\nDinero:  |\nEdad:  20000\n----------\nNombre:  Gabriel\nDinero:  |\nEdad:  20\n----------\nNombre:  \nDinero:  Last\nEdad:  Line.\n\n----------\n"
     ]
    },
    {
     "output_type": "error",
     "ename": "IndexError",
     "evalue": "list index out of range",
     "traceback": [
      "\u001b[1;31m---------------------------------------------------------------------------\u001b[0m",
      "\u001b[1;31mIndexError\u001b[0m                                Traceback (most recent call last)",
      "\u001b[1;32m<ipython-input-50-8aeca63af239>\u001b[0m in \u001b[0;36m<module>\u001b[1;34m\u001b[0m\n\u001b[0;32m      6\u001b[0m             \u001b[0mnombre\u001b[0m \u001b[1;33m=\u001b[0m \u001b[0mlista_strings\u001b[0m\u001b[1;33m[\u001b[0m\u001b[1;36m0\u001b[0m\u001b[1;33m]\u001b[0m\u001b[1;33m\u001b[0m\u001b[0m\n\u001b[0;32m      7\u001b[0m             \u001b[0mdinero\u001b[0m \u001b[1;33m=\u001b[0m \u001b[0mlista_strings\u001b[0m\u001b[1;33m[\u001b[0m\u001b[1;36m1\u001b[0m\u001b[1;33m]\u001b[0m\u001b[1;33m\u001b[0m\u001b[0m\n\u001b[1;32m----> 8\u001b[1;33m             \u001b[0medad\u001b[0m \u001b[1;33m=\u001b[0m \u001b[0mlista_strings\u001b[0m\u001b[1;33m[\u001b[0m\u001b[1;36m2\u001b[0m\u001b[1;33m]\u001b[0m\u001b[1;33m\u001b[0m\u001b[0m\n\u001b[0m\u001b[0;32m      9\u001b[0m             \u001b[0mprint\u001b[0m\u001b[1;33m(\u001b[0m\u001b[1;34m\"Nombre: \"\u001b[0m\u001b[1;33m,\u001b[0m \u001b[0mnombre\u001b[0m\u001b[1;33m)\u001b[0m\u001b[1;33m\u001b[0m\u001b[0m\n\u001b[0;32m     10\u001b[0m             \u001b[0mprint\u001b[0m\u001b[1;33m(\u001b[0m\u001b[1;34m\"Dinero: \"\u001b[0m\u001b[1;33m,\u001b[0m \u001b[0mdinero\u001b[0m\u001b[1;33m)\u001b[0m\u001b[1;33m\u001b[0m\u001b[0m\n",
      "\u001b[1;31mIndexError\u001b[0m: list index out of range"
     ]
    }
   ],
   "source": [
    "with open('file_to_save.txt', 'r') as open_file:\n",
    "    line = open_file.readline()\n",
    "    while line:\n",
    "        if \"\" in line:\n",
    "            lista_strings = line.split(\" \")\n",
    "            nombre = lista_strings[0]\n",
    "            dinero = lista_strings[1]\n",
    "            edad = lista_strings[2]\n",
    "            print(\"Nombre: \", nombre)\n",
    "            print(\"Dinero: \", dinero)\n",
    "            print(\"Edad: \", edad)\n",
    "            print(\"----------\")\n",
    "        line = open_file.readline()"
   ]
  },
  {
   "cell_type": "code",
   "execution_count": 21,
   "metadata": {},
   "outputs": [
    {
     "output_type": "stream",
     "name": "stdout",
     "text": "YES\n"
    }
   ],
   "source": [
    "l = [\"a\", \"b\", \"c\"]\n",
    "\n",
    "if \"a\" in l:\n",
    "    print(\"YES\")"
   ]
  },
  {
   "cell_type": "code",
   "execution_count": 23,
   "metadata": {},
   "outputs": [
    {
     "output_type": "stream",
     "name": "stdout",
     "text": "A\n \ns\nt\nr\ni\nn\ng\n \nt\no\n \nw\nr\ni\nt\ne\n \n"
    }
   ],
   "source": [
    "s = \"A string to write 1\"\n",
    "\n",
    "for elem in s:\n",
    "    if elem == \"1\":\n",
    "        break\n",
    "    print(elem)"
   ]
  },
  {
   "cell_type": "code",
   "execution_count": 57,
   "metadata": {},
   "outputs": [
    {
     "output_type": "stream",
     "name": "stdout",
     "text": [
      "['hello', 'my name is Peter', 'I am 26 years old']\n"
     ]
    }
   ],
   "source": [
    "txt = \"hello, my name is Peter, I am 26 years old\"\n",
    "\n",
    "x = txt.split(\", \")\n",
    "\n",
    "print(x)"
   ]
  },
  {
   "cell_type": "code",
   "execution_count": null,
   "metadata": {},
   "outputs": [],
   "source": []
  },
  {
   "cell_type": "code",
   "execution_count": null,
   "metadata": {},
   "outputs": [],
   "source": [
    "Philadelphia\n",
    "Pihladel\n",
    "p"
   ]
  }
 ],
 "metadata": {
  "language_info": {
   "name": "python",
   "codemirror_mode": {
    "name": "ipython",
    "version": 3
   },
   "version": "3.6.4-final"
  },
  "orig_nbformat": 2,
  "file_extension": ".py",
  "mimetype": "text/x-python",
  "name": "python",
  "npconvert_exporter": "python",
  "pygments_lexer": "ipython3",
  "version": 3,
  "kernelspec": {
   "name": "python36464bitc2077ed07ea84d23aa5b518d224882ab",
   "display_name": "Python 3.6.4 64-bit"
  }
 },
 "nbformat": 4,
 "nbformat_minor": 2
}