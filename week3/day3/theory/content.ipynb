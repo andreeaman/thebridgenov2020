{
 "cells": [
  {
   "cell_type": "markdown",
   "metadata": {},
   "source": [
    "## Repaso\n",
    "\n",
    "1. Variables y tipos:\n",
    "    - Creación de variables\n",
    "    - String\n",
    "    - Enteros\n",
    "    - Booleanos\n",
    "    - None (Ningún tipo)\n",
    "    - Diccionarios\n",
    "    - type()\n",
    "    - isinstance()\n",
    "2. Operadores lógicos:\n",
    "    - Suma\n",
    "    - Resta\n",
    "    - División\n",
    "    - División absoluta\n",
    "    - Exponente\n",
    "    - Multiplicación\n",
    "    - And, or, not\n",
    "3. Listas, \"\", Tuplas y Set (Conjuntos):\n",
    "    - Acceso a dato por posiciones\n",
    "    - Tamaño de lista \n",
    "    - Listas dentro de listas\n",
    "    - Añadir datos a la listas\n",
    "    - Eliminar datos de listas\n",
    "    - Coger x elementos de listas [[:x]]\n",
    "4. Bucles:\n",
    "    - For\n",
    "    - range\n",
    "    - enumerate\n",
    "    - while\n",
    "    - break\n",
    "    - Acumuladores\n",
    "5. Funciones:\n",
    "    - Función con parámetros\n",
    "    - Funciones dentro de Funciones\n",
    "    - Funciones recursivas\n",
    "    - Return\n",
    "    - Valores por defecto\n",
    "    - *args, **kwargs\n",
    "    - Lambda\n",
    "6. Input \n",
    "7. Importar módulos (librería, paquete)\n",
    "8. Dict/List comprehension, zip()\n",
    "10. Map/Filter & Reduce (functools)\n",
    "11. Ficheros\n",
    "12. Try / Except\n",
    "13. Classes"
   ]
  },
  {
   "cell_type": "code",
   "execution_count": null,
   "metadata": {},
   "outputs": [],
   "source": []
  }
 ],
 "metadata": {
  "language_info": {
   "codemirror_mode": {
    "name": "ipython",
    "version": 3
   },
   "file_extension": ".py",
   "mimetype": "text/x-python",
   "name": "python",
   "nbconvert_exporter": "python",
   "pygments_lexer": "ipython3",
   "version": 3
  },
  "orig_nbformat": 2
 },
 "nbformat": 4,
 "nbformat_minor": 2
}