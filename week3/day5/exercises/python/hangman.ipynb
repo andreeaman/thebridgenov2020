{
 "metadata": {
  "language_info": {
   "codemirror_mode": {
    "name": "ipython",
    "version": 3
   },
   "file_extension": ".py",
   "mimetype": "text/x-python",
   "name": "python",
   "nbconvert_exporter": "python",
   "pygments_lexer": "ipython3",
   "version": "3.6.4-final"
  },
  "orig_nbformat": 2,
  "kernelspec": {
   "name": "python36464bitc2077ed07ea84d23aa5b518d224882ab",
   "display_name": "Python 3.6.4 64-bit"
  }
 },
 "nbformat": 4,
 "nbformat_minor": 2,
 "cells": [
  {
   "cell_type": "code",
   "execution_count": 32,
   "metadata": {},
   "outputs": [],
   "source": [
    "# El ahorcado\n",
    "\n",
    "# Palabra a adivinar\n",
    "#palabra_a_adivinar = input(\"Escriba la palabra a adivinar:\").upper()\n",
    "palabra_a_adivinar = \"solsticio\".upper()\n",
    "num_errores = 0"
   ]
  },
  {
   "cell_type": "code",
   "execution_count": 15,
   "metadata": {},
   "outputs": [
    {
     "output_type": "stream",
     "name": "stdout",
     "text": [
      "_ _ _ _ _ _ _ \n"
     ]
    }
   ],
   "source": [
    "tamano_palabra = len(palabra_a_adivinar)\n",
    "tablero = \"_ \" * tamano_palabra\n",
    "print(tablero)"
   ]
  },
  {
   "cell_type": "code",
   "execution_count": 16,
   "metadata": {},
   "outputs": [
    {
     "output_type": "execute_result",
     "data": {
      "text/plain": [
       "['_', '_', '_', '_', '_', '_', '_']"
      ]
     },
     "metadata": {},
     "execution_count": 16
    }
   ],
   "source": [
    "tablero = list(\"_\" * tamano_palabra)\n",
    "tablero"
   ]
  },
  {
   "cell_type": "code",
   "execution_count": 17,
   "metadata": {},
   "outputs": [
    {
     "output_type": "stream",
     "name": "stdout",
     "text": [
      "_ _ _ _ _ _ _ \n"
     ]
    }
   ],
   "source": [
    "def tablero_a_mostrar(tablero):\n",
    "    tablero_show = \"\"\n",
    "    for l in tablero:\n",
    "        tablero_show += l + \" \"\n",
    "    return tablero_show\n",
    "\n",
    "print(tablero_a_mostrar(tablero=tablero))"
   ]
  },
  {
   "cell_type": "code",
   "execution_count": 39,
   "metadata": {},
   "outputs": [
    {
     "output_type": "stream",
     "name": "stdout",
     "text": [
      "_ _ _ _ _ _ _ _ _ _ \n",
      "_ _ _ _ _ E _ _ _ _ \n",
      "_ _ _ _ _ E _ A _ _ \n",
      "Llevas: 1\n",
      "Letra no está en la palabra\n",
      "_ _ _ _ _ E _ A _ _ \n",
      "_ _ _ _ _ E _ A _ O \n",
      "M _ _ _ _ E _ A _ O \n",
      "M U _ _ _ E _ A _ O \n",
      "M U R _ _ E _ A _ O \n",
      "M U R C _ E _ A _ O \n",
      "Llevas: 2\n",
      "Letra no está en la palabra\n",
      "M U R C _ E _ A _ O \n",
      "M U R C I E _ A _ O \n",
      "M U R C I E L A _ O \n",
      "Llevas: 3\n",
      "Letra no está en la palabra\n",
      "M U R C I E L A _ O \n",
      "M U R C I E L A G O \n",
      "Has ganado!\n"
     ]
    }
   ],
   "source": [
    "lista_aciertos = []\n",
    "\n",
    "palabra_a_adivinar = \"murcielago\".upper()\n",
    "tamano_palabra = len(palabra_a_adivinar)\n",
    "num_errores = 0\n",
    "\n",
    "tablero = list(\"_\" * tamano_palabra)\n",
    "\n",
    "print(tablero_a_mostrar(tablero=tablero))\n",
    "\n",
    "while \"_\" in tablero:\n",
    "    letra_insertada = input(\"Letra insertada:\").upper()\n",
    "    if letra_insertada == \"STOP\":\n",
    "        break\n",
    "    if letra_insertada in palabra_a_adivinar:  # La letra está dentro de la palabra\n",
    "        if letra_insertada in lista_aciertos:  # Ha insertado una letra previamente acertada\n",
    "            print(\"Ya habías acertado esta letra\")\n",
    "        else:  # Acertada pero no previamente\n",
    "            lista_aciertos.append(letra_insertada)\n",
    "            # Sustituir en el tablero\n",
    "            for pos, letra in enumerate(palabra_a_adivinar):\n",
    "                if letra == letra_insertada:\n",
    "                    tablero[pos] = letra_insertada\n",
    "    else:  # La letra no está dentro de la palabra\n",
    "        num_errores += 1\n",
    "        print(\"Llevas:\", num_errores)\n",
    "        print(\"Letra no está en la palabra\") \n",
    "        if num_errores > 6:\n",
    "            print(\"Lo siento, has perdido\")\n",
    "            break\n",
    "    \n",
    "    print(tablero_a_mostrar(tablero=tablero))\n",
    "\n",
    "    if \"_\" not in tablero:  # Que ya se han acertado todas\n",
    "        print(\"Has ganado!\")"
   ]
  },
  {
   "cell_type": "code",
   "execution_count": null,
   "metadata": {},
   "outputs": [],
   "source": []
  }
 ]
}