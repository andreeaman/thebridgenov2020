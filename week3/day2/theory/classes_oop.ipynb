{
 "metadata": {
  "language_info": {
   "codemirror_mode": {
    "name": "ipython",
    "version": 3
   },
   "file_extension": ".py",
   "mimetype": "text/x-python",
   "name": "python",
   "nbconvert_exporter": "python",
   "pygments_lexer": "ipython3",
   "version": "3.6.4-final"
  },
  "orig_nbformat": 2,
  "kernelspec": {
   "name": "python36464bitc2077ed07ea84d23aa5b518d224882ab",
   "display_name": "Python 3.6.4 64-bit"
  }
 },
 "nbformat": 4,
 "nbformat_minor": 2,
 "cells": [
  {
   "source": [
    "# Classes -- OOP\n",
    "\n",
    "La programación Orientada a objetos se define como un paradigma de la programación, una manera de programar específica, donde se organiza el código en unidades denominadas clases, de las cuales se crean objetos que se relacionan entre sí para conseguir los objetivos de las aplicaciones.\n",
    "\n",
    "La programación Orientada a objetos (POO) es una forma especial de programar, más cercana a como expresaríamos las cosas en la vida real que otros tipos de programación."
   ],
   "cell_type": "markdown",
   "metadata": {}
  },
  {
   "cell_type": "code",
   "execution_count": null,
   "metadata": {},
   "outputs": [],
   "source": [
    "x = [2, 4]\n",
    "\n",
    "x.append(2) # Append es una función de la clase \"Lista\" en Python"
   ]
  },
  {
   "cell_type": "code",
   "execution_count": null,
   "metadata": {},
   "outputs": [],
   "source": [
    "piernas = 2\n",
    "ojos = 2\n",
    "brazos = 2\n",
    "edad = 99"
   ]
  },
  {
   "cell_type": "code",
   "execution_count": 2,
   "metadata": {},
   "outputs": [
    {
     "output_type": "stream",
     "name": "stdout",
     "text": [
      "2\nJuan\n"
     ]
    }
   ],
   "source": [
    "\"\"\" \n",
    "Creación de la clase ser humano\n",
    "\"\"\"\n",
    "\n",
    "class Humano:\n",
    "\n",
    "    ojos = 2\n",
    "    piernas = 2\n",
    "    nombre = None\n",
    "    edad = None\n",
    "\n",
    "juan = Humano()\n",
    "print(juan.ojos)\n",
    "juan.nombre = \"Juan\"\n",
    "print(juan.nombre)"
   ]
  },
  {
   "cell_type": "code",
   "execution_count": 90,
   "metadata": {},
   "outputs": [
    {
     "output_type": "stream",
     "name": "stdout",
     "text": [
      "2\n3\n"
     ]
    }
   ],
   "source": [
    "class Humano:\n",
    "\n",
    "    def __init__(self, o, n, b, p, e=30):\n",
    "        self.ojos = o\n",
    "        self.nombre = n\n",
    "        self.brazos = b\n",
    "        self.piernas = p\n",
    "        self.edad = e\n",
    "\n",
    "juan = Humano(o=2, n=\"Juan\", b=2, p=2, e=12)\n",
    "print(juan.ojos)\n",
    "pepe = Humano(o=1, n=\"Pepe\", b=2, p=3, e=2)\n",
    "print(pepe.piernas)"
   ]
  },
  {
   "cell_type": "code",
   "execution_count": 92,
   "metadata": {},
   "outputs": [
    {
     "output_type": "stream",
     "name": "stdout",
     "text": [
      "2\n"
     ]
    }
   ],
   "source": [
    "juan.otro_atributo = 2\n",
    "print(juan.otro_atributo)"
   ]
  },
  {
   "cell_type": "code",
   "execution_count": 93,
   "metadata": {},
   "outputs": [
    {
     "output_type": "error",
     "ename": "AttributeError",
     "evalue": "'Humano' object has no attribute 'otro_atributo'",
     "traceback": [
      "\u001b[1;31m---------------------------------------------------------------------------\u001b[0m",
      "\u001b[1;31mAttributeError\u001b[0m                            Traceback (most recent call last)",
      "\u001b[1;32m<ipython-input-93-0faa55f00741>\u001b[0m in \u001b[0;36m<module>\u001b[1;34m\u001b[0m\n\u001b[1;32m----> 1\u001b[1;33m \u001b[0mprint\u001b[0m\u001b[1;33m(\u001b[0m\u001b[0mpepe\u001b[0m\u001b[1;33m.\u001b[0m\u001b[0motro_atributo\u001b[0m\u001b[1;33m)\u001b[0m\u001b[1;33m\u001b[0m\u001b[0m\n\u001b[0m",
      "\u001b[1;31mAttributeError\u001b[0m: 'Humano' object has no attribute 'otro_atributo'"
     ]
    }
   ],
   "source": [
    "print(pepe.otro_atributo)"
   ]
  },
  {
   "cell_type": "code",
   "execution_count": 15,
   "metadata": {},
   "outputs": [
    {
     "output_type": "execute_result",
     "data": {
      "text/plain": [
       "False"
      ]
     },
     "metadata": {},
     "execution_count": 15
    }
   ],
   "source": [
    "juan is pepe"
   ]
  },
  {
   "cell_type": "code",
   "execution_count": 16,
   "metadata": {},
   "outputs": [
    {
     "output_type": "execute_result",
     "data": {
      "text/plain": [
       "False"
      ]
     },
     "metadata": {},
     "execution_count": 16
    }
   ],
   "source": [
    "juan == pepe"
   ]
  },
  {
   "cell_type": "code",
   "execution_count": 17,
   "metadata": {},
   "outputs": [
    {
     "output_type": "execute_result",
     "data": {
      "text/plain": [
       "False"
      ]
     },
     "metadata": {},
     "execution_count": 17
    }
   ],
   "source": [
    "juan2 = Humano(o=2, n=\"Juan\", b=2, p=2, e=12)\n",
    "\n",
    "juan == juan2"
   ]
  },
  {
   "cell_type": "code",
   "execution_count": 18,
   "metadata": {},
   "outputs": [
    {
     "output_type": "execute_result",
     "data": {
      "text/plain": [
       "False"
      ]
     },
     "metadata": {},
     "execution_count": 18
    }
   ],
   "source": [
    "juan2 is juan"
   ]
  },
  {
   "cell_type": "code",
   "execution_count": 98,
   "metadata": {},
   "outputs": [],
   "source": [
    "class Perro:\n",
    "\n",
    "    def __init__(self, patas, cola, raza, peso, edad, nombre):\n",
    "        # este es el constructor\n",
    "        self.patas = patas\n",
    "        self.cola = cola \n",
    "        self.raza = raza\n",
    "        self.peso = peso\n",
    "        self.edad = edad\n",
    "        self.nombre = nombre\n",
    "\n",
    "    def cumple_edad(self):\n",
    "        self.edad = self.edad + 1\n",
    "        self.otro_atributo = 2\n",
    "        print(\"Feliz cumple!\")\n"
   ]
  },
  {
   "cell_type": "code",
   "execution_count": 99,
   "metadata": {},
   "outputs": [
    {
     "output_type": "stream",
     "name": "stdout",
     "text": [
      "10\nFeliz cumple: 11\n"
     ]
    }
   ],
   "source": [
    "rudolf = Perro(patas=4, cola=True, raza=\"Pastor Alemán\", peso=25, edad=10, nombre=\"Rudolf\")\n",
    "\n",
    "print(rudolf.edad)\n",
    "rudolf.edad = rudolf.edad + 1\n",
    "print(\"Feliz cumple:\", rudolf.edad)\n",
    "\n",
    "baxter = Perro(patas=4, cola=True, raza=\"Labrador\", peso=12, edad=3, nombre=\"Baxter\")\n"
   ]
  },
  {
   "cell_type": "code",
   "execution_count": 100,
   "metadata": {},
   "outputs": [
    {
     "output_type": "stream",
     "name": "stdout",
     "text": [
      "3\nFeliz cumple!\n4\n"
     ]
    }
   ],
   "source": [
    "print(baxter.edad)\n",
    "baxter.cumple_edad()\n",
    "print(baxter.edad)"
   ]
  },
  {
   "cell_type": "code",
   "execution_count": 104,
   "metadata": {},
   "outputs": [
    {
     "output_type": "stream",
     "name": "stdout",
     "text": [
      "Baxter: 20\n"
     ]
    },
    {
     "output_type": "error",
     "ename": "AttributeError",
     "evalue": "'Perro' object has no attribute 'otro_atributo'",
     "traceback": [
      "\u001b[1;31m---------------------------------------------------------------------------\u001b[0m",
      "\u001b[1;31mAttributeError\u001b[0m                            Traceback (most recent call last)",
      "\u001b[1;32m<ipython-input-104-f37164e895fe>\u001b[0m in \u001b[0;36m<module>\u001b[1;34m\u001b[0m\n\u001b[0;32m      1\u001b[0m \u001b[0mprint\u001b[0m\u001b[1;33m(\u001b[0m\u001b[1;34m\"Baxter:\"\u001b[0m\u001b[1;33m,\u001b[0m \u001b[0mbaxter\u001b[0m\u001b[1;33m.\u001b[0m\u001b[0motro_atributo\u001b[0m\u001b[1;33m)\u001b[0m\u001b[1;33m\u001b[0m\u001b[0m\n\u001b[1;32m----> 2\u001b[1;33m \u001b[0mprint\u001b[0m\u001b[1;33m(\u001b[0m\u001b[0mrudolf\u001b[0m\u001b[1;33m.\u001b[0m\u001b[0motro_atributo\u001b[0m\u001b[1;33m)\u001b[0m\u001b[1;33m\u001b[0m\u001b[0m\n\u001b[0m",
      "\u001b[1;31mAttributeError\u001b[0m: 'Perro' object has no attribute 'otro_atributo'"
     ]
    }
   ],
   "source": [
    "print(\"Baxter:\", baxter.otro_atributo)\n",
    "print(rudolf.otro_atributo)"
   ]
  },
  {
   "cell_type": "code",
   "execution_count": 105,
   "metadata": {},
   "outputs": [
    {
     "output_type": "stream",
     "name": "stdout",
     "text": [
      "20\n"
     ]
    }
   ],
   "source": [
    " baxter.otro_atributo = 20\n",
    " print(baxter.otro_atributo)"
   ]
  },
  {
   "cell_type": "code",
   "execution_count": 28,
   "metadata": {},
   "outputs": [
    {
     "output_type": "execute_result",
     "data": {
      "text/plain": [
       "<__main__.Humano at 0x22c38dfae80>"
      ]
     },
     "metadata": {},
     "execution_count": 28
    }
   ],
   "source": [
    "mc = Humano(o=2, n=\"MC\", b=2, p=2, e=51)\n",
    "mc"
   ]
  },
  {
   "cell_type": "code",
   "execution_count": 26,
   "metadata": {},
   "outputs": [
    {
     "output_type": "stream",
     "name": "stdout",
     "text": [
      "<function f1 at 0x0000022C36FCED08>\n"
     ]
    }
   ],
   "source": [
    "def f1():\n",
    "    return 2\n",
    "\n",
    "print(f1)"
   ]
  },
  {
   "cell_type": "code",
   "execution_count": 58,
   "metadata": {},
   "outputs": [],
   "source": [
    "class Pelota:\n",
    "\n",
    "    def __init__(self, velocidad=0, posicion=0, diametro=None):\n",
    "        self.velocidad = velocidad\n",
    "        self.posicion = posicion\n",
    "        self.diametro = diametro\n",
    "\n",
    "    def golpear(self, fuerza):\n",
    "        assert type(self.diametro) == int, \"Diametro no puede ser diferente a int\" \n",
    "        velocidad_antigua = self.velocidad\n",
    "        posicion_antigua = self.posicion\n",
    "        self.velocidad = self.velocidad + fuerza\n",
    "\n",
    "        if self.posicion == 0 or self.velocidad == 0:\n",
    "            self.posicion = self.posicion + self.velocidad*1.5\n",
    "        else:\n",
    "            self.posicion = self.posicion * self.velocidad\n",
    "\n",
    "        print(\"Velocidad:\", velocidad_antigua, \"-->\", self.velocidad)\n",
    "        print(\"Posición:\", posicion_antigua, \"-->\", self.posicion)\n",
    "    \n",
    "    def parar(self):\n",
    "        print(\"Velocidad:\", self.velocidad, \"-->\", 0)\n",
    "        print(\"Pelota parada\")\n",
    "        self.velocidad = 0\n",
    "        \n",
    "    def rajar(self):\n",
    "        diametro_anterior = self.diametro\n",
    "        self.diametro = self.diametro - 5\n",
    "        print(\"Diámetro:\", diametro_anterior, \"-->\", self.diametro)"
   ]
  },
  {
   "cell_type": "code",
   "execution_count": 61,
   "metadata": {},
   "outputs": [
    {
     "output_type": "stream",
     "name": "stdout",
     "text": [
      "Velocidad: 20 --> 28\nPosición: 0 --> 42.0\nVelocidad: 28 --> 108\nPosición: 42.0 --> 4536.0\nVelocidad: 108 --> 0\nPelota parada\nDiámetro: 10 --> 5\n5\n"
     ]
    }
   ],
   "source": [
    "pelota_tenis = Pelota(velocidad=20, diametro=10)\n",
    "pelota_tenis.golpear(fuerza=8)\n",
    "pelota_tenis.golpear(fuerza=80)\n",
    "pelota_tenis.parar()\n",
    "pelota_tenis.rajar()\n",
    "print(pelota_tenis.diametro)"
   ]
  },
  {
   "cell_type": "code",
   "execution_count": 77,
   "metadata": {},
   "outputs": [
    {
     "output_type": "stream",
     "name": "stdout",
     "text": [
      "Velocidad: 100 --> 109\nPosición: 0 --> 163.5\nVelocidad: 109 --> 997\nPosición: 163.5 --> 163009.5\nVelocidad: 997 --> 0\nPelota parada\nDiámetro: 25 --> 20\n20\n"
     ]
    }
   ],
   "source": [
    "pelota_baloncesto = Pelota(velocidad=100, diametro=25)\n",
    "pelota_baloncesto.golpear(fuerza=9)\n",
    "pelota_baloncesto.golpear(fuerza=888)\n",
    "pelota_baloncesto.parar()\n",
    "pelota_baloncesto.rajar()\n",
    "print(pelota_baloncesto.diametro)"
   ]
  },
  {
   "cell_type": "code",
   "execution_count": 74,
   "metadata": {},
   "outputs": [
    {
     "output_type": "stream",
     "name": "stdout",
     "text": [
      "[2, 3, 5, 7, 29]\n"
     ]
    }
   ],
   "source": [
    "class Lista:\n",
    "\n",
    "    def __init__(self, elementos):\n",
    "        self.elementos = elementos\n",
    "\n",
    "    def append(self, value):\n",
    "        self.elementos.append(value)\n",
    "        return self\n",
    "\n",
    "l = [2, 3, 5, 7]\n",
    "d = l.append(29)\n",
    "print(l)"
   ]
  },
  {
   "cell_type": "code",
   "execution_count": 76,
   "metadata": {},
   "outputs": [
    {
     "output_type": "stream",
     "name": "stdout",
     "text": [
      "[2, 3, 5, 7, 29]\n"
     ]
    }
   ],
   "source": [
    "l = Lista(elementos=[2, 3, 5, 7])\n",
    "l = l.append(29)\n",
    "print(l.elementos)"
   ]
  },
  {
   "cell_type": "code",
   "execution_count": null,
   "metadata": {},
   "outputs": [],
   "source": [
    "class Deporte:\n",
    "\n",
    "    def __init__(self)\n",
    "        pass"
   ]
  },
  {
   "cell_type": "code",
   "execution_count": null,
   "metadata": {},
   "outputs": [],
   "source": [
    "l = []\n"
   ]
  },
  {
   "cell_type": "code",
   "execution_count": 29,
   "metadata": {},
   "outputs": [
    {
     "output_type": "execute_result",
     "data": {
      "text/plain": [
       "__main__.Perro"
      ]
     },
     "metadata": {},
     "execution_count": 29
    }
   ],
   "source": [
    "type(baxter)"
   ]
  },
  {
   "cell_type": "code",
   "execution_count": 30,
   "metadata": {},
   "outputs": [
    {
     "output_type": "execute_result",
     "data": {
      "text/plain": [
       "__main__.Humano"
      ]
     },
     "metadata": {},
     "execution_count": 30
    }
   ],
   "source": [
    "type(juan)"
   ]
  },
  {
   "cell_type": "code",
   "execution_count": 34,
   "metadata": {},
   "outputs": [
    {
     "output_type": "execute_result",
     "data": {
      "text/plain": [
       "__main__.Perro"
      ]
     },
     "metadata": {},
     "execution_count": 34
    }
   ],
   "source": [
    "x = Perro(patas=4, cola=True, raza=\"Pastor Alemán\", peso=25, edad=10, nombre=\"Rudolf\")\n",
    "type(x)"
   ]
  },
  {
   "cell_type": "code",
   "execution_count": 82,
   "metadata": {},
   "outputs": [],
   "source": [
    "class Humano():\n",
    "\n",
    "    def __init__(self, vida, fuerza, armadura, n_dientes,esta_vivo=True):\n",
    "        self.vida = vida\n",
    "        self.armadura = armadura\n",
    "        self.fuerza = fuerza\n",
    "        self.esta_vivo = esta_vivo\n",
    "        self.n_dientes = n_dientes\n",
    "\n",
    "    def atacar(self, troll):\n",
    "        vida_antigua = troll.vida\n",
    "        troll.vida = troll.vida - (self.fuerza - troll.armadura)\n",
    "        print(\"Vida Troll:\", vida_antigua, \"-->\", troll.vida)\n",
    "        if troll.vida <= 0:\n",
    "            troll.esta_vivo = False\n",
    "\n",
    "class Troll:\n",
    "\n",
    "    def __init__(self, vida, fuerza, armadura, n_dientes, esta_vivo=True):\n",
    "        self.vida = vida\n",
    "        self.armadura = armadura\n",
    "        self.fuerza = fuerza\n",
    "        self.esta_vivo = esta_vivo\n",
    "        self.n_dientes = n_dientes\n",
    "\n",
    "    def atacar(self, humano):\n",
    "        vida_antigua = humano.vida\n",
    "        humano.vida = humano.vida - (self.fuerza - humano.armadura)\n",
    "        print(\"Vida Humano:\", vida_antigua, \"-->\", humano.vida)\n",
    "        if humano.vida <= 0:\n",
    "            humano.esta_vivo = False"
   ]
  },
  {
   "cell_type": "code",
   "execution_count": 88,
   "metadata": {},
   "outputs": [],
   "source": [
    "leo = Humano(vida=100, fuerza=5, armadura=6, n_dientes=27)\n",
    "troll = Troll(vida=100, fuerza=8, armadura=1, n_dientes=42)"
   ]
  },
  {
   "cell_type": "code",
   "execution_count": 89,
   "metadata": {},
   "outputs": [
    {
     "output_type": "stream",
     "name": "stdout",
     "text": [
      "Vida Troll: 100 --> 96\nVida Humano: 100 --> 98\n-----------------\nVida Troll: 96 --> 92\nVida Humano: 98 --> 96\n-----------------\nVida Troll: 92 --> 88\nVida Humano: 96 --> 94\n-----------------\nVida Troll: 88 --> 84\nVida Humano: 94 --> 92\n-----------------\nVida Troll: 84 --> 80\nVida Humano: 92 --> 90\n-----------------\nVida Troll: 80 --> 76\nVida Humano: 90 --> 88\n-----------------\nVida Troll: 76 --> 72\nVida Humano: 88 --> 86\n-----------------\nVida Troll: 72 --> 68\nVida Humano: 86 --> 84\n-----------------\nVida Troll: 68 --> 64\nVida Humano: 84 --> 82\n-----------------\nVida Troll: 64 --> 60\nVida Humano: 82 --> 80\n-----------------\nVida Troll: 60 --> 56\nVida Humano: 80 --> 78\n-----------------\nVida Troll: 56 --> 52\nVida Humano: 78 --> 76\n-----------------\nVida Troll: 52 --> 48\nVida Humano: 76 --> 74\n-----------------\nVida Troll: 48 --> 44\nVida Humano: 74 --> 72\n-----------------\nVida Troll: 44 --> 40\nVida Humano: 72 --> 70\n-----------------\nVida Troll: 40 --> 36\nVida Humano: 70 --> 68\n-----------------\nVida Troll: 36 --> 32\nVida Humano: 68 --> 66\n-----------------\nVida Troll: 32 --> 28\nVida Humano: 66 --> 64\n-----------------\nVida Troll: 28 --> 24\nVida Humano: 64 --> 62\n-----------------\nVida Troll: 24 --> 20\nVida Humano: 62 --> 60\n-----------------\nVida Troll: 20 --> 16\nVida Humano: 60 --> 58\n-----------------\nVida Troll: 16 --> 12\nVida Humano: 58 --> 56\n-----------------\nVida Troll: 12 --> 8\nVida Humano: 56 --> 54\n-----------------\nVida Troll: 8 --> 4\nVida Humano: 54 --> 52\n-----------------\nVida Troll: 4 --> 0\nVida Humano: 52 --> 50\nHumano ganó\n"
     ]
    }
   ],
   "source": [
    "import time \n",
    "def empezar_pelea(humano, troll):\n",
    "    while True:\n",
    "        humano.atacar(troll=troll)\n",
    "        #time.sleep(2)\n",
    "        troll.atacar(humano=humano)\n",
    "        if humano.esta_vivo == False:\n",
    "            print(\"Troll ganó\")\n",
    "            break\n",
    "        elif troll.esta_vivo == False:\n",
    "            print(\"Humano ganó\")\n",
    "            break\n",
    "        print(\"-----------------\")\n",
    "\n",
    "empezar_pelea(humano=leo, troll=troll)"
   ]
  },
  {
   "cell_type": "code",
   "execution_count": null,
   "metadata": {},
   "outputs": [],
   "source": []
  }
 ]
}