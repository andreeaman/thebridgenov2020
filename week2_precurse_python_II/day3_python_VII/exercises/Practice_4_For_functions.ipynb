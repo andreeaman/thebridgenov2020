{
 "cells": [
  {
   "cell_type": "markdown",
   "metadata": {},
   "source": [
    "# Python | day 4 | for loop, functions (feat. basics & if/else) "
   ]
  },
  {
   "cell_type": "markdown",
   "metadata": {},
   "source": [
    "### Exercise 0.1 - Python Basics\n",
    "\n",
    "1. What do we use to make a line break in a print? And for a tab stop?\n",
    "\n",
    "have a look ---> http://elclubdelautodidacta.es/wp/2012/04/python-capitulo-31-exprimiendo-la-funcion-print/"
   ]
  },
  {
   "cell_type": "code",
   "execution_count": null,
   "metadata": {},
   "outputs": [],
   "source": []
  },
  {
   "cell_type": "markdown",
   "metadata": {},
   "source": [
    "2. Make a converter from dollars to euros. You'll have to use input."
   ]
  },
  {
   "cell_type": "code",
   "execution_count": null,
   "metadata": {},
   "outputs": [],
   "source": []
  },
  {
   "cell_type": "markdown",
   "metadata": {},
   "source": [
    "3. Declare two strings, one will be your first name and the other your last name. Declare your age in another variable. Print a sentence which include those variables, using ```f{}```. Wtf is that? check this out **-->** https://realpython.com/python-string-formatting/"
   ]
  },
  {
   "cell_type": "code",
   "execution_count": null,
   "metadata": {},
   "outputs": [],
   "source": []
  },
  {
   "cell_type": "markdown",
   "metadata": {},
   "source": [
    "4. Given the list `[4,7, -3]`, calculate its maximum, minimum and sum."
   ]
  },
  {
   "cell_type": "code",
   "execution_count": null,
   "metadata": {},
   "outputs": [],
   "source": []
  },
  {
   "cell_type": "markdown",
   "metadata": {},
   "source": [
    "5. Round `38.38276252728` to 5 decimal places.\n"
   ]
  },
  {
   "cell_type": "code",
   "execution_count": null,
   "metadata": {},
   "outputs": [],
   "source": []
  },
  {
   "cell_type": "markdown",
   "metadata": {},
   "source": [
    "6. Make the phrase `\"Born to be wild\"` uppercase, then lowercase, divide it by spaces, and finally, replace `\"wild\"` with `\"Geek.\"`"
   ]
  },
  {
   "cell_type": "code",
   "execution_count": null,
   "metadata": {},
   "outputs": [],
   "source": []
  },
  {
   "cell_type": "markdown",
   "metadata": {},
   "source": [
    "7. Create a program where two inputs are collected, and the output of the program is a boolean which tell the user whether those inputs are the same or not.\n"
   ]
  },
  {
   "cell_type": "markdown",
   "metadata": {},
   "source": []
  },
  {
   "cell_type": "markdown",
   "metadata": {},
   "source": [
    "### Exercise 0.2 - If/else\n",
    "\n",
    "1. Create a decission tree using if/else sentences, to determine the price of the movies ticket. If the client's age is between 5 and 15 years, both included, the price will be 5, if she/he is retired and the movie is one of the `peliculas_discount`, the price is 4. In any other case, it will be 7 euros.\n",
    "\n",
    "You should create the list of `peliculas_discount` with your favourites movies. "
   ]
  },
  {
   "cell_type": "code",
   "execution_count": 13,
   "metadata": {},
   "outputs": [
    {
     "output_type": "stream",
     "name": "stdout",
     "text": [
      "SI\n"
     ]
    }
   ],
   "source": [
    "x = \"SI\"\n",
    "print(x.upper())"
   ]
  },
  {
   "cell_type": "code",
   "execution_count": 14,
   "metadata": {},
   "outputs": [],
   "source": [
    "peliculas_discount = [\"Infiltrados\", \"El Padrino\", \"American Ganster\"]\n",
    "\n",
    "edad_cliente = int(input(\"¿Qué edad tienes?\"))\n",
    "pelicula_a_ver = input(\"¿Qué película vas a ver?\")\n",
    "retirado = input(\"¿Estás retirado?\")\n",
    "retirado = retirado.upper()\n",
    "\n",
    "# Opción 2 a partir de String\n",
    "if retirado == \"SI\" or retirado == \"YES\":\n",
    "    retirado = True\n",
    "else:\n",
    "    retirado = False\n",
    "\n",
    "# Las condiciones\n",
    "#if edad_cliente >= 5 and edad_cliente <= 15:\n",
    "if (5 <= edad_cliente <= 15):\n",
    "    print(\"El precio son 5€\")\n",
    "elif retirado and pelicula_a_ver in peliculas_discount:\n",
    "    print(\"El precio son 4€\")\n",
    "else:\n",
    "    print(\"El precio son 7€\")\n",
    "\n"
   ]
  },
  {
   "cell_type": "code",
   "execution_count": null,
   "metadata": {},
   "outputs": [],
   "source": [
    "# Las condiciones\n",
    "#if edad_cliente >= 5 and edad_cliente <= 15:\n",
    "if (5 <= edad_cliente <= 15):\n",
    "    print(\"El precio son 5€\")\n",
    "elif retirado:\n",
    "    if pelicula_a_ver in peliculas_discount:\n",
    "        print(\"EL precio son 4€\")\n",
    "    else: \n",
    "        print(\"El precio son 7€\")\n",
    "else:\n",
    "    print(\"El precio son 7€\")"
   ]
  },
  {
   "cell_type": "code",
   "execution_count": null,
   "metadata": {},
   "outputs": [],
   "source": [
    "# Opción 1 a partir de String\n",
    "retirado = (retirado == \"SI\") or (retirado == \"YES\")\n",
    "\n",
    "# Opción 2 a partir de String\n",
    "if retirado == \"SI\":\n",
    "    retirado = True\n",
    "else:\n",
    "    retirado = False"
   ]
  },
  {
   "cell_type": "code",
   "execution_count": null,
   "metadata": {},
   "outputs": [],
   "source": [
    "# Opción 1 para convertir a booleano \"retirado\" a partir de la edad\n",
    "retirado = (edad_cliente >= 67)\n",
    "\n",
    "# Opción 2 para convertir a booleano \"retirado\" a partir de la edad\n",
    "if edad_cliente >= 67:\n",
    "    retirado = True\n",
    "else:\n",
    "    retirado = False\n",
    "\n",
    "# Opción 3 para convertir a booleano \"retirado\" a partir de la edad\n",
    "retirado = False\n",
    "if edad_cliente >= 67:\n",
    "    retirado = True"
   ]
  },
  {
   "cell_type": "code",
   "execution_count": 19,
   "metadata": {},
   "outputs": [
    {
     "output_type": "stream",
     "name": "stdout",
     "text": [
      "Daniel del Valle\n"
     ]
    }
   ],
   "source": [
    "lista = ['María Cagigas','Kapil Dadlani','Daniel del Valle','María del Mar Delgado Domínguez','Estela Falgas','Alfonso Garcia Mateo-Sagasta','Javier Gil Antuñano Foncillas','Juan Guerrero Enriquez','Antonio Leal','Miguel Merry del Val','Miguel','Marta Miñana','Roberto Molleda','Javier Olcoz','Ariadna Puigventos','Leonardo Sánchez Soler','Anais villegas', \"Xeles\"]\n",
    "\n",
    "import random\n",
    "\n",
    "alumno_aleatorio = random.choice(lista)\n",
    "print(alumno_aleatorio)"
   ]
  },
  {
   "cell_type": "code",
   "execution_count": 27,
   "metadata": {},
   "outputs": [
    {
     "output_type": "stream",
     "name": "stdout",
     "text": [
      "Xeles\n"
     ]
    }
   ],
   "source": [
    "import random\n",
    "lista_stu = ['María Cagigas','Kapil Dadlani','Daniel del Valle','María del Mar Delgado Domínguez','Estela Falgas','Alfonso Garcia Mateo-Sagasta','Javier Gil Antuñano Foncillas','Juan Guerrero Enriquez','Antonio Leal','Miguel Merry del Val','Miguel','Marta Miñana','Roberto Molleda','Javier Olcoz','Ariadna Puigventos','Leonardo Sánchez Soler','Anais villegas', \"Xeles\"]\n",
    "\n",
    "def random_student(lista_alumnos):\n",
    "    return random.choice(lista_alumnos)\n",
    "\n",
    "s = random_student(lista_alumnos=lista_stu)\n",
    "print(s)"
   ]
  },
  {
   "cell_type": "code",
   "execution_count": 8,
   "metadata": {},
   "outputs": [
    {
     "output_type": "stream",
     "name": "stdout",
     "text": [
      "C es 6\n2\n"
     ]
    }
   ],
   "source": [
    "c = 6\n",
    "d = 2\n",
    "if c != 6:\n",
    "    print(\"Algo\")\n",
    "elif d != 2:\n",
    "    print(\"Prueba suerte\")\n",
    "elif d == 6:\n",
    "    print(6)\n",
    "elif c == 6:\n",
    "    print(\"C es 6\")\n",
    "if d == 2:\n",
    "    print(2)\n",
    "else:\n",
    "    print(\"Else\")"
   ]
  },
  {
   "cell_type": "code",
   "execution_count": null,
   "metadata": {},
   "outputs": [],
   "source": []
  },
  {
   "cell_type": "markdown",
   "metadata": {},
   "source": [
    "### Exercise 1 - For\n",
    "\n",
    "If you find a way of solving any of these questions below without using for loop, don't hesitate to do it. "
   ]
  },
  {
   "cell_type": "markdown",
   "metadata": {},
   "source": [
    "1. Prints the numbers between 0 and 70 that are multiples of 3 and 5."
   ]
  },
  {
   "cell_type": "code",
   "execution_count": 17,
   "metadata": {},
   "outputs": [
    {
     "output_type": "execute_result",
     "data": {
      "text/plain": [
       "True"
      ]
     },
     "metadata": {},
     "execution_count": 17
    }
   ],
   "source": [
    "\n",
    "3 % 3 == 0"
   ]
  },
  {
   "source": [
    "list(range(start, stop, incrementa))"
   ],
   "cell_type": "markdown",
   "metadata": {}
  },
  {
   "cell_type": "code",
   "execution_count": null,
   "metadata": {},
   "outputs": [],
   "source": [
    "def rango(*args, **kwargs):\n",
    "\n",
    "def rango(start=0, stop, inc=1)"
   ]
  },
  {
   "cell_type": "code",
   "execution_count": 26,
   "metadata": {},
   "outputs": [
    {
     "output_type": "stream",
     "name": "stdout",
     "text": [
      "[0, 1, 2, 3, 4, 5, 6, 7, 8, 9, 10, 11, 12, 13, 14, 15, 16, 17, 18, 19, 20, 21, 22, 23, 24, 25, 26, 27, 28, 29, 30, 31, 32, 33, 34, 35, 36, 37, 38, 39, 40, 41, 42, 43, 44, 45, 46, 47, 48, 49, 50, 51, 52, 53, 54, 55, 56, 57, 58, 59, 60, 61, 62, 63, 64, 65, 66, 67, 68, 69, 70]\n"
     ]
    }
   ],
   "source": [
    "print(list(range(0, 71, 1)))"
   ]
  },
  {
   "cell_type": "code",
   "execution_count": 27,
   "metadata": {},
   "outputs": [
    {
     "output_type": "stream",
     "name": "stdout",
     "text": [
      "[0, 1, 2]\n"
     ]
    }
   ],
   "source": [
    "print(list(range(3)))"
   ]
  },
  {
   "cell_type": "code",
   "execution_count": 44,
   "metadata": {},
   "outputs": [
    {
     "output_type": "stream",
     "name": "stdout",
     "text": [
      "[2, 3, 4, 5, 6, 7, 8, 9, 10, 11, 12, 13, 14, 15, 16, 17, 18, 19, 20, 21, 22, 23, 24, 25, 26, 27, 28, 29, 30, 31, 32, 33, 34, 35, 36, 37, 38, 39, 40, 41, 42, 43, 44, 45, 46, 47, 48, 49, 50, 51, 52, 53, 54, 55, 56, 57, 58, 59, 60, 61, 62, 63, 64, 65, 66, 67, 68, 69, 70]\n"
     ]
    }
   ],
   "source": [
    "print(list(range(2, 71, 1)))"
   ]
  },
  {
   "cell_type": "code",
   "execution_count": 46,
   "metadata": {},
   "outputs": [
    {
     "output_type": "execute_result",
     "data": {
      "text/plain": [
       "[0, 1, 2]"
      ]
     },
     "metadata": {},
     "execution_count": 46
    }
   ],
   "source": [
    "list(range(3))"
   ]
  },
  {
   "cell_type": "code",
   "execution_count": 41,
   "metadata": {},
   "outputs": [
    {
     "output_type": "stream",
     "name": "stdout",
     "text": [
      "Valor de i: 0\nlista_a[0]--> Mallorca\nlista_b[0]--> España\n----------------\nValor de i: 1\nlista_a[1]--> Mérida\nlista_b[1]--> Francia\n----------------\nValor de i: 2\nlista_a[2]--> Madrid\nlista_b[2]--> Italia\n----------------\n"
     ]
    }
   ],
   "source": [
    "lista_a = [\"Mallorca\", \"Mérida\", \"Madrid\"]\n",
    "lista_b = [\"España\", \"Francia\", \"Italia\"]\n",
    "\n",
    "#for i in [0,1,2]:  # El for recoger el VALOR de la colección\n",
    "for i in range(len(lista_a)):\n",
    "    print(\"Valor de i:\", i)\n",
    "    print(\"lista_a[\" + str(i) + \"]-->\", lista_a[i])\n",
    "    print(\"lista_b[\" + str(i) + \"]-->\",lista_b[i])\n",
    "    print(\"----------------\")"
   ]
  },
  {
   "cell_type": "code",
   "execution_count": 42,
   "metadata": {},
   "outputs": [
    {
     "output_type": "stream",
     "name": "stdout",
     "text": [
      "Valor de contador: 0\nlista_a[0]--> Mallorca\nlista_b[0]--> España\n----------------\nValor de contador: 1\nlista_a[1]--> Mérida\nlista_b[1]--> Francia\n----------------\nValor de contador: 2\nlista_a[2]--> Madrid\nlista_b[2]--> Italia\n----------------\n"
     ]
    }
   ],
   "source": [
    "lista_a = [\"Mallorca\", \"Mérida\", \"Madrid\"]\n",
    "lista_b = [\"España\", \"Francia\", \"Italia\"]\n",
    "\n",
    "contador = 0\n",
    "for i in [\"hola\", \"andrés\", \"jaime\"]:  # El for recoger el VALOR de la colección\n",
    "    print(\"Valor de contador:\", contador)\n",
    "    print(\"lista_a[\" + str(contador) + \"]-->\", lista_a[contador])\n",
    "    print(\"lista_b[\" + str(contador) + \"]-->\",lista_b[contador])\n",
    "    print(\"----------------\")\n",
    "    contador += 1"
   ]
  },
  {
   "cell_type": "code",
   "execution_count": 47,
   "metadata": {},
   "outputs": [
    {
     "output_type": "execute_result",
     "data": {
      "text/plain": [
       "['Mallorca', 'Mérida', 'Madrid', 'España', 'Francia', 'Italia']"
      ]
     },
     "metadata": {},
     "execution_count": 47
    }
   ],
   "source": [
    "lista_a = [\"Mallorca\", \"Mérida\", \"Madrid\"]\n",
    "lista_b = [\"España\", \"Francia\", \"Italia\"]\n",
    "lista_c = lista_a + lista_b\n",
    "lista_c"
   ]
  },
  {
   "cell_type": "code",
   "execution_count": 48,
   "metadata": {},
   "outputs": [
    {
     "output_type": "execute_result",
     "data": {
      "text/plain": [
       "[0, 1, 2, 3, 4, 5]"
      ]
     },
     "metadata": {},
     "execution_count": 48
    }
   ],
   "source": [
    "list(range(len(lista_c)))"
   ]
  },
  {
   "cell_type": "code",
   "execution_count": 50,
   "metadata": {},
   "outputs": [
    {
     "output_type": "stream",
     "name": "stdout",
     "text": [
      "Mallorca\nMérida\nMadrid\nEspaña\nFrancia\nItalia\n"
     ]
    }
   ],
   "source": [
    "#for i in [0, 1, 2, 3, 4, 5]:\n",
    "for i in range(len(lista_c)):\n",
    "    print(lista_c[i])"
   ]
  },
  {
   "cell_type": "code",
   "execution_count": 51,
   "metadata": {},
   "outputs": [
    {
     "output_type": "execute_result",
     "data": {
      "text/plain": [
       "['Mallorca', 'Mérida', 'Madrid']"
      ]
     },
     "metadata": {},
     "execution_count": 51
    }
   ],
   "source": [
    "lista_a"
   ]
  },
  {
   "cell_type": "code",
   "execution_count": 52,
   "metadata": {},
   "outputs": [
    {
     "output_type": "execute_result",
     "data": {
      "text/plain": [
       "['España', 'Francia', 'Italia']"
      ]
     },
     "metadata": {},
     "execution_count": 52
    }
   ],
   "source": [
    "lista_b"
   ]
  },
  {
   "cell_type": "code",
   "execution_count": 53,
   "metadata": {},
   "outputs": [
    {
     "output_type": "stream",
     "name": "stdout",
     "text": [
      "Mallorca : Francia\nMérida : España\nMadrid : Italia\n"
     ]
    }
   ],
   "source": [
    "#for i in range(len(lista_a)):\n",
    "for i in [0, 1, 2]:\n",
    "    if i == 0:  # La primera iteración\n",
    "        print(lista_a[i], \":\", lista_b[i+1])\n",
    "    elif i == 1:  # La segunda iteración\n",
    "        print(lista_a[i], \":\", lista_b[i-1])\n",
    "    else:  # Es la tercera iteración    \n",
    "        print(lista_a[i], \":\", lista_b[i])\n"
   ]
  },
  {
   "cell_type": "code",
   "execution_count": null,
   "metadata": {},
   "outputs": [],
   "source": [
    "lista_a = [\"Mallorca\", \"Mérida\", \"Madrid\"]\n",
    "lista_b = [\"España\", \"Francia\", \"Italia\"]\n",
    "\n",
    "#for i in range(len(lista_a)):\n",
    "for i in [0, 1, 2]:\n",
    "    if i == 0:  # La primera iteración\n",
    "        print(lista_a[i], \":\", lista_b[i+1])\n",
    "    elif i == 1:  # La segunda iteración\n",
    "        print(lista_a[i], \":\", lista_b[i-1])\n",
    "    elif i == 2:  # La tercera iteración\n",
    "        print(lista_a[i], \":\", lista_b[i])"
   ]
  },
  {
   "cell_type": "code",
   "execution_count": 54,
   "metadata": {},
   "outputs": [
    {
     "output_type": "stream",
     "name": "stdout",
     "text": [
      "['Mallorca', 'Mérida', 'Madrid']\n['España', 'Francia', 'Italia']\n"
     ]
    }
   ],
   "source": [
    "print(lista_a)\n",
    "print(lista_b)"
   ]
  },
  {
   "cell_type": "code",
   "execution_count": 55,
   "metadata": {},
   "outputs": [
    {
     "output_type": "execute_result",
     "data": {
      "text/plain": [
       "['España', 'Francia', 'Italia', 'Cuenca']"
      ]
     },
     "metadata": {},
     "execution_count": 55
    }
   ],
   "source": [
    "lista_d = lista_b + [\"Cuenca\"]\n",
    "lista_d"
   ]
  },
  {
   "cell_type": "code",
   "execution_count": 58,
   "metadata": {},
   "outputs": [
    {
     "output_type": "stream",
     "name": "stdout",
     "text": [
      "Mallorca\nFrancia\nMérida\nItalia\nMadrid\nCuenca\n"
     ]
    }
   ],
   "source": [
    "#for i in range(len(lista_a)):\n",
    "for i in [0, 1 ,2]:\n",
    "    print(lista_a[i])\n",
    "    print(lista_d[i+1])\n",
    "    "
   ]
  },
  {
   "cell_type": "code",
   "execution_count": 30,
   "metadata": {},
   "outputs": [
    {
     "output_type": "stream",
     "name": "stdout",
     "text": [
      "0\n3\n5\n6\n9\n10\n12\n15\n18\n20\n21\n24\n25\n27\n30\n33\n35\n36\n39\n40\n42\n45\n48\n50\n51\n54\n55\n57\n60\n63\n65\n66\n69\n70\n"
     ]
    }
   ],
   "source": [
    "rango = list(range(71))\n",
    "\n",
    "for x in rango:\n",
    "    #if (x % 3 == 0) and (x % 5 == 0):\n",
    "    if (x % 3 == 0) or (x % 5 == 0):\n",
    "        print(x)"
   ]
  },
  {
   "cell_type": "code",
   "execution_count": 7,
   "metadata": {},
   "outputs": [
    {
     "output_type": "stream",
     "name": "stdout",
     "text": [
      "Mallorca\nMérida\nMadrid\n3\n"
     ]
    }
   ],
   "source": [
    "# acumulador / contador \n",
    "\n",
    "lista_a = ['Mallorca', 'Mérida', 'Madrid']\n",
    "lista_b = ['España', 'Francia', 'Italia']\n",
    "\n",
    "acum = 0\n",
    "# for i in [0, 1, 2]:\n",
    "for i in range(len(lista_a)):\n",
    "    print(lista_a[acum])\n",
    "    acum += 1\n",
    "    \n",
    "print(acum)"
   ]
  },
  {
   "cell_type": "code",
   "execution_count": 11,
   "metadata": {},
   "outputs": [
    {
     "output_type": "stream",
     "name": "stdout",
     "text": [
      "Mallorca\nMérida\nMadrid\n3\n"
     ]
    }
   ],
   "source": [
    "# acumulador / contador \n",
    "\n",
    "lista_a = ['Mallorca', 'Mérida', 'Madrid']\n",
    "lista_b = ['España', 'Francia', 'Italia']\n",
    "\n",
    "acum = 0\n",
    "while acum < len(lista_a):\n",
    "    print(lista_a[acum])\n",
    "    acum += 1\n",
    "    \n",
    "print(acum)"
   ]
  },
  {
   "cell_type": "code",
   "execution_count": 14,
   "metadata": {},
   "outputs": [
    {
     "output_type": "stream",
     "name": "stdout",
     "text": [
      "Mallorca\nMérida\nMadrid\nAcum vale 3 o más\n"
     ]
    },
    {
     "output_type": "error",
     "ename": "IndexError",
     "evalue": "list index out of range",
     "traceback": [
      "\u001b[1;31m---------------------------------------------------------------------------\u001b[0m",
      "\u001b[1;31mIndexError\u001b[0m                                Traceback (most recent call last)",
      "\u001b[1;32m<ipython-input-14-b03984fb6fef>\u001b[0m in \u001b[0;36m<module>\u001b[1;34m\u001b[0m\n\u001b[0;32m      6\u001b[0m     \u001b[1;32mwhile\u001b[0m \u001b[1;32mTrue\u001b[0m\u001b[1;33m:\u001b[0m\u001b[1;33m\u001b[0m\u001b[0m\n\u001b[1;32m----> 7\u001b[1;33m         \u001b[0mprint\u001b[0m\u001b[1;33m(\u001b[0m\u001b[0mlista_a\u001b[0m\u001b[1;33m[\u001b[0m\u001b[0macum\u001b[0m\u001b[1;33m]\u001b[0m\u001b[1;33m)\u001b[0m\u001b[1;33m\u001b[0m\u001b[0m\n\u001b[0m\u001b[0;32m      8\u001b[0m         \u001b[0macum\u001b[0m \u001b[1;33m+=\u001b[0m \u001b[1;36m1\u001b[0m\u001b[1;33m\u001b[0m\u001b[0m\n",
      "\u001b[1;31mIndexError\u001b[0m: list index out of range",
      "\nDuring handling of the above exception, another exception occurred:\n",
      "\u001b[1;31mIndexError\u001b[0m                                Traceback (most recent call last)",
      "\u001b[1;32m<ipython-input-14-b03984fb6fef>\u001b[0m in \u001b[0;36m<module>\u001b[1;34m\u001b[0m\n\u001b[0;32m      9\u001b[0m \u001b[1;32mexcept\u001b[0m\u001b[1;33m:\u001b[0m\u001b[1;33m\u001b[0m\u001b[0m\n\u001b[0;32m     10\u001b[0m     \u001b[0mprint\u001b[0m\u001b[1;33m(\u001b[0m\u001b[1;34m\"Acum vale 3 o más\"\u001b[0m\u001b[1;33m)\u001b[0m\u001b[1;33m\u001b[0m\u001b[0m\n\u001b[1;32m---> 11\u001b[1;33m     \u001b[0mprint\u001b[0m\u001b[1;33m(\u001b[0m\u001b[0mlista_a\u001b[0m\u001b[1;33m[\u001b[0m\u001b[0macum\u001b[0m\u001b[1;33m]\u001b[0m\u001b[1;33m)\u001b[0m\u001b[1;33m\u001b[0m\u001b[0m\n\u001b[0m\u001b[0;32m     12\u001b[0m \u001b[1;33m\u001b[0m\u001b[0m\n\u001b[0;32m     13\u001b[0m \u001b[0mprint\u001b[0m\u001b[1;33m(\u001b[0m\u001b[0macum\u001b[0m\u001b[1;33m)\u001b[0m\u001b[1;33m\u001b[0m\u001b[0m\n",
      "\u001b[1;31mIndexError\u001b[0m: list index out of range"
     ]
    }
   ],
   "source": [
    "lista_a = ['Mallorca', 'Mérida', 'Madrid']\n",
    "lista_b = ['España', 'Francia', 'Italia']\n",
    "\n",
    "acum = 0\n",
    "try:\n",
    "    while True:\n",
    "        print(lista_a[acum])\n",
    "        acum += 1\n",
    "except:\n",
    "    print(\"Acum vale 3 o más\")\n",
    "    #print(lista_a[acum])\n",
    "    \n",
    "print(acum)"
   ]
  },
  {
   "cell_type": "code",
   "execution_count": 17,
   "metadata": {},
   "outputs": [
    {
     "output_type": "stream",
     "name": "stdout",
     "text": [
      "Mallorca\nEspaña\nMérida\nFrancia\nMadrid\nItalia\n"
     ]
    }
   ],
   "source": [
    "lista_a = ['Mallorca', 'Mérida', 'Madrid']\n",
    "lista_b = ['España', 'Francia', 'Italia']\n",
    "\n",
    "acum = 0\n",
    "for elem in lista_a:\n",
    "    print(elem)\n",
    "    print(lista_b[acum])\n",
    "    acum = acum + 1\n"
   ]
  },
  {
   "cell_type": "markdown",
   "metadata": {},
   "source": [
    "2. Print the following pattern:\n",
    "\n",
    "```python\n",
    "1\n",
    "22\n",
    "333\n",
    "4444\n",
    "55555\n",
    "666666\n",
    "7777777\n",
    "88888888\n",
    "999999999\n",
    "```\n"
   ]
  },
  {
   "cell_type": "code",
   "execution_count": 25,
   "metadata": {},
   "outputs": [
    {
     "output_type": "stream",
     "name": "stdout",
     "text": [
      "1\n22\n333\n4444\n55555\n666666\n7777777\n88888888\n999999999\n"
     ]
    }
   ],
   "source": [
    "for i in range(1, 10):\n",
    "    r = str(i) * i\n",
    "    print(r)"
   ]
  },
  {
   "cell_type": "code",
   "execution_count": 24,
   "metadata": {},
   "outputs": [
    {
     "output_type": "stream",
     "name": "stdout",
     "text": [
      "1\n22\n333\n4444\n55555\n666666\n7777777\n88888888\n999999999\n"
     ]
    }
   ],
   "source": [
    "for i in range(1, 10):\n",
    "    s = \"\"\n",
    "    for j in range(0, i):\n",
    "        s = s + str(i)\n",
    "    print(s)\n"
   ]
  },
  {
   "cell_type": "code",
   "execution_count": 22,
   "metadata": {},
   "outputs": [
    {
     "output_type": "execute_result",
     "data": {
      "text/plain": [
       "'222'"
      ]
     },
     "metadata": {},
     "execution_count": 22
    }
   ],
   "source": [
    "\"2\" * 3"
   ]
  },
  {
   "cell_type": "markdown",
   "metadata": {
    "collapsed": true
   },
   "source": [
    "3. Given to list of same lenght, create a third list which contains the sum of both of the list, element by element. "
   ]
  },
  {
   "cell_type": "markdown",
   "metadata": {},
   "source": [
    "```python\n",
    "Example: \n",
    "a = [1,2]\n",
    "b = [4,5]\n",
    "new_list = [5,7]\n",
    "```\n"
   ]
  },
  {
   "cell_type": "code",
   "execution_count": 30,
   "metadata": {},
   "outputs": [
    {
     "output_type": "execute_result",
     "data": {
      "text/plain": [
       "[15, 12, 13]"
      ]
     },
     "metadata": {},
     "execution_count": 30
    }
   ],
   "source": [
    "a = [6, 9, 7]\n",
    "b = [9, 3, 6]\n",
    "\n",
    "for x, y in enumerate(a):\n",
    "    for z, w in enumerate(b):\n",
    "        if x == z:  # Las posiciones que se están recorriendo sean las mismas\n",
    "            if x == 0:\n",
    "                p1 = y + w\n",
    "            elif x == 1:\n",
    "                p2 = y + w\n",
    "            else: \n",
    "                p3 = y + w\n",
    "\n",
    "new_list = [p1, p2, p3]\n",
    "new_list\n"
   ]
  },
  {
   "cell_type": "code",
   "execution_count": 33,
   "metadata": {},
   "outputs": [
    {
     "output_type": "stream",
     "name": "stdout",
     "text": [
      "6\n9\n--------\n9\n3\n--------\n7\n6\n--------\n"
     ]
    }
   ],
   "source": [
    "a = [6, 9, 7]\n",
    "b = [9, 3, 6]\n",
    "\n",
    "acum = 0\n",
    "for elem in a:\n",
    "    print(a[acum])\n",
    "    print(b[acum])\n",
    "    print(\"--------\")\n",
    "    acum += 1"
   ]
  },
  {
   "cell_type": "code",
   "execution_count": 35,
   "metadata": {},
   "outputs": [
    {
     "output_type": "stream",
     "name": "stdout",
     "text": [
      "6\n9\n[15]\n--------\n9\n3\n[15, 12]\n--------\n7\n6\n[15, 12, 13]\n--------\n"
     ]
    }
   ],
   "source": [
    "a = [6, 9, 7]\n",
    "b = [9, 3, 6]\n",
    "new_list = []\n",
    "\n",
    "# for acum in [0, 1, 2]:\n",
    "for acum in range(len(a)):\n",
    "    print(a[acum])\n",
    "    print(b[acum])\n",
    "    new_list.append(a[acum] + b[acum])\n",
    "    print(new_list)\n",
    "    print(\"--------\")\n"
   ]
  },
  {
   "cell_type": "code",
   "execution_count": 36,
   "metadata": {},
   "outputs": [
    {
     "output_type": "stream",
     "name": "stdout",
     "text": [
      "[15, 12, 13]\n"
     ]
    }
   ],
   "source": [
    "a = [6, 9, 7]\n",
    "b = [9, 3, 6]\n",
    "new_list = []\n",
    "\n",
    "# for acum in [0, 1, 2]:\n",
    "for acum in range(len(a)):\n",
    "    new_list.append(a[acum] + b[acum])\n",
    "print(new_list)"
   ]
  },
  {
   "cell_type": "code",
   "execution_count": 37,
   "metadata": {},
   "outputs": [
    {
     "output_type": "stream",
     "name": "stdout",
     "text": [
      "Kapil Dadlani\n"
     ]
    }
   ],
   "source": [
    "s = random_student(lista_alumnos=lista_stu)\n",
    "print(s)"
   ]
  },
  {
   "cell_type": "markdown",
   "metadata": {},
   "source": [
    "4. Get first, second best scores from the list.\n",
    "List contains duplicates."
   ]
  },
  {
   "cell_type": "code",
   "execution_count": 43,
   "metadata": {},
   "outputs": [],
   "source": [
    "scores = [86,86,85,85,85,83,23,45,84,1,2,0]"
   ]
  },
  {
   "cell_type": "code",
   "execution_count": 45,
   "metadata": {},
   "outputs": [
    {
     "output_type": "stream",
     "name": "stdout",
     "text": [
      "[0, 1, 2, 23, 45, 83, 84, 85, 85, 85, 86, 86]\n[86, 86, 85, 85, 85, 84, 83, 45, 23, 2, 1, 0]\n"
     ]
    }
   ],
   "source": [
    "scores.sort()\n",
    "print(scores)\n",
    "scores.reverse()\n",
    "print(scores)"
   ]
  },
  {
   "cell_type": "code",
   "execution_count": 46,
   "metadata": {},
   "outputs": [
    {
     "output_type": "execute_result",
     "data": {
      "text/plain": [
       "[0, 1, 2, 3, 4, 5, 6, 7, 8, 9, 10, 11]"
      ]
     },
     "metadata": {},
     "execution_count": 46
    }
   ],
   "source": [
    "list(range(len(scores)))"
   ]
  },
  {
   "cell_type": "code",
   "execution_count": 51,
   "metadata": {},
   "outputs": [
    {
     "output_type": "stream",
     "name": "stdout",
     "text": [
      "86\n85\n"
     ]
    }
   ],
   "source": [
    "\n",
    "print(scores[0])\n",
    "for i in range(len(scores)):\n",
    "    if scores[i] == scores[0]:\n",
    "        continue\n",
    "    else: \n",
    "        print(scores[i])\n",
    "        break"
   ]
  },
  {
   "cell_type": "code",
   "execution_count": 53,
   "metadata": {},
   "outputs": [
    {
     "output_type": "stream",
     "name": "stdout",
     "text": [
      "{0, 1, 2, 45, 83, 84, 85, 86, 23}\n"
     ]
    }
   ],
   "source": [
    "scores = [86,86,85,85,85,83,23,45,84,1,2,0]\n",
    "print(set(scores))"
   ]
  },
  {
   "cell_type": "code",
   "execution_count": 58,
   "metadata": {},
   "outputs": [
    {
     "output_type": "stream",
     "name": "stdout",
     "text": [
      "1761636512\n1761636480\n1761636544\n"
     ]
    }
   ],
   "source": [
    "print(id(23))\n",
    "print(id(22))\n",
    "print(id(24))"
   ]
  },
  {
   "cell_type": "code",
   "execution_count": 59,
   "metadata": {},
   "outputs": [
    {
     "output_type": "stream",
     "name": "stdout",
     "text": [
      "1761638528\n"
     ]
    }
   ],
   "source": [
    "print(id(86))"
   ]
  },
  {
   "cell_type": "code",
   "execution_count": 60,
   "metadata": {},
   "outputs": [
    {
     "output_type": "stream",
     "name": "stdout",
     "text": [
      "86\n86\n85\n85\n85\n83\n23\n45\n84\n1\n2\n0\n"
     ]
    }
   ],
   "source": [
    "for x in scores:\n",
    "    print(hash(x))"
   ]
  },
  {
   "cell_type": "code",
   "execution_count": 69,
   "metadata": {},
   "outputs": [
    {
     "output_type": "execute_result",
     "data": {
      "text/plain": [
       "[0, 1, 2, 45, 83, 84, 85, 86, 23]"
      ]
     },
     "metadata": {},
     "execution_count": 69
    }
   ],
   "source": [
    "s = list(set(scores))\n",
    "s"
   ]
  },
  {
   "cell_type": "code",
   "execution_count": 66,
   "metadata": {},
   "outputs": [
    {
     "output_type": "stream",
     "name": "stdout",
     "text": [
      "86\n85\n"
     ]
    }
   ],
   "source": [
    "s = list(set(scores))\n",
    "s.sort()\n",
    "s.reverse()\n",
    "print(s[0])\n",
    "print(s[1])"
   ]
  },
  {
   "cell_type": "code",
   "execution_count": 67,
   "metadata": {},
   "outputs": [
    {
     "output_type": "stream",
     "name": "stdout",
     "text": [
      "86\n85\n"
     ]
    }
   ],
   "source": [
    "for i in range(2):\n",
    "    print(s[i])"
   ]
  },
  {
   "cell_type": "code",
   "execution_count": 68,
   "metadata": {},
   "outputs": [
    {
     "output_type": "stream",
     "name": "stdout",
     "text": [
      "86\n85\n"
     ]
    }
   ],
   "source": [
    "acum = 0\n",
    "while acum < 2:\n",
    "    print(s[acum])\n",
    "    acum += 1"
   ]
  },
  {
   "cell_type": "code",
   "execution_count": 75,
   "metadata": {},
   "outputs": [
    {
     "output_type": "stream",
     "name": "stdout",
     "text": [
      "2\nIT\n3\nIT\nIT\n8\nIT\n"
     ]
    }
   ],
   "source": [
    "l = [2, 3, 5, 8]\n",
    "for i in range(len(l)):\n",
    "    if i == 2: \n",
    "        pass\n",
    "    else:\n",
    "        print(l[i])\n",
    "    print(\"IT\")\n",
    "    "
   ]
  },
  {
   "cell_type": "code",
   "execution_count": 76,
   "metadata": {},
   "outputs": [
    {
     "output_type": "execute_result",
     "data": {
      "text/plain": [
       "[30000, 1515, -35]"
      ]
     },
     "metadata": {},
     "execution_count": 76
    }
   ],
   "source": [
    "l = [1515, 30000, -35]\n",
    "l = list(set(l))\n",
    "l"
   ]
  },
  {
   "cell_type": "code",
   "execution_count": 77,
   "metadata": {},
   "outputs": [
    {
     "output_type": "execute_result",
     "data": {
      "text/plain": [
       "[1515, 30000, 'z', 'a', -35, 'h']"
      ]
     },
     "metadata": {},
     "execution_count": 77
    }
   ],
   "source": [
    "l = [1515, 30000, -35, \"z\", \"a\", \"h\"]\n",
    "l = list(set(l))\n",
    "l"
   ]
  },
  {
   "cell_type": "code",
   "execution_count": 2,
   "metadata": {},
   "outputs": [
    {
     "output_type": "stream",
     "name": "stdout",
     "text": [
      "0\n2\n3\n4\n"
     ]
    }
   ],
   "source": [
    "# Diferencias break, pass, continue\n",
    "\n",
    "# Continue: Salta a la siguiente iteración\n",
    "for i in range(5):\n",
    "    if i == 1:\n",
    "        continue\n",
    "    print(i)"
   ]
  },
  {
   "cell_type": "code",
   "execution_count": 3,
   "metadata": {},
   "outputs": [
    {
     "output_type": "stream",
     "name": "stdout",
     "text": [
      "0\n"
     ]
    }
   ],
   "source": [
    "# Break: Para el bucle TOTALMENTE\n",
    "for i in range(5):\n",
    "    if i == 1:\n",
    "        break\n",
    "    print(i)"
   ]
  },
  {
   "cell_type": "code",
   "execution_count": 4,
   "metadata": {},
   "outputs": [
    {
     "output_type": "stream",
     "name": "stdout",
     "text": [
      "0\n1\n2\n3\n4\n"
     ]
    }
   ],
   "source": [
    "# Pass: no hace nada, sigue adelante de forma normal\n",
    "for i in range(5):\n",
    "    if i == 1:\n",
    "        pass\n",
    "    print(i)"
   ]
  },
  {
   "cell_type": "code",
   "execution_count": 7,
   "metadata": {},
   "outputs": [
    {
     "output_type": "execute_result",
     "data": {
      "text/plain": [
       "[]"
      ]
     },
     "metadata": {},
     "execution_count": 7
    }
   ],
   "source": [
    "# ¿Por qué pass?\n",
    "\n",
    "def get_data():\n",
    "    \"\"\" Para obtener datos TODO(@gabvaztor) \"\"\"\n",
    "    data = []\n",
    "    return data\n",
    "\n",
    "def clean_data():\n",
    "    pass\n",
    "\n",
    "def draw_data():\n",
    "    pass\n",
    "\n",
    "get_data()"
   ]
  },
  {
   "cell_type": "code",
   "execution_count": 12,
   "metadata": {},
   "outputs": [
    {
     "output_type": "stream",
     "name": "stdout",
     "text": [
      "Ho\nla\n"
     ]
    }
   ],
   "source": [
    "print(\"Ho\\nla\")"
   ]
  },
  {
   "cell_type": "code",
   "execution_count": 13,
   "metadata": {},
   "outputs": [
    {
     "output_type": "stream",
     "name": "stdout",
     "text": [
      "Ho\\nla\n"
     ]
    }
   ],
   "source": [
    "print(r\"Ho\\nla\")"
   ]
  },
  {
   "cell_type": "code",
   "execution_count": 14,
   "metadata": {},
   "outputs": [
    {
     "output_type": "execute_result",
     "data": {
      "text/plain": [
       "'Hello, Bob'"
      ]
     },
     "metadata": {},
     "execution_count": 14
    }
   ],
   "source": [
    "name = \"Bob\"\n",
    "'Hello, %s' % name"
   ]
  },
  {
   "cell_type": "code",
   "execution_count": 16,
   "metadata": {},
   "outputs": [
    {
     "output_type": "execute_result",
     "data": {
      "text/plain": [
       "'Hey Bob, there is a 0x3124e57 error!'"
      ]
     },
     "metadata": {},
     "execution_count": 16
    }
   ],
   "source": [
    "errno = 51531351\n",
    "'Hey %s, there is a 0x%x error!' % (name, errno)"
   ]
  },
  {
   "cell_type": "code",
   "execution_count": 17,
   "metadata": {},
   "outputs": [
    {
     "output_type": "execute_result",
     "data": {
      "text/plain": [
       "'Hello, Bob'"
      ]
     },
     "metadata": {},
     "execution_count": 17
    }
   ],
   "source": [
    "name = \"Bob\"\n",
    "'Hello, {}'.format(name)"
   ]
  },
  {
   "cell_type": "code",
   "execution_count": 18,
   "metadata": {},
   "outputs": [
    {
     "output_type": "execute_result",
     "data": {
      "text/plain": [
       "'Five plus ten is 15 and not 30.'"
      ]
     },
     "metadata": {},
     "execution_count": 18
    }
   ],
   "source": [
    "a = 5\n",
    "b = 10\n",
    "f'Five plus ten is {a + b} and not {2 * (a + b)}.'"
   ]
  },
  {
   "cell_type": "markdown",
   "metadata": {},
   "source": [
    "5. From the given list:\n",
    "    \n",
    "    a) Create separate lists of strings and numbers.\n",
    "\n",
    "    b) Sort the strings' list in ascending order\n",
    "\n",
    "    c) Sort the strings' list in descending order\n",
    "\n",
    "    d) Sort the number's list from lowest to highest\n",
    "\n",
    "    e) Sort the number's list from highest to lowest"
   ]
  },
  {
   "cell_type": "code",
   "execution_count": 19,
   "metadata": {},
   "outputs": [],
   "source": [
    "gadgets = [\"Mobile\", \"Laptop\", 100, \"Camera\", 310.28, \"Speakers\", 27.00, \"Television\", 1000, \"Laptop Case\", \"Camera Lens\"]"
   ]
  },
  {
   "cell_type": "code",
   "execution_count": 30,
   "metadata": {},
   "outputs": [
    {
     "output_type": "execute_result",
     "data": {
      "text/plain": [
       "['Mobile',\n",
       " 'Laptop',\n",
       " 'Camera',\n",
       " 'Speakers',\n",
       " 'Television',\n",
       " 'Laptop Case',\n",
       " 'Camera Lens']"
      ]
     },
     "metadata": {},
     "execution_count": 30
    }
   ],
   "source": [
    "strings = [s for s in gadgets if type(s) == str]\n",
    "strings"
   ]
  },
  {
   "cell_type": "code",
   "execution_count": 26,
   "metadata": {},
   "outputs": [
    {
     "output_type": "stream",
     "name": "stdout",
     "text": [
      "[100, 310.28, 27.0, 1000]\n--------\n['Mobile', 'Laptop', 'Camera', 'Speakers', 'Television', 'Laptop Case', 'Camera Lens']\n"
     ]
    }
   ],
   "source": [
    "numbers = []\n",
    "strings = []\n",
    "\n",
    "for x in gadgets:\n",
    "    if type(x) == int or type(x) == float:\n",
    "        numbers.append(x)\n",
    "    elif type(x) == str:\n",
    "        strings.append(x)\n",
    "\n",
    "print(numbers)\n",
    "print(\"--------\")\n",
    "print(strings)"
   ]
  },
  {
   "cell_type": "code",
   "execution_count": null,
   "metadata": {},
   "outputs": [],
   "source": [
    "numbers = []\n",
    "strings = []\n",
    "\n",
    "for x in gadgets:\n",
    "    if type(x) == int or type(x) == float:\n",
    "        numbers.append(x)\n",
    "    else:\n",
    "        strings.append(x)\n",
    "\n",
    "print(numbers)\n",
    "print(\"--------\")\n",
    "print(strings)"
   ]
  },
  {
   "cell_type": "code",
   "execution_count": 29,
   "metadata": {},
   "outputs": [
    {
     "output_type": "stream",
     "name": "stdout",
     "text": [
      "100\n310.28\n27.0\n1000\n---------\nMobile\nLaptop\nCamera\nSpeakers\nTelevision\nLaptop Case\nCamera Lens\n"
     ]
    }
   ],
   "source": [
    "for x in gadgets:\n",
    "    if type(x) == int or type(x) == float:\n",
    "        print(x)\n",
    "print(\"---------\") \n",
    "for x in gadgets:\n",
    "    if type(x) == str:\n",
    "        print(x)"
   ]
  },
  {
   "cell_type": "code",
   "execution_count": 31,
   "metadata": {},
   "outputs": [
    {
     "output_type": "execute_result",
     "data": {
      "text/plain": [
       "['Mobile',\n",
       " 'Laptop',\n",
       " 'Camera',\n",
       " 'Speakers',\n",
       " 'Television',\n",
       " 'Laptop Case',\n",
       " 'Camera Lens']"
      ]
     },
     "metadata": {},
     "execution_count": 31
    }
   ],
   "source": [
    "strings"
   ]
  },
  {
   "cell_type": "code",
   "execution_count": 32,
   "metadata": {},
   "outputs": [
    {
     "output_type": "execute_result",
     "data": {
      "text/plain": [
       "['Camera',\n",
       " 'Camera Lens',\n",
       " 'Laptop',\n",
       " 'Laptop Case',\n",
       " 'Mobile',\n",
       " 'Speakers',\n",
       " 'Television']"
      ]
     },
     "metadata": {},
     "execution_count": 32
    }
   ],
   "source": [
    "# Ordenar de forma ascendente\n",
    "\n",
    "strings.sort()\n",
    "strings"
   ]
  },
  {
   "cell_type": "code",
   "execution_count": 33,
   "metadata": {},
   "outputs": [
    {
     "output_type": "execute_result",
     "data": {
      "text/plain": [
       "['Television',\n",
       " 'Speakers',\n",
       " 'Mobile',\n",
       " 'Laptop Case',\n",
       " 'Laptop',\n",
       " 'Camera Lens',\n",
       " 'Camera']"
      ]
     },
     "metadata": {},
     "execution_count": 33
    }
   ],
   "source": [
    "strings.reverse()\n",
    "strings"
   ]
  },
  {
   "cell_type": "code",
   "execution_count": 38,
   "metadata": {},
   "outputs": [
    {
     "output_type": "execute_result",
     "data": {
      "text/plain": [
       "[100, 310.28, 27.0, 1000]"
      ]
     },
     "metadata": {},
     "execution_count": 38
    }
   ],
   "source": [
    "numbers = [k for k in gadgets if type(k) == int or type(k) == float]\n",
    "numbers"
   ]
  },
  {
   "cell_type": "code",
   "execution_count": 40,
   "metadata": {},
   "outputs": [
    {
     "output_type": "execute_result",
     "data": {
      "text/plain": [
       "[27.0, 100, 310.28, 1000]"
      ]
     },
     "metadata": {},
     "execution_count": 40
    }
   ],
   "source": [
    "numbers.sort()\n",
    "numbers"
   ]
  },
  {
   "cell_type": "code",
   "execution_count": 41,
   "metadata": {},
   "outputs": [
    {
     "output_type": "execute_result",
     "data": {
      "text/plain": [
       "[1000, 310.28, 100, 27.0]"
      ]
     },
     "metadata": {},
     "execution_count": 41
    }
   ],
   "source": [
    "numbers.sort(reverse=True)\n",
    "numbers"
   ]
  },
  {
   "cell_type": "code",
   "execution_count": null,
   "metadata": {},
   "outputs": [],
   "source": [
    "strings.sort(reverse=False)\n",
    "strings"
   ]
  },
  {
   "cell_type": "code",
   "execution_count": 36,
   "metadata": {},
   "outputs": [
    {
     "output_type": "execute_result",
     "data": {
      "text/plain": [
       "[6, 2, 1, 0]"
      ]
     },
     "metadata": {},
     "execution_count": 36
    }
   ],
   "source": [
    "def sort(lista, reverse=False):\n",
    "    lista.sort()\n",
    "    if reverse:\n",
    "        lista.reverse()\n",
    "    return lista\n",
    "\n",
    "l = [2, 6, 1, 0]\n",
    "sort(lista=l, reverse=True)"
   ]
  },
  {
   "cell_type": "code",
   "execution_count": 34,
   "metadata": {},
   "outputs": [
    {
     "output_type": "execute_result",
     "data": {
      "text/plain": [
       "[]"
      ]
     },
     "metadata": {},
     "execution_count": 34
    }
   ],
   "source": [
    "numbers"
   ]
  },
  {
   "cell_type": "code",
   "execution_count": 21,
   "metadata": {},
   "outputs": [
    {
     "output_type": "stream",
     "name": "stdout",
     "text": [
      "['Mobile', 'Laptop', 100, 'Camera', 310.28, 'Speakers', 27.0, 'Television', 1000, 'Laptop Case', 'Camera Lens']\n"
     ]
    }
   ],
   "source": [
    "print(gadgets)"
   ]
  },
  {
   "cell_type": "markdown",
   "metadata": {},
   "source": [
    "6. Make a list of ten aliens, each of which is one color: 'red', 'green', or 'blue'.\n",
    "    - You can shorten this to 'r', 'g', and 'b' if you want, but if you choose this option you have to include a comment explaining what r, g, and b stand for.\n",
    "    - Red aliens are worth 5 points, green aliens are worth 10 points, and blue aliens are worth 20 points.\n",
    "    - Use a for loop to determine the number of points a player would earn for destroying all of the aliens in your list."
   ]
  },
  {
   "cell_type": "code",
   "execution_count": 42,
   "metadata": {},
   "outputs": [
    {
     "output_type": "execute_result",
     "data": {
      "text/plain": [
       "['r', 'b', 'r', 'g', 'r', 'b', 'r', 'b', 'r', 'g']"
      ]
     },
     "metadata": {},
     "execution_count": 42
    }
   ],
   "source": [
    "lista_aliens = [\"r\", \"g\", \"b\"]\n",
    "\n",
    "l_aliens = []\n",
    "\n",
    "for i in range(10):\n",
    "    if i % 2 == 0:  # i es par\n",
    "        l_aliens.append(\"r\")\n",
    "    elif i % 3 == 0: # i es divisible entre 3\n",
    "        l_aliens.append(\"g\")\n",
    "    else:\n",
    "        l_aliens.append(\"b\")\n",
    "l_aliens"
   ]
  },
  {
   "cell_type": "code",
   "execution_count": 43,
   "metadata": {},
   "outputs": [
    {
     "output_type": "stream",
     "name": "stdout",
     "text": [
      "105\n"
     ]
    }
   ],
   "source": [
    "acum = 0\n",
    "for alien in l_aliens:\n",
    "    if alien == \"r\":\n",
    "        # 5 puntos\n",
    "        acum = acum + 5\n",
    "    elif alien == \"g\":\n",
    "        # 10 puntos\n",
    "        acum = acum + 10\n",
    "    else: \n",
    "        # 20 puntos\n",
    "        acum = acum + 20\n",
    "print(acum)"
   ]
  },
  {
   "cell_type": "code",
   "execution_count": 44,
   "metadata": {},
   "outputs": [
    {
     "output_type": "execute_result",
     "data": {
      "text/plain": [
       "['r', 'b', 'r', 'g', 'r', 'b', 'r', 'b', 'r', 'g']"
      ]
     },
     "metadata": {},
     "execution_count": 44
    }
   ],
   "source": [
    "l_aliens"
   ]
  },
  {
   "cell_type": "code",
   "execution_count": 45,
   "metadata": {},
   "outputs": [
    {
     "output_type": "stream",
     "name": "stdout",
     "text": [
      "5\n20\n5\n10\n5\n20\n5\n20\n5\n10\n0\n"
     ]
    }
   ],
   "source": [
    "# ESTO NO ACTUALIZA ACUM\n",
    "acum = 0\n",
    "for alien in l_aliens:\n",
    "    if alien == \"r\":\n",
    "        # 5 puntos\n",
    "        print(acum + 5)\n",
    "    elif alien == \"g\":\n",
    "        # 10 puntos\n",
    "        print(acum + 10)\n",
    "    else: \n",
    "        # 20 puntos\n",
    "        print(acum + 20)\n",
    "print(acum)"
   ]
  },
  {
   "cell_type": "markdown",
   "metadata": {},
   "source": [
    "### Exercise 2 - Functions"
   ]
  },
  {
   "cell_type": "markdown",
   "metadata": {},
   "source": [
    "1. Write a function program to sum up two given different numbers. "
   ]
  },
  {
   "cell_type": "code",
   "execution_count": 46,
   "metadata": {},
   "outputs": [
    {
     "output_type": "stream",
     "name": "stdout",
     "text": [
      "21\n"
     ]
    }
   ],
   "source": [
    "a = 2\n",
    "b = 4\n",
    "def suma_dos_numeros(a, b):\n",
    "    print(a + b)\n",
    "\n",
    "suma_dos_numeros(a=6, b=15)"
   ]
  },
  {
   "cell_type": "code",
   "execution_count": 47,
   "metadata": {},
   "outputs": [
    {
     "output_type": "stream",
     "name": "stdout",
     "text": [
      "21\nNone\n"
     ]
    }
   ],
   "source": [
    "def suma_dos_numeros(a, b):\n",
    "    print(a + b)\n",
    "\n",
    "r = suma_dos_numeros(a=6, b=15)\n",
    "print(r)"
   ]
  },
  {
   "cell_type": "code",
   "execution_count": 51,
   "metadata": {},
   "outputs": [
    {
     "output_type": "stream",
     "name": "stdout",
     "text": [
      "6\n"
     ]
    }
   ],
   "source": [
    "a = 2\n",
    "b = 4\n",
    "def suma_dos_numeros():\n",
    "    print(a + b)\n",
    "\n",
    "suma_dos_numeros()"
   ]
  },
  {
   "cell_type": "code",
   "execution_count": 52,
   "metadata": {},
   "outputs": [
    {
     "output_type": "stream",
     "name": "stdout",
     "text": [
      "6\n"
     ]
    },
    {
     "output_type": "error",
     "ename": "NameError",
     "evalue": "name 'y' is not defined",
     "traceback": [
      "\u001b[1;31m---------------------------------------------------------------------------\u001b[0m",
      "\u001b[1;31mNameError\u001b[0m                                 Traceback (most recent call last)",
      "\u001b[1;32m<ipython-input-52-af1420706613>\u001b[0m in \u001b[0;36m<module>\u001b[1;34m\u001b[0m\n\u001b[0;32m      7\u001b[0m \u001b[1;33m\u001b[0m\u001b[0m\n\u001b[0;32m      8\u001b[0m \u001b[0msuma_dos_numeros\u001b[0m\u001b[1;33m(\u001b[0m\u001b[1;33m)\u001b[0m\u001b[1;33m\u001b[0m\u001b[0m\n\u001b[1;32m----> 9\u001b[1;33m \u001b[0mprint\u001b[0m\u001b[1;33m(\u001b[0m\u001b[0mx\u001b[0m \u001b[1;33m+\u001b[0m \u001b[0my\u001b[0m\u001b[1;33m)\u001b[0m\u001b[1;33m\u001b[0m\u001b[0m\n\u001b[0m",
      "\u001b[1;31mNameError\u001b[0m: name 'y' is not defined"
     ]
    }
   ],
   "source": [
    "a = 2\n",
    "b = 4\n",
    "def suma_dos_numeros():\n",
    "    x = 7\n",
    "    y = 3\n",
    "    print(a + b)\n",
    "\n",
    "suma_dos_numeros()\n",
    "print(x + y)\n"
   ]
  },
  {
   "cell_type": "markdown",
   "metadata": {},
   "source": [
    "2. Write a Python program to convert a tuple of characters into a string.\n",
    "\n",
    "    - Sample tuple: `(\"T\", \"H\", \"E\", \" \", \"B\", \"R\", \"I\", \"D\", \"G\", \"E\")`\n",
    "    - Expected output : `\"THE BRIDGE\"`\n",
    "    \n",
    "Hint: Turn it into a list. "
   ]
  },
  {
   "cell_type": "code",
   "execution_count": null,
   "metadata": {},
   "outputs": [],
   "source": []
  },
  {
   "cell_type": "markdown",
   "metadata": {},
   "source": [
    "3. Write a Python program to generate a list where the values are square of numbers between 1 and 30 (both included), and return a list of first and last 5 elements of the list."
   ]
  },
  {
   "cell_type": "code",
   "execution_count": null,
   "metadata": {},
   "outputs": [],
   "source": []
  },
  {
   "cell_type": "markdown",
   "metadata": {},
   "source": [
    "4. Create a Python program that calculates the factorial of a number.\n",
    "\n",
    "The program will ask the user to enter a number (input) and will return the factorial of that number."
   ]
  },
  {
   "cell_type": "code",
   "execution_count": null,
   "metadata": {},
   "outputs": [],
   "source": []
  },
  {
   "cell_type": "markdown",
   "metadata": {},
   "source": [
    "5. Create a program that calculates the average.\n",
    "\n",
    "The program will ask the user to specify how many numbers you want to enter, and will show a prompt to include number by number to a list, and then calculate the average of each number in that list."
   ]
  },
  {
   "cell_type": "code",
   "execution_count": null,
   "metadata": {},
   "outputs": [],
   "source": []
  },
  {
   "cell_type": "markdown",
   "metadata": {},
   "source": [
    "# If you made it till here you did a fantastic work!"
   ]
  },
  {
   "cell_type": "markdown",
   "metadata": {},
   "source": [
    "![\"holo\"](https://img-9gag-fun.9cache.com/photo/aNg9wMK_460s.jpg)"
   ]
  },
  {
   "cell_type": "code",
   "execution_count": null,
   "metadata": {},
   "outputs": [],
   "source": []
  }
 ],
 "metadata": {
  "kernelspec": {
   "name": "python3",
   "display_name": "Python 3.6.4 64-bit",
   "metadata": {
    "interpreter": {
     "hash": "5c4d2f1fdcd3716c7a5eea90ad07be30193490dd4e63617705244f5fd89ea793"
    }
   }
  },
  "language_info": {
   "codemirror_mode": {
    "name": "ipython",
    "version": 3
   },
   "file_extension": ".py",
   "mimetype": "text/x-python",
   "name": "python",
   "nbconvert_exporter": "python",
   "pygments_lexer": "ipython3",
   "version": "3.6.4-final"
  }
 },
 "nbformat": 4,
 "nbformat_minor": 4
}