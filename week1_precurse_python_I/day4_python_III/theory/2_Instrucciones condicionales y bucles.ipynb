{
 "cells": [
  {
   "cell_type": "markdown",
   "metadata": {},
   "source": [
    "# Instrucciones condicionales y bucles\n",
    "**Autor**: Fermín Cruz.   **Revisores**: Carlos G. Vallejo, Mariano González, Luisa Romero.  **Última modificación:** 31 de octubre de 2018"
   ]
  },
  {
   "cell_type": "markdown",
   "metadata": {},
   "source": [
    "## Índice de contenidos\n",
    "* [1. El flujo de ejecución](#sec_flujo)\n",
    "* [2. La instrucción if](#sec_if)\n",
    "* [3. Bucles](#sec_bucles)\n",
    " * [3.1. La instrucción while](#sec_while)\n",
    " * [3.2. La instrucción for](#sec_for)\n",
    "   * [3.2.1. Rangos](#sec_range)\n",
    "   * [3.2.2. Recorridos avanzados](#sec_zip)\n",
    " * [3.3. La instrucción break](#sec_break)"
   ]
  },
  {
   "cell_type": "markdown",
   "metadata": {},
   "source": [
    "## 1. El flujo de ejecución <a name=\"sec_flujo\"/>"
   ]
  },
  {
   "cell_type": "markdown",
   "metadata": {},
   "source": [
    "Llamamos **flujo de ejecución** al orden en que se van ejecutando las instrucciones de un programa. Ya sabemos que en un programa en Python las distintas instrucciones se van ejecutando en orden secuencial, empezando por la primera. En concreto, si se trata de un programa ejecutable, el programa empieza a ejecutarse en la primera línea que no esté indentada de nuestro programa. Por ejemplo, mira cómo se ejecuta el siguiente programa:"
   ]
  },
  {
   "cell_type": "code",
   "execution_count": null,
   "metadata": {},
   "outputs": [],
   "source": [
    "print(\"==== Cálculo de una potencia =====\")\n",
    "print(\"Introduzca un número entero (base):\")\n",
    "base = int(input())   # La función predefinida input permite leer texto desde el teclado\n",
    "\n",
    "print(\"Introduzca un número entero (exponente):\")\n",
    "exponente = int(input())\n",
    "\n",
    "print(\"El resultado de\", base, \"elevado a\", exponente, \"es\", base**exponente)"
   ]
  },
  {
   "cell_type": "markdown",
   "metadata": {},
   "source": [
    "El flujo de ejecución es el siguiente: primero se ejecuta la primera instrucción del programa, a continuación la segunda, y así sucesivamente hasta llegar al final del programa. En realidad, el flujo de ejecución es un poco más enrevesado de lo que parece a primera vista, porque cuando en una instrucción aparece una llamada a una función, el flujo de ejecución \"salta\" hacia la primera de las instrucciones contenidas en la definición de dicha función. Así, por ejemplo, cuando se invoca a la función `print`, el flujo de ejecución salta hasta la primera de las instrucciones de la definición de la función `print`. No sabemos qué instrucción es esa, porque se trata de una función predefinida. \n",
    "\n",
    "Veamos un segundo ejemplo en el que aparezca una función definida por nosotros:"
   ]
  },
  {
   "cell_type": "code",
   "execution_count": null,
   "metadata": {},
   "outputs": [],
   "source": [
    "def lectura_datos():\n",
    "    print(\"Introduzca un número entero (base):\")\n",
    "    base = int(input())   # La función predefinida input permite leer texto desde el teclado\n",
    "\n",
    "    print(\"Introduzca un número entero (exponente):\")\n",
    "    exponente = int(input())\n",
    "\n",
    "    return base, exponente\n",
    "\n",
    "print(\"==== Cálculo de una potencia =====\")\n",
    "base, exponente = lectura_datos()\n",
    "\n",
    "print(\"El resultado de\", base, \"elevado a\", exponente, \"es\", base**exponente)"
   ]
  },
  {
   "cell_type": "markdown",
   "metadata": {},
   "source": [
    "Observa que el flujo de ejecución es el siguiente:\n",
    "* Primero se ejecuta la primera de las instrucciones no indentadas:  `print(\"==== Cálculo de una potencia =====\")`\n",
    "* Después se ejecuta la segunda instrucción, que incluye una llamada a la función `lectura_datos`. Como consecuencia de dicha llamada, la ejecución de la instrucción queda en suspenso, y el flujo de ejecución pasa al cuerpo de la función.\n",
    "* Se ejecutan secuencialmente todas las instrucciones del cuerpo de `lectura_datos`, hasta ejecutarse la instrucción `return base, exponente`. En ese momento, el flujo de ejecución pasa a la instrucción que contenía la llamada a la función y que había quedado en suspenso: `base, exponente = lectura_datos()`.\n",
    "* Se termina de ejecutar dicha instrucción (se realiza la asignación a las variables `base` y `exponente`).\n",
    "* Se ejecuta la siguiente y última instrucción.\n",
    "\n",
    "Este es el camino que sigue la ejecución de los programas, en general. Pero la cosa se puede complicar un poco más cuando aparecen en escena las **instrucciones de control del flujo de ejecución**: instrucciones que permiten que una parte del programa se ejecute o no en función de una determinada condición (instrucciones **selectivas** o **condicionales**), o que un bloque de instrucciones se ejecute de manera repetida (instrucciones **repetitivas** o **iterativas**)."
   ]
  },
  {
   "cell_type": "markdown",
   "metadata": {},
   "source": [
    "## 2. La instrucción if <a name=\"sec_if\"/>"
   ]
  },
  {
   "cell_type": "markdown",
   "metadata": {},
   "source": [
    "La instrucción **if** es una **instrucción de control de flujo selectiva** o **condicional**. Esto significa que permite que el flujo de ejecución de un programa siga un camino u otro dentro del código de un programa. \n",
    "\n",
    "Veamos un primer ejemplo:"
   ]
  },
  {
   "cell_type": "code",
   "execution_count": null,
   "metadata": {},
   "outputs": [],
   "source": [
    "import math\n",
    "\n",
    "def calcula_raices(a, b, c):\n",
    "    '''\n",
    "    Devuelve las raíces (soluciones) de la ecuación ax^2 + bx + c = 0:\n",
    "    \n",
    "    - Si a es distinto de 0 y b^2 es mayor o igual que 4ac, la solución se calcula \n",
    "    mediante la fórmula (-b ± raíz_cuadrada(b^2 - 4ac)) / (2a).\n",
    "    \n",
    "    - Si a es distinto de 0 pero b^2 es menor que 4ac, no hay soluciones reales.\n",
    "    \n",
    "    - Si a es cero y b es distinto de 0, la solución se calcula mediante la fórmula -c / b.\n",
    "    \n",
    "    - Si a y b son cero, no hay soluciones.\n",
    "    '''    \n",
    "    \n",
    "    if a != 0 and b * b >= 4 * a * c:\n",
    "        aux = math.sqrt(b * b - 4 * a * c)\n",
    "        return ((-b + aux) / (2 * a), (-b - aux) / (2 * a))\n",
    "    elif a != 0:\n",
    "        return ()\n",
    "    elif b != 0:\n",
    "        # Hay que incluir una coma al final para que Python entienda que queremos \n",
    "        # devolver una tupla de un sólo elemento\n",
    "        return (-c / b,) \n",
    "    else:\n",
    "        return ()\n",
    "\n",
    "    \n",
    "print(\"=== Cálculo de las raíces de una ecuación cuadrática (ax^2 + bx + c = 0)  ===\")\n",
    "print(\"Introduzca un valor para el coeficiente a:\")\n",
    "a = float(input())\n",
    "print(\"Introduzca un valor para el coeficiente b:\")\n",
    "b = float(input())\n",
    "print(\"Introduzca un valor para el coeficiente c:\")\n",
    "c = float(input())\n",
    "\n",
    "soluciones = calcula_raices(a,b,c)\n",
    "print(\"Hay\", len(soluciones), \"solucion(es):\", soluciones)"
   ]
  },
  {
   "cell_type": "markdown",
   "metadata": {},
   "source": [
    "En el cuerpo de la función `calcula_raices` se ha empleado una instrucción `if` que permite que se ejecuten unas instrucciones u otras concretas en función de distintas **condiciones**. Las condiciones son cada una de las **expresiones lógicas** que aparecen a la derecha de las palabras reservadas **if** y **elif**, y antes de los dos puntos. Recuerda que una expresión lógica no es más que una expresión (formada por literales, variables, operadores, llamadas a funciones... consulta el notebook de teoría \"Expresiones y tipos predefinidos\" para más detalles) que devuelve un valor de tipo lógico; es decir, `True` (verdadero) o `False` (falso).\n",
    "\n",
    "El flujo de ejecución cuando se ejecuta una instrucción `if` es el siguiente:\n",
    "1. Se evalúa la condición que acompaña al `if`. **Si el resultado es `True`**, se ejecutan las instrucciones que aparecen indentadas debajo del `if`. El resto de instrucciones que aparecen indentadas bajo `elif` y `else` no se ejecutarían. En el ejemplo, se ejecutarían las instrucciones `aux = math.sqrt(b * b - 4 * a * c)` y `return ((-b + aux) / 2 * a, (-b - aux) / 2 * a)`.\n",
    "  \n",
    "1. **Si el resultado de la condición anterior es `False`**, se evalúa la condición que acompaña al primer `elif`. **Si el resultado es `True`**, se ejecutan las instrucciones que aparecen indentadas debajo de dicho `elif`. El resto de instrucciones que aparecen indentadas bajo el segundo `elif` y `else` no se ejecutarían. En el ejemplo, se ejecutaría la instrucción `return ()`.\n",
    "  \n",
    "1. **Si el resultado de la condición anterior es de nuevo `False`**, se evalúa la condición que acompaña al segundo `elif`. **Si el resultado es `True`**, se ejecutan las instrucciones que aparecen indentadas debajo de dicho `elif`. El resto de instrucciones que aparecen indentadas bajo el `else` no se ejecutarían. En el ejemplo, se ejecutaría la instrucción `return (-c / b,)`.\n",
    "  \n",
    "1. **Si el resultado de la condición anterior también es `False`**, se ejecutan las instrucciones que aparecen indentadas debajo del `else`. En el ejemplo, se ejecutaría la instrucción `return ()`. Al ejecutarse la instrucción `return`, la función `calcula_raices` acaba su ejecución.\n",
    "\n",
    "Realmente, la semántica de la instrucción `if` (es decir, qué significa y cómo se ejecuta) es bastante intuitiva, si leemos las palabras reservadas de esta forma (traduciendo del inglés):\n",
    "* `if` significa *si...*\n",
    "* `elif` es una abreviatura de *else if*, que significa *en otro caso, si...*\n",
    "* `else` significa *en otro caso, ...*\n",
    "\n",
    "Así que podríamos leer el ejemplo anterior de la siguiente manera:\n",
    "* Si `a` es distinto de 0 y `b * b` es mayor o igual que `4 * a * c`, ejecuta las instrucciones siguientes: \n",
    "```python \n",
    "aux = math.sqrt(b * b - 4 * a * c)\n",
    "return ((-b + aux) / 2 * a, (-b - aux) / 2 * a)\n",
    "```\n",
    "* En otro caso, si `a` es distinto de cero, ejecuta la siguiente instrucción:\n",
    "```python \n",
    "return (-c/b,)\n",
    "```\n",
    "* En otro caso, ejecuta la siguiente instrucción:\n",
    "```python \n",
    "return ()\n",
    "```\n",
    "\n",
    "En la función usada como ejemplo, aparecen cuatro instrucciones `return`. Cuando una de estas instrucciones llega a ejecutarse, la ejecución de la función acaba. Aunque no hay ningún problema en usar varios `return` cuando una función es legible y clara, hay programadores que prefieren utilizar la instrucción `return` una única vez, al final del cuerpo de la función. Esto se puede hacer si utilizamos una variable para almacenar el resultado que queremos devolver. \n",
    "\n",
    "Veamos cómo quedaría la función anterior haciendo este cambio:"
   ]
  },
  {
   "cell_type": "code",
   "execution_count": null,
   "metadata": {},
   "outputs": [],
   "source": [
    "def calcula_raices(a, b, c):\n",
    "    '''\n",
    "    Devuelve las raíces (soluciones) de la ecuación ax^2 + bx + c = 0:\n",
    "    \n",
    "    - Si a es distinto de 0 y b^2 es mayor o igual que 4ac, la solución se calcula \n",
    "    mediante la fórmula (-b ± raíz_cuadrada(b^2 - 4ac)) / (2a).\n",
    "    \n",
    "    - Si a es distinto de 0 pero b^2 es menor que 4ac, no hay soluciones.\n",
    "    \n",
    "    - Si a es cero y b es distinto de 0, la solución se calcula mediante la fórmula -c/b.\n",
    "    \n",
    "    - Si b es cero, no hay soluciones.\n",
    "    '''    \n",
    "    resultado = ()\n",
    "    if a != 0 and b * b >= 4 * a * c:\n",
    "        aux = math.sqrt(b * b - 4 * a * c)\n",
    "        resultado = ((-b + aux) / (2 * a), (-b - aux) / (2 * a))\n",
    "    elif a==0 and b != 0:\n",
    "        # Hay que incluir una coma al final para que Python entienda que queremos \n",
    "        # devolver una tupla de un sólo elemento\n",
    "        resultado = (-c / b,)\n",
    "    \n",
    "    return resultado"
   ]
  },
  {
   "cell_type": "markdown",
   "metadata": {},
   "source": [
    "Dado que al declarar la variable `resultado` hemos tenido que darle un valor inicial, se ha optado por el valor *tupla vacía*, que es precisamente uno de los resultados posibles. Por esta razón, hemos podido saltarnos algunos trozos del `if` original, en concreto aquellos en los que el resultado era la tupla vacía. \n",
    "\n",
    "En este último ejemplo observamos que no es obligatorio que una instrucción `if` contenga un bloque `else`. Si ninguna de las condiciones incluidas en los bloques `if` y `elif` se evalúan como `True`, simplemente no se ejecuta ninguno de los bloques de código asociados, y la función sigue ejecutándose en la instrucción siguiente (en este caso, `return resultado`).\n",
    "\n",
    "Tampoco es obligatorio que aparezcan bloques `elif`, así que lo único estrictamente necesario para escribir una instrucción `if` es la condición que la acompaña y el bloque de instrucciones correspondiente.\n",
    "\n",
    "### ¡Prueba tú!\n"
   ]
  },
  {
   "cell_type": "code",
   "execution_count": null,
   "metadata": {},
   "outputs": [],
   "source": [
    "# Haz las modificaciones necesarias en el siguiente código para que\n",
    "# el mensaje que se muestra indicando las soluciones sea dependiente\n",
    "# del número de soluciones encontradas. Por ejemplo:\n",
    "#    Hay 2 soluciones: ...\n",
    "#    Hay una solución: ...\n",
    "#    No hay soluciones\n",
    "\n",
    "print(\"=== Cálculo de las raíces de una ecuación cuadrática (ax^2 + bx + c = 0)  ===\")\n",
    "print(\"Introduzca un valor para el coeficiente a:\")\n",
    "a = float(input())\n",
    "print(\"Introduzca un valor para el coeficiente b:\")\n",
    "b = float(input())\n",
    "print(\"Introduzca un valor para el coeficiente c:\")\n",
    "c = float(input())\n",
    "\n",
    "soluciones = calcula_raices(a, b, c)\n",
    "print(\"Hay\", len(soluciones), \"solucion(es):\", soluciones)"
   ]
  },
  {
   "cell_type": "markdown",
   "metadata": {},
   "source": [
    "## 3. Bucles <a name=\"sec_bucles\"/>"
   ]
  },
  {
   "cell_type": "markdown",
   "metadata": {},
   "source": [
    "Las **instrucciones de control de flujo repetitivas** o **iterativas** permiten que un bloque de instrucciones se ejecuten un número determinado de veces (incluyendo la posibilidad de que se ejecute una única vez o ninguna). No siempre sabremos de antemano cuántas veces se va a ejecutar el bloque de instrucciones, pues esto puede depender del estado actual de ejecución del programa (es decir, del valor concreto de determinadas variables).\n",
    "\n",
    "En Python tenemos dos instrucciones de este tipo: la instrucción **while** y la instrucción **for**.\n"
   ]
  },
  {
   "cell_type": "markdown",
   "metadata": {},
   "source": [
    "## 3.1. Instrucción while <a name=\"sec_while\"/>"
   ]
  },
  {
   "cell_type": "markdown",
   "metadata": {},
   "source": [
    "La instrucción `while` va seguida de una condición (es decir, una expresión lógica, como en la instrucción `if`). A continuación de la condición aparecen dos puntos, y después un bloque de instrucciones, debidamente indentadas. Las instrucciones de dicho bloque se ejecutarán una y otra vez, mientras la condición sea cierta.\n",
    "\n",
    "Mira el siguiente ejemplo:"
   ]
  },
  {
   "cell_type": "code",
   "execution_count": null,
   "metadata": {},
   "outputs": [],
   "source": [
    "# BOT Coacher v1.0\n",
    "\n",
    "print(\"Del 1 al 5, ¿cómo te encuentras hoy?: \")\n",
    "bienestar = float(input())\n",
    "\n",
    "while bienestar < 1 or bienestar > 5:\n",
    "    print(\"Por favor, introduce un valor del 1 al 5:\")\n",
    "    bienestar = float(input())\n",
    "\n",
    "if bienestar < 3: # 1 ó 2\n",
    "    print(\"¡Ánimo! Verás como el día mejora.\")\n",
    "elif bienestar < 5: # 3 ó 4\n",
    "    print(\"No está mal, ¡hoy será un gran día!\")\n",
    "else: # 5\n",
    "    print(\"¡Me alegro de que te sientas bien!\")"
   ]
  },
  {
   "cell_type": "markdown",
   "metadata": {},
   "source": [
    "Cuando usamos la instrucción `while` hay que tener especial cuidado en no ocasionar un **bucle infinito**. Esto ocurre cuando la condición es siempre `True`, de manera que el bucle no acabaría nunca, y por tanto el programa tampoco. Algo que se debe cumplir para evitarlo es que haya alguna instrucción dentro del bucle while en la que cambie el valor de alguna de las variables que participan en la condición. Si esto no es así, y la primera vez se evalúa la condición como `True`, entraríamos en un bucle infinito."
   ]
  },
  {
   "cell_type": "markdown",
   "metadata": {},
   "source": [
    "### ¡Prueba tú!\n",
    "\n",
    "Este código ocasiona un bucle infinito; si lo ejecutas observarás que aparece el texto `In[*]` a la izquierda de la caja de código, lo que indica que la ejecución está en marcha. Puedes detener la ejecución con el botón cuadrado de la barra de herramientas del notebook. ¿Eres capaz de encontrar el error y solucionarlo?"
   ]
  },
  {
   "cell_type": "code",
   "execution_count": null,
   "metadata": {},
   "outputs": [],
   "source": [
    "def extrae_factor(numero, factor):\n",
    "    '''\n",
    "    Recibe un número y un factor y busca una descomposición del número \n",
    "    de la forma: numero = numero_sin_factor * factor^exponente.\n",
    "    \n",
    "    Por ejemplo, si número es 28 y factor es 2, la descomposición buscada\n",
    "    es 28 = 7 * 2^2.\n",
    "    \n",
    "    La función devuelve el número sin factor y el exponente del factor.\n",
    "    En el ejemplo anterior, devolvería 7 y 2.\n",
    "    '''\n",
    "    exponente = 0\n",
    "    while numero % factor == 0:\n",
    "        exponente += 1\n",
    "\n",
    "    return (numero, exponente)\n",
    "\n",
    "print(\" === Probando la extracción de factores ===\")\n",
    "print(\"Introduzca un número entero:\")\n",
    "numero = int(input())\n",
    "print(\"Introduzca el factor que quiere extraer:\")\n",
    "factor = int(input())\n",
    "numero_sin_factor, exponente = extrae_factor(numero, factor)\n",
    "\n",
    "print(\"El número\", numero, \"es igual a\", numero_sin_factor, \"multiplicado por\", factor, \"elevado a\", exponente)\n"
   ]
  },
  {
   "cell_type": "markdown",
   "metadata": {},
   "source": [
    "## 3.2. La instrucción for <a name=\"sec_for\"/>"
   ]
  },
  {
   "cell_type": "markdown",
   "metadata": {},
   "source": [
    "La instrucción `for` permite recorrer los elementos de algún tipo contenedor, ejecutando un bloque de instrucciones una vez por cada uno de estos elementos. Observa el siguiente ejemplo:"
   ]
  },
  {
   "cell_type": "code",
   "execution_count": null,
   "metadata": {},
   "outputs": [],
   "source": [
    "def muestra_todos(contenedor):\n",
    "    for elemento in contenedor:\n",
    "        print(elemento)\n",
    "\n",
    "print(\"=== Probando función muestra_todos con una lista ===\")\n",
    "muestra_todos([\"Tomate\", \"Cebolla\", \"Pimiento\", \"Pepino\", \"Ajo\", \"Aceite\", \"Vinagre\"])"
   ]
  },
  {
   "cell_type": "markdown",
   "metadata": {
    "collapsed": true
   },
   "source": [
    "Como observas en el ejemplo, la sintaxis de la instrucción `for` consiste en:\n",
    "\n",
    "```python\n",
    "for elemento in contenedor:\n",
    "    bloque de instrucciones\n",
    "```\n",
    "donde `contenedor` es alguna expresión cuyo resultado sea de tipo contenedor (una lista, una tupla, un conjunto o un diccionario, entre otros), y `elemento` es una variable donde se almacenará un elemento distinto del contenedor en cada vuelta del bucle (ten en cuenta que la variable `elemento` puede tener el nombre que quiera el programador). En realidad, no siempre hay que utilizar un contenedor, sino más bien una **secuencia**. Aunque este es un concepto en el que no vamos a profundizar en la asignatura, diremos que una secuencia es un concepto más general que el contenedor, de manera que todos los contenedores estudiados hasta ahora son también secuencias.\n",
    "\n",
    "Observa en los siguientes ejemplos cómo se recorren los elementos de distintos tipos de contenedores, incluyendo una cadena de texto (la cual puede ser vista también como un contenedor de caracteres):"
   ]
  },
  {
   "cell_type": "code",
   "execution_count": null,
   "metadata": {},
   "outputs": [],
   "source": [
    "print(\"=== Probando función muestra_todos con una tupla ===\")\n",
    "muestra_todos((\"Tomate\", \"Cebolla\", \"Pimiento\", \"Pepino\", \"Ajo\", \"Aceite\", \"Vinagre\"))"
   ]
  },
  {
   "cell_type": "code",
   "execution_count": null,
   "metadata": {},
   "outputs": [],
   "source": [
    "print(\"=== Probando función muestra_todos con un conjunto ===\")\n",
    "muestra_todos({\"Tomate\", \"Cebolla\", \"Pimiento\", \"Pepino\", \"Ajo\", \"Aceite\", \"Vinagre\"})"
   ]
  },
  {
   "cell_type": "code",
   "execution_count": null,
   "metadata": {},
   "outputs": [],
   "source": [
    "print(\"=== Probando función muestra_todos con un diccionario ===\")\n",
    "muestra_todos({\"Tomate\": 1000, \"Cebolla\": 50, \"Pimiento\": 50, \"Pepino\": 100, \"Ajo\": 15, \"Aceite\": 100, \"Vinagre\": 20})"
   ]
  },
  {
   "cell_type": "code",
   "execution_count": null,
   "metadata": {},
   "outputs": [],
   "source": [
    "print(\"=== Probando función muestra_todos con una cadena ===\")\n",
    "muestra_todos(\"Ingredientes: Tomate, ...\")"
   ]
  },
  {
   "cell_type": "markdown",
   "metadata": {},
   "source": [
    "Resumiendo lo que se observa:\n",
    "* Las listas y tuplas se recorren en el orden en que están posicionados los elementos.\n",
    "* Los conjuntos se recorren en un orden arbitrario (recuerda que los elementos no tienen una posición determinada en los conjuntos).\n",
    "* Al recorrer los diccionarios se obtienen únicamente las claves, en el orden en que fueron introducidas en el diccionario.\n",
    "* Al recorrer una cadena, se obtienen los caracteres, en el mismo orden en que aparecen dentro de la misma."
   ]
  },
  {
   "cell_type": "markdown",
   "metadata": {},
   "source": [
    "### 3.2.1. Rangos <a name=\"sec_range\"/>"
   ]
  },
  {
   "cell_type": "markdown",
   "metadata": {},
   "source": [
    "La instrucción `for` se puede utilizar también para repetir un bloque de instrucciones un número determinado de veces, sin estar sujeto a los elementos de un contenedor. En dichas ocasiones, nos será de utilidad la función predefinida **range**. Esta función devuelve una secuencia formada por números enteros. Una secuencia significa que podemos \"recorrer\" sus elementos mediante un bucle. Por ejemplo:"
   ]
  },
  {
   "cell_type": "code",
   "execution_count": null,
   "metadata": {},
   "outputs": [],
   "source": [
    "for i in range(5):\n",
    "    print(i)\n",
    "    "
   ]
  },
  {
   "cell_type": "markdown",
   "metadata": {},
   "source": [
    "Observa que \"parece\" que `range(5)` devuelve una lista con cinco números: `[0, 1, 2, 3, 4]`. En realidad, los números de la secuencia no están en ninguna lista ni ningún otro contenedor en la memoria, sino que se van \"generando\" a medida que va haciendo falta. Es por eso que si ejecutamos lo siguiente:"
   ]
  },
  {
   "cell_type": "code",
   "execution_count": null,
   "metadata": {},
   "outputs": [],
   "source": [
    "range(5)"
   ]
  },
  {
   "cell_type": "markdown",
   "metadata": {},
   "source": [
    "No obtenemos ninguna lista con los elementos correspondientes, sino más bien una representación que nos indica que la secuencia  va de 0 a 4 (observa que el último número que aparece no se incluye en la secuencia).\n",
    "\n",
    "Si quieres observar los números que contiene la secuencia generada por `range`, puedes recorrer sus elementos con un `for`, como en el ejemplo anterior. O también puedes construir una lista a partir de la secuencia, de esta forma:"
   ]
  },
  {
   "cell_type": "code",
   "execution_count": null,
   "metadata": {},
   "outputs": [],
   "source": [
    "list(range(5))"
   ]
  },
  {
   "cell_type": "markdown",
   "metadata": {},
   "source": [
    "Ahora que sabemos visualizar el contenido de los rangos, veamos otras formas de utilizar `range`, pasándole dos o tres parámetros. Los ejemplos son autoexplicativos, ¿sabrías explicar para qué sirve cada parámetro?"
   ]
  },
  {
   "cell_type": "code",
   "execution_count": null,
   "metadata": {},
   "outputs": [],
   "source": [
    "list(range(5, 10))"
   ]
  },
  {
   "cell_type": "code",
   "execution_count": null,
   "metadata": {},
   "outputs": [],
   "source": [
    "list(range(5, 10, 2))"
   ]
  },
  {
   "cell_type": "code",
   "execution_count": null,
   "metadata": {},
   "outputs": [],
   "source": [
    "list(range(10, 5, -1))"
   ]
  },
  {
   "cell_type": "markdown",
   "metadata": {},
   "source": [
    "### ¡Prueba tú!\n"
   ]
  },
  {
   "cell_type": "code",
   "execution_count": null,
   "metadata": {},
   "outputs": [],
   "source": [
    "# Implementa la siguiente función\n",
    "def suma_naturales_hasta(n):\n",
    "    ''' Devuelve la suma de números naturales desde 1 hasta n '''\n",
    "    pass   # Borra esta instrucción cuando implementes la función\n",
    "\n",
    "print(\"=== Probando la función suma_naturales_hasta ===\")\n",
    "print(\"Introduce un número entero:\")\n",
    "numero = int(input())\n",
    "print(\"La suma hasta\", numero, \"es\", suma_naturales_hasta(numero))"
   ]
  },
  {
   "cell_type": "markdown",
   "metadata": {},
   "source": [
    "### 3.2.2. Recorridos avanzados <a name=\"sec_zip\"/>"
   ]
  },
  {
   "cell_type": "markdown",
   "metadata": {},
   "source": [
    "En Python existen otras funciones predefinidas aparte de `range` que permiten realizar bucles adaptados a distintas necesidades. Vamos a estudiar un par de estas funciones: `zip` y `enumerate`.\n",
    "\n",
    "La función `zip` nos permite recorrer varias secuencias al mismo tiempo, de manera que en cada paso del bucle obtenemos una tupla formada por un elemento de cada una de las secuencias. Ejecuta estos dos ejemplos y lo comprenderás:"
   ]
  },
  {
   "cell_type": "code",
   "execution_count": null,
   "metadata": {},
   "outputs": [],
   "source": [
    " # Llamamos a zip pasándole dos listas\n",
    "list(zip([1, 2, 3], [4, 5, 6]))  # Al igual que con range, creamos una lista para poder visualizar el contenido de la secuencia"
   ]
  },
  {
   "cell_type": "code",
   "execution_count": null,
   "metadata": {},
   "outputs": [],
   "source": [
    " # Llamamos a zip pasándole tres listas\n",
    "list(zip([1, 2, 3], [4, 5, 6], [7, 8, 9]))  # Al igual que con range, creamos una lista para poder visualizar el contenido de la secuencia"
   ]
  },
  {
   "cell_type": "code",
   "execution_count": null,
   "metadata": {},
   "outputs": [],
   "source": [
    "# También podemos emplear contenedores o secuencias de distintos tipos\n",
    "list(zip(\"Hola\", [1, 2, 3, 4]))"
   ]
  },
  {
   "cell_type": "markdown",
   "metadata": {},
   "source": [
    "La palabra *zip* significa *cremallera*. Es un nombre bastante ilustrativo, ¿no crees?\n",
    "\n",
    "Veamos un ejemplo en el que se usa `zip` para recorrer dos listas \"en cremallera\":"
   ]
  },
  {
   "cell_type": "code",
   "execution_count": null,
   "metadata": {},
   "outputs": [],
   "source": [
    "def suma_listas(lista1, lista2):\n",
    "    '''\n",
    "    Devuelve una lista en la que cada elemento es la suma de los elementos\n",
    "    en la misma posición de las listas recibidas como parámetros.\n",
    "    '''\n",
    "    suma = []\n",
    "    for elemento1, elemento2 in zip(lista1, lista2):\n",
    "        suma.append(elemento1 + elemento2)\n",
    "    return suma\n",
    "\n",
    "\n",
    "print(\"=== Probando función suma_listas ===\")\n",
    "lista1 = [1, 2, 3, 4, 5]\n",
    "lista2 = [6, 7, 8, 9, 10]\n",
    "print(suma_listas(lista1, lista2))"
   ]
  },
  {
   "cell_type": "markdown",
   "metadata": {},
   "source": [
    "---\n",
    "\n",
    "Algunas veces, necesitaremos recorrer los elementos de una lista u otro tipo de contenedor, y al mismo tiempo conocer cuál es la posición del elemento que estamos recorriendo. En estos casos, podemos utilizar la función predefinida **enumerate**, la cual recibe como parámetro una secuencia y devuelve una secuencia de tuplas formadas por un número entero y un elemento de la secuencia recibida. \n",
    "\n",
    "Como esto parece un trabalenguas, mejor ejecuta el siguiente ejemplo:"
   ]
  },
  {
   "cell_type": "code",
   "execution_count": null,
   "metadata": {},
   "outputs": [],
   "source": [
    "list(enumerate([\"Tomate\", \"Cebolla\", \"Pimiento\", \"Pepino\", \"Ajo\", \"Aceite\", \"Vinagre\"]))"
   ]
  },
  {
   "cell_type": "markdown",
   "metadata": {},
   "source": [
    "¿Y para qué puede servir esto? Pues, como hemos dicho antes, para recorrer los elementos de una secuencia y *al mismo tiempo saber* cuál es la posición del elemento actual:"
   ]
  },
  {
   "cell_type": "code",
   "execution_count": null,
   "metadata": {},
   "outputs": [],
   "source": [
    "for i, caracter in enumerate(\"Hola, ¿qué tal?\"):\n",
    "    print(\"El carácter en posición\", i, \"es\", caracter)"
   ]
  },
  {
   "cell_type": "markdown",
   "metadata": {},
   "source": [
    "Acabamos viendo un ejemplo de algoritmo en el que se puede utilizar `enumerate`:"
   ]
  },
  {
   "cell_type": "code",
   "execution_count": null,
   "metadata": {},
   "outputs": [],
   "source": [
    "# Suma los primeros n elementos de una secuencia\n",
    "def suma_primeros(secuencia, n):\n",
    "    '''\n",
    "    Devuelve la suma de los primeros n elementos de una secuencia. \n",
    "    Si n es mayor que el número de elementos de la secuencia, se calcula\n",
    "    la suma de la secuencia completa.\n",
    "    '''\n",
    "    # Este if se podría sustituir por:   n = max(n, len(secuencia))\n",
    "    if n > len(secuencia):\n",
    "        n = len(secuencia)\n",
    "    \n",
    "    suma = 0\n",
    "    for i, elemento in enumerate(secuencia):\n",
    "        if i < n:\n",
    "            suma += elemento\n",
    "            \n",
    "    return suma\n",
    "\n",
    "print(\"=== Prueba de la función suma_primeros ===\")\n",
    "numeros = [8, 1, 4, 12, 5, 2, -1, 53, 1, 32, 22, -19, -33]\n",
    "print(\"¿Cuántos elementos quieres sumar?\")\n",
    "n = int(input())\n",
    "print(\"Suma:\", suma_primeros(numeros, n))"
   ]
  },
  {
   "cell_type": "markdown",
   "metadata": {},
   "source": [
    "### ¡Prueba tú!\n",
    "\n",
    "Sustituye la lista `numeros` del código anterior por esta lista de cadenas de caracteres:\n",
    "```python\n",
    "[\"Tomate\", \"Cebolla\", \"Pimiento\", \"Pepino\", \"Ajo\", \"Aceite\", \"Vinagre\"]\n",
    "```\n",
    "y observa lo que ocurre.\n",
    "\n",
    "Prueba también a pasarle a `suma_primeros` una secuencia generada con `range`."
   ]
  },
  {
   "cell_type": "markdown",
   "metadata": {},
   "source": [
    "## 3.3. La instrucción break <a name=\"sec_break\"/>"
   ]
  },
  {
   "cell_type": "markdown",
   "metadata": {},
   "source": [
    "La ejecución de la función `suma_primeros` puede ser ineficiente en algunas circunstancias. Observa lo que ocurre al ejecutar la siguiente prueba:"
   ]
  },
  {
   "cell_type": "code",
   "execution_count": null,
   "metadata": {},
   "outputs": [],
   "source": [
    "print(\"Suma de los primeros 10 números de una secuencia de mil millones de elementos:\", suma_primeros(range(1000000000), 10))"
   ]
  },
  {
   "cell_type": "markdown",
   "metadata": {},
   "source": [
    "¿Aparece un \\* a la izquierda de la caja de código anterior? Eso significa que la ejecución aún continúa. **¿Por qué está tardando tanto?**\n",
    "\n",
    "El problema es que el bucle que hemos escrito en `suma_primeros` ejecuta el bloque de instrucciones una vez por cada elemento de la secuencia recibida. Esta secuencia tiene un número muy alto de elementos, lo que ocasiona que, a pesar de la velocidad de ejecución de los microprocesadores actuales, la ejecución se eterniza. **¿Realmente es necesario recorrer todos los elementos de la secuencia, cuando sólo quiero sumar los primeros 10 elementos?**\n",
    "\n",
    "Observa la siguiente modificación de la definición de la función:"
   ]
  },
  {
   "cell_type": "code",
   "execution_count": null,
   "metadata": {},
   "outputs": [],
   "source": [
    "# Suma los primeros n elementos de una secuencia\n",
    "def suma_primeros(secuencia, n):\n",
    "    '''\n",
    "    Devuelve la suma de los primeros n elementos de una secuencia. \n",
    "    Si n es mayor que el número de elementos de la secuencia, se calcula\n",
    "    la suma de la secuencia completa.\n",
    "    '''\n",
    "    # Este if se podría sustituir por:   n = max(n, len(secuencia))\n",
    "    if n > len(secuencia):\n",
    "        n = len(secuencia)\n",
    "    \n",
    "    suma = 0\n",
    "    for i, elemento in enumerate(secuencia):\n",
    "        if i < n:\n",
    "            suma += elemento\n",
    "        else:\n",
    "            break\n",
    "            \n",
    "    return suma"
   ]
  },
  {
   "cell_type": "markdown",
   "metadata": {},
   "source": [
    "Si ejecutas la definición anterior, y ahora vuelves a ejecutar la instrucción que suma los primeros 10 números de la secuencia de millones de elementos, verás que la ejecución es instantánea. \n",
    "\n",
    "La instrucción **break**, escrita dentro del bloque de instrucciones de un bucle, ocasiona que el bucle termine su ejecución. Como has podido ver en el ejemplo, utilizándola en el sitio adecuado podemos aumentar sensiblemente la eficiencia de nuestros algoritmos."
   ]
  }
 ],
 "metadata": {
  "kernelspec": {
   "display_name": "Python 3",
   "language": "python",
   "name": "python3"
  },
  "language_info": {
   "codemirror_mode": {
    "name": "ipython",
    "version": 3
   },
   "file_extension": ".py",
   "mimetype": "text/x-python",
   "name": "python",
   "nbconvert_exporter": "python",
   "pygments_lexer": "ipython3",
   "version": "3.6.4"
  }
 },
 "nbformat": 4,
 "nbformat_minor": 2
}