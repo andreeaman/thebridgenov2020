{
 "metadata": {
  "language_info": {
   "codemirror_mode": {
    "name": "ipython",
    "version": 3
   },
   "file_extension": ".py",
   "mimetype": "text/x-python",
   "name": "python",
   "nbconvert_exporter": "python",
   "pygments_lexer": "ipython3",
   "version": "3.6.4-final"
  },
  "orig_nbformat": 2,
  "kernelspec": {
   "name": "python36464bitc2077ed07ea84d23aa5b518d224882ab",
   "display_name": "Python 3.6.4 64-bit"
  }
 },
 "nbformat": 4,
 "nbformat_minor": 2,
 "cells": [
  {
   "cell_type": "code",
   "execution_count": 3,
   "metadata": {},
   "outputs": [
    {
     "output_type": "stream",
     "name": "stdout",
     "text": [
      "Soy f1() de 'a.py'\n"
     ]
    }
   ],
   "source": [
    "import a\n",
    "\n",
    "a.f1()"
   ]
  },
  {
   "cell_type": "code",
   "execution_count": 2,
   "metadata": {},
   "outputs": [
    {
     "output_type": "stream",
     "name": "stdout",
     "text": [
      "Soy f2 de 'a.py'\n"
     ]
    }
   ],
   "source": [
    "a.f2()"
   ]
  },
  {
   "cell_type": "code",
   "execution_count": null,
   "metadata": {},
   "outputs": [],
   "source": [
    "import pandas as pd\n",
    "\n",
    "pd."
   ]
  },
  {
   "cell_type": "code",
   "execution_count": 1,
   "metadata": {},
   "outputs": [
    {
     "output_type": "stream",
     "name": "stdout",
     "text": [
      "7\n"
     ]
    }
   ],
   "source": [
    "# Esto no es buena práctica\n",
    "from a import *\n",
    "\n",
    "print(x)"
   ]
  },
  {
   "cell_type": "code",
   "execution_count": 2,
   "metadata": {},
   "outputs": [
    {
     "output_type": "stream",
     "name": "stdout",
     "text": [
      "Soy f2 de 'a.py'\n"
     ]
    }
   ],
   "source": [
    "# Buena práctica\n",
    "from a import x, f2\n",
    "\n",
    "f2()"
   ]
  },
  {
   "cell_type": "code",
   "execution_count": 3,
   "metadata": {},
   "outputs": [
    {
     "output_type": "stream",
     "name": "stdout",
     "text": [
      "7\n"
     ]
    }
   ],
   "source": [
    "print(x)"
   ]
  },
  {
   "cell_type": "code",
   "execution_count": 2,
   "metadata": {},
   "outputs": [
    {
     "output_type": "stream",
     "name": "stdout",
     "text": [
      "<function f3 at 0x000001ABDC82F8C8>\n2\n"
     ]
    }
   ],
   "source": [
    "def f3():\n",
    "    return 2\n",
    "    \n",
    "print(f3)\n",
    "f3 = 2\n",
    "print(f3)"
   ]
  },
  {
   "cell_type": "code",
   "execution_count": 4,
   "metadata": {},
   "outputs": [
    {
     "output_type": "stream",
     "name": "stdout",
     "text": [
      "Esta es la variable de c: 0\n"
     ]
    },
    {
     "output_type": "error",
     "ename": "NameError",
     "evalue": "name 'variable_de_c' is not defined",
     "traceback": [
      "\u001b[1;31m---------------------------------------------------------------------------\u001b[0m",
      "\u001b[1;31mNameError\u001b[0m                                 Traceback (most recent call last)",
      "\u001b[1;32m<ipython-input-4-88ab4ca97f6b>\u001b[0m in \u001b[0;36m<module>\u001b[1;34m\u001b[0m\n\u001b[0;32m      2\u001b[0m \u001b[1;33m\u001b[0m\u001b[0m\n\u001b[0;32m      3\u001b[0m \u001b[0mf3\u001b[0m\u001b[1;33m(\u001b[0m\u001b[0mk\u001b[0m\u001b[1;33m=\u001b[0m\u001b[1;36m2\u001b[0m\u001b[1;33m,\u001b[0m \u001b[0ml\u001b[0m\u001b[1;33m=\u001b[0m\u001b[1;36m1\u001b[0m\u001b[1;33m,\u001b[0m \u001b[0mr\u001b[0m\u001b[1;33m=\u001b[0m\u001b[1;36m99\u001b[0m\u001b[1;33m)\u001b[0m\u001b[1;33m\u001b[0m\u001b[0m\n\u001b[1;32m----> 4\u001b[1;33m \u001b[0mprint\u001b[0m\u001b[1;33m(\u001b[0m\u001b[0mvariable_de_c\u001b[0m\u001b[1;33m)\u001b[0m\u001b[1;33m\u001b[0m\u001b[0m\n\u001b[0m",
      "\u001b[1;31mNameError\u001b[0m: name 'variable_de_c' is not defined"
     ]
    }
   ],
   "source": [
    "from b.c import f3\n",
    "\n",
    "f3(k=2, l=1, r=99)\n",
    "print(variable_de_c)"
   ]
  },
  {
   "cell_type": "code",
   "execution_count": 5,
   "metadata": {},
   "outputs": [
    {
     "output_type": "error",
     "ename": "ModuleNotFoundError",
     "evalue": "No module named 'd'",
     "traceback": [
      "\u001b[1;31m---------------------------------------------------------------------------\u001b[0m",
      "\u001b[1;31mModuleNotFoundError\u001b[0m                       Traceback (most recent call last)",
      "\u001b[1;32m<ipython-input-5-39de6a0482f9>\u001b[0m in \u001b[0;36m<module>\u001b[1;34m\u001b[0m\n\u001b[1;32m----> 1\u001b[1;33m \u001b[1;32mfrom\u001b[0m \u001b[0md\u001b[0m\u001b[1;33m.\u001b[0m\u001b[0mz\u001b[0m \u001b[1;32mimport\u001b[0m \u001b[0mf_de_z\u001b[0m\u001b[1;33m\u001b[0m\u001b[0m\n\u001b[0m",
      "\u001b[1;31mModuleNotFoundError\u001b[0m: No module named 'd'"
     ]
    }
   ],
   "source": [
    "from d.z import f_de_z"
   ]
  },
  {
   "cell_type": "code",
   "execution_count": 6,
   "metadata": {},
   "outputs": [
    {
     "output_type": "stream",
     "name": "stdout",
     "text": [
      "<module 'ntpath' from 'Z:\\\\Data_Science\\\\Software\\\\Python\\\\Python_3.6.4\\\\lib\\\\ntpath.py'>\n"
     ]
    }
   ],
   "source": [
    "import os\n",
    "\n",
    "print(os.path)"
   ]
  },
  {
   "cell_type": "code",
   "execution_count": 11,
   "metadata": {},
   "outputs": [
    {
     "output_type": "execute_result",
     "data": {
      "text/plain": [
       "<module 'ntpath' from 'Z:\\\\Data_Science\\\\Software\\\\Python\\\\Python_3.6.4\\\\lib\\\\ntpath.py'>"
      ]
     },
     "metadata": {},
     "execution_count": 11
    }
   ],
   "source": [
    "import os.path\n",
    "\n",
    "a = os.path\n",
    "a"
   ]
  },
  {
   "cell_type": "code",
   "execution_count": 1,
   "metadata": {},
   "outputs": [
    {
     "output_type": "error",
     "ename": "ModuleNotFoundError",
     "evalue": "No module named 's'",
     "traceback": [
      "\u001b[1;31m---------------------------------------------------------------------------\u001b[0m",
      "\u001b[1;31mModuleNotFoundError\u001b[0m                       Traceback (most recent call last)",
      "\u001b[1;32m<ipython-input-1-7bcd9480417b>\u001b[0m in \u001b[0;36m<module>\u001b[1;34m\u001b[0m\n\u001b[1;32m----> 1\u001b[1;33m \u001b[1;32mimport\u001b[0m \u001b[0mb\u001b[0m\u001b[1;33m.\u001b[0m\u001b[0mc\u001b[0m\u001b[1;33m.\u001b[0m\u001b[0mj\u001b[0m \u001b[1;32mas\u001b[0m \u001b[0mi\u001b[0m\u001b[1;33m\u001b[0m\u001b[0m\n\u001b[0m\u001b[0;32m      2\u001b[0m \u001b[1;33m\u001b[0m\u001b[0m\n\u001b[0;32m      3\u001b[0m \u001b[0mi\u001b[0m\u001b[1;33m.\u001b[0m\u001b[0mf_j\u001b[0m\u001b[1;33m(\u001b[0m\u001b[1;33m)\u001b[0m\u001b[1;33m\u001b[0m\u001b[0m\n",
      "\u001b[1;32mz:\\Data_Science\\TheBridge\\Content\\Contenido_Curso\\data_science_nov_2020\\week4\\day3\\theory\\python\\paths\\b\\c.py\u001b[0m in \u001b[0;36m<module>\u001b[1;34m\u001b[0m\n\u001b[1;32m----> 1\u001b[1;33m \u001b[1;32mimport\u001b[0m \u001b[0ms\u001b[0m\u001b[1;33m.\u001b[0m\u001b[0mj\u001b[0m \u001b[1;32mas\u001b[0m \u001b[0mj\u001b[0m\u001b[1;33m\u001b[0m\u001b[0m\n\u001b[0m\u001b[0;32m      2\u001b[0m \u001b[1;33m\u001b[0m\u001b[0m\n\u001b[0;32m      3\u001b[0m \u001b[0mvariable_de_c\u001b[0m \u001b[1;33m=\u001b[0m \u001b[1;36m0\u001b[0m\u001b[1;33m\u001b[0m\u001b[0m\n\u001b[0;32m      4\u001b[0m \u001b[1;33m\u001b[0m\u001b[0m\n\u001b[0;32m      5\u001b[0m \u001b[1;32mdef\u001b[0m \u001b[0mf3\u001b[0m\u001b[1;33m(\u001b[0m\u001b[0mk\u001b[0m\u001b[1;33m,\u001b[0m \u001b[0ml\u001b[0m\u001b[1;33m,\u001b[0m \u001b[0mr\u001b[0m\u001b[1;33m)\u001b[0m\u001b[1;33m:\u001b[0m\u001b[1;33m\u001b[0m\u001b[0m\n",
      "\u001b[1;31mModuleNotFoundError\u001b[0m: No module named 's'"
     ]
    }
   ],
   "source": [
    "import b.c.j as i\n",
    "\n",
    "i.f_j()"
   ]
  },
  {
   "cell_type": "code",
   "execution_count": null,
   "metadata": {},
   "outputs": [],
   "source": [
    "import pandas as pd\n",
    "from pandas.arrays import IntegerArray\n",
    "import pandas.arrays as pa\n",
    " \n",
    "import pd.tseries.frequencies.ABCSeries as abc\n",
    "\n",
    "abc."
   ]
  },
  {
   "cell_type": "code",
   "execution_count": 6,
   "metadata": {},
   "outputs": [
    {
     "output_type": "stream",
     "name": "stdout",
     "text": [
      "z:\\Data_Science\\TheBridge\\Content\\Contenido_Curso\\data_science_nov_2020\\week4\\day3\\theory\\python\\paths\n------------\nc:\\Users\\gvazquez\\.vscode\\extensions\\ms-toolsai.jupyter-2020.11.399280825\\pythonFiles\\vscode_datascience_helpers\\..\\.does-not-exist\n------------\nc:\\Users\\gvazquez\\.vscode\\extensions\\ms-toolsai.jupyter-2020.11.399280825\\pythonFiles\n------------\nc:\\Users\\gvazquez\\.vscode\\extensions\\ms-toolsai.jupyter-2020.11.399280825\\pythonFiles\\lib\\python\n------------\nZ:\\Data_Science\\Software\\Python\\Python_3.6.4\\python36.zip\n------------\nZ:\\Data_Science\\Software\\Python\\Python_3.6.4\\DLLs\n------------\nZ:\\Data_Science\\Software\\Python\\Python_3.6.4\\lib\n------------\nZ:\\Data_Science\\Software\\Python\\Python_3.6.4\n------------\n\n------------\nC:\\Users\\gvazquez\\AppData\\Roaming\\Python\\Python36\\site-packages\n------------\nC:\\Users\\gvazquez\\AppData\\Roaming\\Python\\Python36\\site-packages\\win32\n------------\nC:\\Users\\gvazquez\\AppData\\Roaming\\Python\\Python36\\site-packages\\win32\\lib\n------------\nC:\\Users\\gvazquez\\AppData\\Roaming\\Python\\Python36\\site-packages\\Pythonwin\n------------\nZ:\\Data_Science\\Software\\Python\\Python_3.6.4\\lib\\site-packages\n------------\nC:\\Users\\gvazquez\\AppData\\Roaming\\Python\\Python36\\site-packages\\IPython\\extensions\n------------\nC:\\Users\\gvazquez\\.ipython\n------------\n"
     ]
    }
   ],
   "source": [
    "import os\n",
    "import sys\n",
    "\n",
    "import a\n",
    "import b.c\n",
    "import b.s.j \n",
    "\n",
    "import numpy \n",
    "\n",
    "for elem in sys.path:\n",
    "    print(elem)\n",
    "    print(\"------------\")"
   ]
  },
  {
   "cell_type": "code",
   "execution_count": 7,
   "metadata": {},
   "outputs": [
    {
     "output_type": "execute_result",
     "data": {
      "text/plain": [
       "['z:\\\\Data_Science\\\\TheBridge\\\\Content\\\\Contenido_Curso\\\\data_science_nov_2020\\\\week4\\\\day3\\\\theory\\\\python\\\\paths',\n",
       " 'c:\\\\Users\\\\gvazquez\\\\.vscode\\\\extensions\\\\ms-toolsai.jupyter-2020.11.399280825\\\\pythonFiles\\\\vscode_datascience_helpers\\\\..\\\\.does-not-exist',\n",
       " 'c:\\\\Users\\\\gvazquez\\\\.vscode\\\\extensions\\\\ms-toolsai.jupyter-2020.11.399280825\\\\pythonFiles',\n",
       " 'c:\\\\Users\\\\gvazquez\\\\.vscode\\\\extensions\\\\ms-toolsai.jupyter-2020.11.399280825\\\\pythonFiles\\\\lib\\\\python',\n",
       " 'Z:\\\\Data_Science\\\\Software\\\\Python\\\\Python_3.6.4\\\\python36.zip',\n",
       " 'Z:\\\\Data_Science\\\\Software\\\\Python\\\\Python_3.6.4\\\\DLLs',\n",
       " 'Z:\\\\Data_Science\\\\Software\\\\Python\\\\Python_3.6.4\\\\lib',\n",
       " 'Z:\\\\Data_Science\\\\Software\\\\Python\\\\Python_3.6.4',\n",
       " '',\n",
       " 'C:\\\\Users\\\\gvazquez\\\\AppData\\\\Roaming\\\\Python\\\\Python36\\\\site-packages',\n",
       " 'C:\\\\Users\\\\gvazquez\\\\AppData\\\\Roaming\\\\Python\\\\Python36\\\\site-packages\\\\win32',\n",
       " 'C:\\\\Users\\\\gvazquez\\\\AppData\\\\Roaming\\\\Python\\\\Python36\\\\site-packages\\\\win32\\\\lib',\n",
       " 'C:\\\\Users\\\\gvazquez\\\\AppData\\\\Roaming\\\\Python\\\\Python36\\\\site-packages\\\\Pythonwin',\n",
       " 'Z:\\\\Data_Science\\\\Software\\\\Python\\\\Python_3.6.4\\\\lib\\\\site-packages',\n",
       " 'C:\\\\Users\\\\gvazquez\\\\AppData\\\\Roaming\\\\Python\\\\Python36\\\\site-packages\\\\IPython\\\\extensions',\n",
       " 'C:\\\\Users\\\\gvazquez\\\\.ipython']"
      ]
     },
     "metadata": {},
     "execution_count": 7
    }
   ],
   "source": [
    "# ruta absoluta:\n",
    "\"\"\"\n",
    "Z:\\Data_Science\\TheBridge\\Content\\Contenido_Curso\\data_science_nov_2020\\week4\\day3\\theory\n",
    "\"\"\"\n",
    "\n",
    "# ruta relativa:\n",
    "\"\"\"\n",
    "data_science_nov_2020\\week4\\day3\\theory\n",
    "\"\"\"\n",
    "\n",
    "import a \n",
    "sys.path"
   ]
  },
  {
   "cell_type": "code",
   "execution_count": null,
   "metadata": {},
   "outputs": [],
   "source": [
    "# Diferencias mac y windows\n",
    "\n",
    "\n",
    "r# En mac no hay que escribir doble barra\n",
    "\n",
    "\n",
    "u# En windows hay que escribir doble barrata_hasta_theory = \"Z:\\Data_\\Science\\TheBri\\dge\\Conte\\nt\\Conten\\ido_Curso\\data_s\\cience_nov_2020\\week4\\\\day3\\\\theor\\\\\""
   ]
  },
  {
   "cell_type": "code",
   "execution_count": 1,
   "metadata": {},
   "outputs": [
    {
     "output_type": "execute_result",
     "data": {
      "text/plain": [
       "['z:\\\\Data_Science\\\\TheBridge\\\\Content\\\\Contenido_Curso\\\\data_science_nov_2020\\\\week4\\\\day3\\\\theory\\\\python\\\\paths',\n",
       " 'c:\\\\Users\\\\gvazquez\\\\.vscode\\\\extensions\\\\ms-toolsai.jupyter-2020.11.399280825\\\\pythonFiles\\\\vscode_datascience_helpers\\\\..\\\\.does-not-exist',\n",
       " 'c:\\\\Users\\\\gvazquez\\\\.vscode\\\\extensions\\\\ms-toolsai.jupyter-2020.11.399280825\\\\pythonFiles',\n",
       " 'c:\\\\Users\\\\gvazquez\\\\.vscode\\\\extensions\\\\ms-toolsai.jupyter-2020.11.399280825\\\\pythonFiles\\\\lib\\\\python',\n",
       " 'Z:\\\\Data_Science\\\\Software\\\\Python\\\\Python_3.6.4\\\\python36.zip',\n",
       " 'Z:\\\\Data_Science\\\\Software\\\\Python\\\\Python_3.6.4\\\\DLLs',\n",
       " 'Z:\\\\Data_Science\\\\Software\\\\Python\\\\Python_3.6.4\\\\lib',\n",
       " 'Z:\\\\Data_Science\\\\Software\\\\Python\\\\Python_3.6.4',\n",
       " '',\n",
       " 'C:\\\\Users\\\\gvazquez\\\\AppData\\\\Roaming\\\\Python\\\\Python36\\\\site-packages',\n",
       " 'C:\\\\Users\\\\gvazquez\\\\AppData\\\\Roaming\\\\Python\\\\Python36\\\\site-packages\\\\win32',\n",
       " 'C:\\\\Users\\\\gvazquez\\\\AppData\\\\Roaming\\\\Python\\\\Python36\\\\site-packages\\\\win32\\\\lib',\n",
       " 'C:\\\\Users\\\\gvazquez\\\\AppData\\\\Roaming\\\\Python\\\\Python36\\\\site-packages\\\\Pythonwin',\n",
       " 'Z:\\\\Data_Science\\\\Software\\\\Python\\\\Python_3.6.4\\\\lib\\\\site-packages',\n",
       " 'C:\\\\Users\\\\gvazquez\\\\AppData\\\\Roaming\\\\Python\\\\Python36\\\\site-packages\\\\IPython\\\\extensions',\n",
       " 'C:\\\\Users\\\\gvazquez\\\\.ipython',\n",
       " 'Z:\\\\Data_Science\\\\TheBridge\\\\Content\\\\Contenido_Curso\\\\data_science_nov_2020\\\\week4\\\\day3\\\\theory']"
      ]
     },
     "metadata": {},
     "execution_count": 1
    }
   ],
   "source": [
    "string = \"Z:\\\\Data_Science\\\\TheBridge\\\\Content\\\\Contenido_Curso\\\\data_science_nov_2020\\\\week4\\\\day3\\\\theory\"\n",
    "\n",
    "sys.path.append(string)\n",
    "sys.path"
   ]
  },
  {
   "cell_type": "code",
   "execution_count": 17,
   "metadata": {},
   "outputs": [
    {
     "output_type": "stream",
     "name": "stdout",
     "text": [
      "soy función de z\n"
     ]
    }
   ],
   "source": [
    "import d.z as z\n",
    "\n",
    "z.f_de_z()"
   ]
  },
  {
   "cell_type": "code",
   "execution_count": 14,
   "metadata": {},
   "outputs": [
    {
     "output_type": "stream",
     "name": "stdout",
     "text": [
      "sdgsdg\\fsg\n"
     ]
    }
   ],
   "source": [
    "print(\"sdgsdg\\\\fsg\")"
   ]
  },
  {
   "cell_type": "code",
   "execution_count": 2,
   "metadata": {},
   "outputs": [
    {
     "output_type": "stream",
     "name": "stdout",
     "text": [
      "f_j\n"
     ]
    }
   ],
   "source": [
    "import python.paths.b.s.j as j\n",
    "\n",
    "j.f_j()"
   ]
  },
  {
   "cell_type": "code",
   "execution_count": 3,
   "metadata": {},
   "outputs": [
    {
     "output_type": "execute_result",
     "data": {
      "text/plain": [
       "['z:\\\\Data_Science\\\\TheBridge\\\\Content\\\\Contenido_Curso\\\\data_science_nov_2020\\\\week4\\\\day3\\\\theory\\\\python\\\\paths',\n",
       " 'c:\\\\Users\\\\gvazquez\\\\.vscode\\\\extensions\\\\ms-toolsai.jupyter-2020.11.399280825\\\\pythonFiles\\\\vscode_datascience_helpers\\\\..\\\\.does-not-exist',\n",
       " 'c:\\\\Users\\\\gvazquez\\\\.vscode\\\\extensions\\\\ms-toolsai.jupyter-2020.11.399280825\\\\pythonFiles',\n",
       " 'c:\\\\Users\\\\gvazquez\\\\.vscode\\\\extensions\\\\ms-toolsai.jupyter-2020.11.399280825\\\\pythonFiles\\\\lib\\\\python',\n",
       " 'Z:\\\\Data_Science\\\\Software\\\\Python\\\\Python_3.6.4\\\\python36.zip',\n",
       " 'Z:\\\\Data_Science\\\\Software\\\\Python\\\\Python_3.6.4\\\\DLLs',\n",
       " 'Z:\\\\Data_Science\\\\Software\\\\Python\\\\Python_3.6.4\\\\lib',\n",
       " 'Z:\\\\Data_Science\\\\Software\\\\Python\\\\Python_3.6.4',\n",
       " '',\n",
       " 'C:\\\\Users\\\\gvazquez\\\\AppData\\\\Roaming\\\\Python\\\\Python36\\\\site-packages',\n",
       " 'C:\\\\Users\\\\gvazquez\\\\AppData\\\\Roaming\\\\Python\\\\Python36\\\\site-packages\\\\win32',\n",
       " 'C:\\\\Users\\\\gvazquez\\\\AppData\\\\Roaming\\\\Python\\\\Python36\\\\site-packages\\\\win32\\\\lib',\n",
       " 'C:\\\\Users\\\\gvazquez\\\\AppData\\\\Roaming\\\\Python\\\\Python36\\\\site-packages\\\\Pythonwin',\n",
       " 'Z:\\\\Data_Science\\\\Software\\\\Python\\\\Python_3.6.4\\\\lib\\\\site-packages',\n",
       " 'C:\\\\Users\\\\gvazquez\\\\AppData\\\\Roaming\\\\Python\\\\Python36\\\\site-packages\\\\IPython\\\\extensions',\n",
       " 'C:\\\\Users\\\\gvazquez\\\\.ipython',\n",
       " 'Z:\\\\Data_Science\\\\TheBridge\\\\Content\\\\Contenido_Curso\\\\data_science_nov_2020\\\\week4\\\\day3\\\\theory']"
      ]
     },
     "metadata": {},
     "execution_count": 3
    }
   ],
   "source": [
    "sys.path"
   ]
  },
  {
   "cell_type": "code",
   "execution_count": 4,
   "metadata": {},
   "outputs": [
    {
     "output_type": "stream",
     "name": "stdout",
     "text": [
      "hola\n"
     ]
    }
   ],
   "source": [
    "sys.path.append(\"Z:\\\\Data_Science\\\\TheBridge\\\\Content\\\\Contenido_Curso\\\\data_science_nov_2020\")\n",
    "\n",
    "import week1.day3.theory.jh as k"
   ]
  },
  {
   "cell_type": "code",
   "execution_count": 7,
   "metadata": {},
   "outputs": [
    {
     "output_type": "stream",
     "name": "stdout",
     "text": [
      "z:\\Data_Science\\TheBridge\\Content\\Contenido_Curso\\data_science_nov_2020\\week4\\day3\\theory\\python\\paths\n"
     ]
    }
   ],
   "source": [
    "import os\n",
    "print(os.getcwd())"
   ]
  },
  {
   "cell_type": "code",
   "execution_count": 9,
   "metadata": {},
   "outputs": [
    {
     "output_type": "stream",
     "name": "stdout",
     "text": [
      "z:\\Data_Science\\TheBridge\\Content\\Contenido_Curso\\data_science_nov_2020\\week4\\day3\\theory\\python\n"
     ]
    }
   ],
   "source": [
    "import os\n",
    "\n",
    "path_python = os.path.dirname(os.getcwd())\n",
    "\n",
    "print(path_python)"
   ]
  },
  {
   "cell_type": "code",
   "execution_count": 10,
   "metadata": {},
   "outputs": [
    {
     "output_type": "stream",
     "name": "stdout",
     "text": [
      "z:\\Data_Science\\TheBridge\\Content\\Contenido_Curso\\data_science_nov_2020\\week4\\day3\\theory\n"
     ]
    }
   ],
   "source": [
    "import os\n",
    "\n",
    "path_theory = os.path.dirname(path_python)\n",
    "\n",
    "print(path_theory)"
   ]
  },
  {
   "cell_type": "code",
   "execution_count": 12,
   "metadata": {},
   "outputs": [
    {
     "output_type": "stream",
     "name": "stdout",
     "text": [
      "z:\\Data_Science\\TheBridge\\Content\\Contenido_Curso\\data_science_nov_2020\\week4\\day3\n"
     ]
    }
   ],
   "source": [
    "import os\n",
    "\n",
    "path_day3 = os.path.dirname(path_theory)\n",
    "\n",
    "print(path_day3)"
   ]
  },
  {
   "cell_type": "code",
   "execution_count": 13,
   "metadata": {},
   "outputs": [
    {
     "output_type": "stream",
     "name": "stdout",
     "text": [
      "z:\\Data_Science\\TheBridge\\Content\\Contenido_Curso\\data_science_nov_2020\\week4\n"
     ]
    }
   ],
   "source": [
    "import os\n",
    "\n",
    "path_week4 = os.path.dirname(path_day3)\n",
    "\n",
    "print(path_week4)"
   ]
  },
  {
   "cell_type": "code",
   "execution_count": 14,
   "metadata": {},
   "outputs": [
    {
     "output_type": "stream",
     "name": "stdout",
     "text": [
      "z:\\Data_Science\\TheBridge\\Content\\Contenido_Curso\\data_science_nov_2020\n"
     ]
    }
   ],
   "source": [
    "import os\n",
    "\n",
    "path_raiz = os.path.dirname(path_week4)\n",
    "\n",
    "print(path_raiz)"
   ]
  },
  {
   "cell_type": "code",
   "execution_count": 15,
   "metadata": {},
   "outputs": [],
   "source": [
    "# Gracias a añadir esta ruta a sys.path, cualquier persona que ejecute este código va a poder importar el código desde week1\n",
    "\n",
    "sys.path.append(path_raiz)"
   ]
  },
  {
   "cell_type": "code",
   "execution_count": 16,
   "metadata": {},
   "outputs": [],
   "source": [
    "import week1"
   ]
  },
  {
   "cell_type": "code",
   "execution_count": null,
   "metadata": {},
   "outputs": [],
   "source": [
    "import pandas as pd\n",
    "\n"
   ]
  },
  {
   "cell_type": "code",
   "execution_count": 21,
   "metadata": {},
   "outputs": [
    {
     "output_type": "stream",
     "name": "stdout",
     "text": [
      "z:\\Data_Science\\TheBridge\\Content\\Contenido_Curso\\data_science_nov_2020\\week4\\day3\\theory\\python\\paths\n-------\nz:\\Data_Science\\TheBridge\\Content\\Contenido_Curso\\data_science_nov_2020\\week4\\day3\\theory\\python\n-------\nz:\\Data_Science\\TheBridge\\Content\\Contenido_Curso\\data_science_nov_2020\\week4\\day3\\theory\n-------\nz:\\Data_Science\\TheBridge\\Content\\Contenido_Curso\\data_science_nov_2020\\week4\\day3\n-------\nz:\\Data_Science\\TheBridge\\Content\\Contenido_Curso\\data_science_nov_2020\\week4\n-------\nz:\\Data_Science\\TheBridge\\Content\\Contenido_Curso\\data_science_nov_2020\n"
     ]
    }
   ],
   "source": [
    "def get_root_path(n):\n",
    "    path = os.getcwd()\n",
    "    for i in range(n):\n",
    "        print(path)\n",
    "        path = os.path.dirname(path)\n",
    "        print(\"-------\")\n",
    "    print(path)\n",
    "    sys.path.append(path)\n",
    "\n",
    "get_root_path(n=5)"
   ]
  },
  {
   "cell_type": "code",
   "execution_count": 23,
   "metadata": {},
   "outputs": [
    {
     "output_type": "execute_result",
     "data": {
      "text/plain": [
       "['',\n",
       " 'C:\\\\Users\\\\gvazquez\\\\AppData\\\\Roaming\\\\Python\\\\Python36\\\\site-packages\\\\IPython\\\\extensions',\n",
       " 'C:\\\\Users\\\\gvazquez\\\\AppData\\\\Roaming\\\\Python\\\\Python36\\\\site-packages',\n",
       " 'c:\\\\Users\\\\gvazquez\\\\.vscode\\\\extensions\\\\ms-toolsai.jupyter-2020.11.399280825\\\\pythonFiles\\\\lib\\\\python',\n",
       " 'Z:\\\\Data_Science\\\\Software\\\\Python\\\\Python_3.6.4\\\\lib',\n",
       " 'C:\\\\Users\\\\gvazquez\\\\.ipython',\n",
       " 'z:\\\\Data_Science\\\\TheBridge\\\\Content\\\\Contenido_Curso\\\\data_science_nov_2020',\n",
       " 'C:\\\\Users\\\\gvazquez\\\\AppData\\\\Roaming\\\\Python\\\\Python36\\\\site-packages\\\\win32\\\\lib',\n",
       " 'C:\\\\Users\\\\gvazquez\\\\AppData\\\\Roaming\\\\Python\\\\Python36\\\\site-packages\\\\Pythonwin',\n",
       " 'Z:\\\\Data_Science\\\\TheBridge\\\\Content\\\\Contenido_Curso\\\\data_science_nov_2020\\\\week4\\\\day3\\\\theory',\n",
       " 'Z:\\\\Data_Science\\\\Software\\\\Python\\\\Python_3.6.4\\\\lib\\\\site-packages',\n",
       " 'z:\\\\Data_Science\\\\TheBridge\\\\Content\\\\Contenido_Curso\\\\data_science_nov_2020\\\\week4\\\\day3\\\\theory\\\\python\\\\paths',\n",
       " 'Z:\\\\Data_Science\\\\TheBridge\\\\Content\\\\Contenido_Curso\\\\data_science_nov_2020',\n",
       " 'c:\\\\Users\\\\gvazquez\\\\.vscode\\\\extensions\\\\ms-toolsai.jupyter-2020.11.399280825\\\\pythonFiles\\\\vscode_datascience_helpers\\\\..\\\\.does-not-exist',\n",
       " 'Z:\\\\Data_Science\\\\Software\\\\Python\\\\Python_3.6.4\\\\DLLs',\n",
       " 'Z:\\\\Data_Science\\\\Software\\\\Python\\\\Python_3.6.4\\\\python36.zip',\n",
       " 'c:\\\\Users\\\\gvazquez\\\\.vscode\\\\extensions\\\\ms-toolsai.jupyter-2020.11.399280825\\\\pythonFiles',\n",
       " 'C:\\\\Users\\\\gvazquez\\\\AppData\\\\Roaming\\\\Python\\\\Python36\\\\site-packages\\\\win32',\n",
       " 'Z:\\\\Data_Science\\\\Software\\\\Python\\\\Python_3.6.4']"
      ]
     },
     "metadata": {},
     "execution_count": 23
    }
   ],
   "source": [
    "list(set(sys.path))"
   ]
  },
  {
   "cell_type": "code",
   "execution_count": null,
   "metadata": {},
   "outputs": [],
   "source": []
  }
 ]
}