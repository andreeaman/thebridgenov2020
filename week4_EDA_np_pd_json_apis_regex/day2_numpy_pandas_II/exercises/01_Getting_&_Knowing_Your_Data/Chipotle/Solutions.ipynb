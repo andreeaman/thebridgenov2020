{
 "cells": [
  {
   "cell_type": "markdown",
   "metadata": {},
   "source": [
    "# Ex2 - Getting and Knowing your Data\n"
   ]
  },
  {
   "cell_type": "markdown",
   "metadata": {},
   "source": [
    "\n",
    "\n",
    "### Step 1. Import the necessary libraries"
   ]
  },
  {
   "cell_type": "code",
   "execution_count": 1,
   "metadata": {
    "collapsed": false
   },
   "outputs": [],
   "source": [
    "import pandas as pd"
   ]
  },
  {
   "cell_type": "markdown",
   "metadata": {},
   "source": [
    "### Step 2. Import the dataset from this [address](https://raw.githubusercontent.com/justmarkham/DAT8/master/data/chipotle.tsv). "
   ]
  },
  {
   "cell_type": "markdown",
   "metadata": {},
   "source": [
    "### Step 3. Assign it to a variable called chipo."
   ]
  },
  {
   "cell_type": "code",
   "execution_count": 2,
   "metadata": {
    "collapsed": false
   },
   "outputs": [
    {
     "output_type": "execute_result",
     "data": {
      "text/plain": [
       "      order_id  quantity                              item_name  \\\n",
       "0            1         1           Chips and Fresh Tomato Salsa   \n",
       "1            1         1                                   Izze   \n",
       "2            1         1                       Nantucket Nectar   \n",
       "3            1         1  Chips and Tomatillo-Green Chili Salsa   \n",
       "4            2         2                           Chicken Bowl   \n",
       "...        ...       ...                                    ...   \n",
       "4617      1833         1                          Steak Burrito   \n",
       "4618      1833         1                          Steak Burrito   \n",
       "4619      1834         1                     Chicken Salad Bowl   \n",
       "4620      1834         1                     Chicken Salad Bowl   \n",
       "4621      1834         1                     Chicken Salad Bowl   \n",
       "\n",
       "                                     choice_description item_price  \n",
       "0                                                   NaN     $2.39   \n",
       "1                                          [Clementine]     $3.39   \n",
       "2                                               [Apple]     $3.39   \n",
       "3                                                   NaN     $2.39   \n",
       "4     [Tomatillo-Red Chili Salsa (Hot), [Black Beans...    $16.98   \n",
       "...                                                 ...        ...  \n",
       "4617  [Fresh Tomato Salsa, [Rice, Black Beans, Sour ...    $11.75   \n",
       "4618  [Fresh Tomato Salsa, [Rice, Sour Cream, Cheese...    $11.75   \n",
       "4619  [Fresh Tomato Salsa, [Fajita Vegetables, Pinto...    $11.25   \n",
       "4620  [Fresh Tomato Salsa, [Fajita Vegetables, Lettu...     $8.75   \n",
       "4621  [Fresh Tomato Salsa, [Fajita Vegetables, Pinto...     $8.75   \n",
       "\n",
       "[4622 rows x 5 columns]"
      ],
      "text/html": "<div>\n<style scoped>\n    .dataframe tbody tr th:only-of-type {\n        vertical-align: middle;\n    }\n\n    .dataframe tbody tr th {\n        vertical-align: top;\n    }\n\n    .dataframe thead th {\n        text-align: right;\n    }\n</style>\n<table border=\"1\" class=\"dataframe\">\n  <thead>\n    <tr style=\"text-align: right;\">\n      <th></th>\n      <th>order_id</th>\n      <th>quantity</th>\n      <th>item_name</th>\n      <th>choice_description</th>\n      <th>item_price</th>\n    </tr>\n  </thead>\n  <tbody>\n    <tr>\n      <th>0</th>\n      <td>1</td>\n      <td>1</td>\n      <td>Chips and Fresh Tomato Salsa</td>\n      <td>NaN</td>\n      <td>$2.39</td>\n    </tr>\n    <tr>\n      <th>1</th>\n      <td>1</td>\n      <td>1</td>\n      <td>Izze</td>\n      <td>[Clementine]</td>\n      <td>$3.39</td>\n    </tr>\n    <tr>\n      <th>2</th>\n      <td>1</td>\n      <td>1</td>\n      <td>Nantucket Nectar</td>\n      <td>[Apple]</td>\n      <td>$3.39</td>\n    </tr>\n    <tr>\n      <th>3</th>\n      <td>1</td>\n      <td>1</td>\n      <td>Chips and Tomatillo-Green Chili Salsa</td>\n      <td>NaN</td>\n      <td>$2.39</td>\n    </tr>\n    <tr>\n      <th>4</th>\n      <td>2</td>\n      <td>2</td>\n      <td>Chicken Bowl</td>\n      <td>[Tomatillo-Red Chili Salsa (Hot), [Black Beans...</td>\n      <td>$16.98</td>\n    </tr>\n    <tr>\n      <th>...</th>\n      <td>...</td>\n      <td>...</td>\n      <td>...</td>\n      <td>...</td>\n      <td>...</td>\n    </tr>\n    <tr>\n      <th>4617</th>\n      <td>1833</td>\n      <td>1</td>\n      <td>Steak Burrito</td>\n      <td>[Fresh Tomato Salsa, [Rice, Black Beans, Sour ...</td>\n      <td>$11.75</td>\n    </tr>\n    <tr>\n      <th>4618</th>\n      <td>1833</td>\n      <td>1</td>\n      <td>Steak Burrito</td>\n      <td>[Fresh Tomato Salsa, [Rice, Sour Cream, Cheese...</td>\n      <td>$11.75</td>\n    </tr>\n    <tr>\n      <th>4619</th>\n      <td>1834</td>\n      <td>1</td>\n      <td>Chicken Salad Bowl</td>\n      <td>[Fresh Tomato Salsa, [Fajita Vegetables, Pinto...</td>\n      <td>$11.25</td>\n    </tr>\n    <tr>\n      <th>4620</th>\n      <td>1834</td>\n      <td>1</td>\n      <td>Chicken Salad Bowl</td>\n      <td>[Fresh Tomato Salsa, [Fajita Vegetables, Lettu...</td>\n      <td>$8.75</td>\n    </tr>\n    <tr>\n      <th>4621</th>\n      <td>1834</td>\n      <td>1</td>\n      <td>Chicken Salad Bowl</td>\n      <td>[Fresh Tomato Salsa, [Fajita Vegetables, Pinto...</td>\n      <td>$8.75</td>\n    </tr>\n  </tbody>\n</table>\n<p>4622 rows × 5 columns</p>\n</div>"
     },
     "metadata": {},
     "execution_count": 2
    }
   ],
   "source": [
    "chipo = pd.read_csv(\"https://raw.githubusercontent.com/justmarkham/DAT8/master/data/chipotle.tsv\", delimiter=\"\\t\")\n",
    "chipo"
   ]
  },
  {
   "cell_type": "markdown",
   "metadata": {},
   "source": [
    "### Step 4. See the first 10 entries"
   ]
  },
  {
   "cell_type": "code",
   "execution_count": 3,
   "metadata": {},
   "outputs": [
    {
     "output_type": "execute_result",
     "data": {
      "text/plain": [
       "   order_id  quantity                              item_name  \\\n",
       "0         1         1           Chips and Fresh Tomato Salsa   \n",
       "1         1         1                                   Izze   \n",
       "2         1         1                       Nantucket Nectar   \n",
       "3         1         1  Chips and Tomatillo-Green Chili Salsa   \n",
       "4         2         2                           Chicken Bowl   \n",
       "5         3         1                           Chicken Bowl   \n",
       "6         3         1                          Side of Chips   \n",
       "7         4         1                          Steak Burrito   \n",
       "8         4         1                       Steak Soft Tacos   \n",
       "9         5         1                          Steak Burrito   \n",
       "\n",
       "                                  choice_description item_price  \n",
       "0                                                NaN     $2.39   \n",
       "1                                       [Clementine]     $3.39   \n",
       "2                                            [Apple]     $3.39   \n",
       "3                                                NaN     $2.39   \n",
       "4  [Tomatillo-Red Chili Salsa (Hot), [Black Beans...    $16.98   \n",
       "5  [Fresh Tomato Salsa (Mild), [Rice, Cheese, Sou...    $10.98   \n",
       "6                                                NaN     $1.69   \n",
       "7  [Tomatillo Red Chili Salsa, [Fajita Vegetables...    $11.75   \n",
       "8  [Tomatillo Green Chili Salsa, [Pinto Beans, Ch...     $9.25   \n",
       "9  [Fresh Tomato Salsa, [Rice, Black Beans, Pinto...     $9.25   "
      ],
      "text/html": "<div>\n<style scoped>\n    .dataframe tbody tr th:only-of-type {\n        vertical-align: middle;\n    }\n\n    .dataframe tbody tr th {\n        vertical-align: top;\n    }\n\n    .dataframe thead th {\n        text-align: right;\n    }\n</style>\n<table border=\"1\" class=\"dataframe\">\n  <thead>\n    <tr style=\"text-align: right;\">\n      <th></th>\n      <th>order_id</th>\n      <th>quantity</th>\n      <th>item_name</th>\n      <th>choice_description</th>\n      <th>item_price</th>\n    </tr>\n  </thead>\n  <tbody>\n    <tr>\n      <th>0</th>\n      <td>1</td>\n      <td>1</td>\n      <td>Chips and Fresh Tomato Salsa</td>\n      <td>NaN</td>\n      <td>$2.39</td>\n    </tr>\n    <tr>\n      <th>1</th>\n      <td>1</td>\n      <td>1</td>\n      <td>Izze</td>\n      <td>[Clementine]</td>\n      <td>$3.39</td>\n    </tr>\n    <tr>\n      <th>2</th>\n      <td>1</td>\n      <td>1</td>\n      <td>Nantucket Nectar</td>\n      <td>[Apple]</td>\n      <td>$3.39</td>\n    </tr>\n    <tr>\n      <th>3</th>\n      <td>1</td>\n      <td>1</td>\n      <td>Chips and Tomatillo-Green Chili Salsa</td>\n      <td>NaN</td>\n      <td>$2.39</td>\n    </tr>\n    <tr>\n      <th>4</th>\n      <td>2</td>\n      <td>2</td>\n      <td>Chicken Bowl</td>\n      <td>[Tomatillo-Red Chili Salsa (Hot), [Black Beans...</td>\n      <td>$16.98</td>\n    </tr>\n    <tr>\n      <th>5</th>\n      <td>3</td>\n      <td>1</td>\n      <td>Chicken Bowl</td>\n      <td>[Fresh Tomato Salsa (Mild), [Rice, Cheese, Sou...</td>\n      <td>$10.98</td>\n    </tr>\n    <tr>\n      <th>6</th>\n      <td>3</td>\n      <td>1</td>\n      <td>Side of Chips</td>\n      <td>NaN</td>\n      <td>$1.69</td>\n    </tr>\n    <tr>\n      <th>7</th>\n      <td>4</td>\n      <td>1</td>\n      <td>Steak Burrito</td>\n      <td>[Tomatillo Red Chili Salsa, [Fajita Vegetables...</td>\n      <td>$11.75</td>\n    </tr>\n    <tr>\n      <th>8</th>\n      <td>4</td>\n      <td>1</td>\n      <td>Steak Soft Tacos</td>\n      <td>[Tomatillo Green Chili Salsa, [Pinto Beans, Ch...</td>\n      <td>$9.25</td>\n    </tr>\n    <tr>\n      <th>9</th>\n      <td>5</td>\n      <td>1</td>\n      <td>Steak Burrito</td>\n      <td>[Fresh Tomato Salsa, [Rice, Black Beans, Pinto...</td>\n      <td>$9.25</td>\n    </tr>\n  </tbody>\n</table>\n</div>"
     },
     "metadata": {},
     "execution_count": 3
    }
   ],
   "source": [
    "chipo.iloc[0:10]"
   ]
  },
  {
   "cell_type": "code",
   "execution_count": 4,
   "metadata": {
    "collapsed": false,
    "scrolled": false
   },
   "outputs": [
    {
     "output_type": "execute_result",
     "data": {
      "text/plain": [
       "   order_id  quantity                              item_name  \\\n",
       "0         1         1           Chips and Fresh Tomato Salsa   \n",
       "1         1         1                                   Izze   \n",
       "2         1         1                       Nantucket Nectar   \n",
       "3         1         1  Chips and Tomatillo-Green Chili Salsa   \n",
       "4         2         2                           Chicken Bowl   \n",
       "5         3         1                           Chicken Bowl   \n",
       "6         3         1                          Side of Chips   \n",
       "7         4         1                          Steak Burrito   \n",
       "8         4         1                       Steak Soft Tacos   \n",
       "9         5         1                          Steak Burrito   \n",
       "\n",
       "                                  choice_description item_price  \n",
       "0                                                NaN     $2.39   \n",
       "1                                       [Clementine]     $3.39   \n",
       "2                                            [Apple]     $3.39   \n",
       "3                                                NaN     $2.39   \n",
       "4  [Tomatillo-Red Chili Salsa (Hot), [Black Beans...    $16.98   \n",
       "5  [Fresh Tomato Salsa (Mild), [Rice, Cheese, Sou...    $10.98   \n",
       "6                                                NaN     $1.69   \n",
       "7  [Tomatillo Red Chili Salsa, [Fajita Vegetables...    $11.75   \n",
       "8  [Tomatillo Green Chili Salsa, [Pinto Beans, Ch...     $9.25   \n",
       "9  [Fresh Tomato Salsa, [Rice, Black Beans, Pinto...     $9.25   "
      ],
      "text/html": "<div>\n<style scoped>\n    .dataframe tbody tr th:only-of-type {\n        vertical-align: middle;\n    }\n\n    .dataframe tbody tr th {\n        vertical-align: top;\n    }\n\n    .dataframe thead th {\n        text-align: right;\n    }\n</style>\n<table border=\"1\" class=\"dataframe\">\n  <thead>\n    <tr style=\"text-align: right;\">\n      <th></th>\n      <th>order_id</th>\n      <th>quantity</th>\n      <th>item_name</th>\n      <th>choice_description</th>\n      <th>item_price</th>\n    </tr>\n  </thead>\n  <tbody>\n    <tr>\n      <th>0</th>\n      <td>1</td>\n      <td>1</td>\n      <td>Chips and Fresh Tomato Salsa</td>\n      <td>NaN</td>\n      <td>$2.39</td>\n    </tr>\n    <tr>\n      <th>1</th>\n      <td>1</td>\n      <td>1</td>\n      <td>Izze</td>\n      <td>[Clementine]</td>\n      <td>$3.39</td>\n    </tr>\n    <tr>\n      <th>2</th>\n      <td>1</td>\n      <td>1</td>\n      <td>Nantucket Nectar</td>\n      <td>[Apple]</td>\n      <td>$3.39</td>\n    </tr>\n    <tr>\n      <th>3</th>\n      <td>1</td>\n      <td>1</td>\n      <td>Chips and Tomatillo-Green Chili Salsa</td>\n      <td>NaN</td>\n      <td>$2.39</td>\n    </tr>\n    <tr>\n      <th>4</th>\n      <td>2</td>\n      <td>2</td>\n      <td>Chicken Bowl</td>\n      <td>[Tomatillo-Red Chili Salsa (Hot), [Black Beans...</td>\n      <td>$16.98</td>\n    </tr>\n    <tr>\n      <th>5</th>\n      <td>3</td>\n      <td>1</td>\n      <td>Chicken Bowl</td>\n      <td>[Fresh Tomato Salsa (Mild), [Rice, Cheese, Sou...</td>\n      <td>$10.98</td>\n    </tr>\n    <tr>\n      <th>6</th>\n      <td>3</td>\n      <td>1</td>\n      <td>Side of Chips</td>\n      <td>NaN</td>\n      <td>$1.69</td>\n    </tr>\n    <tr>\n      <th>7</th>\n      <td>4</td>\n      <td>1</td>\n      <td>Steak Burrito</td>\n      <td>[Tomatillo Red Chili Salsa, [Fajita Vegetables...</td>\n      <td>$11.75</td>\n    </tr>\n    <tr>\n      <th>8</th>\n      <td>4</td>\n      <td>1</td>\n      <td>Steak Soft Tacos</td>\n      <td>[Tomatillo Green Chili Salsa, [Pinto Beans, Ch...</td>\n      <td>$9.25</td>\n    </tr>\n    <tr>\n      <th>9</th>\n      <td>5</td>\n      <td>1</td>\n      <td>Steak Burrito</td>\n      <td>[Fresh Tomato Salsa, [Rice, Black Beans, Pinto...</td>\n      <td>$9.25</td>\n    </tr>\n  </tbody>\n</table>\n</div>"
     },
     "metadata": {},
     "execution_count": 4
    }
   ],
   "source": [
    "chipo.head(10)"
   ]
  },
  {
   "cell_type": "markdown",
   "metadata": {},
   "source": [
    "### Step 5. What is the number of observations in the dataset?"
   ]
  },
  {
   "cell_type": "code",
   "execution_count": 5,
   "metadata": {},
   "outputs": [
    {
     "output_type": "execute_result",
     "data": {
      "text/plain": [
       "order_id              4622\n",
       "quantity              4622\n",
       "item_name             4622\n",
       "choice_description    3376\n",
       "item_price            4622\n",
       "dtype: int64"
      ]
     },
     "metadata": {},
     "execution_count": 5
    }
   ],
   "source": [
    "chipo.count()\n",
    "#None\n",
    "#NaN"
   ]
  },
  {
   "cell_type": "code",
   "execution_count": 6,
   "metadata": {},
   "outputs": [
    {
     "output_type": "execute_result",
     "data": {
      "text/plain": [
       "4622"
      ]
     },
     "metadata": {},
     "execution_count": 6
    }
   ],
   "source": [
    "chipo.shape[0]"
   ]
  },
  {
   "cell_type": "code",
   "execution_count": 7,
   "metadata": {
    "collapsed": false
   },
   "outputs": [
    {
     "output_type": "execute_result",
     "data": {
      "text/plain": [
       "4622"
      ]
     },
     "metadata": {},
     "execution_count": 7
    }
   ],
   "source": [
    "# Solution 1\n",
    "\n",
    "len(chipo)"
   ]
  },
  {
   "cell_type": "code",
   "execution_count": 8,
   "metadata": {
    "collapsed": false
   },
   "outputs": [
    {
     "output_type": "stream",
     "name": "stdout",
     "text": [
      "<class 'pandas.core.frame.DataFrame'>\nRangeIndex: 4622 entries, 0 to 4621\nData columns (total 5 columns):\norder_id              4622 non-null int64\nquantity              4622 non-null int64\nitem_name             4622 non-null object\nchoice_description    3376 non-null object\nitem_price            4622 non-null object\ndtypes: int64(2), object(3)\nmemory usage: 180.7+ KB\n"
     ]
    }
   ],
   "source": [
    "# Solution 2\n",
    "\n",
    "chipo.info()"
   ]
  },
  {
   "cell_type": "code",
   "execution_count": 9,
   "metadata": {},
   "outputs": [
    {
     "output_type": "execute_result",
     "data": {
      "text/plain": [
       "4622"
      ]
     },
     "metadata": {},
     "execution_count": 9
    }
   ],
   "source": [
    "len(chipo.index)"
   ]
  },
  {
   "cell_type": "markdown",
   "metadata": {},
   "source": [
    "### Step 6. What is the number of columns in the dataset?"
   ]
  },
  {
   "cell_type": "code",
   "execution_count": 10,
   "metadata": {
    "collapsed": false
   },
   "outputs": [
    {
     "output_type": "execute_result",
     "data": {
      "text/plain": [
       "5"
      ]
     },
     "metadata": {},
     "execution_count": 10
    }
   ],
   "source": [
    "chipo.shape[1]"
   ]
  },
  {
   "cell_type": "markdown",
   "metadata": {},
   "source": [
    "### Step 7. Print the name of all the columns."
   ]
  },
  {
   "cell_type": "code",
   "execution_count": 11,
   "metadata": {},
   "outputs": [],
   "source": [
    "l = [[2,4], [4,7]]"
   ]
  },
  {
   "cell_type": "code",
   "execution_count": 12,
   "metadata": {
    "collapsed": false
   },
   "outputs": [
    {
     "output_type": "execute_result",
     "data": {
      "text/plain": [
       "array(['order_id', 'quantity', 'item_name', 'choice_description',\n",
       "       'item_price'], dtype=object)"
      ]
     },
     "metadata": {},
     "execution_count": 12
    }
   ],
   "source": [
    "chipo.columns.values\n"
   ]
  },
  {
   "cell_type": "markdown",
   "metadata": {},
   "source": [
    "### Step 8. How is the dataset indexed?"
   ]
  },
  {
   "cell_type": "code",
   "execution_count": 13,
   "metadata": {
    "collapsed": false
   },
   "outputs": [
    {
     "output_type": "execute_result",
     "data": {
      "text/plain": [
       "RangeIndex(start=0, stop=4622, step=1)"
      ]
     },
     "metadata": {},
     "execution_count": 13
    }
   ],
   "source": [
    "chipo.index"
   ]
  },
  {
   "cell_type": "markdown",
   "metadata": {},
   "source": [
    "### Step 9. Which was the most-ordered item? "
   ]
  },
  {
   "cell_type": "code",
   "execution_count": 14,
   "metadata": {},
   "outputs": [
    {
     "output_type": "stream",
     "name": "stdout",
     "text": [
      "<class 'pandas.core.frame.DataFrame'>\nRangeIndex: 4622 entries, 0 to 4621\nData columns (total 5 columns):\norder_id              4622 non-null int64\nquantity              4622 non-null int64\nitem_name             4622 non-null object\nchoice_description    3376 non-null object\nitem_price            4622 non-null object\ndtypes: int64(2), object(3)\nmemory usage: 180.7+ KB\n"
     ]
    }
   ],
   "source": [
    "chipo.info()"
   ]
  },
  {
   "cell_type": "code",
   "execution_count": 15,
   "metadata": {},
   "outputs": [
    {
     "output_type": "execute_result",
     "data": {
      "text/plain": [
       "      order_id  quantity                              item_name  \\\n",
       "0            1         1           Chips and Fresh Tomato Salsa   \n",
       "1            1         1                                   Izze   \n",
       "2            1         1                       Nantucket Nectar   \n",
       "3            1         1  Chips and Tomatillo-Green Chili Salsa   \n",
       "4            2         2                           Chicken Bowl   \n",
       "...        ...       ...                                    ...   \n",
       "4617      1833         1                          Steak Burrito   \n",
       "4618      1833         1                          Steak Burrito   \n",
       "4619      1834         1                     Chicken Salad Bowl   \n",
       "4620      1834         1                     Chicken Salad Bowl   \n",
       "4621      1834         1                     Chicken Salad Bowl   \n",
       "\n",
       "                                     choice_description item_price  \n",
       "0                                                   NaN     $2.39   \n",
       "1                                          [Clementine]     $3.39   \n",
       "2                                               [Apple]     $3.39   \n",
       "3                                                   NaN     $2.39   \n",
       "4     [Tomatillo-Red Chili Salsa (Hot), [Black Beans...    $16.98   \n",
       "...                                                 ...        ...  \n",
       "4617  [Fresh Tomato Salsa, [Rice, Black Beans, Sour ...    $11.75   \n",
       "4618  [Fresh Tomato Salsa, [Rice, Sour Cream, Cheese...    $11.75   \n",
       "4619  [Fresh Tomato Salsa, [Fajita Vegetables, Pinto...    $11.25   \n",
       "4620  [Fresh Tomato Salsa, [Fajita Vegetables, Lettu...     $8.75   \n",
       "4621  [Fresh Tomato Salsa, [Fajita Vegetables, Pinto...     $8.75   \n",
       "\n",
       "[4622 rows x 5 columns]"
      ],
      "text/html": "<div>\n<style scoped>\n    .dataframe tbody tr th:only-of-type {\n        vertical-align: middle;\n    }\n\n    .dataframe tbody tr th {\n        vertical-align: top;\n    }\n\n    .dataframe thead th {\n        text-align: right;\n    }\n</style>\n<table border=\"1\" class=\"dataframe\">\n  <thead>\n    <tr style=\"text-align: right;\">\n      <th></th>\n      <th>order_id</th>\n      <th>quantity</th>\n      <th>item_name</th>\n      <th>choice_description</th>\n      <th>item_price</th>\n    </tr>\n  </thead>\n  <tbody>\n    <tr>\n      <th>0</th>\n      <td>1</td>\n      <td>1</td>\n      <td>Chips and Fresh Tomato Salsa</td>\n      <td>NaN</td>\n      <td>$2.39</td>\n    </tr>\n    <tr>\n      <th>1</th>\n      <td>1</td>\n      <td>1</td>\n      <td>Izze</td>\n      <td>[Clementine]</td>\n      <td>$3.39</td>\n    </tr>\n    <tr>\n      <th>2</th>\n      <td>1</td>\n      <td>1</td>\n      <td>Nantucket Nectar</td>\n      <td>[Apple]</td>\n      <td>$3.39</td>\n    </tr>\n    <tr>\n      <th>3</th>\n      <td>1</td>\n      <td>1</td>\n      <td>Chips and Tomatillo-Green Chili Salsa</td>\n      <td>NaN</td>\n      <td>$2.39</td>\n    </tr>\n    <tr>\n      <th>4</th>\n      <td>2</td>\n      <td>2</td>\n      <td>Chicken Bowl</td>\n      <td>[Tomatillo-Red Chili Salsa (Hot), [Black Beans...</td>\n      <td>$16.98</td>\n    </tr>\n    <tr>\n      <th>...</th>\n      <td>...</td>\n      <td>...</td>\n      <td>...</td>\n      <td>...</td>\n      <td>...</td>\n    </tr>\n    <tr>\n      <th>4617</th>\n      <td>1833</td>\n      <td>1</td>\n      <td>Steak Burrito</td>\n      <td>[Fresh Tomato Salsa, [Rice, Black Beans, Sour ...</td>\n      <td>$11.75</td>\n    </tr>\n    <tr>\n      <th>4618</th>\n      <td>1833</td>\n      <td>1</td>\n      <td>Steak Burrito</td>\n      <td>[Fresh Tomato Salsa, [Rice, Sour Cream, Cheese...</td>\n      <td>$11.75</td>\n    </tr>\n    <tr>\n      <th>4619</th>\n      <td>1834</td>\n      <td>1</td>\n      <td>Chicken Salad Bowl</td>\n      <td>[Fresh Tomato Salsa, [Fajita Vegetables, Pinto...</td>\n      <td>$11.25</td>\n    </tr>\n    <tr>\n      <th>4620</th>\n      <td>1834</td>\n      <td>1</td>\n      <td>Chicken Salad Bowl</td>\n      <td>[Fresh Tomato Salsa, [Fajita Vegetables, Lettu...</td>\n      <td>$8.75</td>\n    </tr>\n    <tr>\n      <th>4621</th>\n      <td>1834</td>\n      <td>1</td>\n      <td>Chicken Salad Bowl</td>\n      <td>[Fresh Tomato Salsa, [Fajita Vegetables, Pinto...</td>\n      <td>$8.75</td>\n    </tr>\n  </tbody>\n</table>\n<p>4622 rows × 5 columns</p>\n</div>"
     },
     "metadata": {},
     "execution_count": 15
    }
   ],
   "source": [
    "chipo"
   ]
  },
  {
   "cell_type": "code",
   "execution_count": 23,
   "metadata": {},
   "outputs": [
    {
     "output_type": "execute_result",
     "data": {
      "text/plain": [
       "                                      order_id                    quantity  \\\n",
       "                                           sum         mean count      sum   \n",
       "item_name                                                                    \n",
       "6 Pack Soft Drink                        52322   968.925926    54       55   \n",
       "Barbacoa Bowl                            53972   817.757576    66       66   \n",
       "Barbacoa Burrito                         74718   821.076923    91       91   \n",
       "Barbacoa Crispy Tacos                     5613   510.272727    11       12   \n",
       "Barbacoa Salad Bowl                       9708   970.800000    10       10   \n",
       "Barbacoa Soft Tacos                      18725   749.000000    25       25   \n",
       "Bottled Water                           175944  1086.074074   162      211   \n",
       "Bowl                                       472   236.000000     2        4   \n",
       "Burrito                                   1550   258.333333     6        6   \n",
       "Canned Soda                              76396   734.576923   104      126   \n",
       "Canned Soft Drink                       304753  1012.468439   301      351   \n",
       "Carnitas Bowl                            62742   922.676471    68       71   \n",
       "Carnitas Burrito                         51652   875.457627    59       60   \n",
       "Carnitas Crispy Tacos                     5868   838.285714     7        8   \n",
       "Carnitas Salad                            1500  1500.000000     1        1   \n",
       "Carnitas Salad Bowl                       6693  1115.500000     6        6   \n",
       "Carnitas Soft Tacos                      37673   941.825000    40       40   \n",
       "Chicken Bowl                            713926   983.369146   726      761   \n",
       "Chicken Burrito                         497303   899.282098   553      591   \n",
       "Chicken Crispy Tacos                     47382  1008.127660    47       50   \n",
       "Chicken Salad                            10465  1162.777778     9        9   \n",
       "Chicken Salad Bowl                      117104  1064.581818   110      123   \n",
       "Chicken Soft Tacos                       98395   855.608696   115      120   \n",
       "Chips                                   208004   985.800948   211      230   \n",
       "Chips and Fresh Tomato Salsa            100419   912.900000   110      130   \n",
       "Chips and Guacamole                     449959   939.371608   479      506   \n",
       "Chips and Mild Fresh Tomato Salsa          279   279.000000     1        1   \n",
       "Chips and Roasted Chili Corn Salsa       14999   681.772727    22       23   \n",
       "Chips and Roasted Chili-Corn Salsa       17462   970.111111    18       18   \n",
       "Chips and Tomatillo Green Chili Salsa    41170   957.441860    43       45   \n",
       "Chips and Tomatillo Red Chili Salsa      45556   949.083333    48       50   \n",
       "Chips and Tomatillo-Green Chili Salsa    21826   704.064516    31       33   \n",
       "Chips and Tomatillo-Red Chili Salsa      18344   917.200000    20       25   \n",
       "Crispy Tacos                               434   217.000000     2        2   \n",
       "Izze                                     10587   529.350000    20       20   \n",
       "Nantucket Nectar                         21814   807.925926    27       29   \n",
       "Salad                                     1150   575.000000     2        2   \n",
       "Side of Chips                            84769   839.297030   101      110   \n",
       "Steak Bowl                              193752   918.255924   211      221   \n",
       "Steak Burrito                           328437   892.491848   368      386   \n",
       "Steak Crispy Tacos                       35818  1023.371429    35       36   \n",
       "Steak Salad                               2362   590.500000     4        4   \n",
       "Steak Salad Bowl                         29590  1020.344828    29       31   \n",
       "Steak Soft Tacos                         50177   912.309091    55       56   \n",
       "Veggie Bowl                              72270   850.235294    85       87   \n",
       "Veggie Burrito                           80962   852.231579    95       97   \n",
       "Veggie Crispy Tacos                        668   668.000000     1        1   \n",
       "Veggie Salad                              7265  1210.833333     6        6   \n",
       "Veggie Salad Bowl                        17303   961.277778    18       18   \n",
       "Veggie Soft Tacos                         5520   788.571429     7        8   \n",
       "\n",
       "                                                       \n",
       "                                           mean count  \n",
       "item_name                                              \n",
       "6 Pack Soft Drink                      1.018519    54  \n",
       "Barbacoa Bowl                          1.000000    66  \n",
       "Barbacoa Burrito                       1.000000    91  \n",
       "Barbacoa Crispy Tacos                  1.090909    11  \n",
       "Barbacoa Salad Bowl                    1.000000    10  \n",
       "Barbacoa Soft Tacos                    1.000000    25  \n",
       "Bottled Water                          1.302469   162  \n",
       "Bowl                                   2.000000     2  \n",
       "Burrito                                1.000000     6  \n",
       "Canned Soda                            1.211538   104  \n",
       "Canned Soft Drink                      1.166113   301  \n",
       "Carnitas Bowl                          1.044118    68  \n",
       "Carnitas Burrito                       1.016949    59  \n",
       "Carnitas Crispy Tacos                  1.142857     7  \n",
       "Carnitas Salad                         1.000000     1  \n",
       "Carnitas Salad Bowl                    1.000000     6  \n",
       "Carnitas Soft Tacos                    1.000000    40  \n",
       "Chicken Bowl                           1.048209   726  \n",
       "Chicken Burrito                        1.068716   553  \n",
       "Chicken Crispy Tacos                   1.063830    47  \n",
       "Chicken Salad                          1.000000     9  \n",
       "Chicken Salad Bowl                     1.118182   110  \n",
       "Chicken Soft Tacos                     1.043478   115  \n",
       "Chips                                  1.090047   211  \n",
       "Chips and Fresh Tomato Salsa           1.181818   110  \n",
       "Chips and Guacamole                    1.056367   479  \n",
       "Chips and Mild Fresh Tomato Salsa      1.000000     1  \n",
       "Chips and Roasted Chili Corn Salsa     1.045455    22  \n",
       "Chips and Roasted Chili-Corn Salsa     1.000000    18  \n",
       "Chips and Tomatillo Green Chili Salsa  1.046512    43  \n",
       "Chips and Tomatillo Red Chili Salsa    1.041667    48  \n",
       "Chips and Tomatillo-Green Chili Salsa  1.064516    31  \n",
       "Chips and Tomatillo-Red Chili Salsa    1.250000    20  \n",
       "Crispy Tacos                           1.000000     2  \n",
       "Izze                                   1.000000    20  \n",
       "Nantucket Nectar                       1.074074    27  \n",
       "Salad                                  1.000000     2  \n",
       "Side of Chips                          1.089109   101  \n",
       "Steak Bowl                             1.047393   211  \n",
       "Steak Burrito                          1.048913   368  \n",
       "Steak Crispy Tacos                     1.028571    35  \n",
       "Steak Salad                            1.000000     4  \n",
       "Steak Salad Bowl                       1.068966    29  \n",
       "Steak Soft Tacos                       1.018182    55  \n",
       "Veggie Bowl                            1.023529    85  \n",
       "Veggie Burrito                         1.021053    95  \n",
       "Veggie Crispy Tacos                    1.000000     1  \n",
       "Veggie Salad                           1.000000     6  \n",
       "Veggie Salad Bowl                      1.000000    18  \n",
       "Veggie Soft Tacos                      1.142857     7  "
      ],
      "text/html": "<div>\n<style scoped>\n    .dataframe tbody tr th:only-of-type {\n        vertical-align: middle;\n    }\n\n    .dataframe tbody tr th {\n        vertical-align: top;\n    }\n\n    .dataframe thead tr th {\n        text-align: left;\n    }\n\n    .dataframe thead tr:last-of-type th {\n        text-align: right;\n    }\n</style>\n<table border=\"1\" class=\"dataframe\">\n  <thead>\n    <tr>\n      <th></th>\n      <th colspan=\"3\" halign=\"left\">order_id</th>\n      <th colspan=\"3\" halign=\"left\">quantity</th>\n    </tr>\n    <tr>\n      <th></th>\n      <th>sum</th>\n      <th>mean</th>\n      <th>count</th>\n      <th>sum</th>\n      <th>mean</th>\n      <th>count</th>\n    </tr>\n    <tr>\n      <th>item_name</th>\n      <th></th>\n      <th></th>\n      <th></th>\n      <th></th>\n      <th></th>\n      <th></th>\n    </tr>\n  </thead>\n  <tbody>\n    <tr>\n      <th>6 Pack Soft Drink</th>\n      <td>52322</td>\n      <td>968.925926</td>\n      <td>54</td>\n      <td>55</td>\n      <td>1.018519</td>\n      <td>54</td>\n    </tr>\n    <tr>\n      <th>Barbacoa Bowl</th>\n      <td>53972</td>\n      <td>817.757576</td>\n      <td>66</td>\n      <td>66</td>\n      <td>1.000000</td>\n      <td>66</td>\n    </tr>\n    <tr>\n      <th>Barbacoa Burrito</th>\n      <td>74718</td>\n      <td>821.076923</td>\n      <td>91</td>\n      <td>91</td>\n      <td>1.000000</td>\n      <td>91</td>\n    </tr>\n    <tr>\n      <th>Barbacoa Crispy Tacos</th>\n      <td>5613</td>\n      <td>510.272727</td>\n      <td>11</td>\n      <td>12</td>\n      <td>1.090909</td>\n      <td>11</td>\n    </tr>\n    <tr>\n      <th>Barbacoa Salad Bowl</th>\n      <td>9708</td>\n      <td>970.800000</td>\n      <td>10</td>\n      <td>10</td>\n      <td>1.000000</td>\n      <td>10</td>\n    </tr>\n    <tr>\n      <th>Barbacoa Soft Tacos</th>\n      <td>18725</td>\n      <td>749.000000</td>\n      <td>25</td>\n      <td>25</td>\n      <td>1.000000</td>\n      <td>25</td>\n    </tr>\n    <tr>\n      <th>Bottled Water</th>\n      <td>175944</td>\n      <td>1086.074074</td>\n      <td>162</td>\n      <td>211</td>\n      <td>1.302469</td>\n      <td>162</td>\n    </tr>\n    <tr>\n      <th>Bowl</th>\n      <td>472</td>\n      <td>236.000000</td>\n      <td>2</td>\n      <td>4</td>\n      <td>2.000000</td>\n      <td>2</td>\n    </tr>\n    <tr>\n      <th>Burrito</th>\n      <td>1550</td>\n      <td>258.333333</td>\n      <td>6</td>\n      <td>6</td>\n      <td>1.000000</td>\n      <td>6</td>\n    </tr>\n    <tr>\n      <th>Canned Soda</th>\n      <td>76396</td>\n      <td>734.576923</td>\n      <td>104</td>\n      <td>126</td>\n      <td>1.211538</td>\n      <td>104</td>\n    </tr>\n    <tr>\n      <th>Canned Soft Drink</th>\n      <td>304753</td>\n      <td>1012.468439</td>\n      <td>301</td>\n      <td>351</td>\n      <td>1.166113</td>\n      <td>301</td>\n    </tr>\n    <tr>\n      <th>Carnitas Bowl</th>\n      <td>62742</td>\n      <td>922.676471</td>\n      <td>68</td>\n      <td>71</td>\n      <td>1.044118</td>\n      <td>68</td>\n    </tr>\n    <tr>\n      <th>Carnitas Burrito</th>\n      <td>51652</td>\n      <td>875.457627</td>\n      <td>59</td>\n      <td>60</td>\n      <td>1.016949</td>\n      <td>59</td>\n    </tr>\n    <tr>\n      <th>Carnitas Crispy Tacos</th>\n      <td>5868</td>\n      <td>838.285714</td>\n      <td>7</td>\n      <td>8</td>\n      <td>1.142857</td>\n      <td>7</td>\n    </tr>\n    <tr>\n      <th>Carnitas Salad</th>\n      <td>1500</td>\n      <td>1500.000000</td>\n      <td>1</td>\n      <td>1</td>\n      <td>1.000000</td>\n      <td>1</td>\n    </tr>\n    <tr>\n      <th>Carnitas Salad Bowl</th>\n      <td>6693</td>\n      <td>1115.500000</td>\n      <td>6</td>\n      <td>6</td>\n      <td>1.000000</td>\n      <td>6</td>\n    </tr>\n    <tr>\n      <th>Carnitas Soft Tacos</th>\n      <td>37673</td>\n      <td>941.825000</td>\n      <td>40</td>\n      <td>40</td>\n      <td>1.000000</td>\n      <td>40</td>\n    </tr>\n    <tr>\n      <th>Chicken Bowl</th>\n      <td>713926</td>\n      <td>983.369146</td>\n      <td>726</td>\n      <td>761</td>\n      <td>1.048209</td>\n      <td>726</td>\n    </tr>\n    <tr>\n      <th>Chicken Burrito</th>\n      <td>497303</td>\n      <td>899.282098</td>\n      <td>553</td>\n      <td>591</td>\n      <td>1.068716</td>\n      <td>553</td>\n    </tr>\n    <tr>\n      <th>Chicken Crispy Tacos</th>\n      <td>47382</td>\n      <td>1008.127660</td>\n      <td>47</td>\n      <td>50</td>\n      <td>1.063830</td>\n      <td>47</td>\n    </tr>\n    <tr>\n      <th>Chicken Salad</th>\n      <td>10465</td>\n      <td>1162.777778</td>\n      <td>9</td>\n      <td>9</td>\n      <td>1.000000</td>\n      <td>9</td>\n    </tr>\n    <tr>\n      <th>Chicken Salad Bowl</th>\n      <td>117104</td>\n      <td>1064.581818</td>\n      <td>110</td>\n      <td>123</td>\n      <td>1.118182</td>\n      <td>110</td>\n    </tr>\n    <tr>\n      <th>Chicken Soft Tacos</th>\n      <td>98395</td>\n      <td>855.608696</td>\n      <td>115</td>\n      <td>120</td>\n      <td>1.043478</td>\n      <td>115</td>\n    </tr>\n    <tr>\n      <th>Chips</th>\n      <td>208004</td>\n      <td>985.800948</td>\n      <td>211</td>\n      <td>230</td>\n      <td>1.090047</td>\n      <td>211</td>\n    </tr>\n    <tr>\n      <th>Chips and Fresh Tomato Salsa</th>\n      <td>100419</td>\n      <td>912.900000</td>\n      <td>110</td>\n      <td>130</td>\n      <td>1.181818</td>\n      <td>110</td>\n    </tr>\n    <tr>\n      <th>Chips and Guacamole</th>\n      <td>449959</td>\n      <td>939.371608</td>\n      <td>479</td>\n      <td>506</td>\n      <td>1.056367</td>\n      <td>479</td>\n    </tr>\n    <tr>\n      <th>Chips and Mild Fresh Tomato Salsa</th>\n      <td>279</td>\n      <td>279.000000</td>\n      <td>1</td>\n      <td>1</td>\n      <td>1.000000</td>\n      <td>1</td>\n    </tr>\n    <tr>\n      <th>Chips and Roasted Chili Corn Salsa</th>\n      <td>14999</td>\n      <td>681.772727</td>\n      <td>22</td>\n      <td>23</td>\n      <td>1.045455</td>\n      <td>22</td>\n    </tr>\n    <tr>\n      <th>Chips and Roasted Chili-Corn Salsa</th>\n      <td>17462</td>\n      <td>970.111111</td>\n      <td>18</td>\n      <td>18</td>\n      <td>1.000000</td>\n      <td>18</td>\n    </tr>\n    <tr>\n      <th>Chips and Tomatillo Green Chili Salsa</th>\n      <td>41170</td>\n      <td>957.441860</td>\n      <td>43</td>\n      <td>45</td>\n      <td>1.046512</td>\n      <td>43</td>\n    </tr>\n    <tr>\n      <th>Chips and Tomatillo Red Chili Salsa</th>\n      <td>45556</td>\n      <td>949.083333</td>\n      <td>48</td>\n      <td>50</td>\n      <td>1.041667</td>\n      <td>48</td>\n    </tr>\n    <tr>\n      <th>Chips and Tomatillo-Green Chili Salsa</th>\n      <td>21826</td>\n      <td>704.064516</td>\n      <td>31</td>\n      <td>33</td>\n      <td>1.064516</td>\n      <td>31</td>\n    </tr>\n    <tr>\n      <th>Chips and Tomatillo-Red Chili Salsa</th>\n      <td>18344</td>\n      <td>917.200000</td>\n      <td>20</td>\n      <td>25</td>\n      <td>1.250000</td>\n      <td>20</td>\n    </tr>\n    <tr>\n      <th>Crispy Tacos</th>\n      <td>434</td>\n      <td>217.000000</td>\n      <td>2</td>\n      <td>2</td>\n      <td>1.000000</td>\n      <td>2</td>\n    </tr>\n    <tr>\n      <th>Izze</th>\n      <td>10587</td>\n      <td>529.350000</td>\n      <td>20</td>\n      <td>20</td>\n      <td>1.000000</td>\n      <td>20</td>\n    </tr>\n    <tr>\n      <th>Nantucket Nectar</th>\n      <td>21814</td>\n      <td>807.925926</td>\n      <td>27</td>\n      <td>29</td>\n      <td>1.074074</td>\n      <td>27</td>\n    </tr>\n    <tr>\n      <th>Salad</th>\n      <td>1150</td>\n      <td>575.000000</td>\n      <td>2</td>\n      <td>2</td>\n      <td>1.000000</td>\n      <td>2</td>\n    </tr>\n    <tr>\n      <th>Side of Chips</th>\n      <td>84769</td>\n      <td>839.297030</td>\n      <td>101</td>\n      <td>110</td>\n      <td>1.089109</td>\n      <td>101</td>\n    </tr>\n    <tr>\n      <th>Steak Bowl</th>\n      <td>193752</td>\n      <td>918.255924</td>\n      <td>211</td>\n      <td>221</td>\n      <td>1.047393</td>\n      <td>211</td>\n    </tr>\n    <tr>\n      <th>Steak Burrito</th>\n      <td>328437</td>\n      <td>892.491848</td>\n      <td>368</td>\n      <td>386</td>\n      <td>1.048913</td>\n      <td>368</td>\n    </tr>\n    <tr>\n      <th>Steak Crispy Tacos</th>\n      <td>35818</td>\n      <td>1023.371429</td>\n      <td>35</td>\n      <td>36</td>\n      <td>1.028571</td>\n      <td>35</td>\n    </tr>\n    <tr>\n      <th>Steak Salad</th>\n      <td>2362</td>\n      <td>590.500000</td>\n      <td>4</td>\n      <td>4</td>\n      <td>1.000000</td>\n      <td>4</td>\n    </tr>\n    <tr>\n      <th>Steak Salad Bowl</th>\n      <td>29590</td>\n      <td>1020.344828</td>\n      <td>29</td>\n      <td>31</td>\n      <td>1.068966</td>\n      <td>29</td>\n    </tr>\n    <tr>\n      <th>Steak Soft Tacos</th>\n      <td>50177</td>\n      <td>912.309091</td>\n      <td>55</td>\n      <td>56</td>\n      <td>1.018182</td>\n      <td>55</td>\n    </tr>\n    <tr>\n      <th>Veggie Bowl</th>\n      <td>72270</td>\n      <td>850.235294</td>\n      <td>85</td>\n      <td>87</td>\n      <td>1.023529</td>\n      <td>85</td>\n    </tr>\n    <tr>\n      <th>Veggie Burrito</th>\n      <td>80962</td>\n      <td>852.231579</td>\n      <td>95</td>\n      <td>97</td>\n      <td>1.021053</td>\n      <td>95</td>\n    </tr>\n    <tr>\n      <th>Veggie Crispy Tacos</th>\n      <td>668</td>\n      <td>668.000000</td>\n      <td>1</td>\n      <td>1</td>\n      <td>1.000000</td>\n      <td>1</td>\n    </tr>\n    <tr>\n      <th>Veggie Salad</th>\n      <td>7265</td>\n      <td>1210.833333</td>\n      <td>6</td>\n      <td>6</td>\n      <td>1.000000</td>\n      <td>6</td>\n    </tr>\n    <tr>\n      <th>Veggie Salad Bowl</th>\n      <td>17303</td>\n      <td>961.277778</td>\n      <td>18</td>\n      <td>18</td>\n      <td>1.000000</td>\n      <td>18</td>\n    </tr>\n    <tr>\n      <th>Veggie Soft Tacos</th>\n      <td>5520</td>\n      <td>788.571429</td>\n      <td>7</td>\n      <td>8</td>\n      <td>1.142857</td>\n      <td>7</td>\n    </tr>\n  </tbody>\n</table>\n</div>"
     },
     "metadata": {},
     "execution_count": 23
    }
   ],
   "source": [
    "chipo.groupby(\"item_name\").agg([\"sum\", \"mean\", \"count\"])"
   ]
  },
  {
   "cell_type": "code",
   "execution_count": 38,
   "metadata": {},
   "outputs": [
    {
     "output_type": "execute_result",
     "data": {
      "text/plain": [
       "      order_id  quantity                              item_name  \\\n",
       "0            1         1           Chips and Fresh Tomato Salsa   \n",
       "1            1         1                                   Izze   \n",
       "2            1         1                       Nantucket Nectar   \n",
       "3            1         1  Chips and Tomatillo-Green Chili Salsa   \n",
       "4            2         2                           Chicken Bowl   \n",
       "...        ...       ...                                    ...   \n",
       "4617      1833         1                          Steak Burrito   \n",
       "4618      1833         1                          Steak Burrito   \n",
       "4619      1834         1                     Chicken Salad Bowl   \n",
       "4620      1834         1                     Chicken Salad Bowl   \n",
       "4621      1834         1                     Chicken Salad Bowl   \n",
       "\n",
       "                                     choice_description item_price  \n",
       "0                                                   NaN     $2.39   \n",
       "1                                          [Clementine]     $3.39   \n",
       "2                                               [Apple]     $3.39   \n",
       "3                                                   NaN     $2.39   \n",
       "4     [Tomatillo-Red Chili Salsa (Hot), [Black Beans...    $16.98   \n",
       "...                                                 ...        ...  \n",
       "4617  [Fresh Tomato Salsa, [Rice, Black Beans, Sour ...    $11.75   \n",
       "4618  [Fresh Tomato Salsa, [Rice, Sour Cream, Cheese...    $11.75   \n",
       "4619  [Fresh Tomato Salsa, [Fajita Vegetables, Pinto...    $11.25   \n",
       "4620  [Fresh Tomato Salsa, [Fajita Vegetables, Lettu...     $8.75   \n",
       "4621  [Fresh Tomato Salsa, [Fajita Vegetables, Pinto...     $8.75   \n",
       "\n",
       "[4622 rows x 5 columns]"
      ],
      "text/html": "<div>\n<style scoped>\n    .dataframe tbody tr th:only-of-type {\n        vertical-align: middle;\n    }\n\n    .dataframe tbody tr th {\n        vertical-align: top;\n    }\n\n    .dataframe thead th {\n        text-align: right;\n    }\n</style>\n<table border=\"1\" class=\"dataframe\">\n  <thead>\n    <tr style=\"text-align: right;\">\n      <th></th>\n      <th>order_id</th>\n      <th>quantity</th>\n      <th>item_name</th>\n      <th>choice_description</th>\n      <th>item_price</th>\n    </tr>\n  </thead>\n  <tbody>\n    <tr>\n      <th>0</th>\n      <td>1</td>\n      <td>1</td>\n      <td>Chips and Fresh Tomato Salsa</td>\n      <td>NaN</td>\n      <td>$2.39</td>\n    </tr>\n    <tr>\n      <th>1</th>\n      <td>1</td>\n      <td>1</td>\n      <td>Izze</td>\n      <td>[Clementine]</td>\n      <td>$3.39</td>\n    </tr>\n    <tr>\n      <th>2</th>\n      <td>1</td>\n      <td>1</td>\n      <td>Nantucket Nectar</td>\n      <td>[Apple]</td>\n      <td>$3.39</td>\n    </tr>\n    <tr>\n      <th>3</th>\n      <td>1</td>\n      <td>1</td>\n      <td>Chips and Tomatillo-Green Chili Salsa</td>\n      <td>NaN</td>\n      <td>$2.39</td>\n    </tr>\n    <tr>\n      <th>4</th>\n      <td>2</td>\n      <td>2</td>\n      <td>Chicken Bowl</td>\n      <td>[Tomatillo-Red Chili Salsa (Hot), [Black Beans...</td>\n      <td>$16.98</td>\n    </tr>\n    <tr>\n      <th>...</th>\n      <td>...</td>\n      <td>...</td>\n      <td>...</td>\n      <td>...</td>\n      <td>...</td>\n    </tr>\n    <tr>\n      <th>4617</th>\n      <td>1833</td>\n      <td>1</td>\n      <td>Steak Burrito</td>\n      <td>[Fresh Tomato Salsa, [Rice, Black Beans, Sour ...</td>\n      <td>$11.75</td>\n    </tr>\n    <tr>\n      <th>4618</th>\n      <td>1833</td>\n      <td>1</td>\n      <td>Steak Burrito</td>\n      <td>[Fresh Tomato Salsa, [Rice, Sour Cream, Cheese...</td>\n      <td>$11.75</td>\n    </tr>\n    <tr>\n      <th>4619</th>\n      <td>1834</td>\n      <td>1</td>\n      <td>Chicken Salad Bowl</td>\n      <td>[Fresh Tomato Salsa, [Fajita Vegetables, Pinto...</td>\n      <td>$11.25</td>\n    </tr>\n    <tr>\n      <th>4620</th>\n      <td>1834</td>\n      <td>1</td>\n      <td>Chicken Salad Bowl</td>\n      <td>[Fresh Tomato Salsa, [Fajita Vegetables, Lettu...</td>\n      <td>$8.75</td>\n    </tr>\n    <tr>\n      <th>4621</th>\n      <td>1834</td>\n      <td>1</td>\n      <td>Chicken Salad Bowl</td>\n      <td>[Fresh Tomato Salsa, [Fajita Vegetables, Pinto...</td>\n      <td>$8.75</td>\n    </tr>\n  </tbody>\n</table>\n<p>4622 rows × 5 columns</p>\n</div>"
     },
     "metadata": {},
     "execution_count": 38
    }
   ],
   "source": [
    "chipo"
   ]
  },
  {
   "cell_type": "code",
   "execution_count": 42,
   "metadata": {},
   "outputs": [
    {
     "output_type": "execute_result",
     "data": {
      "text/plain": [
       "      order_id  quantity                              item_name  \\\n",
       "0            1         1           Chips and Fresh Tomato Salsa   \n",
       "1            1         1                                   Izze   \n",
       "2            1         1                       Nantucket Nectar   \n",
       "3            1         1  Chips and Tomatillo-Green Chili Salsa   \n",
       "4            2         2                           Chicken Bowl   \n",
       "...        ...       ...                                    ...   \n",
       "4617      1833         1                          Steak Burrito   \n",
       "4618      1833         1                          Steak Burrito   \n",
       "4619      1834         1                     Chicken Salad Bowl   \n",
       "4620      1834         1                     Chicken Salad Bowl   \n",
       "4621      1834         1                     Chicken Salad Bowl   \n",
       "\n",
       "                                     choice_description item_price  \n",
       "0                                                   NaN     $2.39   \n",
       "1                                          [Clementine]     $3.39   \n",
       "2                                               [Apple]     $3.39   \n",
       "3                                                   NaN     $2.39   \n",
       "4     [Tomatillo-Red Chili Salsa (Hot), [Black Beans...    $16.98   \n",
       "...                                                 ...        ...  \n",
       "4617  [Fresh Tomato Salsa, [Rice, Black Beans, Sour ...    $11.75   \n",
       "4618  [Fresh Tomato Salsa, [Rice, Sour Cream, Cheese...    $11.75   \n",
       "4619  [Fresh Tomato Salsa, [Fajita Vegetables, Pinto...    $11.25   \n",
       "4620  [Fresh Tomato Salsa, [Fajita Vegetables, Lettu...     $8.75   \n",
       "4621  [Fresh Tomato Salsa, [Fajita Vegetables, Pinto...     $8.75   \n",
       "\n",
       "[4622 rows x 5 columns]"
      ],
      "text/html": "<div>\n<style scoped>\n    .dataframe tbody tr th:only-of-type {\n        vertical-align: middle;\n    }\n\n    .dataframe tbody tr th {\n        vertical-align: top;\n    }\n\n    .dataframe thead th {\n        text-align: right;\n    }\n</style>\n<table border=\"1\" class=\"dataframe\">\n  <thead>\n    <tr style=\"text-align: right;\">\n      <th></th>\n      <th>order_id</th>\n      <th>quantity</th>\n      <th>item_name</th>\n      <th>choice_description</th>\n      <th>item_price</th>\n    </tr>\n  </thead>\n  <tbody>\n    <tr>\n      <th>0</th>\n      <td>1</td>\n      <td>1</td>\n      <td>Chips and Fresh Tomato Salsa</td>\n      <td>NaN</td>\n      <td>$2.39</td>\n    </tr>\n    <tr>\n      <th>1</th>\n      <td>1</td>\n      <td>1</td>\n      <td>Izze</td>\n      <td>[Clementine]</td>\n      <td>$3.39</td>\n    </tr>\n    <tr>\n      <th>2</th>\n      <td>1</td>\n      <td>1</td>\n      <td>Nantucket Nectar</td>\n      <td>[Apple]</td>\n      <td>$3.39</td>\n    </tr>\n    <tr>\n      <th>3</th>\n      <td>1</td>\n      <td>1</td>\n      <td>Chips and Tomatillo-Green Chili Salsa</td>\n      <td>NaN</td>\n      <td>$2.39</td>\n    </tr>\n    <tr>\n      <th>4</th>\n      <td>2</td>\n      <td>2</td>\n      <td>Chicken Bowl</td>\n      <td>[Tomatillo-Red Chili Salsa (Hot), [Black Beans...</td>\n      <td>$16.98</td>\n    </tr>\n    <tr>\n      <th>...</th>\n      <td>...</td>\n      <td>...</td>\n      <td>...</td>\n      <td>...</td>\n      <td>...</td>\n    </tr>\n    <tr>\n      <th>4617</th>\n      <td>1833</td>\n      <td>1</td>\n      <td>Steak Burrito</td>\n      <td>[Fresh Tomato Salsa, [Rice, Black Beans, Sour ...</td>\n      <td>$11.75</td>\n    </tr>\n    <tr>\n      <th>4618</th>\n      <td>1833</td>\n      <td>1</td>\n      <td>Steak Burrito</td>\n      <td>[Fresh Tomato Salsa, [Rice, Sour Cream, Cheese...</td>\n      <td>$11.75</td>\n    </tr>\n    <tr>\n      <th>4619</th>\n      <td>1834</td>\n      <td>1</td>\n      <td>Chicken Salad Bowl</td>\n      <td>[Fresh Tomato Salsa, [Fajita Vegetables, Pinto...</td>\n      <td>$11.25</td>\n    </tr>\n    <tr>\n      <th>4620</th>\n      <td>1834</td>\n      <td>1</td>\n      <td>Chicken Salad Bowl</td>\n      <td>[Fresh Tomato Salsa, [Fajita Vegetables, Lettu...</td>\n      <td>$8.75</td>\n    </tr>\n    <tr>\n      <th>4621</th>\n      <td>1834</td>\n      <td>1</td>\n      <td>Chicken Salad Bowl</td>\n      <td>[Fresh Tomato Salsa, [Fajita Vegetables, Pinto...</td>\n      <td>$8.75</td>\n    </tr>\n  </tbody>\n</table>\n<p>4622 rows × 5 columns</p>\n</div>"
     },
     "metadata": {},
     "execution_count": 42
    }
   ],
   "source": [
    "chipo3 = chipo.copy()\r\n",
    "chipo3"
   ]
  },
  {
   "cell_type": "code",
   "execution_count": 45,
   "metadata": {},
   "outputs": [
    {
     "output_type": "execute_result",
     "data": {
      "text/plain": [
       "                                item_name  quantity\n",
       "0                       6 Pack Soft Drink        55\n",
       "1                           Barbacoa Bowl        66\n",
       "2                        Barbacoa Burrito        91\n",
       "3                   Barbacoa Crispy Tacos        12\n",
       "4                     Barbacoa Salad Bowl        10\n",
       "5                     Barbacoa Soft Tacos        25\n",
       "6                           Bottled Water       211\n",
       "7                                    Bowl         4\n",
       "8                                 Burrito         6\n",
       "9                             Canned Soda       126\n",
       "10                      Canned Soft Drink       351\n",
       "11                          Carnitas Bowl        71\n",
       "12                       Carnitas Burrito        60\n",
       "13                  Carnitas Crispy Tacos         8\n",
       "14                         Carnitas Salad         1\n",
       "15                    Carnitas Salad Bowl         6\n",
       "16                    Carnitas Soft Tacos        40\n",
       "17                           Chicken Bowl       761\n",
       "18                        Chicken Burrito       591\n",
       "19                   Chicken Crispy Tacos        50\n",
       "20                          Chicken Salad         9\n",
       "21                     Chicken Salad Bowl       123\n",
       "22                     Chicken Soft Tacos       120\n",
       "23                                  Chips       230\n",
       "24           Chips and Fresh Tomato Salsa       130\n",
       "25                    Chips and Guacamole       506\n",
       "26      Chips and Mild Fresh Tomato Salsa         1\n",
       "27     Chips and Roasted Chili Corn Salsa        23\n",
       "28     Chips and Roasted Chili-Corn Salsa        18\n",
       "29  Chips and Tomatillo Green Chili Salsa        45\n",
       "30    Chips and Tomatillo Red Chili Salsa        50\n",
       "31  Chips and Tomatillo-Green Chili Salsa        33\n",
       "32    Chips and Tomatillo-Red Chili Salsa        25\n",
       "33                           Crispy Tacos         2\n",
       "34                                   Izze        20\n",
       "35                       Nantucket Nectar        29\n",
       "36                                  Salad         2\n",
       "37                          Side of Chips       110\n",
       "38                             Steak Bowl       221\n",
       "39                          Steak Burrito       386\n",
       "40                     Steak Crispy Tacos        36\n",
       "41                            Steak Salad         4\n",
       "42                       Steak Salad Bowl        31\n",
       "43                       Steak Soft Tacos        56\n",
       "44                            Veggie Bowl        87\n",
       "45                         Veggie Burrito        97\n",
       "46                    Veggie Crispy Tacos         1\n",
       "47                           Veggie Salad         6\n",
       "48                      Veggie Salad Bowl        18\n",
       "49                      Veggie Soft Tacos         8"
      ],
      "text/html": "<div>\n<style scoped>\n    .dataframe tbody tr th:only-of-type {\n        vertical-align: middle;\n    }\n\n    .dataframe tbody tr th {\n        vertical-align: top;\n    }\n\n    .dataframe thead th {\n        text-align: right;\n    }\n</style>\n<table border=\"1\" class=\"dataframe\">\n  <thead>\n    <tr style=\"text-align: right;\">\n      <th></th>\n      <th>item_name</th>\n      <th>quantity</th>\n    </tr>\n  </thead>\n  <tbody>\n    <tr>\n      <th>0</th>\n      <td>6 Pack Soft Drink</td>\n      <td>55</td>\n    </tr>\n    <tr>\n      <th>1</th>\n      <td>Barbacoa Bowl</td>\n      <td>66</td>\n    </tr>\n    <tr>\n      <th>2</th>\n      <td>Barbacoa Burrito</td>\n      <td>91</td>\n    </tr>\n    <tr>\n      <th>3</th>\n      <td>Barbacoa Crispy Tacos</td>\n      <td>12</td>\n    </tr>\n    <tr>\n      <th>4</th>\n      <td>Barbacoa Salad Bowl</td>\n      <td>10</td>\n    </tr>\n    <tr>\n      <th>5</th>\n      <td>Barbacoa Soft Tacos</td>\n      <td>25</td>\n    </tr>\n    <tr>\n      <th>6</th>\n      <td>Bottled Water</td>\n      <td>211</td>\n    </tr>\n    <tr>\n      <th>7</th>\n      <td>Bowl</td>\n      <td>4</td>\n    </tr>\n    <tr>\n      <th>8</th>\n      <td>Burrito</td>\n      <td>6</td>\n    </tr>\n    <tr>\n      <th>9</th>\n      <td>Canned Soda</td>\n      <td>126</td>\n    </tr>\n    <tr>\n      <th>10</th>\n      <td>Canned Soft Drink</td>\n      <td>351</td>\n    </tr>\n    <tr>\n      <th>11</th>\n      <td>Carnitas Bowl</td>\n      <td>71</td>\n    </tr>\n    <tr>\n      <th>12</th>\n      <td>Carnitas Burrito</td>\n      <td>60</td>\n    </tr>\n    <tr>\n      <th>13</th>\n      <td>Carnitas Crispy Tacos</td>\n      <td>8</td>\n    </tr>\n    <tr>\n      <th>14</th>\n      <td>Carnitas Salad</td>\n      <td>1</td>\n    </tr>\n    <tr>\n      <th>15</th>\n      <td>Carnitas Salad Bowl</td>\n      <td>6</td>\n    </tr>\n    <tr>\n      <th>16</th>\n      <td>Carnitas Soft Tacos</td>\n      <td>40</td>\n    </tr>\n    <tr>\n      <th>17</th>\n      <td>Chicken Bowl</td>\n      <td>761</td>\n    </tr>\n    <tr>\n      <th>18</th>\n      <td>Chicken Burrito</td>\n      <td>591</td>\n    </tr>\n    <tr>\n      <th>19</th>\n      <td>Chicken Crispy Tacos</td>\n      <td>50</td>\n    </tr>\n    <tr>\n      <th>20</th>\n      <td>Chicken Salad</td>\n      <td>9</td>\n    </tr>\n    <tr>\n      <th>21</th>\n      <td>Chicken Salad Bowl</td>\n      <td>123</td>\n    </tr>\n    <tr>\n      <th>22</th>\n      <td>Chicken Soft Tacos</td>\n      <td>120</td>\n    </tr>\n    <tr>\n      <th>23</th>\n      <td>Chips</td>\n      <td>230</td>\n    </tr>\n    <tr>\n      <th>24</th>\n      <td>Chips and Fresh Tomato Salsa</td>\n      <td>130</td>\n    </tr>\n    <tr>\n      <th>25</th>\n      <td>Chips and Guacamole</td>\n      <td>506</td>\n    </tr>\n    <tr>\n      <th>26</th>\n      <td>Chips and Mild Fresh Tomato Salsa</td>\n      <td>1</td>\n    </tr>\n    <tr>\n      <th>27</th>\n      <td>Chips and Roasted Chili Corn Salsa</td>\n      <td>23</td>\n    </tr>\n    <tr>\n      <th>28</th>\n      <td>Chips and Roasted Chili-Corn Salsa</td>\n      <td>18</td>\n    </tr>\n    <tr>\n      <th>29</th>\n      <td>Chips and Tomatillo Green Chili Salsa</td>\n      <td>45</td>\n    </tr>\n    <tr>\n      <th>30</th>\n      <td>Chips and Tomatillo Red Chili Salsa</td>\n      <td>50</td>\n    </tr>\n    <tr>\n      <th>31</th>\n      <td>Chips and Tomatillo-Green Chili Salsa</td>\n      <td>33</td>\n    </tr>\n    <tr>\n      <th>32</th>\n      <td>Chips and Tomatillo-Red Chili Salsa</td>\n      <td>25</td>\n    </tr>\n    <tr>\n      <th>33</th>\n      <td>Crispy Tacos</td>\n      <td>2</td>\n    </tr>\n    <tr>\n      <th>34</th>\n      <td>Izze</td>\n      <td>20</td>\n    </tr>\n    <tr>\n      <th>35</th>\n      <td>Nantucket Nectar</td>\n      <td>29</td>\n    </tr>\n    <tr>\n      <th>36</th>\n      <td>Salad</td>\n      <td>2</td>\n    </tr>\n    <tr>\n      <th>37</th>\n      <td>Side of Chips</td>\n      <td>110</td>\n    </tr>\n    <tr>\n      <th>38</th>\n      <td>Steak Bowl</td>\n      <td>221</td>\n    </tr>\n    <tr>\n      <th>39</th>\n      <td>Steak Burrito</td>\n      <td>386</td>\n    </tr>\n    <tr>\n      <th>40</th>\n      <td>Steak Crispy Tacos</td>\n      <td>36</td>\n    </tr>\n    <tr>\n      <th>41</th>\n      <td>Steak Salad</td>\n      <td>4</td>\n    </tr>\n    <tr>\n      <th>42</th>\n      <td>Steak Salad Bowl</td>\n      <td>31</td>\n    </tr>\n    <tr>\n      <th>43</th>\n      <td>Steak Soft Tacos</td>\n      <td>56</td>\n    </tr>\n    <tr>\n      <th>44</th>\n      <td>Veggie Bowl</td>\n      <td>87</td>\n    </tr>\n    <tr>\n      <th>45</th>\n      <td>Veggie Burrito</td>\n      <td>97</td>\n    </tr>\n    <tr>\n      <th>46</th>\n      <td>Veggie Crispy Tacos</td>\n      <td>1</td>\n    </tr>\n    <tr>\n      <th>47</th>\n      <td>Veggie Salad</td>\n      <td>6</td>\n    </tr>\n    <tr>\n      <th>48</th>\n      <td>Veggie Salad Bowl</td>\n      <td>18</td>\n    </tr>\n    <tr>\n      <th>49</th>\n      <td>Veggie Soft Tacos</td>\n      <td>8</td>\n    </tr>\n  </tbody>\n</table>\n</div>"
     },
     "metadata": {},
     "execution_count": 45
    }
   ],
   "source": [
    "chipo3 = chipo3.groupby(\"item_name\").sum().drop(columns=[\"order_id\"]).reset_index()\n",
    "\n",
    "chipo3"
   ]
  },
  {
   "cell_type": "code",
   "execution_count": 52,
   "metadata": {},
   "outputs": [
    {
     "output_type": "execute_result",
     "data": {
      "text/plain": [
       "      order_id  quantity                              item_name  \\\n",
       "0            1         1           Chips and Fresh Tomato Salsa   \n",
       "1            1         1                                   Izze   \n",
       "2            1         1                       Nantucket Nectar   \n",
       "3            1         1  Chips and Tomatillo-Green Chili Salsa   \n",
       "4            2         2                           Chicken Bowl   \n",
       "...        ...       ...                                    ...   \n",
       "4617      1833         1                          Steak Burrito   \n",
       "4618      1833         1                          Steak Burrito   \n",
       "4619      1834         1                     Chicken Salad Bowl   \n",
       "4620      1834         1                     Chicken Salad Bowl   \n",
       "4621      1834         1                     Chicken Salad Bowl   \n",
       "\n",
       "                                     choice_description item_price  \n",
       "0                                                   NaN     $2.39   \n",
       "1                                          [Clementine]     $3.39   \n",
       "2                                               [Apple]     $3.39   \n",
       "3                                                   NaN     $2.39   \n",
       "4     [Tomatillo-Red Chili Salsa (Hot), [Black Beans...    $16.98   \n",
       "...                                                 ...        ...  \n",
       "4617  [Fresh Tomato Salsa, [Rice, Black Beans, Sour ...    $11.75   \n",
       "4618  [Fresh Tomato Salsa, [Rice, Sour Cream, Cheese...    $11.75   \n",
       "4619  [Fresh Tomato Salsa, [Fajita Vegetables, Pinto...    $11.25   \n",
       "4620  [Fresh Tomato Salsa, [Fajita Vegetables, Lettu...     $8.75   \n",
       "4621  [Fresh Tomato Salsa, [Fajita Vegetables, Pinto...     $8.75   \n",
       "\n",
       "[4622 rows x 5 columns]"
      ],
      "text/html": "<div>\n<style scoped>\n    .dataframe tbody tr th:only-of-type {\n        vertical-align: middle;\n    }\n\n    .dataframe tbody tr th {\n        vertical-align: top;\n    }\n\n    .dataframe thead th {\n        text-align: right;\n    }\n</style>\n<table border=\"1\" class=\"dataframe\">\n  <thead>\n    <tr style=\"text-align: right;\">\n      <th></th>\n      <th>order_id</th>\n      <th>quantity</th>\n      <th>item_name</th>\n      <th>choice_description</th>\n      <th>item_price</th>\n    </tr>\n  </thead>\n  <tbody>\n    <tr>\n      <th>0</th>\n      <td>1</td>\n      <td>1</td>\n      <td>Chips and Fresh Tomato Salsa</td>\n      <td>NaN</td>\n      <td>$2.39</td>\n    </tr>\n    <tr>\n      <th>1</th>\n      <td>1</td>\n      <td>1</td>\n      <td>Izze</td>\n      <td>[Clementine]</td>\n      <td>$3.39</td>\n    </tr>\n    <tr>\n      <th>2</th>\n      <td>1</td>\n      <td>1</td>\n      <td>Nantucket Nectar</td>\n      <td>[Apple]</td>\n      <td>$3.39</td>\n    </tr>\n    <tr>\n      <th>3</th>\n      <td>1</td>\n      <td>1</td>\n      <td>Chips and Tomatillo-Green Chili Salsa</td>\n      <td>NaN</td>\n      <td>$2.39</td>\n    </tr>\n    <tr>\n      <th>4</th>\n      <td>2</td>\n      <td>2</td>\n      <td>Chicken Bowl</td>\n      <td>[Tomatillo-Red Chili Salsa (Hot), [Black Beans...</td>\n      <td>$16.98</td>\n    </tr>\n    <tr>\n      <th>...</th>\n      <td>...</td>\n      <td>...</td>\n      <td>...</td>\n      <td>...</td>\n      <td>...</td>\n    </tr>\n    <tr>\n      <th>4617</th>\n      <td>1833</td>\n      <td>1</td>\n      <td>Steak Burrito</td>\n      <td>[Fresh Tomato Salsa, [Rice, Black Beans, Sour ...</td>\n      <td>$11.75</td>\n    </tr>\n    <tr>\n      <th>4618</th>\n      <td>1833</td>\n      <td>1</td>\n      <td>Steak Burrito</td>\n      <td>[Fresh Tomato Salsa, [Rice, Sour Cream, Cheese...</td>\n      <td>$11.75</td>\n    </tr>\n    <tr>\n      <th>4619</th>\n      <td>1834</td>\n      <td>1</td>\n      <td>Chicken Salad Bowl</td>\n      <td>[Fresh Tomato Salsa, [Fajita Vegetables, Pinto...</td>\n      <td>$11.25</td>\n    </tr>\n    <tr>\n      <th>4620</th>\n      <td>1834</td>\n      <td>1</td>\n      <td>Chicken Salad Bowl</td>\n      <td>[Fresh Tomato Salsa, [Fajita Vegetables, Lettu...</td>\n      <td>$8.75</td>\n    </tr>\n    <tr>\n      <th>4621</th>\n      <td>1834</td>\n      <td>1</td>\n      <td>Chicken Salad Bowl</td>\n      <td>[Fresh Tomato Salsa, [Fajita Vegetables, Pinto...</td>\n      <td>$8.75</td>\n    </tr>\n  </tbody>\n</table>\n<p>4622 rows × 5 columns</p>\n</div>"
     },
     "metadata": {},
     "execution_count": 52
    }
   ],
   "source": [
    "chipo.groupby(\"item_name\").sum().drop(columns=[\"order_id\"]).reset_index(inplace=True)\n",
    "\n",
    "chipo"
   ]
  },
  {
   "cell_type": "code",
   "execution_count": 40,
   "metadata": {
    "collapsed": false
   },
   "outputs": [
    {
     "output_type": "execute_result",
     "data": {
      "text/plain": [
       "                                item_name  quantity\n",
       "0                       6 Pack Soft Drink        55\n",
       "1                           Barbacoa Bowl        66\n",
       "2                        Barbacoa Burrito        91\n",
       "3                   Barbacoa Crispy Tacos        12\n",
       "4                     Barbacoa Salad Bowl        10\n",
       "5                     Barbacoa Soft Tacos        25\n",
       "6                           Bottled Water       211\n",
       "7                                    Bowl         4\n",
       "8                                 Burrito         6\n",
       "9                             Canned Soda       126\n",
       "10                      Canned Soft Drink       351\n",
       "11                          Carnitas Bowl        71\n",
       "12                       Carnitas Burrito        60\n",
       "13                  Carnitas Crispy Tacos         8\n",
       "14                         Carnitas Salad         1\n",
       "15                    Carnitas Salad Bowl         6\n",
       "16                    Carnitas Soft Tacos        40\n",
       "17                           Chicken Bowl       761\n",
       "18                        Chicken Burrito       591\n",
       "19                   Chicken Crispy Tacos        50\n",
       "20                          Chicken Salad         9\n",
       "21                     Chicken Salad Bowl       123\n",
       "22                     Chicken Soft Tacos       120\n",
       "23                                  Chips       230\n",
       "24           Chips and Fresh Tomato Salsa       130\n",
       "25                    Chips and Guacamole       506\n",
       "26      Chips and Mild Fresh Tomato Salsa         1\n",
       "27     Chips and Roasted Chili Corn Salsa        23\n",
       "28     Chips and Roasted Chili-Corn Salsa        18\n",
       "29  Chips and Tomatillo Green Chili Salsa        45\n",
       "30    Chips and Tomatillo Red Chili Salsa        50\n",
       "31  Chips and Tomatillo-Green Chili Salsa        33\n",
       "32    Chips and Tomatillo-Red Chili Salsa        25\n",
       "33                           Crispy Tacos         2\n",
       "34                                   Izze        20\n",
       "35                       Nantucket Nectar        29\n",
       "36                                  Salad         2\n",
       "37                          Side of Chips       110\n",
       "38                             Steak Bowl       221\n",
       "39                          Steak Burrito       386\n",
       "40                     Steak Crispy Tacos        36\n",
       "41                            Steak Salad         4\n",
       "42                       Steak Salad Bowl        31\n",
       "43                       Steak Soft Tacos        56\n",
       "44                            Veggie Bowl        87\n",
       "45                         Veggie Burrito        97\n",
       "46                    Veggie Crispy Tacos         1\n",
       "47                           Veggie Salad         6\n",
       "48                      Veggie Salad Bowl        18\n",
       "49                      Veggie Soft Tacos         8"
      ],
      "text/html": "<div>\n<style scoped>\n    .dataframe tbody tr th:only-of-type {\n        vertical-align: middle;\n    }\n\n    .dataframe tbody tr th {\n        vertical-align: top;\n    }\n\n    .dataframe thead th {\n        text-align: right;\n    }\n</style>\n<table border=\"1\" class=\"dataframe\">\n  <thead>\n    <tr style=\"text-align: right;\">\n      <th></th>\n      <th>item_name</th>\n      <th>quantity</th>\n    </tr>\n  </thead>\n  <tbody>\n    <tr>\n      <th>0</th>\n      <td>6 Pack Soft Drink</td>\n      <td>55</td>\n    </tr>\n    <tr>\n      <th>1</th>\n      <td>Barbacoa Bowl</td>\n      <td>66</td>\n    </tr>\n    <tr>\n      <th>2</th>\n      <td>Barbacoa Burrito</td>\n      <td>91</td>\n    </tr>\n    <tr>\n      <th>3</th>\n      <td>Barbacoa Crispy Tacos</td>\n      <td>12</td>\n    </tr>\n    <tr>\n      <th>4</th>\n      <td>Barbacoa Salad Bowl</td>\n      <td>10</td>\n    </tr>\n    <tr>\n      <th>5</th>\n      <td>Barbacoa Soft Tacos</td>\n      <td>25</td>\n    </tr>\n    <tr>\n      <th>6</th>\n      <td>Bottled Water</td>\n      <td>211</td>\n    </tr>\n    <tr>\n      <th>7</th>\n      <td>Bowl</td>\n      <td>4</td>\n    </tr>\n    <tr>\n      <th>8</th>\n      <td>Burrito</td>\n      <td>6</td>\n    </tr>\n    <tr>\n      <th>9</th>\n      <td>Canned Soda</td>\n      <td>126</td>\n    </tr>\n    <tr>\n      <th>10</th>\n      <td>Canned Soft Drink</td>\n      <td>351</td>\n    </tr>\n    <tr>\n      <th>11</th>\n      <td>Carnitas Bowl</td>\n      <td>71</td>\n    </tr>\n    <tr>\n      <th>12</th>\n      <td>Carnitas Burrito</td>\n      <td>60</td>\n    </tr>\n    <tr>\n      <th>13</th>\n      <td>Carnitas Crispy Tacos</td>\n      <td>8</td>\n    </tr>\n    <tr>\n      <th>14</th>\n      <td>Carnitas Salad</td>\n      <td>1</td>\n    </tr>\n    <tr>\n      <th>15</th>\n      <td>Carnitas Salad Bowl</td>\n      <td>6</td>\n    </tr>\n    <tr>\n      <th>16</th>\n      <td>Carnitas Soft Tacos</td>\n      <td>40</td>\n    </tr>\n    <tr>\n      <th>17</th>\n      <td>Chicken Bowl</td>\n      <td>761</td>\n    </tr>\n    <tr>\n      <th>18</th>\n      <td>Chicken Burrito</td>\n      <td>591</td>\n    </tr>\n    <tr>\n      <th>19</th>\n      <td>Chicken Crispy Tacos</td>\n      <td>50</td>\n    </tr>\n    <tr>\n      <th>20</th>\n      <td>Chicken Salad</td>\n      <td>9</td>\n    </tr>\n    <tr>\n      <th>21</th>\n      <td>Chicken Salad Bowl</td>\n      <td>123</td>\n    </tr>\n    <tr>\n      <th>22</th>\n      <td>Chicken Soft Tacos</td>\n      <td>120</td>\n    </tr>\n    <tr>\n      <th>23</th>\n      <td>Chips</td>\n      <td>230</td>\n    </tr>\n    <tr>\n      <th>24</th>\n      <td>Chips and Fresh Tomato Salsa</td>\n      <td>130</td>\n    </tr>\n    <tr>\n      <th>25</th>\n      <td>Chips and Guacamole</td>\n      <td>506</td>\n    </tr>\n    <tr>\n      <th>26</th>\n      <td>Chips and Mild Fresh Tomato Salsa</td>\n      <td>1</td>\n    </tr>\n    <tr>\n      <th>27</th>\n      <td>Chips and Roasted Chili Corn Salsa</td>\n      <td>23</td>\n    </tr>\n    <tr>\n      <th>28</th>\n      <td>Chips and Roasted Chili-Corn Salsa</td>\n      <td>18</td>\n    </tr>\n    <tr>\n      <th>29</th>\n      <td>Chips and Tomatillo Green Chili Salsa</td>\n      <td>45</td>\n    </tr>\n    <tr>\n      <th>30</th>\n      <td>Chips and Tomatillo Red Chili Salsa</td>\n      <td>50</td>\n    </tr>\n    <tr>\n      <th>31</th>\n      <td>Chips and Tomatillo-Green Chili Salsa</td>\n      <td>33</td>\n    </tr>\n    <tr>\n      <th>32</th>\n      <td>Chips and Tomatillo-Red Chili Salsa</td>\n      <td>25</td>\n    </tr>\n    <tr>\n      <th>33</th>\n      <td>Crispy Tacos</td>\n      <td>2</td>\n    </tr>\n    <tr>\n      <th>34</th>\n      <td>Izze</td>\n      <td>20</td>\n    </tr>\n    <tr>\n      <th>35</th>\n      <td>Nantucket Nectar</td>\n      <td>29</td>\n    </tr>\n    <tr>\n      <th>36</th>\n      <td>Salad</td>\n      <td>2</td>\n    </tr>\n    <tr>\n      <th>37</th>\n      <td>Side of Chips</td>\n      <td>110</td>\n    </tr>\n    <tr>\n      <th>38</th>\n      <td>Steak Bowl</td>\n      <td>221</td>\n    </tr>\n    <tr>\n      <th>39</th>\n      <td>Steak Burrito</td>\n      <td>386</td>\n    </tr>\n    <tr>\n      <th>40</th>\n      <td>Steak Crispy Tacos</td>\n      <td>36</td>\n    </tr>\n    <tr>\n      <th>41</th>\n      <td>Steak Salad</td>\n      <td>4</td>\n    </tr>\n    <tr>\n      <th>42</th>\n      <td>Steak Salad Bowl</td>\n      <td>31</td>\n    </tr>\n    <tr>\n      <th>43</th>\n      <td>Steak Soft Tacos</td>\n      <td>56</td>\n    </tr>\n    <tr>\n      <th>44</th>\n      <td>Veggie Bowl</td>\n      <td>87</td>\n    </tr>\n    <tr>\n      <th>45</th>\n      <td>Veggie Burrito</td>\n      <td>97</td>\n    </tr>\n    <tr>\n      <th>46</th>\n      <td>Veggie Crispy Tacos</td>\n      <td>1</td>\n    </tr>\n    <tr>\n      <th>47</th>\n      <td>Veggie Salad</td>\n      <td>6</td>\n    </tr>\n    <tr>\n      <th>48</th>\n      <td>Veggie Salad Bowl</td>\n      <td>18</td>\n    </tr>\n    <tr>\n      <th>49</th>\n      <td>Veggie Soft Tacos</td>\n      <td>8</td>\n    </tr>\n  </tbody>\n</table>\n</div>"
     },
     "metadata": {},
     "execution_count": 40
    }
   ],
   "source": [
    "chipo2 = chipo.groupby(\"item_name\").sum().drop(columns=[\"order_id\"]).reset_index()\r\n",
    "\r\n",
    "chipo2"
   ]
  },
  {
   "cell_type": "code",
   "execution_count": 18,
   "metadata": {},
   "outputs": [
    {
     "output_type": "execute_result",
     "data": {
      "text/plain": [
       "                                       order_id  quantity\n",
       "item_name                                                \n",
       "6 Pack Soft Drink                         52322        55\n",
       "Barbacoa Bowl                             53972        66\n",
       "Barbacoa Burrito                          74718        91\n",
       "Barbacoa Crispy Tacos                      5613        12\n",
       "Barbacoa Salad Bowl                        9708        10\n",
       "Barbacoa Soft Tacos                       18725        25\n",
       "Bottled Water                            175944       211\n",
       "Bowl                                        472         4\n",
       "Burrito                                    1550         6\n",
       "Canned Soda                               76396       126\n",
       "Canned Soft Drink                        304753       351\n",
       "Carnitas Bowl                             62742        71\n",
       "Carnitas Burrito                          51652        60\n",
       "Carnitas Crispy Tacos                      5868         8\n",
       "Carnitas Salad                             1500         1\n",
       "Carnitas Salad Bowl                        6693         6\n",
       "Carnitas Soft Tacos                       37673        40\n",
       "Chicken Bowl                             713926       761\n",
       "Chicken Burrito                          497303       591\n",
       "Chicken Crispy Tacos                      47382        50\n",
       "Chicken Salad                             10465         9\n",
       "Chicken Salad Bowl                       117104       123\n",
       "Chicken Soft Tacos                        98395       120\n",
       "Chips                                    208004       230\n",
       "Chips and Fresh Tomato Salsa             100419       130\n",
       "Chips and Guacamole                      449959       506\n",
       "Chips and Mild Fresh Tomato Salsa           279         1\n",
       "Chips and Roasted Chili Corn Salsa        14999        23\n",
       "Chips and Roasted Chili-Corn Salsa        17462        18\n",
       "Chips and Tomatillo Green Chili Salsa     41170        45\n",
       "Chips and Tomatillo Red Chili Salsa       45556        50\n",
       "Chips and Tomatillo-Green Chili Salsa     21826        33\n",
       "Chips and Tomatillo-Red Chili Salsa       18344        25\n",
       "Crispy Tacos                                434         2\n",
       "Izze                                      10587        20\n",
       "Nantucket Nectar                          21814        29\n",
       "Salad                                      1150         2\n",
       "Side of Chips                             84769       110\n",
       "Steak Bowl                               193752       221\n",
       "Steak Burrito                            328437       386\n",
       "Steak Crispy Tacos                        35818        36\n",
       "Steak Salad                                2362         4\n",
       "Steak Salad Bowl                          29590        31\n",
       "Steak Soft Tacos                          50177        56\n",
       "Veggie Bowl                               72270        87\n",
       "Veggie Burrito                            80962        97\n",
       "Veggie Crispy Tacos                         668         1\n",
       "Veggie Salad                               7265         6\n",
       "Veggie Salad Bowl                         17303        18\n",
       "Veggie Soft Tacos                          5520         8"
      ],
      "text/html": "<div>\n<style scoped>\n    .dataframe tbody tr th:only-of-type {\n        vertical-align: middle;\n    }\n\n    .dataframe tbody tr th {\n        vertical-align: top;\n    }\n\n    .dataframe thead th {\n        text-align: right;\n    }\n</style>\n<table border=\"1\" class=\"dataframe\">\n  <thead>\n    <tr style=\"text-align: right;\">\n      <th></th>\n      <th>order_id</th>\n      <th>quantity</th>\n    </tr>\n    <tr>\n      <th>item_name</th>\n      <th></th>\n      <th></th>\n    </tr>\n  </thead>\n  <tbody>\n    <tr>\n      <th>6 Pack Soft Drink</th>\n      <td>52322</td>\n      <td>55</td>\n    </tr>\n    <tr>\n      <th>Barbacoa Bowl</th>\n      <td>53972</td>\n      <td>66</td>\n    </tr>\n    <tr>\n      <th>Barbacoa Burrito</th>\n      <td>74718</td>\n      <td>91</td>\n    </tr>\n    <tr>\n      <th>Barbacoa Crispy Tacos</th>\n      <td>5613</td>\n      <td>12</td>\n    </tr>\n    <tr>\n      <th>Barbacoa Salad Bowl</th>\n      <td>9708</td>\n      <td>10</td>\n    </tr>\n    <tr>\n      <th>Barbacoa Soft Tacos</th>\n      <td>18725</td>\n      <td>25</td>\n    </tr>\n    <tr>\n      <th>Bottled Water</th>\n      <td>175944</td>\n      <td>211</td>\n    </tr>\n    <tr>\n      <th>Bowl</th>\n      <td>472</td>\n      <td>4</td>\n    </tr>\n    <tr>\n      <th>Burrito</th>\n      <td>1550</td>\n      <td>6</td>\n    </tr>\n    <tr>\n      <th>Canned Soda</th>\n      <td>76396</td>\n      <td>126</td>\n    </tr>\n    <tr>\n      <th>Canned Soft Drink</th>\n      <td>304753</td>\n      <td>351</td>\n    </tr>\n    <tr>\n      <th>Carnitas Bowl</th>\n      <td>62742</td>\n      <td>71</td>\n    </tr>\n    <tr>\n      <th>Carnitas Burrito</th>\n      <td>51652</td>\n      <td>60</td>\n    </tr>\n    <tr>\n      <th>Carnitas Crispy Tacos</th>\n      <td>5868</td>\n      <td>8</td>\n    </tr>\n    <tr>\n      <th>Carnitas Salad</th>\n      <td>1500</td>\n      <td>1</td>\n    </tr>\n    <tr>\n      <th>Carnitas Salad Bowl</th>\n      <td>6693</td>\n      <td>6</td>\n    </tr>\n    <tr>\n      <th>Carnitas Soft Tacos</th>\n      <td>37673</td>\n      <td>40</td>\n    </tr>\n    <tr>\n      <th>Chicken Bowl</th>\n      <td>713926</td>\n      <td>761</td>\n    </tr>\n    <tr>\n      <th>Chicken Burrito</th>\n      <td>497303</td>\n      <td>591</td>\n    </tr>\n    <tr>\n      <th>Chicken Crispy Tacos</th>\n      <td>47382</td>\n      <td>50</td>\n    </tr>\n    <tr>\n      <th>Chicken Salad</th>\n      <td>10465</td>\n      <td>9</td>\n    </tr>\n    <tr>\n      <th>Chicken Salad Bowl</th>\n      <td>117104</td>\n      <td>123</td>\n    </tr>\n    <tr>\n      <th>Chicken Soft Tacos</th>\n      <td>98395</td>\n      <td>120</td>\n    </tr>\n    <tr>\n      <th>Chips</th>\n      <td>208004</td>\n      <td>230</td>\n    </tr>\n    <tr>\n      <th>Chips and Fresh Tomato Salsa</th>\n      <td>100419</td>\n      <td>130</td>\n    </tr>\n    <tr>\n      <th>Chips and Guacamole</th>\n      <td>449959</td>\n      <td>506</td>\n    </tr>\n    <tr>\n      <th>Chips and Mild Fresh Tomato Salsa</th>\n      <td>279</td>\n      <td>1</td>\n    </tr>\n    <tr>\n      <th>Chips and Roasted Chili Corn Salsa</th>\n      <td>14999</td>\n      <td>23</td>\n    </tr>\n    <tr>\n      <th>Chips and Roasted Chili-Corn Salsa</th>\n      <td>17462</td>\n      <td>18</td>\n    </tr>\n    <tr>\n      <th>Chips and Tomatillo Green Chili Salsa</th>\n      <td>41170</td>\n      <td>45</td>\n    </tr>\n    <tr>\n      <th>Chips and Tomatillo Red Chili Salsa</th>\n      <td>45556</td>\n      <td>50</td>\n    </tr>\n    <tr>\n      <th>Chips and Tomatillo-Green Chili Salsa</th>\n      <td>21826</td>\n      <td>33</td>\n    </tr>\n    <tr>\n      <th>Chips and Tomatillo-Red Chili Salsa</th>\n      <td>18344</td>\n      <td>25</td>\n    </tr>\n    <tr>\n      <th>Crispy Tacos</th>\n      <td>434</td>\n      <td>2</td>\n    </tr>\n    <tr>\n      <th>Izze</th>\n      <td>10587</td>\n      <td>20</td>\n    </tr>\n    <tr>\n      <th>Nantucket Nectar</th>\n      <td>21814</td>\n      <td>29</td>\n    </tr>\n    <tr>\n      <th>Salad</th>\n      <td>1150</td>\n      <td>2</td>\n    </tr>\n    <tr>\n      <th>Side of Chips</th>\n      <td>84769</td>\n      <td>110</td>\n    </tr>\n    <tr>\n      <th>Steak Bowl</th>\n      <td>193752</td>\n      <td>221</td>\n    </tr>\n    <tr>\n      <th>Steak Burrito</th>\n      <td>328437</td>\n      <td>386</td>\n    </tr>\n    <tr>\n      <th>Steak Crispy Tacos</th>\n      <td>35818</td>\n      <td>36</td>\n    </tr>\n    <tr>\n      <th>Steak Salad</th>\n      <td>2362</td>\n      <td>4</td>\n    </tr>\n    <tr>\n      <th>Steak Salad Bowl</th>\n      <td>29590</td>\n      <td>31</td>\n    </tr>\n    <tr>\n      <th>Steak Soft Tacos</th>\n      <td>50177</td>\n      <td>56</td>\n    </tr>\n    <tr>\n      <th>Veggie Bowl</th>\n      <td>72270</td>\n      <td>87</td>\n    </tr>\n    <tr>\n      <th>Veggie Burrito</th>\n      <td>80962</td>\n      <td>97</td>\n    </tr>\n    <tr>\n      <th>Veggie Crispy Tacos</th>\n      <td>668</td>\n      <td>1</td>\n    </tr>\n    <tr>\n      <th>Veggie Salad</th>\n      <td>7265</td>\n      <td>6</td>\n    </tr>\n    <tr>\n      <th>Veggie Salad Bowl</th>\n      <td>17303</td>\n      <td>18</td>\n    </tr>\n    <tr>\n      <th>Veggie Soft Tacos</th>\n      <td>5520</td>\n      <td>8</td>\n    </tr>\n  </tbody>\n</table>\n</div>"
     },
     "metadata": {},
     "execution_count": 18
    }
   ],
   "source": [
    "chipo_agrupado_suma = chipo.groupby(\"item_name\").sum()\n",
    "chipo_agrupado_suma"
   ]
  },
  {
   "cell_type": "code",
   "execution_count": 19,
   "metadata": {},
   "outputs": [
    {
     "output_type": "execute_result",
     "data": {
      "text/plain": [
       "                                       order_id  quantity\n",
       "item_name                                                \n",
       "Chicken Bowl                             713926       761\n",
       "Chicken Burrito                          497303       591\n",
       "Chips and Guacamole                      449959       506\n",
       "Steak Burrito                            328437       386\n",
       "Canned Soft Drink                        304753       351\n",
       "Chips                                    208004       230\n",
       "Steak Bowl                               193752       221\n",
       "Bottled Water                            175944       211\n",
       "Chips and Fresh Tomato Salsa             100419       130\n",
       "Canned Soda                               76396       126\n",
       "Chicken Salad Bowl                       117104       123\n",
       "Chicken Soft Tacos                        98395       120\n",
       "Side of Chips                             84769       110\n",
       "Veggie Burrito                            80962        97\n",
       "Barbacoa Burrito                          74718        91\n",
       "Veggie Bowl                               72270        87\n",
       "Carnitas Bowl                             62742        71\n",
       "Barbacoa Bowl                             53972        66\n",
       "Carnitas Burrito                          51652        60\n",
       "Steak Soft Tacos                          50177        56\n",
       "6 Pack Soft Drink                         52322        55\n",
       "Chips and Tomatillo Red Chili Salsa       45556        50\n",
       "Chicken Crispy Tacos                      47382        50\n",
       "Chips and Tomatillo Green Chili Salsa     41170        45\n",
       "Carnitas Soft Tacos                       37673        40\n",
       "Steak Crispy Tacos                        35818        36\n",
       "Chips and Tomatillo-Green Chili Salsa     21826        33\n",
       "Steak Salad Bowl                          29590        31\n",
       "Nantucket Nectar                          21814        29\n",
       "Chips and Tomatillo-Red Chili Salsa       18344        25\n",
       "Barbacoa Soft Tacos                       18725        25\n",
       "Chips and Roasted Chili Corn Salsa        14999        23\n",
       "Izze                                      10587        20\n",
       "Veggie Salad Bowl                         17303        18\n",
       "Chips and Roasted Chili-Corn Salsa        17462        18\n",
       "Barbacoa Crispy Tacos                      5613        12\n",
       "Barbacoa Salad Bowl                        9708        10\n",
       "Chicken Salad                             10465         9\n",
       "Carnitas Crispy Tacos                      5868         8\n",
       "Veggie Soft Tacos                          5520         8\n",
       "Burrito                                    1550         6\n",
       "Veggie Salad                               7265         6\n",
       "Carnitas Salad Bowl                        6693         6\n",
       "Bowl                                        472         4\n",
       "Steak Salad                                2362         4\n",
       "Salad                                      1150         2\n",
       "Crispy Tacos                                434         2\n",
       "Chips and Mild Fresh Tomato Salsa           279         1\n",
       "Carnitas Salad                             1500         1\n",
       "Veggie Crispy Tacos                         668         1"
      ],
      "text/html": "<div>\n<style scoped>\n    .dataframe tbody tr th:only-of-type {\n        vertical-align: middle;\n    }\n\n    .dataframe tbody tr th {\n        vertical-align: top;\n    }\n\n    .dataframe thead th {\n        text-align: right;\n    }\n</style>\n<table border=\"1\" class=\"dataframe\">\n  <thead>\n    <tr style=\"text-align: right;\">\n      <th></th>\n      <th>order_id</th>\n      <th>quantity</th>\n    </tr>\n    <tr>\n      <th>item_name</th>\n      <th></th>\n      <th></th>\n    </tr>\n  </thead>\n  <tbody>\n    <tr>\n      <th>Chicken Bowl</th>\n      <td>713926</td>\n      <td>761</td>\n    </tr>\n    <tr>\n      <th>Chicken Burrito</th>\n      <td>497303</td>\n      <td>591</td>\n    </tr>\n    <tr>\n      <th>Chips and Guacamole</th>\n      <td>449959</td>\n      <td>506</td>\n    </tr>\n    <tr>\n      <th>Steak Burrito</th>\n      <td>328437</td>\n      <td>386</td>\n    </tr>\n    <tr>\n      <th>Canned Soft Drink</th>\n      <td>304753</td>\n      <td>351</td>\n    </tr>\n    <tr>\n      <th>Chips</th>\n      <td>208004</td>\n      <td>230</td>\n    </tr>\n    <tr>\n      <th>Steak Bowl</th>\n      <td>193752</td>\n      <td>221</td>\n    </tr>\n    <tr>\n      <th>Bottled Water</th>\n      <td>175944</td>\n      <td>211</td>\n    </tr>\n    <tr>\n      <th>Chips and Fresh Tomato Salsa</th>\n      <td>100419</td>\n      <td>130</td>\n    </tr>\n    <tr>\n      <th>Canned Soda</th>\n      <td>76396</td>\n      <td>126</td>\n    </tr>\n    <tr>\n      <th>Chicken Salad Bowl</th>\n      <td>117104</td>\n      <td>123</td>\n    </tr>\n    <tr>\n      <th>Chicken Soft Tacos</th>\n      <td>98395</td>\n      <td>120</td>\n    </tr>\n    <tr>\n      <th>Side of Chips</th>\n      <td>84769</td>\n      <td>110</td>\n    </tr>\n    <tr>\n      <th>Veggie Burrito</th>\n      <td>80962</td>\n      <td>97</td>\n    </tr>\n    <tr>\n      <th>Barbacoa Burrito</th>\n      <td>74718</td>\n      <td>91</td>\n    </tr>\n    <tr>\n      <th>Veggie Bowl</th>\n      <td>72270</td>\n      <td>87</td>\n    </tr>\n    <tr>\n      <th>Carnitas Bowl</th>\n      <td>62742</td>\n      <td>71</td>\n    </tr>\n    <tr>\n      <th>Barbacoa Bowl</th>\n      <td>53972</td>\n      <td>66</td>\n    </tr>\n    <tr>\n      <th>Carnitas Burrito</th>\n      <td>51652</td>\n      <td>60</td>\n    </tr>\n    <tr>\n      <th>Steak Soft Tacos</th>\n      <td>50177</td>\n      <td>56</td>\n    </tr>\n    <tr>\n      <th>6 Pack Soft Drink</th>\n      <td>52322</td>\n      <td>55</td>\n    </tr>\n    <tr>\n      <th>Chips and Tomatillo Red Chili Salsa</th>\n      <td>45556</td>\n      <td>50</td>\n    </tr>\n    <tr>\n      <th>Chicken Crispy Tacos</th>\n      <td>47382</td>\n      <td>50</td>\n    </tr>\n    <tr>\n      <th>Chips and Tomatillo Green Chili Salsa</th>\n      <td>41170</td>\n      <td>45</td>\n    </tr>\n    <tr>\n      <th>Carnitas Soft Tacos</th>\n      <td>37673</td>\n      <td>40</td>\n    </tr>\n    <tr>\n      <th>Steak Crispy Tacos</th>\n      <td>35818</td>\n      <td>36</td>\n    </tr>\n    <tr>\n      <th>Chips and Tomatillo-Green Chili Salsa</th>\n      <td>21826</td>\n      <td>33</td>\n    </tr>\n    <tr>\n      <th>Steak Salad Bowl</th>\n      <td>29590</td>\n      <td>31</td>\n    </tr>\n    <tr>\n      <th>Nantucket Nectar</th>\n      <td>21814</td>\n      <td>29</td>\n    </tr>\n    <tr>\n      <th>Chips and Tomatillo-Red Chili Salsa</th>\n      <td>18344</td>\n      <td>25</td>\n    </tr>\n    <tr>\n      <th>Barbacoa Soft Tacos</th>\n      <td>18725</td>\n      <td>25</td>\n    </tr>\n    <tr>\n      <th>Chips and Roasted Chili Corn Salsa</th>\n      <td>14999</td>\n      <td>23</td>\n    </tr>\n    <tr>\n      <th>Izze</th>\n      <td>10587</td>\n      <td>20</td>\n    </tr>\n    <tr>\n      <th>Veggie Salad Bowl</th>\n      <td>17303</td>\n      <td>18</td>\n    </tr>\n    <tr>\n      <th>Chips and Roasted Chili-Corn Salsa</th>\n      <td>17462</td>\n      <td>18</td>\n    </tr>\n    <tr>\n      <th>Barbacoa Crispy Tacos</th>\n      <td>5613</td>\n      <td>12</td>\n    </tr>\n    <tr>\n      <th>Barbacoa Salad Bowl</th>\n      <td>9708</td>\n      <td>10</td>\n    </tr>\n    <tr>\n      <th>Chicken Salad</th>\n      <td>10465</td>\n      <td>9</td>\n    </tr>\n    <tr>\n      <th>Carnitas Crispy Tacos</th>\n      <td>5868</td>\n      <td>8</td>\n    </tr>\n    <tr>\n      <th>Veggie Soft Tacos</th>\n      <td>5520</td>\n      <td>8</td>\n    </tr>\n    <tr>\n      <th>Burrito</th>\n      <td>1550</td>\n      <td>6</td>\n    </tr>\n    <tr>\n      <th>Veggie Salad</th>\n      <td>7265</td>\n      <td>6</td>\n    </tr>\n    <tr>\n      <th>Carnitas Salad Bowl</th>\n      <td>6693</td>\n      <td>6</td>\n    </tr>\n    <tr>\n      <th>Bowl</th>\n      <td>472</td>\n      <td>4</td>\n    </tr>\n    <tr>\n      <th>Steak Salad</th>\n      <td>2362</td>\n      <td>4</td>\n    </tr>\n    <tr>\n      <th>Salad</th>\n      <td>1150</td>\n      <td>2</td>\n    </tr>\n    <tr>\n      <th>Crispy Tacos</th>\n      <td>434</td>\n      <td>2</td>\n    </tr>\n    <tr>\n      <th>Chips and Mild Fresh Tomato Salsa</th>\n      <td>279</td>\n      <td>1</td>\n    </tr>\n    <tr>\n      <th>Carnitas Salad</th>\n      <td>1500</td>\n      <td>1</td>\n    </tr>\n    <tr>\n      <th>Veggie Crispy Tacos</th>\n      <td>668</td>\n      <td>1</td>\n    </tr>\n  </tbody>\n</table>\n</div>"
     },
     "metadata": {},
     "execution_count": 19
    }
   ],
   "source": [
    "chipo_agrupado_suma_ordenado = chipo_agrupado_suma.sort_values(\"quantity\", ascending=False)\n",
    "chipo_agrupado_suma_ordenado"
   ]
  },
  {
   "cell_type": "code",
   "execution_count": 20,
   "metadata": {},
   "outputs": [
    {
     "output_type": "execute_result",
     "data": {
      "text/plain": [
       "              order_id  quantity\n",
       "item_name                       \n",
       "Chicken Bowl    713926       761"
      ],
      "text/html": "<div>\n<style scoped>\n    .dataframe tbody tr th:only-of-type {\n        vertical-align: middle;\n    }\n\n    .dataframe tbody tr th {\n        vertical-align: top;\n    }\n\n    .dataframe thead th {\n        text-align: right;\n    }\n</style>\n<table border=\"1\" class=\"dataframe\">\n  <thead>\n    <tr style=\"text-align: right;\">\n      <th></th>\n      <th>order_id</th>\n      <th>quantity</th>\n    </tr>\n    <tr>\n      <th>item_name</th>\n      <th></th>\n      <th></th>\n    </tr>\n  </thead>\n  <tbody>\n    <tr>\n      <th>Chicken Bowl</th>\n      <td>713926</td>\n      <td>761</td>\n    </tr>\n  </tbody>\n</table>\n</div>"
     },
     "metadata": {},
     "execution_count": 20
    }
   ],
   "source": [
    "chipo_agrupado_suma_ordenado.head(1)"
   ]
  },
  {
   "cell_type": "code",
   "execution_count": 21,
   "metadata": {},
   "outputs": [
    {
     "output_type": "execute_result",
     "data": {
      "text/plain": [
       "              order_id  quantity\n",
       "item_name                       \n",
       "Chicken Bowl    713926       761"
      ],
      "text/html": "<div>\n<style scoped>\n    .dataframe tbody tr th:only-of-type {\n        vertical-align: middle;\n    }\n\n    .dataframe tbody tr th {\n        vertical-align: top;\n    }\n\n    .dataframe thead th {\n        text-align: right;\n    }\n</style>\n<table border=\"1\" class=\"dataframe\">\n  <thead>\n    <tr style=\"text-align: right;\">\n      <th></th>\n      <th>order_id</th>\n      <th>quantity</th>\n    </tr>\n    <tr>\n      <th>item_name</th>\n      <th></th>\n      <th></th>\n    </tr>\n  </thead>\n  <tbody>\n    <tr>\n      <th>Chicken Bowl</th>\n      <td>713926</td>\n      <td>761</td>\n    </tr>\n  </tbody>\n</table>\n</div>"
     },
     "metadata": {},
     "execution_count": 21
    }
   ],
   "source": [
    "chipo.groupby(\"item_name\").sum().sort_values(\"quantity\", ascending=False).head(1)"
   ]
  },
  {
   "cell_type": "markdown",
   "metadata": {},
   "source": [
    "### Step 10. For the most-ordered item, how many items were ordered?"
   ]
  },
  {
   "cell_type": "code",
   "execution_count": 53,
   "metadata": {
    "collapsed": false
   },
   "outputs": [
    {
     "output_type": "execute_result",
     "data": {
      "text/plain": [
       "              order_id  quantity\n",
       "item_name                       \n",
       "Chicken Bowl    713926       761"
      ],
      "text/html": "<div>\n<style scoped>\n    .dataframe tbody tr th:only-of-type {\n        vertical-align: middle;\n    }\n\n    .dataframe tbody tr th {\n        vertical-align: top;\n    }\n\n    .dataframe thead th {\n        text-align: right;\n    }\n</style>\n<table border=\"1\" class=\"dataframe\">\n  <thead>\n    <tr style=\"text-align: right;\">\n      <th></th>\n      <th>order_id</th>\n      <th>quantity</th>\n    </tr>\n    <tr>\n      <th>item_name</th>\n      <th></th>\n      <th></th>\n    </tr>\n  </thead>\n  <tbody>\n    <tr>\n      <th>Chicken Bowl</th>\n      <td>713926</td>\n      <td>761</td>\n    </tr>\n  </tbody>\n</table>\n</div>"
     },
     "metadata": {},
     "execution_count": 53
    }
   ],
   "source": [
    "chipo.groupby(\"item_name\").sum().sort_values(\"quantity\", ascending=False).head(1)"
   ]
  },
  {
   "cell_type": "markdown",
   "metadata": {},
   "source": [
    "### Step 11. What was the most ordered item in the choice_description column?"
   ]
  },
  {
   "cell_type": "code",
   "execution_count": 54,
   "metadata": {},
   "outputs": [
    {
     "output_type": "execute_result",
     "data": {
      "text/plain": [
       "      order_id  quantity                              item_name  \\\n",
       "0            1         1           Chips and Fresh Tomato Salsa   \n",
       "1            1         1                                   Izze   \n",
       "2            1         1                       Nantucket Nectar   \n",
       "3            1         1  Chips and Tomatillo-Green Chili Salsa   \n",
       "4            2         2                           Chicken Bowl   \n",
       "...        ...       ...                                    ...   \n",
       "4617      1833         1                          Steak Burrito   \n",
       "4618      1833         1                          Steak Burrito   \n",
       "4619      1834         1                     Chicken Salad Bowl   \n",
       "4620      1834         1                     Chicken Salad Bowl   \n",
       "4621      1834         1                     Chicken Salad Bowl   \n",
       "\n",
       "                                     choice_description item_price  \n",
       "0                                                   NaN     $2.39   \n",
       "1                                          [Clementine]     $3.39   \n",
       "2                                               [Apple]     $3.39   \n",
       "3                                                   NaN     $2.39   \n",
       "4     [Tomatillo-Red Chili Salsa (Hot), [Black Beans...    $16.98   \n",
       "...                                                 ...        ...  \n",
       "4617  [Fresh Tomato Salsa, [Rice, Black Beans, Sour ...    $11.75   \n",
       "4618  [Fresh Tomato Salsa, [Rice, Sour Cream, Cheese...    $11.75   \n",
       "4619  [Fresh Tomato Salsa, [Fajita Vegetables, Pinto...    $11.25   \n",
       "4620  [Fresh Tomato Salsa, [Fajita Vegetables, Lettu...     $8.75   \n",
       "4621  [Fresh Tomato Salsa, [Fajita Vegetables, Pinto...     $8.75   \n",
       "\n",
       "[4622 rows x 5 columns]"
      ],
      "text/html": "<div>\n<style scoped>\n    .dataframe tbody tr th:only-of-type {\n        vertical-align: middle;\n    }\n\n    .dataframe tbody tr th {\n        vertical-align: top;\n    }\n\n    .dataframe thead th {\n        text-align: right;\n    }\n</style>\n<table border=\"1\" class=\"dataframe\">\n  <thead>\n    <tr style=\"text-align: right;\">\n      <th></th>\n      <th>order_id</th>\n      <th>quantity</th>\n      <th>item_name</th>\n      <th>choice_description</th>\n      <th>item_price</th>\n    </tr>\n  </thead>\n  <tbody>\n    <tr>\n      <th>0</th>\n      <td>1</td>\n      <td>1</td>\n      <td>Chips and Fresh Tomato Salsa</td>\n      <td>NaN</td>\n      <td>$2.39</td>\n    </tr>\n    <tr>\n      <th>1</th>\n      <td>1</td>\n      <td>1</td>\n      <td>Izze</td>\n      <td>[Clementine]</td>\n      <td>$3.39</td>\n    </tr>\n    <tr>\n      <th>2</th>\n      <td>1</td>\n      <td>1</td>\n      <td>Nantucket Nectar</td>\n      <td>[Apple]</td>\n      <td>$3.39</td>\n    </tr>\n    <tr>\n      <th>3</th>\n      <td>1</td>\n      <td>1</td>\n      <td>Chips and Tomatillo-Green Chili Salsa</td>\n      <td>NaN</td>\n      <td>$2.39</td>\n    </tr>\n    <tr>\n      <th>4</th>\n      <td>2</td>\n      <td>2</td>\n      <td>Chicken Bowl</td>\n      <td>[Tomatillo-Red Chili Salsa (Hot), [Black Beans...</td>\n      <td>$16.98</td>\n    </tr>\n    <tr>\n      <th>...</th>\n      <td>...</td>\n      <td>...</td>\n      <td>...</td>\n      <td>...</td>\n      <td>...</td>\n    </tr>\n    <tr>\n      <th>4617</th>\n      <td>1833</td>\n      <td>1</td>\n      <td>Steak Burrito</td>\n      <td>[Fresh Tomato Salsa, [Rice, Black Beans, Sour ...</td>\n      <td>$11.75</td>\n    </tr>\n    <tr>\n      <th>4618</th>\n      <td>1833</td>\n      <td>1</td>\n      <td>Steak Burrito</td>\n      <td>[Fresh Tomato Salsa, [Rice, Sour Cream, Cheese...</td>\n      <td>$11.75</td>\n    </tr>\n    <tr>\n      <th>4619</th>\n      <td>1834</td>\n      <td>1</td>\n      <td>Chicken Salad Bowl</td>\n      <td>[Fresh Tomato Salsa, [Fajita Vegetables, Pinto...</td>\n      <td>$11.25</td>\n    </tr>\n    <tr>\n      <th>4620</th>\n      <td>1834</td>\n      <td>1</td>\n      <td>Chicken Salad Bowl</td>\n      <td>[Fresh Tomato Salsa, [Fajita Vegetables, Lettu...</td>\n      <td>$8.75</td>\n    </tr>\n    <tr>\n      <th>4621</th>\n      <td>1834</td>\n      <td>1</td>\n      <td>Chicken Salad Bowl</td>\n      <td>[Fresh Tomato Salsa, [Fajita Vegetables, Pinto...</td>\n      <td>$8.75</td>\n    </tr>\n  </tbody>\n</table>\n<p>4622 rows × 5 columns</p>\n</div>"
     },
     "metadata": {},
     "execution_count": 54
    }
   ],
   "source": [
    "chipo"
   ]
  },
  {
   "cell_type": "code",
   "execution_count": 57,
   "metadata": {},
   "outputs": [
    {
     "output_type": "execute_result",
     "data": {
      "text/plain": [
       "                    order_id  quantity\n",
       "choice_description                    \n",
       "[Diet Coke]           123455       159"
      ],
      "text/html": "<div>\n<style scoped>\n    .dataframe tbody tr th:only-of-type {\n        vertical-align: middle;\n    }\n\n    .dataframe tbody tr th {\n        vertical-align: top;\n    }\n\n    .dataframe thead th {\n        text-align: right;\n    }\n</style>\n<table border=\"1\" class=\"dataframe\">\n  <thead>\n    <tr style=\"text-align: right;\">\n      <th></th>\n      <th>order_id</th>\n      <th>quantity</th>\n    </tr>\n    <tr>\n      <th>choice_description</th>\n      <th></th>\n      <th></th>\n    </tr>\n  </thead>\n  <tbody>\n    <tr>\n      <th>[Diet Coke]</th>\n      <td>123455</td>\n      <td>159</td>\n    </tr>\n  </tbody>\n</table>\n</div>"
     },
     "metadata": {},
     "execution_count": 57
    }
   ],
   "source": [
    "chipo.groupby([\"choice_description\"]).sum().sort_values([\"quantity\"]).tail(1)"
   ]
  },
  {
   "cell_type": "code",
   "execution_count": 11,
   "metadata": {
    "collapsed": false
   },
   "outputs": [
    {
     "data": {
      "text/html": [
       "<div>\n",
       "<table border=\"1\" class=\"dataframe\">\n",
       "  <thead>\n",
       "    <tr style=\"text-align: right;\">\n",
       "      <th></th>\n",
       "      <th>order_id</th>\n",
       "      <th>quantity</th>\n",
       "    </tr>\n",
       "    <tr>\n",
       "      <th>choice_description</th>\n",
       "      <th></th>\n",
       "      <th></th>\n",
       "    </tr>\n",
       "  </thead>\n",
       "  <tbody>\n",
       "    <tr>\n",
       "      <th>[Diet Coke]</th>\n",
       "      <td>123455</td>\n",
       "      <td>159</td>\n",
       "    </tr>\n",
       "  </tbody>\n",
       "</table>\n",
       "</div>"
      ],
      "text/plain": [
       "                    order_id  quantity\n",
       "choice_description                    \n",
       "[Diet Coke]           123455       159"
      ]
     },
     "execution_count": 11,
     "metadata": {},
     "output_type": "execute_result"
    }
   ],
   "source": []
  },
  {
   "cell_type": "markdown",
   "metadata": {},
   "source": [
    "### Step 12. How many items were orderd in total?"
   ]
  },
  {
   "cell_type": "code",
   "execution_count": 59,
   "metadata": {},
   "outputs": [
    {
     "output_type": "execute_result",
     "data": {
      "text/plain": [
       "4972"
      ]
     },
     "metadata": {},
     "execution_count": 59
    }
   ],
   "source": [
    "chipo[\"quantity\"].sum()"
   ]
  },
  {
   "cell_type": "code",
   "execution_count": 60,
   "metadata": {
    "collapsed": false
   },
   "outputs": [
    {
     "output_type": "execute_result",
     "data": {
      "text/plain": [
       "4972"
      ]
     },
     "metadata": {},
     "execution_count": 60
    }
   ],
   "source": [
    "chipo.quantity.sum()"
   ]
  },
  {
   "cell_type": "markdown",
   "metadata": {},
   "source": [
    "### Step 13. Turn the item price into a float"
   ]
  },
  {
   "cell_type": "markdown",
   "metadata": {},
   "source": [
    "#### Step 13.a. Check the item price type"
   ]
  },
  {
   "cell_type": "code",
   "execution_count": 61,
   "metadata": {},
   "outputs": [
    {
     "output_type": "execute_result",
     "data": {
      "text/plain": [
       "      order_id  quantity                              item_name  \\\n",
       "0            1         1           Chips and Fresh Tomato Salsa   \n",
       "1            1         1                                   Izze   \n",
       "2            1         1                       Nantucket Nectar   \n",
       "3            1         1  Chips and Tomatillo-Green Chili Salsa   \n",
       "4            2         2                           Chicken Bowl   \n",
       "...        ...       ...                                    ...   \n",
       "4617      1833         1                          Steak Burrito   \n",
       "4618      1833         1                          Steak Burrito   \n",
       "4619      1834         1                     Chicken Salad Bowl   \n",
       "4620      1834         1                     Chicken Salad Bowl   \n",
       "4621      1834         1                     Chicken Salad Bowl   \n",
       "\n",
       "                                     choice_description item_price  \n",
       "0                                                   NaN     $2.39   \n",
       "1                                          [Clementine]     $3.39   \n",
       "2                                               [Apple]     $3.39   \n",
       "3                                                   NaN     $2.39   \n",
       "4     [Tomatillo-Red Chili Salsa (Hot), [Black Beans...    $16.98   \n",
       "...                                                 ...        ...  \n",
       "4617  [Fresh Tomato Salsa, [Rice, Black Beans, Sour ...    $11.75   \n",
       "4618  [Fresh Tomato Salsa, [Rice, Sour Cream, Cheese...    $11.75   \n",
       "4619  [Fresh Tomato Salsa, [Fajita Vegetables, Pinto...    $11.25   \n",
       "4620  [Fresh Tomato Salsa, [Fajita Vegetables, Lettu...     $8.75   \n",
       "4621  [Fresh Tomato Salsa, [Fajita Vegetables, Pinto...     $8.75   \n",
       "\n",
       "[4622 rows x 5 columns]"
      ],
      "text/html": "<div>\n<style scoped>\n    .dataframe tbody tr th:only-of-type {\n        vertical-align: middle;\n    }\n\n    .dataframe tbody tr th {\n        vertical-align: top;\n    }\n\n    .dataframe thead th {\n        text-align: right;\n    }\n</style>\n<table border=\"1\" class=\"dataframe\">\n  <thead>\n    <tr style=\"text-align: right;\">\n      <th></th>\n      <th>order_id</th>\n      <th>quantity</th>\n      <th>item_name</th>\n      <th>choice_description</th>\n      <th>item_price</th>\n    </tr>\n  </thead>\n  <tbody>\n    <tr>\n      <th>0</th>\n      <td>1</td>\n      <td>1</td>\n      <td>Chips and Fresh Tomato Salsa</td>\n      <td>NaN</td>\n      <td>$2.39</td>\n    </tr>\n    <tr>\n      <th>1</th>\n      <td>1</td>\n      <td>1</td>\n      <td>Izze</td>\n      <td>[Clementine]</td>\n      <td>$3.39</td>\n    </tr>\n    <tr>\n      <th>2</th>\n      <td>1</td>\n      <td>1</td>\n      <td>Nantucket Nectar</td>\n      <td>[Apple]</td>\n      <td>$3.39</td>\n    </tr>\n    <tr>\n      <th>3</th>\n      <td>1</td>\n      <td>1</td>\n      <td>Chips and Tomatillo-Green Chili Salsa</td>\n      <td>NaN</td>\n      <td>$2.39</td>\n    </tr>\n    <tr>\n      <th>4</th>\n      <td>2</td>\n      <td>2</td>\n      <td>Chicken Bowl</td>\n      <td>[Tomatillo-Red Chili Salsa (Hot), [Black Beans...</td>\n      <td>$16.98</td>\n    </tr>\n    <tr>\n      <th>...</th>\n      <td>...</td>\n      <td>...</td>\n      <td>...</td>\n      <td>...</td>\n      <td>...</td>\n    </tr>\n    <tr>\n      <th>4617</th>\n      <td>1833</td>\n      <td>1</td>\n      <td>Steak Burrito</td>\n      <td>[Fresh Tomato Salsa, [Rice, Black Beans, Sour ...</td>\n      <td>$11.75</td>\n    </tr>\n    <tr>\n      <th>4618</th>\n      <td>1833</td>\n      <td>1</td>\n      <td>Steak Burrito</td>\n      <td>[Fresh Tomato Salsa, [Rice, Sour Cream, Cheese...</td>\n      <td>$11.75</td>\n    </tr>\n    <tr>\n      <th>4619</th>\n      <td>1834</td>\n      <td>1</td>\n      <td>Chicken Salad Bowl</td>\n      <td>[Fresh Tomato Salsa, [Fajita Vegetables, Pinto...</td>\n      <td>$11.25</td>\n    </tr>\n    <tr>\n      <th>4620</th>\n      <td>1834</td>\n      <td>1</td>\n      <td>Chicken Salad Bowl</td>\n      <td>[Fresh Tomato Salsa, [Fajita Vegetables, Lettu...</td>\n      <td>$8.75</td>\n    </tr>\n    <tr>\n      <th>4621</th>\n      <td>1834</td>\n      <td>1</td>\n      <td>Chicken Salad Bowl</td>\n      <td>[Fresh Tomato Salsa, [Fajita Vegetables, Pinto...</td>\n      <td>$8.75</td>\n    </tr>\n  </tbody>\n</table>\n<p>4622 rows × 5 columns</p>\n</div>"
     },
     "metadata": {},
     "execution_count": 61
    }
   ],
   "source": [
    "chipo"
   ]
  },
  {
   "cell_type": "code",
   "execution_count": 65,
   "metadata": {},
   "outputs": [
    {
     "output_type": "stream",
     "name": "stdout",
     "text": [
      "<class 'pandas.core.frame.DataFrame'>\nRangeIndex: 4622 entries, 0 to 4621\nData columns (total 5 columns):\norder_id              4622 non-null int64\nquantity              4622 non-null int64\nitem_name             4622 non-null object\nchoice_description    3376 non-null object\nitem_price            4622 non-null object\ndtypes: int64(2), object(3)\nmemory usage: 180.7+ KB\n"
     ]
    }
   ],
   "source": [
    "chipo.info()"
   ]
  },
  {
   "cell_type": "code",
   "execution_count": 64,
   "metadata": {
    "collapsed": false
   },
   "outputs": [
    {
     "output_type": "execute_result",
     "data": {
      "text/plain": [
       "dtype('O')"
      ]
     },
     "metadata": {},
     "execution_count": 64
    }
   ],
   "source": [
    "chipo[\"item_price\"].dtypes"
   ]
  },
  {
   "cell_type": "markdown",
   "metadata": {},
   "source": [
    "#### Step 13.b. Create a lambda function and change the type of item price"
   ]
  },
  {
   "cell_type": "code",
   "execution_count": 66,
   "metadata": {},
   "outputs": [
    {
     "output_type": "execute_result",
     "data": {
      "text/plain": [
       "array(['$2.39 ', '$3.39 ', '$3.39 ', ..., '$11.25 ', '$8.75 ', '$8.75 '],\n",
       "      dtype=object)"
      ]
     },
     "metadata": {},
     "execution_count": 66
    }
   ],
   "source": [
    "chipo[\"item_price\"].values"
   ]
  },
  {
   "cell_type": "code",
   "execution_count": 70,
   "metadata": {},
   "outputs": [
    {
     "output_type": "execute_result",
     "data": {
      "text/plain": [
       "      order_id  quantity                              item_name  \\\n",
       "0            1         1           Chips and Fresh Tomato Salsa   \n",
       "1            1         1                                   Izze   \n",
       "2            1         1                       Nantucket Nectar   \n",
       "3            1         1  Chips and Tomatillo-Green Chili Salsa   \n",
       "4            2         2                           Chicken Bowl   \n",
       "...        ...       ...                                    ...   \n",
       "4617      1833         1                          Steak Burrito   \n",
       "4618      1833         1                          Steak Burrito   \n",
       "4619      1834         1                     Chicken Salad Bowl   \n",
       "4620      1834         1                     Chicken Salad Bowl   \n",
       "4621      1834         1                     Chicken Salad Bowl   \n",
       "\n",
       "                                     choice_description item_price  \\\n",
       "0                                                   NaN     $2.39    \n",
       "1                                          [Clementine]     $3.39    \n",
       "2                                               [Apple]     $3.39    \n",
       "3                                                   NaN     $2.39    \n",
       "4     [Tomatillo-Red Chili Salsa (Hot), [Black Beans...    $16.98    \n",
       "...                                                 ...        ...   \n",
       "4617  [Fresh Tomato Salsa, [Rice, Black Beans, Sour ...    $11.75    \n",
       "4618  [Fresh Tomato Salsa, [Rice, Sour Cream, Cheese...    $11.75    \n",
       "4619  [Fresh Tomato Salsa, [Fajita Vegetables, Pinto...    $11.25    \n",
       "4620  [Fresh Tomato Salsa, [Fajita Vegetables, Lettu...     $8.75    \n",
       "4621  [Fresh Tomato Salsa, [Fajita Vegetables, Pinto...     $8.75    \n",
       "\n",
       "      item_price_float  \n",
       "0                 2.39  \n",
       "1                 3.39  \n",
       "2                 3.39  \n",
       "3                 2.39  \n",
       "4                16.98  \n",
       "...                ...  \n",
       "4617             11.75  \n",
       "4618             11.75  \n",
       "4619             11.25  \n",
       "4620              8.75  \n",
       "4621              8.75  \n",
       "\n",
       "[4622 rows x 6 columns]"
      ],
      "text/html": "<div>\n<style scoped>\n    .dataframe tbody tr th:only-of-type {\n        vertical-align: middle;\n    }\n\n    .dataframe tbody tr th {\n        vertical-align: top;\n    }\n\n    .dataframe thead th {\n        text-align: right;\n    }\n</style>\n<table border=\"1\" class=\"dataframe\">\n  <thead>\n    <tr style=\"text-align: right;\">\n      <th></th>\n      <th>order_id</th>\n      <th>quantity</th>\n      <th>item_name</th>\n      <th>choice_description</th>\n      <th>item_price</th>\n      <th>item_price_float</th>\n    </tr>\n  </thead>\n  <tbody>\n    <tr>\n      <th>0</th>\n      <td>1</td>\n      <td>1</td>\n      <td>Chips and Fresh Tomato Salsa</td>\n      <td>NaN</td>\n      <td>$2.39</td>\n      <td>2.39</td>\n    </tr>\n    <tr>\n      <th>1</th>\n      <td>1</td>\n      <td>1</td>\n      <td>Izze</td>\n      <td>[Clementine]</td>\n      <td>$3.39</td>\n      <td>3.39</td>\n    </tr>\n    <tr>\n      <th>2</th>\n      <td>1</td>\n      <td>1</td>\n      <td>Nantucket Nectar</td>\n      <td>[Apple]</td>\n      <td>$3.39</td>\n      <td>3.39</td>\n    </tr>\n    <tr>\n      <th>3</th>\n      <td>1</td>\n      <td>1</td>\n      <td>Chips and Tomatillo-Green Chili Salsa</td>\n      <td>NaN</td>\n      <td>$2.39</td>\n      <td>2.39</td>\n    </tr>\n    <tr>\n      <th>4</th>\n      <td>2</td>\n      <td>2</td>\n      <td>Chicken Bowl</td>\n      <td>[Tomatillo-Red Chili Salsa (Hot), [Black Beans...</td>\n      <td>$16.98</td>\n      <td>16.98</td>\n    </tr>\n    <tr>\n      <th>...</th>\n      <td>...</td>\n      <td>...</td>\n      <td>...</td>\n      <td>...</td>\n      <td>...</td>\n      <td>...</td>\n    </tr>\n    <tr>\n      <th>4617</th>\n      <td>1833</td>\n      <td>1</td>\n      <td>Steak Burrito</td>\n      <td>[Fresh Tomato Salsa, [Rice, Black Beans, Sour ...</td>\n      <td>$11.75</td>\n      <td>11.75</td>\n    </tr>\n    <tr>\n      <th>4618</th>\n      <td>1833</td>\n      <td>1</td>\n      <td>Steak Burrito</td>\n      <td>[Fresh Tomato Salsa, [Rice, Sour Cream, Cheese...</td>\n      <td>$11.75</td>\n      <td>11.75</td>\n    </tr>\n    <tr>\n      <th>4619</th>\n      <td>1834</td>\n      <td>1</td>\n      <td>Chicken Salad Bowl</td>\n      <td>[Fresh Tomato Salsa, [Fajita Vegetables, Pinto...</td>\n      <td>$11.25</td>\n      <td>11.25</td>\n    </tr>\n    <tr>\n      <th>4620</th>\n      <td>1834</td>\n      <td>1</td>\n      <td>Chicken Salad Bowl</td>\n      <td>[Fresh Tomato Salsa, [Fajita Vegetables, Lettu...</td>\n      <td>$8.75</td>\n      <td>8.75</td>\n    </tr>\n    <tr>\n      <th>4621</th>\n      <td>1834</td>\n      <td>1</td>\n      <td>Chicken Salad Bowl</td>\n      <td>[Fresh Tomato Salsa, [Fajita Vegetables, Pinto...</td>\n      <td>$8.75</td>\n      <td>8.75</td>\n    </tr>\n  </tbody>\n</table>\n<p>4622 rows × 6 columns</p>\n</div>"
     },
     "metadata": {},
     "execution_count": 70
    }
   ],
   "source": [
    "# De forma no anónima con y sin lambda\r\n",
    "def remove_dollar(x):\r\n",
    "    return float(x[1:-1])\r\n",
    "\r\n",
    "remove_dollar = lambda x: float(x[1:-1])\r\n",
    "\r\n",
    "chipo[\"item_price_float\"] = chipo[\"item_price\"].apply(remove_dollar)\r\n",
    "chipo"
   ]
  },
  {
   "cell_type": "code",
   "execution_count": 71,
   "metadata": {
    "collapsed": true
   },
   "outputs": [
    {
     "output_type": "execute_result",
     "data": {
      "text/plain": [
       "      order_id  quantity                              item_name  \\\n",
       "0            1         1           Chips and Fresh Tomato Salsa   \n",
       "1            1         1                                   Izze   \n",
       "2            1         1                       Nantucket Nectar   \n",
       "3            1         1  Chips and Tomatillo-Green Chili Salsa   \n",
       "4            2         2                           Chicken Bowl   \n",
       "...        ...       ...                                    ...   \n",
       "4617      1833         1                          Steak Burrito   \n",
       "4618      1833         1                          Steak Burrito   \n",
       "4619      1834         1                     Chicken Salad Bowl   \n",
       "4620      1834         1                     Chicken Salad Bowl   \n",
       "4621      1834         1                     Chicken Salad Bowl   \n",
       "\n",
       "                                     choice_description item_price  \\\n",
       "0                                                   NaN     $2.39    \n",
       "1                                          [Clementine]     $3.39    \n",
       "2                                               [Apple]     $3.39    \n",
       "3                                                   NaN     $2.39    \n",
       "4     [Tomatillo-Red Chili Salsa (Hot), [Black Beans...    $16.98    \n",
       "...                                                 ...        ...   \n",
       "4617  [Fresh Tomato Salsa, [Rice, Black Beans, Sour ...    $11.75    \n",
       "4618  [Fresh Tomato Salsa, [Rice, Sour Cream, Cheese...    $11.75    \n",
       "4619  [Fresh Tomato Salsa, [Fajita Vegetables, Pinto...    $11.25    \n",
       "4620  [Fresh Tomato Salsa, [Fajita Vegetables, Lettu...     $8.75    \n",
       "4621  [Fresh Tomato Salsa, [Fajita Vegetables, Pinto...     $8.75    \n",
       "\n",
       "      item_price_float  \n",
       "0                 2.39  \n",
       "1                 3.39  \n",
       "2                 3.39  \n",
       "3                 2.39  \n",
       "4                16.98  \n",
       "...                ...  \n",
       "4617             11.75  \n",
       "4618             11.75  \n",
       "4619             11.25  \n",
       "4620              8.75  \n",
       "4621              8.75  \n",
       "\n",
       "[4622 rows x 6 columns]"
      ],
      "text/html": "<div>\n<style scoped>\n    .dataframe tbody tr th:only-of-type {\n        vertical-align: middle;\n    }\n\n    .dataframe tbody tr th {\n        vertical-align: top;\n    }\n\n    .dataframe thead th {\n        text-align: right;\n    }\n</style>\n<table border=\"1\" class=\"dataframe\">\n  <thead>\n    <tr style=\"text-align: right;\">\n      <th></th>\n      <th>order_id</th>\n      <th>quantity</th>\n      <th>item_name</th>\n      <th>choice_description</th>\n      <th>item_price</th>\n      <th>item_price_float</th>\n    </tr>\n  </thead>\n  <tbody>\n    <tr>\n      <th>0</th>\n      <td>1</td>\n      <td>1</td>\n      <td>Chips and Fresh Tomato Salsa</td>\n      <td>NaN</td>\n      <td>$2.39</td>\n      <td>2.39</td>\n    </tr>\n    <tr>\n      <th>1</th>\n      <td>1</td>\n      <td>1</td>\n      <td>Izze</td>\n      <td>[Clementine]</td>\n      <td>$3.39</td>\n      <td>3.39</td>\n    </tr>\n    <tr>\n      <th>2</th>\n      <td>1</td>\n      <td>1</td>\n      <td>Nantucket Nectar</td>\n      <td>[Apple]</td>\n      <td>$3.39</td>\n      <td>3.39</td>\n    </tr>\n    <tr>\n      <th>3</th>\n      <td>1</td>\n      <td>1</td>\n      <td>Chips and Tomatillo-Green Chili Salsa</td>\n      <td>NaN</td>\n      <td>$2.39</td>\n      <td>2.39</td>\n    </tr>\n    <tr>\n      <th>4</th>\n      <td>2</td>\n      <td>2</td>\n      <td>Chicken Bowl</td>\n      <td>[Tomatillo-Red Chili Salsa (Hot), [Black Beans...</td>\n      <td>$16.98</td>\n      <td>16.98</td>\n    </tr>\n    <tr>\n      <th>...</th>\n      <td>...</td>\n      <td>...</td>\n      <td>...</td>\n      <td>...</td>\n      <td>...</td>\n      <td>...</td>\n    </tr>\n    <tr>\n      <th>4617</th>\n      <td>1833</td>\n      <td>1</td>\n      <td>Steak Burrito</td>\n      <td>[Fresh Tomato Salsa, [Rice, Black Beans, Sour ...</td>\n      <td>$11.75</td>\n      <td>11.75</td>\n    </tr>\n    <tr>\n      <th>4618</th>\n      <td>1833</td>\n      <td>1</td>\n      <td>Steak Burrito</td>\n      <td>[Fresh Tomato Salsa, [Rice, Sour Cream, Cheese...</td>\n      <td>$11.75</td>\n      <td>11.75</td>\n    </tr>\n    <tr>\n      <th>4619</th>\n      <td>1834</td>\n      <td>1</td>\n      <td>Chicken Salad Bowl</td>\n      <td>[Fresh Tomato Salsa, [Fajita Vegetables, Pinto...</td>\n      <td>$11.25</td>\n      <td>11.25</td>\n    </tr>\n    <tr>\n      <th>4620</th>\n      <td>1834</td>\n      <td>1</td>\n      <td>Chicken Salad Bowl</td>\n      <td>[Fresh Tomato Salsa, [Fajita Vegetables, Lettu...</td>\n      <td>$8.75</td>\n      <td>8.75</td>\n    </tr>\n    <tr>\n      <th>4621</th>\n      <td>1834</td>\n      <td>1</td>\n      <td>Chicken Salad Bowl</td>\n      <td>[Fresh Tomato Salsa, [Fajita Vegetables, Pinto...</td>\n      <td>$8.75</td>\n      <td>8.75</td>\n    </tr>\n  </tbody>\n</table>\n<p>4622 rows × 6 columns</p>\n</div>"
     },
     "metadata": {},
     "execution_count": 71
    }
   ],
   "source": [
    "# De forma anónima con lambda\n",
    "\n",
    "chipo[\"item_price_float\"] = chipo[\"item_price\"].apply(lambda x: float(x[1:-1]))\n",
    "chipo"
   ]
  },
  {
   "cell_type": "code",
   "execution_count": 75,
   "metadata": {},
   "outputs": [
    {
     "output_type": "execute_result",
     "data": {
      "text/plain": [
       "      order_id  quantity                              item_name  \\\n",
       "0            1         1           Chips and Fresh Tomato Salsa   \n",
       "1            1         1                                   Izze   \n",
       "2            1         1                       Nantucket Nectar   \n",
       "3            1         1  Chips and Tomatillo-Green Chili Salsa   \n",
       "4            2         2                           Chicken Bowl   \n",
       "...        ...       ...                                    ...   \n",
       "4617      1833         1                          Steak Burrito   \n",
       "4618      1833         1                          Steak Burrito   \n",
       "4619      1834         1                     Chicken Salad Bowl   \n",
       "4620      1834         1                     Chicken Salad Bowl   \n",
       "4621      1834         1                     Chicken Salad Bowl   \n",
       "\n",
       "                                     choice_description item_price  \\\n",
       "0                                                   NaN     $2.39    \n",
       "1                                          [Clementine]     $3.39    \n",
       "2                                               [Apple]     $3.39    \n",
       "3                                                   NaN     $2.39    \n",
       "4     [Tomatillo-Red Chili Salsa (Hot), [Black Beans...    $16.98    \n",
       "...                                                 ...        ...   \n",
       "4617  [Fresh Tomato Salsa, [Rice, Black Beans, Sour ...    $11.75    \n",
       "4618  [Fresh Tomato Salsa, [Rice, Sour Cream, Cheese...    $11.75    \n",
       "4619  [Fresh Tomato Salsa, [Fajita Vegetables, Pinto...    $11.25    \n",
       "4620  [Fresh Tomato Salsa, [Fajita Vegetables, Lettu...     $8.75    \n",
       "4621  [Fresh Tomato Salsa, [Fajita Vegetables, Pinto...     $8.75    \n",
       "\n",
       "      item_price_float  item_price_float_replace  \n",
       "0                 2.39                      2.39  \n",
       "1                 3.39                      3.39  \n",
       "2                 3.39                      3.39  \n",
       "3                 2.39                      2.39  \n",
       "4                16.98                     16.98  \n",
       "...                ...                       ...  \n",
       "4617             11.75                     11.75  \n",
       "4618             11.75                     11.75  \n",
       "4619             11.25                     11.25  \n",
       "4620              8.75                      8.75  \n",
       "4621              8.75                      8.75  \n",
       "\n",
       "[4622 rows x 7 columns]"
      ],
      "text/html": "<div>\n<style scoped>\n    .dataframe tbody tr th:only-of-type {\n        vertical-align: middle;\n    }\n\n    .dataframe tbody tr th {\n        vertical-align: top;\n    }\n\n    .dataframe thead th {\n        text-align: right;\n    }\n</style>\n<table border=\"1\" class=\"dataframe\">\n  <thead>\n    <tr style=\"text-align: right;\">\n      <th></th>\n      <th>order_id</th>\n      <th>quantity</th>\n      <th>item_name</th>\n      <th>choice_description</th>\n      <th>item_price</th>\n      <th>item_price_float</th>\n      <th>item_price_float_replace</th>\n    </tr>\n  </thead>\n  <tbody>\n    <tr>\n      <th>0</th>\n      <td>1</td>\n      <td>1</td>\n      <td>Chips and Fresh Tomato Salsa</td>\n      <td>NaN</td>\n      <td>$2.39</td>\n      <td>2.39</td>\n      <td>2.39</td>\n    </tr>\n    <tr>\n      <th>1</th>\n      <td>1</td>\n      <td>1</td>\n      <td>Izze</td>\n      <td>[Clementine]</td>\n      <td>$3.39</td>\n      <td>3.39</td>\n      <td>3.39</td>\n    </tr>\n    <tr>\n      <th>2</th>\n      <td>1</td>\n      <td>1</td>\n      <td>Nantucket Nectar</td>\n      <td>[Apple]</td>\n      <td>$3.39</td>\n      <td>3.39</td>\n      <td>3.39</td>\n    </tr>\n    <tr>\n      <th>3</th>\n      <td>1</td>\n      <td>1</td>\n      <td>Chips and Tomatillo-Green Chili Salsa</td>\n      <td>NaN</td>\n      <td>$2.39</td>\n      <td>2.39</td>\n      <td>2.39</td>\n    </tr>\n    <tr>\n      <th>4</th>\n      <td>2</td>\n      <td>2</td>\n      <td>Chicken Bowl</td>\n      <td>[Tomatillo-Red Chili Salsa (Hot), [Black Beans...</td>\n      <td>$16.98</td>\n      <td>16.98</td>\n      <td>16.98</td>\n    </tr>\n    <tr>\n      <th>...</th>\n      <td>...</td>\n      <td>...</td>\n      <td>...</td>\n      <td>...</td>\n      <td>...</td>\n      <td>...</td>\n      <td>...</td>\n    </tr>\n    <tr>\n      <th>4617</th>\n      <td>1833</td>\n      <td>1</td>\n      <td>Steak Burrito</td>\n      <td>[Fresh Tomato Salsa, [Rice, Black Beans, Sour ...</td>\n      <td>$11.75</td>\n      <td>11.75</td>\n      <td>11.75</td>\n    </tr>\n    <tr>\n      <th>4618</th>\n      <td>1833</td>\n      <td>1</td>\n      <td>Steak Burrito</td>\n      <td>[Fresh Tomato Salsa, [Rice, Sour Cream, Cheese...</td>\n      <td>$11.75</td>\n      <td>11.75</td>\n      <td>11.75</td>\n    </tr>\n    <tr>\n      <th>4619</th>\n      <td>1834</td>\n      <td>1</td>\n      <td>Chicken Salad Bowl</td>\n      <td>[Fresh Tomato Salsa, [Fajita Vegetables, Pinto...</td>\n      <td>$11.25</td>\n      <td>11.25</td>\n      <td>11.25</td>\n    </tr>\n    <tr>\n      <th>4620</th>\n      <td>1834</td>\n      <td>1</td>\n      <td>Chicken Salad Bowl</td>\n      <td>[Fresh Tomato Salsa, [Fajita Vegetables, Lettu...</td>\n      <td>$8.75</td>\n      <td>8.75</td>\n      <td>8.75</td>\n    </tr>\n    <tr>\n      <th>4621</th>\n      <td>1834</td>\n      <td>1</td>\n      <td>Chicken Salad Bowl</td>\n      <td>[Fresh Tomato Salsa, [Fajita Vegetables, Pinto...</td>\n      <td>$8.75</td>\n      <td>8.75</td>\n      <td>8.75</td>\n    </tr>\n  </tbody>\n</table>\n<p>4622 rows × 7 columns</p>\n</div>"
     },
     "metadata": {},
     "execution_count": 75
    }
   ],
   "source": [
    "# replace\n",
    "\n",
    "chipo[\"item_price_float_replace\"] = chipo[\"item_price\"].str.replace(\"$\", \"\").astype(float)\n",
    "chipo"
   ]
  },
  {
   "cell_type": "markdown",
   "metadata": {},
   "source": [
    "#### Step 13.c. Check the item price type"
   ]
  },
  {
   "cell_type": "code",
   "execution_count": 76,
   "metadata": {
    "collapsed": false
   },
   "outputs": [
    {
     "output_type": "stream",
     "name": "stdout",
     "text": [
      "<class 'pandas.core.frame.DataFrame'>\nRangeIndex: 4622 entries, 0 to 4621\nData columns (total 7 columns):\norder_id                    4622 non-null int64\nquantity                    4622 non-null int64\nitem_name                   4622 non-null object\nchoice_description          3376 non-null object\nitem_price                  4622 non-null object\nitem_price_float            4622 non-null float64\nitem_price_float_replace    4622 non-null float64\ndtypes: float64(2), int64(2), object(3)\nmemory usage: 252.9+ KB\n"
     ]
    }
   ],
   "source": [
    "chipo.info()"
   ]
  },
  {
   "cell_type": "code",
   "execution_count": 77,
   "metadata": {},
   "outputs": [
    {
     "output_type": "execute_result",
     "data": {
      "text/plain": [
       "dtype('O')"
      ]
     },
     "metadata": {},
     "execution_count": 77
    }
   ],
   "source": [
    "chipo[\"item_price\"].dtype"
   ]
  },
  {
   "cell_type": "markdown",
   "metadata": {},
   "source": [
    "### Step 14. How much was the revenue for the period in the dataset?"
   ]
  },
  {
   "cell_type": "code",
   "execution_count": 78,
   "metadata": {},
   "outputs": [
    {
     "output_type": "execute_result",
     "data": {
      "text/plain": [
       "      order_id  quantity                              item_name  \\\n",
       "0            1         1           Chips and Fresh Tomato Salsa   \n",
       "1            1         1                                   Izze   \n",
       "2            1         1                       Nantucket Nectar   \n",
       "3            1         1  Chips and Tomatillo-Green Chili Salsa   \n",
       "4            2         2                           Chicken Bowl   \n",
       "...        ...       ...                                    ...   \n",
       "4617      1833         1                          Steak Burrito   \n",
       "4618      1833         1                          Steak Burrito   \n",
       "4619      1834         1                     Chicken Salad Bowl   \n",
       "4620      1834         1                     Chicken Salad Bowl   \n",
       "4621      1834         1                     Chicken Salad Bowl   \n",
       "\n",
       "                                     choice_description item_price  \\\n",
       "0                                                   NaN     $2.39    \n",
       "1                                          [Clementine]     $3.39    \n",
       "2                                               [Apple]     $3.39    \n",
       "3                                                   NaN     $2.39    \n",
       "4     [Tomatillo-Red Chili Salsa (Hot), [Black Beans...    $16.98    \n",
       "...                                                 ...        ...   \n",
       "4617  [Fresh Tomato Salsa, [Rice, Black Beans, Sour ...    $11.75    \n",
       "4618  [Fresh Tomato Salsa, [Rice, Sour Cream, Cheese...    $11.75    \n",
       "4619  [Fresh Tomato Salsa, [Fajita Vegetables, Pinto...    $11.25    \n",
       "4620  [Fresh Tomato Salsa, [Fajita Vegetables, Lettu...     $8.75    \n",
       "4621  [Fresh Tomato Salsa, [Fajita Vegetables, Pinto...     $8.75    \n",
       "\n",
       "      item_price_float  item_price_float_replace  \n",
       "0                 2.39                      2.39  \n",
       "1                 3.39                      3.39  \n",
       "2                 3.39                      3.39  \n",
       "3                 2.39                      2.39  \n",
       "4                16.98                     16.98  \n",
       "...                ...                       ...  \n",
       "4617             11.75                     11.75  \n",
       "4618             11.75                     11.75  \n",
       "4619             11.25                     11.25  \n",
       "4620              8.75                      8.75  \n",
       "4621              8.75                      8.75  \n",
       "\n",
       "[4622 rows x 7 columns]"
      ],
      "text/html": "<div>\n<style scoped>\n    .dataframe tbody tr th:only-of-type {\n        vertical-align: middle;\n    }\n\n    .dataframe tbody tr th {\n        vertical-align: top;\n    }\n\n    .dataframe thead th {\n        text-align: right;\n    }\n</style>\n<table border=\"1\" class=\"dataframe\">\n  <thead>\n    <tr style=\"text-align: right;\">\n      <th></th>\n      <th>order_id</th>\n      <th>quantity</th>\n      <th>item_name</th>\n      <th>choice_description</th>\n      <th>item_price</th>\n      <th>item_price_float</th>\n      <th>item_price_float_replace</th>\n    </tr>\n  </thead>\n  <tbody>\n    <tr>\n      <th>0</th>\n      <td>1</td>\n      <td>1</td>\n      <td>Chips and Fresh Tomato Salsa</td>\n      <td>NaN</td>\n      <td>$2.39</td>\n      <td>2.39</td>\n      <td>2.39</td>\n    </tr>\n    <tr>\n      <th>1</th>\n      <td>1</td>\n      <td>1</td>\n      <td>Izze</td>\n      <td>[Clementine]</td>\n      <td>$3.39</td>\n      <td>3.39</td>\n      <td>3.39</td>\n    </tr>\n    <tr>\n      <th>2</th>\n      <td>1</td>\n      <td>1</td>\n      <td>Nantucket Nectar</td>\n      <td>[Apple]</td>\n      <td>$3.39</td>\n      <td>3.39</td>\n      <td>3.39</td>\n    </tr>\n    <tr>\n      <th>3</th>\n      <td>1</td>\n      <td>1</td>\n      <td>Chips and Tomatillo-Green Chili Salsa</td>\n      <td>NaN</td>\n      <td>$2.39</td>\n      <td>2.39</td>\n      <td>2.39</td>\n    </tr>\n    <tr>\n      <th>4</th>\n      <td>2</td>\n      <td>2</td>\n      <td>Chicken Bowl</td>\n      <td>[Tomatillo-Red Chili Salsa (Hot), [Black Beans...</td>\n      <td>$16.98</td>\n      <td>16.98</td>\n      <td>16.98</td>\n    </tr>\n    <tr>\n      <th>...</th>\n      <td>...</td>\n      <td>...</td>\n      <td>...</td>\n      <td>...</td>\n      <td>...</td>\n      <td>...</td>\n      <td>...</td>\n    </tr>\n    <tr>\n      <th>4617</th>\n      <td>1833</td>\n      <td>1</td>\n      <td>Steak Burrito</td>\n      <td>[Fresh Tomato Salsa, [Rice, Black Beans, Sour ...</td>\n      <td>$11.75</td>\n      <td>11.75</td>\n      <td>11.75</td>\n    </tr>\n    <tr>\n      <th>4618</th>\n      <td>1833</td>\n      <td>1</td>\n      <td>Steak Burrito</td>\n      <td>[Fresh Tomato Salsa, [Rice, Sour Cream, Cheese...</td>\n      <td>$11.75</td>\n      <td>11.75</td>\n      <td>11.75</td>\n    </tr>\n    <tr>\n      <th>4619</th>\n      <td>1834</td>\n      <td>1</td>\n      <td>Chicken Salad Bowl</td>\n      <td>[Fresh Tomato Salsa, [Fajita Vegetables, Pinto...</td>\n      <td>$11.25</td>\n      <td>11.25</td>\n      <td>11.25</td>\n    </tr>\n    <tr>\n      <th>4620</th>\n      <td>1834</td>\n      <td>1</td>\n      <td>Chicken Salad Bowl</td>\n      <td>[Fresh Tomato Salsa, [Fajita Vegetables, Lettu...</td>\n      <td>$8.75</td>\n      <td>8.75</td>\n      <td>8.75</td>\n    </tr>\n    <tr>\n      <th>4621</th>\n      <td>1834</td>\n      <td>1</td>\n      <td>Chicken Salad Bowl</td>\n      <td>[Fresh Tomato Salsa, [Fajita Vegetables, Pinto...</td>\n      <td>$8.75</td>\n      <td>8.75</td>\n      <td>8.75</td>\n    </tr>\n  </tbody>\n</table>\n<p>4622 rows × 7 columns</p>\n</div>"
     },
     "metadata": {},
     "execution_count": 78
    }
   ],
   "source": [
    "chipo"
   ]
  },
  {
   "cell_type": "code",
   "execution_count": 85,
   "metadata": {},
   "outputs": [
    {
     "output_type": "stream",
     "name": "stdout",
     "text": [
      "Chicken Bowl\n$16.98 \n2\n-----------\nChicken Bowl\n$10.98 \n1\n-----------\nChicken Bowl\n$11.25 \n1\n-----------\nChicken Bowl\n$8.75 \n1\n-----------\nChicken Bowl\n$8.49 \n1\n-----------\nChicken Bowl\n$11.25 \n1\n-----------\nChicken Bowl\n$8.75 \n1\n-----------\nChicken Bowl\n$8.75 \n1\n-----------\nChicken Bowl\n$8.75 \n1\n-----------\nChicken Bowl\n$8.75 \n1\n-----------\nChicken Bowl\n$11.25 \n1\n-----------\nChicken Bowl\n$11.25 \n1\n-----------\nChicken Bowl\n$11.25 \n1\n-----------\nChicken Bowl\n$11.25 \n1\n-----------\nChicken Bowl\n$17.50 \n2\n-----------\nChicken Bowl\n$8.49 \n1\n-----------\nChicken Bowl\n$10.98 \n1\n-----------\nChicken Bowl\n$8.75 \n1\n-----------\nChicken Bowl\n$8.75 \n1\n-----------\nChicken Bowl\n$10.98 \n1\n-----------\nChicken Bowl\n$8.75 \n1\n-----------\nChicken Bowl\n$11.25 \n1\n-----------\nChicken Bowl\n$11.25 \n1\n-----------\nChicken Bowl\n$8.75 \n1\n-----------\nChicken Bowl\n$8.75 \n1\n-----------\nChicken Bowl\n$8.75 \n1\n-----------\nChicken Bowl\n$8.75 \n1\n-----------\nChicken Bowl\n$8.75 \n1\n-----------\nChicken Bowl\n$8.75 \n1\n-----------\nChicken Bowl\n$17.50 \n2\n-----------\nChicken Bowl\n$8.75 \n1\n-----------\nChicken Bowl\n$11.25 \n1\n-----------\nChicken Bowl\n$11.25 \n1\n-----------\nChicken Bowl\n$8.49 \n1\n-----------\nChicken Bowl\n$11.25 \n1\n-----------\nChicken Bowl\n$8.75 \n1\n-----------\nChicken Bowl\n$8.75 \n1\n-----------\nChicken Bowl\n$8.75 \n1\n-----------\nChicken Bowl\n$8.75 \n1\n-----------\nChicken Bowl\n$8.49 \n1\n-----------\nChicken Bowl\n$8.75 \n1\n-----------\nChicken Bowl\n$11.25 \n1\n-----------\nChicken Bowl\n$11.25 \n1\n-----------\nChicken Bowl\n$32.94 \n3\n-----------\nChicken Bowl\n$11.25 \n1\n-----------\nChicken Bowl\n$17.50 \n2\n-----------\nChicken Bowl\n$8.75 \n1\n-----------\nChicken Bowl\n$8.75 \n1\n-----------\nChicken Bowl\n$11.25 \n1\n-----------\nChicken Bowl\n$8.75 \n1\n-----------\nChicken Bowl\n$8.49 \n1\n-----------\nChicken Bowl\n$8.75 \n1\n-----------\nChicken Bowl\n$8.75 \n1\n-----------\nChicken Bowl\n$8.75 \n1\n-----------\nChicken Bowl\n$11.25 \n1\n-----------\nChicken Bowl\n$8.75 \n1\n-----------\nChicken Bowl\n$8.75 \n1\n-----------\nChicken Bowl\n$11.25 \n1\n-----------\nChicken Bowl\n$11.25 \n1\n-----------\nChicken Bowl\n$8.49 \n1\n-----------\nChicken Bowl\n$8.75 \n1\n-----------\nChicken Bowl\n$8.75 \n1\n-----------\nChicken Bowl\n$8.75 \n1\n-----------\nChicken Bowl\n$11.25 \n1\n-----------\nChicken Bowl\n$10.98 \n1\n-----------\nChicken Bowl\n$8.75 \n1\n-----------\nChicken Bowl\n$11.25 \n1\n-----------\nChicken Bowl\n$8.49 \n1\n-----------\nChicken Bowl\n$8.75 \n1\n-----------\nChicken Bowl\n$8.75 \n1\n-----------\nChicken Bowl\n$8.75 \n1\n-----------\nChicken Bowl\n$8.75 \n1\n-----------\nChicken Bowl\n$8.49 \n1\n-----------\nChicken Bowl\n$17.50 \n2\n-----------\nChicken Bowl\n$8.49 \n1\n-----------\nChicken Bowl\n$11.25 \n1\n-----------\nChicken Bowl\n$11.25 \n1\n-----------\nChicken Bowl\n$11.25 \n1\n-----------\nChicken Bowl\n$11.25 \n1\n-----------\nChicken Bowl\n$8.75 \n1\n-----------\nChicken Bowl\n$8.75 \n1\n-----------\nChicken Bowl\n$11.25 \n1\n-----------\nChicken Bowl\n$8.49 \n1\n-----------\nChicken Bowl\n$8.49 \n1\n-----------\nChicken Bowl\n$8.75 \n1\n-----------\nChicken Bowl\n$8.75 \n1\n-----------\nChicken Bowl\n$8.75 \n1\n-----------\nChicken Bowl\n$10.98 \n1\n-----------\nChicken Bowl\n$8.75 \n1\n-----------\nChicken Bowl\n$8.75 \n1\n-----------\nChicken Bowl\n$10.98 \n1\n-----------\nChicken Bowl\n$8.75 \n1\n-----------\nChicken Bowl\n$11.25 \n1\n-----------\nChicken Bowl\n$11.25 \n1\n-----------\nChicken Bowl\n$8.75 \n1\n-----------\nChicken Bowl\n$11.25 \n1\n-----------\nChicken Bowl\n$11.25 \n1\n-----------\nChicken Bowl\n$8.75 \n1\n-----------\nChicken Bowl\n$8.49 \n1\n-----------\nChicken Bowl\n$10.98 \n1\n-----------\nChicken Bowl\n$8.75 \n1\n-----------\nChicken Bowl\n$11.25 \n1\n-----------\nChicken Bowl\n$8.75 \n1\n-----------\nChicken Bowl\n$8.75 \n1\n-----------\nChicken Bowl\n$8.75 \n1\n-----------\nChicken Bowl\n$8.75 \n1\n-----------\nChicken Bowl\n$8.49 \n1\n-----------\nChicken Bowl\n$8.49 \n1\n-----------\nChicken Bowl\n$8.75 \n1\n-----------\nChicken Bowl\n$8.75 \n1\n-----------\nChicken Bowl\n$11.25 \n1\n-----------\nChicken Bowl\n$17.50 \n2\n-----------\nChicken Bowl\n$8.75 \n1\n-----------\nChicken Bowl\n$8.75 \n1\n-----------\nChicken Bowl\n$8.75 \n1\n-----------\nChicken Bowl\n$11.25 \n1\n-----------\nChicken Bowl\n$11.25 \n1\n-----------\nChicken Bowl\n$8.49 \n1\n-----------\nChicken Bowl\n$10.98 \n1\n-----------\nChicken Bowl\n$8.49 \n1\n-----------\nChicken Bowl\n$8.49 \n1\n-----------\nChicken Bowl\n$8.75 \n1\n-----------\nChicken Bowl\n$8.75 \n1\n-----------\nChicken Bowl\n$17.50 \n2\n-----------\nChicken Bowl\n$8.75 \n1\n-----------\nChicken Bowl\n$8.75 \n1\n-----------\nChicken Bowl\n$8.75 \n1\n-----------\nChicken Bowl\n$8.49 \n1\n-----------\nChicken Bowl\n$8.75 \n1\n-----------\nChicken Bowl\n$8.49 \n1\n-----------\nChicken Bowl\n$11.25 \n1\n-----------\nChicken Bowl\n$8.75 \n1\n-----------\nChicken Bowl\n$8.75 \n1\n-----------\nChicken Bowl\n$11.25 \n1\n-----------\nChicken Bowl\n$17.50 \n2\n-----------\nChicken Bowl\n$8.75 \n1\n-----------\nChicken Bowl\n$8.75 \n1\n-----------\nChicken Bowl\n$8.75 \n1\n-----------\nChicken Bowl\n$11.25 \n1\n-----------\nChicken Bowl\n$8.75 \n1\n-----------\nChicken Bowl\n$8.75 \n1\n-----------\nChicken Bowl\n$8.75 \n1\n-----------\nChicken Bowl\n$8.49 \n1\n-----------\nChicken Bowl\n$8.75 \n1\n-----------\nChicken Bowl\n$11.25 \n1\n-----------\nChicken Bowl\n$11.25 \n1\n-----------\nChicken Bowl\n$8.75 \n1\n-----------\nChicken Bowl\n$11.25 \n1\n-----------\nChicken Bowl\n$11.25 \n1\n-----------\nChicken Bowl\n$10.98 \n1\n-----------\nChicken Bowl\n$10.98 \n1\n-----------\nChicken Bowl\n$11.25 \n1\n-----------\nChicken Bowl\n$11.25 \n1\n-----------\nChicken Bowl\n$8.75 \n1\n-----------\nChicken Bowl\n$8.75 \n1\n-----------\nChicken Bowl\n$8.75 \n1\n-----------\nChicken Bowl\n$11.25 \n1\n-----------\nChicken Bowl\n$10.98 \n1\n-----------\nChicken Bowl\n$8.75 \n1\n-----------\nChicken Bowl\n$11.25 \n1\n-----------\nChicken Bowl\n$8.75 \n1\n-----------\nChicken Bowl\n$8.49 \n1\n-----------\nChicken Bowl\n$8.49 \n1\n-----------\nChicken Bowl\n$8.75 \n1\n-----------\nChicken Bowl\n$8.75 \n1\n-----------\nChicken Bowl\n$8.75 \n1\n-----------\nChicken Bowl\n$8.75 \n1\n-----------\nChicken Bowl\n$11.25 \n1\n-----------\nChicken Bowl\n$8.75 \n1\n-----------\nChicken Bowl\n$8.75 \n1\n-----------\nChicken Bowl\n$10.98 \n1\n-----------\nChicken Bowl\n$11.25 \n1\n-----------\nChicken Bowl\n$8.49 \n1\n-----------\nChicken Bowl\n$8.75 \n1\n-----------\nChicken Bowl\n$8.75 \n1\n-----------\nChicken Bowl\n$11.25 \n1\n-----------\nChicken Bowl\n$22.50 \n2\n-----------\nChicken Bowl\n$8.49 \n1\n-----------\nChicken Bowl\n$8.75 \n1\n-----------\nChicken Bowl\n$11.25 \n1\n-----------\nChicken Bowl\n$8.49 \n1\n-----------\nChicken Bowl\n$10.98 \n1\n-----------\nChicken Bowl\n$8.75 \n1\n-----------\nChicken Bowl\n$11.25 \n1\n-----------\nChicken Bowl\n$8.75 \n1\n-----------\nChicken Bowl\n$11.25 \n1\n-----------\nChicken Bowl\n$8.75 \n1\n-----------\nChicken Bowl\n$8.75 \n1\n-----------\nChicken Bowl\n$8.75 \n1\n-----------\nChicken Bowl\n$26.25 \n3\n-----------\nChicken Bowl\n$8.75 \n1\n-----------\nChicken Bowl\n$8.75 \n1\n-----------\nChicken Bowl\n$11.25 \n1\n-----------\nChicken Bowl\n$11.25 \n1\n-----------\nChicken Bowl\n$8.49 \n1\n-----------\nChicken Bowl\n$8.49 \n1\n-----------\nChicken Bowl\n$8.49 \n1\n-----------\nChicken Bowl\n$8.75 \n1\n-----------\nChicken Bowl\n$8.75 \n1\n-----------\nChicken Bowl\n$11.25 \n1\n-----------\nChicken Bowl\n$11.25 \n1\n-----------\nChicken Bowl\n$8.75 \n1\n-----------\nChicken Bowl\n$8.75 \n1\n-----------\nChicken Bowl\n$8.75 \n1\n-----------\nChicken Bowl\n$8.75 \n1\n-----------\nChicken Bowl\n$17.50 \n2\n-----------\nChicken Bowl\n$11.25 \n1\n-----------\nChicken Bowl\n$11.25 \n1\n-----------\nChicken Bowl\n$8.75 \n1\n-----------\nChicken Bowl\n$8.75 \n1\n-----------\nChicken Bowl\n$11.25 \n1\n-----------\nChicken Bowl\n$8.75 \n1\n-----------\nChicken Bowl\n$8.49 \n1\n-----------\nChicken Bowl\n$8.49 \n1\n-----------\nChicken Bowl\n$11.25 \n1\n-----------\nChicken Bowl\n$8.75 \n1\n-----------\nChicken Bowl\n$8.49 \n1\n-----------\nChicken Bowl\n$8.49 \n1\n-----------\nChicken Bowl\n$8.49 \n1\n-----------\nChicken Bowl\n$8.49 \n1\n-----------\nChicken Bowl\n$8.75 \n1\n-----------\nChicken Bowl\n$11.25 \n1\n-----------\nChicken Bowl\n$11.25 \n1\n-----------\nChicken Bowl\n$8.75 \n1\n-----------\nChicken Bowl\n$8.49 \n1\n-----------\nChicken Bowl\n$11.25 \n1\n-----------\nChicken Bowl\n$8.49 \n1\n-----------\nChicken Bowl\n$8.49 \n1\n-----------\nChicken Bowl\n$11.25 \n1\n-----------\nChicken Bowl\n$11.25 \n1\n-----------\nChicken Bowl\n$10.98 \n1\n-----------\nChicken Bowl\n$8.75 \n1\n-----------\nChicken Bowl\n$8.75 \n1\n-----------\nChicken Bowl\n$8.49 \n1\n-----------\nChicken Bowl\n$8.75 \n1\n-----------\nChicken Bowl\n$8.49 \n1\n-----------\nChicken Bowl\n$8.49 \n1\n-----------\nChicken Bowl\n$8.49 \n1\n-----------\nChicken Bowl\n$8.75 \n1\n-----------\nChicken Bowl\n$8.49 \n1\n-----------\nChicken Bowl\n$10.98 \n1\n-----------\nChicken Bowl\n$8.75 \n1\n-----------\nChicken Bowl\n$11.25 \n1\n-----------\nChicken Bowl\n$8.49 \n1\n-----------\nChicken Bowl\n$8.75 \n1\n-----------\nChicken Bowl\n$8.49 \n1\n-----------\nChicken Bowl\n$11.25 \n1\n-----------\nChicken Bowl\n$8.49 \n1\n-----------\nChicken Bowl\n$8.75 \n1\n-----------\nChicken Bowl\n$8.75 \n1\n-----------\nChicken Bowl\n$21.96 \n2\n-----------\nChicken Bowl\n$8.49 \n1\n-----------\nChicken Bowl\n$8.75 \n1\n-----------\nChicken Bowl\n$8.75 \n1\n-----------\nChicken Bowl\n$8.75 \n1\n-----------\nChicken Bowl\n$8.49 \n1\n-----------\nChicken Bowl\n$8.49 \n1\n-----------\nChicken Bowl\n$11.25 \n1\n-----------\nChicken Bowl\n$8.75 \n1\n-----------\nChicken Bowl\n$11.25 \n1\n-----------\nChicken Bowl\n$8.75 \n1\n-----------\nChicken Bowl\n$8.75 \n1\n-----------\nChicken Bowl\n$8.49 \n1\n-----------\nChicken Bowl\n$8.75 \n1\n-----------\nChicken Bowl\n$8.75 \n1\n-----------\nChicken Bowl\n$8.75 \n1\n-----------\nChicken Bowl\n$8.49 \n1\n-----------\nChicken Bowl\n$10.98 \n1\n-----------\nChicken Bowl\n$8.75 \n1\n-----------\nChicken Bowl\n$11.25 \n1\n-----------\nChicken Bowl\n$8.49 \n1\n-----------\nChicken Bowl\n$10.98 \n1\n-----------\nChicken Bowl\n$10.98 \n1\n-----------\nChicken Bowl\n$8.75 \n1\n-----------\nChicken Bowl\n$10.98 \n1\n-----------\nChicken Bowl\n$11.25 \n1\n-----------\nChicken Bowl\n$11.25 \n1\n-----------\nChicken Bowl\n$11.25 \n1\n-----------\nChicken Bowl\n$11.25 \n1\n-----------\nChicken Bowl\n$11.25 \n1\n-----------\nChicken Bowl\n$8.75 \n1\n-----------\nChicken Bowl\n$8.75 \n1\n-----------\nChicken Bowl\n$8.49 \n1\n-----------\nChicken Bowl\n$11.25 \n1\n-----------\nChicken Bowl\n$8.75 \n1\n-----------\nChicken Bowl\n$11.25 \n1\n-----------\nChicken Bowl\n$11.25 \n1\n-----------\nChicken Bowl\n$11.25 \n1\n-----------\nChicken Bowl\n$8.75 \n1\n-----------\nChicken Bowl\n$10.98 \n1\n-----------\nChicken Bowl\n$10.98 \n1\n-----------\nChicken Bowl\n$8.75 \n1\n-----------\nChicken Bowl\n$8.49 \n1\n-----------\nChicken Bowl\n$11.25 \n1\n-----------\nChicken Bowl\n$8.75 \n1\n-----------\nChicken Bowl\n$21.96 \n2\n-----------\nChicken Bowl\n$8.75 \n1\n-----------\nChicken Bowl\n$8.75 \n1\n-----------\nChicken Bowl\n$17.50 \n2\n-----------\nChicken Bowl\n$11.25 \n1\n-----------\nChicken Bowl\n$8.75 \n1\n-----------\nChicken Bowl\n$10.98 \n1\n-----------\nChicken Bowl\n$8.49 \n1\n-----------\nChicken Bowl\n$11.25 \n1\n-----------\nChicken Bowl\n$8.75 \n1\n-----------\nChicken Bowl\n$10.98 \n1\n-----------\nChicken Bowl\n$8.75 \n1\n-----------\nChicken Bowl\n$8.75 \n1\n-----------\nChicken Bowl\n$8.75 \n1\n-----------\nChicken Bowl\n$11.25 \n1\n-----------\nChicken Bowl\n$8.75 \n1\n-----------\nChicken Bowl\n$11.25 \n1\n-----------\nChicken Bowl\n$8.75 \n1\n-----------\nChicken Bowl\n$8.75 \n1\n-----------\nChicken Bowl\n$8.75 \n1\n-----------\nChicken Bowl\n$8.75 \n1\n-----------\nChicken Bowl\n$11.25 \n1\n-----------\nChicken Bowl\n$8.75 \n1\n-----------\nChicken Bowl\n$11.25 \n1\n-----------\nChicken Bowl\n$8.75 \n1\n-----------\nChicken Bowl\n$8.75 \n1\n-----------\nChicken Bowl\n$8.75 \n1\n-----------\nChicken Bowl\n$8.75 \n1\n-----------\nChicken Bowl\n$8.75 \n1\n-----------\nChicken Bowl\n$8.75 \n1\n-----------\nChicken Bowl\n$8.75 \n1\n-----------\nChicken Bowl\n$8.75 \n1\n-----------\nChicken Bowl\n$8.75 \n1\n-----------\nChicken Bowl\n$8.75 \n1\n-----------\nChicken Bowl\n$8.75 \n1\n-----------\nChicken Bowl\n$8.75 \n1\n-----------\nChicken Bowl\n$8.75 \n1\n-----------\nChicken Bowl\n$8.75 \n1\n-----------\nChicken Bowl\n$8.75 \n1\n-----------\nChicken Bowl\n$8.75 \n1\n-----------\nChicken Bowl\n$8.75 \n1\n-----------\nChicken Bowl\n$11.25 \n1\n-----------\nChicken Bowl\n$11.25 \n1\n-----------\nChicken Bowl\n$8.75 \n1\n-----------\nChicken Bowl\n$16.98 \n2\n-----------\nChicken Bowl\n$8.75 \n1\n-----------\nChicken Bowl\n$11.25 \n1\n-----------\nChicken Bowl\n$8.75 \n1\n-----------\nChicken Bowl\n$10.98 \n1\n-----------\nChicken Bowl\n$8.75 \n1\n-----------\nChicken Bowl\n$11.25 \n1\n-----------\nChicken Bowl\n$8.75 \n1\n-----------\nChicken Bowl\n$8.49 \n1\n-----------\nChicken Bowl\n$8.75 \n1\n-----------\nChicken Bowl\n$11.25 \n1\n-----------\nChicken Bowl\n$8.75 \n1\n-----------\nChicken Bowl\n$8.75 \n1\n-----------\nChicken Bowl\n$8.75 \n1\n-----------\nChicken Bowl\n$8.49 \n1\n-----------\nChicken Bowl\n$11.25 \n1\n-----------\nChicken Bowl\n$11.25 \n1\n-----------\nChicken Bowl\n$8.49 \n1\n-----------\nChicken Bowl\n$8.75 \n1\n-----------\nChicken Bowl\n$8.75 \n1\n-----------\nChicken Bowl\n$8.75 \n1\n-----------\nChicken Bowl\n$8.75 \n1\n-----------\nChicken Bowl\n$11.25 \n1\n-----------\nChicken Bowl\n$8.75 \n1\n-----------\nChicken Bowl\n$11.25 \n1\n-----------\nChicken Bowl\n$10.98 \n1\n-----------\nChicken Bowl\n$8.49 \n1\n-----------\nChicken Bowl\n$8.75 \n1\n-----------\nChicken Bowl\n$8.75 \n1\n-----------\nChicken Bowl\n$8.49 \n1\n-----------\nChicken Bowl\n$11.25 \n1\n-----------\nChicken Bowl\n$8.75 \n1\n-----------\nChicken Bowl\n$11.25 \n1\n-----------\nChicken Bowl\n$22.50 \n2\n-----------\nChicken Bowl\n$8.49 \n1\n-----------\nChicken Bowl\n$11.25 \n1\n-----------\nChicken Bowl\n$21.96 \n2\n-----------\nChicken Bowl\n$8.75 \n1\n-----------\nChicken Bowl\n$8.75 \n1\n-----------\nChicken Bowl\n$8.49 \n1\n-----------\nChicken Bowl\n$8.49 \n1\n-----------\nChicken Bowl\n$11.25 \n1\n-----------\nChicken Bowl\n$11.25 \n1\n-----------\nChicken Bowl\n$11.25 \n1\n-----------\nChicken Bowl\n$8.75 \n1\n-----------\nChicken Bowl\n$11.25 \n1\n-----------\nChicken Bowl\n$16.98 \n2\n-----------\nChicken Bowl\n$10.98 \n1\n-----------\nChicken Bowl\n$8.75 \n1\n-----------\nChicken Bowl\n$8.75 \n1\n-----------\nChicken Bowl\n$8.75 \n1\n-----------\nChicken Bowl\n$11.25 \n1\n-----------\nChicken Bowl\n$11.25 \n1\n-----------\nChicken Bowl\n$11.25 \n1\n-----------\nChicken Bowl\n$10.98 \n1\n-----------\nChicken Bowl\n$11.25 \n1\n-----------\nChicken Bowl\n$8.49 \n1\n-----------\nChicken Bowl\n$8.75 \n1\n-----------\nChicken Bowl\n$11.25 \n1\n-----------\nChicken Bowl\n$8.75 \n1\n-----------\nChicken Bowl\n$11.25 \n1\n-----------\nChicken Bowl\n$8.75 \n1\n-----------\nChicken Bowl\n$11.25 \n1\n-----------\nChicken Bowl\n$10.98 \n1\n-----------\nChicken Bowl\n$8.75 \n1\n-----------\nChicken Bowl\n$8.75 \n1\n-----------\nChicken Bowl\n$8.75 \n1\n-----------\nChicken Bowl\n$8.75 \n1\n-----------\nChicken Bowl\n$11.25 \n1\n-----------\nChicken Bowl\n$11.25 \n1\n-----------\nChicken Bowl\n$11.25 \n1\n-----------\nChicken Bowl\n$8.75 \n1\n-----------\nChicken Bowl\n$11.25 \n1\n-----------\nChicken Bowl\n$8.75 \n1\n-----------\nChicken Bowl\n$8.75 \n1\n-----------\nChicken Bowl\n$11.25 \n1\n-----------\nChicken Bowl\n$10.98 \n1\n-----------\nChicken Bowl\n$16.98 \n2\n-----------\nChicken Bowl\n$8.75 \n1\n-----------\nChicken Bowl\n$11.25 \n1\n-----------\nChicken Bowl\n$8.75 \n1\n-----------\nChicken Bowl\n$8.75 \n1\n-----------\nChicken Bowl\n$8.75 \n1\n-----------\nChicken Bowl\n$11.25 \n1\n-----------\nChicken Bowl\n$8.49 \n1\n-----------\nChicken Bowl\n$10.98 \n1\n-----------\nChicken Bowl\n$8.75 \n1\n-----------\nChicken Bowl\n$8.75 \n1\n-----------\nChicken Bowl\n$11.25 \n1\n-----------\nChicken Bowl\n$8.75 \n1\n-----------\nChicken Bowl\n$8.75 \n1\n-----------\nChicken Bowl\n$8.75 \n1\n-----------\nChicken Bowl\n$11.25 \n1\n-----------\nChicken Bowl\n$11.25 \n1\n-----------\nChicken Bowl\n$8.19 \n1\n-----------\nChicken Bowl\n$10.58 \n1\n-----------\nChicken Bowl\n$11.25 \n1\n-----------\nChicken Bowl\n$8.75 \n1\n-----------\nChicken Bowl\n$8.75 \n1\n-----------\nChicken Bowl\n$21.96 \n2\n-----------\nChicken Bowl\n$8.49 \n1\n-----------\nChicken Bowl\n$8.49 \n1\n-----------\nChicken Bowl\n$8.75 \n1\n-----------\nChicken Bowl\n$11.25 \n1\n-----------\nChicken Bowl\n$11.25 \n1\n-----------\nChicken Bowl\n$8.49 \n1\n-----------\nChicken Bowl\n$8.49 \n1\n-----------\nChicken Bowl\n$8.49 \n1\n-----------\nChicken Bowl\n$8.75 \n1\n-----------\nChicken Bowl\n$11.25 \n1\n-----------\nChicken Bowl\n$11.25 \n1\n-----------\nChicken Bowl\n$11.25 \n1\n-----------\nChicken Bowl\n$8.49 \n1\n-----------\nChicken Bowl\n$11.25 \n1\n-----------\nChicken Bowl\n$11.25 \n1\n-----------\nChicken Bowl\n$8.75 \n1\n-----------\nChicken Bowl\n$8.49 \n1\n-----------\nChicken Bowl\n$8.49 \n1\n-----------\nChicken Bowl\n$8.75 \n1\n-----------\nChicken Bowl\n$11.25 \n1\n-----------\nChicken Bowl\n$8.75 \n1\n-----------\nChicken Bowl\n$8.49 \n1\n-----------\nChicken Bowl\n$8.49 \n1\n-----------\nChicken Bowl\n$11.25 \n1\n-----------\nChicken Bowl\n$11.25 \n1\n-----------\nChicken Bowl\n$11.25 \n1\n-----------\nChicken Bowl\n$11.25 \n1\n-----------\nChicken Bowl\n$11.25 \n1\n-----------\nChicken Bowl\n$11.25 \n1\n-----------\nChicken Bowl\n$8.49 \n1\n-----------\nChicken Bowl\n$16.98 \n2\n-----------\nChicken Bowl\n$8.49 \n1\n-----------\nChicken Bowl\n$11.25 \n1\n-----------\nChicken Bowl\n$8.19 \n1\n-----------\nChicken Bowl\n$8.49 \n1\n-----------\nChicken Bowl\n$8.75 \n1\n-----------\nChicken Bowl\n$16.98 \n2\n-----------\nChicken Bowl\n$21.96 \n2\n-----------\nChicken Bowl\n$8.75 \n1\n-----------\nChicken Bowl\n$11.25 \n1\n-----------\nChicken Bowl\n$8.75 \n1\n-----------\nChicken Bowl\n$8.49 \n1\n-----------\nChicken Bowl\n$8.49 \n1\n-----------\nChicken Bowl\n$8.49 \n1\n-----------\nChicken Bowl\n$8.75 \n1\n-----------\nChicken Bowl\n$8.75 \n1\n-----------\nChicken Bowl\n$11.25 \n1\n-----------\nChicken Bowl\n$8.75 \n1\n-----------\nChicken Bowl\n$8.75 \n1\n-----------\nChicken Bowl\n$11.25 \n1\n-----------\nChicken Bowl\n$11.25 \n1\n-----------\nChicken Bowl\n$8.49 \n1\n-----------\nChicken Bowl\n$11.25 \n1\n-----------\nChicken Bowl\n$8.49 \n1\n-----------\nChicken Bowl\n$11.25 \n1\n-----------\nChicken Bowl\n$11.25 \n1\n-----------\nChicken Bowl\n$11.25 \n1\n-----------\nChicken Bowl\n$8.75 \n1\n-----------\nChicken Bowl\n$8.49 \n1\n-----------\nChicken Bowl\n$8.49 \n1\n-----------\nChicken Bowl\n$8.75 \n1\n-----------\nChicken Bowl\n$11.25 \n1\n-----------\nChicken Bowl\n$11.25 \n1\n-----------\nChicken Bowl\n$8.75 \n1\n-----------\nChicken Bowl\n$8.75 \n1\n-----------\nChicken Bowl\n$11.25 \n1\n-----------\nChicken Bowl\n$11.25 \n1\n-----------\nChicken Bowl\n$8.75 \n1\n-----------\nChicken Bowl\n$8.75 \n1\n-----------\nChicken Bowl\n$8.75 \n1\n-----------\nChicken Bowl\n$11.25 \n1\n-----------\nChicken Bowl\n$8.75 \n1\n-----------\nChicken Bowl\n$8.75 \n1\n-----------\nChicken Bowl\n$8.75 \n1\n-----------\nChicken Bowl\n$8.75 \n1\n-----------\nChicken Bowl\n$8.75 \n1\n-----------\nChicken Bowl\n$8.49 \n1\n-----------\nChicken Bowl\n$8.49 \n1\n-----------\nChicken Bowl\n$11.25 \n1\n-----------\nChicken Bowl\n$8.49 \n1\n-----------\nChicken Bowl\n$8.75 \n1\n-----------\nChicken Bowl\n$11.25 \n1\n-----------\nChicken Bowl\n$10.98 \n1\n-----------\nChicken Bowl\n$8.49 \n1\n-----------\nChicken Bowl\n$8.75 \n1\n-----------\nChicken Bowl\n$17.50 \n2\n-----------\nChicken Bowl\n$8.49 \n1\n-----------\nChicken Bowl\n$8.75 \n1\n-----------\nChicken Bowl\n$11.25 \n1\n-----------\nChicken Bowl\n$11.25 \n1\n-----------\nChicken Bowl\n$11.25 \n1\n-----------\nChicken Bowl\n$11.25 \n1\n-----------\nChicken Bowl\n$8.75 \n1\n-----------\nChicken Bowl\n$8.75 \n1\n-----------\nChicken Bowl\n$11.25 \n1\n-----------\nChicken Bowl\n$11.25 \n1\n-----------\nChicken Bowl\n$11.25 \n1\n-----------\nChicken Bowl\n$8.75 \n1\n-----------\nChicken Bowl\n$11.25 \n1\n-----------\nChicken Bowl\n$8.75 \n1\n-----------\nChicken Bowl\n$8.75 \n1\n-----------\nChicken Bowl\n$8.49 \n1\n-----------\nChicken Bowl\n$10.98 \n1\n-----------\nChicken Bowl\n$21.96 \n2\n-----------\nChicken Bowl\n$10.98 \n1\n-----------\nChicken Bowl\n$8.49 \n1\n-----------\nChicken Bowl\n$8.75 \n1\n-----------\nChicken Bowl\n$11.25 \n1\n-----------\nChicken Bowl\n$11.25 \n1\n-----------\nChicken Bowl\n$8.75 \n1\n-----------\nChicken Bowl\n$8.75 \n1\n-----------\nChicken Bowl\n$8.75 \n1\n-----------\nChicken Bowl\n$8.75 \n1\n-----------\nChicken Bowl\n$8.49 \n1\n-----------\nChicken Bowl\n$8.75 \n1\n-----------\nChicken Bowl\n$10.98 \n1\n-----------\nChicken Bowl\n$11.25 \n1\n-----------\nChicken Bowl\n$10.98 \n1\n-----------\nChicken Bowl\n$16.98 \n2\n-----------\nChicken Bowl\n$16.98 \n2\n-----------\nChicken Bowl\n$11.25 \n1\n-----------\nChicken Bowl\n$11.25 \n1\n-----------\nChicken Bowl\n$11.25 \n1\n-----------\nChicken Bowl\n$11.25 \n1\n-----------\nChicken Bowl\n$11.25 \n1\n-----------\nChicken Bowl\n$11.25 \n1\n-----------\nChicken Bowl\n$16.98 \n2\n-----------\nChicken Bowl\n$8.19 \n1\n-----------\nChicken Bowl\n$10.98 \n1\n-----------\nChicken Bowl\n$10.98 \n1\n-----------\nChicken Bowl\n$11.25 \n1\n-----------\nChicken Bowl\n$11.25 \n1\n-----------\nChicken Bowl\n$10.98 \n1\n-----------\nChicken Bowl\n$8.49 \n1\n-----------\nChicken Bowl\n$8.75 \n1\n-----------\nChicken Bowl\n$8.75 \n1\n-----------\nChicken Bowl\n$8.75 \n1\n-----------\nChicken Bowl\n$11.25 \n1\n-----------\nChicken Bowl\n$8.49 \n1\n-----------\nChicken Bowl\n$11.25 \n1\n-----------\nChicken Bowl\n$8.75 \n1\n-----------\nChicken Bowl\n$8.49 \n1\n-----------\nChicken Bowl\n$8.75 \n1\n-----------\nChicken Bowl\n$10.98 \n1\n-----------\nChicken Bowl\n$10.98 \n1\n-----------\nChicken Bowl\n$11.25 \n1\n-----------\nChicken Bowl\n$8.75 \n1\n-----------\nChicken Bowl\n$11.25 \n1\n-----------\nChicken Bowl\n$11.25 \n1\n-----------\nChicken Bowl\n$11.25 \n1\n-----------\nChicken Bowl\n$8.49 \n1\n-----------\nChicken Bowl\n$8.49 \n1\n-----------\nChicken Bowl\n$8.75 \n1\n-----------\nChicken Bowl\n$11.25 \n1\n-----------\nChicken Bowl\n$11.25 \n1\n-----------\nChicken Bowl\n$21.96 \n2\n-----------\nChicken Bowl\n$8.75 \n1\n-----------\nChicken Bowl\n$8.49 \n1\n-----------\nChicken Bowl\n$8.75 \n1\n-----------\nChicken Bowl\n$8.75 \n1\n-----------\nChicken Bowl\n$11.25 \n1\n-----------\nChicken Bowl\n$11.25 \n1\n-----------\nChicken Bowl\n$8.75 \n1\n-----------\nChicken Bowl\n$8.75 \n1\n-----------\nChicken Bowl\n$8.75 \n1\n-----------\nChicken Bowl\n$11.25 \n1\n-----------\nChicken Bowl\n$11.25 \n1\n-----------\nChicken Bowl\n$10.98 \n1\n-----------\nChicken Bowl\n$8.75 \n1\n-----------\nChicken Bowl\n$11.25 \n1\n-----------\nChicken Bowl\n$8.75 \n1\n-----------\nChicken Bowl\n$8.75 \n1\n-----------\nChicken Bowl\n$8.75 \n1\n-----------\nChicken Bowl\n$8.75 \n1\n-----------\nChicken Bowl\n$11.25 \n1\n-----------\nChicken Bowl\n$8.49 \n1\n-----------\nChicken Bowl\n$8.75 \n1\n-----------\nChicken Bowl\n$8.75 \n1\n-----------\nChicken Bowl\n$8.75 \n1\n-----------\nChicken Bowl\n$16.98 \n2\n-----------\nChicken Bowl\n$11.25 \n1\n-----------\nChicken Bowl\n$8.75 \n1\n-----------\nChicken Bowl\n$11.25 \n1\n-----------\nChicken Bowl\n$11.25 \n1\n-----------\nChicken Bowl\n$11.25 \n1\n-----------\nChicken Bowl\n$8.49 \n1\n-----------\nChicken Bowl\n$8.49 \n1\n-----------\nChicken Bowl\n$8.75 \n1\n-----------\nChicken Bowl\n$11.25 \n1\n-----------\nChicken Bowl\n$11.25 \n1\n-----------\nChicken Bowl\n$8.75 \n1\n-----------\nChicken Bowl\n$8.75 \n1\n-----------\nChicken Bowl\n$11.25 \n1\n-----------\nChicken Bowl\n$8.75 \n1\n-----------\nChicken Bowl\n$11.25 \n1\n-----------\nChicken Bowl\n$8.49 \n1\n-----------\nChicken Bowl\n$8.49 \n1\n-----------\nChicken Bowl\n$10.98 \n1\n-----------\nChicken Bowl\n$8.49 \n1\n-----------\nChicken Bowl\n$8.75 \n1\n-----------\nChicken Bowl\n$8.75 \n1\n-----------\nChicken Bowl\n$8.75 \n1\n-----------\nChicken Bowl\n$11.25 \n1\n-----------\nChicken Bowl\n$11.25 \n1\n-----------\nChicken Bowl\n$11.25 \n1\n-----------\nChicken Bowl\n$8.75 \n1\n-----------\nChicken Bowl\n$8.75 \n1\n-----------\nChicken Bowl\n$8.75 \n1\n-----------\nChicken Bowl\n$11.25 \n1\n-----------\nChicken Bowl\n$11.25 \n1\n-----------\nChicken Bowl\n$11.25 \n1\n-----------\nChicken Bowl\n$11.25 \n1\n-----------\nChicken Bowl\n$8.75 \n1\n-----------\nChicken Bowl\n$8.75 \n1\n-----------\nChicken Bowl\n$11.25 \n1\n-----------\nChicken Bowl\n$11.25 \n1\n-----------\nChicken Bowl\n$11.25 \n1\n-----------\nChicken Bowl\n$8.75 \n1\n-----------\nChicken Bowl\n$8.75 \n1\n-----------\nChicken Bowl\n$8.75 \n1\n-----------\nChicken Bowl\n$8.75 \n1\n-----------\nChicken Bowl\n$8.75 \n1\n-----------\nChicken Bowl\n$8.75 \n1\n-----------\nChicken Bowl\n$8.75 \n1\n-----------\nChicken Bowl\n$8.50 \n1\n-----------\nChicken Bowl\n$8.50 \n1\n-----------\nChicken Bowl\n$8.75 \n1\n-----------\nChicken Bowl\n$8.75 \n1\n-----------\nChicken Bowl\n$11.25 \n1\n-----------\nChicken Bowl\n$11.25 \n1\n-----------\nChicken Bowl\n$8.75 \n1\n-----------\nChicken Bowl\n$8.75 \n1\n-----------\nChicken Bowl\n$8.75 \n1\n-----------\nChicken Bowl\n$11.25 \n1\n-----------\nChicken Bowl\n$11.25 \n1\n-----------\nChicken Bowl\n$11.25 \n1\n-----------\nChicken Bowl\n$11.25 \n1\n-----------\nChicken Bowl\n$8.75 \n1\n-----------\nChicken Bowl\n$11.25 \n1\n-----------\nChicken Bowl\n$8.75 \n1\n-----------\nChicken Bowl\n$11.25 \n1\n-----------\nChicken Bowl\n$11.25 \n1\n-----------\nChicken Bowl\n$11.25 \n1\n-----------\nChicken Bowl\n$11.25 \n1\n-----------\nChicken Bowl\n$8.75 \n1\n-----------\nChicken Bowl\n$8.75 \n1\n-----------\nChicken Bowl\n$8.75 \n1\n-----------\nChicken Bowl\n$11.25 \n1\n-----------\nChicken Bowl\n$8.75 \n1\n-----------\nChicken Bowl\n$11.25 \n1\n-----------\nChicken Bowl\n$8.75 \n1\n-----------\nChicken Bowl\n$11.25 \n1\n-----------\nChicken Bowl\n$8.75 \n1\n-----------\nChicken Bowl\n$22.50 \n2\n-----------\nChicken Bowl\n$11.25 \n1\n-----------\nChicken Bowl\n$17.50 \n2\n-----------\nChicken Bowl\n$8.75 \n1\n-----------\nChicken Bowl\n$8.75 \n1\n-----------\nChicken Bowl\n$8.75 \n1\n-----------\nChicken Bowl\n$8.75 \n1\n-----------\nChicken Bowl\n$8.75 \n1\n-----------\nChicken Bowl\n$11.25 \n1\n-----------\nChicken Bowl\n$11.25 \n1\n-----------\nChicken Bowl\n$11.25 \n1\n-----------\nChicken Bowl\n$8.75 \n1\n-----------\nChicken Bowl\n$11.25 \n1\n-----------\nChicken Bowl\n$11.25 \n1\n-----------\nChicken Bowl\n$11.25 \n1\n-----------\nChicken Bowl\n$8.75 \n1\n-----------\nChicken Bowl\n$8.75 \n1\n-----------\nChicken Bowl\n$8.75 \n1\n-----------\nChicken Bowl\n$11.25 \n1\n-----------\nChicken Bowl\n$11.25 \n1\n-----------\nChicken Bowl\n$8.75 \n1\n-----------\nChicken Bowl\n$11.25 \n1\n-----------\nChicken Bowl\n$8.75 \n1\n-----------\nChicken Bowl\n$11.25 \n1\n-----------\nChicken Bowl\n$8.75 \n1\n-----------\nChicken Bowl\n$8.75 \n1\n-----------\nChicken Bowl\n$11.25 \n1\n-----------\nChicken Bowl\n$11.25 \n1\n-----------\nChicken Bowl\n$11.25 \n1\n-----------\nChicken Bowl\n$11.25 \n1\n-----------\nChicken Bowl\n$8.75 \n1\n-----------\nChicken Bowl\n$8.75 \n1\n-----------\nChicken Bowl\n$8.75 \n1\n-----------\nChicken Bowl\n$8.75 \n1\n-----------\n726\n"
     ]
    }
   ],
   "source": [
    "numero_chiken_bowl = 0\n",
    "for pos, x in enumerate(chipo[\"item_name\"]):\n",
    "    if x == \"Chicken Bowl\":\n",
    "        print(x)\n",
    "        print(chipo[\"item_price\"][pos])\n",
    "        print(chipo[\"quantity\"][pos])\n",
    "        numero_chiken_bowl += 1\n",
    "        print(\"-----------\")\n",
    "print(numero_chiken_bowl) "
   ]
  },
  {
   "cell_type": "code",
   "execution_count": 84,
   "metadata": {},
   "outputs": [
    {
     "output_type": "execute_result",
     "data": {
      "text/plain": [
       "                                       order_id  quantity  choice_description  \\\n",
       "item_name                                                                       \n",
       "6 Pack Soft Drink                            54        54                  54   \n",
       "Barbacoa Bowl                                66        66                  66   \n",
       "Barbacoa Burrito                             91        91                  91   \n",
       "Barbacoa Crispy Tacos                        11        11                  11   \n",
       "Barbacoa Salad Bowl                          10        10                  10   \n",
       "Barbacoa Soft Tacos                          25        25                  25   \n",
       "Bottled Water                               162       162                   0   \n",
       "Bowl                                          2         2                   2   \n",
       "Burrito                                       6         6                   6   \n",
       "Canned Soda                                 104       104                 104   \n",
       "Canned Soft Drink                           301       301                 301   \n",
       "Carnitas Bowl                                68        68                  68   \n",
       "Carnitas Burrito                             59        59                  59   \n",
       "Carnitas Crispy Tacos                         7         7                   7   \n",
       "Carnitas Salad                                1         1                   1   \n",
       "Carnitas Salad Bowl                           6         6                   6   \n",
       "Carnitas Soft Tacos                          40        40                  40   \n",
       "Chicken Bowl                                726       726                 726   \n",
       "Chicken Burrito                             553       553                 553   \n",
       "Chicken Crispy Tacos                         47        47                  47   \n",
       "Chicken Salad                                 9         9                   9   \n",
       "Chicken Salad Bowl                          110       110                 110   \n",
       "Chicken Soft Tacos                          115       115                 115   \n",
       "Chips                                       211       211                   0   \n",
       "Chips and Fresh Tomato Salsa                110       110                   0   \n",
       "Chips and Guacamole                         479       479                   0   \n",
       "Chips and Mild Fresh Tomato Salsa             1         1                   0   \n",
       "Chips and Roasted Chili Corn Salsa           22        22                   0   \n",
       "Chips and Roasted Chili-Corn Salsa           18        18                   0   \n",
       "Chips and Tomatillo Green Chili Salsa        43        43                   0   \n",
       "Chips and Tomatillo Red Chili Salsa          48        48                   0   \n",
       "Chips and Tomatillo-Green Chili Salsa        31        31                   0   \n",
       "Chips and Tomatillo-Red Chili Salsa          20        20                   0   \n",
       "Crispy Tacos                                  2         2                   2   \n",
       "Izze                                         20        20                  20   \n",
       "Nantucket Nectar                             27        27                  27   \n",
       "Salad                                         2         2                   2   \n",
       "Side of Chips                               101       101                   0   \n",
       "Steak Bowl                                  211       211                 211   \n",
       "Steak Burrito                               368       368                 368   \n",
       "Steak Crispy Tacos                           35        35                  35   \n",
       "Steak Salad                                   4         4                   4   \n",
       "Steak Salad Bowl                             29        29                  29   \n",
       "Steak Soft Tacos                             55        55                  55   \n",
       "Veggie Bowl                                  85        85                  85   \n",
       "Veggie Burrito                               95        95                  95   \n",
       "Veggie Crispy Tacos                           1         1                   1   \n",
       "Veggie Salad                                  6         6                   6   \n",
       "Veggie Salad Bowl                            18        18                  18   \n",
       "Veggie Soft Tacos                             7         7                   7   \n",
       "\n",
       "                                       item_price  item_price_float  \\\n",
       "item_name                                                             \n",
       "6 Pack Soft Drink                              54                54   \n",
       "Barbacoa Bowl                                  66                66   \n",
       "Barbacoa Burrito                               91                91   \n",
       "Barbacoa Crispy Tacos                          11                11   \n",
       "Barbacoa Salad Bowl                            10                10   \n",
       "Barbacoa Soft Tacos                            25                25   \n",
       "Bottled Water                                 162               162   \n",
       "Bowl                                            2                 2   \n",
       "Burrito                                         6                 6   \n",
       "Canned Soda                                   104               104   \n",
       "Canned Soft Drink                             301               301   \n",
       "Carnitas Bowl                                  68                68   \n",
       "Carnitas Burrito                               59                59   \n",
       "Carnitas Crispy Tacos                           7                 7   \n",
       "Carnitas Salad                                  1                 1   \n",
       "Carnitas Salad Bowl                             6                 6   \n",
       "Carnitas Soft Tacos                            40                40   \n",
       "Chicken Bowl                                  726               726   \n",
       "Chicken Burrito                               553               553   \n",
       "Chicken Crispy Tacos                           47                47   \n",
       "Chicken Salad                                   9                 9   \n",
       "Chicken Salad Bowl                            110               110   \n",
       "Chicken Soft Tacos                            115               115   \n",
       "Chips                                         211               211   \n",
       "Chips and Fresh Tomato Salsa                  110               110   \n",
       "Chips and Guacamole                           479               479   \n",
       "Chips and Mild Fresh Tomato Salsa               1                 1   \n",
       "Chips and Roasted Chili Corn Salsa             22                22   \n",
       "Chips and Roasted Chili-Corn Salsa             18                18   \n",
       "Chips and Tomatillo Green Chili Salsa          43                43   \n",
       "Chips and Tomatillo Red Chili Salsa            48                48   \n",
       "Chips and Tomatillo-Green Chili Salsa          31                31   \n",
       "Chips and Tomatillo-Red Chili Salsa            20                20   \n",
       "Crispy Tacos                                    2                 2   \n",
       "Izze                                           20                20   \n",
       "Nantucket Nectar                               27                27   \n",
       "Salad                                           2                 2   \n",
       "Side of Chips                                 101               101   \n",
       "Steak Bowl                                    211               211   \n",
       "Steak Burrito                                 368               368   \n",
       "Steak Crispy Tacos                             35                35   \n",
       "Steak Salad                                     4                 4   \n",
       "Steak Salad Bowl                               29                29   \n",
       "Steak Soft Tacos                               55                55   \n",
       "Veggie Bowl                                    85                85   \n",
       "Veggie Burrito                                 95                95   \n",
       "Veggie Crispy Tacos                             1                 1   \n",
       "Veggie Salad                                    6                 6   \n",
       "Veggie Salad Bowl                              18                18   \n",
       "Veggie Soft Tacos                               7                 7   \n",
       "\n",
       "                                       item_price_float_replace  \n",
       "item_name                                                        \n",
       "6 Pack Soft Drink                                            54  \n",
       "Barbacoa Bowl                                                66  \n",
       "Barbacoa Burrito                                             91  \n",
       "Barbacoa Crispy Tacos                                        11  \n",
       "Barbacoa Salad Bowl                                          10  \n",
       "Barbacoa Soft Tacos                                          25  \n",
       "Bottled Water                                               162  \n",
       "Bowl                                                          2  \n",
       "Burrito                                                       6  \n",
       "Canned Soda                                                 104  \n",
       "Canned Soft Drink                                           301  \n",
       "Carnitas Bowl                                                68  \n",
       "Carnitas Burrito                                             59  \n",
       "Carnitas Crispy Tacos                                         7  \n",
       "Carnitas Salad                                                1  \n",
       "Carnitas Salad Bowl                                           6  \n",
       "Carnitas Soft Tacos                                          40  \n",
       "Chicken Bowl                                                726  \n",
       "Chicken Burrito                                             553  \n",
       "Chicken Crispy Tacos                                         47  \n",
       "Chicken Salad                                                 9  \n",
       "Chicken Salad Bowl                                          110  \n",
       "Chicken Soft Tacos                                          115  \n",
       "Chips                                                       211  \n",
       "Chips and Fresh Tomato Salsa                                110  \n",
       "Chips and Guacamole                                         479  \n",
       "Chips and Mild Fresh Tomato Salsa                             1  \n",
       "Chips and Roasted Chili Corn Salsa                           22  \n",
       "Chips and Roasted Chili-Corn Salsa                           18  \n",
       "Chips and Tomatillo Green Chili Salsa                        43  \n",
       "Chips and Tomatillo Red Chili Salsa                          48  \n",
       "Chips and Tomatillo-Green Chili Salsa                        31  \n",
       "Chips and Tomatillo-Red Chili Salsa                          20  \n",
       "Crispy Tacos                                                  2  \n",
       "Izze                                                         20  \n",
       "Nantucket Nectar                                             27  \n",
       "Salad                                                         2  \n",
       "Side of Chips                                               101  \n",
       "Steak Bowl                                                  211  \n",
       "Steak Burrito                                               368  \n",
       "Steak Crispy Tacos                                           35  \n",
       "Steak Salad                                                   4  \n",
       "Steak Salad Bowl                                             29  \n",
       "Steak Soft Tacos                                             55  \n",
       "Veggie Bowl                                                  85  \n",
       "Veggie Burrito                                               95  \n",
       "Veggie Crispy Tacos                                           1  \n",
       "Veggie Salad                                                  6  \n",
       "Veggie Salad Bowl                                            18  \n",
       "Veggie Soft Tacos                                             7  "
      ],
      "text/html": "<div>\n<style scoped>\n    .dataframe tbody tr th:only-of-type {\n        vertical-align: middle;\n    }\n\n    .dataframe tbody tr th {\n        vertical-align: top;\n    }\n\n    .dataframe thead th {\n        text-align: right;\n    }\n</style>\n<table border=\"1\" class=\"dataframe\">\n  <thead>\n    <tr style=\"text-align: right;\">\n      <th></th>\n      <th>order_id</th>\n      <th>quantity</th>\n      <th>choice_description</th>\n      <th>item_price</th>\n      <th>item_price_float</th>\n      <th>item_price_float_replace</th>\n    </tr>\n    <tr>\n      <th>item_name</th>\n      <th></th>\n      <th></th>\n      <th></th>\n      <th></th>\n      <th></th>\n      <th></th>\n    </tr>\n  </thead>\n  <tbody>\n    <tr>\n      <th>6 Pack Soft Drink</th>\n      <td>54</td>\n      <td>54</td>\n      <td>54</td>\n      <td>54</td>\n      <td>54</td>\n      <td>54</td>\n    </tr>\n    <tr>\n      <th>Barbacoa Bowl</th>\n      <td>66</td>\n      <td>66</td>\n      <td>66</td>\n      <td>66</td>\n      <td>66</td>\n      <td>66</td>\n    </tr>\n    <tr>\n      <th>Barbacoa Burrito</th>\n      <td>91</td>\n      <td>91</td>\n      <td>91</td>\n      <td>91</td>\n      <td>91</td>\n      <td>91</td>\n    </tr>\n    <tr>\n      <th>Barbacoa Crispy Tacos</th>\n      <td>11</td>\n      <td>11</td>\n      <td>11</td>\n      <td>11</td>\n      <td>11</td>\n      <td>11</td>\n    </tr>\n    <tr>\n      <th>Barbacoa Salad Bowl</th>\n      <td>10</td>\n      <td>10</td>\n      <td>10</td>\n      <td>10</td>\n      <td>10</td>\n      <td>10</td>\n    </tr>\n    <tr>\n      <th>Barbacoa Soft Tacos</th>\n      <td>25</td>\n      <td>25</td>\n      <td>25</td>\n      <td>25</td>\n      <td>25</td>\n      <td>25</td>\n    </tr>\n    <tr>\n      <th>Bottled Water</th>\n      <td>162</td>\n      <td>162</td>\n      <td>0</td>\n      <td>162</td>\n      <td>162</td>\n      <td>162</td>\n    </tr>\n    <tr>\n      <th>Bowl</th>\n      <td>2</td>\n      <td>2</td>\n      <td>2</td>\n      <td>2</td>\n      <td>2</td>\n      <td>2</td>\n    </tr>\n    <tr>\n      <th>Burrito</th>\n      <td>6</td>\n      <td>6</td>\n      <td>6</td>\n      <td>6</td>\n      <td>6</td>\n      <td>6</td>\n    </tr>\n    <tr>\n      <th>Canned Soda</th>\n      <td>104</td>\n      <td>104</td>\n      <td>104</td>\n      <td>104</td>\n      <td>104</td>\n      <td>104</td>\n    </tr>\n    <tr>\n      <th>Canned Soft Drink</th>\n      <td>301</td>\n      <td>301</td>\n      <td>301</td>\n      <td>301</td>\n      <td>301</td>\n      <td>301</td>\n    </tr>\n    <tr>\n      <th>Carnitas Bowl</th>\n      <td>68</td>\n      <td>68</td>\n      <td>68</td>\n      <td>68</td>\n      <td>68</td>\n      <td>68</td>\n    </tr>\n    <tr>\n      <th>Carnitas Burrito</th>\n      <td>59</td>\n      <td>59</td>\n      <td>59</td>\n      <td>59</td>\n      <td>59</td>\n      <td>59</td>\n    </tr>\n    <tr>\n      <th>Carnitas Crispy Tacos</th>\n      <td>7</td>\n      <td>7</td>\n      <td>7</td>\n      <td>7</td>\n      <td>7</td>\n      <td>7</td>\n    </tr>\n    <tr>\n      <th>Carnitas Salad</th>\n      <td>1</td>\n      <td>1</td>\n      <td>1</td>\n      <td>1</td>\n      <td>1</td>\n      <td>1</td>\n    </tr>\n    <tr>\n      <th>Carnitas Salad Bowl</th>\n      <td>6</td>\n      <td>6</td>\n      <td>6</td>\n      <td>6</td>\n      <td>6</td>\n      <td>6</td>\n    </tr>\n    <tr>\n      <th>Carnitas Soft Tacos</th>\n      <td>40</td>\n      <td>40</td>\n      <td>40</td>\n      <td>40</td>\n      <td>40</td>\n      <td>40</td>\n    </tr>\n    <tr>\n      <th>Chicken Bowl</th>\n      <td>726</td>\n      <td>726</td>\n      <td>726</td>\n      <td>726</td>\n      <td>726</td>\n      <td>726</td>\n    </tr>\n    <tr>\n      <th>Chicken Burrito</th>\n      <td>553</td>\n      <td>553</td>\n      <td>553</td>\n      <td>553</td>\n      <td>553</td>\n      <td>553</td>\n    </tr>\n    <tr>\n      <th>Chicken Crispy Tacos</th>\n      <td>47</td>\n      <td>47</td>\n      <td>47</td>\n      <td>47</td>\n      <td>47</td>\n      <td>47</td>\n    </tr>\n    <tr>\n      <th>Chicken Salad</th>\n      <td>9</td>\n      <td>9</td>\n      <td>9</td>\n      <td>9</td>\n      <td>9</td>\n      <td>9</td>\n    </tr>\n    <tr>\n      <th>Chicken Salad Bowl</th>\n      <td>110</td>\n      <td>110</td>\n      <td>110</td>\n      <td>110</td>\n      <td>110</td>\n      <td>110</td>\n    </tr>\n    <tr>\n      <th>Chicken Soft Tacos</th>\n      <td>115</td>\n      <td>115</td>\n      <td>115</td>\n      <td>115</td>\n      <td>115</td>\n      <td>115</td>\n    </tr>\n    <tr>\n      <th>Chips</th>\n      <td>211</td>\n      <td>211</td>\n      <td>0</td>\n      <td>211</td>\n      <td>211</td>\n      <td>211</td>\n    </tr>\n    <tr>\n      <th>Chips and Fresh Tomato Salsa</th>\n      <td>110</td>\n      <td>110</td>\n      <td>0</td>\n      <td>110</td>\n      <td>110</td>\n      <td>110</td>\n    </tr>\n    <tr>\n      <th>Chips and Guacamole</th>\n      <td>479</td>\n      <td>479</td>\n      <td>0</td>\n      <td>479</td>\n      <td>479</td>\n      <td>479</td>\n    </tr>\n    <tr>\n      <th>Chips and Mild Fresh Tomato Salsa</th>\n      <td>1</td>\n      <td>1</td>\n      <td>0</td>\n      <td>1</td>\n      <td>1</td>\n      <td>1</td>\n    </tr>\n    <tr>\n      <th>Chips and Roasted Chili Corn Salsa</th>\n      <td>22</td>\n      <td>22</td>\n      <td>0</td>\n      <td>22</td>\n      <td>22</td>\n      <td>22</td>\n    </tr>\n    <tr>\n      <th>Chips and Roasted Chili-Corn Salsa</th>\n      <td>18</td>\n      <td>18</td>\n      <td>0</td>\n      <td>18</td>\n      <td>18</td>\n      <td>18</td>\n    </tr>\n    <tr>\n      <th>Chips and Tomatillo Green Chili Salsa</th>\n      <td>43</td>\n      <td>43</td>\n      <td>0</td>\n      <td>43</td>\n      <td>43</td>\n      <td>43</td>\n    </tr>\n    <tr>\n      <th>Chips and Tomatillo Red Chili Salsa</th>\n      <td>48</td>\n      <td>48</td>\n      <td>0</td>\n      <td>48</td>\n      <td>48</td>\n      <td>48</td>\n    </tr>\n    <tr>\n      <th>Chips and Tomatillo-Green Chili Salsa</th>\n      <td>31</td>\n      <td>31</td>\n      <td>0</td>\n      <td>31</td>\n      <td>31</td>\n      <td>31</td>\n    </tr>\n    <tr>\n      <th>Chips and Tomatillo-Red Chili Salsa</th>\n      <td>20</td>\n      <td>20</td>\n      <td>0</td>\n      <td>20</td>\n      <td>20</td>\n      <td>20</td>\n    </tr>\n    <tr>\n      <th>Crispy Tacos</th>\n      <td>2</td>\n      <td>2</td>\n      <td>2</td>\n      <td>2</td>\n      <td>2</td>\n      <td>2</td>\n    </tr>\n    <tr>\n      <th>Izze</th>\n      <td>20</td>\n      <td>20</td>\n      <td>20</td>\n      <td>20</td>\n      <td>20</td>\n      <td>20</td>\n    </tr>\n    <tr>\n      <th>Nantucket Nectar</th>\n      <td>27</td>\n      <td>27</td>\n      <td>27</td>\n      <td>27</td>\n      <td>27</td>\n      <td>27</td>\n    </tr>\n    <tr>\n      <th>Salad</th>\n      <td>2</td>\n      <td>2</td>\n      <td>2</td>\n      <td>2</td>\n      <td>2</td>\n      <td>2</td>\n    </tr>\n    <tr>\n      <th>Side of Chips</th>\n      <td>101</td>\n      <td>101</td>\n      <td>0</td>\n      <td>101</td>\n      <td>101</td>\n      <td>101</td>\n    </tr>\n    <tr>\n      <th>Steak Bowl</th>\n      <td>211</td>\n      <td>211</td>\n      <td>211</td>\n      <td>211</td>\n      <td>211</td>\n      <td>211</td>\n    </tr>\n    <tr>\n      <th>Steak Burrito</th>\n      <td>368</td>\n      <td>368</td>\n      <td>368</td>\n      <td>368</td>\n      <td>368</td>\n      <td>368</td>\n    </tr>\n    <tr>\n      <th>Steak Crispy Tacos</th>\n      <td>35</td>\n      <td>35</td>\n      <td>35</td>\n      <td>35</td>\n      <td>35</td>\n      <td>35</td>\n    </tr>\n    <tr>\n      <th>Steak Salad</th>\n      <td>4</td>\n      <td>4</td>\n      <td>4</td>\n      <td>4</td>\n      <td>4</td>\n      <td>4</td>\n    </tr>\n    <tr>\n      <th>Steak Salad Bowl</th>\n      <td>29</td>\n      <td>29</td>\n      <td>29</td>\n      <td>29</td>\n      <td>29</td>\n      <td>29</td>\n    </tr>\n    <tr>\n      <th>Steak Soft Tacos</th>\n      <td>55</td>\n      <td>55</td>\n      <td>55</td>\n      <td>55</td>\n      <td>55</td>\n      <td>55</td>\n    </tr>\n    <tr>\n      <th>Veggie Bowl</th>\n      <td>85</td>\n      <td>85</td>\n      <td>85</td>\n      <td>85</td>\n      <td>85</td>\n      <td>85</td>\n    </tr>\n    <tr>\n      <th>Veggie Burrito</th>\n      <td>95</td>\n      <td>95</td>\n      <td>95</td>\n      <td>95</td>\n      <td>95</td>\n      <td>95</td>\n    </tr>\n    <tr>\n      <th>Veggie Crispy Tacos</th>\n      <td>1</td>\n      <td>1</td>\n      <td>1</td>\n      <td>1</td>\n      <td>1</td>\n      <td>1</td>\n    </tr>\n    <tr>\n      <th>Veggie Salad</th>\n      <td>6</td>\n      <td>6</td>\n      <td>6</td>\n      <td>6</td>\n      <td>6</td>\n      <td>6</td>\n    </tr>\n    <tr>\n      <th>Veggie Salad Bowl</th>\n      <td>18</td>\n      <td>18</td>\n      <td>18</td>\n      <td>18</td>\n      <td>18</td>\n      <td>18</td>\n    </tr>\n    <tr>\n      <th>Veggie Soft Tacos</th>\n      <td>7</td>\n      <td>7</td>\n      <td>7</td>\n      <td>7</td>\n      <td>7</td>\n      <td>7</td>\n    </tr>\n  </tbody>\n</table>\n</div>"
     },
     "metadata": {},
     "execution_count": 84
    }
   ],
   "source": [
    "chipo.groupby(\"item_name\").count()"
   ]
  },
  {
   "cell_type": "code",
   "execution_count": 79,
   "metadata": {},
   "outputs": [
    {
     "output_type": "execute_result",
     "data": {
      "text/plain": [
       "      order_id  quantity     item_name  \\\n",
       "4            2         2  Chicken Bowl   \n",
       "5            3         1  Chicken Bowl   \n",
       "13           7         1  Chicken Bowl   \n",
       "19          10         1  Chicken Bowl   \n",
       "26          13         1  Chicken Bowl   \n",
       "...        ...       ...           ...   \n",
       "4590      1825         1  Chicken Bowl   \n",
       "4591      1825         1  Chicken Bowl   \n",
       "4595      1826         1  Chicken Bowl   \n",
       "4599      1827         1  Chicken Bowl   \n",
       "4604      1828         1  Chicken Bowl   \n",
       "\n",
       "                                     choice_description item_price  \\\n",
       "4     [Tomatillo-Red Chili Salsa (Hot), [Black Beans...    $16.98    \n",
       "5     [Fresh Tomato Salsa (Mild), [Rice, Cheese, Sou...    $10.98    \n",
       "13    [Fresh Tomato Salsa, [Fajita Vegetables, Rice,...    $11.25    \n",
       "19    [Tomatillo Red Chili Salsa, [Fajita Vegetables...     $8.75    \n",
       "26    [Roasted Chili Corn Salsa (Medium), [Pinto Bea...     $8.49    \n",
       "...                                                 ...        ...   \n",
       "4590  [Roasted Chili Corn Salsa, [Rice, Black Beans,...    $11.25    \n",
       "4591  [Tomatillo Red Chili Salsa, [Rice, Black Beans...     $8.75    \n",
       "4595  [Tomatillo Green Chili Salsa, [Rice, Black Bea...     $8.75    \n",
       "4599      [Roasted Chili Corn Salsa, [Cheese, Lettuce]]     $8.75    \n",
       "4604  [Fresh Tomato Salsa, [Rice, Black Beans, Chees...     $8.75    \n",
       "\n",
       "      item_price_float  item_price_float_replace  \n",
       "4                16.98                     16.98  \n",
       "5                10.98                     10.98  \n",
       "13               11.25                     11.25  \n",
       "19                8.75                      8.75  \n",
       "26                8.49                      8.49  \n",
       "...                ...                       ...  \n",
       "4590             11.25                     11.25  \n",
       "4591              8.75                      8.75  \n",
       "4595              8.75                      8.75  \n",
       "4599              8.75                      8.75  \n",
       "4604              8.75                      8.75  \n",
       "\n",
       "[726 rows x 7 columns]"
      ],
      "text/html": "<div>\n<style scoped>\n    .dataframe tbody tr th:only-of-type {\n        vertical-align: middle;\n    }\n\n    .dataframe tbody tr th {\n        vertical-align: top;\n    }\n\n    .dataframe thead th {\n        text-align: right;\n    }\n</style>\n<table border=\"1\" class=\"dataframe\">\n  <thead>\n    <tr style=\"text-align: right;\">\n      <th></th>\n      <th>order_id</th>\n      <th>quantity</th>\n      <th>item_name</th>\n      <th>choice_description</th>\n      <th>item_price</th>\n      <th>item_price_float</th>\n      <th>item_price_float_replace</th>\n    </tr>\n  </thead>\n  <tbody>\n    <tr>\n      <th>4</th>\n      <td>2</td>\n      <td>2</td>\n      <td>Chicken Bowl</td>\n      <td>[Tomatillo-Red Chili Salsa (Hot), [Black Beans...</td>\n      <td>$16.98</td>\n      <td>16.98</td>\n      <td>16.98</td>\n    </tr>\n    <tr>\n      <th>5</th>\n      <td>3</td>\n      <td>1</td>\n      <td>Chicken Bowl</td>\n      <td>[Fresh Tomato Salsa (Mild), [Rice, Cheese, Sou...</td>\n      <td>$10.98</td>\n      <td>10.98</td>\n      <td>10.98</td>\n    </tr>\n    <tr>\n      <th>13</th>\n      <td>7</td>\n      <td>1</td>\n      <td>Chicken Bowl</td>\n      <td>[Fresh Tomato Salsa, [Fajita Vegetables, Rice,...</td>\n      <td>$11.25</td>\n      <td>11.25</td>\n      <td>11.25</td>\n    </tr>\n    <tr>\n      <th>19</th>\n      <td>10</td>\n      <td>1</td>\n      <td>Chicken Bowl</td>\n      <td>[Tomatillo Red Chili Salsa, [Fajita Vegetables...</td>\n      <td>$8.75</td>\n      <td>8.75</td>\n      <td>8.75</td>\n    </tr>\n    <tr>\n      <th>26</th>\n      <td>13</td>\n      <td>1</td>\n      <td>Chicken Bowl</td>\n      <td>[Roasted Chili Corn Salsa (Medium), [Pinto Bea...</td>\n      <td>$8.49</td>\n      <td>8.49</td>\n      <td>8.49</td>\n    </tr>\n    <tr>\n      <th>...</th>\n      <td>...</td>\n      <td>...</td>\n      <td>...</td>\n      <td>...</td>\n      <td>...</td>\n      <td>...</td>\n      <td>...</td>\n    </tr>\n    <tr>\n      <th>4590</th>\n      <td>1825</td>\n      <td>1</td>\n      <td>Chicken Bowl</td>\n      <td>[Roasted Chili Corn Salsa, [Rice, Black Beans,...</td>\n      <td>$11.25</td>\n      <td>11.25</td>\n      <td>11.25</td>\n    </tr>\n    <tr>\n      <th>4591</th>\n      <td>1825</td>\n      <td>1</td>\n      <td>Chicken Bowl</td>\n      <td>[Tomatillo Red Chili Salsa, [Rice, Black Beans...</td>\n      <td>$8.75</td>\n      <td>8.75</td>\n      <td>8.75</td>\n    </tr>\n    <tr>\n      <th>4595</th>\n      <td>1826</td>\n      <td>1</td>\n      <td>Chicken Bowl</td>\n      <td>[Tomatillo Green Chili Salsa, [Rice, Black Bea...</td>\n      <td>$8.75</td>\n      <td>8.75</td>\n      <td>8.75</td>\n    </tr>\n    <tr>\n      <th>4599</th>\n      <td>1827</td>\n      <td>1</td>\n      <td>Chicken Bowl</td>\n      <td>[Roasted Chili Corn Salsa, [Cheese, Lettuce]]</td>\n      <td>$8.75</td>\n      <td>8.75</td>\n      <td>8.75</td>\n    </tr>\n    <tr>\n      <th>4604</th>\n      <td>1828</td>\n      <td>1</td>\n      <td>Chicken Bowl</td>\n      <td>[Fresh Tomato Salsa, [Rice, Black Beans, Chees...</td>\n      <td>$8.75</td>\n      <td>8.75</td>\n      <td>8.75</td>\n    </tr>\n  </tbody>\n</table>\n<p>726 rows × 7 columns</p>\n</div>"
     },
     "metadata": {},
     "execution_count": 79
    }
   ],
   "source": [
    "chipo[chipo[\"item_name\"] == \"Chicken Bowl\"]"
   ]
  },
  {
   "cell_type": "code",
   "execution_count": 87,
   "metadata": {},
   "outputs": [
    {
     "output_type": "execute_result",
     "data": {
      "text/plain": [
       "      order_id  quantity                              item_name  \\\n",
       "0            1         1           Chips and Fresh Tomato Salsa   \n",
       "1            1         1                                   Izze   \n",
       "2            1         1                       Nantucket Nectar   \n",
       "3            1         1  Chips and Tomatillo-Green Chili Salsa   \n",
       "4            2         2                           Chicken Bowl   \n",
       "...        ...       ...                                    ...   \n",
       "4617      1833         1                          Steak Burrito   \n",
       "4618      1833         1                          Steak Burrito   \n",
       "4619      1834         1                     Chicken Salad Bowl   \n",
       "4620      1834         1                     Chicken Salad Bowl   \n",
       "4621      1834         1                     Chicken Salad Bowl   \n",
       "\n",
       "                                     choice_description item_price  \\\n",
       "0                                                   NaN     $2.39    \n",
       "1                                          [Clementine]     $3.39    \n",
       "2                                               [Apple]     $3.39    \n",
       "3                                                   NaN     $2.39    \n",
       "4     [Tomatillo-Red Chili Salsa (Hot), [Black Beans...    $16.98    \n",
       "...                                                 ...        ...   \n",
       "4617  [Fresh Tomato Salsa, [Rice, Black Beans, Sour ...    $11.75    \n",
       "4618  [Fresh Tomato Salsa, [Rice, Sour Cream, Cheese...    $11.75    \n",
       "4619  [Fresh Tomato Salsa, [Fajita Vegetables, Pinto...    $11.25    \n",
       "4620  [Fresh Tomato Salsa, [Fajita Vegetables, Lettu...     $8.75    \n",
       "4621  [Fresh Tomato Salsa, [Fajita Vegetables, Pinto...     $8.75    \n",
       "\n",
       "      item_price_float  item_price_float_replace  item_price_total  \n",
       "0                 2.39                      2.39              2.39  \n",
       "1                 3.39                      3.39              3.39  \n",
       "2                 3.39                      3.39              3.39  \n",
       "3                 2.39                      2.39              2.39  \n",
       "4                16.98                     16.98             33.96  \n",
       "...                ...                       ...               ...  \n",
       "4617             11.75                     11.75             11.75  \n",
       "4618             11.75                     11.75             11.75  \n",
       "4619             11.25                     11.25             11.25  \n",
       "4620              8.75                      8.75              8.75  \n",
       "4621              8.75                      8.75              8.75  \n",
       "\n",
       "[4622 rows x 8 columns]"
      ],
      "text/html": "<div>\n<style scoped>\n    .dataframe tbody tr th:only-of-type {\n        vertical-align: middle;\n    }\n\n    .dataframe tbody tr th {\n        vertical-align: top;\n    }\n\n    .dataframe thead th {\n        text-align: right;\n    }\n</style>\n<table border=\"1\" class=\"dataframe\">\n  <thead>\n    <tr style=\"text-align: right;\">\n      <th></th>\n      <th>order_id</th>\n      <th>quantity</th>\n      <th>item_name</th>\n      <th>choice_description</th>\n      <th>item_price</th>\n      <th>item_price_float</th>\n      <th>item_price_float_replace</th>\n      <th>item_price_total</th>\n    </tr>\n  </thead>\n  <tbody>\n    <tr>\n      <th>0</th>\n      <td>1</td>\n      <td>1</td>\n      <td>Chips and Fresh Tomato Salsa</td>\n      <td>NaN</td>\n      <td>$2.39</td>\n      <td>2.39</td>\n      <td>2.39</td>\n      <td>2.39</td>\n    </tr>\n    <tr>\n      <th>1</th>\n      <td>1</td>\n      <td>1</td>\n      <td>Izze</td>\n      <td>[Clementine]</td>\n      <td>$3.39</td>\n      <td>3.39</td>\n      <td>3.39</td>\n      <td>3.39</td>\n    </tr>\n    <tr>\n      <th>2</th>\n      <td>1</td>\n      <td>1</td>\n      <td>Nantucket Nectar</td>\n      <td>[Apple]</td>\n      <td>$3.39</td>\n      <td>3.39</td>\n      <td>3.39</td>\n      <td>3.39</td>\n    </tr>\n    <tr>\n      <th>3</th>\n      <td>1</td>\n      <td>1</td>\n      <td>Chips and Tomatillo-Green Chili Salsa</td>\n      <td>NaN</td>\n      <td>$2.39</td>\n      <td>2.39</td>\n      <td>2.39</td>\n      <td>2.39</td>\n    </tr>\n    <tr>\n      <th>4</th>\n      <td>2</td>\n      <td>2</td>\n      <td>Chicken Bowl</td>\n      <td>[Tomatillo-Red Chili Salsa (Hot), [Black Beans...</td>\n      <td>$16.98</td>\n      <td>16.98</td>\n      <td>16.98</td>\n      <td>33.96</td>\n    </tr>\n    <tr>\n      <th>...</th>\n      <td>...</td>\n      <td>...</td>\n      <td>...</td>\n      <td>...</td>\n      <td>...</td>\n      <td>...</td>\n      <td>...</td>\n      <td>...</td>\n    </tr>\n    <tr>\n      <th>4617</th>\n      <td>1833</td>\n      <td>1</td>\n      <td>Steak Burrito</td>\n      <td>[Fresh Tomato Salsa, [Rice, Black Beans, Sour ...</td>\n      <td>$11.75</td>\n      <td>11.75</td>\n      <td>11.75</td>\n      <td>11.75</td>\n    </tr>\n    <tr>\n      <th>4618</th>\n      <td>1833</td>\n      <td>1</td>\n      <td>Steak Burrito</td>\n      <td>[Fresh Tomato Salsa, [Rice, Sour Cream, Cheese...</td>\n      <td>$11.75</td>\n      <td>11.75</td>\n      <td>11.75</td>\n      <td>11.75</td>\n    </tr>\n    <tr>\n      <th>4619</th>\n      <td>1834</td>\n      <td>1</td>\n      <td>Chicken Salad Bowl</td>\n      <td>[Fresh Tomato Salsa, [Fajita Vegetables, Pinto...</td>\n      <td>$11.25</td>\n      <td>11.25</td>\n      <td>11.25</td>\n      <td>11.25</td>\n    </tr>\n    <tr>\n      <th>4620</th>\n      <td>1834</td>\n      <td>1</td>\n      <td>Chicken Salad Bowl</td>\n      <td>[Fresh Tomato Salsa, [Fajita Vegetables, Lettu...</td>\n      <td>$8.75</td>\n      <td>8.75</td>\n      <td>8.75</td>\n      <td>8.75</td>\n    </tr>\n    <tr>\n      <th>4621</th>\n      <td>1834</td>\n      <td>1</td>\n      <td>Chicken Salad Bowl</td>\n      <td>[Fresh Tomato Salsa, [Fajita Vegetables, Pinto...</td>\n      <td>$8.75</td>\n      <td>8.75</td>\n      <td>8.75</td>\n      <td>8.75</td>\n    </tr>\n  </tbody>\n</table>\n<p>4622 rows × 8 columns</p>\n</div>"
     },
     "metadata": {},
     "execution_count": 87
    }
   ],
   "source": [
    "# Sin añadir el quantity en item_price\n",
    "\n",
    "chipo[\"item_price_total\"] = chipo[\"item_price_float\"] * chipo[\"quantity\"] \n",
    "chipo"
   ]
  },
  {
   "cell_type": "code",
   "execution_count": 88,
   "metadata": {},
   "outputs": [
    {
     "output_type": "execute_result",
     "data": {
      "text/plain": [
       "39237.02"
      ]
     },
     "metadata": {},
     "execution_count": 88
    }
   ],
   "source": [
    "# Sin añadir el quantity en item_price\n",
    "\n",
    "chipo[\"item_price_total\"] = chipo[\"item_price_float\"] * chipo[\"quantity\"] \n",
    "chipo[\"item_price_total\"].sum()"
   ]
  },
  {
   "cell_type": "code",
   "execution_count": 89,
   "metadata": {
    "collapsed": false
   },
   "outputs": [
    {
     "output_type": "execute_result",
     "data": {
      "text/plain": [
       "34500.16"
      ]
     },
     "metadata": {},
     "execution_count": 89
    }
   ],
   "source": [
    "# Añadiendo el quantity en item_price\n",
    "chipo[\"item_price_float\"].sum()"
   ]
  },
  {
   "cell_type": "markdown",
   "metadata": {},
   "source": [
    "### Step 15. How many orders were made in the period?"
   ]
  },
  {
   "cell_type": "code",
   "execution_count": 90,
   "metadata": {},
   "outputs": [
    {
     "output_type": "execute_result",
     "data": {
      "text/plain": [
       "      order_id  quantity                              item_name  \\\n",
       "0            1         1           Chips and Fresh Tomato Salsa   \n",
       "1            1         1                                   Izze   \n",
       "2            1         1                       Nantucket Nectar   \n",
       "3            1         1  Chips and Tomatillo-Green Chili Salsa   \n",
       "4            2         2                           Chicken Bowl   \n",
       "...        ...       ...                                    ...   \n",
       "4617      1833         1                          Steak Burrito   \n",
       "4618      1833         1                          Steak Burrito   \n",
       "4619      1834         1                     Chicken Salad Bowl   \n",
       "4620      1834         1                     Chicken Salad Bowl   \n",
       "4621      1834         1                     Chicken Salad Bowl   \n",
       "\n",
       "                                     choice_description item_price  \\\n",
       "0                                                   NaN     $2.39    \n",
       "1                                          [Clementine]     $3.39    \n",
       "2                                               [Apple]     $3.39    \n",
       "3                                                   NaN     $2.39    \n",
       "4     [Tomatillo-Red Chili Salsa (Hot), [Black Beans...    $16.98    \n",
       "...                                                 ...        ...   \n",
       "4617  [Fresh Tomato Salsa, [Rice, Black Beans, Sour ...    $11.75    \n",
       "4618  [Fresh Tomato Salsa, [Rice, Sour Cream, Cheese...    $11.75    \n",
       "4619  [Fresh Tomato Salsa, [Fajita Vegetables, Pinto...    $11.25    \n",
       "4620  [Fresh Tomato Salsa, [Fajita Vegetables, Lettu...     $8.75    \n",
       "4621  [Fresh Tomato Salsa, [Fajita Vegetables, Pinto...     $8.75    \n",
       "\n",
       "      item_price_float  item_price_float_replace  item_price_total  \n",
       "0                 2.39                      2.39              2.39  \n",
       "1                 3.39                      3.39              3.39  \n",
       "2                 3.39                      3.39              3.39  \n",
       "3                 2.39                      2.39              2.39  \n",
       "4                16.98                     16.98             33.96  \n",
       "...                ...                       ...               ...  \n",
       "4617             11.75                     11.75             11.75  \n",
       "4618             11.75                     11.75             11.75  \n",
       "4619             11.25                     11.25             11.25  \n",
       "4620              8.75                      8.75              8.75  \n",
       "4621              8.75                      8.75              8.75  \n",
       "\n",
       "[4622 rows x 8 columns]"
      ],
      "text/html": "<div>\n<style scoped>\n    .dataframe tbody tr th:only-of-type {\n        vertical-align: middle;\n    }\n\n    .dataframe tbody tr th {\n        vertical-align: top;\n    }\n\n    .dataframe thead th {\n        text-align: right;\n    }\n</style>\n<table border=\"1\" class=\"dataframe\">\n  <thead>\n    <tr style=\"text-align: right;\">\n      <th></th>\n      <th>order_id</th>\n      <th>quantity</th>\n      <th>item_name</th>\n      <th>choice_description</th>\n      <th>item_price</th>\n      <th>item_price_float</th>\n      <th>item_price_float_replace</th>\n      <th>item_price_total</th>\n    </tr>\n  </thead>\n  <tbody>\n    <tr>\n      <th>0</th>\n      <td>1</td>\n      <td>1</td>\n      <td>Chips and Fresh Tomato Salsa</td>\n      <td>NaN</td>\n      <td>$2.39</td>\n      <td>2.39</td>\n      <td>2.39</td>\n      <td>2.39</td>\n    </tr>\n    <tr>\n      <th>1</th>\n      <td>1</td>\n      <td>1</td>\n      <td>Izze</td>\n      <td>[Clementine]</td>\n      <td>$3.39</td>\n      <td>3.39</td>\n      <td>3.39</td>\n      <td>3.39</td>\n    </tr>\n    <tr>\n      <th>2</th>\n      <td>1</td>\n      <td>1</td>\n      <td>Nantucket Nectar</td>\n      <td>[Apple]</td>\n      <td>$3.39</td>\n      <td>3.39</td>\n      <td>3.39</td>\n      <td>3.39</td>\n    </tr>\n    <tr>\n      <th>3</th>\n      <td>1</td>\n      <td>1</td>\n      <td>Chips and Tomatillo-Green Chili Salsa</td>\n      <td>NaN</td>\n      <td>$2.39</td>\n      <td>2.39</td>\n      <td>2.39</td>\n      <td>2.39</td>\n    </tr>\n    <tr>\n      <th>4</th>\n      <td>2</td>\n      <td>2</td>\n      <td>Chicken Bowl</td>\n      <td>[Tomatillo-Red Chili Salsa (Hot), [Black Beans...</td>\n      <td>$16.98</td>\n      <td>16.98</td>\n      <td>16.98</td>\n      <td>33.96</td>\n    </tr>\n    <tr>\n      <th>...</th>\n      <td>...</td>\n      <td>...</td>\n      <td>...</td>\n      <td>...</td>\n      <td>...</td>\n      <td>...</td>\n      <td>...</td>\n      <td>...</td>\n    </tr>\n    <tr>\n      <th>4617</th>\n      <td>1833</td>\n      <td>1</td>\n      <td>Steak Burrito</td>\n      <td>[Fresh Tomato Salsa, [Rice, Black Beans, Sour ...</td>\n      <td>$11.75</td>\n      <td>11.75</td>\n      <td>11.75</td>\n      <td>11.75</td>\n    </tr>\n    <tr>\n      <th>4618</th>\n      <td>1833</td>\n      <td>1</td>\n      <td>Steak Burrito</td>\n      <td>[Fresh Tomato Salsa, [Rice, Sour Cream, Cheese...</td>\n      <td>$11.75</td>\n      <td>11.75</td>\n      <td>11.75</td>\n      <td>11.75</td>\n    </tr>\n    <tr>\n      <th>4619</th>\n      <td>1834</td>\n      <td>1</td>\n      <td>Chicken Salad Bowl</td>\n      <td>[Fresh Tomato Salsa, [Fajita Vegetables, Pinto...</td>\n      <td>$11.25</td>\n      <td>11.25</td>\n      <td>11.25</td>\n      <td>11.25</td>\n    </tr>\n    <tr>\n      <th>4620</th>\n      <td>1834</td>\n      <td>1</td>\n      <td>Chicken Salad Bowl</td>\n      <td>[Fresh Tomato Salsa, [Fajita Vegetables, Lettu...</td>\n      <td>$8.75</td>\n      <td>8.75</td>\n      <td>8.75</td>\n      <td>8.75</td>\n    </tr>\n    <tr>\n      <th>4621</th>\n      <td>1834</td>\n      <td>1</td>\n      <td>Chicken Salad Bowl</td>\n      <td>[Fresh Tomato Salsa, [Fajita Vegetables, Pinto...</td>\n      <td>$8.75</td>\n      <td>8.75</td>\n      <td>8.75</td>\n      <td>8.75</td>\n    </tr>\n  </tbody>\n</table>\n<p>4622 rows × 8 columns</p>\n</div>"
     },
     "metadata": {},
     "execution_count": 90
    }
   ],
   "source": [
    "chipo"
   ]
  },
  {
   "cell_type": "code",
   "execution_count": 91,
   "metadata": {
    "collapsed": false
   },
   "outputs": [
    {
     "output_type": "execute_result",
     "data": {
      "text/plain": [
       "1834"
      ]
     },
     "metadata": {},
     "execution_count": 91
    }
   ],
   "source": [
    "chipo[\"order_id\"].max()"
   ]
  },
  {
   "cell_type": "markdown",
   "metadata": {},
   "source": [
    "### Step 16. What is the average revenue amount per order?"
   ]
  },
  {
   "cell_type": "code",
   "execution_count": 92,
   "metadata": {
    "collapsed": false
   },
   "outputs": [
    {
     "output_type": "execute_result",
     "data": {
      "text/plain": [
       "21.39423118865867"
      ]
     },
     "metadata": {},
     "execution_count": 92
    }
   ],
   "source": [
    "# Solution 1\n",
    "\n",
    "chipo[\"item_price_total\"].sum() / chipo[\"order_id\"].max()"
   ]
  },
  {
   "cell_type": "code",
   "execution_count": 32,
   "metadata": {
    "collapsed": false
   },
   "outputs": [
    {
     "data": {
      "text/plain": [
       "21.394231188658654"
      ]
     },
     "execution_count": 32,
     "metadata": {},
     "output_type": "execute_result"
    }
   ],
   "source": [
    "# Solution 2\n"
   ]
  },
  {
   "cell_type": "markdown",
   "metadata": {},
   "source": [
    "### Step 17. How many different items are sold?"
   ]
  },
  {
   "cell_type": "code",
   "execution_count": 101,
   "metadata": {
    "collapsed": false
   },
   "outputs": [
    {
     "output_type": "execute_result",
     "data": {
      "text/plain": [
       "50"
      ]
     },
     "metadata": {},
     "execution_count": 101
    }
   ],
   "source": [
    "len(chipo.groupby(\"item_name\").count().index)"
   ]
  },
  {
   "cell_type": "code",
   "execution_count": 105,
   "metadata": {},
   "outputs": [
    {
     "output_type": "execute_result",
     "data": {
      "text/plain": [
       "50"
      ]
     },
     "metadata": {},
     "execution_count": 105
    }
   ],
   "source": [
    "chipo[\"item_name\"].nunique()"
   ]
  },
  {
   "cell_type": "code",
   "execution_count": null,
   "metadata": {},
   "outputs": [],
   "source": []
  }
 ],
 "metadata": {
  "anaconda-cloud": {},
  "kernelspec": {
   "name": "python3",
   "display_name": "Python 3.6.4 64-bit",
   "metadata": {
    "interpreter": {
     "hash": "5c4d2f1fdcd3716c7a5eea90ad07be30193490dd4e63617705244f5fd89ea793"
    }
   }
  },
  "language_info": {
   "codemirror_mode": {
    "name": "ipython",
    "version": 2
   },
   "file_extension": ".py",
   "mimetype": "text/x-python",
   "name": "python",
   "nbconvert_exporter": "python",
   "pygments_lexer": "ipython2",
   "version": "3.6.4-final"
  }
 },
 "nbformat": 4,
 "nbformat_minor": 0
}