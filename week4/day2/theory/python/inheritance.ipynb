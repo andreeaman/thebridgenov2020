{
 "cells": [
  {
   "cell_type": "markdown",
   "metadata": {},
   "source": [
    "Inheritance in python"
   ]
  },
  {
   "cell_type": "code",
   "execution_count": 11,
   "metadata": {},
   "outputs": [],
   "source": [
    "class LivingBeing():\n",
    "    \"\"\"Father/Mother class\"\"\"\n",
    "    def __init__(self, species, born_date, procreate_ability=True, aging_disease=True):\n",
    "        self.is_living = True\n",
    "        self.species = species\n",
    "        self.procreate_ability = procreate_ability\n",
    "        self.aging_disease = aging_disease\n",
    "        self.born_date = born_date\n",
    "        self.death_date = None \n",
    "\n",
    "    def living_being_function(self):\n",
    "        print(\"I am a living being!\")\n",
    "\n",
    "    def kill(self):\n",
    "        print(\"Murió\")\n",
    "        self.is_living = False\n",
    "        self.death_date = \"La fecha actual\""
   ]
  },
  {
   "cell_type": "code",
   "execution_count": 9,
   "metadata": {
    "tags": []
   },
   "outputs": [
    {
     "output_type": "stream",
     "name": "stdout",
     "text": [
      "True\nMurió\nFalse\n"
     ]
    }
   ],
   "source": [
    "gorrion = LivingBeing(species=\"Ave\", born_date=\"18/06/2019\")\n",
    "print(gorrion.is_living)\n",
    "#gorrion.is_living = False\n",
    "gorrion.kill()\n",
    "print(gorrion.is_living)\n",
    "print(gorrion.is_living)"
   ]
  },
  {
   "cell_type": "code",
   "execution_count": 10,
   "metadata": {},
   "outputs": [
    {
     "output_type": "stream",
     "name": "stdout",
     "text": [
      "True\nMurió\nFalse\n"
     ]
    }
   ],
   "source": [
    "humano = LivingBeing(species=\"Human\", born_date=\"21/06/2019\")\n",
    "print(humano.is_living)\n",
    "humano.kill()\n",
    "print(humano.is_living)"
   ]
  },
  {
   "cell_type": "code",
   "execution_count": 15,
   "metadata": {},
   "outputs": [],
   "source": [
    "class Human(LivingBeing):\n",
    "    \"\"\"Children class\"\"\"\n",
    "    def __init__(self, born_date, procreate_ability=True, eyes=2, legs=2, intelligence_ability=True):\n",
    "        #Herencia\n",
    "        LivingBeing.__init__(self, species=\"Human\", procreate_ability=procreate_ability, born_date=born_date)\n",
    "        self.eyes = eyes\n",
    "        self.legs = legs\n",
    "        self.intelligence_ability = intelligence_ability"
   ]
  },
  {
   "source": [
    "humano = Human(born_date=\"13/05/1991\")\n",
    "\n",
    "print(\"humano.is_living:\", humano.is_living)\n",
    "print(\"\\nCalling to living_being_function():\\n\")\n",
    "humano.living_being_function()"
   ],
   "cell_type": "code",
   "metadata": {
    "tags": []
   },
   "execution_count": 17,
   "outputs": [
    {
     "output_type": "stream",
     "name": "stdout",
     "text": [
      "humano.is_living: True\n\nCalling to living_being_function():\n\nI am a living being!\n"
     ]
    }
   ]
  },
  {
   "cell_type": "code",
   "execution_count": 18,
   "metadata": {},
   "outputs": [
    {
     "output_type": "stream",
     "name": "stdout",
     "text": [
      "humano.is_living: True\n\nCalling to living_being_function():\n\nI am a living being!\n"
     ]
    }
   ],
   "source": [
    "humano_esteril = Human(born_date=\"13/05/1991\", procreate_ability=False)\n",
    "\n",
    "print(\"humano.is_living:\", humano_esteril.is_living)\n",
    "print(\"\\nCalling to living_being_function():\\n\")\n",
    "humano_esteril.living_being_function()"
   ]
  },
  {
   "cell_type": "code",
   "execution_count": 32,
   "metadata": {
    "tags": []
   },
   "outputs": [
    {
     "output_type": "stream",
     "name": "stdout",
     "text": [
      "I am a living being!\n"
     ]
    },
    {
     "output_type": "execute_result",
     "data": {
      "text/plain": [
       "'Canido'"
      ]
     },
     "metadata": {},
     "execution_count": 32
    }
   ],
   "source": [
    "class Perro(LivingBeing):\n",
    "    def __init__(self, volar, born_date, raza, esteril, tipo_celula=\"Eucariota\"):\n",
    "        \"\"\"\n",
    "        volar: capacidad de volar\n",
    "        \"\"\"\n",
    "        LivingBeing.__init__(self, born_date=born_date, species=\"Canido\", procreate_ability=not(esteril))\n",
    "        self.volar = volar\n",
    "        self.tipo_celula = tipo_celula\n",
    "        self.raza = raza\n",
    "\n",
    "    def print_instance_attributes(self):\n",
    "        \"\"\"Función para ver todos los atributos con sus valores\"\"\"\n",
    "        for attribute, value in self.__dict__.items():\n",
    "            print(attribute, '=', value)\n",
    "\n",
    "perro_volador_esteril = Perro(volar=True, born_date=\"12/02/2020\", raza=\"Pastor alemán\", esteril=True)\n",
    "perro_volador_esteril.living_being_function()\n",
    "perro_volador_esteril.species"
   ]
  },
  {
   "cell_type": "code",
   "execution_count": 33,
   "metadata": {},
   "outputs": [
    {
     "output_type": "stream",
     "name": "stdout",
     "text": [
      "is_living = True\nspecies = Canido\nprocreate_ability = True\naging_disease = True\nborn_date = 12/02/2020\ndeath_date = None\nvolar = True\ntipo_celula = Eucariota\nraza = Pastor alemán\n"
     ]
    }
   ],
   "source": [
    "perro_volador.print_instance_attributes()"
   ]
  },
  {
   "cell_type": "code",
   "execution_count": 34,
   "metadata": {},
   "outputs": [
    {
     "output_type": "error",
     "ename": "TypeError",
     "evalue": "__init__() missing 1 required positional argument: 'esteril'",
     "traceback": [
      "\u001b[1;31m---------------------------------------------------------------------------\u001b[0m",
      "\u001b[1;31mTypeError\u001b[0m                                 Traceback (most recent call last)",
      "\u001b[1;32m<ipython-input-34-8d2a305ac6f8>\u001b[0m in \u001b[0;36m<module>\u001b[1;34m\u001b[0m\n\u001b[1;32m----> 1\u001b[1;33m \u001b[0mcaniche\u001b[0m \u001b[1;33m=\u001b[0m \u001b[0mPerro\u001b[0m\u001b[1;33m(\u001b[0m\u001b[0mvolar\u001b[0m\u001b[1;33m=\u001b[0m\u001b[1;32mFalse\u001b[0m\u001b[1;33m,\u001b[0m \u001b[0mborn_date\u001b[0m\u001b[1;33m=\u001b[0m\u001b[1;34m\"12/02/2020\"\u001b[0m\u001b[1;33m,\u001b[0m \u001b[0mraza\u001b[0m\u001b[1;33m=\u001b[0m\u001b[1;34m\"Caniche\"\u001b[0m\u001b[1;33m)\u001b[0m\u001b[1;33m\u001b[0m\u001b[0m\n\u001b[0m\u001b[0;32m      2\u001b[0m \u001b[0mcaniche\u001b[0m\u001b[1;33m.\u001b[0m\u001b[0mliving_being_function\u001b[0m\u001b[1;33m(\u001b[0m\u001b[1;33m)\u001b[0m\u001b[1;33m\u001b[0m\u001b[0m\n\u001b[0;32m      3\u001b[0m \u001b[0mcaniche\u001b[0m\u001b[1;33m.\u001b[0m\u001b[0mspecies\u001b[0m\u001b[1;33m\u001b[0m\u001b[0m\n",
      "\u001b[1;31mTypeError\u001b[0m: __init__() missing 1 required positional argument: 'esteril'"
     ]
    }
   ],
   "source": [
    "caniche = Perro(volar=False, born_date=\"12/02/2020\", raza=\"Caniche\")\n",
    "caniche.living_being_function()\n",
    "caniche.species \n"
   ]
  },
  {
   "cell_type": "code",
   "execution_count": null,
   "metadata": {},
   "outputs": [],
   "source": []
  },
  {
   "cell_type": "code",
   "execution_count": null,
   "metadata": {},
   "outputs": [],
   "source": []
  },
  {
   "cell_type": "code",
   "execution_count": null,
   "metadata": {},
   "outputs": [],
   "source": []
  }
 ],
 "metadata": {
  "language_info": {
   "name": "python",
   "codemirror_mode": {
    "name": "ipython",
    "version": 3
   },
   "version": "3.6.4-final"
  },
  "orig_nbformat": 2,
  "file_extension": ".py",
  "mimetype": "text/x-python",
  "name": "python",
  "npconvert_exporter": "python",
  "pygments_lexer": "ipython3",
  "version": 3,
  "kernelspec": {
   "name": "python36464bitc2077ed07ea84d23aa5b518d224882ab",
   "display_name": "Python 3.6.4 64-bit"
  }
 },
 "nbformat": 4,
 "nbformat_minor": 2
}