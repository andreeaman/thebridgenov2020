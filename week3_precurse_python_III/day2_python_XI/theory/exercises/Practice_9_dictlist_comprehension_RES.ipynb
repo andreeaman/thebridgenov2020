{
 "cells": [
  {
   "cell_type": "markdown",
   "metadata": {},
   "source": [
    "# Python | day 9 | list/dict comprehension"
   ]
  },
  {
   "cell_type": "markdown",
   "metadata": {},
   "source": [
    "List comprehension in Python is a compact way of creating a list from a sequence. It is a short way to create a new list. List comprehension is considerably faster than processing a list using the for loop."
   ]
  },
  {
   "cell_type": "markdown",
   "metadata": {},
   "source": [
    "```python\n",
    "# syntax\n",
    "[i for i in iterable if expression]\n",
    "```"
   ]
  },
  {
   "cell_type": "markdown",
   "metadata": {},
   "source": [
    "Dictionary comprehension is the same as list comprehension but with dictionaries. I know, you didn't see that coming. "
   ]
  },
  {
   "cell_type": "markdown",
   "metadata": {},
   "source": [
    "```python\n",
    "# syntax\n",
    "\n",
    "{key: value for i in iterable}\n",
    "```\n"
   ]
  },
  {
   "cell_type": "markdown",
   "metadata": {},
   "source": [
    "- https://www.programiz.com/python-programming/list-comprehension\n",
    "- https://www.programiz.com/python-programming/dictionary-comprehension"
   ]
  },
  {
   "cell_type": "markdown",
   "metadata": {},
   "source": [
    "### Exercise 1.\n",
    "\n",
    "Use list comprehension and print the result to solve these problems: "
   ]
  },
  {
   "cell_type": "markdown",
   "metadata": {},
   "source": [
    "1. Make a list with the square number of numbers from 0 to 20. "
   ]
  },
  {
   "cell_type": "code",
   "execution_count": 1,
   "metadata": {},
   "outputs": [
    {
     "output_type": "stream",
     "name": "stdout",
     "text": [
      "[0, 1, 4, 9, 16, 25, 36, 49, 64, 81, 100, 121, 144, 169, 196, 225, 256, 289, 324, 361]\n"
     ]
    }
   ],
   "source": [
    "the_list = [a ** 2 for a in range(20)]\n",
    "print(the_list)"
   ]
  },
  {
   "cell_type": "markdown",
   "metadata": {},
   "source": [
    "2. Make a list with the first 50 power of two. "
   ]
  },
  {
   "cell_type": "code",
   "execution_count": 2,
   "metadata": {},
   "outputs": [
    {
     "output_type": "stream",
     "name": "stdout",
     "text": [
      "[2, 4, 8, 16, 32, 64, 128, 256, 512, 1024, 2048, 4096, 8192, 16384, 32768, 65536, 131072, 262144, 524288, 1048576, 2097152, 4194304, 8388608, 16777216, 33554432, 67108864, 134217728, 268435456, 536870912, 1073741824, 2147483648, 4294967296, 8589934592, 17179869184, 34359738368, 68719476736, 137438953472, 274877906944, 549755813888, 1099511627776, 2199023255552, 4398046511104, 8796093022208, 17592186044416, 35184372088832, 70368744177664, 140737488355328, 281474976710656, 562949953421312, 1125899906842624]\n"
     ]
    }
   ],
   "source": [
    "num_list = [2 ** y for y in [a + 1 for a in range(50)]]\n",
    "print(num_list)"
   ]
  },
  {
   "cell_type": "markdown",
   "metadata": {},
   "source": [
    "3. Calculate the square root of the first 100 numbers. \n",
    "\n",
    "**You will probably need to install math library with pip and import it in this file.** \n",
    "\n",
    "\n",
    "\n"
   ]
  },
  {
   "cell_type": "code",
   "execution_count": 3,
   "metadata": {},
   "outputs": [],
   "source": [
    "import math"
   ]
  },
  {
   "cell_type": "code",
   "execution_count": 4,
   "metadata": {},
   "outputs": [
    {
     "output_type": "stream",
     "name": "stdout",
     "text": [
      "[0.0, 1.0, 1.414, 1.732, 2.0, 2.236, 2.449, 2.646, 2.828, 3.0, 3.162, 3.317, 3.464, 3.606, 3.742, 3.873, 4.0, 4.123, 4.243, 4.359, 4.472, 4.583, 4.69, 4.796, 4.899, 5.0, 5.099, 5.196, 5.292, 5.385, 5.477, 5.568, 5.657, 5.745, 5.831, 5.916, 6.0, 6.083, 6.164, 6.245, 6.325, 6.403, 6.481, 6.557, 6.633, 6.708, 6.782, 6.856, 6.928, 7.0, 7.071, 7.141, 7.211, 7.28, 7.348, 7.416, 7.483, 7.55, 7.616, 7.681, 7.746, 7.81, 7.874, 7.937, 8.0, 8.062, 8.124, 8.185, 8.246, 8.307, 8.367, 8.426, 8.485, 8.544, 8.602, 8.66, 8.718, 8.775, 8.832, 8.888, 8.944, 9.0, 9.055, 9.11, 9.165, 9.22, 9.274, 9.327, 9.381, 9.434, 9.487, 9.539, 9.592, 9.644, 9.695, 9.747, 9.798, 9.849, 9.899, 9.95] 100\n"
     ]
    }
   ],
   "source": [
    "# Output has been rounded up to 3 decimals for demonstration pourposes\n",
    "sqrt_list = [round(math.sqrt(n), 3) for n in range(100)]\n",
    "print(sqrt_list, len(sqrt_list))"
   ]
  },
  {
   "cell_type": "markdown",
   "metadata": {},
   "source": [
    "4. Create this list `[-10,-9,-8,-7,-6,-5,-4,-3,-2,-1,0]`. "
   ]
  },
  {
   "cell_type": "code",
   "execution_count": 5,
   "metadata": {},
   "outputs": [],
   "source": [
    "this_list = [-10, -9, -8, -7, -6, -5, -4, -3, -2, -1, 0]"
   ]
  },
  {
   "cell_type": "markdown",
   "metadata": {},
   "source": [
    "5. Filter only negative and zero in the list `numbers`."
   ]
  },
  {
   "cell_type": "code",
   "execution_count": 6,
   "metadata": {},
   "outputs": [],
   "source": [
    "\n",
    "numbers = [-4, -3, -2, -1, 0, 2, 4, 6]"
   ]
  },
  {
   "cell_type": "code",
   "execution_count": 7,
   "metadata": {},
   "outputs": [
    {
     "output_type": "stream",
     "name": "stdout",
     "text": [
      "[-4, -3, -2, -1, 0]\n"
     ]
    }
   ],
   "source": [
    "filter = [n for n in numbers if n in this_list]\n",
    "print(filter)"
   ]
  },
  {
   "cell_type": "markdown",
   "metadata": {},
   "source": [
    "6. Find the odd numbers from 1-100 and put them on a list. \n",
    "\n",
    "\n"
   ]
  },
  {
   "cell_type": "code",
   "execution_count": 8,
   "metadata": {},
   "outputs": [
    {
     "output_type": "stream",
     "name": "stdout",
     "text": [
      "[1, 3, 5, 7, 9, 11, 13, 15, 17, 19, 21, 23, 25, 27, 29, 31, 33, 35, 37, 39, 41, 43, 45, 47, 49, 51, 53, 55, 57, 59, 61, 63, 65, 67, 69, 71, 73, 75, 77, 79, 81, 83, 85, 87, 89, 91, 93, 95, 97, 99]\n"
     ]
    }
   ],
   "source": [
    "odd_ones = [n for n in [a + 1 for a in range(100)] if n % 2 != 0]\n",
    "print(odd_ones)"
   ]
  },
  {
   "cell_type": "markdown",
   "metadata": {},
   "source": [
    "7. Find all of the numbers from 1-1000 that are divisible by 7.\n",
    "\n"
   ]
  },
  {
   "cell_type": "code",
   "execution_count": 9,
   "metadata": {},
   "outputs": [
    {
     "output_type": "stream",
     "name": "stdout",
     "text": [
      "[7, 14, 21, 28, 35, 42, 49, 56, 63, 70, 77, 84, 91, 98, 105, 112, 119, 126, 133, 140, 147, 154, 161, 168, 175, 182, 189, 196, 203, 210, 217, 224, 231, 238, 245, 252, 259, 266, 273, 280, 287, 294, 301, 308, 315, 322, 329, 336, 343, 350, 357, 364, 371, 378, 385, 392, 399, 406, 413, 420, 427, 434, 441, 448, 455, 462, 469, 476, 483, 490, 497, 504, 511, 518, 525, 532, 539, 546, 553, 560, 567, 574, 581, 588, 595, 602, 609, 616, 623, 630, 637, 644, 651, 658, 665, 672, 679, 686, 693, 700, 707, 714, 721, 728, 735, 742, 749, 756, 763, 770, 777, 784, 791, 798, 805, 812, 819, 826, 833, 840, 847, 854, 861, 868, 875, 882, 889, 896, 903, 910, 917, 924, 931, 938, 945, 952, 959, 966, 973, 980, 987, 994]\n"
     ]
    }
   ],
   "source": [
    "seven_ones = [n for n in [a + 1 for a in range(1000)] if n % 7 == 0]\n",
    "print(seven_ones)"
   ]
  },
  {
   "cell_type": "markdown",
   "metadata": {},
   "source": [
    "8. Remove all of the vowels in a string. \n",
    "\n",
    "   Hint: make a list of the non-vowels. \n",
    "\n",
    "\n",
    "\n",
    "\n"
   ]
  },
  {
   "cell_type": "code",
   "execution_count": 19,
   "metadata": {},
   "outputs": [],
   "source": [
    "teststring = \"When you reach the end of your rope, tie a knot in it and hang on.\"\n"
   ]
  },
  {
   "cell_type": "code",
   "execution_count": 26,
   "metadata": {},
   "outputs": [],
   "source": [
    "# Functions are usefull tools, specially when you don't want to type the same thing twice! ;P\n",
    "\n",
    "\n",
    "def finder (string_searched, returns = 0, inversed = False):\n",
    "    \"\"\"\n",
    "    This function finds vowels on a string chain. Then prints the results.\n",
    "        * If returns = 1, returns the findings.\n",
    "        * If inversed = True, it finds consonants \n",
    "    \"\"\"\n",
    "    vowels = ['a', 'e', 'i', 'o', 'u']\n",
    "\n",
    "    if inversed == False:\n",
    "        findings = [n for n in string_searched if not(n in vowels)]\n",
    "\n",
    "    elif inversed == True:\n",
    "        findings = [n for n in string_searched if n in vowels]\n",
    "\n",
    "    print(findings)\n",
    "\n",
    "    if returns == 0:\n",
    "        pass\n",
    "\n",
    "    else:\n",
    "        return findings"
   ]
  },
  {
   "cell_type": "code",
   "execution_count": 39,
   "metadata": {},
   "outputs": [
    {
     "output_type": "stream",
     "name": "stdout",
     "text": [
      "['e', 'o', 'u', 'e', 'a', 'e', 'e', 'o', 'o', 'u', 'o', 'e', 'i', 'e', 'a', 'o', 'i', 'i', 'a', 'a', 'o']\n\n-------------\neoueaeeoouoeieaoiiaao\n"
     ]
    }
   ],
   "source": [
    "non_vow = finder (string_searched= teststring, returns=1, inversed = True)\n",
    "\n",
    "non_vow = ''.join(non_vow)\n",
    "print('\\n-------------')\n",
    "print(non_vow)"
   ]
  },
  {
   "cell_type": "markdown",
   "metadata": {},
   "source": [
    "9. Find the capital letters (and not white space) in the sentence `\"The Way To Get Started Is To Quit Talking And Begin Doing.\"`. \n"
   ]
  },
  {
   "cell_type": "code",
   "execution_count": 36,
   "metadata": {},
   "outputs": [
    {
     "output_type": "stream",
     "name": "stdout",
     "text": [
      "['T', 'W', 'T', 'G', 'S', 'I', 'T', 'Q', 'T', 'A', 'B', 'D']\n"
     ]
    }
   ],
   "source": [
    "string = \"The Way To Get Started Is To Quit Talking And Begin Doing.\"\n",
    "\n",
    "the_list = [s for s in string if s.isupper()]\n",
    "print(the_list)"
   ]
  },
  {
   "cell_type": "markdown",
   "metadata": {},
   "source": [
    "10. Find all the consonants in the sentence `\"Tell me and I forget. Teach me and I remember. Involve me and I learn.\"`.\n"
   ]
  },
  {
   "cell_type": "code",
   "execution_count": 38,
   "metadata": {},
   "outputs": [
    {
     "output_type": "stream",
     "name": "stdout",
     "text": [
      "['W', 'h', 'n', ' ', 'y', ' ', 'r', 'c', 'h', ' ', 't', 'h', ' ', 'n', 'd', ' ', 'f', ' ', 'y', 'r', ' ', 'r', 'p', ',', ' ', 't', ' ', ' ', 'k', 'n', 't', ' ', 'n', ' ', 't', ' ', 'n', 'd', ' ', 'h', 'n', 'g', ' ', 'n', '.']\n\n-------------\nWhn y rch th nd f yr rp, t  knt n t nd hng n.\n"
     ]
    }
   ],
   "source": [
    "consonants = finder (string_searched= teststring, returns=1, inversed = False)\n",
    "\n",
    "consonants = ''.join(consonants)\n",
    "print('\\n-------------')\n",
    "print(consonants)"
   ]
  },
  {
   "cell_type": "markdown",
   "metadata": {},
   "source": [
    "11. Create 4 lists of 10 random numbers between 0 and 100 each. \n",
    "\n",
    "**You will probably need to import random module.**\n",
    "\n"
   ]
  },
  {
   "cell_type": "code",
   "execution_count": 46,
   "metadata": {},
   "outputs": [
    {
     "output_type": "stream",
     "name": "stdout",
     "text": [
      "List 1: [18, 11, 9, 93, 75, 81, 28, 35, 65, 82, 22, 57, 30, 72, 10, 14, 80, 95, 33, 66]\n\nList 2: [69, 56, 67, 55, 34, 48, 85, 28, 27, 20, 59, 1, 45, 80, 84, 82, 26, 49, 7, 7]\n\nList 3: [50, 78, 85, 3, 1, 34, 67, 26, 7, 88, 18, 48, 100, 10, 59, 48, 12, 88, 38, 5]\n\nList 4: [3, 99, 64, 5, 69, 98, 20, 10, 7, 71, 94, 69, 65, 48, 29, 42, 48, 31, 74, 28]\n\n"
     ]
    }
   ],
   "source": [
    "import random\n",
    "\n",
    "lists = {1:[random.randint(0, 100) for e in range(20)], 2:[random.randint(0, 100) for e in range(20)], 3:[random.randint(0, 100) for e in range(20)], 4:[random.randint(0, 100) for e in range(20)]}\n",
    "\n",
    "for e in lists.keys():\n",
    "    print(f'List {e}: {lists[e]}\\n')"
   ]
  },
  {
   "cell_type": "markdown",
   "metadata": {},
   "source": [
    "### Exercise 2. "
   ]
  },
  {
   "cell_type": "markdown",
   "metadata": {},
   "source": [
    "1. Flatten the following list of lists of lists to a one dimensional list :\n",
    "```python\n",
    "expected output:\n",
    "[1, 2, 3, 4, 5, 6, 7, 8, 9]\n",
    "```"
   ]
  },
  {
   "cell_type": "code",
   "execution_count": 47,
   "metadata": {},
   "outputs": [],
   "source": [
    "list_of_lists =[[1, 2, 3], [4, 5, 6], [7, 8, 9]]"
   ]
  },
  {
   "cell_type": "code",
   "execution_count": 51,
   "metadata": {},
   "outputs": [
    {
     "output_type": "execute_result",
     "data": {
      "text/plain": [
       "[1, 2, 3, 4, 5, 6, 7, 8, 9]"
      ]
     },
     "metadata": {},
     "execution_count": 51
    }
   ],
   "source": [
    "flatten_list = [item for subl in list_of_lists for item in subl]\n",
    "flatten_list"
   ]
  },
  {
   "cell_type": "markdown",
   "metadata": {},
   "source": [
    "2. Flatten the following list to a new list, and capitalize the elements of the new list:\n",
    "```python\n",
    "expected output:\n",
    "['SPAIN', 'MADRID', 'FRANCE', 'PARIS', 'PORTUGAL', 'LISBON']\n",
    "```"
   ]
  },
  {
   "cell_type": "code",
   "execution_count": 68,
   "metadata": {},
   "outputs": [],
   "source": [
    "countries = [[('Spain', 'Madrid')], [('France', 'Paris')], [('Portugal', 'Lisbon')]]"
   ]
  },
  {
   "cell_type": "code",
   "execution_count": 69,
   "metadata": {},
   "outputs": [
    {
     "output_type": "execute_result",
     "data": {
      "text/plain": [
       "['Spain', 'Madrid', 'France', 'Paris', 'Portugal', 'Lisbon']"
      ]
     },
     "metadata": {},
     "execution_count": 69
    }
   ],
   "source": [
    "flatten_list = [item for subl in [list(item) for subl in countries for item in subl] for item in subl]\n",
    "flatten_list"
   ]
  },
  {
   "cell_type": "markdown",
   "metadata": {},
   "source": [
    "3. Change the `countries` list to a list of dictionaries:\n",
    "```python\n",
    "expected output:\n",
    "[{'country': 'SPAIN', 'city': 'MADRID'},\n",
    "{'country': 'FRANCE', 'city': 'PARIS'},\n",
    "{'country': 'PORTUGAL', 'city': 'LISBON'}]\n",
    "```"
   ]
  },
  {
   "cell_type": "code",
   "execution_count": 74,
   "metadata": {},
   "outputs": [
    {
     "output_type": "execute_result",
     "data": {
      "text/plain": [
       "[{'Country': 'SPAIN', 'City': 'MADRID'},\n",
       " {'Country': 'FRANCE', 'City': 'PARIS'},\n",
       " {'Country': 'PORTUGAL', 'City': 'LISBON'}]"
      ]
     },
     "metadata": {},
     "execution_count": 74
    }
   ],
   "source": [
    "dict_list = [{'Country': item[0].upper(), 'City': item[1].upper()} for subl in countries for item in subl]\n",
    "dict_list"
   ]
  },
  {
   "cell_type": "markdown",
   "metadata": {},
   "source": [
    "4. Change the following list of lists to a list of concatenated strings:\n",
    "```python\n",
    "expected output:\n",
    "['Gabriel Vazquez', 'Clara Piniella', 'Diomedes Barbero']\n",
    "```"
   ]
  },
  {
   "cell_type": "code",
   "execution_count": 75,
   "metadata": {},
   "outputs": [],
   "source": [
    "names = [[('Gabriel', 'Vazquez')], [('Clara', 'Piniella')], [('Diomedes', 'Barbero')]]"
   ]
  },
  {
   "cell_type": "code",
   "execution_count": 86,
   "metadata": {},
   "outputs": [
    {
     "output_type": "stream",
     "name": "stdout",
     "text": [
      "['Gabriel Vazquez', 'Clara Piniella', 'Diomedes Barbero']\n"
     ]
    }
   ],
   "source": [
    "names_2 = [' '.join(item) for subl in names for item in subl]\n",
    "print(names_2)"
   ]
  },
  {
   "cell_type": "markdown",
   "metadata": {},
   "source": [
    "5. Convert the numbers of the following nested list to floats. Use **floats_list** as the name of the list. "
   ]
  },
  {
   "cell_type": "code",
   "execution_count": 87,
   "metadata": {},
   "outputs": [],
   "source": [
    "big_list_of_lists = [['40', '20', '10', '30'], ['20', '20', '20', '20', '20', '30', '20'], \\\n",
    "['30', '20', '30', '50', '10', '30', '20', '20', '20'], ['100', '100'], ['100', '100', '100', '100', '100'], \\\n",
    "['100', '100', '100', '100']]"
   ]
  },
  {
   "cell_type": "code",
   "execution_count": 94,
   "metadata": {},
   "outputs": [
    {
     "output_type": "stream",
     "name": "stdout",
     "text": [
      "[40.0, 20.0, 10.0, 30.0, 20.0, 20.0, 20.0, 20.0, 20.0, 30.0, 20.0, 30.0, 20.0, 30.0, 50.0, 10.0, 30.0, 20.0, 20.0, 20.0, 100.0, 100.0, 100.0, 100.0, 100.0, 100.0, 100.0, 100.0, 100.0, 100.0, 100.0]\n"
     ]
    }
   ],
   "source": [
    "floats_list = [float(item) for subl in big_list_of_lists for item in subl]\n",
    "print(floats_list)"
   ]
  },
  {
   "cell_type": "markdown",
   "metadata": {},
   "source": [
    "6. Using list comprehension create the following list of tuples:\n",
    "```python\n",
    "expected output: \n",
    "[(0, 1, 0, 0, 0, 0, 0),\n",
    "(1, 1, 1, 1, 1, 1, 1),\n",
    "(2, 1, 2, 4, 8, 16, 32),\n",
    "(3, 1, 3, 9, 27, 81, 243),\n",
    "(4, 1, 4, 16, 64, 256, 1024),\n",
    "(5, 1, 5, 25, 125, 625, 3125),\n",
    "(6, 1, 6, 36, 216, 1296, 7776),\n",
    "(7, 1, 7, 49, 343, 2401, 16807),\n",
    "(8, 1, 8, 64, 512, 4096, 32768),\n",
    "(9, 1, 9, 81, 729, 6561, 59049),\n",
    "(10, 1, 10, 100, 1000, 10000, 100000)]\n",
    "```\n",
    "\n",
    "\n"
   ]
  },
  {
   "cell_type": "code",
   "execution_count": 79,
   "metadata": {},
   "outputs": [
    {
     "output_type": "execute_result",
     "data": {
      "text/plain": [
       "[(0, 1, 0, 0, 0, 0, 0),\n",
       " (1, 1, 1, 1, 1, 1, 1),\n",
       " (2, 1, 2, 4, 8, 16, 32),\n",
       " (3, 1, 3, 9, 27, 81, 243),\n",
       " (4, 1, 4, 16, 64, 256, 1024),\n",
       " (5, 1, 5, 25, 125, 625, 3125),\n",
       " (6, 1, 6, 36, 216, 1296, 7776),\n",
       " (7, 1, 7, 49, 343, 2401, 16807),\n",
       " (8, 1, 8, 64, 512, 4096, 32768),\n",
       " (9, 1, 9, 81, 729, 6561, 59049),\n",
       " (10, 1, 10, 100, 1000, 10000, 100000)]"
      ]
     },
     "metadata": {},
     "execution_count": 79
    }
   ],
   "source": [
    "big_list = []\n",
    "\n",
    "for n in range(11):\n",
    "    # tup = [n, n_2 for n_2 in [n ** element for element in range(6)]]\n",
    "    stage_one = [n ** power for power in range(6)]\n",
    "    stage_two = [n]\n",
    "\n",
    "    for n in stage_one:\n",
    "        stage_two.append(n)\n",
    "    stage_two = tuple(stage_two)\n",
    "\n",
    "    big_list.append(stage_two)\n",
    "\n",
    "big_list"
   ]
  },
  {
   "cell_type": "markdown",
   "metadata": {},
   "source": [
    "### Exercise 3. "
   ]
  },
  {
   "cell_type": "markdown",
   "metadata": {},
   "source": [
    "1. First, create a range from 100 to 160 with steps of 10.\n",
    "   Second, using **dict comprehension**, create a dictionary where each number in the range is the key and each item divided by 100 is the value."
   ]
  },
  {
   "cell_type": "code",
   "execution_count": 129,
   "metadata": {},
   "outputs": [
    {
     "output_type": "stream",
     "name": "stdout",
     "text": [
      "Range: range(100, 160, 10)\n\n\nDictionary: {100: 1.0, 110: 1.1, 120: 1.2, 130: 1.3, 140: 1.4, 150: 1.5}\n"
     ]
    }
   ],
   "source": [
    "# Take one\n",
    "\n",
    "range_finder = range(100, 160, 10)\n",
    "dict_of_ranges = {i:i/100 for i in range_finder}\n",
    "\n",
    "print(f'Range: {range_finder}')\n",
    "print(f'\\n\\nDictionary: {dict_of_ranges}')"
   ]
  },
  {
   "cell_type": "code",
   "execution_count": 81,
   "metadata": {},
   "outputs": [],
   "source": [
    "# Take 2\n",
    "# Using the numpy library to create the range interval.\n",
    "\n",
    "import numpy as np\n",
    "\n",
    "range_finder = np.arange(100, 160, 10).tolist()\n",
    "value_finder = [n/10 for n in range_finder]"
   ]
  },
  {
   "cell_type": "code",
   "execution_count": 128,
   "metadata": {},
   "outputs": [
    {
     "output_type": "stream",
     "name": "stdout",
     "text": [
      "Lists: [100, 110, 120, 130, 140, 150], [10.0, 11.0, 12.0, 13.0, 14.0, 15.0]\n\n\nDictionary: {100: 10.0, 110: 11.0, 120: 12.0, 130: 13.0, 140: 14.0, 150: 15.0}\n"
     ]
    }
   ],
   "source": [
    "dict_of_ranges = {key: value for key, value in zip(range_finder, value_finder)}\n",
    "\n",
    "print(f'Lists: {range_finder}, {value_finder}')\n",
    "print(f'\\n\\nDictionary: {dict_of_ranges}')"
   ]
  },
  {
   "cell_type": "markdown",
   "metadata": {},
   "source": [
    "2. Using **dict comprehension** and a conditional argument create a dictionary from `curr_dict` where only the key:value pairs with value above 2000 are taken to the new dictionary.\n",
    "    "
   ]
  },
  {
   "cell_type": "code",
   "execution_count": 130,
   "metadata": {},
   "outputs": [],
   "source": [
    "curr_dict = {\"Netflix\":4950,\"HBO\":2400,\"Amazon\":1800, \"Movistar\":1700}"
   ]
  },
  {
   "cell_type": "code",
   "execution_count": 136,
   "metadata": {},
   "outputs": [
    {
     "output_type": "execute_result",
     "data": {
      "text/plain": [
       "{'Netflix': 4950, 'HBO': 2400}"
      ]
     },
     "metadata": {},
     "execution_count": 136
    }
   ],
   "source": [
    "updated_dict = {key: value for (key,value) in curr_dict.items() if value > 2000}\n",
    "updated_dict"
   ]
  },
  {
   "cell_type": "markdown",
   "metadata": {},
   "source": [
    "3. Create a function that receives two lists `list1` and `list2` by parameter and returns a dictionary with each element of `list1` as keys and the elements of `list2` as values. This time use **dict comprehension** to do so.  "
   ]
  },
  {
   "cell_type": "code",
   "execution_count": 138,
   "metadata": {},
   "outputs": [],
   "source": [
    "def dict_comprehension_creator (list_1, list_2):\n",
    "    \"\"\"\n",
    "    This function creates a dictionary using list comprehension from two (2) lists: list_1 and list_2. Being list_1 the keys and list_2 the values\n",
    "    \"\"\"\n",
    "\n",
    "    to_return = {key: value for (key,value) in zip(list_1, list_2)}\n",
    "    \n",
    "    return to_return"
   ]
  },
  {
   "cell_type": "code",
   "execution_count": 139,
   "metadata": {},
   "outputs": [
    {
     "output_type": "execute_result",
     "data": {
      "text/plain": [
       "{100: 10.0, 110: 11.0, 120: 12.0, 130: 13.0, 140: 14.0, 150: 15.0}"
      ]
     },
     "metadata": {},
     "execution_count": 139
    }
   ],
   "source": [
    "# I'm going to use the range_finder and value_finder lists... you go make your own!\n",
    "\n",
    "my_dict = dict_comprehension_creator(list_1= range_finder, list_2= value_finder)\n",
    "my_dict"
   ]
  },
  {
   "cell_type": "markdown",
   "metadata": {},
   "source": [
    "### Bonus Track. "
   ]
  },
  {
   "cell_type": "markdown",
   "metadata": {},
   "source": [
    "To solve this exercise you can either use `for/while` or try to solve it using both. From now on you should be able to find out whether to use for or while. "
   ]
  },
  {
   "cell_type": "markdown",
   "metadata": {},
   "source": [
    "1. Define a function `string_greater_5` that receives as a parameter `whichever_list`. You must go through `whichever_list` transforming each element into a string and, if the size of the string is longer than 5, the loop must stop. The function must return the first element which is a string longer than 5. Pass as an argument `info_list` when you call the function `string_greater_5`."
   ]
  },
  {
   "cell_type": "code",
   "execution_count": 140,
   "metadata": {},
   "outputs": [],
   "source": [
    "# you can use this list or take yours from Practice 3\n",
    "info_list = [15, 'Recoletos', True, ['Recoletos', 15],  None, '8'] "
   ]
  },
  {
   "cell_type": "code",
   "execution_count": 145,
   "metadata": {},
   "outputs": [
    {
     "output_type": "execute_result",
     "data": {
      "text/plain": [
       "\"['Recoletos', 15]\""
      ]
     },
     "metadata": {},
     "execution_count": 145
    }
   ],
   "source": [
    "def string_greater_5(whichever_list):\n",
    "    \"\"\"\n",
    "    Goes through whichever_list transforming each element into a string and, if the size of the string is longer than 5, the loop must stop. The function must return the first element which is a string longer than 5. Pass as an argument info_list when you call the function string_greater_5.\n",
    "    \"\"\"\n",
    "\n",
    "    for e in whichever_list:\n",
    "        if type(e) != str:\n",
    "            e = str(e)\n",
    "            if len(e) > 5:\n",
    "                return e\n",
    "        \n",
    "        else:\n",
    "            pass\n",
    "\n",
    "my_str = string_greater_5(whichever_list= info_list)\n",
    "my_str"
   ]
  },
  {
   "cell_type": "markdown",
   "metadata": {},
   "source": [
    "2. Define a function `list_consecutive` that receives as a parameter `limit`. It should return a list with numbers starting at 0 and ending at the `limit` number. When calling the function `limit` will be 18.\n"
   ]
  },
  {
   "cell_type": "code",
   "execution_count": 151,
   "metadata": {
    "tags": []
   },
   "outputs": [
    {
     "output_type": "stream",
     "name": "stdout",
     "text": [
      "[0, 1, 2, 3, 4, 5, 6, 7, 8, 9, 10, 11, 12, 13, 14, 15, 16, 17, 18]\n"
     ]
    }
   ],
   "source": [
    "def list_consecutive (limit):\n",
    "    \"\"\"\n",
    "    Returns a list with numbers starting at 0 and ending at the limit number\n",
    "    \"\"\"\n",
    "\n",
    "    to_return = []\n",
    "    while len(to_return) < limit:\n",
    "        for n in range(limit + 1):\n",
    "            to_return.append(n)\n",
    "    \n",
    "    # to_return.append(limit)\n",
    "    \n",
    "    return to_return\n",
    "\n",
    "my_list = list_consecutive(limit= 18)\n",
    "print(my_list)"
   ]
  },
  {
   "cell_type": "markdown",
   "metadata": {},
   "source": [
    "3. Define a function called `position_15`. This gets two parameters, `some_function` and `whichever_list`. `position_15` should return the element in 15th position of the list that `some_function` returns. Pass to `some_function` the `list_consecutive` function as the value of the argument. \n",
    "\n",
    "   You should call the function `some_function` inside `position_15` and give it the lenght of `whichever_list` multiply by 2 as an argument. \n",
    "\n",
    "```python\n",
    "# example:\n",
    "position_15(some_function = list_consecutive,\n",
    "                whichever_list = info_list)\n",
    "``` "
   ]
  },
  {
   "cell_type": "code",
   "execution_count": 4,
   "metadata": {},
   "outputs": [
    {
     "output_type": "stream",
     "name": "stdout",
     "text": [
      "a\n"
     ]
    }
   ],
   "source": [
    "def f1(lista):\n",
    "    return lista[1]\n",
    "\n",
    "whichever_lista = [9, \"a\", \"7\"]\n",
    "\n",
    "lo_que_retorna_f1 = f1(lista=whichever_lista)\n",
    "print(lo_que_retorna_f1)"
   ]
  },
  {
   "cell_type": "code",
   "execution_count": 6,
   "metadata": {},
   "outputs": [
    {
     "output_type": "stream",
     "name": "stdout",
     "text": [
      "a\n"
     ]
    }
   ],
   "source": [
    "# Lo que retorna la función\n",
    "print(f1(lista=whichever_lista))"
   ]
  },
  {
   "cell_type": "code",
   "execution_count": 7,
   "metadata": {},
   "outputs": [
    {
     "output_type": "stream",
     "name": "stdout",
     "text": [
      "<function f1 at 0x000001EFBDFBA6A8>\n"
     ]
    }
   ],
   "source": [
    "# Muestra la referencia a memoria de \"f1\"\n",
    "print(f1)"
   ]
  },
  {
   "cell_type": "code",
   "execution_count": 8,
   "metadata": {},
   "outputs": [
    {
     "output_type": "stream",
     "name": "stdout",
     "text": [
      "a\n"
     ]
    }
   ],
   "source": [
    "x = 2\n",
    "def f1(lista):\n",
    "    return lista[1]\n",
    "\n",
    "def po15(f, whichever_lista):\n",
    "    lo_que_retorna_f = f(lista=whichever_lista)\n",
    "    return lo_que_retorna_f1\n",
    "\n",
    "r = po15(f=f1, whichever_lista=whichever_lista)\n",
    "print(r)\n"
   ]
  },
  {
   "cell_type": "code",
   "execution_count": 9,
   "metadata": {},
   "outputs": [
    {
     "output_type": "error",
     "ename": "NameError",
     "evalue": "name 'y' is not defined",
     "traceback": [
      "\u001b[1;31m---------------------------------------------------------------------------\u001b[0m",
      "\u001b[1;31mNameError\u001b[0m                                 Traceback (most recent call last)",
      "\u001b[1;32m<ipython-input-9-73996abe09e6>\u001b[0m in \u001b[0;36m<module>\u001b[1;34m\u001b[0m\n\u001b[0;32m      2\u001b[0m     \u001b[1;32mreturn\u001b[0m \u001b[0my\u001b[0m\u001b[1;33m\u001b[0m\u001b[0m\n\u001b[0;32m      3\u001b[0m \u001b[1;33m\u001b[0m\u001b[0m\n\u001b[1;32m----> 4\u001b[1;33m \u001b[0mr\u001b[0m \u001b[1;33m=\u001b[0m \u001b[0mf2\u001b[0m\u001b[1;33m(\u001b[0m\u001b[0mx\u001b[0m\u001b[1;33m=\u001b[0m\u001b[1;36m2\u001b[0m\u001b[1;33m*\u001b[0m\u001b[0my\u001b[0m\u001b[1;33m,\u001b[0m \u001b[0my\u001b[0m\u001b[1;33m=\u001b[0m\u001b[1;36m2\u001b[0m\u001b[1;33m)\u001b[0m\u001b[1;33m\u001b[0m\u001b[0m\n\u001b[0m",
      "\u001b[1;31mNameError\u001b[0m: name 'y' is not defined"
     ]
    }
   ],
   "source": [
    "def f2(x, y):\n",
    "    return y\n",
    "\n",
    "r = f2(x=2*y, y=2)"
   ]
  },
  {
   "cell_type": "code",
   "execution_count": 153,
   "metadata": {},
   "outputs": [
    {
     "output_type": "execute_result",
     "data": {
      "text/plain": [
       "6"
      ]
     },
     "metadata": {},
     "execution_count": 153
    }
   ],
   "source": [
    "def position_15 (some_function, whichever_list):\n",
    "    \"\"\"\n",
    "    This function calls the list_consecutive function and substitudes it's returned list's 15th position for the lenght of whichever_list\n",
    "    \"\"\"\n",
    "    pos_15 = some_function[15]\n",
    "    pos_15 = len(whichever_list)\n",
    "\n",
    "    return pos_15\n",
    "\n",
    "pos_15 = position_15(some_function=list_consecutive(limit=18), whichever_list= info_list)\n",
    "pos_15"
   ]
  },
  {
   "cell_type": "markdown",
   "metadata": {},
   "source": [
    "### Bonus Track of the Bonus Track. \n",
    "\n",
    "1. Make a Python program that, from the strings `\" | \"` and `\" _ \"`, shows an 8x8 **chessboard** on the screen.\n",
    "\n",
    "   Develop the program in a `.py` file that will be run through the terminal. \n",
    " \n",
    "   From the folder that contains the corresponding `.py`, it will be executed with the following command:` python3 program_name.py`"
   ]
  },
  {
   "cell_type": "code",
   "execution_count": 22,
   "metadata": {},
   "outputs": [
    {
     "output_type": "execute_result",
     "data": {
      "text/plain": [
       "'_|_|_|_|_|_|_|_|'"
      ]
     },
     "metadata": {},
     "execution_count": 22
    }
   ],
   "source": [
    "\"_|\" * 8"
   ]
  },
  {
   "cell_type": "code",
   "execution_count": 32,
   "metadata": {},
   "outputs": [
    {
     "output_type": "stream",
     "name": "stdout",
     "text": [
      "['|_|', '|_|', '|_|', '|_|', '|_|', '|_|', '|_|', '|_|']\n['|_|', '|_|', '|_|', '|_|', '|_|', '|_|', '|_|', '|_|']\n['|_|', '|_|', '|_|', '|_|', '|_|', '|_|', '|_|', '|_|']\n['|_|', '|_|', '|_|', '|_|', '|_|', '|_|', '|_|', '|_|']\n['|_|', '|_|', '|_|', '|_|', '|_|', '|_|', '|_|', '|_|']\n['|_|', '|_|', '|_|', '|_|', '|_|', '|_|', '|_|', '|_|']\n['|_|', '|_|', '|_|', '|_|', '|_|', '|_|', '|_|', '|_|']\n['|_|', '|_|', '|_|', '|_|', '|_|', '|_|', '|_|', '|_|']\n\n['^1_', '^2_', '^3_', '^4_', '^5_', '^6_', '^7_', '^8_']\n"
     ]
    }
   ],
   "source": [
    "# This program creates a chessboard\n",
    "\n",
    "def chessboard (dimensions):\n",
    "    \"\"\"\n",
    "                        ---What it does---\n",
    "    This function creates a chessboard and prints it\n",
    "    \n",
    "    ---What it needs---\n",
    "        - The dimensions of the board (dimensions)\n",
    "    \n",
    "    ---What it returns---\n",
    "        A chessboard\n",
    "    \"\"\"\n",
    "\n",
    "    space = '|_|'\n",
    "    spaces = [space for n in range(dimensions)]\n",
    "    board = [spaces * dimensions]\n",
    "    print(f'{spaces}\\n'*8)\n",
    "\n",
    "    coords_x = 'A\\tB\\tC'\n",
    "    \n",
    "\n",
    "\n",
    "    uno = [f'^{number +1}_' for number in range(dimensions)]\n",
    "    print(uno)\n",
    "\n",
    "chessboard(8)"
   ]
  },
  {
   "cell_type": "markdown",
   "metadata": {},
   "source": [
    "!['togood'](https://i.pinimg.com/originals/de/f5/2f/def52fe41d695d8feebd2cdc194da929.png)"
   ]
  },
  {
   "cell_type": "code",
   "execution_count": null,
   "metadata": {},
   "outputs": [],
   "source": []
  }
 ],
 "metadata": {
  "kernelspec": {
   "name": "python3",
   "display_name": "Python 3.6.4 64-bit",
   "metadata": {
    "interpreter": {
     "hash": "5c4d2f1fdcd3716c7a5eea90ad07be30193490dd4e63617705244f5fd89ea793"
    }
   }
  },
  "language_info": {
   "codemirror_mode": {
    "name": "ipython",
    "version": 3
   },
   "file_extension": ".py",
   "mimetype": "text/x-python",
   "name": "python",
   "nbconvert_exporter": "python",
   "pygments_lexer": "ipython3",
   "version": "3.6.4-final"
  }
 },
 "nbformat": 4,
 "nbformat_minor": 4
}