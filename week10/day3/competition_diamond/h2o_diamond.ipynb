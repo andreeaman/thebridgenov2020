{
 "cells": [
  {
   "cell_type": "markdown",
   "metadata": {},
   "source": [
    "### H2O\n",
    "\n",
    "https://www.cienciadedatos.net/documentos/py04_machine_learning_con_h2o_y_python"
   ]
  },
  {
   "cell_type": "code",
   "execution_count": 1,
   "metadata": {},
   "outputs": [
    {
     "output_type": "stream",
     "name": "stdout",
     "text": [
      "Requirement already satisfied: h2o in z:\\data_science\\software\\python\\python_3.6.4\\lib\\site-packages (3.32.0.4)\n",
      "Requirement already satisfied: colorama>=0.3.8 in c:\\users\\gvazquez\\appdata\\roaming\\python\\python36\\site-packages (from h2o) (0.4.3)\n",
      "Requirement already satisfied: requests in c:\\users\\gvazquez\\appdata\\roaming\\python\\python36\\site-packages (from h2o) (2.23.0)\n",
      "Requirement already satisfied: future in z:\\data_science\\software\\python\\python_3.6.4\\lib\\site-packages (from h2o) (0.18.2)\n",
      "Requirement already satisfied: tabulate in z:\\data_science\\software\\python\\python_3.6.4\\lib\\site-packages (from h2o) (0.8.7)\n",
      "Requirement already satisfied: certifi>=2017.4.17 in z:\\data_science\\software\\python\\python_3.6.4\\lib\\site-packages (from requests->h2o) (2019.9.11)\n",
      "Requirement already satisfied: urllib3!=1.25.0,!=1.25.1,<1.26,>=1.21.1 in z:\\data_science\\software\\python\\python_3.6.4\\lib\\site-packages (from requests->h2o) (1.25.6)\n",
      "Requirement already satisfied: idna<3,>=2.5 in z:\\data_science\\software\\python\\python_3.6.4\\lib\\site-packages (from requests->h2o) (2.8)\n",
      "Requirement already satisfied: chardet<4,>=3.0.2 in z:\\data_science\\software\\python\\python_3.6.4\\lib\\site-packages (from requests->h2o) (3.0.4)\n",
      "WARNING: You are using pip version 20.2.2; however, version 21.0.1 is available.\n",
      "You should consider upgrading via the 'z:\\data_science\\software\\python\\python_3.6.4\\python.exe -m pip install --upgrade pip' command.\n"
     ]
    }
   ],
   "source": [
    "!pip3 install h2o"
   ]
  },
  {
   "cell_type": "code",
   "execution_count": 2,
   "metadata": {},
   "outputs": [],
   "source": [
    "import pandas as pd\n",
    "import numpy as np\n",
    "\n",
    "from sklearn.metrics import mean_squared_error\n",
    "\n",
    "import h2o\n",
    "from h2o.automl import H2OAutoML"
   ]
  },
  {
   "cell_type": "code",
   "execution_count": 3,
   "metadata": {},
   "outputs": [],
   "source": [
    "train = pd.read_csv('diamonds_train.csv')\n",
    "test = pd.read_csv('diamonds_test.csv')"
   ]
  },
  {
   "cell_type": "code",
   "execution_count": 4,
   "metadata": {},
   "outputs": [],
   "source": [
    "# hay que instalar JAVA versión < 14\n",
    "# https://www.oracle.com/java/technologies/javase-jdk11-downloads.html"
   ]
  },
  {
   "cell_type": "code",
   "execution_count": 5,
   "metadata": {},
   "outputs": [
    {
     "output_type": "stream",
     "name": "stdout",
     "text": [
      "Checking whether there is an H2O instance running at http://localhost:54321 ..... not found.\n",
      "Attempting to start a local H2O server...\n",
      "; Java HotSpot(TM) Client VM (build 25.231-b11, mixed mode)\n",
      "  Starting server from Z:\\Data_Science\\Software\\Python\\Python_3.6.4\\lib\\site-packages\\h2o\\backend\\bin\\h2o.jar\n",
      "  Ice root: C:\\Users\\gvazquez\\AppData\\Local\\Temp\\tmphlb9pm_2\n",
      "  JVM stdout: C:\\Users\\gvazquez\\AppData\\Local\\Temp\\tmphlb9pm_2\\h2o_gvazquez_started_from_python.out\n",
      "  JVM stderr: C:\\Users\\gvazquez\\AppData\\Local\\Temp\\tmphlb9pm_2\\h2o_gvazquez_started_from_python.err\n",
      "  Server is running at http://127.0.0.1:54321\n",
      "Connecting to H2O server at http://127.0.0.1:54321 ... successful.\n"
     ]
    },
    {
     "output_type": "display_data",
     "data": {
      "text/plain": "--------------------------  ---------------------------------------------------------\nH2O_cluster_uptime:         01 secs\nH2O_cluster_timezone:       Europe/Paris\nH2O_data_parsing_timezone:  UTC\nH2O_cluster_version:        3.32.0.4\nH2O_cluster_version_age:    7 days, 7 hours and 4 minutes\nH2O_cluster_name:           H2O_from_python_gvazquez_r9vhb3\nH2O_cluster_total_nodes:    1\nH2O_cluster_free_memory:    247.5 Mb\nH2O_cluster_total_cores:    0\nH2O_cluster_allowed_cores:  0\nH2O_cluster_status:         accepting new members, healthy\nH2O_connection_url:         http://127.0.0.1:54321\nH2O_connection_proxy:       {\"http\": null, \"https\": null}\nH2O_internal_security:      False\nH2O_API_Extensions:         Amazon S3, Algos, AutoML, Core V3, TargetEncoder, Core V4\nPython_version:             3.6.4 final\n--------------------------  ---------------------------------------------------------",
      "text/html": "<div style=\"overflow:auto\"><table style=\"width:50%\"><tr><td>H2O_cluster_uptime:</td>\n<td>01 secs</td></tr>\n<tr><td>H2O_cluster_timezone:</td>\n<td>Europe/Paris</td></tr>\n<tr><td>H2O_data_parsing_timezone:</td>\n<td>UTC</td></tr>\n<tr><td>H2O_cluster_version:</td>\n<td>3.32.0.4</td></tr>\n<tr><td>H2O_cluster_version_age:</td>\n<td>7 days, 7 hours and 4 minutes </td></tr>\n<tr><td>H2O_cluster_name:</td>\n<td>H2O_from_python_gvazquez_r9vhb3</td></tr>\n<tr><td>H2O_cluster_total_nodes:</td>\n<td>1</td></tr>\n<tr><td>H2O_cluster_free_memory:</td>\n<td>247.5 Mb</td></tr>\n<tr><td>H2O_cluster_total_cores:</td>\n<td>0</td></tr>\n<tr><td>H2O_cluster_allowed_cores:</td>\n<td>0</td></tr>\n<tr><td>H2O_cluster_status:</td>\n<td>accepting new members, healthy</td></tr>\n<tr><td>H2O_connection_url:</td>\n<td>http://127.0.0.1:54321</td></tr>\n<tr><td>H2O_connection_proxy:</td>\n<td>{\"http\": null, \"https\": null}</td></tr>\n<tr><td>H2O_internal_security:</td>\n<td>False</td></tr>\n<tr><td>H2O_API_Extensions:</td>\n<td>Amazon S3, Algos, AutoML, Core V3, TargetEncoder, Core V4</td></tr>\n<tr><td>Python_version:</td>\n<td>3.6.4 final</td></tr></table></div>"
     },
     "metadata": {}
    }
   ],
   "source": [
    "h2o.init()"
   ]
  },
  {
   "cell_type": "code",
   "execution_count": 6,
   "metadata": {},
   "outputs": [
    {
     "output_type": "stream",
     "name": "stdout",
     "text": [
      "Parse progress: |█████████████████████████████████████████████████████████| 100%\n",
      "Parse progress: |█████████████████████████████████████████████████████████| 100%\n"
     ]
    }
   ],
   "source": [
    "h2train = h2o.H2OFrame(train)\n",
    "h2test = h2o.H2OFrame(test)"
   ]
  },
  {
   "cell_type": "code",
   "execution_count": 7,
   "metadata": {},
   "outputs": [
    {
     "output_type": "stream",
     "name": "stdout",
     "text": [
      "['carat', 'cut', 'color', 'clarity', 'depth', 'table', 'x', 'y', 'z']\n"
     ]
    }
   ],
   "source": [
    "columnas = [a for a in h2train.columns if a != \"price\"][1:]\n",
    "x = columnas\n",
    "y = \"price\"\n",
    "print(columnas)"
   ]
  },
  {
   "cell_type": "code",
   "execution_count": 8,
   "metadata": {},
   "outputs": [
    {
     "output_type": "stream",
     "name": "stdout",
     "text": [
      "AutoML progress: |\n",
      "20:28:54.967: AutoML: XGBoost is not available; skipping it.\n",
      "\n",
      "████████████████████████████████████████████████████████| 100%\n"
     ]
    }
   ],
   "source": [
    "automl = H2OAutoML(max_models=50, seed=42, max_runtime_secs=300, sort_metric='RMSE')\n",
    "automl.train(x=x, y=y, training_frame=h2train)\n",
    "# en Windows no está disponible XGBoost :'("
   ]
  },
  {
   "cell_type": "code",
   "execution_count": 17,
   "metadata": {},
   "outputs": [
    {
     "output_type": "stream",
     "name": "stdout",
     "text": [
      "[INFO] Models leader board:\n"
     ]
    },
    {
     "output_type": "display_data",
     "data": {
      "text/html": "<table>\n<thead>\n<tr><th>model_id                                           </th><th style=\"text-align: right;\">   rmse</th><th style=\"text-align: right;\">  mean_residual_deviance</th><th style=\"text-align: right;\">   mse</th><th style=\"text-align: right;\">    mae</th><th style=\"text-align: right;\">      rmsle</th></tr>\n</thead>\n<tbody>\n<tr><td>StackedEnsemble_AllModels_AutoML_20210208_202854   </td><td style=\"text-align: right;\">527.63 </td><td style=\"text-align: right;\">                  278393</td><td style=\"text-align: right;\">278393</td><td style=\"text-align: right;\">264.85 </td><td style=\"text-align: right;\">  0.0924574</td></tr>\n<tr><td>StackedEnsemble_BestOfFamily_AutoML_20210208_202854</td><td style=\"text-align: right;\">533.292</td><td style=\"text-align: right;\">                  284400</td><td style=\"text-align: right;\">284400</td><td style=\"text-align: right;\">266.606</td><td style=\"text-align: right;\">  0.0927642</td></tr>\n<tr><td>GBM_4_AutoML_20210208_202854                       </td><td style=\"text-align: right;\">533.602</td><td style=\"text-align: right;\">                  284731</td><td style=\"text-align: right;\">284731</td><td style=\"text-align: right;\">268.38 </td><td style=\"text-align: right;\">  0.0924719</td></tr>\n<tr><td>GBM_3_AutoML_20210208_202854                       </td><td style=\"text-align: right;\">533.943</td><td style=\"text-align: right;\">                  285095</td><td style=\"text-align: right;\">285095</td><td style=\"text-align: right;\">272.376</td><td style=\"text-align: right;\">  0.0982032</td></tr>\n<tr><td>GBM_grid__1_AutoML_20210208_202854_model_5         </td><td style=\"text-align: right;\">534.292</td><td style=\"text-align: right;\">                  285468</td><td style=\"text-align: right;\">285468</td><td style=\"text-align: right;\">272.373</td><td style=\"text-align: right;\">nan        </td></tr>\n<tr><td>GBM_2_AutoML_20210208_202854                       </td><td style=\"text-align: right;\">534.413</td><td style=\"text-align: right;\">                  285598</td><td style=\"text-align: right;\">285598</td><td style=\"text-align: right;\">275.044</td><td style=\"text-align: right;\">nan        </td></tr>\n<tr><td>GBM_grid__1_AutoML_20210208_202854_model_2         </td><td style=\"text-align: right;\">537.035</td><td style=\"text-align: right;\">                  288407</td><td style=\"text-align: right;\">288407</td><td style=\"text-align: right;\">270.383</td><td style=\"text-align: right;\">  0.0934097</td></tr>\n<tr><td>GBM_grid__1_AutoML_20210208_202854_model_6         </td><td style=\"text-align: right;\">544.811</td><td style=\"text-align: right;\">                  296819</td><td style=\"text-align: right;\">296819</td><td style=\"text-align: right;\">270.494</td><td style=\"text-align: right;\">  0.095192 </td></tr>\n<tr><td>GBM_grid__1_AutoML_20210208_202854_model_1         </td><td style=\"text-align: right;\">545.413</td><td style=\"text-align: right;\">                  297476</td><td style=\"text-align: right;\">297476</td><td style=\"text-align: right;\">281.774</td><td style=\"text-align: right;\">  0.105801 </td></tr>\n<tr><td>GBM_grid__1_AutoML_20210208_202854_model_7         </td><td style=\"text-align: right;\">554.468</td><td style=\"text-align: right;\">                  307435</td><td style=\"text-align: right;\">307435</td><td style=\"text-align: right;\">286.886</td><td style=\"text-align: right;\">  0.10671  </td></tr>\n</tbody>\n</table>"
     },
     "metadata": {}
    },
    {
     "output_type": "execute_result",
     "data": {
      "text/plain": []
     },
     "metadata": {},
     "execution_count": 17
    }
   ],
   "source": [
    "print('[INFO] Models leader board:')\n",
    "leader_board = automl.leaderboard\n",
    "leader_board.head()"
   ]
  },
  {
   "cell_type": "code",
   "execution_count": 18,
   "metadata": {},
   "outputs": [
    {
     "output_type": "stream",
     "name": "stdout",
     "text": [
      "stackedensemble prediction progress: |████████████████████████████████████| 100%\n"
     ]
    }
   ],
   "source": [
    "predictions = automl.leader.predict(h2test)"
   ]
  },
  {
   "cell_type": "code",
   "execution_count": 19,
   "metadata": {},
   "outputs": [],
   "source": [
    "test.rename(columns={\"Unnamed: 0\" : \"id\"}, inplace = True)"
   ]
  },
  {
   "cell_type": "code",
   "execution_count": 20,
   "metadata": {},
   "outputs": [],
   "source": [
    "test[\"price\"] = predictions.as_data_frame()\n",
    "columnasentrega = [\"id\",\"price\"]\n",
    "entrega = test[\"price\"]\n",
    "test = test[columnasentrega]"
   ]
  },
  {
   "cell_type": "code",
   "execution_count": 21,
   "metadata": {},
   "outputs": [
    {
     "output_type": "execute_result",
     "data": {
      "text/plain": [
       "   id         price\n",
       "0   0    412.603792\n",
       "1   1   1560.843046\n",
       "2   2   9584.753949\n",
       "3   3    509.110144\n",
       "4   4  10088.244120"
      ],
      "text/html": "<div>\n<style scoped>\n    .dataframe tbody tr th:only-of-type {\n        vertical-align: middle;\n    }\n\n    .dataframe tbody tr th {\n        vertical-align: top;\n    }\n\n    .dataframe thead th {\n        text-align: right;\n    }\n</style>\n<table border=\"1\" class=\"dataframe\">\n  <thead>\n    <tr style=\"text-align: right;\">\n      <th></th>\n      <th>id</th>\n      <th>price</th>\n    </tr>\n  </thead>\n  <tbody>\n    <tr>\n      <th>0</th>\n      <td>0</td>\n      <td>412.603792</td>\n    </tr>\n    <tr>\n      <th>1</th>\n      <td>1</td>\n      <td>1560.843046</td>\n    </tr>\n    <tr>\n      <th>2</th>\n      <td>2</td>\n      <td>9584.753949</td>\n    </tr>\n    <tr>\n      <th>3</th>\n      <td>3</td>\n      <td>509.110144</td>\n    </tr>\n    <tr>\n      <th>4</th>\n      <td>4</td>\n      <td>10088.244120</td>\n    </tr>\n  </tbody>\n</table>\n</div>"
     },
     "metadata": {},
     "execution_count": 21
    }
   ],
   "source": [
    "test.head()"
   ]
  },
  {
   "cell_type": "code",
   "execution_count": 22,
   "metadata": {},
   "outputs": [
    {
     "output_type": "execute_result",
     "data": {
      "text/plain": [
       "0          412\n",
       "1         1560\n",
       "2         9584\n",
       "3          509\n",
       "4        10088\n",
       "         ...  \n",
       "13444     4957\n",
       "13445      446\n",
       "13446    14928\n",
       "13447    10839\n",
       "13448      712\n",
       "Name: price, Length: 13449, dtype: int32"
      ]
     },
     "metadata": {},
     "execution_count": 22
    }
   ],
   "source": [
    "test['price'].astype(\"int\")"
   ]
  },
  {
   "cell_type": "code",
   "execution_count": 23,
   "metadata": {},
   "outputs": [],
   "source": [
    "test.to_csv('to_submit_int.csv', index=False)"
   ]
  },
  {
   "cell_type": "code",
   "execution_count": 26,
   "metadata": {},
   "outputs": [
    {
     "output_type": "execute_result",
     "data": {
      "text/plain": [
       "          id         price\n",
       "0          0    412.603792\n",
       "1          1   1560.843046\n",
       "2          2   9584.753949\n",
       "3          3    509.110144\n",
       "4          4  10088.244120\n",
       "...      ...           ...\n",
       "13444  13444   4957.286328\n",
       "13445  13445    446.418057\n",
       "13446  13446  14928.467755\n",
       "13447  13447  10839.254557\n",
       "13448  13448    712.131096\n",
       "\n",
       "[13449 rows x 2 columns]"
      ],
      "text/html": "<div>\n<style scoped>\n    .dataframe tbody tr th:only-of-type {\n        vertical-align: middle;\n    }\n\n    .dataframe tbody tr th {\n        vertical-align: top;\n    }\n\n    .dataframe thead th {\n        text-align: right;\n    }\n</style>\n<table border=\"1\" class=\"dataframe\">\n  <thead>\n    <tr style=\"text-align: right;\">\n      <th></th>\n      <th>id</th>\n      <th>price</th>\n    </tr>\n  </thead>\n  <tbody>\n    <tr>\n      <th>0</th>\n      <td>0</td>\n      <td>412.603792</td>\n    </tr>\n    <tr>\n      <th>1</th>\n      <td>1</td>\n      <td>1560.843046</td>\n    </tr>\n    <tr>\n      <th>2</th>\n      <td>2</td>\n      <td>9584.753949</td>\n    </tr>\n    <tr>\n      <th>3</th>\n      <td>3</td>\n      <td>509.110144</td>\n    </tr>\n    <tr>\n      <th>4</th>\n      <td>4</td>\n      <td>10088.244120</td>\n    </tr>\n    <tr>\n      <th>...</th>\n      <td>...</td>\n      <td>...</td>\n    </tr>\n    <tr>\n      <th>13444</th>\n      <td>13444</td>\n      <td>4957.286328</td>\n    </tr>\n    <tr>\n      <th>13445</th>\n      <td>13445</td>\n      <td>446.418057</td>\n    </tr>\n    <tr>\n      <th>13446</th>\n      <td>13446</td>\n      <td>14928.467755</td>\n    </tr>\n    <tr>\n      <th>13447</th>\n      <td>13447</td>\n      <td>10839.254557</td>\n    </tr>\n    <tr>\n      <th>13448</th>\n      <td>13448</td>\n      <td>712.131096</td>\n    </tr>\n  </tbody>\n</table>\n<p>13449 rows × 2 columns</p>\n</div>"
     },
     "metadata": {},
     "execution_count": 26
    }
   ],
   "source": [
    "testing = pd.read_csv('to_submit_int.csv')\n",
    "testing"
   ]
  },
  {
   "cell_type": "code",
   "execution_count": 27,
   "metadata": {},
   "outputs": [
    {
     "output_type": "stream",
     "name": "stdout",
     "text": [
      "H2O session _sid_9a68 was not closed properly.\n"
     ]
    }
   ],
   "source": [
    "h2o.cluster().shutdown()"
   ]
  },
  {
   "cell_type": "markdown",
   "metadata": {},
   "source": [
    "**Evaluación con los datos reales**"
   ]
  },
  {
   "cell_type": "code",
   "execution_count": 28,
   "metadata": {},
   "outputs": [
    {
     "output_type": "execute_result",
     "data": {
      "text/plain": [
       "530.4868276331717"
      ]
     },
     "metadata": {},
     "execution_count": 28
    }
   ],
   "source": [
    "true = pd.read_csv('evaluation_price.csv')\n",
    "\n",
    "y_pred = testing['price']\n",
    "y_true = true['price']\n",
    "np.sqrt(mean_squared_error(y_true, y_pred))"
   ]
  },
  {
   "cell_type": "code",
   "execution_count": null,
   "metadata": {},
   "outputs": [],
   "source": []
  }
 ],
 "metadata": {
  "kernelspec": {
   "name": "python3",
   "display_name": "Python 3.6.4 64-bit",
   "metadata": {
    "interpreter": {
     "hash": "5c4d2f1fdcd3716c7a5eea90ad07be30193490dd4e63617705244f5fd89ea793"
    }
   }
  },
  "language_info": {
   "codemirror_mode": {
    "name": "ipython",
    "version": 3
   },
   "file_extension": ".py",
   "mimetype": "text/x-python",
   "name": "python",
   "nbconvert_exporter": "python",
   "pygments_lexer": "ipython3",
   "version": "3.6.4-final"
  }
 },
 "nbformat": 4,
 "nbformat_minor": 4
}