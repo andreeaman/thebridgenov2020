{
 "cells": [
  {
   "cell_type": "markdown",
   "metadata": {},
   "source": [
    "# Python | day 6 | dictionaries"
   ]
  },
  {
   "cell_type": "markdown",
   "metadata": {},
   "source": [
    "Dictionaries are used to store data values in key:value pairs.\n",
    "\n",
    "A dictionary is a collection which is unordered, changeable and does not allow duplicates.\n",
    "\n",
    "Dictionaries are written with curly brackets, and have keys and values:"
   ]
  },
  {
   "cell_type": "markdown",
   "metadata": {},
   "source": [
    "```python\n",
    "thisdict = {\n",
    "  \"brand\": \"Ford\",\n",
    "  \"model\": \"Mustang\",\n",
    "  \"year\": 1964\n",
    "}\n",
    "```"
   ]
  },
  {
   "cell_type": "markdown",
   "metadata": {},
   "source": [
    "https://www.w3schools.com/python/python_dictionaries.asp"
   ]
  },
  {
   "cell_type": "markdown",
   "metadata": {},
   "source": [
    "### Exercise 1. \n",
    "\n",
    "1. Create a dictionary with an integer 5 as the key and \"val\" as its value."
   ]
  },
  {
   "cell_type": "code",
   "execution_count": 1,
   "metadata": {},
   "outputs": [],
   "source": [
    "thisdict = {5: 'val'}"
   ]
  },
  {
   "cell_type": "markdown",
   "metadata": {},
   "source": [
    "2. Create two lists: one that has 4 city names and another that has 4 landmarks in the city."
   ]
  },
  {
   "cell_type": "code",
   "execution_count": 2,
   "metadata": {},
   "outputs": [],
   "source": [
    "cities = ['Madrid', 'Moscú', 'Berín', 'París']\n",
    "land_marks = ['Cibeles', 'Plaza Roja', 'Reichstag', 'Campos elíseos']"
   ]
  },
  {
   "cell_type": "markdown",
   "metadata": {},
   "source": [
    "3. Create a dictionary where the cities contained in the first list are the **keys** and the landmarks are the **values**.\n",
    "```python\n",
    "#example\n",
    "places = {\"Malaga\": \"Gibralfaro\", \n",
    "         \"Madrid\": \"Templo de Debod\",\n",
    "         \"Granada\": \"La Alcazaba\",\n",
    "         \"Barcelona\": \"Sagrada Familia\"}\n",
    "```"
   ]
  },
  {
   "cell_type": "code",
   "execution_count": 3,
   "metadata": {},
   "outputs": [
    {
     "output_type": "stream",
     "name": "stdout",
     "text": [
      "{'Madrid': 'Cibeles', 'Moscú': 'Plaza Roja', 'Berín': 'Reichstag', 'París': 'Campos elíseos'}\n"
     ]
    }
   ],
   "source": [
    "places = {cities[0]: land_marks[0], cities[1]: land_marks[1], cities[2]: land_marks[2], cities[3]: land_marks[3]}\n",
    "\n",
    "print(places)"
   ]
  },
  {
   "cell_type": "markdown",
   "metadata": {},
   "source": [
    "4. Loop through the dictionary and print only the values of those keys starting with the letter **M**.\n",
    "\n",
    "https://realpython.com/iterate-through-dictionary-python/"
   ]
  },
  {
   "cell_type": "code",
   "execution_count": 4,
   "metadata": {},
   "outputs": [
    {
     "output_type": "stream",
     "name": "stdout",
     "text": [
      "Cibeles\nPlaza Roja\n"
     ]
    }
   ],
   "source": [
    "for e in places:\n",
    "    if e.startswith('M'):\n",
    "        print(places[e])"
   ]
  },
  {
   "cell_type": "markdown",
   "metadata": {},
   "source": [
    "5. Create a function that receives two lists `list1` and `list2` by parameter and returns a dictionary with each element of `list1` as keys and the elements of `list2` as values. Call the function with the lists you have created before to return the same dictionary you've created in question 3. "
   ]
  },
  {
   "cell_type": "code",
   "execution_count": 5,
   "metadata": {},
   "outputs": [],
   "source": [
    "def dict_creator (list_1, list_2):\n",
    "    \"\"\"\n",
    "    ---What it does---\n",
    "    This function creates a dictionary from two given lists.\n",
    "    ---What it needs---\n",
    "        - Two lists (list_1 and list_2)\n",
    "    ---What it returns---\n",
    "    A dictionary object.\n",
    "    \"\"\"\n",
    "    print (f'1st list: {list_1}')\n",
    "    print(f'2nd list: {list_2}')\n",
    "\n",
    "    dictionary ={}\n",
    "    \n",
    "    # To avoid issues with list's lenght!\n",
    "    if len(list_1) == len(list_2):\n",
    "        lenght = len(list_1)\n",
    "\n",
    "    elif len(list_1) > len(list_2):\n",
    "        lenght = len(list_1)\n",
    "\n",
    "    else:\n",
    "        lenght = len(list_2)\n",
    "\n",
    "    for e in range(lenght):\n",
    "        dictionary[list_1[e]] = list_2[e]\n",
    "\n",
    "    return dictionary"
   ]
  },
  {
   "cell_type": "code",
   "execution_count": 6,
   "metadata": {},
   "outputs": [
    {
     "output_type": "stream",
     "name": "stdout",
     "text": [
      "1st list: ['Madrid', 'Moscú', 'Berín', 'París']\n2nd list: ['Cibeles', 'Plaza Roja', 'Reichstag', 'Campos elíseos']\n"
     ]
    },
    {
     "output_type": "execute_result",
     "data": {
      "text/plain": [
       "{'Madrid': 'Cibeles',\n",
       " 'Moscú': 'Plaza Roja',\n",
       " 'Berín': 'Reichstag',\n",
       " 'París': 'Campos elíseos'}"
      ]
     },
     "metadata": {},
     "execution_count": 6
    }
   ],
   "source": [
    "dictionary_returned = dict_creator(cities, land_marks)\n",
    "dictionary_returned"
   ]
  },
  {
   "cell_type": "markdown",
   "metadata": {},
   "source": [
    "### Exercise 2. "
   ]
  },
  {
   "cell_type": "markdown",
   "metadata": {},
   "source": [
    "1. Create an empty dictionary called dog."
   ]
  },
  {
   "cell_type": "code",
   "execution_count": 7,
   "metadata": {},
   "outputs": [],
   "source": [
    "dog = {}"
   ]
  },
  {
   "cell_type": "markdown",
   "metadata": {},
   "source": [
    "2. Add name, color, breed, legs, age to the dog dictionary."
   ]
  },
  {
   "cell_type": "code",
   "execution_count": 8,
   "metadata": {},
   "outputs": [],
   "source": [
    "name= 'Colmillo'\n",
    "color = 'Black'\n",
    "breed = 'German shepherd'\n",
    "legs = 4\n",
    "age = 6"
   ]
  },
  {
   "cell_type": "code",
   "execution_count": 9,
   "metadata": {},
   "outputs": [
    {
     "output_type": "execute_result",
     "data": {
      "text/plain": [
       "{'Name': 'Colmillo',\n",
       " 'Color': 'Black',\n",
       " 'Breed': 'German shepherd',\n",
       " 'Legs': 4,\n",
       " 'age': 6}"
      ]
     },
     "metadata": {},
     "execution_count": 9
    }
   ],
   "source": [
    "dog['Name'] = name\n",
    "dog['Color'] = color\n",
    "dog['Breed'] = breed\n",
    "dog['Legs'] = legs\n",
    "dog['age'] = age\n",
    "\n",
    "dog"
   ]
  },
  {
   "cell_type": "markdown",
   "metadata": {},
   "source": [
    "3. Create a student dictionary and add first_name, last_name, age, skills, country, city and address as keys for the dictionary.\n"
   ]
  },
  {
   "cell_type": "code",
   "execution_count": 10,
   "metadata": {},
   "outputs": [],
   "source": [
    "student = {}\n",
    "\n",
    "key_list = ['first_name', 'last_name', 'age', 'skills', 'country', 'city', 'address']\n",
    "value_list = ['Moe', 'Szyslak', 46, ['Serving beer', 'Drunk toss-out', 'Criminal demenour'], 'US', 'Springfield', 'False Stret n123']"
   ]
  },
  {
   "cell_type": "code",
   "execution_count": 11,
   "metadata": {},
   "outputs": [
    {
     "output_type": "execute_result",
     "data": {
      "text/plain": [
       "{'first_name': 'Moe',\n",
       " 'last_name': 'Szyslak',\n",
       " 'age': 46,\n",
       " 'skills': ['Serving beer', 'Drunk toss-out', 'Criminal demenour'],\n",
       " 'country': 'US',\n",
       " 'city': 'Springfield',\n",
       " 'address': 'False Stret n123'}"
      ]
     },
     "metadata": {},
     "execution_count": 11
    }
   ],
   "source": [
    "for e in range(len(key_list)):\n",
    "    student[key_list[e]] = value_list[e]\n",
    "\n",
    "student"
   ]
  },
  {
   "cell_type": "code",
   "execution_count": 12,
   "metadata": {},
   "outputs": [
    {
     "output_type": "stream",
     "name": "stdout",
     "text": [
      "1st list: ['first_name', 'last_name', 'age', 'skills', 'country', 'city', 'address']\n2nd list: ['Moe', 'Szyslak', 46, ['Serving beer', 'Drunk toss-out', 'Criminal demenour'], 'US', 'Springfield', 'False Stret n123']\n"
     ]
    },
    {
     "output_type": "execute_result",
     "data": {
      "text/plain": [
       "{'first_name': 'Moe',\n",
       " 'last_name': 'Szyslak',\n",
       " 'age': 46,\n",
       " 'skills': ['Serving beer', 'Drunk toss-out', 'Criminal demenour'],\n",
       " 'country': 'US',\n",
       " 'city': 'Springfield',\n",
       " 'address': 'False Stret n123'}"
      ]
     },
     "metadata": {},
     "execution_count": 12
    }
   ],
   "source": [
    "student = dict_creator(key_list, value_list)\n",
    "student"
   ]
  },
  {
   "cell_type": "markdown",
   "metadata": {},
   "source": [
    "4. Get the length of the student dictionary.\n"
   ]
  },
  {
   "cell_type": "code",
   "execution_count": 13,
   "metadata": {},
   "outputs": [
    {
     "output_type": "execute_result",
     "data": {
      "text/plain": [
       "7"
      ]
     },
     "metadata": {},
     "execution_count": 13
    }
   ],
   "source": [
    "len(student)"
   ]
  },
  {
   "cell_type": "markdown",
   "metadata": {},
   "source": [
    "5. Get the value of skills and check the data type, it should be a list."
   ]
  },
  {
   "cell_type": "code",
   "execution_count": 14,
   "metadata": {},
   "outputs": [
    {
     "output_type": "execute_result",
     "data": {
      "text/plain": [
       "list"
      ]
     },
     "metadata": {},
     "execution_count": 14
    }
   ],
   "source": [
    "type(student['skills'])"
   ]
  },
  {
   "cell_type": "markdown",
   "metadata": {},
   "source": [
    "6. Modify the skills values by adding one or two skills."
   ]
  },
  {
   "cell_type": "code",
   "execution_count": 15,
   "metadata": {},
   "outputs": [
    {
     "output_type": "execute_result",
     "data": {
      "text/plain": [
       "['Serving beer',\n",
       " 'Drunk toss-out',\n",
       " 'Criminal demenour',\n",
       " 'Reckless driving',\n",
       " 'Hip-hop self defense']"
      ]
     },
     "metadata": {},
     "execution_count": 15
    }
   ],
   "source": [
    "student['skills'].append('Reckless driving')\n",
    "student['skills'].append('Hip-hop self defense')\n",
    "\n",
    "student['skills']"
   ]
  },
  {
   "cell_type": "markdown",
   "metadata": {},
   "source": [
    "7. Get the dictionary keys as a list."
   ]
  },
  {
   "cell_type": "code",
   "execution_count": 16,
   "metadata": {},
   "outputs": [
    {
     "output_type": "execute_result",
     "data": {
      "text/plain": [
       "['first_name', 'last_name', 'age', 'skills', 'country', 'city', 'address']"
      ]
     },
     "metadata": {},
     "execution_count": 16
    }
   ],
   "source": [
    "list(student.keys())"
   ]
  },
  {
   "cell_type": "markdown",
   "metadata": {},
   "source": [
    "8. Get the dictionary values as a list.\n"
   ]
  },
  {
   "cell_type": "code",
   "execution_count": 17,
   "metadata": {},
   "outputs": [
    {
     "output_type": "execute_result",
     "data": {
      "text/plain": [
       "['Moe',\n",
       " 'Szyslak',\n",
       " 46,\n",
       " ['Serving beer',\n",
       "  'Drunk toss-out',\n",
       "  'Criminal demenour',\n",
       "  'Reckless driving',\n",
       "  'Hip-hop self defense'],\n",
       " 'US',\n",
       " 'Springfield',\n",
       " 'False Stret n123']"
      ]
     },
     "metadata": {},
     "execution_count": 17
    }
   ],
   "source": [
    "list(student.values())"
   ]
  },
  {
   "cell_type": "markdown",
   "metadata": {},
   "source": [
    "9. Change the dictionary to a list of tuples using `items()` method"
   ]
  },
  {
   "cell_type": "code",
   "execution_count": 18,
   "metadata": {},
   "outputs": [
    {
     "output_type": "execute_result",
     "data": {
      "text/plain": [
       "dict_items([('first_name', 'Moe'), ('last_name', 'Szyslak'), ('age', 46), ('skills', ['Serving beer', 'Drunk toss-out', 'Criminal demenour', 'Reckless driving', 'Hip-hop self defense']), ('country', 'US'), ('city', 'Springfield'), ('address', 'False Stret n123')])"
      ]
     },
     "metadata": {},
     "execution_count": 18
    }
   ],
   "source": [
    "student_items = student.items()\n",
    "student_items"
   ]
  },
  {
   "cell_type": "markdown",
   "metadata": {},
   "source": [
    "10. Delete one of the items in the dictionary.\n"
   ]
  },
  {
   "cell_type": "code",
   "execution_count": 19,
   "metadata": {},
   "outputs": [
    {
     "output_type": "execute_result",
     "data": {
      "text/plain": [
       "{'first_name': 'Moe',\n",
       " 'last_name': 'Szyslak',\n",
       " 'age': 46,\n",
       " 'skills': ['Serving beer',\n",
       "  'Drunk toss-out',\n",
       "  'Criminal demenour',\n",
       "  'Reckless driving',\n",
       "  'Hip-hop self defense'],\n",
       " 'country': 'US',\n",
       " 'city': 'Springfield'}"
      ]
     },
     "metadata": {},
     "execution_count": 19
    }
   ],
   "source": [
    "del student['address']\n",
    "student"
   ]
  },
  {
   "cell_type": "markdown",
   "metadata": {},
   "source": [
    "### Bonus Track"
   ]
  },
  {
   "cell_type": "markdown",
   "metadata": {},
   "source": [
    "**Tómate una cervecita o un zumito a tu salud.**"
   ]
  },
  {
   "source": [
    "!['daughter'](https://i.pinimg.com/originals/8f/35/28/8f35281e742e71be09697e7e6789b819.png)"
   ],
   "cell_type": "markdown",
   "metadata": {}
  },
  {
   "cell_type": "code",
   "execution_count": null,
   "metadata": {},
   "outputs": [],
   "source": []
  }
 ],
 "metadata": {
  "kernelspec": {
   "name": "python3",
   "display_name": "Python 3.9.0 64-bit",
   "metadata": {
    "interpreter": {
     "hash": "2475d6245a592878725d4384023842617923001cc03e07ab60580c5fb01fa30c"
    }
   }
  },
  "language_info": {
   "codemirror_mode": {
    "name": "ipython",
    "version": 3
   },
   "file_extension": ".py",
   "mimetype": "text/x-python",
   "name": "python",
   "nbconvert_exporter": "python",
   "pygments_lexer": "ipython3",
   "version": "3.9.0-final"
  }
 },
 "nbformat": 4,
 "nbformat_minor": 2
}