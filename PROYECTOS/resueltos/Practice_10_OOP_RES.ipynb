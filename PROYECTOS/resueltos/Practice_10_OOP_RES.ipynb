{
 "cells": [
  {
   "cell_type": "markdown",
   "metadata": {},
   "source": [
    "# Python | day 11 | object oriented programming"
   ]
  },
  {
   "cell_type": "markdown",
   "metadata": {},
   "source": [
    "#### ¡Practice what you already know and keep learning!"
   ]
  },
  {
   "cell_type": "markdown",
   "metadata": {},
   "source": [
    "![\"con_clase\"](https://cdn.ttgtmedia.com/rms/onlineimages/whatis-object_oriented_programming_half_column_mobile.png)"
   ]
  },
  {
   "cell_type": "markdown",
   "metadata": {},
   "source": [
    "https://realpython.com/python3-object-oriented-programming/"
   ]
  },
  {
   "cell_type": "markdown",
   "metadata": {},
   "source": [
    "## Exercise 1. "
   ]
  },
  {
   "cell_type": "markdown",
   "metadata": {},
   "source": [
    "A friend of yours have asked you to define a class so they can use it at the Natural History Museum in London in order to describe dinosaurs. \n",
    "\n",
    "Since you have no idea about dinosaurs he has given you a couple of instructions:\n",
    "\n",
    "   - Dinosaurs have four attributes all along the whole kind:\n",
    "        - They all have teeth, although every one of them have a different number of those\n",
    "        - Special skills which will be an empty list \n",
    "        - He finds interesting to specify if they are dangerous with a boolean, he also told you to set it False since usually they are very nice \n",
    "        - All of them have an only head\n",
    "        \n",
    "        \n",
    "   - Define also a couple of methods:\n",
    "   \n",
    "       - `many_teeth` --> number of teeth gives you a clue of how old the dinosaurs are, that's why it could be interesting to be able to change the number of teeth they have.\n",
    "       - `add_skill` --> this method add skills to each dinosaurs instance. \n",
    "       - `is_dangerous` --> not all of the dinosaurs are nice, some of them are a little bit dangerous and could attacks you, with this method you should be able to change the boolean set. Make sure, using `if`, the argument is always a boolean, if not print something like \"Remember you should give a boolean, True or False?\"\n"
   ]
  },
  {
   "cell_type": "code",
   "execution_count": 2,
   "metadata": {},
   "outputs": [],
   "source": [
    "# define a class Dinosaur\n",
    "class Dinosaur:\n",
    "    head = 1\n",
    "    def __init__(self, species, teeth, skills, dangerous):\n",
    "        self.species = species\n",
    "        self.teeth = teeth\n",
    "        self.skills = skills\n",
    "        self.dangerous = dangerous\n",
    "\n",
    "    def dino_report(self):\n",
    "        \"\"\"\n",
    "        This function prints the general info of the class. Mainly, its defining arguments.\n",
    "        \"\"\"\n",
    "\n",
    "        print(f'This is a {self.species}. It has many teeth, {self.teeth} to be exact! and it has {self.head} head.')\n",
    "        print('It knows:')\n",
    "\n",
    "        if type(self.skills) ==  list:\n",
    "            for e in self.skills:\n",
    "                print(f'\\t- {e}')\n",
    "                self.skills = list(self.skills)\n",
    "        else:\n",
    "                print(f'\\t- {self.skills}')\n",
    "\n",
    "        print('It is a curious creature')\n",
    "        self.is_dangerous()\n",
    "\n",
    "    \n",
    "    def is_dangerous(self):\n",
    "        \"\"\"\n",
    "        This function checks the value of 'dangerous'. If its a boolean, lets it be and prints a warning. If it's not, asks if the animal is dangerous and converts the value to a boolean.\n",
    "        \"\"\"\n",
    "\n",
    "        if type(self.dangerous) == bool:\n",
    "            if self.dangerous:\n",
    "                print('... Beware of it')\n",
    "        \n",
    "        else:\n",
    "            while type(self.dangerous) != bool:\n",
    "                choice = bool(input(f'Is the {self.species} dangerous? Y/N> '))\n",
    "\n",
    "                if choice == 'Y' or choice == 'y':\n",
    "                    self.dangerous = True\n",
    "                else:\n",
    "                    self.dangerous = False\n",
    "\n",
    "            print(choice, 'See? easier this way!')\n",
    "            print('It IS dangerous...')\n",
    "            \n",
    "    \n",
    "    def add_skill(self):\n",
    "        \"\"\"\n",
    "        Adds skills to the skill list.\n",
    "        \"\"\"\n",
    "\n",
    "        skill_to_add = input('Type the skill> ')\n",
    "        self.skills.append(skill_to_add)\n",
    "\n",
    "\n",
    "    def many_teeth(self):\n",
    "        \"\"\"\n",
    "        Sets the number of teeth of the dinosaur using an input. The value is stored as int.\n",
    "        \"\"\"\n",
    "\n",
    "        self.teeth = int(input('Set number of teeth> '))\n",
    "    \n",
    "\n",
    "    def if_danger(self):\n",
    "        \"\"\"\n",
    "        This function let's you know if the dino will eat you\n",
    "        \"\"\"\n",
    "\n",
    "        if self.dangerous == True:\n",
    "            print('RUN FOR YOUR LIFE, THIS GUY IS HUNGRY AND EATS PEOPLE')"
   ]
  },
  {
   "cell_type": "markdown",
   "metadata": {},
   "source": [
    "Once you have the class Dinosaur and its methods defined, create an instance **tyrannosaurus**. Your friend has told you that Tyrannosaurus rex had 50 to 60 solid cone-shaped teeth as big as bananas. Set the number of teeth as 60 since you will have the opportunity of changing it later using the method `many_teeth`. "
   ]
  },
  {
   "cell_type": "code",
   "execution_count": 3,
   "metadata": {},
   "outputs": [],
   "source": [
    "# create an Tyrannosaurus rex with 60 teeth\n",
    "t_rex = Dinosaur(species= 'Tyrannosaurus rex', skills= ['Hunting', 'Eating', 'Tracking', 'Cooking, why not?'], teeth = 60, dangerous= True)"
   ]
  },
  {
   "cell_type": "code",
   "execution_count": 4,
   "metadata": {},
   "outputs": [
    {
     "output_type": "stream",
     "name": "stdout",
     "text": [
      "This is a Tyrannosaurus rex. It has many teeth, 60 to be exact! and it has 1 head.\nIt knows:\n\t- Hunting\n\t- Eating\n\t- Tracking\n\t- Cooking, why not?\nIt is a curious creature\n... Beware of it\n"
     ]
    }
   ],
   "source": [
    "t_rex.dino_report()"
   ]
  },
  {
   "cell_type": "markdown",
   "metadata": {},
   "source": [
    "Tyrannosaurus rex are the most dangerous dinosaurs so please, use the method `is_dangerous` with the argument \"yes, it is dangerous\", to set this up. It should return a message telling you to give a boolean, True or False, instead of the string you used as argument. "
   ]
  },
  {
   "cell_type": "markdown",
   "metadata": {},
   "source": [
    "Good try! But you need to set this with a boolean. Since tyrannosaurus rex are dangerous give True as an argument to the method `is_dangerous`."
   ]
  },
  {
   "cell_type": "code",
   "execution_count": 5,
   "metadata": {},
   "outputs": [
    {
     "output_type": "stream",
     "name": "stdout",
     "text": [
      "True See? easier this way!\nIt IS dangerous...\n"
     ]
    }
   ],
   "source": [
    "t_rex.dangerous = \"yes, it is dangerous\"\n",
    "t_rex.is_dangerous()"
   ]
  },
  {
   "cell_type": "markdown",
   "metadata": {},
   "source": [
    "Set \"lethality\" as an special skill of the tyrannosaurus rex using the `add_skill` method. "
   ]
  },
  {
   "cell_type": "code",
   "execution_count": 6,
   "metadata": {},
   "outputs": [],
   "source": [
    "# give lethality as an argument to the method add_skill\n",
    "t_rex.add_skill()"
   ]
  },
  {
   "cell_type": "markdown",
   "metadata": {},
   "source": [
    "Show its `special_skill` to make sure you add the skill as expected."
   ]
  },
  {
   "cell_type": "code",
   "execution_count": 7,
   "metadata": {},
   "outputs": [
    {
     "output_type": "stream",
     "name": "stdout",
     "text": [
      "This is a Tyrannosaurus rex. It has many teeth, 60 to be exact! and it has 1 head.\nIt knows:\n\t- Hunting\n\t- Eating\n\t- Tracking\n\t- Cooking, why not?\n\t- driving\nIt is a curious creature\n"
     ]
    }
   ],
   "source": [
    "# show its special_skill \n",
    "t_rex.dino_report()"
   ]
  },
  {
   "cell_type": "markdown",
   "metadata": {},
   "source": [
    "If you could add \"lethality\" to the tyrannosaurus special skills, let's try now adding \"strength\"."
   ]
  },
  {
   "cell_type": "code",
   "execution_count": 8,
   "metadata": {},
   "outputs": [
    {
     "output_type": "stream",
     "name": "stdout",
     "text": [
      "This is a Tyrannosaurus rex. It has many teeth, 60 to be exact! and it has 1 head.\nIt knows:\n\t- Hunting\n\t- Eating\n\t- Tracking\n\t- Cooking, why not?\n\t- driving\n\t- Strenght\nIt is a curious creature\n"
     ]
    }
   ],
   "source": [
    "# add strength to the list of special_skill\n",
    "t_rex.add_skill()\n",
    "t_rex.dino_report()"
   ]
  },
  {
   "cell_type": "markdown",
   "metadata": {},
   "source": [
    "Now, you know a lot about tyrannosaurus rex and found out the most of them lose some teeth due to their diet during their life, so 50 teeth should be more realistic. Use `many_teeth` method. "
   ]
  },
  {
   "cell_type": "code",
   "execution_count": 9,
   "metadata": {},
   "outputs": [],
   "source": [
    "# set 50 teeth as the number of teeth\n",
    "t_rex.many_teeth()"
   ]
  },
  {
   "cell_type": "markdown",
   "metadata": {},
   "source": [
    "Show the tyrannosaurus rex's attributes defining a dictionary called `tyrannosaurus_data`. The keys should be the attributes: `teeth`, `danger`, `head`, `special_skill`, and the values those given to the attributes during the exercise.\n",
    "\n",
    "*Hint: You could solve this exercise using a function. Try google.* "
   ]
  },
  {
   "cell_type": "code",
   "execution_count": 10,
   "metadata": {},
   "outputs": [
    {
     "output_type": "execute_result",
     "data": {
      "text/plain": [
       "{'teeth': 50,\n",
       " 'danger': False,\n",
       " 'head': 1,\n",
       " 'special_skill': ['Hunting',\n",
       "  'Eating',\n",
       "  'Tracking',\n",
       "  'Cooking, why not?',\n",
       "  'driving',\n",
       "  'Strenght']}"
      ]
     },
     "metadata": {},
     "execution_count": 10
    }
   ],
   "source": [
    "# create the tyrannosaurus_data dictionary\n",
    "tyrannosaurus_data = {'teeth': t_rex.teeth, 'danger': t_rex.dangerous, 'head': t_rex.head, 'special_skill': t_rex.skills}\n",
    "tyrannosaurus_data"
   ]
  },
  {
   "cell_type": "code",
   "execution_count": 17,
   "metadata": {},
   "outputs": [
    {
     "output_type": "stream",
     "name": "stdout",
     "text": [
      "{'species': 'Tyrannosaurus rex', 'teeth': 50, 'skills': ['Hunting', 'Eating', 'Tracking', 'Cooking, why not?', 'driving', 'Strenght'], 'dangerous': False}\n"
     ]
    }
   ],
   "source": [
    "t_rex_dict = t_rex.__dict__\n",
    "print(t_rex_dict)"
   ]
  },
  {
   "cell_type": "markdown",
   "metadata": {},
   "source": [
    "### Bonus\n",
    "\n",
    "Try to define a function named `if_danger` which check if **Dinosaur** is dangerous and if it is, then return something like \"RUN FOR YOUR LIFE, THIS GUY IS HUNGRY AND EAT PEOPLE\", in case the dinosaur isn't dangerous return \"all good, nothing to fear\".\n",
    "\n",
    "Call the function using as an argument the attribute `danger` of the **tyrannosaurus**."
   ]
  },
  {
   "cell_type": "code",
   "execution_count": 12,
   "metadata": {},
   "outputs": [],
   "source": [
    "# invoked the if_danger function\n",
    "t_rex.if_danger()"
   ]
  },
  {
   "cell_type": "markdown",
   "metadata": {},
   "source": [
    "## Exercise 2. "
   ]
  },
  {
   "cell_type": "markdown",
   "metadata": {},
   "source": [
    "A company is opening a bank, but the coder who is designing the user class made some errors. They need you to help them.\n",
    "\n",
    "You must include the following:\n",
    "\n",
    "**A withdraw method**\n",
    "- Subtracts money from balance\n",
    "- One parameter, money to withdraw\n",
    "- Raise ValueError if there isn't enough money to withdraw\n",
    "- Return a string with name and balence(see examples)\n",
    "\n",
    "**A check method**\n",
    "- Adds money to baleance\n",
    "- Two parameters, other user and money\n",
    "- Other user will always be valid\n",
    "- Raise a ValueError if other user doesn't have enough money\n",
    "- Raise a ValueError if checking_account isn't true for other user\n",
    "- Return a string with name and balance plus other name and other balance(see examples)\n",
    "\n",
    "**An add_cash method**\n",
    "- Adds money to balance\n",
    "- One parameter, money to add\n",
    "- Return a string with name and balance(see examples)\n",
    "\n",
    "**Additional Notes:**\n",
    "\n",
    "- Checking_account should be stored as a boolean\n",
    "- No input numbers will be negitive\n",
    "- Output must end with period\n",
    "- Float numbers will not be used so, balance should be integer\n",
    "- No currency will be used"
   ]
  },
  {
   "cell_type": "markdown",
   "metadata": {},
   "source": [
    "KATA --> https://www.codewars.com/kata/5a03af9606d5b65ff7000009"
   ]
  },
  {
   "cell_type": "markdown",
   "metadata": {},
   "source": [
    "**If you dare trying to solve this problem, you'll need this:** https://www.w3schools.com/python/gloss_python_raise.asp"
   ]
  },
  {
   "cell_type": "code",
   "execution_count": 42,
   "metadata": {},
   "outputs": [],
   "source": [
    "#your code here\n",
    "class User(object):\n",
    "    def __init__(self, name= 'Insert name here', account= ' ', balance= 0, check_account= True):\n",
    "        self.name = name\n",
    "        self.account = account\n",
    "        self.balance = balance\n",
    "        self.check_account = check_account\n",
    "\n",
    "    def withdraw(self, to_withdwaw):\n",
    "        \"\"\"\n",
    "        This function withdraws money from his/her balance, then prints and returns the ammount. If the sum of money withdrawn leaves the customer in the red, it raises ValueError, if ckeck_account is not authorised, it raises ValueError.\n",
    "        \"\"\"\n",
    "\n",
    "        print(f'Your balance: {self.balance} €')\n",
    "\n",
    "\n",
    "        print('\\t\\t\\t\\t--- Withdrawal of funds ---')\n",
    "        print(f'{to_withdwaw} €\\nto subtract from your account.')\n",
    "        \n",
    "        if self.check_account !=  True:\n",
    "            raise ValueError\n",
    "\n",
    "        else:\n",
    "            pass\n",
    "\n",
    "        if  self.balance > to_withdwaw:\n",
    "            self.balance = self.balance - to_withdwaw\n",
    "            print(f'Your balance: {self.balance} €')\n",
    "\n",
    "        \n",
    "        else:\n",
    "            raise ValueError\n",
    "        \n",
    "\n",
    "    def add_cash(self, to_add):\n",
    "        \"\"\"\n",
    "        This function adds cash to the customer's account balance.\"\"\"\n",
    "        \n",
    "        print('\\t\\t\\t\\t--- Adding of funds ---')\n",
    "        print(f'Your balance: {self.balance} €')\n",
    "        \n",
    "        self.balance = self.balance + to_add\n",
    "\n",
    "        print(f'{self.name} --- {self.balance}')\n"
   ]
  },
  {
   "cell_type": "code",
   "execution_count": 43,
   "metadata": {},
   "outputs": [],
   "source": [
    "bill = User(name= 'Bill Billson', account= '123 045 687', balance= 500, check_account= False)"
   ]
  },
  {
   "cell_type": "code",
   "execution_count": 44,
   "metadata": {},
   "outputs": [
    {
     "output_type": "stream",
     "name": "stdout",
     "text": [
      "Your balance: 500 €\n\t\t\t\t--- Withdrawal of funds ---\n600 €\nto subtract from your account.\n"
     ]
    },
    {
     "output_type": "error",
     "ename": "ValueError",
     "evalue": "",
     "traceback": [
      "\u001b[1;31m---------------------------------------------------------------------------\u001b[0m",
      "\u001b[1;31mValueError\u001b[0m                                Traceback (most recent call last)",
      "\u001b[1;32m<ipython-input-44-56ba79e2cddc>\u001b[0m in \u001b[0;36m<module>\u001b[1;34m\u001b[0m\n\u001b[1;32m----> 1\u001b[1;33m \u001b[0mbill\u001b[0m\u001b[1;33m.\u001b[0m\u001b[0mwithdraw\u001b[0m\u001b[1;33m(\u001b[0m\u001b[1;36m600\u001b[0m\u001b[1;33m)\u001b[0m\u001b[1;33m\u001b[0m\u001b[1;33m\u001b[0m\u001b[0m\n\u001b[0m",
      "\u001b[1;32m<ipython-input-42-0b33c7fe73fa>\u001b[0m in \u001b[0;36mwithdraw\u001b[1;34m(self, to_withdwaw)\u001b[0m\n\u001b[0;32m     19\u001b[0m \u001b[1;33m\u001b[0m\u001b[0m\n\u001b[0;32m     20\u001b[0m         \u001b[1;32mif\u001b[0m \u001b[0mself\u001b[0m\u001b[1;33m.\u001b[0m\u001b[0mcheck_account\u001b[0m \u001b[1;33m!=\u001b[0m  \u001b[1;32mTrue\u001b[0m\u001b[1;33m:\u001b[0m\u001b[1;33m\u001b[0m\u001b[1;33m\u001b[0m\u001b[0m\n\u001b[1;32m---> 21\u001b[1;33m             \u001b[1;32mraise\u001b[0m \u001b[0mValueError\u001b[0m\u001b[1;33m\u001b[0m\u001b[1;33m\u001b[0m\u001b[0m\n\u001b[0m\u001b[0;32m     22\u001b[0m \u001b[1;33m\u001b[0m\u001b[0m\n\u001b[0;32m     23\u001b[0m         \u001b[1;32melse\u001b[0m\u001b[1;33m:\u001b[0m\u001b[1;33m\u001b[0m\u001b[1;33m\u001b[0m\u001b[0m\n",
      "\u001b[1;31mValueError\u001b[0m: "
     ]
    }
   ],
   "source": [
    "bill.withdraw(600)\n"
   ]
  },
  {
   "cell_type": "code",
   "execution_count": 36,
   "metadata": {},
   "outputs": [
    {
     "output_type": "stream",
     "name": "stdout",
     "text": [
      "Your balance: 600 €\n\t\t\t\t--- Withdawal of funds ---\n600 €\nto subtract from your account.\n"
     ]
    },
    {
     "output_type": "error",
     "ename": "ValueError",
     "evalue": "",
     "traceback": [
      "\u001b[1;31m---------------------------------------------------------------------------\u001b[0m",
      "\u001b[1;31mValueError\u001b[0m                                Traceback (most recent call last)",
      "\u001b[1;32m<ipython-input-36-e5f31ef624bf>\u001b[0m in \u001b[0;36m<module>\u001b[1;34m\u001b[0m\n\u001b[0;32m      1\u001b[0m \u001b[0mbill\u001b[0m\u001b[1;33m.\u001b[0m\u001b[0mcheck_account\u001b[0m \u001b[1;33m=\u001b[0m \u001b[1;32mTrue\u001b[0m\u001b[1;33m\u001b[0m\u001b[1;33m\u001b[0m\u001b[0m\n\u001b[1;32m----> 2\u001b[1;33m \u001b[0mbill\u001b[0m\u001b[1;33m.\u001b[0m\u001b[0mwithdraw\u001b[0m\u001b[1;33m(\u001b[0m\u001b[1;36m600\u001b[0m\u001b[1;33m)\u001b[0m\u001b[1;33m\u001b[0m\u001b[1;33m\u001b[0m\u001b[0m\n\u001b[0m",
      "\u001b[1;32m<ipython-input-29-48ac315ba2d8>\u001b[0m in \u001b[0;36mwithdraw\u001b[1;34m(self, to_withdwaw)\u001b[0m\n\u001b[0;32m     30\u001b[0m \u001b[1;33m\u001b[0m\u001b[0m\n\u001b[0;32m     31\u001b[0m         \u001b[1;32melse\u001b[0m\u001b[1;33m:\u001b[0m\u001b[1;33m\u001b[0m\u001b[1;33m\u001b[0m\u001b[0m\n\u001b[1;32m---> 32\u001b[1;33m             \u001b[1;32mraise\u001b[0m \u001b[0mValueError\u001b[0m\u001b[1;33m\u001b[0m\u001b[1;33m\u001b[0m\u001b[0m\n\u001b[0m\u001b[0;32m     33\u001b[0m \u001b[1;33m\u001b[0m\u001b[0m\n\u001b[0;32m     34\u001b[0m \u001b[1;33m\u001b[0m\u001b[0m\n",
      "\u001b[1;31mValueError\u001b[0m: "
     ]
    }
   ],
   "source": [
    "bill.check_account = True\n",
    "bill.withdraw(600)"
   ]
  },
  {
   "cell_type": "code",
   "execution_count": 34,
   "metadata": {},
   "outputs": [
    {
     "output_type": "stream",
     "name": "stdout",
     "text": [
      "Your balance: 1200 €\n\t\t\t\t--- Withdawal of funds ---\n600 €\nto subtract from your account.\nYour balance: 600 €\n"
     ]
    }
   ],
   "source": [
    "bill.balance = 1200\n",
    "bill.withdraw(600)"
   ]
  },
  {
   "cell_type": "code",
   "execution_count": 41,
   "metadata": {},
   "outputs": [
    {
     "output_type": "stream",
     "name": "stdout",
     "text": [
      "\t\t\t\t--- Adding of funds ---\nYour balance: 500 €\nBill Billson --- 1300\n"
     ]
    }
   ],
   "source": [
    "bill.add_cash(to_add = 800)"
   ]
  }
 ],
 "metadata": {
  "kernelspec": {
   "name": "python3",
   "display_name": "Python 3"
  },
  "language_info": {
   "codemirror_mode": {
    "name": "ipython",
    "version": 3
   },
   "file_extension": ".py",
   "mimetype": "text/x-python",
   "name": "python",
   "nbconvert_exporter": "python",
   "pygments_lexer": "ipython3",
   "version": "3.7.4-final"
  }
 },
 "nbformat": 4,
 "nbformat_minor": 4
}