{
 "cells": [
  {
   "cell_type": "markdown",
   "metadata": {},
   "source": [
    "# Ex1 - Filtering and Sorting Data"
   ]
  },
  {
   "cell_type": "markdown",
   "metadata": {},
   "source": [
    "\n",
    "\n",
    "### Step 1. Import the necessary libraries"
   ]
  },
  {
   "cell_type": "code",
   "execution_count": 4,
   "metadata": {},
   "outputs": [],
   "source": [
    "import pandas as pd"
   ]
  },
  {
   "cell_type": "markdown",
   "metadata": {},
   "source": [
    "### Step 2. Import the dataset from this [address](https://raw.githubusercontent.com/justmarkham/DAT8/master/data/chipotle.tsv). "
   ]
  },
  {
   "cell_type": "code",
   "execution_count": 5,
   "metadata": {},
   "outputs": [],
   "source": [
    "address = \"https://raw.githubusercontent.com/justmarkham/DAT8/master/data/chipotle.tsv\""
   ]
  },
  {
   "cell_type": "markdown",
   "metadata": {},
   "source": [
    "### Step 3. Assign it to a variable called chipo."
   ]
  },
  {
   "cell_type": "code",
   "execution_count": 6,
   "metadata": {},
   "outputs": [
    {
     "output_type": "execute_result",
     "data": {
      "text/plain": "      order_id  quantity                              item_name  \\\n0            1         1           Chips and Fresh Tomato Salsa   \n1            1         1                                   Izze   \n2            1         1                       Nantucket Nectar   \n3            1         1  Chips and Tomatillo-Green Chili Salsa   \n4            2         2                           Chicken Bowl   \n...        ...       ...                                    ...   \n4617      1833         1                          Steak Burrito   \n4618      1833         1                          Steak Burrito   \n4619      1834         1                     Chicken Salad Bowl   \n4620      1834         1                     Chicken Salad Bowl   \n4621      1834         1                     Chicken Salad Bowl   \n\n                                     choice_description item_price  \n0                                                   NaN     $2.39   \n1                                          [Clementine]     $3.39   \n2                                               [Apple]     $3.39   \n3                                                   NaN     $2.39   \n4     [Tomatillo-Red Chili Salsa (Hot), [Black Beans...    $16.98   \n...                                                 ...        ...  \n4617  [Fresh Tomato Salsa, [Rice, Black Beans, Sour ...    $11.75   \n4618  [Fresh Tomato Salsa, [Rice, Sour Cream, Cheese...    $11.75   \n4619  [Fresh Tomato Salsa, [Fajita Vegetables, Pinto...    $11.25   \n4620  [Fresh Tomato Salsa, [Fajita Vegetables, Lettu...     $8.75   \n4621  [Fresh Tomato Salsa, [Fajita Vegetables, Pinto...     $8.75   \n\n[4622 rows x 5 columns]",
      "text/html": "<div>\n<style scoped>\n    .dataframe tbody tr th:only-of-type {\n        vertical-align: middle;\n    }\n\n    .dataframe tbody tr th {\n        vertical-align: top;\n    }\n\n    .dataframe thead th {\n        text-align: right;\n    }\n</style>\n<table border=\"1\" class=\"dataframe\">\n  <thead>\n    <tr style=\"text-align: right;\">\n      <th></th>\n      <th>order_id</th>\n      <th>quantity</th>\n      <th>item_name</th>\n      <th>choice_description</th>\n      <th>item_price</th>\n    </tr>\n  </thead>\n  <tbody>\n    <tr>\n      <th>0</th>\n      <td>1</td>\n      <td>1</td>\n      <td>Chips and Fresh Tomato Salsa</td>\n      <td>NaN</td>\n      <td>$2.39</td>\n    </tr>\n    <tr>\n      <th>1</th>\n      <td>1</td>\n      <td>1</td>\n      <td>Izze</td>\n      <td>[Clementine]</td>\n      <td>$3.39</td>\n    </tr>\n    <tr>\n      <th>2</th>\n      <td>1</td>\n      <td>1</td>\n      <td>Nantucket Nectar</td>\n      <td>[Apple]</td>\n      <td>$3.39</td>\n    </tr>\n    <tr>\n      <th>3</th>\n      <td>1</td>\n      <td>1</td>\n      <td>Chips and Tomatillo-Green Chili Salsa</td>\n      <td>NaN</td>\n      <td>$2.39</td>\n    </tr>\n    <tr>\n      <th>4</th>\n      <td>2</td>\n      <td>2</td>\n      <td>Chicken Bowl</td>\n      <td>[Tomatillo-Red Chili Salsa (Hot), [Black Beans...</td>\n      <td>$16.98</td>\n    </tr>\n    <tr>\n      <th>...</th>\n      <td>...</td>\n      <td>...</td>\n      <td>...</td>\n      <td>...</td>\n      <td>...</td>\n    </tr>\n    <tr>\n      <th>4617</th>\n      <td>1833</td>\n      <td>1</td>\n      <td>Steak Burrito</td>\n      <td>[Fresh Tomato Salsa, [Rice, Black Beans, Sour ...</td>\n      <td>$11.75</td>\n    </tr>\n    <tr>\n      <th>4618</th>\n      <td>1833</td>\n      <td>1</td>\n      <td>Steak Burrito</td>\n      <td>[Fresh Tomato Salsa, [Rice, Sour Cream, Cheese...</td>\n      <td>$11.75</td>\n    </tr>\n    <tr>\n      <th>4619</th>\n      <td>1834</td>\n      <td>1</td>\n      <td>Chicken Salad Bowl</td>\n      <td>[Fresh Tomato Salsa, [Fajita Vegetables, Pinto...</td>\n      <td>$11.25</td>\n    </tr>\n    <tr>\n      <th>4620</th>\n      <td>1834</td>\n      <td>1</td>\n      <td>Chicken Salad Bowl</td>\n      <td>[Fresh Tomato Salsa, [Fajita Vegetables, Lettu...</td>\n      <td>$8.75</td>\n    </tr>\n    <tr>\n      <th>4621</th>\n      <td>1834</td>\n      <td>1</td>\n      <td>Chicken Salad Bowl</td>\n      <td>[Fresh Tomato Salsa, [Fajita Vegetables, Pinto...</td>\n      <td>$8.75</td>\n    </tr>\n  </tbody>\n</table>\n<p>4622 rows × 5 columns</p>\n</div>"
     },
     "metadata": {},
     "execution_count": 6
    }
   ],
   "source": [
    "chipo = pd.read_csv(address, sep = '\\t')\n",
    "chipo"
   ]
  },
  {
   "cell_type": "markdown",
   "metadata": {},
   "source": [
    "Name of the max valued product"
   ]
  },
  {
   "cell_type": "code",
   "execution_count": 4,
   "metadata": {},
   "outputs": [
    {
     "data": {
      "text/html": "<div>\n<style scoped>\n    .dataframe tbody tr th:only-of-type {\n        vertical-align: middle;\n    }\n\n    .dataframe tbody tr th {\n        vertical-align: top;\n    }\n\n    .dataframe thead th {\n        text-align: right;\n    }\n</style>\n<table border=\"1\" class=\"dataframe\">\n  <thead>\n    <tr style=\"text-align: right;\">\n      <th></th>\n      <th>order_id</th>\n      <th>quantity</th>\n      <th>item_name</th>\n      <th>choice_description</th>\n      <th>item_price</th>\n    </tr>\n  </thead>\n  <tbody>\n    <tr>\n      <td>2624</td>\n      <td>1042</td>\n      <td>1</td>\n      <td>Steak Salad Bowl</td>\n      <td>[Fresh Tomato Salsa, [Black Beans, Sour Cream,...</td>\n      <td>$9.39</td>\n    </tr>\n    <tr>\n      <td>4419</td>\n      <td>1762</td>\n      <td>1</td>\n      <td>Steak Salad Bowl</td>\n      <td>[Roasted Chili Corn Salsa, [Fajita Vegetables,...</td>\n      <td>$9.39</td>\n    </tr>\n    <tr>\n      <td>4036</td>\n      <td>1615</td>\n      <td>1</td>\n      <td>Steak Salad Bowl</td>\n      <td>[Fresh Tomato Salsa, [Fajita Vegetables, Chees...</td>\n      <td>$9.39</td>\n    </tr>\n    <tr>\n      <td>1825</td>\n      <td>738</td>\n      <td>1</td>\n      <td>Barbacoa Salad Bowl</td>\n      <td>[Fresh Tomato Salsa, [Rice, Pinto Beans, Chees...</td>\n      <td>$9.39</td>\n    </tr>\n    <tr>\n      <td>3115</td>\n      <td>1243</td>\n      <td>1</td>\n      <td>Carnitas Salad Bowl</td>\n      <td>[Tomatillo Green Chili Salsa, [Rice, Pinto Bea...</td>\n      <td>$9.39</td>\n    </tr>\n    <tr>\n      <td>...</td>\n      <td>...</td>\n      <td>...</td>\n      <td>...</td>\n      <td>...</td>\n      <td>...</td>\n    </tr>\n    <tr>\n      <td>3145</td>\n      <td>1254</td>\n      <td>1</td>\n      <td>Canned Soda</td>\n      <td>[Diet Dr. Pepper]</td>\n      <td>$1.09</td>\n    </tr>\n    <tr>\n      <td>414</td>\n      <td>180</td>\n      <td>1</td>\n      <td>Canned Soda</td>\n      <td>[Dr. Pepper]</td>\n      <td>$1.09</td>\n    </tr>\n    <tr>\n      <td>3162</td>\n      <td>1262</td>\n      <td>1</td>\n      <td>Canned Soda</td>\n      <td>[Coca Cola]</td>\n      <td>$1.09</td>\n    </tr>\n    <tr>\n      <td>821</td>\n      <td>338</td>\n      <td>1</td>\n      <td>Canned Soda</td>\n      <td>[Coca Cola]</td>\n      <td>$1.09</td>\n    </tr>\n    <tr>\n      <td>1457</td>\n      <td>591</td>\n      <td>1</td>\n      <td>Canned Soda</td>\n      <td>[Sprite]</td>\n      <td>$1.09</td>\n    </tr>\n  </tbody>\n</table>\n<p>4622 rows × 5 columns</p>\n</div>",
      "text/plain": "      order_id  quantity            item_name  \\\n2624      1042         1     Steak Salad Bowl   \n4419      1762         1     Steak Salad Bowl   \n4036      1615         1     Steak Salad Bowl   \n1825       738         1  Barbacoa Salad Bowl   \n3115      1243         1  Carnitas Salad Bowl   \n...        ...       ...                  ...   \n3145      1254         1          Canned Soda   \n414        180         1          Canned Soda   \n3162      1262         1          Canned Soda   \n821        338         1          Canned Soda   \n1457       591         1          Canned Soda   \n\n                                     choice_description item_price  \n2624  [Fresh Tomato Salsa, [Black Beans, Sour Cream,...     $9.39   \n4419  [Roasted Chili Corn Salsa, [Fajita Vegetables,...     $9.39   \n4036  [Fresh Tomato Salsa, [Fajita Vegetables, Chees...     $9.39   \n1825  [Fresh Tomato Salsa, [Rice, Pinto Beans, Chees...     $9.39   \n3115  [Tomatillo Green Chili Salsa, [Rice, Pinto Bea...     $9.39   \n...                                                 ...        ...  \n3145                                  [Diet Dr. Pepper]     $1.09   \n414                                        [Dr. Pepper]     $1.09   \n3162                                        [Coca Cola]     $1.09   \n821                                         [Coca Cola]     $1.09   \n1457                                           [Sprite]     $1.09   \n\n[4622 rows x 5 columns]"
     },
     "execution_count": 4,
     "metadata": {},
     "output_type": "execute_result"
    }
   ],
   "source": [
    "chipo_sorted = chipo.sort_values(\"item_price\", ascending=False)\n",
    "chipo_sorted"
   ]
  },
  {
   "cell_type": "code",
   "execution_count": 19,
   "metadata": {},
   "outputs": [
    {
     "data": {
      "text/html": "<div>\n<style scoped>\n    .dataframe tbody tr th:only-of-type {\n        vertical-align: middle;\n    }\n\n    .dataframe tbody tr th {\n        vertical-align: top;\n    }\n\n    .dataframe thead th {\n        text-align: right;\n    }\n</style>\n<table border=\"1\" class=\"dataframe\">\n  <thead>\n    <tr style=\"text-align: right;\">\n      <th></th>\n      <th>order_id</th>\n      <th>quantity</th>\n      <th>item_name</th>\n      <th>choice_description</th>\n      <th>item_price</th>\n    </tr>\n  </thead>\n  <tbody>\n    <tr>\n      <td>0</td>\n      <td>1</td>\n      <td>1</td>\n      <td>Chips and Fresh Tomato Salsa</td>\n      <td>NaN</td>\n      <td>$2.39</td>\n    </tr>\n    <tr>\n      <td>1</td>\n      <td>1</td>\n      <td>1</td>\n      <td>Izze</td>\n      <td>[Clementine]</td>\n      <td>$3.39</td>\n    </tr>\n    <tr>\n      <td>2</td>\n      <td>1</td>\n      <td>1</td>\n      <td>Nantucket Nectar</td>\n      <td>[Apple]</td>\n      <td>$3.39</td>\n    </tr>\n    <tr>\n      <td>3</td>\n      <td>1</td>\n      <td>1</td>\n      <td>Chips and Tomatillo-Green Chili Salsa</td>\n      <td>NaN</td>\n      <td>$2.39</td>\n    </tr>\n    <tr>\n      <td>4</td>\n      <td>2</td>\n      <td>2</td>\n      <td>Chicken Bowl</td>\n      <td>[Tomatillo-Red Chili Salsa (Hot), [Black Beans...</td>\n      <td>$16.98</td>\n    </tr>\n    <tr>\n      <td>...</td>\n      <td>...</td>\n      <td>...</td>\n      <td>...</td>\n      <td>...</td>\n      <td>...</td>\n    </tr>\n    <tr>\n      <td>4617</td>\n      <td>1833</td>\n      <td>1</td>\n      <td>Steak Burrito</td>\n      <td>[Fresh Tomato Salsa, [Rice, Black Beans, Sour ...</td>\n      <td>$11.75</td>\n    </tr>\n    <tr>\n      <td>4618</td>\n      <td>1833</td>\n      <td>1</td>\n      <td>Steak Burrito</td>\n      <td>[Fresh Tomato Salsa, [Rice, Sour Cream, Cheese...</td>\n      <td>$11.75</td>\n    </tr>\n    <tr>\n      <td>4619</td>\n      <td>1834</td>\n      <td>1</td>\n      <td>Chicken Salad Bowl</td>\n      <td>[Fresh Tomato Salsa, [Fajita Vegetables, Pinto...</td>\n      <td>$11.25</td>\n    </tr>\n    <tr>\n      <td>4620</td>\n      <td>1834</td>\n      <td>1</td>\n      <td>Chicken Salad Bowl</td>\n      <td>[Fresh Tomato Salsa, [Fajita Vegetables, Lettu...</td>\n      <td>$8.75</td>\n    </tr>\n    <tr>\n      <td>4621</td>\n      <td>1834</td>\n      <td>1</td>\n      <td>Chicken Salad Bowl</td>\n      <td>[Fresh Tomato Salsa, [Fajita Vegetables, Pinto...</td>\n      <td>$8.75</td>\n    </tr>\n  </tbody>\n</table>\n<p>4622 rows × 5 columns</p>\n</div>",
      "text/plain": "      order_id  quantity                              item_name  \\\n0            1         1           Chips and Fresh Tomato Salsa   \n1            1         1                                   Izze   \n2            1         1                       Nantucket Nectar   \n3            1         1  Chips and Tomatillo-Green Chili Salsa   \n4            2         2                           Chicken Bowl   \n...        ...       ...                                    ...   \n4617      1833         1                          Steak Burrito   \n4618      1833         1                          Steak Burrito   \n4619      1834         1                     Chicken Salad Bowl   \n4620      1834         1                     Chicken Salad Bowl   \n4621      1834         1                     Chicken Salad Bowl   \n\n                                     choice_description item_price  \n0                                                   NaN      $2.39  \n1                                          [Clementine]      $3.39  \n2                                               [Apple]      $3.39  \n3                                                   NaN      $2.39  \n4     [Tomatillo-Red Chili Salsa (Hot), [Black Beans...     $16.98  \n...                                                 ...        ...  \n4617  [Fresh Tomato Salsa, [Rice, Black Beans, Sour ...     $11.75  \n4618  [Fresh Tomato Salsa, [Rice, Sour Cream, Cheese...     $11.75  \n4619  [Fresh Tomato Salsa, [Fajita Vegetables, Pinto...     $11.25  \n4620  [Fresh Tomato Salsa, [Fajita Vegetables, Lettu...      $8.75  \n4621  [Fresh Tomato Salsa, [Fajita Vegetables, Pinto...      $8.75  \n\n[4622 rows x 5 columns]"
     },
     "execution_count": 19,
     "metadata": {},
     "output_type": "execute_result"
    }
   ],
   "source": [
    "to_string_dollar = lambda x: str(\"$\" + str(x))\n",
    "chipo.item_price = chipo.item_price.apply(to_string_dollar)\n",
    "chipo"
   ]
  },
  {
   "cell_type": "code",
   "execution_count": 20,
   "metadata": {},
   "outputs": [
    {
     "data": {
      "text/html": "<div>\n<style scoped>\n    .dataframe tbody tr th:only-of-type {\n        vertical-align: middle;\n    }\n\n    .dataframe tbody tr th {\n        vertical-align: top;\n    }\n\n    .dataframe thead th {\n        text-align: right;\n    }\n</style>\n<table border=\"1\" class=\"dataframe\">\n  <thead>\n    <tr style=\"text-align: right;\">\n      <th></th>\n      <th>order_id</th>\n      <th>quantity</th>\n      <th>item_name</th>\n      <th>choice_description</th>\n      <th>item_price</th>\n    </tr>\n  </thead>\n  <tbody>\n    <tr>\n      <td>0</td>\n      <td>1</td>\n      <td>1</td>\n      <td>Chips and Fresh Tomato Salsa</td>\n      <td>NaN</td>\n      <td>$2.39</td>\n    </tr>\n    <tr>\n      <td>1</td>\n      <td>1</td>\n      <td>1</td>\n      <td>Izze</td>\n      <td>[Clementine]</td>\n      <td>$3.39</td>\n    </tr>\n    <tr>\n      <td>2</td>\n      <td>1</td>\n      <td>1</td>\n      <td>Nantucket Nectar</td>\n      <td>[Apple]</td>\n      <td>$3.39</td>\n    </tr>\n    <tr>\n      <td>3</td>\n      <td>1</td>\n      <td>1</td>\n      <td>Chips and Tomatillo-Green Chili Salsa</td>\n      <td>NaN</td>\n      <td>$2.39</td>\n    </tr>\n    <tr>\n      <td>4</td>\n      <td>2</td>\n      <td>2</td>\n      <td>Chicken Bowl</td>\n      <td>[Tomatillo-Red Chili Salsa (Hot), [Black Beans...</td>\n      <td>$16.98</td>\n    </tr>\n    <tr>\n      <td>...</td>\n      <td>...</td>\n      <td>...</td>\n      <td>...</td>\n      <td>...</td>\n      <td>...</td>\n    </tr>\n    <tr>\n      <td>4617</td>\n      <td>1833</td>\n      <td>1</td>\n      <td>Steak Burrito</td>\n      <td>[Fresh Tomato Salsa, [Rice, Black Beans, Sour ...</td>\n      <td>$11.75</td>\n    </tr>\n    <tr>\n      <td>4618</td>\n      <td>1833</td>\n      <td>1</td>\n      <td>Steak Burrito</td>\n      <td>[Fresh Tomato Salsa, [Rice, Sour Cream, Cheese...</td>\n      <td>$11.75</td>\n    </tr>\n    <tr>\n      <td>4619</td>\n      <td>1834</td>\n      <td>1</td>\n      <td>Chicken Salad Bowl</td>\n      <td>[Fresh Tomato Salsa, [Fajita Vegetables, Pinto...</td>\n      <td>$11.25</td>\n    </tr>\n    <tr>\n      <td>4620</td>\n      <td>1834</td>\n      <td>1</td>\n      <td>Chicken Salad Bowl</td>\n      <td>[Fresh Tomato Salsa, [Fajita Vegetables, Lettu...</td>\n      <td>$8.75</td>\n    </tr>\n    <tr>\n      <td>4621</td>\n      <td>1834</td>\n      <td>1</td>\n      <td>Chicken Salad Bowl</td>\n      <td>[Fresh Tomato Salsa, [Fajita Vegetables, Pinto...</td>\n      <td>$8.75</td>\n    </tr>\n  </tbody>\n</table>\n<p>4622 rows × 5 columns</p>\n</div>",
      "text/plain": "      order_id  quantity                              item_name  \\\n0            1         1           Chips and Fresh Tomato Salsa   \n1            1         1                                   Izze   \n2            1         1                       Nantucket Nectar   \n3            1         1  Chips and Tomatillo-Green Chili Salsa   \n4            2         2                           Chicken Bowl   \n...        ...       ...                                    ...   \n4617      1833         1                          Steak Burrito   \n4618      1833         1                          Steak Burrito   \n4619      1834         1                     Chicken Salad Bowl   \n4620      1834         1                     Chicken Salad Bowl   \n4621      1834         1                     Chicken Salad Bowl   \n\n                                     choice_description item_price  \n0                                                   NaN      $2.39  \n1                                          [Clementine]      $3.39  \n2                                               [Apple]      $3.39  \n3                                                   NaN      $2.39  \n4     [Tomatillo-Red Chili Salsa (Hot), [Black Beans...     $16.98  \n...                                                 ...        ...  \n4617  [Fresh Tomato Salsa, [Rice, Black Beans, Sour ...     $11.75  \n4618  [Fresh Tomato Salsa, [Rice, Sour Cream, Cheese...     $11.75  \n4619  [Fresh Tomato Salsa, [Fajita Vegetables, Pinto...     $11.25  \n4620  [Fresh Tomato Salsa, [Fajita Vegetables, Lettu...      $8.75  \n4621  [Fresh Tomato Salsa, [Fajita Vegetables, Pinto...      $8.75  \n\n[4622 rows x 5 columns]"
     },
     "execution_count": 20,
     "metadata": {},
     "output_type": "execute_result"
    }
   ],
   "source": [
    "chipo"
   ]
  },
  {
   "cell_type": "code",
   "execution_count": 21,
   "metadata": {},
   "outputs": [
    {
     "data": {
      "text/html": "<div>\n<style scoped>\n    .dataframe tbody tr th:only-of-type {\n        vertical-align: middle;\n    }\n\n    .dataframe tbody tr th {\n        vertical-align: top;\n    }\n\n    .dataframe thead th {\n        text-align: right;\n    }\n</style>\n<table border=\"1\" class=\"dataframe\">\n  <thead>\n    <tr style=\"text-align: right;\">\n      <th></th>\n      <th>order_id</th>\n      <th>quantity</th>\n      <th>item_name</th>\n      <th>choice_description</th>\n      <th>item_price</th>\n    </tr>\n  </thead>\n  <tbody>\n    <tr>\n      <td>0</td>\n      <td>1</td>\n      <td>1</td>\n      <td>Chips and Fresh Tomato Salsa</td>\n      <td>NaN</td>\n      <td>2.39</td>\n    </tr>\n    <tr>\n      <td>1</td>\n      <td>1</td>\n      <td>1</td>\n      <td>Izze</td>\n      <td>[Clementine]</td>\n      <td>3.39</td>\n    </tr>\n    <tr>\n      <td>2</td>\n      <td>1</td>\n      <td>1</td>\n      <td>Nantucket Nectar</td>\n      <td>[Apple]</td>\n      <td>3.39</td>\n    </tr>\n    <tr>\n      <td>3</td>\n      <td>1</td>\n      <td>1</td>\n      <td>Chips and Tomatillo-Green Chili Salsa</td>\n      <td>NaN</td>\n      <td>2.39</td>\n    </tr>\n    <tr>\n      <td>4</td>\n      <td>2</td>\n      <td>2</td>\n      <td>Chicken Bowl</td>\n      <td>[Tomatillo-Red Chili Salsa (Hot), [Black Beans...</td>\n      <td>16.98</td>\n    </tr>\n    <tr>\n      <td>...</td>\n      <td>...</td>\n      <td>...</td>\n      <td>...</td>\n      <td>...</td>\n      <td>...</td>\n    </tr>\n    <tr>\n      <td>4617</td>\n      <td>1833</td>\n      <td>1</td>\n      <td>Steak Burrito</td>\n      <td>[Fresh Tomato Salsa, [Rice, Black Beans, Sour ...</td>\n      <td>11.75</td>\n    </tr>\n    <tr>\n      <td>4618</td>\n      <td>1833</td>\n      <td>1</td>\n      <td>Steak Burrito</td>\n      <td>[Fresh Tomato Salsa, [Rice, Sour Cream, Cheese...</td>\n      <td>11.75</td>\n    </tr>\n    <tr>\n      <td>4619</td>\n      <td>1834</td>\n      <td>1</td>\n      <td>Chicken Salad Bowl</td>\n      <td>[Fresh Tomato Salsa, [Fajita Vegetables, Pinto...</td>\n      <td>11.25</td>\n    </tr>\n    <tr>\n      <td>4620</td>\n      <td>1834</td>\n      <td>1</td>\n      <td>Chicken Salad Bowl</td>\n      <td>[Fresh Tomato Salsa, [Fajita Vegetables, Lettu...</td>\n      <td>8.75</td>\n    </tr>\n    <tr>\n      <td>4621</td>\n      <td>1834</td>\n      <td>1</td>\n      <td>Chicken Salad Bowl</td>\n      <td>[Fresh Tomato Salsa, [Fajita Vegetables, Pinto...</td>\n      <td>8.75</td>\n    </tr>\n  </tbody>\n</table>\n<p>4622 rows × 5 columns</p>\n</div>",
      "text/plain": "      order_id  quantity                              item_name  \\\n0            1         1           Chips and Fresh Tomato Salsa   \n1            1         1                                   Izze   \n2            1         1                       Nantucket Nectar   \n3            1         1  Chips and Tomatillo-Green Chili Salsa   \n4            2         2                           Chicken Bowl   \n...        ...       ...                                    ...   \n4617      1833         1                          Steak Burrito   \n4618      1833         1                          Steak Burrito   \n4619      1834         1                     Chicken Salad Bowl   \n4620      1834         1                     Chicken Salad Bowl   \n4621      1834         1                     Chicken Salad Bowl   \n\n                                     choice_description  item_price  \n0                                                   NaN        2.39  \n1                                          [Clementine]        3.39  \n2                                               [Apple]        3.39  \n3                                                   NaN        2.39  \n4     [Tomatillo-Red Chili Salsa (Hot), [Black Beans...       16.98  \n...                                                 ...         ...  \n4617  [Fresh Tomato Salsa, [Rice, Black Beans, Sour ...       11.75  \n4618  [Fresh Tomato Salsa, [Rice, Sour Cream, Cheese...       11.75  \n4619  [Fresh Tomato Salsa, [Fajita Vegetables, Pinto...       11.25  \n4620  [Fresh Tomato Salsa, [Fajita Vegetables, Lettu...        8.75  \n4621  [Fresh Tomato Salsa, [Fajita Vegetables, Pinto...        8.75  \n\n[4622 rows x 5 columns]"
     },
     "execution_count": 21,
     "metadata": {},
     "output_type": "execute_result"
    }
   ],
   "source": [
    "chipo.item_price = chipo.item_price.str[1:].astype(float)\n",
    "chipo"
   ]
  },
  {
   "cell_type": "code",
   "execution_count": 27,
   "metadata": {},
   "outputs": [
    {
     "data": {
      "text/plain": "44.25"
     },
     "execution_count": 27,
     "metadata": {},
     "output_type": "execute_result"
    }
   ],
   "source": [
    "max(chipo.item_price)"
   ]
  },
  {
   "cell_type": "code",
   "execution_count": 29,
   "metadata": {},
   "outputs": [
    {
     "name": "stdout",
     "output_type": "stream",
     "text": "3598\n"
    }
   ],
   "source": [
    "index = chipo.item_price.idxmax()\n",
    "print(index)"
   ]
  },
  {
   "cell_type": "code",
   "execution_count": 31,
   "metadata": {},
   "outputs": [
    {
     "data": {
      "text/plain": "[3598]"
     },
     "execution_count": 31,
     "metadata": {},
     "output_type": "execute_result"
    }
   ],
   "source": [
    "indexes = [i for i, x in enumerate(chipo.item_price) if x == max(chipo.item_price)]\n",
    "indexes"
   ]
  },
  {
   "cell_type": "code",
   "execution_count": 32,
   "metadata": {},
   "outputs": [
    {
     "data": {
      "text/plain": "3598    44.25\nName: item_price, dtype: float64"
     },
     "execution_count": 32,
     "metadata": {},
     "output_type": "execute_result"
    }
   ],
   "source": [
    "x = chipo.item_price[chipo.item_price == max(chipo.item_price)]\n",
    "x"
   ]
  },
  {
   "cell_type": "code",
   "execution_count": 34,
   "metadata": {},
   "outputs": [
    {
     "data": {
      "text/plain": "11      Chicken Crispy Tacos\n12        Chicken Soft Tacos\n19              Chicken Bowl\n35        Chicken Soft Tacos\n36        Chicken Soft Tacos\n                ...         \n4599            Chicken Bowl\n4604            Chicken Bowl\n4615      Chicken Soft Tacos\n4620      Chicken Salad Bowl\n4621      Chicken Salad Bowl\nName: item_name, Length: 730, dtype: object"
     },
     "execution_count": 34,
     "metadata": {},
     "output_type": "execute_result"
    }
   ],
   "source": [
    "s = chipo.item_name[chipo.item_price == 8.75]\n",
    "s"
   ]
  },
  {
   "cell_type": "code",
   "execution_count": 7,
   "metadata": {},
   "outputs": [
    {
     "data": {
      "text/html": "<div>\n<style scoped>\n    .dataframe tbody tr th:only-of-type {\n        vertical-align: middle;\n    }\n\n    .dataframe tbody tr th {\n        vertical-align: top;\n    }\n\n    .dataframe thead th {\n        text-align: right;\n    }\n</style>\n<table border=\"1\" class=\"dataframe\">\n  <thead>\n    <tr style=\"text-align: right;\">\n      <th></th>\n      <th>order_id</th>\n      <th>quantity</th>\n      <th>item_name</th>\n      <th>choice_description</th>\n      <th>item_price</th>\n    </tr>\n  </thead>\n  <tbody>\n    <tr>\n      <td>0</td>\n      <td>1</td>\n      <td>1</td>\n      <td>Chips and Fresh Tomato Salsa</td>\n      <td>NaN</td>\n      <td>2.39</td>\n    </tr>\n    <tr>\n      <td>1</td>\n      <td>1</td>\n      <td>1</td>\n      <td>Izze</td>\n      <td>[Clementine]</td>\n      <td>3.39</td>\n    </tr>\n    <tr>\n      <td>2</td>\n      <td>1</td>\n      <td>1</td>\n      <td>Nantucket Nectar</td>\n      <td>[Apple]</td>\n      <td>3.39</td>\n    </tr>\n    <tr>\n      <td>3</td>\n      <td>1</td>\n      <td>1</td>\n      <td>Chips and Tomatillo-Green Chili Salsa</td>\n      <td>NaN</td>\n      <td>2.39</td>\n    </tr>\n    <tr>\n      <td>4</td>\n      <td>2</td>\n      <td>2</td>\n      <td>Chicken Bowl</td>\n      <td>[Tomatillo-Red Chili Salsa (Hot), [Black Beans...</td>\n      <td>16.98</td>\n    </tr>\n    <tr>\n      <td>...</td>\n      <td>...</td>\n      <td>...</td>\n      <td>...</td>\n      <td>...</td>\n      <td>...</td>\n    </tr>\n    <tr>\n      <td>4617</td>\n      <td>1833</td>\n      <td>1</td>\n      <td>Steak Burrito</td>\n      <td>[Fresh Tomato Salsa, [Rice, Black Beans, Sour ...</td>\n      <td>11.75</td>\n    </tr>\n    <tr>\n      <td>4618</td>\n      <td>1833</td>\n      <td>1</td>\n      <td>Steak Burrito</td>\n      <td>[Fresh Tomato Salsa, [Rice, Sour Cream, Cheese...</td>\n      <td>11.75</td>\n    </tr>\n    <tr>\n      <td>4619</td>\n      <td>1834</td>\n      <td>1</td>\n      <td>Chicken Salad Bowl</td>\n      <td>[Fresh Tomato Salsa, [Fajita Vegetables, Pinto...</td>\n      <td>11.25</td>\n    </tr>\n    <tr>\n      <td>4620</td>\n      <td>1834</td>\n      <td>1</td>\n      <td>Chicken Salad Bowl</td>\n      <td>[Fresh Tomato Salsa, [Fajita Vegetables, Lettu...</td>\n      <td>8.75</td>\n    </tr>\n    <tr>\n      <td>4621</td>\n      <td>1834</td>\n      <td>1</td>\n      <td>Chicken Salad Bowl</td>\n      <td>[Fresh Tomato Salsa, [Fajita Vegetables, Pinto...</td>\n      <td>8.75</td>\n    </tr>\n  </tbody>\n</table>\n<p>4622 rows × 5 columns</p>\n</div>",
      "text/plain": "      order_id  quantity                              item_name  \\\n0            1         1           Chips and Fresh Tomato Salsa   \n1            1         1                                   Izze   \n2            1         1                       Nantucket Nectar   \n3            1         1  Chips and Tomatillo-Green Chili Salsa   \n4            2         2                           Chicken Bowl   \n...        ...       ...                                    ...   \n4617      1833         1                          Steak Burrito   \n4618      1833         1                          Steak Burrito   \n4619      1834         1                     Chicken Salad Bowl   \n4620      1834         1                     Chicken Salad Bowl   \n4621      1834         1                     Chicken Salad Bowl   \n\n                                     choice_description  item_price  \n0                                                   NaN        2.39  \n1                                          [Clementine]        3.39  \n2                                               [Apple]        3.39  \n3                                                   NaN        2.39  \n4     [Tomatillo-Red Chili Salsa (Hot), [Black Beans...       16.98  \n...                                                 ...         ...  \n4617  [Fresh Tomato Salsa, [Rice, Black Beans, Sour ...       11.75  \n4618  [Fresh Tomato Salsa, [Rice, Sour Cream, Cheese...       11.75  \n4619  [Fresh Tomato Salsa, [Fajita Vegetables, Pinto...       11.25  \n4620  [Fresh Tomato Salsa, [Fajita Vegetables, Lettu...        8.75  \n4621  [Fresh Tomato Salsa, [Fajita Vegetables, Pinto...        8.75  \n\n[4622 rows x 5 columns]"
     },
     "execution_count": 7,
     "metadata": {},
     "output_type": "execute_result"
    }
   ],
   "source": [
    "to_float = lambda x: float(x[1:])\n",
    "chipo.item_price = chipo.item_price.apply(to_float)\n",
    "chipo"
   ]
  },
  {
   "cell_type": "code",
   "execution_count": 6,
   "metadata": {},
   "outputs": [
    {
     "name": "stdout",
     "output_type": "stream",
     "text": "Index(['order_id', 'quantity', 'item_name', 'choice_description',\n       'item_price'],\n      dtype='object')\n"
    }
   ],
   "source": [
    "print(chipo.columns)"
   ]
  },
  {
   "cell_type": "code",
   "execution_count": 36,
   "metadata": {},
   "outputs": [
    {
     "data": {
      "text/html": "<div>\n<style scoped>\n    .dataframe tbody tr th:only-of-type {\n        vertical-align: middle;\n    }\n\n    .dataframe tbody tr th {\n        vertical-align: top;\n    }\n\n    .dataframe thead th {\n        text-align: right;\n    }\n</style>\n<table border=\"1\" class=\"dataframe\">\n  <thead>\n    <tr style=\"text-align: right;\">\n      <th></th>\n      <th>order_id</th>\n      <th>quantity</th>\n      <th>item_name</th>\n      <th>choice_description</th>\n      <th>item_price</th>\n    </tr>\n  </thead>\n  <tbody>\n    <tr>\n      <td>0</td>\n      <td>1</td>\n      <td>1</td>\n      <td>Chips and Fresh Tomato Salsa</td>\n      <td>NaN</td>\n      <td>2.39</td>\n    </tr>\n    <tr>\n      <td>1</td>\n      <td>1</td>\n      <td>1</td>\n      <td>Izze</td>\n      <td>[Clementine]</td>\n      <td>3.39</td>\n    </tr>\n    <tr>\n      <td>2</td>\n      <td>1</td>\n      <td>1</td>\n      <td>Nantucket Nectar</td>\n      <td>[Apple]</td>\n      <td>3.39</td>\n    </tr>\n    <tr>\n      <td>3</td>\n      <td>1</td>\n      <td>1</td>\n      <td>Chips and Tomatillo-Green Chili Salsa</td>\n      <td>NaN</td>\n      <td>2.39</td>\n    </tr>\n    <tr>\n      <td>4</td>\n      <td>2</td>\n      <td>2</td>\n      <td>Chicken Bowl</td>\n      <td>[Tomatillo-Red Chili Salsa (Hot), [Black Beans...</td>\n      <td>16.98</td>\n    </tr>\n    <tr>\n      <td>...</td>\n      <td>...</td>\n      <td>...</td>\n      <td>...</td>\n      <td>...</td>\n      <td>...</td>\n    </tr>\n    <tr>\n      <td>4617</td>\n      <td>1833</td>\n      <td>1</td>\n      <td>Steak Burrito</td>\n      <td>[Fresh Tomato Salsa, [Rice, Black Beans, Sour ...</td>\n      <td>11.75</td>\n    </tr>\n    <tr>\n      <td>4618</td>\n      <td>1833</td>\n      <td>1</td>\n      <td>Steak Burrito</td>\n      <td>[Fresh Tomato Salsa, [Rice, Sour Cream, Cheese...</td>\n      <td>11.75</td>\n    </tr>\n    <tr>\n      <td>4619</td>\n      <td>1834</td>\n      <td>1</td>\n      <td>Chicken Salad Bowl</td>\n      <td>[Fresh Tomato Salsa, [Fajita Vegetables, Pinto...</td>\n      <td>11.25</td>\n    </tr>\n    <tr>\n      <td>4620</td>\n      <td>1834</td>\n      <td>1</td>\n      <td>Chicken Salad Bowl</td>\n      <td>[Fresh Tomato Salsa, [Fajita Vegetables, Lettu...</td>\n      <td>8.75</td>\n    </tr>\n    <tr>\n      <td>4621</td>\n      <td>1834</td>\n      <td>1</td>\n      <td>Chicken Salad Bowl</td>\n      <td>[Fresh Tomato Salsa, [Fajita Vegetables, Pinto...</td>\n      <td>8.75</td>\n    </tr>\n  </tbody>\n</table>\n<p>4622 rows × 5 columns</p>\n</div>",
      "text/plain": "      order_id  quantity                              item_name  \\\n0            1         1           Chips and Fresh Tomato Salsa   \n1            1         1                                   Izze   \n2            1         1                       Nantucket Nectar   \n3            1         1  Chips and Tomatillo-Green Chili Salsa   \n4            2         2                           Chicken Bowl   \n...        ...       ...                                    ...   \n4617      1833         1                          Steak Burrito   \n4618      1833         1                          Steak Burrito   \n4619      1834         1                     Chicken Salad Bowl   \n4620      1834         1                     Chicken Salad Bowl   \n4621      1834         1                     Chicken Salad Bowl   \n\n                                     choice_description  item_price  \n0                                                   NaN        2.39  \n1                                          [Clementine]        3.39  \n2                                               [Apple]        3.39  \n3                                                   NaN        2.39  \n4     [Tomatillo-Red Chili Salsa (Hot), [Black Beans...       16.98  \n...                                                 ...         ...  \n4617  [Fresh Tomato Salsa, [Rice, Black Beans, Sour ...       11.75  \n4618  [Fresh Tomato Salsa, [Rice, Sour Cream, Cheese...       11.75  \n4619  [Fresh Tomato Salsa, [Fajita Vegetables, Pinto...       11.25  \n4620  [Fresh Tomato Salsa, [Fajita Vegetables, Lettu...        8.75  \n4621  [Fresh Tomato Salsa, [Fajita Vegetables, Pinto...        8.75  \n\n[4622 rows x 5 columns]"
     },
     "execution_count": 36,
     "metadata": {},
     "output_type": "execute_result"
    }
   ],
   "source": [
    "chipo"
   ]
  },
  {
   "cell_type": "markdown",
   "metadata": {},
   "source": [
    "### Step 4. How many products cost more than $10.00?"
   ]
  },
  {
   "cell_type": "code",
   "execution_count": 73,
   "metadata": {},
   "outputs": [
    {
     "data": {
      "text/plain": "27"
     },
     "execution_count": 73,
     "metadata": {},
     "output_type": "execute_result"
    }
   ],
   "source": [
    "products = chipo.item_name[(chipo.item_price > 10.0) & (chipo.item_price < 12.0)]\n",
    "products.nunique()"
   ]
  },
  {
   "cell_type": "code",
   "execution_count": 74,
   "metadata": {},
   "outputs": [
    {
     "data": {
      "text/plain": "31"
     },
     "execution_count": 74,
     "metadata": {},
     "output_type": "execute_result"
    }
   ],
   "source": [
    "products = chipo.item_name[(chipo.item_price > 10.0)]\n",
    "products.nunique()"
   ]
  },
  {
   "cell_type": "code",
   "execution_count": 72,
   "metadata": {},
   "outputs": [
    {
     "data": {
      "text/plain": "True"
     },
     "execution_count": 72,
     "metadata": {},
     "output_type": "execute_result"
    }
   ],
   "source": [
    "(chipo.item_price > 10.0).any() and (chipo.item_price < 12.0).any()"
   ]
  },
  {
   "cell_type": "code",
   "execution_count": 50,
   "metadata": {},
   "outputs": [
    {
     "data": {
      "text/plain": "array([False, False, False, ...,  True, False, False])"
     },
     "execution_count": 50,
     "metadata": {},
     "output_type": "execute_result"
    }
   ],
   "source": [
    "c = chipo.item_price > 10.0\n",
    "c.values"
   ]
  },
  {
   "cell_type": "code",
   "execution_count": 48,
   "metadata": {},
   "outputs": [
    {
     "data": {
      "text/plain": "27"
     },
     "execution_count": 48,
     "metadata": {},
     "output_type": "execute_result"
    }
   ],
   "source": [
    "products.nunique()"
   ]
  },
  {
   "cell_type": "markdown",
   "metadata": {},
   "source": [
    "### Step 5. What is the price of each item? \n",
    "###### print a data frame with only two columns item_name and item_price"
   ]
  },
  {
   "cell_type": "code",
   "execution_count": 76,
   "metadata": {},
   "outputs": [
    {
     "data": {
      "text/html": "<div>\n<style scoped>\n    .dataframe tbody tr th:only-of-type {\n        vertical-align: middle;\n    }\n\n    .dataframe tbody tr th {\n        vertical-align: top;\n    }\n\n    .dataframe thead th {\n        text-align: right;\n    }\n</style>\n<table border=\"1\" class=\"dataframe\">\n  <thead>\n    <tr style=\"text-align: right;\">\n      <th></th>\n      <th>item_name</th>\n      <th>item_price</th>\n    </tr>\n  </thead>\n  <tbody>\n    <tr>\n      <td>0</td>\n      <td>Chips and Fresh Tomato Salsa</td>\n      <td>2.39</td>\n    </tr>\n    <tr>\n      <td>1</td>\n      <td>Izze</td>\n      <td>3.39</td>\n    </tr>\n    <tr>\n      <td>2</td>\n      <td>Nantucket Nectar</td>\n      <td>3.39</td>\n    </tr>\n    <tr>\n      <td>3</td>\n      <td>Chips and Tomatillo-Green Chili Salsa</td>\n      <td>2.39</td>\n    </tr>\n    <tr>\n      <td>4</td>\n      <td>Chicken Bowl</td>\n      <td>16.98</td>\n    </tr>\n    <tr>\n      <td>...</td>\n      <td>...</td>\n      <td>...</td>\n    </tr>\n    <tr>\n      <td>4617</td>\n      <td>Steak Burrito</td>\n      <td>11.75</td>\n    </tr>\n    <tr>\n      <td>4618</td>\n      <td>Steak Burrito</td>\n      <td>11.75</td>\n    </tr>\n    <tr>\n      <td>4619</td>\n      <td>Chicken Salad Bowl</td>\n      <td>11.25</td>\n    </tr>\n    <tr>\n      <td>4620</td>\n      <td>Chicken Salad Bowl</td>\n      <td>8.75</td>\n    </tr>\n    <tr>\n      <td>4621</td>\n      <td>Chicken Salad Bowl</td>\n      <td>8.75</td>\n    </tr>\n  </tbody>\n</table>\n<p>4622 rows × 2 columns</p>\n</div>",
      "text/plain": "                                  item_name  item_price\n0              Chips and Fresh Tomato Salsa        2.39\n1                                      Izze        3.39\n2                          Nantucket Nectar        3.39\n3     Chips and Tomatillo-Green Chili Salsa        2.39\n4                              Chicken Bowl       16.98\n...                                     ...         ...\n4617                          Steak Burrito       11.75\n4618                          Steak Burrito       11.75\n4619                     Chicken Salad Bowl       11.25\n4620                     Chicken Salad Bowl        8.75\n4621                     Chicken Salad Bowl        8.75\n\n[4622 rows x 2 columns]"
     },
     "execution_count": 76,
     "metadata": {},
     "output_type": "execute_result"
    }
   ],
   "source": [
    "chipo.iloc[:,2:5:2]"
   ]
  },
  {
   "cell_type": "code",
   "execution_count": 84,
   "metadata": {},
   "outputs": [
    {
     "name": "stdout",
     "output_type": "stream",
     "text": "<class 'pandas.core.frame.DataFrame'>\nRangeIndex: 4622 entries, 0 to 4621\nData columns (total 6 columns):\norder_id              4622 non-null int64\nquantity              4622 non-null int64\nitem_name             4622 non-null object\nchoice_description    3376 non-null object\nitem_price            4622 non-null float64\nmean                  4622 non-null float64\ndtypes: float64(2), int64(2), object(2)\nmemory usage: 216.8+ KB\n"
    }
   ],
   "source": [
    "chipo.info()"
   ]
  },
  {
   "cell_type": "code",
   "execution_count": 77,
   "metadata": {},
   "outputs": [
    {
     "data": {
      "text/html": "<div>\n<style scoped>\n    .dataframe tbody tr th:only-of-type {\n        vertical-align: middle;\n    }\n\n    .dataframe tbody tr th {\n        vertical-align: top;\n    }\n\n    .dataframe thead th {\n        text-align: right;\n    }\n</style>\n<table border=\"1\" class=\"dataframe\">\n  <thead>\n    <tr style=\"text-align: right;\">\n      <th></th>\n      <th>item_name</th>\n      <th>item_price</th>\n    </tr>\n  </thead>\n  <tbody>\n    <tr>\n      <td>0</td>\n      <td>Chips and Fresh Tomato Salsa</td>\n      <td>2.39</td>\n    </tr>\n    <tr>\n      <td>1</td>\n      <td>Izze</td>\n      <td>3.39</td>\n    </tr>\n    <tr>\n      <td>2</td>\n      <td>Nantucket Nectar</td>\n      <td>3.39</td>\n    </tr>\n    <tr>\n      <td>3</td>\n      <td>Chips and Tomatillo-Green Chili Salsa</td>\n      <td>2.39</td>\n    </tr>\n    <tr>\n      <td>4</td>\n      <td>Chicken Bowl</td>\n      <td>16.98</td>\n    </tr>\n    <tr>\n      <td>...</td>\n      <td>...</td>\n      <td>...</td>\n    </tr>\n    <tr>\n      <td>4617</td>\n      <td>Steak Burrito</td>\n      <td>11.75</td>\n    </tr>\n    <tr>\n      <td>4618</td>\n      <td>Steak Burrito</td>\n      <td>11.75</td>\n    </tr>\n    <tr>\n      <td>4619</td>\n      <td>Chicken Salad Bowl</td>\n      <td>11.25</td>\n    </tr>\n    <tr>\n      <td>4620</td>\n      <td>Chicken Salad Bowl</td>\n      <td>8.75</td>\n    </tr>\n    <tr>\n      <td>4621</td>\n      <td>Chicken Salad Bowl</td>\n      <td>8.75</td>\n    </tr>\n  </tbody>\n</table>\n<p>4622 rows × 2 columns</p>\n</div>",
      "text/plain": "                                  item_name  item_price\n0              Chips and Fresh Tomato Salsa        2.39\n1                                      Izze        3.39\n2                          Nantucket Nectar        3.39\n3     Chips and Tomatillo-Green Chili Salsa        2.39\n4                              Chicken Bowl       16.98\n...                                     ...         ...\n4617                          Steak Burrito       11.75\n4618                          Steak Burrito       11.75\n4619                     Chicken Salad Bowl       11.25\n4620                     Chicken Salad Bowl        8.75\n4621                     Chicken Salad Bowl        8.75\n\n[4622 rows x 2 columns]"
     },
     "execution_count": 77,
     "metadata": {},
     "output_type": "execute_result"
    }
   ],
   "source": [
    "chipo[[\"item_name\", \"item_price\"]]"
   ]
  },
  {
   "cell_type": "code",
   "execution_count": 81,
   "metadata": {},
   "outputs": [
    {
     "data": {
      "text/html": "<div>\n<style scoped>\n    .dataframe tbody tr th:only-of-type {\n        vertical-align: middle;\n    }\n\n    .dataframe tbody tr th {\n        vertical-align: top;\n    }\n\n    .dataframe thead th {\n        text-align: right;\n    }\n</style>\n<table border=\"1\" class=\"dataframe\">\n  <thead>\n    <tr style=\"text-align: right;\">\n      <th></th>\n      <th>order_id</th>\n      <th>quantity</th>\n      <th>choice_description</th>\n      <th>item_price</th>\n    </tr>\n    <tr>\n      <th>item_name</th>\n      <th></th>\n      <th></th>\n      <th></th>\n      <th></th>\n    </tr>\n  </thead>\n  <tbody>\n    <tr>\n      <td>6 Pack Soft Drink</td>\n      <td>129</td>\n      <td>1</td>\n      <td>[Coke]</td>\n      <td>6.49</td>\n    </tr>\n    <tr>\n      <td>Barbacoa Bowl</td>\n      <td>19</td>\n      <td>1</td>\n      <td>[Fresh Tomato (Mild), [Lettuce, Black Beans, R...</td>\n      <td>8.69</td>\n    </tr>\n    <tr>\n      <td>Barbacoa Burrito</td>\n      <td>11</td>\n      <td>1</td>\n      <td>[Fresh Tomato (Mild), [Black Beans, Rice, Sour...</td>\n      <td>8.69</td>\n    </tr>\n    <tr>\n      <td>Barbacoa Crispy Tacos</td>\n      <td>75</td>\n      <td>1</td>\n      <td>[Fresh Tomato Salsa, Guacamole]</td>\n      <td>8.99</td>\n    </tr>\n    <tr>\n      <td>Barbacoa Salad Bowl</td>\n      <td>501</td>\n      <td>1</td>\n      <td>[Fresh Tomato Salsa, Guacamole]</td>\n      <td>9.39</td>\n    </tr>\n    <tr>\n      <td>Barbacoa Soft Tacos</td>\n      <td>26</td>\n      <td>1</td>\n      <td>[Fresh Tomato Salsa, [Black Beans, Cheese, Let...</td>\n      <td>8.99</td>\n    </tr>\n    <tr>\n      <td>Bottled Water</td>\n      <td>17</td>\n      <td>1</td>\n      <td>NaN</td>\n      <td>1.09</td>\n    </tr>\n    <tr>\n      <td>Bowl</td>\n      <td>193</td>\n      <td>1</td>\n      <td>[Adobo-Marinated and Grilled Steak, [Sour Crea...</td>\n      <td>7.40</td>\n    </tr>\n    <tr>\n      <td>Burrito</td>\n      <td>214</td>\n      <td>1</td>\n      <td>[Adobo-Marinated and Grilled Chicken, Pinto Be...</td>\n      <td>7.40</td>\n    </tr>\n    <tr>\n      <td>Canned Soda</td>\n      <td>9</td>\n      <td>1</td>\n      <td>[Coca Cola]</td>\n      <td>1.09</td>\n    </tr>\n    <tr>\n      <td>Canned Soft Drink</td>\n      <td>114</td>\n      <td>1</td>\n      <td>[Coke]</td>\n      <td>1.25</td>\n    </tr>\n    <tr>\n      <td>Carnitas Bowl</td>\n      <td>17</td>\n      <td>1</td>\n      <td>[Fresh Tomato (Mild), [Guacamole, Lettuce, Ric...</td>\n      <td>8.99</td>\n    </tr>\n    <tr>\n      <td>Carnitas Burrito</td>\n      <td>14</td>\n      <td>1</td>\n      <td>[Fresh Tomato (Mild), [Lettuce, Black Beans, G...</td>\n      <td>8.69</td>\n    </tr>\n    <tr>\n      <td>Carnitas Crispy Tacos</td>\n      <td>230</td>\n      <td>1</td>\n      <td>[Fresh Tomato Salsa (Mild), [Cheese, Lettuce]]</td>\n      <td>8.99</td>\n    </tr>\n    <tr>\n      <td>Carnitas Salad</td>\n      <td>1500</td>\n      <td>1</td>\n      <td>[[Fresh Tomato Salsa (Mild), Roasted Chili Cor...</td>\n      <td>8.99</td>\n    </tr>\n    <tr>\n      <td>Carnitas Salad Bowl</td>\n      <td>468</td>\n      <td>1</td>\n      <td>[Fresh Tomato Salsa, [Rice, Black Beans, Chees...</td>\n      <td>9.39</td>\n    </tr>\n    <tr>\n      <td>Carnitas Soft Tacos</td>\n      <td>103</td>\n      <td>1</td>\n      <td>[Fresh Tomato Salsa (Mild), [Black Beans, Rice...</td>\n      <td>8.99</td>\n    </tr>\n    <tr>\n      <td>Chicken Bowl</td>\n      <td>2</td>\n      <td>1</td>\n      <td>[Fresh Tomato (Mild), [Guacamole, Rice]]</td>\n      <td>8.19</td>\n    </tr>\n    <tr>\n      <td>Chicken Burrito</td>\n      <td>8</td>\n      <td>1</td>\n      <td>[Fresh Tomato (Mild), [Black Beans, Rice, Sour...</td>\n      <td>8.19</td>\n    </tr>\n    <tr>\n      <td>Chicken Crispy Tacos</td>\n      <td>6</td>\n      <td>1</td>\n      <td>[Fresh Tomato Salsa (Mild), Fajita Veggies]</td>\n      <td>8.49</td>\n    </tr>\n    <tr>\n      <td>Chicken Salad</td>\n      <td>109</td>\n      <td>1</td>\n      <td>[Fresh Tomato Salsa (Mild), Black Beans]</td>\n      <td>8.19</td>\n    </tr>\n    <tr>\n      <td>Chicken Salad Bowl</td>\n      <td>20</td>\n      <td>1</td>\n      <td>[Fresh Tomato Salsa, Fajita Vegetables]</td>\n      <td>8.75</td>\n    </tr>\n    <tr>\n      <td>Chicken Soft Tacos</td>\n      <td>6</td>\n      <td>1</td>\n      <td>[Fresh Tomato Salsa (Mild), [Black Beans, Rice...</td>\n      <td>8.49</td>\n    </tr>\n    <tr>\n      <td>Chips</td>\n      <td>19</td>\n      <td>1</td>\n      <td>NaN</td>\n      <td>1.99</td>\n    </tr>\n    <tr>\n      <td>Chips and Fresh Tomato Salsa</td>\n      <td>1</td>\n      <td>1</td>\n      <td>NaN</td>\n      <td>2.29</td>\n    </tr>\n    <tr>\n      <td>Chips and Guacamole</td>\n      <td>5</td>\n      <td>1</td>\n      <td>NaN</td>\n      <td>3.89</td>\n    </tr>\n    <tr>\n      <td>Chips and Mild Fresh Tomato Salsa</td>\n      <td>279</td>\n      <td>1</td>\n      <td>NaN</td>\n      <td>3.00</td>\n    </tr>\n    <tr>\n      <td>Chips and Roasted Chili Corn Salsa</td>\n      <td>102</td>\n      <td>1</td>\n      <td>NaN</td>\n      <td>2.95</td>\n    </tr>\n    <tr>\n      <td>Chips and Roasted Chili-Corn Salsa</td>\n      <td>85</td>\n      <td>1</td>\n      <td>NaN</td>\n      <td>2.39</td>\n    </tr>\n    <tr>\n      <td>Chips and Tomatillo Green Chili Salsa</td>\n      <td>18</td>\n      <td>1</td>\n      <td>NaN</td>\n      <td>2.95</td>\n    </tr>\n    <tr>\n      <td>Chips and Tomatillo Red Chili Salsa</td>\n      <td>49</td>\n      <td>1</td>\n      <td>NaN</td>\n      <td>2.95</td>\n    </tr>\n    <tr>\n      <td>Chips and Tomatillo-Green Chili Salsa</td>\n      <td>1</td>\n      <td>1</td>\n      <td>NaN</td>\n      <td>2.39</td>\n    </tr>\n    <tr>\n      <td>Chips and Tomatillo-Red Chili Salsa</td>\n      <td>130</td>\n      <td>1</td>\n      <td>NaN</td>\n      <td>2.39</td>\n    </tr>\n    <tr>\n      <td>Crispy Tacos</td>\n      <td>217</td>\n      <td>1</td>\n      <td>[Adobo-Marinated and Grilled Chicken]</td>\n      <td>7.40</td>\n    </tr>\n    <tr>\n      <td>Izze</td>\n      <td>1</td>\n      <td>1</td>\n      <td>[Blackberry]</td>\n      <td>3.39</td>\n    </tr>\n    <tr>\n      <td>Nantucket Nectar</td>\n      <td>1</td>\n      <td>1</td>\n      <td>[Apple]</td>\n      <td>3.39</td>\n    </tr>\n    <tr>\n      <td>Salad</td>\n      <td>575</td>\n      <td>1</td>\n      <td>[Brown Rice, Adobo-Marinated and Grilled Chick...</td>\n      <td>7.40</td>\n    </tr>\n    <tr>\n      <td>Side of Chips</td>\n      <td>3</td>\n      <td>1</td>\n      <td>NaN</td>\n      <td>1.69</td>\n    </tr>\n    <tr>\n      <td>Steak Bowl</td>\n      <td>25</td>\n      <td>1</td>\n      <td>[Fresh Tomato (Mild), [Guacamole, Lettuce, Pin...</td>\n      <td>8.69</td>\n    </tr>\n    <tr>\n      <td>Steak Burrito</td>\n      <td>4</td>\n      <td>1</td>\n      <td>[Brown Rice]</td>\n      <td>8.69</td>\n    </tr>\n    <tr>\n      <td>Steak Crispy Tacos</td>\n      <td>40</td>\n      <td>1</td>\n      <td>[Fresh Tomato (Mild), [Lettuce, Cheese]]</td>\n      <td>8.69</td>\n    </tr>\n    <tr>\n      <td>Steak Salad</td>\n      <td>276</td>\n      <td>1</td>\n      <td>[Fresh Tomato Salsa (Mild), [Rice, Cheese, Sou...</td>\n      <td>8.69</td>\n    </tr>\n    <tr>\n      <td>Steak Salad Bowl</td>\n      <td>123</td>\n      <td>1</td>\n      <td>[Fresh Tomato Salsa, Lettuce]</td>\n      <td>9.39</td>\n    </tr>\n    <tr>\n      <td>Steak Soft Tacos</td>\n      <td>4</td>\n      <td>1</td>\n      <td>[Fresh Tomato Salsa (Mild), [Cheese, Sour Cream]]</td>\n      <td>8.99</td>\n    </tr>\n    <tr>\n      <td>Veggie Bowl</td>\n      <td>28</td>\n      <td>1</td>\n      <td>[Fresh Tomato Salsa (Mild), [Black Beans, Rice...</td>\n      <td>8.49</td>\n    </tr>\n    <tr>\n      <td>Veggie Burrito</td>\n      <td>26</td>\n      <td>1</td>\n      <td>[Fresh Tomato Salsa (Mild), [Black Beans, Faji...</td>\n      <td>8.49</td>\n    </tr>\n    <tr>\n      <td>Veggie Crispy Tacos</td>\n      <td>668</td>\n      <td>1</td>\n      <td>[Fresh Tomato Salsa (Mild), [Pinto Beans, Rice...</td>\n      <td>8.49</td>\n    </tr>\n    <tr>\n      <td>Veggie Salad</td>\n      <td>686</td>\n      <td>1</td>\n      <td>[Roasted Chili Corn Salsa (Medium), [Black Bea...</td>\n      <td>8.49</td>\n    </tr>\n    <tr>\n      <td>Veggie Salad Bowl</td>\n      <td>83</td>\n      <td>1</td>\n      <td>[Fresh Tomato Salsa, [Fajita Vegetables, Black...</td>\n      <td>8.75</td>\n    </tr>\n    <tr>\n      <td>Veggie Soft Tacos</td>\n      <td>304</td>\n      <td>1</td>\n      <td>[Fresh Tomato Salsa (Mild), [Black Beans, Rice...</td>\n      <td>8.49</td>\n    </tr>\n  </tbody>\n</table>\n</div>",
      "text/plain": "                                       order_id  quantity  \\\nitem_name                                                   \n6 Pack Soft Drink                           129         1   \nBarbacoa Bowl                                19         1   \nBarbacoa Burrito                             11         1   \nBarbacoa Crispy Tacos                        75         1   \nBarbacoa Salad Bowl                         501         1   \nBarbacoa Soft Tacos                          26         1   \nBottled Water                                17         1   \nBowl                                        193         1   \nBurrito                                     214         1   \nCanned Soda                                   9         1   \nCanned Soft Drink                           114         1   \nCarnitas Bowl                                17         1   \nCarnitas Burrito                             14         1   \nCarnitas Crispy Tacos                       230         1   \nCarnitas Salad                             1500         1   \nCarnitas Salad Bowl                         468         1   \nCarnitas Soft Tacos                         103         1   \nChicken Bowl                                  2         1   \nChicken Burrito                               8         1   \nChicken Crispy Tacos                          6         1   \nChicken Salad                               109         1   \nChicken Salad Bowl                           20         1   \nChicken Soft Tacos                            6         1   \nChips                                        19         1   \nChips and Fresh Tomato Salsa                  1         1   \nChips and Guacamole                           5         1   \nChips and Mild Fresh Tomato Salsa           279         1   \nChips and Roasted Chili Corn Salsa          102         1   \nChips and Roasted Chili-Corn Salsa           85         1   \nChips and Tomatillo Green Chili Salsa        18         1   \nChips and Tomatillo Red Chili Salsa          49         1   \nChips and Tomatillo-Green Chili Salsa         1         1   \nChips and Tomatillo-Red Chili Salsa         130         1   \nCrispy Tacos                                217         1   \nIzze                                          1         1   \nNantucket Nectar                              1         1   \nSalad                                       575         1   \nSide of Chips                                 3         1   \nSteak Bowl                                   25         1   \nSteak Burrito                                 4         1   \nSteak Crispy Tacos                           40         1   \nSteak Salad                                 276         1   \nSteak Salad Bowl                            123         1   \nSteak Soft Tacos                              4         1   \nVeggie Bowl                                  28         1   \nVeggie Burrito                               26         1   \nVeggie Crispy Tacos                         668         1   \nVeggie Salad                                686         1   \nVeggie Salad Bowl                            83         1   \nVeggie Soft Tacos                           304         1   \n\n                                                                      choice_description  \\\nitem_name                                                                                  \n6 Pack Soft Drink                                                                 [Coke]   \nBarbacoa Bowl                          [Fresh Tomato (Mild), [Lettuce, Black Beans, R...   \nBarbacoa Burrito                       [Fresh Tomato (Mild), [Black Beans, Rice, Sour...   \nBarbacoa Crispy Tacos                                    [Fresh Tomato Salsa, Guacamole]   \nBarbacoa Salad Bowl                                      [Fresh Tomato Salsa, Guacamole]   \nBarbacoa Soft Tacos                    [Fresh Tomato Salsa, [Black Beans, Cheese, Let...   \nBottled Water                                                                        NaN   \nBowl                                   [Adobo-Marinated and Grilled Steak, [Sour Crea...   \nBurrito                                [Adobo-Marinated and Grilled Chicken, Pinto Be...   \nCanned Soda                                                                  [Coca Cola]   \nCanned Soft Drink                                                                 [Coke]   \nCarnitas Bowl                          [Fresh Tomato (Mild), [Guacamole, Lettuce, Ric...   \nCarnitas Burrito                       [Fresh Tomato (Mild), [Lettuce, Black Beans, G...   \nCarnitas Crispy Tacos                     [Fresh Tomato Salsa (Mild), [Cheese, Lettuce]]   \nCarnitas Salad                         [[Fresh Tomato Salsa (Mild), Roasted Chili Cor...   \nCarnitas Salad Bowl                    [Fresh Tomato Salsa, [Rice, Black Beans, Chees...   \nCarnitas Soft Tacos                    [Fresh Tomato Salsa (Mild), [Black Beans, Rice...   \nChicken Bowl                                    [Fresh Tomato (Mild), [Guacamole, Rice]]   \nChicken Burrito                        [Fresh Tomato (Mild), [Black Beans, Rice, Sour...   \nChicken Crispy Tacos                         [Fresh Tomato Salsa (Mild), Fajita Veggies]   \nChicken Salad                                   [Fresh Tomato Salsa (Mild), Black Beans]   \nChicken Salad Bowl                               [Fresh Tomato Salsa, Fajita Vegetables]   \nChicken Soft Tacos                     [Fresh Tomato Salsa (Mild), [Black Beans, Rice...   \nChips                                                                                NaN   \nChips and Fresh Tomato Salsa                                                         NaN   \nChips and Guacamole                                                                  NaN   \nChips and Mild Fresh Tomato Salsa                                                    NaN   \nChips and Roasted Chili Corn Salsa                                                   NaN   \nChips and Roasted Chili-Corn Salsa                                                   NaN   \nChips and Tomatillo Green Chili Salsa                                                NaN   \nChips and Tomatillo Red Chili Salsa                                                  NaN   \nChips and Tomatillo-Green Chili Salsa                                                NaN   \nChips and Tomatillo-Red Chili Salsa                                                  NaN   \nCrispy Tacos                                       [Adobo-Marinated and Grilled Chicken]   \nIzze                                                                        [Blackberry]   \nNantucket Nectar                                                                 [Apple]   \nSalad                                  [Brown Rice, Adobo-Marinated and Grilled Chick...   \nSide of Chips                                                                        NaN   \nSteak Bowl                             [Fresh Tomato (Mild), [Guacamole, Lettuce, Pin...   \nSteak Burrito                                                               [Brown Rice]   \nSteak Crispy Tacos                              [Fresh Tomato (Mild), [Lettuce, Cheese]]   \nSteak Salad                            [Fresh Tomato Salsa (Mild), [Rice, Cheese, Sou...   \nSteak Salad Bowl                                           [Fresh Tomato Salsa, Lettuce]   \nSteak Soft Tacos                       [Fresh Tomato Salsa (Mild), [Cheese, Sour Cream]]   \nVeggie Bowl                            [Fresh Tomato Salsa (Mild), [Black Beans, Rice...   \nVeggie Burrito                         [Fresh Tomato Salsa (Mild), [Black Beans, Faji...   \nVeggie Crispy Tacos                    [Fresh Tomato Salsa (Mild), [Pinto Beans, Rice...   \nVeggie Salad                           [Roasted Chili Corn Salsa (Medium), [Black Bea...   \nVeggie Salad Bowl                      [Fresh Tomato Salsa, [Fajita Vegetables, Black...   \nVeggie Soft Tacos                      [Fresh Tomato Salsa (Mild), [Black Beans, Rice...   \n\n                                       item_price  \nitem_name                                          \n6 Pack Soft Drink                            6.49  \nBarbacoa Bowl                                8.69  \nBarbacoa Burrito                             8.69  \nBarbacoa Crispy Tacos                        8.99  \nBarbacoa Salad Bowl                          9.39  \nBarbacoa Soft Tacos                          8.99  \nBottled Water                                1.09  \nBowl                                         7.40  \nBurrito                                      7.40  \nCanned Soda                                  1.09  \nCanned Soft Drink                            1.25  \nCarnitas Bowl                                8.99  \nCarnitas Burrito                             8.69  \nCarnitas Crispy Tacos                        8.99  \nCarnitas Salad                               8.99  \nCarnitas Salad Bowl                          9.39  \nCarnitas Soft Tacos                          8.99  \nChicken Bowl                                 8.19  \nChicken Burrito                              8.19  \nChicken Crispy Tacos                         8.49  \nChicken Salad                                8.19  \nChicken Salad Bowl                           8.75  \nChicken Soft Tacos                           8.49  \nChips                                        1.99  \nChips and Fresh Tomato Salsa                 2.29  \nChips and Guacamole                          3.89  \nChips and Mild Fresh Tomato Salsa            3.00  \nChips and Roasted Chili Corn Salsa           2.95  \nChips and Roasted Chili-Corn Salsa           2.39  \nChips and Tomatillo Green Chili Salsa        2.95  \nChips and Tomatillo Red Chili Salsa          2.95  \nChips and Tomatillo-Green Chili Salsa        2.39  \nChips and Tomatillo-Red Chili Salsa          2.39  \nCrispy Tacos                                 7.40  \nIzze                                         3.39  \nNantucket Nectar                             3.39  \nSalad                                        7.40  \nSide of Chips                                1.69  \nSteak Bowl                                   8.69  \nSteak Burrito                                8.69  \nSteak Crispy Tacos                           8.69  \nSteak Salad                                  8.69  \nSteak Salad Bowl                             9.39  \nSteak Soft Tacos                             8.99  \nVeggie Bowl                                  8.49  \nVeggie Burrito                               8.49  \nVeggie Crispy Tacos                          8.49  \nVeggie Salad                                 8.49  \nVeggie Salad Bowl                            8.75  \nVeggie Soft Tacos                            8.49  "
     },
     "execution_count": 81,
     "metadata": {},
     "output_type": "execute_result"
    }
   ],
   "source": [
    "x = chipo.groupby(\"item_name\").min()\n",
    "x"
   ]
  },
  {
   "cell_type": "code",
   "execution_count": 86,
   "metadata": {},
   "outputs": [
    {
     "data": {
      "text/plain": "array(['Chips and Fresh Tomato Salsa',\n       'Chips and Tomatillo-Green Chili Salsa', 'Side of Chips',\n       'Chips and Guacamole', 'Bottled Water',\n       'Chips and Tomatillo Green Chili Salsa', 'Chips',\n       'Chips and Tomatillo Red Chili Salsa',\n       'Chips and Roasted Chili-Corn Salsa',\n       'Chips and Roasted Chili Corn Salsa',\n       'Chips and Tomatillo-Red Chili Salsa',\n       'Chips and Mild Fresh Tomato Salsa'], dtype=object)"
     },
     "execution_count": 86,
     "metadata": {},
     "output_type": "execute_result"
    }
   ],
   "source": [
    "des_isnull = (chipo.choice_description.isnull())\n",
    "precio_unitario = (chipo.mean == min(chipo.item_price))\n",
    "unitario = (chipo.quantity == 1)\n",
    "\n",
    "products2 = chipo.item_name[des_isnull | precio_unitario]\n",
    "products2.unique()"
   ]
  },
  {
   "cell_type": "code",
   "execution_count": 83,
   "metadata": {},
   "outputs": [
    {
     "data": {
      "text/html": "<div>\n<style scoped>\n    .dataframe tbody tr th:only-of-type {\n        vertical-align: middle;\n    }\n\n    .dataframe tbody tr th {\n        vertical-align: top;\n    }\n\n    .dataframe thead th {\n        text-align: right;\n    }\n</style>\n<table border=\"1\" class=\"dataframe\">\n  <thead>\n    <tr style=\"text-align: right;\">\n      <th></th>\n      <th>order_id</th>\n      <th>quantity</th>\n      <th>item_name</th>\n      <th>choice_description</th>\n      <th>item_price</th>\n      <th>mean</th>\n    </tr>\n  </thead>\n  <tbody>\n    <tr>\n      <td>0</td>\n      <td>1</td>\n      <td>1</td>\n      <td>Chips and Fresh Tomato Salsa</td>\n      <td>NaN</td>\n      <td>2.39</td>\n      <td>2.39</td>\n    </tr>\n    <tr>\n      <td>1</td>\n      <td>1</td>\n      <td>1</td>\n      <td>Izze</td>\n      <td>[Clementine]</td>\n      <td>3.39</td>\n      <td>3.39</td>\n    </tr>\n    <tr>\n      <td>2</td>\n      <td>1</td>\n      <td>1</td>\n      <td>Nantucket Nectar</td>\n      <td>[Apple]</td>\n      <td>3.39</td>\n      <td>3.39</td>\n    </tr>\n    <tr>\n      <td>3</td>\n      <td>1</td>\n      <td>1</td>\n      <td>Chips and Tomatillo-Green Chili Salsa</td>\n      <td>NaN</td>\n      <td>2.39</td>\n      <td>2.39</td>\n    </tr>\n    <tr>\n      <td>4</td>\n      <td>2</td>\n      <td>2</td>\n      <td>Chicken Bowl</td>\n      <td>[Tomatillo-Red Chili Salsa (Hot), [Black Beans...</td>\n      <td>16.98</td>\n      <td>8.49</td>\n    </tr>\n    <tr>\n      <td>...</td>\n      <td>...</td>\n      <td>...</td>\n      <td>...</td>\n      <td>...</td>\n      <td>...</td>\n      <td>...</td>\n    </tr>\n    <tr>\n      <td>4617</td>\n      <td>1833</td>\n      <td>1</td>\n      <td>Steak Burrito</td>\n      <td>[Fresh Tomato Salsa, [Rice, Black Beans, Sour ...</td>\n      <td>11.75</td>\n      <td>11.75</td>\n    </tr>\n    <tr>\n      <td>4618</td>\n      <td>1833</td>\n      <td>1</td>\n      <td>Steak Burrito</td>\n      <td>[Fresh Tomato Salsa, [Rice, Sour Cream, Cheese...</td>\n      <td>11.75</td>\n      <td>11.75</td>\n    </tr>\n    <tr>\n      <td>4619</td>\n      <td>1834</td>\n      <td>1</td>\n      <td>Chicken Salad Bowl</td>\n      <td>[Fresh Tomato Salsa, [Fajita Vegetables, Pinto...</td>\n      <td>11.25</td>\n      <td>11.25</td>\n    </tr>\n    <tr>\n      <td>4620</td>\n      <td>1834</td>\n      <td>1</td>\n      <td>Chicken Salad Bowl</td>\n      <td>[Fresh Tomato Salsa, [Fajita Vegetables, Lettu...</td>\n      <td>8.75</td>\n      <td>8.75</td>\n    </tr>\n    <tr>\n      <td>4621</td>\n      <td>1834</td>\n      <td>1</td>\n      <td>Chicken Salad Bowl</td>\n      <td>[Fresh Tomato Salsa, [Fajita Vegetables, Pinto...</td>\n      <td>8.75</td>\n      <td>8.75</td>\n    </tr>\n  </tbody>\n</table>\n<p>4622 rows × 6 columns</p>\n</div>",
      "text/plain": "      order_id  quantity                              item_name  \\\n0            1         1           Chips and Fresh Tomato Salsa   \n1            1         1                                   Izze   \n2            1         1                       Nantucket Nectar   \n3            1         1  Chips and Tomatillo-Green Chili Salsa   \n4            2         2                           Chicken Bowl   \n...        ...       ...                                    ...   \n4617      1833         1                          Steak Burrito   \n4618      1833         1                          Steak Burrito   \n4619      1834         1                     Chicken Salad Bowl   \n4620      1834         1                     Chicken Salad Bowl   \n4621      1834         1                     Chicken Salad Bowl   \n\n                                     choice_description  item_price   mean  \n0                                                   NaN        2.39   2.39  \n1                                          [Clementine]        3.39   3.39  \n2                                               [Apple]        3.39   3.39  \n3                                                   NaN        2.39   2.39  \n4     [Tomatillo-Red Chili Salsa (Hot), [Black Beans...       16.98   8.49  \n...                                                 ...         ...    ...  \n4617  [Fresh Tomato Salsa, [Rice, Black Beans, Sour ...       11.75  11.75  \n4618  [Fresh Tomato Salsa, [Rice, Sour Cream, Cheese...       11.75  11.75  \n4619  [Fresh Tomato Salsa, [Fajita Vegetables, Pinto...       11.25  11.25  \n4620  [Fresh Tomato Salsa, [Fajita Vegetables, Lettu...        8.75   8.75  \n4621  [Fresh Tomato Salsa, [Fajita Vegetables, Pinto...        8.75   8.75  \n\n[4622 rows x 6 columns]"
     },
     "execution_count": 83,
     "metadata": {},
     "output_type": "execute_result"
    }
   ],
   "source": [
    "chipo[\"mean\"] = chipo.item_price / chipo.quantity\n",
    "chipo"
   ]
  },
  {
   "cell_type": "code",
   "execution_count": 90,
   "metadata": {},
   "outputs": [
    {
     "data": {
      "text/plain": "1.09"
     },
     "execution_count": 90,
     "metadata": {},
     "output_type": "execute_result"
    }
   ],
   "source": [
    "min(chipo[\"mean\"].values)"
   ]
  },
  {
   "cell_type": "code",
   "execution_count": 92,
   "metadata": {},
   "outputs": [
    {
     "data": {
      "text/html": "<div>\n<style scoped>\n    .dataframe tbody tr th:only-of-type {\n        vertical-align: middle;\n    }\n\n    .dataframe tbody tr th {\n        vertical-align: top;\n    }\n\n    .dataframe thead th {\n        text-align: right;\n    }\n</style>\n<table border=\"1\" class=\"dataframe\">\n  <thead>\n    <tr style=\"text-align: right;\">\n      <th></th>\n      <th></th>\n      <th>order_id</th>\n      <th>quantity</th>\n      <th>item_price</th>\n      <th>mean</th>\n    </tr>\n    <tr>\n      <th>item_name</th>\n      <th>choice_description</th>\n      <th></th>\n      <th></th>\n      <th></th>\n      <th></th>\n    </tr>\n  </thead>\n  <tbody>\n    <tr>\n      <td rowspan=\"5\" valign=\"top\">6 Pack Soft Drink</td>\n      <td>[Coke]</td>\n      <td>154</td>\n      <td>1</td>\n      <td>6.49</td>\n      <td>6.49</td>\n    </tr>\n    <tr>\n      <td>[Diet Coke]</td>\n      <td>148</td>\n      <td>1</td>\n      <td>6.49</td>\n      <td>6.49</td>\n    </tr>\n    <tr>\n      <td>[Lemonade]</td>\n      <td>1253</td>\n      <td>1</td>\n      <td>6.49</td>\n      <td>6.49</td>\n    </tr>\n    <tr>\n      <td>[Nestea]</td>\n      <td>298</td>\n      <td>1</td>\n      <td>6.49</td>\n      <td>6.49</td>\n    </tr>\n    <tr>\n      <td>[Sprite]</td>\n      <td>129</td>\n      <td>1</td>\n      <td>6.49</td>\n      <td>6.49</td>\n    </tr>\n    <tr>\n      <td>...</td>\n      <td>...</td>\n      <td>...</td>\n      <td>...</td>\n      <td>...</td>\n      <td>...</td>\n    </tr>\n    <tr>\n      <td rowspan=\"5\" valign=\"top\">Veggie Soft Tacos</td>\n      <td>[Fresh Tomato Salsa, [Black Beans, Cheese, Sour Cream, Lettuce]]</td>\n      <td>322</td>\n      <td>1</td>\n      <td>8.75</td>\n      <td>8.75</td>\n    </tr>\n    <tr>\n      <td>[Fresh Tomato Salsa, [Fajita Vegetables, Rice, Black Beans, Pinto Beans, Cheese, Sour Cream, Guacamole, Lettuce]]</td>\n      <td>688</td>\n      <td>1</td>\n      <td>11.25</td>\n      <td>11.25</td>\n    </tr>\n    <tr>\n      <td>[Roasted Chili Corn Salsa (Medium), [Black Beans, Fajita Veggies, Cheese, Sour Cream, Lettuce]]</td>\n      <td>1132</td>\n      <td>1</td>\n      <td>8.49</td>\n      <td>8.49</td>\n    </tr>\n    <tr>\n      <td>[Roasted Chili Corn Salsa, [Fajita Vegetables, Black Beans, Pinto Beans, Cheese, Lettuce]]</td>\n      <td>948</td>\n      <td>1</td>\n      <td>8.75</td>\n      <td>8.75</td>\n    </tr>\n    <tr>\n      <td>[Tomatillo Red Chili Salsa, [Fajita Vegetables, Rice, Black Beans, Cheese, Guacamole, Lettuce]]</td>\n      <td>304</td>\n      <td>1</td>\n      <td>11.25</td>\n      <td>11.25</td>\n    </tr>\n  </tbody>\n</table>\n<p>1859 rows × 4 columns</p>\n</div>",
      "text/plain": "                                                                      order_id  \\\nitem_name         choice_description                                             \n6 Pack Soft Drink [Coke]                                                   154   \n                  [Diet Coke]                                              148   \n                  [Lemonade]                                              1253   \n                  [Nestea]                                                 298   \n                  [Sprite]                                                 129   \n...                                                                        ...   \nVeggie Soft Tacos [Fresh Tomato Salsa, [Black Beans, Cheese, Sour...       322   \n                  [Fresh Tomato Salsa, [Fajita Vegetables, Rice, ...       688   \n                  [Roasted Chili Corn Salsa (Medium), [Black Bean...      1132   \n                  [Roasted Chili Corn Salsa, [Fajita Vegetables, ...       948   \n                  [Tomatillo Red Chili Salsa, [Fajita Vegetables,...       304   \n\n                                                                      quantity  \\\nitem_name         choice_description                                             \n6 Pack Soft Drink [Coke]                                                     1   \n                  [Diet Coke]                                                1   \n                  [Lemonade]                                                 1   \n                  [Nestea]                                                   1   \n                  [Sprite]                                                   1   \n...                                                                        ...   \nVeggie Soft Tacos [Fresh Tomato Salsa, [Black Beans, Cheese, Sour...         1   \n                  [Fresh Tomato Salsa, [Fajita Vegetables, Rice, ...         1   \n                  [Roasted Chili Corn Salsa (Medium), [Black Bean...         1   \n                  [Roasted Chili Corn Salsa, [Fajita Vegetables, ...         1   \n                  [Tomatillo Red Chili Salsa, [Fajita Vegetables,...         1   \n\n                                                                      item_price  \\\nitem_name         choice_description                                               \n6 Pack Soft Drink [Coke]                                                    6.49   \n                  [Diet Coke]                                               6.49   \n                  [Lemonade]                                                6.49   \n                  [Nestea]                                                  6.49   \n                  [Sprite]                                                  6.49   \n...                                                                          ...   \nVeggie Soft Tacos [Fresh Tomato Salsa, [Black Beans, Cheese, Sour...        8.75   \n                  [Fresh Tomato Salsa, [Fajita Vegetables, Rice, ...       11.25   \n                  [Roasted Chili Corn Salsa (Medium), [Black Bean...        8.49   \n                  [Roasted Chili Corn Salsa, [Fajita Vegetables, ...        8.75   \n                  [Tomatillo Red Chili Salsa, [Fajita Vegetables,...       11.25   \n\n                                                                       mean  \nitem_name         choice_description                                         \n6 Pack Soft Drink [Coke]                                               6.49  \n                  [Diet Coke]                                          6.49  \n                  [Lemonade]                                           6.49  \n                  [Nestea]                                             6.49  \n                  [Sprite]                                             6.49  \n...                                                                     ...  \nVeggie Soft Tacos [Fresh Tomato Salsa, [Black Beans, Cheese, Sour...   8.75  \n                  [Fresh Tomato Salsa, [Fajita Vegetables, Rice, ...  11.25  \n                  [Roasted Chili Corn Salsa (Medium), [Black Bean...   8.49  \n                  [Roasted Chili Corn Salsa, [Fajita Vegetables, ...   8.75  \n                  [Tomatillo Red Chili Salsa, [Fajita Vegetables,...  11.25  \n\n[1859 rows x 4 columns]"
     },
     "execution_count": 92,
     "metadata": {},
     "output_type": "execute_result"
    }
   ],
   "source": [
    "j = chipo.groupby([\"item_name\", \"choice_description\"]).min()\n",
    "j"
   ]
  },
  {
   "cell_type": "code",
   "execution_count": 94,
   "metadata": {},
   "outputs": [
    {
     "data": {
      "text/plain": "<bound method DataFrame.mean of                                                                       order_id  \\\nitem_name         choice_description                                             \n6 Pack Soft Drink [Coke]                                                   154   \n                  [Diet Coke]                                              148   \n                  [Lemonade]                                              1253   \n                  [Nestea]                                                 298   \n                  [Sprite]                                                 129   \n...                                                                        ...   \nVeggie Soft Tacos [Fresh Tomato Salsa, [Black Beans, Cheese, Sour...       322   \n                  [Fresh Tomato Salsa, [Fajita Vegetables, Rice, ...       688   \n                  [Roasted Chili Corn Salsa (Medium), [Black Bean...      1132   \n                  [Roasted Chili Corn Salsa, [Fajita Vegetables, ...       948   \n                  [Tomatillo Red Chili Salsa, [Fajita Vegetables,...       304   \n\n                                                                      quantity  \\\nitem_name         choice_description                                             \n6 Pack Soft Drink [Coke]                                                     1   \n                  [Diet Coke]                                                1   \n                  [Lemonade]                                                 1   \n                  [Nestea]                                                   1   \n                  [Sprite]                                                   1   \n...                                                                        ...   \nVeggie Soft Tacos [Fresh Tomato Salsa, [Black Beans, Cheese, Sour...         1   \n                  [Fresh Tomato Salsa, [Fajita Vegetables, Rice, ...         1   \n                  [Roasted Chili Corn Salsa (Medium), [Black Bean...         1   \n                  [Roasted Chili Corn Salsa, [Fajita Vegetables, ...         1   \n                  [Tomatillo Red Chili Salsa, [Fajita Vegetables,...         1   \n\n                                                                      item_price  \\\nitem_name         choice_description                                               \n6 Pack Soft Drink [Coke]                                                    6.49   \n                  [Diet Coke]                                               6.49   \n                  [Lemonade]                                                6.49   \n                  [Nestea]                                                  6.49   \n                  [Sprite]                                                  6.49   \n...                                                                          ...   \nVeggie Soft Tacos [Fresh Tomato Salsa, [Black Beans, Cheese, Sour...        8.75   \n                  [Fresh Tomato Salsa, [Fajita Vegetables, Rice, ...       11.25   \n                  [Roasted Chili Corn Salsa (Medium), [Black Bean...        8.49   \n                  [Roasted Chili Corn Salsa, [Fajita Vegetables, ...        8.75   \n                  [Tomatillo Red Chili Salsa, [Fajita Vegetables,...       11.25   \n\n                                                                       mean  \nitem_name         choice_description                                         \n6 Pack Soft Drink [Coke]                                               6.49  \n                  [Diet Coke]                                          6.49  \n                  [Lemonade]                                           6.49  \n                  [Nestea]                                             6.49  \n                  [Sprite]                                             6.49  \n...                                                                     ...  \nVeggie Soft Tacos [Fresh Tomato Salsa, [Black Beans, Cheese, Sour...   8.75  \n                  [Fresh Tomato Salsa, [Fajita Vegetables, Rice, ...  11.25  \n                  [Roasted Chili Corn Salsa (Medium), [Black Bean...   8.49  \n                  [Roasted Chili Corn Salsa, [Fajita Vegetables, ...   8.75  \n                  [Tomatillo Red Chili Salsa, [Fajita Vegetables,...  11.25  \n\n[1859 rows x 4 columns]>"
     },
     "execution_count": 94,
     "metadata": {},
     "output_type": "execute_result"
    }
   ],
   "source": [
    "j.mean"
   ]
  },
  {
   "cell_type": "markdown",
   "metadata": {},
   "source": [
    "### Step 6. Sort by the name of the item"
   ]
  },
  {
   "cell_type": "code",
   "execution_count": 5,
   "metadata": {},
   "outputs": [
    {
     "data": {
      "text/html": "<div>\n<style scoped>\n    .dataframe tbody tr th:only-of-type {\n        vertical-align: middle;\n    }\n\n    .dataframe tbody tr th {\n        vertical-align: top;\n    }\n\n    .dataframe thead th {\n        text-align: right;\n    }\n</style>\n<table border=\"1\" class=\"dataframe\">\n  <thead>\n    <tr style=\"text-align: right;\">\n      <th></th>\n      <th>order_id</th>\n      <th>quantity</th>\n      <th>item_name</th>\n      <th>choice_description</th>\n      <th>item_price</th>\n    </tr>\n  </thead>\n  <tbody>\n    <tr>\n      <td>0</td>\n      <td>1</td>\n      <td>1</td>\n      <td>Chips and Fresh Tomato Salsa</td>\n      <td>NaN</td>\n      <td>$2.39</td>\n    </tr>\n    <tr>\n      <td>1</td>\n      <td>1</td>\n      <td>1</td>\n      <td>Izze</td>\n      <td>[Clementine]</td>\n      <td>$3.39</td>\n    </tr>\n    <tr>\n      <td>2</td>\n      <td>1</td>\n      <td>1</td>\n      <td>Nantucket Nectar</td>\n      <td>[Apple]</td>\n      <td>$3.39</td>\n    </tr>\n    <tr>\n      <td>3</td>\n      <td>1</td>\n      <td>1</td>\n      <td>Chips and Tomatillo-Green Chili Salsa</td>\n      <td>NaN</td>\n      <td>$2.39</td>\n    </tr>\n    <tr>\n      <td>4</td>\n      <td>2</td>\n      <td>2</td>\n      <td>Chicken Bowl</td>\n      <td>[Tomatillo-Red Chili Salsa (Hot), [Black Beans...</td>\n      <td>$16.98</td>\n    </tr>\n    <tr>\n      <td>...</td>\n      <td>...</td>\n      <td>...</td>\n      <td>...</td>\n      <td>...</td>\n      <td>...</td>\n    </tr>\n    <tr>\n      <td>4617</td>\n      <td>1833</td>\n      <td>1</td>\n      <td>Steak Burrito</td>\n      <td>[Fresh Tomato Salsa, [Rice, Black Beans, Sour ...</td>\n      <td>$11.75</td>\n    </tr>\n    <tr>\n      <td>4618</td>\n      <td>1833</td>\n      <td>1</td>\n      <td>Steak Burrito</td>\n      <td>[Fresh Tomato Salsa, [Rice, Sour Cream, Cheese...</td>\n      <td>$11.75</td>\n    </tr>\n    <tr>\n      <td>4619</td>\n      <td>1834</td>\n      <td>1</td>\n      <td>Chicken Salad Bowl</td>\n      <td>[Fresh Tomato Salsa, [Fajita Vegetables, Pinto...</td>\n      <td>$11.25</td>\n    </tr>\n    <tr>\n      <td>4620</td>\n      <td>1834</td>\n      <td>1</td>\n      <td>Chicken Salad Bowl</td>\n      <td>[Fresh Tomato Salsa, [Fajita Vegetables, Lettu...</td>\n      <td>$8.75</td>\n    </tr>\n    <tr>\n      <td>4621</td>\n      <td>1834</td>\n      <td>1</td>\n      <td>Chicken Salad Bowl</td>\n      <td>[Fresh Tomato Salsa, [Fajita Vegetables, Pinto...</td>\n      <td>$8.75</td>\n    </tr>\n  </tbody>\n</table>\n<p>4622 rows × 5 columns</p>\n</div>",
      "text/plain": "      order_id  quantity                              item_name  \\\n0            1         1           Chips and Fresh Tomato Salsa   \n1            1         1                                   Izze   \n2            1         1                       Nantucket Nectar   \n3            1         1  Chips and Tomatillo-Green Chili Salsa   \n4            2         2                           Chicken Bowl   \n...        ...       ...                                    ...   \n4617      1833         1                          Steak Burrito   \n4618      1833         1                          Steak Burrito   \n4619      1834         1                     Chicken Salad Bowl   \n4620      1834         1                     Chicken Salad Bowl   \n4621      1834         1                     Chicken Salad Bowl   \n\n                                     choice_description item_price  \n0                                                   NaN     $2.39   \n1                                          [Clementine]     $3.39   \n2                                               [Apple]     $3.39   \n3                                                   NaN     $2.39   \n4     [Tomatillo-Red Chili Salsa (Hot), [Black Beans...    $16.98   \n...                                                 ...        ...  \n4617  [Fresh Tomato Salsa, [Rice, Black Beans, Sour ...    $11.75   \n4618  [Fresh Tomato Salsa, [Rice, Sour Cream, Cheese...    $11.75   \n4619  [Fresh Tomato Salsa, [Fajita Vegetables, Pinto...    $11.25   \n4620  [Fresh Tomato Salsa, [Fajita Vegetables, Lettu...     $8.75   \n4621  [Fresh Tomato Salsa, [Fajita Vegetables, Pinto...     $8.75   \n\n[4622 rows x 5 columns]"
     },
     "execution_count": 5,
     "metadata": {},
     "output_type": "execute_result"
    }
   ],
   "source": [
    "chipo"
   ]
  },
  {
   "cell_type": "code",
   "execution_count": null,
   "metadata": {},
   "outputs": [],
   "source": [
    "chipo.item_name.sort_values()\n",
    "\n",
    "# OR\n",
    "\n",
    "chipo.sort_values(by=\"item_name\")"
   ]
  },
  {
   "cell_type": "markdown",
   "metadata": {},
   "source": [
    "### Step 7. What was the quantity of the most expensive item ordered?"
   ]
  },
  {
   "cell_type": "code",
   "execution_count": 11,
   "metadata": {},
   "outputs": [
    {
     "data": {
      "text/html": "<div>\n<style scoped>\n    .dataframe tbody tr th:only-of-type {\n        vertical-align: middle;\n    }\n\n    .dataframe tbody tr th {\n        vertical-align: top;\n    }\n\n    .dataframe thead th {\n        text-align: right;\n    }\n</style>\n<table border=\"1\" class=\"dataframe\">\n  <thead>\n    <tr style=\"text-align: right;\">\n      <th></th>\n      <th>quantity</th>\n      <th>item_price</th>\n    </tr>\n    <tr>\n      <th>order_id</th>\n      <th></th>\n      <th></th>\n    </tr>\n  </thead>\n  <tbody>\n    <tr>\n      <td>926</td>\n      <td>23</td>\n      <td>205.25</td>\n    </tr>\n  </tbody>\n</table>\n</div>",
      "text/plain": "          quantity  item_price\norder_id                      \n926             23      205.25"
     },
     "execution_count": 11,
     "metadata": {},
     "output_type": "execute_result"
    }
   ],
   "source": [
    "chipo_ = chipo.groupby(\"order_id\").sum()\n",
    "chipo_.sort_values(by=\"item_price\", ascending=False).head(1)"
   ]
  },
  {
   "cell_type": "code",
   "execution_count": 13,
   "metadata": {},
   "outputs": [
    {
     "data": {
      "text/html": "<div>\n<style scoped>\n    .dataframe tbody tr th:only-of-type {\n        vertical-align: middle;\n    }\n\n    .dataframe tbody tr th {\n        vertical-align: top;\n    }\n\n    .dataframe thead th {\n        text-align: right;\n    }\n</style>\n<table border=\"1\" class=\"dataframe\">\n  <thead>\n    <tr style=\"text-align: right;\">\n      <th></th>\n      <th>order_id</th>\n      <th>quantity</th>\n      <th>item_name</th>\n      <th>choice_description</th>\n      <th>item_price</th>\n    </tr>\n  </thead>\n  <tbody>\n    <tr>\n      <td>3598</td>\n      <td>1443</td>\n      <td>15</td>\n      <td>Chips and Fresh Tomato Salsa</td>\n      <td>NaN</td>\n      <td>44.25</td>\n    </tr>\n  </tbody>\n</table>\n</div>",
      "text/plain": "      order_id  quantity                     item_name choice_description  \\\n3598      1443        15  Chips and Fresh Tomato Salsa                NaN   \n\n      item_price  \n3598       44.25  "
     },
     "execution_count": 13,
     "metadata": {},
     "output_type": "execute_result"
    }
   ],
   "source": [
    "chipo.sort_values(by=\"item_price\", ascending=False).head(1)"
   ]
  },
  {
   "cell_type": "markdown",
   "metadata": {},
   "source": [
    "### Step 8. How many times was a Veggie Salad Bowl ordered?"
   ]
  },
  {
   "cell_type": "code",
   "execution_count": 9,
   "metadata": {},
   "outputs": [
    {
     "data": {
      "text/plain": "18"
     },
     "execution_count": 9,
     "metadata": {},
     "output_type": "execute_result"
    }
   ],
   "source": [
    "chipo_salad = chipo[chipo.item_name == \"Veggie Salad Bowl\"]\n",
    "\n",
    "len(chipo_salad)"
   ]
  },
  {
   "cell_type": "code",
   "execution_count": 26,
   "metadata": {},
   "outputs": [
    {
     "data": {
      "text/html": "<div>\n<style scoped>\n    .dataframe tbody tr th:only-of-type {\n        vertical-align: middle;\n    }\n\n    .dataframe tbody tr th {\n        vertical-align: top;\n    }\n\n    .dataframe thead th {\n        text-align: right;\n    }\n</style>\n<table border=\"1\" class=\"dataframe\">\n  <thead>\n    <tr style=\"text-align: right;\">\n      <th></th>\n      <th>order_id</th>\n      <th>quantity</th>\n      <th>item_name</th>\n      <th>choice_description</th>\n      <th>item_price</th>\n    </tr>\n  </thead>\n  <tbody>\n    <tr>\n      <td>0</td>\n      <td>1</td>\n      <td>1</td>\n      <td>Chips and Fresh Tomato Salsa</td>\n      <td>NaN</td>\n      <td>2.39</td>\n    </tr>\n    <tr>\n      <td>1</td>\n      <td>1</td>\n      <td>1</td>\n      <td>Izze</td>\n      <td>[Clementine]</td>\n      <td>3.39</td>\n    </tr>\n    <tr>\n      <td>2</td>\n      <td>1</td>\n      <td>1</td>\n      <td>Nantucket Nectar</td>\n      <td>[Apple]</td>\n      <td>3.39</td>\n    </tr>\n    <tr>\n      <td>3</td>\n      <td>1</td>\n      <td>1</td>\n      <td>Chips and Tomatillo-Green Chili Salsa</td>\n      <td>NaN</td>\n      <td>2.39</td>\n    </tr>\n    <tr>\n      <td>4</td>\n      <td>2</td>\n      <td>2</td>\n      <td>Chicken Bowl</td>\n      <td>[Tomatillo-Red Chili Salsa (Hot), [Black Beans...</td>\n      <td>16.98</td>\n    </tr>\n    <tr>\n      <td>...</td>\n      <td>...</td>\n      <td>...</td>\n      <td>...</td>\n      <td>...</td>\n      <td>...</td>\n    </tr>\n    <tr>\n      <td>4617</td>\n      <td>1833</td>\n      <td>1</td>\n      <td>Steak Burrito</td>\n      <td>[Fresh Tomato Salsa, [Rice, Black Beans, Sour ...</td>\n      <td>11.75</td>\n    </tr>\n    <tr>\n      <td>4618</td>\n      <td>1833</td>\n      <td>1</td>\n      <td>Steak Burrito</td>\n      <td>[Fresh Tomato Salsa, [Rice, Sour Cream, Cheese...</td>\n      <td>11.75</td>\n    </tr>\n    <tr>\n      <td>4619</td>\n      <td>1834</td>\n      <td>1</td>\n      <td>Chicken Salad Bowl</td>\n      <td>[Fresh Tomato Salsa, [Fajita Vegetables, Pinto...</td>\n      <td>11.25</td>\n    </tr>\n    <tr>\n      <td>4620</td>\n      <td>1834</td>\n      <td>1</td>\n      <td>Chicken Salad Bowl</td>\n      <td>[Fresh Tomato Salsa, [Fajita Vegetables, Lettu...</td>\n      <td>8.75</td>\n    </tr>\n    <tr>\n      <td>4621</td>\n      <td>1834</td>\n      <td>1</td>\n      <td>Chicken Salad Bowl</td>\n      <td>[Fresh Tomato Salsa, [Fajita Vegetables, Pinto...</td>\n      <td>8.75</td>\n    </tr>\n  </tbody>\n</table>\n<p>4622 rows × 5 columns</p>\n</div>",
      "text/plain": "      order_id  quantity                              item_name  \\\n0            1         1           Chips and Fresh Tomato Salsa   \n1            1         1                                   Izze   \n2            1         1                       Nantucket Nectar   \n3            1         1  Chips and Tomatillo-Green Chili Salsa   \n4            2         2                           Chicken Bowl   \n...        ...       ...                                    ...   \n4617      1833         1                          Steak Burrito   \n4618      1833         1                          Steak Burrito   \n4619      1834         1                     Chicken Salad Bowl   \n4620      1834         1                     Chicken Salad Bowl   \n4621      1834         1                     Chicken Salad Bowl   \n\n                                     choice_description  item_price  \n0                                                   NaN        2.39  \n1                                          [Clementine]        3.39  \n2                                               [Apple]        3.39  \n3                                                   NaN        2.39  \n4     [Tomatillo-Red Chili Salsa (Hot), [Black Beans...       16.98  \n...                                                 ...         ...  \n4617  [Fresh Tomato Salsa, [Rice, Black Beans, Sour ...       11.75  \n4618  [Fresh Tomato Salsa, [Rice, Sour Cream, Cheese...       11.75  \n4619  [Fresh Tomato Salsa, [Fajita Vegetables, Pinto...       11.25  \n4620  [Fresh Tomato Salsa, [Fajita Vegetables, Lettu...        8.75  \n4621  [Fresh Tomato Salsa, [Fajita Vegetables, Pinto...        8.75  \n\n[4622 rows x 5 columns]"
     },
     "execution_count": 26,
     "metadata": {},
     "output_type": "execute_result"
    }
   ],
   "source": [
    "chipo"
   ]
  },
  {
   "cell_type": "code",
   "execution_count": 19,
   "metadata": {},
   "outputs": [
    {
     "data": {
      "text/html": "<div>\n<style scoped>\n    .dataframe tbody tr th:only-of-type {\n        vertical-align: middle;\n    }\n\n    .dataframe tbody tr th {\n        vertical-align: top;\n    }\n\n    .dataframe thead th {\n        text-align: right;\n    }\n</style>\n<table border=\"1\" class=\"dataframe\">\n  <thead>\n    <tr style=\"text-align: right;\">\n      <th></th>\n      <th>order_id</th>\n      <th>quantity</th>\n      <th>item_price</th>\n    </tr>\n    <tr>\n      <th>item_name</th>\n      <th></th>\n      <th></th>\n      <th></th>\n    </tr>\n  </thead>\n  <tbody>\n    <tr>\n      <td>Veggie Salad Bowl</td>\n      <td>17303.0</td>\n      <td>18.0</td>\n      <td>182.5</td>\n    </tr>\n  </tbody>\n</table>\n</div>",
      "text/plain": "                   order_id  quantity  item_price\nitem_name                                        \nVeggie Salad Bowl   17303.0      18.0       182.5"
     },
     "execution_count": 19,
     "metadata": {},
     "output_type": "execute_result"
    }
   ],
   "source": [
    "chipo.where(chipo.item_name == \"Veggie Salad Bowl\").groupby(\"item_name\").sum()"
   ]
  },
  {
   "cell_type": "code",
   "execution_count": 25,
   "metadata": {},
   "outputs": [
    {
     "data": {
      "text/plain": "18"
     },
     "execution_count": 25,
     "metadata": {},
     "output_type": "execute_result"
    }
   ],
   "source": [
    "chipo.item_name.value_counts()[\"Veggie Salad Bowl\"]"
   ]
  },
  {
   "cell_type": "code",
   "execution_count": null,
   "metadata": {},
   "outputs": [],
   "source": []
  },
  {
   "cell_type": "code",
   "execution_count": 16,
   "metadata": {},
   "outputs": [
    {
     "data": {
      "text/html": "<div>\n<style scoped>\n    .dataframe tbody tr th:only-of-type {\n        vertical-align: middle;\n    }\n\n    .dataframe tbody tr th {\n        vertical-align: top;\n    }\n\n    .dataframe thead th {\n        text-align: right;\n    }\n</style>\n<table border=\"1\" class=\"dataframe\">\n  <thead>\n    <tr style=\"text-align: right;\">\n      <th></th>\n      <th>order_id</th>\n      <th>quantity</th>\n      <th>item_price</th>\n    </tr>\n    <tr>\n      <th>item_name</th>\n      <th></th>\n      <th></th>\n      <th></th>\n    </tr>\n  </thead>\n  <tbody>\n    <tr>\n      <td>Chicken Bowl</td>\n      <td>713926</td>\n      <td>761</td>\n      <td>7342.73</td>\n    </tr>\n    <tr>\n      <td>Chicken Burrito</td>\n      <td>497303</td>\n      <td>591</td>\n      <td>5575.82</td>\n    </tr>\n    <tr>\n      <td>Chips and Guacamole</td>\n      <td>449959</td>\n      <td>506</td>\n      <td>2201.04</td>\n    </tr>\n    <tr>\n      <td>Steak Burrito</td>\n      <td>328437</td>\n      <td>386</td>\n      <td>3851.43</td>\n    </tr>\n    <tr>\n      <td>Canned Soft Drink</td>\n      <td>304753</td>\n      <td>351</td>\n      <td>438.75</td>\n    </tr>\n    <tr>\n      <td>Chips</td>\n      <td>208004</td>\n      <td>230</td>\n      <td>494.34</td>\n    </tr>\n    <tr>\n      <td>Steak Bowl</td>\n      <td>193752</td>\n      <td>221</td>\n      <td>2260.19</td>\n    </tr>\n    <tr>\n      <td>Bottled Water</td>\n      <td>175944</td>\n      <td>211</td>\n      <td>302.56</td>\n    </tr>\n    <tr>\n      <td>Chips and Fresh Tomato Salsa</td>\n      <td>100419</td>\n      <td>130</td>\n      <td>361.36</td>\n    </tr>\n    <tr>\n      <td>Canned Soda</td>\n      <td>76396</td>\n      <td>126</td>\n      <td>137.34</td>\n    </tr>\n    <tr>\n      <td>Chicken Salad Bowl</td>\n      <td>117104</td>\n      <td>123</td>\n      <td>1228.75</td>\n    </tr>\n    <tr>\n      <td>Chicken Soft Tacos</td>\n      <td>98395</td>\n      <td>120</td>\n      <td>1108.09</td>\n    </tr>\n    <tr>\n      <td>Side of Chips</td>\n      <td>84769</td>\n      <td>110</td>\n      <td>185.90</td>\n    </tr>\n    <tr>\n      <td>Veggie Burrito</td>\n      <td>80962</td>\n      <td>97</td>\n      <td>934.77</td>\n    </tr>\n    <tr>\n      <td>Barbacoa Burrito</td>\n      <td>74718</td>\n      <td>91</td>\n      <td>894.75</td>\n    </tr>\n    <tr>\n      <td>Veggie Bowl</td>\n      <td>72270</td>\n      <td>87</td>\n      <td>867.99</td>\n    </tr>\n    <tr>\n      <td>Carnitas Bowl</td>\n      <td>62742</td>\n      <td>71</td>\n      <td>736.71</td>\n    </tr>\n    <tr>\n      <td>Barbacoa Bowl</td>\n      <td>53972</td>\n      <td>66</td>\n      <td>672.36</td>\n    </tr>\n    <tr>\n      <td>Carnitas Burrito</td>\n      <td>51652</td>\n      <td>60</td>\n      <td>597.83</td>\n    </tr>\n    <tr>\n      <td>Steak Soft Tacos</td>\n      <td>50177</td>\n      <td>56</td>\n      <td>536.05</td>\n    </tr>\n    <tr>\n      <td>6 Pack Soft Drink</td>\n      <td>52322</td>\n      <td>55</td>\n      <td>356.95</td>\n    </tr>\n    <tr>\n      <td>Chips and Tomatillo Red Chili Salsa</td>\n      <td>45556</td>\n      <td>50</td>\n      <td>147.50</td>\n    </tr>\n    <tr>\n      <td>Chicken Crispy Tacos</td>\n      <td>47382</td>\n      <td>50</td>\n      <td>472.13</td>\n    </tr>\n    <tr>\n      <td>Chips and Tomatillo Green Chili Salsa</td>\n      <td>41170</td>\n      <td>45</td>\n      <td>132.75</td>\n    </tr>\n    <tr>\n      <td>Carnitas Soft Tacos</td>\n      <td>37673</td>\n      <td>40</td>\n      <td>375.94</td>\n    </tr>\n    <tr>\n      <td>Steak Crispy Tacos</td>\n      <td>35818</td>\n      <td>36</td>\n      <td>357.34</td>\n    </tr>\n    <tr>\n      <td>Chips and Tomatillo-Green Chili Salsa</td>\n      <td>21826</td>\n      <td>33</td>\n      <td>78.87</td>\n    </tr>\n    <tr>\n      <td>Steak Salad Bowl</td>\n      <td>29590</td>\n      <td>31</td>\n      <td>343.59</td>\n    </tr>\n    <tr>\n      <td>Nantucket Nectar</td>\n      <td>21814</td>\n      <td>29</td>\n      <td>98.31</td>\n    </tr>\n    <tr>\n      <td>Chips and Tomatillo-Red Chili Salsa</td>\n      <td>18344</td>\n      <td>25</td>\n      <td>59.75</td>\n    </tr>\n    <tr>\n      <td>Barbacoa Soft Tacos</td>\n      <td>18725</td>\n      <td>25</td>\n      <td>250.46</td>\n    </tr>\n    <tr>\n      <td>Chips and Roasted Chili Corn Salsa</td>\n      <td>14999</td>\n      <td>23</td>\n      <td>67.85</td>\n    </tr>\n    <tr>\n      <td>Izze</td>\n      <td>10587</td>\n      <td>20</td>\n      <td>67.80</td>\n    </tr>\n    <tr>\n      <td>Veggie Salad Bowl</td>\n      <td>17303</td>\n      <td>18</td>\n      <td>182.50</td>\n    </tr>\n    <tr>\n      <td>Chips and Roasted Chili-Corn Salsa</td>\n      <td>17462</td>\n      <td>18</td>\n      <td>43.02</td>\n    </tr>\n    <tr>\n      <td>Barbacoa Crispy Tacos</td>\n      <td>5613</td>\n      <td>12</td>\n      <td>120.21</td>\n    </tr>\n    <tr>\n      <td>Barbacoa Salad Bowl</td>\n      <td>9708</td>\n      <td>10</td>\n      <td>106.40</td>\n    </tr>\n    <tr>\n      <td>Chicken Salad</td>\n      <td>10465</td>\n      <td>9</td>\n      <td>81.09</td>\n    </tr>\n    <tr>\n      <td>Carnitas Crispy Tacos</td>\n      <td>5868</td>\n      <td>8</td>\n      <td>77.96</td>\n    </tr>\n    <tr>\n      <td>Veggie Soft Tacos</td>\n      <td>5520</td>\n      <td>8</td>\n      <td>73.96</td>\n    </tr>\n    <tr>\n      <td>Burrito</td>\n      <td>1550</td>\n      <td>6</td>\n      <td>44.40</td>\n    </tr>\n    <tr>\n      <td>Veggie Salad</td>\n      <td>7265</td>\n      <td>6</td>\n      <td>50.94</td>\n    </tr>\n    <tr>\n      <td>Carnitas Salad Bowl</td>\n      <td>6693</td>\n      <td>6</td>\n      <td>66.34</td>\n    </tr>\n    <tr>\n      <td>Bowl</td>\n      <td>472</td>\n      <td>4</td>\n      <td>29.60</td>\n    </tr>\n    <tr>\n      <td>Steak Salad</td>\n      <td>2362</td>\n      <td>4</td>\n      <td>35.66</td>\n    </tr>\n    <tr>\n      <td>Salad</td>\n      <td>1150</td>\n      <td>2</td>\n      <td>14.80</td>\n    </tr>\n    <tr>\n      <td>Crispy Tacos</td>\n      <td>434</td>\n      <td>2</td>\n      <td>14.80</td>\n    </tr>\n    <tr>\n      <td>Chips and Mild Fresh Tomato Salsa</td>\n      <td>279</td>\n      <td>1</td>\n      <td>3.00</td>\n    </tr>\n    <tr>\n      <td>Carnitas Salad</td>\n      <td>1500</td>\n      <td>1</td>\n      <td>8.99</td>\n    </tr>\n    <tr>\n      <td>Veggie Crispy Tacos</td>\n      <td>668</td>\n      <td>1</td>\n      <td>8.49</td>\n    </tr>\n  </tbody>\n</table>\n</div>",
      "text/plain": "                                       order_id  quantity  item_price\nitem_name                                                            \nChicken Bowl                             713926       761     7342.73\nChicken Burrito                          497303       591     5575.82\nChips and Guacamole                      449959       506     2201.04\nSteak Burrito                            328437       386     3851.43\nCanned Soft Drink                        304753       351      438.75\nChips                                    208004       230      494.34\nSteak Bowl                               193752       221     2260.19\nBottled Water                            175944       211      302.56\nChips and Fresh Tomato Salsa             100419       130      361.36\nCanned Soda                               76396       126      137.34\nChicken Salad Bowl                       117104       123     1228.75\nChicken Soft Tacos                        98395       120     1108.09\nSide of Chips                             84769       110      185.90\nVeggie Burrito                            80962        97      934.77\nBarbacoa Burrito                          74718        91      894.75\nVeggie Bowl                               72270        87      867.99\nCarnitas Bowl                             62742        71      736.71\nBarbacoa Bowl                             53972        66      672.36\nCarnitas Burrito                          51652        60      597.83\nSteak Soft Tacos                          50177        56      536.05\n6 Pack Soft Drink                         52322        55      356.95\nChips and Tomatillo Red Chili Salsa       45556        50      147.50\nChicken Crispy Tacos                      47382        50      472.13\nChips and Tomatillo Green Chili Salsa     41170        45      132.75\nCarnitas Soft Tacos                       37673        40      375.94\nSteak Crispy Tacos                        35818        36      357.34\nChips and Tomatillo-Green Chili Salsa     21826        33       78.87\nSteak Salad Bowl                          29590        31      343.59\nNantucket Nectar                          21814        29       98.31\nChips and Tomatillo-Red Chili Salsa       18344        25       59.75\nBarbacoa Soft Tacos                       18725        25      250.46\nChips and Roasted Chili Corn Salsa        14999        23       67.85\nIzze                                      10587        20       67.80\nVeggie Salad Bowl                         17303        18      182.50\nChips and Roasted Chili-Corn Salsa        17462        18       43.02\nBarbacoa Crispy Tacos                      5613        12      120.21\nBarbacoa Salad Bowl                        9708        10      106.40\nChicken Salad                             10465         9       81.09\nCarnitas Crispy Tacos                      5868         8       77.96\nVeggie Soft Tacos                          5520         8       73.96\nBurrito                                    1550         6       44.40\nVeggie Salad                               7265         6       50.94\nCarnitas Salad Bowl                        6693         6       66.34\nBowl                                        472         4       29.60\nSteak Salad                                2362         4       35.66\nSalad                                      1150         2       14.80\nCrispy Tacos                                434         2       14.80\nChips and Mild Fresh Tomato Salsa           279         1        3.00\nCarnitas Salad                             1500         1        8.99\nVeggie Crispy Tacos                         668         1        8.49"
     },
     "execution_count": 16,
     "metadata": {},
     "output_type": "execute_result"
    }
   ],
   "source": [
    "chipo8 = chipo.groupby(\"item_name\").sum()\n",
    "chipo8.sort_values(\"quantity\", ascending=False)"
   ]
  },
  {
   "cell_type": "markdown",
   "metadata": {},
   "source": [
    "### Step 9. How many times did someone order more than one Canned Soda?"
   ]
  },
  {
   "cell_type": "code",
   "execution_count": 28,
   "metadata": {},
   "outputs": [
    {
     "data": {
      "text/plain": "20"
     },
     "execution_count": 28,
     "metadata": {},
     "output_type": "execute_result"
    }
   ],
   "source": [
    "chipo_drink_steak_bowl = chipo[(chipo.item_name == \"Canned Soda\") & (chipo.quantity > 1)]\n",
    "#chipo_drink_steak_bowl\n",
    "len(chipo_drink_steak_bowl)"
   ]
  },
  {
   "cell_type": "code",
   "execution_count": 37,
   "metadata": {},
   "outputs": [
    {
     "data": {
      "text/plain": "20"
     },
     "execution_count": 37,
     "metadata": {},
     "output_type": "execute_result"
    }
   ],
   "source": [
    "chipo_drink_steak_bowl2 = (chipo.item_name == \"Canned Soda\") & (chipo.quantity > 1)\n",
    "chipo_drink_steak_bowl2.sum()"
   ]
  },
  {
   "cell_type": "code",
   "execution_count": null,
   "metadata": {},
   "outputs": [],
   "source": []
  }
 ],
 "metadata": {
  "anaconda-cloud": {},
  "kernelspec": {
   "display_name": "Python 3",
   "language": "python",
   "name": "python3"
  },
  "language_info": {
   "codemirror_mode": {
    "name": "ipython",
    "version": 3
   },
   "file_extension": ".py",
   "mimetype": "text/x-python",
   "name": "python",
   "nbconvert_exporter": "python",
   "pygments_lexer": "ipython3",
   "version": "3.6.4-final"
  }
 },
 "nbformat": 4,
 "nbformat_minor": 1
}