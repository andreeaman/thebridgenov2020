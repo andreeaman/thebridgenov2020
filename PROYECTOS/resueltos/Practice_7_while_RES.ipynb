{
 "cells": [
  {
   "cell_type": "markdown",
   "metadata": {},
   "source": [
    "# Python | day 7 | while"
   ]
  },
  {
   "cell_type": "markdown",
   "metadata": {},
   "source": [
    "With the **while** loop we can execute a set of statements as long as a condition is true."
   ]
  },
  {
   "cell_type": "markdown",
   "metadata": {},
   "source": [
    "```python\n",
    "i = 1\n",
    "while i < 6:\n",
    "  print(i)\n",
    "  i += 1\n",
    "```"
   ]
  },
  {
   "cell_type": "markdown",
   "metadata": {},
   "source": [
    "https://www.w3schools.com/python/python_while_loops.asp"
   ]
  },
  {
   "cell_type": "markdown",
   "metadata": {},
   "source": [
    "### Exercise 1. "
   ]
  },
  {
   "cell_type": "markdown",
   "metadata": {},
   "source": [
    "Do as described below:\n",
    "\n",
    "- Make a variable called strength, and set its initial value to 5.\n",
    "\n",
    "- Print a message reporting the player's strength.\n",
    "\n",
    "- Set up a while loop that runs until the player's strength increases to a value such as 10.\n",
    "\n",
    "- Inside the while loop, print a message that reports the player's current strength.\n",
    "\n",
    "- Inside the while loop, write a statement that increases the player's strength.\n",
    "\n",
    "- Outside the while loop, print a message reporting that the player has grown too strong, and that they have moved up to a new level of the game.\n",
    "\n",
    "Play around with different cutoff levels for the value of strength, and play around with different ways to increase the strength value within the while loop.\n"
   ]
  },
  {
   "cell_type": "code",
   "execution_count": 8,
   "metadata": {},
   "outputs": [
    {
     "output_type": "stream",
     "name": "stdout",
     "text": [
      "-Take 1-\n5\n\n5\n6\n7\n8\n9\n10\nYou have become more powerfull than you think! You are now level 2!\n"
     ]
    }
   ],
   "source": [
    "print('-Take 1-')\n",
    "\n",
    "strength = 5\n",
    "print (strength)\n",
    "print()\n",
    "\n",
    "while strength <= 10:\n",
    "    print(strength)\n",
    "    strength += 1\n",
    "\n",
    "print('You have become more powerfull than you think! You are now level 2!')"
   ]
  },
  {
   "cell_type": "code",
   "execution_count": 9,
   "metadata": {},
   "outputs": [
    {
     "output_type": "stream",
     "name": "stdout",
     "text": [
      "-Take 2-\n5\n\n5\n10\nYou have become more powerfull than you think! You are now level 2!\n"
     ]
    }
   ],
   "source": [
    "print('-Take 2-')\n",
    "\n",
    "strength = 5\n",
    "print (strength)\n",
    "print()\n",
    "\n",
    "while strength <= 10:\n",
    "    print(strength)\n",
    "    strength *= 2\n",
    "\n",
    "print('You have become more powerfull than you think! You are now level 2!')"
   ]
  },
  {
   "cell_type": "code",
   "execution_count": 10,
   "metadata": {},
   "outputs": [
    {
     "output_type": "stream",
     "name": "stdout",
     "text": [
      "-Take 3-\n5\n\n5\n25\n625\nYou have become more powerfull than you think! You are now level 2!\n"
     ]
    }
   ],
   "source": [
    "print('-Take 3-')\n",
    "\n",
    "strength = 5\n",
    "print (strength)\n",
    "print()\n",
    "\n",
    "while strength <= 1000:\n",
    "    print(strength)\n",
    "    strength **= 2\n",
    "\n",
    "print('You have become more powerfull than you think! You are now level 2!')"
   ]
  },
  {
   "cell_type": "markdown",
   "metadata": {},
   "source": [
    "### Exercise 2. "
   ]
  },
  {
   "cell_type": "markdown",
   "metadata": {},
   "source": [
    "To solve the following exercises it will be necessary to define a function for each section. You choose the name of those functions unless specified, but make sure you define a single parameter `whichever_list`, when calling the function it will correspond to the variable `info_list`."
   ]
  },
  {
   "cell_type": "code",
   "execution_count": 11,
   "metadata": {},
   "outputs": [],
   "source": [
    "# you can use this list or take yours from Practice 3\n",
    "info_list = [15, 'Recoletos', True, ['Recoletos', 15],  None, '8'] "
   ]
  },
  {
   "cell_type": "markdown",
   "metadata": {},
   "source": [
    "You have already read these questions below, but this time you are asked to solve it using `while` loop instead of `for`. \n",
    "\n",
    "   - Loop through `whichever_list` to print all the elements it contains. This function should return the list turned into a tuple. \n",
    "   - Loop through `whichever_list` to print all the elements it contains concatenated with the string` \"--> OK\" `. This function should return a message saying, `\"everything will be ok\"`. \n",
    "   - Loop through `whichever_list` to display all items it contains except the first one. This function should return the first element of the list. \n",
    "   - Loop through `whichever_list` to display all the items it contains except the last one. This function should return the last element of the list. "
   ]
  },
  {
   "cell_type": "code",
   "execution_count": 15,
   "metadata": {},
   "outputs": [
    {
     "output_type": "stream",
     "name": "stdout",
     "text": [
      "15\nRecoletos\nTrue\n['Recoletos', 15]\nNone\n8\n"
     ]
    }
   ],
   "source": [
    "def looper (info_list):\n",
    "    \"\"\"\n",
    "    Loop through whichever_list to print all the elements it contains. This function should return the list turned into a tuple.\n",
    "    \"\"\"\n",
    "    a = 0\n",
    "    while a < len(info_list):\n",
    "        print(info_list[a])\n",
    "        a += 1\n",
    "\n",
    "looper(info_list)"
   ]
  },
  {
   "cell_type": "code",
   "execution_count": 17,
   "metadata": {},
   "outputs": [
    {
     "output_type": "stream",
     "name": "stdout",
     "text": [
      "15--> OK\nRecoletos--> OK\nTrue--> OK\n['Recoletos', 15]--> OK\nNone--> OK\n8--> OK\n"
     ]
    },
    {
     "output_type": "execute_result",
     "data": {
      "text/plain": [
       "'Everything will be OK!'"
      ]
     },
     "metadata": {},
     "execution_count": 17
    }
   ],
   "source": [
    "def reassuring_looper (info_list):\n",
    "    \"\"\"\n",
    "    Loop through whichever_list to print all the elements it contains concatenated with the string\"--> OK\". This function should return a message saying, \"everything will be ok\"\n",
    "    \"\"\"\n",
    "    a = 0\n",
    "    while a < len(info_list):\n",
    "        print(str(info_list[a])+'--> OK')\n",
    "        a += 1\n",
    "    return 'Everything will be OK!'\n",
    "\n",
    "will_be = reassuring_looper(info_list)\n",
    "will_be"
   ]
  },
  {
   "cell_type": "code",
   "execution_count": 18,
   "metadata": {},
   "outputs": [
    {
     "output_type": "stream",
     "name": "stdout",
     "text": [
      "Recoletos\nTrue\n['Recoletos', 15]\nNone\n8\n"
     ]
    },
    {
     "output_type": "execute_result",
     "data": {
      "text/plain": [
       "15"
      ]
     },
     "metadata": {},
     "execution_count": 18
    }
   ],
   "source": [
    "def looper (info_list):\n",
    "    \"\"\"\n",
    "    Loop through whichever_list to display all items it contains except the first one. This function should return the first element of the list.\n",
    "    \"\"\"\n",
    "    a = 1\n",
    "    while a < len(info_list):\n",
    "        print(info_list[a])\n",
    "        a += 1\n",
    "    \n",
    "    return info_list[0]\n",
    "    \n",
    "a_return = looper(info_list)\n",
    "a_return"
   ]
  },
  {
   "cell_type": "code",
   "execution_count": 20,
   "metadata": {},
   "outputs": [
    {
     "output_type": "stream",
     "name": "stdout",
     "text": [
      "15\nRecoletos\nTrue\n['Recoletos', 15]\nNone\n"
     ]
    },
    {
     "output_type": "execute_result",
     "data": {
      "text/plain": [
       "'8'"
      ]
     },
     "metadata": {},
     "execution_count": 20
    }
   ],
   "source": [
    "def looper (info_list):\n",
    "    \"\"\"\n",
    "    Loop through whichever_list to display all the items it contains except the last one. This function should return the last element of the list.\n",
    "    \"\"\"\n",
    "    a = 0\n",
    "    while a < (len(info_list)-1):\n",
    "        print(info_list[a])\n",
    "        a += 1\n",
    "    \n",
    "    return info_list[-1]\n",
    "    \n",
    "a_return = looper(info_list)\n",
    "a_return"
   ]
  },
  {
   "cell_type": "markdown",
   "metadata": {},
   "source": [
    "### Exercise 3. "
   ]
  },
  {
   "cell_type": "markdown",
   "metadata": {},
   "source": [
    "1. Define a function that performs the [Fibonacci series](https://quantdare.com/numeros-de-fibonacci/#:~:text=En%20matem%C3%A1ticas%2C%20la%20sucesi%C3%B3n%20o,nombre%20de%20n%C3%BAmero%20de%20Fibonacci.) with a `while`."
   ]
  },
  {
   "cell_type": "code",
   "execution_count": 23,
   "metadata": {},
   "outputs": [
    {
     "output_type": "stream",
     "name": "stdout",
     "text": [
      "Sum of the 50 first numbers in Fibonacci series20365011073\n\n[0, 1, 1, 2, 3, 5, 8, 13, 21, 34, 55, 89, 144, 233, 377, 610, 987, 1597, 2584, 4181, 6765, 10946, 17711, 28657, 46368, 75025, 121393, 196418, 317811, 514229, 832040, 1346269, 2178309, 3524578, 5702887, 9227465, 14930352, 24157817, 39088169, 63245986, 102334155, 165580141, 267914296, 433494437, 701408733, 1134903170, 1836311903, 2971215073, 4807526976, 7778742049]\n"
     ]
    }
   ],
   "source": [
    "def fibonacci ():\n",
    "    \"\"\"\n",
    "    Define a function that performs the Fibonacci series with a while.\n",
    "    \"\"\"\n",
    "    fib = [0]\n",
    "    \n",
    "    while len(fib) < 50:\n",
    "        if len(fib) < 2:\n",
    "            fib.append(1)\n",
    "        else:\n",
    "            fib.append(fib[-1] + fib [-2])\n",
    "    \n",
    "    print (f'Sum of the 50 first numbers in Fibonacci series{sum(fib)}\\n')\n",
    "    print(fib)\n",
    "\n",
    "fibonacci()"
   ]
  },
  {
   "cell_type": "markdown",
   "metadata": {},
   "source": [
    "### Exercise 4."
   ]
  },
  {
   "cell_type": "markdown",
   "metadata": {},
   "source": [
    "To solve the following exercises it will be necessary to define a function for each section. You choose the name of those functions unless specified, but make sure you define a single parameter `whichever_list`, when calling the function it will correspond to the variable `info_list`."
   ]
  },
  {
   "cell_type": "code",
   "execution_count": 24,
   "metadata": {},
   "outputs": [],
   "source": [
    "# you can use this list or take yours from Practice 3\n",
    "info_list = [15, 'Recoletos', True, ['Recoletos', 15],  None, '8'] "
   ]
  },
  {
   "cell_type": "markdown",
   "metadata": {},
   "source": [
    "1. Define a function that saves the value of `\"nothing\"` in a variable and print it. Also, concatenate its value with the number of The Bridge and display it on the screen. \n",
    "\n",
    "   Also, display a boolean **True** if the length of the concatenated word is 6. If not, it will be **False**. The function must return the value **True** or **False** and the name of this function will be `f_s`."
   ]
  },
  {
   "cell_type": "code",
   "execution_count": 31,
   "metadata": {},
   "outputs": [
    {
     "output_type": "stream",
     "name": "stdout",
     "text": [
      "nothing\n15nothing\nTrue\n"
     ]
    },
    {
     "output_type": "execute_result",
     "data": {
      "text/plain": [
       "True"
      ]
     },
     "metadata": {},
     "execution_count": 31
    }
   ],
   "source": [
    "def f_s (info_list):\n",
    "    value = 'nothing'\n",
    "    print(value)\n",
    "\n",
    "    value_c = str(info_list[0]) + value\n",
    "    print(value_c)\n",
    "\n",
    "    if len(value_c) > 6:\n",
    "        print(True)\n",
    "        \n",
    "        return True\n",
    "    \n",
    "    else:\n",
    "        print(False)\n",
    "        \n",
    "        return False\n",
    "\n",
    "value = f_s(info_list)\n",
    "value\n"
   ]
  },
  {
   "cell_type": "markdown",
   "metadata": {},
   "source": [
    "### Bonus Track."
   ]
  },
  {
   "cell_type": "markdown",
   "metadata": {},
   "source": [
    "2. Create a list `list_aux` with 7 elements, whichever you want. Next, create a function `function_use_f_s` which receives as parameters a function `some_function` and whichever list `whichever_list`. If the value of `some_function` is **True**, then delete an item from `whichever_list`. Repeat the process until `whichever_list` has no elements. The argument for `whichever_list` must be `list_aux` and for `some_function` it will be the function `f_s` from the previous point."
   ]
  },
  {
   "cell_type": "code",
   "execution_count": 26,
   "metadata": {},
   "outputs": [],
   "source": [
    "list_aux = [\"The Long Good Friday\", \"The Mirror Crack'd\", \"Nomads\", \"Taffin\", \"El cuarto protocolo\", \"The Deceivers\", \"\tMister Johnson\"]"
   ]
  },
  {
   "cell_type": "markdown",
   "metadata": {},
   "source": [
    "3. Define a function `even_numbers` that has an input parameter `arg1`, type integer. The function must return a list of numbers of size `arg1`, all of them being even numbers. \n",
    "\n",
    "   Don't use the function `print()` inside the function, but print what `even_numbers` returns when calling it with the argument `10`, just to check your function works.\n",
    "   \n",
    "```python\n",
    "print(even_numbers(10))\n",
    "```"
   ]
  },
  {
   "cell_type": "code",
   "execution_count": 30,
   "metadata": {},
   "outputs": [
    {
     "output_type": "stream",
     "name": "stdout",
     "text": [
      "[64, 50, 66, 98, 86, 58, 58, 2, 28, 42]\n"
     ]
    }
   ],
   "source": [
    "import random\n",
    "\n",
    "def even_numbers (arg1):\n",
    "    \"\"\"\n",
    "    Define a function even_numbers that has an input parameter arg1, type integer. The function must return a list of numbers of size arg1, all of them being even numbers.\n",
    "    \"\"\"\n",
    "    the_list = []\n",
    "\n",
    "    while len(the_list) < arg1:\n",
    "        number = random.randint(1, 100)\n",
    "        if (number % 2) == 0:\n",
    "            the_list.append(number)\n",
    "    \n",
    "    return the_list\n",
    "\n",
    "even_numbers_list = even_numbers(10)\n",
    "print(even_numbers_list)"
   ]
  },
  {
   "cell_type": "markdown",
   "metadata": {},
   "source": [
    "4. Create a function that has an input variable `arg1`, which will be the list of even numbers from the previous section, and that removes elements from the list, one by one, if `arg1` has a size divisible by 2 and, if not, it adds just once, the value of the function `f_s` that should be a boolean (`True` or `False`).\n"
   ]
  },
  {
   "cell_type": "code",
   "execution_count": 35,
   "metadata": {},
   "outputs": [
    {
     "output_type": "stream",
     "name": "stdout",
     "text": [
      "[]\n"
     ]
    }
   ],
   "source": [
    "def psicho_func(arg1, value):\n",
    "\n",
    "    if (len(arg1) %2 ) == 0:\n",
    "        while len(arg1) > 0:\n",
    "            arg1.remove(arg1[-1])\n",
    "    else:\n",
    "        arg1.append(value)\n",
    "\n",
    "    print (arg1)\n",
    "\n",
    "psicho_func(arg1= even_numbers_list, value= value)"
   ]
  },
  {
   "cell_type": "markdown",
   "metadata": {},
   "source": [
    "!['nicetry'](https://i.pinimg.com/originals/36/ab/81/36ab81cd8d63cf7c4a08f39403698c77.jpg)"
   ]
  },
  {
   "cell_type": "code",
   "execution_count": null,
   "metadata": {},
   "outputs": [],
   "source": []
  }
 ],
 "metadata": {
  "kernelspec": {
   "display_name": "Python 3",
   "language": "python",
   "name": "python3"
  },
  "language_info": {
   "codemirror_mode": {
    "name": "ipython",
    "version": 3
   },
   "file_extension": ".py",
   "mimetype": "text/x-python",
   "name": "python",
   "nbconvert_exporter": "python",
   "pygments_lexer": "ipython3",
   "version": "3.7.4-final"
  }
 },
 "nbformat": 4,
 "nbformat_minor": 4
}