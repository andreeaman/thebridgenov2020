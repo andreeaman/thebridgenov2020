{
 "cells": [
  {
   "cell_type": "markdown",
   "metadata": {},
   "source": [
    "# Python | day 4 | for loop, functions (feat. basics & if/else) "
   ]
  },
  {
   "cell_type": "markdown",
   "metadata": {},
   "source": [
    "### Exercise 0.1 - Python Basics\n",
    "\n",
    "1. What do we use to make a line break in a print? And for a tab stop?\n",
    "\n",
    "have a look ---> http://elclubdelautodidacta.es/wp/2012/04/python-capitulo-31-exprimiendo-la-funcion-print/"
   ]
  },
  {
   "cell_type": "code",
   "execution_count": 1,
   "metadata": {},
   "outputs": [
    {
     "output_type": "stream",
     "name": "stdout",
     "text": [
      "line_1\nline_2\nline_3\nline_4\n"
     ]
    }
   ],
   "source": [
    "print('line_1'); print('line_2')\n",
    "print('line_3\\nline_4')"
   ]
  },
  {
   "cell_type": "markdown",
   "metadata": {},
   "source": [
    "2. Make a converter from dollars to euros. You'll have to use input."
   ]
  },
  {
   "cell_type": "code",
   "execution_count": 2,
   "metadata": {},
   "outputs": [],
   "source": [
    "def dollar_to_euro (exchange_rate):\n",
    "    \"\"\"\n",
    "    This function converts dollars into euros. Then returns the ammount converted for further use.\n",
    "    \"\"\"\n",
    "    d_t_c = int(input('Type you $ to convert')) # Dollars to convert\n",
    "    print(f'{d_t_c}$ Exchange rate: {exchange_rate}')\n",
    "    euros = round(d_t_c * exchange_rate, 2)\n",
    "    print(f'{euros}€\\n---------\\n')\n",
    "\n",
    "    return euros"
   ]
  },
  {
   "cell_type": "code",
   "execution_count": 3,
   "metadata": {},
   "outputs": [
    {
     "output_type": "stream",
     "name": "stdout",
     "text": [
      "6$ Exchange rate: 0.84\n5.04€\n---------\n\n5.04 <- Value of the returned variable\n"
     ]
    }
   ],
   "source": [
    "euros = dollar_to_euro(exchange_rate = 0.84)\n",
    "print(f'{euros} <- Value of the returned variable')"
   ]
  },
  {
   "cell_type": "markdown",
   "metadata": {},
   "source": [
    "3. Declare two strings, one will be your first name and the other your last name. Declare your age in another variable. Print a sentence which include those variables, using ```f{}```. Wtf is that? check this out **-->** https://realpython.com/python-string-formatting/"
   ]
  },
  {
   "cell_type": "code",
   "execution_count": 4,
   "metadata": {},
   "outputs": [
    {
     "output_type": "stream",
     "name": "stdout",
     "text": [
      "Homer J. Simpson, 38 years old\n"
     ]
    }
   ],
   "source": [
    "name = 'Homer J.'\n",
    "surname = 'Simpson'\n",
    "age = 38\n",
    "\n",
    "print (f'{name} {surname}, {age} years old')"
   ]
  },
  {
   "cell_type": "markdown",
   "metadata": {},
   "source": [
    "4. Given the list `[4,7, -3]`, calculate its maximum, minimum and sum."
   ]
  },
  {
   "cell_type": "code",
   "execution_count": 5,
   "metadata": {},
   "outputs": [
    {
     "output_type": "stream",
     "name": "stdout",
     "text": [
      "Max: 7\nMin: -3\nSum: 8\n"
     ]
    }
   ],
   "source": [
    "a_list = [4,7, -3]\n",
    "\n",
    "print (f'Max: {max(a_list)}')\n",
    "print (f'Min: {min(a_list)}')\n",
    "print (f'Sum: {sum(a_list)}')"
   ]
  },
  {
   "cell_type": "markdown",
   "metadata": {},
   "source": [
    "5. Round `38.38276252728` to 5 decimal places.\n"
   ]
  },
  {
   "cell_type": "code",
   "execution_count": 6,
   "metadata": {},
   "outputs": [
    {
     "output_type": "stream",
     "name": "stdout",
     "text": [
      "38.38276\n"
     ]
    }
   ],
   "source": [
    "to_round = 38.38276252728\n",
    "rounded = round(to_round, 5)\n",
    "print(rounded)"
   ]
  },
  {
   "cell_type": "markdown",
   "metadata": {},
   "source": [
    "6. Make the phrase `\"Born to be wild\"` uppercase, then lowercase, divide it by spaces, and finally, replace `\"wild\"` with `\"Geek.\"`"
   ]
  },
  {
   "cell_type": "code",
   "execution_count": 7,
   "metadata": {},
   "outputs": [],
   "source": [
    "phrase = \"Born to be wild\""
   ]
  },
  {
   "cell_type": "code",
   "execution_count": 8,
   "metadata": {},
   "outputs": [
    {
     "output_type": "stream",
     "name": "stdout",
     "text": [
      "BORN TO BE WILD\nborn to be wild\n['born', 'to', 'be', 'wild']\n\n['born', 'to', 'be', 'Geek']\n"
     ]
    }
   ],
   "source": [
    "def biker_phrase (phrase):\n",
    "    \"\"\"\n",
    "    This function makes the phrase \"Born to be wild\" uppercase, then lowercase, divide it by spaces, and finally, replace \"wild\" with \"Geek.\"\n",
    "    \"\"\"\n",
    "    phrase = phrase.upper()\n",
    "    print(phrase)\n",
    "\n",
    "    phrase = phrase.lower()\n",
    "    print(phrase)\n",
    "\n",
    "    phrase = phrase.split()\n",
    "    print(phrase)\n",
    "\n",
    "    for e in range(len(phrase)):\n",
    "        if phrase[e] == 'wild':\n",
    "            print()\n",
    "            phrase[e] = 'Geek'\n",
    "\n",
    "    print (phrase)\n",
    "\n",
    "biker_phrase(phrase= phrase)"
   ]
  },
  {
   "cell_type": "code",
   "execution_count": 9,
   "metadata": {},
   "outputs": [
    {
     "output_type": "stream",
     "name": "stdout",
     "text": [
      "BORN TO BE WILD\nborn to be wild\n['born', 'to', 'be', 'wild']\n\n['born', 'to', 'be', 'Geek']\n"
     ]
    }
   ],
   "source": [
    "phrase = phrase.upper()\n",
    "print(phrase)\n",
    "\n",
    "phrase = phrase.lower()\n",
    "print(phrase)\n",
    "\n",
    "phrase = phrase.split()\n",
    "print(phrase)\n",
    "\n",
    "for e in range(len(phrase)):\n",
    "    if phrase[e] == 'wild':\n",
    "        print()\n",
    "        phrase[e] = 'Geek'\n",
    "\n",
    "print(phrase)"
   ]
  },
  {
   "cell_type": "markdown",
   "metadata": {},
   "source": [
    "7. Create a program where two inputs are collected, and the output of the program is a boolean which tell the user whether those inputs are the same or not.\n"
   ]
  },
  {
   "source": [
    "def chekcer ():\n",
    "    \"\"\"\n",
    "    This function collects two inputs, and the output of the program is a boolean which tell the user whether those inputs are the same or not\n",
    "    \"\"\"\n",
    "    inp_1 = input('Input #1> ')\n",
    "    print(inp_1)\n",
    "    inp_2 = input('Input #2> ')\n",
    "    print(inp_2)\n",
    "\n",
    "    if inp_1 == inp_2:\n",
    "        boolean = True\n",
    "        print(\"\\n- They're equal\")\n",
    "\n",
    "    else:\n",
    "        boolean = False\n",
    "        print(\"\\n- They're not equal\")\n",
    "\n",
    "    return boolean\n",
    "\n",
    "boolean_returned = chekcer()\n",
    "print(f'{boolean_returned} <- Value of the returned variable')\n",
    "print(f'{type(boolean_returned)} <- Type of the returned variable')"
   ],
   "cell_type": "code",
   "metadata": {},
   "execution_count": 10,
   "outputs": [
    {
     "output_type": "stream",
     "name": "stdout",
     "text": [
      "5\n",
      "65\n",
      "\n",
      "- They're not equal\n",
      "False <- Value of the returned variable\n",
      "<class 'bool'> <- Type of the returned variable\n"
     ]
    }
   ]
  },
  {
   "cell_type": "markdown",
   "metadata": {},
   "source": [
    "### Exercise 0.2 - If/else\n",
    "\n",
    "1. Create a decission tree using if/else sentences, to determine the price of the movies ticket. If the client's age is between 5 and 15 years, both included, the price will be 5, if she/he is retired and the movie is one of the `peliculas_discount`, the price is 4. In any other case, it will be 7 euros.\n",
    "\n",
    "You should create the list of `peliculas_discount` with your favourites movies. "
   ]
  },
  {
   "cell_type": "code",
   "execution_count": 19,
   "metadata": {},
   "outputs": [
    {
     "output_type": "stream",
     "name": "stdout",
     "text": [
      "Age: 68 Movie: Dune\nPrice of ticket is 7€\n"
     ]
    }
   ],
   "source": [
    "# Take 1\n",
    "age = int(input('Age of client> '))\n",
    "movie = input('Movie>')\n",
    "movies_discount = ['The Thing', 'Star Trek VI', 'Lord Of The Rings', 'Aquaman']\n",
    "\n",
    "if age >= 5 and age <= 15:\n",
    "    price = 5\n",
    "elif age >= 67 and movie in movies_discount:\n",
    "    price = 4\n",
    "else:\n",
    "    price = 7\n",
    "\n",
    "print(f'Age: {age} Movie: {movie}')\n",
    "print (f'Price of ticket is {price}€')"
   ]
  },
  {
   "cell_type": "code",
   "execution_count": 20,
   "metadata": {},
   "outputs": [
    {
     "output_type": "stream",
     "name": "stdout",
     "text": [
      "Price of ticket is 7€\nAge: 68 Movie: Dune\n7 <- Value of the returned variable\n"
     ]
    }
   ],
   "source": [
    "def discount_checker (age, movie, movies_discount):\n",
    "    \"\"\"\n",
    "    This function checks the age of the client and the movie she/he wants to see. Then applies the appropiate discount.\n",
    "    \"\"\"\n",
    "    if age >= 5 and age <= 15:\n",
    "        price = 5\n",
    "    elif age >= 67 and movie in movies_discount:\n",
    "        price = 4\n",
    "    else:\n",
    "        price = 7\n",
    "\n",
    "    print (f'Price of ticket is {price}€')\n",
    "\n",
    "    return price\n",
    "\n",
    "price = discount_checker(age, movie, movies_discount)\n",
    "\n",
    "print(f'Age: {age} Movie: {movie}')\n",
    "print(f'{price} <- Value of the returned variable')"
   ]
  },
  {
   "cell_type": "markdown",
   "metadata": {},
   "source": [
    "### Exercise 1 - For\n",
    "\n",
    "If you find a way of solving any of these questions below without using for loop, don't hesitate to do it. "
   ]
  },
  {
   "cell_type": "markdown",
   "metadata": {},
   "source": [
    "1. Prints the numbers between 0 and 70 that are multiples of 3 and 5."
   ]
  },
  {
   "cell_type": "code",
   "execution_count": 13,
   "metadata": {
    "tags": []
   },
   "outputs": [
    {
     "output_type": "stream",
     "name": "stdout",
     "text": [
      "0\n15\n30\n45\n60\n"
     ]
    }
   ],
   "source": [
    "for n in range(71):\n",
    "    if n % 3 == 0 and n % 5 == 0:\n",
    "        print(n)\n"
   ]
  },
  {
   "cell_type": "markdown",
   "metadata": {},
   "source": [
    "2. Print the following pattern:\n",
    "\n",
    "```python\n",
    "1\n",
    "22\n",
    "333\n",
    "4444\n",
    "55555\n",
    "666666\n",
    "7777777\n",
    "88888888\n",
    "999999999\n",
    "```\n"
   ]
  },
  {
   "cell_type": "code",
   "execution_count": 14,
   "metadata": {},
   "outputs": [
    {
     "output_type": "stream",
     "name": "stdout",
     "text": [
      "1\n",
      "22\n",
      "333\n",
      "4444\n",
      "55555\n",
      "666666\n",
      "7777777\n",
      "88888888\n",
      "999999999\n"
     ]
    }
   ],
   "source": [
    "# Take 1\n",
    "n = 9\n",
    "\n",
    "for i in range(1,n+1):\n",
    "    for j in range(1, i+1):\n",
    "        print(i, end=\"\")\n",
    "    print()"
   ]
  },
  {
   "cell_type": "code",
   "execution_count": 1,
   "metadata": {},
   "outputs": [
    {
     "output_type": "stream",
     "name": "stdout",
     "text": [
      "\n1\n22\n333\n4444\n55555\n666666\n7777777\n88888888\n999999999\n"
     ]
    }
   ],
   "source": [
    "# Take 2\n",
    "for i in range(10):\n",
    "    print(str(i)*i)"
   ]
  },
  {
   "cell_type": "markdown",
   "metadata": {
    "collapsed": true
   },
   "source": [
    "3. Given to list of same lenght, create a third list which contains the sum of both of the list, element by element. "
   ]
  },
  {
   "cell_type": "markdown",
   "metadata": {},
   "source": [
    "```python\n",
    "Example: \n",
    "a = [1,2]\n",
    "b = [4,5]\n",
    "new_list = [5,7]\n",
    "```\n"
   ]
  },
  {
   "cell_type": "code",
   "execution_count": 15,
   "metadata": {},
   "outputs": [
    {
     "output_type": "stream",
     "name": "stdout",
     "text": [
      "[5, 7]\n"
     ]
    }
   ],
   "source": [
    "a = [1,2]\n",
    "b = [4,5]\n",
    "c = []\n",
    "\n",
    "for e in range(len(a)):\n",
    "    n = a[e] + b[e]\n",
    "    c.append(n)\n",
    "\n",
    "print(c)"
   ]
  },
  {
   "cell_type": "markdown",
   "metadata": {},
   "source": [
    "4. Get first, second best scores from the list.\n",
    "List contains duplicates."
   ]
  },
  {
   "cell_type": "code",
   "execution_count": 16,
   "metadata": {},
   "outputs": [],
   "source": [
    "scores = [86,86,85,85,85,83,23,45,84,1,2,0]"
   ]
  },
  {
   "cell_type": "code",
   "execution_count": 17,
   "metadata": {},
   "outputs": [
    {
     "output_type": "stream",
     "name": "stdout",
     "text": [
      "[0, 1, 2, 23, 45, 83, 84, 85, 85, 85, 86, 86]\nBest: 86\nSecond Best 85\n"
     ]
    }
   ],
   "source": [
    "scores.sort()\n",
    "print(scores)\n",
    "\n",
    "best = max(scores)\n",
    "n = -2\n",
    "second_best = scores[n]\n",
    "\n",
    "if second_best == best:\n",
    "    while second_best == best:\n",
    "        n -= 1\n",
    "        second_best = scores [n]\n",
    "print(f'Best: {best}\\nSecond Best {second_best}')"
   ]
  },
  {
   "cell_type": "markdown",
   "metadata": {},
   "source": [
    "5. From the given list:\n",
    "    \n",
    "    a) Create separate lists of strings and numbers.\n",
    "\n",
    "    b) Sort the strings' list in ascending order\n",
    "\n",
    "    c) Sort the strings' list in descending order\n",
    "\n",
    "    d) Sort the number's list from lowest to highest\n",
    "\n",
    "    e) Sort the number's list from highest to lowest"
   ]
  },
  {
   "cell_type": "code",
   "execution_count": 30,
   "metadata": {},
   "outputs": [],
   "source": [
    "gadgets = [\"Mobile\", \"Laptop\", 100, \"Camera\", 310.28, \"Speakers\", 27.00, \n",
    "           \"Television\", 1000, \"Laptop Case\", \"Camera Lens\"]"
   ]
  },
  {
   "cell_type": "code",
   "execution_count": 41,
   "metadata": {},
   "outputs": [
    {
     "output_type": "stream",
     "name": "stdout",
     "text": [
      "['Camera', 'Camera Lens', 'Laptop', 'Laptop Case', 'Mobile', 'Speakers', 'Television']\n[1000, 310.28, 100, 27.0]\n"
     ]
    }
   ],
   "source": [
    "devices = [\"Mobile\", \"Laptop\", \"Camera\", \"Speakers\", \"Television\", \"Laptop Case\", \"Camera Lens\"]\n",
    "numbers = [100, 310.28, 27.0, 1000]\n",
    "\n",
    "devices.sort()\n",
    "print (devices)\n",
    "\n",
    "numbers.sort(reverse= True)\n",
    "print(numbers)"
   ]
  },
  {
   "cell_type": "markdown",
   "metadata": {},
   "source": [
    "6. Make a list of ten aliens, each of which is one color: 'red', 'green', or 'blue'.\n",
    "    - You can shorten this to 'r', 'g', and 'b' if you want, but if you choose this option you have to include a comment explaining what r, g, and b stand for.\n",
    "    - Red aliens are worth 5 points, green aliens are worth 10 points, and blue aliens are worth 20 points.\n",
    "    - Use a for loop to determine the number of points a player would earn for destroying all of the aliens in your list."
   ]
  },
  {
   "cell_type": "code",
   "execution_count": 46,
   "metadata": {},
   "outputs": [
    {
     "output_type": "stream",
     "name": "stdout",
     "text": [
      "Max score: 110\n"
     ]
    }
   ],
   "source": [
    "aliens = ['red', 'green', 'blue', 'red', 'green', 'blue', 'red', 'green', 'blue', 'red']\n",
    "points = 0\n",
    "\n",
    "\n",
    "for e in aliens:\n",
    "    if e == 'red':\n",
    "        points += 5\n",
    "    elif e == 'green':\n",
    "        points += 10\n",
    "    elif e == 'blue':\n",
    "        points += 20\n",
    "print (f'Max score: {points}')"
   ]
  },
  {
   "cell_type": "markdown",
   "metadata": {},
   "source": [
    "### Exercise 2 - Functions"
   ]
  },
  {
   "cell_type": "markdown",
   "metadata": {},
   "source": [
    "1. Write a function program to sum up two given different numbers. "
   ]
  },
  {
   "cell_type": "code",
   "execution_count": 50,
   "metadata": {},
   "outputs": [],
   "source": [
    "def adder (num_1, num_2):\n",
    "    \"\"\"\n",
    "    This function sums two different numbers, prints the result and returns it for further use.\n",
    "    \"\"\"\n",
    "    num_3 = num_1 + num_2\n",
    "    print(f'Result: {num_3}')\n",
    "\n",
    "    return num_3"
   ]
  },
  {
   "cell_type": "code",
   "execution_count": 51,
   "metadata": {},
   "outputs": [
    {
     "output_type": "stream",
     "name": "stdout",
     "text": [
      "Result: 24788595.544\n"
     ]
    }
   ],
   "source": [
    "result = adder(num_1 = 1204475, num_2 = 23584120.544)"
   ]
  },
  {
   "cell_type": "markdown",
   "metadata": {},
   "source": [
    "2. Write a Python program to convert a tuple of characters into a string.\n",
    "\n",
    "    - Sample tuple: `(\"T\", \"H\", \"E\", \" \", \"B\", \"R\", \"I\", \"D\", \"G\", \"E\")`\n",
    "    - Expected output : `\"THE BRIDGE\"`\n",
    "    \n",
    "Hint: Turn it into a list. "
   ]
  },
  {
   "cell_type": "code",
   "execution_count": 53,
   "metadata": {},
   "outputs": [
    {
     "output_type": "execute_result",
     "data": {
      "text/plain": [
       "'THE BRIDGE'"
      ]
     },
     "metadata": {},
     "execution_count": 53
    }
   ],
   "source": [
    "tup = (\"T\", \"H\", \"E\", \" \", \"B\", \"R\", \"I\", \"D\", \"G\", \"E\")\n",
    "\n",
    "result = ''.join(tup)\n",
    "result"
   ]
  },
  {
   "cell_type": "markdown",
   "metadata": {},
   "source": [
    "3. Write a Python program to generate a list where the values are square of numbers between 1 and 30 (both included), and return a list of first and last 5 elements of the list."
   ]
  },
  {
   "cell_type": "code",
   "execution_count": 58,
   "metadata": {},
   "outputs": [
    {
     "output_type": "execute_result",
     "data": {
      "text/plain": [
       "[676, 729, 784, 841, 900]"
      ]
     },
     "metadata": {},
     "execution_count": 58
    }
   ],
   "source": [
    "def strange_square ():\n",
    "    \"\"\"\n",
    "    Write a Python program to generate a list where the values are square of numbers between 1 and 30 (both included), and return a list of first and last 5 elements of the list.\n",
    "    \"\"\"\n",
    "    number = 1\n",
    "    number_list = []\n",
    "    \n",
    "    for n in range(30):\n",
    "        num_r = number ** 2\n",
    "        number_list.append(num_r)\n",
    "        number += 1\n",
    "    return number_list[-5:]\n",
    "\n",
    "the_list = strange_square()\n",
    "the_list"
   ]
  },
  {
   "cell_type": "markdown",
   "metadata": {},
   "source": [
    "4. Create a Python program that calculates the factorial of a number.\n",
    "\n",
    "The program will ask the user to enter a number (input) and will return the factorial of that number."
   ]
  },
  {
   "cell_type": "code",
   "execution_count": 61,
   "metadata": {},
   "outputs": [
    {
     "output_type": "stream",
     "name": "stdout",
     "text": [
      "Factorail of  5  is :  120\n"
     ]
    }
   ],
   "source": [
    "def factorial_calculator():\n",
    "    \"\"\"\n",
    "    The program will ask the user to enter a number and returns it.\n",
    "    \"\"\"\n",
    "    n = input(\"Enter a number: \")\n",
    "\n",
    "    factorial = 1\n",
    "\n",
    "    if int(n) >= 1:\n",
    "        for i in range (1,int(n)+1):\n",
    "            factorial = factorial * i\n",
    "    \n",
    "    print(\"Factorail of \",n , \" is : \",factorial)\n",
    "    return factorial\n",
    "\n",
    "number = factorial_calculator()"
   ]
  },
  {
   "cell_type": "markdown",
   "metadata": {},
   "source": [
    "5. Create a program that calculates the average.\n",
    "\n",
    "The program will ask the user to specify how many numbers you want to enter, and will show a prompt to include number by number to a list, and then calculate the average of each number in that list."
   ]
  },
  {
   "cell_type": "code",
   "execution_count": 67,
   "metadata": {},
   "outputs": [
    {
     "output_type": "stream",
     "name": "stdout",
     "text": [
      "21.333333333333332\n"
     ]
    }
   ],
   "source": [
    "def average_calculator ():\n",
    "    choice = int(input('How many numbers will you want?: '))\n",
    "    a_list = []\n",
    "\n",
    "    for n in range(choice):\n",
    "        numbers = int(input('Add your number: '))\n",
    "        a_list.append(numbers)\n",
    "    \n",
    "    average = int(sum(a_list))/int(len(a_list))\n",
    "    \n",
    "    return average\n",
    "\n",
    "average = average_calculator()\n",
    "print (average)"
   ]
  },
  {
   "cell_type": "markdown",
   "metadata": {},
   "source": [
    "# If you made it till here you did a fantastic work!"
   ]
  },
  {
   "cell_type": "markdown",
   "metadata": {},
   "source": [
    "![\"holo\"](https://img-9gag-fun.9cache.com/photo/aNg9wMK_460s.jpg)"
   ]
  },
  {
   "cell_type": "code",
   "execution_count": null,
   "metadata": {},
   "outputs": [],
   "source": []
  }
 ],
 "metadata": {
  "kernelspec": {
   "name": "python3",
   "display_name": "Python 3"
  },
  "language_info": {
   "codemirror_mode": {
    "name": "ipython",
    "version": 3
   },
   "file_extension": ".py",
   "mimetype": "text/x-python",
   "name": "python",
   "nbconvert_exporter": "python",
   "pygments_lexer": "ipython3",
   "version": "3.7.4-final"
  }
 },
 "nbformat": 4,
 "nbformat_minor": 4
}