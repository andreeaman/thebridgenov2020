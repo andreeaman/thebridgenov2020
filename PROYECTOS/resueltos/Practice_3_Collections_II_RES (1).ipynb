{
 "cells": [
  {
   "cell_type": "markdown",
   "metadata": {},
   "source": [
    "# Python | day 3 | collections & if/else"
   ]
  },
  {
   "cell_type": "markdown",
   "metadata": {},
   "source": [
    "### Exercise 1. "
   ]
  },
  {
   "cell_type": "markdown",
   "metadata": {},
   "source": [
    "1. Create a variable called **num_bridge** with a value of 15."
   ]
  },
  {
   "cell_type": "code",
   "execution_count": 1,
   "metadata": {},
   "outputs": [],
   "source": [
    "num_bridge = 15"
   ]
  },
  {
   "cell_type": "markdown",
   "metadata": {},
   "source": [
    "2. Create a variable called **name_street** with the value \"Recoletos\".\n",
    "\n"
   ]
  },
  {
   "cell_type": "code",
   "execution_count": 2,
   "metadata": {},
   "outputs": [],
   "source": [
    "name_street = 'Recoletos'"
   ]
  },
  {
   "cell_type": "markdown",
   "metadata": {},
   "source": [
    "3. Create a variable called **personal_taste** which should be `True` if you like the beach better or `False` if you rather choose mountain. "
   ]
  },
  {
   "cell_type": "code",
   "execution_count": 3,
   "metadata": {},
   "outputs": [],
   "source": [
    "choice = input('You choose: ')\n",
    "\n",
    "if choice == 'mountain':\n",
    "    personal_taste = False\n",
    "\n",
    "elif choice == 'beach':\n",
    "    personal_taste = True"
   ]
  },
  {
   "cell_type": "markdown",
   "metadata": {},
   "source": [
    "4. Create a variable called **nothing** like follows: `nothing = None`. `None`doesn't represent any value, something you should keep in mind if you do `if nothing:` then `nothing` acts as a boolean `False`. "
   ]
  },
  {
   "cell_type": "code",
   "execution_count": 4,
   "metadata": {},
   "outputs": [],
   "source": [
    "nothing = None"
   ]
  },
  {
   "cell_type": "markdown",
   "metadata": {},
   "source": [
    "5. Create a variable called **address_list**. This should be a list which contains the following: first element **name_street** and second element **num_bridge**. "
   ]
  },
  {
   "cell_type": "code",
   "execution_count": 5,
   "metadata": {},
   "outputs": [
    {
     "output_type": "execute_result",
     "data": {
      "text/plain": [
       "['Recoletos', 15]"
      ]
     },
     "metadata": {},
     "execution_count": 5
    }
   ],
   "source": [
    "address_list = [name_street, num_bridge]\n",
    "address_list"
   ]
  },
  {
   "cell_type": "markdown",
   "metadata": {},
   "source": [
    "6. Create a variable called **sleep_hours** that should contains, as a string, the hours you've slept today."
   ]
  },
  {
   "cell_type": "code",
   "execution_count": 6,
   "metadata": {},
   "outputs": [],
   "source": [
    "sleep_hours= '8'"
   ]
  },
  {
   "cell_type": "markdown",
   "metadata": {},
   "source": [
    "7. Create a list called **info_list** containing every variable you've just created in the order you have done it.\n",
    "\n",
    "```python\n",
    "len(info_list) == 6\n",
    "True\n",
    "```\n",
    "\n",
    "**IMPORTANT: you will use `info_list` at some point next week**"
   ]
  },
  {
   "cell_type": "code",
   "execution_count": 7,
   "metadata": {},
   "outputs": [
    {
     "output_type": "execute_result",
     "data": {
      "text/plain": [
       "[15, 'Recoletos', ['Recoletos', 15], False, None, '8']"
      ]
     },
     "metadata": {},
     "execution_count": 7
    }
   ],
   "source": [
    "info_list = [num_bridge, name_street, address_list, personal_taste, nothing, sleep_hours]\n",
    "info_list"
   ]
  },
  {
   "cell_type": "markdown",
   "metadata": {},
   "source": [
    "8. Run the following cell in order to delete every variable you've just created and keep **info_list** only.\n",
    "Print **info_list** once you've done it to check the list still exists."
   ]
  },
  {
   "cell_type": "code",
   "execution_count": 8,
   "metadata": {},
   "outputs": [],
   "source": [
    "#run this\n",
    "del num_bridge\n",
    "del name_street\n",
    "del personal_taste\n",
    "del nothing\n",
    "del address_list\n",
    "del sleep_hours"
   ]
  },
  {
   "cell_type": "code",
   "execution_count": null,
   "metadata": {},
   "outputs": [],
   "source": []
  },
  {
   "cell_type": "markdown",
   "metadata": {},
   "source": [
    "### Exercise 2."
   ]
  },
  {
   "cell_type": "markdown",
   "metadata": {},
   "source": [
    "You'll need `info_list` in order to continue with this exercise. Remember don't use any variable except `info_list`. \n",
    "\n",
    "Print the following. Don't use functions and/or loops. "
   ]
  },
  {
   "cell_type": "markdown",
   "metadata": {},
   "source": [
    " 1. Add the number of The Bridge and the hours you slept last night. "
   ]
  },
  {
   "cell_type": "code",
   "execution_count": 9,
   "metadata": {},
   "outputs": [
    {
     "output_type": "execute_result",
     "data": {
      "text/plain": [
       "[15, 'Recoletos', ['Recoletos', 15], False, None, '8']"
      ]
     },
     "metadata": {},
     "execution_count": 9
    }
   ],
   "source": [
    "info_list"
   ]
  },
  {
   "cell_type": "code",
   "execution_count": 10,
   "metadata": {},
   "outputs": [
    {
     "output_type": "execute_result",
     "data": {
      "text/plain": [
       "[15, 'Recoletos', ['Recoletos', 15], False, None, '8', 15, 8]"
      ]
     },
     "metadata": {},
     "execution_count": 10
    }
   ],
   "source": [
    "info_list.append(15)\n",
    "info_list.append(8)\n",
    "info_list"
   ]
  },
  {
   "cell_type": "markdown",
   "metadata": {},
   "source": [
    "2. Concatenate the number of The Bridge, the name of the street, your personal taste and the hours you slept. All of them should be separated by `\" --> \"`."
   ]
  },
  {
   "cell_type": "code",
   "execution_count": 11,
   "metadata": {},
   "outputs": [
    {
     "output_type": "execute_result",
     "data": {
      "text/plain": [
       "'15 --> Recoletos --> False --> None'"
      ]
     },
     "metadata": {},
     "execution_count": 11
    }
   ],
   "source": [
    "info_list[0] = str(info_list[0])\n",
    "info_list[3]  = str(info_list[3])\n",
    "info_list[4]  = str(info_list[4])\n",
    "\n",
    "concated = info_list[0] + \" --> \" + info_list[1] + \" --> \" + info_list[3] +  \" --> \" + info_list[4]\n",
    "concated"
   ]
  },
  {
   "cell_type": "markdown",
   "metadata": {},
   "source": [
    "3. Access to the list which is at the fourth position of **info_list** and print the result of: \n",
    "     - The concatenation of both elements contained in the list found in fourth position of **info_list**. \n",
    "     - The multiplication of the lenght of the list and the lenght of the street's name.\n",
    "    \n",
    "   If at the fourth position of **info_list** you don't find a list, go back to Exercise 1, please. "
   ]
  },
  {
   "cell_type": "code",
   "execution_count": 12,
   "metadata": {},
   "outputs": [
    {
     "output_type": "stream",
     "name": "stdout",
     "text": [
      "['Recoletos', 15]\n\n1. 15Recoletos\n\n2. Result: 135\n"
     ]
    }
   ],
   "source": [
    "print (info_list[2])\n",
    "\n",
    "concated = str(info_list[2][1]) + info_list[2][0]\n",
    "print (f'\\n1. {concated}')\n",
    "\n",
    "print (f'\\n2. Result: {len(info_list[2][0]) * info_list[2][1]}')\n",
    "\n"
   ]
  },
  {
   "cell_type": "markdown",
   "metadata": {},
   "source": [
    "### Exercise 3."
   ]
  },
  {
   "cell_type": "markdown",
   "metadata": {},
   "source": [
    "1. Get user input using input(“Enter your age: ”). If user is 18 or older, give feedback: You are old enough to drive. If below 18 give feedback to wait for the missing amount of years."
   ]
  },
  {
   "cell_type": "code",
   "execution_count": 13,
   "metadata": {},
   "outputs": [
    {
     "output_type": "stream",
     "name": "stdout",
     "text": [
      "You're old enough to drive\n"
     ]
    }
   ],
   "source": [
    "age = int(input(\"Enter your age:\" ))\n",
    "\n",
    "if age < 18:\n",
    "    difference = 18 - age\n",
    "    print(f\"Ha! Ha! You'll need to wait {difference} years!\")\n",
    "else:\n",
    "    print(\"You're old enough to drive\")         "
   ]
  },
  {
   "cell_type": "markdown",
   "metadata": {},
   "source": [
    "2. Compare the values of **my_age** and **your_age** using if/else. Who is older (me or you)? Use input(“Enter your age: ”) to get **your_age** as input. **my_age** is always your age, cause you are the one coding the program. "
   ]
  },
  {
   "cell_type": "code",
   "execution_count": 14,
   "metadata": {},
   "outputs": [
    {
     "output_type": "stream",
     "name": "stdout",
     "text": [
      "No you're not!\n"
     ]
    }
   ],
   "source": [
    "my_age = 27\n",
    "your_age = int(input(\"Enter your age:\" ))\n",
    "\n",
    "if my_age < your_age:\n",
    "    print(f\"I'm older!\")\n",
    "else:\n",
    "    print(\"No you're not!\")  "
   ]
  },
  {
   "cell_type": "markdown",
   "metadata": {},
   "source": [
    "3. Get two numbers from the user using input prompt. If a is greater than b return \"a is greater than b\", if a is less b return \"a is smaller than b\", else \"a is equal to b\"."
   ]
  },
  {
   "cell_type": "code",
   "execution_count": 15,
   "metadata": {},
   "outputs": [
    {
     "output_type": "stream",
     "name": "stdout",
     "text": [
      "b) is bigger\n"
     ]
    }
   ],
   "source": [
    "a = int(input(\"Nuber 1:\" ))\n",
    "b = int(input(\"Number 2:\" ))\n",
    "\n",
    "if a < b:\n",
    "    print(f\"b) is bigger\")\n",
    "elif b < a:\n",
    "    print(f\"a) is bigger\")\n",
    "else:\n",
    "    print(\"They're equal!\")"
   ]
  },
  {
   "cell_type": "markdown",
   "metadata": {},
   "source": [
    "### Bonus track. \n",
    "\n",
    "Learn about **for loop**\n",
    "\n",
    "Watch this video: https://www.youtube.com/watch?v=wxds6MAtUQ0\n",
    "\n",
    "Read this: https://www.w3schools.com/python/python_for_loops.asp\n",
    "\n",
    "You may need this to understand what the f*** you're doing: http://www.pythontutor.com/visualize.html#mode=edit"
   ]
  },
  {
   "cell_type": "markdown",
   "metadata": {},
   "source": [
    "Declare four variables: \n",
    "- A string variable containing your surname. \n",
    "- Two integers variables: one, with the number of the street in which you live, and two, the age of the classmate sitting on your right. \n",
    "    If you are on the right edge of the table, look for your classmate on your left.\n",
    "    If you are on remote, choose one of your mates who are on remote too. \n",
    "- A list containing the variables you have just declared."
   ]
  },
  {
   "cell_type": "code",
   "execution_count": 16,
   "metadata": {},
   "outputs": [],
   "source": [
    "surname = 'Trump'\n",
    "one = 34\n",
    "two = 56\n",
    "\n",
    "a_list = [surname, one, two]"
   ]
  },
  {
   "cell_type": "markdown",
   "metadata": {},
   "source": [
    "Using a **for loop** print every element of the list you've just created. \n",
    "    \n"
   ]
  },
  {
   "cell_type": "code",
   "execution_count": 17,
   "metadata": {},
   "outputs": [
    {
     "output_type": "stream",
     "name": "stdout",
     "text": [
      "Trump\n34\n56\n"
     ]
    }
   ],
   "source": [
    "for e in a_list:\n",
    "    print(e)"
   ]
  },
  {
   "cell_type": "markdown",
   "metadata": {},
   "source": [
    "Using a **for loop** and a **if** make sure you only print the element in the list which is a string\n",
    "(Your surname). "
   ]
  },
  {
   "cell_type": "code",
   "execution_count": 18,
   "metadata": {},
   "outputs": [
    {
     "output_type": "stream",
     "name": "stdout",
     "text": [
      "Trump\n"
     ]
    }
   ],
   "source": [
    "for e in a_list:\n",
    "    if type(e) == str:\n",
    "        print(e)"
   ]
  },
  {
   "cell_type": "markdown",
   "metadata": {},
   "source": [
    "**Well done!**"
   ]
  },
  {
   "cell_type": "markdown",
   "metadata": {},
   "source": [
    "### Bonus track of the bonus track.\n",
    "\n",
    "The following list contains some fruits:\n",
    "    \n",
    "`fruits = ['banana', 'orange', 'mango', 'lemon']`\n",
    "\n",
    "If a fruit doesn't exist in the list add the fruit to the list and print the modified list. If the fruit exists print('That fruit already exist in the list')"
   ]
  },
  {
   "cell_type": "code",
   "execution_count": 1,
   "metadata": {},
   "outputs": [],
   "source": [
    "fruits = ['banana', 'orange', 'mango', 'lemon']"
   ]
  },
  {
   "cell_type": "code",
   "execution_count": 4,
   "metadata": {},
   "outputs": [
    {
     "output_type": "stream",
     "name": "stdout",
     "text": [
      "- grapes added to the list\n['banana', 'orange', 'mango', 'lemon', 'grapes']\n"
     ]
    }
   ],
   "source": [
    "# Take 1\n",
    "fruit = input(\"Type the fruit here> \")\n",
    "\n",
    "if fruit in fruits:\n",
    "    print (f'- That fruit ({fruit}) already exist in the list')\n",
    "    \n",
    "else:\n",
    "    print(f'- {fruit} added to the list')\n",
    "    fruits.append(fruit)\n",
    "\n",
    "print(fruits)"
   ]
  },
  {
   "cell_type": "code",
   "execution_count": 5,
   "metadata": {},
   "outputs": [
    {
     "output_type": "stream",
     "name": "stdout",
     "text": [
      "- That fruit (orange) already exist in the list\n- watermelon added to the list\n- cherimoya added to the list\n\n['banana', 'orange', 'mango', 'lemon', 'grapes', 'watermelon', 'cherimoya']\n"
     ]
    }
   ],
   "source": [
    "# Take 2\n",
    "fruits_to_add =  ['orange', 'watermelon', 'cherimoya']\n",
    "\n",
    "for e in fruits_to_add:\n",
    "    if e in fruits:\n",
    "        print (f'- That fruit ({e}) already exist in the list')\n",
    "        \n",
    "    else:\n",
    "        print(f'- {e} added to the list')\n",
    "        fruits.append(e)\n",
    "\n",
    "print(f'\\n{fruits}')"
   ]
  },
  {
   "cell_type": "markdown",
   "metadata": {},
   "source": [
    "![\"hola\"](https://preview.redd.it/wk843smkri441.jpg?width=960&crop=smart&auto=webp&s=1a4d7a5ddeef38c03334d275afe3a9dd33866ce8)"
   ]
  }
 ],
 "metadata": {
  "kernelspec": {
   "name": "python3",
   "display_name": "Python 3.9.0 64-bit",
   "metadata": {
    "interpreter": {
     "hash": "2475d6245a592878725d4384023842617923001cc03e07ab60580c5fb01fa30c"
    }
   }
  },
  "language_info": {
   "codemirror_mode": {
    "name": "ipython",
    "version": 3
   },
   "file_extension": ".py",
   "mimetype": "text/x-python",
   "name": "python",
   "nbconvert_exporter": "python",
   "pygments_lexer": "ipython3",
   "version": "3.9.0-final"
  }
 },
 "nbformat": 4,
 "nbformat_minor": 4
}