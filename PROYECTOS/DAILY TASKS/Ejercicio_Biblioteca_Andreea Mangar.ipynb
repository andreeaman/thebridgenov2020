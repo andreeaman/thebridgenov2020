{
 "cells": [
  {
   "cell_type": "markdown",
   "metadata": {},
   "source": [
    "# Ejercicio La Biblioteca | Repaso Week 1\n",
    "## Precurso DSNov20 - The Bridge\n",
    "\n",
    "La versión original de esta Práctica es en español por lo que respetaremos sus orígenes y a su autora, Clara Piniella, y lo dejaremos en este idioma. Disculpen las molestias que esto pudiera ocasionarle como estudiante. "
   ]
  },
  {
   "cell_type": "markdown",
   "metadata": {},
   "source": [
    "![biblioteca](https://static2.abc.es/media/familia/2018/11/02/AdobeStock_210538561-kJTF--620x349@abc.jpg)"
   ]
  },
  {
   "cell_type": "markdown",
   "metadata": {},
   "source": [
    "Es tu primer día de trabajo en la Biblioteca de tu barrio y ya tienes tu primera tarea. Te acaban de pasar una lista con libros y la lista de unidades disponibles."
   ]
  },
  {
   "cell_type": "code",
   "execution_count": 12,
   "metadata": {},
   "outputs": [],
   "source": [
    "libros = [\"El mal de Corcira\", \"Un mundo feliz\", \"Lolita\", \"Crimen y castigo\", \"Python from for to pro\",\\\n",
    "          \"El señor de los anillos\", \"Cien años de soledad\", \"Harry Potter\", \"Lectura Fácil\", \"Seda\",\\\n",
    "          \"La chica de nieve\", \"El día que se perdió la cordura\", \"Data Science\"]"
   ]
  },
  {
   "cell_type": "code",
   "execution_count": 1,
   "metadata": {},
   "outputs": [],
   "source": [
    "biblioteca = [(\"El mal de Corcira\",4),(\"Un mundo feliz\", 2),(\"Lolita\", 5),\\\n",
    "              (\"Crimen y castigo\",2),(\"Python from for to pro\", 0),(\"El señor de los anillos\", 6),\\\n",
    "              (\"Cien años de soledad\", 5),(\"Harry Potter\", 9),(\"Lectura Fácil\", 4),(\"Seda\", 2),\\\n",
    "              (\"La chica de nieve\", 6),(\"El día que se perdió la cordura\", 3), (\"Data Science\", 0)]"
   ]
  },
  {
   "cell_type": "markdown",
   "metadata": {},
   "source": [
    "1. ¿Cuántos títulos diferentes tienen en esta biblioteca?"
   ]
  },
  {
   "cell_type": "code",
   "execution_count": 14,
   "metadata": {},
   "outputs": [
    {
     "output_type": "stream",
     "name": "stdout",
     "text": [
      "13\n"
     ]
    }
   ],
   "source": [
    "#your code here\n",
    "libros = [\"El mal de Corcira\", \"Un mundo feliz\", \"Lolita\", \"Crimen y castigo\", \"Python from for to pro\",\\\n",
    "          \"El señor de los anillos\", \"Cien años de soledad\", \"Harry Potter\", \"Lectura Fácil\", \"Seda\",\\\n",
    "          \"La chica de nieve\", \"El día que se perdió la cordura\", \"Data Science\"]\n",
    "biblioteca = [(\"El mal de Corcira\",4),(\"Un mundo feliz\", 2),(\"Lolita\", 5),\\\n",
    "              (\"Crimen y castigo\",2),(\"Python from for to pro\", 0),(\"El señor de los anillos\", 6),\\\n",
    "              (\"Cien años de soledad\", 5),(\"Harry Potter\", 9),(\"Lectura Fácil\", 4),(\"Seda\", 2),\\\n",
    "              (\"La chica de nieve\", 6),(\"El día que se perdió la cordura\", 3), (\"Data Science\", 0)]\n",
    "\n",
    "libros.sort \n",
    "biblioteca.sort\n",
    "titulos_unicos = set(libros)\n",
    "print (len(titulos_unicos))\n",
    "\n",
    "\n"
   ]
  },
  {
   "cell_type": "markdown",
   "metadata": {},
   "source": [
    "2. ¿Cuántas letras componen la palabra *Seda*? "
   ]
  },
  {
   "cell_type": "code",
   "execution_count": 15,
   "metadata": {},
   "outputs": [
    {
     "output_type": "stream",
     "name": "stdout",
     "text": [
      "4\n"
     ]
    }
   ],
   "source": [
    "#your code here\n",
    "print (len(biblioteca[9][0]))\n"
   ]
  },
  {
   "cell_type": "markdown",
   "metadata": {},
   "source": [
    "3. ¿Cuántas unidades hay del libro *Seda*?"
   ]
  },
  {
   "cell_type": "code",
   "execution_count": 2,
   "metadata": {},
   "outputs": [
    {
     "output_type": "execute_result",
     "data": {
      "text/plain": [
       "2"
      ]
     },
     "metadata": {},
     "execution_count": 2
    }
   ],
   "source": [
    "biblioteca[9][1]"
   ]
  },
  {
   "cell_type": "code",
   "execution_count": 16,
   "metadata": {},
   "outputs": [
    {
     "output_type": "stream",
     "name": "stdout",
     "text": [
      "1\n"
     ]
    }
   ],
   "source": [
    "#your code here\n",
    "print (len(str(biblioteca[9][1])))"
   ]
  },
  {
   "cell_type": "markdown",
   "metadata": {},
   "source": [
    "4. Quien registraba los libros antes de ti dejo pendiente de añadir a la lista **libros** la variable **pendiente**, además debió confundir el famoso libro de George Orwell *1984*, con un número, asignándolo como un integer.\n",
    "¿Puedes cambiarlo y pasar a string este elemento y añadirlo a **libros**?"
   ]
  },
  {
   "cell_type": "code",
   "execution_count": 17,
   "metadata": {},
   "outputs": [
    {
     "output_type": "stream",
     "name": "stdout",
     "text": [
      "['El mal de Corcira', 'Un mundo feliz', 'Lolita', 'Crimen y castigo', 'Python from for to pro', 'El señor de los anillos', 'Cien años de soledad', 'Harry Potter', 'Lectura Fácil', 'Seda', 'La chica de nieve', 'El día que se perdió la cordura', 'Data Science', '1984']\n"
     ]
    }
   ],
   "source": [
    "pendiente = 1984\n",
    "libros.append(str(pendiente))\n",
    "print (libros)\n"
   ]
  },
  {
   "cell_type": "code",
   "execution_count": 18,
   "metadata": {},
   "outputs": [],
   "source": [
    "#your code here"
   ]
  },
  {
   "cell_type": "markdown",
   "metadata": {},
   "source": [
    "5. Te piden que añadas a esta lista el nuevo libro de Los Juegos del hambre que se titula *Balada de pájaros cantores y serpientes*. Has contado las unidades y han llegado 10. \n",
    "\n",
    "    a. Crea una variable con el título del libro, que se llame **libro_1**. Añade este elemento a la lista **libros**.\n",
    "\n",
    "    b. Crea una variable con el número de unidades, que se llame **uds_1**.\n",
    "\n",
    "    c. Crea una variable que sea una lista llamada **nuevo_libro** en el que su primer elemento sea **libro_1** y el segundo **uds_1**. \n",
    "\n",
    "    d. Convierte a **nuevo_libro** a tupla.\n",
    "    (muestra qué tipo es ahora esta variable)\n",
    "\n",
    "    e. Añade **nuevo_libro** a la lista **biblioteca** "
   ]
  },
  {
   "cell_type": "code",
   "execution_count": 19,
   "metadata": {},
   "outputs": [
    {
     "output_type": "stream",
     "name": "stdout",
     "text": [
      "<class 'tuple'>\n[('El mal de Corcira', 4), ('Un mundo feliz', 2), ('Lolita', 5), ('Crimen y castigo', 2), ('Python from for to pro', 0), ('El señor de los anillos', 6), ('Cien años de soledad', 5), ('Harry Potter', 9), ('Lectura Fácil', 4), ('Seda', 2), ('La chica de nieve', 6), ('El día que se perdió la cordura', 3), ('Data Science', 0), ('Balada de pájaros cantores y serpientes', 10)]\n"
     ]
    }
   ],
   "source": [
    "#your code here\n",
    "#a\n",
    "libro_1 = \"Balada de pájaros cantores y serpientes\"\n",
    "libros.append (libro_1)\n",
    "#b\n",
    "uds_1 = 10\n",
    "#c\n",
    "nuevo_libro = [libro_1,uds_1]\n",
    "#d\n",
    "nuevo_libro = tuple (nuevo_libro)\n",
    "print(type(nuevo_libro))\n",
    "#c\n",
    "biblioteca.append (nuevo_libro)\n",
    "print (biblioteca)"
   ]
  },
  {
   "cell_type": "markdown",
   "metadata": {},
   "source": [
    "6. Acaban de traer una unidad más de *El mal de Corcira*, añade una unidad más al segundo elemento del primer elemento de la lista **biblioteca**."
   ]
  },
  {
   "cell_type": "code",
   "execution_count": 20,
   "metadata": {},
   "outputs": [
    {
     "output_type": "execute_result",
     "data": {
      "text/plain": [
       "('El mal de Corcira', 4)"
      ]
     },
     "metadata": {},
     "execution_count": 20
    }
   ],
   "source": [
    "biblioteca[0]"
   ]
  },
  {
   "cell_type": "code",
   "execution_count": 21,
   "metadata": {},
   "outputs": [
    {
     "output_type": "execute_result",
     "data": {
      "text/plain": [
       "4"
      ]
     },
     "metadata": {},
     "execution_count": 21
    }
   ],
   "source": [
    "biblioteca[0][1]"
   ]
  },
  {
   "cell_type": "code",
   "execution_count": 22,
   "metadata": {},
   "outputs": [
    {
     "output_type": "error",
     "ename": "TypeError",
     "evalue": "'tuple' object does not support item assignment",
     "traceback": [
      "\u001b[1;31m---------------------------------------------------------------------------\u001b[0m",
      "\u001b[1;31mTypeError\u001b[0m                                 Traceback (most recent call last)",
      "\u001b[1;32m<ipython-input-22-8a7bcc0d7ddc>\u001b[0m in \u001b[0;36m<module>\u001b[1;34m\u001b[0m\n\u001b[1;32m----> 1\u001b[1;33m \u001b[0mbiblioteca\u001b[0m\u001b[1;33m[\u001b[0m\u001b[1;36m0\u001b[0m\u001b[1;33m]\u001b[0m\u001b[1;33m[\u001b[0m\u001b[1;36m1\u001b[0m\u001b[1;33m]\u001b[0m \u001b[1;33m=\u001b[0m \u001b[0mbiblioteca\u001b[0m\u001b[1;33m[\u001b[0m\u001b[1;36m0\u001b[0m\u001b[1;33m]\u001b[0m\u001b[1;33m[\u001b[0m\u001b[1;36m1\u001b[0m\u001b[1;33m]\u001b[0m \u001b[1;33m-\u001b[0m \u001b[1;36m1\u001b[0m\u001b[1;33m\u001b[0m\u001b[1;33m\u001b[0m\u001b[0m\n\u001b[0m",
      "\u001b[1;31mTypeError\u001b[0m: 'tuple' object does not support item assignment"
     ]
    }
   ],
   "source": [
    "biblioteca[0][1] = biblioteca[0][1] +  1"
   ]
  },
  {
   "cell_type": "markdown",
   "metadata": {},
   "source": [
    "¿Cómo se te ocurre que podrías alterar este dato?"
   ]
  },
  {
   "cell_type": "code",
   "execution_count": 12,
   "metadata": {},
   "outputs": [],
   "source": [
    "#your comment here: la tupla no admnite cambios\n"
   ]
  },
  {
   "cell_type": "markdown",
   "metadata": {},
   "source": [
    "Convierte la tupla en una lista para poder modificar el segundo elemento y añadir esta unidad. Asigna la tupla convertida a lista a la variable **tup_to_list** haz los cambios, agrega la unidad y vuelve a añadir la lista ya convertida en tupla a la lista **biblioteca**."
   ]
  },
  {
   "cell_type": "code",
   "execution_count": 19,
   "metadata": {},
   "outputs": [
    {
     "output_type": "stream",
     "name": "stdout",
     "text": [
      "[('El mal de Corcira', 4), ('Un mundo feliz', 2), ('Lolita', 5), ('Crimen y castigo', 2), ('Python from for to pro', 0), ('El señor de los anillos', 6), ('Cien años de soledad', 5), ('Harry Potter', 9), ('Lectura Fácil', 4), ('Seda', 2), ('La chica de nieve', 6), ('El día que se perdió la cordura', 3), ('Data Science', 0), ('Balada de pájaros cantores y serpientes', 10), ('Balada de pájaros cantores y serpientes', 11)]\n"
     ]
    }
   ],
   "source": [
    "#your code here\n",
    "tup_to_list = list (nuevo_libro)\n",
    "tup_to_list [1] = 11\n",
    "tup_to_list = tuple (tup_to_list)\n",
    "biblioteca.append (tup_to_list)\n",
    "print (biblioteca)"
   ]
  },
  {
   "cell_type": "markdown",
   "metadata": {},
   "source": [
    "Ahora, tenemos dos tuplas con el libro *El mal de Corcira*, pero esto no es lo que queremos. Elimina el primer elemento de la lista **biblioteca**.\n",
    "\n",
    "Hint: https://www.programiz.com/python-programming/methods/list/remove"
   ]
  },
  {
   "cell_type": "code",
   "execution_count": 20,
   "metadata": {},
   "outputs": [
    {
     "output_type": "stream",
     "name": "stdout",
     "text": [
      "[('El mal de Corcira', 4), ('Un mundo feliz', 2), ('Lolita', 5), ('Crimen y castigo', 2), ('Python from for to pro', 0), ('El señor de los anillos', 6), ('Cien años de soledad', 5), ('Harry Potter', 9), ('Lectura Fácil', 4), ('Seda', 2), ('La chica de nieve', 6), ('El día que se perdió la cordura', 3), ('Data Science', 0), ('Balada de pájaros cantores y serpientes', 11)]\n"
     ]
    }
   ],
   "source": [
    "#your code here\n",
    "del biblioteca [13]\n",
    "print (biblioteca)\n"
   ]
  },
  {
   "cell_type": "markdown",
   "metadata": {},
   "source": [
    "7. Te han pedido que localices los títulos de los libros de los que no disponen de unidades. Es decir, su segundo elemento, es igual a 0. "
   ]
  },
  {
   "cell_type": "code",
   "execution_count": 7,
   "metadata": {},
   "outputs": [
    {
     "output_type": "stream",
     "name": "stdout",
     "text": [
      "Python from for to pro\nData Science\n"
     ]
    }
   ],
   "source": [
    "#your code here\n",
    "\n",
    "for i in biblioteca:\n",
    "    #print(i[1])\n",
    "    if i[1] == 0:\n",
    "        print(i[0])\n",
    "\n",
    "              \n",
    "    "
   ]
  },
  {
   "cell_type": "markdown",
   "metadata": {},
   "source": [
    "8. ¿Cómo meterías estos dos elementos en una lista llamada **missing**?"
   ]
  },
  {
   "cell_type": "code",
   "execution_count": 8,
   "metadata": {},
   "outputs": [
    {
     "output_type": "stream",
     "name": "stdout",
     "text": [
      "['Python from for to pro', 'Data Science']\n"
     ]
    }
   ],
   "source": [
    "#your code here\n",
    "missing = []\n",
    "for i in biblioteca:\n",
    "    #print(i[1])\n",
    "    if i[1] == 0:\n",
    "        missing.append(i[0])\n",
    "\n",
    "print(missing)\n",
    "\n",
    "\n",
    "\n"
   ]
  },
  {
   "cell_type": "code",
   "execution_count": null,
   "metadata": {},
   "outputs": [],
   "source": []
  }
 ],
 "metadata": {
  "kernelspec": {
   "name": "python3",
   "display_name": "Python 3.9.0 64-bit",
   "metadata": {
    "interpreter": {
     "hash": "468f25ad0239460415b7e6b7483d5c8f7213894121f6fb96c4cb6ef93fffe534"
    }
   }
  },
  "language_info": {
   "codemirror_mode": {
    "name": "ipython",
    "version": 3
   },
   "file_extension": ".py",
   "mimetype": "text/x-python",
   "name": "python",
   "nbconvert_exporter": "python",
   "pygments_lexer": "ipython3",
   "version": "3.9.0-final"
  }
 },
 "nbformat": 4,
 "nbformat_minor": 4
}