{
 "metadata": {
  "language_info": {
   "codemirror_mode": {
    "name": "ipython",
    "version": 3
   },
   "file_extension": ".py",
   "mimetype": "text/x-python",
   "name": "python",
   "nbconvert_exporter": "python",
   "pygments_lexer": "ipython3",
   "version": "3.6.4-final"
  },
  "orig_nbformat": 2,
  "kernelspec": {
   "name": "python36464bitc2077ed07ea84d23aa5b518d224882ab",
   "display_name": "Python 3.6.4 64-bit",
   "language": "python"
  }
 },
 "nbformat": 4,
 "nbformat_minor": 2,
 "cells": [
  {
   "cell_type": "code",
   "execution_count": 61,
   "metadata": {},
   "outputs": [
    {
     "output_type": "stream",
     "name": "stdout",
     "text": [
      "Juan Guerrero Enriquez\n"
     ]
    }
   ],
   "source": [
    "lista_alumnos = ['María Cagigas','Kapil Dadlani','Daniel del Valle','María del Mar Delgado Domínguez','Estela Falgas','Alfonso Garcia Mateo-Sagasta','Javier Gil Antuñano Foncillas','Juan Guerrero Enriquez','Antonio Leal','Miguel Merry del Val','Roberto Molleda','Javier Olcoz','Ariadna Puigventos','Leonardo Sánchez Soler','Anais villegas', \"Xeles\", \"Alejandro Álex\", \"Andreea\"]\n",
    "\n",
    "import random\n",
    "\n",
    "alumno_aleatorio = random.choice(lista_alumnos)\n",
    "print(alumno_aleatorio)"
   ]
  },
  {
   "cell_type": "code",
   "execution_count": 62,
   "metadata": {},
   "outputs": [
    {
     "output_type": "stream",
     "name": "stdout",
     "text": [
      "seed: 1684162\n"
     ]
    },
    {
     "output_type": "execute_result",
     "data": {
      "text/plain": [
       "{1: 'Javier Gil Antuñano Foncillas',\n",
       " 2: 'Kapil Dadlani',\n",
       " 3: 'Javier Olcoz',\n",
       " 4: 'Andreea',\n",
       " 5: 'Anais villegas',\n",
       " 6: 'Alfonso Garcia Mateo-Sagasta',\n",
       " 7: 'María del Mar Delgado Domínguez',\n",
       " 8: 'Miguel Merry del Val',\n",
       " 9: 'Ariadna Puigventos',\n",
       " 10: 'Roberto Molleda',\n",
       " 11: 'Estela Falgas',\n",
       " 12: 'Alejandro Álex',\n",
       " 13: 'Juan Guerrero Enriquez',\n",
       " 14: 'Xeles',\n",
       " 15: 'Daniel del Valle',\n",
       " 16: 'Antonio Leal',\n",
       " 17: 'Leonardo Sánchez Soler',\n",
       " 18: 'María Cagigas'}"
      ]
     },
     "metadata": {},
     "execution_count": 62
    }
   ],
   "source": [
    "seed = 1684161\n",
    "random.seed(seed)\n",
    "\n",
    "def get_key_from_value(dictionary, alumn):\n",
    "    return list(dictionary.keys())[list(dictionary.values()).index(alumn)]\n",
    "\n",
    "def create_presentation_shifts(students):\n",
    "    range_list = list(range(1, len(students) + 1))\n",
    "    random.shuffle(range_list)\n",
    "    student_turn_dict = dict(zip(range_list, students))\n",
    "    return {k: student_turn_dict[k] for k in sorted(student_turn_dict)}\n",
    "\n",
    "l = \"Leonardo Sánchez Soler\"\n",
    "j = \"Javier Gil Antuñano Foncillas\"\n",
    "\n",
    "turns = create_presentation_shifts(students=lista_alumnos)\n",
    "\n",
    "javier_turn = get_key_from_value(dictionary=turns, alumn=j)\n",
    "leo_turn = get_key_from_value(dictionary=turns, alumn=l)\n",
    "\n",
    "while leo_turn <= 12 or javier_turn >=  6:\n",
    "    seed += 1\n",
    "    turns = create_presentation_shifts(students=lista_alumnos)\n",
    "    javier_turn = get_key_from_value(dictionary=turns, alumn=j)\n",
    "    leo_turn = get_key_from_value(dictionary=turns, alumn=l)\n",
    "\n",
    "print(\"seed:\", seed)\n",
    "turns"
   ]
  },
  {
   "cell_type": "code",
   "execution_count": null,
   "metadata": {},
   "outputs": [],
   "source": []
  }
 ]
}