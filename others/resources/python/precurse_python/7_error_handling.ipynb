{
 "cells": [
  {
   "cell_type": "markdown",
   "metadata": {},
   "source": [
    "# Apartado 7 - Error handling"
   ]
  },
  {
   "cell_type": "markdown",
   "metadata": {},
   "source": [
    "- Try/Except\n",
    "- Raise error"
   ]
  },
  {
   "cell_type": "markdown",
   "metadata": {},
   "source": [
    "---------------------------------"
   ]
  },
  {
   "cell_type": "markdown",
   "metadata": {},
   "source": [
    "## Try/Except"
   ]
  },
  {
   "cell_type": "markdown",
   "metadata": {},
   "source": [
    "[HELP](https://realpython.com/python-exceptions/#:~:text=The%20try%20and%20except%20block%20in%20Python%20is%20used%20to,in%20the%20preceding%20try%20clause.)"
   ]
  },
  {
   "cell_type": "code",
   "execution_count": 4,
   "metadata": {},
   "outputs": [
    {
     "data": {
      "text/plain": [
       "2"
      ]
     },
     "execution_count": 4,
     "metadata": {},
     "output_type": "execute_result"
    }
   ],
   "source": [
    "x = 2\n",
    "x"
   ]
  },
  {
   "cell_type": "code",
   "execution_count": 5,
   "metadata": {},
   "outputs": [
    {
     "name": "stdout",
     "output_type": "stream",
     "text": [
      "Estamos intentando en el Try\n",
      "Ahora estamos en el except\n",
      "3\n"
     ]
    }
   ],
   "source": [
    "gh = 3\n",
    "try:\n",
    "    print(\"Estamos intentando en el Try\")\n",
    "    print(gj)\n",
    "except:\n",
    "    print(\"Ahora estamos en el except\")\n",
    "    print(gh)"
   ]
  },
  {
   "cell_type": "code",
   "execution_count": 6,
   "metadata": {},
   "outputs": [
    {
     "name": "stdout",
     "output_type": "stream",
     "text": [
      "-\n"
     ]
    }
   ],
   "source": [
    "x = \"a25151gjajgj-\"\n",
    "\n",
    "print(x[-1])"
   ]
  },
  {
   "cell_type": "code",
   "execution_count": 7,
   "metadata": {},
   "outputs": [
    {
     "name": "stdout",
     "output_type": "stream",
     "text": [
      "S\n",
      "--------------\n",
      "X\n",
      "--------------\n",
      "8\n",
      "--------------\n",
      "{'H', 'X'}\n",
      "--------------\n",
      "1\n"
     ]
    }
   ],
   "source": [
    "s = \"String\"\n",
    "l = [\"X\", \"H\", \"X\"]\n",
    "t = (8, 10)\n",
    "c = set(l)\n",
    "d = {\"a\": 1}\n",
    "\n",
    "print(s[0])\n",
    "print(\"--------------\")\n",
    "print(l[0])\n",
    "print(\"--------------\")\n",
    "print(t[0])\n",
    "print(\"--------------\")\n",
    "print(c)\n",
    "print(\"--------------\")\n",
    "print(d[\"a\"])"
   ]
  },
  {
   "cell_type": "code",
   "execution_count": 8,
   "metadata": {},
   "outputs": [
    {
     "ename": "TypeError",
     "evalue": "'int' object is not subscriptable",
     "output_type": "error",
     "traceback": [
      "\u001b[1;31m---------------------------------------------------------------------------\u001b[0m",
      "\u001b[1;31mTypeError\u001b[0m                                 Traceback (most recent call last)",
      "\u001b[1;32m<ipython-input-8-389c825de333>\u001b[0m in \u001b[0;36m<module>\u001b[1;34m\u001b[0m\n\u001b[0;32m      1\u001b[0m \u001b[0mx\u001b[0m \u001b[1;33m=\u001b[0m \u001b[1;36m5\u001b[0m\u001b[1;33m\u001b[0m\u001b[1;33m\u001b[0m\u001b[0m\n\u001b[1;32m----> 2\u001b[1;33m \u001b[1;36m5\u001b[0m\u001b[1;33m[\u001b[0m\u001b[1;36m0\u001b[0m\u001b[1;33m]\u001b[0m\u001b[1;33m\u001b[0m\u001b[1;33m\u001b[0m\u001b[0m\n\u001b[0m",
      "\u001b[1;31mTypeError\u001b[0m: 'int' object is not subscriptable"
     ]
    }
   ],
   "source": [
    "x = 5\n",
    "5[0]"
   ]
  },
  {
   "cell_type": "code",
   "execution_count": 9,
   "metadata": {},
   "outputs": [
    {
     "name": "stdout",
     "output_type": "stream",
     "text": [
      "a\n",
      "b\n",
      "c\n",
      "d\n",
      "Ha dado error\n",
      "5\n"
     ]
    }
   ],
   "source": [
    "lista = [\"a1\", \"b2\", \"c3\", \"d4\", 5]\n",
    "\n",
    "for elem in lista:\n",
    "    try:\n",
    "        print(elem[0])\n",
    "    except:\n",
    "        print(\"Ha dado error\")\n",
    "        print(elem)"
   ]
  },
  {
   "cell_type": "code",
   "execution_count": 10,
   "metadata": {},
   "outputs": [
    {
     "name": "stdout",
     "output_type": "stream",
     "text": [
      "1\n",
      "2\n"
     ]
    },
    {
     "ename": "IndexError",
     "evalue": "string index out of range",
     "output_type": "error",
     "traceback": [
      "\u001b[1;31m---------------------------------------------------------------------------\u001b[0m",
      "\u001b[1;31mIndexError\u001b[0m                                Traceback (most recent call last)",
      "\u001b[1;32m<ipython-input-10-72ee63ae33ae>\u001b[0m in \u001b[0;36m<module>\u001b[1;34m\u001b[0m\n\u001b[0;32m      2\u001b[0m \u001b[1;33m\u001b[0m\u001b[0m\n\u001b[0;32m      3\u001b[0m \u001b[1;32mfor\u001b[0m \u001b[0melem\u001b[0m \u001b[1;32min\u001b[0m \u001b[0mlista\u001b[0m\u001b[1;33m:\u001b[0m\u001b[1;33m\u001b[0m\u001b[1;33m\u001b[0m\u001b[0m\n\u001b[1;32m----> 4\u001b[1;33m     \u001b[0mprint\u001b[0m\u001b[1;33m(\u001b[0m\u001b[0melem\u001b[0m\u001b[1;33m[\u001b[0m\u001b[1;36m1\u001b[0m\u001b[1;33m]\u001b[0m\u001b[1;33m)\u001b[0m\u001b[1;33m\u001b[0m\u001b[1;33m\u001b[0m\u001b[0m\n\u001b[0m",
      "\u001b[1;31mIndexError\u001b[0m: string index out of range"
     ]
    }
   ],
   "source": [
    "lista = [\"a1\", \"b2\", \"c\", \"d4\", 5]\n",
    "\n",
    "for elem in lista:\n",
    "    print(elem[1])"
   ]
  },
  {
   "cell_type": "code",
   "execution_count": 11,
   "metadata": {},
   "outputs": [
    {
     "name": "stdout",
     "output_type": "stream",
     "text": [
      "1\n",
      "2\n",
      "Ha dado error:\n",
      "Error: string index out of range\n",
      "c\n",
      "4\n",
      "Ha dado error:\n",
      "Error: 'int' object is not subscriptable\n",
      "5\n"
     ]
    }
   ],
   "source": [
    "lista = [\"a1\", \"b2\", \"c\", \"d4\", 5]\n",
    "\n",
    "for elem in lista:\n",
    "    try:\n",
    "        print(elem[1])\n",
    "    except Exception as error:\n",
    "        print(\"Ha dado error:\")\n",
    "        print(\"Error:\", error)\n",
    "        print(elem)"
   ]
  },
  {
   "cell_type": "code",
   "execution_count": 12,
   "metadata": {},
   "outputs": [
    {
     "data": {
      "text/plain": [
       "<function __main__.mi_funcion()>"
      ]
     },
     "execution_count": 12,
     "metadata": {},
     "output_type": "execute_result"
    }
   ],
   "source": [
    "def mi_funcion():\n",
    "    print(\"Hola\")\n",
    "\n",
    "mi_funcion"
   ]
  },
  {
   "cell_type": "code",
   "execution_count": 16,
   "metadata": {},
   "outputs": [
    {
     "name": "stdin",
     "output_type": "stream",
     "text": [
      " 6\n"
     ]
    }
   ],
   "source": [
    "x = int(input())"
   ]
  },
  {
   "cell_type": "code",
   "execution_count": 17,
   "metadata": {},
   "outputs": [
    {
     "name": "stdin",
     "output_type": "stream",
     "text": [
      "Entra una cosa: una\n"
     ]
    },
    {
     "name": "stdout",
     "output_type": "stream",
     "text": [
      "Ha dado error\n"
     ]
    },
    {
     "name": "stdin",
     "output_type": "stream",
     "text": [
      "Entra una cosa: otra\n",
      "Pon otra cosa: 4\n"
     ]
    },
    {
     "name": "stdout",
     "output_type": "stream",
     "text": [
      "otra4\n"
     ]
    }
   ],
   "source": [
    "def f_suma_concatena():\n",
    "    try:\n",
    "        x = int(input(\"Entra una cosa:\"))\n",
    "        y = int(input(\"Pon otra cosa:\"))\n",
    "    except:\n",
    "        print(\"Ha dado error\")\n",
    "        x = input(\"Entra una cosa:\")\n",
    "        y = input(\"Pon otra cosa:\")\n",
    "    print(x + y)\n",
    "\n",
    "f_suma_concatena()"
   ]
  },
  {
   "cell_type": "markdown",
   "metadata": {},
   "source": [
    "## Raise error"
   ]
  },
  {
   "cell_type": "markdown",
   "metadata": {},
   "source": [
    "Pendiente"
   ]
  },
  {
   "cell_type": "code",
   "execution_count": null,
   "metadata": {},
   "outputs": [],
   "source": [
    "except Exception as error:\n",
    "    print (\"Ha ocurrido un error:\", error)"
   ]
  },
  {
   "cell_type": "code",
   "execution_count": 5,
   "metadata": {},
   "outputs": [
    {
     "output_type": "error",
     "ename": "SyntaxError",
     "evalue": "invalid syntax (<ipython-input-5-40d82f9f0007>, line 8)",
     "traceback": [
      "\u001b[1;36m  File \u001b[1;32m\"<ipython-input-5-40d82f9f0007>\"\u001b[1;36m, line \u001b[1;32m8\u001b[0m\n\u001b[1;33m    if operador == \"+\":\u001b[0m\n\u001b[1;37m    ^\u001b[0m\n\u001b[1;31mSyntaxError\u001b[0m\u001b[1;31m:\u001b[0m invalid syntax\n"
     ]
    }
   ],
   "source": [
    "#minicalculadora\n",
    "\n",
    "\n",
    "def minicalculadora (a,b, operador, DEBUG=0):\n",
    "    try:\n",
    "        a = int(a)\n",
    "        b = int(b)\n",
    "    if operador == \"+\":\n",
    "        return a + b\n",
    "    elif operador ==\"/\":\n",
    "        return a/b\n",
    "    else:\n",
    "        print(\"Esta calculadora solo permite suma y division\")\n",
    "except Exception as error:\n",
    "    if DEBUG != 0\n",
    "    print(error)\n",
    "    print (\"Ha ocurrido un error:\", error)\n",
    "\n",
    "s = input(\"escribe un operador:\")\n",
    "a = input(\"escribe un operador:\")\n",
    "b = input(\"escribe un operador:\")\n",
    "minicalculadora(a=a,b=b,operador=s, DEBUG=1)\n"
   ]
  },
  {
   "cell_type": "code",
   "execution_count": 8,
   "metadata": {},
   "outputs": [
    {
     "output_type": "error",
     "ename": "TypeError",
     "evalue": "mostrar_dinero_banco() got an unexpected keyword argument 'pasword'",
     "traceback": [
      "\u001b[1;31m---------------------------------------------------------------------------\u001b[0m",
      "\u001b[1;31mTypeError\u001b[0m                                 Traceback (most recent call last)",
      "\u001b[1;32m<ipython-input-8-42f4d8e371fd>\u001b[0m in \u001b[0;36m<module>\u001b[1;34m\u001b[0m\n\u001b[0;32m      2\u001b[0m     \u001b[1;32massert\u001b[0m \u001b[1;32mTrue\u001b[0m\u001b[1;33m,\u001b[0m \u001b[1;34m\"No has introducido la contraseña corecta\"\u001b[0m\u001b[1;33m\u001b[0m\u001b[1;33m\u001b[0m\u001b[0m\n\u001b[0;32m      3\u001b[0m     \u001b[1;32mreturn\u001b[0m \u001b[1;36m581385178587518517\u001b[0m\u001b[1;33m\u001b[0m\u001b[1;33m\u001b[0m\u001b[0m\n\u001b[1;32m----> 4\u001b[1;33m \u001b[0mmostrar_dinero_banco\u001b[0m\u001b[1;33m(\u001b[0m\u001b[0mpasword\u001b[0m\u001b[1;33m=\u001b[0m\u001b[1;36m41241\u001b[0m\u001b[1;33m)\u001b[0m\u001b[1;33m\u001b[0m\u001b[1;33m\u001b[0m\u001b[0m\n\u001b[0m",
      "\u001b[1;31mTypeError\u001b[0m: mostrar_dinero_banco() got an unexpected keyword argument 'pasword'"
     ]
    }
   ],
   "source": [
    "def mostrar_dinero_banco(password):\n",
    "    assert True, \"No has introducido la contraseña corecta\"\n",
    "    return 581385178587518517\n",
    "mostrar_dinero_banco(pasword=41241) "
   ]
  },
  {
   "cell_type": "code",
   "execution_count": 12,
   "metadata": {},
   "outputs": [
    {
     "output_type": "stream",
     "name": "stdout",
     "text": [
      "error Error, 1 no es 2\nha ocurrido un error\n"
     ]
    }
   ],
   "source": [
    "try:\n",
    "    assert (1==2), \"Error, 1 no es 2\"\n",
    "except Exception as error:\n",
    "    print(\"error\", error)\n",
    "    print (\"ha ocurrido un error\")"
   ]
  },
  {
   "cell_type": "code",
   "execution_count": null,
   "metadata": {},
   "outputs": [],
   "source": []
  }
 ],
 "metadata": {
  "kernelspec": {
   "name": "python3",
   "display_name": "Python 3.9.0 64-bit",
   "metadata": {
    "interpreter": {
     "hash": "468f25ad0239460415b7e6b7483d5c8f7213894121f6fb96c4cb6ef93fffe534"
    }
   }
  },
  "language_info": {
   "codemirror_mode": {
    "name": "ipython",
    "version": 3
   },
   "file_extension": ".py",
   "mimetype": "text/x-python",
   "name": "python",
   "nbconvert_exporter": "python",
   "pygments_lexer": "ipython3",
   "version": "3.9.0-final"
  }
 },
 "nbformat": 4,
 "nbformat_minor": 4
}