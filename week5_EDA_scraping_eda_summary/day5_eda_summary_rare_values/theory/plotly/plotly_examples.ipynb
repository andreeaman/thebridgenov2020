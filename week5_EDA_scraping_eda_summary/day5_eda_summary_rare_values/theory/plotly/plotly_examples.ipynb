{
 "metadata": {
  "language_info": {
   "codemirror_mode": {
    "name": "ipython",
    "version": 3
   },
   "file_extension": ".py",
   "mimetype": "text/x-python",
   "name": "python",
   "nbconvert_exporter": "python",
   "pygments_lexer": "ipython3",
   "version": "3.6.4-final"
  },
  "orig_nbformat": 2,
  "kernelspec": {
   "name": "python36464bitc2077ed07ea84d23aa5b518d224882ab",
   "display_name": "Python 3.6.4 64-bit",
   "language": "python"
  }
 },
 "nbformat": 4,
 "nbformat_minor": 2,
 "cells": [
  {
   "source": [
    "https://plotly.com/"
   ],
   "cell_type": "markdown",
   "metadata": {}
  },
  {
   "cell_type": "code",
   "execution_count": 9,
   "metadata": {},
   "outputs": [
    {
     "output_type": "execute_result",
     "data": {
      "text/plain": [
       "        School  Women  Men  Gap\n",
       "0          MIT     94  152   58\n",
       "1     Stanford     96  151   55\n",
       "2      Harvard    112  165   53\n",
       "3       U.Penn     92  141   49\n",
       "4    Princeton     90  137   47\n",
       "5      Chicago     78  118   40\n",
       "6   Georgetown     94  131   37\n",
       "7        Tufts     76  112   36\n",
       "8         Yale     79  114   35\n",
       "9     Columbia     86  119   33\n",
       "10        Duke     93  124   31\n",
       "11   Dartmouth     84  114   30\n",
       "12         NYU     67   94   27\n",
       "13  Notre Dame     73  100   27\n",
       "14     Cornell     80  107   27\n",
       "15    Michigan     62   84   22\n",
       "16       Brown     72   92   20\n",
       "17    Berkeley     71   88   17\n",
       "18       Emory     68   82   14\n",
       "19        UCLA     64   78   14\n",
       "20       SoCal     72   81    9"
      ],
      "text/html": "<div>\n<style scoped>\n    .dataframe tbody tr th:only-of-type {\n        vertical-align: middle;\n    }\n\n    .dataframe tbody tr th {\n        vertical-align: top;\n    }\n\n    .dataframe thead th {\n        text-align: right;\n    }\n</style>\n<table border=\"1\" class=\"dataframe\">\n  <thead>\n    <tr style=\"text-align: right;\">\n      <th></th>\n      <th>School</th>\n      <th>Women</th>\n      <th>Men</th>\n      <th>Gap</th>\n    </tr>\n  </thead>\n  <tbody>\n    <tr>\n      <th>0</th>\n      <td>MIT</td>\n      <td>94</td>\n      <td>152</td>\n      <td>58</td>\n    </tr>\n    <tr>\n      <th>1</th>\n      <td>Stanford</td>\n      <td>96</td>\n      <td>151</td>\n      <td>55</td>\n    </tr>\n    <tr>\n      <th>2</th>\n      <td>Harvard</td>\n      <td>112</td>\n      <td>165</td>\n      <td>53</td>\n    </tr>\n    <tr>\n      <th>3</th>\n      <td>U.Penn</td>\n      <td>92</td>\n      <td>141</td>\n      <td>49</td>\n    </tr>\n    <tr>\n      <th>4</th>\n      <td>Princeton</td>\n      <td>90</td>\n      <td>137</td>\n      <td>47</td>\n    </tr>\n    <tr>\n      <th>5</th>\n      <td>Chicago</td>\n      <td>78</td>\n      <td>118</td>\n      <td>40</td>\n    </tr>\n    <tr>\n      <th>6</th>\n      <td>Georgetown</td>\n      <td>94</td>\n      <td>131</td>\n      <td>37</td>\n    </tr>\n    <tr>\n      <th>7</th>\n      <td>Tufts</td>\n      <td>76</td>\n      <td>112</td>\n      <td>36</td>\n    </tr>\n    <tr>\n      <th>8</th>\n      <td>Yale</td>\n      <td>79</td>\n      <td>114</td>\n      <td>35</td>\n    </tr>\n    <tr>\n      <th>9</th>\n      <td>Columbia</td>\n      <td>86</td>\n      <td>119</td>\n      <td>33</td>\n    </tr>\n    <tr>\n      <th>10</th>\n      <td>Duke</td>\n      <td>93</td>\n      <td>124</td>\n      <td>31</td>\n    </tr>\n    <tr>\n      <th>11</th>\n      <td>Dartmouth</td>\n      <td>84</td>\n      <td>114</td>\n      <td>30</td>\n    </tr>\n    <tr>\n      <th>12</th>\n      <td>NYU</td>\n      <td>67</td>\n      <td>94</td>\n      <td>27</td>\n    </tr>\n    <tr>\n      <th>13</th>\n      <td>Notre Dame</td>\n      <td>73</td>\n      <td>100</td>\n      <td>27</td>\n    </tr>\n    <tr>\n      <th>14</th>\n      <td>Cornell</td>\n      <td>80</td>\n      <td>107</td>\n      <td>27</td>\n    </tr>\n    <tr>\n      <th>15</th>\n      <td>Michigan</td>\n      <td>62</td>\n      <td>84</td>\n      <td>22</td>\n    </tr>\n    <tr>\n      <th>16</th>\n      <td>Brown</td>\n      <td>72</td>\n      <td>92</td>\n      <td>20</td>\n    </tr>\n    <tr>\n      <th>17</th>\n      <td>Berkeley</td>\n      <td>71</td>\n      <td>88</td>\n      <td>17</td>\n    </tr>\n    <tr>\n      <th>18</th>\n      <td>Emory</td>\n      <td>68</td>\n      <td>82</td>\n      <td>14</td>\n    </tr>\n    <tr>\n      <th>19</th>\n      <td>UCLA</td>\n      <td>64</td>\n      <td>78</td>\n      <td>14</td>\n    </tr>\n    <tr>\n      <th>20</th>\n      <td>SoCal</td>\n      <td>72</td>\n      <td>81</td>\n      <td>9</td>\n    </tr>\n  </tbody>\n</table>\n</div>"
     },
     "metadata": {},
     "execution_count": 9
    }
   ],
   "source": [
    "# pip3 install plotly\n",
    "# pip3 install psutil\n",
    "\n",
    "import pandas as pd\n",
    "import numpy as np \n",
    "import psutil\n",
    "\n",
    "import plotly.io as pio\n",
    "# Ploty offline\n",
    "from plotly.offline import init_notebook_mode, iplot, plot\n",
    "from plotly.graph_objs import Scatter, Box, Histogram2dContour, Contours, Marker\n",
    "import plotly.graph_objects as go\n",
    "\n",
    "df = pd.read_csv(\"https://raw.githubusercontent.com/plotly/datasets/master/school_earnings.csv\")\n",
    "df"
   ]
  },
  {
   "cell_type": "code",
   "execution_count": 10,
   "metadata": {},
   "outputs": [
    {
     "output_type": "display_data",
     "data": {
      "text/html": "        <script type=\"text/javascript\">\n        window.PlotlyConfig = {MathJaxConfig: 'local'};\n        if (window.MathJax) {MathJax.Hub.Config({SVG: {font: \"STIX-Web\"}});}\n        if (typeof require !== 'undefined') {\n        require.undef(\"plotly\");\n        requirejs.config({\n            paths: {\n                'plotly': ['https://cdn.plot.ly/plotly-latest.min']\n            }\n        });\n        require(['plotly'], function(Plotly) {\n            window._Plotly = Plotly;\n        });\n        }\n        </script>\n        "
     },
     "metadata": {}
    },
    {
     "output_type": "display_data",
     "data": {
      "application/vnd.plotly.v1+json": {
       "config": {
        "linkText": "Export to plot.ly",
        "plotlyServerURL": "https://plot.ly",
        "showLink": false
       },
       "data": [
        {
         "type": "scatter",
         "x": [
          58,
          55,
          53,
          49,
          47,
          40,
          37,
          36,
          35,
          33,
          31,
          30,
          27,
          27,
          27,
          22,
          20,
          17,
          14,
          14,
          9
         ],
         "y": [
          152,
          151,
          165,
          141,
          137,
          118,
          131,
          112,
          114,
          119,
          124,
          114,
          94,
          100,
          107,
          84,
          92,
          88,
          82,
          78,
          81
         ]
        },
        {
         "type": "scatter",
         "x": [
          58,
          55,
          53,
          49,
          47,
          40,
          37,
          36,
          35,
          33,
          31,
          30,
          27,
          27,
          27,
          22,
          20,
          17,
          14,
          14,
          9
         ],
         "y": [
          94,
          96,
          112,
          92,
          90,
          78,
          94,
          76,
          79,
          86,
          93,
          84,
          67,
          73,
          80,
          62,
          72,
          71,
          68,
          64,
          72
         ]
        }
       ],
       "layout": {
        "template": {
         "data": {
          "bar": [
           {
            "error_x": {
             "color": "#2a3f5f"
            },
            "error_y": {
             "color": "#2a3f5f"
            },
            "marker": {
             "line": {
              "color": "#E5ECF6",
              "width": 0.5
             }
            },
            "type": "bar"
           }
          ],
          "barpolar": [
           {
            "marker": {
             "line": {
              "color": "#E5ECF6",
              "width": 0.5
             }
            },
            "type": "barpolar"
           }
          ],
          "carpet": [
           {
            "aaxis": {
             "endlinecolor": "#2a3f5f",
             "gridcolor": "white",
             "linecolor": "white",
             "minorgridcolor": "white",
             "startlinecolor": "#2a3f5f"
            },
            "baxis": {
             "endlinecolor": "#2a3f5f",
             "gridcolor": "white",
             "linecolor": "white",
             "minorgridcolor": "white",
             "startlinecolor": "#2a3f5f"
            },
            "type": "carpet"
           }
          ],
          "choropleth": [
           {
            "colorbar": {
             "outlinewidth": 0,
             "ticks": ""
            },
            "type": "choropleth"
           }
          ],
          "contour": [
           {
            "colorbar": {
             "outlinewidth": 0,
             "ticks": ""
            },
            "colorscale": [
             [
              0,
              "#0d0887"
             ],
             [
              0.1111111111111111,
              "#46039f"
             ],
             [
              0.2222222222222222,
              "#7201a8"
             ],
             [
              0.3333333333333333,
              "#9c179e"
             ],
             [
              0.4444444444444444,
              "#bd3786"
             ],
             [
              0.5555555555555556,
              "#d8576b"
             ],
             [
              0.6666666666666666,
              "#ed7953"
             ],
             [
              0.7777777777777778,
              "#fb9f3a"
             ],
             [
              0.8888888888888888,
              "#fdca26"
             ],
             [
              1,
              "#f0f921"
             ]
            ],
            "type": "contour"
           }
          ],
          "contourcarpet": [
           {
            "colorbar": {
             "outlinewidth": 0,
             "ticks": ""
            },
            "type": "contourcarpet"
           }
          ],
          "heatmap": [
           {
            "colorbar": {
             "outlinewidth": 0,
             "ticks": ""
            },
            "colorscale": [
             [
              0,
              "#0d0887"
             ],
             [
              0.1111111111111111,
              "#46039f"
             ],
             [
              0.2222222222222222,
              "#7201a8"
             ],
             [
              0.3333333333333333,
              "#9c179e"
             ],
             [
              0.4444444444444444,
              "#bd3786"
             ],
             [
              0.5555555555555556,
              "#d8576b"
             ],
             [
              0.6666666666666666,
              "#ed7953"
             ],
             [
              0.7777777777777778,
              "#fb9f3a"
             ],
             [
              0.8888888888888888,
              "#fdca26"
             ],
             [
              1,
              "#f0f921"
             ]
            ],
            "type": "heatmap"
           }
          ],
          "heatmapgl": [
           {
            "colorbar": {
             "outlinewidth": 0,
             "ticks": ""
            },
            "colorscale": [
             [
              0,
              "#0d0887"
             ],
             [
              0.1111111111111111,
              "#46039f"
             ],
             [
              0.2222222222222222,
              "#7201a8"
             ],
             [
              0.3333333333333333,
              "#9c179e"
             ],
             [
              0.4444444444444444,
              "#bd3786"
             ],
             [
              0.5555555555555556,
              "#d8576b"
             ],
             [
              0.6666666666666666,
              "#ed7953"
             ],
             [
              0.7777777777777778,
              "#fb9f3a"
             ],
             [
              0.8888888888888888,
              "#fdca26"
             ],
             [
              1,
              "#f0f921"
             ]
            ],
            "type": "heatmapgl"
           }
          ],
          "histogram": [
           {
            "marker": {
             "colorbar": {
              "outlinewidth": 0,
              "ticks": ""
             }
            },
            "type": "histogram"
           }
          ],
          "histogram2d": [
           {
            "colorbar": {
             "outlinewidth": 0,
             "ticks": ""
            },
            "colorscale": [
             [
              0,
              "#0d0887"
             ],
             [
              0.1111111111111111,
              "#46039f"
             ],
             [
              0.2222222222222222,
              "#7201a8"
             ],
             [
              0.3333333333333333,
              "#9c179e"
             ],
             [
              0.4444444444444444,
              "#bd3786"
             ],
             [
              0.5555555555555556,
              "#d8576b"
             ],
             [
              0.6666666666666666,
              "#ed7953"
             ],
             [
              0.7777777777777778,
              "#fb9f3a"
             ],
             [
              0.8888888888888888,
              "#fdca26"
             ],
             [
              1,
              "#f0f921"
             ]
            ],
            "type": "histogram2d"
           }
          ],
          "histogram2dcontour": [
           {
            "colorbar": {
             "outlinewidth": 0,
             "ticks": ""
            },
            "colorscale": [
             [
              0,
              "#0d0887"
             ],
             [
              0.1111111111111111,
              "#46039f"
             ],
             [
              0.2222222222222222,
              "#7201a8"
             ],
             [
              0.3333333333333333,
              "#9c179e"
             ],
             [
              0.4444444444444444,
              "#bd3786"
             ],
             [
              0.5555555555555556,
              "#d8576b"
             ],
             [
              0.6666666666666666,
              "#ed7953"
             ],
             [
              0.7777777777777778,
              "#fb9f3a"
             ],
             [
              0.8888888888888888,
              "#fdca26"
             ],
             [
              1,
              "#f0f921"
             ]
            ],
            "type": "histogram2dcontour"
           }
          ],
          "mesh3d": [
           {
            "colorbar": {
             "outlinewidth": 0,
             "ticks": ""
            },
            "type": "mesh3d"
           }
          ],
          "parcoords": [
           {
            "line": {
             "colorbar": {
              "outlinewidth": 0,
              "ticks": ""
             }
            },
            "type": "parcoords"
           }
          ],
          "pie": [
           {
            "automargin": true,
            "type": "pie"
           }
          ],
          "scatter": [
           {
            "marker": {
             "colorbar": {
              "outlinewidth": 0,
              "ticks": ""
             }
            },
            "type": "scatter"
           }
          ],
          "scatter3d": [
           {
            "line": {
             "colorbar": {
              "outlinewidth": 0,
              "ticks": ""
             }
            },
            "marker": {
             "colorbar": {
              "outlinewidth": 0,
              "ticks": ""
             }
            },
            "type": "scatter3d"
           }
          ],
          "scattercarpet": [
           {
            "marker": {
             "colorbar": {
              "outlinewidth": 0,
              "ticks": ""
             }
            },
            "type": "scattercarpet"
           }
          ],
          "scattergeo": [
           {
            "marker": {
             "colorbar": {
              "outlinewidth": 0,
              "ticks": ""
             }
            },
            "type": "scattergeo"
           }
          ],
          "scattergl": [
           {
            "marker": {
             "colorbar": {
              "outlinewidth": 0,
              "ticks": ""
             }
            },
            "type": "scattergl"
           }
          ],
          "scattermapbox": [
           {
            "marker": {
             "colorbar": {
              "outlinewidth": 0,
              "ticks": ""
             }
            },
            "type": "scattermapbox"
           }
          ],
          "scatterpolar": [
           {
            "marker": {
             "colorbar": {
              "outlinewidth": 0,
              "ticks": ""
             }
            },
            "type": "scatterpolar"
           }
          ],
          "scatterpolargl": [
           {
            "marker": {
             "colorbar": {
              "outlinewidth": 0,
              "ticks": ""
             }
            },
            "type": "scatterpolargl"
           }
          ],
          "scatterternary": [
           {
            "marker": {
             "colorbar": {
              "outlinewidth": 0,
              "ticks": ""
             }
            },
            "type": "scatterternary"
           }
          ],
          "surface": [
           {
            "colorbar": {
             "outlinewidth": 0,
             "ticks": ""
            },
            "colorscale": [
             [
              0,
              "#0d0887"
             ],
             [
              0.1111111111111111,
              "#46039f"
             ],
             [
              0.2222222222222222,
              "#7201a8"
             ],
             [
              0.3333333333333333,
              "#9c179e"
             ],
             [
              0.4444444444444444,
              "#bd3786"
             ],
             [
              0.5555555555555556,
              "#d8576b"
             ],
             [
              0.6666666666666666,
              "#ed7953"
             ],
             [
              0.7777777777777778,
              "#fb9f3a"
             ],
             [
              0.8888888888888888,
              "#fdca26"
             ],
             [
              1,
              "#f0f921"
             ]
            ],
            "type": "surface"
           }
          ],
          "table": [
           {
            "cells": {
             "fill": {
              "color": "#EBF0F8"
             },
             "line": {
              "color": "white"
             }
            },
            "header": {
             "fill": {
              "color": "#C8D4E3"
             },
             "line": {
              "color": "white"
             }
            },
            "type": "table"
           }
          ]
         },
         "layout": {
          "annotationdefaults": {
           "arrowcolor": "#2a3f5f",
           "arrowhead": 0,
           "arrowwidth": 1
          },
          "autotypenumbers": "strict",
          "coloraxis": {
           "colorbar": {
            "outlinewidth": 0,
            "ticks": ""
           }
          },
          "colorscale": {
           "diverging": [
            [
             0,
             "#8e0152"
            ],
            [
             0.1,
             "#c51b7d"
            ],
            [
             0.2,
             "#de77ae"
            ],
            [
             0.3,
             "#f1b6da"
            ],
            [
             0.4,
             "#fde0ef"
            ],
            [
             0.5,
             "#f7f7f7"
            ],
            [
             0.6,
             "#e6f5d0"
            ],
            [
             0.7,
             "#b8e186"
            ],
            [
             0.8,
             "#7fbc41"
            ],
            [
             0.9,
             "#4d9221"
            ],
            [
             1,
             "#276419"
            ]
           ],
           "sequential": [
            [
             0,
             "#0d0887"
            ],
            [
             0.1111111111111111,
             "#46039f"
            ],
            [
             0.2222222222222222,
             "#7201a8"
            ],
            [
             0.3333333333333333,
             "#9c179e"
            ],
            [
             0.4444444444444444,
             "#bd3786"
            ],
            [
             0.5555555555555556,
             "#d8576b"
            ],
            [
             0.6666666666666666,
             "#ed7953"
            ],
            [
             0.7777777777777778,
             "#fb9f3a"
            ],
            [
             0.8888888888888888,
             "#fdca26"
            ],
            [
             1,
             "#f0f921"
            ]
           ],
           "sequentialminus": [
            [
             0,
             "#0d0887"
            ],
            [
             0.1111111111111111,
             "#46039f"
            ],
            [
             0.2222222222222222,
             "#7201a8"
            ],
            [
             0.3333333333333333,
             "#9c179e"
            ],
            [
             0.4444444444444444,
             "#bd3786"
            ],
            [
             0.5555555555555556,
             "#d8576b"
            ],
            [
             0.6666666666666666,
             "#ed7953"
            ],
            [
             0.7777777777777778,
             "#fb9f3a"
            ],
            [
             0.8888888888888888,
             "#fdca26"
            ],
            [
             1,
             "#f0f921"
            ]
           ]
          },
          "colorway": [
           "#636efa",
           "#EF553B",
           "#00cc96",
           "#ab63fa",
           "#FFA15A",
           "#19d3f3",
           "#FF6692",
           "#B6E880",
           "#FF97FF",
           "#FECB52"
          ],
          "font": {
           "color": "#2a3f5f"
          },
          "geo": {
           "bgcolor": "white",
           "lakecolor": "white",
           "landcolor": "#E5ECF6",
           "showlakes": true,
           "showland": true,
           "subunitcolor": "white"
          },
          "hoverlabel": {
           "align": "left"
          },
          "hovermode": "closest",
          "mapbox": {
           "style": "light"
          },
          "paper_bgcolor": "white",
          "plot_bgcolor": "#E5ECF6",
          "polar": {
           "angularaxis": {
            "gridcolor": "white",
            "linecolor": "white",
            "ticks": ""
           },
           "bgcolor": "#E5ECF6",
           "radialaxis": {
            "gridcolor": "white",
            "linecolor": "white",
            "ticks": ""
           }
          },
          "scene": {
           "xaxis": {
            "backgroundcolor": "#E5ECF6",
            "gridcolor": "white",
            "gridwidth": 2,
            "linecolor": "white",
            "showbackground": true,
            "ticks": "",
            "zerolinecolor": "white"
           },
           "yaxis": {
            "backgroundcolor": "#E5ECF6",
            "gridcolor": "white",
            "gridwidth": 2,
            "linecolor": "white",
            "showbackground": true,
            "ticks": "",
            "zerolinecolor": "white"
           },
           "zaxis": {
            "backgroundcolor": "#E5ECF6",
            "gridcolor": "white",
            "gridwidth": 2,
            "linecolor": "white",
            "showbackground": true,
            "ticks": "",
            "zerolinecolor": "white"
           }
          },
          "shapedefaults": {
           "line": {
            "color": "#2a3f5f"
           }
          },
          "ternary": {
           "aaxis": {
            "gridcolor": "white",
            "linecolor": "white",
            "ticks": ""
           },
           "baxis": {
            "gridcolor": "white",
            "linecolor": "white",
            "ticks": ""
           },
           "bgcolor": "#E5ECF6",
           "caxis": {
            "gridcolor": "white",
            "linecolor": "white",
            "ticks": ""
           }
          },
          "title": {
           "x": 0.05
          },
          "xaxis": {
           "automargin": true,
           "gridcolor": "white",
           "linecolor": "white",
           "ticks": "",
           "title": {
            "standoff": 15
           },
           "zerolinecolor": "white",
           "zerolinewidth": 2
          },
          "yaxis": {
           "automargin": true,
           "gridcolor": "white",
           "linecolor": "white",
           "ticks": "",
           "title": {
            "standoff": 15
           },
           "zerolinecolor": "white",
           "zerolinewidth": 2
          }
         }
        }
       }
      },
      "text/html": "<div>                            <div id=\"2fed2003-5c56-4137-9d89-96120342c900\" class=\"plotly-graph-div\" style=\"height:525px; width:100%;\"></div>            <script type=\"text/javascript\">                require([\"plotly\"], function(Plotly) {                    window.PLOTLYENV=window.PLOTLYENV || {};                                    if (document.getElementById(\"2fed2003-5c56-4137-9d89-96120342c900\")) {                    Plotly.newPlot(                        \"2fed2003-5c56-4137-9d89-96120342c900\",                        [{\"type\": \"scatter\", \"x\": [58, 55, 53, 49, 47, 40, 37, 36, 35, 33, 31, 30, 27, 27, 27, 22, 20, 17, 14, 14, 9], \"y\": [152, 151, 165, 141, 137, 118, 131, 112, 114, 119, 124, 114, 94, 100, 107, 84, 92, 88, 82, 78, 81]}, {\"type\": \"scatter\", \"x\": [58, 55, 53, 49, 47, 40, 37, 36, 35, 33, 31, 30, 27, 27, 27, 22, 20, 17, 14, 14, 9], \"y\": [94, 96, 112, 92, 90, 78, 94, 76, 79, 86, 93, 84, 67, 73, 80, 62, 72, 71, 68, 64, 72]}],                        {\"template\": {\"data\": {\"bar\": [{\"error_x\": {\"color\": \"#2a3f5f\"}, \"error_y\": {\"color\": \"#2a3f5f\"}, \"marker\": {\"line\": {\"color\": \"#E5ECF6\", \"width\": 0.5}}, \"type\": \"bar\"}], \"barpolar\": [{\"marker\": {\"line\": {\"color\": \"#E5ECF6\", \"width\": 0.5}}, \"type\": \"barpolar\"}], \"carpet\": [{\"aaxis\": {\"endlinecolor\": \"#2a3f5f\", \"gridcolor\": \"white\", \"linecolor\": \"white\", \"minorgridcolor\": \"white\", \"startlinecolor\": \"#2a3f5f\"}, \"baxis\": {\"endlinecolor\": \"#2a3f5f\", \"gridcolor\": \"white\", \"linecolor\": \"white\", \"minorgridcolor\": \"white\", \"startlinecolor\": \"#2a3f5f\"}, \"type\": \"carpet\"}], \"choropleth\": [{\"colorbar\": {\"outlinewidth\": 0, \"ticks\": \"\"}, \"type\": \"choropleth\"}], \"contour\": [{\"colorbar\": {\"outlinewidth\": 0, \"ticks\": \"\"}, \"colorscale\": [[0.0, \"#0d0887\"], [0.1111111111111111, \"#46039f\"], [0.2222222222222222, \"#7201a8\"], [0.3333333333333333, \"#9c179e\"], [0.4444444444444444, \"#bd3786\"], [0.5555555555555556, \"#d8576b\"], [0.6666666666666666, \"#ed7953\"], [0.7777777777777778, \"#fb9f3a\"], [0.8888888888888888, \"#fdca26\"], [1.0, \"#f0f921\"]], \"type\": \"contour\"}], \"contourcarpet\": [{\"colorbar\": {\"outlinewidth\": 0, \"ticks\": \"\"}, \"type\": \"contourcarpet\"}], \"heatmap\": [{\"colorbar\": {\"outlinewidth\": 0, \"ticks\": \"\"}, \"colorscale\": [[0.0, \"#0d0887\"], [0.1111111111111111, \"#46039f\"], [0.2222222222222222, \"#7201a8\"], [0.3333333333333333, \"#9c179e\"], [0.4444444444444444, \"#bd3786\"], [0.5555555555555556, \"#d8576b\"], [0.6666666666666666, \"#ed7953\"], [0.7777777777777778, \"#fb9f3a\"], [0.8888888888888888, \"#fdca26\"], [1.0, \"#f0f921\"]], \"type\": \"heatmap\"}], \"heatmapgl\": [{\"colorbar\": {\"outlinewidth\": 0, \"ticks\": \"\"}, \"colorscale\": [[0.0, \"#0d0887\"], [0.1111111111111111, \"#46039f\"], [0.2222222222222222, \"#7201a8\"], [0.3333333333333333, \"#9c179e\"], [0.4444444444444444, \"#bd3786\"], [0.5555555555555556, \"#d8576b\"], [0.6666666666666666, \"#ed7953\"], [0.7777777777777778, \"#fb9f3a\"], [0.8888888888888888, \"#fdca26\"], [1.0, \"#f0f921\"]], \"type\": \"heatmapgl\"}], \"histogram\": [{\"marker\": {\"colorbar\": {\"outlinewidth\": 0, \"ticks\": \"\"}}, \"type\": \"histogram\"}], \"histogram2d\": [{\"colorbar\": {\"outlinewidth\": 0, \"ticks\": \"\"}, \"colorscale\": [[0.0, \"#0d0887\"], [0.1111111111111111, \"#46039f\"], [0.2222222222222222, \"#7201a8\"], [0.3333333333333333, \"#9c179e\"], [0.4444444444444444, \"#bd3786\"], [0.5555555555555556, \"#d8576b\"], [0.6666666666666666, \"#ed7953\"], [0.7777777777777778, \"#fb9f3a\"], [0.8888888888888888, \"#fdca26\"], [1.0, \"#f0f921\"]], \"type\": \"histogram2d\"}], \"histogram2dcontour\": [{\"colorbar\": {\"outlinewidth\": 0, \"ticks\": \"\"}, \"colorscale\": [[0.0, \"#0d0887\"], [0.1111111111111111, \"#46039f\"], [0.2222222222222222, \"#7201a8\"], [0.3333333333333333, \"#9c179e\"], [0.4444444444444444, \"#bd3786\"], [0.5555555555555556, \"#d8576b\"], [0.6666666666666666, \"#ed7953\"], [0.7777777777777778, \"#fb9f3a\"], [0.8888888888888888, \"#fdca26\"], [1.0, \"#f0f921\"]], \"type\": \"histogram2dcontour\"}], \"mesh3d\": [{\"colorbar\": {\"outlinewidth\": 0, \"ticks\": \"\"}, \"type\": \"mesh3d\"}], \"parcoords\": [{\"line\": {\"colorbar\": {\"outlinewidth\": 0, \"ticks\": \"\"}}, \"type\": \"parcoords\"}], \"pie\": [{\"automargin\": true, \"type\": \"pie\"}], \"scatter\": [{\"marker\": {\"colorbar\": {\"outlinewidth\": 0, \"ticks\": \"\"}}, \"type\": \"scatter\"}], \"scatter3d\": [{\"line\": {\"colorbar\": {\"outlinewidth\": 0, \"ticks\": \"\"}}, \"marker\": {\"colorbar\": {\"outlinewidth\": 0, \"ticks\": \"\"}}, \"type\": \"scatter3d\"}], \"scattercarpet\": [{\"marker\": {\"colorbar\": {\"outlinewidth\": 0, \"ticks\": \"\"}}, \"type\": \"scattercarpet\"}], \"scattergeo\": [{\"marker\": {\"colorbar\": {\"outlinewidth\": 0, \"ticks\": \"\"}}, \"type\": \"scattergeo\"}], \"scattergl\": [{\"marker\": {\"colorbar\": {\"outlinewidth\": 0, \"ticks\": \"\"}}, \"type\": \"scattergl\"}], \"scattermapbox\": [{\"marker\": {\"colorbar\": {\"outlinewidth\": 0, \"ticks\": \"\"}}, \"type\": \"scattermapbox\"}], \"scatterpolar\": [{\"marker\": {\"colorbar\": {\"outlinewidth\": 0, \"ticks\": \"\"}}, \"type\": \"scatterpolar\"}], \"scatterpolargl\": [{\"marker\": {\"colorbar\": {\"outlinewidth\": 0, \"ticks\": \"\"}}, \"type\": \"scatterpolargl\"}], \"scatterternary\": [{\"marker\": {\"colorbar\": {\"outlinewidth\": 0, \"ticks\": \"\"}}, \"type\": \"scatterternary\"}], \"surface\": [{\"colorbar\": {\"outlinewidth\": 0, \"ticks\": \"\"}, \"colorscale\": [[0.0, \"#0d0887\"], [0.1111111111111111, \"#46039f\"], [0.2222222222222222, \"#7201a8\"], [0.3333333333333333, \"#9c179e\"], [0.4444444444444444, \"#bd3786\"], [0.5555555555555556, \"#d8576b\"], [0.6666666666666666, \"#ed7953\"], [0.7777777777777778, \"#fb9f3a\"], [0.8888888888888888, \"#fdca26\"], [1.0, \"#f0f921\"]], \"type\": \"surface\"}], \"table\": [{\"cells\": {\"fill\": {\"color\": \"#EBF0F8\"}, \"line\": {\"color\": \"white\"}}, \"header\": {\"fill\": {\"color\": \"#C8D4E3\"}, \"line\": {\"color\": \"white\"}}, \"type\": \"table\"}]}, \"layout\": {\"annotationdefaults\": {\"arrowcolor\": \"#2a3f5f\", \"arrowhead\": 0, \"arrowwidth\": 1}, \"autotypenumbers\": \"strict\", \"coloraxis\": {\"colorbar\": {\"outlinewidth\": 0, \"ticks\": \"\"}}, \"colorscale\": {\"diverging\": [[0, \"#8e0152\"], [0.1, \"#c51b7d\"], [0.2, \"#de77ae\"], [0.3, \"#f1b6da\"], [0.4, \"#fde0ef\"], [0.5, \"#f7f7f7\"], [0.6, \"#e6f5d0\"], [0.7, \"#b8e186\"], [0.8, \"#7fbc41\"], [0.9, \"#4d9221\"], [1, \"#276419\"]], \"sequential\": [[0.0, \"#0d0887\"], [0.1111111111111111, \"#46039f\"], [0.2222222222222222, \"#7201a8\"], [0.3333333333333333, \"#9c179e\"], [0.4444444444444444, \"#bd3786\"], [0.5555555555555556, \"#d8576b\"], [0.6666666666666666, \"#ed7953\"], [0.7777777777777778, \"#fb9f3a\"], [0.8888888888888888, \"#fdca26\"], [1.0, \"#f0f921\"]], \"sequentialminus\": [[0.0, \"#0d0887\"], [0.1111111111111111, \"#46039f\"], [0.2222222222222222, \"#7201a8\"], [0.3333333333333333, \"#9c179e\"], [0.4444444444444444, \"#bd3786\"], [0.5555555555555556, \"#d8576b\"], [0.6666666666666666, \"#ed7953\"], [0.7777777777777778, \"#fb9f3a\"], [0.8888888888888888, \"#fdca26\"], [1.0, \"#f0f921\"]]}, \"colorway\": [\"#636efa\", \"#EF553B\", \"#00cc96\", \"#ab63fa\", \"#FFA15A\", \"#19d3f3\", \"#FF6692\", \"#B6E880\", \"#FF97FF\", \"#FECB52\"], \"font\": {\"color\": \"#2a3f5f\"}, \"geo\": {\"bgcolor\": \"white\", \"lakecolor\": \"white\", \"landcolor\": \"#E5ECF6\", \"showlakes\": true, \"showland\": true, \"subunitcolor\": \"white\"}, \"hoverlabel\": {\"align\": \"left\"}, \"hovermode\": \"closest\", \"mapbox\": {\"style\": \"light\"}, \"paper_bgcolor\": \"white\", \"plot_bgcolor\": \"#E5ECF6\", \"polar\": {\"angularaxis\": {\"gridcolor\": \"white\", \"linecolor\": \"white\", \"ticks\": \"\"}, \"bgcolor\": \"#E5ECF6\", \"radialaxis\": {\"gridcolor\": \"white\", \"linecolor\": \"white\", \"ticks\": \"\"}}, \"scene\": {\"xaxis\": {\"backgroundcolor\": \"#E5ECF6\", \"gridcolor\": \"white\", \"gridwidth\": 2, \"linecolor\": \"white\", \"showbackground\": true, \"ticks\": \"\", \"zerolinecolor\": \"white\"}, \"yaxis\": {\"backgroundcolor\": \"#E5ECF6\", \"gridcolor\": \"white\", \"gridwidth\": 2, \"linecolor\": \"white\", \"showbackground\": true, \"ticks\": \"\", \"zerolinecolor\": \"white\"}, \"zaxis\": {\"backgroundcolor\": \"#E5ECF6\", \"gridcolor\": \"white\", \"gridwidth\": 2, \"linecolor\": \"white\", \"showbackground\": true, \"ticks\": \"\", \"zerolinecolor\": \"white\"}}, \"shapedefaults\": {\"line\": {\"color\": \"#2a3f5f\"}}, \"ternary\": {\"aaxis\": {\"gridcolor\": \"white\", \"linecolor\": \"white\", \"ticks\": \"\"}, \"baxis\": {\"gridcolor\": \"white\", \"linecolor\": \"white\", \"ticks\": \"\"}, \"bgcolor\": \"#E5ECF6\", \"caxis\": {\"gridcolor\": \"white\", \"linecolor\": \"white\", \"ticks\": \"\"}}, \"title\": {\"x\": 0.05}, \"xaxis\": {\"automargin\": true, \"gridcolor\": \"white\", \"linecolor\": \"white\", \"ticks\": \"\", \"title\": {\"standoff\": 15}, \"zerolinecolor\": \"white\", \"zerolinewidth\": 2}, \"yaxis\": {\"automargin\": true, \"gridcolor\": \"white\", \"linecolor\": \"white\", \"ticks\": \"\", \"title\": {\"standoff\": 15}, \"zerolinecolor\": \"white\", \"zerolinewidth\": 2}}}},                        {\"responsive\": true}                    ).then(function(){\n                            \nvar gd = document.getElementById('2fed2003-5c56-4137-9d89-96120342c900');\nvar x = new MutationObserver(function (mutations, observer) {{\n        var display = window.getComputedStyle(gd).display;\n        if (!display || display === 'none') {{\n            console.log([gd, 'removed!']);\n            Plotly.purge(gd);\n            observer.disconnect();\n        }}\n}});\n\n// Listen for the removal of the full notebook cells\nvar notebookContainer = gd.closest('#notebook-container');\nif (notebookContainer) {{\n    x.observe(notebookContainer, {childList: true});\n}}\n\n// Listen for the clearing of the current output cell\nvar outputEl = gd.closest('.output');\nif (outputEl) {{\n    x.observe(outputEl, {childList: true});\n}}\n\n                        })                };                });            </script>        </div>"
     },
     "metadata": {}
    }
   ],
   "source": [
    "init_notebook_mode(connected=True)  # initiate notebook for offline plot\n",
    "\n",
    "trace0 = Scatter(\n",
    "  x=df[\"Gap\"],\n",
    "  y=df[\"Men\"]\n",
    ")\n",
    "trace1 = Scatter(\n",
    "  x=df[\"Gap\"],\n",
    "  y=df[\"Women\"]\n",
    ")\n",
    "\n",
    "iplot([trace0, trace1])"
   ]
  },
  {
   "cell_type": "code",
   "execution_count": 11,
   "metadata": {},
   "outputs": [
    {
     "output_type": "display_data",
     "data": {
      "application/vnd.plotly.v1+json": {
       "config": {
        "linkText": "Export to plot.ly",
        "plotlyServerURL": "https://plot.ly",
        "showLink": false
       },
       "data": [
        {
         "showlegend": false,
         "type": "box",
         "y": [
          -1.5194575762437306,
          1.309304171645403,
          -1.180048031134799,
          1.550943961414098,
          -0.8253137621735243,
          -0.9557764687145737,
          -0.024021780635943603,
          0.016618638470106282,
          -1.1517913473786572,
          0.3062675795269088,
          -1.7233538334908702,
          -0.586501040991844,
          -0.38382424686529704,
          -1.0033283650886236,
          -0.016675860596332248,
          0.7688093517123665,
          -2.1473765405025476,
          0.5991334386515305,
          -0.5099819038438376,
          -0.26341098694079995,
          0.7669166729588183,
          -0.1441977519470321,
          0.4089449258331464,
          2.65484752812607,
          -0.09784169610768112,
          -0.04644329477633331,
          1.174462398340765,
          -1.151315671246524,
          -0.7047728910883567,
          0.2222533978734889,
          -0.49072478154384513,
          -0.004756749022560642,
          -1.2802677873320065,
          -1.5062093435646637,
          -0.09960518891248467,
          0.08849181609089586,
          -1.1297875392189702,
          0.8355751392518138,
          0.2750737123577952,
          1.778019278246564,
          1.1011009271089895,
          0.25127889319228375,
          1.1786536598314516,
          -0.28280380822176265,
          0.32123034966868563,
          0.48081825257410193,
          1.2338094342302328,
          -0.5662060466635128,
          -1.412007953370009,
          0.23984353754347737
         ]
        },
        {
         "showlegend": false,
         "type": "box",
         "y": [
          1.2337706055296234,
          -0.3750182461065265,
          -0.4738086916013321,
          -0.10504101604889231,
          0.23641235904978844,
          2.076160827589345,
          -0.149243294599115,
          0.017936845866422267,
          0.3363082958206413,
          1.7184526505053548,
          1.7438772106284388,
          0.8081251198963664,
          -0.6514884049029601,
          0.397550091191314,
          1.8522079692248083,
          0.5671934652106586,
          -0.11426243693312352,
          1.3294609687503476,
          0.4820927323547913,
          -0.4980408659114747,
          0.16817603631570666,
          2.7582596606677465,
          1.8066209022021884,
          0.5030879444899125,
          -2.5116255931643976,
          -1.3136569486814995,
          0.6830922877509666,
          1.6508480054201322,
          0.035520550760814285,
          -0.4658606269110219,
          0.8813789602847184,
          -0.5679246155983968,
          0.3706544774083132,
          -0.16387456467336323,
          0.4009146421323233,
          0.6057406783298712,
          1.3306604746076547,
          -2.082778714201329,
          -0.8909914237719551,
          0.4066435041664661,
          -2.2927207195029338,
          -0.24472075046483854,
          0.4033907343205546,
          -0.3898778773111841,
          0.26563533321415994,
          0.12175582646021815,
          -1.0217171658366089,
          1.7740289678730736,
          -0.000394486999818847,
          -1.1263011331377082
         ]
        },
        {
         "showlegend": false,
         "type": "box",
         "y": [
          1.1314528261749148,
          1.1897450153679383,
          0.7908433252774545,
          -0.4667104048264391,
          -0.24366342490213733,
          -3.04969663806112,
          1.4472500356023266,
          1.3226665004742348,
          0.03317066661539319,
          0.17647147988635303,
          1.9375525100752382,
          0.7233591768930523,
          -1.596530830462217,
          -0.7115460860696076,
          0.1884302590004228,
          0.3359426293024178,
          0.10397981729127335,
          0.18966886067708014,
          -1.8427481764374596,
          0.17359849173484107,
          -0.7339546853612678,
          0.33946963450663903,
          -0.30832168309907826,
          -0.2556235095682921,
          -1.2686598886562384,
          -1.065772171651778,
          -0.05667755949641535,
          -0.11426290079926844,
          0.6595238304029057,
          0.33258463432205737,
          0.3002086450742758,
          1.0423439436389215,
          -0.44702448713300796,
          -0.2622879809255215,
          0.4031552426877395,
          0.30229269517139395,
          -1.2027483458935069,
          0.694035061253815,
          0.20828520909716203,
          0.07850007117625868,
          -2.104393016841391,
          1.4896132114147214,
          1.058474679520556,
          -0.10727434711138924,
          0.6441635117860763,
          -0.29493341678118307,
          0.4927156706381836,
          1.2095556805689047,
          1.1522300467270683,
          0.41043831764098654
         ]
        },
        {
         "showlegend": false,
         "type": "box",
         "y": [
          0.02377148426415752,
          -0.7294600269408261,
          0.16327378132186543,
          0.781038087219831,
          0.7414329387196118,
          -0.32922333144185795,
          2.123677746369318,
          1.09976371120808,
          -0.38790508603724183,
          -0.15078241381779633,
          -1.5401792898904463,
          1.4808280322354375,
          0.05837149857832981,
          1.4501502779387525,
          -0.6494433222484705,
          0.7003961484280903,
          -1.8715122866319176,
          0.7723934821014377,
          0.6359318077425937,
          0.005843698511726408,
          -1.0845009174974403,
          -0.9372886700637724,
          1.28781037955433,
          -0.2921065208695861,
          1.658417952869147,
          -0.17221097694512,
          0.26238673571097443,
          -0.6187262068647492,
          -0.5993460811295764,
          1.2776364533618467,
          0.31951119869604994,
          -0.38753746340257117,
          -0.9655276811172323,
          -0.19347772314005166,
          -1.7458899437503306,
          0.8654754158876247,
          0.33006226818834705,
          -0.9177047038911577,
          1.0842161484494275,
          0.6705283822682808,
          -0.567689804475722,
          -1.0628420576135273,
          1.472125786480339,
          -0.5656970812641382,
          -0.5492004289217803,
          -1.3407409906167262,
          -0.7118092780757164,
          2.0165035972018526,
          -0.11820364015533447,
          2.039189332450101
         ]
        },
        {
         "showlegend": false,
         "type": "box",
         "y": [
          0.03197048614575826,
          1.3701963827562946,
          0.812445816199043,
          1.583861002159707,
          0.9935781265822875,
          0.6658418289327985,
          0.5592588762546364,
          -0.6811274516804007,
          0.2047382156403001,
          -1.5035720019388716,
          1.7443620383900311,
          -0.14919798761911973,
          -0.957695541724205,
          -1.131591162782335,
          0.9984966417584726,
          0.842071223031272,
          -0.9004420121241659,
          -0.26167489249858256,
          0.7045278694933971,
          -0.7723410433389677,
          0.4429674548765453,
          -0.9076021730435642,
          -0.15201176865055965,
          2.621792330719697,
          -0.9915570100528356,
          0.40712000246021207,
          1.25096628829105,
          1.2378284258149503,
          -0.1862963577496713,
          0.30003549609326885,
          -0.5117378071665158,
          0.45402707399628583,
          0.2980849658012245,
          -0.25310211314054465,
          1.3741889062182362,
          -1.2351128060161338,
          0.17180675081097946,
          0.9273329975528768,
          0.3649993796479262,
          -0.24748737810687077,
          0.30221961771113415,
          -0.20855793987412025,
          0.18735544150590572,
          -1.2853296470967581,
          -1.756486517512439,
          0.4548478994839763,
          -0.5808772445226514,
          1.659750884960512,
          -0.07817870219000028,
          1.51288176244842
         ]
        },
        {
         "showlegend": false,
         "type": "box",
         "y": [
          0.2589376428141743,
          -0.1481683875637199,
          0.47184206256933947,
          0.8221899224024443,
          -0.09844941867204163,
          -0.5228695095025541,
          -0.584486684213965,
          1.071330371494968,
          0.1427895947289139,
          -0.1536520602387864,
          -1.6131756360166416,
          -0.7075144887638408,
          -1.8224758992738495,
          -0.2544465107103705,
          2.4543468433802693,
          1.738106299886358,
          -0.32737977218580977,
          -1.7196803008248576,
          0.0705056476598962,
          1.4163080441122753,
          0.7417446176637845,
          1.2953046644446162,
          -0.038948932921137984,
          0.024187309969446492,
          0.60589908232571,
          1.203940065347185,
          0.39255318874786005,
          0.06664213220315106,
          -0.668862146105276,
          -0.2650193822874087,
          -0.027969244195846274,
          0.33306305481237347,
          0.615537271293741,
          -0.08619060839974892,
          -0.2762993345688916,
          0.039742341433732044,
          -0.06511723909603007,
          0.09273149000613241,
          -0.30861092202588364,
          -0.1752359247777901,
          1.9743065306679992,
          -0.2715847396284099,
          -0.8636611716247905,
          -0.6310598235497,
          -0.5642797235793682,
          0.4232901905591767,
          -0.3334693619084828,
          -0.2080256015673669,
          0.5822212351556559,
          0.014273591999714137
         ]
        },
        {
         "showlegend": false,
         "type": "box",
         "y": [
          -0.25359985675119634,
          -0.5364616858709121,
          0.9663645483809685,
          1.9548874081691452,
          -0.3320354876004155,
          0.4270960670720983,
          -1.1254754600629984,
          -0.3516240991912177,
          0.2039549779640535,
          0.29016775608389417,
          -0.8974405701224266,
          -0.8650119114447533,
          0.4998774579021242,
          1.1301479917164046,
          -2.6153524569816895,
          0.02969911700375625,
          -1.083294768172193,
          1.1779754195264582,
          -0.2865136513213585,
          2.232895319964667,
          1.1742689110900575,
          -0.8297022958308924,
          0.8330819002833437,
          -2.8535270073922936,
          -0.41912183792198426,
          -0.0949899063373279,
          0.36008794154555285,
          -0.7850186251106677,
          1.2594825237613183,
          1.3082425883077233,
          0.21770100444250454,
          2.1310229860006347,
          -0.854889207074076,
          0.4828594320049699,
          1.5432648065324,
          0.36549728743487314,
          1.3244053342232,
          0.09070708699607131,
          -0.3226537985384418,
          0.8367291846948062,
          1.3274800142182475,
          -2.3072018958073994,
          0.15399045867501443,
          1.5623571540056096,
          0.10194362724038863,
          0.9928506998706262,
          1.6348975528548972,
          1.1654068815132315,
          -0.2655399642677006,
          -0.1176973669262255
         ]
        },
        {
         "showlegend": false,
         "type": "box",
         "y": [
          0.34182631915868067,
          -1.57459076124267,
          0.8895816842263671,
          0.255175382596775,
          -0.11045032631529997,
          1.7902004379052132,
          -1.9707106760267163,
          0.1829987058661417,
          -1.1707077153460639,
          0.7221285669903805,
          0.4425743344519479,
          -1.1103700752525807,
          0.30482937427471024,
          0.11431437288799526,
          0.7522408505840098,
          0.6799347665518628,
          0.7744942639385051,
          -0.731661135158909,
          0.5434786019370598,
          -0.5500116121263058,
          -0.011691712999797784,
          -0.11008959712750989,
          -0.9300425023438875,
          1.5686528438172953,
          0.044998752932423815,
          0.3486482116418121,
          0.3721974030355286,
          0.7993217309701792,
          -0.9194606952123511,
          -0.28676447456146403,
          0.4409633914327648,
          -1.0397648870152538,
          0.48188034127092505,
          0.9215616277717704,
          1.0767657721558346,
          0.8416838753405163,
          -1.865000002590914,
          0.997450999588139,
          -0.3435292001774261,
          -0.4660968679948631,
          -0.2077578240457991,
          -0.9823053425807944,
          -0.3425549427429207,
          -0.15069433260976683,
          -0.7875921253091419,
          -0.8738790869464302,
          -0.9103631204418668,
          0.3837261890805803,
          1.208438002151377,
          0.03448656378310494
         ]
        },
        {
         "showlegend": false,
         "type": "box",
         "y": [
          -0.0633989824809201,
          0.5053679610380407,
          0.3813478376812021,
          -0.8991262116976504,
          0.21215875447989677,
          1.4993920131860956,
          0.2682227631804332,
          -1.4106060004141114,
          -1.0358133283544735,
          0.20274767897512433,
          0.955828589544887,
          -0.14207778306166519,
          -1.8303929885142944,
          2.194343816289092,
          0.43893676427265516,
          0.5753911802222983,
          0.8910011725493522,
          -0.3100117667107668,
          0.34101650290830093,
          0.032249893262882856,
          0.40137445816486766,
          0.6765350331575218,
          0.44664937668964244,
          -0.04778964147949677,
          -0.7072636655942868,
          -0.37523825433651176,
          1.8900888240417355,
          0.2912184758697861,
          0.5913472571278084,
          -0.22864419477123557,
          -0.00568207956053054,
          -0.2261226508040989,
          0.6857754745071529,
          0.4039015596039605,
          0.3985585074112345,
          -0.12022952427872591,
          0.01181723721245165,
          1.7584645522435147,
          -2.33231335016972,
          -1.2510309698441013,
          -1.3818960725305907,
          0.3656364697649429,
          0.6009878289613938,
          0.6010812757455858,
          -0.8463945339450949,
          -0.28528288680408725,
          1.9214470946992077,
          -0.12805374965423857,
          2.1843832138829793,
          0.7903354850802721
         ]
        },
        {
         "showlegend": false,
         "type": "box",
         "y": [
          0.9318061707582358,
          0.27109227672773034,
          -0.025884204392514903,
          0.6493916421395668,
          -1.7091624121934075,
          -1.1460678594082727,
          1.3336011156881393,
          -2.5818567672341404,
          0.525447292702635,
          -0.48902614649629933,
          -0.6841214426619023,
          0.033289110646791964,
          -1.0108321960456454,
          0.2143093500578669,
          -2.178409186131034,
          -0.22088199156722832,
          -0.6706006095580443,
          0.010106555428035962,
          0.5346581831442417,
          1.1755758367282907,
          0.408530244551356,
          -0.4497532854156843,
          -1.761677196900106,
          0.0072349207110102105,
          1.9019736046835993,
          -0.10727302219243175,
          0.6361031957407969,
          -1.4611461875069092,
          -0.25840062617514786,
          0.6341506099806559,
          -1.3566049855282418,
          1.2833792661386374,
          -0.038047807087506526,
          -0.41312670386644423,
          0.3696930073494142,
          1.27206201228519,
          2.8903816189321105,
          0.552017845775699,
          0.46163117924481456,
          -0.7967711147944792,
          -0.43926890120172357,
          -0.928141143053773,
          -1.5243648313180147,
          -0.20051224211321836,
          -0.09422232534877491,
          -0.0699911195087977,
          -0.09798393639551925,
          -0.34277811991243895,
          -0.06793031140936974,
          0.6635750361286806
         ]
        },
        {
         "showlegend": false,
         "type": "box",
         "y": [
          -0.7967715006811413,
          0.28557978685302343,
          -0.5510111414960965,
          -0.43330760316799705,
          -1.4865300532707846,
          0.38530732063650125,
          -2.217343991010877,
          -0.22050213345670486,
          0.30376736575256025,
          -0.1523918208144231,
          0.09522231629836056,
          -1.0196813438707193,
          -0.30512801920846466,
          1.5020700304766452,
          -1.6946879539676585,
          0.8076493652558903,
          0.7114899069496657,
          0.7234628771150577,
          0.14843535944263928,
          -0.9490354925052402,
          1.0649408259547677,
          -0.45102945952750595,
          0.16781190057159154,
          0.04559589378794502,
          2.223747833149851,
          0.0022234228581309045,
          -0.48946593958925116,
          -0.5133851252326422,
          1.5921796052314119,
          -0.6388821318780842,
          1.2249775946879382,
          -1.5194375539147422,
          1.2663782713483354,
          0.4536580756111218,
          -0.46980103959690966,
          -1.1027490735047365,
          1.4262013819725248,
          -0.5333573319628541,
          -0.1005143094652657,
          -1.4140278383963207,
          -0.6534466281901254,
          0.6770002886061793,
          -0.3971930425327087,
          0.08415889493530562,
          -1.060014532825131,
          0.603474284796225,
          0.23722616046945788,
          0.1444943404767017,
          0.0282576244212926,
          0.4892025909618779
         ]
        },
        {
         "showlegend": false,
         "type": "box",
         "y": [
          1.6226799718166527,
          0.5875229025492886,
          -1.5581423817001605,
          0.831832531302219,
          -0.15387169992481686,
          0.09245640030806904,
          -0.9473392514110974,
          -0.8286915216655772,
          0.3779014430494889,
          2.1609296401924762,
          -0.7927984556905084,
          -1.6508761496186928,
          -1.5066466416108635,
          0.7945172562457332,
          0.8488080003685082,
          1.4711803839023487,
          -0.022743525202595247,
          -0.9117055983290464,
          0.14744493699103825,
          1.142352753663674,
          0.3311009611239443,
          0.29368298348220967,
          -1.4464606880589543,
          -0.63566039604182,
          1.517602466331125,
          -2.742540246277501,
          -0.42417533166172516,
          -0.4136776364176935,
          -0.5001606970616526,
          -0.3065159928243853,
          0.6850899639030592,
          0.3097979150959069,
          0.2686930529774594,
          -0.16726260799573342,
          1.7782166038506615,
          -0.546133849912035,
          1.4043849276456128,
          0.44969331888482245,
          0.6889688408401385,
          -1.109211805547865,
          0.052282801316636505,
          0.16102969196349076,
          -0.09093750655108197,
          -0.5636325139566893,
          -0.6981706900255454,
          0.3683736149780198,
          1.8031778702012158,
          -0.4514816384550152,
          1.1953883420419904,
          1.50610926277949
         ]
        },
        {
         "showlegend": false,
         "type": "box",
         "y": [
          -0.34243484932574153,
          -1.1059806981459812,
          1.0051754883238144,
          1.6204191031852087,
          -0.046788954094712266,
          0.9433108856472493,
          0.46190094171270374,
          -0.4519588150325516,
          -1.0228984027397081,
          0.06835808347209225,
          -0.1654573936232792,
          0.10530967142575216,
          -1.3357679917783005,
          2.4292241637636973,
          0.10638503464917304,
          -0.3811642635140894,
          0.21472672811884735,
          -1.0252772561312327,
          0.29279756691232056,
          -0.007118409919285445,
          -1.3788341812199905,
          -1.0769844798706405,
          2.003617948947674,
          -0.18036442430902924,
          -0.287342733066577,
          -0.7070770097604657,
          1.2414733356290137,
          -0.8021997317637486,
          -0.5161907169679224,
          -0.7305849291475424,
          0.545694736064134,
          0.3910932709616155,
          -1.8349707050225645,
          0.03889595496861109,
          0.796238917527395,
          -0.9383070043601442,
          -0.6243164293798115,
          -0.4918437126742083,
          0.5989706645081515,
          0.6099723296358468,
          -0.5333922204732706,
          -0.4330074260468834,
          0.4511154190778135,
          -1.3476377914025421,
          0.22584231132292532,
          2.2817724584839523,
          0.6662816945513617,
          0.09691536240834486,
          -1.6135699505540262,
          -0.9340926814781457
         ]
        },
        {
         "showlegend": false,
         "type": "box",
         "y": [
          -0.09308663304230035,
          -0.4703257277322901,
          0.15333377589230265,
          0.9932977726826309,
          -0.252130858629565,
          -0.8895256203875458,
          0.12776385991687475,
          -0.8388634219715795,
          -0.6498016261512459,
          -0.8619407348836029,
          -0.2903141732227927,
          -0.42197103668432084,
          -0.46701356722037113,
          0.14191590589826966,
          -0.30383537838307983,
          -1.1794473558553262,
          -1.8160834540465955,
          -1.3571585878122785,
          1.6026833928185784,
          0.061012440462854936,
          -0.096350802893716,
          -0.07065764910137733,
          -1.5837605685553962,
          0.32462595653863124,
          -0.7957175145146357,
          -0.9368107776040671,
          0.9302794360724284,
          0.5612615891986983,
          0.21762048250548036,
          0.6978571212907557,
          0.5539245024928867,
          -0.15857097326653213,
          0.989372692596498,
          1.7495725575733831,
          0.4105866072316809,
          -0.03347102024772818,
          0.8442896206725146,
          -0.24069879131892707,
          0.5175586142513307,
          0.07628875330492466,
          -0.03381090969305703,
          0.9668425213551693,
          2.1438440641801564,
          2.068713698982994,
          0.38875948764795737,
          0.3190658367691172,
          0.2424138457431857,
          0.2499709048837466,
          0.4652342164337302,
          -0.46215846054910015
         ]
        },
        {
         "showlegend": false,
         "type": "box",
         "y": [
          1.3868396556212386,
          0.37995834470364503,
          -1.3694511393716977,
          0.5147005373255369,
          -0.33868233532559605,
          0.27103482007974833,
          1.0319669068722044,
          0.19241623897483875,
          -0.9603611819000009,
          -1.19578010527312,
          -0.5609741592276911,
          -0.39911904321629704,
          -1.6083597968172,
          -0.730273341799027,
          -0.9177723922495458,
          0.6941279897339435,
          0.6346635554516185,
          -0.8421076818418746,
          0.84737629234708,
          -0.07208232865985582,
          -0.4805163787452609,
          0.1706298969779408,
          0.6766930974652532,
          0.5349246707864299,
          -0.9747546206377654,
          -0.36266078279102987,
          0.32536292459300076,
          -0.6606162643089526,
          1.1815839348972739,
          0.6646848016244947,
          0.7927348531105792,
          -0.11458960894301064,
          -0.9799433901646971,
          0.5683065939612981,
          -0.9777910438640612,
          -0.45115995311949353,
          0.20579719567645288,
          0.5506390153943654,
          0.7146224445854027,
          0.5655933482567201,
          -0.2555958002055626,
          1.0269330256569926,
          -1.5784729939303568,
          -1.7126379677412626,
          -0.569900813362983,
          -0.24610240346989945,
          1.806283857991719,
          0.052022076120843225,
          1.1448606002770776,
          0.7842960958185244
         ]
        },
        {
         "showlegend": false,
         "type": "box",
         "y": [
          1.0036565740250614,
          0.014981202840424122,
          0.4333411882232214,
          -2.6562368170264827,
          -1.2047475538788401,
          -0.12608573646958537,
          0.4436775653536852,
          -1.6379680410166033,
          0.23071847876506454,
          1.0309360458275536,
          1.6877586633260413,
          0.7056517984561724,
          -1.330733061998425,
          -0.3623916573597313,
          0.7981543544993547,
          -0.931595838368838,
          0.761236961217049,
          -0.7140484419499542,
          0.5401928379893826,
          -1.8058511492190268,
          -0.5853066479786008,
          0.15454093166522043,
          -0.04085601015091849,
          0.7262694896618821,
          1.3197433422524314,
          -0.6349796521992779,
          -0.06170236194046132,
          0.09979749497084407,
          -1.9613833479453575,
          1.101611919066769,
          -0.3810866889784617,
          1.433015958069656,
          0.15209446564968307,
          -0.13798892141589947,
          -1.050116679864242,
          1.8937927575412505,
          -0.3078437431142207,
          -0.37107165952623883,
          0.04482530843568031,
          -0.7736495653491303,
          -0.4874891471743477,
          0.04853259803170576,
          1.7212534613272668,
          -1.211418119825323,
          -0.5055611700710844,
          1.1118053194099975,
          -0.22337009887153783,
          -1.0149157597970553,
          -0.64340252249017,
          0.2467762629218749
         ]
        },
        {
         "showlegend": false,
         "type": "box",
         "y": [
          0.8535774166769227,
          0.8469333807773985,
          2.5183886101213764,
          0.05977485945059,
          0.8602768372937803,
          -0.42566849990794126,
          -1.2281667622061807,
          -0.12108411269884485,
          0.4614537664345819,
          -0.28729086759449657,
          0.027321603479749677,
          0.44785940330396207,
          0.23556835857527142,
          -0.9504686894001397,
          -1.3132670970008498,
          -1.3717395526221714,
          0.9390497414205846,
          -0.6034585294176854,
          0.2787953689469018,
          1.5999790497874282,
          -0.5426363493144849,
          0.7007336806222824,
          0.7141590030809205,
          -1.3139772748646994,
          -0.038436105646298645,
          1.8931686266223389,
          0.3581571953181942,
          -0.4839755961960388,
          0.3448973657172108,
          -1.1919382200548085,
          -0.5769927755758504,
          0.5119215691835651,
          -0.9199700884796129,
          0.5672271751819769,
          1.4611359429342772,
          -0.2651235911152805,
          0.16321326279492712,
          -2.1545010117999364,
          1.163399237055329,
          -1.14740455810881,
          0.3253292393620827,
          0.1234466208660426,
          0.45910372135399474,
          -0.3137822224473036,
          -1.4471108601241396,
          0.3098072886508488,
          -0.03340578272464975,
          -1.330161892358187,
          0.7341520772188806,
          0.41397117261963157
         ]
        },
        {
         "showlegend": false,
         "type": "box",
         "y": [
          1.066983469706294,
          -0.245810086372074,
          0.32957786523769667,
          -0.4723215961974903,
          -1.0558934344178443,
          0.47227247245691295,
          2.526286105888693,
          -0.29241118960399864,
          1.8255876103224506,
          -0.18933208495771206,
          -0.5079601143745482,
          0.9535843402381267,
          1.903822377792585,
          -1.0657875973046858,
          0.49882913511364035,
          0.5363044413567828,
          -1.9582218653614685,
          -0.7933026405404152,
          -1.1739723292559883,
          -0.6454079490169647,
          1.3999253913892693,
          -0.413769333305935,
          0.07305667838165546,
          -0.684300208475075,
          -0.975996442778809,
          0.3623698577940458,
          0.38125757814340216,
          0.5386615599227659,
          -2.4184294125951253,
          -0.3911782030047473,
          0.45669842660916243,
          -0.7442642726043759,
          1.4626596066111341,
          0.6485865204164483,
          0.7094601408467227,
          -1.2232280651266418,
          -1.7427380615671895,
          -0.02762477839307305,
          -0.2940714308367943,
          -0.8555228587609848,
          -1.590130835410435,
          -0.844391124757292,
          0.9240565156098083,
          1.395018569113136,
          0.8235603832639099,
          -0.48765176443383756,
          0.6565605745945098,
          -0.4860800494154885,
          -0.6841746811775986,
          0.7285464842901306
         ]
        },
        {
         "showlegend": false,
         "type": "box",
         "y": [
          0.7494159366686866,
          0.684253809342069,
          0.586132475662402,
          -0.5652271609893534,
          -0.816003932548554,
          0.05023535671245074,
          -0.29531242770432575,
          -0.7910730082667929,
          0.5411523276642046,
          0.8922689496941008,
          -1.2230297309001508,
          -0.7689117371848598,
          -1.1642839456079102,
          -1.7326754632343022,
          -0.5896402067731797,
          0.37255086139662097,
          0.19625935596861235,
          -0.32840363040109594,
          0.20234092596531633,
          -0.43722408488395875,
          0.7823847796292802,
          0.7506492902146124,
          0.995214216351459,
          -2.38306044477437,
          -0.38073412785187316,
          -2.215774279905689,
          0.17493438331776276,
          0.5434675420405953,
          1.6852220101869329,
          0.16991366371957672,
          -1.3192439713634698,
          -0.9682503144758924,
          -2.438416949577091,
          -0.7864435239308833,
          -0.016312490396225697,
          0.4468178145571011,
          -2.3012122914603395,
          -1.3288720757878856,
          0.02085070335340606,
          -0.4793849032678458,
          -0.4743114482447189,
          -1.4446208730888224,
          1.6901244169182985,
          1.5428675007416595,
          -0.8523135343945598,
          -2.116932363081483,
          -0.1920083200973782,
          1.2312498259112135,
          -0.5262134623265421,
          0.10572023521072103
         ]
        },
        {
         "showlegend": false,
         "type": "box",
         "y": [
          -1.3328556914456522,
          0.6627726115616868,
          1.180928260159144,
          -0.8015497447698843,
          -0.26383135259508944,
          0.9571341528372284,
          -0.5295817822236273,
          1.5879722763809587,
          -0.9601900005367079,
          -0.6009843072665589,
          -0.09613456111803365,
          -0.6516726546070386,
          -1.1387965005321268,
          0.8898846766475984,
          -0.31142825198632834,
          -0.2349502615494847,
          -1.280878460887643,
          -0.021348670804609685,
          -0.7445593774017796,
          -0.32238638143368314,
          0.5246288050177718,
          -0.47671471909707724,
          -0.37455249253928125,
          -1.4625525069281295,
          -0.6118617621355502,
          -0.6956670025113464,
          -0.7820752430985193,
          -0.049035960800016355,
          -0.3990518348844375,
          -1.1099680865327575,
          0.7086842493469641,
          0.7416469886215125,
          0.09471184091493981,
          0.10383022858593728,
          0.40506751121755796,
          0.40739860545703116,
          -0.18523649401452266,
          -0.36493557604554383,
          -0.4113643062194869,
          0.6838075168575369,
          1.1180651374850858,
          -0.7913790417632885,
          0.2619067549364617,
          1.165223696597601,
          -0.3016778318349294,
          -1.0529976820420186,
          -0.20713892548549498,
          -0.16604917897137875,
          0.3191797582949728,
          1.1212819182084803
         ]
        },
        {
         "showlegend": false,
         "type": "box",
         "y": [
          -0.8799962819251769,
          -0.42325079709261876,
          -0.9983215739350364,
          0.07753941520497666,
          -2.002236380734671,
          1.6668320372693815,
          1.7730390344164582,
          -2.05846120630003,
          1.3473905915285032,
          3.5199325546006857,
          -0.08518516137494062,
          -0.38657159035005184,
          -2.474031133220834,
          -0.035099145821741826,
          -0.023564801719265532,
          0.04880394509960959,
          -1.3412394810113455,
          0.47903876404889856,
          0.48605952170008954,
          0.21311970189028792,
          0.7210394116293389,
          1.7109495207929397,
          -0.14883187122207003,
          0.2326990948660024,
          1.1836069294090004,
          0.5559470276281389,
          -0.345757773233163,
          0.48585565001435427,
          0.11369985826980565,
          1.0389566384941753,
          0.3380983151057622,
          0.2107803192737288,
          -0.8045914408273676,
          0.18563442524359497,
          2.0513505476430085,
          -0.810748200560281,
          -0.07445413353121583,
          -1.3527100545924773,
          -1.1089880218132597,
          0.26725819680006946,
          -0.593427408818508,
          -0.08291772453254743,
          1.6842952262986435,
          -0.32289752010242934,
          1.6204241272186723,
          -2.033408296636064,
          0.5166465433559082,
          0.08115856107794651,
          0.2500420942800116,
          0.5663795099901772
         ]
        },
        {
         "showlegend": false,
         "type": "box",
         "y": [
          -1.075553816413238,
          -0.46475255024837875,
          -0.3704306224294906,
          -1.2755821692372145,
          1.3471541252105024,
          -1.274408505907403,
          1.5384036148620266,
          -0.06904627362610871,
          -1.7468038372504178,
          0.20839983389531594,
          0.17205649157744862,
          -0.6978872835891728,
          0.12018635396584233,
          0.1875611182947979,
          -1.316218330239347,
          0.9052861134166535,
          0.5004609522367582,
          -1.1185471659907449,
          -0.5276824022015827,
          0.7580736079357362,
          0.22307545053947267,
          -0.03224224442062258,
          0.6458637108988171,
          0.7084858378593076,
          1.639620946231801,
          1.6996414165923803,
          -0.526654284488086,
          -1.3235267818321959,
          -1.151206157823183,
          -0.5618921155394317,
          -0.12395450752943651,
          1.891844537946121,
          -0.38155700963354816,
          -0.23300187738196426,
          0.019684943781605905,
          -0.4465226131413215,
          1.8837349836171557,
          -0.39999809101681605,
          1.1037357502257943,
          -0.937048218474738,
          -1.3072121064130708,
          1.2986207358716255,
          1.5160026050900717,
          0.19271482750077198,
          -0.4533798784083637,
          0.3482640812080239,
          0.22675942242655864,
          1.9524952143214858,
          0.18253393417281938,
          0.12640001777864915
         ]
        },
        {
         "showlegend": false,
         "type": "box",
         "y": [
          0.10307798675666476,
          1.650159561279884,
          -1.0512140030614108,
          -0.0980757013418953,
          0.25304694759379776,
          -1.993879815723699,
          0.8165143668906581,
          -0.48069368605327567,
          -0.3505767879341608,
          -0.6300377093859981,
          -0.3149617414451578,
          0.09463401811058608,
          0.37944745953613357,
          -0.8639990351546185,
          -1.359528664505198,
          -0.20384582277550975,
          0.6149007812802822,
          -0.05314731249159421,
          -1.094674723991016,
          1.4816804209143586,
          -1.2652787970215824,
          0.39111314686140575,
          -1.1854936648638916,
          0.19635511959644283,
          -0.8456770201509398,
          -1.1577896406022117,
          0.08291187372782097,
          -0.9098992136141679,
          -0.9132172687741003,
          1.409879584139903,
          0.24164676140442154,
          1.6685701047665722,
          -2.2395032375162005,
          -0.5755830748237047,
          1.4642911256330158,
          -0.5427798323188585,
          -0.10200447161497733,
          1.4940090217997801,
          -0.3411410061222578,
          -1.8695877287124971,
          0.06972591568070557,
          1.0105161495539015,
          1.5527627452099237,
          0.16480911475491367,
          0.20158283352686765,
          -1.1085983003793556,
          -2.102454616902739,
          -0.43799331210977127,
          1.0130804855316828,
          1.1101801267231852
         ]
        },
        {
         "showlegend": false,
         "type": "box",
         "y": [
          -0.6144820874607575,
          -1.1389434238166254,
          -2.0189700356333886,
          0.3288666279823368,
          0.2854691373879629,
          0.09406233297307068,
          -3.489578502573241,
          -0.013803148998235548,
          -1.2935805281866037,
          1.5922684506934288,
          0.038490116215268357,
          0.5737492544856018,
          -1.3480738550826332,
          0.0685448368205218,
          -0.16927036554648,
          -1.5796967610302601,
          0.9351434999396131,
          0.04202539448143705,
          1.5206706361196318,
          1.4421084610702295,
          -0.9106421034865607,
          0.5737398245683809,
          -2.1333429542162983,
          -0.0360217929028002,
          0.22264534694422958,
          0.5972976688047802,
          0.34647687682697464,
          -0.3832973917895731,
          0.9270731141136463,
          0.2242465082865306,
          0.36545060526530876,
          0.380555535400265,
          0.7248457377907472,
          -0.9207981897664971,
          0.9221449651924538,
          -0.4319240151766392,
          0.38685419399960325,
          0.48841276879672185,
          0.31620033956234944,
          -0.24867127238641362,
          1.5917435536377158,
          -1.2738489377848368,
          -0.9965393145343056,
          -1.2418358341046647,
          -0.9511037085120951,
          0.03421315796837146,
          0.519366503177742,
          0.544774252170081,
          0.11009445456906432,
          -1.0131064170727537
         ]
        },
        {
         "showlegend": false,
         "type": "box",
         "y": [
          1.7335902405197539,
          0.08815556002004878,
          1.4622879460664568,
          -0.2837503396812225,
          -0.9492149735591935,
          0.75442075687891,
          -0.24332157589676212,
          1.301929934397624,
          -0.1984169778018469,
          0.10970380290916971,
          -1.816690805019769,
          -1.0835691273577277,
          1.0275930281870205,
          -1.0363352883392851,
          0.7204306705701635,
          -0.7352593430546787,
          0.15910014580563492,
          0.37880854972255884,
          0.7760318840465142,
          -0.0348537711969753,
          0.09769180098520432,
          -0.7962194703595892,
          -2.5027504003830905,
          -0.613529226232525,
          -0.3277495387685059,
          0.8539487886935322,
          -0.558625424959607,
          0.7122297603510729,
          0.28254550348813856,
          0.8278714753267408,
          -0.2297281842537868,
          0.653239174401383,
          -0.6649399810978269,
          -0.06953959989415705,
          -0.7354622377331079,
          0.7731686151379347,
          0.7495724112756146,
          -0.6556420454874597,
          -0.36268561841091873,
          0.8084865815203164,
          -0.536211075853657,
          -0.5164042845491847,
          0.31243533489482916,
          0.15028257660436428,
          0.5091626083750167,
          -1.6266610540797446,
          1.0894171200794147,
          0.6017173495501671,
          0.9134342404103676,
          1.5279014580255106
         ]
        },
        {
         "showlegend": false,
         "type": "box",
         "y": [
          -2.0876656739212076,
          -1.0311482147500513,
          1.7364835758854642,
          -0.6650231467483851,
          1.1103464472414992,
          -1.5952660937924863,
          2.192194755035256,
          1.4337547736913856,
          -0.37086228292409473,
          -1.1305716868849585,
          -1.2883413674613222,
          -1.284487712672637,
          0.718927651932153,
          -0.7087641044969621,
          -1.2869001803943403,
          -0.8514642404468641,
          1.146685773068717,
          -0.30701224200642574,
          -0.01973794027948376,
          -1.2532123819723402,
          -1.5660418563962535,
          0.24121974493317797,
          -0.5826784395995454,
          0.8350343646788465,
          0.6918644209653523,
          1.2122523286662057,
          -0.6536553415267206,
          0.35387352997888033,
          -0.5161317701147792,
          0.2536879902015577,
          0.127606005183629,
          0.40347586917429007,
          1.2857437293325702,
          -1.439693884711366,
          -1.374508475784493,
          0.35033059186260185,
          -0.07448813528187895,
          0.47870359323723577,
          1.3149919432000283,
          1.1590051413860671,
          -0.33782319840870867,
          0.3269047389463064,
          -1.111193961291624,
          -2.0049374604376604,
          0.9845761291380087,
          1.1070468924540589,
          -0.2797311855287035,
          0.3918150097064807,
          -0.012877578860605216,
          0.18389551234525112
         ]
        },
        {
         "showlegend": false,
         "type": "box",
         "y": [
          -1.6634082426060097,
          -0.7136844172575093,
          -1.2762908310695427,
          0.24073619860733356,
          -0.5115388518247516,
          0.7870650309507644,
          -1.2634440507312212,
          0.22228456839549368,
          0.45350270719367686,
          -1.0284114842264427,
          0.48536158034963295,
          0.5814409393865974,
          0.30619037559390494,
          0.5314520463707278,
          0.2457507269294158,
          0.4199683884034005,
          -1.2389641437849523,
          0.2164820163423445,
          -0.793869248270179,
          -0.4711960043341202,
          0.14966597330646153,
          -0.19114477498157892,
          -0.5368947450653704,
          0.056850318249494255,
          -0.2951327229899843,
          -0.45913389492154005,
          -0.5562429347570691,
          0.1431496793911748,
          -2.3150965961382663,
          0.24354648936133982,
          -1.470543367922082,
          0.9487851384963623,
          -0.11767857545380642,
          0.24705230621793103,
          -0.5701714371513451,
          -0.5689772029054072,
          1.4681557279351765,
          0.9152845412463959,
          1.2023568458243388,
          0.9291271723522171,
          -1.713138858222657,
          1.5621748157049944,
          -0.874414505494458,
          0.5729305306932736,
          0.6706252753861901,
          0.8952614182323128,
          -0.7292628727562368,
          -0.7615554457592378,
          -1.0910885610601533,
          0.6742754015755619
         ]
        },
        {
         "showlegend": false,
         "type": "box",
         "y": [
          1.3880828110956331,
          0.11914993848524111,
          0.3016269708887151,
          2.3199745685909288,
          0.7792121754443584,
          -1.1438055659826956,
          0.48389617993820433,
          0.15984379713417055,
          -0.5503755409523838,
          0.37587653017457884,
          -0.40059486705966674,
          -0.5757245656833663,
          -0.8450926508367314,
          1.7784542145159645,
          0.05285188965798599,
          0.8182457006018825,
          1.616450986482475,
          3.011017885595584,
          -0.8340561511805976,
          -1.038416904997733,
          0.2905758986209043,
          -0.2586133347629175,
          -1.015572653178388,
          -0.07163199057821164,
          -1.1705767107364127,
          -0.5091476708407527,
          1.8166381661579347,
          -0.17733707221127504,
          0.3216639139299738,
          0.5592548897350836,
          -0.05481799637386035,
          1.1454509223769616,
          -0.6413579787721274,
          -1.279051475101591,
          0.35728749931282744,
          0.26473280309914876,
          -0.779807714794413,
          -0.2954107672163975,
          -2.436065487221016,
          -1.5282795714912745,
          0.35411631939712773,
          0.6936282265424751,
          0.8780479571973778,
          0.7308512241901579,
          0.22205851579478875,
          -1.5330512016831401,
          -1.4832065570656539,
          0.12679144458270467,
          -0.10693910542525176,
          0.5508843492958537
         ]
        },
        {
         "showlegend": false,
         "type": "box",
         "y": [
          1.5122018594769973,
          0.058714782070751155,
          -1.1551670458290846,
          1.1431081687029805,
          -0.0409454043573291,
          0.09731268102748264,
          0.11141115429196591,
          -1.6031140680880536,
          -0.7541332846916899,
          1.4628781606934986,
          0.23341257990712214,
          0.6485801161185751,
          -0.5945402456922997,
          -0.32242652298268204,
          -0.830774539617387,
          0.024727060279459163,
          -0.14373960477102846,
          0.6084146718709904,
          0.6511739162138973,
          0.029670754845955268,
          1.21380997603309,
          -1.3465356501585302,
          -1.4046515829231259,
          0.013516705552608371,
          -1.0593896514595245,
          -0.01492530128624632,
          0.8310659026881797,
          -0.759794362835623,
          0.08616161754176217,
          0.5850534898032506,
          -0.5834403433967424,
          0.7881827267623517,
          -0.5731167170089209,
          0.8933464887468618,
          -1.5876803929194585,
          0.9768991429938203,
          -0.9660108127187496,
          1.2160049453026476,
          0.9923458014039008,
          0.7247272875853762,
          1.4266950565671745,
          0.8396367066521121,
          0.25077596065606655,
          -0.22830773377046928,
          0.4575133181337285,
          -0.1387942526122639,
          0.014718156209348344,
          0.09556124698466986,
          1.5151457318842279,
          0.3159215393233552
         ]
        },
        {
         "showlegend": false,
         "type": "box",
         "y": [
          -0.9205199760569025,
          -0.9969630734720172,
          0.2360519260016927,
          0.8276544582907595,
          -0.4032329219111878,
          0.5097256936713352,
          -0.29295639916138705,
          0.8588306263189843,
          -0.8066447658511066,
          0.0137834851344252,
          1.1745667007633849,
          0.8203201447106861,
          -0.7138249806599044,
          -2.0163019158104185,
          1.882352197946501,
          -0.5877137011027376,
          0.08724686918509468,
          -1.1395565894987425,
          -1.3794757835983946,
          -0.6996648365190764,
          1.7052536294265999,
          0.5191237976385258,
          -0.8898455676851165,
          0.16997639501344866,
          0.09611387071376803,
          -0.034153685376147075,
          0.6829508164305852,
          1.26607165311992,
          0.27183494101625494,
          0.7811890129413065,
          -1.376203873712141,
          -1.7607184595086567,
          0.7671305693491853,
          0.6687573242217294,
          0.26309324815014573,
          0.3161720159861637,
          1.1899480499224622,
          1.5387549182169535,
          0.008291316447199158,
          -0.778915579767238,
          0.2531160027311873,
          -0.7128699820858193,
          -1.4979160742636757,
          -0.5468584126033487,
          0.25099027142319835,
          -0.8057715995605624,
          0.6235733690561541,
          0.3392708951939025,
          0.25825200927671327,
          -0.5767031682296407
         ]
        },
        {
         "showlegend": false,
         "type": "box",
         "y": [
          1.138771241048148,
          -1.7727480977497112,
          0.5283579819747631,
          -0.7278634884393183,
          1.8988016773524297,
          1.5807392700160365,
          1.4736775362760752,
          1.2091710303880556,
          0.585513592276583,
          0.3789012512419592,
          0.5634153538485513,
          -0.14210179041730367,
          0.4818784043497852,
          0.62692205510448,
          1.1198289227972418,
          -0.8350430164010121,
          -0.8546025871956208,
          -0.437865684774301,
          -0.24006113189499592,
          0.3994367714051329,
          0.7932041882465178,
          -1.9035117519402207,
          -0.60057351223591,
          0.24882214749405274,
          -1.2228982821320307,
          2.3122567408037686,
          -0.7020799584525229,
          1.5423980153641081,
          1.3159099263719527,
          2.0003740854460093,
          -0.5595362498169208,
          -0.16543714812554355,
          0.20477083883515731,
          -0.09309412119776446,
          -0.3963948822927918,
          1.3061254519438459,
          0.8374812238703673,
          2.2287851098342744,
          0.6706151663824303,
          0.34439547740672505,
          0.9804120625945967,
          0.72808384029917,
          -1.4371846068493597,
          0.10275330120421841,
          -1.9102992668639032,
          0.8171085634573519,
          -0.2161265286035187,
          1.2341152428082967,
          -1.420638375614916,
          -0.8015399530808798
         ]
        },
        {
         "showlegend": false,
         "type": "box",
         "y": [
          -0.47207532584538586,
          3.00691757915232,
          -0.9405854389694032,
          0.343948770911742,
          -0.2562081390552864,
          -1.5874308067570704,
          1.2013495301449053,
          0.10790887219077833,
          -0.15738973097710485,
          -0.3907166024208659,
          -0.08743797767796233,
          -0.8949375299482841,
          0.6786414033382956,
          1.956386295224177,
          1.4462583162071572,
          -1.8517767591110477,
          1.5125587529816422,
          0.569014413351508,
          1.822853174388431,
          0.22297797149142382,
          -0.3820501786729739,
          -0.8087021477341795,
          0.44957116804303476,
          0.24671487319654387,
          1.1539130428845576,
          -1.3219098314947693,
          0.8059213072781646,
          -1.5613390763152746,
          -0.3455395839940486,
          0.2918370960386502,
          0.806127691776474,
          -1.3767719864037204,
          1.0809169244679118,
          -0.5897401548355591,
          -1.2281809057789614,
          1.1882686375472664,
          -1.2624189913161201,
          -0.8644886624929481,
          -0.3167345592006735,
          0.7582066794302902,
          -1.376796360913496,
          2.4154664235955656,
          1.5791126416872057,
          0.08271174596374359,
          -0.474726810984832,
          -2.540560750523883,
          2.566057781957383,
          -1.1963960230297297,
          -0.15688272196407524,
          -0.0619408692832838
         ]
        },
        {
         "showlegend": false,
         "type": "box",
         "y": [
          0.1775914307997982,
          0.05947361446334191,
          0.6052877223525936,
          0.11013594991673945,
          0.607133225114242,
          -0.1661921569047706,
          -1.2345171590474444,
          0.6883704662175182,
          -2.0499155947328593,
          0.07843483578466141,
          0.09199380703778588,
          -0.503593823045598,
          -0.157498341052029,
          -1.1020644082297542,
          -0.00947437915467208,
          -0.6171280512593091,
          0.9860272086977867,
          1.228152294397389,
          -0.6361920552708751,
          0.35998688649497945,
          0.957728247331711,
          1.019765671399827,
          -0.4943530666130858,
          0.8112291243610049,
          2.38081836685929,
          -0.48561007325754413,
          0.31855512113908285,
          0.28857058186400003,
          -0.565361175189705,
          1.9655126101711151,
          -0.3198295391972142,
          -0.3279718444833807,
          -1.455016392196216,
          0.07373031518931426,
          -1.7476615921603085,
          0.8675522464239892,
          0.5712236927493191,
          1.1194863106762765,
          -0.1747137542568954,
          -0.9436553441663195,
          -0.07002947284844808,
          -0.5125641462173239,
          0.4897903160314195,
          1.0841006469009458,
          -0.8967410864194357,
          -0.6006137621349693,
          -0.6684956760328207,
          0.3367742881538157,
          -0.5476474749925093,
          0.44284569187934836
         ]
        },
        {
         "showlegend": false,
         "type": "box",
         "y": [
          -0.3931743790616557,
          0.05136374615857518,
          1.5559480383373532,
          -0.21840335157429122,
          -0.34567668864359297,
          1.1363913628205953,
          2.9351176102817162,
          0.5010825850063833,
          -0.5573195325507108,
          -0.12742517972222484,
          0.9201493886591282,
          -0.4055833020083785,
          -0.25664666846435835,
          -0.2125836562464129,
          0.11082140744093015,
          0.8675817521300665,
          1.5817781341915307,
          1.251386385465875,
          1.50612317518692,
          -0.2542931576236986,
          0.5213944092965507,
          0.2522073409910014,
          0.4900244592940735,
          0.0072870846986984065,
          0.8562204680201432,
          1.4786146931039434,
          0.9973901629964139,
          1.1285246878408008,
          0.9898509517002458,
          -0.23080133737538902,
          0.27668902398393164,
          0.18108673924147622,
          -0.151886571026551,
          1.0261764850385702,
          -0.6936131179911147,
          -0.7205979028413145,
          -1.2341030217839164,
          -0.058568028972330766,
          -1.4674415207426024,
          -0.08709665976412492,
          -0.07454697071881504,
          2.471907070538748,
          0.5485211283432596,
          -0.7742474951217266,
          0.879680341536377,
          -0.4305152137986224,
          0.3564072234002869,
          -0.09500221653692524,
          -0.086254435966007,
          0.7858678101455763
         ]
        },
        {
         "showlegend": false,
         "type": "box",
         "y": [
          1.486503075543406,
          0.9050493950344186,
          -1.2422717124268245,
          0.09125816973195644,
          0.6500026419473537,
          0.3412124294092606,
          -0.49900898389339193,
          -0.11895857783687526,
          -0.0662996199649779,
          0.6628085098106488,
          1.078854219858631,
          1.619745611010068,
          -0.7562292998540399,
          1.0548464360698586,
          0.6007296830147135,
          0.606702839514697,
          0.44454851084051294,
          1.7976672681069874,
          0.40518624327009284,
          0.17813998525217292,
          0.22684764131483,
          0.04653123913079201,
          0.061300138073874626,
          -1.4788075697659,
          1.820220531433002,
          0.013668630623648684,
          -0.6998333662209327,
          -0.39892392566547485,
          -0.8083250809501648,
          0.5513499974742504,
          0.061849316134330895,
          1.542653778579135,
          0.4463861415657402,
          -0.2959080203962131,
          -0.4570275314880493,
          -2.4157273820578915,
          -0.30917353039969153,
          1.5405337464828164,
          -0.28976291435761453,
          1.3523352143192982,
          2.0575861690621187,
          0.06367427459175277,
          0.46494658952437495,
          -1.334170427127386,
          1.5839591191331612,
          0.7912241322879388,
          0.36872127684250716,
          1.7065405624129786,
          0.9036134561336845,
          -0.971332997789246
         ]
        },
        {
         "showlegend": false,
         "type": "box",
         "y": [
          1.8168935883213098,
          0.21912355619073554,
          -1.2374523970168647,
          0.581419284698605,
          2.0037126434902492,
          0.6906946874882989,
          -0.5873330893126105,
          -0.16993278226709738,
          1.1785882232326994,
          -0.096137887635388,
          0.23176441124757624,
          1.2815824303002261,
          0.6054434611098245,
          -0.3284609595847646,
          -0.8899833620305067,
          1.3715317919068957,
          -2.157482816419969,
          -0.13466270230998315,
          -0.7925897659485108,
          0.23074757157101738,
          0.3066080689089546,
          1.1360481089939358,
          -1.9108696668857121,
          -1.562524319115194,
          -1.160849936153955,
          0.15521215075456865,
          1.1985200295858611,
          -2.0679528925532566,
          -1.3528005624700774,
          1.164146838984096,
          1.2845143547911162,
          0.7743164383988137,
          -0.53601636770015,
          -0.3392119167506633,
          -1.7731584975697385,
          -0.5693887730921654,
          -0.07057405805869797,
          0.340347216211917,
          -1.4733079789304488,
          -0.6249671365930805,
          0.4264458367453416,
          -0.19393064628039283,
          -1.1779682208171565,
          0.27533844827348347,
          0.49852950017578396,
          -0.309417931030139,
          0.20519559967854126,
          -0.7078614304532191,
          0.05409782401017457,
          -1.2285738933086483
         ]
        },
        {
         "showlegend": false,
         "type": "box",
         "y": [
          -1.6407108115009172,
          -2.114149322163423,
          -0.3738033018952093,
          -0.8402473051504117,
          0.1767251175294831,
          -1.488048738276943,
          -0.06012211208277408,
          0.0949513439589451,
          -2.9869074118496446,
          0.08401356623794502,
          0.46777387526744696,
          0.16180476709024658,
          0.7782562769653619,
          0.6095239356670559,
          1.7038658008759855,
          0.5549155883914045,
          0.7592798150937411,
          -0.7367198538254104,
          -0.6207215474382278,
          -0.14552607442817314,
          1.3952130074161349,
          0.27587533963258437,
          0.07564709855941533,
          -0.17041353123043834,
          1.1743432575866457,
          2.8567644392190115,
          0.48171177750430777,
          1.5362447988843246,
          -0.13068931034657852,
          1.2770519533613278,
          -1.5354637165670402,
          0.3666904915573358,
          0.82235294616689,
          -0.2923560972862109,
          -1.5759191872601006,
          0.0827777922311818,
          -0.9986521901936171,
          -0.1826623655295123,
          0.12292089989970739,
          -0.16255794066451193,
          2.113561756764349,
          -0.14058059895542346,
          0.22040582006879392,
          0.9108272124951061,
          -2.717138602010418,
          0.7933839198092887,
          -1.268376591216589,
          0.2841382783876344,
          -0.2506711558558857,
          0.6599179495972458
         ]
        },
        {
         "showlegend": false,
         "type": "box",
         "y": [
          -0.24317102319986314,
          1.4285168025205741,
          0.3874065495909322,
          -0.9758196354004223,
          0.5917025547544983,
          0.25307851801513626,
          0.3622408227084428,
          0.2812525200968473,
          -0.4892462917507614,
          0.5934143789725687,
          -0.7148178507836793,
          0.278716205515064,
          -1.0154267616106996,
          -0.173896473133634,
          0.6781395607312077,
          1.1877594370506395,
          1.6687662402309558,
          0.7046365427698404,
          -0.765022597166506,
          0.06714445040654428,
          -0.6171566276674966,
          1.9693312475285962,
          -0.36976151500977694,
          -1.1636554520350477,
          0.8996444752760075,
          -0.9285596729114757,
          0.35879589432076536,
          0.3660091742377844,
          0.523132021051483,
          -0.24974785651856166,
          0.580755207712505,
          -0.25809406532126056,
          0.7804801907160047,
          -0.5887925613096445,
          0.7843899961482034,
          -0.055431400209860204,
          -0.11138038376987455,
          -0.8040639646669541,
          -1.3741526077703492,
          -0.8285398607098287,
          0.6926610833467539,
          -0.06073733851219808,
          1.1403508643931766,
          0.8240378783429155,
          1.236098355794388,
          -0.8795517414600201,
          0.5836881289725678,
          0.37323769852808625,
          0.5044733147334278,
          -0.6901752642586375
         ]
        },
        {
         "showlegend": false,
         "type": "box",
         "y": [
          1.4093360758555573,
          0.46027822519836276,
          0.5183694900740062,
          0.8578573294615128,
          0.3377296151362573,
          -0.2356584145601245,
          1.8412304489682503,
          -0.26155626644682844,
          0.7216966910615537,
          0.11585346913983735,
          0.8343077193345626,
          0.9116933984583153,
          -0.4109843930465129,
          -0.11053574773348744,
          0.5523846484298005,
          -1.1425763404233555,
          -1.390091294063032,
          -0.5850224799381988,
          0.69970245557792,
          -2.03029737390617,
          0.17233655075260818,
          0.7519829317274976,
          1.9568402338944377,
          1.2746298111730483,
          -1.5371457759255251,
          0.8885170939242734,
          -0.02552633046442548,
          0.8128546472964476,
          -0.8691479631513059,
          0.7879454096681645,
          0.5349400040488198,
          0.034718125266632115,
          0.5036782420401705,
          0.7570107236822778,
          -0.9158091919530482,
          -0.675030356170327,
          -0.5922549425861691,
          0.46673841131670935,
          0.3814748466317794,
          0.5240978250481866,
          1.0723844623987706,
          0.07259211541472033,
          -0.6578324740684189,
          -1.78625267808705,
          -1.4574018533404551,
          -0.2957686038255718,
          2.5822810840086605,
          -1.3772498656681638,
          -0.4265504753140184,
          0.8172139810411096
         ]
        },
        {
         "showlegend": false,
         "type": "box",
         "y": [
          -0.8944438941251318,
          -1.187477884250059,
          -0.10579720904299457,
          0.39727974628393375,
          -2.048964000424911,
          0.8255753262722881,
          -0.054585404388897626,
          0.7279822424290555,
          -0.1554776794397582,
          -0.2618410507290245,
          -0.7043926758786723,
          0.12228943986348322,
          -1.8497433736196325,
          1.3482797685427699,
          -0.19900706859627543,
          -0.14656267310216387,
          -0.5013100873069295,
          0.2672346790241674,
          1.030807502903739,
          0.3218045976605417,
          -1.4220098422960843,
          0.17833426772728686,
          1.5414462807687739,
          0.569143945724393,
          1.366271870795222,
          0.0765224729021806,
          -0.5146321392811434,
          -0.5130151963274888,
          0.9292222483425938,
          -0.3032787875474752,
          0.6571483923388717,
          -0.9705126673592782,
          -1.2878660980092145,
          -1.2456875372914094,
          2.7183052983128695,
          0.8958145812466604,
          1.0002964426432588,
          -0.017155306882484393,
          0.0987879984296152,
          -0.10334811060294571,
          -0.9517571000368289,
          0.8660109687650611,
          -1.3057391218658032,
          -0.9848738828041264,
          -0.07274185392385889,
          0.49867069240161355,
          -0.23106250077727733,
          -0.2647220914336721,
          -0.17297644621852334,
          0.3270452648398579
         ]
        },
        {
         "showlegend": false,
         "type": "box",
         "y": [
          0.6802372805101985,
          -0.05424492559505456,
          -0.17628543867511692,
          -1.759713655404386,
          -0.9930227430547987,
          -0.14293918763763508,
          -1.4317420971055448,
          -1.3190398787745612,
          1.0169422763365736,
          0.5069544544502744,
          -1.1246107153302196,
          2.1914734347914036,
          -0.0031867675125886873,
          0.328648510032378,
          -0.2069004477507831,
          -1.04520031870762,
          -1.303709042464254,
          1.833721639914317,
          -0.6236406770152816,
          -0.7549320471958126,
          -0.5407616665168513,
          1.0397839037789576,
          0.3534622266454919,
          -0.3075884440325347,
          0.29400777603760747,
          1.515710346673796,
          -0.6791350397503135,
          0.9933532742111713,
          -0.808924813571732,
          -0.6264296481790583,
          -0.4677789231457144,
          0.6397016816457601,
          0.18414000683429524,
          -1.1771738484169436,
          -0.7487210540495888,
          -1.1880647292794893,
          -1.9042866263952258,
          -0.5830517981782775,
          0.1899025411574009,
          -1.0592519878374267,
          -1.6527701730724749,
          0.7883532199553882,
          0.4214472901456737,
          -1.1715263211557418,
          0.32818205627970637,
          0.7632219202649752,
          0.1193442131507136,
          0.7804569707635463,
          1.6928964786941092,
          -0.4473319806265281
         ]
        },
        {
         "showlegend": false,
         "type": "box",
         "y": [
          0.7895861124272677,
          -1.5979489982009016,
          -0.1674041254939031,
          -0.04479448378744026,
          0.03171159172781718,
          1.632516758994223,
          2.169309765668703,
          0.04305532551875391,
          -0.0741192203858493,
          -0.40775251997747786,
          -1.1961068611166035,
          -1.663742464333008,
          -1.3733274906104687,
          -0.4180210981585312,
          -0.18299037901787188,
          -1.004554890622301,
          -1.05044120854331,
          -0.2876039281327774,
          -0.9358695882026143,
          1.1170001042389086,
          0.21439144198092905,
          -0.8519520018691565,
          1.4729160492279094,
          0.436764859244742,
          -2.166115146460941,
          -0.5181844975255423,
          -1.7322435736007458,
          0.1854328659169848,
          -1.7594932988554648,
          -1.0802474452491333,
          -0.8196214843231538,
          1.1730248951218094,
          -0.45089623809041846,
          -0.9237950318748421,
          0.2810989443154285,
          0.45220535925199923,
          -0.9550152503779481,
          1.2548017114022858,
          0.7719495236416164,
          0.5185041074909137,
          -1.1245604596237153,
          -1.01820651616657,
          1.408650628478023,
          -1.0552094970621206,
          -0.6878546575168565,
          2.076084540945831,
          -1.8810404848386082,
          0.6273493367789573,
          0.03793082246646061,
          1.7033247024672922
         ]
        },
        {
         "showlegend": false,
         "type": "box",
         "y": [
          -1.119202576028023,
          1.8604945468492795,
          -0.11607600427462536,
          0.24322228761463432,
          -0.33706480208425527,
          0.01562035730335887,
          0.7368958439755366,
          -1.0543531291526906,
          -0.4834207889997283,
          0.4803855970778567,
          -0.6827109645609367,
          0.05174318708275531,
          0.19442753078055577,
          -0.4899721089599027,
          -0.8471721894528061,
          -0.32825495593813436,
          -1.4492498352264505,
          0.9686602664710033,
          1.0419078027293958,
          -0.4672266204558404,
          0.8132979045267582,
          0.6535254007363498,
          0.9605682964233075,
          0.3907246773520785,
          -0.45360795666050074,
          -0.8910499704261847,
          -1.3245955255693393,
          -1.0054722013430388,
          -1.1524877136791571,
          0.2405342349872674,
          -0.44994711808506194,
          -0.003004590230689798,
          0.8598720057156964,
          0.35365927112316536,
          -0.4284672088822965,
          -0.06851534281831724,
          -0.3346940652758087,
          1.2543256263446654,
          0.7970936106844709,
          -0.27990899430561245,
          0.7314344183370044,
          -1.030077939787253,
          0.12240362221342474,
          -0.6417773820539305,
          -0.13040447783568987,
          0.6681095746667217,
          0.004312056778799453,
          0.8425667169532357,
          -0.10717915566786011,
          -0.5905101867839591
         ]
        },
        {
         "showlegend": false,
         "type": "box",
         "y": [
          -0.5023327746254382,
          -1.0250972223837307,
          -0.33343255030463764,
          0.06668194074811275,
          0.4959530691687816,
          -0.5724996620999895,
          1.055962600090186,
          -1.299123708093707,
          -0.5759187808016382,
          0.8355272888680326,
          1.8220568638486538,
          0.11183260321113134,
          -0.010346933800223848,
          -0.33991037359950654,
          -1.5079230285738912,
          1.334041383412978,
          0.8646425825584048,
          -1.648031809598874,
          -0.3495396334274398,
          0.2888010028512469,
          -0.5247500792441926,
          0.5059040755313707,
          -0.9155424909773556,
          -0.7794269794060354,
          -1.1125789566337203,
          1.0537715174800555,
          -0.6614614410511667,
          1.131200142629028,
          0.7558706195181026,
          0.09857516508112782,
          -0.2569459130919261,
          1.7232976680139185,
          0.6407082791734552,
          -1.2996143893413883,
          -0.8486746227043533,
          1.4533821035132877,
          -0.19077160343523353,
          0.32590800287442284,
          0.8953527036759878,
          -0.6991034773043321,
          1.178520376262961,
          -0.27648138046773607,
          0.572192275012637,
          0.5260284545662164,
          0.10186276569238104,
          0.5801169149955092,
          0.953049320918819,
          -1.3737063011666757,
          1.7912763194446568,
          -1.209744356971463
         ]
        },
        {
         "showlegend": false,
         "type": "box",
         "y": [
          0.026798849611445935,
          -1.7681727230428026,
          -0.6124856910076326,
          -0.6051090111478317,
          0.6312622577379154,
          0.6825439415561548,
          0.9620300831933785,
          -1.8097815560418336,
          -0.7796823674688526,
          1.3858604835719246,
          0.7105835274235643,
          0.4263059929574962,
          0.9986427501955774,
          1.5467294617658185,
          -0.8386947984618741,
          0.8077799701587945,
          -0.7749317468486325,
          -0.7531613297184814,
          0.6403240665776486,
          -2.9695771147149856,
          -0.01824216727221301,
          1.1175205937706096,
          -1.0257507959829588,
          -0.4942106582753422,
          -1.2811611014931308,
          1.2094793243085273,
          0.46821079970443263,
          -0.061427631768234445,
          0.1240060900326344,
          1.3069026810503739,
          0.6038563292242458,
          -1.5644947193555936,
          0.875212193093648,
          -1.6399866470084172,
          0.5129594736153701,
          -0.38010966547151875,
          -0.8149732689029945,
          -0.9980534843469537,
          0.1329130809891399,
          -0.41663489854386576,
          -0.03890962624332611,
          -0.1653048752912714,
          -1.0952196597190937,
          0.8050026902336606,
          -0.34816697664078583,
          0.4338540741776287,
          0.5192367566638694,
          -0.34891744554938325,
          0.07719700137251284,
          0.2446580912577217
         ]
        }
       ],
       "layout": {
        "template": {
         "data": {
          "bar": [
           {
            "error_x": {
             "color": "#2a3f5f"
            },
            "error_y": {
             "color": "#2a3f5f"
            },
            "marker": {
             "line": {
              "color": "#E5ECF6",
              "width": 0.5
             }
            },
            "type": "bar"
           }
          ],
          "barpolar": [
           {
            "marker": {
             "line": {
              "color": "#E5ECF6",
              "width": 0.5
             }
            },
            "type": "barpolar"
           }
          ],
          "carpet": [
           {
            "aaxis": {
             "endlinecolor": "#2a3f5f",
             "gridcolor": "white",
             "linecolor": "white",
             "minorgridcolor": "white",
             "startlinecolor": "#2a3f5f"
            },
            "baxis": {
             "endlinecolor": "#2a3f5f",
             "gridcolor": "white",
             "linecolor": "white",
             "minorgridcolor": "white",
             "startlinecolor": "#2a3f5f"
            },
            "type": "carpet"
           }
          ],
          "choropleth": [
           {
            "colorbar": {
             "outlinewidth": 0,
             "ticks": ""
            },
            "type": "choropleth"
           }
          ],
          "contour": [
           {
            "colorbar": {
             "outlinewidth": 0,
             "ticks": ""
            },
            "colorscale": [
             [
              0,
              "#0d0887"
             ],
             [
              0.1111111111111111,
              "#46039f"
             ],
             [
              0.2222222222222222,
              "#7201a8"
             ],
             [
              0.3333333333333333,
              "#9c179e"
             ],
             [
              0.4444444444444444,
              "#bd3786"
             ],
             [
              0.5555555555555556,
              "#d8576b"
             ],
             [
              0.6666666666666666,
              "#ed7953"
             ],
             [
              0.7777777777777778,
              "#fb9f3a"
             ],
             [
              0.8888888888888888,
              "#fdca26"
             ],
             [
              1,
              "#f0f921"
             ]
            ],
            "type": "contour"
           }
          ],
          "contourcarpet": [
           {
            "colorbar": {
             "outlinewidth": 0,
             "ticks": ""
            },
            "type": "contourcarpet"
           }
          ],
          "heatmap": [
           {
            "colorbar": {
             "outlinewidth": 0,
             "ticks": ""
            },
            "colorscale": [
             [
              0,
              "#0d0887"
             ],
             [
              0.1111111111111111,
              "#46039f"
             ],
             [
              0.2222222222222222,
              "#7201a8"
             ],
             [
              0.3333333333333333,
              "#9c179e"
             ],
             [
              0.4444444444444444,
              "#bd3786"
             ],
             [
              0.5555555555555556,
              "#d8576b"
             ],
             [
              0.6666666666666666,
              "#ed7953"
             ],
             [
              0.7777777777777778,
              "#fb9f3a"
             ],
             [
              0.8888888888888888,
              "#fdca26"
             ],
             [
              1,
              "#f0f921"
             ]
            ],
            "type": "heatmap"
           }
          ],
          "heatmapgl": [
           {
            "colorbar": {
             "outlinewidth": 0,
             "ticks": ""
            },
            "colorscale": [
             [
              0,
              "#0d0887"
             ],
             [
              0.1111111111111111,
              "#46039f"
             ],
             [
              0.2222222222222222,
              "#7201a8"
             ],
             [
              0.3333333333333333,
              "#9c179e"
             ],
             [
              0.4444444444444444,
              "#bd3786"
             ],
             [
              0.5555555555555556,
              "#d8576b"
             ],
             [
              0.6666666666666666,
              "#ed7953"
             ],
             [
              0.7777777777777778,
              "#fb9f3a"
             ],
             [
              0.8888888888888888,
              "#fdca26"
             ],
             [
              1,
              "#f0f921"
             ]
            ],
            "type": "heatmapgl"
           }
          ],
          "histogram": [
           {
            "marker": {
             "colorbar": {
              "outlinewidth": 0,
              "ticks": ""
             }
            },
            "type": "histogram"
           }
          ],
          "histogram2d": [
           {
            "colorbar": {
             "outlinewidth": 0,
             "ticks": ""
            },
            "colorscale": [
             [
              0,
              "#0d0887"
             ],
             [
              0.1111111111111111,
              "#46039f"
             ],
             [
              0.2222222222222222,
              "#7201a8"
             ],
             [
              0.3333333333333333,
              "#9c179e"
             ],
             [
              0.4444444444444444,
              "#bd3786"
             ],
             [
              0.5555555555555556,
              "#d8576b"
             ],
             [
              0.6666666666666666,
              "#ed7953"
             ],
             [
              0.7777777777777778,
              "#fb9f3a"
             ],
             [
              0.8888888888888888,
              "#fdca26"
             ],
             [
              1,
              "#f0f921"
             ]
            ],
            "type": "histogram2d"
           }
          ],
          "histogram2dcontour": [
           {
            "colorbar": {
             "outlinewidth": 0,
             "ticks": ""
            },
            "colorscale": [
             [
              0,
              "#0d0887"
             ],
             [
              0.1111111111111111,
              "#46039f"
             ],
             [
              0.2222222222222222,
              "#7201a8"
             ],
             [
              0.3333333333333333,
              "#9c179e"
             ],
             [
              0.4444444444444444,
              "#bd3786"
             ],
             [
              0.5555555555555556,
              "#d8576b"
             ],
             [
              0.6666666666666666,
              "#ed7953"
             ],
             [
              0.7777777777777778,
              "#fb9f3a"
             ],
             [
              0.8888888888888888,
              "#fdca26"
             ],
             [
              1,
              "#f0f921"
             ]
            ],
            "type": "histogram2dcontour"
           }
          ],
          "mesh3d": [
           {
            "colorbar": {
             "outlinewidth": 0,
             "ticks": ""
            },
            "type": "mesh3d"
           }
          ],
          "parcoords": [
           {
            "line": {
             "colorbar": {
              "outlinewidth": 0,
              "ticks": ""
             }
            },
            "type": "parcoords"
           }
          ],
          "pie": [
           {
            "automargin": true,
            "type": "pie"
           }
          ],
          "scatter": [
           {
            "marker": {
             "colorbar": {
              "outlinewidth": 0,
              "ticks": ""
             }
            },
            "type": "scatter"
           }
          ],
          "scatter3d": [
           {
            "line": {
             "colorbar": {
              "outlinewidth": 0,
              "ticks": ""
             }
            },
            "marker": {
             "colorbar": {
              "outlinewidth": 0,
              "ticks": ""
             }
            },
            "type": "scatter3d"
           }
          ],
          "scattercarpet": [
           {
            "marker": {
             "colorbar": {
              "outlinewidth": 0,
              "ticks": ""
             }
            },
            "type": "scattercarpet"
           }
          ],
          "scattergeo": [
           {
            "marker": {
             "colorbar": {
              "outlinewidth": 0,
              "ticks": ""
             }
            },
            "type": "scattergeo"
           }
          ],
          "scattergl": [
           {
            "marker": {
             "colorbar": {
              "outlinewidth": 0,
              "ticks": ""
             }
            },
            "type": "scattergl"
           }
          ],
          "scattermapbox": [
           {
            "marker": {
             "colorbar": {
              "outlinewidth": 0,
              "ticks": ""
             }
            },
            "type": "scattermapbox"
           }
          ],
          "scatterpolar": [
           {
            "marker": {
             "colorbar": {
              "outlinewidth": 0,
              "ticks": ""
             }
            },
            "type": "scatterpolar"
           }
          ],
          "scatterpolargl": [
           {
            "marker": {
             "colorbar": {
              "outlinewidth": 0,
              "ticks": ""
             }
            },
            "type": "scatterpolargl"
           }
          ],
          "scatterternary": [
           {
            "marker": {
             "colorbar": {
              "outlinewidth": 0,
              "ticks": ""
             }
            },
            "type": "scatterternary"
           }
          ],
          "surface": [
           {
            "colorbar": {
             "outlinewidth": 0,
             "ticks": ""
            },
            "colorscale": [
             [
              0,
              "#0d0887"
             ],
             [
              0.1111111111111111,
              "#46039f"
             ],
             [
              0.2222222222222222,
              "#7201a8"
             ],
             [
              0.3333333333333333,
              "#9c179e"
             ],
             [
              0.4444444444444444,
              "#bd3786"
             ],
             [
              0.5555555555555556,
              "#d8576b"
             ],
             [
              0.6666666666666666,
              "#ed7953"
             ],
             [
              0.7777777777777778,
              "#fb9f3a"
             ],
             [
              0.8888888888888888,
              "#fdca26"
             ],
             [
              1,
              "#f0f921"
             ]
            ],
            "type": "surface"
           }
          ],
          "table": [
           {
            "cells": {
             "fill": {
              "color": "#EBF0F8"
             },
             "line": {
              "color": "white"
             }
            },
            "header": {
             "fill": {
              "color": "#C8D4E3"
             },
             "line": {
              "color": "white"
             }
            },
            "type": "table"
           }
          ]
         },
         "layout": {
          "annotationdefaults": {
           "arrowcolor": "#2a3f5f",
           "arrowhead": 0,
           "arrowwidth": 1
          },
          "autotypenumbers": "strict",
          "coloraxis": {
           "colorbar": {
            "outlinewidth": 0,
            "ticks": ""
           }
          },
          "colorscale": {
           "diverging": [
            [
             0,
             "#8e0152"
            ],
            [
             0.1,
             "#c51b7d"
            ],
            [
             0.2,
             "#de77ae"
            ],
            [
             0.3,
             "#f1b6da"
            ],
            [
             0.4,
             "#fde0ef"
            ],
            [
             0.5,
             "#f7f7f7"
            ],
            [
             0.6,
             "#e6f5d0"
            ],
            [
             0.7,
             "#b8e186"
            ],
            [
             0.8,
             "#7fbc41"
            ],
            [
             0.9,
             "#4d9221"
            ],
            [
             1,
             "#276419"
            ]
           ],
           "sequential": [
            [
             0,
             "#0d0887"
            ],
            [
             0.1111111111111111,
             "#46039f"
            ],
            [
             0.2222222222222222,
             "#7201a8"
            ],
            [
             0.3333333333333333,
             "#9c179e"
            ],
            [
             0.4444444444444444,
             "#bd3786"
            ],
            [
             0.5555555555555556,
             "#d8576b"
            ],
            [
             0.6666666666666666,
             "#ed7953"
            ],
            [
             0.7777777777777778,
             "#fb9f3a"
            ],
            [
             0.8888888888888888,
             "#fdca26"
            ],
            [
             1,
             "#f0f921"
            ]
           ],
           "sequentialminus": [
            [
             0,
             "#0d0887"
            ],
            [
             0.1111111111111111,
             "#46039f"
            ],
            [
             0.2222222222222222,
             "#7201a8"
            ],
            [
             0.3333333333333333,
             "#9c179e"
            ],
            [
             0.4444444444444444,
             "#bd3786"
            ],
            [
             0.5555555555555556,
             "#d8576b"
            ],
            [
             0.6666666666666666,
             "#ed7953"
            ],
            [
             0.7777777777777778,
             "#fb9f3a"
            ],
            [
             0.8888888888888888,
             "#fdca26"
            ],
            [
             1,
             "#f0f921"
            ]
           ]
          },
          "colorway": [
           "#636efa",
           "#EF553B",
           "#00cc96",
           "#ab63fa",
           "#FFA15A",
           "#19d3f3",
           "#FF6692",
           "#B6E880",
           "#FF97FF",
           "#FECB52"
          ],
          "font": {
           "color": "#2a3f5f"
          },
          "geo": {
           "bgcolor": "white",
           "lakecolor": "white",
           "landcolor": "#E5ECF6",
           "showlakes": true,
           "showland": true,
           "subunitcolor": "white"
          },
          "hoverlabel": {
           "align": "left"
          },
          "hovermode": "closest",
          "mapbox": {
           "style": "light"
          },
          "paper_bgcolor": "white",
          "plot_bgcolor": "#E5ECF6",
          "polar": {
           "angularaxis": {
            "gridcolor": "white",
            "linecolor": "white",
            "ticks": ""
           },
           "bgcolor": "#E5ECF6",
           "radialaxis": {
            "gridcolor": "white",
            "linecolor": "white",
            "ticks": ""
           }
          },
          "scene": {
           "xaxis": {
            "backgroundcolor": "#E5ECF6",
            "gridcolor": "white",
            "gridwidth": 2,
            "linecolor": "white",
            "showbackground": true,
            "ticks": "",
            "zerolinecolor": "white"
           },
           "yaxis": {
            "backgroundcolor": "#E5ECF6",
            "gridcolor": "white",
            "gridwidth": 2,
            "linecolor": "white",
            "showbackground": true,
            "ticks": "",
            "zerolinecolor": "white"
           },
           "zaxis": {
            "backgroundcolor": "#E5ECF6",
            "gridcolor": "white",
            "gridwidth": 2,
            "linecolor": "white",
            "showbackground": true,
            "ticks": "",
            "zerolinecolor": "white"
           }
          },
          "shapedefaults": {
           "line": {
            "color": "#2a3f5f"
           }
          },
          "ternary": {
           "aaxis": {
            "gridcolor": "white",
            "linecolor": "white",
            "ticks": ""
           },
           "baxis": {
            "gridcolor": "white",
            "linecolor": "white",
            "ticks": ""
           },
           "bgcolor": "#E5ECF6",
           "caxis": {
            "gridcolor": "white",
            "linecolor": "white",
            "ticks": ""
           }
          },
          "title": {
           "x": 0.05
          },
          "xaxis": {
           "automargin": true,
           "gridcolor": "white",
           "linecolor": "white",
           "ticks": "",
           "title": {
            "standoff": 15
           },
           "zerolinecolor": "white",
           "zerolinewidth": 2
          },
          "yaxis": {
           "automargin": true,
           "gridcolor": "white",
           "linecolor": "white",
           "ticks": "",
           "title": {
            "standoff": 15
           },
           "zerolinecolor": "white",
           "zerolinewidth": 2
          }
         }
        }
       }
      },
      "text/html": "<div>                            <div id=\"2b8ec348-f90b-4354-b226-9661d05e686c\" class=\"plotly-graph-div\" style=\"height:525px; width:100%;\"></div>            <script type=\"text/javascript\">                require([\"plotly\"], function(Plotly) {                    window.PLOTLYENV=window.PLOTLYENV || {};                                    if (document.getElementById(\"2b8ec348-f90b-4354-b226-9661d05e686c\")) {                    Plotly.newPlot(                        \"2b8ec348-f90b-4354-b226-9661d05e686c\",                        [{\"showlegend\": false, \"type\": \"box\", \"y\": [-1.5194575762437306, 1.309304171645403, -1.180048031134799, 1.550943961414098, -0.8253137621735243, -0.9557764687145737, -0.024021780635943603, 0.016618638470106282, -1.1517913473786572, 0.3062675795269088, -1.7233538334908702, -0.586501040991844, -0.38382424686529704, -1.0033283650886236, -0.016675860596332248, 0.7688093517123665, -2.1473765405025476, 0.5991334386515305, -0.5099819038438376, -0.26341098694079995, 0.7669166729588183, -0.1441977519470321, 0.4089449258331464, 2.65484752812607, -0.09784169610768112, -0.04644329477633331, 1.174462398340765, -1.151315671246524, -0.7047728910883567, 0.2222533978734889, -0.49072478154384513, -0.004756749022560642, -1.2802677873320065, -1.5062093435646637, -0.09960518891248467, 0.08849181609089586, -1.1297875392189702, 0.8355751392518138, 0.2750737123577952, 1.778019278246564, 1.1011009271089895, 0.25127889319228375, 1.1786536598314516, -0.28280380822176265, 0.32123034966868563, 0.48081825257410193, 1.2338094342302328, -0.5662060466635128, -1.412007953370009, 0.23984353754347737]}, {\"showlegend\": false, \"type\": \"box\", \"y\": [1.2337706055296234, -0.3750182461065265, -0.4738086916013321, -0.10504101604889231, 0.23641235904978844, 2.076160827589345, -0.149243294599115, 0.017936845866422267, 0.3363082958206413, 1.7184526505053548, 1.7438772106284388, 0.8081251198963664, -0.6514884049029601, 0.397550091191314, 1.8522079692248083, 0.5671934652106586, -0.11426243693312352, 1.3294609687503476, 0.4820927323547913, -0.4980408659114747, 0.16817603631570666, 2.7582596606677465, 1.8066209022021884, 0.5030879444899125, -2.5116255931643976, -1.3136569486814995, 0.6830922877509666, 1.6508480054201322, 0.035520550760814285, -0.4658606269110219, 0.8813789602847184, -0.5679246155983968, 0.3706544774083132, -0.16387456467336323, 0.4009146421323233, 0.6057406783298712, 1.3306604746076547, -2.082778714201329, -0.8909914237719551, 0.4066435041664661, -2.2927207195029338, -0.24472075046483854, 0.4033907343205546, -0.3898778773111841, 0.26563533321415994, 0.12175582646021815, -1.0217171658366089, 1.7740289678730736, -0.000394486999818847, -1.1263011331377082]}, {\"showlegend\": false, \"type\": \"box\", \"y\": [1.1314528261749148, 1.1897450153679383, 0.7908433252774545, -0.4667104048264391, -0.24366342490213733, -3.04969663806112, 1.4472500356023266, 1.3226665004742348, 0.03317066661539319, 0.17647147988635303, 1.9375525100752382, 0.7233591768930523, -1.596530830462217, -0.7115460860696076, 0.1884302590004228, 0.3359426293024178, 0.10397981729127335, 0.18966886067708014, -1.8427481764374596, 0.17359849173484107, -0.7339546853612678, 0.33946963450663903, -0.30832168309907826, -0.2556235095682921, -1.2686598886562384, -1.065772171651778, -0.05667755949641535, -0.11426290079926844, 0.6595238304029057, 0.33258463432205737, 0.3002086450742758, 1.0423439436389215, -0.44702448713300796, -0.2622879809255215, 0.4031552426877395, 0.30229269517139395, -1.2027483458935069, 0.694035061253815, 0.20828520909716203, 0.07850007117625868, -2.104393016841391, 1.4896132114147214, 1.058474679520556, -0.10727434711138924, 0.6441635117860763, -0.29493341678118307, 0.4927156706381836, 1.2095556805689047, 1.1522300467270683, 0.41043831764098654]}, {\"showlegend\": false, \"type\": \"box\", \"y\": [0.02377148426415752, -0.7294600269408261, 0.16327378132186543, 0.781038087219831, 0.7414329387196118, -0.32922333144185795, 2.123677746369318, 1.09976371120808, -0.38790508603724183, -0.15078241381779633, -1.5401792898904463, 1.4808280322354375, 0.05837149857832981, 1.4501502779387525, -0.6494433222484705, 0.7003961484280903, -1.8715122866319176, 0.7723934821014377, 0.6359318077425937, 0.005843698511726408, -1.0845009174974403, -0.9372886700637724, 1.28781037955433, -0.2921065208695861, 1.658417952869147, -0.17221097694512, 0.26238673571097443, -0.6187262068647492, -0.5993460811295764, 1.2776364533618467, 0.31951119869604994, -0.38753746340257117, -0.9655276811172323, -0.19347772314005166, -1.7458899437503306, 0.8654754158876247, 0.33006226818834705, -0.9177047038911577, 1.0842161484494275, 0.6705283822682808, -0.567689804475722, -1.0628420576135273, 1.472125786480339, -0.5656970812641382, -0.5492004289217803, -1.3407409906167262, -0.7118092780757164, 2.0165035972018526, -0.11820364015533447, 2.039189332450101]}, {\"showlegend\": false, \"type\": \"box\", \"y\": [0.03197048614575826, 1.3701963827562946, 0.812445816199043, 1.583861002159707, 0.9935781265822875, 0.6658418289327985, 0.5592588762546364, -0.6811274516804007, 0.2047382156403001, -1.5035720019388716, 1.7443620383900311, -0.14919798761911973, -0.957695541724205, -1.131591162782335, 0.9984966417584726, 0.842071223031272, -0.9004420121241659, -0.26167489249858256, 0.7045278694933971, -0.7723410433389677, 0.4429674548765453, -0.9076021730435642, -0.15201176865055965, 2.621792330719697, -0.9915570100528356, 0.40712000246021207, 1.25096628829105, 1.2378284258149503, -0.1862963577496713, 0.30003549609326885, -0.5117378071665158, 0.45402707399628583, 0.2980849658012245, -0.25310211314054465, 1.3741889062182362, -1.2351128060161338, 0.17180675081097946, 0.9273329975528768, 0.3649993796479262, -0.24748737810687077, 0.30221961771113415, -0.20855793987412025, 0.18735544150590572, -1.2853296470967581, -1.756486517512439, 0.4548478994839763, -0.5808772445226514, 1.659750884960512, -0.07817870219000028, 1.51288176244842]}, {\"showlegend\": false, \"type\": \"box\", \"y\": [0.2589376428141743, -0.1481683875637199, 0.47184206256933947, 0.8221899224024443, -0.09844941867204163, -0.5228695095025541, -0.584486684213965, 1.071330371494968, 0.1427895947289139, -0.1536520602387864, -1.6131756360166416, -0.7075144887638408, -1.8224758992738495, -0.2544465107103705, 2.4543468433802693, 1.738106299886358, -0.32737977218580977, -1.7196803008248576, 0.0705056476598962, 1.4163080441122753, 0.7417446176637845, 1.2953046644446162, -0.038948932921137984, 0.024187309969446492, 0.60589908232571, 1.203940065347185, 0.39255318874786005, 0.06664213220315106, -0.668862146105276, -0.2650193822874087, -0.027969244195846274, 0.33306305481237347, 0.615537271293741, -0.08619060839974892, -0.2762993345688916, 0.039742341433732044, -0.06511723909603007, 0.09273149000613241, -0.30861092202588364, -0.1752359247777901, 1.9743065306679992, -0.2715847396284099, -0.8636611716247905, -0.6310598235497, -0.5642797235793682, 0.4232901905591767, -0.3334693619084828, -0.2080256015673669, 0.5822212351556559, 0.014273591999714137]}, {\"showlegend\": false, \"type\": \"box\", \"y\": [-0.25359985675119634, -0.5364616858709121, 0.9663645483809685, 1.9548874081691452, -0.3320354876004155, 0.4270960670720983, -1.1254754600629984, -0.3516240991912177, 0.2039549779640535, 0.29016775608389417, -0.8974405701224266, -0.8650119114447533, 0.4998774579021242, 1.1301479917164046, -2.6153524569816895, 0.02969911700375625, -1.083294768172193, 1.1779754195264582, -0.2865136513213585, 2.232895319964667, 1.1742689110900575, -0.8297022958308924, 0.8330819002833437, -2.8535270073922936, -0.41912183792198426, -0.0949899063373279, 0.36008794154555285, -0.7850186251106677, 1.2594825237613183, 1.3082425883077233, 0.21770100444250454, 2.1310229860006347, -0.854889207074076, 0.4828594320049699, 1.5432648065324, 0.36549728743487314, 1.3244053342232, 0.09070708699607131, -0.3226537985384418, 0.8367291846948062, 1.3274800142182475, -2.3072018958073994, 0.15399045867501443, 1.5623571540056096, 0.10194362724038863, 0.9928506998706262, 1.6348975528548972, 1.1654068815132315, -0.2655399642677006, -0.1176973669262255]}, {\"showlegend\": false, \"type\": \"box\", \"y\": [0.34182631915868067, -1.57459076124267, 0.8895816842263671, 0.255175382596775, -0.11045032631529997, 1.7902004379052132, -1.9707106760267163, 0.1829987058661417, -1.1707077153460639, 0.7221285669903805, 0.4425743344519479, -1.1103700752525807, 0.30482937427471024, 0.11431437288799526, 0.7522408505840098, 0.6799347665518628, 0.7744942639385051, -0.731661135158909, 0.5434786019370598, -0.5500116121263058, -0.011691712999797784, -0.11008959712750989, -0.9300425023438875, 1.5686528438172953, 0.044998752932423815, 0.3486482116418121, 0.3721974030355286, 0.7993217309701792, -0.9194606952123511, -0.28676447456146403, 0.4409633914327648, -1.0397648870152538, 0.48188034127092505, 0.9215616277717704, 1.0767657721558346, 0.8416838753405163, -1.865000002590914, 0.997450999588139, -0.3435292001774261, -0.4660968679948631, -0.2077578240457991, -0.9823053425807944, -0.3425549427429207, -0.15069433260976683, -0.7875921253091419, -0.8738790869464302, -0.9103631204418668, 0.3837261890805803, 1.208438002151377, 0.03448656378310494]}, {\"showlegend\": false, \"type\": \"box\", \"y\": [-0.0633989824809201, 0.5053679610380407, 0.3813478376812021, -0.8991262116976504, 0.21215875447989677, 1.4993920131860956, 0.2682227631804332, -1.4106060004141114, -1.0358133283544735, 0.20274767897512433, 0.955828589544887, -0.14207778306166519, -1.8303929885142944, 2.194343816289092, 0.43893676427265516, 0.5753911802222983, 0.8910011725493522, -0.3100117667107668, 0.34101650290830093, 0.032249893262882856, 0.40137445816486766, 0.6765350331575218, 0.44664937668964244, -0.04778964147949677, -0.7072636655942868, -0.37523825433651176, 1.8900888240417355, 0.2912184758697861, 0.5913472571278084, -0.22864419477123557, -0.00568207956053054, -0.2261226508040989, 0.6857754745071529, 0.4039015596039605, 0.3985585074112345, -0.12022952427872591, 0.01181723721245165, 1.7584645522435147, -2.33231335016972, -1.2510309698441013, -1.3818960725305907, 0.3656364697649429, 0.6009878289613938, 0.6010812757455858, -0.8463945339450949, -0.28528288680408725, 1.9214470946992077, -0.12805374965423857, 2.1843832138829793, 0.7903354850802721]}, {\"showlegend\": false, \"type\": \"box\", \"y\": [0.9318061707582358, 0.27109227672773034, -0.025884204392514903, 0.6493916421395668, -1.7091624121934075, -1.1460678594082727, 1.3336011156881393, -2.5818567672341404, 0.525447292702635, -0.48902614649629933, -0.6841214426619023, 0.033289110646791964, -1.0108321960456454, 0.2143093500578669, -2.178409186131034, -0.22088199156722832, -0.6706006095580443, 0.010106555428035962, 0.5346581831442417, 1.1755758367282907, 0.408530244551356, -0.4497532854156843, -1.761677196900106, 0.0072349207110102105, 1.9019736046835993, -0.10727302219243175, 0.6361031957407969, -1.4611461875069092, -0.25840062617514786, 0.6341506099806559, -1.3566049855282418, 1.2833792661386374, -0.038047807087506526, -0.41312670386644423, 0.3696930073494142, 1.27206201228519, 2.8903816189321105, 0.552017845775699, 0.46163117924481456, -0.7967711147944792, -0.43926890120172357, -0.928141143053773, -1.5243648313180147, -0.20051224211321836, -0.09422232534877491, -0.0699911195087977, -0.09798393639551925, -0.34277811991243895, -0.06793031140936974, 0.6635750361286806]}, {\"showlegend\": false, \"type\": \"box\", \"y\": [-0.7967715006811413, 0.28557978685302343, -0.5510111414960965, -0.43330760316799705, -1.4865300532707846, 0.38530732063650125, -2.217343991010877, -0.22050213345670486, 0.30376736575256025, -0.1523918208144231, 0.09522231629836056, -1.0196813438707193, -0.30512801920846466, 1.5020700304766452, -1.6946879539676585, 0.8076493652558903, 0.7114899069496657, 0.7234628771150577, 0.14843535944263928, -0.9490354925052402, 1.0649408259547677, -0.45102945952750595, 0.16781190057159154, 0.04559589378794502, 2.223747833149851, 0.0022234228581309045, -0.48946593958925116, -0.5133851252326422, 1.5921796052314119, -0.6388821318780842, 1.2249775946879382, -1.5194375539147422, 1.2663782713483354, 0.4536580756111218, -0.46980103959690966, -1.1027490735047365, 1.4262013819725248, -0.5333573319628541, -0.1005143094652657, -1.4140278383963207, -0.6534466281901254, 0.6770002886061793, -0.3971930425327087, 0.08415889493530562, -1.060014532825131, 0.603474284796225, 0.23722616046945788, 0.1444943404767017, 0.0282576244212926, 0.4892025909618779]}, {\"showlegend\": false, \"type\": \"box\", \"y\": [1.6226799718166527, 0.5875229025492886, -1.5581423817001605, 0.831832531302219, -0.15387169992481686, 0.09245640030806904, -0.9473392514110974, -0.8286915216655772, 0.3779014430494889, 2.1609296401924762, -0.7927984556905084, -1.6508761496186928, -1.5066466416108635, 0.7945172562457332, 0.8488080003685082, 1.4711803839023487, -0.022743525202595247, -0.9117055983290464, 0.14744493699103825, 1.142352753663674, 0.3311009611239443, 0.29368298348220967, -1.4464606880589543, -0.63566039604182, 1.517602466331125, -2.742540246277501, -0.42417533166172516, -0.4136776364176935, -0.5001606970616526, -0.3065159928243853, 0.6850899639030592, 0.3097979150959069, 0.2686930529774594, -0.16726260799573342, 1.7782166038506615, -0.546133849912035, 1.4043849276456128, 0.44969331888482245, 0.6889688408401385, -1.109211805547865, 0.052282801316636505, 0.16102969196349076, -0.09093750655108197, -0.5636325139566893, -0.6981706900255454, 0.3683736149780198, 1.8031778702012158, -0.4514816384550152, 1.1953883420419904, 1.50610926277949]}, {\"showlegend\": false, \"type\": \"box\", \"y\": [-0.34243484932574153, -1.1059806981459812, 1.0051754883238144, 1.6204191031852087, -0.046788954094712266, 0.9433108856472493, 0.46190094171270374, -0.4519588150325516, -1.0228984027397081, 0.06835808347209225, -0.1654573936232792, 0.10530967142575216, -1.3357679917783005, 2.4292241637636973, 0.10638503464917304, -0.3811642635140894, 0.21472672811884735, -1.0252772561312327, 0.29279756691232056, -0.007118409919285445, -1.3788341812199905, -1.0769844798706405, 2.003617948947674, -0.18036442430902924, -0.287342733066577, -0.7070770097604657, 1.2414733356290137, -0.8021997317637486, -0.5161907169679224, -0.7305849291475424, 0.545694736064134, 0.3910932709616155, -1.8349707050225645, 0.03889595496861109, 0.796238917527395, -0.9383070043601442, -0.6243164293798115, -0.4918437126742083, 0.5989706645081515, 0.6099723296358468, -0.5333922204732706, -0.4330074260468834, 0.4511154190778135, -1.3476377914025421, 0.22584231132292532, 2.2817724584839523, 0.6662816945513617, 0.09691536240834486, -1.6135699505540262, -0.9340926814781457]}, {\"showlegend\": false, \"type\": \"box\", \"y\": [-0.09308663304230035, -0.4703257277322901, 0.15333377589230265, 0.9932977726826309, -0.252130858629565, -0.8895256203875458, 0.12776385991687475, -0.8388634219715795, -0.6498016261512459, -0.8619407348836029, -0.2903141732227927, -0.42197103668432084, -0.46701356722037113, 0.14191590589826966, -0.30383537838307983, -1.1794473558553262, -1.8160834540465955, -1.3571585878122785, 1.6026833928185784, 0.061012440462854936, -0.096350802893716, -0.07065764910137733, -1.5837605685553962, 0.32462595653863124, -0.7957175145146357, -0.9368107776040671, 0.9302794360724284, 0.5612615891986983, 0.21762048250548036, 0.6978571212907557, 0.5539245024928867, -0.15857097326653213, 0.989372692596498, 1.7495725575733831, 0.4105866072316809, -0.03347102024772818, 0.8442896206725146, -0.24069879131892707, 0.5175586142513307, 0.07628875330492466, -0.03381090969305703, 0.9668425213551693, 2.1438440641801564, 2.068713698982994, 0.38875948764795737, 0.3190658367691172, 0.2424138457431857, 0.2499709048837466, 0.4652342164337302, -0.46215846054910015]}, {\"showlegend\": false, \"type\": \"box\", \"y\": [1.3868396556212386, 0.37995834470364503, -1.3694511393716977, 0.5147005373255369, -0.33868233532559605, 0.27103482007974833, 1.0319669068722044, 0.19241623897483875, -0.9603611819000009, -1.19578010527312, -0.5609741592276911, -0.39911904321629704, -1.6083597968172, -0.730273341799027, -0.9177723922495458, 0.6941279897339435, 0.6346635554516185, -0.8421076818418746, 0.84737629234708, -0.07208232865985582, -0.4805163787452609, 0.1706298969779408, 0.6766930974652532, 0.5349246707864299, -0.9747546206377654, -0.36266078279102987, 0.32536292459300076, -0.6606162643089526, 1.1815839348972739, 0.6646848016244947, 0.7927348531105792, -0.11458960894301064, -0.9799433901646971, 0.5683065939612981, -0.9777910438640612, -0.45115995311949353, 0.20579719567645288, 0.5506390153943654, 0.7146224445854027, 0.5655933482567201, -0.2555958002055626, 1.0269330256569926, -1.5784729939303568, -1.7126379677412626, -0.569900813362983, -0.24610240346989945, 1.806283857991719, 0.052022076120843225, 1.1448606002770776, 0.7842960958185244]}, {\"showlegend\": false, \"type\": \"box\", \"y\": [1.0036565740250614, 0.014981202840424122, 0.4333411882232214, -2.6562368170264827, -1.2047475538788401, -0.12608573646958537, 0.4436775653536852, -1.6379680410166033, 0.23071847876506454, 1.0309360458275536, 1.6877586633260413, 0.7056517984561724, -1.330733061998425, -0.3623916573597313, 0.7981543544993547, -0.931595838368838, 0.761236961217049, -0.7140484419499542, 0.5401928379893826, -1.8058511492190268, -0.5853066479786008, 0.15454093166522043, -0.04085601015091849, 0.7262694896618821, 1.3197433422524314, -0.6349796521992779, -0.06170236194046132, 0.09979749497084407, -1.9613833479453575, 1.101611919066769, -0.3810866889784617, 1.433015958069656, 0.15209446564968307, -0.13798892141589947, -1.050116679864242, 1.8937927575412505, -0.3078437431142207, -0.37107165952623883, 0.04482530843568031, -0.7736495653491303, -0.4874891471743477, 0.04853259803170576, 1.7212534613272668, -1.211418119825323, -0.5055611700710844, 1.1118053194099975, -0.22337009887153783, -1.0149157597970553, -0.64340252249017, 0.2467762629218749]}, {\"showlegend\": false, \"type\": \"box\", \"y\": [0.8535774166769227, 0.8469333807773985, 2.5183886101213764, 0.05977485945059, 0.8602768372937803, -0.42566849990794126, -1.2281667622061807, -0.12108411269884485, 0.4614537664345819, -0.28729086759449657, 0.027321603479749677, 0.44785940330396207, 0.23556835857527142, -0.9504686894001397, -1.3132670970008498, -1.3717395526221714, 0.9390497414205846, -0.6034585294176854, 0.2787953689469018, 1.5999790497874282, -0.5426363493144849, 0.7007336806222824, 0.7141590030809205, -1.3139772748646994, -0.038436105646298645, 1.8931686266223389, 0.3581571953181942, -0.4839755961960388, 0.3448973657172108, -1.1919382200548085, -0.5769927755758504, 0.5119215691835651, -0.9199700884796129, 0.5672271751819769, 1.4611359429342772, -0.2651235911152805, 0.16321326279492712, -2.1545010117999364, 1.163399237055329, -1.14740455810881, 0.3253292393620827, 0.1234466208660426, 0.45910372135399474, -0.3137822224473036, -1.4471108601241396, 0.3098072886508488, -0.03340578272464975, -1.330161892358187, 0.7341520772188806, 0.41397117261963157]}, {\"showlegend\": false, \"type\": \"box\", \"y\": [1.066983469706294, -0.245810086372074, 0.32957786523769667, -0.4723215961974903, -1.0558934344178443, 0.47227247245691295, 2.526286105888693, -0.29241118960399864, 1.8255876103224506, -0.18933208495771206, -0.5079601143745482, 0.9535843402381267, 1.903822377792585, -1.0657875973046858, 0.49882913511364035, 0.5363044413567828, -1.9582218653614685, -0.7933026405404152, -1.1739723292559883, -0.6454079490169647, 1.3999253913892693, -0.413769333305935, 0.07305667838165546, -0.684300208475075, -0.975996442778809, 0.3623698577940458, 0.38125757814340216, 0.5386615599227659, -2.4184294125951253, -0.3911782030047473, 0.45669842660916243, -0.7442642726043759, 1.4626596066111341, 0.6485865204164483, 0.7094601408467227, -1.2232280651266418, -1.7427380615671895, -0.02762477839307305, -0.2940714308367943, -0.8555228587609848, -1.590130835410435, -0.844391124757292, 0.9240565156098083, 1.395018569113136, 0.8235603832639099, -0.48765176443383756, 0.6565605745945098, -0.4860800494154885, -0.6841746811775986, 0.7285464842901306]}, {\"showlegend\": false, \"type\": \"box\", \"y\": [0.7494159366686866, 0.684253809342069, 0.586132475662402, -0.5652271609893534, -0.816003932548554, 0.05023535671245074, -0.29531242770432575, -0.7910730082667929, 0.5411523276642046, 0.8922689496941008, -1.2230297309001508, -0.7689117371848598, -1.1642839456079102, -1.7326754632343022, -0.5896402067731797, 0.37255086139662097, 0.19625935596861235, -0.32840363040109594, 0.20234092596531633, -0.43722408488395875, 0.7823847796292802, 0.7506492902146124, 0.995214216351459, -2.38306044477437, -0.38073412785187316, -2.215774279905689, 0.17493438331776276, 0.5434675420405953, 1.6852220101869329, 0.16991366371957672, -1.3192439713634698, -0.9682503144758924, -2.438416949577091, -0.7864435239308833, -0.016312490396225697, 0.4468178145571011, -2.3012122914603395, -1.3288720757878856, 0.02085070335340606, -0.4793849032678458, -0.4743114482447189, -1.4446208730888224, 1.6901244169182985, 1.5428675007416595, -0.8523135343945598, -2.116932363081483, -0.1920083200973782, 1.2312498259112135, -0.5262134623265421, 0.10572023521072103]}, {\"showlegend\": false, \"type\": \"box\", \"y\": [-1.3328556914456522, 0.6627726115616868, 1.180928260159144, -0.8015497447698843, -0.26383135259508944, 0.9571341528372284, -0.5295817822236273, 1.5879722763809587, -0.9601900005367079, -0.6009843072665589, -0.09613456111803365, -0.6516726546070386, -1.1387965005321268, 0.8898846766475984, -0.31142825198632834, -0.2349502615494847, -1.280878460887643, -0.021348670804609685, -0.7445593774017796, -0.32238638143368314, 0.5246288050177718, -0.47671471909707724, -0.37455249253928125, -1.4625525069281295, -0.6118617621355502, -0.6956670025113464, -0.7820752430985193, -0.049035960800016355, -0.3990518348844375, -1.1099680865327575, 0.7086842493469641, 0.7416469886215125, 0.09471184091493981, 0.10383022858593728, 0.40506751121755796, 0.40739860545703116, -0.18523649401452266, -0.36493557604554383, -0.4113643062194869, 0.6838075168575369, 1.1180651374850858, -0.7913790417632885, 0.2619067549364617, 1.165223696597601, -0.3016778318349294, -1.0529976820420186, -0.20713892548549498, -0.16604917897137875, 0.3191797582949728, 1.1212819182084803]}, {\"showlegend\": false, \"type\": \"box\", \"y\": [-0.8799962819251769, -0.42325079709261876, -0.9983215739350364, 0.07753941520497666, -2.002236380734671, 1.6668320372693815, 1.7730390344164582, -2.05846120630003, 1.3473905915285032, 3.5199325546006857, -0.08518516137494062, -0.38657159035005184, -2.474031133220834, -0.035099145821741826, -0.023564801719265532, 0.04880394509960959, -1.3412394810113455, 0.47903876404889856, 0.48605952170008954, 0.21311970189028792, 0.7210394116293389, 1.7109495207929397, -0.14883187122207003, 0.2326990948660024, 1.1836069294090004, 0.5559470276281389, -0.345757773233163, 0.48585565001435427, 0.11369985826980565, 1.0389566384941753, 0.3380983151057622, 0.2107803192737288, -0.8045914408273676, 0.18563442524359497, 2.0513505476430085, -0.810748200560281, -0.07445413353121583, -1.3527100545924773, -1.1089880218132597, 0.26725819680006946, -0.593427408818508, -0.08291772453254743, 1.6842952262986435, -0.32289752010242934, 1.6204241272186723, -2.033408296636064, 0.5166465433559082, 0.08115856107794651, 0.2500420942800116, 0.5663795099901772]}, {\"showlegend\": false, \"type\": \"box\", \"y\": [-1.075553816413238, -0.46475255024837875, -0.3704306224294906, -1.2755821692372145, 1.3471541252105024, -1.274408505907403, 1.5384036148620266, -0.06904627362610871, -1.7468038372504178, 0.20839983389531594, 0.17205649157744862, -0.6978872835891728, 0.12018635396584233, 0.1875611182947979, -1.316218330239347, 0.9052861134166535, 0.5004609522367582, -1.1185471659907449, -0.5276824022015827, 0.7580736079357362, 0.22307545053947267, -0.03224224442062258, 0.6458637108988171, 0.7084858378593076, 1.639620946231801, 1.6996414165923803, -0.526654284488086, -1.3235267818321959, -1.151206157823183, -0.5618921155394317, -0.12395450752943651, 1.891844537946121, -0.38155700963354816, -0.23300187738196426, 0.019684943781605905, -0.4465226131413215, 1.8837349836171557, -0.39999809101681605, 1.1037357502257943, -0.937048218474738, -1.3072121064130708, 1.2986207358716255, 1.5160026050900717, 0.19271482750077198, -0.4533798784083637, 0.3482640812080239, 0.22675942242655864, 1.9524952143214858, 0.18253393417281938, 0.12640001777864915]}, {\"showlegend\": false, \"type\": \"box\", \"y\": [0.10307798675666476, 1.650159561279884, -1.0512140030614108, -0.0980757013418953, 0.25304694759379776, -1.993879815723699, 0.8165143668906581, -0.48069368605327567, -0.3505767879341608, -0.6300377093859981, -0.3149617414451578, 0.09463401811058608, 0.37944745953613357, -0.8639990351546185, -1.359528664505198, -0.20384582277550975, 0.6149007812802822, -0.05314731249159421, -1.094674723991016, 1.4816804209143586, -1.2652787970215824, 0.39111314686140575, -1.1854936648638916, 0.19635511959644283, -0.8456770201509398, -1.1577896406022117, 0.08291187372782097, -0.9098992136141679, -0.9132172687741003, 1.409879584139903, 0.24164676140442154, 1.6685701047665722, -2.2395032375162005, -0.5755830748237047, 1.4642911256330158, -0.5427798323188585, -0.10200447161497733, 1.4940090217997801, -0.3411410061222578, -1.8695877287124971, 0.06972591568070557, 1.0105161495539015, 1.5527627452099237, 0.16480911475491367, 0.20158283352686765, -1.1085983003793556, -2.102454616902739, -0.43799331210977127, 1.0130804855316828, 1.1101801267231852]}, {\"showlegend\": false, \"type\": \"box\", \"y\": [-0.6144820874607575, -1.1389434238166254, -2.0189700356333886, 0.3288666279823368, 0.2854691373879629, 0.09406233297307068, -3.489578502573241, -0.013803148998235548, -1.2935805281866037, 1.5922684506934288, 0.038490116215268357, 0.5737492544856018, -1.3480738550826332, 0.0685448368205218, -0.16927036554648, -1.5796967610302601, 0.9351434999396131, 0.04202539448143705, 1.5206706361196318, 1.4421084610702295, -0.9106421034865607, 0.5737398245683809, -2.1333429542162983, -0.0360217929028002, 0.22264534694422958, 0.5972976688047802, 0.34647687682697464, -0.3832973917895731, 0.9270731141136463, 0.2242465082865306, 0.36545060526530876, 0.380555535400265, 0.7248457377907472, -0.9207981897664971, 0.9221449651924538, -0.4319240151766392, 0.38685419399960325, 0.48841276879672185, 0.31620033956234944, -0.24867127238641362, 1.5917435536377158, -1.2738489377848368, -0.9965393145343056, -1.2418358341046647, -0.9511037085120951, 0.03421315796837146, 0.519366503177742, 0.544774252170081, 0.11009445456906432, -1.0131064170727537]}, {\"showlegend\": false, \"type\": \"box\", \"y\": [1.7335902405197539, 0.08815556002004878, 1.4622879460664568, -0.2837503396812225, -0.9492149735591935, 0.75442075687891, -0.24332157589676212, 1.301929934397624, -0.1984169778018469, 0.10970380290916971, -1.816690805019769, -1.0835691273577277, 1.0275930281870205, -1.0363352883392851, 0.7204306705701635, -0.7352593430546787, 0.15910014580563492, 0.37880854972255884, 0.7760318840465142, -0.0348537711969753, 0.09769180098520432, -0.7962194703595892, -2.5027504003830905, -0.613529226232525, -0.3277495387685059, 0.8539487886935322, -0.558625424959607, 0.7122297603510729, 0.28254550348813856, 0.8278714753267408, -0.2297281842537868, 0.653239174401383, -0.6649399810978269, -0.06953959989415705, -0.7354622377331079, 0.7731686151379347, 0.7495724112756146, -0.6556420454874597, -0.36268561841091873, 0.8084865815203164, -0.536211075853657, -0.5164042845491847, 0.31243533489482916, 0.15028257660436428, 0.5091626083750167, -1.6266610540797446, 1.0894171200794147, 0.6017173495501671, 0.9134342404103676, 1.5279014580255106]}, {\"showlegend\": false, \"type\": \"box\", \"y\": [-2.0876656739212076, -1.0311482147500513, 1.7364835758854642, -0.6650231467483851, 1.1103464472414992, -1.5952660937924863, 2.192194755035256, 1.4337547736913856, -0.37086228292409473, -1.1305716868849585, -1.2883413674613222, -1.284487712672637, 0.718927651932153, -0.7087641044969621, -1.2869001803943403, -0.8514642404468641, 1.146685773068717, -0.30701224200642574, -0.01973794027948376, -1.2532123819723402, -1.5660418563962535, 0.24121974493317797, -0.5826784395995454, 0.8350343646788465, 0.6918644209653523, 1.2122523286662057, -0.6536553415267206, 0.35387352997888033, -0.5161317701147792, 0.2536879902015577, 0.127606005183629, 0.40347586917429007, 1.2857437293325702, -1.439693884711366, -1.374508475784493, 0.35033059186260185, -0.07448813528187895, 0.47870359323723577, 1.3149919432000283, 1.1590051413860671, -0.33782319840870867, 0.3269047389463064, -1.111193961291624, -2.0049374604376604, 0.9845761291380087, 1.1070468924540589, -0.2797311855287035, 0.3918150097064807, -0.012877578860605216, 0.18389551234525112]}, {\"showlegend\": false, \"type\": \"box\", \"y\": [-1.6634082426060097, -0.7136844172575093, -1.2762908310695427, 0.24073619860733356, -0.5115388518247516, 0.7870650309507644, -1.2634440507312212, 0.22228456839549368, 0.45350270719367686, -1.0284114842264427, 0.48536158034963295, 0.5814409393865974, 0.30619037559390494, 0.5314520463707278, 0.2457507269294158, 0.4199683884034005, -1.2389641437849523, 0.2164820163423445, -0.793869248270179, -0.4711960043341202, 0.14966597330646153, -0.19114477498157892, -0.5368947450653704, 0.056850318249494255, -0.2951327229899843, -0.45913389492154005, -0.5562429347570691, 0.1431496793911748, -2.3150965961382663, 0.24354648936133982, -1.470543367922082, 0.9487851384963623, -0.11767857545380642, 0.24705230621793103, -0.5701714371513451, -0.5689772029054072, 1.4681557279351765, 0.9152845412463959, 1.2023568458243388, 0.9291271723522171, -1.713138858222657, 1.5621748157049944, -0.874414505494458, 0.5729305306932736, 0.6706252753861901, 0.8952614182323128, -0.7292628727562368, -0.7615554457592378, -1.0910885610601533, 0.6742754015755619]}, {\"showlegend\": false, \"type\": \"box\", \"y\": [1.3880828110956331, 0.11914993848524111, 0.3016269708887151, 2.3199745685909288, 0.7792121754443584, -1.1438055659826956, 0.48389617993820433, 0.15984379713417055, -0.5503755409523838, 0.37587653017457884, -0.40059486705966674, -0.5757245656833663, -0.8450926508367314, 1.7784542145159645, 0.05285188965798599, 0.8182457006018825, 1.616450986482475, 3.011017885595584, -0.8340561511805976, -1.038416904997733, 0.2905758986209043, -0.2586133347629175, -1.015572653178388, -0.07163199057821164, -1.1705767107364127, -0.5091476708407527, 1.8166381661579347, -0.17733707221127504, 0.3216639139299738, 0.5592548897350836, -0.05481799637386035, 1.1454509223769616, -0.6413579787721274, -1.279051475101591, 0.35728749931282744, 0.26473280309914876, -0.779807714794413, -0.2954107672163975, -2.436065487221016, -1.5282795714912745, 0.35411631939712773, 0.6936282265424751, 0.8780479571973778, 0.7308512241901579, 0.22205851579478875, -1.5330512016831401, -1.4832065570656539, 0.12679144458270467, -0.10693910542525176, 0.5508843492958537]}, {\"showlegend\": false, \"type\": \"box\", \"y\": [1.5122018594769973, 0.058714782070751155, -1.1551670458290846, 1.1431081687029805, -0.0409454043573291, 0.09731268102748264, 0.11141115429196591, -1.6031140680880536, -0.7541332846916899, 1.4628781606934986, 0.23341257990712214, 0.6485801161185751, -0.5945402456922997, -0.32242652298268204, -0.830774539617387, 0.024727060279459163, -0.14373960477102846, 0.6084146718709904, 0.6511739162138973, 0.029670754845955268, 1.21380997603309, -1.3465356501585302, -1.4046515829231259, 0.013516705552608371, -1.0593896514595245, -0.01492530128624632, 0.8310659026881797, -0.759794362835623, 0.08616161754176217, 0.5850534898032506, -0.5834403433967424, 0.7881827267623517, -0.5731167170089209, 0.8933464887468618, -1.5876803929194585, 0.9768991429938203, -0.9660108127187496, 1.2160049453026476, 0.9923458014039008, 0.7247272875853762, 1.4266950565671745, 0.8396367066521121, 0.25077596065606655, -0.22830773377046928, 0.4575133181337285, -0.1387942526122639, 0.014718156209348344, 0.09556124698466986, 1.5151457318842279, 0.3159215393233552]}, {\"showlegend\": false, \"type\": \"box\", \"y\": [-0.9205199760569025, -0.9969630734720172, 0.2360519260016927, 0.8276544582907595, -0.4032329219111878, 0.5097256936713352, -0.29295639916138705, 0.8588306263189843, -0.8066447658511066, 0.0137834851344252, 1.1745667007633849, 0.8203201447106861, -0.7138249806599044, -2.0163019158104185, 1.882352197946501, -0.5877137011027376, 0.08724686918509468, -1.1395565894987425, -1.3794757835983946, -0.6996648365190764, 1.7052536294265999, 0.5191237976385258, -0.8898455676851165, 0.16997639501344866, 0.09611387071376803, -0.034153685376147075, 0.6829508164305852, 1.26607165311992, 0.27183494101625494, 0.7811890129413065, -1.376203873712141, -1.7607184595086567, 0.7671305693491853, 0.6687573242217294, 0.26309324815014573, 0.3161720159861637, 1.1899480499224622, 1.5387549182169535, 0.008291316447199158, -0.778915579767238, 0.2531160027311873, -0.7128699820858193, -1.4979160742636757, -0.5468584126033487, 0.25099027142319835, -0.8057715995605624, 0.6235733690561541, 0.3392708951939025, 0.25825200927671327, -0.5767031682296407]}, {\"showlegend\": false, \"type\": \"box\", \"y\": [1.138771241048148, -1.7727480977497112, 0.5283579819747631, -0.7278634884393183, 1.8988016773524297, 1.5807392700160365, 1.4736775362760752, 1.2091710303880556, 0.585513592276583, 0.3789012512419592, 0.5634153538485513, -0.14210179041730367, 0.4818784043497852, 0.62692205510448, 1.1198289227972418, -0.8350430164010121, -0.8546025871956208, -0.437865684774301, -0.24006113189499592, 0.3994367714051329, 0.7932041882465178, -1.9035117519402207, -0.60057351223591, 0.24882214749405274, -1.2228982821320307, 2.3122567408037686, -0.7020799584525229, 1.5423980153641081, 1.3159099263719527, 2.0003740854460093, -0.5595362498169208, -0.16543714812554355, 0.20477083883515731, -0.09309412119776446, -0.3963948822927918, 1.3061254519438459, 0.8374812238703673, 2.2287851098342744, 0.6706151663824303, 0.34439547740672505, 0.9804120625945967, 0.72808384029917, -1.4371846068493597, 0.10275330120421841, -1.9102992668639032, 0.8171085634573519, -0.2161265286035187, 1.2341152428082967, -1.420638375614916, -0.8015399530808798]}, {\"showlegend\": false, \"type\": \"box\", \"y\": [-0.47207532584538586, 3.00691757915232, -0.9405854389694032, 0.343948770911742, -0.2562081390552864, -1.5874308067570704, 1.2013495301449053, 0.10790887219077833, -0.15738973097710485, -0.3907166024208659, -0.08743797767796233, -0.8949375299482841, 0.6786414033382956, 1.956386295224177, 1.4462583162071572, -1.8517767591110477, 1.5125587529816422, 0.569014413351508, 1.822853174388431, 0.22297797149142382, -0.3820501786729739, -0.8087021477341795, 0.44957116804303476, 0.24671487319654387, 1.1539130428845576, -1.3219098314947693, 0.8059213072781646, -1.5613390763152746, -0.3455395839940486, 0.2918370960386502, 0.806127691776474, -1.3767719864037204, 1.0809169244679118, -0.5897401548355591, -1.2281809057789614, 1.1882686375472664, -1.2624189913161201, -0.8644886624929481, -0.3167345592006735, 0.7582066794302902, -1.376796360913496, 2.4154664235955656, 1.5791126416872057, 0.08271174596374359, -0.474726810984832, -2.540560750523883, 2.566057781957383, -1.1963960230297297, -0.15688272196407524, -0.0619408692832838]}, {\"showlegend\": false, \"type\": \"box\", \"y\": [0.1775914307997982, 0.05947361446334191, 0.6052877223525936, 0.11013594991673945, 0.607133225114242, -0.1661921569047706, -1.2345171590474444, 0.6883704662175182, -2.0499155947328593, 0.07843483578466141, 0.09199380703778588, -0.503593823045598, -0.157498341052029, -1.1020644082297542, -0.00947437915467208, -0.6171280512593091, 0.9860272086977867, 1.228152294397389, -0.6361920552708751, 0.35998688649497945, 0.957728247331711, 1.019765671399827, -0.4943530666130858, 0.8112291243610049, 2.38081836685929, -0.48561007325754413, 0.31855512113908285, 0.28857058186400003, -0.565361175189705, 1.9655126101711151, -0.3198295391972142, -0.3279718444833807, -1.455016392196216, 0.07373031518931426, -1.7476615921603085, 0.8675522464239892, 0.5712236927493191, 1.1194863106762765, -0.1747137542568954, -0.9436553441663195, -0.07002947284844808, -0.5125641462173239, 0.4897903160314195, 1.0841006469009458, -0.8967410864194357, -0.6006137621349693, -0.6684956760328207, 0.3367742881538157, -0.5476474749925093, 0.44284569187934836]}, {\"showlegend\": false, \"type\": \"box\", \"y\": [-0.3931743790616557, 0.05136374615857518, 1.5559480383373532, -0.21840335157429122, -0.34567668864359297, 1.1363913628205953, 2.9351176102817162, 0.5010825850063833, -0.5573195325507108, -0.12742517972222484, 0.9201493886591282, -0.4055833020083785, -0.25664666846435835, -0.2125836562464129, 0.11082140744093015, 0.8675817521300665, 1.5817781341915307, 1.251386385465875, 1.50612317518692, -0.2542931576236986, 0.5213944092965507, 0.2522073409910014, 0.4900244592940735, 0.0072870846986984065, 0.8562204680201432, 1.4786146931039434, 0.9973901629964139, 1.1285246878408008, 0.9898509517002458, -0.23080133737538902, 0.27668902398393164, 0.18108673924147622, -0.151886571026551, 1.0261764850385702, -0.6936131179911147, -0.7205979028413145, -1.2341030217839164, -0.058568028972330766, -1.4674415207426024, -0.08709665976412492, -0.07454697071881504, 2.471907070538748, 0.5485211283432596, -0.7742474951217266, 0.879680341536377, -0.4305152137986224, 0.3564072234002869, -0.09500221653692524, -0.086254435966007, 0.7858678101455763]}, {\"showlegend\": false, \"type\": \"box\", \"y\": [1.486503075543406, 0.9050493950344186, -1.2422717124268245, 0.09125816973195644, 0.6500026419473537, 0.3412124294092606, -0.49900898389339193, -0.11895857783687526, -0.0662996199649779, 0.6628085098106488, 1.078854219858631, 1.619745611010068, -0.7562292998540399, 1.0548464360698586, 0.6007296830147135, 0.606702839514697, 0.44454851084051294, 1.7976672681069874, 0.40518624327009284, 0.17813998525217292, 0.22684764131483, 0.04653123913079201, 0.061300138073874626, -1.4788075697659, 1.820220531433002, 0.013668630623648684, -0.6998333662209327, -0.39892392566547485, -0.8083250809501648, 0.5513499974742504, 0.061849316134330895, 1.542653778579135, 0.4463861415657402, -0.2959080203962131, -0.4570275314880493, -2.4157273820578915, -0.30917353039969153, 1.5405337464828164, -0.28976291435761453, 1.3523352143192982, 2.0575861690621187, 0.06367427459175277, 0.46494658952437495, -1.334170427127386, 1.5839591191331612, 0.7912241322879388, 0.36872127684250716, 1.7065405624129786, 0.9036134561336845, -0.971332997789246]}, {\"showlegend\": false, \"type\": \"box\", \"y\": [1.8168935883213098, 0.21912355619073554, -1.2374523970168647, 0.581419284698605, 2.0037126434902492, 0.6906946874882989, -0.5873330893126105, -0.16993278226709738, 1.1785882232326994, -0.096137887635388, 0.23176441124757624, 1.2815824303002261, 0.6054434611098245, -0.3284609595847646, -0.8899833620305067, 1.3715317919068957, -2.157482816419969, -0.13466270230998315, -0.7925897659485108, 0.23074757157101738, 0.3066080689089546, 1.1360481089939358, -1.9108696668857121, -1.562524319115194, -1.160849936153955, 0.15521215075456865, 1.1985200295858611, -2.0679528925532566, -1.3528005624700774, 1.164146838984096, 1.2845143547911162, 0.7743164383988137, -0.53601636770015, -0.3392119167506633, -1.7731584975697385, -0.5693887730921654, -0.07057405805869797, 0.340347216211917, -1.4733079789304488, -0.6249671365930805, 0.4264458367453416, -0.19393064628039283, -1.1779682208171565, 0.27533844827348347, 0.49852950017578396, -0.309417931030139, 0.20519559967854126, -0.7078614304532191, 0.05409782401017457, -1.2285738933086483]}, {\"showlegend\": false, \"type\": \"box\", \"y\": [-1.6407108115009172, -2.114149322163423, -0.3738033018952093, -0.8402473051504117, 0.1767251175294831, -1.488048738276943, -0.06012211208277408, 0.0949513439589451, -2.9869074118496446, 0.08401356623794502, 0.46777387526744696, 0.16180476709024658, 0.7782562769653619, 0.6095239356670559, 1.7038658008759855, 0.5549155883914045, 0.7592798150937411, -0.7367198538254104, -0.6207215474382278, -0.14552607442817314, 1.3952130074161349, 0.27587533963258437, 0.07564709855941533, -0.17041353123043834, 1.1743432575866457, 2.8567644392190115, 0.48171177750430777, 1.5362447988843246, -0.13068931034657852, 1.2770519533613278, -1.5354637165670402, 0.3666904915573358, 0.82235294616689, -0.2923560972862109, -1.5759191872601006, 0.0827777922311818, -0.9986521901936171, -0.1826623655295123, 0.12292089989970739, -0.16255794066451193, 2.113561756764349, -0.14058059895542346, 0.22040582006879392, 0.9108272124951061, -2.717138602010418, 0.7933839198092887, -1.268376591216589, 0.2841382783876344, -0.2506711558558857, 0.6599179495972458]}, {\"showlegend\": false, \"type\": \"box\", \"y\": [-0.24317102319986314, 1.4285168025205741, 0.3874065495909322, -0.9758196354004223, 0.5917025547544983, 0.25307851801513626, 0.3622408227084428, 0.2812525200968473, -0.4892462917507614, 0.5934143789725687, -0.7148178507836793, 0.278716205515064, -1.0154267616106996, -0.173896473133634, 0.6781395607312077, 1.1877594370506395, 1.6687662402309558, 0.7046365427698404, -0.765022597166506, 0.06714445040654428, -0.6171566276674966, 1.9693312475285962, -0.36976151500977694, -1.1636554520350477, 0.8996444752760075, -0.9285596729114757, 0.35879589432076536, 0.3660091742377844, 0.523132021051483, -0.24974785651856166, 0.580755207712505, -0.25809406532126056, 0.7804801907160047, -0.5887925613096445, 0.7843899961482034, -0.055431400209860204, -0.11138038376987455, -0.8040639646669541, -1.3741526077703492, -0.8285398607098287, 0.6926610833467539, -0.06073733851219808, 1.1403508643931766, 0.8240378783429155, 1.236098355794388, -0.8795517414600201, 0.5836881289725678, 0.37323769852808625, 0.5044733147334278, -0.6901752642586375]}, {\"showlegend\": false, \"type\": \"box\", \"y\": [1.4093360758555573, 0.46027822519836276, 0.5183694900740062, 0.8578573294615128, 0.3377296151362573, -0.2356584145601245, 1.8412304489682503, -0.26155626644682844, 0.7216966910615537, 0.11585346913983735, 0.8343077193345626, 0.9116933984583153, -0.4109843930465129, -0.11053574773348744, 0.5523846484298005, -1.1425763404233555, -1.390091294063032, -0.5850224799381988, 0.69970245557792, -2.03029737390617, 0.17233655075260818, 0.7519829317274976, 1.9568402338944377, 1.2746298111730483, -1.5371457759255251, 0.8885170939242734, -0.02552633046442548, 0.8128546472964476, -0.8691479631513059, 0.7879454096681645, 0.5349400040488198, 0.034718125266632115, 0.5036782420401705, 0.7570107236822778, -0.9158091919530482, -0.675030356170327, -0.5922549425861691, 0.46673841131670935, 0.3814748466317794, 0.5240978250481866, 1.0723844623987706, 0.07259211541472033, -0.6578324740684189, -1.78625267808705, -1.4574018533404551, -0.2957686038255718, 2.5822810840086605, -1.3772498656681638, -0.4265504753140184, 0.8172139810411096]}, {\"showlegend\": false, \"type\": \"box\", \"y\": [-0.8944438941251318, -1.187477884250059, -0.10579720904299457, 0.39727974628393375, -2.048964000424911, 0.8255753262722881, -0.054585404388897626, 0.7279822424290555, -0.1554776794397582, -0.2618410507290245, -0.7043926758786723, 0.12228943986348322, -1.8497433736196325, 1.3482797685427699, -0.19900706859627543, -0.14656267310216387, -0.5013100873069295, 0.2672346790241674, 1.030807502903739, 0.3218045976605417, -1.4220098422960843, 0.17833426772728686, 1.5414462807687739, 0.569143945724393, 1.366271870795222, 0.0765224729021806, -0.5146321392811434, -0.5130151963274888, 0.9292222483425938, -0.3032787875474752, 0.6571483923388717, -0.9705126673592782, -1.2878660980092145, -1.2456875372914094, 2.7183052983128695, 0.8958145812466604, 1.0002964426432588, -0.017155306882484393, 0.0987879984296152, -0.10334811060294571, -0.9517571000368289, 0.8660109687650611, -1.3057391218658032, -0.9848738828041264, -0.07274185392385889, 0.49867069240161355, -0.23106250077727733, -0.2647220914336721, -0.17297644621852334, 0.3270452648398579]}, {\"showlegend\": false, \"type\": \"box\", \"y\": [0.6802372805101985, -0.05424492559505456, -0.17628543867511692, -1.759713655404386, -0.9930227430547987, -0.14293918763763508, -1.4317420971055448, -1.3190398787745612, 1.0169422763365736, 0.5069544544502744, -1.1246107153302196, 2.1914734347914036, -0.0031867675125886873, 0.328648510032378, -0.2069004477507831, -1.04520031870762, -1.303709042464254, 1.833721639914317, -0.6236406770152816, -0.7549320471958126, -0.5407616665168513, 1.0397839037789576, 0.3534622266454919, -0.3075884440325347, 0.29400777603760747, 1.515710346673796, -0.6791350397503135, 0.9933532742111713, -0.808924813571732, -0.6264296481790583, -0.4677789231457144, 0.6397016816457601, 0.18414000683429524, -1.1771738484169436, -0.7487210540495888, -1.1880647292794893, -1.9042866263952258, -0.5830517981782775, 0.1899025411574009, -1.0592519878374267, -1.6527701730724749, 0.7883532199553882, 0.4214472901456737, -1.1715263211557418, 0.32818205627970637, 0.7632219202649752, 0.1193442131507136, 0.7804569707635463, 1.6928964786941092, -0.4473319806265281]}, {\"showlegend\": false, \"type\": \"box\", \"y\": [0.7895861124272677, -1.5979489982009016, -0.1674041254939031, -0.04479448378744026, 0.03171159172781718, 1.632516758994223, 2.169309765668703, 0.04305532551875391, -0.0741192203858493, -0.40775251997747786, -1.1961068611166035, -1.663742464333008, -1.3733274906104687, -0.4180210981585312, -0.18299037901787188, -1.004554890622301, -1.05044120854331, -0.2876039281327774, -0.9358695882026143, 1.1170001042389086, 0.21439144198092905, -0.8519520018691565, 1.4729160492279094, 0.436764859244742, -2.166115146460941, -0.5181844975255423, -1.7322435736007458, 0.1854328659169848, -1.7594932988554648, -1.0802474452491333, -0.8196214843231538, 1.1730248951218094, -0.45089623809041846, -0.9237950318748421, 0.2810989443154285, 0.45220535925199923, -0.9550152503779481, 1.2548017114022858, 0.7719495236416164, 0.5185041074909137, -1.1245604596237153, -1.01820651616657, 1.408650628478023, -1.0552094970621206, -0.6878546575168565, 2.076084540945831, -1.8810404848386082, 0.6273493367789573, 0.03793082246646061, 1.7033247024672922]}, {\"showlegend\": false, \"type\": \"box\", \"y\": [-1.119202576028023, 1.8604945468492795, -0.11607600427462536, 0.24322228761463432, -0.33706480208425527, 0.01562035730335887, 0.7368958439755366, -1.0543531291526906, -0.4834207889997283, 0.4803855970778567, -0.6827109645609367, 0.05174318708275531, 0.19442753078055577, -0.4899721089599027, -0.8471721894528061, -0.32825495593813436, -1.4492498352264505, 0.9686602664710033, 1.0419078027293958, -0.4672266204558404, 0.8132979045267582, 0.6535254007363498, 0.9605682964233075, 0.3907246773520785, -0.45360795666050074, -0.8910499704261847, -1.3245955255693393, -1.0054722013430388, -1.1524877136791571, 0.2405342349872674, -0.44994711808506194, -0.003004590230689798, 0.8598720057156964, 0.35365927112316536, -0.4284672088822965, -0.06851534281831724, -0.3346940652758087, 1.2543256263446654, 0.7970936106844709, -0.27990899430561245, 0.7314344183370044, -1.030077939787253, 0.12240362221342474, -0.6417773820539305, -0.13040447783568987, 0.6681095746667217, 0.004312056778799453, 0.8425667169532357, -0.10717915566786011, -0.5905101867839591]}, {\"showlegend\": false, \"type\": \"box\", \"y\": [-0.5023327746254382, -1.0250972223837307, -0.33343255030463764, 0.06668194074811275, 0.4959530691687816, -0.5724996620999895, 1.055962600090186, -1.299123708093707, -0.5759187808016382, 0.8355272888680326, 1.8220568638486538, 0.11183260321113134, -0.010346933800223848, -0.33991037359950654, -1.5079230285738912, 1.334041383412978, 0.8646425825584048, -1.648031809598874, -0.3495396334274398, 0.2888010028512469, -0.5247500792441926, 0.5059040755313707, -0.9155424909773556, -0.7794269794060354, -1.1125789566337203, 1.0537715174800555, -0.6614614410511667, 1.131200142629028, 0.7558706195181026, 0.09857516508112782, -0.2569459130919261, 1.7232976680139185, 0.6407082791734552, -1.2996143893413883, -0.8486746227043533, 1.4533821035132877, -0.19077160343523353, 0.32590800287442284, 0.8953527036759878, -0.6991034773043321, 1.178520376262961, -0.27648138046773607, 0.572192275012637, 0.5260284545662164, 0.10186276569238104, 0.5801169149955092, 0.953049320918819, -1.3737063011666757, 1.7912763194446568, -1.209744356971463]}, {\"showlegend\": false, \"type\": \"box\", \"y\": [0.026798849611445935, -1.7681727230428026, -0.6124856910076326, -0.6051090111478317, 0.6312622577379154, 0.6825439415561548, 0.9620300831933785, -1.8097815560418336, -0.7796823674688526, 1.3858604835719246, 0.7105835274235643, 0.4263059929574962, 0.9986427501955774, 1.5467294617658185, -0.8386947984618741, 0.8077799701587945, -0.7749317468486325, -0.7531613297184814, 0.6403240665776486, -2.9695771147149856, -0.01824216727221301, 1.1175205937706096, -1.0257507959829588, -0.4942106582753422, -1.2811611014931308, 1.2094793243085273, 0.46821079970443263, -0.061427631768234445, 0.1240060900326344, 1.3069026810503739, 0.6038563292242458, -1.5644947193555936, 0.875212193093648, -1.6399866470084172, 0.5129594736153701, -0.38010966547151875, -0.8149732689029945, -0.9980534843469537, 0.1329130809891399, -0.41663489854386576, -0.03890962624332611, -0.1653048752912714, -1.0952196597190937, 0.8050026902336606, -0.34816697664078583, 0.4338540741776287, 0.5192367566638694, -0.34891744554938325, 0.07719700137251284, 0.2446580912577217]}],                        {\"template\": {\"data\": {\"bar\": [{\"error_x\": {\"color\": \"#2a3f5f\"}, \"error_y\": {\"color\": \"#2a3f5f\"}, \"marker\": {\"line\": {\"color\": \"#E5ECF6\", \"width\": 0.5}}, \"type\": \"bar\"}], \"barpolar\": [{\"marker\": {\"line\": {\"color\": \"#E5ECF6\", \"width\": 0.5}}, \"type\": \"barpolar\"}], \"carpet\": [{\"aaxis\": {\"endlinecolor\": \"#2a3f5f\", \"gridcolor\": \"white\", \"linecolor\": \"white\", \"minorgridcolor\": \"white\", \"startlinecolor\": \"#2a3f5f\"}, \"baxis\": {\"endlinecolor\": \"#2a3f5f\", \"gridcolor\": \"white\", \"linecolor\": \"white\", \"minorgridcolor\": \"white\", \"startlinecolor\": \"#2a3f5f\"}, \"type\": \"carpet\"}], \"choropleth\": [{\"colorbar\": {\"outlinewidth\": 0, \"ticks\": \"\"}, \"type\": \"choropleth\"}], \"contour\": [{\"colorbar\": {\"outlinewidth\": 0, \"ticks\": \"\"}, \"colorscale\": [[0.0, \"#0d0887\"], [0.1111111111111111, \"#46039f\"], [0.2222222222222222, \"#7201a8\"], [0.3333333333333333, \"#9c179e\"], [0.4444444444444444, \"#bd3786\"], [0.5555555555555556, \"#d8576b\"], [0.6666666666666666, \"#ed7953\"], [0.7777777777777778, \"#fb9f3a\"], [0.8888888888888888, \"#fdca26\"], [1.0, \"#f0f921\"]], \"type\": \"contour\"}], \"contourcarpet\": [{\"colorbar\": {\"outlinewidth\": 0, \"ticks\": \"\"}, \"type\": \"contourcarpet\"}], \"heatmap\": [{\"colorbar\": {\"outlinewidth\": 0, \"ticks\": \"\"}, \"colorscale\": [[0.0, \"#0d0887\"], [0.1111111111111111, \"#46039f\"], [0.2222222222222222, \"#7201a8\"], [0.3333333333333333, \"#9c179e\"], [0.4444444444444444, \"#bd3786\"], [0.5555555555555556, \"#d8576b\"], [0.6666666666666666, \"#ed7953\"], [0.7777777777777778, \"#fb9f3a\"], [0.8888888888888888, \"#fdca26\"], [1.0, \"#f0f921\"]], \"type\": \"heatmap\"}], \"heatmapgl\": [{\"colorbar\": {\"outlinewidth\": 0, \"ticks\": \"\"}, \"colorscale\": [[0.0, \"#0d0887\"], [0.1111111111111111, \"#46039f\"], [0.2222222222222222, \"#7201a8\"], [0.3333333333333333, \"#9c179e\"], [0.4444444444444444, \"#bd3786\"], [0.5555555555555556, \"#d8576b\"], [0.6666666666666666, \"#ed7953\"], [0.7777777777777778, \"#fb9f3a\"], [0.8888888888888888, \"#fdca26\"], [1.0, \"#f0f921\"]], \"type\": \"heatmapgl\"}], \"histogram\": [{\"marker\": {\"colorbar\": {\"outlinewidth\": 0, \"ticks\": \"\"}}, \"type\": \"histogram\"}], \"histogram2d\": [{\"colorbar\": {\"outlinewidth\": 0, \"ticks\": \"\"}, \"colorscale\": [[0.0, \"#0d0887\"], [0.1111111111111111, \"#46039f\"], [0.2222222222222222, \"#7201a8\"], [0.3333333333333333, \"#9c179e\"], [0.4444444444444444, \"#bd3786\"], [0.5555555555555556, \"#d8576b\"], [0.6666666666666666, \"#ed7953\"], [0.7777777777777778, \"#fb9f3a\"], [0.8888888888888888, \"#fdca26\"], [1.0, \"#f0f921\"]], \"type\": \"histogram2d\"}], \"histogram2dcontour\": [{\"colorbar\": {\"outlinewidth\": 0, \"ticks\": \"\"}, \"colorscale\": [[0.0, \"#0d0887\"], [0.1111111111111111, \"#46039f\"], [0.2222222222222222, \"#7201a8\"], [0.3333333333333333, \"#9c179e\"], [0.4444444444444444, \"#bd3786\"], [0.5555555555555556, \"#d8576b\"], [0.6666666666666666, \"#ed7953\"], [0.7777777777777778, \"#fb9f3a\"], [0.8888888888888888, \"#fdca26\"], [1.0, \"#f0f921\"]], \"type\": \"histogram2dcontour\"}], \"mesh3d\": [{\"colorbar\": {\"outlinewidth\": 0, \"ticks\": \"\"}, \"type\": \"mesh3d\"}], \"parcoords\": [{\"line\": {\"colorbar\": {\"outlinewidth\": 0, \"ticks\": \"\"}}, \"type\": \"parcoords\"}], \"pie\": [{\"automargin\": true, \"type\": \"pie\"}], \"scatter\": [{\"marker\": {\"colorbar\": {\"outlinewidth\": 0, \"ticks\": \"\"}}, \"type\": \"scatter\"}], \"scatter3d\": [{\"line\": {\"colorbar\": {\"outlinewidth\": 0, \"ticks\": \"\"}}, \"marker\": {\"colorbar\": {\"outlinewidth\": 0, \"ticks\": \"\"}}, \"type\": \"scatter3d\"}], \"scattercarpet\": [{\"marker\": {\"colorbar\": {\"outlinewidth\": 0, \"ticks\": \"\"}}, \"type\": \"scattercarpet\"}], \"scattergeo\": [{\"marker\": {\"colorbar\": {\"outlinewidth\": 0, \"ticks\": \"\"}}, \"type\": \"scattergeo\"}], \"scattergl\": [{\"marker\": {\"colorbar\": {\"outlinewidth\": 0, \"ticks\": \"\"}}, \"type\": \"scattergl\"}], \"scattermapbox\": [{\"marker\": {\"colorbar\": {\"outlinewidth\": 0, \"ticks\": \"\"}}, \"type\": \"scattermapbox\"}], \"scatterpolar\": [{\"marker\": {\"colorbar\": {\"outlinewidth\": 0, \"ticks\": \"\"}}, \"type\": \"scatterpolar\"}], \"scatterpolargl\": [{\"marker\": {\"colorbar\": {\"outlinewidth\": 0, \"ticks\": \"\"}}, \"type\": \"scatterpolargl\"}], \"scatterternary\": [{\"marker\": {\"colorbar\": {\"outlinewidth\": 0, \"ticks\": \"\"}}, \"type\": \"scatterternary\"}], \"surface\": [{\"colorbar\": {\"outlinewidth\": 0, \"ticks\": \"\"}, \"colorscale\": [[0.0, \"#0d0887\"], [0.1111111111111111, \"#46039f\"], [0.2222222222222222, \"#7201a8\"], [0.3333333333333333, \"#9c179e\"], [0.4444444444444444, \"#bd3786\"], [0.5555555555555556, \"#d8576b\"], [0.6666666666666666, \"#ed7953\"], [0.7777777777777778, \"#fb9f3a\"], [0.8888888888888888, \"#fdca26\"], [1.0, \"#f0f921\"]], \"type\": \"surface\"}], \"table\": [{\"cells\": {\"fill\": {\"color\": \"#EBF0F8\"}, \"line\": {\"color\": \"white\"}}, \"header\": {\"fill\": {\"color\": \"#C8D4E3\"}, \"line\": {\"color\": \"white\"}}, \"type\": \"table\"}]}, \"layout\": {\"annotationdefaults\": {\"arrowcolor\": \"#2a3f5f\", \"arrowhead\": 0, \"arrowwidth\": 1}, \"autotypenumbers\": \"strict\", \"coloraxis\": {\"colorbar\": {\"outlinewidth\": 0, \"ticks\": \"\"}}, \"colorscale\": {\"diverging\": [[0, \"#8e0152\"], [0.1, \"#c51b7d\"], [0.2, \"#de77ae\"], [0.3, \"#f1b6da\"], [0.4, \"#fde0ef\"], [0.5, \"#f7f7f7\"], [0.6, \"#e6f5d0\"], [0.7, \"#b8e186\"], [0.8, \"#7fbc41\"], [0.9, \"#4d9221\"], [1, \"#276419\"]], \"sequential\": [[0.0, \"#0d0887\"], [0.1111111111111111, \"#46039f\"], [0.2222222222222222, \"#7201a8\"], [0.3333333333333333, \"#9c179e\"], [0.4444444444444444, \"#bd3786\"], [0.5555555555555556, \"#d8576b\"], [0.6666666666666666, \"#ed7953\"], [0.7777777777777778, \"#fb9f3a\"], [0.8888888888888888, \"#fdca26\"], [1.0, \"#f0f921\"]], \"sequentialminus\": [[0.0, \"#0d0887\"], [0.1111111111111111, \"#46039f\"], [0.2222222222222222, \"#7201a8\"], [0.3333333333333333, \"#9c179e\"], [0.4444444444444444, \"#bd3786\"], [0.5555555555555556, \"#d8576b\"], [0.6666666666666666, \"#ed7953\"], [0.7777777777777778, \"#fb9f3a\"], [0.8888888888888888, \"#fdca26\"], [1.0, \"#f0f921\"]]}, \"colorway\": [\"#636efa\", \"#EF553B\", \"#00cc96\", \"#ab63fa\", \"#FFA15A\", \"#19d3f3\", \"#FF6692\", \"#B6E880\", \"#FF97FF\", \"#FECB52\"], \"font\": {\"color\": \"#2a3f5f\"}, \"geo\": {\"bgcolor\": \"white\", \"lakecolor\": \"white\", \"landcolor\": \"#E5ECF6\", \"showlakes\": true, \"showland\": true, \"subunitcolor\": \"white\"}, \"hoverlabel\": {\"align\": \"left\"}, \"hovermode\": \"closest\", \"mapbox\": {\"style\": \"light\"}, \"paper_bgcolor\": \"white\", \"plot_bgcolor\": \"#E5ECF6\", \"polar\": {\"angularaxis\": {\"gridcolor\": \"white\", \"linecolor\": \"white\", \"ticks\": \"\"}, \"bgcolor\": \"#E5ECF6\", \"radialaxis\": {\"gridcolor\": \"white\", \"linecolor\": \"white\", \"ticks\": \"\"}}, \"scene\": {\"xaxis\": {\"backgroundcolor\": \"#E5ECF6\", \"gridcolor\": \"white\", \"gridwidth\": 2, \"linecolor\": \"white\", \"showbackground\": true, \"ticks\": \"\", \"zerolinecolor\": \"white\"}, \"yaxis\": {\"backgroundcolor\": \"#E5ECF6\", \"gridcolor\": \"white\", \"gridwidth\": 2, \"linecolor\": \"white\", \"showbackground\": true, \"ticks\": \"\", \"zerolinecolor\": \"white\"}, \"zaxis\": {\"backgroundcolor\": \"#E5ECF6\", \"gridcolor\": \"white\", \"gridwidth\": 2, \"linecolor\": \"white\", \"showbackground\": true, \"ticks\": \"\", \"zerolinecolor\": \"white\"}}, \"shapedefaults\": {\"line\": {\"color\": \"#2a3f5f\"}}, \"ternary\": {\"aaxis\": {\"gridcolor\": \"white\", \"linecolor\": \"white\", \"ticks\": \"\"}, \"baxis\": {\"gridcolor\": \"white\", \"linecolor\": \"white\", \"ticks\": \"\"}, \"bgcolor\": \"#E5ECF6\", \"caxis\": {\"gridcolor\": \"white\", \"linecolor\": \"white\", \"ticks\": \"\"}}, \"title\": {\"x\": 0.05}, \"xaxis\": {\"automargin\": true, \"gridcolor\": \"white\", \"linecolor\": \"white\", \"ticks\": \"\", \"title\": {\"standoff\": 15}, \"zerolinecolor\": \"white\", \"zerolinewidth\": 2}, \"yaxis\": {\"automargin\": true, \"gridcolor\": \"white\", \"linecolor\": \"white\", \"ticks\": \"\", \"title\": {\"standoff\": 15}, \"zerolinecolor\": \"white\", \"zerolinewidth\": 2}}}},                        {\"responsive\": true}                    ).then(function(){\n                            \nvar gd = document.getElementById('2b8ec348-f90b-4354-b226-9661d05e686c');\nvar x = new MutationObserver(function (mutations, observer) {{\n        var display = window.getComputedStyle(gd).display;\n        if (!display || display === 'none') {{\n            console.log([gd, 'removed!']);\n            Plotly.purge(gd);\n            observer.disconnect();\n        }}\n}});\n\n// Listen for the removal of the full notebook cells\nvar notebookContainer = gd.closest('#notebook-container');\nif (notebookContainer) {{\n    x.observe(notebookContainer, {childList: true});\n}}\n\n// Listen for the clearing of the current output cell\nvar outputEl = gd.closest('.output');\nif (outputEl) {{\n    x.observe(outputEl, {childList: true});\n}}\n\n                        })                };                });            </script>        </div>"
     },
     "metadata": {}
    }
   ],
   "source": [
    "iplot([Box(y = np.random.randn(50), showlegend=False) for i in range(45)], show_link=False)"
   ]
  },
  {
   "cell_type": "code",
   "execution_count": 12,
   "metadata": {},
   "outputs": [
    {
     "output_type": "stream",
     "name": "stderr",
     "text": [
      "Z:\\Data_Science\\Software\\Python\\Python_3.6.4\\lib\\site-packages\\plotly\\graph_objs\\_deprecations.py:441: DeprecationWarning:\n\nplotly.graph_objs.Marker is deprecated.\nPlease replace it with one of the following more specific types\n  - plotly.graph_objs.scatter.Marker\n  - plotly.graph_objs.histogram.selected.Marker\n  - etc.\n\n\n"
     ]
    },
    {
     "output_type": "display_data",
     "data": {
      "application/vnd.plotly.v1+json": {
       "config": {
        "linkText": "Export to plot.ly",
        "plotlyServerURL": "https://plot.ly",
        "showLink": false
       },
       "data": [
        {
         "contours": {
          "coloring": "heatmap"
         },
         "type": "histogram2dcontour",
         "x": [
          -0.3026512282748974,
          -1.9255888475110081,
          -0.4000656601374523,
          -0.8826000135507523,
          0.5672950557140019,
          0.07867115266388697,
          -0.40315449973743206,
          1.1473947325288198,
          0.3904272471802595,
          -0.8837006296734149,
          0.12035174062226472,
          0.11910036595721994,
          0.9659108659394859,
          -2.8858946751821244,
          1.1882004439313227,
          1.5397977180557818,
          -0.10373141756775657,
          0.6609176571022483,
          -0.7103344851450926,
          -0.19516422860108967,
          -0.019770462370001882,
          -1.1789330501854949,
          0.3144420501766355,
          -0.6659921461213975,
          -0.6512694225726303,
          1.1691848112739662,
          1.4260407830249693,
          -0.6636333888503306,
          -0.02130893546518852,
          0.932785688409505,
          -0.6517579755147955,
          1.2340703474713586,
          -0.5456030655563489,
          -2.543075405621505,
          -0.24198981231452085,
          -0.28209968903223054,
          -0.15595884845079944,
          -0.2857091876430247,
          -0.31399664752580436,
          0.9910174401841814,
          0.23195774734097838,
          -0.24125411487832638,
          0.7161507544927113,
          -0.6134389024623074,
          -0.636795031374235,
          -0.50099738601955,
          0.3878013231650542,
          -0.16426262413179338,
          0.6741216009699481,
          1.222978432721632,
          -0.7133445078147478,
          0.20227197477369033,
          1.6650279473796135,
          -1.2502774728585384,
          0.31282498701957956,
          -0.4486637944477406,
          -0.8299578690546414,
          1.5758807176490697,
          -1.884444416519551,
          -1.2893179253794007,
          0.25689868703251784,
          1.2271879014916816,
          0.16748609878674725,
          -0.29304031517311285,
          0.35457095799712607,
          0.5796283328378015,
          -0.5270965603577374,
          0.47160932132566435,
          -0.6863299051107818,
          0.767112021343719,
          1.7992320923891116,
          -1.245209018495106,
          -1.1419239038197018,
          -0.41954168283676746,
          -0.3099528488639215,
          -0.32405331897166756,
          1.4269206405215025,
          -0.07215619241750643,
          -0.35412741613323195,
          0.8844863773504411,
          -0.12415672156866334,
          -0.2071463842510566,
          -0.018958591203279876,
          0.34847505766624876,
          -0.6686272205343152,
          2.566224887209872,
          -1.1243324156514098,
          1.5009873476335165,
          0.7326429143122678,
          -0.9522650552723625,
          -1.3376245054414653,
          0.814137334700884,
          -1.679656477016447,
          -0.8940159025976822,
          0.47439951944379044,
          0.17548195253925122,
          0.2686288832764512,
          -1.7804884556770357,
          -1.6626018213377332,
          -0.21789242693179717,
          -0.15808122900923602,
          1.3094679872718866,
          -0.3034495554040629,
          -1.5556693173786762,
          -2.576626378432177,
          0.267532420782104,
          0.8522528302378269,
          -0.32166154379739664,
          1.6844772857133992,
          0.9620163035496736,
          -2.9786439435192964,
          0.8725458581980461,
          -0.6721938656896994,
          0.06363156358168337,
          -0.6268776015885786,
          0.30402047182767783,
          1.0391308479395558,
          -0.3557177280177746,
          1.9699719551200359,
          -0.1094140506481571,
          0.018890093841681145,
          1.437719762342267,
          -1.2260616005511669,
          0.04602132950406242,
          1.0292051842887742,
          -0.5408700426535086,
          1.623023793645179,
          -0.9758062426011292,
          0.9488454833016353,
          -0.4147496499628546,
          1.0083659774401512,
          1.5578822286917569,
          -0.8013548064463778,
          0.1983628568732299,
          -0.08216653567349579,
          0.5095324669334158,
          -0.8471594761546394,
          -0.8108532737736587,
          0.7588993064260633,
          -1.3160284791286008,
          -0.27116248982843044,
          1.0353020822037937,
          0.5269338833938735,
          0.24027170223169822,
          0.24977826806447886,
          0.5955326484985682,
          0.7853672676451232,
          -0.47708353287986077,
          -0.4373852936379614,
          0.705259258112075,
          1.1425937356247362,
          -0.46567197195396853,
          -0.41893229222271855,
          -1.6373058881380913,
          2.129280411918375,
          -1.7854711125440696,
          -0.4074151753920754,
          0.8293055203222267,
          1.758043177182886,
          -1.0078401532559234,
          -0.01100553919051166,
          0.8009294049866691,
          -0.6475439639562829,
          0.22517776448477772,
          -0.4126219114594857,
          0.5084176038194549,
          -1.9900153407597296,
          2.160948278881106,
          1.1320548974212699,
          -0.7692958172559098,
          0.9694259098021302,
          -0.6055726198433489,
          1.417640775918183,
          -0.332896561773569,
          2.7034961221371243,
          -0.06926867011832993,
          -0.3659813003520731,
          0.0987258869933376,
          -0.6203540037419967,
          -1.6696500521905684,
          -2.146050174299769,
          0.48919362253467163,
          0.6192192207107956,
          -0.4003623083174667,
          1.164328378153965,
          0.7124859547243066,
          -0.24800798188525763,
          0.20790926391416634,
          -0.8360439243049862,
          0.090772878142413,
          0.6482562986211023,
          0.8143930979185047,
          0.8306479185434091,
          -0.4784145574017266,
          1.3595852113423725,
          0.051017438869192105,
          -1.1716904294681194,
          0.5091116053969392,
          0.4275758767959357,
          -0.3112386499184804,
          -2.2503713155070746,
          -1.5357534712183143,
          -2.611915177663039,
          -1.4288834352483626,
          0.7083642911246634,
          -1.54449318777037,
          0.20572302647234608,
          0.16531563695993368,
          1.7012917605222175,
          0.12391831440972917,
          -0.005460521676671968,
          0.5491031143927396,
          -1.2642523129522816,
          -2.5382964681543023,
          1.329551079228586,
          -0.15779708492307132,
          1.5726529994091287,
          1.662234931953966,
          0.4299483074965581,
          1.1822133911630868,
          -1.2795754514026607,
          0.9047322591607938,
          0.4869537998444931,
          -1.1122354835645785,
          0.7446834400412021,
          1.4693976534687088,
          -0.4016301844789006,
          0.10815915846734134,
          -0.2621507279924931,
          -0.04592342109684192,
          0.7913328175364747,
          -1.1574044177647618,
          0.1380505992934733,
          0.4946765753107677,
          -0.5970480594003781,
          -1.186269981056484,
          -0.613407272289385,
          -1.1142280657581345,
          0.29304135100516093,
          -0.46431729970706487,
          0.5785704639864815,
          0.06065258797804739,
          1.6554413420789427,
          1.3791226206458964,
          -1.1694615647557156,
          0.5947854532408953,
          1.4665486748613175,
          1.3911071346131674,
          0.4209298729171747,
          -0.8092798623772899,
          -1.088476833138381,
          0.46389805030257364,
          -0.6927918166317705,
          -1.8085903643537429,
          -0.6243339178778258,
          -0.43391353921179765,
          0.8741522116993612,
          -0.28454613752011826,
          0.15080745652804278,
          -1.3786465698998158,
          -0.7793712379277228,
          -0.7751095864988672,
          -1.5231319258903668,
          -1.3011029627818236,
          -0.9553993701264818,
          -1.691628863816294,
          -1.2598328154836176,
          1.4706892178979396,
          0.5876514475850256,
          -0.8688884648361483,
          -0.3450093808855046,
          -2.902084824314574,
          -2.1281183047924324,
          0.20154807160707294,
          0.42473255977102153,
          -1.65295870869923,
          -0.14292989790865002,
          -0.09567647584450349,
          -2.1241095607447233,
          0.2880571946829292,
          -0.8910469298924643,
          0.8966651455977545,
          -0.2512502640912918,
          -0.5271859347062284,
          1.413800828824497,
          0.5686633872257956,
          -1.0045418970477755,
          -0.6144765072027102,
          1.030467450560568,
          -0.4829473068623178,
          1.1155280745384888,
          -0.20341268629829506,
          -0.03410001350966791,
          -1.5171847616690255,
          -0.09694333629509125,
          0.970279385842037,
          0.743156665860603,
          0.7555463475234911,
          0.5029014254978726,
          0.5739930252160402,
          -0.12701639141496435,
          -0.2089703192835795,
          -0.4622007236386808,
          0.24059268338650108,
          0.8234911306207979,
          -0.7235273765230099,
          -0.225894095776557,
          0.6539565523703311,
          -0.6646025367955182,
          -0.27690434255205254,
          -0.09319732613539504,
          -0.3535569492180912,
          0.43681489769964654,
          -0.012941482879910529,
          -0.8040715080225913,
          1.3363239511854321,
          -1.0734521960596086,
          -0.6256237827090987,
          0.21031299615766336,
          -0.6021181941411129,
          -0.9297904393084137,
          1.603725523935829,
          0.7073339805837574,
          0.5487417474467244,
          -0.47804159209365965,
          -1.4243089644604126,
          0.829339732527603,
          0.17205875971502352,
          -0.5869612068579324,
          1.3877458381610333,
          0.19715106953227363,
          0.6036645164423456,
          2.0620761827935152,
          -1.4890479832691297,
          -2.6627068344525595,
          0.12536799675448831,
          1.1839619832601997,
          -0.09431712664035156,
          -0.27532199228236265,
          0.1890645215839811,
          0.13545090451176897,
          -0.9017070678321172,
          -1.392180397653851,
          -0.7727551182733042,
          0.8220969246316988,
          0.35348202302688575,
          -0.7535614727378547,
          -0.1969936024243372,
          -1.5512097689603552,
          2.2863586611840887,
          1.0660786461731315,
          0.4572878707701098,
          -0.7052731188683152,
          1.3466918463721766,
          0.3776899310955288,
          -0.41829137119166865,
          -0.2474884445816036,
          -0.35560271750084965,
          0.24590409611389688,
          -0.8685454496935718,
          1.447836106742927,
          0.6282562315715752,
          1.3883334072160542,
          -0.40747915892179787,
          -0.7224271194739893,
          0.29355786918112875,
          1.4950723440863731,
          -0.38948472528324396,
          0.12196108489766036,
          -0.8677796386775747,
          0.7489040249031514,
          0.6467708996283473,
          0.4958319090315725,
          0.7517445889376885,
          -0.5978545594577436,
          -1.173929955563078,
          1.0636884323353546,
          -0.7460543244129323,
          0.4234937491371631,
          -0.49904699402717784,
          2.1370555229710373,
          -0.11007893666603093,
          -2.0011743660574064,
          1.3253563745888988,
          -0.7080946429299233,
          0.8014264873982012,
          1.2289758404378048,
          1.6772928689077242,
          -1.733440455491101,
          -2.111118559270066,
          0.40419100431060623,
          -0.08856808162997527,
          -0.7645582609175215,
          -0.7197498396654224,
          1.4924653868778746,
          1.9808319836446169,
          0.2674480079358483,
          0.9575142800458546,
          0.006822112696658726,
          0.24405505688092213,
          1.4269969316961264,
          0.4681735752787745,
          0.21704762745827674,
          -1.1192981995081022,
          -0.39352147933587633,
          -0.49976999121586557,
          1.3178310761430638,
          0.9712897592288507,
          0.2811987888269563,
          0.2622121847096689,
          -0.037980393350146774,
          -0.42934020535086226,
          -0.6552698293881898,
          -0.474871724744828,
          1.241073202371763,
          -0.5356291138682759,
          0.36401114695983366,
          -1.9961367429734655,
          -0.43209031505460765,
          1.0401102309998673,
          -0.9542139431768827,
          0.12145438831962455,
          -0.6541749785472865,
          1.4980190071661172,
          -0.544530592479906,
          -0.8769567172912054,
          0.14330689984674194,
          -0.3901719588563069,
          -0.5704337133055704,
          -0.579742709620222,
          0.6415854681544991,
          2.0117431867664655,
          0.4256821951413613,
          -1.5749700797489905,
          -0.7580069848700909,
          0.20742453571651867,
          -0.013383395787520274,
          1.3529417620341018,
          0.16707994436642346,
          -1.095710323636666,
          0.6903171836349024,
          0.7684005123115093,
          0.3433193365503346,
          1.5878991117281012,
          1.613422547423327,
          1.6591687423261765,
          0.509845990705274,
          0.2514799963668851,
          0.6387576256426045,
          0.5437409860815978,
          0.9026950250546222,
          -0.33383051255479196,
          1.897920170498523,
          0.887586704095441,
          0.17947635565383416,
          -0.9037225065982045,
          -0.7852525106171359,
          -1.116796419898935,
          1.0599860066416946,
          1.6431147258125856,
          -0.4131986591746625,
          0.9090298286977331,
          -1.240933615332621,
          -0.8592894512390175,
          0.841922067303371,
          1.6010443662332916,
          0.41450777983916903,
          0.6988830667219583,
          0.7895042118514031,
          -0.21674503775311446,
          0.8595254783728808,
          -0.10655357175656138,
          -0.34352510385246565,
          0.051928484876844025,
          -1.1901927729633812,
          -0.9809030026726325,
          0.028932226543010902,
          -1.7485307001980641,
          -0.9726402766500536,
          0.5012913733104299,
          0.5037555583633169,
          -0.4645175637641512,
          -1.2932614373732116,
          0.5035712683963975,
          -0.27643556032516625,
          0.6312681770097922,
          -0.4297551786396991,
          0.26714793433111333,
          0.12950395166307296,
          -1.239350469733002,
          3.9475527323466886,
          -0.3670448964503223,
          0.7149450426112686,
          0.23774104748765165,
          -0.3280216452949078,
          2.153040087138137,
          -1.0214154034004985,
          -0.2478620195044189,
          -0.40971257652799375,
          -1.8291996880994568,
          1.1984705652574998,
          -0.026652840061465222,
          0.5713256100804738,
          0.9091171816811258,
          -0.9898036407195874,
          -1.4547896931641917,
          -0.8035328305371188,
          0.8009782172760926,
          0.42736231377941336,
          0.11691420159440957,
          0.34078534453356263,
          0.5728464983581466,
          0.1581615649163718,
          0.6812708758619577,
          0.36371873384907133,
          -1.771483646261396,
          0.5852788433416864,
          -0.7380954664610555,
          2.422549678173944,
          -1.0767595716178109,
          0.082477586450806,
          0.5320176511549083,
          -0.24858351708407914,
          1.4444343909874169,
          0.16721078566850855,
          -1.174801344479598,
          -0.12154259511543301,
          -0.8448115908950234,
          0.8825363461188885,
          -1.076446133570259,
          -1.1343413484875762,
          -2.395007302969963,
          0.3279978108570385,
          0.263236855177176,
          0.7599084013827716,
          -0.9595601798487582,
          -0.9853033869856513,
          -1.3682235056775471,
          -0.7064838771832956,
          -0.7582845944884341,
          1.106231330027656,
          -0.869655108370909,
          0.3606334019649484,
          0.2039734068554198,
          0.6623509924193779,
          0.33676370085529433,
          -0.39188687494051505,
          0.23433982985907334,
          -1.478899965495571,
          0.26870827171161515,
          -0.8931006803173629,
          0.47817201685783106,
          -0.1542821452867008,
          -1.555766151955228,
          -0.198908586699628,
          0.7978088983718068,
          -0.16760635777192087,
          -1.197366529485017,
          0.7600024556046217,
          -0.1472684896391921,
          0.49289063115692244,
          -0.6237422020297244,
          -2.622898661873621,
          0.6704028607157345,
          1.362298634627084,
          1.1627671791380532,
          0.4856128048359137,
          1.5764260280787363,
          -0.719221800386994,
          0.6870697699436672,
          0.4580710076018855,
          1.3795278591458917,
          0.1405147393709282,
          -0.8950637739504347,
          1.0749864012903918,
          0.043225204293277905,
          -0.9031646943786126,
          1.274494612088821,
          -0.2661929338823139,
          -0.2828298903136799,
          0.9539663859609007,
          0.4461015032309906,
          -0.4739074165107501,
          1.826801105664919,
          0.6869375420891585,
          0.20230534352042273,
          -0.3757108245595893,
          -1.916465934085147,
          2.528718031593793,
          2.109429558767698,
          -0.8251220492998861,
          0.3439400605138025,
          -0.7961681533650001,
          -0.09650985758374253,
          -0.40276651586482065,
          -0.30498121059795213,
          0.026198891628434088,
          -0.405044566259695,
          -0.9602265178813646,
          1.7000842202410076,
          1.0304250366421588,
          -1.3910618389535059,
          -0.20397432985579955,
          0.34044678852282095,
          -0.13405144243659514,
          0.2281346283369493,
          0.6816550669618047,
          -1.333870467015926,
          0.3754223990012125,
          0.6120061710531816,
          -1.264073277704455,
          -0.1601466507447667,
          -0.8705020183576886,
          0.7398592373553147,
          -0.6947758689015168,
          -0.30743477132763436,
          0.5842545247351594,
          -0.17083324356280447,
          1.400946886745532,
          -0.4253442539064152,
          -0.8058729123438951,
          0.9831412149332572,
          1.3661120755746936,
          1.4137479287335444,
          -1.091993010702902,
          -0.6259147073390371,
          0.657893058607046,
          -1.3185871877791693,
          -0.40387696620643393,
          -0.32556711780398134,
          -0.1520340868568087,
          0.39633773163945696,
          -0.6849942077702097,
          0.22871562133809567,
          0.7956978394655417,
          1.166183149043649,
          0.010399791603531834,
          0.03575789941607249,
          -1.3231415392455557,
          1.5597327626412945,
          0.6372630595883993,
          0.6501824808110857,
          0.9405751806889384,
          0.26223644358399717,
          1.769752221470719,
          0.5512514117867685,
          -0.13074861873611301,
          -2.13050198422639,
          0.7005389950061701,
          -1.0129135542956733,
          0.2283949352841839,
          -2.393545328100041,
          -1.5796740929317548,
          0.008013548271687222,
          0.18355749156043843,
          1.2586787197111478,
          -1.410568385704798,
          -0.46348576436331435,
          -0.4218988132521175,
          0.70987478648393,
          1.2832767044055393,
          0.8433200838955149,
          0.7555432063157015,
          0.014365402408639741,
          -1.3095779856764138,
          -0.2602586593291594,
          -0.7840355521660312,
          0.5838461665761582,
          -0.45149455604432326,
          2.101861877166793,
          -1.1764444136773193,
          1.2114193935209094,
          -0.8665953661819138,
          -1.1955272416592095,
          -0.902815223314274,
          0.40720057550093997,
          0.10062981524624372,
          -1.397115431437833,
          -0.13401706351456982,
          -1.5091616731630013,
          0.8856531766737543,
          1.364429280610135,
          1.2446198047159749,
          0.37245873210820035,
          -1.0211683027062515,
          0.20471775111760482,
          1.5475729853973224,
          1.993855951990591,
          -0.022607726685997774,
          -1.0840962167227817,
          -1.9919158013261957,
          0.3272666019044769,
          -2.37380458078985,
          -0.5700533787164332,
          0.5666051983628554,
          0.0034828910802512858,
          -1.1152070984717817,
          -0.22401075838405898,
          2.2499932455763854,
          1.3980057978463059,
          -0.09717469785016646,
          0.5103137935467265,
          -0.381793930364839,
          -0.8514071996006312,
          2.4066638243576235,
          -0.9776839649496131,
          -0.6576874350748899,
          -0.1924332950553879,
          0.7682088247179036,
          -0.9181123316887688,
          -0.3400988438658162,
          -0.5325026672161621,
          -0.6522761124767879,
          0.174999107578858,
          0.003433928727070428,
          1.9143429724593914,
          -1.427313015366271,
          0.35743578485364386,
          0.7370550522184478,
          -0.23161602547978088,
          1.4275057430907119,
          -0.3006884057757164,
          0.9343127615591472,
          0.8897641921147806,
          0.33226797324622287,
          -1.9502599718635725,
          0.3284834450913839,
          -1.9681251934939306,
          0.2885418195027301,
          -0.7674713533258295,
          1.1803471763909632,
          1.8209343271452054,
          -1.6746830782285465,
          -0.42891769851238937,
          -2.0515113930185898,
          1.187912865464824,
          -0.26494188669437546,
          0.9893045593737033,
          2.1392768559383004,
          -1.5574275542681029,
          -0.7737264244041864,
          1.562338986677485,
          0.8170025791967721,
          -1.9405259913292026,
          0.42510482691999224,
          -0.06664722826719356,
          0.9124085932280895,
          -0.3383843658742168,
          0.21925562436732898,
          -0.003886016738835519,
          -1.461039859731038,
          1.1479426913640207,
          1.1351206833398917,
          0.26339373484730316,
          -0.46092956516281774,
          0.7766281027518479,
          0.3348801820222125,
          0.5612998294486116,
          -0.7861718183176583,
          0.003113060803175531,
          1.5417987814430134,
          1.2580730743344968,
          -0.31634371647509957,
          0.7563246460135591,
          0.5005403065703874,
          0.5198828018340584,
          0.525967494365142,
          1.6159508554716697,
          -0.03710497982717341,
          0.13296220351974863,
          1.161038059568801,
          0.061041991115279144,
          0.63894511923194,
          -1.1729699002837348,
          0.4737497575997244,
          2.2743596726858613,
          0.6154808687199576,
          0.921812803674344,
          0.338254933485283,
          -0.0685967879095767,
          -0.5645022548274448,
          1.69237280733272,
          2.0738662643012833,
          -0.24172198709387344,
          -1.1817785955073006,
          -0.20888762079994694,
          -1.5457070494733838,
          0.3844365782015742,
          -1.6505219387504746,
          0.6570136187335777,
          -0.8815590422315939,
          -1.44218027661439,
          -0.7023845344409139,
          0.8607329673675166,
          0.11910426946965484,
          0.8628863929654307,
          -0.3571400782005347,
          -1.5767442344843738,
          0.244095892806049,
          -0.015041806604696445,
          0.296621440611769,
          0.35818652885378754,
          0.12306699846017817,
          0.7135682380911545,
          0.8497387648379512,
          0.28440751315372914,
          0.20059376677513335,
          1.7645739740207493,
          0.8783921085474302,
          -0.9152549112179914,
          0.6283722052796119,
          -1.4386850425724182,
          -0.4189616717568458,
          -0.32393377297169473,
          -0.9015868226106466,
          -0.10788407343797403,
          -0.6744973935319645,
          -0.4662104496628857,
          -0.8526845225978265,
          -0.2242200656344624,
          -0.6476294232259056,
          0.35260534827691087,
          0.1339555756667367,
          -0.28034448531789485,
          -1.0006339877923542,
          -0.5960181041493534,
          1.1047562329660405,
          -0.29411315289678236,
          -0.35227052178767676,
          1.7062775977956477,
          -0.06674230221863495,
          -0.01389693224541876,
          1.959599863005448,
          -2.0784169545500264,
          1.1086243817954526,
          1.2778067328903782,
          -0.9207959653971218,
          -2.050961371921255,
          -0.11172660791610244,
          0.7532702863630317,
          -0.12978223779051418,
          1.3455376290255427,
          0.5288739465250161,
          -1.1974441465004841,
          1.249237634341234,
          -0.5404723230602886,
          0.5047339462757109,
          -0.9571446743535841,
          -0.6515938754641977,
          0.2957495800479807,
          0.35009863001623465,
          0.7090895045180379,
          -0.4196571316198821,
          0.43754861440809073,
          -1.3682591974818916,
          -0.05486983068687041,
          0.0651193237615507,
          3.0170843776648386,
          -0.4584092459112648,
          -2.017610629464936,
          1.2555867711054152,
          -1.6951753441054653,
          -0.6862199331808538,
          -1.504178291914221,
          0.16036530775423516,
          -0.28947005034586776,
          -0.8661425000289702,
          -0.5717588061151836,
          0.4923032129261227,
          -0.8849973743101442,
          -0.20749900183731693,
          -2.7278590702508256,
          -0.11123971709720014,
          0.3232178780300956,
          0.8557641308992548,
          0.07732267170522474,
          0.41757376212231717,
          -0.030844531101863342,
          -0.010243027608889788,
          0.5917567958099262,
          0.11733856923026274,
          -0.929575495113584,
          -1.6389033963953532,
          -1.0695207749852178,
          -0.6442441529487194,
          -1.1103328789203768,
          -0.23437392821576192,
          -0.8482888246691643,
          2.265438504074881,
          0.2619033054133162,
          0.8625793451428388,
          -0.06140561981291436,
          -1.1708040647373366,
          -0.13256048993809272,
          -0.42801945385775453,
          -0.7700610074603396,
          -0.17422505678289205,
          0.8832371822109504,
          0.2672675157747519,
          0.40645926149770906,
          -0.9004215190668861,
          -0.06941696755985766,
          1.1509945490302615,
          1.7153995458800464,
          -0.8611339097969126,
          -0.7026241321374148,
          -0.27336530070749765,
          1.3416565842019146,
          -0.6016723360975954,
          0.7397472591508092,
          -0.07748867525855696,
          0.0383552443573899,
          1.4456633789025892,
          -0.6781696815806485,
          0.3721247997351992,
          -0.5082222229830867,
          -0.8538071538624323,
          0.16999040922898356,
          -0.37720971309408646,
          0.06334444126536515,
          0.39509959607506484,
          -0.40810002921630856,
          1.5125080281578491,
          -0.48750056657968494,
          -1.3629616185885298,
          -0.5077556716280154,
          -0.8919133677520239,
          -2.225210265139513,
          1.4094943657487202,
          -1.857550946656682,
          -0.3878488238892532,
          0.7542970594125018,
          -0.29879240651991734,
          1.387008262031515,
          -0.5709338874093096,
          0.2370065811501018,
          0.548073784176328,
          -0.784918841108862,
          -1.3143617329857935,
          -0.4599037235972485,
          -0.9450923728087217,
          -0.5675810848982903,
          -0.6849181441747396,
          0.7132858596084642,
          0.16982048411432318,
          -1.2146304564216255,
          -2.5581041370119766,
          -1.6950847871869728,
          -0.8902039516040099,
          1.7020051538362777,
          -0.6770520210690133,
          0.239299864582552,
          0.7837452135356628,
          -0.09418511900696411,
          -1.2466748753705794,
          1.0401911305362646,
          0.21608098342876556,
          -0.6046875440529773,
          -0.6082257051392401,
          -1.7543287988465779,
          0.20536235555370094,
          0.15461812194890953,
          -1.0874652367471405,
          -0.6068266922867793,
          0.4526930099721289,
          -0.19133899119204897,
          0.15451447090043838,
          -0.5523601279462872,
          0.155130943502862,
          -0.7261836877686504,
          -0.4812057612893808,
          0.23932103478262537,
          -1.1776218364963034,
          0.5099549144761908,
          -1.2369881951949644,
          0.30771834805383186,
          -0.8588822867590432,
          -2.3460126280803846,
          0.7606055049626521,
          -0.8510417130935326,
          -0.11460087171838362,
          -0.3642328774514468,
          0.6774246891371317,
          -1.1882707407575732,
          -0.674179084055605,
          0.23158492801494934,
          1.0211830778739146,
          0.019113134340083826,
          -0.16784271896051234,
          -0.625955028817261,
          -2.3188175994909708,
          -0.7521547836177773,
          0.4853976980395588,
          0.4309225966962544,
          -0.38412280775775987,
          -1.5025675533840088,
          0.23359209288550453,
          0.9884733514229693,
          -1.04153414576722,
          -0.8164792347202758,
          -0.6992737713962373,
          -0.14300974752415122,
          0.6745155829895487,
          0.593325922682318,
          -0.104491930441489,
          -0.7981713877790162,
          1.4089662466794555,
          -0.7824442049647178,
          -1.7932464638694112,
          -1.9877559943967398,
          -0.7133310918803537,
          1.039954371122558,
          0.37254560751390897,
          1.8163631104878943,
          0.5775513314014644,
          -1.3871383265095496,
          0.41234860982697746,
          0.005858129032148964,
          1.0529001235646005,
          1.9773527476637884,
          -0.34604024167676867,
          1.2429812148900794,
          -0.028337976536621262,
          -1.704378183457864,
          -0.40986752400334875,
          -0.38184781080610236,
          0.10516193728519597,
          -1.0025630676555841,
          0.4973605909975085,
          0.016053421640986654,
          0.138990208079746,
          0.4666601963941483,
          0.6288738707475869,
          0.8370907501482863,
          -0.9234775423453147,
          0.3520243060770336,
          0.9900442871687648,
          0.48581178829361676,
          -0.5931765679768845,
          -1.103221376645183,
          0.5737047711805647,
          -0.3231984449060448,
          -1.2287307565254908,
          -1.6758112237352327,
          -1.1630262309212993,
          -0.3473120422252567,
          -0.9305920355262285,
          0.0031489009061078086,
          -0.8071885113851064,
          1.9745079532052046,
          0.3678174785260205,
          -0.01994465994479843,
          -1.081258609147299,
          0.9915540557453754,
          -0.6282315368454304,
          0.7706348518040265,
          0.8549671346171183,
          -0.01653322792403285,
          0.8928935309598726,
          -0.7550314135859049,
          1.2885565608720873,
          -1.000760813739452,
          0.04206110407242059,
          0.8856149488948815,
          0.39494492067592063,
          -0.01171102263462893,
          -0.8402911567397817,
          0.11100790458439151,
          -0.9736836629076637,
          -0.5464046685431027,
          -0.3464686979397254,
          -0.9891284739815498,
          0.09857102804040209,
          -1.7309371407998901,
          -0.9638609478208928,
          0.45177627894254196,
          -0.1899383212875208,
          1.0965570825040898,
          -0.14928260202775137,
          0.37499937952563617,
          0.5612006366754174,
          0.9322610080488881,
          0.4220121092355154,
          -0.36503346273023735,
          -0.5815044862311087,
          -1.1819991720834568,
          -0.7605383649311875,
          -0.9374740239978419,
          0.6058253001360975,
          0.25912653310303463,
          1.701550458828744,
          -2.1579865326011056,
          -2.035800487482153,
          0.7917682265043404,
          -0.9884403326768201,
          0.7026289789201854,
          1.1904296690464424,
          0.01295186453897224,
          -2.42526379537534,
          -0.6891226523720797,
          -0.3677328016311272,
          1.2034149087285873,
          0.3344302766832385,
          -0.9806565015853874,
          -0.7466990202266918,
          1.8366127412152593,
          -1.7682597688870525,
          1.8632985155877055,
          0.4260530648894054,
          -1.806804318304278,
          1.6452670150763988,
          1.5920152343887461,
          0.3119969884604997,
          0.1284606349668274,
          -1.8589549558069618,
          -0.689707883660303,
          0.3785227134898799,
          0.9821069232671353,
          -0.5127484109982007,
          1.317803430254227,
          0.34539719293516286,
          -1.5205291665725826,
          0.24729355988787097,
          1.204140575368934,
          0.5712156033656228,
          -1.1145849790138342,
          -0.65787315364141,
          0.8794605117766962,
          -0.017511152397282386,
          -0.2480932421098104,
          0.9498146085064645,
          -1.1205507029414143,
          1.384823351763304,
          -1.356045352819544,
          0.1825206389487755,
          -0.8944351839141779,
          -0.024396127606301964,
          -2.018258663009895,
          -0.8211741362550252,
          -0.18093630223326743,
          0.35473295896845214,
          -0.8172892829979992,
          0.6307974033669721,
          -0.09118154320569265,
          0.7929974780924638,
          -0.4401971283868314,
          -0.3482321411982434,
          -0.4165506731339946,
          1.1478144671658472,
          0.32295121926754705,
          -1.8491092653682735,
          -0.11405163946575048,
          -0.7387392968712628,
          0.5216848003610213,
          -0.625896733082995,
          0.7924145977462604,
          0.3900637427882512,
          1.9706457480967463,
          -0.13876906327413716,
          0.4958087793248266,
          -0.2811414794102099,
          0.03579529764464968,
          -0.6148906829941129,
          -0.06325330384784851,
          1.5258746157883978,
          -0.7205688191410485,
          -0.6887452494075403,
          0.7903863923741077,
          1.6841175444218646,
          -0.5001609952475975,
          -0.5067854474925567,
          -1.3507196661103391,
          -0.2780631470408081,
          1.2999513891438614,
          0.47260338461880674,
          -1.0686580283871356,
          -0.16196169783328015,
          1.5281639465629502,
          -1.0478137159405754,
          -1.5443552997908165,
          0.84918127743002,
          -0.9193659183871545,
          -0.9204920192840347,
          -0.740681045040593,
          1.2581270652749124,
          1.1312393352216252,
          -1.3280903622269284,
          -0.6970864868091325,
          -1.357775455076837,
          -2.321567834426128,
          0.9125528423294462,
          -1.5993160212436501,
          0.8394996504462787,
          -1.4231284679776337,
          -0.5694882669820462,
          0.5684995072995387,
          -1.3096911446117714,
          -0.6377016363800727,
          0.19021678433080635,
          2.98371018729441,
          0.288191317715458,
          -1.1969701913607624,
          -0.7995891141468154,
          -0.2324091756191788,
          -1.3828910470048124,
          0.7144901337492777,
          -0.9173887525154996,
          0.5937362332209717,
          0.22373752705647204,
          1.1890048736359626,
          0.06789743157740095,
          1.3864067492056908,
          -1.1882791597590407,
          0.7560883093783936,
          0.7847903006623592,
          -0.91781996493482,
          0.9047695250293949,
          0.5040336717969188,
          -0.10629617779128918,
          -1.4792509055231604,
          1.4551252451729573,
          -0.9258460031190185,
          -0.6255501348174793,
          -0.24303506002222364,
          1.0834895601260428,
          0.2060107070791982,
          0.03785900620349794,
          0.13994227537120368,
          0.2571230648742315,
          -1.8265101837351858,
          1.1058534639950715,
          0.6473030589004165,
          -1.7316268834741875,
          0.19575002286604382,
          -0.9127202179376589,
          0.8546005163517263,
          2.1030595352337684,
          -0.527701946485361,
          0.11584237719082269,
          0.8204199971428922,
          -0.6759255848519928,
          0.9632537932683548,
          0.7348810761779466,
          -0.31089897510667885,
          -0.46726464718279237,
          -2.1258064495918227,
          0.9155069208127566,
          0.024023441545464094,
          -0.37906337613252944,
          0.31686726648309865,
          0.6233616788442503,
          0.5951043254143946,
          0.2588776771922792,
          -1.4126572260767452,
          0.12085580464419256,
          -1.630256342478728,
          0.6934879476779451,
          -1.1527900889145548,
          -0.3565316613175821,
          0.29165268797754434,
          -0.9265175990882875,
          1.0957322435076915,
          -0.42270923933904747,
          -1.3432005977220982,
          -0.6315536409910001,
          0.3328907245441855,
          1.3915308839070075,
          1.4076298279237505,
          0.09371815270711813,
          -1.6135806855777577,
          -0.2468962005271155,
          0.5505338004659036,
          -0.8697165896581045,
          -0.5381597437841522,
          1.2319685758705805,
          0.6105639531834551,
          0.7491100511013168,
          -1.2964875447978936,
          0.7478694145148088,
          0.209848052469171,
          0.08617386981877866,
          1.9395851114766254,
          0.16270233755179472,
          1.2190062487061453,
          -1.0568062489872132,
          -1.2494331380735209,
          1.3709886967949496,
          0.855366732027471,
          -0.7613217789617452,
          -1.0518194613092415,
          -0.7053304822947899,
          -1.910075846211094,
          -0.9914940140534533,
          2.2374063931213923,
          0.8931993057313519,
          -0.16190135542508105,
          0.505672316180877,
          0.13972595754009146,
          -1.0441498467661632,
          0.7863130910160127,
          1.4178587462209526,
          -0.08883803617767999,
          1.252929736733899,
          -0.3523415256655797,
          0.3549567416094464,
          0.3573333774096988,
          -1.3230309562794689,
          0.04812853076976829,
          0.09395563523990146,
          2.0302684427289215,
          0.24139685568637892,
          -1.7323111599852705,
          -0.9879160245673898,
          0.1110619231062688,
          -0.1898353246234771,
          -0.09227075039353431,
          0.3350493677268738,
          0.7563411190441092,
          0.3251555380046959,
          -0.18509634496171312,
          2.289893188189483,
          0.6752417308048552,
          1.498584780946491,
          -0.4785554445859188,
          0.8374227964912266,
          0.6018953346146595,
          0.12406905908374465,
          -0.5319928386702268,
          0.23968399310394728,
          1.5397686831693795,
          0.5842554914258281,
          -0.5508806790383648,
          -0.5936531206537353,
          -1.1163514473570795,
          1.4939329380800588,
          0.8148032204485333,
          0.06786910690425263,
          -0.8648069772188467,
          -0.7168013927913155,
          1.0312092293761512,
          1.0280024965550059,
          0.18654524397891817,
          -0.5981130206223813,
          0.4149151226579831,
          0.47015958253737844,
          0.5111317536185361,
          0.31544723143428544,
          1.2178142901540248,
          0.48414356443325385,
          0.9995806282855965,
          -0.6310316406246926,
          2.168250482782411,
          0.251775533871494,
          2.1968982502434393,
          -1.1434091640801298,
          0.7294054155381526,
          1.5585188199426998,
          0.18218973579779446,
          -1.2976915994780307,
          0.379201776912526,
          0.03247994980911385,
          -0.07149455802385858,
          -1.2151057766162847,
          0.6519472679171859,
          0.49471871447407095,
          0.4907319392321175,
          -0.25307822056293383,
          -0.6918115571389258,
          1.1346291137724143,
          -1.015072711519844,
          0.8717394981150651,
          -0.20867253946052888,
          0.13473528914843286,
          0.5197545028978541,
          -0.9136955674293605,
          0.8630556202371937,
          0.06534459896712268,
          0.4363264257178013,
          -0.8618440624744313,
          -0.9248623705166903,
          0.7561395306586004,
          0.18679821584189496,
          -2.458974011491853,
          1.0844166335409005,
          2.3279750069547265,
          2.8057957719536266,
          -1.285499293064084,
          0.2112297658725361,
          -1.358326433230945,
          0.5290431163261077,
          1.1333345716223566,
          -0.5974653066809341,
          -1.5164735794873772,
          1.3695217692990749,
          -0.11322441444650172,
          -0.38519726766899454,
          -1.1229644040120377,
          -0.9071799458826657,
          -0.22520979980708983,
          0.9839008088801059,
          -0.09607453698296577,
          -1.487029491505337,
          -1.779355541437242,
          -0.8633105677611843,
          -0.30519402394722517,
          1.0597524188335394,
          0.29323934020383347,
          1.3594544433307425,
          0.5169073771098285,
          0.5564925095213854,
          0.13476417451548917,
          0.1977731754583202,
          1.2767929129960414,
          1.654261572886642,
          -2.3688411633619815,
          0.6610248324067521,
          0.457345896003409,
          -0.14459227145300987,
          0.39267000402823055,
          -0.3249282393106742,
          1.8088356553397242,
          1.015598827631147,
          1.2413917864890316,
          0.2633980219769785,
          -0.2900958066503083,
          0.29608891012006655,
          1.174233864004504,
          1.3957452508829078,
          -0.652502737881994,
          0.6371024987001148,
          1.3663409294540774,
          -0.945754090443429,
          -0.3482170158284631,
          -0.6176680867063619,
          -1.1726723071102978,
          -0.044178389273409946,
          -0.5212914837677466,
          0.5926969396523396,
          -0.20195330330358183,
          -0.38394915694261583,
          -0.7426061066750848,
          -0.8851301352591001,
          0.47667741111224604,
          0.020186709444066326,
          -2.049907762967183,
          1.6296222188259226,
          -0.2114198700557442,
          1.663124277094912,
          0.8372754189296177,
          0.3456019275684788,
          -0.6661615313485225,
          1.445983261180544,
          1.1428687628775962,
          0.6267691154271569,
          1.074287185676522,
          -0.29980164790105335,
          0.9183124815437256,
          0.4285643203711457,
          -0.8964107755045071,
          -0.9150148895619298,
          -1.678051374404262,
          0.39304476290987267,
          -1.9306325348894207,
          -0.12927211979681863,
          -0.1627372602468969,
          0.04820983478622845,
          -0.32321213862217246,
          -0.4124673620947597,
          -0.20469262806954494,
          -1.087924750498087,
          -0.06392234953410857,
          -1.00006936216115,
          0.6093663411103191,
          0.6477573445385512,
          -0.11157835752531164,
          -0.6203778884801551,
          -0.21204796198469136,
          -0.7705766874744899,
          -0.35988939980926965,
          0.08162657278892349,
          -0.566221262994531,
          0.4442580656736993,
          0.21032685685031646,
          -1.95039948978456,
          1.0415522300493243,
          -0.07948848769728847,
          -0.7499892291576011,
          -0.9548426795520145,
          -1.0622117112924563,
          -0.4800238511762749,
          0.20190887129810267,
          1.7530494629993536,
          1.816088036939797,
          0.08520647452825807,
          0.4705968697547175,
          0.8288824565962163,
          0.5087382997141017,
          1.3050802820223046,
          -1.3085384742448687,
          2.5808525689886777,
          0.781332010786776,
          -0.7031569593323242,
          -0.5656718173751834,
          0.6842466269803542,
          -0.7654579030541773,
          0.05072922624662564,
          -0.47769337631157693,
          -0.668101175357099,
          0.534895144041223,
          -0.7170846100391929,
          -0.9156651723133259,
          0.010726536822795832,
          -0.40447273859707994,
          1.3094283654166947,
          1.5470902858644169,
          0.1587992624770394,
          -0.6777948955537838,
          0.0446075385939553,
          -0.9068855143772011,
          0.3105303400259497,
          -0.9263528840886118,
          -1.3391684936564388,
          -0.9871035534987196,
          0.22901197323406677,
          -1.4926478582775742,
          0.11862306838264836,
          0.5290480111351039,
          0.5351050573284402,
          -0.32201684147131654,
          -2.0610524807066195,
          -0.572659270482588,
          0.4787590616538555,
          -0.5016441103693583,
          -0.7380066253780228,
          0.29982253572844164,
          1.2555734236797098,
          -0.45275937280262846,
          0.13220088258443083,
          1.628122025632028,
          -0.4074356955946756,
          -0.910028695072406,
          -0.7288193169852563,
          0.4913048451151784,
          -1.0941810791018878,
          0.06346012233565335,
          -0.13703853593947193,
          0.8622286049205043,
          -3.2722041121342698,
          -0.5407571153929905,
          0.5299751134128943,
          -0.6903657163075394,
          -1.114830969114374,
          -1.040298473979405,
          1.3860145155279988,
          0.6111268730629417,
          -0.5109130511581168,
          1.1331113964809718,
          -0.6080065746149145,
          -0.16833302910533923,
          -0.8764856119016723,
          -0.608623952944383,
          0.7632178154556573,
          0.23509849695410948,
          0.43448466446495276,
          0.010127018086626078,
          -0.5578855570179894,
          0.39039938757005244,
          0.3375038439615333,
          0.5047359022966998,
          -0.16296139249106223,
          -0.47499851540911153,
          0.9041774652997119,
          0.13798031655948592,
          1.117903703216061,
          -0.37029023712765924,
          0.1057252782976659,
          0.8019855158496173,
          0.7007558475739318,
          -1.1558771244518682,
          2.499142170784376,
          -0.022538316220504794,
          2.1605124241302858,
          -0.8659546225148385,
          1.4885121306107894,
          1.5061229798440485,
          -1.524367005927112,
          -1.3771617678484447,
          0.3955389576853036,
          0.3556249304427126,
          0.8423420491559113,
          0.8770297129610327,
          0.37392053393368857,
          -0.028907745742720717,
          -0.8522463747413491,
          0.8345322373957946,
          0.3774283529903788,
          -0.6930331496107961,
          -1.2826044421114682,
          -1.9248834627573863,
          -1.0201506575111716,
          0.07151045014878689,
          -1.0776215157881517,
          -0.26215501381931855,
          0.05114703530732351,
          0.991225475201363,
          1.169100996341028,
          0.8502611237373217,
          -1.2621226746018641,
          -0.020156920267952662,
          0.30205301744895313,
          -0.09512277863001435,
          -0.30801468469607396,
          -1.2268696321203127,
          0.652777661091698,
          0.6676138561978138,
          1.5906632316403866,
          -3.102520439361303,
          -0.7416877885000478,
          -1.2733165917904774,
          1.3875457723499154,
          -0.5958992897616213,
          0.0027077954366950107,
          -0.3299842749246003,
          -1.258403313005349,
          -0.3548969853340848,
          0.8184841734704879,
          -0.05828458024552864,
          0.13530593510251107,
          -1.076473773900424,
          0.9384461216558194,
          0.7920639970473871,
          -1.3645326602788794,
          2.0163949232932272,
          -0.9376818208532821,
          0.8703981948702225,
          0.6445385554360232,
          1.5377069877335423,
          0.6063655552634555,
          -0.38085956881775107,
          -0.29389317394517517,
          1.0760455482687403,
          0.0938078190331142,
          1.3955646469499339,
          -1.8411572729757768,
          -0.66060363800964,
          1.3814571480057265,
          -1.6613648304936304,
          -1.4067460923709956,
          0.05022029033422313,
          0.4380806457607904,
          -0.4711402252222404,
          -0.8243456930601866,
          0.06767815892694425,
          -1.175670922769681,
          0.37348785579891086,
          -0.013183447087985826,
          1.8427818948969314,
          -0.10808510530313685,
          -0.9146952921344772,
          1.2992756444056686,
          1.1630374512578265,
          -0.1401730239778016,
          0.5338925270346763,
          0.2581391713260779,
          -0.22932763387158156,
          -0.30411065306785956,
          -0.8628881257231781,
          -1.0115625130764059,
          1.0993977027259065,
          -0.8496498056569276,
          0.14926786726908287,
          0.022059684688433587,
          0.49491681107811547,
          -0.30987994521132817,
          -0.7441842835454405,
          0.8868667161036529,
          0.6092818579543638,
          -0.26412960441422806,
          -1.8472634864484017,
          0.8336234142546136,
          1.396411114963646,
          0.06177619780966482,
          1.0240788546680786,
          -0.13511853642922733,
          0.5069104064888154,
          0.059991193232813406,
          1.22991037246971,
          -2.5941139277892775,
          -0.6025715753750901,
          2.639971623024763,
          -0.06817941474930392,
          -2.0142267120458905,
          0.12160745410800883,
          1.045127077225557,
          0.7590308035564869,
          -0.14202515923951559,
          -0.2007544697411433,
          -0.4062220607691947,
          1.5946257279916423,
          0.662234263212341,
          -0.5350512552153694,
          1.9030333881826216,
          -0.6859887350571101,
          -1.793893674262347,
          -0.4258755939490003,
          -1.243149569627991,
          0.0019497596555981607,
          0.904811416953316,
          0.552589698826398,
          -0.02584462979706817,
          0.367232419408243,
          0.7334840971347477,
          0.37773228350448734,
          0.43632422142362043,
          0.15843614988900476,
          1.4111099963390719,
          -0.3858112944938097,
          -0.35864444040310384,
          -1.0510456304478124,
          -0.10544765394618201,
          0.1509769993156068,
          0.17172045993500593,
          -2.862043431789061,
          -0.6799326998876858,
          0.677641689624293,
          0.07360217635309647,
          0.4854221611391548,
          -0.747402741407775,
          -0.11777081306957307,
          0.48761066969760325,
          -0.10807601747786476,
          -0.15287289021870376,
          -0.5100524421070561,
          0.138401177849348,
          -0.2529959633084274,
          2.0660241200041263,
          -1.1554725484263464,
          -1.1074247580016494,
          1.2817897829916751,
          0.4123405934644688,
          0.30343674017887284,
          0.25046426328593563,
          -0.23528506027607035,
          0.9428071573636866,
          1.3570934499722778,
          -0.8385779459778911,
          -0.4746155203919233,
          0.17510760544283305,
          -0.9145944365975032,
          0.4177050777367466,
          -1.2453184528538137,
          -0.38263822833654887,
          0.08211671523221155,
          0.12589333463793992,
          0.4223809055857716,
          -1.0563105330951506,
          2.393252910911953,
          -0.6662499597114862,
          -0.3085211684632623,
          -0.3035085719776558,
          0.7743599308388969,
          -0.6017872548913555,
          -1.0234713521135113,
          1.2212549215553343,
          -0.5932216177807824,
          0.4413561547343344,
          0.6211088565523597,
          0.10962636155476889,
          -2.1498835181692946,
          0.1968500641914119,
          0.043915188616119365,
          -0.6752593990246102,
          0.9119460392225794,
          -1.0711252090145693,
          -0.23954132069386413,
          2.32095237457824,
          -1.2497892340243666,
          -0.5424509311783685,
          -0.9149680360315957,
          -0.21721226571151198,
          -0.6236749207314943,
          1.4114005986202351,
          0.38673295897780424,
          -0.543500813116486,
          -0.2960245411797753,
          -0.7843264679390078,
          0.8920064664731375,
          0.1516056963692237,
          -0.4440292170972957,
          -0.6109847553037179,
          -0.14661661641997123,
          -0.8393846857004968,
          0.06944068664903288,
          1.3877584471850046,
          -1.2729040076053928,
          -0.7261134225038126,
          0.6114046418400281,
          0.3608959705385595,
          0.241481283939316,
          2.006186700528903,
          1.0129807785749858,
          -1.0586329352649195,
          -1.939260386102037,
          1.6479533642789141,
          -0.6990106116574086,
          -0.6341877352574552,
          -0.04841810843663451,
          1.4004888807077827,
          0.6906149768117658,
          -0.053938744886262,
          0.5331819469648194,
          -0.6183551738037607,
          2.2255226309103433,
          1.7487585415967273,
          -0.2524279617776586,
          -0.4550071845374643,
          -0.3726510408355911,
          -0.0796709003368232,
          -0.3623358233410878,
          -2.382365333226615,
          -0.0356231750071922,
          0.599670188501858,
          0.3029842254674085,
          0.4742897540686726,
          0.3970138624976535,
          0.1377203061004834,
          -0.6592646354775508,
          0.7751360230789177,
          0.28486099169905155,
          1.2918034755757595,
          0.07437164454725456,
          -0.6404955562295052,
          0.20705144565793576,
          -0.5843790564953733,
          0.4278956117712746,
          0.05957453905148126,
          -0.27951957950799494,
          0.8507456997245841,
          -1.8408602428247476,
          -0.5129270548413821,
          -1.1899235926395555,
          0.7346203962989885,
          0.7743841922699918,
          0.30158695998532753,
          0.9344379091911414,
          0.49922343119825735,
          0.40700347270959364,
          -0.575249098641437,
          -0.16849506780766224,
          0.6348064347551365,
          0.8559931210521706,
          -0.3212292932752388,
          -0.6309962156734918,
          -0.09941597383689167,
          -1.671070568348376,
          1.5273973086161938,
          0.9928605150145453,
          -0.8466294574158605,
          -0.8339364015116297,
          -0.06741798607930799,
          0.09416094373317159,
          0.6209075342395365,
          -1.4821298078070557,
          0.19330680135602396,
          0.7885069466293579,
          1.2378890362316777,
          1.0228876440656052,
          -0.3260139858209956,
          -1.99644730190575,
          -0.38781888632764616,
          0.5955017738541051,
          -0.9079045182108563,
          0.1598397369341334,
          1.23254030260034,
          -0.8960322421849757,
          1.0292476255529666,
          -1.6329182634485035,
          1.9715724665389456,
          -0.4818931995563132,
          -0.4807031735595589,
          2.327529146025154,
          0.6096220958417999,
          0.931267828836524,
          -0.32647838963395526,
          2.5638739952369707,
          -0.751544309665691,
          -0.15871792722688416,
          0.9085395754679643,
          -1.4532700696637377,
          -0.19251233320636102,
          0.5191998016528404,
          -0.11267714909765753,
          -1.1532585262833415,
          -0.7790136992371313,
          -3.022056131271473,
          1.4476473595351038,
          -0.8280783074720713,
          0.14953567175031815,
          -0.05125349921308272,
          1.934038767718771,
          -1.8612924514921236,
          -0.40130882178988103,
          1.8452140876933574,
          0.664065235799578,
          1.8174539614909087,
          0.38681059416174784,
          -0.8888421517113467,
          0.1845218330524975,
          -1.0004023333565608,
          1.3600038770682126,
          -0.05005172140983748,
          0.354598899176993,
          0.42645892297886995,
          -1.0550545248821341,
          0.3308964732541786,
          1.4279720513592915,
          -0.599523958820229,
          0.24435082968335467,
          -2.031113355084784,
          -0.910161671245069,
          0.19890695454577206,
          -0.9377185002026597,
          0.03979375125771909,
          0.20281489242974027,
          0.43184103493622666,
          -0.7939908667848755,
          -2.613393219186323,
          1.2090294151258238,
          -0.43564310089630953,
          0.7645601933006598,
          -0.9786374808596422,
          -1.451840261072697,
          -0.5051076869025126,
          -1.5748902301661023,
          0.5174956140041486,
          -1.1062926984620864,
          -0.5979857632969,
          -0.03315444204177282,
          -1.3379306646061064,
          -0.5344468199400656,
          0.9147374275537713,
          0.6850751377636299,
          -1.1633964562812869,
          0.09600429771645111,
          0.6784665599782629,
          -0.6080641030406191,
          0.5337318020497916,
          -1.4264345911626541,
          0.4927075834256155,
          0.15619367707092022,
          -0.5832326419210845,
          -0.16762851713570948,
          -0.24814448005601217,
          -0.5373434164815295,
          1.69292663124603,
          0.7310385292573197,
          0.5131611314152434,
          0.15861454300913824,
          2.8617673264904275,
          -0.7985793101553309,
          0.2919590539915385,
          -1.2586099188380035,
          0.34037333000295306,
          -0.1114996328822923,
          -0.31421410394139987,
          -0.3713385610316998,
          -0.10651236110444362,
          0.1590233829742685,
          -0.785198370619354,
          0.45266607036140444,
          -1.4397750207697693,
          -1.4672838868173923,
          0.8181132188948996,
          0.37543214196974356,
          1.0575197037744584,
          0.753556873033741,
          -0.2649729389603487,
          -1.1094630150018103,
          -0.8535826045949485,
          1.372822834541972,
          2.8979082540028775,
          1.064812309057188,
          1.3495282089926584,
          -0.3540327584728591,
          0.9090569179918563,
          -0.09390717035874413,
          0.24095311616788617,
          0.48265369016188864,
          0.0281089191966677,
          0.1810769548763576,
          0.22443475197427953,
          0.0448693265162713,
          -1.044604268160965,
          0.8814553947435579,
          -0.30778583889040223,
          -0.16723092074188664,
          1.1225358497652107,
          -0.002209216032723984,
          2.059670910982299,
          -0.4334876164614738
         ],
         "y": [
          0.3279828271227054,
          -0.6554915395089348,
          -0.2445630740894806,
          1.323591772572846,
          -0.214918627976312,
          -0.4910782139566471,
          -0.6513185791620149,
          -2.036069373634973,
          -0.4311831747579831,
          -0.33024198874944444,
          1.5328593324277806,
          1.1415986052231533,
          0.7890570825617523,
          -0.6900527332815405,
          0.5148657410583601,
          -2.005222481484949,
          -0.720111006232243,
          0.5089962062164424,
          0.18934506611900184,
          -0.7060442134639205,
          0.11277474321089605,
          0.04020850917428573,
          -0.36056871641980626,
          0.32127047137643655,
          -0.15727621476042802,
          1.3962844594982171,
          1.732059865634372,
          -0.3975348519130771,
          0.02733534381888954,
          0.3264546234073273,
          -0.31342159384933743,
          0.8830727845003783,
          0.864205620248621,
          -1.887763144457249,
          -1.112324079794874,
          2.1593489658622693,
          0.016552412721885065,
          0.6458225187215357,
          -0.28918974965679317,
          0.2982397484388114,
          -1.2530529816137561,
          -0.49737930163121846,
          -1.054649051537323,
          0.07385840654550234,
          -0.0006751787981462029,
          -0.3833901254367819,
          -0.7400969217225724,
          -0.2345957947013203,
          -0.6030782656325261,
          2.0678509615074585,
          0.4682542414412787,
          1.701828509517181,
          0.34247233418418394,
          0.8331313963967607,
          -0.4369113391120193,
          -0.21346643829479925,
          -0.3281701745162419,
          1.7389466636747506,
          -0.03285469412796877,
          -0.3918528182974177,
          -0.1919024154915431,
          -0.15826609251175455,
          -0.2954595939978773,
          0.16856474044487513,
          0.004379570881792277,
          1.056093652294252,
          0.08033907121967532,
          -1.3192552105761042,
          -0.5934803456763137,
          -1.2126290629027447,
          0.0730425284364768,
          -0.08980365957578115,
          -1.6722310461595724,
          -0.2016057083985274,
          -0.41500777595094995,
          -0.6000064237873052,
          -1.3790974989152918,
          0.9707682293054809,
          -1.7482136338061727,
          0.8623422951281604,
          -0.6995816074896681,
          0.8924667160862807,
          0.8052475891730865,
          0.6843751379383581,
          0.03399545038206872,
          0.4423821418433591,
          0.5386121617791062,
          -0.05046600265022503,
          -0.6225934228397864,
          -0.9071792314100172,
          0.773069149035849,
          0.7009392255969021,
          0.47920472775758255,
          -2.2885807098400117,
          -1.9017667741088216,
          -0.4199096890366355,
          -0.9279809278762318,
          0.9289913751962148,
          -1.1083329031232634,
          -1.0789949420766232,
          0.639663893786085,
          -0.5560683203271154,
          1.0284939648999336,
          1.1950128684335686,
          1.6737280708321813,
          -0.9520075518124264,
          -0.30931203973707816,
          0.12231904313934441,
          -0.3873432700782404,
          0.8939142211341479,
          -0.6422848334478379,
          -0.7093115499428982,
          1.8643373891957329,
          1.4378294557910287,
          0.9863421078526032,
          -0.22290250918561152,
          0.7716941652232084,
          1.1234636427233649,
          0.0736420276846904,
          -1.4824451386264457,
          -0.09723898054175877,
          0.6150582942818204,
          -0.5930572850154624,
          0.2967674072122801,
          0.3616378281992319,
          1.036457937119664,
          0.8644849875271567,
          0.48941108779449455,
          0.8707828942209734,
          0.8182400745444003,
          1.504609332284832,
          -0.9223328502975204,
          1.9675361179012842,
          0.03363768820258585,
          0.8946468354448597,
          0.44025373871302315,
          -0.6411881261747571,
          1.7438003406360418,
          -1.904542086896152,
          0.23931964476470688,
          0.15803561141697134,
          -0.7494289017255807,
          0.6027121582412965,
          1.009519574637218,
          0.763443977662867,
          1.4848181902568238,
          -0.6114983515789046,
          1.1874034520705248,
          -0.8400474381707093,
          -0.3821769218359775,
          -1.5452411242888204,
          1.2169574502590161,
          0.023694508444637608,
          -0.6023966138811193,
          -0.43468028544499154,
          0.09498331661893714,
          0.9805168623091922,
          1.4113550930204097,
          -0.3336772364984587,
          0.5446954464407218,
          -1.268438950006229,
          1.555524121160982,
          0.4647882472158709,
          -0.7657828839316969,
          1.646337297024354,
          0.06672196414968169,
          -1.0049028056327447,
          0.10453366258573289,
          -0.37921835661719383,
          1.4664535638937697,
          -0.46437288964387075,
          0.37378377029347326,
          -0.7561419322029215,
          -0.29100115180528524,
          -0.13704191435907756,
          -1.5256020598466813,
          -2.16997422986413,
          0.003219644300160437,
          0.9092316550442338,
          2.350328202890156,
          -1.710502134596758,
          -1.8538070023040252,
          -0.13006322932182315,
          -0.0752969974245595,
          -2.5257084588790373,
          -0.24006800307078696,
          -0.381456322402232,
          0.33887335992559786,
          0.4560348094075917,
          -0.3322632741731198,
          0.8291416280211739,
          0.4270950412723662,
          -0.8633325636889995,
          1.1369962102779736,
          -0.32821098296755186,
          0.9628499436505129,
          1.4759368742730368,
          0.6717698916819577,
          -0.3059922823428843,
          -0.3808458580649111,
          -0.17805518225772105,
          0.6235777112571613,
          1.7508006897719095,
          0.17909781542816547,
          1.2233320538667452,
          1.9364220786437647,
          0.7967581111602734,
          -0.08975565091018753,
          0.12395636119567731,
          -1.4173755734288023,
          -1.7717131410076017,
          1.814212506363958,
          -0.8184205526371282,
          1.231017771471893,
          -1.1123355049572523,
          -1.1115680534877597,
          0.06144637670915448,
          0.16569595477260857,
          1.2149676875568274,
          0.2421668695943099,
          -1.3121479790977821,
          1.5809147694557677,
          0.4128748128288891,
          0.06836643355382502,
          0.3314785167020645,
          0.5456073495483005,
          0.6964798678900453,
          -0.11730607600942039,
          -0.4799690248892318,
          0.3243923492778683,
          -0.04089268417880769,
          0.194022482428236,
          0.6271740038412962,
          -0.28518447966393495,
          -0.41080775491852856,
          0.20822243860071882,
          -0.6063257394809518,
          2.4235368761176814,
          -2.080424921109838,
          1.193265698731343,
          0.649679799362714,
          0.0715546755593639,
          -1.177573312308236,
          0.14717516866442376,
          -0.48427824356481114,
          -1.6630703662222055,
          -0.5723954971321964,
          2.44063308508458,
          0.2352783531392655,
          -0.18921117885701433,
          0.8652659833274678,
          0.7601251642755597,
          1.4926512442981639,
          0.10356083621984717,
          0.9019034927867711,
          -1.0715964468678707,
          -1.3109044617648977,
          1.170433346287379,
          -0.5982428890660263,
          -1.2507220809853077,
          0.5840159378710957,
          0.11644965218544584,
          1.275276327444662,
          0.2235246461817603,
          0.966936033457448,
          0.3534647973797969,
          -0.06894428280248457,
          0.16492086955492366,
          -0.8695726656621283,
          0.5172174703328027,
          -0.08034919140029141,
          -1.8662952679949263,
          -0.6323407058752366,
          0.3352245196125138,
          -0.622781371769194,
          -0.5375758461760765,
          -0.33392163066379665,
          0.475953907610267,
          1.765958119006514,
          0.772522139829925,
          -0.31977611123748784,
          0.4683632749161836,
          -0.5878734337002066,
          0.11958877227744993,
          -0.10923906674464237,
          -1.0210788575285459,
          0.76870591224112,
          0.6682948814095425,
          -1.0312310810627021,
          0.9147392504969409,
          0.22576917094465343,
          0.8288088098038501,
          1.4148876521932563,
          -0.2964801588914905,
          2.0932520700556374,
          -0.44912901790402066,
          0.15610648919883374,
          0.45708150398520314,
          2.0960995238920943,
          -0.9185421664391916,
          -0.2343295326596369,
          -0.5025031552541082,
          -0.621585832902154,
          0.3649541552882968,
          0.6743812542992246,
          -0.971671109103143,
          -1.0474005071868917,
          -0.9051877439423042,
          -0.3675593157683274,
          0.5037332460583621,
          -1.0732883734873326,
          0.5021679901222107,
          1.6845834973317346,
          -0.7414090389825054,
          -0.5502545670769105,
          0.44282180975984264,
          0.6212992240855106,
          1.8401658919277861,
          0.6470207330808704,
          -0.41905446339182884,
          -0.698584506528805,
          0.20480434859010577,
          0.48749134035643205,
          1.2690819118923369,
          -0.34885937535474476,
          -0.47371899262692485,
          0.01825022192999286,
          1.7594961128951145,
          -0.5671989692194241,
          -0.8775310329768918,
          -0.43595822350546515,
          1.5017015984341922,
          -1.729784348118612,
          -1.6899101825409124,
          0.0971089169435007,
          -1.5780548434858013,
          0.3709452920259764,
          1.1567614191648932,
          1.3931843242934243,
          -0.703995733878707,
          -0.6580586433358405,
          0.1810765601332112,
          -0.7949379479970795,
          0.6787661496918003,
          1.2141108803314744,
          -1.3918487561674644,
          -1.5620203830113515,
          0.018724583370825314,
          1.0583858169384266,
          -0.05740555683910667,
          -1.134596054866429,
          0.7488755385089895,
          0.5946910842407895,
          -0.3321642667753782,
          -0.8132977224379521,
          0.04500897139453175,
          1.778358771998085,
          -0.2904988529986872,
          0.1810616944560105,
          -0.2567794298576,
          0.10885315157820129,
          1.3211772055886895,
          0.2322706433265681,
          -0.07853276965202913,
          -0.488996891213912,
          1.4686318983720716,
          -0.5268460220143774,
          0.500500471942375,
          0.23004532825760246,
          -0.35321049190375825,
          -0.6454608214338778,
          -0.5430457025496392,
          0.7716518000081508,
          -1.15052759949589,
          -0.033427949490225144,
          -0.1578889329088527,
          -0.24067808567441207,
          0.08817953662213272,
          -1.3364711785085477,
          -1.8576312647292554,
          0.9612663152166268,
          -0.18747553293741281,
          -2.209448678463319,
          0.12773958012216013,
          0.030402114486876887,
          1.037341258228076,
          1.3805972688600225,
          -0.5436567652461255,
          0.47600781728552843,
          -0.24480718424834735,
          -0.6042861113671426,
          0.7025424731406322,
          -0.18735635365670913,
          -0.5649800828662717,
          -0.11662108311765822,
          -0.13423395044060812,
          -0.6484814676934291,
          -1.029160103707042,
          -0.08350374948149612,
          0.886615971434463,
          0.7888123748333077,
          -1.1895084109288758,
          -0.3622928896084102,
          -1.0792948482817153,
          -1.1197571869199419,
          -0.6725531960922477,
          0.3309336041013679,
          -1.0001657763836211,
          0.5384011395943772,
          -0.29787831218413113,
          0.4961928148628981,
          0.817815705649353,
          0.447945803823095,
          -0.41803607407730853,
          0.04837049538814449,
          0.5453566469821906,
          -0.3153543962912405,
          0.8795648549160516,
          1.9679406288275594,
          1.577382873284504,
          -1.8862163047329403,
          -1.0682935134689127,
          0.7413355765244534,
          0.30616620728189375,
          0.6645950249478528,
          -0.5638619649737204,
          1.6250084400945406,
          0.19968743425237054,
          -0.04905569784767077,
          -1.2337487090991603,
          -2.2795602544978673,
          -0.7835983940125028,
          -0.49827666128818343,
          0.1356572900470479,
          1.1543160438994253,
          -0.8455073430796941,
          -0.5109244014379247,
          0.6377079541995835,
          0.5293320614319698,
          1.6339241233242308,
          1.9822530381248886,
          -0.7706840517798681,
          1.0436724956396004,
          -0.9406273639172111,
          -0.009255518400016281,
          -0.6970383452864871,
          0.8166408508444413,
          0.88881622742138,
          -1.7474321922429332,
          1.525850932502605,
          -0.2698395797714648,
          -1.489002161931051,
          -0.2394899783321037,
          1.4060747691527815,
          -0.4240100951790189,
          0.5176318689332038,
          0.1464257614728791,
          -0.5004050122238421,
          -0.5534404349738039,
          -0.08635527227889638,
          -0.2398424412659461,
          -0.3985053010202278,
          1.138576085099483,
          -0.8006819777921009,
          1.5653961850432874,
          1.3094301277550748,
          1.6472758216200343,
          -0.9364302780717217,
          -0.5105520468890363,
          -1.2962407756666277,
          1.566796999296539,
          1.2244003631522296,
          2.181445087759499,
          0.6246404789397506,
          -2.0014227485933933,
          -0.4105313167170375,
          1.6098113983269808,
          -0.78457581920878,
          0.27366831542353887,
          -0.07135326410329272,
          -0.3784828500964987,
          0.8123824575907131,
          -0.3060670062342461,
          -0.34092272954312985,
          0.6431371986815961,
          1.8251596993286308,
          0.0543418802926505,
          -2.3571411306327055,
          1.5780647666973113,
          1.6206967362118836,
          0.20756055441904975,
          -0.8702876761064203,
          -2.4297328541826637,
          0.7663792543972936,
          0.599606771895272,
          -0.3641806459581053,
          -0.7649538615265721,
          0.9107277050799071,
          1.7563668991697197,
          0.15446929331227052,
          -0.7429429934782136,
          -0.3005062098019573,
          -0.061876078365667865,
          -0.38775429258242533,
          0.25603159403998843,
          -0.08208669358469038,
          -1.283493856848448,
          1.158597625786792,
          0.5653802710317791,
          -0.07062145267381237,
          -0.7408358575640234,
          -0.6730443964714443,
          -0.3896306461451399,
          0.041216527289122167,
          -1.4148520981045574,
          -0.1356824758846472,
          0.6360707605076035,
          0.21784697490288085,
          -0.5172938609819994,
          -0.5794161769307917,
          -1.5337891018817882,
          0.24565905598488325,
          -0.08147870615038118,
          0.26638661739372543,
          -1.6314504202078652,
          -0.40618752610789893,
          -0.41297760898028585,
          0.09184579401726056,
          -0.9151665605986344,
          2.426589025163136,
          -1.2505464447705366,
          1.3321814653154862,
          0.045328278490912234,
          -1.2098651536485432,
          -0.3395547730305797,
          -0.11834995175939803,
          1.7820888280082139,
          -1.769053411689105,
          0.3278753881310146,
          1.5420985343766573,
          -0.3348417755495621,
          0.24107743859978248,
          0.7576408348030629,
          0.6999181247257267,
          0.6893408174875596,
          0.5769467402871696,
          0.9287246328376889,
          0.16037693539299458,
          -0.8393493934134685,
          -1.2803562183977155,
          0.5416297053633383,
          -0.5532040302345131,
          -0.9020576499390799,
          -1.4682323304079654,
          -2.4228732227036,
          1.544401007462177,
          -0.5809483426423986,
          1.4682567125175867,
          -0.041873855819982445,
          0.11807054806682273,
          2.622088215057981,
          1.340659611784691,
          1.6089218446985365,
          0.5178402362238212,
          -1.206647718043715,
          1.6180057829013559,
          -0.014842582342185691,
          0.370521050384735,
          2.174923720956008,
          -0.23259681213902084,
          1.455498381033747,
          -0.6946041029457991,
          -1.3266409580846519,
          1.5182495923138337,
          0.23847109028509003,
          -0.17021607826488475,
          0.24796937027124483,
          -0.8257163654245926,
          -0.8087796121341156,
          -0.740757023167438,
          -0.8452606180630826,
          -0.3778279745213027,
          0.17800451728075992,
          0.059506965315302744,
          -0.1982922874628263,
          -0.4611685920581093,
          -0.6052785798147478,
          -0.4586198202258025,
          1.937772824627981,
          -2.1280173522331616,
          0.0159941545743586,
          1.5497745314628226,
          -0.3404419229412727,
          0.5565018412318551,
          -0.4984406537166575,
          1.2955062035779452,
          -0.17108685415167582,
          0.6448274014407039,
          1.1738000980107215,
          1.260690754618499,
          2.3759802937936625,
          0.7889305543168231,
          -0.7502761769025853,
          0.08638286727495634,
          2.17350654924206,
          -1.5856224953125695,
          -0.3249652412338011,
          0.05110253086138173,
          0.7782027470454177,
          0.34185486299075474,
          0.7632829714944249,
          -1.07735259149623,
          -1.1067351285615794,
          0.05619537025375124,
          0.6783287317134408,
          -1.147989373854023,
          -1.4771167416404185,
          -1.2387541445325305,
          1.0843703804748137,
          0.46280208577001936,
          0.2270409426913955,
          0.8057917515042888,
          0.9261115578214317,
          0.36565046137808366,
          2.0346821414190837,
          -0.3286661040943808,
          -0.6273699680166281,
          0.3551429399073792,
          1.1970109568711942,
          0.6635474255155444,
          0.5581702220793212,
          -0.16137719048918953,
          0.45192806680974534,
          0.7172250670468234,
          0.8120211585462063,
          -0.5415996015773565,
          -1.3765820967909939,
          -1.2672136661287199,
          -0.46251442910440843,
          1.651198613537196,
          1.354187946225891,
          -1.2283882148912433,
          -0.36485043107192705,
          0.17050843944869046,
          0.16233049072934433,
          0.7577506580830479,
          0.2248176350087582,
          -0.8040531623893834,
          -0.15734007088645813,
          -0.6413955633677532,
          -0.1557886736625039,
          2.766015976439774,
          -1.937691651442136,
          0.5090412361631574,
          0.9015256737427468,
          -1.5967799117645463,
          -0.48198151217131296,
          -2.6206620934650786,
          -0.1752390527636628,
          -0.07744317897848803,
          -0.47339826895388415,
          2.119236732654957,
          0.22607411960069249,
          -1.9106000391812663,
          -0.405974172008401,
          1.211462644643272,
          0.426511759547951,
          0.35347193372559954,
          -1.1201468661236718,
          -0.20493200900657563,
          -0.05753866281482202,
          -0.9864117135399162,
          -0.039536232631438545,
          2.207054772305608,
          -1.4012977392996173,
          -1.7217554182168775,
          2.3329858848739415,
          1.4162542074715085,
          -0.31326677962949523,
          0.36772240983791094,
          -0.0646530139314882,
          0.7454779413092623,
          -0.3414691911310361,
          -2.0858648568830143,
          0.1086966918547042,
          0.13849045690555128,
          -0.010495001419071866,
          1.2203768419104444,
          0.5651234880959118,
          0.5349070488136881,
          -0.5658479785670423,
          0.4305298353164824,
          0.6238536128418641,
          0.6765788673461999,
          1.7014584942987128,
          0.8401561988939273,
          -1.661025315455506,
          0.006540075761088514,
          0.9808127620195227,
          -0.5402283198361271,
          -0.2443922144730148,
          1.5562638725550746,
          0.1415177477824165,
          -0.5491005343789581,
          -0.9222741883566749,
          -0.4280918782726587,
          -0.38758220941460303,
          1.978609285089228,
          0.20826470169824166,
          -0.38255463162548214,
          -0.6826490326278571,
          0.17961327749315406,
          -0.6582256068052789,
          1.4877828578959258,
          0.9358786812978711,
          0.38335862914242497,
          0.311712756072296,
          -1.2773169387189993,
          -0.5324376954208059,
          0.208941026642975,
          0.5192408797790974,
          -1.6764567740402363,
          -0.4792064057114358,
          1.5509913276568685,
          0.5310360298547596,
          0.04608848818527624,
          -1.0195972606509067,
          -0.332929386967241,
          -0.2452922079297508,
          -1.5174086963488378,
          2.099412604813096,
          1.1760653933861198,
          0.07082742062569168,
          0.6036962545911778,
          -0.7120752954966234,
          1.4623827490853163,
          0.04045575670874869,
          -0.1329506197710046,
          1.0339893864320397,
          -1.8465107418452062,
          1.0871110287942376,
          0.7453811882131824,
          -2.3950146928763814,
          -0.9581478048223888,
          1.909656576556548,
          0.7652380421842295,
          0.433785958986409,
          -0.22748334179931803,
          0.1688824906115928,
          0.356315999603589,
          0.4731447151569786,
          -0.12314808374136392,
          0.8336171899370517,
          0.7803699181953706,
          2.9488225462991005,
          1.1484869436143699,
          -2.047305139915231,
          0.9417123084741784,
          -1.9327386861703615,
          -0.10904426659509825,
          -0.6201307628193452,
          1.6000896736391754,
          -0.3655191383181186,
          0.12274834958312886,
          -0.9821520030731966,
          2.454240762968184,
          -0.3790312196489305,
          0.20886560698923753,
          -0.24119014629580893,
          -0.5782230033263778,
          1.979292544517329,
          -0.23652813403861153,
          1.4794890267999052,
          -0.8644444453934214,
          -1.4172684837493608,
          -0.18260603115679705,
          0.20305890851714148,
          -0.25371643437478975,
          -1.0823126814659396,
          0.7114346176946328,
          0.47687419577788775,
          0.5492523102763606,
          -1.0516644092607546,
          -1.1804186516360633,
          -0.7552365482772609,
          -0.43301157815644487,
          -2.5327325295793504,
          -0.13961548456749714,
          -0.059691536654310595,
          -0.06398495960467274,
          1.0751433375296817,
          1.9541152432006579,
          -0.33887974359965883,
          -0.2545072961373247,
          0.654757217347639,
          -0.5102177166062856,
          0.5298749971384473,
          -2.1415210894365395,
          2.268993319509174,
          0.324328209767448,
          -0.5716892451552427,
          -0.12030190578060145,
          2.116966013220652,
          -0.5765575386239687,
          0.09937327527644205,
          -0.3846873570791751,
          -0.46184901292985675,
          -1.3700360639640812,
          -0.28265790399717156,
          0.39224073415282473,
          -1.6990066483629171,
          -0.6820061820908189,
          -0.18231582251538386,
          2.549473915006407,
          1.2847258508304376,
          0.10540938782750545,
          -0.6457482587315359,
          1.3131713206263398,
          -1.6678304952088965,
          1.3578898878053625,
          1.1453583384652324,
          0.7487743648148185,
          -2.293563476116307,
          0.7190476052629161,
          0.48914174120947806,
          -0.3755966651003456,
          -0.8586563195918455,
          0.3311987067933018,
          -1.795115768141528,
          0.22095758830757384,
          -0.6147055098250552,
          -0.0027311612719340423,
          -0.24811353668438893,
          -1.1621892581299866,
          1.0273517982446279,
          -1.3863336607934373,
          -1.0932201500813086,
          1.1787247582722316,
          -0.030997360636201315,
          1.1660657980778928,
          0.41444560212902054,
          -0.25725376341493406,
          1.117825720836243,
          1.0734705099764794,
          0.5007958110365639,
          -0.980414444791252,
          -1.3607590520788746,
          -0.7513735496899057,
          -0.4466726305087601,
          -0.44850778168768607,
          -0.06314981562680115,
          -0.949984337797301,
          1.6820691407697033,
          -0.5799421691113477,
          -0.8244030632258336,
          -0.24123579530601783,
          0.39505051934833857,
          -0.6121781616075451,
          -0.5748756241936295,
          0.12532666711231286,
          0.5116176384130419,
          -0.7882638956818595,
          0.5594133282432766,
          0.7370438239140962,
          -0.469900929427513,
          -1.4641653865496342,
          0.6543458144891008,
          -0.12738854459766127,
          -0.5484037504803588,
          1.2305973003098711,
          -0.6920170352200768,
          0.1354374593596831,
          0.1311689617554538,
          -0.17899228509261736,
          0.3692903537897325,
          0.6241482414087994,
          -0.8306952538783509,
          -1.015963143987445,
          2.434438838162473,
          0.0578759300060282,
          1.7003569404406405,
          -1.4028867349611935,
          1.1949729923286094,
          0.4886643391689927,
          0.7678609949790044,
          0.5210773442624482,
          0.7272128111041574,
          -0.22814194128253584,
          -0.5090269479618047,
          1.6106483082112453,
          1.086962629702942,
          -0.5238619095374597,
          -0.354538694927799,
          -0.8077704755166039,
          -0.3176963209647692,
          -0.5475204443614081,
          -0.6975158643125464,
          -0.5045701964035298,
          -0.7989060162181122,
          0.42756191321316556,
          0.06969393259882775,
          -0.106046160022364,
          0.7198371214531073,
          -0.461358140727644,
          -0.48612353194335917,
          -0.9170603508775579,
          -0.10559189368911347,
          2.1553915055015027,
          0.34088685477914304,
          1.022701826708063,
          0.18228177066559603,
          -1.706383979007903,
          1.0063624181722184,
          0.13069082655545455,
          -1.648212919706709,
          0.025152068471329957,
          -0.16971957873526533,
          -0.5913432596174062,
          0.44168543715067815,
          1.263248787015144,
          1.6701015676681923,
          0.06093256743684173,
          1.4224574078022927,
          -0.40518861569367326,
          -0.5454158255344745,
          0.6595590093424665,
          0.892482673280302,
          -1.8561928765831726,
          -0.045447764728244536,
          0.13689268374140315,
          -1.3897099069501713,
          1.486901076923967,
          0.020395298285855123,
          -0.23944517159032816,
          1.0266559010580678,
          0.1536446454315203,
          -1.0624896254356746,
          -1.2805861897371238,
          1.406944936085073,
          -1.3133377533922928,
          1.385586138911411,
          0.12292806594741083,
          0.6011956085811007,
          0.4933130674934834,
          -0.677776608271759,
          2.4118163317219654,
          -1.2552958232053304,
          0.45131704573783965,
          0.27694667377830506,
          -0.6377169552614552,
          -0.09126311657850497,
          -1.6930816295422062,
          -1.7324451987382572,
          -2.081600582498949,
          0.7488582028651006,
          -0.2767560030898708,
          -1.6285474026390518,
          2.4162764513614596,
          0.11483057310071812,
          0.5960245800347452,
          -1.0176331913655925,
          0.9526792017970742,
          -1.7354708089013182,
          -1.7073600980381745,
          -0.9659436537019881,
          -0.7848824844071036,
          -0.2067689589958083,
          -0.8503750440398395,
          0.14639507298177273,
          -0.7084945957091916,
          1.1309976117851592,
          1.7864988207995953,
          -0.11341150643503038,
          -0.5562548554064288,
          2.3154014668134555,
          -2.2507620112172035,
          0.7633048297935482,
          0.400219105101222,
          0.8321533939717395,
          0.38384723393857356,
          1.394318209822499,
          0.6266962025221278,
          -1.0425200521584872,
          -0.827169181944695,
          2.001028380230189,
          -0.5664763291820247,
          -2.273464271553396,
          1.3233975635497426,
          0.604955307918998,
          -0.3066434935062956,
          0.09369748079443077,
          0.9027913070448971,
          0.24718712943138507,
          0.2059341520453218,
          0.39633639937381954,
          -1.1989564888115556,
          -0.9296182642412004,
          1.6538038034894054,
          1.4911040114162528,
          0.5876093474218769,
          0.26076184164740795,
          1.2257961563105189,
          -0.86257601748098,
          1.0129242476069078,
          -1.938904537641541,
          -0.3271551331467637,
          -0.14171398597843843,
          -0.2663717867297125,
          1.3717102504166834,
          1.418255311602419,
          0.8462210494835063,
          1.0496927528952222,
          -0.5683758727478483,
          -0.6845399903911047,
          -0.09032992161938352,
          0.21511643854851045,
          0.22041374635495053,
          -0.9152715814691472,
          -0.6542412746704197,
          0.18024457493452384,
          -1.0723141260015645,
          -2.101257189788807,
          0.7493557975492628,
          0.11987941564535971,
          0.14860657159770754,
          0.5976340186011977,
          0.5476851432905274,
          -0.7612876683300512,
          -1.1599494891218503,
          -0.7057785001132578,
          -1.1109497300945466,
          0.7829865880013965,
          1.6641380478426175,
          0.3784155284745806,
          0.2569477941133117,
          1.1659608666674022,
          -1.7125440686533326,
          0.8002451483669638,
          -1.0492377917247953,
          0.6224658638599329,
          0.7447310264548054,
          -1.404071938345622,
          0.8257676508348105,
          1.2652728315374822,
          0.6653061335101094,
          0.7550998229678324,
          -0.8085340087035321,
          0.35231935611334125,
          1.2267176669237592,
          0.588487755570501,
          2.073523787100513,
          0.17722686129152918,
          -0.3209950253742527,
          -0.4115873725466483,
          -2.007968924337172,
          -1.0979617657584793,
          0.05312583921513588,
          -0.33588394993290493,
          0.9908792657117612,
          -0.9198277965094857,
          0.2895692775973365,
          0.18299715087246088,
          -1.2224155147304965,
          0.5357892471754497,
          0.5023321383527007,
          0.7448106104702776,
          -2.434318284251191,
          0.9545992291094568,
          1.1377135713600395,
          2.2422613898691397,
          0.2794645762449036,
          0.5883754428631554,
          -1.505505037759534,
          -1.5588874569642635,
          -1.1378519744421989,
          -0.5906198919157917,
          -0.5652388412442615,
          -1.5502280824872081,
          0.4462320320234879,
          0.886574121702394,
          -0.5052514561384098,
          0.1630557585773423,
          -0.6251566001590962,
          0.4172012089163615,
          1.5650723499024046,
          3.1510028632611746,
          -0.8294282159523589,
          -0.18827191386216394,
          0.30118104183883415,
          0.13314075633534353,
          -0.6163428906313669,
          0.5467717681436842,
          -1.3394836204949692,
          -0.23278904586359672,
          -0.9315671792047798,
          -0.4959537689497852,
          0.3318616776145875,
          0.025110522650526806,
          1.9181515787478833,
          -0.9009581585502271,
          1.1259684375769314,
          -0.3746195956156099,
          -0.18459654990995153,
          0.05329236208163859,
          1.4876024795429894,
          1.4222892731007675,
          0.8576830963737989,
          -0.4899591145668491,
          1.1984082006896595,
          0.10957164585855207,
          0.39060597871041614,
          1.1945763520792743,
          0.06246587280168204,
          1.1346280051477817,
          -2.2145034785254682,
          1.6270887007494002,
          -0.9352574283492855,
          -1.642484511614807,
          0.6678182423026755,
          -0.2862314782668338,
          1.8493718164329098,
          0.9725148806602043,
          -2.6148787804465576,
          0.22490259816305347,
          -0.3606419019974731,
          -1.1377699218225834,
          -0.4728402746187226,
          0.05059996647499389,
          -0.4466751808893405,
          -0.9400731126148769,
          0.09185606554872235,
          0.10317352973297816,
          0.26794637395532006,
          2.059759854596986,
          -0.4192653460719656,
          1.62018143194669,
          0.5839008924698657,
          -1.2931770175264021,
          0.20859990387725083,
          0.3355876372829321,
          1.4902965884800417,
          -0.6442326046888307,
          1.8528031182414175,
          0.11130845219890498,
          -0.18931543388986996,
          0.023084113386401567,
          -0.462385624843926,
          0.25672109213485705,
          -1.1720492771426365,
          -0.14631072754938487,
          1.6346820885306252,
          2.2152349915163483,
          0.7016174189358786,
          -0.5523109934573043,
          0.8639165633392512,
          -0.1637935300728029,
          0.47718714783042715,
          -0.05921865204250967,
          0.011906842039099433,
          0.24167118486916636,
          0.5765035904593343,
          -0.8142642878333869,
          -0.6297380725462234,
          -0.29721501560705893,
          0.9132364367885667,
          -0.28837727784409123,
          -0.25264563131371626,
          -0.513250873511023,
          1.5048108833035696,
          1.0690266631072205,
          1.1555221611211206,
          0.5877313327913722,
          -0.4498986463424155,
          0.5420423228700577,
          -0.7916580416891217,
          -1.5365440042632028,
          2.27143504871205,
          0.6861768776833306,
          0.13536679209165725,
          -0.8990381133994442,
          -0.4752027681712476,
          0.6508258219335861,
          -1.2119439530779046,
          -3.277593606493769,
          -0.21986533644912157,
          -1.8286972917084257,
          1.7673038608003437,
          1.584213116715571,
          1.141904364257984,
          0.13132597974089327,
          1.144235390930188,
          -0.2800904835548788,
          -1.667008357773103,
          -1.0540541911049754,
          -0.8460017313034289,
          0.6885607218157286,
          1.0189126849197638,
          0.19913930135197253,
          -0.48982419332907906,
          1.3795092185155278,
          1.5114949596764997,
          -2.020220664518552,
          0.47363176642052146,
          -1.1971162686301675,
          1.2613690098335935,
          1.4131832285291313,
          -0.17462018189336742,
          0.06110899289113316,
          -0.7322885963131898,
          1.3241577641407745,
          -1.3278396323087758,
          0.18767633605913714,
          -0.21088507112710764,
          -1.854345405831398,
          -0.2987291856170689,
          -0.951654220542229,
          -1.2311383629373849,
          -0.1955575362492144,
          -0.10700253529964805,
          -0.24421326061356338,
          -0.5321932441096391,
          -1.0484358978536128,
          -1.2829064147018259,
          0.5447222123187089,
          -1.501899343994158,
          -0.032837231126148406,
          -1.6810618066440293,
          0.7840924749074611,
          0.8004221329439447,
          -1.6629413018007098,
          -1.9248020916702793,
          -1.6804363684600505,
          -0.10966410551978178,
          1.5918236944162978,
          -0.3647849556774606,
          1.582742301333476,
          -0.44284034047621873,
          -1.1272736206999237,
          -0.12321628769760809,
          -1.1284287826740387,
          -0.2743938764517846,
          0.7070131156857671,
          -0.7746572946333894,
          0.1063859933616895,
          1.0296155739519204,
          0.6208515504576364,
          0.21271352474326335,
          -1.6180338527244122,
          -0.10710217383886841,
          -1.0347924020403851,
          -0.7384606019883219,
          1.0344501149713496,
          0.9258019660287439,
          1.8482258192062042,
          1.0674559370292547,
          1.0040560348134635,
          0.6519010403489072,
          -0.02129067620526301,
          -0.26550191266957224,
          0.9430596180715426,
          2.5188966348966515,
          2.1139931720054426,
          -0.12636595369359654,
          0.7709155803471721,
          0.3576051338157947,
          0.8950830306176643,
          -0.8441288253015902,
          -2.478348231379871,
          -2.063554122235218,
          -0.404074521950634,
          1.0291496523666908,
          -0.9925453292867071,
          -0.06086264371548614,
          -0.01541866242929257,
          1.0385173199066822,
          -0.7293858543065933,
          0.7153762639212402,
          -0.2106341965236499,
          -0.16334436188050386,
          0.7600358805942373,
          1.5067317978563501,
          -0.7550525178650778,
          0.3969407521284934,
          -0.09173019521674916,
          0.4164185501655048,
          -1.1460021117623787,
          1.0306401352659138,
          0.518217517050582,
          -0.40711201418749376,
          -1.632111312329101,
          0.49012516262723427,
          -0.9375903695764732,
          -1.4015501822442589,
          0.8057119077478135,
          0.05926667840229396,
          -1.458997199845955,
          0.8533294402514794,
          0.8311603967918076,
          2.1156020256456647,
          0.6345035530756924,
          -0.12648621822981893,
          1.445244601428755,
          -1.398645221926003,
          -0.9343795549998574,
          0.6279796667014269,
          1.6706992950374793,
          -0.7941849036603352,
          1.5757246511595864,
          0.06043048065268089,
          -0.4649735731089774,
          -0.15870954466872833,
          -0.630980332682605,
          1.4786658133869297,
          -1.945986277099471,
          0.7455723845856297,
          1.6563080944294921,
          0.8744117533201652,
          -1.0810845896301393,
          -0.3891232298205958,
          0.07398221785709365,
          -0.8618931744233339,
          -1.7890007102224614,
          -0.2717914685086179,
          0.22188665542961383,
          0.3808678209427906,
          -2.007021823307594,
          -0.39773159614896375,
          -0.007405363739468588,
          1.1764923269868806,
          -0.4226710278785549,
          1.0479693935502064,
          -1.1488189518122707,
          0.7354983816721092,
          -1.5867714003164797,
          1.2361253129728584,
          -0.8233776532608007,
          0.45607744348159823,
          -1.0884222298445563,
          -0.029664402671478064,
          -0.39896727531636467,
          0.2363328270582741,
          -1.0832914737900423,
          -0.8390065230210926,
          0.9985630636432932,
          -1.1380028657265309,
          -0.14412026023363989,
          0.3719601354667674,
          0.5811279477770991,
          0.12055045720229236,
          -1.8853868346688292,
          -1.5054377092385922,
          0.36364832831642113,
          -0.3722118917797776,
          3.1196843068793365,
          -1.340236849342384,
          -1.4682527491418031,
          -0.025228597617604306,
          -0.24668770569877177,
          1.236869068315801,
          1.2051017555392292,
          -1.108214527887618,
          0.021748823655348002,
          -1.8868305887718027,
          -2.180888689611189,
          0.7935347364714239,
          0.15645474784987642,
          0.7768725697204695,
          -0.4770698378124346,
          -1.679829507812134,
          -0.9709167436803634,
          0.9325738434419405,
          -1.0061417511560957,
          -0.9525027501961741,
          0.002087959100522711,
          -0.03425905186953184,
          1.120905212076583,
          -0.18406049431593843,
          1.5026259293728819,
          0.4273421481050312,
          -2.3005233642706897,
          -1.448231474393238,
          -0.03176466693793606,
          -0.04768952863925005,
          1.7661808875740275,
          0.6217951418267862,
          -1.3922610295934157,
          0.9376872810428907,
          0.7919387138912208,
          -0.8635416146445745,
          -0.38361230842308325,
          0.1856531461518462,
          0.633980192258964,
          -0.038958532287748995,
          0.4303199989157453,
          0.5736402073024529,
          1.0765705221647344,
          2.2206410072921785,
          0.9257002528502712,
          0.7120064551378807,
          1.2847623231139262,
          1.0122131674708634,
          -0.4162325666989059,
          -1.4134124376004946,
          -0.7541315288880642,
          0.4043959905961762,
          -0.1393439028521066,
          -0.33605655780812954,
          0.19335446725388913,
          0.14657430425149928,
          -1.2505218434949636,
          -0.08680530975731138,
          -0.4331786353577795,
          -0.6296178607007843,
          1.38945443844071,
          0.37944328529301535,
          1.384629460490388,
          -0.16325021887931393,
          1.5467742642954245,
          0.26811665007831437,
          -0.9371132774573121,
          -0.5006116493544893,
          0.870638684500648,
          -1.262849567538392,
          -0.7273147975719962,
          -2.1342804297847757,
          0.270361541498783,
          0.47098047570557244,
          -0.9740456832173134,
          0.43743581115401853,
          0.3527110555010418,
          -0.5755449356891182,
          -0.26181735662474265,
          -0.1222012153024344,
          -0.9095620547420523,
          0.9274511034397035,
          1.701882450477253,
          -0.09789529396899342,
          -1.7993596622067147,
          0.5456885403853642,
          0.3696781209511227,
          -1.1134515249317785,
          -0.2527094659686195,
          0.37494189184256244,
          -0.28887483639188294,
          0.3281078802832246,
          -0.12878506532688816,
          0.36165646267957763,
          -2.3864691657271626,
          -0.738214286398885,
          0.19952657559365125,
          1.645198071339722,
          -0.6029962728482902,
          -0.7436985494066114,
          0.7538263290058965,
          1.0856602225443412,
          -1.6188100778289363,
          -0.16639939832975587,
          1.0121554015161318,
          0.3382675026183742,
          2.2062495458582427,
          -0.10555215912006778,
          0.6330981506576225,
          -2.376989028347079,
          0.5235477709897847,
          0.8405647495958544,
          -0.4782073411668501,
          -2.0948832174140217,
          1.3706699813166419,
          0.16600085684306054,
          -0.5452320087722281,
          0.13874395246990268,
          -0.6304862281028631,
          -0.5065173127218036,
          -0.6553301758880077,
          -1.3779916368525642,
          0.43038825349920573,
          0.059321913469145116,
          -0.3663993390614059,
          -0.10902002077246309,
          0.6159489393046141,
          -0.430371235457472,
          0.6897856919833351,
          0.2814405646524387,
          1.5884232334712203,
          1.0606565754943553,
          -1.6102279791230107,
          -0.4937777683411992,
          -0.1343080533007495,
          -2.0501866693903854,
          -0.86665275029374,
          -1.122067247641605,
          1.8914733336890004,
          1.1088927498434797,
          -0.3195187317225985,
          -0.12922963168964738,
          -0.07750335664208723,
          -0.7009390104088791,
          -0.40182888755934737,
          0.688146045243552,
          1.0227452153810899,
          2.0460085978928366,
          0.24177962499253078,
          -0.5649062621583163,
          0.49350065224203493,
          -0.792989811516397,
          1.0994010534608718,
          -0.23069251334965907,
          -0.7656954716716755,
          -0.30771050620739254,
          -0.5867080060607801,
          1.3722099613740855,
          -0.6203928086926936,
          -0.11566209377929139,
          -1.226136652355026,
          -0.36191010517577027,
          -0.48540734352687837,
          -1.3410217727238336,
          -1.104987765462336,
          2.248655350526535,
          -0.22745903832786443,
          -1.006487969195135,
          -1.8712748943248914,
          1.5541491116187827,
          0.06765435429511327,
          -0.26891394345582753,
          -1.0723179737057675,
          0.01865317725041888,
          -0.04408661569635759,
          0.9258929749494728,
          1.6779845062184688,
          0.35576194429027486,
          -0.3534729267312551,
          0.17301017214965275,
          -0.011894926106304568,
          0.8688384743955555,
          -0.6218688417892454,
          0.13978341939150368,
          -1.1190244260944933,
          2.828529509399494,
          0.003233974490557302,
          -0.15981160754086737,
          1.3818913373064399,
          -1.2477089833962045,
          0.5754515495024021,
          -0.7424578694371169,
          0.7716731302442491,
          -0.866566243175887,
          2.3055530249990674,
          -0.8790894161355919,
          1.2194652354254631,
          0.9953121495861676,
          2.285315275450742,
          -0.33574473311243186,
          -0.8368517193426788,
          -1.646548717685729,
          0.17236421484503778,
          -1.3701994842740899,
          0.039719515853223974,
          -0.44799052887105395,
          -0.9916999269005263,
          0.6885781677745532,
          -0.5160502952992012,
          0.2971037247915174,
          -1.3843505811003975,
          -1.1762104500462287,
          0.5433475929052622,
          -1.2022210628488101,
          -0.8530490985675677,
          0.8794676248145666,
          0.12508203906401447,
          -1.424462870997711,
          -1.4098292787084845,
          -0.13210020702984873,
          -0.052093364989835376,
          0.3609469306614376,
          1.2628784743727155,
          1.4953486321211102,
          0.3491758017391201,
          1.2648109739406639,
          0.3177057954450554,
          0.04790750521017633,
          0.3231252409660308,
          -0.7416820656851165,
          -0.8660081296946386,
          -1.920806473732489,
          0.05460437017296727,
          -2.469771172442429,
          -0.8963915560434148,
          -0.13129759311642333,
          -0.1494830823683591,
          -3.022242142421954,
          0.6374053852676397,
          -1.5012984302836576,
          -1.8408826888814227,
          -0.02214602514717977,
          1.639713022084108,
          0.7877088888603346,
          -0.5445864351906965,
          0.472823134727365,
          0.032215026194996575,
          -0.669057031779028,
          0.5245612981096384,
          0.4928365480648021,
          -0.9348524718762953,
          0.9565693099815371,
          1.0733424275217187,
          1.2200839079996895,
          0.9260587491143141,
          0.598390212807874,
          -0.23051021432500043,
          0.9573867272376874,
          -0.9257258991368886,
          1.0187541965996672,
          -0.7017004467878701,
          -1.0551475024236299,
          -0.7908871109110038,
          -1.1745934931435715,
          0.028848546690557756,
          0.6032085160182227,
          0.6225351668237954,
          -2.1605655172260048,
          -0.923415975043481,
          -0.24956613553238327,
          -0.7588639457479909,
          0.8239869022479904,
          1.1333405489068684,
          1.304077028885044,
          0.33933079714786796,
          1.3402475485764525,
          2.382212392517578,
          1.2052309596371589,
          0.37781726071450056,
          -1.4150773117927846,
          -0.9503616792498021,
          -1.5864122377096315,
          1.254429955578891,
          -0.7233570035645431,
          -0.06572193951187533,
          0.32127074475222916,
          -0.12077509281867332,
          1.862184562066723,
          0.5363562886354113,
          -1.3049687562729884,
          -1.0293887598370899,
          -0.8588335007283389,
          -0.675497306757573,
          0.034882450261817105,
          0.831790086432577,
          -0.28577690956526386,
          -1.184813307087136,
          -0.9973847522171629,
          0.41753542128993043,
          0.8007540718064243,
          0.3024294374556022,
          -0.043230589468908905,
          0.010859697593625272,
          -0.6061195917496286,
          0.5347520688802404,
          0.13211704795604526,
          -0.2486450997405612,
          -0.9142910265856874,
          -0.2587919774963818,
          0.7503270059677262,
          0.2557178769631545,
          1.3292692847446541,
          -1.2461561573065942,
          -0.6825414394348924,
          0.7387881827423458,
          -1.0162815070215232,
          -1.3275057162542052,
          0.2510657006860936,
          0.23739107793188308,
          0.23699047096320994,
          0.8911009223646619,
          -1.1176334548316953,
          1.8739828883269007,
          -2.227310227982806,
          0.42632489988469446,
          0.6985038566100313,
          1.2591473765958705,
          1.573050293791076,
          -0.5226768826885417,
          -1.2512443804926832,
          -1.1857665413141019,
          1.5774811718453123,
          -0.025688427078003773,
          1.06053729119183,
          0.14729472709440733,
          1.7010573210905011,
          0.8312359015386738,
          0.06610362237608923,
          -0.7091494674496215,
          -0.8916890132695743,
          -0.5264520680001823,
          0.4230661630574716,
          1.1498758833349756,
          -0.015156238603356693,
          0.1954414975709109,
          0.3518636561749599,
          -0.1489488077548939,
          0.7085570326134496,
          0.6125203537292363,
          -0.955426508228712,
          1.4967663525721724,
          0.7909357792620733,
          -0.9157481327537702,
          -0.04996243607516412,
          0.3122322181704861,
          -1.0190483546146853,
          2.081085901663392,
          1.1136655089492602,
          -0.9237961955877942,
          1.9978931602079082,
          1.480697026601623,
          -0.4047961070071504,
          -1.0640531021610957,
          1.7623001049026255,
          0.6391425642782858,
          -0.836532346580025,
          0.018904189007827497,
          0.15643491155633515,
          -0.1364680663465559,
          0.17945101788937778,
          1.7067060446705327,
          1.5429214364859674,
          -0.08506561863058772,
          0.3870678044188783,
          -0.4791979817033495,
          0.025208984986746442,
          -1.094491471844544,
          -0.16268773132229042,
          1.094159409104717,
          -0.5647728604707981,
          0.49687792576105905,
          -2.35396393673467,
          0.5349555030852979,
          -1.1116271749813482,
          -1.7217453112701044,
          0.4471776607653655,
          0.032719888955707564,
          0.5771059621092092,
          -0.1806643863870049,
          -0.872071813418582,
          0.012592514149980343,
          0.5979921744348559,
          -0.2821149664023845,
          -0.8132057682015142,
          -1.5308656915895735,
          -1.2119147412937084,
          -0.16738317298323382,
          -0.48413551107850067,
          0.11848219796247476,
          1.4419176211313696,
          -0.23540497273086944,
          -0.5443095457458202,
          1.383525007880935,
          0.1141697189812168,
          -1.1772520765161267,
          0.42960197686229146,
          0.23948924189454743,
          -0.7682971405028447,
          1.3359679853182755,
          -0.7585068941600035,
          2.839127561623703,
          -2.55035452093251,
          -0.3534700866181204,
          0.8882009788719344,
          0.19371647560006902,
          1.5523999465036382,
          0.4010505985764732,
          1.7103004028609479,
          0.47254836384583093,
          -0.9394343057564589,
          -0.6762833715831297,
          1.5349185210316212,
          -1.5298750488807178,
          -2.2168508226930097,
          0.8299825903220212,
          0.709166969549302,
          -1.903483098054355,
          1.5578787494976996,
          0.01637249899932724,
          -1.7661174593512445,
          -2.7247714725913097,
          -1.4079921742645636,
          0.5969565994421522,
          0.7849289888660553,
          -0.6513644859290921,
          0.5844599394508674,
          -0.8167633160259927,
          0.5453552008125597,
          0.3329253354954018,
          -1.6340976162330287,
          0.05825045643008534,
          -1.3791900778718034,
          0.7983473812492639,
          1.2544771627801936,
          1.5317609786905615,
          -0.3550038527361417,
          0.299953165965337,
          -0.5831746566357914,
          -0.3025040764963123,
          1.8568716767215656,
          1.0322549868071618,
          0.3666578383115322,
          -0.7557864224142029,
          0.592984324436755,
          0.6146241775662228,
          0.6760347326939029,
          0.5560436827821836,
          -0.17477920681199516,
          0.27186879177927453,
          -1.5833789482534313,
          1.3801244659403689,
          0.2816706387339554,
          -1.6637044734203563,
          0.6328082090726774,
          -0.8514721184525105,
          -0.18138226005741218,
          0.1493301789273183,
          -1.3898809762307998,
          -0.37732912721716855,
          -1.0443788323132122,
          -0.04238867328377008,
          -0.22625090662606645,
          0.5623408929517628,
          0.3746418364483989,
          0.47095729912869155,
          -1.6174954631006644,
          0.8745873964126192,
          0.1548640380619446,
          0.055748101244250725,
          0.028717840974936897,
          1.1603041633235514,
          0.1687444747679147,
          -0.17742861601691512,
          -1.311511642477085,
          -0.5775926686359835,
          1.3500784839487872,
          -0.6347562449609875,
          0.2595296106190193,
          0.6339953024045224,
          1.0392671876282304,
          0.19197808978727815,
          1.6186663934110004,
          0.17243863623762148,
          1.2506418949251445,
          -0.8809191314001203,
          -2.310939986328073,
          0.6454031950394943,
          -0.2426301849890038,
          -1.42263912542941,
          -0.09998723831932572,
          -1.1458269261653584,
          0.20583161454800894,
          -1.1386665239940388,
          1.061759557141142,
          0.8503153405025289,
          0.3289727136818639,
          0.5633677712703518,
          -0.7309497971852628,
          0.6632055192520351,
          0.8915133085679131,
          -1.914584506832852,
          0.1724507922399114,
          2.01701219669242,
          -0.21926664118880157,
          -0.42387713365773944,
          1.3163935471596122,
          -0.5763613884459345,
          -0.07430707162032954,
          0.9869879020131431,
          0.9853752071425529,
          -0.05423242028265195,
          0.3921914365636878,
          1.1626555330271198,
          0.36628573655798763,
          0.4907530516005892,
          -0.5779877918553963,
          0.41662358156037654,
          0.32900652402368824,
          1.2842346926421808,
          0.15619293240003188,
          1.353905474800721,
          0.737521294133385,
          -0.4738036426412704,
          1.072373482531858,
          -0.0918514618918679,
          0.7991019145799007,
          0.6161025877680797,
          0.025723630806713627,
          -1.2884839787026687,
          -1.30210636050311,
          -2.3533276362341344,
          0.10140388403062009,
          -0.7859781708503102,
          -0.5336919938723288,
          -1.281105654680211,
          -0.2037698156022273,
          0.4824457402558615,
          1.4743969857920842,
          0.2430054829861708,
          -2.6000706877883855,
          -1.0359499567264565,
          0.7315787884993749,
          0.9657695652972521,
          -0.19520884337675867,
          0.43385220691245746,
          0.044528535178169217,
          0.24584002571625468,
          -1.2238768674776077,
          0.7960713740003809,
          -0.004916494466531433,
          -0.12289798438105355,
          -0.22627538500677705,
          0.19709514810247086,
          0.04867984924813468,
          -0.19660636831186218,
          0.513327184287454,
          2.8684644250112243,
          0.9237277501757878,
          1.4684688794750245,
          -1.64324103970809,
          -0.6157734143029445,
          0.22368433017931777,
          0.3211833791488098,
          -0.10658398731320358,
          -0.6776911266809145,
          0.9936795231248249,
          0.17957635099900593,
          0.5672163151008857,
          -0.5557299687555816,
          -0.9851345344338884,
          -0.8694016590919573,
          0.83235014451924,
          -0.24376773001920374,
          0.30922422051932896,
          -0.25953623911906626,
          1.9946324272366254,
          -0.10374336568577179,
          -0.4384687261158099,
          -1.9145707676261838,
          -0.7868121835663268,
          -0.8316617155480148,
          -0.24615707898282965,
          1.8421267867160365,
          -2.101893605158399,
          -0.16480438323486402,
          -0.8453428892694714,
          0.22182890976909742,
          1.4502732113820012,
          0.5677465173091825,
          -0.07206892544978531,
          1.4931543371791405,
          1.3723149949933184,
          2.3060326816658603,
          0.06981833487984225,
          -0.3425952252686697,
          0.2619009671331005,
          0.021098361676525772,
          1.1932386947406421,
          -2.8354263798047006,
          0.5158254851622486,
          -1.2633227355953762,
          -0.7237673099320381,
          1.0606524389609304,
          1.4169173009140439,
          0.31071966794268235,
          -1.3171662000236286,
          -1.052525601047927,
          -0.7629727216608729,
          0.6429757271863241,
          0.16469432000997233,
          1.3254701583376143,
          -0.03313494668217635,
          -0.5522904714954998,
          -0.4413662353623968,
          -0.603870863681356,
          0.898908547869224,
          0.5289845605264328,
          0.06928612578575112,
          0.84183609972941,
          -0.026620889440017406,
          1.7616530850532037,
          1.966904666784746,
          -2.0692762944478584,
          1.359098618015375,
          -0.03798467758832549,
          0.8924510979365239,
          0.4647769774946692,
          0.8754493219865209,
          1.2387472859913837,
          0.1841563489493188,
          0.8706099731186736,
          -0.997278484862876,
          -0.7077876374908331,
          -0.0767213127722965,
          1.200089540911576,
          -0.15325063460599142,
          0.28105376593540393
         ]
        },
        {
         "marker": {
          "color": "white",
          "opacity": 0.3,
          "size": 3
         },
         "mode": "markers",
         "type": "scatter",
         "x": [
          -0.3026512282748974,
          -1.9255888475110081,
          -0.4000656601374523,
          -0.8826000135507523,
          0.5672950557140019,
          0.07867115266388697,
          -0.40315449973743206,
          1.1473947325288198,
          0.3904272471802595,
          -0.8837006296734149,
          0.12035174062226472,
          0.11910036595721994,
          0.9659108659394859,
          -2.8858946751821244,
          1.1882004439313227,
          1.5397977180557818,
          -0.10373141756775657,
          0.6609176571022483,
          -0.7103344851450926,
          -0.19516422860108967,
          -0.019770462370001882,
          -1.1789330501854949,
          0.3144420501766355,
          -0.6659921461213975,
          -0.6512694225726303,
          1.1691848112739662,
          1.4260407830249693,
          -0.6636333888503306,
          -0.02130893546518852,
          0.932785688409505,
          -0.6517579755147955,
          1.2340703474713586,
          -0.5456030655563489,
          -2.543075405621505,
          -0.24198981231452085,
          -0.28209968903223054,
          -0.15595884845079944,
          -0.2857091876430247,
          -0.31399664752580436,
          0.9910174401841814,
          0.23195774734097838,
          -0.24125411487832638,
          0.7161507544927113,
          -0.6134389024623074,
          -0.636795031374235,
          -0.50099738601955,
          0.3878013231650542,
          -0.16426262413179338,
          0.6741216009699481,
          1.222978432721632,
          -0.7133445078147478,
          0.20227197477369033,
          1.6650279473796135,
          -1.2502774728585384,
          0.31282498701957956,
          -0.4486637944477406,
          -0.8299578690546414,
          1.5758807176490697,
          -1.884444416519551,
          -1.2893179253794007,
          0.25689868703251784,
          1.2271879014916816,
          0.16748609878674725,
          -0.29304031517311285,
          0.35457095799712607,
          0.5796283328378015,
          -0.5270965603577374,
          0.47160932132566435,
          -0.6863299051107818,
          0.767112021343719,
          1.7992320923891116,
          -1.245209018495106,
          -1.1419239038197018,
          -0.41954168283676746,
          -0.3099528488639215,
          -0.32405331897166756,
          1.4269206405215025,
          -0.07215619241750643,
          -0.35412741613323195,
          0.8844863773504411,
          -0.12415672156866334,
          -0.2071463842510566,
          -0.018958591203279876,
          0.34847505766624876,
          -0.6686272205343152,
          2.566224887209872,
          -1.1243324156514098,
          1.5009873476335165,
          0.7326429143122678,
          -0.9522650552723625,
          -1.3376245054414653,
          0.814137334700884,
          -1.679656477016447,
          -0.8940159025976822,
          0.47439951944379044,
          0.17548195253925122,
          0.2686288832764512,
          -1.7804884556770357,
          -1.6626018213377332,
          -0.21789242693179717,
          -0.15808122900923602,
          1.3094679872718866,
          -0.3034495554040629,
          -1.5556693173786762,
          -2.576626378432177,
          0.267532420782104,
          0.8522528302378269,
          -0.32166154379739664,
          1.6844772857133992,
          0.9620163035496736,
          -2.9786439435192964,
          0.8725458581980461,
          -0.6721938656896994,
          0.06363156358168337,
          -0.6268776015885786,
          0.30402047182767783,
          1.0391308479395558,
          -0.3557177280177746,
          1.9699719551200359,
          -0.1094140506481571,
          0.018890093841681145,
          1.437719762342267,
          -1.2260616005511669,
          0.04602132950406242,
          1.0292051842887742,
          -0.5408700426535086,
          1.623023793645179,
          -0.9758062426011292,
          0.9488454833016353,
          -0.4147496499628546,
          1.0083659774401512,
          1.5578822286917569,
          -0.8013548064463778,
          0.1983628568732299,
          -0.08216653567349579,
          0.5095324669334158,
          -0.8471594761546394,
          -0.8108532737736587,
          0.7588993064260633,
          -1.3160284791286008,
          -0.27116248982843044,
          1.0353020822037937,
          0.5269338833938735,
          0.24027170223169822,
          0.24977826806447886,
          0.5955326484985682,
          0.7853672676451232,
          -0.47708353287986077,
          -0.4373852936379614,
          0.705259258112075,
          1.1425937356247362,
          -0.46567197195396853,
          -0.41893229222271855,
          -1.6373058881380913,
          2.129280411918375,
          -1.7854711125440696,
          -0.4074151753920754,
          0.8293055203222267,
          1.758043177182886,
          -1.0078401532559234,
          -0.01100553919051166,
          0.8009294049866691,
          -0.6475439639562829,
          0.22517776448477772,
          -0.4126219114594857,
          0.5084176038194549,
          -1.9900153407597296,
          2.160948278881106,
          1.1320548974212699,
          -0.7692958172559098,
          0.9694259098021302,
          -0.6055726198433489,
          1.417640775918183,
          -0.332896561773569,
          2.7034961221371243,
          -0.06926867011832993,
          -0.3659813003520731,
          0.0987258869933376,
          -0.6203540037419967,
          -1.6696500521905684,
          -2.146050174299769,
          0.48919362253467163,
          0.6192192207107956,
          -0.4003623083174667,
          1.164328378153965,
          0.7124859547243066,
          -0.24800798188525763,
          0.20790926391416634,
          -0.8360439243049862,
          0.090772878142413,
          0.6482562986211023,
          0.8143930979185047,
          0.8306479185434091,
          -0.4784145574017266,
          1.3595852113423725,
          0.051017438869192105,
          -1.1716904294681194,
          0.5091116053969392,
          0.4275758767959357,
          -0.3112386499184804,
          -2.2503713155070746,
          -1.5357534712183143,
          -2.611915177663039,
          -1.4288834352483626,
          0.7083642911246634,
          -1.54449318777037,
          0.20572302647234608,
          0.16531563695993368,
          1.7012917605222175,
          0.12391831440972917,
          -0.005460521676671968,
          0.5491031143927396,
          -1.2642523129522816,
          -2.5382964681543023,
          1.329551079228586,
          -0.15779708492307132,
          1.5726529994091287,
          1.662234931953966,
          0.4299483074965581,
          1.1822133911630868,
          -1.2795754514026607,
          0.9047322591607938,
          0.4869537998444931,
          -1.1122354835645785,
          0.7446834400412021,
          1.4693976534687088,
          -0.4016301844789006,
          0.10815915846734134,
          -0.2621507279924931,
          -0.04592342109684192,
          0.7913328175364747,
          -1.1574044177647618,
          0.1380505992934733,
          0.4946765753107677,
          -0.5970480594003781,
          -1.186269981056484,
          -0.613407272289385,
          -1.1142280657581345,
          0.29304135100516093,
          -0.46431729970706487,
          0.5785704639864815,
          0.06065258797804739,
          1.6554413420789427,
          1.3791226206458964,
          -1.1694615647557156,
          0.5947854532408953,
          1.4665486748613175,
          1.3911071346131674,
          0.4209298729171747,
          -0.8092798623772899,
          -1.088476833138381,
          0.46389805030257364,
          -0.6927918166317705,
          -1.8085903643537429,
          -0.6243339178778258,
          -0.43391353921179765,
          0.8741522116993612,
          -0.28454613752011826,
          0.15080745652804278,
          -1.3786465698998158,
          -0.7793712379277228,
          -0.7751095864988672,
          -1.5231319258903668,
          -1.3011029627818236,
          -0.9553993701264818,
          -1.691628863816294,
          -1.2598328154836176,
          1.4706892178979396,
          0.5876514475850256,
          -0.8688884648361483,
          -0.3450093808855046,
          -2.902084824314574,
          -2.1281183047924324,
          0.20154807160707294,
          0.42473255977102153,
          -1.65295870869923,
          -0.14292989790865002,
          -0.09567647584450349,
          -2.1241095607447233,
          0.2880571946829292,
          -0.8910469298924643,
          0.8966651455977545,
          -0.2512502640912918,
          -0.5271859347062284,
          1.413800828824497,
          0.5686633872257956,
          -1.0045418970477755,
          -0.6144765072027102,
          1.030467450560568,
          -0.4829473068623178,
          1.1155280745384888,
          -0.20341268629829506,
          -0.03410001350966791,
          -1.5171847616690255,
          -0.09694333629509125,
          0.970279385842037,
          0.743156665860603,
          0.7555463475234911,
          0.5029014254978726,
          0.5739930252160402,
          -0.12701639141496435,
          -0.2089703192835795,
          -0.4622007236386808,
          0.24059268338650108,
          0.8234911306207979,
          -0.7235273765230099,
          -0.225894095776557,
          0.6539565523703311,
          -0.6646025367955182,
          -0.27690434255205254,
          -0.09319732613539504,
          -0.3535569492180912,
          0.43681489769964654,
          -0.012941482879910529,
          -0.8040715080225913,
          1.3363239511854321,
          -1.0734521960596086,
          -0.6256237827090987,
          0.21031299615766336,
          -0.6021181941411129,
          -0.9297904393084137,
          1.603725523935829,
          0.7073339805837574,
          0.5487417474467244,
          -0.47804159209365965,
          -1.4243089644604126,
          0.829339732527603,
          0.17205875971502352,
          -0.5869612068579324,
          1.3877458381610333,
          0.19715106953227363,
          0.6036645164423456,
          2.0620761827935152,
          -1.4890479832691297,
          -2.6627068344525595,
          0.12536799675448831,
          1.1839619832601997,
          -0.09431712664035156,
          -0.27532199228236265,
          0.1890645215839811,
          0.13545090451176897,
          -0.9017070678321172,
          -1.392180397653851,
          -0.7727551182733042,
          0.8220969246316988,
          0.35348202302688575,
          -0.7535614727378547,
          -0.1969936024243372,
          -1.5512097689603552,
          2.2863586611840887,
          1.0660786461731315,
          0.4572878707701098,
          -0.7052731188683152,
          1.3466918463721766,
          0.3776899310955288,
          -0.41829137119166865,
          -0.2474884445816036,
          -0.35560271750084965,
          0.24590409611389688,
          -0.8685454496935718,
          1.447836106742927,
          0.6282562315715752,
          1.3883334072160542,
          -0.40747915892179787,
          -0.7224271194739893,
          0.29355786918112875,
          1.4950723440863731,
          -0.38948472528324396,
          0.12196108489766036,
          -0.8677796386775747,
          0.7489040249031514,
          0.6467708996283473,
          0.4958319090315725,
          0.7517445889376885,
          -0.5978545594577436,
          -1.173929955563078,
          1.0636884323353546,
          -0.7460543244129323,
          0.4234937491371631,
          -0.49904699402717784,
          2.1370555229710373,
          -0.11007893666603093,
          -2.0011743660574064,
          1.3253563745888988,
          -0.7080946429299233,
          0.8014264873982012,
          1.2289758404378048,
          1.6772928689077242,
          -1.733440455491101,
          -2.111118559270066,
          0.40419100431060623,
          -0.08856808162997527,
          -0.7645582609175215,
          -0.7197498396654224,
          1.4924653868778746,
          1.9808319836446169,
          0.2674480079358483,
          0.9575142800458546,
          0.006822112696658726,
          0.24405505688092213,
          1.4269969316961264,
          0.4681735752787745,
          0.21704762745827674,
          -1.1192981995081022,
          -0.39352147933587633,
          -0.49976999121586557,
          1.3178310761430638,
          0.9712897592288507,
          0.2811987888269563,
          0.2622121847096689,
          -0.037980393350146774,
          -0.42934020535086226,
          -0.6552698293881898,
          -0.474871724744828,
          1.241073202371763,
          -0.5356291138682759,
          0.36401114695983366,
          -1.9961367429734655,
          -0.43209031505460765,
          1.0401102309998673,
          -0.9542139431768827,
          0.12145438831962455,
          -0.6541749785472865,
          1.4980190071661172,
          -0.544530592479906,
          -0.8769567172912054,
          0.14330689984674194,
          -0.3901719588563069,
          -0.5704337133055704,
          -0.579742709620222,
          0.6415854681544991,
          2.0117431867664655,
          0.4256821951413613,
          -1.5749700797489905,
          -0.7580069848700909,
          0.20742453571651867,
          -0.013383395787520274,
          1.3529417620341018,
          0.16707994436642346,
          -1.095710323636666,
          0.6903171836349024,
          0.7684005123115093,
          0.3433193365503346,
          1.5878991117281012,
          1.613422547423327,
          1.6591687423261765,
          0.509845990705274,
          0.2514799963668851,
          0.6387576256426045,
          0.5437409860815978,
          0.9026950250546222,
          -0.33383051255479196,
          1.897920170498523,
          0.887586704095441,
          0.17947635565383416,
          -0.9037225065982045,
          -0.7852525106171359,
          -1.116796419898935,
          1.0599860066416946,
          1.6431147258125856,
          -0.4131986591746625,
          0.9090298286977331,
          -1.240933615332621,
          -0.8592894512390175,
          0.841922067303371,
          1.6010443662332916,
          0.41450777983916903,
          0.6988830667219583,
          0.7895042118514031,
          -0.21674503775311446,
          0.8595254783728808,
          -0.10655357175656138,
          -0.34352510385246565,
          0.051928484876844025,
          -1.1901927729633812,
          -0.9809030026726325,
          0.028932226543010902,
          -1.7485307001980641,
          -0.9726402766500536,
          0.5012913733104299,
          0.5037555583633169,
          -0.4645175637641512,
          -1.2932614373732116,
          0.5035712683963975,
          -0.27643556032516625,
          0.6312681770097922,
          -0.4297551786396991,
          0.26714793433111333,
          0.12950395166307296,
          -1.239350469733002,
          3.9475527323466886,
          -0.3670448964503223,
          0.7149450426112686,
          0.23774104748765165,
          -0.3280216452949078,
          2.153040087138137,
          -1.0214154034004985,
          -0.2478620195044189,
          -0.40971257652799375,
          -1.8291996880994568,
          1.1984705652574998,
          -0.026652840061465222,
          0.5713256100804738,
          0.9091171816811258,
          -0.9898036407195874,
          -1.4547896931641917,
          -0.8035328305371188,
          0.8009782172760926,
          0.42736231377941336,
          0.11691420159440957,
          0.34078534453356263,
          0.5728464983581466,
          0.1581615649163718,
          0.6812708758619577,
          0.36371873384907133,
          -1.771483646261396,
          0.5852788433416864,
          -0.7380954664610555,
          2.422549678173944,
          -1.0767595716178109,
          0.082477586450806,
          0.5320176511549083,
          -0.24858351708407914,
          1.4444343909874169,
          0.16721078566850855,
          -1.174801344479598,
          -0.12154259511543301,
          -0.8448115908950234,
          0.8825363461188885,
          -1.076446133570259,
          -1.1343413484875762,
          -2.395007302969963,
          0.3279978108570385,
          0.263236855177176,
          0.7599084013827716,
          -0.9595601798487582,
          -0.9853033869856513,
          -1.3682235056775471,
          -0.7064838771832956,
          -0.7582845944884341,
          1.106231330027656,
          -0.869655108370909,
          0.3606334019649484,
          0.2039734068554198,
          0.6623509924193779,
          0.33676370085529433,
          -0.39188687494051505,
          0.23433982985907334,
          -1.478899965495571,
          0.26870827171161515,
          -0.8931006803173629,
          0.47817201685783106,
          -0.1542821452867008,
          -1.555766151955228,
          -0.198908586699628,
          0.7978088983718068,
          -0.16760635777192087,
          -1.197366529485017,
          0.7600024556046217,
          -0.1472684896391921,
          0.49289063115692244,
          -0.6237422020297244,
          -2.622898661873621,
          0.6704028607157345,
          1.362298634627084,
          1.1627671791380532,
          0.4856128048359137,
          1.5764260280787363,
          -0.719221800386994,
          0.6870697699436672,
          0.4580710076018855,
          1.3795278591458917,
          0.1405147393709282,
          -0.8950637739504347,
          1.0749864012903918,
          0.043225204293277905,
          -0.9031646943786126,
          1.274494612088821,
          -0.2661929338823139,
          -0.2828298903136799,
          0.9539663859609007,
          0.4461015032309906,
          -0.4739074165107501,
          1.826801105664919,
          0.6869375420891585,
          0.20230534352042273,
          -0.3757108245595893,
          -1.916465934085147,
          2.528718031593793,
          2.109429558767698,
          -0.8251220492998861,
          0.3439400605138025,
          -0.7961681533650001,
          -0.09650985758374253,
          -0.40276651586482065,
          -0.30498121059795213,
          0.026198891628434088,
          -0.405044566259695,
          -0.9602265178813646,
          1.7000842202410076,
          1.0304250366421588,
          -1.3910618389535059,
          -0.20397432985579955,
          0.34044678852282095,
          -0.13405144243659514,
          0.2281346283369493,
          0.6816550669618047,
          -1.333870467015926,
          0.3754223990012125,
          0.6120061710531816,
          -1.264073277704455,
          -0.1601466507447667,
          -0.8705020183576886,
          0.7398592373553147,
          -0.6947758689015168,
          -0.30743477132763436,
          0.5842545247351594,
          -0.17083324356280447,
          1.400946886745532,
          -0.4253442539064152,
          -0.8058729123438951,
          0.9831412149332572,
          1.3661120755746936,
          1.4137479287335444,
          -1.091993010702902,
          -0.6259147073390371,
          0.657893058607046,
          -1.3185871877791693,
          -0.40387696620643393,
          -0.32556711780398134,
          -0.1520340868568087,
          0.39633773163945696,
          -0.6849942077702097,
          0.22871562133809567,
          0.7956978394655417,
          1.166183149043649,
          0.010399791603531834,
          0.03575789941607249,
          -1.3231415392455557,
          1.5597327626412945,
          0.6372630595883993,
          0.6501824808110857,
          0.9405751806889384,
          0.26223644358399717,
          1.769752221470719,
          0.5512514117867685,
          -0.13074861873611301,
          -2.13050198422639,
          0.7005389950061701,
          -1.0129135542956733,
          0.2283949352841839,
          -2.393545328100041,
          -1.5796740929317548,
          0.008013548271687222,
          0.18355749156043843,
          1.2586787197111478,
          -1.410568385704798,
          -0.46348576436331435,
          -0.4218988132521175,
          0.70987478648393,
          1.2832767044055393,
          0.8433200838955149,
          0.7555432063157015,
          0.014365402408639741,
          -1.3095779856764138,
          -0.2602586593291594,
          -0.7840355521660312,
          0.5838461665761582,
          -0.45149455604432326,
          2.101861877166793,
          -1.1764444136773193,
          1.2114193935209094,
          -0.8665953661819138,
          -1.1955272416592095,
          -0.902815223314274,
          0.40720057550093997,
          0.10062981524624372,
          -1.397115431437833,
          -0.13401706351456982,
          -1.5091616731630013,
          0.8856531766737543,
          1.364429280610135,
          1.2446198047159749,
          0.37245873210820035,
          -1.0211683027062515,
          0.20471775111760482,
          1.5475729853973224,
          1.993855951990591,
          -0.022607726685997774,
          -1.0840962167227817,
          -1.9919158013261957,
          0.3272666019044769,
          -2.37380458078985,
          -0.5700533787164332,
          0.5666051983628554,
          0.0034828910802512858,
          -1.1152070984717817,
          -0.22401075838405898,
          2.2499932455763854,
          1.3980057978463059,
          -0.09717469785016646,
          0.5103137935467265,
          -0.381793930364839,
          -0.8514071996006312,
          2.4066638243576235,
          -0.9776839649496131,
          -0.6576874350748899,
          -0.1924332950553879,
          0.7682088247179036,
          -0.9181123316887688,
          -0.3400988438658162,
          -0.5325026672161621,
          -0.6522761124767879,
          0.174999107578858,
          0.003433928727070428,
          1.9143429724593914,
          -1.427313015366271,
          0.35743578485364386,
          0.7370550522184478,
          -0.23161602547978088,
          1.4275057430907119,
          -0.3006884057757164,
          0.9343127615591472,
          0.8897641921147806,
          0.33226797324622287,
          -1.9502599718635725,
          0.3284834450913839,
          -1.9681251934939306,
          0.2885418195027301,
          -0.7674713533258295,
          1.1803471763909632,
          1.8209343271452054,
          -1.6746830782285465,
          -0.42891769851238937,
          -2.0515113930185898,
          1.187912865464824,
          -0.26494188669437546,
          0.9893045593737033,
          2.1392768559383004,
          -1.5574275542681029,
          -0.7737264244041864,
          1.562338986677485,
          0.8170025791967721,
          -1.9405259913292026,
          0.42510482691999224,
          -0.06664722826719356,
          0.9124085932280895,
          -0.3383843658742168,
          0.21925562436732898,
          -0.003886016738835519,
          -1.461039859731038,
          1.1479426913640207,
          1.1351206833398917,
          0.26339373484730316,
          -0.46092956516281774,
          0.7766281027518479,
          0.3348801820222125,
          0.5612998294486116,
          -0.7861718183176583,
          0.003113060803175531,
          1.5417987814430134,
          1.2580730743344968,
          -0.31634371647509957,
          0.7563246460135591,
          0.5005403065703874,
          0.5198828018340584,
          0.525967494365142,
          1.6159508554716697,
          -0.03710497982717341,
          0.13296220351974863,
          1.161038059568801,
          0.061041991115279144,
          0.63894511923194,
          -1.1729699002837348,
          0.4737497575997244,
          2.2743596726858613,
          0.6154808687199576,
          0.921812803674344,
          0.338254933485283,
          -0.0685967879095767,
          -0.5645022548274448,
          1.69237280733272,
          2.0738662643012833,
          -0.24172198709387344,
          -1.1817785955073006,
          -0.20888762079994694,
          -1.5457070494733838,
          0.3844365782015742,
          -1.6505219387504746,
          0.6570136187335777,
          -0.8815590422315939,
          -1.44218027661439,
          -0.7023845344409139,
          0.8607329673675166,
          0.11910426946965484,
          0.8628863929654307,
          -0.3571400782005347,
          -1.5767442344843738,
          0.244095892806049,
          -0.015041806604696445,
          0.296621440611769,
          0.35818652885378754,
          0.12306699846017817,
          0.7135682380911545,
          0.8497387648379512,
          0.28440751315372914,
          0.20059376677513335,
          1.7645739740207493,
          0.8783921085474302,
          -0.9152549112179914,
          0.6283722052796119,
          -1.4386850425724182,
          -0.4189616717568458,
          -0.32393377297169473,
          -0.9015868226106466,
          -0.10788407343797403,
          -0.6744973935319645,
          -0.4662104496628857,
          -0.8526845225978265,
          -0.2242200656344624,
          -0.6476294232259056,
          0.35260534827691087,
          0.1339555756667367,
          -0.28034448531789485,
          -1.0006339877923542,
          -0.5960181041493534,
          1.1047562329660405,
          -0.29411315289678236,
          -0.35227052178767676,
          1.7062775977956477,
          -0.06674230221863495,
          -0.01389693224541876,
          1.959599863005448,
          -2.0784169545500264,
          1.1086243817954526,
          1.2778067328903782,
          -0.9207959653971218,
          -2.050961371921255,
          -0.11172660791610244,
          0.7532702863630317,
          -0.12978223779051418,
          1.3455376290255427,
          0.5288739465250161,
          -1.1974441465004841,
          1.249237634341234,
          -0.5404723230602886,
          0.5047339462757109,
          -0.9571446743535841,
          -0.6515938754641977,
          0.2957495800479807,
          0.35009863001623465,
          0.7090895045180379,
          -0.4196571316198821,
          0.43754861440809073,
          -1.3682591974818916,
          -0.05486983068687041,
          0.0651193237615507,
          3.0170843776648386,
          -0.4584092459112648,
          -2.017610629464936,
          1.2555867711054152,
          -1.6951753441054653,
          -0.6862199331808538,
          -1.504178291914221,
          0.16036530775423516,
          -0.28947005034586776,
          -0.8661425000289702,
          -0.5717588061151836,
          0.4923032129261227,
          -0.8849973743101442,
          -0.20749900183731693,
          -2.7278590702508256,
          -0.11123971709720014,
          0.3232178780300956,
          0.8557641308992548,
          0.07732267170522474,
          0.41757376212231717,
          -0.030844531101863342,
          -0.010243027608889788,
          0.5917567958099262,
          0.11733856923026274,
          -0.929575495113584,
          -1.6389033963953532,
          -1.0695207749852178,
          -0.6442441529487194,
          -1.1103328789203768,
          -0.23437392821576192,
          -0.8482888246691643,
          2.265438504074881,
          0.2619033054133162,
          0.8625793451428388,
          -0.06140561981291436,
          -1.1708040647373366,
          -0.13256048993809272,
          -0.42801945385775453,
          -0.7700610074603396,
          -0.17422505678289205,
          0.8832371822109504,
          0.2672675157747519,
          0.40645926149770906,
          -0.9004215190668861,
          -0.06941696755985766,
          1.1509945490302615,
          1.7153995458800464,
          -0.8611339097969126,
          -0.7026241321374148,
          -0.27336530070749765,
          1.3416565842019146,
          -0.6016723360975954,
          0.7397472591508092,
          -0.07748867525855696,
          0.0383552443573899,
          1.4456633789025892,
          -0.6781696815806485,
          0.3721247997351992,
          -0.5082222229830867,
          -0.8538071538624323,
          0.16999040922898356,
          -0.37720971309408646,
          0.06334444126536515,
          0.39509959607506484,
          -0.40810002921630856,
          1.5125080281578491,
          -0.48750056657968494,
          -1.3629616185885298,
          -0.5077556716280154,
          -0.8919133677520239,
          -2.225210265139513,
          1.4094943657487202,
          -1.857550946656682,
          -0.3878488238892532,
          0.7542970594125018,
          -0.29879240651991734,
          1.387008262031515,
          -0.5709338874093096,
          0.2370065811501018,
          0.548073784176328,
          -0.784918841108862,
          -1.3143617329857935,
          -0.4599037235972485,
          -0.9450923728087217,
          -0.5675810848982903,
          -0.6849181441747396,
          0.7132858596084642,
          0.16982048411432318,
          -1.2146304564216255,
          -2.5581041370119766,
          -1.6950847871869728,
          -0.8902039516040099,
          1.7020051538362777,
          -0.6770520210690133,
          0.239299864582552,
          0.7837452135356628,
          -0.09418511900696411,
          -1.2466748753705794,
          1.0401911305362646,
          0.21608098342876556,
          -0.6046875440529773,
          -0.6082257051392401,
          -1.7543287988465779,
          0.20536235555370094,
          0.15461812194890953,
          -1.0874652367471405,
          -0.6068266922867793,
          0.4526930099721289,
          -0.19133899119204897,
          0.15451447090043838,
          -0.5523601279462872,
          0.155130943502862,
          -0.7261836877686504,
          -0.4812057612893808,
          0.23932103478262537,
          -1.1776218364963034,
          0.5099549144761908,
          -1.2369881951949644,
          0.30771834805383186,
          -0.8588822867590432,
          -2.3460126280803846,
          0.7606055049626521,
          -0.8510417130935326,
          -0.11460087171838362,
          -0.3642328774514468,
          0.6774246891371317,
          -1.1882707407575732,
          -0.674179084055605,
          0.23158492801494934,
          1.0211830778739146,
          0.019113134340083826,
          -0.16784271896051234,
          -0.625955028817261,
          -2.3188175994909708,
          -0.7521547836177773,
          0.4853976980395588,
          0.4309225966962544,
          -0.38412280775775987,
          -1.5025675533840088,
          0.23359209288550453,
          0.9884733514229693,
          -1.04153414576722,
          -0.8164792347202758,
          -0.6992737713962373,
          -0.14300974752415122,
          0.6745155829895487,
          0.593325922682318,
          -0.104491930441489,
          -0.7981713877790162,
          1.4089662466794555,
          -0.7824442049647178,
          -1.7932464638694112,
          -1.9877559943967398,
          -0.7133310918803537,
          1.039954371122558,
          0.37254560751390897,
          1.8163631104878943,
          0.5775513314014644,
          -1.3871383265095496,
          0.41234860982697746,
          0.005858129032148964,
          1.0529001235646005,
          1.9773527476637884,
          -0.34604024167676867,
          1.2429812148900794,
          -0.028337976536621262,
          -1.704378183457864,
          -0.40986752400334875,
          -0.38184781080610236,
          0.10516193728519597,
          -1.0025630676555841,
          0.4973605909975085,
          0.016053421640986654,
          0.138990208079746,
          0.4666601963941483,
          0.6288738707475869,
          0.8370907501482863,
          -0.9234775423453147,
          0.3520243060770336,
          0.9900442871687648,
          0.48581178829361676,
          -0.5931765679768845,
          -1.103221376645183,
          0.5737047711805647,
          -0.3231984449060448,
          -1.2287307565254908,
          -1.6758112237352327,
          -1.1630262309212993,
          -0.3473120422252567,
          -0.9305920355262285,
          0.0031489009061078086,
          -0.8071885113851064,
          1.9745079532052046,
          0.3678174785260205,
          -0.01994465994479843,
          -1.081258609147299,
          0.9915540557453754,
          -0.6282315368454304,
          0.7706348518040265,
          0.8549671346171183,
          -0.01653322792403285,
          0.8928935309598726,
          -0.7550314135859049,
          1.2885565608720873,
          -1.000760813739452,
          0.04206110407242059,
          0.8856149488948815,
          0.39494492067592063,
          -0.01171102263462893,
          -0.8402911567397817,
          0.11100790458439151,
          -0.9736836629076637,
          -0.5464046685431027,
          -0.3464686979397254,
          -0.9891284739815498,
          0.09857102804040209,
          -1.7309371407998901,
          -0.9638609478208928,
          0.45177627894254196,
          -0.1899383212875208,
          1.0965570825040898,
          -0.14928260202775137,
          0.37499937952563617,
          0.5612006366754174,
          0.9322610080488881,
          0.4220121092355154,
          -0.36503346273023735,
          -0.5815044862311087,
          -1.1819991720834568,
          -0.7605383649311875,
          -0.9374740239978419,
          0.6058253001360975,
          0.25912653310303463,
          1.701550458828744,
          -2.1579865326011056,
          -2.035800487482153,
          0.7917682265043404,
          -0.9884403326768201,
          0.7026289789201854,
          1.1904296690464424,
          0.01295186453897224,
          -2.42526379537534,
          -0.6891226523720797,
          -0.3677328016311272,
          1.2034149087285873,
          0.3344302766832385,
          -0.9806565015853874,
          -0.7466990202266918,
          1.8366127412152593,
          -1.7682597688870525,
          1.8632985155877055,
          0.4260530648894054,
          -1.806804318304278,
          1.6452670150763988,
          1.5920152343887461,
          0.3119969884604997,
          0.1284606349668274,
          -1.8589549558069618,
          -0.689707883660303,
          0.3785227134898799,
          0.9821069232671353,
          -0.5127484109982007,
          1.317803430254227,
          0.34539719293516286,
          -1.5205291665725826,
          0.24729355988787097,
          1.204140575368934,
          0.5712156033656228,
          -1.1145849790138342,
          -0.65787315364141,
          0.8794605117766962,
          -0.017511152397282386,
          -0.2480932421098104,
          0.9498146085064645,
          -1.1205507029414143,
          1.384823351763304,
          -1.356045352819544,
          0.1825206389487755,
          -0.8944351839141779,
          -0.024396127606301964,
          -2.018258663009895,
          -0.8211741362550252,
          -0.18093630223326743,
          0.35473295896845214,
          -0.8172892829979992,
          0.6307974033669721,
          -0.09118154320569265,
          0.7929974780924638,
          -0.4401971283868314,
          -0.3482321411982434,
          -0.4165506731339946,
          1.1478144671658472,
          0.32295121926754705,
          -1.8491092653682735,
          -0.11405163946575048,
          -0.7387392968712628,
          0.5216848003610213,
          -0.625896733082995,
          0.7924145977462604,
          0.3900637427882512,
          1.9706457480967463,
          -0.13876906327413716,
          0.4958087793248266,
          -0.2811414794102099,
          0.03579529764464968,
          -0.6148906829941129,
          -0.06325330384784851,
          1.5258746157883978,
          -0.7205688191410485,
          -0.6887452494075403,
          0.7903863923741077,
          1.6841175444218646,
          -0.5001609952475975,
          -0.5067854474925567,
          -1.3507196661103391,
          -0.2780631470408081,
          1.2999513891438614,
          0.47260338461880674,
          -1.0686580283871356,
          -0.16196169783328015,
          1.5281639465629502,
          -1.0478137159405754,
          -1.5443552997908165,
          0.84918127743002,
          -0.9193659183871545,
          -0.9204920192840347,
          -0.740681045040593,
          1.2581270652749124,
          1.1312393352216252,
          -1.3280903622269284,
          -0.6970864868091325,
          -1.357775455076837,
          -2.321567834426128,
          0.9125528423294462,
          -1.5993160212436501,
          0.8394996504462787,
          -1.4231284679776337,
          -0.5694882669820462,
          0.5684995072995387,
          -1.3096911446117714,
          -0.6377016363800727,
          0.19021678433080635,
          2.98371018729441,
          0.288191317715458,
          -1.1969701913607624,
          -0.7995891141468154,
          -0.2324091756191788,
          -1.3828910470048124,
          0.7144901337492777,
          -0.9173887525154996,
          0.5937362332209717,
          0.22373752705647204,
          1.1890048736359626,
          0.06789743157740095,
          1.3864067492056908,
          -1.1882791597590407,
          0.7560883093783936,
          0.7847903006623592,
          -0.91781996493482,
          0.9047695250293949,
          0.5040336717969188,
          -0.10629617779128918,
          -1.4792509055231604,
          1.4551252451729573,
          -0.9258460031190185,
          -0.6255501348174793,
          -0.24303506002222364,
          1.0834895601260428,
          0.2060107070791982,
          0.03785900620349794,
          0.13994227537120368,
          0.2571230648742315,
          -1.8265101837351858,
          1.1058534639950715,
          0.6473030589004165,
          -1.7316268834741875,
          0.19575002286604382,
          -0.9127202179376589,
          0.8546005163517263,
          2.1030595352337684,
          -0.527701946485361,
          0.11584237719082269,
          0.8204199971428922,
          -0.6759255848519928,
          0.9632537932683548,
          0.7348810761779466,
          -0.31089897510667885,
          -0.46726464718279237,
          -2.1258064495918227,
          0.9155069208127566,
          0.024023441545464094,
          -0.37906337613252944,
          0.31686726648309865,
          0.6233616788442503,
          0.5951043254143946,
          0.2588776771922792,
          -1.4126572260767452,
          0.12085580464419256,
          -1.630256342478728,
          0.6934879476779451,
          -1.1527900889145548,
          -0.3565316613175821,
          0.29165268797754434,
          -0.9265175990882875,
          1.0957322435076915,
          -0.42270923933904747,
          -1.3432005977220982,
          -0.6315536409910001,
          0.3328907245441855,
          1.3915308839070075,
          1.4076298279237505,
          0.09371815270711813,
          -1.6135806855777577,
          -0.2468962005271155,
          0.5505338004659036,
          -0.8697165896581045,
          -0.5381597437841522,
          1.2319685758705805,
          0.6105639531834551,
          0.7491100511013168,
          -1.2964875447978936,
          0.7478694145148088,
          0.209848052469171,
          0.08617386981877866,
          1.9395851114766254,
          0.16270233755179472,
          1.2190062487061453,
          -1.0568062489872132,
          -1.2494331380735209,
          1.3709886967949496,
          0.855366732027471,
          -0.7613217789617452,
          -1.0518194613092415,
          -0.7053304822947899,
          -1.910075846211094,
          -0.9914940140534533,
          2.2374063931213923,
          0.8931993057313519,
          -0.16190135542508105,
          0.505672316180877,
          0.13972595754009146,
          -1.0441498467661632,
          0.7863130910160127,
          1.4178587462209526,
          -0.08883803617767999,
          1.252929736733899,
          -0.3523415256655797,
          0.3549567416094464,
          0.3573333774096988,
          -1.3230309562794689,
          0.04812853076976829,
          0.09395563523990146,
          2.0302684427289215,
          0.24139685568637892,
          -1.7323111599852705,
          -0.9879160245673898,
          0.1110619231062688,
          -0.1898353246234771,
          -0.09227075039353431,
          0.3350493677268738,
          0.7563411190441092,
          0.3251555380046959,
          -0.18509634496171312,
          2.289893188189483,
          0.6752417308048552,
          1.498584780946491,
          -0.4785554445859188,
          0.8374227964912266,
          0.6018953346146595,
          0.12406905908374465,
          -0.5319928386702268,
          0.23968399310394728,
          1.5397686831693795,
          0.5842554914258281,
          -0.5508806790383648,
          -0.5936531206537353,
          -1.1163514473570795,
          1.4939329380800588,
          0.8148032204485333,
          0.06786910690425263,
          -0.8648069772188467,
          -0.7168013927913155,
          1.0312092293761512,
          1.0280024965550059,
          0.18654524397891817,
          -0.5981130206223813,
          0.4149151226579831,
          0.47015958253737844,
          0.5111317536185361,
          0.31544723143428544,
          1.2178142901540248,
          0.48414356443325385,
          0.9995806282855965,
          -0.6310316406246926,
          2.168250482782411,
          0.251775533871494,
          2.1968982502434393,
          -1.1434091640801298,
          0.7294054155381526,
          1.5585188199426998,
          0.18218973579779446,
          -1.2976915994780307,
          0.379201776912526,
          0.03247994980911385,
          -0.07149455802385858,
          -1.2151057766162847,
          0.6519472679171859,
          0.49471871447407095,
          0.4907319392321175,
          -0.25307822056293383,
          -0.6918115571389258,
          1.1346291137724143,
          -1.015072711519844,
          0.8717394981150651,
          -0.20867253946052888,
          0.13473528914843286,
          0.5197545028978541,
          -0.9136955674293605,
          0.8630556202371937,
          0.06534459896712268,
          0.4363264257178013,
          -0.8618440624744313,
          -0.9248623705166903,
          0.7561395306586004,
          0.18679821584189496,
          -2.458974011491853,
          1.0844166335409005,
          2.3279750069547265,
          2.8057957719536266,
          -1.285499293064084,
          0.2112297658725361,
          -1.358326433230945,
          0.5290431163261077,
          1.1333345716223566,
          -0.5974653066809341,
          -1.5164735794873772,
          1.3695217692990749,
          -0.11322441444650172,
          -0.38519726766899454,
          -1.1229644040120377,
          -0.9071799458826657,
          -0.22520979980708983,
          0.9839008088801059,
          -0.09607453698296577,
          -1.487029491505337,
          -1.779355541437242,
          -0.8633105677611843,
          -0.30519402394722517,
          1.0597524188335394,
          0.29323934020383347,
          1.3594544433307425,
          0.5169073771098285,
          0.5564925095213854,
          0.13476417451548917,
          0.1977731754583202,
          1.2767929129960414,
          1.654261572886642,
          -2.3688411633619815,
          0.6610248324067521,
          0.457345896003409,
          -0.14459227145300987,
          0.39267000402823055,
          -0.3249282393106742,
          1.8088356553397242,
          1.015598827631147,
          1.2413917864890316,
          0.2633980219769785,
          -0.2900958066503083,
          0.29608891012006655,
          1.174233864004504,
          1.3957452508829078,
          -0.652502737881994,
          0.6371024987001148,
          1.3663409294540774,
          -0.945754090443429,
          -0.3482170158284631,
          -0.6176680867063619,
          -1.1726723071102978,
          -0.044178389273409946,
          -0.5212914837677466,
          0.5926969396523396,
          -0.20195330330358183,
          -0.38394915694261583,
          -0.7426061066750848,
          -0.8851301352591001,
          0.47667741111224604,
          0.020186709444066326,
          -2.049907762967183,
          1.6296222188259226,
          -0.2114198700557442,
          1.663124277094912,
          0.8372754189296177,
          0.3456019275684788,
          -0.6661615313485225,
          1.445983261180544,
          1.1428687628775962,
          0.6267691154271569,
          1.074287185676522,
          -0.29980164790105335,
          0.9183124815437256,
          0.4285643203711457,
          -0.8964107755045071,
          -0.9150148895619298,
          -1.678051374404262,
          0.39304476290987267,
          -1.9306325348894207,
          -0.12927211979681863,
          -0.1627372602468969,
          0.04820983478622845,
          -0.32321213862217246,
          -0.4124673620947597,
          -0.20469262806954494,
          -1.087924750498087,
          -0.06392234953410857,
          -1.00006936216115,
          0.6093663411103191,
          0.6477573445385512,
          -0.11157835752531164,
          -0.6203778884801551,
          -0.21204796198469136,
          -0.7705766874744899,
          -0.35988939980926965,
          0.08162657278892349,
          -0.566221262994531,
          0.4442580656736993,
          0.21032685685031646,
          -1.95039948978456,
          1.0415522300493243,
          -0.07948848769728847,
          -0.7499892291576011,
          -0.9548426795520145,
          -1.0622117112924563,
          -0.4800238511762749,
          0.20190887129810267,
          1.7530494629993536,
          1.816088036939797,
          0.08520647452825807,
          0.4705968697547175,
          0.8288824565962163,
          0.5087382997141017,
          1.3050802820223046,
          -1.3085384742448687,
          2.5808525689886777,
          0.781332010786776,
          -0.7031569593323242,
          -0.5656718173751834,
          0.6842466269803542,
          -0.7654579030541773,
          0.05072922624662564,
          -0.47769337631157693,
          -0.668101175357099,
          0.534895144041223,
          -0.7170846100391929,
          -0.9156651723133259,
          0.010726536822795832,
          -0.40447273859707994,
          1.3094283654166947,
          1.5470902858644169,
          0.1587992624770394,
          -0.6777948955537838,
          0.0446075385939553,
          -0.9068855143772011,
          0.3105303400259497,
          -0.9263528840886118,
          -1.3391684936564388,
          -0.9871035534987196,
          0.22901197323406677,
          -1.4926478582775742,
          0.11862306838264836,
          0.5290480111351039,
          0.5351050573284402,
          -0.32201684147131654,
          -2.0610524807066195,
          -0.572659270482588,
          0.4787590616538555,
          -0.5016441103693583,
          -0.7380066253780228,
          0.29982253572844164,
          1.2555734236797098,
          -0.45275937280262846,
          0.13220088258443083,
          1.628122025632028,
          -0.4074356955946756,
          -0.910028695072406,
          -0.7288193169852563,
          0.4913048451151784,
          -1.0941810791018878,
          0.06346012233565335,
          -0.13703853593947193,
          0.8622286049205043,
          -3.2722041121342698,
          -0.5407571153929905,
          0.5299751134128943,
          -0.6903657163075394,
          -1.114830969114374,
          -1.040298473979405,
          1.3860145155279988,
          0.6111268730629417,
          -0.5109130511581168,
          1.1331113964809718,
          -0.6080065746149145,
          -0.16833302910533923,
          -0.8764856119016723,
          -0.608623952944383,
          0.7632178154556573,
          0.23509849695410948,
          0.43448466446495276,
          0.010127018086626078,
          -0.5578855570179894,
          0.39039938757005244,
          0.3375038439615333,
          0.5047359022966998,
          -0.16296139249106223,
          -0.47499851540911153,
          0.9041774652997119,
          0.13798031655948592,
          1.117903703216061,
          -0.37029023712765924,
          0.1057252782976659,
          0.8019855158496173,
          0.7007558475739318,
          -1.1558771244518682,
          2.499142170784376,
          -0.022538316220504794,
          2.1605124241302858,
          -0.8659546225148385,
          1.4885121306107894,
          1.5061229798440485,
          -1.524367005927112,
          -1.3771617678484447,
          0.3955389576853036,
          0.3556249304427126,
          0.8423420491559113,
          0.8770297129610327,
          0.37392053393368857,
          -0.028907745742720717,
          -0.8522463747413491,
          0.8345322373957946,
          0.3774283529903788,
          -0.6930331496107961,
          -1.2826044421114682,
          -1.9248834627573863,
          -1.0201506575111716,
          0.07151045014878689,
          -1.0776215157881517,
          -0.26215501381931855,
          0.05114703530732351,
          0.991225475201363,
          1.169100996341028,
          0.8502611237373217,
          -1.2621226746018641,
          -0.020156920267952662,
          0.30205301744895313,
          -0.09512277863001435,
          -0.30801468469607396,
          -1.2268696321203127,
          0.652777661091698,
          0.6676138561978138,
          1.5906632316403866,
          -3.102520439361303,
          -0.7416877885000478,
          -1.2733165917904774,
          1.3875457723499154,
          -0.5958992897616213,
          0.0027077954366950107,
          -0.3299842749246003,
          -1.258403313005349,
          -0.3548969853340848,
          0.8184841734704879,
          -0.05828458024552864,
          0.13530593510251107,
          -1.076473773900424,
          0.9384461216558194,
          0.7920639970473871,
          -1.3645326602788794,
          2.0163949232932272,
          -0.9376818208532821,
          0.8703981948702225,
          0.6445385554360232,
          1.5377069877335423,
          0.6063655552634555,
          -0.38085956881775107,
          -0.29389317394517517,
          1.0760455482687403,
          0.0938078190331142,
          1.3955646469499339,
          -1.8411572729757768,
          -0.66060363800964,
          1.3814571480057265,
          -1.6613648304936304,
          -1.4067460923709956,
          0.05022029033422313,
          0.4380806457607904,
          -0.4711402252222404,
          -0.8243456930601866,
          0.06767815892694425,
          -1.175670922769681,
          0.37348785579891086,
          -0.013183447087985826,
          1.8427818948969314,
          -0.10808510530313685,
          -0.9146952921344772,
          1.2992756444056686,
          1.1630374512578265,
          -0.1401730239778016,
          0.5338925270346763,
          0.2581391713260779,
          -0.22932763387158156,
          -0.30411065306785956,
          -0.8628881257231781,
          -1.0115625130764059,
          1.0993977027259065,
          -0.8496498056569276,
          0.14926786726908287,
          0.022059684688433587,
          0.49491681107811547,
          -0.30987994521132817,
          -0.7441842835454405,
          0.8868667161036529,
          0.6092818579543638,
          -0.26412960441422806,
          -1.8472634864484017,
          0.8336234142546136,
          1.396411114963646,
          0.06177619780966482,
          1.0240788546680786,
          -0.13511853642922733,
          0.5069104064888154,
          0.059991193232813406,
          1.22991037246971,
          -2.5941139277892775,
          -0.6025715753750901,
          2.639971623024763,
          -0.06817941474930392,
          -2.0142267120458905,
          0.12160745410800883,
          1.045127077225557,
          0.7590308035564869,
          -0.14202515923951559,
          -0.2007544697411433,
          -0.4062220607691947,
          1.5946257279916423,
          0.662234263212341,
          -0.5350512552153694,
          1.9030333881826216,
          -0.6859887350571101,
          -1.793893674262347,
          -0.4258755939490003,
          -1.243149569627991,
          0.0019497596555981607,
          0.904811416953316,
          0.552589698826398,
          -0.02584462979706817,
          0.367232419408243,
          0.7334840971347477,
          0.37773228350448734,
          0.43632422142362043,
          0.15843614988900476,
          1.4111099963390719,
          -0.3858112944938097,
          -0.35864444040310384,
          -1.0510456304478124,
          -0.10544765394618201,
          0.1509769993156068,
          0.17172045993500593,
          -2.862043431789061,
          -0.6799326998876858,
          0.677641689624293,
          0.07360217635309647,
          0.4854221611391548,
          -0.747402741407775,
          -0.11777081306957307,
          0.48761066969760325,
          -0.10807601747786476,
          -0.15287289021870376,
          -0.5100524421070561,
          0.138401177849348,
          -0.2529959633084274,
          2.0660241200041263,
          -1.1554725484263464,
          -1.1074247580016494,
          1.2817897829916751,
          0.4123405934644688,
          0.30343674017887284,
          0.25046426328593563,
          -0.23528506027607035,
          0.9428071573636866,
          1.3570934499722778,
          -0.8385779459778911,
          -0.4746155203919233,
          0.17510760544283305,
          -0.9145944365975032,
          0.4177050777367466,
          -1.2453184528538137,
          -0.38263822833654887,
          0.08211671523221155,
          0.12589333463793992,
          0.4223809055857716,
          -1.0563105330951506,
          2.393252910911953,
          -0.6662499597114862,
          -0.3085211684632623,
          -0.3035085719776558,
          0.7743599308388969,
          -0.6017872548913555,
          -1.0234713521135113,
          1.2212549215553343,
          -0.5932216177807824,
          0.4413561547343344,
          0.6211088565523597,
          0.10962636155476889,
          -2.1498835181692946,
          0.1968500641914119,
          0.043915188616119365,
          -0.6752593990246102,
          0.9119460392225794,
          -1.0711252090145693,
          -0.23954132069386413,
          2.32095237457824,
          -1.2497892340243666,
          -0.5424509311783685,
          -0.9149680360315957,
          -0.21721226571151198,
          -0.6236749207314943,
          1.4114005986202351,
          0.38673295897780424,
          -0.543500813116486,
          -0.2960245411797753,
          -0.7843264679390078,
          0.8920064664731375,
          0.1516056963692237,
          -0.4440292170972957,
          -0.6109847553037179,
          -0.14661661641997123,
          -0.8393846857004968,
          0.06944068664903288,
          1.3877584471850046,
          -1.2729040076053928,
          -0.7261134225038126,
          0.6114046418400281,
          0.3608959705385595,
          0.241481283939316,
          2.006186700528903,
          1.0129807785749858,
          -1.0586329352649195,
          -1.939260386102037,
          1.6479533642789141,
          -0.6990106116574086,
          -0.6341877352574552,
          -0.04841810843663451,
          1.4004888807077827,
          0.6906149768117658,
          -0.053938744886262,
          0.5331819469648194,
          -0.6183551738037607,
          2.2255226309103433,
          1.7487585415967273,
          -0.2524279617776586,
          -0.4550071845374643,
          -0.3726510408355911,
          -0.0796709003368232,
          -0.3623358233410878,
          -2.382365333226615,
          -0.0356231750071922,
          0.599670188501858,
          0.3029842254674085,
          0.4742897540686726,
          0.3970138624976535,
          0.1377203061004834,
          -0.6592646354775508,
          0.7751360230789177,
          0.28486099169905155,
          1.2918034755757595,
          0.07437164454725456,
          -0.6404955562295052,
          0.20705144565793576,
          -0.5843790564953733,
          0.4278956117712746,
          0.05957453905148126,
          -0.27951957950799494,
          0.8507456997245841,
          -1.8408602428247476,
          -0.5129270548413821,
          -1.1899235926395555,
          0.7346203962989885,
          0.7743841922699918,
          0.30158695998532753,
          0.9344379091911414,
          0.49922343119825735,
          0.40700347270959364,
          -0.575249098641437,
          -0.16849506780766224,
          0.6348064347551365,
          0.8559931210521706,
          -0.3212292932752388,
          -0.6309962156734918,
          -0.09941597383689167,
          -1.671070568348376,
          1.5273973086161938,
          0.9928605150145453,
          -0.8466294574158605,
          -0.8339364015116297,
          -0.06741798607930799,
          0.09416094373317159,
          0.6209075342395365,
          -1.4821298078070557,
          0.19330680135602396,
          0.7885069466293579,
          1.2378890362316777,
          1.0228876440656052,
          -0.3260139858209956,
          -1.99644730190575,
          -0.38781888632764616,
          0.5955017738541051,
          -0.9079045182108563,
          0.1598397369341334,
          1.23254030260034,
          -0.8960322421849757,
          1.0292476255529666,
          -1.6329182634485035,
          1.9715724665389456,
          -0.4818931995563132,
          -0.4807031735595589,
          2.327529146025154,
          0.6096220958417999,
          0.931267828836524,
          -0.32647838963395526,
          2.5638739952369707,
          -0.751544309665691,
          -0.15871792722688416,
          0.9085395754679643,
          -1.4532700696637377,
          -0.19251233320636102,
          0.5191998016528404,
          -0.11267714909765753,
          -1.1532585262833415,
          -0.7790136992371313,
          -3.022056131271473,
          1.4476473595351038,
          -0.8280783074720713,
          0.14953567175031815,
          -0.05125349921308272,
          1.934038767718771,
          -1.8612924514921236,
          -0.40130882178988103,
          1.8452140876933574,
          0.664065235799578,
          1.8174539614909087,
          0.38681059416174784,
          -0.8888421517113467,
          0.1845218330524975,
          -1.0004023333565608,
          1.3600038770682126,
          -0.05005172140983748,
          0.354598899176993,
          0.42645892297886995,
          -1.0550545248821341,
          0.3308964732541786,
          1.4279720513592915,
          -0.599523958820229,
          0.24435082968335467,
          -2.031113355084784,
          -0.910161671245069,
          0.19890695454577206,
          -0.9377185002026597,
          0.03979375125771909,
          0.20281489242974027,
          0.43184103493622666,
          -0.7939908667848755,
          -2.613393219186323,
          1.2090294151258238,
          -0.43564310089630953,
          0.7645601933006598,
          -0.9786374808596422,
          -1.451840261072697,
          -0.5051076869025126,
          -1.5748902301661023,
          0.5174956140041486,
          -1.1062926984620864,
          -0.5979857632969,
          -0.03315444204177282,
          -1.3379306646061064,
          -0.5344468199400656,
          0.9147374275537713,
          0.6850751377636299,
          -1.1633964562812869,
          0.09600429771645111,
          0.6784665599782629,
          -0.6080641030406191,
          0.5337318020497916,
          -1.4264345911626541,
          0.4927075834256155,
          0.15619367707092022,
          -0.5832326419210845,
          -0.16762851713570948,
          -0.24814448005601217,
          -0.5373434164815295,
          1.69292663124603,
          0.7310385292573197,
          0.5131611314152434,
          0.15861454300913824,
          2.8617673264904275,
          -0.7985793101553309,
          0.2919590539915385,
          -1.2586099188380035,
          0.34037333000295306,
          -0.1114996328822923,
          -0.31421410394139987,
          -0.3713385610316998,
          -0.10651236110444362,
          0.1590233829742685,
          -0.785198370619354,
          0.45266607036140444,
          -1.4397750207697693,
          -1.4672838868173923,
          0.8181132188948996,
          0.37543214196974356,
          1.0575197037744584,
          0.753556873033741,
          -0.2649729389603487,
          -1.1094630150018103,
          -0.8535826045949485,
          1.372822834541972,
          2.8979082540028775,
          1.064812309057188,
          1.3495282089926584,
          -0.3540327584728591,
          0.9090569179918563,
          -0.09390717035874413,
          0.24095311616788617,
          0.48265369016188864,
          0.0281089191966677,
          0.1810769548763576,
          0.22443475197427953,
          0.0448693265162713,
          -1.044604268160965,
          0.8814553947435579,
          -0.30778583889040223,
          -0.16723092074188664,
          1.1225358497652107,
          -0.002209216032723984,
          2.059670910982299,
          -0.4334876164614738
         ],
         "y": [
          0.3279828271227054,
          -0.6554915395089348,
          -0.2445630740894806,
          1.323591772572846,
          -0.214918627976312,
          -0.4910782139566471,
          -0.6513185791620149,
          -2.036069373634973,
          -0.4311831747579831,
          -0.33024198874944444,
          1.5328593324277806,
          1.1415986052231533,
          0.7890570825617523,
          -0.6900527332815405,
          0.5148657410583601,
          -2.005222481484949,
          -0.720111006232243,
          0.5089962062164424,
          0.18934506611900184,
          -0.7060442134639205,
          0.11277474321089605,
          0.04020850917428573,
          -0.36056871641980626,
          0.32127047137643655,
          -0.15727621476042802,
          1.3962844594982171,
          1.732059865634372,
          -0.3975348519130771,
          0.02733534381888954,
          0.3264546234073273,
          -0.31342159384933743,
          0.8830727845003783,
          0.864205620248621,
          -1.887763144457249,
          -1.112324079794874,
          2.1593489658622693,
          0.016552412721885065,
          0.6458225187215357,
          -0.28918974965679317,
          0.2982397484388114,
          -1.2530529816137561,
          -0.49737930163121846,
          -1.054649051537323,
          0.07385840654550234,
          -0.0006751787981462029,
          -0.3833901254367819,
          -0.7400969217225724,
          -0.2345957947013203,
          -0.6030782656325261,
          2.0678509615074585,
          0.4682542414412787,
          1.701828509517181,
          0.34247233418418394,
          0.8331313963967607,
          -0.4369113391120193,
          -0.21346643829479925,
          -0.3281701745162419,
          1.7389466636747506,
          -0.03285469412796877,
          -0.3918528182974177,
          -0.1919024154915431,
          -0.15826609251175455,
          -0.2954595939978773,
          0.16856474044487513,
          0.004379570881792277,
          1.056093652294252,
          0.08033907121967532,
          -1.3192552105761042,
          -0.5934803456763137,
          -1.2126290629027447,
          0.0730425284364768,
          -0.08980365957578115,
          -1.6722310461595724,
          -0.2016057083985274,
          -0.41500777595094995,
          -0.6000064237873052,
          -1.3790974989152918,
          0.9707682293054809,
          -1.7482136338061727,
          0.8623422951281604,
          -0.6995816074896681,
          0.8924667160862807,
          0.8052475891730865,
          0.6843751379383581,
          0.03399545038206872,
          0.4423821418433591,
          0.5386121617791062,
          -0.05046600265022503,
          -0.6225934228397864,
          -0.9071792314100172,
          0.773069149035849,
          0.7009392255969021,
          0.47920472775758255,
          -2.2885807098400117,
          -1.9017667741088216,
          -0.4199096890366355,
          -0.9279809278762318,
          0.9289913751962148,
          -1.1083329031232634,
          -1.0789949420766232,
          0.639663893786085,
          -0.5560683203271154,
          1.0284939648999336,
          1.1950128684335686,
          1.6737280708321813,
          -0.9520075518124264,
          -0.30931203973707816,
          0.12231904313934441,
          -0.3873432700782404,
          0.8939142211341479,
          -0.6422848334478379,
          -0.7093115499428982,
          1.8643373891957329,
          1.4378294557910287,
          0.9863421078526032,
          -0.22290250918561152,
          0.7716941652232084,
          1.1234636427233649,
          0.0736420276846904,
          -1.4824451386264457,
          -0.09723898054175877,
          0.6150582942818204,
          -0.5930572850154624,
          0.2967674072122801,
          0.3616378281992319,
          1.036457937119664,
          0.8644849875271567,
          0.48941108779449455,
          0.8707828942209734,
          0.8182400745444003,
          1.504609332284832,
          -0.9223328502975204,
          1.9675361179012842,
          0.03363768820258585,
          0.8946468354448597,
          0.44025373871302315,
          -0.6411881261747571,
          1.7438003406360418,
          -1.904542086896152,
          0.23931964476470688,
          0.15803561141697134,
          -0.7494289017255807,
          0.6027121582412965,
          1.009519574637218,
          0.763443977662867,
          1.4848181902568238,
          -0.6114983515789046,
          1.1874034520705248,
          -0.8400474381707093,
          -0.3821769218359775,
          -1.5452411242888204,
          1.2169574502590161,
          0.023694508444637608,
          -0.6023966138811193,
          -0.43468028544499154,
          0.09498331661893714,
          0.9805168623091922,
          1.4113550930204097,
          -0.3336772364984587,
          0.5446954464407218,
          -1.268438950006229,
          1.555524121160982,
          0.4647882472158709,
          -0.7657828839316969,
          1.646337297024354,
          0.06672196414968169,
          -1.0049028056327447,
          0.10453366258573289,
          -0.37921835661719383,
          1.4664535638937697,
          -0.46437288964387075,
          0.37378377029347326,
          -0.7561419322029215,
          -0.29100115180528524,
          -0.13704191435907756,
          -1.5256020598466813,
          -2.16997422986413,
          0.003219644300160437,
          0.9092316550442338,
          2.350328202890156,
          -1.710502134596758,
          -1.8538070023040252,
          -0.13006322932182315,
          -0.0752969974245595,
          -2.5257084588790373,
          -0.24006800307078696,
          -0.381456322402232,
          0.33887335992559786,
          0.4560348094075917,
          -0.3322632741731198,
          0.8291416280211739,
          0.4270950412723662,
          -0.8633325636889995,
          1.1369962102779736,
          -0.32821098296755186,
          0.9628499436505129,
          1.4759368742730368,
          0.6717698916819577,
          -0.3059922823428843,
          -0.3808458580649111,
          -0.17805518225772105,
          0.6235777112571613,
          1.7508006897719095,
          0.17909781542816547,
          1.2233320538667452,
          1.9364220786437647,
          0.7967581111602734,
          -0.08975565091018753,
          0.12395636119567731,
          -1.4173755734288023,
          -1.7717131410076017,
          1.814212506363958,
          -0.8184205526371282,
          1.231017771471893,
          -1.1123355049572523,
          -1.1115680534877597,
          0.06144637670915448,
          0.16569595477260857,
          1.2149676875568274,
          0.2421668695943099,
          -1.3121479790977821,
          1.5809147694557677,
          0.4128748128288891,
          0.06836643355382502,
          0.3314785167020645,
          0.5456073495483005,
          0.6964798678900453,
          -0.11730607600942039,
          -0.4799690248892318,
          0.3243923492778683,
          -0.04089268417880769,
          0.194022482428236,
          0.6271740038412962,
          -0.28518447966393495,
          -0.41080775491852856,
          0.20822243860071882,
          -0.6063257394809518,
          2.4235368761176814,
          -2.080424921109838,
          1.193265698731343,
          0.649679799362714,
          0.0715546755593639,
          -1.177573312308236,
          0.14717516866442376,
          -0.48427824356481114,
          -1.6630703662222055,
          -0.5723954971321964,
          2.44063308508458,
          0.2352783531392655,
          -0.18921117885701433,
          0.8652659833274678,
          0.7601251642755597,
          1.4926512442981639,
          0.10356083621984717,
          0.9019034927867711,
          -1.0715964468678707,
          -1.3109044617648977,
          1.170433346287379,
          -0.5982428890660263,
          -1.2507220809853077,
          0.5840159378710957,
          0.11644965218544584,
          1.275276327444662,
          0.2235246461817603,
          0.966936033457448,
          0.3534647973797969,
          -0.06894428280248457,
          0.16492086955492366,
          -0.8695726656621283,
          0.5172174703328027,
          -0.08034919140029141,
          -1.8662952679949263,
          -0.6323407058752366,
          0.3352245196125138,
          -0.622781371769194,
          -0.5375758461760765,
          -0.33392163066379665,
          0.475953907610267,
          1.765958119006514,
          0.772522139829925,
          -0.31977611123748784,
          0.4683632749161836,
          -0.5878734337002066,
          0.11958877227744993,
          -0.10923906674464237,
          -1.0210788575285459,
          0.76870591224112,
          0.6682948814095425,
          -1.0312310810627021,
          0.9147392504969409,
          0.22576917094465343,
          0.8288088098038501,
          1.4148876521932563,
          -0.2964801588914905,
          2.0932520700556374,
          -0.44912901790402066,
          0.15610648919883374,
          0.45708150398520314,
          2.0960995238920943,
          -0.9185421664391916,
          -0.2343295326596369,
          -0.5025031552541082,
          -0.621585832902154,
          0.3649541552882968,
          0.6743812542992246,
          -0.971671109103143,
          -1.0474005071868917,
          -0.9051877439423042,
          -0.3675593157683274,
          0.5037332460583621,
          -1.0732883734873326,
          0.5021679901222107,
          1.6845834973317346,
          -0.7414090389825054,
          -0.5502545670769105,
          0.44282180975984264,
          0.6212992240855106,
          1.8401658919277861,
          0.6470207330808704,
          -0.41905446339182884,
          -0.698584506528805,
          0.20480434859010577,
          0.48749134035643205,
          1.2690819118923369,
          -0.34885937535474476,
          -0.47371899262692485,
          0.01825022192999286,
          1.7594961128951145,
          -0.5671989692194241,
          -0.8775310329768918,
          -0.43595822350546515,
          1.5017015984341922,
          -1.729784348118612,
          -1.6899101825409124,
          0.0971089169435007,
          -1.5780548434858013,
          0.3709452920259764,
          1.1567614191648932,
          1.3931843242934243,
          -0.703995733878707,
          -0.6580586433358405,
          0.1810765601332112,
          -0.7949379479970795,
          0.6787661496918003,
          1.2141108803314744,
          -1.3918487561674644,
          -1.5620203830113515,
          0.018724583370825314,
          1.0583858169384266,
          -0.05740555683910667,
          -1.134596054866429,
          0.7488755385089895,
          0.5946910842407895,
          -0.3321642667753782,
          -0.8132977224379521,
          0.04500897139453175,
          1.778358771998085,
          -0.2904988529986872,
          0.1810616944560105,
          -0.2567794298576,
          0.10885315157820129,
          1.3211772055886895,
          0.2322706433265681,
          -0.07853276965202913,
          -0.488996891213912,
          1.4686318983720716,
          -0.5268460220143774,
          0.500500471942375,
          0.23004532825760246,
          -0.35321049190375825,
          -0.6454608214338778,
          -0.5430457025496392,
          0.7716518000081508,
          -1.15052759949589,
          -0.033427949490225144,
          -0.1578889329088527,
          -0.24067808567441207,
          0.08817953662213272,
          -1.3364711785085477,
          -1.8576312647292554,
          0.9612663152166268,
          -0.18747553293741281,
          -2.209448678463319,
          0.12773958012216013,
          0.030402114486876887,
          1.037341258228076,
          1.3805972688600225,
          -0.5436567652461255,
          0.47600781728552843,
          -0.24480718424834735,
          -0.6042861113671426,
          0.7025424731406322,
          -0.18735635365670913,
          -0.5649800828662717,
          -0.11662108311765822,
          -0.13423395044060812,
          -0.6484814676934291,
          -1.029160103707042,
          -0.08350374948149612,
          0.886615971434463,
          0.7888123748333077,
          -1.1895084109288758,
          -0.3622928896084102,
          -1.0792948482817153,
          -1.1197571869199419,
          -0.6725531960922477,
          0.3309336041013679,
          -1.0001657763836211,
          0.5384011395943772,
          -0.29787831218413113,
          0.4961928148628981,
          0.817815705649353,
          0.447945803823095,
          -0.41803607407730853,
          0.04837049538814449,
          0.5453566469821906,
          -0.3153543962912405,
          0.8795648549160516,
          1.9679406288275594,
          1.577382873284504,
          -1.8862163047329403,
          -1.0682935134689127,
          0.7413355765244534,
          0.30616620728189375,
          0.6645950249478528,
          -0.5638619649737204,
          1.6250084400945406,
          0.19968743425237054,
          -0.04905569784767077,
          -1.2337487090991603,
          -2.2795602544978673,
          -0.7835983940125028,
          -0.49827666128818343,
          0.1356572900470479,
          1.1543160438994253,
          -0.8455073430796941,
          -0.5109244014379247,
          0.6377079541995835,
          0.5293320614319698,
          1.6339241233242308,
          1.9822530381248886,
          -0.7706840517798681,
          1.0436724956396004,
          -0.9406273639172111,
          -0.009255518400016281,
          -0.6970383452864871,
          0.8166408508444413,
          0.88881622742138,
          -1.7474321922429332,
          1.525850932502605,
          -0.2698395797714648,
          -1.489002161931051,
          -0.2394899783321037,
          1.4060747691527815,
          -0.4240100951790189,
          0.5176318689332038,
          0.1464257614728791,
          -0.5004050122238421,
          -0.5534404349738039,
          -0.08635527227889638,
          -0.2398424412659461,
          -0.3985053010202278,
          1.138576085099483,
          -0.8006819777921009,
          1.5653961850432874,
          1.3094301277550748,
          1.6472758216200343,
          -0.9364302780717217,
          -0.5105520468890363,
          -1.2962407756666277,
          1.566796999296539,
          1.2244003631522296,
          2.181445087759499,
          0.6246404789397506,
          -2.0014227485933933,
          -0.4105313167170375,
          1.6098113983269808,
          -0.78457581920878,
          0.27366831542353887,
          -0.07135326410329272,
          -0.3784828500964987,
          0.8123824575907131,
          -0.3060670062342461,
          -0.34092272954312985,
          0.6431371986815961,
          1.8251596993286308,
          0.0543418802926505,
          -2.3571411306327055,
          1.5780647666973113,
          1.6206967362118836,
          0.20756055441904975,
          -0.8702876761064203,
          -2.4297328541826637,
          0.7663792543972936,
          0.599606771895272,
          -0.3641806459581053,
          -0.7649538615265721,
          0.9107277050799071,
          1.7563668991697197,
          0.15446929331227052,
          -0.7429429934782136,
          -0.3005062098019573,
          -0.061876078365667865,
          -0.38775429258242533,
          0.25603159403998843,
          -0.08208669358469038,
          -1.283493856848448,
          1.158597625786792,
          0.5653802710317791,
          -0.07062145267381237,
          -0.7408358575640234,
          -0.6730443964714443,
          -0.3896306461451399,
          0.041216527289122167,
          -1.4148520981045574,
          -0.1356824758846472,
          0.6360707605076035,
          0.21784697490288085,
          -0.5172938609819994,
          -0.5794161769307917,
          -1.5337891018817882,
          0.24565905598488325,
          -0.08147870615038118,
          0.26638661739372543,
          -1.6314504202078652,
          -0.40618752610789893,
          -0.41297760898028585,
          0.09184579401726056,
          -0.9151665605986344,
          2.426589025163136,
          -1.2505464447705366,
          1.3321814653154862,
          0.045328278490912234,
          -1.2098651536485432,
          -0.3395547730305797,
          -0.11834995175939803,
          1.7820888280082139,
          -1.769053411689105,
          0.3278753881310146,
          1.5420985343766573,
          -0.3348417755495621,
          0.24107743859978248,
          0.7576408348030629,
          0.6999181247257267,
          0.6893408174875596,
          0.5769467402871696,
          0.9287246328376889,
          0.16037693539299458,
          -0.8393493934134685,
          -1.2803562183977155,
          0.5416297053633383,
          -0.5532040302345131,
          -0.9020576499390799,
          -1.4682323304079654,
          -2.4228732227036,
          1.544401007462177,
          -0.5809483426423986,
          1.4682567125175867,
          -0.041873855819982445,
          0.11807054806682273,
          2.622088215057981,
          1.340659611784691,
          1.6089218446985365,
          0.5178402362238212,
          -1.206647718043715,
          1.6180057829013559,
          -0.014842582342185691,
          0.370521050384735,
          2.174923720956008,
          -0.23259681213902084,
          1.455498381033747,
          -0.6946041029457991,
          -1.3266409580846519,
          1.5182495923138337,
          0.23847109028509003,
          -0.17021607826488475,
          0.24796937027124483,
          -0.8257163654245926,
          -0.8087796121341156,
          -0.740757023167438,
          -0.8452606180630826,
          -0.3778279745213027,
          0.17800451728075992,
          0.059506965315302744,
          -0.1982922874628263,
          -0.4611685920581093,
          -0.6052785798147478,
          -0.4586198202258025,
          1.937772824627981,
          -2.1280173522331616,
          0.0159941545743586,
          1.5497745314628226,
          -0.3404419229412727,
          0.5565018412318551,
          -0.4984406537166575,
          1.2955062035779452,
          -0.17108685415167582,
          0.6448274014407039,
          1.1738000980107215,
          1.260690754618499,
          2.3759802937936625,
          0.7889305543168231,
          -0.7502761769025853,
          0.08638286727495634,
          2.17350654924206,
          -1.5856224953125695,
          -0.3249652412338011,
          0.05110253086138173,
          0.7782027470454177,
          0.34185486299075474,
          0.7632829714944249,
          -1.07735259149623,
          -1.1067351285615794,
          0.05619537025375124,
          0.6783287317134408,
          -1.147989373854023,
          -1.4771167416404185,
          -1.2387541445325305,
          1.0843703804748137,
          0.46280208577001936,
          0.2270409426913955,
          0.8057917515042888,
          0.9261115578214317,
          0.36565046137808366,
          2.0346821414190837,
          -0.3286661040943808,
          -0.6273699680166281,
          0.3551429399073792,
          1.1970109568711942,
          0.6635474255155444,
          0.5581702220793212,
          -0.16137719048918953,
          0.45192806680974534,
          0.7172250670468234,
          0.8120211585462063,
          -0.5415996015773565,
          -1.3765820967909939,
          -1.2672136661287199,
          -0.46251442910440843,
          1.651198613537196,
          1.354187946225891,
          -1.2283882148912433,
          -0.36485043107192705,
          0.17050843944869046,
          0.16233049072934433,
          0.7577506580830479,
          0.2248176350087582,
          -0.8040531623893834,
          -0.15734007088645813,
          -0.6413955633677532,
          -0.1557886736625039,
          2.766015976439774,
          -1.937691651442136,
          0.5090412361631574,
          0.9015256737427468,
          -1.5967799117645463,
          -0.48198151217131296,
          -2.6206620934650786,
          -0.1752390527636628,
          -0.07744317897848803,
          -0.47339826895388415,
          2.119236732654957,
          0.22607411960069249,
          -1.9106000391812663,
          -0.405974172008401,
          1.211462644643272,
          0.426511759547951,
          0.35347193372559954,
          -1.1201468661236718,
          -0.20493200900657563,
          -0.05753866281482202,
          -0.9864117135399162,
          -0.039536232631438545,
          2.207054772305608,
          -1.4012977392996173,
          -1.7217554182168775,
          2.3329858848739415,
          1.4162542074715085,
          -0.31326677962949523,
          0.36772240983791094,
          -0.0646530139314882,
          0.7454779413092623,
          -0.3414691911310361,
          -2.0858648568830143,
          0.1086966918547042,
          0.13849045690555128,
          -0.010495001419071866,
          1.2203768419104444,
          0.5651234880959118,
          0.5349070488136881,
          -0.5658479785670423,
          0.4305298353164824,
          0.6238536128418641,
          0.6765788673461999,
          1.7014584942987128,
          0.8401561988939273,
          -1.661025315455506,
          0.006540075761088514,
          0.9808127620195227,
          -0.5402283198361271,
          -0.2443922144730148,
          1.5562638725550746,
          0.1415177477824165,
          -0.5491005343789581,
          -0.9222741883566749,
          -0.4280918782726587,
          -0.38758220941460303,
          1.978609285089228,
          0.20826470169824166,
          -0.38255463162548214,
          -0.6826490326278571,
          0.17961327749315406,
          -0.6582256068052789,
          1.4877828578959258,
          0.9358786812978711,
          0.38335862914242497,
          0.311712756072296,
          -1.2773169387189993,
          -0.5324376954208059,
          0.208941026642975,
          0.5192408797790974,
          -1.6764567740402363,
          -0.4792064057114358,
          1.5509913276568685,
          0.5310360298547596,
          0.04608848818527624,
          -1.0195972606509067,
          -0.332929386967241,
          -0.2452922079297508,
          -1.5174086963488378,
          2.099412604813096,
          1.1760653933861198,
          0.07082742062569168,
          0.6036962545911778,
          -0.7120752954966234,
          1.4623827490853163,
          0.04045575670874869,
          -0.1329506197710046,
          1.0339893864320397,
          -1.8465107418452062,
          1.0871110287942376,
          0.7453811882131824,
          -2.3950146928763814,
          -0.9581478048223888,
          1.909656576556548,
          0.7652380421842295,
          0.433785958986409,
          -0.22748334179931803,
          0.1688824906115928,
          0.356315999603589,
          0.4731447151569786,
          -0.12314808374136392,
          0.8336171899370517,
          0.7803699181953706,
          2.9488225462991005,
          1.1484869436143699,
          -2.047305139915231,
          0.9417123084741784,
          -1.9327386861703615,
          -0.10904426659509825,
          -0.6201307628193452,
          1.6000896736391754,
          -0.3655191383181186,
          0.12274834958312886,
          -0.9821520030731966,
          2.454240762968184,
          -0.3790312196489305,
          0.20886560698923753,
          -0.24119014629580893,
          -0.5782230033263778,
          1.979292544517329,
          -0.23652813403861153,
          1.4794890267999052,
          -0.8644444453934214,
          -1.4172684837493608,
          -0.18260603115679705,
          0.20305890851714148,
          -0.25371643437478975,
          -1.0823126814659396,
          0.7114346176946328,
          0.47687419577788775,
          0.5492523102763606,
          -1.0516644092607546,
          -1.1804186516360633,
          -0.7552365482772609,
          -0.43301157815644487,
          -2.5327325295793504,
          -0.13961548456749714,
          -0.059691536654310595,
          -0.06398495960467274,
          1.0751433375296817,
          1.9541152432006579,
          -0.33887974359965883,
          -0.2545072961373247,
          0.654757217347639,
          -0.5102177166062856,
          0.5298749971384473,
          -2.1415210894365395,
          2.268993319509174,
          0.324328209767448,
          -0.5716892451552427,
          -0.12030190578060145,
          2.116966013220652,
          -0.5765575386239687,
          0.09937327527644205,
          -0.3846873570791751,
          -0.46184901292985675,
          -1.3700360639640812,
          -0.28265790399717156,
          0.39224073415282473,
          -1.6990066483629171,
          -0.6820061820908189,
          -0.18231582251538386,
          2.549473915006407,
          1.2847258508304376,
          0.10540938782750545,
          -0.6457482587315359,
          1.3131713206263398,
          -1.6678304952088965,
          1.3578898878053625,
          1.1453583384652324,
          0.7487743648148185,
          -2.293563476116307,
          0.7190476052629161,
          0.48914174120947806,
          -0.3755966651003456,
          -0.8586563195918455,
          0.3311987067933018,
          -1.795115768141528,
          0.22095758830757384,
          -0.6147055098250552,
          -0.0027311612719340423,
          -0.24811353668438893,
          -1.1621892581299866,
          1.0273517982446279,
          -1.3863336607934373,
          -1.0932201500813086,
          1.1787247582722316,
          -0.030997360636201315,
          1.1660657980778928,
          0.41444560212902054,
          -0.25725376341493406,
          1.117825720836243,
          1.0734705099764794,
          0.5007958110365639,
          -0.980414444791252,
          -1.3607590520788746,
          -0.7513735496899057,
          -0.4466726305087601,
          -0.44850778168768607,
          -0.06314981562680115,
          -0.949984337797301,
          1.6820691407697033,
          -0.5799421691113477,
          -0.8244030632258336,
          -0.24123579530601783,
          0.39505051934833857,
          -0.6121781616075451,
          -0.5748756241936295,
          0.12532666711231286,
          0.5116176384130419,
          -0.7882638956818595,
          0.5594133282432766,
          0.7370438239140962,
          -0.469900929427513,
          -1.4641653865496342,
          0.6543458144891008,
          -0.12738854459766127,
          -0.5484037504803588,
          1.2305973003098711,
          -0.6920170352200768,
          0.1354374593596831,
          0.1311689617554538,
          -0.17899228509261736,
          0.3692903537897325,
          0.6241482414087994,
          -0.8306952538783509,
          -1.015963143987445,
          2.434438838162473,
          0.0578759300060282,
          1.7003569404406405,
          -1.4028867349611935,
          1.1949729923286094,
          0.4886643391689927,
          0.7678609949790044,
          0.5210773442624482,
          0.7272128111041574,
          -0.22814194128253584,
          -0.5090269479618047,
          1.6106483082112453,
          1.086962629702942,
          -0.5238619095374597,
          -0.354538694927799,
          -0.8077704755166039,
          -0.3176963209647692,
          -0.5475204443614081,
          -0.6975158643125464,
          -0.5045701964035298,
          -0.7989060162181122,
          0.42756191321316556,
          0.06969393259882775,
          -0.106046160022364,
          0.7198371214531073,
          -0.461358140727644,
          -0.48612353194335917,
          -0.9170603508775579,
          -0.10559189368911347,
          2.1553915055015027,
          0.34088685477914304,
          1.022701826708063,
          0.18228177066559603,
          -1.706383979007903,
          1.0063624181722184,
          0.13069082655545455,
          -1.648212919706709,
          0.025152068471329957,
          -0.16971957873526533,
          -0.5913432596174062,
          0.44168543715067815,
          1.263248787015144,
          1.6701015676681923,
          0.06093256743684173,
          1.4224574078022927,
          -0.40518861569367326,
          -0.5454158255344745,
          0.6595590093424665,
          0.892482673280302,
          -1.8561928765831726,
          -0.045447764728244536,
          0.13689268374140315,
          -1.3897099069501713,
          1.486901076923967,
          0.020395298285855123,
          -0.23944517159032816,
          1.0266559010580678,
          0.1536446454315203,
          -1.0624896254356746,
          -1.2805861897371238,
          1.406944936085073,
          -1.3133377533922928,
          1.385586138911411,
          0.12292806594741083,
          0.6011956085811007,
          0.4933130674934834,
          -0.677776608271759,
          2.4118163317219654,
          -1.2552958232053304,
          0.45131704573783965,
          0.27694667377830506,
          -0.6377169552614552,
          -0.09126311657850497,
          -1.6930816295422062,
          -1.7324451987382572,
          -2.081600582498949,
          0.7488582028651006,
          -0.2767560030898708,
          -1.6285474026390518,
          2.4162764513614596,
          0.11483057310071812,
          0.5960245800347452,
          -1.0176331913655925,
          0.9526792017970742,
          -1.7354708089013182,
          -1.7073600980381745,
          -0.9659436537019881,
          -0.7848824844071036,
          -0.2067689589958083,
          -0.8503750440398395,
          0.14639507298177273,
          -0.7084945957091916,
          1.1309976117851592,
          1.7864988207995953,
          -0.11341150643503038,
          -0.5562548554064288,
          2.3154014668134555,
          -2.2507620112172035,
          0.7633048297935482,
          0.400219105101222,
          0.8321533939717395,
          0.38384723393857356,
          1.394318209822499,
          0.6266962025221278,
          -1.0425200521584872,
          -0.827169181944695,
          2.001028380230189,
          -0.5664763291820247,
          -2.273464271553396,
          1.3233975635497426,
          0.604955307918998,
          -0.3066434935062956,
          0.09369748079443077,
          0.9027913070448971,
          0.24718712943138507,
          0.2059341520453218,
          0.39633639937381954,
          -1.1989564888115556,
          -0.9296182642412004,
          1.6538038034894054,
          1.4911040114162528,
          0.5876093474218769,
          0.26076184164740795,
          1.2257961563105189,
          -0.86257601748098,
          1.0129242476069078,
          -1.938904537641541,
          -0.3271551331467637,
          -0.14171398597843843,
          -0.2663717867297125,
          1.3717102504166834,
          1.418255311602419,
          0.8462210494835063,
          1.0496927528952222,
          -0.5683758727478483,
          -0.6845399903911047,
          -0.09032992161938352,
          0.21511643854851045,
          0.22041374635495053,
          -0.9152715814691472,
          -0.6542412746704197,
          0.18024457493452384,
          -1.0723141260015645,
          -2.101257189788807,
          0.7493557975492628,
          0.11987941564535971,
          0.14860657159770754,
          0.5976340186011977,
          0.5476851432905274,
          -0.7612876683300512,
          -1.1599494891218503,
          -0.7057785001132578,
          -1.1109497300945466,
          0.7829865880013965,
          1.6641380478426175,
          0.3784155284745806,
          0.2569477941133117,
          1.1659608666674022,
          -1.7125440686533326,
          0.8002451483669638,
          -1.0492377917247953,
          0.6224658638599329,
          0.7447310264548054,
          -1.404071938345622,
          0.8257676508348105,
          1.2652728315374822,
          0.6653061335101094,
          0.7550998229678324,
          -0.8085340087035321,
          0.35231935611334125,
          1.2267176669237592,
          0.588487755570501,
          2.073523787100513,
          0.17722686129152918,
          -0.3209950253742527,
          -0.4115873725466483,
          -2.007968924337172,
          -1.0979617657584793,
          0.05312583921513588,
          -0.33588394993290493,
          0.9908792657117612,
          -0.9198277965094857,
          0.2895692775973365,
          0.18299715087246088,
          -1.2224155147304965,
          0.5357892471754497,
          0.5023321383527007,
          0.7448106104702776,
          -2.434318284251191,
          0.9545992291094568,
          1.1377135713600395,
          2.2422613898691397,
          0.2794645762449036,
          0.5883754428631554,
          -1.505505037759534,
          -1.5588874569642635,
          -1.1378519744421989,
          -0.5906198919157917,
          -0.5652388412442615,
          -1.5502280824872081,
          0.4462320320234879,
          0.886574121702394,
          -0.5052514561384098,
          0.1630557585773423,
          -0.6251566001590962,
          0.4172012089163615,
          1.5650723499024046,
          3.1510028632611746,
          -0.8294282159523589,
          -0.18827191386216394,
          0.30118104183883415,
          0.13314075633534353,
          -0.6163428906313669,
          0.5467717681436842,
          -1.3394836204949692,
          -0.23278904586359672,
          -0.9315671792047798,
          -0.4959537689497852,
          0.3318616776145875,
          0.025110522650526806,
          1.9181515787478833,
          -0.9009581585502271,
          1.1259684375769314,
          -0.3746195956156099,
          -0.18459654990995153,
          0.05329236208163859,
          1.4876024795429894,
          1.4222892731007675,
          0.8576830963737989,
          -0.4899591145668491,
          1.1984082006896595,
          0.10957164585855207,
          0.39060597871041614,
          1.1945763520792743,
          0.06246587280168204,
          1.1346280051477817,
          -2.2145034785254682,
          1.6270887007494002,
          -0.9352574283492855,
          -1.642484511614807,
          0.6678182423026755,
          -0.2862314782668338,
          1.8493718164329098,
          0.9725148806602043,
          -2.6148787804465576,
          0.22490259816305347,
          -0.3606419019974731,
          -1.1377699218225834,
          -0.4728402746187226,
          0.05059996647499389,
          -0.4466751808893405,
          -0.9400731126148769,
          0.09185606554872235,
          0.10317352973297816,
          0.26794637395532006,
          2.059759854596986,
          -0.4192653460719656,
          1.62018143194669,
          0.5839008924698657,
          -1.2931770175264021,
          0.20859990387725083,
          0.3355876372829321,
          1.4902965884800417,
          -0.6442326046888307,
          1.8528031182414175,
          0.11130845219890498,
          -0.18931543388986996,
          0.023084113386401567,
          -0.462385624843926,
          0.25672109213485705,
          -1.1720492771426365,
          -0.14631072754938487,
          1.6346820885306252,
          2.2152349915163483,
          0.7016174189358786,
          -0.5523109934573043,
          0.8639165633392512,
          -0.1637935300728029,
          0.47718714783042715,
          -0.05921865204250967,
          0.011906842039099433,
          0.24167118486916636,
          0.5765035904593343,
          -0.8142642878333869,
          -0.6297380725462234,
          -0.29721501560705893,
          0.9132364367885667,
          -0.28837727784409123,
          -0.25264563131371626,
          -0.513250873511023,
          1.5048108833035696,
          1.0690266631072205,
          1.1555221611211206,
          0.5877313327913722,
          -0.4498986463424155,
          0.5420423228700577,
          -0.7916580416891217,
          -1.5365440042632028,
          2.27143504871205,
          0.6861768776833306,
          0.13536679209165725,
          -0.8990381133994442,
          -0.4752027681712476,
          0.6508258219335861,
          -1.2119439530779046,
          -3.277593606493769,
          -0.21986533644912157,
          -1.8286972917084257,
          1.7673038608003437,
          1.584213116715571,
          1.141904364257984,
          0.13132597974089327,
          1.144235390930188,
          -0.2800904835548788,
          -1.667008357773103,
          -1.0540541911049754,
          -0.8460017313034289,
          0.6885607218157286,
          1.0189126849197638,
          0.19913930135197253,
          -0.48982419332907906,
          1.3795092185155278,
          1.5114949596764997,
          -2.020220664518552,
          0.47363176642052146,
          -1.1971162686301675,
          1.2613690098335935,
          1.4131832285291313,
          -0.17462018189336742,
          0.06110899289113316,
          -0.7322885963131898,
          1.3241577641407745,
          -1.3278396323087758,
          0.18767633605913714,
          -0.21088507112710764,
          -1.854345405831398,
          -0.2987291856170689,
          -0.951654220542229,
          -1.2311383629373849,
          -0.1955575362492144,
          -0.10700253529964805,
          -0.24421326061356338,
          -0.5321932441096391,
          -1.0484358978536128,
          -1.2829064147018259,
          0.5447222123187089,
          -1.501899343994158,
          -0.032837231126148406,
          -1.6810618066440293,
          0.7840924749074611,
          0.8004221329439447,
          -1.6629413018007098,
          -1.9248020916702793,
          -1.6804363684600505,
          -0.10966410551978178,
          1.5918236944162978,
          -0.3647849556774606,
          1.582742301333476,
          -0.44284034047621873,
          -1.1272736206999237,
          -0.12321628769760809,
          -1.1284287826740387,
          -0.2743938764517846,
          0.7070131156857671,
          -0.7746572946333894,
          0.1063859933616895,
          1.0296155739519204,
          0.6208515504576364,
          0.21271352474326335,
          -1.6180338527244122,
          -0.10710217383886841,
          -1.0347924020403851,
          -0.7384606019883219,
          1.0344501149713496,
          0.9258019660287439,
          1.8482258192062042,
          1.0674559370292547,
          1.0040560348134635,
          0.6519010403489072,
          -0.02129067620526301,
          -0.26550191266957224,
          0.9430596180715426,
          2.5188966348966515,
          2.1139931720054426,
          -0.12636595369359654,
          0.7709155803471721,
          0.3576051338157947,
          0.8950830306176643,
          -0.8441288253015902,
          -2.478348231379871,
          -2.063554122235218,
          -0.404074521950634,
          1.0291496523666908,
          -0.9925453292867071,
          -0.06086264371548614,
          -0.01541866242929257,
          1.0385173199066822,
          -0.7293858543065933,
          0.7153762639212402,
          -0.2106341965236499,
          -0.16334436188050386,
          0.7600358805942373,
          1.5067317978563501,
          -0.7550525178650778,
          0.3969407521284934,
          -0.09173019521674916,
          0.4164185501655048,
          -1.1460021117623787,
          1.0306401352659138,
          0.518217517050582,
          -0.40711201418749376,
          -1.632111312329101,
          0.49012516262723427,
          -0.9375903695764732,
          -1.4015501822442589,
          0.8057119077478135,
          0.05926667840229396,
          -1.458997199845955,
          0.8533294402514794,
          0.8311603967918076,
          2.1156020256456647,
          0.6345035530756924,
          -0.12648621822981893,
          1.445244601428755,
          -1.398645221926003,
          -0.9343795549998574,
          0.6279796667014269,
          1.6706992950374793,
          -0.7941849036603352,
          1.5757246511595864,
          0.06043048065268089,
          -0.4649735731089774,
          -0.15870954466872833,
          -0.630980332682605,
          1.4786658133869297,
          -1.945986277099471,
          0.7455723845856297,
          1.6563080944294921,
          0.8744117533201652,
          -1.0810845896301393,
          -0.3891232298205958,
          0.07398221785709365,
          -0.8618931744233339,
          -1.7890007102224614,
          -0.2717914685086179,
          0.22188665542961383,
          0.3808678209427906,
          -2.007021823307594,
          -0.39773159614896375,
          -0.007405363739468588,
          1.1764923269868806,
          -0.4226710278785549,
          1.0479693935502064,
          -1.1488189518122707,
          0.7354983816721092,
          -1.5867714003164797,
          1.2361253129728584,
          -0.8233776532608007,
          0.45607744348159823,
          -1.0884222298445563,
          -0.029664402671478064,
          -0.39896727531636467,
          0.2363328270582741,
          -1.0832914737900423,
          -0.8390065230210926,
          0.9985630636432932,
          -1.1380028657265309,
          -0.14412026023363989,
          0.3719601354667674,
          0.5811279477770991,
          0.12055045720229236,
          -1.8853868346688292,
          -1.5054377092385922,
          0.36364832831642113,
          -0.3722118917797776,
          3.1196843068793365,
          -1.340236849342384,
          -1.4682527491418031,
          -0.025228597617604306,
          -0.24668770569877177,
          1.236869068315801,
          1.2051017555392292,
          -1.108214527887618,
          0.021748823655348002,
          -1.8868305887718027,
          -2.180888689611189,
          0.7935347364714239,
          0.15645474784987642,
          0.7768725697204695,
          -0.4770698378124346,
          -1.679829507812134,
          -0.9709167436803634,
          0.9325738434419405,
          -1.0061417511560957,
          -0.9525027501961741,
          0.002087959100522711,
          -0.03425905186953184,
          1.120905212076583,
          -0.18406049431593843,
          1.5026259293728819,
          0.4273421481050312,
          -2.3005233642706897,
          -1.448231474393238,
          -0.03176466693793606,
          -0.04768952863925005,
          1.7661808875740275,
          0.6217951418267862,
          -1.3922610295934157,
          0.9376872810428907,
          0.7919387138912208,
          -0.8635416146445745,
          -0.38361230842308325,
          0.1856531461518462,
          0.633980192258964,
          -0.038958532287748995,
          0.4303199989157453,
          0.5736402073024529,
          1.0765705221647344,
          2.2206410072921785,
          0.9257002528502712,
          0.7120064551378807,
          1.2847623231139262,
          1.0122131674708634,
          -0.4162325666989059,
          -1.4134124376004946,
          -0.7541315288880642,
          0.4043959905961762,
          -0.1393439028521066,
          -0.33605655780812954,
          0.19335446725388913,
          0.14657430425149928,
          -1.2505218434949636,
          -0.08680530975731138,
          -0.4331786353577795,
          -0.6296178607007843,
          1.38945443844071,
          0.37944328529301535,
          1.384629460490388,
          -0.16325021887931393,
          1.5467742642954245,
          0.26811665007831437,
          -0.9371132774573121,
          -0.5006116493544893,
          0.870638684500648,
          -1.262849567538392,
          -0.7273147975719962,
          -2.1342804297847757,
          0.270361541498783,
          0.47098047570557244,
          -0.9740456832173134,
          0.43743581115401853,
          0.3527110555010418,
          -0.5755449356891182,
          -0.26181735662474265,
          -0.1222012153024344,
          -0.9095620547420523,
          0.9274511034397035,
          1.701882450477253,
          -0.09789529396899342,
          -1.7993596622067147,
          0.5456885403853642,
          0.3696781209511227,
          -1.1134515249317785,
          -0.2527094659686195,
          0.37494189184256244,
          -0.28887483639188294,
          0.3281078802832246,
          -0.12878506532688816,
          0.36165646267957763,
          -2.3864691657271626,
          -0.738214286398885,
          0.19952657559365125,
          1.645198071339722,
          -0.6029962728482902,
          -0.7436985494066114,
          0.7538263290058965,
          1.0856602225443412,
          -1.6188100778289363,
          -0.16639939832975587,
          1.0121554015161318,
          0.3382675026183742,
          2.2062495458582427,
          -0.10555215912006778,
          0.6330981506576225,
          -2.376989028347079,
          0.5235477709897847,
          0.8405647495958544,
          -0.4782073411668501,
          -2.0948832174140217,
          1.3706699813166419,
          0.16600085684306054,
          -0.5452320087722281,
          0.13874395246990268,
          -0.6304862281028631,
          -0.5065173127218036,
          -0.6553301758880077,
          -1.3779916368525642,
          0.43038825349920573,
          0.059321913469145116,
          -0.3663993390614059,
          -0.10902002077246309,
          0.6159489393046141,
          -0.430371235457472,
          0.6897856919833351,
          0.2814405646524387,
          1.5884232334712203,
          1.0606565754943553,
          -1.6102279791230107,
          -0.4937777683411992,
          -0.1343080533007495,
          -2.0501866693903854,
          -0.86665275029374,
          -1.122067247641605,
          1.8914733336890004,
          1.1088927498434797,
          -0.3195187317225985,
          -0.12922963168964738,
          -0.07750335664208723,
          -0.7009390104088791,
          -0.40182888755934737,
          0.688146045243552,
          1.0227452153810899,
          2.0460085978928366,
          0.24177962499253078,
          -0.5649062621583163,
          0.49350065224203493,
          -0.792989811516397,
          1.0994010534608718,
          -0.23069251334965907,
          -0.7656954716716755,
          -0.30771050620739254,
          -0.5867080060607801,
          1.3722099613740855,
          -0.6203928086926936,
          -0.11566209377929139,
          -1.226136652355026,
          -0.36191010517577027,
          -0.48540734352687837,
          -1.3410217727238336,
          -1.104987765462336,
          2.248655350526535,
          -0.22745903832786443,
          -1.006487969195135,
          -1.8712748943248914,
          1.5541491116187827,
          0.06765435429511327,
          -0.26891394345582753,
          -1.0723179737057675,
          0.01865317725041888,
          -0.04408661569635759,
          0.9258929749494728,
          1.6779845062184688,
          0.35576194429027486,
          -0.3534729267312551,
          0.17301017214965275,
          -0.011894926106304568,
          0.8688384743955555,
          -0.6218688417892454,
          0.13978341939150368,
          -1.1190244260944933,
          2.828529509399494,
          0.003233974490557302,
          -0.15981160754086737,
          1.3818913373064399,
          -1.2477089833962045,
          0.5754515495024021,
          -0.7424578694371169,
          0.7716731302442491,
          -0.866566243175887,
          2.3055530249990674,
          -0.8790894161355919,
          1.2194652354254631,
          0.9953121495861676,
          2.285315275450742,
          -0.33574473311243186,
          -0.8368517193426788,
          -1.646548717685729,
          0.17236421484503778,
          -1.3701994842740899,
          0.039719515853223974,
          -0.44799052887105395,
          -0.9916999269005263,
          0.6885781677745532,
          -0.5160502952992012,
          0.2971037247915174,
          -1.3843505811003975,
          -1.1762104500462287,
          0.5433475929052622,
          -1.2022210628488101,
          -0.8530490985675677,
          0.8794676248145666,
          0.12508203906401447,
          -1.424462870997711,
          -1.4098292787084845,
          -0.13210020702984873,
          -0.052093364989835376,
          0.3609469306614376,
          1.2628784743727155,
          1.4953486321211102,
          0.3491758017391201,
          1.2648109739406639,
          0.3177057954450554,
          0.04790750521017633,
          0.3231252409660308,
          -0.7416820656851165,
          -0.8660081296946386,
          -1.920806473732489,
          0.05460437017296727,
          -2.469771172442429,
          -0.8963915560434148,
          -0.13129759311642333,
          -0.1494830823683591,
          -3.022242142421954,
          0.6374053852676397,
          -1.5012984302836576,
          -1.8408826888814227,
          -0.02214602514717977,
          1.639713022084108,
          0.7877088888603346,
          -0.5445864351906965,
          0.472823134727365,
          0.032215026194996575,
          -0.669057031779028,
          0.5245612981096384,
          0.4928365480648021,
          -0.9348524718762953,
          0.9565693099815371,
          1.0733424275217187,
          1.2200839079996895,
          0.9260587491143141,
          0.598390212807874,
          -0.23051021432500043,
          0.9573867272376874,
          -0.9257258991368886,
          1.0187541965996672,
          -0.7017004467878701,
          -1.0551475024236299,
          -0.7908871109110038,
          -1.1745934931435715,
          0.028848546690557756,
          0.6032085160182227,
          0.6225351668237954,
          -2.1605655172260048,
          -0.923415975043481,
          -0.24956613553238327,
          -0.7588639457479909,
          0.8239869022479904,
          1.1333405489068684,
          1.304077028885044,
          0.33933079714786796,
          1.3402475485764525,
          2.382212392517578,
          1.2052309596371589,
          0.37781726071450056,
          -1.4150773117927846,
          -0.9503616792498021,
          -1.5864122377096315,
          1.254429955578891,
          -0.7233570035645431,
          -0.06572193951187533,
          0.32127074475222916,
          -0.12077509281867332,
          1.862184562066723,
          0.5363562886354113,
          -1.3049687562729884,
          -1.0293887598370899,
          -0.8588335007283389,
          -0.675497306757573,
          0.034882450261817105,
          0.831790086432577,
          -0.28577690956526386,
          -1.184813307087136,
          -0.9973847522171629,
          0.41753542128993043,
          0.8007540718064243,
          0.3024294374556022,
          -0.043230589468908905,
          0.010859697593625272,
          -0.6061195917496286,
          0.5347520688802404,
          0.13211704795604526,
          -0.2486450997405612,
          -0.9142910265856874,
          -0.2587919774963818,
          0.7503270059677262,
          0.2557178769631545,
          1.3292692847446541,
          -1.2461561573065942,
          -0.6825414394348924,
          0.7387881827423458,
          -1.0162815070215232,
          -1.3275057162542052,
          0.2510657006860936,
          0.23739107793188308,
          0.23699047096320994,
          0.8911009223646619,
          -1.1176334548316953,
          1.8739828883269007,
          -2.227310227982806,
          0.42632489988469446,
          0.6985038566100313,
          1.2591473765958705,
          1.573050293791076,
          -0.5226768826885417,
          -1.2512443804926832,
          -1.1857665413141019,
          1.5774811718453123,
          -0.025688427078003773,
          1.06053729119183,
          0.14729472709440733,
          1.7010573210905011,
          0.8312359015386738,
          0.06610362237608923,
          -0.7091494674496215,
          -0.8916890132695743,
          -0.5264520680001823,
          0.4230661630574716,
          1.1498758833349756,
          -0.015156238603356693,
          0.1954414975709109,
          0.3518636561749599,
          -0.1489488077548939,
          0.7085570326134496,
          0.6125203537292363,
          -0.955426508228712,
          1.4967663525721724,
          0.7909357792620733,
          -0.9157481327537702,
          -0.04996243607516412,
          0.3122322181704861,
          -1.0190483546146853,
          2.081085901663392,
          1.1136655089492602,
          -0.9237961955877942,
          1.9978931602079082,
          1.480697026601623,
          -0.4047961070071504,
          -1.0640531021610957,
          1.7623001049026255,
          0.6391425642782858,
          -0.836532346580025,
          0.018904189007827497,
          0.15643491155633515,
          -0.1364680663465559,
          0.17945101788937778,
          1.7067060446705327,
          1.5429214364859674,
          -0.08506561863058772,
          0.3870678044188783,
          -0.4791979817033495,
          0.025208984986746442,
          -1.094491471844544,
          -0.16268773132229042,
          1.094159409104717,
          -0.5647728604707981,
          0.49687792576105905,
          -2.35396393673467,
          0.5349555030852979,
          -1.1116271749813482,
          -1.7217453112701044,
          0.4471776607653655,
          0.032719888955707564,
          0.5771059621092092,
          -0.1806643863870049,
          -0.872071813418582,
          0.012592514149980343,
          0.5979921744348559,
          -0.2821149664023845,
          -0.8132057682015142,
          -1.5308656915895735,
          -1.2119147412937084,
          -0.16738317298323382,
          -0.48413551107850067,
          0.11848219796247476,
          1.4419176211313696,
          -0.23540497273086944,
          -0.5443095457458202,
          1.383525007880935,
          0.1141697189812168,
          -1.1772520765161267,
          0.42960197686229146,
          0.23948924189454743,
          -0.7682971405028447,
          1.3359679853182755,
          -0.7585068941600035,
          2.839127561623703,
          -2.55035452093251,
          -0.3534700866181204,
          0.8882009788719344,
          0.19371647560006902,
          1.5523999465036382,
          0.4010505985764732,
          1.7103004028609479,
          0.47254836384583093,
          -0.9394343057564589,
          -0.6762833715831297,
          1.5349185210316212,
          -1.5298750488807178,
          -2.2168508226930097,
          0.8299825903220212,
          0.709166969549302,
          -1.903483098054355,
          1.5578787494976996,
          0.01637249899932724,
          -1.7661174593512445,
          -2.7247714725913097,
          -1.4079921742645636,
          0.5969565994421522,
          0.7849289888660553,
          -0.6513644859290921,
          0.5844599394508674,
          -0.8167633160259927,
          0.5453552008125597,
          0.3329253354954018,
          -1.6340976162330287,
          0.05825045643008534,
          -1.3791900778718034,
          0.7983473812492639,
          1.2544771627801936,
          1.5317609786905615,
          -0.3550038527361417,
          0.299953165965337,
          -0.5831746566357914,
          -0.3025040764963123,
          1.8568716767215656,
          1.0322549868071618,
          0.3666578383115322,
          -0.7557864224142029,
          0.592984324436755,
          0.6146241775662228,
          0.6760347326939029,
          0.5560436827821836,
          -0.17477920681199516,
          0.27186879177927453,
          -1.5833789482534313,
          1.3801244659403689,
          0.2816706387339554,
          -1.6637044734203563,
          0.6328082090726774,
          -0.8514721184525105,
          -0.18138226005741218,
          0.1493301789273183,
          -1.3898809762307998,
          -0.37732912721716855,
          -1.0443788323132122,
          -0.04238867328377008,
          -0.22625090662606645,
          0.5623408929517628,
          0.3746418364483989,
          0.47095729912869155,
          -1.6174954631006644,
          0.8745873964126192,
          0.1548640380619446,
          0.055748101244250725,
          0.028717840974936897,
          1.1603041633235514,
          0.1687444747679147,
          -0.17742861601691512,
          -1.311511642477085,
          -0.5775926686359835,
          1.3500784839487872,
          -0.6347562449609875,
          0.2595296106190193,
          0.6339953024045224,
          1.0392671876282304,
          0.19197808978727815,
          1.6186663934110004,
          0.17243863623762148,
          1.2506418949251445,
          -0.8809191314001203,
          -2.310939986328073,
          0.6454031950394943,
          -0.2426301849890038,
          -1.42263912542941,
          -0.09998723831932572,
          -1.1458269261653584,
          0.20583161454800894,
          -1.1386665239940388,
          1.061759557141142,
          0.8503153405025289,
          0.3289727136818639,
          0.5633677712703518,
          -0.7309497971852628,
          0.6632055192520351,
          0.8915133085679131,
          -1.914584506832852,
          0.1724507922399114,
          2.01701219669242,
          -0.21926664118880157,
          -0.42387713365773944,
          1.3163935471596122,
          -0.5763613884459345,
          -0.07430707162032954,
          0.9869879020131431,
          0.9853752071425529,
          -0.05423242028265195,
          0.3921914365636878,
          1.1626555330271198,
          0.36628573655798763,
          0.4907530516005892,
          -0.5779877918553963,
          0.41662358156037654,
          0.32900652402368824,
          1.2842346926421808,
          0.15619293240003188,
          1.353905474800721,
          0.737521294133385,
          -0.4738036426412704,
          1.072373482531858,
          -0.0918514618918679,
          0.7991019145799007,
          0.6161025877680797,
          0.025723630806713627,
          -1.2884839787026687,
          -1.30210636050311,
          -2.3533276362341344,
          0.10140388403062009,
          -0.7859781708503102,
          -0.5336919938723288,
          -1.281105654680211,
          -0.2037698156022273,
          0.4824457402558615,
          1.4743969857920842,
          0.2430054829861708,
          -2.6000706877883855,
          -1.0359499567264565,
          0.7315787884993749,
          0.9657695652972521,
          -0.19520884337675867,
          0.43385220691245746,
          0.044528535178169217,
          0.24584002571625468,
          -1.2238768674776077,
          0.7960713740003809,
          -0.004916494466531433,
          -0.12289798438105355,
          -0.22627538500677705,
          0.19709514810247086,
          0.04867984924813468,
          -0.19660636831186218,
          0.513327184287454,
          2.8684644250112243,
          0.9237277501757878,
          1.4684688794750245,
          -1.64324103970809,
          -0.6157734143029445,
          0.22368433017931777,
          0.3211833791488098,
          -0.10658398731320358,
          -0.6776911266809145,
          0.9936795231248249,
          0.17957635099900593,
          0.5672163151008857,
          -0.5557299687555816,
          -0.9851345344338884,
          -0.8694016590919573,
          0.83235014451924,
          -0.24376773001920374,
          0.30922422051932896,
          -0.25953623911906626,
          1.9946324272366254,
          -0.10374336568577179,
          -0.4384687261158099,
          -1.9145707676261838,
          -0.7868121835663268,
          -0.8316617155480148,
          -0.24615707898282965,
          1.8421267867160365,
          -2.101893605158399,
          -0.16480438323486402,
          -0.8453428892694714,
          0.22182890976909742,
          1.4502732113820012,
          0.5677465173091825,
          -0.07206892544978531,
          1.4931543371791405,
          1.3723149949933184,
          2.3060326816658603,
          0.06981833487984225,
          -0.3425952252686697,
          0.2619009671331005,
          0.021098361676525772,
          1.1932386947406421,
          -2.8354263798047006,
          0.5158254851622486,
          -1.2633227355953762,
          -0.7237673099320381,
          1.0606524389609304,
          1.4169173009140439,
          0.31071966794268235,
          -1.3171662000236286,
          -1.052525601047927,
          -0.7629727216608729,
          0.6429757271863241,
          0.16469432000997233,
          1.3254701583376143,
          -0.03313494668217635,
          -0.5522904714954998,
          -0.4413662353623968,
          -0.603870863681356,
          0.898908547869224,
          0.5289845605264328,
          0.06928612578575112,
          0.84183609972941,
          -0.026620889440017406,
          1.7616530850532037,
          1.966904666784746,
          -2.0692762944478584,
          1.359098618015375,
          -0.03798467758832549,
          0.8924510979365239,
          0.4647769774946692,
          0.8754493219865209,
          1.2387472859913837,
          0.1841563489493188,
          0.8706099731186736,
          -0.997278484862876,
          -0.7077876374908331,
          -0.0767213127722965,
          1.200089540911576,
          -0.15325063460599142,
          0.28105376593540393
         ]
        }
       ],
       "layout": {
        "template": {
         "data": {
          "bar": [
           {
            "error_x": {
             "color": "#2a3f5f"
            },
            "error_y": {
             "color": "#2a3f5f"
            },
            "marker": {
             "line": {
              "color": "#E5ECF6",
              "width": 0.5
             }
            },
            "type": "bar"
           }
          ],
          "barpolar": [
           {
            "marker": {
             "line": {
              "color": "#E5ECF6",
              "width": 0.5
             }
            },
            "type": "barpolar"
           }
          ],
          "carpet": [
           {
            "aaxis": {
             "endlinecolor": "#2a3f5f",
             "gridcolor": "white",
             "linecolor": "white",
             "minorgridcolor": "white",
             "startlinecolor": "#2a3f5f"
            },
            "baxis": {
             "endlinecolor": "#2a3f5f",
             "gridcolor": "white",
             "linecolor": "white",
             "minorgridcolor": "white",
             "startlinecolor": "#2a3f5f"
            },
            "type": "carpet"
           }
          ],
          "choropleth": [
           {
            "colorbar": {
             "outlinewidth": 0,
             "ticks": ""
            },
            "type": "choropleth"
           }
          ],
          "contour": [
           {
            "colorbar": {
             "outlinewidth": 0,
             "ticks": ""
            },
            "colorscale": [
             [
              0,
              "#0d0887"
             ],
             [
              0.1111111111111111,
              "#46039f"
             ],
             [
              0.2222222222222222,
              "#7201a8"
             ],
             [
              0.3333333333333333,
              "#9c179e"
             ],
             [
              0.4444444444444444,
              "#bd3786"
             ],
             [
              0.5555555555555556,
              "#d8576b"
             ],
             [
              0.6666666666666666,
              "#ed7953"
             ],
             [
              0.7777777777777778,
              "#fb9f3a"
             ],
             [
              0.8888888888888888,
              "#fdca26"
             ],
             [
              1,
              "#f0f921"
             ]
            ],
            "type": "contour"
           }
          ],
          "contourcarpet": [
           {
            "colorbar": {
             "outlinewidth": 0,
             "ticks": ""
            },
            "type": "contourcarpet"
           }
          ],
          "heatmap": [
           {
            "colorbar": {
             "outlinewidth": 0,
             "ticks": ""
            },
            "colorscale": [
             [
              0,
              "#0d0887"
             ],
             [
              0.1111111111111111,
              "#46039f"
             ],
             [
              0.2222222222222222,
              "#7201a8"
             ],
             [
              0.3333333333333333,
              "#9c179e"
             ],
             [
              0.4444444444444444,
              "#bd3786"
             ],
             [
              0.5555555555555556,
              "#d8576b"
             ],
             [
              0.6666666666666666,
              "#ed7953"
             ],
             [
              0.7777777777777778,
              "#fb9f3a"
             ],
             [
              0.8888888888888888,
              "#fdca26"
             ],
             [
              1,
              "#f0f921"
             ]
            ],
            "type": "heatmap"
           }
          ],
          "heatmapgl": [
           {
            "colorbar": {
             "outlinewidth": 0,
             "ticks": ""
            },
            "colorscale": [
             [
              0,
              "#0d0887"
             ],
             [
              0.1111111111111111,
              "#46039f"
             ],
             [
              0.2222222222222222,
              "#7201a8"
             ],
             [
              0.3333333333333333,
              "#9c179e"
             ],
             [
              0.4444444444444444,
              "#bd3786"
             ],
             [
              0.5555555555555556,
              "#d8576b"
             ],
             [
              0.6666666666666666,
              "#ed7953"
             ],
             [
              0.7777777777777778,
              "#fb9f3a"
             ],
             [
              0.8888888888888888,
              "#fdca26"
             ],
             [
              1,
              "#f0f921"
             ]
            ],
            "type": "heatmapgl"
           }
          ],
          "histogram": [
           {
            "marker": {
             "colorbar": {
              "outlinewidth": 0,
              "ticks": ""
             }
            },
            "type": "histogram"
           }
          ],
          "histogram2d": [
           {
            "colorbar": {
             "outlinewidth": 0,
             "ticks": ""
            },
            "colorscale": [
             [
              0,
              "#0d0887"
             ],
             [
              0.1111111111111111,
              "#46039f"
             ],
             [
              0.2222222222222222,
              "#7201a8"
             ],
             [
              0.3333333333333333,
              "#9c179e"
             ],
             [
              0.4444444444444444,
              "#bd3786"
             ],
             [
              0.5555555555555556,
              "#d8576b"
             ],
             [
              0.6666666666666666,
              "#ed7953"
             ],
             [
              0.7777777777777778,
              "#fb9f3a"
             ],
             [
              0.8888888888888888,
              "#fdca26"
             ],
             [
              1,
              "#f0f921"
             ]
            ],
            "type": "histogram2d"
           }
          ],
          "histogram2dcontour": [
           {
            "colorbar": {
             "outlinewidth": 0,
             "ticks": ""
            },
            "colorscale": [
             [
              0,
              "#0d0887"
             ],
             [
              0.1111111111111111,
              "#46039f"
             ],
             [
              0.2222222222222222,
              "#7201a8"
             ],
             [
              0.3333333333333333,
              "#9c179e"
             ],
             [
              0.4444444444444444,
              "#bd3786"
             ],
             [
              0.5555555555555556,
              "#d8576b"
             ],
             [
              0.6666666666666666,
              "#ed7953"
             ],
             [
              0.7777777777777778,
              "#fb9f3a"
             ],
             [
              0.8888888888888888,
              "#fdca26"
             ],
             [
              1,
              "#f0f921"
             ]
            ],
            "type": "histogram2dcontour"
           }
          ],
          "mesh3d": [
           {
            "colorbar": {
             "outlinewidth": 0,
             "ticks": ""
            },
            "type": "mesh3d"
           }
          ],
          "parcoords": [
           {
            "line": {
             "colorbar": {
              "outlinewidth": 0,
              "ticks": ""
             }
            },
            "type": "parcoords"
           }
          ],
          "pie": [
           {
            "automargin": true,
            "type": "pie"
           }
          ],
          "scatter": [
           {
            "marker": {
             "colorbar": {
              "outlinewidth": 0,
              "ticks": ""
             }
            },
            "type": "scatter"
           }
          ],
          "scatter3d": [
           {
            "line": {
             "colorbar": {
              "outlinewidth": 0,
              "ticks": ""
             }
            },
            "marker": {
             "colorbar": {
              "outlinewidth": 0,
              "ticks": ""
             }
            },
            "type": "scatter3d"
           }
          ],
          "scattercarpet": [
           {
            "marker": {
             "colorbar": {
              "outlinewidth": 0,
              "ticks": ""
             }
            },
            "type": "scattercarpet"
           }
          ],
          "scattergeo": [
           {
            "marker": {
             "colorbar": {
              "outlinewidth": 0,
              "ticks": ""
             }
            },
            "type": "scattergeo"
           }
          ],
          "scattergl": [
           {
            "marker": {
             "colorbar": {
              "outlinewidth": 0,
              "ticks": ""
             }
            },
            "type": "scattergl"
           }
          ],
          "scattermapbox": [
           {
            "marker": {
             "colorbar": {
              "outlinewidth": 0,
              "ticks": ""
             }
            },
            "type": "scattermapbox"
           }
          ],
          "scatterpolar": [
           {
            "marker": {
             "colorbar": {
              "outlinewidth": 0,
              "ticks": ""
             }
            },
            "type": "scatterpolar"
           }
          ],
          "scatterpolargl": [
           {
            "marker": {
             "colorbar": {
              "outlinewidth": 0,
              "ticks": ""
             }
            },
            "type": "scatterpolargl"
           }
          ],
          "scatterternary": [
           {
            "marker": {
             "colorbar": {
              "outlinewidth": 0,
              "ticks": ""
             }
            },
            "type": "scatterternary"
           }
          ],
          "surface": [
           {
            "colorbar": {
             "outlinewidth": 0,
             "ticks": ""
            },
            "colorscale": [
             [
              0,
              "#0d0887"
             ],
             [
              0.1111111111111111,
              "#46039f"
             ],
             [
              0.2222222222222222,
              "#7201a8"
             ],
             [
              0.3333333333333333,
              "#9c179e"
             ],
             [
              0.4444444444444444,
              "#bd3786"
             ],
             [
              0.5555555555555556,
              "#d8576b"
             ],
             [
              0.6666666666666666,
              "#ed7953"
             ],
             [
              0.7777777777777778,
              "#fb9f3a"
             ],
             [
              0.8888888888888888,
              "#fdca26"
             ],
             [
              1,
              "#f0f921"
             ]
            ],
            "type": "surface"
           }
          ],
          "table": [
           {
            "cells": {
             "fill": {
              "color": "#EBF0F8"
             },
             "line": {
              "color": "white"
             }
            },
            "header": {
             "fill": {
              "color": "#C8D4E3"
             },
             "line": {
              "color": "white"
             }
            },
            "type": "table"
           }
          ]
         },
         "layout": {
          "annotationdefaults": {
           "arrowcolor": "#2a3f5f",
           "arrowhead": 0,
           "arrowwidth": 1
          },
          "autotypenumbers": "strict",
          "coloraxis": {
           "colorbar": {
            "outlinewidth": 0,
            "ticks": ""
           }
          },
          "colorscale": {
           "diverging": [
            [
             0,
             "#8e0152"
            ],
            [
             0.1,
             "#c51b7d"
            ],
            [
             0.2,
             "#de77ae"
            ],
            [
             0.3,
             "#f1b6da"
            ],
            [
             0.4,
             "#fde0ef"
            ],
            [
             0.5,
             "#f7f7f7"
            ],
            [
             0.6,
             "#e6f5d0"
            ],
            [
             0.7,
             "#b8e186"
            ],
            [
             0.8,
             "#7fbc41"
            ],
            [
             0.9,
             "#4d9221"
            ],
            [
             1,
             "#276419"
            ]
           ],
           "sequential": [
            [
             0,
             "#0d0887"
            ],
            [
             0.1111111111111111,
             "#46039f"
            ],
            [
             0.2222222222222222,
             "#7201a8"
            ],
            [
             0.3333333333333333,
             "#9c179e"
            ],
            [
             0.4444444444444444,
             "#bd3786"
            ],
            [
             0.5555555555555556,
             "#d8576b"
            ],
            [
             0.6666666666666666,
             "#ed7953"
            ],
            [
             0.7777777777777778,
             "#fb9f3a"
            ],
            [
             0.8888888888888888,
             "#fdca26"
            ],
            [
             1,
             "#f0f921"
            ]
           ],
           "sequentialminus": [
            [
             0,
             "#0d0887"
            ],
            [
             0.1111111111111111,
             "#46039f"
            ],
            [
             0.2222222222222222,
             "#7201a8"
            ],
            [
             0.3333333333333333,
             "#9c179e"
            ],
            [
             0.4444444444444444,
             "#bd3786"
            ],
            [
             0.5555555555555556,
             "#d8576b"
            ],
            [
             0.6666666666666666,
             "#ed7953"
            ],
            [
             0.7777777777777778,
             "#fb9f3a"
            ],
            [
             0.8888888888888888,
             "#fdca26"
            ],
            [
             1,
             "#f0f921"
            ]
           ]
          },
          "colorway": [
           "#636efa",
           "#EF553B",
           "#00cc96",
           "#ab63fa",
           "#FFA15A",
           "#19d3f3",
           "#FF6692",
           "#B6E880",
           "#FF97FF",
           "#FECB52"
          ],
          "font": {
           "color": "#2a3f5f"
          },
          "geo": {
           "bgcolor": "white",
           "lakecolor": "white",
           "landcolor": "#E5ECF6",
           "showlakes": true,
           "showland": true,
           "subunitcolor": "white"
          },
          "hoverlabel": {
           "align": "left"
          },
          "hovermode": "closest",
          "mapbox": {
           "style": "light"
          },
          "paper_bgcolor": "white",
          "plot_bgcolor": "#E5ECF6",
          "polar": {
           "angularaxis": {
            "gridcolor": "white",
            "linecolor": "white",
            "ticks": ""
           },
           "bgcolor": "#E5ECF6",
           "radialaxis": {
            "gridcolor": "white",
            "linecolor": "white",
            "ticks": ""
           }
          },
          "scene": {
           "xaxis": {
            "backgroundcolor": "#E5ECF6",
            "gridcolor": "white",
            "gridwidth": 2,
            "linecolor": "white",
            "showbackground": true,
            "ticks": "",
            "zerolinecolor": "white"
           },
           "yaxis": {
            "backgroundcolor": "#E5ECF6",
            "gridcolor": "white",
            "gridwidth": 2,
            "linecolor": "white",
            "showbackground": true,
            "ticks": "",
            "zerolinecolor": "white"
           },
           "zaxis": {
            "backgroundcolor": "#E5ECF6",
            "gridcolor": "white",
            "gridwidth": 2,
            "linecolor": "white",
            "showbackground": true,
            "ticks": "",
            "zerolinecolor": "white"
           }
          },
          "shapedefaults": {
           "line": {
            "color": "#2a3f5f"
           }
          },
          "ternary": {
           "aaxis": {
            "gridcolor": "white",
            "linecolor": "white",
            "ticks": ""
           },
           "baxis": {
            "gridcolor": "white",
            "linecolor": "white",
            "ticks": ""
           },
           "bgcolor": "#E5ECF6",
           "caxis": {
            "gridcolor": "white",
            "linecolor": "white",
            "ticks": ""
           }
          },
          "title": {
           "x": 0.05
          },
          "xaxis": {
           "automargin": true,
           "gridcolor": "white",
           "linecolor": "white",
           "ticks": "",
           "title": {
            "standoff": 15
           },
           "zerolinecolor": "white",
           "zerolinewidth": 2
          },
          "yaxis": {
           "automargin": true,
           "gridcolor": "white",
           "linecolor": "white",
           "ticks": "",
           "title": {
            "standoff": 15
           },
           "zerolinecolor": "white",
           "zerolinewidth": 2
          }
         }
        }
       }
      },
      "text/html": "<div>                            <div id=\"0abcbb34-7c6f-4b8a-985e-7a38a8199325\" class=\"plotly-graph-div\" style=\"height:525px; width:100%;\"></div>            <script type=\"text/javascript\">                require([\"plotly\"], function(Plotly) {                    window.PLOTLYENV=window.PLOTLYENV || {};                                    if (document.getElementById(\"0abcbb34-7c6f-4b8a-985e-7a38a8199325\")) {                    Plotly.newPlot(                        \"0abcbb34-7c6f-4b8a-985e-7a38a8199325\",                        [{\"contours\": {\"coloring\": \"heatmap\"}, \"type\": \"histogram2dcontour\", \"x\": [-0.3026512282748974, -1.9255888475110081, -0.4000656601374523, -0.8826000135507523, 0.5672950557140019, 0.07867115266388697, -0.40315449973743206, 1.1473947325288198, 0.3904272471802595, -0.8837006296734149, 0.12035174062226472, 0.11910036595721994, 0.9659108659394859, -2.8858946751821244, 1.1882004439313227, 1.5397977180557818, -0.10373141756775657, 0.6609176571022483, -0.7103344851450926, -0.19516422860108967, -0.019770462370001882, -1.1789330501854949, 0.3144420501766355, -0.6659921461213975, -0.6512694225726303, 1.1691848112739662, 1.4260407830249693, -0.6636333888503306, -0.02130893546518852, 0.932785688409505, -0.6517579755147955, 1.2340703474713586, -0.5456030655563489, -2.543075405621505, -0.24198981231452085, -0.28209968903223054, -0.15595884845079944, -0.2857091876430247, -0.31399664752580436, 0.9910174401841814, 0.23195774734097838, -0.24125411487832638, 0.7161507544927113, -0.6134389024623074, -0.636795031374235, -0.50099738601955, 0.3878013231650542, -0.16426262413179338, 0.6741216009699481, 1.222978432721632, -0.7133445078147478, 0.20227197477369033, 1.6650279473796135, -1.2502774728585384, 0.31282498701957956, -0.4486637944477406, -0.8299578690546414, 1.5758807176490697, -1.884444416519551, -1.2893179253794007, 0.25689868703251784, 1.2271879014916816, 0.16748609878674725, -0.29304031517311285, 0.35457095799712607, 0.5796283328378015, -0.5270965603577374, 0.47160932132566435, -0.6863299051107818, 0.767112021343719, 1.7992320923891116, -1.245209018495106, -1.1419239038197018, -0.41954168283676746, -0.3099528488639215, -0.32405331897166756, 1.4269206405215025, -0.07215619241750643, -0.35412741613323195, 0.8844863773504411, -0.12415672156866334, -0.2071463842510566, -0.018958591203279876, 0.34847505766624876, -0.6686272205343152, 2.566224887209872, -1.1243324156514098, 1.5009873476335165, 0.7326429143122678, -0.9522650552723625, -1.3376245054414653, 0.814137334700884, -1.679656477016447, -0.8940159025976822, 0.47439951944379044, 0.17548195253925122, 0.2686288832764512, -1.7804884556770357, -1.6626018213377332, -0.21789242693179717, -0.15808122900923602, 1.3094679872718866, -0.3034495554040629, -1.5556693173786762, -2.576626378432177, 0.267532420782104, 0.8522528302378269, -0.32166154379739664, 1.6844772857133992, 0.9620163035496736, -2.9786439435192964, 0.8725458581980461, -0.6721938656896994, 0.06363156358168337, -0.6268776015885786, 0.30402047182767783, 1.0391308479395558, -0.3557177280177746, 1.9699719551200359, -0.1094140506481571, 0.018890093841681145, 1.437719762342267, -1.2260616005511669, 0.04602132950406242, 1.0292051842887742, -0.5408700426535086, 1.623023793645179, -0.9758062426011292, 0.9488454833016353, -0.4147496499628546, 1.0083659774401512, 1.5578822286917569, -0.8013548064463778, 0.1983628568732299, -0.08216653567349579, 0.5095324669334158, -0.8471594761546394, -0.8108532737736587, 0.7588993064260633, -1.3160284791286008, -0.27116248982843044, 1.0353020822037937, 0.5269338833938735, 0.24027170223169822, 0.24977826806447886, 0.5955326484985682, 0.7853672676451232, -0.47708353287986077, -0.4373852936379614, 0.705259258112075, 1.1425937356247362, -0.46567197195396853, -0.41893229222271855, -1.6373058881380913, 2.129280411918375, -1.7854711125440696, -0.4074151753920754, 0.8293055203222267, 1.758043177182886, -1.0078401532559234, -0.01100553919051166, 0.8009294049866691, -0.6475439639562829, 0.22517776448477772, -0.4126219114594857, 0.5084176038194549, -1.9900153407597296, 2.160948278881106, 1.1320548974212699, -0.7692958172559098, 0.9694259098021302, -0.6055726198433489, 1.417640775918183, -0.332896561773569, 2.7034961221371243, -0.06926867011832993, -0.3659813003520731, 0.0987258869933376, -0.6203540037419967, -1.6696500521905684, -2.146050174299769, 0.48919362253467163, 0.6192192207107956, -0.4003623083174667, 1.164328378153965, 0.7124859547243066, -0.24800798188525763, 0.20790926391416634, -0.8360439243049862, 0.090772878142413, 0.6482562986211023, 0.8143930979185047, 0.8306479185434091, -0.4784145574017266, 1.3595852113423725, 0.051017438869192105, -1.1716904294681194, 0.5091116053969392, 0.4275758767959357, -0.3112386499184804, -2.2503713155070746, -1.5357534712183143, -2.611915177663039, -1.4288834352483626, 0.7083642911246634, -1.54449318777037, 0.20572302647234608, 0.16531563695993368, 1.7012917605222175, 0.12391831440972917, -0.005460521676671968, 0.5491031143927396, -1.2642523129522816, -2.5382964681543023, 1.329551079228586, -0.15779708492307132, 1.5726529994091287, 1.662234931953966, 0.4299483074965581, 1.1822133911630868, -1.2795754514026607, 0.9047322591607938, 0.4869537998444931, -1.1122354835645785, 0.7446834400412021, 1.4693976534687088, -0.4016301844789006, 0.10815915846734134, -0.2621507279924931, -0.04592342109684192, 0.7913328175364747, -1.1574044177647618, 0.1380505992934733, 0.4946765753107677, -0.5970480594003781, -1.186269981056484, -0.613407272289385, -1.1142280657581345, 0.29304135100516093, -0.46431729970706487, 0.5785704639864815, 0.06065258797804739, 1.6554413420789427, 1.3791226206458964, -1.1694615647557156, 0.5947854532408953, 1.4665486748613175, 1.3911071346131674, 0.4209298729171747, -0.8092798623772899, -1.088476833138381, 0.46389805030257364, -0.6927918166317705, -1.8085903643537429, -0.6243339178778258, -0.43391353921179765, 0.8741522116993612, -0.28454613752011826, 0.15080745652804278, -1.3786465698998158, -0.7793712379277228, -0.7751095864988672, -1.5231319258903668, -1.3011029627818236, -0.9553993701264818, -1.691628863816294, -1.2598328154836176, 1.4706892178979396, 0.5876514475850256, -0.8688884648361483, -0.3450093808855046, -2.902084824314574, -2.1281183047924324, 0.20154807160707294, 0.42473255977102153, -1.65295870869923, -0.14292989790865002, -0.09567647584450349, -2.1241095607447233, 0.2880571946829292, -0.8910469298924643, 0.8966651455977545, -0.2512502640912918, -0.5271859347062284, 1.413800828824497, 0.5686633872257956, -1.0045418970477755, -0.6144765072027102, 1.030467450560568, -0.4829473068623178, 1.1155280745384888, -0.20341268629829506, -0.03410001350966791, -1.5171847616690255, -0.09694333629509125, 0.970279385842037, 0.743156665860603, 0.7555463475234911, 0.5029014254978726, 0.5739930252160402, -0.12701639141496435, -0.2089703192835795, -0.4622007236386808, 0.24059268338650108, 0.8234911306207979, -0.7235273765230099, -0.225894095776557, 0.6539565523703311, -0.6646025367955182, -0.27690434255205254, -0.09319732613539504, -0.3535569492180912, 0.43681489769964654, -0.012941482879910529, -0.8040715080225913, 1.3363239511854321, -1.0734521960596086, -0.6256237827090987, 0.21031299615766336, -0.6021181941411129, -0.9297904393084137, 1.603725523935829, 0.7073339805837574, 0.5487417474467244, -0.47804159209365965, -1.4243089644604126, 0.829339732527603, 0.17205875971502352, -0.5869612068579324, 1.3877458381610333, 0.19715106953227363, 0.6036645164423456, 2.0620761827935152, -1.4890479832691297, -2.6627068344525595, 0.12536799675448831, 1.1839619832601997, -0.09431712664035156, -0.27532199228236265, 0.1890645215839811, 0.13545090451176897, -0.9017070678321172, -1.392180397653851, -0.7727551182733042, 0.8220969246316988, 0.35348202302688575, -0.7535614727378547, -0.1969936024243372, -1.5512097689603552, 2.2863586611840887, 1.0660786461731315, 0.4572878707701098, -0.7052731188683152, 1.3466918463721766, 0.3776899310955288, -0.41829137119166865, -0.2474884445816036, -0.35560271750084965, 0.24590409611389688, -0.8685454496935718, 1.447836106742927, 0.6282562315715752, 1.3883334072160542, -0.40747915892179787, -0.7224271194739893, 0.29355786918112875, 1.4950723440863731, -0.38948472528324396, 0.12196108489766036, -0.8677796386775747, 0.7489040249031514, 0.6467708996283473, 0.4958319090315725, 0.7517445889376885, -0.5978545594577436, -1.173929955563078, 1.0636884323353546, -0.7460543244129323, 0.4234937491371631, -0.49904699402717784, 2.1370555229710373, -0.11007893666603093, -2.0011743660574064, 1.3253563745888988, -0.7080946429299233, 0.8014264873982012, 1.2289758404378048, 1.6772928689077242, -1.733440455491101, -2.111118559270066, 0.40419100431060623, -0.08856808162997527, -0.7645582609175215, -0.7197498396654224, 1.4924653868778746, 1.9808319836446169, 0.2674480079358483, 0.9575142800458546, 0.006822112696658726, 0.24405505688092213, 1.4269969316961264, 0.4681735752787745, 0.21704762745827674, -1.1192981995081022, -0.39352147933587633, -0.49976999121586557, 1.3178310761430638, 0.9712897592288507, 0.2811987888269563, 0.2622121847096689, -0.037980393350146774, -0.42934020535086226, -0.6552698293881898, -0.474871724744828, 1.241073202371763, -0.5356291138682759, 0.36401114695983366, -1.9961367429734655, -0.43209031505460765, 1.0401102309998673, -0.9542139431768827, 0.12145438831962455, -0.6541749785472865, 1.4980190071661172, -0.544530592479906, -0.8769567172912054, 0.14330689984674194, -0.3901719588563069, -0.5704337133055704, -0.579742709620222, 0.6415854681544991, 2.0117431867664655, 0.4256821951413613, -1.5749700797489905, -0.7580069848700909, 0.20742453571651867, -0.013383395787520274, 1.3529417620341018, 0.16707994436642346, -1.095710323636666, 0.6903171836349024, 0.7684005123115093, 0.3433193365503346, 1.5878991117281012, 1.613422547423327, 1.6591687423261765, 0.509845990705274, 0.2514799963668851, 0.6387576256426045, 0.5437409860815978, 0.9026950250546222, -0.33383051255479196, 1.897920170498523, 0.887586704095441, 0.17947635565383416, -0.9037225065982045, -0.7852525106171359, -1.116796419898935, 1.0599860066416946, 1.6431147258125856, -0.4131986591746625, 0.9090298286977331, -1.240933615332621, -0.8592894512390175, 0.841922067303371, 1.6010443662332916, 0.41450777983916903, 0.6988830667219583, 0.7895042118514031, -0.21674503775311446, 0.8595254783728808, -0.10655357175656138, -0.34352510385246565, 0.051928484876844025, -1.1901927729633812, -0.9809030026726325, 0.028932226543010902, -1.7485307001980641, -0.9726402766500536, 0.5012913733104299, 0.5037555583633169, -0.4645175637641512, -1.2932614373732116, 0.5035712683963975, -0.27643556032516625, 0.6312681770097922, -0.4297551786396991, 0.26714793433111333, 0.12950395166307296, -1.239350469733002, 3.9475527323466886, -0.3670448964503223, 0.7149450426112686, 0.23774104748765165, -0.3280216452949078, 2.153040087138137, -1.0214154034004985, -0.2478620195044189, -0.40971257652799375, -1.8291996880994568, 1.1984705652574998, -0.026652840061465222, 0.5713256100804738, 0.9091171816811258, -0.9898036407195874, -1.4547896931641917, -0.8035328305371188, 0.8009782172760926, 0.42736231377941336, 0.11691420159440957, 0.34078534453356263, 0.5728464983581466, 0.1581615649163718, 0.6812708758619577, 0.36371873384907133, -1.771483646261396, 0.5852788433416864, -0.7380954664610555, 2.422549678173944, -1.0767595716178109, 0.082477586450806, 0.5320176511549083, -0.24858351708407914, 1.4444343909874169, 0.16721078566850855, -1.174801344479598, -0.12154259511543301, -0.8448115908950234, 0.8825363461188885, -1.076446133570259, -1.1343413484875762, -2.395007302969963, 0.3279978108570385, 0.263236855177176, 0.7599084013827716, -0.9595601798487582, -0.9853033869856513, -1.3682235056775471, -0.7064838771832956, -0.7582845944884341, 1.106231330027656, -0.869655108370909, 0.3606334019649484, 0.2039734068554198, 0.6623509924193779, 0.33676370085529433, -0.39188687494051505, 0.23433982985907334, -1.478899965495571, 0.26870827171161515, -0.8931006803173629, 0.47817201685783106, -0.1542821452867008, -1.555766151955228, -0.198908586699628, 0.7978088983718068, -0.16760635777192087, -1.197366529485017, 0.7600024556046217, -0.1472684896391921, 0.49289063115692244, -0.6237422020297244, -2.622898661873621, 0.6704028607157345, 1.362298634627084, 1.1627671791380532, 0.4856128048359137, 1.5764260280787363, -0.719221800386994, 0.6870697699436672, 0.4580710076018855, 1.3795278591458917, 0.1405147393709282, -0.8950637739504347, 1.0749864012903918, 0.043225204293277905, -0.9031646943786126, 1.274494612088821, -0.2661929338823139, -0.2828298903136799, 0.9539663859609007, 0.4461015032309906, -0.4739074165107501, 1.826801105664919, 0.6869375420891585, 0.20230534352042273, -0.3757108245595893, -1.916465934085147, 2.528718031593793, 2.109429558767698, -0.8251220492998861, 0.3439400605138025, -0.7961681533650001, -0.09650985758374253, -0.40276651586482065, -0.30498121059795213, 0.026198891628434088, -0.405044566259695, -0.9602265178813646, 1.7000842202410076, 1.0304250366421588, -1.3910618389535059, -0.20397432985579955, 0.34044678852282095, -0.13405144243659514, 0.2281346283369493, 0.6816550669618047, -1.333870467015926, 0.3754223990012125, 0.6120061710531816, -1.264073277704455, -0.1601466507447667, -0.8705020183576886, 0.7398592373553147, -0.6947758689015168, -0.30743477132763436, 0.5842545247351594, -0.17083324356280447, 1.400946886745532, -0.4253442539064152, -0.8058729123438951, 0.9831412149332572, 1.3661120755746936, 1.4137479287335444, -1.091993010702902, -0.6259147073390371, 0.657893058607046, -1.3185871877791693, -0.40387696620643393, -0.32556711780398134, -0.1520340868568087, 0.39633773163945696, -0.6849942077702097, 0.22871562133809567, 0.7956978394655417, 1.166183149043649, 0.010399791603531834, 0.03575789941607249, -1.3231415392455557, 1.5597327626412945, 0.6372630595883993, 0.6501824808110857, 0.9405751806889384, 0.26223644358399717, 1.769752221470719, 0.5512514117867685, -0.13074861873611301, -2.13050198422639, 0.7005389950061701, -1.0129135542956733, 0.2283949352841839, -2.393545328100041, -1.5796740929317548, 0.008013548271687222, 0.18355749156043843, 1.2586787197111478, -1.410568385704798, -0.46348576436331435, -0.4218988132521175, 0.70987478648393, 1.2832767044055393, 0.8433200838955149, 0.7555432063157015, 0.014365402408639741, -1.3095779856764138, -0.2602586593291594, -0.7840355521660312, 0.5838461665761582, -0.45149455604432326, 2.101861877166793, -1.1764444136773193, 1.2114193935209094, -0.8665953661819138, -1.1955272416592095, -0.902815223314274, 0.40720057550093997, 0.10062981524624372, -1.397115431437833, -0.13401706351456982, -1.5091616731630013, 0.8856531766737543, 1.364429280610135, 1.2446198047159749, 0.37245873210820035, -1.0211683027062515, 0.20471775111760482, 1.5475729853973224, 1.993855951990591, -0.022607726685997774, -1.0840962167227817, -1.9919158013261957, 0.3272666019044769, -2.37380458078985, -0.5700533787164332, 0.5666051983628554, 0.0034828910802512858, -1.1152070984717817, -0.22401075838405898, 2.2499932455763854, 1.3980057978463059, -0.09717469785016646, 0.5103137935467265, -0.381793930364839, -0.8514071996006312, 2.4066638243576235, -0.9776839649496131, -0.6576874350748899, -0.1924332950553879, 0.7682088247179036, -0.9181123316887688, -0.3400988438658162, -0.5325026672161621, -0.6522761124767879, 0.174999107578858, 0.003433928727070428, 1.9143429724593914, -1.427313015366271, 0.35743578485364386, 0.7370550522184478, -0.23161602547978088, 1.4275057430907119, -0.3006884057757164, 0.9343127615591472, 0.8897641921147806, 0.33226797324622287, -1.9502599718635725, 0.3284834450913839, -1.9681251934939306, 0.2885418195027301, -0.7674713533258295, 1.1803471763909632, 1.8209343271452054, -1.6746830782285465, -0.42891769851238937, -2.0515113930185898, 1.187912865464824, -0.26494188669437546, 0.9893045593737033, 2.1392768559383004, -1.5574275542681029, -0.7737264244041864, 1.562338986677485, 0.8170025791967721, -1.9405259913292026, 0.42510482691999224, -0.06664722826719356, 0.9124085932280895, -0.3383843658742168, 0.21925562436732898, -0.003886016738835519, -1.461039859731038, 1.1479426913640207, 1.1351206833398917, 0.26339373484730316, -0.46092956516281774, 0.7766281027518479, 0.3348801820222125, 0.5612998294486116, -0.7861718183176583, 0.003113060803175531, 1.5417987814430134, 1.2580730743344968, -0.31634371647509957, 0.7563246460135591, 0.5005403065703874, 0.5198828018340584, 0.525967494365142, 1.6159508554716697, -0.03710497982717341, 0.13296220351974863, 1.161038059568801, 0.061041991115279144, 0.63894511923194, -1.1729699002837348, 0.4737497575997244, 2.2743596726858613, 0.6154808687199576, 0.921812803674344, 0.338254933485283, -0.0685967879095767, -0.5645022548274448, 1.69237280733272, 2.0738662643012833, -0.24172198709387344, -1.1817785955073006, -0.20888762079994694, -1.5457070494733838, 0.3844365782015742, -1.6505219387504746, 0.6570136187335777, -0.8815590422315939, -1.44218027661439, -0.7023845344409139, 0.8607329673675166, 0.11910426946965484, 0.8628863929654307, -0.3571400782005347, -1.5767442344843738, 0.244095892806049, -0.015041806604696445, 0.296621440611769, 0.35818652885378754, 0.12306699846017817, 0.7135682380911545, 0.8497387648379512, 0.28440751315372914, 0.20059376677513335, 1.7645739740207493, 0.8783921085474302, -0.9152549112179914, 0.6283722052796119, -1.4386850425724182, -0.4189616717568458, -0.32393377297169473, -0.9015868226106466, -0.10788407343797403, -0.6744973935319645, -0.4662104496628857, -0.8526845225978265, -0.2242200656344624, -0.6476294232259056, 0.35260534827691087, 0.1339555756667367, -0.28034448531789485, -1.0006339877923542, -0.5960181041493534, 1.1047562329660405, -0.29411315289678236, -0.35227052178767676, 1.7062775977956477, -0.06674230221863495, -0.01389693224541876, 1.959599863005448, -2.0784169545500264, 1.1086243817954526, 1.2778067328903782, -0.9207959653971218, -2.050961371921255, -0.11172660791610244, 0.7532702863630317, -0.12978223779051418, 1.3455376290255427, 0.5288739465250161, -1.1974441465004841, 1.249237634341234, -0.5404723230602886, 0.5047339462757109, -0.9571446743535841, -0.6515938754641977, 0.2957495800479807, 0.35009863001623465, 0.7090895045180379, -0.4196571316198821, 0.43754861440809073, -1.3682591974818916, -0.05486983068687041, 0.0651193237615507, 3.0170843776648386, -0.4584092459112648, -2.017610629464936, 1.2555867711054152, -1.6951753441054653, -0.6862199331808538, -1.504178291914221, 0.16036530775423516, -0.28947005034586776, -0.8661425000289702, -0.5717588061151836, 0.4923032129261227, -0.8849973743101442, -0.20749900183731693, -2.7278590702508256, -0.11123971709720014, 0.3232178780300956, 0.8557641308992548, 0.07732267170522474, 0.41757376212231717, -0.030844531101863342, -0.010243027608889788, 0.5917567958099262, 0.11733856923026274, -0.929575495113584, -1.6389033963953532, -1.0695207749852178, -0.6442441529487194, -1.1103328789203768, -0.23437392821576192, -0.8482888246691643, 2.265438504074881, 0.2619033054133162, 0.8625793451428388, -0.06140561981291436, -1.1708040647373366, -0.13256048993809272, -0.42801945385775453, -0.7700610074603396, -0.17422505678289205, 0.8832371822109504, 0.2672675157747519, 0.40645926149770906, -0.9004215190668861, -0.06941696755985766, 1.1509945490302615, 1.7153995458800464, -0.8611339097969126, -0.7026241321374148, -0.27336530070749765, 1.3416565842019146, -0.6016723360975954, 0.7397472591508092, -0.07748867525855696, 0.0383552443573899, 1.4456633789025892, -0.6781696815806485, 0.3721247997351992, -0.5082222229830867, -0.8538071538624323, 0.16999040922898356, -0.37720971309408646, 0.06334444126536515, 0.39509959607506484, -0.40810002921630856, 1.5125080281578491, -0.48750056657968494, -1.3629616185885298, -0.5077556716280154, -0.8919133677520239, -2.225210265139513, 1.4094943657487202, -1.857550946656682, -0.3878488238892532, 0.7542970594125018, -0.29879240651991734, 1.387008262031515, -0.5709338874093096, 0.2370065811501018, 0.548073784176328, -0.784918841108862, -1.3143617329857935, -0.4599037235972485, -0.9450923728087217, -0.5675810848982903, -0.6849181441747396, 0.7132858596084642, 0.16982048411432318, -1.2146304564216255, -2.5581041370119766, -1.6950847871869728, -0.8902039516040099, 1.7020051538362777, -0.6770520210690133, 0.239299864582552, 0.7837452135356628, -0.09418511900696411, -1.2466748753705794, 1.0401911305362646, 0.21608098342876556, -0.6046875440529773, -0.6082257051392401, -1.7543287988465779, 0.20536235555370094, 0.15461812194890953, -1.0874652367471405, -0.6068266922867793, 0.4526930099721289, -0.19133899119204897, 0.15451447090043838, -0.5523601279462872, 0.155130943502862, -0.7261836877686504, -0.4812057612893808, 0.23932103478262537, -1.1776218364963034, 0.5099549144761908, -1.2369881951949644, 0.30771834805383186, -0.8588822867590432, -2.3460126280803846, 0.7606055049626521, -0.8510417130935326, -0.11460087171838362, -0.3642328774514468, 0.6774246891371317, -1.1882707407575732, -0.674179084055605, 0.23158492801494934, 1.0211830778739146, 0.019113134340083826, -0.16784271896051234, -0.625955028817261, -2.3188175994909708, -0.7521547836177773, 0.4853976980395588, 0.4309225966962544, -0.38412280775775987, -1.5025675533840088, 0.23359209288550453, 0.9884733514229693, -1.04153414576722, -0.8164792347202758, -0.6992737713962373, -0.14300974752415122, 0.6745155829895487, 0.593325922682318, -0.104491930441489, -0.7981713877790162, 1.4089662466794555, -0.7824442049647178, -1.7932464638694112, -1.9877559943967398, -0.7133310918803537, 1.039954371122558, 0.37254560751390897, 1.8163631104878943, 0.5775513314014644, -1.3871383265095496, 0.41234860982697746, 0.005858129032148964, 1.0529001235646005, 1.9773527476637884, -0.34604024167676867, 1.2429812148900794, -0.028337976536621262, -1.704378183457864, -0.40986752400334875, -0.38184781080610236, 0.10516193728519597, -1.0025630676555841, 0.4973605909975085, 0.016053421640986654, 0.138990208079746, 0.4666601963941483, 0.6288738707475869, 0.8370907501482863, -0.9234775423453147, 0.3520243060770336, 0.9900442871687648, 0.48581178829361676, -0.5931765679768845, -1.103221376645183, 0.5737047711805647, -0.3231984449060448, -1.2287307565254908, -1.6758112237352327, -1.1630262309212993, -0.3473120422252567, -0.9305920355262285, 0.0031489009061078086, -0.8071885113851064, 1.9745079532052046, 0.3678174785260205, -0.01994465994479843, -1.081258609147299, 0.9915540557453754, -0.6282315368454304, 0.7706348518040265, 0.8549671346171183, -0.01653322792403285, 0.8928935309598726, -0.7550314135859049, 1.2885565608720873, -1.000760813739452, 0.04206110407242059, 0.8856149488948815, 0.39494492067592063, -0.01171102263462893, -0.8402911567397817, 0.11100790458439151, -0.9736836629076637, -0.5464046685431027, -0.3464686979397254, -0.9891284739815498, 0.09857102804040209, -1.7309371407998901, -0.9638609478208928, 0.45177627894254196, -0.1899383212875208, 1.0965570825040898, -0.14928260202775137, 0.37499937952563617, 0.5612006366754174, 0.9322610080488881, 0.4220121092355154, -0.36503346273023735, -0.5815044862311087, -1.1819991720834568, -0.7605383649311875, -0.9374740239978419, 0.6058253001360975, 0.25912653310303463, 1.701550458828744, -2.1579865326011056, -2.035800487482153, 0.7917682265043404, -0.9884403326768201, 0.7026289789201854, 1.1904296690464424, 0.01295186453897224, -2.42526379537534, -0.6891226523720797, -0.3677328016311272, 1.2034149087285873, 0.3344302766832385, -0.9806565015853874, -0.7466990202266918, 1.8366127412152593, -1.7682597688870525, 1.8632985155877055, 0.4260530648894054, -1.806804318304278, 1.6452670150763988, 1.5920152343887461, 0.3119969884604997, 0.1284606349668274, -1.8589549558069618, -0.689707883660303, 0.3785227134898799, 0.9821069232671353, -0.5127484109982007, 1.317803430254227, 0.34539719293516286, -1.5205291665725826, 0.24729355988787097, 1.204140575368934, 0.5712156033656228, -1.1145849790138342, -0.65787315364141, 0.8794605117766962, -0.017511152397282386, -0.2480932421098104, 0.9498146085064645, -1.1205507029414143, 1.384823351763304, -1.356045352819544, 0.1825206389487755, -0.8944351839141779, -0.024396127606301964, -2.018258663009895, -0.8211741362550252, -0.18093630223326743, 0.35473295896845214, -0.8172892829979992, 0.6307974033669721, -0.09118154320569265, 0.7929974780924638, -0.4401971283868314, -0.3482321411982434, -0.4165506731339946, 1.1478144671658472, 0.32295121926754705, -1.8491092653682735, -0.11405163946575048, -0.7387392968712628, 0.5216848003610213, -0.625896733082995, 0.7924145977462604, 0.3900637427882512, 1.9706457480967463, -0.13876906327413716, 0.4958087793248266, -0.2811414794102099, 0.03579529764464968, -0.6148906829941129, -0.06325330384784851, 1.5258746157883978, -0.7205688191410485, -0.6887452494075403, 0.7903863923741077, 1.6841175444218646, -0.5001609952475975, -0.5067854474925567, -1.3507196661103391, -0.2780631470408081, 1.2999513891438614, 0.47260338461880674, -1.0686580283871356, -0.16196169783328015, 1.5281639465629502, -1.0478137159405754, -1.5443552997908165, 0.84918127743002, -0.9193659183871545, -0.9204920192840347, -0.740681045040593, 1.2581270652749124, 1.1312393352216252, -1.3280903622269284, -0.6970864868091325, -1.357775455076837, -2.321567834426128, 0.9125528423294462, -1.5993160212436501, 0.8394996504462787, -1.4231284679776337, -0.5694882669820462, 0.5684995072995387, -1.3096911446117714, -0.6377016363800727, 0.19021678433080635, 2.98371018729441, 0.288191317715458, -1.1969701913607624, -0.7995891141468154, -0.2324091756191788, -1.3828910470048124, 0.7144901337492777, -0.9173887525154996, 0.5937362332209717, 0.22373752705647204, 1.1890048736359626, 0.06789743157740095, 1.3864067492056908, -1.1882791597590407, 0.7560883093783936, 0.7847903006623592, -0.91781996493482, 0.9047695250293949, 0.5040336717969188, -0.10629617779128918, -1.4792509055231604, 1.4551252451729573, -0.9258460031190185, -0.6255501348174793, -0.24303506002222364, 1.0834895601260428, 0.2060107070791982, 0.03785900620349794, 0.13994227537120368, 0.2571230648742315, -1.8265101837351858, 1.1058534639950715, 0.6473030589004165, -1.7316268834741875, 0.19575002286604382, -0.9127202179376589, 0.8546005163517263, 2.1030595352337684, -0.527701946485361, 0.11584237719082269, 0.8204199971428922, -0.6759255848519928, 0.9632537932683548, 0.7348810761779466, -0.31089897510667885, -0.46726464718279237, -2.1258064495918227, 0.9155069208127566, 0.024023441545464094, -0.37906337613252944, 0.31686726648309865, 0.6233616788442503, 0.5951043254143946, 0.2588776771922792, -1.4126572260767452, 0.12085580464419256, -1.630256342478728, 0.6934879476779451, -1.1527900889145548, -0.3565316613175821, 0.29165268797754434, -0.9265175990882875, 1.0957322435076915, -0.42270923933904747, -1.3432005977220982, -0.6315536409910001, 0.3328907245441855, 1.3915308839070075, 1.4076298279237505, 0.09371815270711813, -1.6135806855777577, -0.2468962005271155, 0.5505338004659036, -0.8697165896581045, -0.5381597437841522, 1.2319685758705805, 0.6105639531834551, 0.7491100511013168, -1.2964875447978936, 0.7478694145148088, 0.209848052469171, 0.08617386981877866, 1.9395851114766254, 0.16270233755179472, 1.2190062487061453, -1.0568062489872132, -1.2494331380735209, 1.3709886967949496, 0.855366732027471, -0.7613217789617452, -1.0518194613092415, -0.7053304822947899, -1.910075846211094, -0.9914940140534533, 2.2374063931213923, 0.8931993057313519, -0.16190135542508105, 0.505672316180877, 0.13972595754009146, -1.0441498467661632, 0.7863130910160127, 1.4178587462209526, -0.08883803617767999, 1.252929736733899, -0.3523415256655797, 0.3549567416094464, 0.3573333774096988, -1.3230309562794689, 0.04812853076976829, 0.09395563523990146, 2.0302684427289215, 0.24139685568637892, -1.7323111599852705, -0.9879160245673898, 0.1110619231062688, -0.1898353246234771, -0.09227075039353431, 0.3350493677268738, 0.7563411190441092, 0.3251555380046959, -0.18509634496171312, 2.289893188189483, 0.6752417308048552, 1.498584780946491, -0.4785554445859188, 0.8374227964912266, 0.6018953346146595, 0.12406905908374465, -0.5319928386702268, 0.23968399310394728, 1.5397686831693795, 0.5842554914258281, -0.5508806790383648, -0.5936531206537353, -1.1163514473570795, 1.4939329380800588, 0.8148032204485333, 0.06786910690425263, -0.8648069772188467, -0.7168013927913155, 1.0312092293761512, 1.0280024965550059, 0.18654524397891817, -0.5981130206223813, 0.4149151226579831, 0.47015958253737844, 0.5111317536185361, 0.31544723143428544, 1.2178142901540248, 0.48414356443325385, 0.9995806282855965, -0.6310316406246926, 2.168250482782411, 0.251775533871494, 2.1968982502434393, -1.1434091640801298, 0.7294054155381526, 1.5585188199426998, 0.18218973579779446, -1.2976915994780307, 0.379201776912526, 0.03247994980911385, -0.07149455802385858, -1.2151057766162847, 0.6519472679171859, 0.49471871447407095, 0.4907319392321175, -0.25307822056293383, -0.6918115571389258, 1.1346291137724143, -1.015072711519844, 0.8717394981150651, -0.20867253946052888, 0.13473528914843286, 0.5197545028978541, -0.9136955674293605, 0.8630556202371937, 0.06534459896712268, 0.4363264257178013, -0.8618440624744313, -0.9248623705166903, 0.7561395306586004, 0.18679821584189496, -2.458974011491853, 1.0844166335409005, 2.3279750069547265, 2.8057957719536266, -1.285499293064084, 0.2112297658725361, -1.358326433230945, 0.5290431163261077, 1.1333345716223566, -0.5974653066809341, -1.5164735794873772, 1.3695217692990749, -0.11322441444650172, -0.38519726766899454, -1.1229644040120377, -0.9071799458826657, -0.22520979980708983, 0.9839008088801059, -0.09607453698296577, -1.487029491505337, -1.779355541437242, -0.8633105677611843, -0.30519402394722517, 1.0597524188335394, 0.29323934020383347, 1.3594544433307425, 0.5169073771098285, 0.5564925095213854, 0.13476417451548917, 0.1977731754583202, 1.2767929129960414, 1.654261572886642, -2.3688411633619815, 0.6610248324067521, 0.457345896003409, -0.14459227145300987, 0.39267000402823055, -0.3249282393106742, 1.8088356553397242, 1.015598827631147, 1.2413917864890316, 0.2633980219769785, -0.2900958066503083, 0.29608891012006655, 1.174233864004504, 1.3957452508829078, -0.652502737881994, 0.6371024987001148, 1.3663409294540774, -0.945754090443429, -0.3482170158284631, -0.6176680867063619, -1.1726723071102978, -0.044178389273409946, -0.5212914837677466, 0.5926969396523396, -0.20195330330358183, -0.38394915694261583, -0.7426061066750848, -0.8851301352591001, 0.47667741111224604, 0.020186709444066326, -2.049907762967183, 1.6296222188259226, -0.2114198700557442, 1.663124277094912, 0.8372754189296177, 0.3456019275684788, -0.6661615313485225, 1.445983261180544, 1.1428687628775962, 0.6267691154271569, 1.074287185676522, -0.29980164790105335, 0.9183124815437256, 0.4285643203711457, -0.8964107755045071, -0.9150148895619298, -1.678051374404262, 0.39304476290987267, -1.9306325348894207, -0.12927211979681863, -0.1627372602468969, 0.04820983478622845, -0.32321213862217246, -0.4124673620947597, -0.20469262806954494, -1.087924750498087, -0.06392234953410857, -1.00006936216115, 0.6093663411103191, 0.6477573445385512, -0.11157835752531164, -0.6203778884801551, -0.21204796198469136, -0.7705766874744899, -0.35988939980926965, 0.08162657278892349, -0.566221262994531, 0.4442580656736993, 0.21032685685031646, -1.95039948978456, 1.0415522300493243, -0.07948848769728847, -0.7499892291576011, -0.9548426795520145, -1.0622117112924563, -0.4800238511762749, 0.20190887129810267, 1.7530494629993536, 1.816088036939797, 0.08520647452825807, 0.4705968697547175, 0.8288824565962163, 0.5087382997141017, 1.3050802820223046, -1.3085384742448687, 2.5808525689886777, 0.781332010786776, -0.7031569593323242, -0.5656718173751834, 0.6842466269803542, -0.7654579030541773, 0.05072922624662564, -0.47769337631157693, -0.668101175357099, 0.534895144041223, -0.7170846100391929, -0.9156651723133259, 0.010726536822795832, -0.40447273859707994, 1.3094283654166947, 1.5470902858644169, 0.1587992624770394, -0.6777948955537838, 0.0446075385939553, -0.9068855143772011, 0.3105303400259497, -0.9263528840886118, -1.3391684936564388, -0.9871035534987196, 0.22901197323406677, -1.4926478582775742, 0.11862306838264836, 0.5290480111351039, 0.5351050573284402, -0.32201684147131654, -2.0610524807066195, -0.572659270482588, 0.4787590616538555, -0.5016441103693583, -0.7380066253780228, 0.29982253572844164, 1.2555734236797098, -0.45275937280262846, 0.13220088258443083, 1.628122025632028, -0.4074356955946756, -0.910028695072406, -0.7288193169852563, 0.4913048451151784, -1.0941810791018878, 0.06346012233565335, -0.13703853593947193, 0.8622286049205043, -3.2722041121342698, -0.5407571153929905, 0.5299751134128943, -0.6903657163075394, -1.114830969114374, -1.040298473979405, 1.3860145155279988, 0.6111268730629417, -0.5109130511581168, 1.1331113964809718, -0.6080065746149145, -0.16833302910533923, -0.8764856119016723, -0.608623952944383, 0.7632178154556573, 0.23509849695410948, 0.43448466446495276, 0.010127018086626078, -0.5578855570179894, 0.39039938757005244, 0.3375038439615333, 0.5047359022966998, -0.16296139249106223, -0.47499851540911153, 0.9041774652997119, 0.13798031655948592, 1.117903703216061, -0.37029023712765924, 0.1057252782976659, 0.8019855158496173, 0.7007558475739318, -1.1558771244518682, 2.499142170784376, -0.022538316220504794, 2.1605124241302858, -0.8659546225148385, 1.4885121306107894, 1.5061229798440485, -1.524367005927112, -1.3771617678484447, 0.3955389576853036, 0.3556249304427126, 0.8423420491559113, 0.8770297129610327, 0.37392053393368857, -0.028907745742720717, -0.8522463747413491, 0.8345322373957946, 0.3774283529903788, -0.6930331496107961, -1.2826044421114682, -1.9248834627573863, -1.0201506575111716, 0.07151045014878689, -1.0776215157881517, -0.26215501381931855, 0.05114703530732351, 0.991225475201363, 1.169100996341028, 0.8502611237373217, -1.2621226746018641, -0.020156920267952662, 0.30205301744895313, -0.09512277863001435, -0.30801468469607396, -1.2268696321203127, 0.652777661091698, 0.6676138561978138, 1.5906632316403866, -3.102520439361303, -0.7416877885000478, -1.2733165917904774, 1.3875457723499154, -0.5958992897616213, 0.0027077954366950107, -0.3299842749246003, -1.258403313005349, -0.3548969853340848, 0.8184841734704879, -0.05828458024552864, 0.13530593510251107, -1.076473773900424, 0.9384461216558194, 0.7920639970473871, -1.3645326602788794, 2.0163949232932272, -0.9376818208532821, 0.8703981948702225, 0.6445385554360232, 1.5377069877335423, 0.6063655552634555, -0.38085956881775107, -0.29389317394517517, 1.0760455482687403, 0.0938078190331142, 1.3955646469499339, -1.8411572729757768, -0.66060363800964, 1.3814571480057265, -1.6613648304936304, -1.4067460923709956, 0.05022029033422313, 0.4380806457607904, -0.4711402252222404, -0.8243456930601866, 0.06767815892694425, -1.175670922769681, 0.37348785579891086, -0.013183447087985826, 1.8427818948969314, -0.10808510530313685, -0.9146952921344772, 1.2992756444056686, 1.1630374512578265, -0.1401730239778016, 0.5338925270346763, 0.2581391713260779, -0.22932763387158156, -0.30411065306785956, -0.8628881257231781, -1.0115625130764059, 1.0993977027259065, -0.8496498056569276, 0.14926786726908287, 0.022059684688433587, 0.49491681107811547, -0.30987994521132817, -0.7441842835454405, 0.8868667161036529, 0.6092818579543638, -0.26412960441422806, -1.8472634864484017, 0.8336234142546136, 1.396411114963646, 0.06177619780966482, 1.0240788546680786, -0.13511853642922733, 0.5069104064888154, 0.059991193232813406, 1.22991037246971, -2.5941139277892775, -0.6025715753750901, 2.639971623024763, -0.06817941474930392, -2.0142267120458905, 0.12160745410800883, 1.045127077225557, 0.7590308035564869, -0.14202515923951559, -0.2007544697411433, -0.4062220607691947, 1.5946257279916423, 0.662234263212341, -0.5350512552153694, 1.9030333881826216, -0.6859887350571101, -1.793893674262347, -0.4258755939490003, -1.243149569627991, 0.0019497596555981607, 0.904811416953316, 0.552589698826398, -0.02584462979706817, 0.367232419408243, 0.7334840971347477, 0.37773228350448734, 0.43632422142362043, 0.15843614988900476, 1.4111099963390719, -0.3858112944938097, -0.35864444040310384, -1.0510456304478124, -0.10544765394618201, 0.1509769993156068, 0.17172045993500593, -2.862043431789061, -0.6799326998876858, 0.677641689624293, 0.07360217635309647, 0.4854221611391548, -0.747402741407775, -0.11777081306957307, 0.48761066969760325, -0.10807601747786476, -0.15287289021870376, -0.5100524421070561, 0.138401177849348, -0.2529959633084274, 2.0660241200041263, -1.1554725484263464, -1.1074247580016494, 1.2817897829916751, 0.4123405934644688, 0.30343674017887284, 0.25046426328593563, -0.23528506027607035, 0.9428071573636866, 1.3570934499722778, -0.8385779459778911, -0.4746155203919233, 0.17510760544283305, -0.9145944365975032, 0.4177050777367466, -1.2453184528538137, -0.38263822833654887, 0.08211671523221155, 0.12589333463793992, 0.4223809055857716, -1.0563105330951506, 2.393252910911953, -0.6662499597114862, -0.3085211684632623, -0.3035085719776558, 0.7743599308388969, -0.6017872548913555, -1.0234713521135113, 1.2212549215553343, -0.5932216177807824, 0.4413561547343344, 0.6211088565523597, 0.10962636155476889, -2.1498835181692946, 0.1968500641914119, 0.043915188616119365, -0.6752593990246102, 0.9119460392225794, -1.0711252090145693, -0.23954132069386413, 2.32095237457824, -1.2497892340243666, -0.5424509311783685, -0.9149680360315957, -0.21721226571151198, -0.6236749207314943, 1.4114005986202351, 0.38673295897780424, -0.543500813116486, -0.2960245411797753, -0.7843264679390078, 0.8920064664731375, 0.1516056963692237, -0.4440292170972957, -0.6109847553037179, -0.14661661641997123, -0.8393846857004968, 0.06944068664903288, 1.3877584471850046, -1.2729040076053928, -0.7261134225038126, 0.6114046418400281, 0.3608959705385595, 0.241481283939316, 2.006186700528903, 1.0129807785749858, -1.0586329352649195, -1.939260386102037, 1.6479533642789141, -0.6990106116574086, -0.6341877352574552, -0.04841810843663451, 1.4004888807077827, 0.6906149768117658, -0.053938744886262, 0.5331819469648194, -0.6183551738037607, 2.2255226309103433, 1.7487585415967273, -0.2524279617776586, -0.4550071845374643, -0.3726510408355911, -0.0796709003368232, -0.3623358233410878, -2.382365333226615, -0.0356231750071922, 0.599670188501858, 0.3029842254674085, 0.4742897540686726, 0.3970138624976535, 0.1377203061004834, -0.6592646354775508, 0.7751360230789177, 0.28486099169905155, 1.2918034755757595, 0.07437164454725456, -0.6404955562295052, 0.20705144565793576, -0.5843790564953733, 0.4278956117712746, 0.05957453905148126, -0.27951957950799494, 0.8507456997245841, -1.8408602428247476, -0.5129270548413821, -1.1899235926395555, 0.7346203962989885, 0.7743841922699918, 0.30158695998532753, 0.9344379091911414, 0.49922343119825735, 0.40700347270959364, -0.575249098641437, -0.16849506780766224, 0.6348064347551365, 0.8559931210521706, -0.3212292932752388, -0.6309962156734918, -0.09941597383689167, -1.671070568348376, 1.5273973086161938, 0.9928605150145453, -0.8466294574158605, -0.8339364015116297, -0.06741798607930799, 0.09416094373317159, 0.6209075342395365, -1.4821298078070557, 0.19330680135602396, 0.7885069466293579, 1.2378890362316777, 1.0228876440656052, -0.3260139858209956, -1.99644730190575, -0.38781888632764616, 0.5955017738541051, -0.9079045182108563, 0.1598397369341334, 1.23254030260034, -0.8960322421849757, 1.0292476255529666, -1.6329182634485035, 1.9715724665389456, -0.4818931995563132, -0.4807031735595589, 2.327529146025154, 0.6096220958417999, 0.931267828836524, -0.32647838963395526, 2.5638739952369707, -0.751544309665691, -0.15871792722688416, 0.9085395754679643, -1.4532700696637377, -0.19251233320636102, 0.5191998016528404, -0.11267714909765753, -1.1532585262833415, -0.7790136992371313, -3.022056131271473, 1.4476473595351038, -0.8280783074720713, 0.14953567175031815, -0.05125349921308272, 1.934038767718771, -1.8612924514921236, -0.40130882178988103, 1.8452140876933574, 0.664065235799578, 1.8174539614909087, 0.38681059416174784, -0.8888421517113467, 0.1845218330524975, -1.0004023333565608, 1.3600038770682126, -0.05005172140983748, 0.354598899176993, 0.42645892297886995, -1.0550545248821341, 0.3308964732541786, 1.4279720513592915, -0.599523958820229, 0.24435082968335467, -2.031113355084784, -0.910161671245069, 0.19890695454577206, -0.9377185002026597, 0.03979375125771909, 0.20281489242974027, 0.43184103493622666, -0.7939908667848755, -2.613393219186323, 1.2090294151258238, -0.43564310089630953, 0.7645601933006598, -0.9786374808596422, -1.451840261072697, -0.5051076869025126, -1.5748902301661023, 0.5174956140041486, -1.1062926984620864, -0.5979857632969, -0.03315444204177282, -1.3379306646061064, -0.5344468199400656, 0.9147374275537713, 0.6850751377636299, -1.1633964562812869, 0.09600429771645111, 0.6784665599782629, -0.6080641030406191, 0.5337318020497916, -1.4264345911626541, 0.4927075834256155, 0.15619367707092022, -0.5832326419210845, -0.16762851713570948, -0.24814448005601217, -0.5373434164815295, 1.69292663124603, 0.7310385292573197, 0.5131611314152434, 0.15861454300913824, 2.8617673264904275, -0.7985793101553309, 0.2919590539915385, -1.2586099188380035, 0.34037333000295306, -0.1114996328822923, -0.31421410394139987, -0.3713385610316998, -0.10651236110444362, 0.1590233829742685, -0.785198370619354, 0.45266607036140444, -1.4397750207697693, -1.4672838868173923, 0.8181132188948996, 0.37543214196974356, 1.0575197037744584, 0.753556873033741, -0.2649729389603487, -1.1094630150018103, -0.8535826045949485, 1.372822834541972, 2.8979082540028775, 1.064812309057188, 1.3495282089926584, -0.3540327584728591, 0.9090569179918563, -0.09390717035874413, 0.24095311616788617, 0.48265369016188864, 0.0281089191966677, 0.1810769548763576, 0.22443475197427953, 0.0448693265162713, -1.044604268160965, 0.8814553947435579, -0.30778583889040223, -0.16723092074188664, 1.1225358497652107, -0.002209216032723984, 2.059670910982299, -0.4334876164614738], \"y\": [0.3279828271227054, -0.6554915395089348, -0.2445630740894806, 1.323591772572846, -0.214918627976312, -0.4910782139566471, -0.6513185791620149, -2.036069373634973, -0.4311831747579831, -0.33024198874944444, 1.5328593324277806, 1.1415986052231533, 0.7890570825617523, -0.6900527332815405, 0.5148657410583601, -2.005222481484949, -0.720111006232243, 0.5089962062164424, 0.18934506611900184, -0.7060442134639205, 0.11277474321089605, 0.04020850917428573, -0.36056871641980626, 0.32127047137643655, -0.15727621476042802, 1.3962844594982171, 1.732059865634372, -0.3975348519130771, 0.02733534381888954, 0.3264546234073273, -0.31342159384933743, 0.8830727845003783, 0.864205620248621, -1.887763144457249, -1.112324079794874, 2.1593489658622693, 0.016552412721885065, 0.6458225187215357, -0.28918974965679317, 0.2982397484388114, -1.2530529816137561, -0.49737930163121846, -1.054649051537323, 0.07385840654550234, -0.0006751787981462029, -0.3833901254367819, -0.7400969217225724, -0.2345957947013203, -0.6030782656325261, 2.0678509615074585, 0.4682542414412787, 1.701828509517181, 0.34247233418418394, 0.8331313963967607, -0.4369113391120193, -0.21346643829479925, -0.3281701745162419, 1.7389466636747506, -0.03285469412796877, -0.3918528182974177, -0.1919024154915431, -0.15826609251175455, -0.2954595939978773, 0.16856474044487513, 0.004379570881792277, 1.056093652294252, 0.08033907121967532, -1.3192552105761042, -0.5934803456763137, -1.2126290629027447, 0.0730425284364768, -0.08980365957578115, -1.6722310461595724, -0.2016057083985274, -0.41500777595094995, -0.6000064237873052, -1.3790974989152918, 0.9707682293054809, -1.7482136338061727, 0.8623422951281604, -0.6995816074896681, 0.8924667160862807, 0.8052475891730865, 0.6843751379383581, 0.03399545038206872, 0.4423821418433591, 0.5386121617791062, -0.05046600265022503, -0.6225934228397864, -0.9071792314100172, 0.773069149035849, 0.7009392255969021, 0.47920472775758255, -2.2885807098400117, -1.9017667741088216, -0.4199096890366355, -0.9279809278762318, 0.9289913751962148, -1.1083329031232634, -1.0789949420766232, 0.639663893786085, -0.5560683203271154, 1.0284939648999336, 1.1950128684335686, 1.6737280708321813, -0.9520075518124264, -0.30931203973707816, 0.12231904313934441, -0.3873432700782404, 0.8939142211341479, -0.6422848334478379, -0.7093115499428982, 1.8643373891957329, 1.4378294557910287, 0.9863421078526032, -0.22290250918561152, 0.7716941652232084, 1.1234636427233649, 0.0736420276846904, -1.4824451386264457, -0.09723898054175877, 0.6150582942818204, -0.5930572850154624, 0.2967674072122801, 0.3616378281992319, 1.036457937119664, 0.8644849875271567, 0.48941108779449455, 0.8707828942209734, 0.8182400745444003, 1.504609332284832, -0.9223328502975204, 1.9675361179012842, 0.03363768820258585, 0.8946468354448597, 0.44025373871302315, -0.6411881261747571, 1.7438003406360418, -1.904542086896152, 0.23931964476470688, 0.15803561141697134, -0.7494289017255807, 0.6027121582412965, 1.009519574637218, 0.763443977662867, 1.4848181902568238, -0.6114983515789046, 1.1874034520705248, -0.8400474381707093, -0.3821769218359775, -1.5452411242888204, 1.2169574502590161, 0.023694508444637608, -0.6023966138811193, -0.43468028544499154, 0.09498331661893714, 0.9805168623091922, 1.4113550930204097, -0.3336772364984587, 0.5446954464407218, -1.268438950006229, 1.555524121160982, 0.4647882472158709, -0.7657828839316969, 1.646337297024354, 0.06672196414968169, -1.0049028056327447, 0.10453366258573289, -0.37921835661719383, 1.4664535638937697, -0.46437288964387075, 0.37378377029347326, -0.7561419322029215, -0.29100115180528524, -0.13704191435907756, -1.5256020598466813, -2.16997422986413, 0.003219644300160437, 0.9092316550442338, 2.350328202890156, -1.710502134596758, -1.8538070023040252, -0.13006322932182315, -0.0752969974245595, -2.5257084588790373, -0.24006800307078696, -0.381456322402232, 0.33887335992559786, 0.4560348094075917, -0.3322632741731198, 0.8291416280211739, 0.4270950412723662, -0.8633325636889995, 1.1369962102779736, -0.32821098296755186, 0.9628499436505129, 1.4759368742730368, 0.6717698916819577, -0.3059922823428843, -0.3808458580649111, -0.17805518225772105, 0.6235777112571613, 1.7508006897719095, 0.17909781542816547, 1.2233320538667452, 1.9364220786437647, 0.7967581111602734, -0.08975565091018753, 0.12395636119567731, -1.4173755734288023, -1.7717131410076017, 1.814212506363958, -0.8184205526371282, 1.231017771471893, -1.1123355049572523, -1.1115680534877597, 0.06144637670915448, 0.16569595477260857, 1.2149676875568274, 0.2421668695943099, -1.3121479790977821, 1.5809147694557677, 0.4128748128288891, 0.06836643355382502, 0.3314785167020645, 0.5456073495483005, 0.6964798678900453, -0.11730607600942039, -0.4799690248892318, 0.3243923492778683, -0.04089268417880769, 0.194022482428236, 0.6271740038412962, -0.28518447966393495, -0.41080775491852856, 0.20822243860071882, -0.6063257394809518, 2.4235368761176814, -2.080424921109838, 1.193265698731343, 0.649679799362714, 0.0715546755593639, -1.177573312308236, 0.14717516866442376, -0.48427824356481114, -1.6630703662222055, -0.5723954971321964, 2.44063308508458, 0.2352783531392655, -0.18921117885701433, 0.8652659833274678, 0.7601251642755597, 1.4926512442981639, 0.10356083621984717, 0.9019034927867711, -1.0715964468678707, -1.3109044617648977, 1.170433346287379, -0.5982428890660263, -1.2507220809853077, 0.5840159378710957, 0.11644965218544584, 1.275276327444662, 0.2235246461817603, 0.966936033457448, 0.3534647973797969, -0.06894428280248457, 0.16492086955492366, -0.8695726656621283, 0.5172174703328027, -0.08034919140029141, -1.8662952679949263, -0.6323407058752366, 0.3352245196125138, -0.622781371769194, -0.5375758461760765, -0.33392163066379665, 0.475953907610267, 1.765958119006514, 0.772522139829925, -0.31977611123748784, 0.4683632749161836, -0.5878734337002066, 0.11958877227744993, -0.10923906674464237, -1.0210788575285459, 0.76870591224112, 0.6682948814095425, -1.0312310810627021, 0.9147392504969409, 0.22576917094465343, 0.8288088098038501, 1.4148876521932563, -0.2964801588914905, 2.0932520700556374, -0.44912901790402066, 0.15610648919883374, 0.45708150398520314, 2.0960995238920943, -0.9185421664391916, -0.2343295326596369, -0.5025031552541082, -0.621585832902154, 0.3649541552882968, 0.6743812542992246, -0.971671109103143, -1.0474005071868917, -0.9051877439423042, -0.3675593157683274, 0.5037332460583621, -1.0732883734873326, 0.5021679901222107, 1.6845834973317346, -0.7414090389825054, -0.5502545670769105, 0.44282180975984264, 0.6212992240855106, 1.8401658919277861, 0.6470207330808704, -0.41905446339182884, -0.698584506528805, 0.20480434859010577, 0.48749134035643205, 1.2690819118923369, -0.34885937535474476, -0.47371899262692485, 0.01825022192999286, 1.7594961128951145, -0.5671989692194241, -0.8775310329768918, -0.43595822350546515, 1.5017015984341922, -1.729784348118612, -1.6899101825409124, 0.0971089169435007, -1.5780548434858013, 0.3709452920259764, 1.1567614191648932, 1.3931843242934243, -0.703995733878707, -0.6580586433358405, 0.1810765601332112, -0.7949379479970795, 0.6787661496918003, 1.2141108803314744, -1.3918487561674644, -1.5620203830113515, 0.018724583370825314, 1.0583858169384266, -0.05740555683910667, -1.134596054866429, 0.7488755385089895, 0.5946910842407895, -0.3321642667753782, -0.8132977224379521, 0.04500897139453175, 1.778358771998085, -0.2904988529986872, 0.1810616944560105, -0.2567794298576, 0.10885315157820129, 1.3211772055886895, 0.2322706433265681, -0.07853276965202913, -0.488996891213912, 1.4686318983720716, -0.5268460220143774, 0.500500471942375, 0.23004532825760246, -0.35321049190375825, -0.6454608214338778, -0.5430457025496392, 0.7716518000081508, -1.15052759949589, -0.033427949490225144, -0.1578889329088527, -0.24067808567441207, 0.08817953662213272, -1.3364711785085477, -1.8576312647292554, 0.9612663152166268, -0.18747553293741281, -2.209448678463319, 0.12773958012216013, 0.030402114486876887, 1.037341258228076, 1.3805972688600225, -0.5436567652461255, 0.47600781728552843, -0.24480718424834735, -0.6042861113671426, 0.7025424731406322, -0.18735635365670913, -0.5649800828662717, -0.11662108311765822, -0.13423395044060812, -0.6484814676934291, -1.029160103707042, -0.08350374948149612, 0.886615971434463, 0.7888123748333077, -1.1895084109288758, -0.3622928896084102, -1.0792948482817153, -1.1197571869199419, -0.6725531960922477, 0.3309336041013679, -1.0001657763836211, 0.5384011395943772, -0.29787831218413113, 0.4961928148628981, 0.817815705649353, 0.447945803823095, -0.41803607407730853, 0.04837049538814449, 0.5453566469821906, -0.3153543962912405, 0.8795648549160516, 1.9679406288275594, 1.577382873284504, -1.8862163047329403, -1.0682935134689127, 0.7413355765244534, 0.30616620728189375, 0.6645950249478528, -0.5638619649737204, 1.6250084400945406, 0.19968743425237054, -0.04905569784767077, -1.2337487090991603, -2.2795602544978673, -0.7835983940125028, -0.49827666128818343, 0.1356572900470479, 1.1543160438994253, -0.8455073430796941, -0.5109244014379247, 0.6377079541995835, 0.5293320614319698, 1.6339241233242308, 1.9822530381248886, -0.7706840517798681, 1.0436724956396004, -0.9406273639172111, -0.009255518400016281, -0.6970383452864871, 0.8166408508444413, 0.88881622742138, -1.7474321922429332, 1.525850932502605, -0.2698395797714648, -1.489002161931051, -0.2394899783321037, 1.4060747691527815, -0.4240100951790189, 0.5176318689332038, 0.1464257614728791, -0.5004050122238421, -0.5534404349738039, -0.08635527227889638, -0.2398424412659461, -0.3985053010202278, 1.138576085099483, -0.8006819777921009, 1.5653961850432874, 1.3094301277550748, 1.6472758216200343, -0.9364302780717217, -0.5105520468890363, -1.2962407756666277, 1.566796999296539, 1.2244003631522296, 2.181445087759499, 0.6246404789397506, -2.0014227485933933, -0.4105313167170375, 1.6098113983269808, -0.78457581920878, 0.27366831542353887, -0.07135326410329272, -0.3784828500964987, 0.8123824575907131, -0.3060670062342461, -0.34092272954312985, 0.6431371986815961, 1.8251596993286308, 0.0543418802926505, -2.3571411306327055, 1.5780647666973113, 1.6206967362118836, 0.20756055441904975, -0.8702876761064203, -2.4297328541826637, 0.7663792543972936, 0.599606771895272, -0.3641806459581053, -0.7649538615265721, 0.9107277050799071, 1.7563668991697197, 0.15446929331227052, -0.7429429934782136, -0.3005062098019573, -0.061876078365667865, -0.38775429258242533, 0.25603159403998843, -0.08208669358469038, -1.283493856848448, 1.158597625786792, 0.5653802710317791, -0.07062145267381237, -0.7408358575640234, -0.6730443964714443, -0.3896306461451399, 0.041216527289122167, -1.4148520981045574, -0.1356824758846472, 0.6360707605076035, 0.21784697490288085, -0.5172938609819994, -0.5794161769307917, -1.5337891018817882, 0.24565905598488325, -0.08147870615038118, 0.26638661739372543, -1.6314504202078652, -0.40618752610789893, -0.41297760898028585, 0.09184579401726056, -0.9151665605986344, 2.426589025163136, -1.2505464447705366, 1.3321814653154862, 0.045328278490912234, -1.2098651536485432, -0.3395547730305797, -0.11834995175939803, 1.7820888280082139, -1.769053411689105, 0.3278753881310146, 1.5420985343766573, -0.3348417755495621, 0.24107743859978248, 0.7576408348030629, 0.6999181247257267, 0.6893408174875596, 0.5769467402871696, 0.9287246328376889, 0.16037693539299458, -0.8393493934134685, -1.2803562183977155, 0.5416297053633383, -0.5532040302345131, -0.9020576499390799, -1.4682323304079654, -2.4228732227036, 1.544401007462177, -0.5809483426423986, 1.4682567125175867, -0.041873855819982445, 0.11807054806682273, 2.622088215057981, 1.340659611784691, 1.6089218446985365, 0.5178402362238212, -1.206647718043715, 1.6180057829013559, -0.014842582342185691, 0.370521050384735, 2.174923720956008, -0.23259681213902084, 1.455498381033747, -0.6946041029457991, -1.3266409580846519, 1.5182495923138337, 0.23847109028509003, -0.17021607826488475, 0.24796937027124483, -0.8257163654245926, -0.8087796121341156, -0.740757023167438, -0.8452606180630826, -0.3778279745213027, 0.17800451728075992, 0.059506965315302744, -0.1982922874628263, -0.4611685920581093, -0.6052785798147478, -0.4586198202258025, 1.937772824627981, -2.1280173522331616, 0.0159941545743586, 1.5497745314628226, -0.3404419229412727, 0.5565018412318551, -0.4984406537166575, 1.2955062035779452, -0.17108685415167582, 0.6448274014407039, 1.1738000980107215, 1.260690754618499, 2.3759802937936625, 0.7889305543168231, -0.7502761769025853, 0.08638286727495634, 2.17350654924206, -1.5856224953125695, -0.3249652412338011, 0.05110253086138173, 0.7782027470454177, 0.34185486299075474, 0.7632829714944249, -1.07735259149623, -1.1067351285615794, 0.05619537025375124, 0.6783287317134408, -1.147989373854023, -1.4771167416404185, -1.2387541445325305, 1.0843703804748137, 0.46280208577001936, 0.2270409426913955, 0.8057917515042888, 0.9261115578214317, 0.36565046137808366, 2.0346821414190837, -0.3286661040943808, -0.6273699680166281, 0.3551429399073792, 1.1970109568711942, 0.6635474255155444, 0.5581702220793212, -0.16137719048918953, 0.45192806680974534, 0.7172250670468234, 0.8120211585462063, -0.5415996015773565, -1.3765820967909939, -1.2672136661287199, -0.46251442910440843, 1.651198613537196, 1.354187946225891, -1.2283882148912433, -0.36485043107192705, 0.17050843944869046, 0.16233049072934433, 0.7577506580830479, 0.2248176350087582, -0.8040531623893834, -0.15734007088645813, -0.6413955633677532, -0.1557886736625039, 2.766015976439774, -1.937691651442136, 0.5090412361631574, 0.9015256737427468, -1.5967799117645463, -0.48198151217131296, -2.6206620934650786, -0.1752390527636628, -0.07744317897848803, -0.47339826895388415, 2.119236732654957, 0.22607411960069249, -1.9106000391812663, -0.405974172008401, 1.211462644643272, 0.426511759547951, 0.35347193372559954, -1.1201468661236718, -0.20493200900657563, -0.05753866281482202, -0.9864117135399162, -0.039536232631438545, 2.207054772305608, -1.4012977392996173, -1.7217554182168775, 2.3329858848739415, 1.4162542074715085, -0.31326677962949523, 0.36772240983791094, -0.0646530139314882, 0.7454779413092623, -0.3414691911310361, -2.0858648568830143, 0.1086966918547042, 0.13849045690555128, -0.010495001419071866, 1.2203768419104444, 0.5651234880959118, 0.5349070488136881, -0.5658479785670423, 0.4305298353164824, 0.6238536128418641, 0.6765788673461999, 1.7014584942987128, 0.8401561988939273, -1.661025315455506, 0.006540075761088514, 0.9808127620195227, -0.5402283198361271, -0.2443922144730148, 1.5562638725550746, 0.1415177477824165, -0.5491005343789581, -0.9222741883566749, -0.4280918782726587, -0.38758220941460303, 1.978609285089228, 0.20826470169824166, -0.38255463162548214, -0.6826490326278571, 0.17961327749315406, -0.6582256068052789, 1.4877828578959258, 0.9358786812978711, 0.38335862914242497, 0.311712756072296, -1.2773169387189993, -0.5324376954208059, 0.208941026642975, 0.5192408797790974, -1.6764567740402363, -0.4792064057114358, 1.5509913276568685, 0.5310360298547596, 0.04608848818527624, -1.0195972606509067, -0.332929386967241, -0.2452922079297508, -1.5174086963488378, 2.099412604813096, 1.1760653933861198, 0.07082742062569168, 0.6036962545911778, -0.7120752954966234, 1.4623827490853163, 0.04045575670874869, -0.1329506197710046, 1.0339893864320397, -1.8465107418452062, 1.0871110287942376, 0.7453811882131824, -2.3950146928763814, -0.9581478048223888, 1.909656576556548, 0.7652380421842295, 0.433785958986409, -0.22748334179931803, 0.1688824906115928, 0.356315999603589, 0.4731447151569786, -0.12314808374136392, 0.8336171899370517, 0.7803699181953706, 2.9488225462991005, 1.1484869436143699, -2.047305139915231, 0.9417123084741784, -1.9327386861703615, -0.10904426659509825, -0.6201307628193452, 1.6000896736391754, -0.3655191383181186, 0.12274834958312886, -0.9821520030731966, 2.454240762968184, -0.3790312196489305, 0.20886560698923753, -0.24119014629580893, -0.5782230033263778, 1.979292544517329, -0.23652813403861153, 1.4794890267999052, -0.8644444453934214, -1.4172684837493608, -0.18260603115679705, 0.20305890851714148, -0.25371643437478975, -1.0823126814659396, 0.7114346176946328, 0.47687419577788775, 0.5492523102763606, -1.0516644092607546, -1.1804186516360633, -0.7552365482772609, -0.43301157815644487, -2.5327325295793504, -0.13961548456749714, -0.059691536654310595, -0.06398495960467274, 1.0751433375296817, 1.9541152432006579, -0.33887974359965883, -0.2545072961373247, 0.654757217347639, -0.5102177166062856, 0.5298749971384473, -2.1415210894365395, 2.268993319509174, 0.324328209767448, -0.5716892451552427, -0.12030190578060145, 2.116966013220652, -0.5765575386239687, 0.09937327527644205, -0.3846873570791751, -0.46184901292985675, -1.3700360639640812, -0.28265790399717156, 0.39224073415282473, -1.6990066483629171, -0.6820061820908189, -0.18231582251538386, 2.549473915006407, 1.2847258508304376, 0.10540938782750545, -0.6457482587315359, 1.3131713206263398, -1.6678304952088965, 1.3578898878053625, 1.1453583384652324, 0.7487743648148185, -2.293563476116307, 0.7190476052629161, 0.48914174120947806, -0.3755966651003456, -0.8586563195918455, 0.3311987067933018, -1.795115768141528, 0.22095758830757384, -0.6147055098250552, -0.0027311612719340423, -0.24811353668438893, -1.1621892581299866, 1.0273517982446279, -1.3863336607934373, -1.0932201500813086, 1.1787247582722316, -0.030997360636201315, 1.1660657980778928, 0.41444560212902054, -0.25725376341493406, 1.117825720836243, 1.0734705099764794, 0.5007958110365639, -0.980414444791252, -1.3607590520788746, -0.7513735496899057, -0.4466726305087601, -0.44850778168768607, -0.06314981562680115, -0.949984337797301, 1.6820691407697033, -0.5799421691113477, -0.8244030632258336, -0.24123579530601783, 0.39505051934833857, -0.6121781616075451, -0.5748756241936295, 0.12532666711231286, 0.5116176384130419, -0.7882638956818595, 0.5594133282432766, 0.7370438239140962, -0.469900929427513, -1.4641653865496342, 0.6543458144891008, -0.12738854459766127, -0.5484037504803588, 1.2305973003098711, -0.6920170352200768, 0.1354374593596831, 0.1311689617554538, -0.17899228509261736, 0.3692903537897325, 0.6241482414087994, -0.8306952538783509, -1.015963143987445, 2.434438838162473, 0.0578759300060282, 1.7003569404406405, -1.4028867349611935, 1.1949729923286094, 0.4886643391689927, 0.7678609949790044, 0.5210773442624482, 0.7272128111041574, -0.22814194128253584, -0.5090269479618047, 1.6106483082112453, 1.086962629702942, -0.5238619095374597, -0.354538694927799, -0.8077704755166039, -0.3176963209647692, -0.5475204443614081, -0.6975158643125464, -0.5045701964035298, -0.7989060162181122, 0.42756191321316556, 0.06969393259882775, -0.106046160022364, 0.7198371214531073, -0.461358140727644, -0.48612353194335917, -0.9170603508775579, -0.10559189368911347, 2.1553915055015027, 0.34088685477914304, 1.022701826708063, 0.18228177066559603, -1.706383979007903, 1.0063624181722184, 0.13069082655545455, -1.648212919706709, 0.025152068471329957, -0.16971957873526533, -0.5913432596174062, 0.44168543715067815, 1.263248787015144, 1.6701015676681923, 0.06093256743684173, 1.4224574078022927, -0.40518861569367326, -0.5454158255344745, 0.6595590093424665, 0.892482673280302, -1.8561928765831726, -0.045447764728244536, 0.13689268374140315, -1.3897099069501713, 1.486901076923967, 0.020395298285855123, -0.23944517159032816, 1.0266559010580678, 0.1536446454315203, -1.0624896254356746, -1.2805861897371238, 1.406944936085073, -1.3133377533922928, 1.385586138911411, 0.12292806594741083, 0.6011956085811007, 0.4933130674934834, -0.677776608271759, 2.4118163317219654, -1.2552958232053304, 0.45131704573783965, 0.27694667377830506, -0.6377169552614552, -0.09126311657850497, -1.6930816295422062, -1.7324451987382572, -2.081600582498949, 0.7488582028651006, -0.2767560030898708, -1.6285474026390518, 2.4162764513614596, 0.11483057310071812, 0.5960245800347452, -1.0176331913655925, 0.9526792017970742, -1.7354708089013182, -1.7073600980381745, -0.9659436537019881, -0.7848824844071036, -0.2067689589958083, -0.8503750440398395, 0.14639507298177273, -0.7084945957091916, 1.1309976117851592, 1.7864988207995953, -0.11341150643503038, -0.5562548554064288, 2.3154014668134555, -2.2507620112172035, 0.7633048297935482, 0.400219105101222, 0.8321533939717395, 0.38384723393857356, 1.394318209822499, 0.6266962025221278, -1.0425200521584872, -0.827169181944695, 2.001028380230189, -0.5664763291820247, -2.273464271553396, 1.3233975635497426, 0.604955307918998, -0.3066434935062956, 0.09369748079443077, 0.9027913070448971, 0.24718712943138507, 0.2059341520453218, 0.39633639937381954, -1.1989564888115556, -0.9296182642412004, 1.6538038034894054, 1.4911040114162528, 0.5876093474218769, 0.26076184164740795, 1.2257961563105189, -0.86257601748098, 1.0129242476069078, -1.938904537641541, -0.3271551331467637, -0.14171398597843843, -0.2663717867297125, 1.3717102504166834, 1.418255311602419, 0.8462210494835063, 1.0496927528952222, -0.5683758727478483, -0.6845399903911047, -0.09032992161938352, 0.21511643854851045, 0.22041374635495053, -0.9152715814691472, -0.6542412746704197, 0.18024457493452384, -1.0723141260015645, -2.101257189788807, 0.7493557975492628, 0.11987941564535971, 0.14860657159770754, 0.5976340186011977, 0.5476851432905274, -0.7612876683300512, -1.1599494891218503, -0.7057785001132578, -1.1109497300945466, 0.7829865880013965, 1.6641380478426175, 0.3784155284745806, 0.2569477941133117, 1.1659608666674022, -1.7125440686533326, 0.8002451483669638, -1.0492377917247953, 0.6224658638599329, 0.7447310264548054, -1.404071938345622, 0.8257676508348105, 1.2652728315374822, 0.6653061335101094, 0.7550998229678324, -0.8085340087035321, 0.35231935611334125, 1.2267176669237592, 0.588487755570501, 2.073523787100513, 0.17722686129152918, -0.3209950253742527, -0.4115873725466483, -2.007968924337172, -1.0979617657584793, 0.05312583921513588, -0.33588394993290493, 0.9908792657117612, -0.9198277965094857, 0.2895692775973365, 0.18299715087246088, -1.2224155147304965, 0.5357892471754497, 0.5023321383527007, 0.7448106104702776, -2.434318284251191, 0.9545992291094568, 1.1377135713600395, 2.2422613898691397, 0.2794645762449036, 0.5883754428631554, -1.505505037759534, -1.5588874569642635, -1.1378519744421989, -0.5906198919157917, -0.5652388412442615, -1.5502280824872081, 0.4462320320234879, 0.886574121702394, -0.5052514561384098, 0.1630557585773423, -0.6251566001590962, 0.4172012089163615, 1.5650723499024046, 3.1510028632611746, -0.8294282159523589, -0.18827191386216394, 0.30118104183883415, 0.13314075633534353, -0.6163428906313669, 0.5467717681436842, -1.3394836204949692, -0.23278904586359672, -0.9315671792047798, -0.4959537689497852, 0.3318616776145875, 0.025110522650526806, 1.9181515787478833, -0.9009581585502271, 1.1259684375769314, -0.3746195956156099, -0.18459654990995153, 0.05329236208163859, 1.4876024795429894, 1.4222892731007675, 0.8576830963737989, -0.4899591145668491, 1.1984082006896595, 0.10957164585855207, 0.39060597871041614, 1.1945763520792743, 0.06246587280168204, 1.1346280051477817, -2.2145034785254682, 1.6270887007494002, -0.9352574283492855, -1.642484511614807, 0.6678182423026755, -0.2862314782668338, 1.8493718164329098, 0.9725148806602043, -2.6148787804465576, 0.22490259816305347, -0.3606419019974731, -1.1377699218225834, -0.4728402746187226, 0.05059996647499389, -0.4466751808893405, -0.9400731126148769, 0.09185606554872235, 0.10317352973297816, 0.26794637395532006, 2.059759854596986, -0.4192653460719656, 1.62018143194669, 0.5839008924698657, -1.2931770175264021, 0.20859990387725083, 0.3355876372829321, 1.4902965884800417, -0.6442326046888307, 1.8528031182414175, 0.11130845219890498, -0.18931543388986996, 0.023084113386401567, -0.462385624843926, 0.25672109213485705, -1.1720492771426365, -0.14631072754938487, 1.6346820885306252, 2.2152349915163483, 0.7016174189358786, -0.5523109934573043, 0.8639165633392512, -0.1637935300728029, 0.47718714783042715, -0.05921865204250967, 0.011906842039099433, 0.24167118486916636, 0.5765035904593343, -0.8142642878333869, -0.6297380725462234, -0.29721501560705893, 0.9132364367885667, -0.28837727784409123, -0.25264563131371626, -0.513250873511023, 1.5048108833035696, 1.0690266631072205, 1.1555221611211206, 0.5877313327913722, -0.4498986463424155, 0.5420423228700577, -0.7916580416891217, -1.5365440042632028, 2.27143504871205, 0.6861768776833306, 0.13536679209165725, -0.8990381133994442, -0.4752027681712476, 0.6508258219335861, -1.2119439530779046, -3.277593606493769, -0.21986533644912157, -1.8286972917084257, 1.7673038608003437, 1.584213116715571, 1.141904364257984, 0.13132597974089327, 1.144235390930188, -0.2800904835548788, -1.667008357773103, -1.0540541911049754, -0.8460017313034289, 0.6885607218157286, 1.0189126849197638, 0.19913930135197253, -0.48982419332907906, 1.3795092185155278, 1.5114949596764997, -2.020220664518552, 0.47363176642052146, -1.1971162686301675, 1.2613690098335935, 1.4131832285291313, -0.17462018189336742, 0.06110899289113316, -0.7322885963131898, 1.3241577641407745, -1.3278396323087758, 0.18767633605913714, -0.21088507112710764, -1.854345405831398, -0.2987291856170689, -0.951654220542229, -1.2311383629373849, -0.1955575362492144, -0.10700253529964805, -0.24421326061356338, -0.5321932441096391, -1.0484358978536128, -1.2829064147018259, 0.5447222123187089, -1.501899343994158, -0.032837231126148406, -1.6810618066440293, 0.7840924749074611, 0.8004221329439447, -1.6629413018007098, -1.9248020916702793, -1.6804363684600505, -0.10966410551978178, 1.5918236944162978, -0.3647849556774606, 1.582742301333476, -0.44284034047621873, -1.1272736206999237, -0.12321628769760809, -1.1284287826740387, -0.2743938764517846, 0.7070131156857671, -0.7746572946333894, 0.1063859933616895, 1.0296155739519204, 0.6208515504576364, 0.21271352474326335, -1.6180338527244122, -0.10710217383886841, -1.0347924020403851, -0.7384606019883219, 1.0344501149713496, 0.9258019660287439, 1.8482258192062042, 1.0674559370292547, 1.0040560348134635, 0.6519010403489072, -0.02129067620526301, -0.26550191266957224, 0.9430596180715426, 2.5188966348966515, 2.1139931720054426, -0.12636595369359654, 0.7709155803471721, 0.3576051338157947, 0.8950830306176643, -0.8441288253015902, -2.478348231379871, -2.063554122235218, -0.404074521950634, 1.0291496523666908, -0.9925453292867071, -0.06086264371548614, -0.01541866242929257, 1.0385173199066822, -0.7293858543065933, 0.7153762639212402, -0.2106341965236499, -0.16334436188050386, 0.7600358805942373, 1.5067317978563501, -0.7550525178650778, 0.3969407521284934, -0.09173019521674916, 0.4164185501655048, -1.1460021117623787, 1.0306401352659138, 0.518217517050582, -0.40711201418749376, -1.632111312329101, 0.49012516262723427, -0.9375903695764732, -1.4015501822442589, 0.8057119077478135, 0.05926667840229396, -1.458997199845955, 0.8533294402514794, 0.8311603967918076, 2.1156020256456647, 0.6345035530756924, -0.12648621822981893, 1.445244601428755, -1.398645221926003, -0.9343795549998574, 0.6279796667014269, 1.6706992950374793, -0.7941849036603352, 1.5757246511595864, 0.06043048065268089, -0.4649735731089774, -0.15870954466872833, -0.630980332682605, 1.4786658133869297, -1.945986277099471, 0.7455723845856297, 1.6563080944294921, 0.8744117533201652, -1.0810845896301393, -0.3891232298205958, 0.07398221785709365, -0.8618931744233339, -1.7890007102224614, -0.2717914685086179, 0.22188665542961383, 0.3808678209427906, -2.007021823307594, -0.39773159614896375, -0.007405363739468588, 1.1764923269868806, -0.4226710278785549, 1.0479693935502064, -1.1488189518122707, 0.7354983816721092, -1.5867714003164797, 1.2361253129728584, -0.8233776532608007, 0.45607744348159823, -1.0884222298445563, -0.029664402671478064, -0.39896727531636467, 0.2363328270582741, -1.0832914737900423, -0.8390065230210926, 0.9985630636432932, -1.1380028657265309, -0.14412026023363989, 0.3719601354667674, 0.5811279477770991, 0.12055045720229236, -1.8853868346688292, -1.5054377092385922, 0.36364832831642113, -0.3722118917797776, 3.1196843068793365, -1.340236849342384, -1.4682527491418031, -0.025228597617604306, -0.24668770569877177, 1.236869068315801, 1.2051017555392292, -1.108214527887618, 0.021748823655348002, -1.8868305887718027, -2.180888689611189, 0.7935347364714239, 0.15645474784987642, 0.7768725697204695, -0.4770698378124346, -1.679829507812134, -0.9709167436803634, 0.9325738434419405, -1.0061417511560957, -0.9525027501961741, 0.002087959100522711, -0.03425905186953184, 1.120905212076583, -0.18406049431593843, 1.5026259293728819, 0.4273421481050312, -2.3005233642706897, -1.448231474393238, -0.03176466693793606, -0.04768952863925005, 1.7661808875740275, 0.6217951418267862, -1.3922610295934157, 0.9376872810428907, 0.7919387138912208, -0.8635416146445745, -0.38361230842308325, 0.1856531461518462, 0.633980192258964, -0.038958532287748995, 0.4303199989157453, 0.5736402073024529, 1.0765705221647344, 2.2206410072921785, 0.9257002528502712, 0.7120064551378807, 1.2847623231139262, 1.0122131674708634, -0.4162325666989059, -1.4134124376004946, -0.7541315288880642, 0.4043959905961762, -0.1393439028521066, -0.33605655780812954, 0.19335446725388913, 0.14657430425149928, -1.2505218434949636, -0.08680530975731138, -0.4331786353577795, -0.6296178607007843, 1.38945443844071, 0.37944328529301535, 1.384629460490388, -0.16325021887931393, 1.5467742642954245, 0.26811665007831437, -0.9371132774573121, -0.5006116493544893, 0.870638684500648, -1.262849567538392, -0.7273147975719962, -2.1342804297847757, 0.270361541498783, 0.47098047570557244, -0.9740456832173134, 0.43743581115401853, 0.3527110555010418, -0.5755449356891182, -0.26181735662474265, -0.1222012153024344, -0.9095620547420523, 0.9274511034397035, 1.701882450477253, -0.09789529396899342, -1.7993596622067147, 0.5456885403853642, 0.3696781209511227, -1.1134515249317785, -0.2527094659686195, 0.37494189184256244, -0.28887483639188294, 0.3281078802832246, -0.12878506532688816, 0.36165646267957763, -2.3864691657271626, -0.738214286398885, 0.19952657559365125, 1.645198071339722, -0.6029962728482902, -0.7436985494066114, 0.7538263290058965, 1.0856602225443412, -1.6188100778289363, -0.16639939832975587, 1.0121554015161318, 0.3382675026183742, 2.2062495458582427, -0.10555215912006778, 0.6330981506576225, -2.376989028347079, 0.5235477709897847, 0.8405647495958544, -0.4782073411668501, -2.0948832174140217, 1.3706699813166419, 0.16600085684306054, -0.5452320087722281, 0.13874395246990268, -0.6304862281028631, -0.5065173127218036, -0.6553301758880077, -1.3779916368525642, 0.43038825349920573, 0.059321913469145116, -0.3663993390614059, -0.10902002077246309, 0.6159489393046141, -0.430371235457472, 0.6897856919833351, 0.2814405646524387, 1.5884232334712203, 1.0606565754943553, -1.6102279791230107, -0.4937777683411992, -0.1343080533007495, -2.0501866693903854, -0.86665275029374, -1.122067247641605, 1.8914733336890004, 1.1088927498434797, -0.3195187317225985, -0.12922963168964738, -0.07750335664208723, -0.7009390104088791, -0.40182888755934737, 0.688146045243552, 1.0227452153810899, 2.0460085978928366, 0.24177962499253078, -0.5649062621583163, 0.49350065224203493, -0.792989811516397, 1.0994010534608718, -0.23069251334965907, -0.7656954716716755, -0.30771050620739254, -0.5867080060607801, 1.3722099613740855, -0.6203928086926936, -0.11566209377929139, -1.226136652355026, -0.36191010517577027, -0.48540734352687837, -1.3410217727238336, -1.104987765462336, 2.248655350526535, -0.22745903832786443, -1.006487969195135, -1.8712748943248914, 1.5541491116187827, 0.06765435429511327, -0.26891394345582753, -1.0723179737057675, 0.01865317725041888, -0.04408661569635759, 0.9258929749494728, 1.6779845062184688, 0.35576194429027486, -0.3534729267312551, 0.17301017214965275, -0.011894926106304568, 0.8688384743955555, -0.6218688417892454, 0.13978341939150368, -1.1190244260944933, 2.828529509399494, 0.003233974490557302, -0.15981160754086737, 1.3818913373064399, -1.2477089833962045, 0.5754515495024021, -0.7424578694371169, 0.7716731302442491, -0.866566243175887, 2.3055530249990674, -0.8790894161355919, 1.2194652354254631, 0.9953121495861676, 2.285315275450742, -0.33574473311243186, -0.8368517193426788, -1.646548717685729, 0.17236421484503778, -1.3701994842740899, 0.039719515853223974, -0.44799052887105395, -0.9916999269005263, 0.6885781677745532, -0.5160502952992012, 0.2971037247915174, -1.3843505811003975, -1.1762104500462287, 0.5433475929052622, -1.2022210628488101, -0.8530490985675677, 0.8794676248145666, 0.12508203906401447, -1.424462870997711, -1.4098292787084845, -0.13210020702984873, -0.052093364989835376, 0.3609469306614376, 1.2628784743727155, 1.4953486321211102, 0.3491758017391201, 1.2648109739406639, 0.3177057954450554, 0.04790750521017633, 0.3231252409660308, -0.7416820656851165, -0.8660081296946386, -1.920806473732489, 0.05460437017296727, -2.469771172442429, -0.8963915560434148, -0.13129759311642333, -0.1494830823683591, -3.022242142421954, 0.6374053852676397, -1.5012984302836576, -1.8408826888814227, -0.02214602514717977, 1.639713022084108, 0.7877088888603346, -0.5445864351906965, 0.472823134727365, 0.032215026194996575, -0.669057031779028, 0.5245612981096384, 0.4928365480648021, -0.9348524718762953, 0.9565693099815371, 1.0733424275217187, 1.2200839079996895, 0.9260587491143141, 0.598390212807874, -0.23051021432500043, 0.9573867272376874, -0.9257258991368886, 1.0187541965996672, -0.7017004467878701, -1.0551475024236299, -0.7908871109110038, -1.1745934931435715, 0.028848546690557756, 0.6032085160182227, 0.6225351668237954, -2.1605655172260048, -0.923415975043481, -0.24956613553238327, -0.7588639457479909, 0.8239869022479904, 1.1333405489068684, 1.304077028885044, 0.33933079714786796, 1.3402475485764525, 2.382212392517578, 1.2052309596371589, 0.37781726071450056, -1.4150773117927846, -0.9503616792498021, -1.5864122377096315, 1.254429955578891, -0.7233570035645431, -0.06572193951187533, 0.32127074475222916, -0.12077509281867332, 1.862184562066723, 0.5363562886354113, -1.3049687562729884, -1.0293887598370899, -0.8588335007283389, -0.675497306757573, 0.034882450261817105, 0.831790086432577, -0.28577690956526386, -1.184813307087136, -0.9973847522171629, 0.41753542128993043, 0.8007540718064243, 0.3024294374556022, -0.043230589468908905, 0.010859697593625272, -0.6061195917496286, 0.5347520688802404, 0.13211704795604526, -0.2486450997405612, -0.9142910265856874, -0.2587919774963818, 0.7503270059677262, 0.2557178769631545, 1.3292692847446541, -1.2461561573065942, -0.6825414394348924, 0.7387881827423458, -1.0162815070215232, -1.3275057162542052, 0.2510657006860936, 0.23739107793188308, 0.23699047096320994, 0.8911009223646619, -1.1176334548316953, 1.8739828883269007, -2.227310227982806, 0.42632489988469446, 0.6985038566100313, 1.2591473765958705, 1.573050293791076, -0.5226768826885417, -1.2512443804926832, -1.1857665413141019, 1.5774811718453123, -0.025688427078003773, 1.06053729119183, 0.14729472709440733, 1.7010573210905011, 0.8312359015386738, 0.06610362237608923, -0.7091494674496215, -0.8916890132695743, -0.5264520680001823, 0.4230661630574716, 1.1498758833349756, -0.015156238603356693, 0.1954414975709109, 0.3518636561749599, -0.1489488077548939, 0.7085570326134496, 0.6125203537292363, -0.955426508228712, 1.4967663525721724, 0.7909357792620733, -0.9157481327537702, -0.04996243607516412, 0.3122322181704861, -1.0190483546146853, 2.081085901663392, 1.1136655089492602, -0.9237961955877942, 1.9978931602079082, 1.480697026601623, -0.4047961070071504, -1.0640531021610957, 1.7623001049026255, 0.6391425642782858, -0.836532346580025, 0.018904189007827497, 0.15643491155633515, -0.1364680663465559, 0.17945101788937778, 1.7067060446705327, 1.5429214364859674, -0.08506561863058772, 0.3870678044188783, -0.4791979817033495, 0.025208984986746442, -1.094491471844544, -0.16268773132229042, 1.094159409104717, -0.5647728604707981, 0.49687792576105905, -2.35396393673467, 0.5349555030852979, -1.1116271749813482, -1.7217453112701044, 0.4471776607653655, 0.032719888955707564, 0.5771059621092092, -0.1806643863870049, -0.872071813418582, 0.012592514149980343, 0.5979921744348559, -0.2821149664023845, -0.8132057682015142, -1.5308656915895735, -1.2119147412937084, -0.16738317298323382, -0.48413551107850067, 0.11848219796247476, 1.4419176211313696, -0.23540497273086944, -0.5443095457458202, 1.383525007880935, 0.1141697189812168, -1.1772520765161267, 0.42960197686229146, 0.23948924189454743, -0.7682971405028447, 1.3359679853182755, -0.7585068941600035, 2.839127561623703, -2.55035452093251, -0.3534700866181204, 0.8882009788719344, 0.19371647560006902, 1.5523999465036382, 0.4010505985764732, 1.7103004028609479, 0.47254836384583093, -0.9394343057564589, -0.6762833715831297, 1.5349185210316212, -1.5298750488807178, -2.2168508226930097, 0.8299825903220212, 0.709166969549302, -1.903483098054355, 1.5578787494976996, 0.01637249899932724, -1.7661174593512445, -2.7247714725913097, -1.4079921742645636, 0.5969565994421522, 0.7849289888660553, -0.6513644859290921, 0.5844599394508674, -0.8167633160259927, 0.5453552008125597, 0.3329253354954018, -1.6340976162330287, 0.05825045643008534, -1.3791900778718034, 0.7983473812492639, 1.2544771627801936, 1.5317609786905615, -0.3550038527361417, 0.299953165965337, -0.5831746566357914, -0.3025040764963123, 1.8568716767215656, 1.0322549868071618, 0.3666578383115322, -0.7557864224142029, 0.592984324436755, 0.6146241775662228, 0.6760347326939029, 0.5560436827821836, -0.17477920681199516, 0.27186879177927453, -1.5833789482534313, 1.3801244659403689, 0.2816706387339554, -1.6637044734203563, 0.6328082090726774, -0.8514721184525105, -0.18138226005741218, 0.1493301789273183, -1.3898809762307998, -0.37732912721716855, -1.0443788323132122, -0.04238867328377008, -0.22625090662606645, 0.5623408929517628, 0.3746418364483989, 0.47095729912869155, -1.6174954631006644, 0.8745873964126192, 0.1548640380619446, 0.055748101244250725, 0.028717840974936897, 1.1603041633235514, 0.1687444747679147, -0.17742861601691512, -1.311511642477085, -0.5775926686359835, 1.3500784839487872, -0.6347562449609875, 0.2595296106190193, 0.6339953024045224, 1.0392671876282304, 0.19197808978727815, 1.6186663934110004, 0.17243863623762148, 1.2506418949251445, -0.8809191314001203, -2.310939986328073, 0.6454031950394943, -0.2426301849890038, -1.42263912542941, -0.09998723831932572, -1.1458269261653584, 0.20583161454800894, -1.1386665239940388, 1.061759557141142, 0.8503153405025289, 0.3289727136818639, 0.5633677712703518, -0.7309497971852628, 0.6632055192520351, 0.8915133085679131, -1.914584506832852, 0.1724507922399114, 2.01701219669242, -0.21926664118880157, -0.42387713365773944, 1.3163935471596122, -0.5763613884459345, -0.07430707162032954, 0.9869879020131431, 0.9853752071425529, -0.05423242028265195, 0.3921914365636878, 1.1626555330271198, 0.36628573655798763, 0.4907530516005892, -0.5779877918553963, 0.41662358156037654, 0.32900652402368824, 1.2842346926421808, 0.15619293240003188, 1.353905474800721, 0.737521294133385, -0.4738036426412704, 1.072373482531858, -0.0918514618918679, 0.7991019145799007, 0.6161025877680797, 0.025723630806713627, -1.2884839787026687, -1.30210636050311, -2.3533276362341344, 0.10140388403062009, -0.7859781708503102, -0.5336919938723288, -1.281105654680211, -0.2037698156022273, 0.4824457402558615, 1.4743969857920842, 0.2430054829861708, -2.6000706877883855, -1.0359499567264565, 0.7315787884993749, 0.9657695652972521, -0.19520884337675867, 0.43385220691245746, 0.044528535178169217, 0.24584002571625468, -1.2238768674776077, 0.7960713740003809, -0.004916494466531433, -0.12289798438105355, -0.22627538500677705, 0.19709514810247086, 0.04867984924813468, -0.19660636831186218, 0.513327184287454, 2.8684644250112243, 0.9237277501757878, 1.4684688794750245, -1.64324103970809, -0.6157734143029445, 0.22368433017931777, 0.3211833791488098, -0.10658398731320358, -0.6776911266809145, 0.9936795231248249, 0.17957635099900593, 0.5672163151008857, -0.5557299687555816, -0.9851345344338884, -0.8694016590919573, 0.83235014451924, -0.24376773001920374, 0.30922422051932896, -0.25953623911906626, 1.9946324272366254, -0.10374336568577179, -0.4384687261158099, -1.9145707676261838, -0.7868121835663268, -0.8316617155480148, -0.24615707898282965, 1.8421267867160365, -2.101893605158399, -0.16480438323486402, -0.8453428892694714, 0.22182890976909742, 1.4502732113820012, 0.5677465173091825, -0.07206892544978531, 1.4931543371791405, 1.3723149949933184, 2.3060326816658603, 0.06981833487984225, -0.3425952252686697, 0.2619009671331005, 0.021098361676525772, 1.1932386947406421, -2.8354263798047006, 0.5158254851622486, -1.2633227355953762, -0.7237673099320381, 1.0606524389609304, 1.4169173009140439, 0.31071966794268235, -1.3171662000236286, -1.052525601047927, -0.7629727216608729, 0.6429757271863241, 0.16469432000997233, 1.3254701583376143, -0.03313494668217635, -0.5522904714954998, -0.4413662353623968, -0.603870863681356, 0.898908547869224, 0.5289845605264328, 0.06928612578575112, 0.84183609972941, -0.026620889440017406, 1.7616530850532037, 1.966904666784746, -2.0692762944478584, 1.359098618015375, -0.03798467758832549, 0.8924510979365239, 0.4647769774946692, 0.8754493219865209, 1.2387472859913837, 0.1841563489493188, 0.8706099731186736, -0.997278484862876, -0.7077876374908331, -0.0767213127722965, 1.200089540911576, -0.15325063460599142, 0.28105376593540393]}, {\"marker\": {\"color\": \"white\", \"opacity\": 0.3, \"size\": 3}, \"mode\": \"markers\", \"type\": \"scatter\", \"x\": [-0.3026512282748974, -1.9255888475110081, -0.4000656601374523, -0.8826000135507523, 0.5672950557140019, 0.07867115266388697, -0.40315449973743206, 1.1473947325288198, 0.3904272471802595, -0.8837006296734149, 0.12035174062226472, 0.11910036595721994, 0.9659108659394859, -2.8858946751821244, 1.1882004439313227, 1.5397977180557818, -0.10373141756775657, 0.6609176571022483, -0.7103344851450926, -0.19516422860108967, -0.019770462370001882, -1.1789330501854949, 0.3144420501766355, -0.6659921461213975, -0.6512694225726303, 1.1691848112739662, 1.4260407830249693, -0.6636333888503306, -0.02130893546518852, 0.932785688409505, -0.6517579755147955, 1.2340703474713586, -0.5456030655563489, -2.543075405621505, -0.24198981231452085, -0.28209968903223054, -0.15595884845079944, -0.2857091876430247, -0.31399664752580436, 0.9910174401841814, 0.23195774734097838, -0.24125411487832638, 0.7161507544927113, -0.6134389024623074, -0.636795031374235, -0.50099738601955, 0.3878013231650542, -0.16426262413179338, 0.6741216009699481, 1.222978432721632, -0.7133445078147478, 0.20227197477369033, 1.6650279473796135, -1.2502774728585384, 0.31282498701957956, -0.4486637944477406, -0.8299578690546414, 1.5758807176490697, -1.884444416519551, -1.2893179253794007, 0.25689868703251784, 1.2271879014916816, 0.16748609878674725, -0.29304031517311285, 0.35457095799712607, 0.5796283328378015, -0.5270965603577374, 0.47160932132566435, -0.6863299051107818, 0.767112021343719, 1.7992320923891116, -1.245209018495106, -1.1419239038197018, -0.41954168283676746, -0.3099528488639215, -0.32405331897166756, 1.4269206405215025, -0.07215619241750643, -0.35412741613323195, 0.8844863773504411, -0.12415672156866334, -0.2071463842510566, -0.018958591203279876, 0.34847505766624876, -0.6686272205343152, 2.566224887209872, -1.1243324156514098, 1.5009873476335165, 0.7326429143122678, -0.9522650552723625, -1.3376245054414653, 0.814137334700884, -1.679656477016447, -0.8940159025976822, 0.47439951944379044, 0.17548195253925122, 0.2686288832764512, -1.7804884556770357, -1.6626018213377332, -0.21789242693179717, -0.15808122900923602, 1.3094679872718866, -0.3034495554040629, -1.5556693173786762, -2.576626378432177, 0.267532420782104, 0.8522528302378269, -0.32166154379739664, 1.6844772857133992, 0.9620163035496736, -2.9786439435192964, 0.8725458581980461, -0.6721938656896994, 0.06363156358168337, -0.6268776015885786, 0.30402047182767783, 1.0391308479395558, -0.3557177280177746, 1.9699719551200359, -0.1094140506481571, 0.018890093841681145, 1.437719762342267, -1.2260616005511669, 0.04602132950406242, 1.0292051842887742, -0.5408700426535086, 1.623023793645179, -0.9758062426011292, 0.9488454833016353, -0.4147496499628546, 1.0083659774401512, 1.5578822286917569, -0.8013548064463778, 0.1983628568732299, -0.08216653567349579, 0.5095324669334158, -0.8471594761546394, -0.8108532737736587, 0.7588993064260633, -1.3160284791286008, -0.27116248982843044, 1.0353020822037937, 0.5269338833938735, 0.24027170223169822, 0.24977826806447886, 0.5955326484985682, 0.7853672676451232, -0.47708353287986077, -0.4373852936379614, 0.705259258112075, 1.1425937356247362, -0.46567197195396853, -0.41893229222271855, -1.6373058881380913, 2.129280411918375, -1.7854711125440696, -0.4074151753920754, 0.8293055203222267, 1.758043177182886, -1.0078401532559234, -0.01100553919051166, 0.8009294049866691, -0.6475439639562829, 0.22517776448477772, -0.4126219114594857, 0.5084176038194549, -1.9900153407597296, 2.160948278881106, 1.1320548974212699, -0.7692958172559098, 0.9694259098021302, -0.6055726198433489, 1.417640775918183, -0.332896561773569, 2.7034961221371243, -0.06926867011832993, -0.3659813003520731, 0.0987258869933376, -0.6203540037419967, -1.6696500521905684, -2.146050174299769, 0.48919362253467163, 0.6192192207107956, -0.4003623083174667, 1.164328378153965, 0.7124859547243066, -0.24800798188525763, 0.20790926391416634, -0.8360439243049862, 0.090772878142413, 0.6482562986211023, 0.8143930979185047, 0.8306479185434091, -0.4784145574017266, 1.3595852113423725, 0.051017438869192105, -1.1716904294681194, 0.5091116053969392, 0.4275758767959357, -0.3112386499184804, -2.2503713155070746, -1.5357534712183143, -2.611915177663039, -1.4288834352483626, 0.7083642911246634, -1.54449318777037, 0.20572302647234608, 0.16531563695993368, 1.7012917605222175, 0.12391831440972917, -0.005460521676671968, 0.5491031143927396, -1.2642523129522816, -2.5382964681543023, 1.329551079228586, -0.15779708492307132, 1.5726529994091287, 1.662234931953966, 0.4299483074965581, 1.1822133911630868, -1.2795754514026607, 0.9047322591607938, 0.4869537998444931, -1.1122354835645785, 0.7446834400412021, 1.4693976534687088, -0.4016301844789006, 0.10815915846734134, -0.2621507279924931, -0.04592342109684192, 0.7913328175364747, -1.1574044177647618, 0.1380505992934733, 0.4946765753107677, -0.5970480594003781, -1.186269981056484, -0.613407272289385, -1.1142280657581345, 0.29304135100516093, -0.46431729970706487, 0.5785704639864815, 0.06065258797804739, 1.6554413420789427, 1.3791226206458964, -1.1694615647557156, 0.5947854532408953, 1.4665486748613175, 1.3911071346131674, 0.4209298729171747, -0.8092798623772899, -1.088476833138381, 0.46389805030257364, -0.6927918166317705, -1.8085903643537429, -0.6243339178778258, -0.43391353921179765, 0.8741522116993612, -0.28454613752011826, 0.15080745652804278, -1.3786465698998158, -0.7793712379277228, -0.7751095864988672, -1.5231319258903668, -1.3011029627818236, -0.9553993701264818, -1.691628863816294, -1.2598328154836176, 1.4706892178979396, 0.5876514475850256, -0.8688884648361483, -0.3450093808855046, -2.902084824314574, -2.1281183047924324, 0.20154807160707294, 0.42473255977102153, -1.65295870869923, -0.14292989790865002, -0.09567647584450349, -2.1241095607447233, 0.2880571946829292, -0.8910469298924643, 0.8966651455977545, -0.2512502640912918, -0.5271859347062284, 1.413800828824497, 0.5686633872257956, -1.0045418970477755, -0.6144765072027102, 1.030467450560568, -0.4829473068623178, 1.1155280745384888, -0.20341268629829506, -0.03410001350966791, -1.5171847616690255, -0.09694333629509125, 0.970279385842037, 0.743156665860603, 0.7555463475234911, 0.5029014254978726, 0.5739930252160402, -0.12701639141496435, -0.2089703192835795, -0.4622007236386808, 0.24059268338650108, 0.8234911306207979, -0.7235273765230099, -0.225894095776557, 0.6539565523703311, -0.6646025367955182, -0.27690434255205254, -0.09319732613539504, -0.3535569492180912, 0.43681489769964654, -0.012941482879910529, -0.8040715080225913, 1.3363239511854321, -1.0734521960596086, -0.6256237827090987, 0.21031299615766336, -0.6021181941411129, -0.9297904393084137, 1.603725523935829, 0.7073339805837574, 0.5487417474467244, -0.47804159209365965, -1.4243089644604126, 0.829339732527603, 0.17205875971502352, -0.5869612068579324, 1.3877458381610333, 0.19715106953227363, 0.6036645164423456, 2.0620761827935152, -1.4890479832691297, -2.6627068344525595, 0.12536799675448831, 1.1839619832601997, -0.09431712664035156, -0.27532199228236265, 0.1890645215839811, 0.13545090451176897, -0.9017070678321172, -1.392180397653851, -0.7727551182733042, 0.8220969246316988, 0.35348202302688575, -0.7535614727378547, -0.1969936024243372, -1.5512097689603552, 2.2863586611840887, 1.0660786461731315, 0.4572878707701098, -0.7052731188683152, 1.3466918463721766, 0.3776899310955288, -0.41829137119166865, -0.2474884445816036, -0.35560271750084965, 0.24590409611389688, -0.8685454496935718, 1.447836106742927, 0.6282562315715752, 1.3883334072160542, -0.40747915892179787, -0.7224271194739893, 0.29355786918112875, 1.4950723440863731, -0.38948472528324396, 0.12196108489766036, -0.8677796386775747, 0.7489040249031514, 0.6467708996283473, 0.4958319090315725, 0.7517445889376885, -0.5978545594577436, -1.173929955563078, 1.0636884323353546, -0.7460543244129323, 0.4234937491371631, -0.49904699402717784, 2.1370555229710373, -0.11007893666603093, -2.0011743660574064, 1.3253563745888988, -0.7080946429299233, 0.8014264873982012, 1.2289758404378048, 1.6772928689077242, -1.733440455491101, -2.111118559270066, 0.40419100431060623, -0.08856808162997527, -0.7645582609175215, -0.7197498396654224, 1.4924653868778746, 1.9808319836446169, 0.2674480079358483, 0.9575142800458546, 0.006822112696658726, 0.24405505688092213, 1.4269969316961264, 0.4681735752787745, 0.21704762745827674, -1.1192981995081022, -0.39352147933587633, -0.49976999121586557, 1.3178310761430638, 0.9712897592288507, 0.2811987888269563, 0.2622121847096689, -0.037980393350146774, -0.42934020535086226, -0.6552698293881898, -0.474871724744828, 1.241073202371763, -0.5356291138682759, 0.36401114695983366, -1.9961367429734655, -0.43209031505460765, 1.0401102309998673, -0.9542139431768827, 0.12145438831962455, -0.6541749785472865, 1.4980190071661172, -0.544530592479906, -0.8769567172912054, 0.14330689984674194, -0.3901719588563069, -0.5704337133055704, -0.579742709620222, 0.6415854681544991, 2.0117431867664655, 0.4256821951413613, -1.5749700797489905, -0.7580069848700909, 0.20742453571651867, -0.013383395787520274, 1.3529417620341018, 0.16707994436642346, -1.095710323636666, 0.6903171836349024, 0.7684005123115093, 0.3433193365503346, 1.5878991117281012, 1.613422547423327, 1.6591687423261765, 0.509845990705274, 0.2514799963668851, 0.6387576256426045, 0.5437409860815978, 0.9026950250546222, -0.33383051255479196, 1.897920170498523, 0.887586704095441, 0.17947635565383416, -0.9037225065982045, -0.7852525106171359, -1.116796419898935, 1.0599860066416946, 1.6431147258125856, -0.4131986591746625, 0.9090298286977331, -1.240933615332621, -0.8592894512390175, 0.841922067303371, 1.6010443662332916, 0.41450777983916903, 0.6988830667219583, 0.7895042118514031, -0.21674503775311446, 0.8595254783728808, -0.10655357175656138, -0.34352510385246565, 0.051928484876844025, -1.1901927729633812, -0.9809030026726325, 0.028932226543010902, -1.7485307001980641, -0.9726402766500536, 0.5012913733104299, 0.5037555583633169, -0.4645175637641512, -1.2932614373732116, 0.5035712683963975, -0.27643556032516625, 0.6312681770097922, -0.4297551786396991, 0.26714793433111333, 0.12950395166307296, -1.239350469733002, 3.9475527323466886, -0.3670448964503223, 0.7149450426112686, 0.23774104748765165, -0.3280216452949078, 2.153040087138137, -1.0214154034004985, -0.2478620195044189, -0.40971257652799375, -1.8291996880994568, 1.1984705652574998, -0.026652840061465222, 0.5713256100804738, 0.9091171816811258, -0.9898036407195874, -1.4547896931641917, -0.8035328305371188, 0.8009782172760926, 0.42736231377941336, 0.11691420159440957, 0.34078534453356263, 0.5728464983581466, 0.1581615649163718, 0.6812708758619577, 0.36371873384907133, -1.771483646261396, 0.5852788433416864, -0.7380954664610555, 2.422549678173944, -1.0767595716178109, 0.082477586450806, 0.5320176511549083, -0.24858351708407914, 1.4444343909874169, 0.16721078566850855, -1.174801344479598, -0.12154259511543301, -0.8448115908950234, 0.8825363461188885, -1.076446133570259, -1.1343413484875762, -2.395007302969963, 0.3279978108570385, 0.263236855177176, 0.7599084013827716, -0.9595601798487582, -0.9853033869856513, -1.3682235056775471, -0.7064838771832956, -0.7582845944884341, 1.106231330027656, -0.869655108370909, 0.3606334019649484, 0.2039734068554198, 0.6623509924193779, 0.33676370085529433, -0.39188687494051505, 0.23433982985907334, -1.478899965495571, 0.26870827171161515, -0.8931006803173629, 0.47817201685783106, -0.1542821452867008, -1.555766151955228, -0.198908586699628, 0.7978088983718068, -0.16760635777192087, -1.197366529485017, 0.7600024556046217, -0.1472684896391921, 0.49289063115692244, -0.6237422020297244, -2.622898661873621, 0.6704028607157345, 1.362298634627084, 1.1627671791380532, 0.4856128048359137, 1.5764260280787363, -0.719221800386994, 0.6870697699436672, 0.4580710076018855, 1.3795278591458917, 0.1405147393709282, -0.8950637739504347, 1.0749864012903918, 0.043225204293277905, -0.9031646943786126, 1.274494612088821, -0.2661929338823139, -0.2828298903136799, 0.9539663859609007, 0.4461015032309906, -0.4739074165107501, 1.826801105664919, 0.6869375420891585, 0.20230534352042273, -0.3757108245595893, -1.916465934085147, 2.528718031593793, 2.109429558767698, -0.8251220492998861, 0.3439400605138025, -0.7961681533650001, -0.09650985758374253, -0.40276651586482065, -0.30498121059795213, 0.026198891628434088, -0.405044566259695, -0.9602265178813646, 1.7000842202410076, 1.0304250366421588, -1.3910618389535059, -0.20397432985579955, 0.34044678852282095, -0.13405144243659514, 0.2281346283369493, 0.6816550669618047, -1.333870467015926, 0.3754223990012125, 0.6120061710531816, -1.264073277704455, -0.1601466507447667, -0.8705020183576886, 0.7398592373553147, -0.6947758689015168, -0.30743477132763436, 0.5842545247351594, -0.17083324356280447, 1.400946886745532, -0.4253442539064152, -0.8058729123438951, 0.9831412149332572, 1.3661120755746936, 1.4137479287335444, -1.091993010702902, -0.6259147073390371, 0.657893058607046, -1.3185871877791693, -0.40387696620643393, -0.32556711780398134, -0.1520340868568087, 0.39633773163945696, -0.6849942077702097, 0.22871562133809567, 0.7956978394655417, 1.166183149043649, 0.010399791603531834, 0.03575789941607249, -1.3231415392455557, 1.5597327626412945, 0.6372630595883993, 0.6501824808110857, 0.9405751806889384, 0.26223644358399717, 1.769752221470719, 0.5512514117867685, -0.13074861873611301, -2.13050198422639, 0.7005389950061701, -1.0129135542956733, 0.2283949352841839, -2.393545328100041, -1.5796740929317548, 0.008013548271687222, 0.18355749156043843, 1.2586787197111478, -1.410568385704798, -0.46348576436331435, -0.4218988132521175, 0.70987478648393, 1.2832767044055393, 0.8433200838955149, 0.7555432063157015, 0.014365402408639741, -1.3095779856764138, -0.2602586593291594, -0.7840355521660312, 0.5838461665761582, -0.45149455604432326, 2.101861877166793, -1.1764444136773193, 1.2114193935209094, -0.8665953661819138, -1.1955272416592095, -0.902815223314274, 0.40720057550093997, 0.10062981524624372, -1.397115431437833, -0.13401706351456982, -1.5091616731630013, 0.8856531766737543, 1.364429280610135, 1.2446198047159749, 0.37245873210820035, -1.0211683027062515, 0.20471775111760482, 1.5475729853973224, 1.993855951990591, -0.022607726685997774, -1.0840962167227817, -1.9919158013261957, 0.3272666019044769, -2.37380458078985, -0.5700533787164332, 0.5666051983628554, 0.0034828910802512858, -1.1152070984717817, -0.22401075838405898, 2.2499932455763854, 1.3980057978463059, -0.09717469785016646, 0.5103137935467265, -0.381793930364839, -0.8514071996006312, 2.4066638243576235, -0.9776839649496131, -0.6576874350748899, -0.1924332950553879, 0.7682088247179036, -0.9181123316887688, -0.3400988438658162, -0.5325026672161621, -0.6522761124767879, 0.174999107578858, 0.003433928727070428, 1.9143429724593914, -1.427313015366271, 0.35743578485364386, 0.7370550522184478, -0.23161602547978088, 1.4275057430907119, -0.3006884057757164, 0.9343127615591472, 0.8897641921147806, 0.33226797324622287, -1.9502599718635725, 0.3284834450913839, -1.9681251934939306, 0.2885418195027301, -0.7674713533258295, 1.1803471763909632, 1.8209343271452054, -1.6746830782285465, -0.42891769851238937, -2.0515113930185898, 1.187912865464824, -0.26494188669437546, 0.9893045593737033, 2.1392768559383004, -1.5574275542681029, -0.7737264244041864, 1.562338986677485, 0.8170025791967721, -1.9405259913292026, 0.42510482691999224, -0.06664722826719356, 0.9124085932280895, -0.3383843658742168, 0.21925562436732898, -0.003886016738835519, -1.461039859731038, 1.1479426913640207, 1.1351206833398917, 0.26339373484730316, -0.46092956516281774, 0.7766281027518479, 0.3348801820222125, 0.5612998294486116, -0.7861718183176583, 0.003113060803175531, 1.5417987814430134, 1.2580730743344968, -0.31634371647509957, 0.7563246460135591, 0.5005403065703874, 0.5198828018340584, 0.525967494365142, 1.6159508554716697, -0.03710497982717341, 0.13296220351974863, 1.161038059568801, 0.061041991115279144, 0.63894511923194, -1.1729699002837348, 0.4737497575997244, 2.2743596726858613, 0.6154808687199576, 0.921812803674344, 0.338254933485283, -0.0685967879095767, -0.5645022548274448, 1.69237280733272, 2.0738662643012833, -0.24172198709387344, -1.1817785955073006, -0.20888762079994694, -1.5457070494733838, 0.3844365782015742, -1.6505219387504746, 0.6570136187335777, -0.8815590422315939, -1.44218027661439, -0.7023845344409139, 0.8607329673675166, 0.11910426946965484, 0.8628863929654307, -0.3571400782005347, -1.5767442344843738, 0.244095892806049, -0.015041806604696445, 0.296621440611769, 0.35818652885378754, 0.12306699846017817, 0.7135682380911545, 0.8497387648379512, 0.28440751315372914, 0.20059376677513335, 1.7645739740207493, 0.8783921085474302, -0.9152549112179914, 0.6283722052796119, -1.4386850425724182, -0.4189616717568458, -0.32393377297169473, -0.9015868226106466, -0.10788407343797403, -0.6744973935319645, -0.4662104496628857, -0.8526845225978265, -0.2242200656344624, -0.6476294232259056, 0.35260534827691087, 0.1339555756667367, -0.28034448531789485, -1.0006339877923542, -0.5960181041493534, 1.1047562329660405, -0.29411315289678236, -0.35227052178767676, 1.7062775977956477, -0.06674230221863495, -0.01389693224541876, 1.959599863005448, -2.0784169545500264, 1.1086243817954526, 1.2778067328903782, -0.9207959653971218, -2.050961371921255, -0.11172660791610244, 0.7532702863630317, -0.12978223779051418, 1.3455376290255427, 0.5288739465250161, -1.1974441465004841, 1.249237634341234, -0.5404723230602886, 0.5047339462757109, -0.9571446743535841, -0.6515938754641977, 0.2957495800479807, 0.35009863001623465, 0.7090895045180379, -0.4196571316198821, 0.43754861440809073, -1.3682591974818916, -0.05486983068687041, 0.0651193237615507, 3.0170843776648386, -0.4584092459112648, -2.017610629464936, 1.2555867711054152, -1.6951753441054653, -0.6862199331808538, -1.504178291914221, 0.16036530775423516, -0.28947005034586776, -0.8661425000289702, -0.5717588061151836, 0.4923032129261227, -0.8849973743101442, -0.20749900183731693, -2.7278590702508256, -0.11123971709720014, 0.3232178780300956, 0.8557641308992548, 0.07732267170522474, 0.41757376212231717, -0.030844531101863342, -0.010243027608889788, 0.5917567958099262, 0.11733856923026274, -0.929575495113584, -1.6389033963953532, -1.0695207749852178, -0.6442441529487194, -1.1103328789203768, -0.23437392821576192, -0.8482888246691643, 2.265438504074881, 0.2619033054133162, 0.8625793451428388, -0.06140561981291436, -1.1708040647373366, -0.13256048993809272, -0.42801945385775453, -0.7700610074603396, -0.17422505678289205, 0.8832371822109504, 0.2672675157747519, 0.40645926149770906, -0.9004215190668861, -0.06941696755985766, 1.1509945490302615, 1.7153995458800464, -0.8611339097969126, -0.7026241321374148, -0.27336530070749765, 1.3416565842019146, -0.6016723360975954, 0.7397472591508092, -0.07748867525855696, 0.0383552443573899, 1.4456633789025892, -0.6781696815806485, 0.3721247997351992, -0.5082222229830867, -0.8538071538624323, 0.16999040922898356, -0.37720971309408646, 0.06334444126536515, 0.39509959607506484, -0.40810002921630856, 1.5125080281578491, -0.48750056657968494, -1.3629616185885298, -0.5077556716280154, -0.8919133677520239, -2.225210265139513, 1.4094943657487202, -1.857550946656682, -0.3878488238892532, 0.7542970594125018, -0.29879240651991734, 1.387008262031515, -0.5709338874093096, 0.2370065811501018, 0.548073784176328, -0.784918841108862, -1.3143617329857935, -0.4599037235972485, -0.9450923728087217, -0.5675810848982903, -0.6849181441747396, 0.7132858596084642, 0.16982048411432318, -1.2146304564216255, -2.5581041370119766, -1.6950847871869728, -0.8902039516040099, 1.7020051538362777, -0.6770520210690133, 0.239299864582552, 0.7837452135356628, -0.09418511900696411, -1.2466748753705794, 1.0401911305362646, 0.21608098342876556, -0.6046875440529773, -0.6082257051392401, -1.7543287988465779, 0.20536235555370094, 0.15461812194890953, -1.0874652367471405, -0.6068266922867793, 0.4526930099721289, -0.19133899119204897, 0.15451447090043838, -0.5523601279462872, 0.155130943502862, -0.7261836877686504, -0.4812057612893808, 0.23932103478262537, -1.1776218364963034, 0.5099549144761908, -1.2369881951949644, 0.30771834805383186, -0.8588822867590432, -2.3460126280803846, 0.7606055049626521, -0.8510417130935326, -0.11460087171838362, -0.3642328774514468, 0.6774246891371317, -1.1882707407575732, -0.674179084055605, 0.23158492801494934, 1.0211830778739146, 0.019113134340083826, -0.16784271896051234, -0.625955028817261, -2.3188175994909708, -0.7521547836177773, 0.4853976980395588, 0.4309225966962544, -0.38412280775775987, -1.5025675533840088, 0.23359209288550453, 0.9884733514229693, -1.04153414576722, -0.8164792347202758, -0.6992737713962373, -0.14300974752415122, 0.6745155829895487, 0.593325922682318, -0.104491930441489, -0.7981713877790162, 1.4089662466794555, -0.7824442049647178, -1.7932464638694112, -1.9877559943967398, -0.7133310918803537, 1.039954371122558, 0.37254560751390897, 1.8163631104878943, 0.5775513314014644, -1.3871383265095496, 0.41234860982697746, 0.005858129032148964, 1.0529001235646005, 1.9773527476637884, -0.34604024167676867, 1.2429812148900794, -0.028337976536621262, -1.704378183457864, -0.40986752400334875, -0.38184781080610236, 0.10516193728519597, -1.0025630676555841, 0.4973605909975085, 0.016053421640986654, 0.138990208079746, 0.4666601963941483, 0.6288738707475869, 0.8370907501482863, -0.9234775423453147, 0.3520243060770336, 0.9900442871687648, 0.48581178829361676, -0.5931765679768845, -1.103221376645183, 0.5737047711805647, -0.3231984449060448, -1.2287307565254908, -1.6758112237352327, -1.1630262309212993, -0.3473120422252567, -0.9305920355262285, 0.0031489009061078086, -0.8071885113851064, 1.9745079532052046, 0.3678174785260205, -0.01994465994479843, -1.081258609147299, 0.9915540557453754, -0.6282315368454304, 0.7706348518040265, 0.8549671346171183, -0.01653322792403285, 0.8928935309598726, -0.7550314135859049, 1.2885565608720873, -1.000760813739452, 0.04206110407242059, 0.8856149488948815, 0.39494492067592063, -0.01171102263462893, -0.8402911567397817, 0.11100790458439151, -0.9736836629076637, -0.5464046685431027, -0.3464686979397254, -0.9891284739815498, 0.09857102804040209, -1.7309371407998901, -0.9638609478208928, 0.45177627894254196, -0.1899383212875208, 1.0965570825040898, -0.14928260202775137, 0.37499937952563617, 0.5612006366754174, 0.9322610080488881, 0.4220121092355154, -0.36503346273023735, -0.5815044862311087, -1.1819991720834568, -0.7605383649311875, -0.9374740239978419, 0.6058253001360975, 0.25912653310303463, 1.701550458828744, -2.1579865326011056, -2.035800487482153, 0.7917682265043404, -0.9884403326768201, 0.7026289789201854, 1.1904296690464424, 0.01295186453897224, -2.42526379537534, -0.6891226523720797, -0.3677328016311272, 1.2034149087285873, 0.3344302766832385, -0.9806565015853874, -0.7466990202266918, 1.8366127412152593, -1.7682597688870525, 1.8632985155877055, 0.4260530648894054, -1.806804318304278, 1.6452670150763988, 1.5920152343887461, 0.3119969884604997, 0.1284606349668274, -1.8589549558069618, -0.689707883660303, 0.3785227134898799, 0.9821069232671353, -0.5127484109982007, 1.317803430254227, 0.34539719293516286, -1.5205291665725826, 0.24729355988787097, 1.204140575368934, 0.5712156033656228, -1.1145849790138342, -0.65787315364141, 0.8794605117766962, -0.017511152397282386, -0.2480932421098104, 0.9498146085064645, -1.1205507029414143, 1.384823351763304, -1.356045352819544, 0.1825206389487755, -0.8944351839141779, -0.024396127606301964, -2.018258663009895, -0.8211741362550252, -0.18093630223326743, 0.35473295896845214, -0.8172892829979992, 0.6307974033669721, -0.09118154320569265, 0.7929974780924638, -0.4401971283868314, -0.3482321411982434, -0.4165506731339946, 1.1478144671658472, 0.32295121926754705, -1.8491092653682735, -0.11405163946575048, -0.7387392968712628, 0.5216848003610213, -0.625896733082995, 0.7924145977462604, 0.3900637427882512, 1.9706457480967463, -0.13876906327413716, 0.4958087793248266, -0.2811414794102099, 0.03579529764464968, -0.6148906829941129, -0.06325330384784851, 1.5258746157883978, -0.7205688191410485, -0.6887452494075403, 0.7903863923741077, 1.6841175444218646, -0.5001609952475975, -0.5067854474925567, -1.3507196661103391, -0.2780631470408081, 1.2999513891438614, 0.47260338461880674, -1.0686580283871356, -0.16196169783328015, 1.5281639465629502, -1.0478137159405754, -1.5443552997908165, 0.84918127743002, -0.9193659183871545, -0.9204920192840347, -0.740681045040593, 1.2581270652749124, 1.1312393352216252, -1.3280903622269284, -0.6970864868091325, -1.357775455076837, -2.321567834426128, 0.9125528423294462, -1.5993160212436501, 0.8394996504462787, -1.4231284679776337, -0.5694882669820462, 0.5684995072995387, -1.3096911446117714, -0.6377016363800727, 0.19021678433080635, 2.98371018729441, 0.288191317715458, -1.1969701913607624, -0.7995891141468154, -0.2324091756191788, -1.3828910470048124, 0.7144901337492777, -0.9173887525154996, 0.5937362332209717, 0.22373752705647204, 1.1890048736359626, 0.06789743157740095, 1.3864067492056908, -1.1882791597590407, 0.7560883093783936, 0.7847903006623592, -0.91781996493482, 0.9047695250293949, 0.5040336717969188, -0.10629617779128918, -1.4792509055231604, 1.4551252451729573, -0.9258460031190185, -0.6255501348174793, -0.24303506002222364, 1.0834895601260428, 0.2060107070791982, 0.03785900620349794, 0.13994227537120368, 0.2571230648742315, -1.8265101837351858, 1.1058534639950715, 0.6473030589004165, -1.7316268834741875, 0.19575002286604382, -0.9127202179376589, 0.8546005163517263, 2.1030595352337684, -0.527701946485361, 0.11584237719082269, 0.8204199971428922, -0.6759255848519928, 0.9632537932683548, 0.7348810761779466, -0.31089897510667885, -0.46726464718279237, -2.1258064495918227, 0.9155069208127566, 0.024023441545464094, -0.37906337613252944, 0.31686726648309865, 0.6233616788442503, 0.5951043254143946, 0.2588776771922792, -1.4126572260767452, 0.12085580464419256, -1.630256342478728, 0.6934879476779451, -1.1527900889145548, -0.3565316613175821, 0.29165268797754434, -0.9265175990882875, 1.0957322435076915, -0.42270923933904747, -1.3432005977220982, -0.6315536409910001, 0.3328907245441855, 1.3915308839070075, 1.4076298279237505, 0.09371815270711813, -1.6135806855777577, -0.2468962005271155, 0.5505338004659036, -0.8697165896581045, -0.5381597437841522, 1.2319685758705805, 0.6105639531834551, 0.7491100511013168, -1.2964875447978936, 0.7478694145148088, 0.209848052469171, 0.08617386981877866, 1.9395851114766254, 0.16270233755179472, 1.2190062487061453, -1.0568062489872132, -1.2494331380735209, 1.3709886967949496, 0.855366732027471, -0.7613217789617452, -1.0518194613092415, -0.7053304822947899, -1.910075846211094, -0.9914940140534533, 2.2374063931213923, 0.8931993057313519, -0.16190135542508105, 0.505672316180877, 0.13972595754009146, -1.0441498467661632, 0.7863130910160127, 1.4178587462209526, -0.08883803617767999, 1.252929736733899, -0.3523415256655797, 0.3549567416094464, 0.3573333774096988, -1.3230309562794689, 0.04812853076976829, 0.09395563523990146, 2.0302684427289215, 0.24139685568637892, -1.7323111599852705, -0.9879160245673898, 0.1110619231062688, -0.1898353246234771, -0.09227075039353431, 0.3350493677268738, 0.7563411190441092, 0.3251555380046959, -0.18509634496171312, 2.289893188189483, 0.6752417308048552, 1.498584780946491, -0.4785554445859188, 0.8374227964912266, 0.6018953346146595, 0.12406905908374465, -0.5319928386702268, 0.23968399310394728, 1.5397686831693795, 0.5842554914258281, -0.5508806790383648, -0.5936531206537353, -1.1163514473570795, 1.4939329380800588, 0.8148032204485333, 0.06786910690425263, -0.8648069772188467, -0.7168013927913155, 1.0312092293761512, 1.0280024965550059, 0.18654524397891817, -0.5981130206223813, 0.4149151226579831, 0.47015958253737844, 0.5111317536185361, 0.31544723143428544, 1.2178142901540248, 0.48414356443325385, 0.9995806282855965, -0.6310316406246926, 2.168250482782411, 0.251775533871494, 2.1968982502434393, -1.1434091640801298, 0.7294054155381526, 1.5585188199426998, 0.18218973579779446, -1.2976915994780307, 0.379201776912526, 0.03247994980911385, -0.07149455802385858, -1.2151057766162847, 0.6519472679171859, 0.49471871447407095, 0.4907319392321175, -0.25307822056293383, -0.6918115571389258, 1.1346291137724143, -1.015072711519844, 0.8717394981150651, -0.20867253946052888, 0.13473528914843286, 0.5197545028978541, -0.9136955674293605, 0.8630556202371937, 0.06534459896712268, 0.4363264257178013, -0.8618440624744313, -0.9248623705166903, 0.7561395306586004, 0.18679821584189496, -2.458974011491853, 1.0844166335409005, 2.3279750069547265, 2.8057957719536266, -1.285499293064084, 0.2112297658725361, -1.358326433230945, 0.5290431163261077, 1.1333345716223566, -0.5974653066809341, -1.5164735794873772, 1.3695217692990749, -0.11322441444650172, -0.38519726766899454, -1.1229644040120377, -0.9071799458826657, -0.22520979980708983, 0.9839008088801059, -0.09607453698296577, -1.487029491505337, -1.779355541437242, -0.8633105677611843, -0.30519402394722517, 1.0597524188335394, 0.29323934020383347, 1.3594544433307425, 0.5169073771098285, 0.5564925095213854, 0.13476417451548917, 0.1977731754583202, 1.2767929129960414, 1.654261572886642, -2.3688411633619815, 0.6610248324067521, 0.457345896003409, -0.14459227145300987, 0.39267000402823055, -0.3249282393106742, 1.8088356553397242, 1.015598827631147, 1.2413917864890316, 0.2633980219769785, -0.2900958066503083, 0.29608891012006655, 1.174233864004504, 1.3957452508829078, -0.652502737881994, 0.6371024987001148, 1.3663409294540774, -0.945754090443429, -0.3482170158284631, -0.6176680867063619, -1.1726723071102978, -0.044178389273409946, -0.5212914837677466, 0.5926969396523396, -0.20195330330358183, -0.38394915694261583, -0.7426061066750848, -0.8851301352591001, 0.47667741111224604, 0.020186709444066326, -2.049907762967183, 1.6296222188259226, -0.2114198700557442, 1.663124277094912, 0.8372754189296177, 0.3456019275684788, -0.6661615313485225, 1.445983261180544, 1.1428687628775962, 0.6267691154271569, 1.074287185676522, -0.29980164790105335, 0.9183124815437256, 0.4285643203711457, -0.8964107755045071, -0.9150148895619298, -1.678051374404262, 0.39304476290987267, -1.9306325348894207, -0.12927211979681863, -0.1627372602468969, 0.04820983478622845, -0.32321213862217246, -0.4124673620947597, -0.20469262806954494, -1.087924750498087, -0.06392234953410857, -1.00006936216115, 0.6093663411103191, 0.6477573445385512, -0.11157835752531164, -0.6203778884801551, -0.21204796198469136, -0.7705766874744899, -0.35988939980926965, 0.08162657278892349, -0.566221262994531, 0.4442580656736993, 0.21032685685031646, -1.95039948978456, 1.0415522300493243, -0.07948848769728847, -0.7499892291576011, -0.9548426795520145, -1.0622117112924563, -0.4800238511762749, 0.20190887129810267, 1.7530494629993536, 1.816088036939797, 0.08520647452825807, 0.4705968697547175, 0.8288824565962163, 0.5087382997141017, 1.3050802820223046, -1.3085384742448687, 2.5808525689886777, 0.781332010786776, -0.7031569593323242, -0.5656718173751834, 0.6842466269803542, -0.7654579030541773, 0.05072922624662564, -0.47769337631157693, -0.668101175357099, 0.534895144041223, -0.7170846100391929, -0.9156651723133259, 0.010726536822795832, -0.40447273859707994, 1.3094283654166947, 1.5470902858644169, 0.1587992624770394, -0.6777948955537838, 0.0446075385939553, -0.9068855143772011, 0.3105303400259497, -0.9263528840886118, -1.3391684936564388, -0.9871035534987196, 0.22901197323406677, -1.4926478582775742, 0.11862306838264836, 0.5290480111351039, 0.5351050573284402, -0.32201684147131654, -2.0610524807066195, -0.572659270482588, 0.4787590616538555, -0.5016441103693583, -0.7380066253780228, 0.29982253572844164, 1.2555734236797098, -0.45275937280262846, 0.13220088258443083, 1.628122025632028, -0.4074356955946756, -0.910028695072406, -0.7288193169852563, 0.4913048451151784, -1.0941810791018878, 0.06346012233565335, -0.13703853593947193, 0.8622286049205043, -3.2722041121342698, -0.5407571153929905, 0.5299751134128943, -0.6903657163075394, -1.114830969114374, -1.040298473979405, 1.3860145155279988, 0.6111268730629417, -0.5109130511581168, 1.1331113964809718, -0.6080065746149145, -0.16833302910533923, -0.8764856119016723, -0.608623952944383, 0.7632178154556573, 0.23509849695410948, 0.43448466446495276, 0.010127018086626078, -0.5578855570179894, 0.39039938757005244, 0.3375038439615333, 0.5047359022966998, -0.16296139249106223, -0.47499851540911153, 0.9041774652997119, 0.13798031655948592, 1.117903703216061, -0.37029023712765924, 0.1057252782976659, 0.8019855158496173, 0.7007558475739318, -1.1558771244518682, 2.499142170784376, -0.022538316220504794, 2.1605124241302858, -0.8659546225148385, 1.4885121306107894, 1.5061229798440485, -1.524367005927112, -1.3771617678484447, 0.3955389576853036, 0.3556249304427126, 0.8423420491559113, 0.8770297129610327, 0.37392053393368857, -0.028907745742720717, -0.8522463747413491, 0.8345322373957946, 0.3774283529903788, -0.6930331496107961, -1.2826044421114682, -1.9248834627573863, -1.0201506575111716, 0.07151045014878689, -1.0776215157881517, -0.26215501381931855, 0.05114703530732351, 0.991225475201363, 1.169100996341028, 0.8502611237373217, -1.2621226746018641, -0.020156920267952662, 0.30205301744895313, -0.09512277863001435, -0.30801468469607396, -1.2268696321203127, 0.652777661091698, 0.6676138561978138, 1.5906632316403866, -3.102520439361303, -0.7416877885000478, -1.2733165917904774, 1.3875457723499154, -0.5958992897616213, 0.0027077954366950107, -0.3299842749246003, -1.258403313005349, -0.3548969853340848, 0.8184841734704879, -0.05828458024552864, 0.13530593510251107, -1.076473773900424, 0.9384461216558194, 0.7920639970473871, -1.3645326602788794, 2.0163949232932272, -0.9376818208532821, 0.8703981948702225, 0.6445385554360232, 1.5377069877335423, 0.6063655552634555, -0.38085956881775107, -0.29389317394517517, 1.0760455482687403, 0.0938078190331142, 1.3955646469499339, -1.8411572729757768, -0.66060363800964, 1.3814571480057265, -1.6613648304936304, -1.4067460923709956, 0.05022029033422313, 0.4380806457607904, -0.4711402252222404, -0.8243456930601866, 0.06767815892694425, -1.175670922769681, 0.37348785579891086, -0.013183447087985826, 1.8427818948969314, -0.10808510530313685, -0.9146952921344772, 1.2992756444056686, 1.1630374512578265, -0.1401730239778016, 0.5338925270346763, 0.2581391713260779, -0.22932763387158156, -0.30411065306785956, -0.8628881257231781, -1.0115625130764059, 1.0993977027259065, -0.8496498056569276, 0.14926786726908287, 0.022059684688433587, 0.49491681107811547, -0.30987994521132817, -0.7441842835454405, 0.8868667161036529, 0.6092818579543638, -0.26412960441422806, -1.8472634864484017, 0.8336234142546136, 1.396411114963646, 0.06177619780966482, 1.0240788546680786, -0.13511853642922733, 0.5069104064888154, 0.059991193232813406, 1.22991037246971, -2.5941139277892775, -0.6025715753750901, 2.639971623024763, -0.06817941474930392, -2.0142267120458905, 0.12160745410800883, 1.045127077225557, 0.7590308035564869, -0.14202515923951559, -0.2007544697411433, -0.4062220607691947, 1.5946257279916423, 0.662234263212341, -0.5350512552153694, 1.9030333881826216, -0.6859887350571101, -1.793893674262347, -0.4258755939490003, -1.243149569627991, 0.0019497596555981607, 0.904811416953316, 0.552589698826398, -0.02584462979706817, 0.367232419408243, 0.7334840971347477, 0.37773228350448734, 0.43632422142362043, 0.15843614988900476, 1.4111099963390719, -0.3858112944938097, -0.35864444040310384, -1.0510456304478124, -0.10544765394618201, 0.1509769993156068, 0.17172045993500593, -2.862043431789061, -0.6799326998876858, 0.677641689624293, 0.07360217635309647, 0.4854221611391548, -0.747402741407775, -0.11777081306957307, 0.48761066969760325, -0.10807601747786476, -0.15287289021870376, -0.5100524421070561, 0.138401177849348, -0.2529959633084274, 2.0660241200041263, -1.1554725484263464, -1.1074247580016494, 1.2817897829916751, 0.4123405934644688, 0.30343674017887284, 0.25046426328593563, -0.23528506027607035, 0.9428071573636866, 1.3570934499722778, -0.8385779459778911, -0.4746155203919233, 0.17510760544283305, -0.9145944365975032, 0.4177050777367466, -1.2453184528538137, -0.38263822833654887, 0.08211671523221155, 0.12589333463793992, 0.4223809055857716, -1.0563105330951506, 2.393252910911953, -0.6662499597114862, -0.3085211684632623, -0.3035085719776558, 0.7743599308388969, -0.6017872548913555, -1.0234713521135113, 1.2212549215553343, -0.5932216177807824, 0.4413561547343344, 0.6211088565523597, 0.10962636155476889, -2.1498835181692946, 0.1968500641914119, 0.043915188616119365, -0.6752593990246102, 0.9119460392225794, -1.0711252090145693, -0.23954132069386413, 2.32095237457824, -1.2497892340243666, -0.5424509311783685, -0.9149680360315957, -0.21721226571151198, -0.6236749207314943, 1.4114005986202351, 0.38673295897780424, -0.543500813116486, -0.2960245411797753, -0.7843264679390078, 0.8920064664731375, 0.1516056963692237, -0.4440292170972957, -0.6109847553037179, -0.14661661641997123, -0.8393846857004968, 0.06944068664903288, 1.3877584471850046, -1.2729040076053928, -0.7261134225038126, 0.6114046418400281, 0.3608959705385595, 0.241481283939316, 2.006186700528903, 1.0129807785749858, -1.0586329352649195, -1.939260386102037, 1.6479533642789141, -0.6990106116574086, -0.6341877352574552, -0.04841810843663451, 1.4004888807077827, 0.6906149768117658, -0.053938744886262, 0.5331819469648194, -0.6183551738037607, 2.2255226309103433, 1.7487585415967273, -0.2524279617776586, -0.4550071845374643, -0.3726510408355911, -0.0796709003368232, -0.3623358233410878, -2.382365333226615, -0.0356231750071922, 0.599670188501858, 0.3029842254674085, 0.4742897540686726, 0.3970138624976535, 0.1377203061004834, -0.6592646354775508, 0.7751360230789177, 0.28486099169905155, 1.2918034755757595, 0.07437164454725456, -0.6404955562295052, 0.20705144565793576, -0.5843790564953733, 0.4278956117712746, 0.05957453905148126, -0.27951957950799494, 0.8507456997245841, -1.8408602428247476, -0.5129270548413821, -1.1899235926395555, 0.7346203962989885, 0.7743841922699918, 0.30158695998532753, 0.9344379091911414, 0.49922343119825735, 0.40700347270959364, -0.575249098641437, -0.16849506780766224, 0.6348064347551365, 0.8559931210521706, -0.3212292932752388, -0.6309962156734918, -0.09941597383689167, -1.671070568348376, 1.5273973086161938, 0.9928605150145453, -0.8466294574158605, -0.8339364015116297, -0.06741798607930799, 0.09416094373317159, 0.6209075342395365, -1.4821298078070557, 0.19330680135602396, 0.7885069466293579, 1.2378890362316777, 1.0228876440656052, -0.3260139858209956, -1.99644730190575, -0.38781888632764616, 0.5955017738541051, -0.9079045182108563, 0.1598397369341334, 1.23254030260034, -0.8960322421849757, 1.0292476255529666, -1.6329182634485035, 1.9715724665389456, -0.4818931995563132, -0.4807031735595589, 2.327529146025154, 0.6096220958417999, 0.931267828836524, -0.32647838963395526, 2.5638739952369707, -0.751544309665691, -0.15871792722688416, 0.9085395754679643, -1.4532700696637377, -0.19251233320636102, 0.5191998016528404, -0.11267714909765753, -1.1532585262833415, -0.7790136992371313, -3.022056131271473, 1.4476473595351038, -0.8280783074720713, 0.14953567175031815, -0.05125349921308272, 1.934038767718771, -1.8612924514921236, -0.40130882178988103, 1.8452140876933574, 0.664065235799578, 1.8174539614909087, 0.38681059416174784, -0.8888421517113467, 0.1845218330524975, -1.0004023333565608, 1.3600038770682126, -0.05005172140983748, 0.354598899176993, 0.42645892297886995, -1.0550545248821341, 0.3308964732541786, 1.4279720513592915, -0.599523958820229, 0.24435082968335467, -2.031113355084784, -0.910161671245069, 0.19890695454577206, -0.9377185002026597, 0.03979375125771909, 0.20281489242974027, 0.43184103493622666, -0.7939908667848755, -2.613393219186323, 1.2090294151258238, -0.43564310089630953, 0.7645601933006598, -0.9786374808596422, -1.451840261072697, -0.5051076869025126, -1.5748902301661023, 0.5174956140041486, -1.1062926984620864, -0.5979857632969, -0.03315444204177282, -1.3379306646061064, -0.5344468199400656, 0.9147374275537713, 0.6850751377636299, -1.1633964562812869, 0.09600429771645111, 0.6784665599782629, -0.6080641030406191, 0.5337318020497916, -1.4264345911626541, 0.4927075834256155, 0.15619367707092022, -0.5832326419210845, -0.16762851713570948, -0.24814448005601217, -0.5373434164815295, 1.69292663124603, 0.7310385292573197, 0.5131611314152434, 0.15861454300913824, 2.8617673264904275, -0.7985793101553309, 0.2919590539915385, -1.2586099188380035, 0.34037333000295306, -0.1114996328822923, -0.31421410394139987, -0.3713385610316998, -0.10651236110444362, 0.1590233829742685, -0.785198370619354, 0.45266607036140444, -1.4397750207697693, -1.4672838868173923, 0.8181132188948996, 0.37543214196974356, 1.0575197037744584, 0.753556873033741, -0.2649729389603487, -1.1094630150018103, -0.8535826045949485, 1.372822834541972, 2.8979082540028775, 1.064812309057188, 1.3495282089926584, -0.3540327584728591, 0.9090569179918563, -0.09390717035874413, 0.24095311616788617, 0.48265369016188864, 0.0281089191966677, 0.1810769548763576, 0.22443475197427953, 0.0448693265162713, -1.044604268160965, 0.8814553947435579, -0.30778583889040223, -0.16723092074188664, 1.1225358497652107, -0.002209216032723984, 2.059670910982299, -0.4334876164614738], \"y\": [0.3279828271227054, -0.6554915395089348, -0.2445630740894806, 1.323591772572846, -0.214918627976312, -0.4910782139566471, -0.6513185791620149, -2.036069373634973, -0.4311831747579831, -0.33024198874944444, 1.5328593324277806, 1.1415986052231533, 0.7890570825617523, -0.6900527332815405, 0.5148657410583601, -2.005222481484949, -0.720111006232243, 0.5089962062164424, 0.18934506611900184, -0.7060442134639205, 0.11277474321089605, 0.04020850917428573, -0.36056871641980626, 0.32127047137643655, -0.15727621476042802, 1.3962844594982171, 1.732059865634372, -0.3975348519130771, 0.02733534381888954, 0.3264546234073273, -0.31342159384933743, 0.8830727845003783, 0.864205620248621, -1.887763144457249, -1.112324079794874, 2.1593489658622693, 0.016552412721885065, 0.6458225187215357, -0.28918974965679317, 0.2982397484388114, -1.2530529816137561, -0.49737930163121846, -1.054649051537323, 0.07385840654550234, -0.0006751787981462029, -0.3833901254367819, -0.7400969217225724, -0.2345957947013203, -0.6030782656325261, 2.0678509615074585, 0.4682542414412787, 1.701828509517181, 0.34247233418418394, 0.8331313963967607, -0.4369113391120193, -0.21346643829479925, -0.3281701745162419, 1.7389466636747506, -0.03285469412796877, -0.3918528182974177, -0.1919024154915431, -0.15826609251175455, -0.2954595939978773, 0.16856474044487513, 0.004379570881792277, 1.056093652294252, 0.08033907121967532, -1.3192552105761042, -0.5934803456763137, -1.2126290629027447, 0.0730425284364768, -0.08980365957578115, -1.6722310461595724, -0.2016057083985274, -0.41500777595094995, -0.6000064237873052, -1.3790974989152918, 0.9707682293054809, -1.7482136338061727, 0.8623422951281604, -0.6995816074896681, 0.8924667160862807, 0.8052475891730865, 0.6843751379383581, 0.03399545038206872, 0.4423821418433591, 0.5386121617791062, -0.05046600265022503, -0.6225934228397864, -0.9071792314100172, 0.773069149035849, 0.7009392255969021, 0.47920472775758255, -2.2885807098400117, -1.9017667741088216, -0.4199096890366355, -0.9279809278762318, 0.9289913751962148, -1.1083329031232634, -1.0789949420766232, 0.639663893786085, -0.5560683203271154, 1.0284939648999336, 1.1950128684335686, 1.6737280708321813, -0.9520075518124264, -0.30931203973707816, 0.12231904313934441, -0.3873432700782404, 0.8939142211341479, -0.6422848334478379, -0.7093115499428982, 1.8643373891957329, 1.4378294557910287, 0.9863421078526032, -0.22290250918561152, 0.7716941652232084, 1.1234636427233649, 0.0736420276846904, -1.4824451386264457, -0.09723898054175877, 0.6150582942818204, -0.5930572850154624, 0.2967674072122801, 0.3616378281992319, 1.036457937119664, 0.8644849875271567, 0.48941108779449455, 0.8707828942209734, 0.8182400745444003, 1.504609332284832, -0.9223328502975204, 1.9675361179012842, 0.03363768820258585, 0.8946468354448597, 0.44025373871302315, -0.6411881261747571, 1.7438003406360418, -1.904542086896152, 0.23931964476470688, 0.15803561141697134, -0.7494289017255807, 0.6027121582412965, 1.009519574637218, 0.763443977662867, 1.4848181902568238, -0.6114983515789046, 1.1874034520705248, -0.8400474381707093, -0.3821769218359775, -1.5452411242888204, 1.2169574502590161, 0.023694508444637608, -0.6023966138811193, -0.43468028544499154, 0.09498331661893714, 0.9805168623091922, 1.4113550930204097, -0.3336772364984587, 0.5446954464407218, -1.268438950006229, 1.555524121160982, 0.4647882472158709, -0.7657828839316969, 1.646337297024354, 0.06672196414968169, -1.0049028056327447, 0.10453366258573289, -0.37921835661719383, 1.4664535638937697, -0.46437288964387075, 0.37378377029347326, -0.7561419322029215, -0.29100115180528524, -0.13704191435907756, -1.5256020598466813, -2.16997422986413, 0.003219644300160437, 0.9092316550442338, 2.350328202890156, -1.710502134596758, -1.8538070023040252, -0.13006322932182315, -0.0752969974245595, -2.5257084588790373, -0.24006800307078696, -0.381456322402232, 0.33887335992559786, 0.4560348094075917, -0.3322632741731198, 0.8291416280211739, 0.4270950412723662, -0.8633325636889995, 1.1369962102779736, -0.32821098296755186, 0.9628499436505129, 1.4759368742730368, 0.6717698916819577, -0.3059922823428843, -0.3808458580649111, -0.17805518225772105, 0.6235777112571613, 1.7508006897719095, 0.17909781542816547, 1.2233320538667452, 1.9364220786437647, 0.7967581111602734, -0.08975565091018753, 0.12395636119567731, -1.4173755734288023, -1.7717131410076017, 1.814212506363958, -0.8184205526371282, 1.231017771471893, -1.1123355049572523, -1.1115680534877597, 0.06144637670915448, 0.16569595477260857, 1.2149676875568274, 0.2421668695943099, -1.3121479790977821, 1.5809147694557677, 0.4128748128288891, 0.06836643355382502, 0.3314785167020645, 0.5456073495483005, 0.6964798678900453, -0.11730607600942039, -0.4799690248892318, 0.3243923492778683, -0.04089268417880769, 0.194022482428236, 0.6271740038412962, -0.28518447966393495, -0.41080775491852856, 0.20822243860071882, -0.6063257394809518, 2.4235368761176814, -2.080424921109838, 1.193265698731343, 0.649679799362714, 0.0715546755593639, -1.177573312308236, 0.14717516866442376, -0.48427824356481114, -1.6630703662222055, -0.5723954971321964, 2.44063308508458, 0.2352783531392655, -0.18921117885701433, 0.8652659833274678, 0.7601251642755597, 1.4926512442981639, 0.10356083621984717, 0.9019034927867711, -1.0715964468678707, -1.3109044617648977, 1.170433346287379, -0.5982428890660263, -1.2507220809853077, 0.5840159378710957, 0.11644965218544584, 1.275276327444662, 0.2235246461817603, 0.966936033457448, 0.3534647973797969, -0.06894428280248457, 0.16492086955492366, -0.8695726656621283, 0.5172174703328027, -0.08034919140029141, -1.8662952679949263, -0.6323407058752366, 0.3352245196125138, -0.622781371769194, -0.5375758461760765, -0.33392163066379665, 0.475953907610267, 1.765958119006514, 0.772522139829925, -0.31977611123748784, 0.4683632749161836, -0.5878734337002066, 0.11958877227744993, -0.10923906674464237, -1.0210788575285459, 0.76870591224112, 0.6682948814095425, -1.0312310810627021, 0.9147392504969409, 0.22576917094465343, 0.8288088098038501, 1.4148876521932563, -0.2964801588914905, 2.0932520700556374, -0.44912901790402066, 0.15610648919883374, 0.45708150398520314, 2.0960995238920943, -0.9185421664391916, -0.2343295326596369, -0.5025031552541082, -0.621585832902154, 0.3649541552882968, 0.6743812542992246, -0.971671109103143, -1.0474005071868917, -0.9051877439423042, -0.3675593157683274, 0.5037332460583621, -1.0732883734873326, 0.5021679901222107, 1.6845834973317346, -0.7414090389825054, -0.5502545670769105, 0.44282180975984264, 0.6212992240855106, 1.8401658919277861, 0.6470207330808704, -0.41905446339182884, -0.698584506528805, 0.20480434859010577, 0.48749134035643205, 1.2690819118923369, -0.34885937535474476, -0.47371899262692485, 0.01825022192999286, 1.7594961128951145, -0.5671989692194241, -0.8775310329768918, -0.43595822350546515, 1.5017015984341922, -1.729784348118612, -1.6899101825409124, 0.0971089169435007, -1.5780548434858013, 0.3709452920259764, 1.1567614191648932, 1.3931843242934243, -0.703995733878707, -0.6580586433358405, 0.1810765601332112, -0.7949379479970795, 0.6787661496918003, 1.2141108803314744, -1.3918487561674644, -1.5620203830113515, 0.018724583370825314, 1.0583858169384266, -0.05740555683910667, -1.134596054866429, 0.7488755385089895, 0.5946910842407895, -0.3321642667753782, -0.8132977224379521, 0.04500897139453175, 1.778358771998085, -0.2904988529986872, 0.1810616944560105, -0.2567794298576, 0.10885315157820129, 1.3211772055886895, 0.2322706433265681, -0.07853276965202913, -0.488996891213912, 1.4686318983720716, -0.5268460220143774, 0.500500471942375, 0.23004532825760246, -0.35321049190375825, -0.6454608214338778, -0.5430457025496392, 0.7716518000081508, -1.15052759949589, -0.033427949490225144, -0.1578889329088527, -0.24067808567441207, 0.08817953662213272, -1.3364711785085477, -1.8576312647292554, 0.9612663152166268, -0.18747553293741281, -2.209448678463319, 0.12773958012216013, 0.030402114486876887, 1.037341258228076, 1.3805972688600225, -0.5436567652461255, 0.47600781728552843, -0.24480718424834735, -0.6042861113671426, 0.7025424731406322, -0.18735635365670913, -0.5649800828662717, -0.11662108311765822, -0.13423395044060812, -0.6484814676934291, -1.029160103707042, -0.08350374948149612, 0.886615971434463, 0.7888123748333077, -1.1895084109288758, -0.3622928896084102, -1.0792948482817153, -1.1197571869199419, -0.6725531960922477, 0.3309336041013679, -1.0001657763836211, 0.5384011395943772, -0.29787831218413113, 0.4961928148628981, 0.817815705649353, 0.447945803823095, -0.41803607407730853, 0.04837049538814449, 0.5453566469821906, -0.3153543962912405, 0.8795648549160516, 1.9679406288275594, 1.577382873284504, -1.8862163047329403, -1.0682935134689127, 0.7413355765244534, 0.30616620728189375, 0.6645950249478528, -0.5638619649737204, 1.6250084400945406, 0.19968743425237054, -0.04905569784767077, -1.2337487090991603, -2.2795602544978673, -0.7835983940125028, -0.49827666128818343, 0.1356572900470479, 1.1543160438994253, -0.8455073430796941, -0.5109244014379247, 0.6377079541995835, 0.5293320614319698, 1.6339241233242308, 1.9822530381248886, -0.7706840517798681, 1.0436724956396004, -0.9406273639172111, -0.009255518400016281, -0.6970383452864871, 0.8166408508444413, 0.88881622742138, -1.7474321922429332, 1.525850932502605, -0.2698395797714648, -1.489002161931051, -0.2394899783321037, 1.4060747691527815, -0.4240100951790189, 0.5176318689332038, 0.1464257614728791, -0.5004050122238421, -0.5534404349738039, -0.08635527227889638, -0.2398424412659461, -0.3985053010202278, 1.138576085099483, -0.8006819777921009, 1.5653961850432874, 1.3094301277550748, 1.6472758216200343, -0.9364302780717217, -0.5105520468890363, -1.2962407756666277, 1.566796999296539, 1.2244003631522296, 2.181445087759499, 0.6246404789397506, -2.0014227485933933, -0.4105313167170375, 1.6098113983269808, -0.78457581920878, 0.27366831542353887, -0.07135326410329272, -0.3784828500964987, 0.8123824575907131, -0.3060670062342461, -0.34092272954312985, 0.6431371986815961, 1.8251596993286308, 0.0543418802926505, -2.3571411306327055, 1.5780647666973113, 1.6206967362118836, 0.20756055441904975, -0.8702876761064203, -2.4297328541826637, 0.7663792543972936, 0.599606771895272, -0.3641806459581053, -0.7649538615265721, 0.9107277050799071, 1.7563668991697197, 0.15446929331227052, -0.7429429934782136, -0.3005062098019573, -0.061876078365667865, -0.38775429258242533, 0.25603159403998843, -0.08208669358469038, -1.283493856848448, 1.158597625786792, 0.5653802710317791, -0.07062145267381237, -0.7408358575640234, -0.6730443964714443, -0.3896306461451399, 0.041216527289122167, -1.4148520981045574, -0.1356824758846472, 0.6360707605076035, 0.21784697490288085, -0.5172938609819994, -0.5794161769307917, -1.5337891018817882, 0.24565905598488325, -0.08147870615038118, 0.26638661739372543, -1.6314504202078652, -0.40618752610789893, -0.41297760898028585, 0.09184579401726056, -0.9151665605986344, 2.426589025163136, -1.2505464447705366, 1.3321814653154862, 0.045328278490912234, -1.2098651536485432, -0.3395547730305797, -0.11834995175939803, 1.7820888280082139, -1.769053411689105, 0.3278753881310146, 1.5420985343766573, -0.3348417755495621, 0.24107743859978248, 0.7576408348030629, 0.6999181247257267, 0.6893408174875596, 0.5769467402871696, 0.9287246328376889, 0.16037693539299458, -0.8393493934134685, -1.2803562183977155, 0.5416297053633383, -0.5532040302345131, -0.9020576499390799, -1.4682323304079654, -2.4228732227036, 1.544401007462177, -0.5809483426423986, 1.4682567125175867, -0.041873855819982445, 0.11807054806682273, 2.622088215057981, 1.340659611784691, 1.6089218446985365, 0.5178402362238212, -1.206647718043715, 1.6180057829013559, -0.014842582342185691, 0.370521050384735, 2.174923720956008, -0.23259681213902084, 1.455498381033747, -0.6946041029457991, -1.3266409580846519, 1.5182495923138337, 0.23847109028509003, -0.17021607826488475, 0.24796937027124483, -0.8257163654245926, -0.8087796121341156, -0.740757023167438, -0.8452606180630826, -0.3778279745213027, 0.17800451728075992, 0.059506965315302744, -0.1982922874628263, -0.4611685920581093, -0.6052785798147478, -0.4586198202258025, 1.937772824627981, -2.1280173522331616, 0.0159941545743586, 1.5497745314628226, -0.3404419229412727, 0.5565018412318551, -0.4984406537166575, 1.2955062035779452, -0.17108685415167582, 0.6448274014407039, 1.1738000980107215, 1.260690754618499, 2.3759802937936625, 0.7889305543168231, -0.7502761769025853, 0.08638286727495634, 2.17350654924206, -1.5856224953125695, -0.3249652412338011, 0.05110253086138173, 0.7782027470454177, 0.34185486299075474, 0.7632829714944249, -1.07735259149623, -1.1067351285615794, 0.05619537025375124, 0.6783287317134408, -1.147989373854023, -1.4771167416404185, -1.2387541445325305, 1.0843703804748137, 0.46280208577001936, 0.2270409426913955, 0.8057917515042888, 0.9261115578214317, 0.36565046137808366, 2.0346821414190837, -0.3286661040943808, -0.6273699680166281, 0.3551429399073792, 1.1970109568711942, 0.6635474255155444, 0.5581702220793212, -0.16137719048918953, 0.45192806680974534, 0.7172250670468234, 0.8120211585462063, -0.5415996015773565, -1.3765820967909939, -1.2672136661287199, -0.46251442910440843, 1.651198613537196, 1.354187946225891, -1.2283882148912433, -0.36485043107192705, 0.17050843944869046, 0.16233049072934433, 0.7577506580830479, 0.2248176350087582, -0.8040531623893834, -0.15734007088645813, -0.6413955633677532, -0.1557886736625039, 2.766015976439774, -1.937691651442136, 0.5090412361631574, 0.9015256737427468, -1.5967799117645463, -0.48198151217131296, -2.6206620934650786, -0.1752390527636628, -0.07744317897848803, -0.47339826895388415, 2.119236732654957, 0.22607411960069249, -1.9106000391812663, -0.405974172008401, 1.211462644643272, 0.426511759547951, 0.35347193372559954, -1.1201468661236718, -0.20493200900657563, -0.05753866281482202, -0.9864117135399162, -0.039536232631438545, 2.207054772305608, -1.4012977392996173, -1.7217554182168775, 2.3329858848739415, 1.4162542074715085, -0.31326677962949523, 0.36772240983791094, -0.0646530139314882, 0.7454779413092623, -0.3414691911310361, -2.0858648568830143, 0.1086966918547042, 0.13849045690555128, -0.010495001419071866, 1.2203768419104444, 0.5651234880959118, 0.5349070488136881, -0.5658479785670423, 0.4305298353164824, 0.6238536128418641, 0.6765788673461999, 1.7014584942987128, 0.8401561988939273, -1.661025315455506, 0.006540075761088514, 0.9808127620195227, -0.5402283198361271, -0.2443922144730148, 1.5562638725550746, 0.1415177477824165, -0.5491005343789581, -0.9222741883566749, -0.4280918782726587, -0.38758220941460303, 1.978609285089228, 0.20826470169824166, -0.38255463162548214, -0.6826490326278571, 0.17961327749315406, -0.6582256068052789, 1.4877828578959258, 0.9358786812978711, 0.38335862914242497, 0.311712756072296, -1.2773169387189993, -0.5324376954208059, 0.208941026642975, 0.5192408797790974, -1.6764567740402363, -0.4792064057114358, 1.5509913276568685, 0.5310360298547596, 0.04608848818527624, -1.0195972606509067, -0.332929386967241, -0.2452922079297508, -1.5174086963488378, 2.099412604813096, 1.1760653933861198, 0.07082742062569168, 0.6036962545911778, -0.7120752954966234, 1.4623827490853163, 0.04045575670874869, -0.1329506197710046, 1.0339893864320397, -1.8465107418452062, 1.0871110287942376, 0.7453811882131824, -2.3950146928763814, -0.9581478048223888, 1.909656576556548, 0.7652380421842295, 0.433785958986409, -0.22748334179931803, 0.1688824906115928, 0.356315999603589, 0.4731447151569786, -0.12314808374136392, 0.8336171899370517, 0.7803699181953706, 2.9488225462991005, 1.1484869436143699, -2.047305139915231, 0.9417123084741784, -1.9327386861703615, -0.10904426659509825, -0.6201307628193452, 1.6000896736391754, -0.3655191383181186, 0.12274834958312886, -0.9821520030731966, 2.454240762968184, -0.3790312196489305, 0.20886560698923753, -0.24119014629580893, -0.5782230033263778, 1.979292544517329, -0.23652813403861153, 1.4794890267999052, -0.8644444453934214, -1.4172684837493608, -0.18260603115679705, 0.20305890851714148, -0.25371643437478975, -1.0823126814659396, 0.7114346176946328, 0.47687419577788775, 0.5492523102763606, -1.0516644092607546, -1.1804186516360633, -0.7552365482772609, -0.43301157815644487, -2.5327325295793504, -0.13961548456749714, -0.059691536654310595, -0.06398495960467274, 1.0751433375296817, 1.9541152432006579, -0.33887974359965883, -0.2545072961373247, 0.654757217347639, -0.5102177166062856, 0.5298749971384473, -2.1415210894365395, 2.268993319509174, 0.324328209767448, -0.5716892451552427, -0.12030190578060145, 2.116966013220652, -0.5765575386239687, 0.09937327527644205, -0.3846873570791751, -0.46184901292985675, -1.3700360639640812, -0.28265790399717156, 0.39224073415282473, -1.6990066483629171, -0.6820061820908189, -0.18231582251538386, 2.549473915006407, 1.2847258508304376, 0.10540938782750545, -0.6457482587315359, 1.3131713206263398, -1.6678304952088965, 1.3578898878053625, 1.1453583384652324, 0.7487743648148185, -2.293563476116307, 0.7190476052629161, 0.48914174120947806, -0.3755966651003456, -0.8586563195918455, 0.3311987067933018, -1.795115768141528, 0.22095758830757384, -0.6147055098250552, -0.0027311612719340423, -0.24811353668438893, -1.1621892581299866, 1.0273517982446279, -1.3863336607934373, -1.0932201500813086, 1.1787247582722316, -0.030997360636201315, 1.1660657980778928, 0.41444560212902054, -0.25725376341493406, 1.117825720836243, 1.0734705099764794, 0.5007958110365639, -0.980414444791252, -1.3607590520788746, -0.7513735496899057, -0.4466726305087601, -0.44850778168768607, -0.06314981562680115, -0.949984337797301, 1.6820691407697033, -0.5799421691113477, -0.8244030632258336, -0.24123579530601783, 0.39505051934833857, -0.6121781616075451, -0.5748756241936295, 0.12532666711231286, 0.5116176384130419, -0.7882638956818595, 0.5594133282432766, 0.7370438239140962, -0.469900929427513, -1.4641653865496342, 0.6543458144891008, -0.12738854459766127, -0.5484037504803588, 1.2305973003098711, -0.6920170352200768, 0.1354374593596831, 0.1311689617554538, -0.17899228509261736, 0.3692903537897325, 0.6241482414087994, -0.8306952538783509, -1.015963143987445, 2.434438838162473, 0.0578759300060282, 1.7003569404406405, -1.4028867349611935, 1.1949729923286094, 0.4886643391689927, 0.7678609949790044, 0.5210773442624482, 0.7272128111041574, -0.22814194128253584, -0.5090269479618047, 1.6106483082112453, 1.086962629702942, -0.5238619095374597, -0.354538694927799, -0.8077704755166039, -0.3176963209647692, -0.5475204443614081, -0.6975158643125464, -0.5045701964035298, -0.7989060162181122, 0.42756191321316556, 0.06969393259882775, -0.106046160022364, 0.7198371214531073, -0.461358140727644, -0.48612353194335917, -0.9170603508775579, -0.10559189368911347, 2.1553915055015027, 0.34088685477914304, 1.022701826708063, 0.18228177066559603, -1.706383979007903, 1.0063624181722184, 0.13069082655545455, -1.648212919706709, 0.025152068471329957, -0.16971957873526533, -0.5913432596174062, 0.44168543715067815, 1.263248787015144, 1.6701015676681923, 0.06093256743684173, 1.4224574078022927, -0.40518861569367326, -0.5454158255344745, 0.6595590093424665, 0.892482673280302, -1.8561928765831726, -0.045447764728244536, 0.13689268374140315, -1.3897099069501713, 1.486901076923967, 0.020395298285855123, -0.23944517159032816, 1.0266559010580678, 0.1536446454315203, -1.0624896254356746, -1.2805861897371238, 1.406944936085073, -1.3133377533922928, 1.385586138911411, 0.12292806594741083, 0.6011956085811007, 0.4933130674934834, -0.677776608271759, 2.4118163317219654, -1.2552958232053304, 0.45131704573783965, 0.27694667377830506, -0.6377169552614552, -0.09126311657850497, -1.6930816295422062, -1.7324451987382572, -2.081600582498949, 0.7488582028651006, -0.2767560030898708, -1.6285474026390518, 2.4162764513614596, 0.11483057310071812, 0.5960245800347452, -1.0176331913655925, 0.9526792017970742, -1.7354708089013182, -1.7073600980381745, -0.9659436537019881, -0.7848824844071036, -0.2067689589958083, -0.8503750440398395, 0.14639507298177273, -0.7084945957091916, 1.1309976117851592, 1.7864988207995953, -0.11341150643503038, -0.5562548554064288, 2.3154014668134555, -2.2507620112172035, 0.7633048297935482, 0.400219105101222, 0.8321533939717395, 0.38384723393857356, 1.394318209822499, 0.6266962025221278, -1.0425200521584872, -0.827169181944695, 2.001028380230189, -0.5664763291820247, -2.273464271553396, 1.3233975635497426, 0.604955307918998, -0.3066434935062956, 0.09369748079443077, 0.9027913070448971, 0.24718712943138507, 0.2059341520453218, 0.39633639937381954, -1.1989564888115556, -0.9296182642412004, 1.6538038034894054, 1.4911040114162528, 0.5876093474218769, 0.26076184164740795, 1.2257961563105189, -0.86257601748098, 1.0129242476069078, -1.938904537641541, -0.3271551331467637, -0.14171398597843843, -0.2663717867297125, 1.3717102504166834, 1.418255311602419, 0.8462210494835063, 1.0496927528952222, -0.5683758727478483, -0.6845399903911047, -0.09032992161938352, 0.21511643854851045, 0.22041374635495053, -0.9152715814691472, -0.6542412746704197, 0.18024457493452384, -1.0723141260015645, -2.101257189788807, 0.7493557975492628, 0.11987941564535971, 0.14860657159770754, 0.5976340186011977, 0.5476851432905274, -0.7612876683300512, -1.1599494891218503, -0.7057785001132578, -1.1109497300945466, 0.7829865880013965, 1.6641380478426175, 0.3784155284745806, 0.2569477941133117, 1.1659608666674022, -1.7125440686533326, 0.8002451483669638, -1.0492377917247953, 0.6224658638599329, 0.7447310264548054, -1.404071938345622, 0.8257676508348105, 1.2652728315374822, 0.6653061335101094, 0.7550998229678324, -0.8085340087035321, 0.35231935611334125, 1.2267176669237592, 0.588487755570501, 2.073523787100513, 0.17722686129152918, -0.3209950253742527, -0.4115873725466483, -2.007968924337172, -1.0979617657584793, 0.05312583921513588, -0.33588394993290493, 0.9908792657117612, -0.9198277965094857, 0.2895692775973365, 0.18299715087246088, -1.2224155147304965, 0.5357892471754497, 0.5023321383527007, 0.7448106104702776, -2.434318284251191, 0.9545992291094568, 1.1377135713600395, 2.2422613898691397, 0.2794645762449036, 0.5883754428631554, -1.505505037759534, -1.5588874569642635, -1.1378519744421989, -0.5906198919157917, -0.5652388412442615, -1.5502280824872081, 0.4462320320234879, 0.886574121702394, -0.5052514561384098, 0.1630557585773423, -0.6251566001590962, 0.4172012089163615, 1.5650723499024046, 3.1510028632611746, -0.8294282159523589, -0.18827191386216394, 0.30118104183883415, 0.13314075633534353, -0.6163428906313669, 0.5467717681436842, -1.3394836204949692, -0.23278904586359672, -0.9315671792047798, -0.4959537689497852, 0.3318616776145875, 0.025110522650526806, 1.9181515787478833, -0.9009581585502271, 1.1259684375769314, -0.3746195956156099, -0.18459654990995153, 0.05329236208163859, 1.4876024795429894, 1.4222892731007675, 0.8576830963737989, -0.4899591145668491, 1.1984082006896595, 0.10957164585855207, 0.39060597871041614, 1.1945763520792743, 0.06246587280168204, 1.1346280051477817, -2.2145034785254682, 1.6270887007494002, -0.9352574283492855, -1.642484511614807, 0.6678182423026755, -0.2862314782668338, 1.8493718164329098, 0.9725148806602043, -2.6148787804465576, 0.22490259816305347, -0.3606419019974731, -1.1377699218225834, -0.4728402746187226, 0.05059996647499389, -0.4466751808893405, -0.9400731126148769, 0.09185606554872235, 0.10317352973297816, 0.26794637395532006, 2.059759854596986, -0.4192653460719656, 1.62018143194669, 0.5839008924698657, -1.2931770175264021, 0.20859990387725083, 0.3355876372829321, 1.4902965884800417, -0.6442326046888307, 1.8528031182414175, 0.11130845219890498, -0.18931543388986996, 0.023084113386401567, -0.462385624843926, 0.25672109213485705, -1.1720492771426365, -0.14631072754938487, 1.6346820885306252, 2.2152349915163483, 0.7016174189358786, -0.5523109934573043, 0.8639165633392512, -0.1637935300728029, 0.47718714783042715, -0.05921865204250967, 0.011906842039099433, 0.24167118486916636, 0.5765035904593343, -0.8142642878333869, -0.6297380725462234, -0.29721501560705893, 0.9132364367885667, -0.28837727784409123, -0.25264563131371626, -0.513250873511023, 1.5048108833035696, 1.0690266631072205, 1.1555221611211206, 0.5877313327913722, -0.4498986463424155, 0.5420423228700577, -0.7916580416891217, -1.5365440042632028, 2.27143504871205, 0.6861768776833306, 0.13536679209165725, -0.8990381133994442, -0.4752027681712476, 0.6508258219335861, -1.2119439530779046, -3.277593606493769, -0.21986533644912157, -1.8286972917084257, 1.7673038608003437, 1.584213116715571, 1.141904364257984, 0.13132597974089327, 1.144235390930188, -0.2800904835548788, -1.667008357773103, -1.0540541911049754, -0.8460017313034289, 0.6885607218157286, 1.0189126849197638, 0.19913930135197253, -0.48982419332907906, 1.3795092185155278, 1.5114949596764997, -2.020220664518552, 0.47363176642052146, -1.1971162686301675, 1.2613690098335935, 1.4131832285291313, -0.17462018189336742, 0.06110899289113316, -0.7322885963131898, 1.3241577641407745, -1.3278396323087758, 0.18767633605913714, -0.21088507112710764, -1.854345405831398, -0.2987291856170689, -0.951654220542229, -1.2311383629373849, -0.1955575362492144, -0.10700253529964805, -0.24421326061356338, -0.5321932441096391, -1.0484358978536128, -1.2829064147018259, 0.5447222123187089, -1.501899343994158, -0.032837231126148406, -1.6810618066440293, 0.7840924749074611, 0.8004221329439447, -1.6629413018007098, -1.9248020916702793, -1.6804363684600505, -0.10966410551978178, 1.5918236944162978, -0.3647849556774606, 1.582742301333476, -0.44284034047621873, -1.1272736206999237, -0.12321628769760809, -1.1284287826740387, -0.2743938764517846, 0.7070131156857671, -0.7746572946333894, 0.1063859933616895, 1.0296155739519204, 0.6208515504576364, 0.21271352474326335, -1.6180338527244122, -0.10710217383886841, -1.0347924020403851, -0.7384606019883219, 1.0344501149713496, 0.9258019660287439, 1.8482258192062042, 1.0674559370292547, 1.0040560348134635, 0.6519010403489072, -0.02129067620526301, -0.26550191266957224, 0.9430596180715426, 2.5188966348966515, 2.1139931720054426, -0.12636595369359654, 0.7709155803471721, 0.3576051338157947, 0.8950830306176643, -0.8441288253015902, -2.478348231379871, -2.063554122235218, -0.404074521950634, 1.0291496523666908, -0.9925453292867071, -0.06086264371548614, -0.01541866242929257, 1.0385173199066822, -0.7293858543065933, 0.7153762639212402, -0.2106341965236499, -0.16334436188050386, 0.7600358805942373, 1.5067317978563501, -0.7550525178650778, 0.3969407521284934, -0.09173019521674916, 0.4164185501655048, -1.1460021117623787, 1.0306401352659138, 0.518217517050582, -0.40711201418749376, -1.632111312329101, 0.49012516262723427, -0.9375903695764732, -1.4015501822442589, 0.8057119077478135, 0.05926667840229396, -1.458997199845955, 0.8533294402514794, 0.8311603967918076, 2.1156020256456647, 0.6345035530756924, -0.12648621822981893, 1.445244601428755, -1.398645221926003, -0.9343795549998574, 0.6279796667014269, 1.6706992950374793, -0.7941849036603352, 1.5757246511595864, 0.06043048065268089, -0.4649735731089774, -0.15870954466872833, -0.630980332682605, 1.4786658133869297, -1.945986277099471, 0.7455723845856297, 1.6563080944294921, 0.8744117533201652, -1.0810845896301393, -0.3891232298205958, 0.07398221785709365, -0.8618931744233339, -1.7890007102224614, -0.2717914685086179, 0.22188665542961383, 0.3808678209427906, -2.007021823307594, -0.39773159614896375, -0.007405363739468588, 1.1764923269868806, -0.4226710278785549, 1.0479693935502064, -1.1488189518122707, 0.7354983816721092, -1.5867714003164797, 1.2361253129728584, -0.8233776532608007, 0.45607744348159823, -1.0884222298445563, -0.029664402671478064, -0.39896727531636467, 0.2363328270582741, -1.0832914737900423, -0.8390065230210926, 0.9985630636432932, -1.1380028657265309, -0.14412026023363989, 0.3719601354667674, 0.5811279477770991, 0.12055045720229236, -1.8853868346688292, -1.5054377092385922, 0.36364832831642113, -0.3722118917797776, 3.1196843068793365, -1.340236849342384, -1.4682527491418031, -0.025228597617604306, -0.24668770569877177, 1.236869068315801, 1.2051017555392292, -1.108214527887618, 0.021748823655348002, -1.8868305887718027, -2.180888689611189, 0.7935347364714239, 0.15645474784987642, 0.7768725697204695, -0.4770698378124346, -1.679829507812134, -0.9709167436803634, 0.9325738434419405, -1.0061417511560957, -0.9525027501961741, 0.002087959100522711, -0.03425905186953184, 1.120905212076583, -0.18406049431593843, 1.5026259293728819, 0.4273421481050312, -2.3005233642706897, -1.448231474393238, -0.03176466693793606, -0.04768952863925005, 1.7661808875740275, 0.6217951418267862, -1.3922610295934157, 0.9376872810428907, 0.7919387138912208, -0.8635416146445745, -0.38361230842308325, 0.1856531461518462, 0.633980192258964, -0.038958532287748995, 0.4303199989157453, 0.5736402073024529, 1.0765705221647344, 2.2206410072921785, 0.9257002528502712, 0.7120064551378807, 1.2847623231139262, 1.0122131674708634, -0.4162325666989059, -1.4134124376004946, -0.7541315288880642, 0.4043959905961762, -0.1393439028521066, -0.33605655780812954, 0.19335446725388913, 0.14657430425149928, -1.2505218434949636, -0.08680530975731138, -0.4331786353577795, -0.6296178607007843, 1.38945443844071, 0.37944328529301535, 1.384629460490388, -0.16325021887931393, 1.5467742642954245, 0.26811665007831437, -0.9371132774573121, -0.5006116493544893, 0.870638684500648, -1.262849567538392, -0.7273147975719962, -2.1342804297847757, 0.270361541498783, 0.47098047570557244, -0.9740456832173134, 0.43743581115401853, 0.3527110555010418, -0.5755449356891182, -0.26181735662474265, -0.1222012153024344, -0.9095620547420523, 0.9274511034397035, 1.701882450477253, -0.09789529396899342, -1.7993596622067147, 0.5456885403853642, 0.3696781209511227, -1.1134515249317785, -0.2527094659686195, 0.37494189184256244, -0.28887483639188294, 0.3281078802832246, -0.12878506532688816, 0.36165646267957763, -2.3864691657271626, -0.738214286398885, 0.19952657559365125, 1.645198071339722, -0.6029962728482902, -0.7436985494066114, 0.7538263290058965, 1.0856602225443412, -1.6188100778289363, -0.16639939832975587, 1.0121554015161318, 0.3382675026183742, 2.2062495458582427, -0.10555215912006778, 0.6330981506576225, -2.376989028347079, 0.5235477709897847, 0.8405647495958544, -0.4782073411668501, -2.0948832174140217, 1.3706699813166419, 0.16600085684306054, -0.5452320087722281, 0.13874395246990268, -0.6304862281028631, -0.5065173127218036, -0.6553301758880077, -1.3779916368525642, 0.43038825349920573, 0.059321913469145116, -0.3663993390614059, -0.10902002077246309, 0.6159489393046141, -0.430371235457472, 0.6897856919833351, 0.2814405646524387, 1.5884232334712203, 1.0606565754943553, -1.6102279791230107, -0.4937777683411992, -0.1343080533007495, -2.0501866693903854, -0.86665275029374, -1.122067247641605, 1.8914733336890004, 1.1088927498434797, -0.3195187317225985, -0.12922963168964738, -0.07750335664208723, -0.7009390104088791, -0.40182888755934737, 0.688146045243552, 1.0227452153810899, 2.0460085978928366, 0.24177962499253078, -0.5649062621583163, 0.49350065224203493, -0.792989811516397, 1.0994010534608718, -0.23069251334965907, -0.7656954716716755, -0.30771050620739254, -0.5867080060607801, 1.3722099613740855, -0.6203928086926936, -0.11566209377929139, -1.226136652355026, -0.36191010517577027, -0.48540734352687837, -1.3410217727238336, -1.104987765462336, 2.248655350526535, -0.22745903832786443, -1.006487969195135, -1.8712748943248914, 1.5541491116187827, 0.06765435429511327, -0.26891394345582753, -1.0723179737057675, 0.01865317725041888, -0.04408661569635759, 0.9258929749494728, 1.6779845062184688, 0.35576194429027486, -0.3534729267312551, 0.17301017214965275, -0.011894926106304568, 0.8688384743955555, -0.6218688417892454, 0.13978341939150368, -1.1190244260944933, 2.828529509399494, 0.003233974490557302, -0.15981160754086737, 1.3818913373064399, -1.2477089833962045, 0.5754515495024021, -0.7424578694371169, 0.7716731302442491, -0.866566243175887, 2.3055530249990674, -0.8790894161355919, 1.2194652354254631, 0.9953121495861676, 2.285315275450742, -0.33574473311243186, -0.8368517193426788, -1.646548717685729, 0.17236421484503778, -1.3701994842740899, 0.039719515853223974, -0.44799052887105395, -0.9916999269005263, 0.6885781677745532, -0.5160502952992012, 0.2971037247915174, -1.3843505811003975, -1.1762104500462287, 0.5433475929052622, -1.2022210628488101, -0.8530490985675677, 0.8794676248145666, 0.12508203906401447, -1.424462870997711, -1.4098292787084845, -0.13210020702984873, -0.052093364989835376, 0.3609469306614376, 1.2628784743727155, 1.4953486321211102, 0.3491758017391201, 1.2648109739406639, 0.3177057954450554, 0.04790750521017633, 0.3231252409660308, -0.7416820656851165, -0.8660081296946386, -1.920806473732489, 0.05460437017296727, -2.469771172442429, -0.8963915560434148, -0.13129759311642333, -0.1494830823683591, -3.022242142421954, 0.6374053852676397, -1.5012984302836576, -1.8408826888814227, -0.02214602514717977, 1.639713022084108, 0.7877088888603346, -0.5445864351906965, 0.472823134727365, 0.032215026194996575, -0.669057031779028, 0.5245612981096384, 0.4928365480648021, -0.9348524718762953, 0.9565693099815371, 1.0733424275217187, 1.2200839079996895, 0.9260587491143141, 0.598390212807874, -0.23051021432500043, 0.9573867272376874, -0.9257258991368886, 1.0187541965996672, -0.7017004467878701, -1.0551475024236299, -0.7908871109110038, -1.1745934931435715, 0.028848546690557756, 0.6032085160182227, 0.6225351668237954, -2.1605655172260048, -0.923415975043481, -0.24956613553238327, -0.7588639457479909, 0.8239869022479904, 1.1333405489068684, 1.304077028885044, 0.33933079714786796, 1.3402475485764525, 2.382212392517578, 1.2052309596371589, 0.37781726071450056, -1.4150773117927846, -0.9503616792498021, -1.5864122377096315, 1.254429955578891, -0.7233570035645431, -0.06572193951187533, 0.32127074475222916, -0.12077509281867332, 1.862184562066723, 0.5363562886354113, -1.3049687562729884, -1.0293887598370899, -0.8588335007283389, -0.675497306757573, 0.034882450261817105, 0.831790086432577, -0.28577690956526386, -1.184813307087136, -0.9973847522171629, 0.41753542128993043, 0.8007540718064243, 0.3024294374556022, -0.043230589468908905, 0.010859697593625272, -0.6061195917496286, 0.5347520688802404, 0.13211704795604526, -0.2486450997405612, -0.9142910265856874, -0.2587919774963818, 0.7503270059677262, 0.2557178769631545, 1.3292692847446541, -1.2461561573065942, -0.6825414394348924, 0.7387881827423458, -1.0162815070215232, -1.3275057162542052, 0.2510657006860936, 0.23739107793188308, 0.23699047096320994, 0.8911009223646619, -1.1176334548316953, 1.8739828883269007, -2.227310227982806, 0.42632489988469446, 0.6985038566100313, 1.2591473765958705, 1.573050293791076, -0.5226768826885417, -1.2512443804926832, -1.1857665413141019, 1.5774811718453123, -0.025688427078003773, 1.06053729119183, 0.14729472709440733, 1.7010573210905011, 0.8312359015386738, 0.06610362237608923, -0.7091494674496215, -0.8916890132695743, -0.5264520680001823, 0.4230661630574716, 1.1498758833349756, -0.015156238603356693, 0.1954414975709109, 0.3518636561749599, -0.1489488077548939, 0.7085570326134496, 0.6125203537292363, -0.955426508228712, 1.4967663525721724, 0.7909357792620733, -0.9157481327537702, -0.04996243607516412, 0.3122322181704861, -1.0190483546146853, 2.081085901663392, 1.1136655089492602, -0.9237961955877942, 1.9978931602079082, 1.480697026601623, -0.4047961070071504, -1.0640531021610957, 1.7623001049026255, 0.6391425642782858, -0.836532346580025, 0.018904189007827497, 0.15643491155633515, -0.1364680663465559, 0.17945101788937778, 1.7067060446705327, 1.5429214364859674, -0.08506561863058772, 0.3870678044188783, -0.4791979817033495, 0.025208984986746442, -1.094491471844544, -0.16268773132229042, 1.094159409104717, -0.5647728604707981, 0.49687792576105905, -2.35396393673467, 0.5349555030852979, -1.1116271749813482, -1.7217453112701044, 0.4471776607653655, 0.032719888955707564, 0.5771059621092092, -0.1806643863870049, -0.872071813418582, 0.012592514149980343, 0.5979921744348559, -0.2821149664023845, -0.8132057682015142, -1.5308656915895735, -1.2119147412937084, -0.16738317298323382, -0.48413551107850067, 0.11848219796247476, 1.4419176211313696, -0.23540497273086944, -0.5443095457458202, 1.383525007880935, 0.1141697189812168, -1.1772520765161267, 0.42960197686229146, 0.23948924189454743, -0.7682971405028447, 1.3359679853182755, -0.7585068941600035, 2.839127561623703, -2.55035452093251, -0.3534700866181204, 0.8882009788719344, 0.19371647560006902, 1.5523999465036382, 0.4010505985764732, 1.7103004028609479, 0.47254836384583093, -0.9394343057564589, -0.6762833715831297, 1.5349185210316212, -1.5298750488807178, -2.2168508226930097, 0.8299825903220212, 0.709166969549302, -1.903483098054355, 1.5578787494976996, 0.01637249899932724, -1.7661174593512445, -2.7247714725913097, -1.4079921742645636, 0.5969565994421522, 0.7849289888660553, -0.6513644859290921, 0.5844599394508674, -0.8167633160259927, 0.5453552008125597, 0.3329253354954018, -1.6340976162330287, 0.05825045643008534, -1.3791900778718034, 0.7983473812492639, 1.2544771627801936, 1.5317609786905615, -0.3550038527361417, 0.299953165965337, -0.5831746566357914, -0.3025040764963123, 1.8568716767215656, 1.0322549868071618, 0.3666578383115322, -0.7557864224142029, 0.592984324436755, 0.6146241775662228, 0.6760347326939029, 0.5560436827821836, -0.17477920681199516, 0.27186879177927453, -1.5833789482534313, 1.3801244659403689, 0.2816706387339554, -1.6637044734203563, 0.6328082090726774, -0.8514721184525105, -0.18138226005741218, 0.1493301789273183, -1.3898809762307998, -0.37732912721716855, -1.0443788323132122, -0.04238867328377008, -0.22625090662606645, 0.5623408929517628, 0.3746418364483989, 0.47095729912869155, -1.6174954631006644, 0.8745873964126192, 0.1548640380619446, 0.055748101244250725, 0.028717840974936897, 1.1603041633235514, 0.1687444747679147, -0.17742861601691512, -1.311511642477085, -0.5775926686359835, 1.3500784839487872, -0.6347562449609875, 0.2595296106190193, 0.6339953024045224, 1.0392671876282304, 0.19197808978727815, 1.6186663934110004, 0.17243863623762148, 1.2506418949251445, -0.8809191314001203, -2.310939986328073, 0.6454031950394943, -0.2426301849890038, -1.42263912542941, -0.09998723831932572, -1.1458269261653584, 0.20583161454800894, -1.1386665239940388, 1.061759557141142, 0.8503153405025289, 0.3289727136818639, 0.5633677712703518, -0.7309497971852628, 0.6632055192520351, 0.8915133085679131, -1.914584506832852, 0.1724507922399114, 2.01701219669242, -0.21926664118880157, -0.42387713365773944, 1.3163935471596122, -0.5763613884459345, -0.07430707162032954, 0.9869879020131431, 0.9853752071425529, -0.05423242028265195, 0.3921914365636878, 1.1626555330271198, 0.36628573655798763, 0.4907530516005892, -0.5779877918553963, 0.41662358156037654, 0.32900652402368824, 1.2842346926421808, 0.15619293240003188, 1.353905474800721, 0.737521294133385, -0.4738036426412704, 1.072373482531858, -0.0918514618918679, 0.7991019145799007, 0.6161025877680797, 0.025723630806713627, -1.2884839787026687, -1.30210636050311, -2.3533276362341344, 0.10140388403062009, -0.7859781708503102, -0.5336919938723288, -1.281105654680211, -0.2037698156022273, 0.4824457402558615, 1.4743969857920842, 0.2430054829861708, -2.6000706877883855, -1.0359499567264565, 0.7315787884993749, 0.9657695652972521, -0.19520884337675867, 0.43385220691245746, 0.044528535178169217, 0.24584002571625468, -1.2238768674776077, 0.7960713740003809, -0.004916494466531433, -0.12289798438105355, -0.22627538500677705, 0.19709514810247086, 0.04867984924813468, -0.19660636831186218, 0.513327184287454, 2.8684644250112243, 0.9237277501757878, 1.4684688794750245, -1.64324103970809, -0.6157734143029445, 0.22368433017931777, 0.3211833791488098, -0.10658398731320358, -0.6776911266809145, 0.9936795231248249, 0.17957635099900593, 0.5672163151008857, -0.5557299687555816, -0.9851345344338884, -0.8694016590919573, 0.83235014451924, -0.24376773001920374, 0.30922422051932896, -0.25953623911906626, 1.9946324272366254, -0.10374336568577179, -0.4384687261158099, -1.9145707676261838, -0.7868121835663268, -0.8316617155480148, -0.24615707898282965, 1.8421267867160365, -2.101893605158399, -0.16480438323486402, -0.8453428892694714, 0.22182890976909742, 1.4502732113820012, 0.5677465173091825, -0.07206892544978531, 1.4931543371791405, 1.3723149949933184, 2.3060326816658603, 0.06981833487984225, -0.3425952252686697, 0.2619009671331005, 0.021098361676525772, 1.1932386947406421, -2.8354263798047006, 0.5158254851622486, -1.2633227355953762, -0.7237673099320381, 1.0606524389609304, 1.4169173009140439, 0.31071966794268235, -1.3171662000236286, -1.052525601047927, -0.7629727216608729, 0.6429757271863241, 0.16469432000997233, 1.3254701583376143, -0.03313494668217635, -0.5522904714954998, -0.4413662353623968, -0.603870863681356, 0.898908547869224, 0.5289845605264328, 0.06928612578575112, 0.84183609972941, -0.026620889440017406, 1.7616530850532037, 1.966904666784746, -2.0692762944478584, 1.359098618015375, -0.03798467758832549, 0.8924510979365239, 0.4647769774946692, 0.8754493219865209, 1.2387472859913837, 0.1841563489493188, 0.8706099731186736, -0.997278484862876, -0.7077876374908331, -0.0767213127722965, 1.200089540911576, -0.15325063460599142, 0.28105376593540393]}],                        {\"template\": {\"data\": {\"bar\": [{\"error_x\": {\"color\": \"#2a3f5f\"}, \"error_y\": {\"color\": \"#2a3f5f\"}, \"marker\": {\"line\": {\"color\": \"#E5ECF6\", \"width\": 0.5}}, \"type\": \"bar\"}], \"barpolar\": [{\"marker\": {\"line\": {\"color\": \"#E5ECF6\", \"width\": 0.5}}, \"type\": \"barpolar\"}], \"carpet\": [{\"aaxis\": {\"endlinecolor\": \"#2a3f5f\", \"gridcolor\": \"white\", \"linecolor\": \"white\", \"minorgridcolor\": \"white\", \"startlinecolor\": \"#2a3f5f\"}, \"baxis\": {\"endlinecolor\": \"#2a3f5f\", \"gridcolor\": \"white\", \"linecolor\": \"white\", \"minorgridcolor\": \"white\", \"startlinecolor\": \"#2a3f5f\"}, \"type\": \"carpet\"}], \"choropleth\": [{\"colorbar\": {\"outlinewidth\": 0, \"ticks\": \"\"}, \"type\": \"choropleth\"}], \"contour\": [{\"colorbar\": {\"outlinewidth\": 0, \"ticks\": \"\"}, \"colorscale\": [[0.0, \"#0d0887\"], [0.1111111111111111, \"#46039f\"], [0.2222222222222222, \"#7201a8\"], [0.3333333333333333, \"#9c179e\"], [0.4444444444444444, \"#bd3786\"], [0.5555555555555556, \"#d8576b\"], [0.6666666666666666, \"#ed7953\"], [0.7777777777777778, \"#fb9f3a\"], [0.8888888888888888, \"#fdca26\"], [1.0, \"#f0f921\"]], \"type\": \"contour\"}], \"contourcarpet\": [{\"colorbar\": {\"outlinewidth\": 0, \"ticks\": \"\"}, \"type\": \"contourcarpet\"}], \"heatmap\": [{\"colorbar\": {\"outlinewidth\": 0, \"ticks\": \"\"}, \"colorscale\": [[0.0, \"#0d0887\"], [0.1111111111111111, \"#46039f\"], [0.2222222222222222, \"#7201a8\"], [0.3333333333333333, \"#9c179e\"], [0.4444444444444444, \"#bd3786\"], [0.5555555555555556, \"#d8576b\"], [0.6666666666666666, \"#ed7953\"], [0.7777777777777778, \"#fb9f3a\"], [0.8888888888888888, \"#fdca26\"], [1.0, \"#f0f921\"]], \"type\": \"heatmap\"}], \"heatmapgl\": [{\"colorbar\": {\"outlinewidth\": 0, \"ticks\": \"\"}, \"colorscale\": [[0.0, \"#0d0887\"], [0.1111111111111111, \"#46039f\"], [0.2222222222222222, \"#7201a8\"], [0.3333333333333333, \"#9c179e\"], [0.4444444444444444, \"#bd3786\"], [0.5555555555555556, \"#d8576b\"], [0.6666666666666666, \"#ed7953\"], [0.7777777777777778, \"#fb9f3a\"], [0.8888888888888888, \"#fdca26\"], [1.0, \"#f0f921\"]], \"type\": \"heatmapgl\"}], \"histogram\": [{\"marker\": {\"colorbar\": {\"outlinewidth\": 0, \"ticks\": \"\"}}, \"type\": \"histogram\"}], \"histogram2d\": [{\"colorbar\": {\"outlinewidth\": 0, \"ticks\": \"\"}, \"colorscale\": [[0.0, \"#0d0887\"], [0.1111111111111111, \"#46039f\"], [0.2222222222222222, \"#7201a8\"], [0.3333333333333333, \"#9c179e\"], [0.4444444444444444, \"#bd3786\"], [0.5555555555555556, \"#d8576b\"], [0.6666666666666666, \"#ed7953\"], [0.7777777777777778, \"#fb9f3a\"], [0.8888888888888888, \"#fdca26\"], [1.0, \"#f0f921\"]], \"type\": \"histogram2d\"}], \"histogram2dcontour\": [{\"colorbar\": {\"outlinewidth\": 0, \"ticks\": \"\"}, \"colorscale\": [[0.0, \"#0d0887\"], [0.1111111111111111, \"#46039f\"], [0.2222222222222222, \"#7201a8\"], [0.3333333333333333, \"#9c179e\"], [0.4444444444444444, \"#bd3786\"], [0.5555555555555556, \"#d8576b\"], [0.6666666666666666, \"#ed7953\"], [0.7777777777777778, \"#fb9f3a\"], [0.8888888888888888, \"#fdca26\"], [1.0, \"#f0f921\"]], \"type\": \"histogram2dcontour\"}], \"mesh3d\": [{\"colorbar\": {\"outlinewidth\": 0, \"ticks\": \"\"}, \"type\": \"mesh3d\"}], \"parcoords\": [{\"line\": {\"colorbar\": {\"outlinewidth\": 0, \"ticks\": \"\"}}, \"type\": \"parcoords\"}], \"pie\": [{\"automargin\": true, \"type\": \"pie\"}], \"scatter\": [{\"marker\": {\"colorbar\": {\"outlinewidth\": 0, \"ticks\": \"\"}}, \"type\": \"scatter\"}], \"scatter3d\": [{\"line\": {\"colorbar\": {\"outlinewidth\": 0, \"ticks\": \"\"}}, \"marker\": {\"colorbar\": {\"outlinewidth\": 0, \"ticks\": \"\"}}, \"type\": \"scatter3d\"}], \"scattercarpet\": [{\"marker\": {\"colorbar\": {\"outlinewidth\": 0, \"ticks\": \"\"}}, \"type\": \"scattercarpet\"}], \"scattergeo\": [{\"marker\": {\"colorbar\": {\"outlinewidth\": 0, \"ticks\": \"\"}}, \"type\": \"scattergeo\"}], \"scattergl\": [{\"marker\": {\"colorbar\": {\"outlinewidth\": 0, \"ticks\": \"\"}}, \"type\": \"scattergl\"}], \"scattermapbox\": [{\"marker\": {\"colorbar\": {\"outlinewidth\": 0, \"ticks\": \"\"}}, \"type\": \"scattermapbox\"}], \"scatterpolar\": [{\"marker\": {\"colorbar\": {\"outlinewidth\": 0, \"ticks\": \"\"}}, \"type\": \"scatterpolar\"}], \"scatterpolargl\": [{\"marker\": {\"colorbar\": {\"outlinewidth\": 0, \"ticks\": \"\"}}, \"type\": \"scatterpolargl\"}], \"scatterternary\": [{\"marker\": {\"colorbar\": {\"outlinewidth\": 0, \"ticks\": \"\"}}, \"type\": \"scatterternary\"}], \"surface\": [{\"colorbar\": {\"outlinewidth\": 0, \"ticks\": \"\"}, \"colorscale\": [[0.0, \"#0d0887\"], [0.1111111111111111, \"#46039f\"], [0.2222222222222222, \"#7201a8\"], [0.3333333333333333, \"#9c179e\"], [0.4444444444444444, \"#bd3786\"], [0.5555555555555556, \"#d8576b\"], [0.6666666666666666, \"#ed7953\"], [0.7777777777777778, \"#fb9f3a\"], [0.8888888888888888, \"#fdca26\"], [1.0, \"#f0f921\"]], \"type\": \"surface\"}], \"table\": [{\"cells\": {\"fill\": {\"color\": \"#EBF0F8\"}, \"line\": {\"color\": \"white\"}}, \"header\": {\"fill\": {\"color\": \"#C8D4E3\"}, \"line\": {\"color\": \"white\"}}, \"type\": \"table\"}]}, \"layout\": {\"annotationdefaults\": {\"arrowcolor\": \"#2a3f5f\", \"arrowhead\": 0, \"arrowwidth\": 1}, \"autotypenumbers\": \"strict\", \"coloraxis\": {\"colorbar\": {\"outlinewidth\": 0, \"ticks\": \"\"}}, \"colorscale\": {\"diverging\": [[0, \"#8e0152\"], [0.1, \"#c51b7d\"], [0.2, \"#de77ae\"], [0.3, \"#f1b6da\"], [0.4, \"#fde0ef\"], [0.5, \"#f7f7f7\"], [0.6, \"#e6f5d0\"], [0.7, \"#b8e186\"], [0.8, \"#7fbc41\"], [0.9, \"#4d9221\"], [1, \"#276419\"]], \"sequential\": [[0.0, \"#0d0887\"], [0.1111111111111111, \"#46039f\"], [0.2222222222222222, \"#7201a8\"], [0.3333333333333333, \"#9c179e\"], [0.4444444444444444, \"#bd3786\"], [0.5555555555555556, \"#d8576b\"], [0.6666666666666666, \"#ed7953\"], [0.7777777777777778, \"#fb9f3a\"], [0.8888888888888888, \"#fdca26\"], [1.0, \"#f0f921\"]], \"sequentialminus\": [[0.0, \"#0d0887\"], [0.1111111111111111, \"#46039f\"], [0.2222222222222222, \"#7201a8\"], [0.3333333333333333, \"#9c179e\"], [0.4444444444444444, \"#bd3786\"], [0.5555555555555556, \"#d8576b\"], [0.6666666666666666, \"#ed7953\"], [0.7777777777777778, \"#fb9f3a\"], [0.8888888888888888, \"#fdca26\"], [1.0, \"#f0f921\"]]}, \"colorway\": [\"#636efa\", \"#EF553B\", \"#00cc96\", \"#ab63fa\", \"#FFA15A\", \"#19d3f3\", \"#FF6692\", \"#B6E880\", \"#FF97FF\", \"#FECB52\"], \"font\": {\"color\": \"#2a3f5f\"}, \"geo\": {\"bgcolor\": \"white\", \"lakecolor\": \"white\", \"landcolor\": \"#E5ECF6\", \"showlakes\": true, \"showland\": true, \"subunitcolor\": \"white\"}, \"hoverlabel\": {\"align\": \"left\"}, \"hovermode\": \"closest\", \"mapbox\": {\"style\": \"light\"}, \"paper_bgcolor\": \"white\", \"plot_bgcolor\": \"#E5ECF6\", \"polar\": {\"angularaxis\": {\"gridcolor\": \"white\", \"linecolor\": \"white\", \"ticks\": \"\"}, \"bgcolor\": \"#E5ECF6\", \"radialaxis\": {\"gridcolor\": \"white\", \"linecolor\": \"white\", \"ticks\": \"\"}}, \"scene\": {\"xaxis\": {\"backgroundcolor\": \"#E5ECF6\", \"gridcolor\": \"white\", \"gridwidth\": 2, \"linecolor\": \"white\", \"showbackground\": true, \"ticks\": \"\", \"zerolinecolor\": \"white\"}, \"yaxis\": {\"backgroundcolor\": \"#E5ECF6\", \"gridcolor\": \"white\", \"gridwidth\": 2, \"linecolor\": \"white\", \"showbackground\": true, \"ticks\": \"\", \"zerolinecolor\": \"white\"}, \"zaxis\": {\"backgroundcolor\": \"#E5ECF6\", \"gridcolor\": \"white\", \"gridwidth\": 2, \"linecolor\": \"white\", \"showbackground\": true, \"ticks\": \"\", \"zerolinecolor\": \"white\"}}, \"shapedefaults\": {\"line\": {\"color\": \"#2a3f5f\"}}, \"ternary\": {\"aaxis\": {\"gridcolor\": \"white\", \"linecolor\": \"white\", \"ticks\": \"\"}, \"baxis\": {\"gridcolor\": \"white\", \"linecolor\": \"white\", \"ticks\": \"\"}, \"bgcolor\": \"#E5ECF6\", \"caxis\": {\"gridcolor\": \"white\", \"linecolor\": \"white\", \"ticks\": \"\"}}, \"title\": {\"x\": 0.05}, \"xaxis\": {\"automargin\": true, \"gridcolor\": \"white\", \"linecolor\": \"white\", \"ticks\": \"\", \"title\": {\"standoff\": 15}, \"zerolinecolor\": \"white\", \"zerolinewidth\": 2}, \"yaxis\": {\"automargin\": true, \"gridcolor\": \"white\", \"linecolor\": \"white\", \"ticks\": \"\", \"title\": {\"standoff\": 15}, \"zerolinecolor\": \"white\", \"zerolinewidth\": 2}}}},                        {\"responsive\": true}                    ).then(function(){\n                            \nvar gd = document.getElementById('0abcbb34-7c6f-4b8a-985e-7a38a8199325');\nvar x = new MutationObserver(function (mutations, observer) {{\n        var display = window.getComputedStyle(gd).display;\n        if (!display || display === 'none') {{\n            console.log([gd, 'removed!']);\n            Plotly.purge(gd);\n            observer.disconnect();\n        }}\n}});\n\n// Listen for the removal of the full notebook cells\nvar notebookContainer = gd.closest('#notebook-container');\nif (notebookContainer) {{\n    x.observe(notebookContainer, {childList: true});\n}}\n\n// Listen for the clearing of the current output cell\nvar outputEl = gd.closest('.output');\nif (outputEl) {{\n    x.observe(outputEl, {childList: true});\n}}\n\n                        })                };                });            </script>        </div>"
     },
     "metadata": {}
    }
   ],
   "source": [
    "x = np.random.randn(2000)\n",
    "y = np.random.randn(2000)\n",
    "iplot([Histogram2dContour(x=x, y=y, contours=Contours(coloring='heatmap')),\n",
    "       Scatter(x=x, y=y, mode='markers', marker=Marker(color='white', size=3, opacity=0.3))], show_link=False)"
   ]
  },
  {
   "cell_type": "code",
   "execution_count": 13,
   "metadata": {},
   "outputs": [
    {
     "output_type": "display_data",
     "data": {
      "application/vnd.plotly.v1+json": {
       "config": {
        "linkText": "Export to plot.ly",
        "plotlyServerURL": "https://plot.ly",
        "showLink": false
       },
       "data": [
        {
         "lat": [
          32.89595056,
          35.04022222
         ],
         "line": {
          "color": "red",
          "width": 1
         },
         "locationmode": "USA-states",
         "lon": [
          -97.0372,
          -106.6091944
         ],
         "mode": "lines",
         "opacity": 0.48577680525164113,
         "type": "scattergeo"
        },
        {
         "lat": [
          41.979595,
          30.19453278
         ],
         "line": {
          "color": "red",
          "width": 1
         },
         "locationmode": "USA-states",
         "lon": [
          -87.90446417,
          -97.66987194
         ],
         "mode": "lines",
         "opacity": 0.18161925601750548,
         "type": "scattergeo"
        },
        {
         "lat": [
          32.89595056,
          41.93887417
         ],
         "line": {
          "color": "red",
          "width": 1
         },
         "locationmode": "USA-states",
         "lon": [
          -97.0372,
          -72.68322833
         ],
         "mode": "lines",
         "opacity": 0.1772428884026258,
         "type": "scattergeo"
        },
        {
         "lat": [
          18.43941667,
          41.93887417
         ],
         "line": {
          "color": "red",
          "width": 1
         },
         "locationmode": "USA-states",
         "lon": [
          -66.00183333,
          -72.68322833
         ],
         "mode": "lines",
         "opacity": 0.061269146608315096,
         "type": "scattergeo"
        },
        {
         "lat": [
          32.89595056,
          33.56294306
         ],
         "line": {
          "color": "red",
          "width": 1
         },
         "locationmode": "USA-states",
         "lon": [
          -97.0372,
          -86.75354972
         ],
         "mode": "lines",
         "opacity": 0.1838074398249453,
         "type": "scattergeo"
        },
        {
         "lat": [
          25.79325,
          36.12447667
         ],
         "line": {
          "color": "red",
          "width": 1
         },
         "locationmode": "USA-states",
         "lon": [
          -80.29055556,
          -86.67818222
         ],
         "mode": "lines",
         "opacity": 0.061269146608315096,
         "type": "scattergeo"
        },
        {
         "lat": [
          32.89595056,
          42.3643475
         ],
         "line": {
          "color": "red",
          "width": 1
         },
         "locationmode": "USA-states",
         "lon": [
          -97.0372,
          -71.00517917
         ],
         "mode": "lines",
         "opacity": 0.4617067833698031,
         "type": "scattergeo"
        },
        {
         "lat": [
          25.79325,
          42.3643475
         ],
         "line": {
          "color": "red",
          "width": 1
         },
         "locationmode": "USA-states",
         "lon": [
          -80.29055556,
          -71.00517917
         ],
         "mode": "lines",
         "opacity": 0.4288840262582057,
         "type": "scattergeo"
        },
        {
         "lat": [
          41.979595,
          42.3643475
         ],
         "line": {
          "color": "red",
          "width": 1
         },
         "locationmode": "USA-states",
         "lon": [
          -87.90446417,
          -71.00517917
         ],
         "mode": "lines",
         "opacity": 0.47045951859956237,
         "type": "scattergeo"
        },
        {
         "lat": [
          18.43941667,
          42.3643475
         ],
         "line": {
          "color": "red",
          "width": 1
         },
         "locationmode": "USA-states",
         "lon": [
          -66.00183333,
          -71.00517917
         ],
         "mode": "lines",
         "opacity": 0.061269146608315096,
         "type": "scattergeo"
        },
        {
         "lat": [
          18.33730556,
          42.3643475
         ],
         "line": {
          "color": "red",
          "width": 1
         },
         "locationmode": "USA-states",
         "lon": [
          -64.97336111,
          -71.00517917
         ],
         "mode": "lines",
         "opacity": 0.04814004376367615,
         "type": "scattergeo"
        },
        {
         "lat": [
          25.79325,
          39.17540167
         ],
         "line": {
          "color": "red",
          "width": 1
         },
         "locationmode": "USA-states",
         "lon": [
          -80.29055556,
          -76.66819833
         ],
         "mode": "lines",
         "opacity": 0.12253829321663019,
         "type": "scattergeo"
        },
        {
         "lat": [
          18.43941667,
          39.17540167
         ],
         "line": {
          "color": "red",
          "width": 1
         },
         "locationmode": "USA-states",
         "lon": [
          -66.00183333,
          -76.66819833
         ],
         "mode": "lines",
         "opacity": 0.061269146608315096,
         "type": "scattergeo"
        },
        {
         "lat": [
          32.89595056,
          35.21401111
         ],
         "line": {
          "color": "red",
          "width": 1
         },
         "locationmode": "USA-states",
         "lon": [
          -97.0372,
          -80.94312583
         ],
         "mode": "lines",
         "opacity": 0.3938730853391685,
         "type": "scattergeo"
        },
        {
         "lat": [
          32.89595056,
          38.80580556
         ],
         "line": {
          "color": "red",
          "width": 1
         },
         "locationmode": "USA-states",
         "lon": [
          -97.0372,
          -104.70025
         ],
         "mode": "lines",
         "opacity": 0.3041575492341357,
         "type": "scattergeo"
        },
        {
         "lat": [
          32.89595056,
          39.90237583
         ],
         "line": {
          "color": "red",
          "width": 1
         },
         "locationmode": "USA-states",
         "lon": [
          -97.0372,
          -84.219375
         ],
         "mode": "lines",
         "opacity": 0.1137855579868709,
         "type": "scattergeo"
        },
        {
         "lat": [
          32.89595056,
          38.85208333
         ],
         "line": {
          "color": "red",
          "width": 1
         },
         "locationmode": "USA-states",
         "lon": [
          -97.0372,
          -77.03772222
         ],
         "mode": "lines",
         "opacity": 0.6433260393873085,
         "type": "scattergeo"
        },
        {
         "lat": [
          25.79325,
          39.85840806
         ],
         "line": {
          "color": "red",
          "width": 1
         },
         "locationmode": "USA-states",
         "lon": [
          -80.29055556,
          -104.6670019
         ],
         "mode": "lines",
         "opacity": 0.12253829321663019,
         "type": "scattergeo"
        },
        {
         "lat": [
          41.979595,
          39.85840806
         ],
         "line": {
          "color": "red",
          "width": 1
         },
         "locationmode": "USA-states",
         "lon": [
          -87.90446417,
          -104.6670019
         ],
         "mode": "lines",
         "opacity": 0.12253829321663019,
         "type": "scattergeo"
        },
        {
         "lat": [
          33.64044444,
          32.89595056
         ],
         "line": {
          "color": "red",
          "width": 1
         },
         "locationmode": "USA-states",
         "lon": [
          -84.42694444,
          -97.0372
         ],
         "mode": "lines",
         "opacity": 0.6345733041575492,
         "type": "scattergeo"
        },
        {
         "lat": [
          30.19453278,
          32.89595056
         ],
         "line": {
          "color": "red",
          "width": 1
         },
         "locationmode": "USA-states",
         "lon": [
          -97.66987194,
          -97.0372
         ],
         "mode": "lines",
         "opacity": 0.8971553610503282,
         "type": "scattergeo"
        },
        {
         "lat": [
          36.12447667,
          32.89595056
         ],
         "line": {
          "color": "red",
          "width": 1
         },
         "locationmode": "USA-states",
         "lon": [
          -86.67818222,
          -97.0372
         ],
         "mode": "lines",
         "opacity": 0.47702407002188185,
         "type": "scattergeo"
        },
        {
         "lat": [
          34.20061917,
          32.89595056
         ],
         "line": {
          "color": "red",
          "width": 1
         },
         "locationmode": "USA-states",
         "lon": [
          -118.3584969,
          -97.0372
         ],
         "mode": "lines",
         "opacity": 0.2275711159737418,
         "type": "scattergeo"
        },
        {
         "lat": [
          39.17540167,
          32.89595056
         ],
         "line": {
          "color": "red",
          "width": 1
         },
         "locationmode": "USA-states",
         "lon": [
          -76.66819833,
          -97.0372
         ],
         "mode": "lines",
         "opacity": 0.35667396061269147,
         "type": "scattergeo"
        },
        {
         "lat": [
          39.99798528,
          32.89595056
         ],
         "line": {
          "color": "red",
          "width": 1
         },
         "locationmode": "USA-states",
         "lon": [
          -82.89188278,
          -97.0372
         ],
         "mode": "lines",
         "opacity": 0.1137855579868709,
         "type": "scattergeo"
        },
        {
         "lat": [
          39.85840806,
          32.89595056
         ],
         "line": {
          "color": "red",
          "width": 1
         },
         "locationmode": "USA-states",
         "lon": [
          -104.6670019,
          -97.0372
         ],
         "mode": "lines",
         "opacity": 0.6105032822757112,
         "type": "scattergeo"
        },
        {
         "lat": [
          42.21205889,
          32.89595056
         ],
         "line": {
          "color": "red",
          "width": 1
         },
         "locationmode": "USA-states",
         "lon": [
          -83.34883583,
          -97.0372
         ],
         "mode": "lines",
         "opacity": 0.2844638949671772,
         "type": "scattergeo"
        },
        {
         "lat": [
          39.64256778,
          32.89595056
         ],
         "line": {
          "color": "red",
          "width": 1
         },
         "locationmode": "USA-states",
         "lon": [
          -106.91769529999999,
          -97.0372
         ],
         "mode": "lines",
         "opacity": 0.1487964989059081,
         "type": "scattergeo"
        },
        {
         "lat": [
          40.69249722,
          32.89595056
         ],
         "line": {
          "color": "red",
          "width": 1
         },
         "locationmode": "USA-states",
         "lon": [
          -74.16866056,
          -97.0372
         ],
         "mode": "lines",
         "opacity": 0.33916849015317285,
         "type": "scattergeo"
        },
        {
         "lat": [
          36.77619444,
          32.89595056
         ],
         "line": {
          "color": "red",
          "width": 1
         },
         "locationmode": "USA-states",
         "lon": [
          -119.7181389,
          -97.0372
         ],
         "mode": "lines",
         "opacity": 0.12253829321663019,
         "type": "scattergeo"
        },
        {
         "lat": [
          26.07258333,
          32.89595056
         ],
         "line": {
          "color": "red",
          "width": 1
         },
         "locationmode": "USA-states",
         "lon": [
          -80.15275,
          -97.0372
         ],
         "mode": "lines",
         "opacity": 0.3676148796498906,
         "type": "scattergeo"
        },
        {
         "lat": [
          34.6404475,
          32.89595056
         ],
         "line": {
          "color": "red",
          "width": 1
         },
         "locationmode": "USA-states",
         "lon": [
          -86.77310944,
          -97.0372
         ],
         "mode": "lines",
         "opacity": 0.17286652078774617,
         "type": "scattergeo"
        },
        {
         "lat": [
          29.98047222,
          32.89595056
         ],
         "line": {
          "color": "red",
          "width": 1
         },
         "locationmode": "USA-states",
         "lon": [
          -95.33972222,
          -97.0372
         ],
         "mode": "lines",
         "opacity": 0.3544857768052516,
         "type": "scattergeo"
        },
        {
         "lat": [
          33.94253611,
          32.89595056
         ],
         "line": {
          "color": "red",
          "width": 1
         },
         "locationmode": "USA-states",
         "lon": [
          -118.40807439999999,
          -97.0372
         ],
         "mode": "lines",
         "opacity": 1,
         "type": "scattergeo"
        },
        {
         "lat": [
          39.29760528,
          32.89595056
         ],
         "line": {
          "color": "red",
          "width": 1
         },
         "locationmode": "USA-states",
         "lon": [
          -94.71390556,
          -97.0372
         ],
         "mode": "lines",
         "opacity": 0.47702407002188185,
         "type": "scattergeo"
        },
        {
         "lat": [
          28.42888889,
          32.89595056
         ],
         "line": {
          "color": "red",
          "width": 1
         },
         "locationmode": "USA-states",
         "lon": [
          -81.31602778,
          -97.0372
         ],
         "mode": "lines",
         "opacity": 0.5470459518599562,
         "type": "scattergeo"
        },
        {
         "lat": [
          35.04241667,
          32.89595056
         ],
         "line": {
          "color": "red",
          "width": 1
         },
         "locationmode": "USA-states",
         "lon": [
          -89.97666667,
          -97.0372
         ],
         "mode": "lines",
         "opacity": 0.23413566739606126,
         "type": "scattergeo"
        },
        {
         "lat": [
          26.17583333,
          32.89595056
         ],
         "line": {
          "color": "red",
          "width": 1
         },
         "locationmode": "USA-states",
         "lon": [
          -98.23861111,
          -97.0372
         ],
         "mode": "lines",
         "opacity": 0.23413566739606126,
         "type": "scattergeo"
        },
        {
         "lat": [
          25.79325,
          32.89595056
         ],
         "line": {
          "color": "red",
          "width": 1
         },
         "locationmode": "USA-states",
         "lon": [
          -80.29055556,
          -97.0372
         ],
         "mode": "lines",
         "opacity": 0.612691466083151,
         "type": "scattergeo"
        },
        {
         "lat": [
          44.88054694,
          32.89595056
         ],
         "line": {
          "color": "red",
          "width": 1
         },
         "locationmode": "USA-states",
         "lon": [
          -93.2169225,
          -97.0372
         ],
         "mode": "lines",
         "opacity": 0.35667396061269147,
         "type": "scattergeo"
        },
        {
         "lat": [
          38.50886722,
          32.89595056
         ],
         "line": {
          "color": "red",
          "width": 1
         },
         "locationmode": "USA-states",
         "lon": [
          -107.89383329999998,
          -97.0372
         ],
         "mode": "lines",
         "opacity": 0.0175054704595186,
         "type": "scattergeo"
        },
        {
         "lat": [
          20.89864972,
          32.89595056
         ],
         "line": {
          "color": "red",
          "width": 1
         },
         "locationmode": "USA-states",
         "lon": [
          -156.43045780000003,
          -97.0372
         ],
         "mode": "lines",
         "opacity": 0.061269146608315096,
         "type": "scattergeo"
        },
        {
         "lat": [
          35.39308833,
          32.89595056
         ],
         "line": {
          "color": "red",
          "width": 1
         },
         "locationmode": "USA-states",
         "lon": [
          -97.60073389,
          -97.0372
         ],
         "mode": "lines",
         "opacity": 0.42669584245076586,
         "type": "scattergeo"
        },
        {
         "lat": [
          41.30251861,
          32.89595056
         ],
         "line": {
          "color": "red",
          "width": 1
         },
         "locationmode": "USA-states",
         "lon": [
          -95.89417306,
          -97.0372
         ],
         "mode": "lines",
         "opacity": 0.2975929978118162,
         "type": "scattergeo"
        },
        {
         "lat": [
          41.979595,
          32.89595056
         ],
         "line": {
          "color": "red",
          "width": 1
         },
         "locationmode": "USA-states",
         "lon": [
          -87.90446417,
          -97.0372
         ],
         "mode": "lines",
         "opacity": 0.9026258205689278,
         "type": "scattergeo"
        },
        {
         "lat": [
          39.87195278,
          32.89595056
         ],
         "line": {
          "color": "red",
          "width": 1
         },
         "locationmode": "USA-states",
         "lon": [
          -75.24114083,
          -97.0372
         ],
         "mode": "lines",
         "opacity": 0.3522975929978118,
         "type": "scattergeo"
        },
        {
         "lat": [
          33.43416667,
          32.89595056
         ],
         "line": {
          "color": "red",
          "width": 1
         },
         "locationmode": "USA-states",
         "lon": [
          -112.00805559999999,
          -97.0372
         ],
         "mode": "lines",
         "opacity": 0.6017505470459519,
         "type": "scattergeo"
        },
        {
         "lat": [
          37.50516667,
          32.89595056
         ],
         "line": {
          "color": "red",
          "width": 1
         },
         "locationmode": "USA-states",
         "lon": [
          -77.31966667,
          -97.0372
         ],
         "mode": "lines",
         "opacity": 0.18161925601750548,
         "type": "scattergeo"
        },
        {
         "lat": [
          39.49857611,
          32.89595056
         ],
         "line": {
          "color": "red",
          "width": 1
         },
         "locationmode": "USA-states",
         "lon": [
          -119.76806470000001,
          -97.0372
         ],
         "mode": "lines",
         "opacity": 0.16411378555798686,
         "type": "scattergeo"
        },
        {
         "lat": [
          32.73355611,
          32.89595056
         ],
         "line": {
          "color": "red",
          "width": 1
         },
         "locationmode": "USA-states",
         "lon": [
          -117.1896567,
          -97.0372
         ],
         "mode": "lines",
         "opacity": 0.5470459518599562,
         "type": "scattergeo"
        },
        {
         "lat": [
          29.53369444,
          32.89595056
         ],
         "line": {
          "color": "red",
          "width": 1
         },
         "locationmode": "USA-states",
         "lon": [
          -98.46977778,
          -97.0372
         ],
         "mode": "lines",
         "opacity": 0.9037199124726477,
         "type": "scattergeo"
        },
        {
         "lat": [
          38.17438889,
          32.89595056
         ],
         "line": {
          "color": "red",
          "width": 1
         },
         "locationmode": "USA-states",
         "lon": [
          -85.736,
          -97.0372
         ],
         "mode": "lines",
         "opacity": 0.17943107221006566,
         "type": "scattergeo"
        },
        {
         "lat": [
          37.61900194,
          32.89595056
         ],
         "line": {
          "color": "red",
          "width": 1
         },
         "locationmode": "USA-states",
         "lon": [
          -122.3748433,
          -97.0372
         ],
         "mode": "lines",
         "opacity": 0.5754923413566739,
         "type": "scattergeo"
        },
        {
         "lat": [
          37.36186194,
          32.89595056
         ],
         "line": {
          "color": "red",
          "width": 1
         },
         "locationmode": "USA-states",
         "lon": [
          -121.92900890000001,
          -97.0372
         ],
         "mode": "lines",
         "opacity": 0.3479212253829322,
         "type": "scattergeo"
        },
        {
         "lat": [
          40.78838778,
          32.89595056
         ],
         "line": {
          "color": "red",
          "width": 1
         },
         "locationmode": "USA-states",
         "lon": [
          -111.9777731,
          -97.0372
         ],
         "mode": "lines",
         "opacity": 0.3063457330415755,
         "type": "scattergeo"
        },
        {
         "lat": [
          38.74768694,
          32.89595056
         ],
         "line": {
          "color": "red",
          "width": 1
         },
         "locationmode": "USA-states",
         "lon": [
          -90.35998972,
          -97.0372
         ],
         "mode": "lines",
         "opacity": 0.5317286652078774,
         "type": "scattergeo"
        },
        {
         "lat": [
          36.28186944,
          32.89595056
         ],
         "line": {
          "color": "red",
          "width": 1
         },
         "locationmode": "USA-states",
         "lon": [
          -94.30681111,
          -97.0372
         ],
         "mode": "lines",
         "opacity": 0.05470459518599562,
         "type": "scattergeo"
        },
        {
         "lat": [
          25.79325,
          42.21205889
         ],
         "line": {
          "color": "red",
          "width": 1
         },
         "locationmode": "USA-states",
         "lon": [
          -80.29055556,
          -83.34883583
         ],
         "mode": "lines",
         "opacity": 0.12253829321663019,
         "type": "scattergeo"
        },
        {
         "lat": [
          40.77724306,
          39.64256778
         ],
         "line": {
          "color": "red",
          "width": 1
         },
         "locationmode": "USA-states",
         "lon": [
          -73.87260917,
          -106.91769529999999
         ],
         "mode": "lines",
         "opacity": 0.0087527352297593,
         "type": "scattergeo"
        },
        {
         "lat": [
          41.979595,
          39.64256778
         ],
         "line": {
          "color": "red",
          "width": 1
         },
         "locationmode": "USA-states",
         "lon": [
          -87.90446417,
          -106.91769529999999
         ],
         "mode": "lines",
         "opacity": 0.0700218818380744,
         "type": "scattergeo"
        },
        {
         "lat": [
          32.89595056,
          31.80666667
         ],
         "line": {
          "color": "red",
          "width": 1
         },
         "locationmode": "USA-states",
         "lon": [
          -97.0372,
          -106.37780559999999
         ],
         "mode": "lines",
         "opacity": 0.474835886214442,
         "type": "scattergeo"
        },
        {
         "lat": [
          33.94253611,
          40.69249722
         ],
         "line": {
          "color": "red",
          "width": 1
         },
         "locationmode": "USA-states",
         "lon": [
          -118.40807439999999,
          -74.16866056
         ],
         "mode": "lines",
         "opacity": 0.05908096280087528,
         "type": "scattergeo"
        },
        {
         "lat": [
          25.79325,
          40.69249722
         ],
         "line": {
          "color": "red",
          "width": 1
         },
         "locationmode": "USA-states",
         "lon": [
          -80.29055556,
          -74.16866056
         ],
         "mode": "lines",
         "opacity": 0.1838074398249453,
         "type": "scattergeo"
        },
        {
         "lat": [
          40.63975111,
          26.07258333
         ],
         "line": {
          "color": "red",
          "width": 1
         },
         "locationmode": "USA-states",
         "lon": [
          -73.77892556,
          -80.15275
         ],
         "mode": "lines",
         "opacity": 0.12253829321663019,
         "type": "scattergeo"
        },
        {
         "lat": [
          32.89595056,
          40.48118028
         ],
         "line": {
          "color": "red",
          "width": 1
         },
         "locationmode": "USA-states",
         "lon": [
          -97.0372,
          -107.21765970000001
         ],
         "mode": "lines",
         "opacity": 0.0700218818380744,
         "type": "scattergeo"
        },
        {
         "lat": [
          32.89595056,
          21.31869111
         ],
         "line": {
          "color": "red",
          "width": 1
         },
         "locationmode": "USA-states",
         "lon": [
          -97.0372,
          -157.92240719999998
         ],
         "mode": "lines",
         "opacity": 0.12253829321663019,
         "type": "scattergeo"
        },
        {
         "lat": [
          33.94253611,
          21.31869111
         ],
         "line": {
          "color": "red",
          "width": 1
         },
         "locationmode": "USA-states",
         "lon": [
          -118.40807439999999,
          -157.92240719999998
         ],
         "mode": "lines",
         "opacity": 0.2363238512035011,
         "type": "scattergeo"
        },
        {
         "lat": [
          32.89595056,
          38.94453194
         ],
         "line": {
          "color": "red",
          "width": 1
         },
         "locationmode": "USA-states",
         "lon": [
          -97.0372,
          -77.45580972
         ],
         "mode": "lines",
         "opacity": 0.33698030634573306,
         "type": "scattergeo"
        },
        {
         "lat": [
          33.94253611,
          38.94453194
         ],
         "line": {
          "color": "red",
          "width": 1
         },
         "locationmode": "USA-states",
         "lon": [
          -118.40807439999999,
          -77.45580972
         ],
         "mode": "lines",
         "opacity": 0.18161925601750548,
         "type": "scattergeo"
        },
        {
         "lat": [
          25.79325,
          38.94453194
         ],
         "line": {
          "color": "red",
          "width": 1
         },
         "locationmode": "USA-states",
         "lon": [
          -80.29055556,
          -77.45580972
         ],
         "mode": "lines",
         "opacity": 0.12253829321663019,
         "type": "scattergeo"
        },
        {
         "lat": [
          25.79325,
          29.98047222
         ],
         "line": {
          "color": "red",
          "width": 1
         },
         "locationmode": "USA-states",
         "lon": [
          -80.29055556,
          -95.33972222
         ],
         "mode": "lines",
         "opacity": 0.1838074398249453,
         "type": "scattergeo"
        },
        {
         "lat": [
          32.89595056,
          37.64995889
         ],
         "line": {
          "color": "red",
          "width": 1
         },
         "locationmode": "USA-states",
         "lon": [
          -97.0372,
          -97.43304583
         ],
         "mode": "lines",
         "opacity": 0.23413566739606126,
         "type": "scattergeo"
        },
        {
         "lat": [
          32.89595056,
          39.71732917
         ],
         "line": {
          "color": "red",
          "width": 1
         },
         "locationmode": "USA-states",
         "lon": [
          -97.0372,
          -86.29438417
         ],
         "mode": "lines",
         "opacity": 0.3041575492341357,
         "type": "scattergeo"
        },
        {
         "lat": [
          32.89595056,
          43.60732417
         ],
         "line": {
          "color": "red",
          "width": 1
         },
         "locationmode": "USA-states",
         "lon": [
          -97.0372,
          -110.7377389
         ],
         "mode": "lines",
         "opacity": 0.0262582056892779,
         "type": "scattergeo"
        },
        {
         "lat": [
          32.89595056,
          30.49405556
         ],
         "line": {
          "color": "red",
          "width": 1
         },
         "locationmode": "USA-states",
         "lon": [
          -97.0372,
          -81.68786111
         ],
         "mode": "lines",
         "opacity": 0.2363238512035011,
         "type": "scattergeo"
        },
        {
         "lat": [
          30.19453278,
          40.63975111
         ],
         "line": {
          "color": "red",
          "width": 1
         },
         "locationmode": "USA-states",
         "lon": [
          -97.66987194,
          -73.77892556
         ],
         "mode": "lines",
         "opacity": 0.061269146608315096,
         "type": "scattergeo"
        },
        {
         "lat": [
          32.89595056,
          40.63975111
         ],
         "line": {
          "color": "red",
          "width": 1
         },
         "locationmode": "USA-states",
         "lon": [
          -97.0372,
          -73.77892556
         ],
         "mode": "lines",
         "opacity": 0.061269146608315096,
         "type": "scattergeo"
        },
        {
         "lat": [
          39.64256778,
          40.63975111
         ],
         "line": {
          "color": "red",
          "width": 1
         },
         "locationmode": "USA-states",
         "lon": [
          -106.91769529999999,
          -73.77892556
         ],
         "mode": "lines",
         "opacity": 0.061269146608315096,
         "type": "scattergeo"
        },
        {
         "lat": [
          28.42888889,
          40.63975111
         ],
         "line": {
          "color": "red",
          "width": 1
         },
         "locationmode": "USA-states",
         "lon": [
          -81.31602778,
          -73.77892556
         ],
         "mode": "lines",
         "opacity": 0.24507658643326038,
         "type": "scattergeo"
        },
        {
         "lat": [
          25.79325,
          40.63975111
         ],
         "line": {
          "color": "red",
          "width": 1
         },
         "locationmode": "USA-states",
         "lon": [
          -80.29055556,
          -73.77892556
         ],
         "mode": "lines",
         "opacity": 0.4288840262582057,
         "type": "scattergeo"
        },
        {
         "lat": [
          47.44898194,
          40.63975111
         ],
         "line": {
          "color": "red",
          "width": 1
         },
         "locationmode": "USA-states",
         "lon": [
          -122.30931310000001,
          -73.77892556
         ],
         "mode": "lines",
         "opacity": 0.061269146608315096,
         "type": "scattergeo"
        },
        {
         "lat": [
          37.61900194,
          40.63975111
         ],
         "line": {
          "color": "red",
          "width": 1
         },
         "locationmode": "USA-states",
         "lon": [
          -122.3748433,
          -73.77892556
         ],
         "mode": "lines",
         "opacity": 0.3041575492341357,
         "type": "scattergeo"
        },
        {
         "lat": [
          18.33730556,
          40.63975111
         ],
         "line": {
          "color": "red",
          "width": 1
         },
         "locationmode": "USA-states",
         "lon": [
          -64.97336111,
          -73.77892556
         ],
         "mode": "lines",
         "opacity": 0.061269146608315096,
         "type": "scattergeo"
        },
        {
         "lat": [
          27.97547222,
          40.63975111
         ],
         "line": {
          "color": "red",
          "width": 1
         },
         "locationmode": "USA-states",
         "lon": [
          -82.53325,
          -73.77892556
         ],
         "mode": "lines",
         "opacity": 0.061269146608315096,
         "type": "scattergeo"
        },
        {
         "lat": [
          32.89595056,
          36.08036111
         ],
         "line": {
          "color": "red",
          "width": 1
         },
         "locationmode": "USA-states",
         "lon": [
          -97.0372,
          -115.15233329999998
         ],
         "mode": "lines",
         "opacity": 0.6225382932166302,
         "type": "scattergeo"
        },
        {
         "lat": [
          40.63975111,
          36.08036111
         ],
         "line": {
          "color": "red",
          "width": 1
         },
         "locationmode": "USA-states",
         "lon": [
          -73.77892556,
          -115.15233329999998
         ],
         "mode": "lines",
         "opacity": 0.12253829321663019,
         "type": "scattergeo"
        },
        {
         "lat": [
          33.94253611,
          36.08036111
         ],
         "line": {
          "color": "red",
          "width": 1
         },
         "locationmode": "USA-states",
         "lon": [
          -118.40807439999999,
          -115.15233329999998
         ],
         "mode": "lines",
         "opacity": 0.24288840262582057,
         "type": "scattergeo"
        },
        {
         "lat": [
          41.979595,
          36.08036111
         ],
         "line": {
          "color": "red",
          "width": 1
         },
         "locationmode": "USA-states",
         "lon": [
          -87.90446417,
          -115.15233329999998
         ],
         "mode": "lines",
         "opacity": 0.3063457330415755,
         "type": "scattergeo"
        },
        {
         "lat": [
          30.19453278,
          33.94253611
         ],
         "line": {
          "color": "red",
          "width": 1
         },
         "locationmode": "USA-states",
         "lon": [
          -97.66987194,
          -118.40807439999999
         ],
         "mode": "lines",
         "opacity": 0.1772428884026258,
         "type": "scattergeo"
        },
        {
         "lat": [
          36.12447667,
          33.94253611
         ],
         "line": {
          "color": "red",
          "width": 1
         },
         "locationmode": "USA-states",
         "lon": [
          -86.67818222,
          -118.40807439999999
         ],
         "mode": "lines",
         "opacity": 0.061269146608315096,
         "type": "scattergeo"
        },
        {
         "lat": [
          42.3643475,
          33.94253611
         ],
         "line": {
          "color": "red",
          "width": 1
         },
         "locationmode": "USA-states",
         "lon": [
          -71.00517917,
          -118.40807439999999
         ],
         "mode": "lines",
         "opacity": 0.1838074398249453,
         "type": "scattergeo"
        },
        {
         "lat": [
          39.64256778,
          33.94253611
         ],
         "line": {
          "color": "red",
          "width": 1
         },
         "locationmode": "USA-states",
         "lon": [
          -106.91769529999999,
          -118.40807439999999
         ],
         "mode": "lines",
         "opacity": 0.061269146608315096,
         "type": "scattergeo"
        },
        {
         "lat": [
          40.63975111,
          33.94253611
         ],
         "line": {
          "color": "red",
          "width": 1
         },
         "locationmode": "USA-states",
         "lon": [
          -73.77892556,
          -118.40807439999999
         ],
         "mode": "lines",
         "opacity": 0.5995623632385121,
         "type": "scattergeo"
        },
        {
         "lat": [
          19.73876583,
          33.94253611
         ],
         "line": {
          "color": "red",
          "width": 1
         },
         "locationmode": "USA-states",
         "lon": [
          -156.0456314,
          -118.40807439999999
         ],
         "mode": "lines",
         "opacity": 0.061269146608315096,
         "type": "scattergeo"
        },
        {
         "lat": [
          20.89864972,
          33.94253611
         ],
         "line": {
          "color": "red",
          "width": 1
         },
         "locationmode": "USA-states",
         "lon": [
          -156.43045780000003,
          -118.40807439999999
         ],
         "mode": "lines",
         "opacity": 0.12253829321663019,
         "type": "scattergeo"
        },
        {
         "lat": [
          41.979595,
          33.94253611
         ],
         "line": {
          "color": "red",
          "width": 1
         },
         "locationmode": "USA-states",
         "lon": [
          -87.90446417,
          -118.40807439999999
         ],
         "mode": "lines",
         "opacity": 0.5426695842450766,
         "type": "scattergeo"
        },
        {
         "lat": [
          38.74768694,
          33.94253611
         ],
         "line": {
          "color": "red",
          "width": 1
         },
         "locationmode": "USA-states",
         "lon": [
          -90.35998972,
          -118.40807439999999
         ],
         "mode": "lines",
         "opacity": 0.18161925601750548,
         "type": "scattergeo"
        },
        {
         "lat": [
          36.12447667,
          40.77724306
         ],
         "line": {
          "color": "red",
          "width": 1
         },
         "locationmode": "USA-states",
         "lon": [
          -86.67818222,
          -73.87260917
         ],
         "mode": "lines",
         "opacity": 0.11159737417943107,
         "type": "scattergeo"
        },
        {
         "lat": [
          32.89595056,
          40.77724306
         ],
         "line": {
          "color": "red",
          "width": 1
         },
         "locationmode": "USA-states",
         "lon": [
          -97.0372,
          -73.87260917
         ],
         "mode": "lines",
         "opacity": 0.849015317286652,
         "type": "scattergeo"
        },
        {
         "lat": [
          38.74768694,
          40.77724306
         ],
         "line": {
          "color": "red",
          "width": 1
         },
         "locationmode": "USA-states",
         "lon": [
          -90.35998972,
          -73.87260917
         ],
         "mode": "lines",
         "opacity": 0.22538293216630198,
         "type": "scattergeo"
        },
        {
         "lat": [
          33.94253611,
          21.97598306
         ],
         "line": {
          "color": "red",
          "width": 1
         },
         "locationmode": "USA-states",
         "lon": [
          -118.40807439999999,
          -159.3389581
         ],
         "mode": "lines",
         "opacity": 0.061269146608315096,
         "type": "scattergeo"
        },
        {
         "lat": [
          33.94253611,
          28.42888889
         ],
         "line": {
          "color": "red",
          "width": 1
         },
         "locationmode": "USA-states",
         "lon": [
          -118.40807439999999,
          -81.31602778
         ],
         "mode": "lines",
         "opacity": 0.061269146608315096,
         "type": "scattergeo"
        },
        {
         "lat": [
          25.79325,
          28.42888889
         ],
         "line": {
          "color": "red",
          "width": 1
         },
         "locationmode": "USA-states",
         "lon": [
          -80.29055556,
          -81.31602778
         ],
         "mode": "lines",
         "opacity": 0.49015317286652077,
         "type": "scattergeo"
        },
        {
         "lat": [
          33.64044444,
          25.79325
         ],
         "line": {
          "color": "red",
          "width": 1
         },
         "locationmode": "USA-states",
         "lon": [
          -84.42694444,
          -80.29055556
         ],
         "mode": "lines",
         "opacity": 0.24507658643326038,
         "type": "scattergeo"
        },
        {
         "lat": [
          41.93887417,
          25.79325
         ],
         "line": {
          "color": "red",
          "width": 1
         },
         "locationmode": "USA-states",
         "lon": [
          -72.68322833,
          -80.29055556
         ],
         "mode": "lines",
         "opacity": 0.12253829321663019,
         "type": "scattergeo"
        },
        {
         "lat": [
          38.85208333,
          25.79325
         ],
         "line": {
          "color": "red",
          "width": 1
         },
         "locationmode": "USA-states",
         "lon": [
          -77.03772222,
          -80.29055556
         ],
         "mode": "lines",
         "opacity": 0.5514223194748359,
         "type": "scattergeo"
        },
        {
         "lat": [
          39.64256778,
          25.79325
         ],
         "line": {
          "color": "red",
          "width": 1
         },
         "locationmode": "USA-states",
         "lon": [
          -106.91769529999999,
          -80.29055556
         ],
         "mode": "lines",
         "opacity": 0.0525164113785558,
         "type": "scattergeo"
        },
        {
         "lat": [
          36.08036111,
          25.79325
         ],
         "line": {
          "color": "red",
          "width": 1
         },
         "locationmode": "USA-states",
         "lon": [
          -115.15233329999998,
          -80.29055556
         ],
         "mode": "lines",
         "opacity": 0.1838074398249453,
         "type": "scattergeo"
        },
        {
         "lat": [
          33.94253611,
          25.79325
         ],
         "line": {
          "color": "red",
          "width": 1
         },
         "locationmode": "USA-states",
         "lon": [
          -118.40807439999999,
          -80.29055556
         ],
         "mode": "lines",
         "opacity": 0.4288840262582057,
         "type": "scattergeo"
        },
        {
         "lat": [
          40.77724306,
          25.79325
         ],
         "line": {
          "color": "red",
          "width": 1
         },
         "locationmode": "USA-states",
         "lon": [
          -73.87260917,
          -80.29055556
         ],
         "mode": "lines",
         "opacity": 0.6728665207877462,
         "type": "scattergeo"
        },
        {
         "lat": [
          44.88054694,
          25.79325
         ],
         "line": {
          "color": "red",
          "width": 1
         },
         "locationmode": "USA-states",
         "lon": [
          -93.2169225,
          -80.29055556
         ],
         "mode": "lines",
         "opacity": 0.061269146608315096,
         "type": "scattergeo"
        },
        {
         "lat": [
          41.979595,
          25.79325
         ],
         "line": {
          "color": "red",
          "width": 1
         },
         "locationmode": "USA-states",
         "lon": [
          -87.90446417,
          -80.29055556
         ],
         "mode": "lines",
         "opacity": 0.5525164113785558,
         "type": "scattergeo"
        },
        {
         "lat": [
          39.87195278,
          25.79325
         ],
         "line": {
          "color": "red",
          "width": 1
         },
         "locationmode": "USA-states",
         "lon": [
          -75.24114083,
          -80.29055556
         ],
         "mode": "lines",
         "opacity": 0.1838074398249453,
         "type": "scattergeo"
        },
        {
         "lat": [
          33.43416667,
          25.79325
         ],
         "line": {
          "color": "red",
          "width": 1
         },
         "locationmode": "USA-states",
         "lon": [
          -112.00805559999999,
          -80.29055556
         ],
         "mode": "lines",
         "opacity": 0.061269146608315096,
         "type": "scattergeo"
        },
        {
         "lat": [
          37.61900194,
          25.79325
         ],
         "line": {
          "color": "red",
          "width": 1
         },
         "locationmode": "USA-states",
         "lon": [
          -122.3748433,
          -80.29055556
         ],
         "mode": "lines",
         "opacity": 0.1838074398249453,
         "type": "scattergeo"
        },
        {
         "lat": [
          18.43941667,
          25.79325
         ],
         "line": {
          "color": "red",
          "width": 1
         },
         "locationmode": "USA-states",
         "lon": [
          -66.00183333,
          -80.29055556
         ],
         "mode": "lines",
         "opacity": 0.49015317286652077,
         "type": "scattergeo"
        },
        {
         "lat": [
          36.19837222,
          25.79325
         ],
         "line": {
          "color": "red",
          "width": 1
         },
         "locationmode": "USA-states",
         "lon": [
          -95.88824167,
          -80.29055556
         ],
         "mode": "lines",
         "opacity": 0.00437636761487965,
         "type": "scattergeo"
        },
        {
         "lat": [
          41.979595,
          44.88054694
         ],
         "line": {
          "color": "red",
          "width": 1
         },
         "locationmode": "USA-states",
         "lon": [
          -87.90446417,
          -93.2169225
         ],
         "mode": "lines",
         "opacity": 0.175054704595186,
         "type": "scattergeo"
        },
        {
         "lat": [
          32.89595056,
          29.99338889
         ],
         "line": {
          "color": "red",
          "width": 1
         },
         "locationmode": "USA-states",
         "lon": [
          -97.0372,
          -90.25802778
         ],
         "mode": "lines",
         "opacity": 0.3676148796498906,
         "type": "scattergeo"
        },
        {
         "lat": [
          25.79325,
          29.99338889
         ],
         "line": {
          "color": "red",
          "width": 1
         },
         "locationmode": "USA-states",
         "lon": [
          -80.29055556,
          -90.25802778
         ],
         "mode": "lines",
         "opacity": 0.1838074398249453,
         "type": "scattergeo"
        },
        {
         "lat": [
          41.979595,
          29.99338889
         ],
         "line": {
          "color": "red",
          "width": 1
         },
         "locationmode": "USA-states",
         "lon": [
          -87.90446417,
          -90.25802778
         ],
         "mode": "lines",
         "opacity": 0.16301969365426697,
         "type": "scattergeo"
        },
        {
         "lat": [
          32.89595056,
          34.056
         ],
         "line": {
          "color": "red",
          "width": 1
         },
         "locationmode": "USA-states",
         "lon": [
          -97.0372,
          -117.60119440000001
         ],
         "mode": "lines",
         "opacity": 0.24288840262582057,
         "type": "scattergeo"
        },
        {
         "lat": [
          38.85208333,
          41.979595
         ],
         "line": {
          "color": "red",
          "width": 1
         },
         "locationmode": "USA-states",
         "lon": [
          -77.03772222,
          -87.90446417
         ],
         "mode": "lines",
         "opacity": 0.3544857768052516,
         "type": "scattergeo"
        },
        {
         "lat": [
          40.69249722,
          41.979595
         ],
         "line": {
          "color": "red",
          "width": 1
         },
         "locationmode": "USA-states",
         "lon": [
          -74.16866056,
          -87.90446417
         ],
         "mode": "lines",
         "opacity": 0.1838074398249453,
         "type": "scattergeo"
        },
        {
         "lat": [
          26.07258333,
          41.979595
         ],
         "line": {
          "color": "red",
          "width": 1
         },
         "locationmode": "USA-states",
         "lon": [
          -80.15275,
          -87.90446417
         ],
         "mode": "lines",
         "opacity": 0.1838074398249453,
         "type": "scattergeo"
        },
        {
         "lat": [
          40.48118028,
          41.979595
         ],
         "line": {
          "color": "red",
          "width": 1
         },
         "locationmode": "USA-states",
         "lon": [
          -107.21765970000001,
          -87.90446417
         ],
         "mode": "lines",
         "opacity": 0.0525164113785558,
         "type": "scattergeo"
        },
        {
         "lat": [
          21.31869111,
          41.979595
         ],
         "line": {
          "color": "red",
          "width": 1
         },
         "locationmode": "USA-states",
         "lon": [
          -157.92240719999998,
          -87.90446417
         ],
         "mode": "lines",
         "opacity": 0.05032822757111598,
         "type": "scattergeo"
        },
        {
         "lat": [
          43.60732417,
          41.979595
         ],
         "line": {
          "color": "red",
          "width": 1
         },
         "locationmode": "USA-states",
         "lon": [
          -110.7377389,
          -87.90446417
         ],
         "mode": "lines",
         "opacity": 0.061269146608315096,
         "type": "scattergeo"
        },
        {
         "lat": [
          40.63975111,
          41.979595
         ],
         "line": {
          "color": "red",
          "width": 1
         },
         "locationmode": "USA-states",
         "lon": [
          -73.77892556,
          -87.90446417
         ],
         "mode": "lines",
         "opacity": 0.061269146608315096,
         "type": "scattergeo"
        },
        {
         "lat": [
          40.77724306,
          41.979595
         ],
         "line": {
          "color": "red",
          "width": 1
         },
         "locationmode": "USA-states",
         "lon": [
          -73.87260917,
          -87.90446417
         ],
         "mode": "lines",
         "opacity": 0.9409190371991247,
         "type": "scattergeo"
        },
        {
         "lat": [
          39.29760528,
          41.979595
         ],
         "line": {
          "color": "red",
          "width": 1
         },
         "locationmode": "USA-states",
         "lon": [
          -94.71390556,
          -87.90446417
         ],
         "mode": "lines",
         "opacity": 0.23413566739606126,
         "type": "scattergeo"
        },
        {
         "lat": [
          28.42888889,
          41.979595
         ],
         "line": {
          "color": "red",
          "width": 1
         },
         "locationmode": "USA-states",
         "lon": [
          -81.31602778,
          -87.90446417
         ],
         "mode": "lines",
         "opacity": 0.24507658643326038,
         "type": "scattergeo"
        },
        {
         "lat": [
          35.87763889,
          41.979595
         ],
         "line": {
          "color": "red",
          "width": 1
         },
         "locationmode": "USA-states",
         "lon": [
          -78.78747222,
          -87.90446417
         ],
         "mode": "lines",
         "opacity": 0.17067833698030635,
         "type": "scattergeo"
        },
        {
         "lat": [
          39.49857611,
          41.979595
         ],
         "line": {
          "color": "red",
          "width": 1
         },
         "locationmode": "USA-states",
         "lon": [
          -119.76806470000001,
          -87.90446417
         ],
         "mode": "lines",
         "opacity": 0.061269146608315096,
         "type": "scattergeo"
        },
        {
         "lat": [
          32.73355611,
          41.979595
         ],
         "line": {
          "color": "red",
          "width": 1
         },
         "locationmode": "USA-states",
         "lon": [
          -117.1896567,
          -87.90446417
         ],
         "mode": "lines",
         "opacity": 0.24507658643326038,
         "type": "scattergeo"
        },
        {
         "lat": [
          29.53369444,
          41.979595
         ],
         "line": {
          "color": "red",
          "width": 1
         },
         "locationmode": "USA-states",
         "lon": [
          -98.46977778,
          -87.90446417
         ],
         "mode": "lines",
         "opacity": 0.12253829321663019,
         "type": "scattergeo"
        },
        {
         "lat": [
          37.36186194,
          41.979595
         ],
         "line": {
          "color": "red",
          "width": 1
         },
         "locationmode": "USA-states",
         "lon": [
          -121.92900890000001,
          -87.90446417
         ],
         "mode": "lines",
         "opacity": 0.12253829321663019,
         "type": "scattergeo"
        },
        {
         "lat": [
          18.43941667,
          41.979595
         ],
         "line": {
          "color": "red",
          "width": 1
         },
         "locationmode": "USA-states",
         "lon": [
          -66.00183333,
          -87.90446417
         ],
         "mode": "lines",
         "opacity": 0.12253829321663019,
         "type": "scattergeo"
        },
        {
         "lat": [
          38.74768694,
          41.979595
         ],
         "line": {
          "color": "red",
          "width": 1
         },
         "locationmode": "USA-states",
         "lon": [
          -90.35998972,
          -87.90446417
         ],
         "mode": "lines",
         "opacity": 0.5284463894967177,
         "type": "scattergeo"
        },
        {
         "lat": [
          36.19837222,
          41.979595
         ],
         "line": {
          "color": "red",
          "width": 1
         },
         "locationmode": "USA-states",
         "lon": [
          -95.88824167,
          -87.90446417
         ],
         "mode": "lines",
         "opacity": 0.061269146608315096,
         "type": "scattergeo"
        },
        {
         "lat": [
          32.11608333,
          41.979595
         ],
         "line": {
          "color": "red",
          "width": 1
         },
         "locationmode": "USA-states",
         "lon": [
          -110.94102779999999,
          -87.90446417
         ],
         "mode": "lines",
         "opacity": 0.12253829321663019,
         "type": "scattergeo"
        },
        {
         "lat": [
          32.89595056,
          36.89461111
         ],
         "line": {
          "color": "red",
          "width": 1
         },
         "locationmode": "USA-states",
         "lon": [
          -97.0372,
          -76.20122222
         ],
         "mode": "lines",
         "opacity": 0.12253829321663019,
         "type": "scattergeo"
        },
        {
         "lat": [
          32.89595056,
          26.68316194
         ],
         "line": {
          "color": "red",
          "width": 1
         },
         "locationmode": "USA-states",
         "lon": [
          -97.0372,
          -80.09559417
         ],
         "mode": "lines",
         "opacity": 0.12253829321663019,
         "type": "scattergeo"
        },
        {
         "lat": [
          41.979595,
          26.68316194
         ],
         "line": {
          "color": "red",
          "width": 1
         },
         "locationmode": "USA-states",
         "lon": [
          -87.90446417,
          -80.09559417
         ],
         "mode": "lines",
         "opacity": 0.16411378555798686,
         "type": "scattergeo"
        },
        {
         "lat": [
          32.89595056,
          45.58872222
         ],
         "line": {
          "color": "red",
          "width": 1
         },
         "locationmode": "USA-states",
         "lon": [
          -97.0372,
          -122.5975
         ],
         "mode": "lines",
         "opacity": 0.24507658643326038,
         "type": "scattergeo"
        },
        {
         "lat": [
          41.979595,
          39.87195278
         ],
         "line": {
          "color": "red",
          "width": 1
         },
         "locationmode": "USA-states",
         "lon": [
          -87.90446417,
          -75.24114083
         ],
         "mode": "lines",
         "opacity": 0.12035010940919037,
         "type": "scattergeo"
        },
        {
         "lat": [
          18.43941667,
          39.87195278
         ],
         "line": {
          "color": "red",
          "width": 1
         },
         "locationmode": "USA-states",
         "lon": [
          -66.00183333,
          -75.24114083
         ],
         "mode": "lines",
         "opacity": 0.061269146608315096,
         "type": "scattergeo"
        },
        {
         "lat": [
          41.979595,
          33.43416667
         ],
         "line": {
          "color": "red",
          "width": 1
         },
         "locationmode": "USA-states",
         "lon": [
          -87.90446417,
          -112.00805559999999
         ],
         "mode": "lines",
         "opacity": 0.3063457330415755,
         "type": "scattergeo"
        },
        {
         "lat": [
          32.89595056,
          40.49146583
         ],
         "line": {
          "color": "red",
          "width": 1
         },
         "locationmode": "USA-states",
         "lon": [
          -97.0372,
          -80.23287083
         ],
         "mode": "lines",
         "opacity": 0.18599562363238512,
         "type": "scattergeo"
        },
        {
         "lat": [
          32.89595056,
          33.82921556
         ],
         "line": {
          "color": "red",
          "width": 1
         },
         "locationmode": "USA-states",
         "lon": [
          -97.0372,
          -116.5062531
         ],
         "mode": "lines",
         "opacity": 0.1838074398249453,
         "type": "scattergeo"
        },
        {
         "lat": [
          41.979595,
          33.82921556
         ],
         "line": {
          "color": "red",
          "width": 1
         },
         "locationmode": "USA-states",
         "lon": [
          -87.90446417,
          -116.5062531
         ],
         "mode": "lines",
         "opacity": 0.0700218818380744,
         "type": "scattergeo"
        },
        {
         "lat": [
          32.89595056,
          35.87763889
         ],
         "line": {
          "color": "red",
          "width": 1
         },
         "locationmode": "USA-states",
         "lon": [
          -97.0372,
          -78.78747222
         ],
         "mode": "lines",
         "opacity": 0.3041575492341357,
         "type": "scattergeo"
        },
        {
         "lat": [
          25.79325,
          35.87763889
         ],
         "line": {
          "color": "red",
          "width": 1
         },
         "locationmode": "USA-states",
         "lon": [
          -80.29055556,
          -78.78747222
         ],
         "mode": "lines",
         "opacity": 0.1838074398249453,
         "type": "scattergeo"
        },
        {
         "lat": [
          32.89595056,
          26.53616667
         ],
         "line": {
          "color": "red",
          "width": 1
         },
         "locationmode": "USA-states",
         "lon": [
          -97.0372,
          -81.75516667
         ],
         "mode": "lines",
         "opacity": 0.1838074398249453,
         "type": "scattergeo"
        },
        {
         "lat": [
          41.979595,
          26.53616667
         ],
         "line": {
          "color": "red",
          "width": 1
         },
         "locationmode": "USA-states",
         "lon": [
          -87.90446417,
          -81.75516667
         ],
         "mode": "lines",
         "opacity": 0.1838074398249453,
         "type": "scattergeo"
        },
        {
         "lat": [
          40.63975111,
          32.73355611
         ],
         "line": {
          "color": "red",
          "width": 1
         },
         "locationmode": "USA-states",
         "lon": [
          -73.77892556,
          -117.1896567
         ],
         "mode": "lines",
         "opacity": 0.061269146608315096,
         "type": "scattergeo"
        },
        {
         "lat": [
          32.89595056,
          47.44898194
         ],
         "line": {
          "color": "red",
          "width": 1
         },
         "locationmode": "USA-states",
         "lon": [
          -97.0372,
          -122.30931310000001
         ],
         "mode": "lines",
         "opacity": 0.4288840262582057,
         "type": "scattergeo"
        },
        {
         "lat": [
          41.979595,
          47.44898194
         ],
         "line": {
          "color": "red",
          "width": 1
         },
         "locationmode": "USA-states",
         "lon": [
          -87.90446417,
          -122.30931310000001
         ],
         "mode": "lines",
         "opacity": 0.23413566739606126,
         "type": "scattergeo"
        },
        {
         "lat": [
          21.31869111,
          37.61900194
         ],
         "line": {
          "color": "red",
          "width": 1
         },
         "locationmode": "USA-states",
         "lon": [
          -157.92240719999998,
          -122.3748433
         ],
         "mode": "lines",
         "opacity": 0.061269146608315096,
         "type": "scattergeo"
        },
        {
         "lat": [
          33.94253611,
          37.61900194
         ],
         "line": {
          "color": "red",
          "width": 1
         },
         "locationmode": "USA-states",
         "lon": [
          -118.40807439999999,
          -122.3748433
         ],
         "mode": "lines",
         "opacity": 0.3676148796498906,
         "type": "scattergeo"
        },
        {
         "lat": [
          41.979595,
          37.61900194
         ],
         "line": {
          "color": "red",
          "width": 1
         },
         "locationmode": "USA-states",
         "lon": [
          -87.90446417,
          -122.3748433
         ],
         "mode": "lines",
         "opacity": 0.35667396061269147,
         "type": "scattergeo"
        },
        {
         "lat": [
          32.89595056,
          18.43941667
         ],
         "line": {
          "color": "red",
          "width": 1
         },
         "locationmode": "USA-states",
         "lon": [
          -97.0372,
          -66.00183333
         ],
         "mode": "lines",
         "opacity": 0.13129102844638948,
         "type": "scattergeo"
        },
        {
         "lat": [
          38.94453194,
          18.43941667
         ],
         "line": {
          "color": "red",
          "width": 1
         },
         "locationmode": "USA-states",
         "lon": [
          -77.45580972,
          -66.00183333
         ],
         "mode": "lines",
         "opacity": 0.061269146608315096,
         "type": "scattergeo"
        },
        {
         "lat": [
          40.63975111,
          18.43941667
         ],
         "line": {
          "color": "red",
          "width": 1
         },
         "locationmode": "USA-states",
         "lon": [
          -73.77892556,
          -66.00183333
         ],
         "mode": "lines",
         "opacity": 0.1838074398249453,
         "type": "scattergeo"
        },
        {
         "lat": [
          33.94253611,
          18.43941667
         ],
         "line": {
          "color": "red",
          "width": 1
         },
         "locationmode": "USA-states",
         "lon": [
          -118.40807439999999,
          -66.00183333
         ],
         "mode": "lines",
         "opacity": 0.0175054704595186,
         "type": "scattergeo"
        },
        {
         "lat": [
          32.89595056,
          38.69542167
         ],
         "line": {
          "color": "red",
          "width": 1
         },
         "locationmode": "USA-states",
         "lon": [
          -97.0372,
          -121.5907669
         ],
         "mode": "lines",
         "opacity": 0.24507658643326038,
         "type": "scattergeo"
        },
        {
         "lat": [
          32.89595056,
          33.67565861
         ],
         "line": {
          "color": "red",
          "width": 1
         },
         "locationmode": "USA-states",
         "lon": [
          -97.0372,
          -117.86822250000002
         ],
         "mode": "lines",
         "opacity": 0.6323851203501094,
         "type": "scattergeo"
        },
        {
         "lat": [
          41.979595,
          33.67565861
         ],
         "line": {
          "color": "red",
          "width": 1
         },
         "locationmode": "USA-states",
         "lon": [
          -87.90446417,
          -117.86822250000002
         ],
         "mode": "lines",
         "opacity": 0.16630196936542668,
         "type": "scattergeo"
        },
        {
         "lat": [
          38.85208333,
          38.74768694
         ],
         "line": {
          "color": "red",
          "width": 1
         },
         "locationmode": "USA-states",
         "lon": [
          -77.03772222,
          -90.35998972
         ],
         "mode": "lines",
         "opacity": 0.2188183807439825,
         "type": "scattergeo"
        },
        {
         "lat": [
          25.79325,
          38.74768694
         ],
         "line": {
          "color": "red",
          "width": 1
         },
         "locationmode": "USA-states",
         "lon": [
          -80.29055556,
          -90.35998972
         ],
         "mode": "lines",
         "opacity": 0.1838074398249453,
         "type": "scattergeo"
        },
        {
         "lat": [
          25.79325,
          18.33730556
         ],
         "line": {
          "color": "red",
          "width": 1
         },
         "locationmode": "USA-states",
         "lon": [
          -80.29055556,
          -64.97336111
         ],
         "mode": "lines",
         "opacity": 0.12253829321663019,
         "type": "scattergeo"
        },
        {
         "lat": [
          25.79325,
          17.70188889
         ],
         "line": {
          "color": "red",
          "width": 1
         },
         "locationmode": "USA-states",
         "lon": [
          -80.29055556,
          -64.79855556
         ],
         "mode": "lines",
         "opacity": 0.06783369803063458,
         "type": "scattergeo"
        },
        {
         "lat": [
          32.89595056,
          27.97547222
         ],
         "line": {
          "color": "red",
          "width": 1
         },
         "locationmode": "USA-states",
         "lon": [
          -97.0372,
          -82.53325
         ],
         "mode": "lines",
         "opacity": 0.4288840262582057,
         "type": "scattergeo"
        },
        {
         "lat": [
          25.79325,
          27.97547222
         ],
         "line": {
          "color": "red",
          "width": 1
         },
         "locationmode": "USA-states",
         "lon": [
          -80.29055556,
          -82.53325
         ],
         "mode": "lines",
         "opacity": 0.32603938730853393,
         "type": "scattergeo"
        },
        {
         "lat": [
          41.979595,
          27.97547222
         ],
         "line": {
          "color": "red",
          "width": 1
         },
         "locationmode": "USA-states",
         "lon": [
          -87.90446417,
          -82.53325
         ],
         "mode": "lines",
         "opacity": 0.16411378555798686,
         "type": "scattergeo"
        },
        {
         "lat": [
          18.43941667,
          27.97547222
         ],
         "line": {
          "color": "red",
          "width": 1
         },
         "locationmode": "USA-states",
         "lon": [
          -66.00183333,
          -82.53325
         ],
         "mode": "lines",
         "opacity": 0.061269146608315096,
         "type": "scattergeo"
        },
        {
         "lat": [
          32.89595056,
          36.19837222
         ],
         "line": {
          "color": "red",
          "width": 1
         },
         "locationmode": "USA-states",
         "lon": [
          -97.0372,
          -95.88824167
         ],
         "mode": "lines",
         "opacity": 0.42669584245076586,
         "type": "scattergeo"
        },
        {
         "lat": [
          32.89595056,
          32.11608333
         ],
         "line": {
          "color": "red",
          "width": 1
         },
         "locationmode": "USA-states",
         "lon": [
          -97.0372,
          -110.94102779999999
         ],
         "mode": "lines",
         "opacity": 0.45842450765864334,
         "type": "scattergeo"
        },
        {
         "hoverinfo": "text",
         "lat": [
          41.979595,
          33.64044444,
          32.89595056,
          33.43416667,
          39.85840806,
          29.98047222,
          37.61900194,
          33.94253611,
          28.42888889,
          35.21401111,
          40.78838778,
          27.97547222,
          40.69249722,
          36.08036111,
          39.87195278,
          44.88054694,
          47.44898194,
          40.77724306,
          41.7859825,
          38.94453194,
          32.73355611,
          38.74768694,
          42.21205889,
          40.63975111,
          25.79325,
          42.3643475,
          38.69542167,
          39.17540167,
          33.67565861,
          29.99338889,
          37.36186194,
          38.85208333,
          45.58872222,
          26.53616667,
          26.68316194,
          35.87763889,
          29.64541861,
          29.53369444,
          26.07258333,
          39.29760528,
          37.72129083,
          40.49146583,
          35.04241667,
          42.94722222,
          41.41089417,
          30.49405556,
          32.11608333,
          39.71732917,
          39.49857611,
          35.39308833,
          41.72399917,
          36.19837222,
          39.04614278,
          39.99798528,
          38.17438889,
          34.056,
          34.72939611,
          32.84711389,
          41.30251861,
          36.89461111,
          39.90237583,
          43.11886611,
          36.28186944,
          36.12447667,
          35.04022222,
          32.31116667,
          31.80666667,
          37.50516667,
          41.93887417,
          31.94252778,
          30.53316083,
          35.81248722,
          38.80580556,
          30.47330556,
          43.11118694,
          33.56294306,
          42.93451639,
          33.82921556,
          27.39533333,
          27.77036083,
          34.6404475,
          33.93884,
          30.20527972,
          34.42621194,
          47.61985556,
          30.69141667,
          37.64995889,
          42.94052472,
          41.53493306,
          40.19349528,
          43.64616667,
          32.30064417,
          37.13189556,
          41.06695778,
          36.5869825,
          42.88081972,
          30.448674,
          32.65658333,
          39.22316,
          30.39652778,
          30.40728028,
          44.04532139,
          33.81772222,
          34.27061111,
          38.03697222,
          43.13985778,
          44.123259999999995,
          32.12758333,
          33.66363889,
          41.88458833,
          34.89566722,
          36.09774694,
          40.7952425,
          41.44852639,
          35.43619444,
          40.91631194,
          40.47798556,
          26.22850611,
          30.48325,
          32.446627500000005,
          46.91934889,
          40.48118028,
          42.37422778,
          40.66424333,
          27.54373861,
          30.19453278,
          32.41132,
          37.24432611,
          42.96550333,
          36.47521417,
          31.06489778,
          32.89864639,
          44.48507333,
          44.25406722,
          32.51633333,
          41.70895361,
          43.56444444,
          33.67975,
          48.25937778,
          40.03925,
          37.32546833,
          39.64256778,
          43.60732417,
          45.77690139,
          39.1224125,
          34.20061917,
          38.03799139,
          38.53396333,
          43.51455556,
          36.77619444,
          39.84395194,
          26.17583333,
          40.50898361,
          47.949255,
          43.58135111,
          42.48180389,
          34.89924833,
          42.91130556,
          31.32133917,
          34.82916444,
          38.50886722,
          46.77411111,
          42.90835556,
          44.74144472,
          32.51086556,
          46.26468028,
          39.14096722,
          31.32737167,
          43.41713889,
          35.61677778,
          42.15614361,
          41.50409361,
          38.13863889,
          30.7825,
          44.77761917,
          35.65884306,
          40.97811528,
          31.25902778,
          40.85097222,
          40.97846583,
          44.52019417,
          37.06083333,
          35.23705806,
          41.33814944,
          33.45033444,
          44.34889806,
          35.07297222,
          33.369955,
          35.33659028,
          32.35413889,
          46.60681806,
          47.48200194,
          32.33313333,
          46.353639,
          37.95375861,
          35.03526833,
          46.37449806,
          37.70097028,
          42.74811944,
          44.47300361,
          48.31140472,
          28.10275,
          29.17991667,
          40.65236278,
          46.84209028,
          41.155722499999996,
          41.5942175,
          37.85830556,
          38.37315083,
          48.79275,
          37.62404861,
          44.25740806,
          36.385913,
          27.91076333,
          33.98879611,
          34.99147222,
          44.86525722,
          42.40295944,
          43.90882639,
          34.681499,
          45.8076625
         ],
         "locationmode": "USA-states",
         "lon": [
          -87.90446417,
          -84.42694444,
          -97.0372,
          -112.00805559999999,
          -104.6670019,
          -95.33972222,
          -122.3748433,
          -118.40807439999999,
          -81.31602778,
          -80.94312583,
          -111.9777731,
          -82.53325,
          -74.16866056,
          -115.15233329999998,
          -75.24114083,
          -93.2169225,
          -122.30931310000001,
          -73.87260917,
          -87.75242444,
          -77.45580972,
          -117.1896567,
          -90.35998972,
          -83.34883583,
          -73.77892556,
          -80.29055556,
          -71.00517917,
          -121.5907669,
          -76.66819833,
          -117.86822250000002,
          -90.25802778,
          -121.92900890000001,
          -77.03772222,
          -122.5975,
          -81.75516667,
          -80.09559417,
          -78.78747222,
          -95.27888889,
          -98.46977778,
          -80.15275,
          -94.71390556,
          -122.22071670000001,
          -80.23287083,
          -89.97666667,
          -87.89658333,
          -81.84939667,
          -81.68786111,
          -110.94102779999999,
          -86.29438417,
          -119.76806470000001,
          -97.60073389,
          -71.42822111,
          -95.88824167,
          -84.6621725,
          -82.89188278,
          -85.736,
          -117.60119440000001,
          -92.22424556,
          -96.85177222,
          -95.89417306,
          -76.20122222,
          -84.219375,
          -77.67238389,
          -94.30681111,
          -86.67818222,
          -106.6091944,
          -90.07588889,
          -106.37780559999999,
          -77.31966667,
          -72.68322833,
          -102.20191390000001,
          -91.14963444,
          -83.99285583,
          -104.70025,
          -87.18744444,
          -76.10631056,
          -86.75354972,
          -71.43705583,
          -116.5062531,
          -82.55411111,
          -97.50121528,
          -86.77310944,
          -81.11953944,
          -91.987655,
          -119.8403733,
          -117.5338425,
          -88.24283333,
          -97.43304583,
          -78.73216667,
          -93.66068222,
          -76.76340361,
          -70.30875,
          -86.39397611,
          -76.4929875,
          -73.70757444,
          -121.84294779999999,
          -85.52276778,
          -84.550781,
          -114.60597220000001,
          -106.868845,
          -84.35033333,
          -89.07009278,
          -103.0573708,
          -118.1516111,
          -77.90255556,
          -84.60538889,
          -89.33751361,
          -123.21868559999999,
          -81.20213889,
          -101.8227778,
          -91.71087222,
          -82.21885833,
          -79.9372975,
          -73.10021194,
          -90.50753917,
          -82.54180556,
          -81.44246556,
          -88.91595278,
          -97.65439389,
          -86.5254,
          -93.82559833,
          -96.81498889,
          -107.21765970000001,
          -122.8734978,
          -89.69330556,
          -99.46154361,
          -97.66987194,
          -99.68189722,
          -93.38685806,
          -83.74345639,
          -82.40742056,
          -97.82779778,
          -80.04050583,
          -88.12959000000001,
          -121.1499633,
          -84.93886111,
          -86.31847417,
          -116.22277779999999,
          -78.92833333,
          -101.2803339,
          -88.27805556,
          -79.97542833,
          -106.91769529999999,
          -110.7377389,
          -111.15300719999999,
          -108.5267347,
          -118.3584969,
          -87.53062667,
          -106.9331817,
          -112.07016670000002,
          -119.7181389,
          -89.67761861,
          -98.23861111,
          -122.2934019,
          -97.17611111,
          -96.74170028,
          -114.4877356,
          -120.4575825,
          -112.59586110000001,
          -85.44962889,
          -77.61213778,
          -107.89383329999998,
          -100.74672220000001,
          -106.46446609999998,
          -85.582235,
          -92.03768778,
          -119.11902920000001,
          -96.67083278,
          -92.54855611,
          -124.2460278,
          -106.08813889999999,
          -121.7332081,
          -74.10483833,
          -78.45286111,
          -83.27672222,
          -89.66677944,
          -117.8295122,
          -124.1086189,
          -81.46630556,
          -96.75925,
          -85.19514639,
          -109.02379609999998,
          -88.77375,
          -120.64239309999999,
          -75.72426750000001,
          -88.59136861,
          -105.5393614,
          -77.04294444,
          -81.96449611,
          -94.36744111,
          -95.40238611,
          -111.9827503,
          -111.37068529999999,
          -88.75120556,
          -87.395361,
          -107.90848000000001,
          -85.20378778,
          -117.01539440000002,
          -113.098575,
          -73.80297861,
          -73.1503125,
          -114.25506940000001,
          -80.64580556,
          -81.05805556,
          -75.44040167,
          -92.19364861,
          -104.81183809999999,
          -109.0651928,
          -80.39947222,
          -81.59318972,
          -122.53752779999999,
          -118.8377722,
          -88.51947556,
          -92.548828,
          -82.68743944,
          -98.49189333,
          -78.88,
          -91.48507194,
          -90.70916722,
          -92.49798722,
          -90.348816,
          -108.54286110000001
         ],
         "marker": {
          "color": "rgb(255, 0, 0)",
          "line": {
           "color": "rgba(68, 68, 68, 0)",
           "width": 3
          },
          "size": 2
         },
         "mode": "markers",
         "text": [
          "Chicago O'Hare International",
          "William B Hartsfield-Atlanta Intl",
          "Dallas-Fort Worth International",
          "Phoenix Sky Harbor International",
          "Denver Intl",
          "George Bush Intercontinental",
          "San Francisco International",
          "Los Angeles International",
          "Orlando International",
          "Charlotte/Douglas International",
          "Salt Lake City Intl",
          "Tampa International ",
          "Newark Intl",
          "McCarran International",
          "Philadelphia Intl",
          "Minneapolis-St Paul Intl",
          "Seattle-Tacoma Intl",
          "LaGuardia",
          "Chicago Midway",
          "Washington Dulles International",
          "San Diego International-Lindbergh ",
          "Lambert-St Louis International",
          "Detroit Metropolitan-Wayne County",
          "John F Kennedy Intl",
          "Miami International",
          "Gen Edw L Logan Intl",
          "Sacramento International",
          "Baltimore-Washington International",
          "John Wayne /Orange Co",
          "New Orleans International ",
          "San Jose International",
          "Ronald Reagan Washington National",
          "Portland Intl",
          "Southwest Florida International",
          "Palm Beach International",
          "Raleigh-Durham International",
          "William P Hobby",
          "San Antonio International",
          "Fort Lauderdale-Hollywood Int'l",
          "Kansas City International",
          "Metropolitan Oakland International",
          "Pittsburgh International",
          "Memphis International",
          "General Mitchell International",
          "Cleveland-Hopkins Intl",
          "Jacksonville International",
          "Tucson International",
          "Indianapolis International",
          "Reno/Tahoe International",
          "Will Rogers World",
          "Theodore F Green State",
          "Tulsa International",
          "Cincinnati Northern Kentucky Intl",
          "Port Columbus Intl",
          "Louisville International-Standiford ",
          "Ontario International",
          "Adams ",
          "Dallas Love ",
          "Eppley Airfield",
          "Norfolk International",
          "James M Cox Dayton Intl",
          "Greater Rochester Int'l",
          "Northwest Arkansas Regional",
          "Nashville International",
          "Albuquerque International",
          "Jackson International",
          "El Paso International",
          "Richmond International",
          "Bradley International",
          "Midland International",
          "Baton Rouge Metropolitan, Ryan ",
          "McGhee-Tyson",
          "City of Colorado Springs Muni",
          "Pensacola Regional",
          "Syracuse-Hancock Intl",
          "Birmingham International",
          "Manchester",
          "Palm Springs International",
          "Sarasota Bradenton International",
          "Corpus Christi International",
          "Huntsville International ",
          "Columbia Metropolitan",
          "Lafayette Regional",
          "Santa Barbara Municipal",
          "Spokane Intl",
          "Mobile Regional",
          "Wichita Mid-Continent",
          "Buffalo Niagara Intl",
          "Des Moines International",
          "Harrisburg Intl",
          "Portland International Jetport",
          "Montgomery Regional Apt",
          "Newport News/Williamsburg International",
          "Westchester Cty",
          "Monterey Peninsula",
          "Kent County International",
          "Florida Beach",
          "Yuma MCAS-Yuma International",
          "Aspen-Pitkin Co/Sardy ",
          "Tallahassee Regional",
          "Gulfport-Biloxi Regional",
          "Rapid City Regional",
          "Long Beach (Daugherty )",
          "Wilmington International",
          "Blue Grass ",
          "Dane County Regional",
          "Mahlon Sweet ",
          "Savannah International",
          "Lubbock International",
          "Eastern Iowa ",
          "Greenville-Spartanburg",
          "Piedmont Triad International",
          "Long Island - MacArthur",
          "Quad City",
          "Asheville Regional",
          "Akron-Canton Regional",
          "Central Illinois Regional",
          "Valley International",
          "Eglin Air Force Base",
          "Shreveport Regional",
          "Hector International",
          "Yampa Valley",
          "Rogue Valley International",
          "Greater Peoria Regional",
          "Laredo International",
          "Austin-Bergstrom International",
          "Abilene Regional",
          "Springfield-Branson Regional",
          "Bishop",
          "Tri-Cities Regional",
          "Robert Gray AAF",
          "Charleston AFB/International",
          "Austin Straubel International",
          "Roberts ",
          "Columbus Metropolitan",
          "South Bend Regional",
          "Boise Air Terminal",
          "Myrtle Beach International",
          "Minot International",
          "University of Illinois-Willard",
          "Roanoke Regional/ Woodrum ",
          "Eagle County Regional",
          "Jackson Hole",
          "Gallatin ",
          "Walker ",
          "Burbank-Glendale-Pasadena",
          "Evansville Regional",
          "Gunnison County",
          "Idaho Falls Regional",
          "Fresno Yosemite International",
          "Capital",
          "McAllen Miller International",
          "Redding Municipal",
          "Grand Forks International",
          "Joe Foss ",
          "Joslin Field - Magic Valley",
          "Santa Maria Pub/Capt G Allan Hancock ",
          "Pocatello Regional",
          "Dothan ",
          "Albert J Ellis",
          "Montrose Regional",
          "Bismarck Municipal",
          "Natrona County Intl",
          "Cherry Capital",
          "Monroe Regional",
          "Tri-Cities",
          "Manhattan Regional",
          "Alexandria International",
          "North Bend Muni",
          "Santa Fe Municipal",
          "Klamath Falls International",
          "Stewart",
          "Charlottesville-Albermarle",
          "Valdosta Regional",
          "Central Wisconsin",
          "Inyokern",
          "Arcata",
          "Glynco Jetport",
          "Lincoln Municipal",
          "Fort Wayne International",
          "Yellowstone Regional",
          "Barkley Regional",
          "San Luis Obispo Co-McChesney ",
          "Wilkes-Barre/Scranton Intl",
          "Golden Triangle Regional",
          "Gillette-Campbell County",
          "Craven County Regional",
          "Bush ",
          "Fort Smith Regional",
          "Tyler Pounds ",
          "Helena Regional",
          "Great Falls Intl",
          "Key ",
          "Marquette County Airport",
          "Telluride Regional",
          "Lovell ",
          "Lewiston-Nez Perce County",
          "Cedar City Muni",
          "Albany Cty",
          "Burlington International",
          "Glacier Park Intl",
          "Melbourne International ",
          "Daytona Beach International",
          "Lehigh Valley International",
          "Duluth International",
          "Cheyenne",
          "Rock Springs-Sweetwater County",
          "Greenbrier Valley",
          "Yeager",
          "Bellingham Intl",
          "Mammoth Yosemite",
          "Outagamie County Regional",
          "Branson Airport",
          "St. Petersburg-Clearwater International",
          "Sheppard AFB/Wichita Falls Municipal",
          "Fayetteville Municipal",
          "Chippewa Valley Regional",
          "Dubuque Municipal",
          "Rochester International",
          "Tunica Municipal Airport",
          "Billings Logan Intl"
         ],
         "type": "scattergeo"
        }
       ],
       "layout": {
        "geo": {
         "countrycolor": "rgb(204, 204, 204)",
         "landcolor": "rgb(243, 243, 243)",
         "projection": {
          "type": "azimuthal equal area"
         },
         "scope": "north america",
         "showland": true
        },
        "height": 800,
        "showlegend": false,
        "template": {
         "data": {
          "bar": [
           {
            "error_x": {
             "color": "#2a3f5f"
            },
            "error_y": {
             "color": "#2a3f5f"
            },
            "marker": {
             "line": {
              "color": "#E5ECF6",
              "width": 0.5
             }
            },
            "type": "bar"
           }
          ],
          "barpolar": [
           {
            "marker": {
             "line": {
              "color": "#E5ECF6",
              "width": 0.5
             }
            },
            "type": "barpolar"
           }
          ],
          "carpet": [
           {
            "aaxis": {
             "endlinecolor": "#2a3f5f",
             "gridcolor": "white",
             "linecolor": "white",
             "minorgridcolor": "white",
             "startlinecolor": "#2a3f5f"
            },
            "baxis": {
             "endlinecolor": "#2a3f5f",
             "gridcolor": "white",
             "linecolor": "white",
             "minorgridcolor": "white",
             "startlinecolor": "#2a3f5f"
            },
            "type": "carpet"
           }
          ],
          "choropleth": [
           {
            "colorbar": {
             "outlinewidth": 0,
             "ticks": ""
            },
            "type": "choropleth"
           }
          ],
          "contour": [
           {
            "colorbar": {
             "outlinewidth": 0,
             "ticks": ""
            },
            "colorscale": [
             [
              0,
              "#0d0887"
             ],
             [
              0.1111111111111111,
              "#46039f"
             ],
             [
              0.2222222222222222,
              "#7201a8"
             ],
             [
              0.3333333333333333,
              "#9c179e"
             ],
             [
              0.4444444444444444,
              "#bd3786"
             ],
             [
              0.5555555555555556,
              "#d8576b"
             ],
             [
              0.6666666666666666,
              "#ed7953"
             ],
             [
              0.7777777777777778,
              "#fb9f3a"
             ],
             [
              0.8888888888888888,
              "#fdca26"
             ],
             [
              1,
              "#f0f921"
             ]
            ],
            "type": "contour"
           }
          ],
          "contourcarpet": [
           {
            "colorbar": {
             "outlinewidth": 0,
             "ticks": ""
            },
            "type": "contourcarpet"
           }
          ],
          "heatmap": [
           {
            "colorbar": {
             "outlinewidth": 0,
             "ticks": ""
            },
            "colorscale": [
             [
              0,
              "#0d0887"
             ],
             [
              0.1111111111111111,
              "#46039f"
             ],
             [
              0.2222222222222222,
              "#7201a8"
             ],
             [
              0.3333333333333333,
              "#9c179e"
             ],
             [
              0.4444444444444444,
              "#bd3786"
             ],
             [
              0.5555555555555556,
              "#d8576b"
             ],
             [
              0.6666666666666666,
              "#ed7953"
             ],
             [
              0.7777777777777778,
              "#fb9f3a"
             ],
             [
              0.8888888888888888,
              "#fdca26"
             ],
             [
              1,
              "#f0f921"
             ]
            ],
            "type": "heatmap"
           }
          ],
          "heatmapgl": [
           {
            "colorbar": {
             "outlinewidth": 0,
             "ticks": ""
            },
            "colorscale": [
             [
              0,
              "#0d0887"
             ],
             [
              0.1111111111111111,
              "#46039f"
             ],
             [
              0.2222222222222222,
              "#7201a8"
             ],
             [
              0.3333333333333333,
              "#9c179e"
             ],
             [
              0.4444444444444444,
              "#bd3786"
             ],
             [
              0.5555555555555556,
              "#d8576b"
             ],
             [
              0.6666666666666666,
              "#ed7953"
             ],
             [
              0.7777777777777778,
              "#fb9f3a"
             ],
             [
              0.8888888888888888,
              "#fdca26"
             ],
             [
              1,
              "#f0f921"
             ]
            ],
            "type": "heatmapgl"
           }
          ],
          "histogram": [
           {
            "marker": {
             "colorbar": {
              "outlinewidth": 0,
              "ticks": ""
             }
            },
            "type": "histogram"
           }
          ],
          "histogram2d": [
           {
            "colorbar": {
             "outlinewidth": 0,
             "ticks": ""
            },
            "colorscale": [
             [
              0,
              "#0d0887"
             ],
             [
              0.1111111111111111,
              "#46039f"
             ],
             [
              0.2222222222222222,
              "#7201a8"
             ],
             [
              0.3333333333333333,
              "#9c179e"
             ],
             [
              0.4444444444444444,
              "#bd3786"
             ],
             [
              0.5555555555555556,
              "#d8576b"
             ],
             [
              0.6666666666666666,
              "#ed7953"
             ],
             [
              0.7777777777777778,
              "#fb9f3a"
             ],
             [
              0.8888888888888888,
              "#fdca26"
             ],
             [
              1,
              "#f0f921"
             ]
            ],
            "type": "histogram2d"
           }
          ],
          "histogram2dcontour": [
           {
            "colorbar": {
             "outlinewidth": 0,
             "ticks": ""
            },
            "colorscale": [
             [
              0,
              "#0d0887"
             ],
             [
              0.1111111111111111,
              "#46039f"
             ],
             [
              0.2222222222222222,
              "#7201a8"
             ],
             [
              0.3333333333333333,
              "#9c179e"
             ],
             [
              0.4444444444444444,
              "#bd3786"
             ],
             [
              0.5555555555555556,
              "#d8576b"
             ],
             [
              0.6666666666666666,
              "#ed7953"
             ],
             [
              0.7777777777777778,
              "#fb9f3a"
             ],
             [
              0.8888888888888888,
              "#fdca26"
             ],
             [
              1,
              "#f0f921"
             ]
            ],
            "type": "histogram2dcontour"
           }
          ],
          "mesh3d": [
           {
            "colorbar": {
             "outlinewidth": 0,
             "ticks": ""
            },
            "type": "mesh3d"
           }
          ],
          "parcoords": [
           {
            "line": {
             "colorbar": {
              "outlinewidth": 0,
              "ticks": ""
             }
            },
            "type": "parcoords"
           }
          ],
          "pie": [
           {
            "automargin": true,
            "type": "pie"
           }
          ],
          "scatter": [
           {
            "marker": {
             "colorbar": {
              "outlinewidth": 0,
              "ticks": ""
             }
            },
            "type": "scatter"
           }
          ],
          "scatter3d": [
           {
            "line": {
             "colorbar": {
              "outlinewidth": 0,
              "ticks": ""
             }
            },
            "marker": {
             "colorbar": {
              "outlinewidth": 0,
              "ticks": ""
             }
            },
            "type": "scatter3d"
           }
          ],
          "scattercarpet": [
           {
            "marker": {
             "colorbar": {
              "outlinewidth": 0,
              "ticks": ""
             }
            },
            "type": "scattercarpet"
           }
          ],
          "scattergeo": [
           {
            "marker": {
             "colorbar": {
              "outlinewidth": 0,
              "ticks": ""
             }
            },
            "type": "scattergeo"
           }
          ],
          "scattergl": [
           {
            "marker": {
             "colorbar": {
              "outlinewidth": 0,
              "ticks": ""
             }
            },
            "type": "scattergl"
           }
          ],
          "scattermapbox": [
           {
            "marker": {
             "colorbar": {
              "outlinewidth": 0,
              "ticks": ""
             }
            },
            "type": "scattermapbox"
           }
          ],
          "scatterpolar": [
           {
            "marker": {
             "colorbar": {
              "outlinewidth": 0,
              "ticks": ""
             }
            },
            "type": "scatterpolar"
           }
          ],
          "scatterpolargl": [
           {
            "marker": {
             "colorbar": {
              "outlinewidth": 0,
              "ticks": ""
             }
            },
            "type": "scatterpolargl"
           }
          ],
          "scatterternary": [
           {
            "marker": {
             "colorbar": {
              "outlinewidth": 0,
              "ticks": ""
             }
            },
            "type": "scatterternary"
           }
          ],
          "surface": [
           {
            "colorbar": {
             "outlinewidth": 0,
             "ticks": ""
            },
            "colorscale": [
             [
              0,
              "#0d0887"
             ],
             [
              0.1111111111111111,
              "#46039f"
             ],
             [
              0.2222222222222222,
              "#7201a8"
             ],
             [
              0.3333333333333333,
              "#9c179e"
             ],
             [
              0.4444444444444444,
              "#bd3786"
             ],
             [
              0.5555555555555556,
              "#d8576b"
             ],
             [
              0.6666666666666666,
              "#ed7953"
             ],
             [
              0.7777777777777778,
              "#fb9f3a"
             ],
             [
              0.8888888888888888,
              "#fdca26"
             ],
             [
              1,
              "#f0f921"
             ]
            ],
            "type": "surface"
           }
          ],
          "table": [
           {
            "cells": {
             "fill": {
              "color": "#EBF0F8"
             },
             "line": {
              "color": "white"
             }
            },
            "header": {
             "fill": {
              "color": "#C8D4E3"
             },
             "line": {
              "color": "white"
             }
            },
            "type": "table"
           }
          ]
         },
         "layout": {
          "annotationdefaults": {
           "arrowcolor": "#2a3f5f",
           "arrowhead": 0,
           "arrowwidth": 1
          },
          "autotypenumbers": "strict",
          "coloraxis": {
           "colorbar": {
            "outlinewidth": 0,
            "ticks": ""
           }
          },
          "colorscale": {
           "diverging": [
            [
             0,
             "#8e0152"
            ],
            [
             0.1,
             "#c51b7d"
            ],
            [
             0.2,
             "#de77ae"
            ],
            [
             0.3,
             "#f1b6da"
            ],
            [
             0.4,
             "#fde0ef"
            ],
            [
             0.5,
             "#f7f7f7"
            ],
            [
             0.6,
             "#e6f5d0"
            ],
            [
             0.7,
             "#b8e186"
            ],
            [
             0.8,
             "#7fbc41"
            ],
            [
             0.9,
             "#4d9221"
            ],
            [
             1,
             "#276419"
            ]
           ],
           "sequential": [
            [
             0,
             "#0d0887"
            ],
            [
             0.1111111111111111,
             "#46039f"
            ],
            [
             0.2222222222222222,
             "#7201a8"
            ],
            [
             0.3333333333333333,
             "#9c179e"
            ],
            [
             0.4444444444444444,
             "#bd3786"
            ],
            [
             0.5555555555555556,
             "#d8576b"
            ],
            [
             0.6666666666666666,
             "#ed7953"
            ],
            [
             0.7777777777777778,
             "#fb9f3a"
            ],
            [
             0.8888888888888888,
             "#fdca26"
            ],
            [
             1,
             "#f0f921"
            ]
           ],
           "sequentialminus": [
            [
             0,
             "#0d0887"
            ],
            [
             0.1111111111111111,
             "#46039f"
            ],
            [
             0.2222222222222222,
             "#7201a8"
            ],
            [
             0.3333333333333333,
             "#9c179e"
            ],
            [
             0.4444444444444444,
             "#bd3786"
            ],
            [
             0.5555555555555556,
             "#d8576b"
            ],
            [
             0.6666666666666666,
             "#ed7953"
            ],
            [
             0.7777777777777778,
             "#fb9f3a"
            ],
            [
             0.8888888888888888,
             "#fdca26"
            ],
            [
             1,
             "#f0f921"
            ]
           ]
          },
          "colorway": [
           "#636efa",
           "#EF553B",
           "#00cc96",
           "#ab63fa",
           "#FFA15A",
           "#19d3f3",
           "#FF6692",
           "#B6E880",
           "#FF97FF",
           "#FECB52"
          ],
          "font": {
           "color": "#2a3f5f"
          },
          "geo": {
           "bgcolor": "white",
           "lakecolor": "white",
           "landcolor": "#E5ECF6",
           "showlakes": true,
           "showland": true,
           "subunitcolor": "white"
          },
          "hoverlabel": {
           "align": "left"
          },
          "hovermode": "closest",
          "mapbox": {
           "style": "light"
          },
          "paper_bgcolor": "white",
          "plot_bgcolor": "#E5ECF6",
          "polar": {
           "angularaxis": {
            "gridcolor": "white",
            "linecolor": "white",
            "ticks": ""
           },
           "bgcolor": "#E5ECF6",
           "radialaxis": {
            "gridcolor": "white",
            "linecolor": "white",
            "ticks": ""
           }
          },
          "scene": {
           "xaxis": {
            "backgroundcolor": "#E5ECF6",
            "gridcolor": "white",
            "gridwidth": 2,
            "linecolor": "white",
            "showbackground": true,
            "ticks": "",
            "zerolinecolor": "white"
           },
           "yaxis": {
            "backgroundcolor": "#E5ECF6",
            "gridcolor": "white",
            "gridwidth": 2,
            "linecolor": "white",
            "showbackground": true,
            "ticks": "",
            "zerolinecolor": "white"
           },
           "zaxis": {
            "backgroundcolor": "#E5ECF6",
            "gridcolor": "white",
            "gridwidth": 2,
            "linecolor": "white",
            "showbackground": true,
            "ticks": "",
            "zerolinecolor": "white"
           }
          },
          "shapedefaults": {
           "line": {
            "color": "#2a3f5f"
           }
          },
          "ternary": {
           "aaxis": {
            "gridcolor": "white",
            "linecolor": "white",
            "ticks": ""
           },
           "baxis": {
            "gridcolor": "white",
            "linecolor": "white",
            "ticks": ""
           },
           "bgcolor": "#E5ECF6",
           "caxis": {
            "gridcolor": "white",
            "linecolor": "white",
            "ticks": ""
           }
          },
          "title": {
           "x": 0.05
          },
          "xaxis": {
           "automargin": true,
           "gridcolor": "white",
           "linecolor": "white",
           "ticks": "",
           "title": {
            "standoff": 15
           },
           "zerolinecolor": "white",
           "zerolinewidth": 2
          },
          "yaxis": {
           "automargin": true,
           "gridcolor": "white",
           "linecolor": "white",
           "ticks": "",
           "title": {
            "standoff": 15
           },
           "zerolinecolor": "white",
           "zerolinewidth": 2
          }
         }
        },
        "title": {
         "text": "Feb. 2011 American Airline flight paths<br>(Hover for airport names)"
        }
       }
      },
      "text/html": "<div>                            <div id=\"921bd838-635d-4f65-93ed-7f108989f6e6\" class=\"plotly-graph-div\" style=\"height:800px; width:100%;\"></div>            <script type=\"text/javascript\">                require([\"plotly\"], function(Plotly) {                    window.PLOTLYENV=window.PLOTLYENV || {};                                    if (document.getElementById(\"921bd838-635d-4f65-93ed-7f108989f6e6\")) {                    Plotly.newPlot(                        \"921bd838-635d-4f65-93ed-7f108989f6e6\",                        [{\"lat\": [32.89595056, 35.04022222], \"line\": {\"color\": \"red\", \"width\": 1}, \"locationmode\": \"USA-states\", \"lon\": [-97.0372, -106.6091944], \"mode\": \"lines\", \"opacity\": 0.48577680525164113, \"type\": \"scattergeo\"}, {\"lat\": [41.979595, 30.19453278], \"line\": {\"color\": \"red\", \"width\": 1}, \"locationmode\": \"USA-states\", \"lon\": [-87.90446417, -97.66987194], \"mode\": \"lines\", \"opacity\": 0.18161925601750548, \"type\": \"scattergeo\"}, {\"lat\": [32.89595056, 41.93887417], \"line\": {\"color\": \"red\", \"width\": 1}, \"locationmode\": \"USA-states\", \"lon\": [-97.0372, -72.68322833], \"mode\": \"lines\", \"opacity\": 0.1772428884026258, \"type\": \"scattergeo\"}, {\"lat\": [18.43941667, 41.93887417], \"line\": {\"color\": \"red\", \"width\": 1}, \"locationmode\": \"USA-states\", \"lon\": [-66.00183333, -72.68322833], \"mode\": \"lines\", \"opacity\": 0.061269146608315096, \"type\": \"scattergeo\"}, {\"lat\": [32.89595056, 33.56294306], \"line\": {\"color\": \"red\", \"width\": 1}, \"locationmode\": \"USA-states\", \"lon\": [-97.0372, -86.75354972], \"mode\": \"lines\", \"opacity\": 0.1838074398249453, \"type\": \"scattergeo\"}, {\"lat\": [25.79325, 36.12447667], \"line\": {\"color\": \"red\", \"width\": 1}, \"locationmode\": \"USA-states\", \"lon\": [-80.29055556, -86.67818222], \"mode\": \"lines\", \"opacity\": 0.061269146608315096, \"type\": \"scattergeo\"}, {\"lat\": [32.89595056, 42.3643475], \"line\": {\"color\": \"red\", \"width\": 1}, \"locationmode\": \"USA-states\", \"lon\": [-97.0372, -71.00517917], \"mode\": \"lines\", \"opacity\": 0.4617067833698031, \"type\": \"scattergeo\"}, {\"lat\": [25.79325, 42.3643475], \"line\": {\"color\": \"red\", \"width\": 1}, \"locationmode\": \"USA-states\", \"lon\": [-80.29055556, -71.00517917], \"mode\": \"lines\", \"opacity\": 0.4288840262582057, \"type\": \"scattergeo\"}, {\"lat\": [41.979595, 42.3643475], \"line\": {\"color\": \"red\", \"width\": 1}, \"locationmode\": \"USA-states\", \"lon\": [-87.90446417, -71.00517917], \"mode\": \"lines\", \"opacity\": 0.47045951859956237, \"type\": \"scattergeo\"}, {\"lat\": [18.43941667, 42.3643475], \"line\": {\"color\": \"red\", \"width\": 1}, \"locationmode\": \"USA-states\", \"lon\": [-66.00183333, -71.00517917], \"mode\": \"lines\", \"opacity\": 0.061269146608315096, \"type\": \"scattergeo\"}, {\"lat\": [18.33730556, 42.3643475], \"line\": {\"color\": \"red\", \"width\": 1}, \"locationmode\": \"USA-states\", \"lon\": [-64.97336111, -71.00517917], \"mode\": \"lines\", \"opacity\": 0.04814004376367615, \"type\": \"scattergeo\"}, {\"lat\": [25.79325, 39.17540167], \"line\": {\"color\": \"red\", \"width\": 1}, \"locationmode\": \"USA-states\", \"lon\": [-80.29055556, -76.66819833], \"mode\": \"lines\", \"opacity\": 0.12253829321663019, \"type\": \"scattergeo\"}, {\"lat\": [18.43941667, 39.17540167], \"line\": {\"color\": \"red\", \"width\": 1}, \"locationmode\": \"USA-states\", \"lon\": [-66.00183333, -76.66819833], \"mode\": \"lines\", \"opacity\": 0.061269146608315096, \"type\": \"scattergeo\"}, {\"lat\": [32.89595056, 35.21401111], \"line\": {\"color\": \"red\", \"width\": 1}, \"locationmode\": \"USA-states\", \"lon\": [-97.0372, -80.94312583], \"mode\": \"lines\", \"opacity\": 0.3938730853391685, \"type\": \"scattergeo\"}, {\"lat\": [32.89595056, 38.80580556], \"line\": {\"color\": \"red\", \"width\": 1}, \"locationmode\": \"USA-states\", \"lon\": [-97.0372, -104.70025], \"mode\": \"lines\", \"opacity\": 0.3041575492341357, \"type\": \"scattergeo\"}, {\"lat\": [32.89595056, 39.90237583], \"line\": {\"color\": \"red\", \"width\": 1}, \"locationmode\": \"USA-states\", \"lon\": [-97.0372, -84.219375], \"mode\": \"lines\", \"opacity\": 0.1137855579868709, \"type\": \"scattergeo\"}, {\"lat\": [32.89595056, 38.85208333], \"line\": {\"color\": \"red\", \"width\": 1}, \"locationmode\": \"USA-states\", \"lon\": [-97.0372, -77.03772222], \"mode\": \"lines\", \"opacity\": 0.6433260393873085, \"type\": \"scattergeo\"}, {\"lat\": [25.79325, 39.85840806], \"line\": {\"color\": \"red\", \"width\": 1}, \"locationmode\": \"USA-states\", \"lon\": [-80.29055556, -104.6670019], \"mode\": \"lines\", \"opacity\": 0.12253829321663019, \"type\": \"scattergeo\"}, {\"lat\": [41.979595, 39.85840806], \"line\": {\"color\": \"red\", \"width\": 1}, \"locationmode\": \"USA-states\", \"lon\": [-87.90446417, -104.6670019], \"mode\": \"lines\", \"opacity\": 0.12253829321663019, \"type\": \"scattergeo\"}, {\"lat\": [33.64044444, 32.89595056], \"line\": {\"color\": \"red\", \"width\": 1}, \"locationmode\": \"USA-states\", \"lon\": [-84.42694444, -97.0372], \"mode\": \"lines\", \"opacity\": 0.6345733041575492, \"type\": \"scattergeo\"}, {\"lat\": [30.19453278, 32.89595056], \"line\": {\"color\": \"red\", \"width\": 1}, \"locationmode\": \"USA-states\", \"lon\": [-97.66987194, -97.0372], \"mode\": \"lines\", \"opacity\": 0.8971553610503282, \"type\": \"scattergeo\"}, {\"lat\": [36.12447667, 32.89595056], \"line\": {\"color\": \"red\", \"width\": 1}, \"locationmode\": \"USA-states\", \"lon\": [-86.67818222, -97.0372], \"mode\": \"lines\", \"opacity\": 0.47702407002188185, \"type\": \"scattergeo\"}, {\"lat\": [34.20061917, 32.89595056], \"line\": {\"color\": \"red\", \"width\": 1}, \"locationmode\": \"USA-states\", \"lon\": [-118.3584969, -97.0372], \"mode\": \"lines\", \"opacity\": 0.2275711159737418, \"type\": \"scattergeo\"}, {\"lat\": [39.17540167, 32.89595056], \"line\": {\"color\": \"red\", \"width\": 1}, \"locationmode\": \"USA-states\", \"lon\": [-76.66819833, -97.0372], \"mode\": \"lines\", \"opacity\": 0.35667396061269147, \"type\": \"scattergeo\"}, {\"lat\": [39.99798528, 32.89595056], \"line\": {\"color\": \"red\", \"width\": 1}, \"locationmode\": \"USA-states\", \"lon\": [-82.89188278, -97.0372], \"mode\": \"lines\", \"opacity\": 0.1137855579868709, \"type\": \"scattergeo\"}, {\"lat\": [39.85840806, 32.89595056], \"line\": {\"color\": \"red\", \"width\": 1}, \"locationmode\": \"USA-states\", \"lon\": [-104.6670019, -97.0372], \"mode\": \"lines\", \"opacity\": 0.6105032822757112, \"type\": \"scattergeo\"}, {\"lat\": [42.21205889, 32.89595056], \"line\": {\"color\": \"red\", \"width\": 1}, \"locationmode\": \"USA-states\", \"lon\": [-83.34883583, -97.0372], \"mode\": \"lines\", \"opacity\": 0.2844638949671772, \"type\": \"scattergeo\"}, {\"lat\": [39.64256778, 32.89595056], \"line\": {\"color\": \"red\", \"width\": 1}, \"locationmode\": \"USA-states\", \"lon\": [-106.91769529999999, -97.0372], \"mode\": \"lines\", \"opacity\": 0.1487964989059081, \"type\": \"scattergeo\"}, {\"lat\": [40.69249722, 32.89595056], \"line\": {\"color\": \"red\", \"width\": 1}, \"locationmode\": \"USA-states\", \"lon\": [-74.16866056, -97.0372], \"mode\": \"lines\", \"opacity\": 0.33916849015317285, \"type\": \"scattergeo\"}, {\"lat\": [36.77619444, 32.89595056], \"line\": {\"color\": \"red\", \"width\": 1}, \"locationmode\": \"USA-states\", \"lon\": [-119.7181389, -97.0372], \"mode\": \"lines\", \"opacity\": 0.12253829321663019, \"type\": \"scattergeo\"}, {\"lat\": [26.07258333, 32.89595056], \"line\": {\"color\": \"red\", \"width\": 1}, \"locationmode\": \"USA-states\", \"lon\": [-80.15275, -97.0372], \"mode\": \"lines\", \"opacity\": 0.3676148796498906, \"type\": \"scattergeo\"}, {\"lat\": [34.6404475, 32.89595056], \"line\": {\"color\": \"red\", \"width\": 1}, \"locationmode\": \"USA-states\", \"lon\": [-86.77310944, -97.0372], \"mode\": \"lines\", \"opacity\": 0.17286652078774617, \"type\": \"scattergeo\"}, {\"lat\": [29.98047222, 32.89595056], \"line\": {\"color\": \"red\", \"width\": 1}, \"locationmode\": \"USA-states\", \"lon\": [-95.33972222, -97.0372], \"mode\": \"lines\", \"opacity\": 0.3544857768052516, \"type\": \"scattergeo\"}, {\"lat\": [33.94253611, 32.89595056], \"line\": {\"color\": \"red\", \"width\": 1}, \"locationmode\": \"USA-states\", \"lon\": [-118.40807439999999, -97.0372], \"mode\": \"lines\", \"opacity\": 1.0, \"type\": \"scattergeo\"}, {\"lat\": [39.29760528, 32.89595056], \"line\": {\"color\": \"red\", \"width\": 1}, \"locationmode\": \"USA-states\", \"lon\": [-94.71390556, -97.0372], \"mode\": \"lines\", \"opacity\": 0.47702407002188185, \"type\": \"scattergeo\"}, {\"lat\": [28.42888889, 32.89595056], \"line\": {\"color\": \"red\", \"width\": 1}, \"locationmode\": \"USA-states\", \"lon\": [-81.31602778, -97.0372], \"mode\": \"lines\", \"opacity\": 0.5470459518599562, \"type\": \"scattergeo\"}, {\"lat\": [35.04241667, 32.89595056], \"line\": {\"color\": \"red\", \"width\": 1}, \"locationmode\": \"USA-states\", \"lon\": [-89.97666667, -97.0372], \"mode\": \"lines\", \"opacity\": 0.23413566739606126, \"type\": \"scattergeo\"}, {\"lat\": [26.17583333, 32.89595056], \"line\": {\"color\": \"red\", \"width\": 1}, \"locationmode\": \"USA-states\", \"lon\": [-98.23861111, -97.0372], \"mode\": \"lines\", \"opacity\": 0.23413566739606126, \"type\": \"scattergeo\"}, {\"lat\": [25.79325, 32.89595056], \"line\": {\"color\": \"red\", \"width\": 1}, \"locationmode\": \"USA-states\", \"lon\": [-80.29055556, -97.0372], \"mode\": \"lines\", \"opacity\": 0.612691466083151, \"type\": \"scattergeo\"}, {\"lat\": [44.88054694, 32.89595056], \"line\": {\"color\": \"red\", \"width\": 1}, \"locationmode\": \"USA-states\", \"lon\": [-93.2169225, -97.0372], \"mode\": \"lines\", \"opacity\": 0.35667396061269147, \"type\": \"scattergeo\"}, {\"lat\": [38.50886722, 32.89595056], \"line\": {\"color\": \"red\", \"width\": 1}, \"locationmode\": \"USA-states\", \"lon\": [-107.89383329999998, -97.0372], \"mode\": \"lines\", \"opacity\": 0.0175054704595186, \"type\": \"scattergeo\"}, {\"lat\": [20.89864972, 32.89595056], \"line\": {\"color\": \"red\", \"width\": 1}, \"locationmode\": \"USA-states\", \"lon\": [-156.43045780000003, -97.0372], \"mode\": \"lines\", \"opacity\": 0.061269146608315096, \"type\": \"scattergeo\"}, {\"lat\": [35.39308833, 32.89595056], \"line\": {\"color\": \"red\", \"width\": 1}, \"locationmode\": \"USA-states\", \"lon\": [-97.60073389, -97.0372], \"mode\": \"lines\", \"opacity\": 0.42669584245076586, \"type\": \"scattergeo\"}, {\"lat\": [41.30251861, 32.89595056], \"line\": {\"color\": \"red\", \"width\": 1}, \"locationmode\": \"USA-states\", \"lon\": [-95.89417306, -97.0372], \"mode\": \"lines\", \"opacity\": 0.2975929978118162, \"type\": \"scattergeo\"}, {\"lat\": [41.979595, 32.89595056], \"line\": {\"color\": \"red\", \"width\": 1}, \"locationmode\": \"USA-states\", \"lon\": [-87.90446417, -97.0372], \"mode\": \"lines\", \"opacity\": 0.9026258205689278, \"type\": \"scattergeo\"}, {\"lat\": [39.87195278, 32.89595056], \"line\": {\"color\": \"red\", \"width\": 1}, \"locationmode\": \"USA-states\", \"lon\": [-75.24114083, -97.0372], \"mode\": \"lines\", \"opacity\": 0.3522975929978118, \"type\": \"scattergeo\"}, {\"lat\": [33.43416667, 32.89595056], \"line\": {\"color\": \"red\", \"width\": 1}, \"locationmode\": \"USA-states\", \"lon\": [-112.00805559999999, -97.0372], \"mode\": \"lines\", \"opacity\": 0.6017505470459519, \"type\": \"scattergeo\"}, {\"lat\": [37.50516667, 32.89595056], \"line\": {\"color\": \"red\", \"width\": 1}, \"locationmode\": \"USA-states\", \"lon\": [-77.31966667, -97.0372], \"mode\": \"lines\", \"opacity\": 0.18161925601750548, \"type\": \"scattergeo\"}, {\"lat\": [39.49857611, 32.89595056], \"line\": {\"color\": \"red\", \"width\": 1}, \"locationmode\": \"USA-states\", \"lon\": [-119.76806470000001, -97.0372], \"mode\": \"lines\", \"opacity\": 0.16411378555798686, \"type\": \"scattergeo\"}, {\"lat\": [32.73355611, 32.89595056], \"line\": {\"color\": \"red\", \"width\": 1}, \"locationmode\": \"USA-states\", \"lon\": [-117.1896567, -97.0372], \"mode\": \"lines\", \"opacity\": 0.5470459518599562, \"type\": \"scattergeo\"}, {\"lat\": [29.53369444, 32.89595056], \"line\": {\"color\": \"red\", \"width\": 1}, \"locationmode\": \"USA-states\", \"lon\": [-98.46977778, -97.0372], \"mode\": \"lines\", \"opacity\": 0.9037199124726477, \"type\": \"scattergeo\"}, {\"lat\": [38.17438889, 32.89595056], \"line\": {\"color\": \"red\", \"width\": 1}, \"locationmode\": \"USA-states\", \"lon\": [-85.736, -97.0372], \"mode\": \"lines\", \"opacity\": 0.17943107221006566, \"type\": \"scattergeo\"}, {\"lat\": [37.61900194, 32.89595056], \"line\": {\"color\": \"red\", \"width\": 1}, \"locationmode\": \"USA-states\", \"lon\": [-122.3748433, -97.0372], \"mode\": \"lines\", \"opacity\": 0.5754923413566739, \"type\": \"scattergeo\"}, {\"lat\": [37.36186194, 32.89595056], \"line\": {\"color\": \"red\", \"width\": 1}, \"locationmode\": \"USA-states\", \"lon\": [-121.92900890000001, -97.0372], \"mode\": \"lines\", \"opacity\": 0.3479212253829322, \"type\": \"scattergeo\"}, {\"lat\": [40.78838778, 32.89595056], \"line\": {\"color\": \"red\", \"width\": 1}, \"locationmode\": \"USA-states\", \"lon\": [-111.9777731, -97.0372], \"mode\": \"lines\", \"opacity\": 0.3063457330415755, \"type\": \"scattergeo\"}, {\"lat\": [38.74768694, 32.89595056], \"line\": {\"color\": \"red\", \"width\": 1}, \"locationmode\": \"USA-states\", \"lon\": [-90.35998972, -97.0372], \"mode\": \"lines\", \"opacity\": 0.5317286652078774, \"type\": \"scattergeo\"}, {\"lat\": [36.28186944, 32.89595056], \"line\": {\"color\": \"red\", \"width\": 1}, \"locationmode\": \"USA-states\", \"lon\": [-94.30681111, -97.0372], \"mode\": \"lines\", \"opacity\": 0.05470459518599562, \"type\": \"scattergeo\"}, {\"lat\": [25.79325, 42.21205889], \"line\": {\"color\": \"red\", \"width\": 1}, \"locationmode\": \"USA-states\", \"lon\": [-80.29055556, -83.34883583], \"mode\": \"lines\", \"opacity\": 0.12253829321663019, \"type\": \"scattergeo\"}, {\"lat\": [40.77724306, 39.64256778], \"line\": {\"color\": \"red\", \"width\": 1}, \"locationmode\": \"USA-states\", \"lon\": [-73.87260917, -106.91769529999999], \"mode\": \"lines\", \"opacity\": 0.0087527352297593, \"type\": \"scattergeo\"}, {\"lat\": [41.979595, 39.64256778], \"line\": {\"color\": \"red\", \"width\": 1}, \"locationmode\": \"USA-states\", \"lon\": [-87.90446417, -106.91769529999999], \"mode\": \"lines\", \"opacity\": 0.0700218818380744, \"type\": \"scattergeo\"}, {\"lat\": [32.89595056, 31.80666667], \"line\": {\"color\": \"red\", \"width\": 1}, \"locationmode\": \"USA-states\", \"lon\": [-97.0372, -106.37780559999999], \"mode\": \"lines\", \"opacity\": 0.474835886214442, \"type\": \"scattergeo\"}, {\"lat\": [33.94253611, 40.69249722], \"line\": {\"color\": \"red\", \"width\": 1}, \"locationmode\": \"USA-states\", \"lon\": [-118.40807439999999, -74.16866056], \"mode\": \"lines\", \"opacity\": 0.05908096280087528, \"type\": \"scattergeo\"}, {\"lat\": [25.79325, 40.69249722], \"line\": {\"color\": \"red\", \"width\": 1}, \"locationmode\": \"USA-states\", \"lon\": [-80.29055556, -74.16866056], \"mode\": \"lines\", \"opacity\": 0.1838074398249453, \"type\": \"scattergeo\"}, {\"lat\": [40.63975111, 26.07258333], \"line\": {\"color\": \"red\", \"width\": 1}, \"locationmode\": \"USA-states\", \"lon\": [-73.77892556, -80.15275], \"mode\": \"lines\", \"opacity\": 0.12253829321663019, \"type\": \"scattergeo\"}, {\"lat\": [32.89595056, 40.48118028], \"line\": {\"color\": \"red\", \"width\": 1}, \"locationmode\": \"USA-states\", \"lon\": [-97.0372, -107.21765970000001], \"mode\": \"lines\", \"opacity\": 0.0700218818380744, \"type\": \"scattergeo\"}, {\"lat\": [32.89595056, 21.31869111], \"line\": {\"color\": \"red\", \"width\": 1}, \"locationmode\": \"USA-states\", \"lon\": [-97.0372, -157.92240719999998], \"mode\": \"lines\", \"opacity\": 0.12253829321663019, \"type\": \"scattergeo\"}, {\"lat\": [33.94253611, 21.31869111], \"line\": {\"color\": \"red\", \"width\": 1}, \"locationmode\": \"USA-states\", \"lon\": [-118.40807439999999, -157.92240719999998], \"mode\": \"lines\", \"opacity\": 0.2363238512035011, \"type\": \"scattergeo\"}, {\"lat\": [32.89595056, 38.94453194], \"line\": {\"color\": \"red\", \"width\": 1}, \"locationmode\": \"USA-states\", \"lon\": [-97.0372, -77.45580972], \"mode\": \"lines\", \"opacity\": 0.33698030634573306, \"type\": \"scattergeo\"}, {\"lat\": [33.94253611, 38.94453194], \"line\": {\"color\": \"red\", \"width\": 1}, \"locationmode\": \"USA-states\", \"lon\": [-118.40807439999999, -77.45580972], \"mode\": \"lines\", \"opacity\": 0.18161925601750548, \"type\": \"scattergeo\"}, {\"lat\": [25.79325, 38.94453194], \"line\": {\"color\": \"red\", \"width\": 1}, \"locationmode\": \"USA-states\", \"lon\": [-80.29055556, -77.45580972], \"mode\": \"lines\", \"opacity\": 0.12253829321663019, \"type\": \"scattergeo\"}, {\"lat\": [25.79325, 29.98047222], \"line\": {\"color\": \"red\", \"width\": 1}, \"locationmode\": \"USA-states\", \"lon\": [-80.29055556, -95.33972222], \"mode\": \"lines\", \"opacity\": 0.1838074398249453, \"type\": \"scattergeo\"}, {\"lat\": [32.89595056, 37.64995889], \"line\": {\"color\": \"red\", \"width\": 1}, \"locationmode\": \"USA-states\", \"lon\": [-97.0372, -97.43304583], \"mode\": \"lines\", \"opacity\": 0.23413566739606126, \"type\": \"scattergeo\"}, {\"lat\": [32.89595056, 39.71732917], \"line\": {\"color\": \"red\", \"width\": 1}, \"locationmode\": \"USA-states\", \"lon\": [-97.0372, -86.29438417], \"mode\": \"lines\", \"opacity\": 0.3041575492341357, \"type\": \"scattergeo\"}, {\"lat\": [32.89595056, 43.60732417], \"line\": {\"color\": \"red\", \"width\": 1}, \"locationmode\": \"USA-states\", \"lon\": [-97.0372, -110.7377389], \"mode\": \"lines\", \"opacity\": 0.0262582056892779, \"type\": \"scattergeo\"}, {\"lat\": [32.89595056, 30.49405556], \"line\": {\"color\": \"red\", \"width\": 1}, \"locationmode\": \"USA-states\", \"lon\": [-97.0372, -81.68786111], \"mode\": \"lines\", \"opacity\": 0.2363238512035011, \"type\": \"scattergeo\"}, {\"lat\": [30.19453278, 40.63975111], \"line\": {\"color\": \"red\", \"width\": 1}, \"locationmode\": \"USA-states\", \"lon\": [-97.66987194, -73.77892556], \"mode\": \"lines\", \"opacity\": 0.061269146608315096, \"type\": \"scattergeo\"}, {\"lat\": [32.89595056, 40.63975111], \"line\": {\"color\": \"red\", \"width\": 1}, \"locationmode\": \"USA-states\", \"lon\": [-97.0372, -73.77892556], \"mode\": \"lines\", \"opacity\": 0.061269146608315096, \"type\": \"scattergeo\"}, {\"lat\": [39.64256778, 40.63975111], \"line\": {\"color\": \"red\", \"width\": 1}, \"locationmode\": \"USA-states\", \"lon\": [-106.91769529999999, -73.77892556], \"mode\": \"lines\", \"opacity\": 0.061269146608315096, \"type\": \"scattergeo\"}, {\"lat\": [28.42888889, 40.63975111], \"line\": {\"color\": \"red\", \"width\": 1}, \"locationmode\": \"USA-states\", \"lon\": [-81.31602778, -73.77892556], \"mode\": \"lines\", \"opacity\": 0.24507658643326038, \"type\": \"scattergeo\"}, {\"lat\": [25.79325, 40.63975111], \"line\": {\"color\": \"red\", \"width\": 1}, \"locationmode\": \"USA-states\", \"lon\": [-80.29055556, -73.77892556], \"mode\": \"lines\", \"opacity\": 0.4288840262582057, \"type\": \"scattergeo\"}, {\"lat\": [47.44898194, 40.63975111], \"line\": {\"color\": \"red\", \"width\": 1}, \"locationmode\": \"USA-states\", \"lon\": [-122.30931310000001, -73.77892556], \"mode\": \"lines\", \"opacity\": 0.061269146608315096, \"type\": \"scattergeo\"}, {\"lat\": [37.61900194, 40.63975111], \"line\": {\"color\": \"red\", \"width\": 1}, \"locationmode\": \"USA-states\", \"lon\": [-122.3748433, -73.77892556], \"mode\": \"lines\", \"opacity\": 0.3041575492341357, \"type\": \"scattergeo\"}, {\"lat\": [18.33730556, 40.63975111], \"line\": {\"color\": \"red\", \"width\": 1}, \"locationmode\": \"USA-states\", \"lon\": [-64.97336111, -73.77892556], \"mode\": \"lines\", \"opacity\": 0.061269146608315096, \"type\": \"scattergeo\"}, {\"lat\": [27.97547222, 40.63975111], \"line\": {\"color\": \"red\", \"width\": 1}, \"locationmode\": \"USA-states\", \"lon\": [-82.53325, -73.77892556], \"mode\": \"lines\", \"opacity\": 0.061269146608315096, \"type\": \"scattergeo\"}, {\"lat\": [32.89595056, 36.08036111], \"line\": {\"color\": \"red\", \"width\": 1}, \"locationmode\": \"USA-states\", \"lon\": [-97.0372, -115.15233329999998], \"mode\": \"lines\", \"opacity\": 0.6225382932166302, \"type\": \"scattergeo\"}, {\"lat\": [40.63975111, 36.08036111], \"line\": {\"color\": \"red\", \"width\": 1}, \"locationmode\": \"USA-states\", \"lon\": [-73.77892556, -115.15233329999998], \"mode\": \"lines\", \"opacity\": 0.12253829321663019, \"type\": \"scattergeo\"}, {\"lat\": [33.94253611, 36.08036111], \"line\": {\"color\": \"red\", \"width\": 1}, \"locationmode\": \"USA-states\", \"lon\": [-118.40807439999999, -115.15233329999998], \"mode\": \"lines\", \"opacity\": 0.24288840262582057, \"type\": \"scattergeo\"}, {\"lat\": [41.979595, 36.08036111], \"line\": {\"color\": \"red\", \"width\": 1}, \"locationmode\": \"USA-states\", \"lon\": [-87.90446417, -115.15233329999998], \"mode\": \"lines\", \"opacity\": 0.3063457330415755, \"type\": \"scattergeo\"}, {\"lat\": [30.19453278, 33.94253611], \"line\": {\"color\": \"red\", \"width\": 1}, \"locationmode\": \"USA-states\", \"lon\": [-97.66987194, -118.40807439999999], \"mode\": \"lines\", \"opacity\": 0.1772428884026258, \"type\": \"scattergeo\"}, {\"lat\": [36.12447667, 33.94253611], \"line\": {\"color\": \"red\", \"width\": 1}, \"locationmode\": \"USA-states\", \"lon\": [-86.67818222, -118.40807439999999], \"mode\": \"lines\", \"opacity\": 0.061269146608315096, \"type\": \"scattergeo\"}, {\"lat\": [42.3643475, 33.94253611], \"line\": {\"color\": \"red\", \"width\": 1}, \"locationmode\": \"USA-states\", \"lon\": [-71.00517917, -118.40807439999999], \"mode\": \"lines\", \"opacity\": 0.1838074398249453, \"type\": \"scattergeo\"}, {\"lat\": [39.64256778, 33.94253611], \"line\": {\"color\": \"red\", \"width\": 1}, \"locationmode\": \"USA-states\", \"lon\": [-106.91769529999999, -118.40807439999999], \"mode\": \"lines\", \"opacity\": 0.061269146608315096, \"type\": \"scattergeo\"}, {\"lat\": [40.63975111, 33.94253611], \"line\": {\"color\": \"red\", \"width\": 1}, \"locationmode\": \"USA-states\", \"lon\": [-73.77892556, -118.40807439999999], \"mode\": \"lines\", \"opacity\": 0.5995623632385121, \"type\": \"scattergeo\"}, {\"lat\": [19.73876583, 33.94253611], \"line\": {\"color\": \"red\", \"width\": 1}, \"locationmode\": \"USA-states\", \"lon\": [-156.0456314, -118.40807439999999], \"mode\": \"lines\", \"opacity\": 0.061269146608315096, \"type\": \"scattergeo\"}, {\"lat\": [20.89864972, 33.94253611], \"line\": {\"color\": \"red\", \"width\": 1}, \"locationmode\": \"USA-states\", \"lon\": [-156.43045780000003, -118.40807439999999], \"mode\": \"lines\", \"opacity\": 0.12253829321663019, \"type\": \"scattergeo\"}, {\"lat\": [41.979595, 33.94253611], \"line\": {\"color\": \"red\", \"width\": 1}, \"locationmode\": \"USA-states\", \"lon\": [-87.90446417, -118.40807439999999], \"mode\": \"lines\", \"opacity\": 0.5426695842450766, \"type\": \"scattergeo\"}, {\"lat\": [38.74768694, 33.94253611], \"line\": {\"color\": \"red\", \"width\": 1}, \"locationmode\": \"USA-states\", \"lon\": [-90.35998972, -118.40807439999999], \"mode\": \"lines\", \"opacity\": 0.18161925601750548, \"type\": \"scattergeo\"}, {\"lat\": [36.12447667, 40.77724306], \"line\": {\"color\": \"red\", \"width\": 1}, \"locationmode\": \"USA-states\", \"lon\": [-86.67818222, -73.87260917], \"mode\": \"lines\", \"opacity\": 0.11159737417943107, \"type\": \"scattergeo\"}, {\"lat\": [32.89595056, 40.77724306], \"line\": {\"color\": \"red\", \"width\": 1}, \"locationmode\": \"USA-states\", \"lon\": [-97.0372, -73.87260917], \"mode\": \"lines\", \"opacity\": 0.849015317286652, \"type\": \"scattergeo\"}, {\"lat\": [38.74768694, 40.77724306], \"line\": {\"color\": \"red\", \"width\": 1}, \"locationmode\": \"USA-states\", \"lon\": [-90.35998972, -73.87260917], \"mode\": \"lines\", \"opacity\": 0.22538293216630198, \"type\": \"scattergeo\"}, {\"lat\": [33.94253611, 21.97598306], \"line\": {\"color\": \"red\", \"width\": 1}, \"locationmode\": \"USA-states\", \"lon\": [-118.40807439999999, -159.3389581], \"mode\": \"lines\", \"opacity\": 0.061269146608315096, \"type\": \"scattergeo\"}, {\"lat\": [33.94253611, 28.42888889], \"line\": {\"color\": \"red\", \"width\": 1}, \"locationmode\": \"USA-states\", \"lon\": [-118.40807439999999, -81.31602778], \"mode\": \"lines\", \"opacity\": 0.061269146608315096, \"type\": \"scattergeo\"}, {\"lat\": [25.79325, 28.42888889], \"line\": {\"color\": \"red\", \"width\": 1}, \"locationmode\": \"USA-states\", \"lon\": [-80.29055556, -81.31602778], \"mode\": \"lines\", \"opacity\": 0.49015317286652077, \"type\": \"scattergeo\"}, {\"lat\": [33.64044444, 25.79325], \"line\": {\"color\": \"red\", \"width\": 1}, \"locationmode\": \"USA-states\", \"lon\": [-84.42694444, -80.29055556], \"mode\": \"lines\", \"opacity\": 0.24507658643326038, \"type\": \"scattergeo\"}, {\"lat\": [41.93887417, 25.79325], \"line\": {\"color\": \"red\", \"width\": 1}, \"locationmode\": \"USA-states\", \"lon\": [-72.68322833, -80.29055556], \"mode\": \"lines\", \"opacity\": 0.12253829321663019, \"type\": \"scattergeo\"}, {\"lat\": [38.85208333, 25.79325], \"line\": {\"color\": \"red\", \"width\": 1}, \"locationmode\": \"USA-states\", \"lon\": [-77.03772222, -80.29055556], \"mode\": \"lines\", \"opacity\": 0.5514223194748359, \"type\": \"scattergeo\"}, {\"lat\": [39.64256778, 25.79325], \"line\": {\"color\": \"red\", \"width\": 1}, \"locationmode\": \"USA-states\", \"lon\": [-106.91769529999999, -80.29055556], \"mode\": \"lines\", \"opacity\": 0.0525164113785558, \"type\": \"scattergeo\"}, {\"lat\": [36.08036111, 25.79325], \"line\": {\"color\": \"red\", \"width\": 1}, \"locationmode\": \"USA-states\", \"lon\": [-115.15233329999998, -80.29055556], \"mode\": \"lines\", \"opacity\": 0.1838074398249453, \"type\": \"scattergeo\"}, {\"lat\": [33.94253611, 25.79325], \"line\": {\"color\": \"red\", \"width\": 1}, \"locationmode\": \"USA-states\", \"lon\": [-118.40807439999999, -80.29055556], \"mode\": \"lines\", \"opacity\": 0.4288840262582057, \"type\": \"scattergeo\"}, {\"lat\": [40.77724306, 25.79325], \"line\": {\"color\": \"red\", \"width\": 1}, \"locationmode\": \"USA-states\", \"lon\": [-73.87260917, -80.29055556], \"mode\": \"lines\", \"opacity\": 0.6728665207877462, \"type\": \"scattergeo\"}, {\"lat\": [44.88054694, 25.79325], \"line\": {\"color\": \"red\", \"width\": 1}, \"locationmode\": \"USA-states\", \"lon\": [-93.2169225, -80.29055556], \"mode\": \"lines\", \"opacity\": 0.061269146608315096, \"type\": \"scattergeo\"}, {\"lat\": [41.979595, 25.79325], \"line\": {\"color\": \"red\", \"width\": 1}, \"locationmode\": \"USA-states\", \"lon\": [-87.90446417, -80.29055556], \"mode\": \"lines\", \"opacity\": 0.5525164113785558, \"type\": \"scattergeo\"}, {\"lat\": [39.87195278, 25.79325], \"line\": {\"color\": \"red\", \"width\": 1}, \"locationmode\": \"USA-states\", \"lon\": [-75.24114083, -80.29055556], \"mode\": \"lines\", \"opacity\": 0.1838074398249453, \"type\": \"scattergeo\"}, {\"lat\": [33.43416667, 25.79325], \"line\": {\"color\": \"red\", \"width\": 1}, \"locationmode\": \"USA-states\", \"lon\": [-112.00805559999999, -80.29055556], \"mode\": \"lines\", \"opacity\": 0.061269146608315096, \"type\": \"scattergeo\"}, {\"lat\": [37.61900194, 25.79325], \"line\": {\"color\": \"red\", \"width\": 1}, \"locationmode\": \"USA-states\", \"lon\": [-122.3748433, -80.29055556], \"mode\": \"lines\", \"opacity\": 0.1838074398249453, \"type\": \"scattergeo\"}, {\"lat\": [18.43941667, 25.79325], \"line\": {\"color\": \"red\", \"width\": 1}, \"locationmode\": \"USA-states\", \"lon\": [-66.00183333, -80.29055556], \"mode\": \"lines\", \"opacity\": 0.49015317286652077, \"type\": \"scattergeo\"}, {\"lat\": [36.19837222, 25.79325], \"line\": {\"color\": \"red\", \"width\": 1}, \"locationmode\": \"USA-states\", \"lon\": [-95.88824167, -80.29055556], \"mode\": \"lines\", \"opacity\": 0.00437636761487965, \"type\": \"scattergeo\"}, {\"lat\": [41.979595, 44.88054694], \"line\": {\"color\": \"red\", \"width\": 1}, \"locationmode\": \"USA-states\", \"lon\": [-87.90446417, -93.2169225], \"mode\": \"lines\", \"opacity\": 0.175054704595186, \"type\": \"scattergeo\"}, {\"lat\": [32.89595056, 29.99338889], \"line\": {\"color\": \"red\", \"width\": 1}, \"locationmode\": \"USA-states\", \"lon\": [-97.0372, -90.25802778], \"mode\": \"lines\", \"opacity\": 0.3676148796498906, \"type\": \"scattergeo\"}, {\"lat\": [25.79325, 29.99338889], \"line\": {\"color\": \"red\", \"width\": 1}, \"locationmode\": \"USA-states\", \"lon\": [-80.29055556, -90.25802778], \"mode\": \"lines\", \"opacity\": 0.1838074398249453, \"type\": \"scattergeo\"}, {\"lat\": [41.979595, 29.99338889], \"line\": {\"color\": \"red\", \"width\": 1}, \"locationmode\": \"USA-states\", \"lon\": [-87.90446417, -90.25802778], \"mode\": \"lines\", \"opacity\": 0.16301969365426697, \"type\": \"scattergeo\"}, {\"lat\": [32.89595056, 34.056], \"line\": {\"color\": \"red\", \"width\": 1}, \"locationmode\": \"USA-states\", \"lon\": [-97.0372, -117.60119440000001], \"mode\": \"lines\", \"opacity\": 0.24288840262582057, \"type\": \"scattergeo\"}, {\"lat\": [38.85208333, 41.979595], \"line\": {\"color\": \"red\", \"width\": 1}, \"locationmode\": \"USA-states\", \"lon\": [-77.03772222, -87.90446417], \"mode\": \"lines\", \"opacity\": 0.3544857768052516, \"type\": \"scattergeo\"}, {\"lat\": [40.69249722, 41.979595], \"line\": {\"color\": \"red\", \"width\": 1}, \"locationmode\": \"USA-states\", \"lon\": [-74.16866056, -87.90446417], \"mode\": \"lines\", \"opacity\": 0.1838074398249453, \"type\": \"scattergeo\"}, {\"lat\": [26.07258333, 41.979595], \"line\": {\"color\": \"red\", \"width\": 1}, \"locationmode\": \"USA-states\", \"lon\": [-80.15275, -87.90446417], \"mode\": \"lines\", \"opacity\": 0.1838074398249453, \"type\": \"scattergeo\"}, {\"lat\": [40.48118028, 41.979595], \"line\": {\"color\": \"red\", \"width\": 1}, \"locationmode\": \"USA-states\", \"lon\": [-107.21765970000001, -87.90446417], \"mode\": \"lines\", \"opacity\": 0.0525164113785558, \"type\": \"scattergeo\"}, {\"lat\": [21.31869111, 41.979595], \"line\": {\"color\": \"red\", \"width\": 1}, \"locationmode\": \"USA-states\", \"lon\": [-157.92240719999998, -87.90446417], \"mode\": \"lines\", \"opacity\": 0.05032822757111598, \"type\": \"scattergeo\"}, {\"lat\": [43.60732417, 41.979595], \"line\": {\"color\": \"red\", \"width\": 1}, \"locationmode\": \"USA-states\", \"lon\": [-110.7377389, -87.90446417], \"mode\": \"lines\", \"opacity\": 0.061269146608315096, \"type\": \"scattergeo\"}, {\"lat\": [40.63975111, 41.979595], \"line\": {\"color\": \"red\", \"width\": 1}, \"locationmode\": \"USA-states\", \"lon\": [-73.77892556, -87.90446417], \"mode\": \"lines\", \"opacity\": 0.061269146608315096, \"type\": \"scattergeo\"}, {\"lat\": [40.77724306, 41.979595], \"line\": {\"color\": \"red\", \"width\": 1}, \"locationmode\": \"USA-states\", \"lon\": [-73.87260917, -87.90446417], \"mode\": \"lines\", \"opacity\": 0.9409190371991247, \"type\": \"scattergeo\"}, {\"lat\": [39.29760528, 41.979595], \"line\": {\"color\": \"red\", \"width\": 1}, \"locationmode\": \"USA-states\", \"lon\": [-94.71390556, -87.90446417], \"mode\": \"lines\", \"opacity\": 0.23413566739606126, \"type\": \"scattergeo\"}, {\"lat\": [28.42888889, 41.979595], \"line\": {\"color\": \"red\", \"width\": 1}, \"locationmode\": \"USA-states\", \"lon\": [-81.31602778, -87.90446417], \"mode\": \"lines\", \"opacity\": 0.24507658643326038, \"type\": \"scattergeo\"}, {\"lat\": [35.87763889, 41.979595], \"line\": {\"color\": \"red\", \"width\": 1}, \"locationmode\": \"USA-states\", \"lon\": [-78.78747222, -87.90446417], \"mode\": \"lines\", \"opacity\": 0.17067833698030635, \"type\": \"scattergeo\"}, {\"lat\": [39.49857611, 41.979595], \"line\": {\"color\": \"red\", \"width\": 1}, \"locationmode\": \"USA-states\", \"lon\": [-119.76806470000001, -87.90446417], \"mode\": \"lines\", \"opacity\": 0.061269146608315096, \"type\": \"scattergeo\"}, {\"lat\": [32.73355611, 41.979595], \"line\": {\"color\": \"red\", \"width\": 1}, \"locationmode\": \"USA-states\", \"lon\": [-117.1896567, -87.90446417], \"mode\": \"lines\", \"opacity\": 0.24507658643326038, \"type\": \"scattergeo\"}, {\"lat\": [29.53369444, 41.979595], \"line\": {\"color\": \"red\", \"width\": 1}, \"locationmode\": \"USA-states\", \"lon\": [-98.46977778, -87.90446417], \"mode\": \"lines\", \"opacity\": 0.12253829321663019, \"type\": \"scattergeo\"}, {\"lat\": [37.36186194, 41.979595], \"line\": {\"color\": \"red\", \"width\": 1}, \"locationmode\": \"USA-states\", \"lon\": [-121.92900890000001, -87.90446417], \"mode\": \"lines\", \"opacity\": 0.12253829321663019, \"type\": \"scattergeo\"}, {\"lat\": [18.43941667, 41.979595], \"line\": {\"color\": \"red\", \"width\": 1}, \"locationmode\": \"USA-states\", \"lon\": [-66.00183333, -87.90446417], \"mode\": \"lines\", \"opacity\": 0.12253829321663019, \"type\": \"scattergeo\"}, {\"lat\": [38.74768694, 41.979595], \"line\": {\"color\": \"red\", \"width\": 1}, \"locationmode\": \"USA-states\", \"lon\": [-90.35998972, -87.90446417], \"mode\": \"lines\", \"opacity\": 0.5284463894967177, \"type\": \"scattergeo\"}, {\"lat\": [36.19837222, 41.979595], \"line\": {\"color\": \"red\", \"width\": 1}, \"locationmode\": \"USA-states\", \"lon\": [-95.88824167, -87.90446417], \"mode\": \"lines\", \"opacity\": 0.061269146608315096, \"type\": \"scattergeo\"}, {\"lat\": [32.11608333, 41.979595], \"line\": {\"color\": \"red\", \"width\": 1}, \"locationmode\": \"USA-states\", \"lon\": [-110.94102779999999, -87.90446417], \"mode\": \"lines\", \"opacity\": 0.12253829321663019, \"type\": \"scattergeo\"}, {\"lat\": [32.89595056, 36.89461111], \"line\": {\"color\": \"red\", \"width\": 1}, \"locationmode\": \"USA-states\", \"lon\": [-97.0372, -76.20122222], \"mode\": \"lines\", \"opacity\": 0.12253829321663019, \"type\": \"scattergeo\"}, {\"lat\": [32.89595056, 26.68316194], \"line\": {\"color\": \"red\", \"width\": 1}, \"locationmode\": \"USA-states\", \"lon\": [-97.0372, -80.09559417], \"mode\": \"lines\", \"opacity\": 0.12253829321663019, \"type\": \"scattergeo\"}, {\"lat\": [41.979595, 26.68316194], \"line\": {\"color\": \"red\", \"width\": 1}, \"locationmode\": \"USA-states\", \"lon\": [-87.90446417, -80.09559417], \"mode\": \"lines\", \"opacity\": 0.16411378555798686, \"type\": \"scattergeo\"}, {\"lat\": [32.89595056, 45.58872222], \"line\": {\"color\": \"red\", \"width\": 1}, \"locationmode\": \"USA-states\", \"lon\": [-97.0372, -122.5975], \"mode\": \"lines\", \"opacity\": 0.24507658643326038, \"type\": \"scattergeo\"}, {\"lat\": [41.979595, 39.87195278], \"line\": {\"color\": \"red\", \"width\": 1}, \"locationmode\": \"USA-states\", \"lon\": [-87.90446417, -75.24114083], \"mode\": \"lines\", \"opacity\": 0.12035010940919037, \"type\": \"scattergeo\"}, {\"lat\": [18.43941667, 39.87195278], \"line\": {\"color\": \"red\", \"width\": 1}, \"locationmode\": \"USA-states\", \"lon\": [-66.00183333, -75.24114083], \"mode\": \"lines\", \"opacity\": 0.061269146608315096, \"type\": \"scattergeo\"}, {\"lat\": [41.979595, 33.43416667], \"line\": {\"color\": \"red\", \"width\": 1}, \"locationmode\": \"USA-states\", \"lon\": [-87.90446417, -112.00805559999999], \"mode\": \"lines\", \"opacity\": 0.3063457330415755, \"type\": \"scattergeo\"}, {\"lat\": [32.89595056, 40.49146583], \"line\": {\"color\": \"red\", \"width\": 1}, \"locationmode\": \"USA-states\", \"lon\": [-97.0372, -80.23287083], \"mode\": \"lines\", \"opacity\": 0.18599562363238512, \"type\": \"scattergeo\"}, {\"lat\": [32.89595056, 33.82921556], \"line\": {\"color\": \"red\", \"width\": 1}, \"locationmode\": \"USA-states\", \"lon\": [-97.0372, -116.5062531], \"mode\": \"lines\", \"opacity\": 0.1838074398249453, \"type\": \"scattergeo\"}, {\"lat\": [41.979595, 33.82921556], \"line\": {\"color\": \"red\", \"width\": 1}, \"locationmode\": \"USA-states\", \"lon\": [-87.90446417, -116.5062531], \"mode\": \"lines\", \"opacity\": 0.0700218818380744, \"type\": \"scattergeo\"}, {\"lat\": [32.89595056, 35.87763889], \"line\": {\"color\": \"red\", \"width\": 1}, \"locationmode\": \"USA-states\", \"lon\": [-97.0372, -78.78747222], \"mode\": \"lines\", \"opacity\": 0.3041575492341357, \"type\": \"scattergeo\"}, {\"lat\": [25.79325, 35.87763889], \"line\": {\"color\": \"red\", \"width\": 1}, \"locationmode\": \"USA-states\", \"lon\": [-80.29055556, -78.78747222], \"mode\": \"lines\", \"opacity\": 0.1838074398249453, \"type\": \"scattergeo\"}, {\"lat\": [32.89595056, 26.53616667], \"line\": {\"color\": \"red\", \"width\": 1}, \"locationmode\": \"USA-states\", \"lon\": [-97.0372, -81.75516667], \"mode\": \"lines\", \"opacity\": 0.1838074398249453, \"type\": \"scattergeo\"}, {\"lat\": [41.979595, 26.53616667], \"line\": {\"color\": \"red\", \"width\": 1}, \"locationmode\": \"USA-states\", \"lon\": [-87.90446417, -81.75516667], \"mode\": \"lines\", \"opacity\": 0.1838074398249453, \"type\": \"scattergeo\"}, {\"lat\": [40.63975111, 32.73355611], \"line\": {\"color\": \"red\", \"width\": 1}, \"locationmode\": \"USA-states\", \"lon\": [-73.77892556, -117.1896567], \"mode\": \"lines\", \"opacity\": 0.061269146608315096, \"type\": \"scattergeo\"}, {\"lat\": [32.89595056, 47.44898194], \"line\": {\"color\": \"red\", \"width\": 1}, \"locationmode\": \"USA-states\", \"lon\": [-97.0372, -122.30931310000001], \"mode\": \"lines\", \"opacity\": 0.4288840262582057, \"type\": \"scattergeo\"}, {\"lat\": [41.979595, 47.44898194], \"line\": {\"color\": \"red\", \"width\": 1}, \"locationmode\": \"USA-states\", \"lon\": [-87.90446417, -122.30931310000001], \"mode\": \"lines\", \"opacity\": 0.23413566739606126, \"type\": \"scattergeo\"}, {\"lat\": [21.31869111, 37.61900194], \"line\": {\"color\": \"red\", \"width\": 1}, \"locationmode\": \"USA-states\", \"lon\": [-157.92240719999998, -122.3748433], \"mode\": \"lines\", \"opacity\": 0.061269146608315096, \"type\": \"scattergeo\"}, {\"lat\": [33.94253611, 37.61900194], \"line\": {\"color\": \"red\", \"width\": 1}, \"locationmode\": \"USA-states\", \"lon\": [-118.40807439999999, -122.3748433], \"mode\": \"lines\", \"opacity\": 0.3676148796498906, \"type\": \"scattergeo\"}, {\"lat\": [41.979595, 37.61900194], \"line\": {\"color\": \"red\", \"width\": 1}, \"locationmode\": \"USA-states\", \"lon\": [-87.90446417, -122.3748433], \"mode\": \"lines\", \"opacity\": 0.35667396061269147, \"type\": \"scattergeo\"}, {\"lat\": [32.89595056, 18.43941667], \"line\": {\"color\": \"red\", \"width\": 1}, \"locationmode\": \"USA-states\", \"lon\": [-97.0372, -66.00183333], \"mode\": \"lines\", \"opacity\": 0.13129102844638948, \"type\": \"scattergeo\"}, {\"lat\": [38.94453194, 18.43941667], \"line\": {\"color\": \"red\", \"width\": 1}, \"locationmode\": \"USA-states\", \"lon\": [-77.45580972, -66.00183333], \"mode\": \"lines\", \"opacity\": 0.061269146608315096, \"type\": \"scattergeo\"}, {\"lat\": [40.63975111, 18.43941667], \"line\": {\"color\": \"red\", \"width\": 1}, \"locationmode\": \"USA-states\", \"lon\": [-73.77892556, -66.00183333], \"mode\": \"lines\", \"opacity\": 0.1838074398249453, \"type\": \"scattergeo\"}, {\"lat\": [33.94253611, 18.43941667], \"line\": {\"color\": \"red\", \"width\": 1}, \"locationmode\": \"USA-states\", \"lon\": [-118.40807439999999, -66.00183333], \"mode\": \"lines\", \"opacity\": 0.0175054704595186, \"type\": \"scattergeo\"}, {\"lat\": [32.89595056, 38.69542167], \"line\": {\"color\": \"red\", \"width\": 1}, \"locationmode\": \"USA-states\", \"lon\": [-97.0372, -121.5907669], \"mode\": \"lines\", \"opacity\": 0.24507658643326038, \"type\": \"scattergeo\"}, {\"lat\": [32.89595056, 33.67565861], \"line\": {\"color\": \"red\", \"width\": 1}, \"locationmode\": \"USA-states\", \"lon\": [-97.0372, -117.86822250000002], \"mode\": \"lines\", \"opacity\": 0.6323851203501094, \"type\": \"scattergeo\"}, {\"lat\": [41.979595, 33.67565861], \"line\": {\"color\": \"red\", \"width\": 1}, \"locationmode\": \"USA-states\", \"lon\": [-87.90446417, -117.86822250000002], \"mode\": \"lines\", \"opacity\": 0.16630196936542668, \"type\": \"scattergeo\"}, {\"lat\": [38.85208333, 38.74768694], \"line\": {\"color\": \"red\", \"width\": 1}, \"locationmode\": \"USA-states\", \"lon\": [-77.03772222, -90.35998972], \"mode\": \"lines\", \"opacity\": 0.2188183807439825, \"type\": \"scattergeo\"}, {\"lat\": [25.79325, 38.74768694], \"line\": {\"color\": \"red\", \"width\": 1}, \"locationmode\": \"USA-states\", \"lon\": [-80.29055556, -90.35998972], \"mode\": \"lines\", \"opacity\": 0.1838074398249453, \"type\": \"scattergeo\"}, {\"lat\": [25.79325, 18.33730556], \"line\": {\"color\": \"red\", \"width\": 1}, \"locationmode\": \"USA-states\", \"lon\": [-80.29055556, -64.97336111], \"mode\": \"lines\", \"opacity\": 0.12253829321663019, \"type\": \"scattergeo\"}, {\"lat\": [25.79325, 17.70188889], \"line\": {\"color\": \"red\", \"width\": 1}, \"locationmode\": \"USA-states\", \"lon\": [-80.29055556, -64.79855556], \"mode\": \"lines\", \"opacity\": 0.06783369803063458, \"type\": \"scattergeo\"}, {\"lat\": [32.89595056, 27.97547222], \"line\": {\"color\": \"red\", \"width\": 1}, \"locationmode\": \"USA-states\", \"lon\": [-97.0372, -82.53325], \"mode\": \"lines\", \"opacity\": 0.4288840262582057, \"type\": \"scattergeo\"}, {\"lat\": [25.79325, 27.97547222], \"line\": {\"color\": \"red\", \"width\": 1}, \"locationmode\": \"USA-states\", \"lon\": [-80.29055556, -82.53325], \"mode\": \"lines\", \"opacity\": 0.32603938730853393, \"type\": \"scattergeo\"}, {\"lat\": [41.979595, 27.97547222], \"line\": {\"color\": \"red\", \"width\": 1}, \"locationmode\": \"USA-states\", \"lon\": [-87.90446417, -82.53325], \"mode\": \"lines\", \"opacity\": 0.16411378555798686, \"type\": \"scattergeo\"}, {\"lat\": [18.43941667, 27.97547222], \"line\": {\"color\": \"red\", \"width\": 1}, \"locationmode\": \"USA-states\", \"lon\": [-66.00183333, -82.53325], \"mode\": \"lines\", \"opacity\": 0.061269146608315096, \"type\": \"scattergeo\"}, {\"lat\": [32.89595056, 36.19837222], \"line\": {\"color\": \"red\", \"width\": 1}, \"locationmode\": \"USA-states\", \"lon\": [-97.0372, -95.88824167], \"mode\": \"lines\", \"opacity\": 0.42669584245076586, \"type\": \"scattergeo\"}, {\"lat\": [32.89595056, 32.11608333], \"line\": {\"color\": \"red\", \"width\": 1}, \"locationmode\": \"USA-states\", \"lon\": [-97.0372, -110.94102779999999], \"mode\": \"lines\", \"opacity\": 0.45842450765864334, \"type\": \"scattergeo\"}, {\"hoverinfo\": \"text\", \"lat\": [41.979595, 33.64044444, 32.89595056, 33.43416667, 39.85840806, 29.98047222, 37.61900194, 33.94253611, 28.42888889, 35.21401111, 40.78838778, 27.97547222, 40.69249722, 36.08036111, 39.87195278, 44.88054694, 47.44898194, 40.77724306, 41.7859825, 38.94453194, 32.73355611, 38.74768694, 42.21205889, 40.63975111, 25.79325, 42.3643475, 38.69542167, 39.17540167, 33.67565861, 29.99338889, 37.36186194, 38.85208333, 45.58872222, 26.53616667, 26.68316194, 35.87763889, 29.64541861, 29.53369444, 26.07258333, 39.29760528, 37.72129083, 40.49146583, 35.04241667, 42.94722222, 41.41089417, 30.49405556, 32.11608333, 39.71732917, 39.49857611, 35.39308833, 41.72399917, 36.19837222, 39.04614278, 39.99798528, 38.17438889, 34.056, 34.72939611, 32.84711389, 41.30251861, 36.89461111, 39.90237583, 43.11886611, 36.28186944, 36.12447667, 35.04022222, 32.31116667, 31.80666667, 37.50516667, 41.93887417, 31.94252778, 30.53316083, 35.81248722, 38.80580556, 30.47330556, 43.11118694, 33.56294306, 42.93451639, 33.82921556, 27.39533333, 27.77036083, 34.6404475, 33.93884, 30.20527972, 34.42621194, 47.61985556, 30.69141667, 37.64995889, 42.94052472, 41.53493306, 40.19349528, 43.64616667, 32.30064417, 37.13189556, 41.06695778, 36.5869825, 42.88081972, 30.448674, 32.65658333, 39.22316, 30.39652778, 30.40728028, 44.04532139, 33.81772222, 34.27061111, 38.03697222, 43.13985778, 44.123259999999995, 32.12758333, 33.66363889, 41.88458833, 34.89566722, 36.09774694, 40.7952425, 41.44852639, 35.43619444, 40.91631194, 40.47798556, 26.22850611, 30.48325, 32.446627500000005, 46.91934889, 40.48118028, 42.37422778, 40.66424333, 27.54373861, 30.19453278, 32.41132, 37.24432611, 42.96550333, 36.47521417, 31.06489778, 32.89864639, 44.48507333, 44.25406722, 32.51633333, 41.70895361, 43.56444444, 33.67975, 48.25937778, 40.03925, 37.32546833, 39.64256778, 43.60732417, 45.77690139, 39.1224125, 34.20061917, 38.03799139, 38.53396333, 43.51455556, 36.77619444, 39.84395194, 26.17583333, 40.50898361, 47.949255, 43.58135111, 42.48180389, 34.89924833, 42.91130556, 31.32133917, 34.82916444, 38.50886722, 46.77411111, 42.90835556, 44.74144472, 32.51086556, 46.26468028, 39.14096722, 31.32737167, 43.41713889, 35.61677778, 42.15614361, 41.50409361, 38.13863889, 30.7825, 44.77761917, 35.65884306, 40.97811528, 31.25902778, 40.85097222, 40.97846583, 44.52019417, 37.06083333, 35.23705806, 41.33814944, 33.45033444, 44.34889806, 35.07297222, 33.369955, 35.33659028, 32.35413889, 46.60681806, 47.48200194, 32.33313333, 46.353639, 37.95375861, 35.03526833, 46.37449806, 37.70097028, 42.74811944, 44.47300361, 48.31140472, 28.10275, 29.17991667, 40.65236278, 46.84209028, 41.155722499999996, 41.5942175, 37.85830556, 38.37315083, 48.79275, 37.62404861, 44.25740806, 36.385913, 27.91076333, 33.98879611, 34.99147222, 44.86525722, 42.40295944, 43.90882639, 34.681499, 45.8076625], \"locationmode\": \"USA-states\", \"lon\": [-87.90446417, -84.42694444, -97.0372, -112.00805559999999, -104.6670019, -95.33972222, -122.3748433, -118.40807439999999, -81.31602778, -80.94312583, -111.9777731, -82.53325, -74.16866056, -115.15233329999998, -75.24114083, -93.2169225, -122.30931310000001, -73.87260917, -87.75242444, -77.45580972, -117.1896567, -90.35998972, -83.34883583, -73.77892556, -80.29055556, -71.00517917, -121.5907669, -76.66819833, -117.86822250000002, -90.25802778, -121.92900890000001, -77.03772222, -122.5975, -81.75516667, -80.09559417, -78.78747222, -95.27888889, -98.46977778, -80.15275, -94.71390556, -122.22071670000001, -80.23287083, -89.97666667, -87.89658333, -81.84939667, -81.68786111, -110.94102779999999, -86.29438417, -119.76806470000001, -97.60073389, -71.42822111, -95.88824167, -84.6621725, -82.89188278, -85.736, -117.60119440000001, -92.22424556, -96.85177222, -95.89417306, -76.20122222, -84.219375, -77.67238389, -94.30681111, -86.67818222, -106.6091944, -90.07588889, -106.37780559999999, -77.31966667, -72.68322833, -102.20191390000001, -91.14963444, -83.99285583, -104.70025, -87.18744444, -76.10631056, -86.75354972, -71.43705583, -116.5062531, -82.55411111, -97.50121528, -86.77310944, -81.11953944, -91.987655, -119.8403733, -117.5338425, -88.24283333, -97.43304583, -78.73216667, -93.66068222, -76.76340361, -70.30875, -86.39397611, -76.4929875, -73.70757444, -121.84294779999999, -85.52276778, -84.550781, -114.60597220000001, -106.868845, -84.35033333, -89.07009278, -103.0573708, -118.1516111, -77.90255556, -84.60538889, -89.33751361, -123.21868559999999, -81.20213889, -101.8227778, -91.71087222, -82.21885833, -79.9372975, -73.10021194, -90.50753917, -82.54180556, -81.44246556, -88.91595278, -97.65439389, -86.5254, -93.82559833, -96.81498889, -107.21765970000001, -122.8734978, -89.69330556, -99.46154361, -97.66987194, -99.68189722, -93.38685806, -83.74345639, -82.40742056, -97.82779778, -80.04050583, -88.12959000000001, -121.1499633, -84.93886111, -86.31847417, -116.22277779999999, -78.92833333, -101.2803339, -88.27805556, -79.97542833, -106.91769529999999, -110.7377389, -111.15300719999999, -108.5267347, -118.3584969, -87.53062667, -106.9331817, -112.07016670000002, -119.7181389, -89.67761861, -98.23861111, -122.2934019, -97.17611111, -96.74170028, -114.4877356, -120.4575825, -112.59586110000001, -85.44962889, -77.61213778, -107.89383329999998, -100.74672220000001, -106.46446609999998, -85.582235, -92.03768778, -119.11902920000001, -96.67083278, -92.54855611, -124.2460278, -106.08813889999999, -121.7332081, -74.10483833, -78.45286111, -83.27672222, -89.66677944, -117.8295122, -124.1086189, -81.46630556, -96.75925, -85.19514639, -109.02379609999998, -88.77375, -120.64239309999999, -75.72426750000001, -88.59136861, -105.5393614, -77.04294444, -81.96449611, -94.36744111, -95.40238611, -111.9827503, -111.37068529999999, -88.75120556, -87.395361, -107.90848000000001, -85.20378778, -117.01539440000002, -113.098575, -73.80297861, -73.1503125, -114.25506940000001, -80.64580556, -81.05805556, -75.44040167, -92.19364861, -104.81183809999999, -109.0651928, -80.39947222, -81.59318972, -122.53752779999999, -118.8377722, -88.51947556, -92.548828, -82.68743944, -98.49189333, -78.88, -91.48507194, -90.70916722, -92.49798722, -90.348816, -108.54286110000001], \"marker\": {\"color\": \"rgb(255, 0, 0)\", \"line\": {\"color\": \"rgba(68, 68, 68, 0)\", \"width\": 3}, \"size\": 2}, \"mode\": \"markers\", \"text\": [\"Chicago O'Hare International\", \"William B Hartsfield-Atlanta Intl\", \"Dallas-Fort Worth International\", \"Phoenix Sky Harbor International\", \"Denver Intl\", \"George Bush Intercontinental\", \"San Francisco International\", \"Los Angeles International\", \"Orlando International\", \"Charlotte/Douglas International\", \"Salt Lake City Intl\", \"Tampa International \", \"Newark Intl\", \"McCarran International\", \"Philadelphia Intl\", \"Minneapolis-St Paul Intl\", \"Seattle-Tacoma Intl\", \"LaGuardia\", \"Chicago Midway\", \"Washington Dulles International\", \"San Diego International-Lindbergh \", \"Lambert-St Louis International\", \"Detroit Metropolitan-Wayne County\", \"John F Kennedy Intl\", \"Miami International\", \"Gen Edw L Logan Intl\", \"Sacramento International\", \"Baltimore-Washington International\", \"John Wayne /Orange Co\", \"New Orleans International \", \"San Jose International\", \"Ronald Reagan Washington National\", \"Portland Intl\", \"Southwest Florida International\", \"Palm Beach International\", \"Raleigh-Durham International\", \"William P Hobby\", \"San Antonio International\", \"Fort Lauderdale-Hollywood Int'l\", \"Kansas City International\", \"Metropolitan Oakland International\", \"Pittsburgh International\", \"Memphis International\", \"General Mitchell International\", \"Cleveland-Hopkins Intl\", \"Jacksonville International\", \"Tucson International\", \"Indianapolis International\", \"Reno/Tahoe International\", \"Will Rogers World\", \"Theodore F Green State\", \"Tulsa International\", \"Cincinnati Northern Kentucky Intl\", \"Port Columbus Intl\", \"Louisville International-Standiford \", \"Ontario International\", \"Adams \", \"Dallas Love \", \"Eppley Airfield\", \"Norfolk International\", \"James M Cox Dayton Intl\", \"Greater Rochester Int'l\", \"Northwest Arkansas Regional\", \"Nashville International\", \"Albuquerque International\", \"Jackson International\", \"El Paso International\", \"Richmond International\", \"Bradley International\", \"Midland International\", \"Baton Rouge Metropolitan, Ryan \", \"McGhee-Tyson\", \"City of Colorado Springs Muni\", \"Pensacola Regional\", \"Syracuse-Hancock Intl\", \"Birmingham International\", \"Manchester\", \"Palm Springs International\", \"Sarasota Bradenton International\", \"Corpus Christi International\", \"Huntsville International \", \"Columbia Metropolitan\", \"Lafayette Regional\", \"Santa Barbara Municipal\", \"Spokane Intl\", \"Mobile Regional\", \"Wichita Mid-Continent\", \"Buffalo Niagara Intl\", \"Des Moines International\", \"Harrisburg Intl\", \"Portland International Jetport\", \"Montgomery Regional Apt\", \"Newport News/Williamsburg International\", \"Westchester Cty\", \"Monterey Peninsula\", \"Kent County International\", \"Florida Beach\", \"Yuma MCAS-Yuma International\", \"Aspen-Pitkin Co/Sardy \", \"Tallahassee Regional\", \"Gulfport-Biloxi Regional\", \"Rapid City Regional\", \"Long Beach (Daugherty )\", \"Wilmington International\", \"Blue Grass \", \"Dane County Regional\", \"Mahlon Sweet \", \"Savannah International\", \"Lubbock International\", \"Eastern Iowa \", \"Greenville-Spartanburg\", \"Piedmont Triad International\", \"Long Island - MacArthur\", \"Quad City\", \"Asheville Regional\", \"Akron-Canton Regional\", \"Central Illinois Regional\", \"Valley International\", \"Eglin Air Force Base\", \"Shreveport Regional\", \"Hector International\", \"Yampa Valley\", \"Rogue Valley International\", \"Greater Peoria Regional\", \"Laredo International\", \"Austin-Bergstrom International\", \"Abilene Regional\", \"Springfield-Branson Regional\", \"Bishop\", \"Tri-Cities Regional\", \"Robert Gray AAF\", \"Charleston AFB/International\", \"Austin Straubel International\", \"Roberts \", \"Columbus Metropolitan\", \"South Bend Regional\", \"Boise Air Terminal\", \"Myrtle Beach International\", \"Minot International\", \"University of Illinois-Willard\", \"Roanoke Regional/ Woodrum \", \"Eagle County Regional\", \"Jackson Hole\", \"Gallatin \", \"Walker \", \"Burbank-Glendale-Pasadena\", \"Evansville Regional\", \"Gunnison County\", \"Idaho Falls Regional\", \"Fresno Yosemite International\", \"Capital\", \"McAllen Miller International\", \"Redding Municipal\", \"Grand Forks International\", \"Joe Foss \", \"Joslin Field - Magic Valley\", \"Santa Maria Pub/Capt G Allan Hancock \", \"Pocatello Regional\", \"Dothan \", \"Albert J Ellis\", \"Montrose Regional\", \"Bismarck Municipal\", \"Natrona County Intl\", \"Cherry Capital\", \"Monroe Regional\", \"Tri-Cities\", \"Manhattan Regional\", \"Alexandria International\", \"North Bend Muni\", \"Santa Fe Municipal\", \"Klamath Falls International\", \"Stewart\", \"Charlottesville-Albermarle\", \"Valdosta Regional\", \"Central Wisconsin\", \"Inyokern\", \"Arcata\", \"Glynco Jetport\", \"Lincoln Municipal\", \"Fort Wayne International\", \"Yellowstone Regional\", \"Barkley Regional\", \"San Luis Obispo Co-McChesney \", \"Wilkes-Barre/Scranton Intl\", \"Golden Triangle Regional\", \"Gillette-Campbell County\", \"Craven County Regional\", \"Bush \", \"Fort Smith Regional\", \"Tyler Pounds \", \"Helena Regional\", \"Great Falls Intl\", \"Key \", \"Marquette County Airport\", \"Telluride Regional\", \"Lovell \", \"Lewiston-Nez Perce County\", \"Cedar City Muni\", \"Albany Cty\", \"Burlington International\", \"Glacier Park Intl\", \"Melbourne International \", \"Daytona Beach International\", \"Lehigh Valley International\", \"Duluth International\", \"Cheyenne\", \"Rock Springs-Sweetwater County\", \"Greenbrier Valley\", \"Yeager\", \"Bellingham Intl\", \"Mammoth Yosemite\", \"Outagamie County Regional\", \"Branson Airport\", \"St. Petersburg-Clearwater International\", \"Sheppard AFB/Wichita Falls Municipal\", \"Fayetteville Municipal\", \"Chippewa Valley Regional\", \"Dubuque Municipal\", \"Rochester International\", \"Tunica Municipal Airport\", \"Billings Logan Intl\"], \"type\": \"scattergeo\"}],                        {\"geo\": {\"countrycolor\": \"rgb(204, 204, 204)\", \"landcolor\": \"rgb(243, 243, 243)\", \"projection\": {\"type\": \"azimuthal equal area\"}, \"scope\": \"north america\", \"showland\": true}, \"height\": 800, \"showlegend\": false, \"template\": {\"data\": {\"bar\": [{\"error_x\": {\"color\": \"#2a3f5f\"}, \"error_y\": {\"color\": \"#2a3f5f\"}, \"marker\": {\"line\": {\"color\": \"#E5ECF6\", \"width\": 0.5}}, \"type\": \"bar\"}], \"barpolar\": [{\"marker\": {\"line\": {\"color\": \"#E5ECF6\", \"width\": 0.5}}, \"type\": \"barpolar\"}], \"carpet\": [{\"aaxis\": {\"endlinecolor\": \"#2a3f5f\", \"gridcolor\": \"white\", \"linecolor\": \"white\", \"minorgridcolor\": \"white\", \"startlinecolor\": \"#2a3f5f\"}, \"baxis\": {\"endlinecolor\": \"#2a3f5f\", \"gridcolor\": \"white\", \"linecolor\": \"white\", \"minorgridcolor\": \"white\", \"startlinecolor\": \"#2a3f5f\"}, \"type\": \"carpet\"}], \"choropleth\": [{\"colorbar\": {\"outlinewidth\": 0, \"ticks\": \"\"}, \"type\": \"choropleth\"}], \"contour\": [{\"colorbar\": {\"outlinewidth\": 0, \"ticks\": \"\"}, \"colorscale\": [[0.0, \"#0d0887\"], [0.1111111111111111, \"#46039f\"], [0.2222222222222222, \"#7201a8\"], [0.3333333333333333, \"#9c179e\"], [0.4444444444444444, \"#bd3786\"], [0.5555555555555556, \"#d8576b\"], [0.6666666666666666, \"#ed7953\"], [0.7777777777777778, \"#fb9f3a\"], [0.8888888888888888, \"#fdca26\"], [1.0, \"#f0f921\"]], \"type\": \"contour\"}], \"contourcarpet\": [{\"colorbar\": {\"outlinewidth\": 0, \"ticks\": \"\"}, \"type\": \"contourcarpet\"}], \"heatmap\": [{\"colorbar\": {\"outlinewidth\": 0, \"ticks\": \"\"}, \"colorscale\": [[0.0, \"#0d0887\"], [0.1111111111111111, \"#46039f\"], [0.2222222222222222, \"#7201a8\"], [0.3333333333333333, \"#9c179e\"], [0.4444444444444444, \"#bd3786\"], [0.5555555555555556, \"#d8576b\"], [0.6666666666666666, \"#ed7953\"], [0.7777777777777778, \"#fb9f3a\"], [0.8888888888888888, \"#fdca26\"], [1.0, \"#f0f921\"]], \"type\": \"heatmap\"}], \"heatmapgl\": [{\"colorbar\": {\"outlinewidth\": 0, \"ticks\": \"\"}, \"colorscale\": [[0.0, \"#0d0887\"], [0.1111111111111111, \"#46039f\"], [0.2222222222222222, \"#7201a8\"], [0.3333333333333333, \"#9c179e\"], [0.4444444444444444, \"#bd3786\"], [0.5555555555555556, \"#d8576b\"], [0.6666666666666666, \"#ed7953\"], [0.7777777777777778, \"#fb9f3a\"], [0.8888888888888888, \"#fdca26\"], [1.0, \"#f0f921\"]], \"type\": \"heatmapgl\"}], \"histogram\": [{\"marker\": {\"colorbar\": {\"outlinewidth\": 0, \"ticks\": \"\"}}, \"type\": \"histogram\"}], \"histogram2d\": [{\"colorbar\": {\"outlinewidth\": 0, \"ticks\": \"\"}, \"colorscale\": [[0.0, \"#0d0887\"], [0.1111111111111111, \"#46039f\"], [0.2222222222222222, \"#7201a8\"], [0.3333333333333333, \"#9c179e\"], [0.4444444444444444, \"#bd3786\"], [0.5555555555555556, \"#d8576b\"], [0.6666666666666666, \"#ed7953\"], [0.7777777777777778, \"#fb9f3a\"], [0.8888888888888888, \"#fdca26\"], [1.0, \"#f0f921\"]], \"type\": \"histogram2d\"}], \"histogram2dcontour\": [{\"colorbar\": {\"outlinewidth\": 0, \"ticks\": \"\"}, \"colorscale\": [[0.0, \"#0d0887\"], [0.1111111111111111, \"#46039f\"], [0.2222222222222222, \"#7201a8\"], [0.3333333333333333, \"#9c179e\"], [0.4444444444444444, \"#bd3786\"], [0.5555555555555556, \"#d8576b\"], [0.6666666666666666, \"#ed7953\"], [0.7777777777777778, \"#fb9f3a\"], [0.8888888888888888, \"#fdca26\"], [1.0, \"#f0f921\"]], \"type\": \"histogram2dcontour\"}], \"mesh3d\": [{\"colorbar\": {\"outlinewidth\": 0, \"ticks\": \"\"}, \"type\": \"mesh3d\"}], \"parcoords\": [{\"line\": {\"colorbar\": {\"outlinewidth\": 0, \"ticks\": \"\"}}, \"type\": \"parcoords\"}], \"pie\": [{\"automargin\": true, \"type\": \"pie\"}], \"scatter\": [{\"marker\": {\"colorbar\": {\"outlinewidth\": 0, \"ticks\": \"\"}}, \"type\": \"scatter\"}], \"scatter3d\": [{\"line\": {\"colorbar\": {\"outlinewidth\": 0, \"ticks\": \"\"}}, \"marker\": {\"colorbar\": {\"outlinewidth\": 0, \"ticks\": \"\"}}, \"type\": \"scatter3d\"}], \"scattercarpet\": [{\"marker\": {\"colorbar\": {\"outlinewidth\": 0, \"ticks\": \"\"}}, \"type\": \"scattercarpet\"}], \"scattergeo\": [{\"marker\": {\"colorbar\": {\"outlinewidth\": 0, \"ticks\": \"\"}}, \"type\": \"scattergeo\"}], \"scattergl\": [{\"marker\": {\"colorbar\": {\"outlinewidth\": 0, \"ticks\": \"\"}}, \"type\": \"scattergl\"}], \"scattermapbox\": [{\"marker\": {\"colorbar\": {\"outlinewidth\": 0, \"ticks\": \"\"}}, \"type\": \"scattermapbox\"}], \"scatterpolar\": [{\"marker\": {\"colorbar\": {\"outlinewidth\": 0, \"ticks\": \"\"}}, \"type\": \"scatterpolar\"}], \"scatterpolargl\": [{\"marker\": {\"colorbar\": {\"outlinewidth\": 0, \"ticks\": \"\"}}, \"type\": \"scatterpolargl\"}], \"scatterternary\": [{\"marker\": {\"colorbar\": {\"outlinewidth\": 0, \"ticks\": \"\"}}, \"type\": \"scatterternary\"}], \"surface\": [{\"colorbar\": {\"outlinewidth\": 0, \"ticks\": \"\"}, \"colorscale\": [[0.0, \"#0d0887\"], [0.1111111111111111, \"#46039f\"], [0.2222222222222222, \"#7201a8\"], [0.3333333333333333, \"#9c179e\"], [0.4444444444444444, \"#bd3786\"], [0.5555555555555556, \"#d8576b\"], [0.6666666666666666, \"#ed7953\"], [0.7777777777777778, \"#fb9f3a\"], [0.8888888888888888, \"#fdca26\"], [1.0, \"#f0f921\"]], \"type\": \"surface\"}], \"table\": [{\"cells\": {\"fill\": {\"color\": \"#EBF0F8\"}, \"line\": {\"color\": \"white\"}}, \"header\": {\"fill\": {\"color\": \"#C8D4E3\"}, \"line\": {\"color\": \"white\"}}, \"type\": \"table\"}]}, \"layout\": {\"annotationdefaults\": {\"arrowcolor\": \"#2a3f5f\", \"arrowhead\": 0, \"arrowwidth\": 1}, \"autotypenumbers\": \"strict\", \"coloraxis\": {\"colorbar\": {\"outlinewidth\": 0, \"ticks\": \"\"}}, \"colorscale\": {\"diverging\": [[0, \"#8e0152\"], [0.1, \"#c51b7d\"], [0.2, \"#de77ae\"], [0.3, \"#f1b6da\"], [0.4, \"#fde0ef\"], [0.5, \"#f7f7f7\"], [0.6, \"#e6f5d0\"], [0.7, \"#b8e186\"], [0.8, \"#7fbc41\"], [0.9, \"#4d9221\"], [1, \"#276419\"]], \"sequential\": [[0.0, \"#0d0887\"], [0.1111111111111111, \"#46039f\"], [0.2222222222222222, \"#7201a8\"], [0.3333333333333333, \"#9c179e\"], [0.4444444444444444, \"#bd3786\"], [0.5555555555555556, \"#d8576b\"], [0.6666666666666666, \"#ed7953\"], [0.7777777777777778, \"#fb9f3a\"], [0.8888888888888888, \"#fdca26\"], [1.0, \"#f0f921\"]], \"sequentialminus\": [[0.0, \"#0d0887\"], [0.1111111111111111, \"#46039f\"], [0.2222222222222222, \"#7201a8\"], [0.3333333333333333, \"#9c179e\"], [0.4444444444444444, \"#bd3786\"], [0.5555555555555556, \"#d8576b\"], [0.6666666666666666, \"#ed7953\"], [0.7777777777777778, \"#fb9f3a\"], [0.8888888888888888, \"#fdca26\"], [1.0, \"#f0f921\"]]}, \"colorway\": [\"#636efa\", \"#EF553B\", \"#00cc96\", \"#ab63fa\", \"#FFA15A\", \"#19d3f3\", \"#FF6692\", \"#B6E880\", \"#FF97FF\", \"#FECB52\"], \"font\": {\"color\": \"#2a3f5f\"}, \"geo\": {\"bgcolor\": \"white\", \"lakecolor\": \"white\", \"landcolor\": \"#E5ECF6\", \"showlakes\": true, \"showland\": true, \"subunitcolor\": \"white\"}, \"hoverlabel\": {\"align\": \"left\"}, \"hovermode\": \"closest\", \"mapbox\": {\"style\": \"light\"}, \"paper_bgcolor\": \"white\", \"plot_bgcolor\": \"#E5ECF6\", \"polar\": {\"angularaxis\": {\"gridcolor\": \"white\", \"linecolor\": \"white\", \"ticks\": \"\"}, \"bgcolor\": \"#E5ECF6\", \"radialaxis\": {\"gridcolor\": \"white\", \"linecolor\": \"white\", \"ticks\": \"\"}}, \"scene\": {\"xaxis\": {\"backgroundcolor\": \"#E5ECF6\", \"gridcolor\": \"white\", \"gridwidth\": 2, \"linecolor\": \"white\", \"showbackground\": true, \"ticks\": \"\", \"zerolinecolor\": \"white\"}, \"yaxis\": {\"backgroundcolor\": \"#E5ECF6\", \"gridcolor\": \"white\", \"gridwidth\": 2, \"linecolor\": \"white\", \"showbackground\": true, \"ticks\": \"\", \"zerolinecolor\": \"white\"}, \"zaxis\": {\"backgroundcolor\": \"#E5ECF6\", \"gridcolor\": \"white\", \"gridwidth\": 2, \"linecolor\": \"white\", \"showbackground\": true, \"ticks\": \"\", \"zerolinecolor\": \"white\"}}, \"shapedefaults\": {\"line\": {\"color\": \"#2a3f5f\"}}, \"ternary\": {\"aaxis\": {\"gridcolor\": \"white\", \"linecolor\": \"white\", \"ticks\": \"\"}, \"baxis\": {\"gridcolor\": \"white\", \"linecolor\": \"white\", \"ticks\": \"\"}, \"bgcolor\": \"#E5ECF6\", \"caxis\": {\"gridcolor\": \"white\", \"linecolor\": \"white\", \"ticks\": \"\"}}, \"title\": {\"x\": 0.05}, \"xaxis\": {\"automargin\": true, \"gridcolor\": \"white\", \"linecolor\": \"white\", \"ticks\": \"\", \"title\": {\"standoff\": 15}, \"zerolinecolor\": \"white\", \"zerolinewidth\": 2}, \"yaxis\": {\"automargin\": true, \"gridcolor\": \"white\", \"linecolor\": \"white\", \"ticks\": \"\", \"title\": {\"standoff\": 15}, \"zerolinecolor\": \"white\", \"zerolinewidth\": 2}}}, \"title\": {\"text\": \"Feb. 2011 American Airline flight paths<br>(Hover for airport names)\"}},                        {\"responsive\": true}                    ).then(function(){\n                            \nvar gd = document.getElementById('921bd838-635d-4f65-93ed-7f108989f6e6');\nvar x = new MutationObserver(function (mutations, observer) {{\n        var display = window.getComputedStyle(gd).display;\n        if (!display || display === 'none') {{\n            console.log([gd, 'removed!']);\n            Plotly.purge(gd);\n            observer.disconnect();\n        }}\n}});\n\n// Listen for the removal of the full notebook cells\nvar notebookContainer = gd.closest('#notebook-container');\nif (notebookContainer) {{\n    x.observe(notebookContainer, {childList: true});\n}}\n\n// Listen for the clearing of the current output cell\nvar outputEl = gd.closest('.output');\nif (outputEl) {{\n    x.observe(outputEl, {childList: true});\n}}\n\n                        })                };                });            </script>        </div>"
     },
     "metadata": {}
    }
   ],
   "source": [
    "df_airports = pd.read_csv('https://raw.githubusercontent.com/plotly/datasets/master/2011_february_us_airport_traffic.csv')\n",
    "df_airports.head()\n",
    "\n",
    "df_flight_paths = pd.read_csv('https://raw.githubusercontent.com/plotly/datasets/master/2011_february_aa_flight_paths.csv')\n",
    "df_flight_paths.head()\n",
    "\n",
    "airports = [ dict(\n",
    "        type = 'scattergeo',\n",
    "        locationmode = 'USA-states',\n",
    "        lon = df_airports['long'],\n",
    "        lat = df_airports['lat'],\n",
    "        hoverinfo = 'text',\n",
    "        text = df_airports['airport'],\n",
    "        mode = 'markers',\n",
    "        marker = dict( \n",
    "            size=2, \n",
    "            color='rgb(255, 0, 0)',\n",
    "            line = dict(\n",
    "                width=3,\n",
    "                color='rgba(68, 68, 68, 0)'\n",
    "            )\n",
    "        ))]\n",
    "        \n",
    "flight_paths = []\n",
    "for i in range( len( df_flight_paths ) ):\n",
    "    flight_paths.append(\n",
    "        dict(\n",
    "            type = 'scattergeo',\n",
    "            locationmode = 'USA-states',\n",
    "            lon = [ df_flight_paths['start_lon'][i], df_flight_paths['end_lon'][i] ],\n",
    "            lat = [ df_flight_paths['start_lat'][i], df_flight_paths['end_lat'][i] ],\n",
    "            mode = 'lines',\n",
    "            line = dict(\n",
    "                width = 1,\n",
    "                color = 'red',\n",
    "            ),\n",
    "            opacity = float(df_flight_paths['cnt'][i])/float(df_flight_paths['cnt'].max()),\n",
    "        )\n",
    "    )\n",
    "    \n",
    "layout = dict(\n",
    "        title = 'Feb. 2011 American Airline flight paths<br>(Hover for airport names)',\n",
    "        showlegend = False, \n",
    "        height = 800,\n",
    "        geo = dict(\n",
    "            scope='north america',\n",
    "            projection=dict( type='azimuthal equal area' ),\n",
    "            showland = True,\n",
    "            landcolor = 'rgb(243, 243, 243)',\n",
    "            countrycolor = 'rgb(204, 204, 204)',\n",
    "        ),\n",
    "    )\n",
    "    \n",
    "fig = dict( data=flight_paths + airports, layout=layout )\n",
    "\n",
    "iplot(fig)"
   ]
  },
  {
   "cell_type": "code",
   "execution_count": 15,
   "metadata": {},
   "outputs": [
    {
     "output_type": "display_data",
     "data": {
      "application/vnd.plotly.v1+json": {
       "config": {
        "plotlyServerURL": "https://plot.ly"
       },
       "data": [
        {
         "type": "bar",
         "y": [
          2,
          1,
          3
         ]
        }
       ],
       "layout": {
        "template": {
         "data": {
          "bar": [
           {
            "error_x": {
             "color": "#2a3f5f"
            },
            "error_y": {
             "color": "#2a3f5f"
            },
            "marker": {
             "line": {
              "color": "#E5ECF6",
              "width": 0.5
             }
            },
            "type": "bar"
           }
          ],
          "barpolar": [
           {
            "marker": {
             "line": {
              "color": "#E5ECF6",
              "width": 0.5
             }
            },
            "type": "barpolar"
           }
          ],
          "carpet": [
           {
            "aaxis": {
             "endlinecolor": "#2a3f5f",
             "gridcolor": "white",
             "linecolor": "white",
             "minorgridcolor": "white",
             "startlinecolor": "#2a3f5f"
            },
            "baxis": {
             "endlinecolor": "#2a3f5f",
             "gridcolor": "white",
             "linecolor": "white",
             "minorgridcolor": "white",
             "startlinecolor": "#2a3f5f"
            },
            "type": "carpet"
           }
          ],
          "choropleth": [
           {
            "colorbar": {
             "outlinewidth": 0,
             "ticks": ""
            },
            "type": "choropleth"
           }
          ],
          "contour": [
           {
            "colorbar": {
             "outlinewidth": 0,
             "ticks": ""
            },
            "colorscale": [
             [
              0,
              "#0d0887"
             ],
             [
              0.1111111111111111,
              "#46039f"
             ],
             [
              0.2222222222222222,
              "#7201a8"
             ],
             [
              0.3333333333333333,
              "#9c179e"
             ],
             [
              0.4444444444444444,
              "#bd3786"
             ],
             [
              0.5555555555555556,
              "#d8576b"
             ],
             [
              0.6666666666666666,
              "#ed7953"
             ],
             [
              0.7777777777777778,
              "#fb9f3a"
             ],
             [
              0.8888888888888888,
              "#fdca26"
             ],
             [
              1,
              "#f0f921"
             ]
            ],
            "type": "contour"
           }
          ],
          "contourcarpet": [
           {
            "colorbar": {
             "outlinewidth": 0,
             "ticks": ""
            },
            "type": "contourcarpet"
           }
          ],
          "heatmap": [
           {
            "colorbar": {
             "outlinewidth": 0,
             "ticks": ""
            },
            "colorscale": [
             [
              0,
              "#0d0887"
             ],
             [
              0.1111111111111111,
              "#46039f"
             ],
             [
              0.2222222222222222,
              "#7201a8"
             ],
             [
              0.3333333333333333,
              "#9c179e"
             ],
             [
              0.4444444444444444,
              "#bd3786"
             ],
             [
              0.5555555555555556,
              "#d8576b"
             ],
             [
              0.6666666666666666,
              "#ed7953"
             ],
             [
              0.7777777777777778,
              "#fb9f3a"
             ],
             [
              0.8888888888888888,
              "#fdca26"
             ],
             [
              1,
              "#f0f921"
             ]
            ],
            "type": "heatmap"
           }
          ],
          "heatmapgl": [
           {
            "colorbar": {
             "outlinewidth": 0,
             "ticks": ""
            },
            "colorscale": [
             [
              0,
              "#0d0887"
             ],
             [
              0.1111111111111111,
              "#46039f"
             ],
             [
              0.2222222222222222,
              "#7201a8"
             ],
             [
              0.3333333333333333,
              "#9c179e"
             ],
             [
              0.4444444444444444,
              "#bd3786"
             ],
             [
              0.5555555555555556,
              "#d8576b"
             ],
             [
              0.6666666666666666,
              "#ed7953"
             ],
             [
              0.7777777777777778,
              "#fb9f3a"
             ],
             [
              0.8888888888888888,
              "#fdca26"
             ],
             [
              1,
              "#f0f921"
             ]
            ],
            "type": "heatmapgl"
           }
          ],
          "histogram": [
           {
            "marker": {
             "colorbar": {
              "outlinewidth": 0,
              "ticks": ""
             }
            },
            "type": "histogram"
           }
          ],
          "histogram2d": [
           {
            "colorbar": {
             "outlinewidth": 0,
             "ticks": ""
            },
            "colorscale": [
             [
              0,
              "#0d0887"
             ],
             [
              0.1111111111111111,
              "#46039f"
             ],
             [
              0.2222222222222222,
              "#7201a8"
             ],
             [
              0.3333333333333333,
              "#9c179e"
             ],
             [
              0.4444444444444444,
              "#bd3786"
             ],
             [
              0.5555555555555556,
              "#d8576b"
             ],
             [
              0.6666666666666666,
              "#ed7953"
             ],
             [
              0.7777777777777778,
              "#fb9f3a"
             ],
             [
              0.8888888888888888,
              "#fdca26"
             ],
             [
              1,
              "#f0f921"
             ]
            ],
            "type": "histogram2d"
           }
          ],
          "histogram2dcontour": [
           {
            "colorbar": {
             "outlinewidth": 0,
             "ticks": ""
            },
            "colorscale": [
             [
              0,
              "#0d0887"
             ],
             [
              0.1111111111111111,
              "#46039f"
             ],
             [
              0.2222222222222222,
              "#7201a8"
             ],
             [
              0.3333333333333333,
              "#9c179e"
             ],
             [
              0.4444444444444444,
              "#bd3786"
             ],
             [
              0.5555555555555556,
              "#d8576b"
             ],
             [
              0.6666666666666666,
              "#ed7953"
             ],
             [
              0.7777777777777778,
              "#fb9f3a"
             ],
             [
              0.8888888888888888,
              "#fdca26"
             ],
             [
              1,
              "#f0f921"
             ]
            ],
            "type": "histogram2dcontour"
           }
          ],
          "mesh3d": [
           {
            "colorbar": {
             "outlinewidth": 0,
             "ticks": ""
            },
            "type": "mesh3d"
           }
          ],
          "parcoords": [
           {
            "line": {
             "colorbar": {
              "outlinewidth": 0,
              "ticks": ""
             }
            },
            "type": "parcoords"
           }
          ],
          "pie": [
           {
            "automargin": true,
            "type": "pie"
           }
          ],
          "scatter": [
           {
            "marker": {
             "colorbar": {
              "outlinewidth": 0,
              "ticks": ""
             }
            },
            "type": "scatter"
           }
          ],
          "scatter3d": [
           {
            "line": {
             "colorbar": {
              "outlinewidth": 0,
              "ticks": ""
             }
            },
            "marker": {
             "colorbar": {
              "outlinewidth": 0,
              "ticks": ""
             }
            },
            "type": "scatter3d"
           }
          ],
          "scattercarpet": [
           {
            "marker": {
             "colorbar": {
              "outlinewidth": 0,
              "ticks": ""
             }
            },
            "type": "scattercarpet"
           }
          ],
          "scattergeo": [
           {
            "marker": {
             "colorbar": {
              "outlinewidth": 0,
              "ticks": ""
             }
            },
            "type": "scattergeo"
           }
          ],
          "scattergl": [
           {
            "marker": {
             "colorbar": {
              "outlinewidth": 0,
              "ticks": ""
             }
            },
            "type": "scattergl"
           }
          ],
          "scattermapbox": [
           {
            "marker": {
             "colorbar": {
              "outlinewidth": 0,
              "ticks": ""
             }
            },
            "type": "scattermapbox"
           }
          ],
          "scatterpolar": [
           {
            "marker": {
             "colorbar": {
              "outlinewidth": 0,
              "ticks": ""
             }
            },
            "type": "scatterpolar"
           }
          ],
          "scatterpolargl": [
           {
            "marker": {
             "colorbar": {
              "outlinewidth": 0,
              "ticks": ""
             }
            },
            "type": "scatterpolargl"
           }
          ],
          "scatterternary": [
           {
            "marker": {
             "colorbar": {
              "outlinewidth": 0,
              "ticks": ""
             }
            },
            "type": "scatterternary"
           }
          ],
          "surface": [
           {
            "colorbar": {
             "outlinewidth": 0,
             "ticks": ""
            },
            "colorscale": [
             [
              0,
              "#0d0887"
             ],
             [
              0.1111111111111111,
              "#46039f"
             ],
             [
              0.2222222222222222,
              "#7201a8"
             ],
             [
              0.3333333333333333,
              "#9c179e"
             ],
             [
              0.4444444444444444,
              "#bd3786"
             ],
             [
              0.5555555555555556,
              "#d8576b"
             ],
             [
              0.6666666666666666,
              "#ed7953"
             ],
             [
              0.7777777777777778,
              "#fb9f3a"
             ],
             [
              0.8888888888888888,
              "#fdca26"
             ],
             [
              1,
              "#f0f921"
             ]
            ],
            "type": "surface"
           }
          ],
          "table": [
           {
            "cells": {
             "fill": {
              "color": "#EBF0F8"
             },
             "line": {
              "color": "white"
             }
            },
            "header": {
             "fill": {
              "color": "#C8D4E3"
             },
             "line": {
              "color": "white"
             }
            },
            "type": "table"
           }
          ]
         },
         "layout": {
          "annotationdefaults": {
           "arrowcolor": "#2a3f5f",
           "arrowhead": 0,
           "arrowwidth": 1
          },
          "autotypenumbers": "strict",
          "coloraxis": {
           "colorbar": {
            "outlinewidth": 0,
            "ticks": ""
           }
          },
          "colorscale": {
           "diverging": [
            [
             0,
             "#8e0152"
            ],
            [
             0.1,
             "#c51b7d"
            ],
            [
             0.2,
             "#de77ae"
            ],
            [
             0.3,
             "#f1b6da"
            ],
            [
             0.4,
             "#fde0ef"
            ],
            [
             0.5,
             "#f7f7f7"
            ],
            [
             0.6,
             "#e6f5d0"
            ],
            [
             0.7,
             "#b8e186"
            ],
            [
             0.8,
             "#7fbc41"
            ],
            [
             0.9,
             "#4d9221"
            ],
            [
             1,
             "#276419"
            ]
           ],
           "sequential": [
            [
             0,
             "#0d0887"
            ],
            [
             0.1111111111111111,
             "#46039f"
            ],
            [
             0.2222222222222222,
             "#7201a8"
            ],
            [
             0.3333333333333333,
             "#9c179e"
            ],
            [
             0.4444444444444444,
             "#bd3786"
            ],
            [
             0.5555555555555556,
             "#d8576b"
            ],
            [
             0.6666666666666666,
             "#ed7953"
            ],
            [
             0.7777777777777778,
             "#fb9f3a"
            ],
            [
             0.8888888888888888,
             "#fdca26"
            ],
            [
             1,
             "#f0f921"
            ]
           ],
           "sequentialminus": [
            [
             0,
             "#0d0887"
            ],
            [
             0.1111111111111111,
             "#46039f"
            ],
            [
             0.2222222222222222,
             "#7201a8"
            ],
            [
             0.3333333333333333,
             "#9c179e"
            ],
            [
             0.4444444444444444,
             "#bd3786"
            ],
            [
             0.5555555555555556,
             "#d8576b"
            ],
            [
             0.6666666666666666,
             "#ed7953"
            ],
            [
             0.7777777777777778,
             "#fb9f3a"
            ],
            [
             0.8888888888888888,
             "#fdca26"
            ],
            [
             1,
             "#f0f921"
            ]
           ]
          },
          "colorway": [
           "#636efa",
           "#EF553B",
           "#00cc96",
           "#ab63fa",
           "#FFA15A",
           "#19d3f3",
           "#FF6692",
           "#B6E880",
           "#FF97FF",
           "#FECB52"
          ],
          "font": {
           "color": "#2a3f5f"
          },
          "geo": {
           "bgcolor": "white",
           "lakecolor": "white",
           "landcolor": "#E5ECF6",
           "showlakes": true,
           "showland": true,
           "subunitcolor": "white"
          },
          "hoverlabel": {
           "align": "left"
          },
          "hovermode": "closest",
          "mapbox": {
           "style": "light"
          },
          "paper_bgcolor": "white",
          "plot_bgcolor": "#E5ECF6",
          "polar": {
           "angularaxis": {
            "gridcolor": "white",
            "linecolor": "white",
            "ticks": ""
           },
           "bgcolor": "#E5ECF6",
           "radialaxis": {
            "gridcolor": "white",
            "linecolor": "white",
            "ticks": ""
           }
          },
          "scene": {
           "xaxis": {
            "backgroundcolor": "#E5ECF6",
            "gridcolor": "white",
            "gridwidth": 2,
            "linecolor": "white",
            "showbackground": true,
            "ticks": "",
            "zerolinecolor": "white"
           },
           "yaxis": {
            "backgroundcolor": "#E5ECF6",
            "gridcolor": "white",
            "gridwidth": 2,
            "linecolor": "white",
            "showbackground": true,
            "ticks": "",
            "zerolinecolor": "white"
           },
           "zaxis": {
            "backgroundcolor": "#E5ECF6",
            "gridcolor": "white",
            "gridwidth": 2,
            "linecolor": "white",
            "showbackground": true,
            "ticks": "",
            "zerolinecolor": "white"
           }
          },
          "shapedefaults": {
           "line": {
            "color": "#2a3f5f"
           }
          },
          "ternary": {
           "aaxis": {
            "gridcolor": "white",
            "linecolor": "white",
            "ticks": ""
           },
           "baxis": {
            "gridcolor": "white",
            "linecolor": "white",
            "ticks": ""
           },
           "bgcolor": "#E5ECF6",
           "caxis": {
            "gridcolor": "white",
            "linecolor": "white",
            "ticks": ""
           }
          },
          "title": {
           "x": 0.05
          },
          "xaxis": {
           "automargin": true,
           "gridcolor": "white",
           "linecolor": "white",
           "ticks": "",
           "title": {
            "standoff": 15
           },
           "zerolinecolor": "white",
           "zerolinewidth": 2
          },
          "yaxis": {
           "automargin": true,
           "gridcolor": "white",
           "linecolor": "white",
           "ticks": "",
           "title": {
            "standoff": 15
           },
           "zerolinecolor": "white",
           "zerolinewidth": 2
          }
         }
        },
        "title": {
         "text": "A Figure Displayed with fig.show()"
        }
       }
      },
      "text/html": "<div>                            <div id=\"f93d6e78-a5c6-4720-9ce3-bfdefb5eb64d\" class=\"plotly-graph-div\" style=\"height:525px; width:100%;\"></div>            <script type=\"text/javascript\">                require([\"plotly\"], function(Plotly) {                    window.PLOTLYENV=window.PLOTLYENV || {};                                    if (document.getElementById(\"f93d6e78-a5c6-4720-9ce3-bfdefb5eb64d\")) {                    Plotly.newPlot(                        \"f93d6e78-a5c6-4720-9ce3-bfdefb5eb64d\",                        [{\"type\": \"bar\", \"y\": [2, 1, 3]}],                        {\"template\": {\"data\": {\"bar\": [{\"error_x\": {\"color\": \"#2a3f5f\"}, \"error_y\": {\"color\": \"#2a3f5f\"}, \"marker\": {\"line\": {\"color\": \"#E5ECF6\", \"width\": 0.5}}, \"type\": \"bar\"}], \"barpolar\": [{\"marker\": {\"line\": {\"color\": \"#E5ECF6\", \"width\": 0.5}}, \"type\": \"barpolar\"}], \"carpet\": [{\"aaxis\": {\"endlinecolor\": \"#2a3f5f\", \"gridcolor\": \"white\", \"linecolor\": \"white\", \"minorgridcolor\": \"white\", \"startlinecolor\": \"#2a3f5f\"}, \"baxis\": {\"endlinecolor\": \"#2a3f5f\", \"gridcolor\": \"white\", \"linecolor\": \"white\", \"minorgridcolor\": \"white\", \"startlinecolor\": \"#2a3f5f\"}, \"type\": \"carpet\"}], \"choropleth\": [{\"colorbar\": {\"outlinewidth\": 0, \"ticks\": \"\"}, \"type\": \"choropleth\"}], \"contour\": [{\"colorbar\": {\"outlinewidth\": 0, \"ticks\": \"\"}, \"colorscale\": [[0.0, \"#0d0887\"], [0.1111111111111111, \"#46039f\"], [0.2222222222222222, \"#7201a8\"], [0.3333333333333333, \"#9c179e\"], [0.4444444444444444, \"#bd3786\"], [0.5555555555555556, \"#d8576b\"], [0.6666666666666666, \"#ed7953\"], [0.7777777777777778, \"#fb9f3a\"], [0.8888888888888888, \"#fdca26\"], [1.0, \"#f0f921\"]], \"type\": \"contour\"}], \"contourcarpet\": [{\"colorbar\": {\"outlinewidth\": 0, \"ticks\": \"\"}, \"type\": \"contourcarpet\"}], \"heatmap\": [{\"colorbar\": {\"outlinewidth\": 0, \"ticks\": \"\"}, \"colorscale\": [[0.0, \"#0d0887\"], [0.1111111111111111, \"#46039f\"], [0.2222222222222222, \"#7201a8\"], [0.3333333333333333, \"#9c179e\"], [0.4444444444444444, \"#bd3786\"], [0.5555555555555556, \"#d8576b\"], [0.6666666666666666, \"#ed7953\"], [0.7777777777777778, \"#fb9f3a\"], [0.8888888888888888, \"#fdca26\"], [1.0, \"#f0f921\"]], \"type\": \"heatmap\"}], \"heatmapgl\": [{\"colorbar\": {\"outlinewidth\": 0, \"ticks\": \"\"}, \"colorscale\": [[0.0, \"#0d0887\"], [0.1111111111111111, \"#46039f\"], [0.2222222222222222, \"#7201a8\"], [0.3333333333333333, \"#9c179e\"], [0.4444444444444444, \"#bd3786\"], [0.5555555555555556, \"#d8576b\"], [0.6666666666666666, \"#ed7953\"], [0.7777777777777778, \"#fb9f3a\"], [0.8888888888888888, \"#fdca26\"], [1.0, \"#f0f921\"]], \"type\": \"heatmapgl\"}], \"histogram\": [{\"marker\": {\"colorbar\": {\"outlinewidth\": 0, \"ticks\": \"\"}}, \"type\": \"histogram\"}], \"histogram2d\": [{\"colorbar\": {\"outlinewidth\": 0, \"ticks\": \"\"}, \"colorscale\": [[0.0, \"#0d0887\"], [0.1111111111111111, \"#46039f\"], [0.2222222222222222, \"#7201a8\"], [0.3333333333333333, \"#9c179e\"], [0.4444444444444444, \"#bd3786\"], [0.5555555555555556, \"#d8576b\"], [0.6666666666666666, \"#ed7953\"], [0.7777777777777778, \"#fb9f3a\"], [0.8888888888888888, \"#fdca26\"], [1.0, \"#f0f921\"]], \"type\": \"histogram2d\"}], \"histogram2dcontour\": [{\"colorbar\": {\"outlinewidth\": 0, \"ticks\": \"\"}, \"colorscale\": [[0.0, \"#0d0887\"], [0.1111111111111111, \"#46039f\"], [0.2222222222222222, \"#7201a8\"], [0.3333333333333333, \"#9c179e\"], [0.4444444444444444, \"#bd3786\"], [0.5555555555555556, \"#d8576b\"], [0.6666666666666666, \"#ed7953\"], [0.7777777777777778, \"#fb9f3a\"], [0.8888888888888888, \"#fdca26\"], [1.0, \"#f0f921\"]], \"type\": \"histogram2dcontour\"}], \"mesh3d\": [{\"colorbar\": {\"outlinewidth\": 0, \"ticks\": \"\"}, \"type\": \"mesh3d\"}], \"parcoords\": [{\"line\": {\"colorbar\": {\"outlinewidth\": 0, \"ticks\": \"\"}}, \"type\": \"parcoords\"}], \"pie\": [{\"automargin\": true, \"type\": \"pie\"}], \"scatter\": [{\"marker\": {\"colorbar\": {\"outlinewidth\": 0, \"ticks\": \"\"}}, \"type\": \"scatter\"}], \"scatter3d\": [{\"line\": {\"colorbar\": {\"outlinewidth\": 0, \"ticks\": \"\"}}, \"marker\": {\"colorbar\": {\"outlinewidth\": 0, \"ticks\": \"\"}}, \"type\": \"scatter3d\"}], \"scattercarpet\": [{\"marker\": {\"colorbar\": {\"outlinewidth\": 0, \"ticks\": \"\"}}, \"type\": \"scattercarpet\"}], \"scattergeo\": [{\"marker\": {\"colorbar\": {\"outlinewidth\": 0, \"ticks\": \"\"}}, \"type\": \"scattergeo\"}], \"scattergl\": [{\"marker\": {\"colorbar\": {\"outlinewidth\": 0, \"ticks\": \"\"}}, \"type\": \"scattergl\"}], \"scattermapbox\": [{\"marker\": {\"colorbar\": {\"outlinewidth\": 0, \"ticks\": \"\"}}, \"type\": \"scattermapbox\"}], \"scatterpolar\": [{\"marker\": {\"colorbar\": {\"outlinewidth\": 0, \"ticks\": \"\"}}, \"type\": \"scatterpolar\"}], \"scatterpolargl\": [{\"marker\": {\"colorbar\": {\"outlinewidth\": 0, \"ticks\": \"\"}}, \"type\": \"scatterpolargl\"}], \"scatterternary\": [{\"marker\": {\"colorbar\": {\"outlinewidth\": 0, \"ticks\": \"\"}}, \"type\": \"scatterternary\"}], \"surface\": [{\"colorbar\": {\"outlinewidth\": 0, \"ticks\": \"\"}, \"colorscale\": [[0.0, \"#0d0887\"], [0.1111111111111111, \"#46039f\"], [0.2222222222222222, \"#7201a8\"], [0.3333333333333333, \"#9c179e\"], [0.4444444444444444, \"#bd3786\"], [0.5555555555555556, \"#d8576b\"], [0.6666666666666666, \"#ed7953\"], [0.7777777777777778, \"#fb9f3a\"], [0.8888888888888888, \"#fdca26\"], [1.0, \"#f0f921\"]], \"type\": \"surface\"}], \"table\": [{\"cells\": {\"fill\": {\"color\": \"#EBF0F8\"}, \"line\": {\"color\": \"white\"}}, \"header\": {\"fill\": {\"color\": \"#C8D4E3\"}, \"line\": {\"color\": \"white\"}}, \"type\": \"table\"}]}, \"layout\": {\"annotationdefaults\": {\"arrowcolor\": \"#2a3f5f\", \"arrowhead\": 0, \"arrowwidth\": 1}, \"autotypenumbers\": \"strict\", \"coloraxis\": {\"colorbar\": {\"outlinewidth\": 0, \"ticks\": \"\"}}, \"colorscale\": {\"diverging\": [[0, \"#8e0152\"], [0.1, \"#c51b7d\"], [0.2, \"#de77ae\"], [0.3, \"#f1b6da\"], [0.4, \"#fde0ef\"], [0.5, \"#f7f7f7\"], [0.6, \"#e6f5d0\"], [0.7, \"#b8e186\"], [0.8, \"#7fbc41\"], [0.9, \"#4d9221\"], [1, \"#276419\"]], \"sequential\": [[0.0, \"#0d0887\"], [0.1111111111111111, \"#46039f\"], [0.2222222222222222, \"#7201a8\"], [0.3333333333333333, \"#9c179e\"], [0.4444444444444444, \"#bd3786\"], [0.5555555555555556, \"#d8576b\"], [0.6666666666666666, \"#ed7953\"], [0.7777777777777778, \"#fb9f3a\"], [0.8888888888888888, \"#fdca26\"], [1.0, \"#f0f921\"]], \"sequentialminus\": [[0.0, \"#0d0887\"], [0.1111111111111111, \"#46039f\"], [0.2222222222222222, \"#7201a8\"], [0.3333333333333333, \"#9c179e\"], [0.4444444444444444, \"#bd3786\"], [0.5555555555555556, \"#d8576b\"], [0.6666666666666666, \"#ed7953\"], [0.7777777777777778, \"#fb9f3a\"], [0.8888888888888888, \"#fdca26\"], [1.0, \"#f0f921\"]]}, \"colorway\": [\"#636efa\", \"#EF553B\", \"#00cc96\", \"#ab63fa\", \"#FFA15A\", \"#19d3f3\", \"#FF6692\", \"#B6E880\", \"#FF97FF\", \"#FECB52\"], \"font\": {\"color\": \"#2a3f5f\"}, \"geo\": {\"bgcolor\": \"white\", \"lakecolor\": \"white\", \"landcolor\": \"#E5ECF6\", \"showlakes\": true, \"showland\": true, \"subunitcolor\": \"white\"}, \"hoverlabel\": {\"align\": \"left\"}, \"hovermode\": \"closest\", \"mapbox\": {\"style\": \"light\"}, \"paper_bgcolor\": \"white\", \"plot_bgcolor\": \"#E5ECF6\", \"polar\": {\"angularaxis\": {\"gridcolor\": \"white\", \"linecolor\": \"white\", \"ticks\": \"\"}, \"bgcolor\": \"#E5ECF6\", \"radialaxis\": {\"gridcolor\": \"white\", \"linecolor\": \"white\", \"ticks\": \"\"}}, \"scene\": {\"xaxis\": {\"backgroundcolor\": \"#E5ECF6\", \"gridcolor\": \"white\", \"gridwidth\": 2, \"linecolor\": \"white\", \"showbackground\": true, \"ticks\": \"\", \"zerolinecolor\": \"white\"}, \"yaxis\": {\"backgroundcolor\": \"#E5ECF6\", \"gridcolor\": \"white\", \"gridwidth\": 2, \"linecolor\": \"white\", \"showbackground\": true, \"ticks\": \"\", \"zerolinecolor\": \"white\"}, \"zaxis\": {\"backgroundcolor\": \"#E5ECF6\", \"gridcolor\": \"white\", \"gridwidth\": 2, \"linecolor\": \"white\", \"showbackground\": true, \"ticks\": \"\", \"zerolinecolor\": \"white\"}}, \"shapedefaults\": {\"line\": {\"color\": \"#2a3f5f\"}}, \"ternary\": {\"aaxis\": {\"gridcolor\": \"white\", \"linecolor\": \"white\", \"ticks\": \"\"}, \"baxis\": {\"gridcolor\": \"white\", \"linecolor\": \"white\", \"ticks\": \"\"}, \"bgcolor\": \"#E5ECF6\", \"caxis\": {\"gridcolor\": \"white\", \"linecolor\": \"white\", \"ticks\": \"\"}}, \"title\": {\"x\": 0.05}, \"xaxis\": {\"automargin\": true, \"gridcolor\": \"white\", \"linecolor\": \"white\", \"ticks\": \"\", \"title\": {\"standoff\": 15}, \"zerolinecolor\": \"white\", \"zerolinewidth\": 2}, \"yaxis\": {\"automargin\": true, \"gridcolor\": \"white\", \"linecolor\": \"white\", \"ticks\": \"\", \"title\": {\"standoff\": 15}, \"zerolinecolor\": \"white\", \"zerolinewidth\": 2}}}, \"title\": {\"text\": \"A Figure Displayed with fig.show()\"}},                        {\"responsive\": true}                    ).then(function(){\n                            \nvar gd = document.getElementById('f93d6e78-a5c6-4720-9ce3-bfdefb5eb64d');\nvar x = new MutationObserver(function (mutations, observer) {{\n        var display = window.getComputedStyle(gd).display;\n        if (!display || display === 'none') {{\n            console.log([gd, 'removed!']);\n            Plotly.purge(gd);\n            observer.disconnect();\n        }}\n}});\n\n// Listen for the removal of the full notebook cells\nvar notebookContainer = gd.closest('#notebook-container');\nif (notebookContainer) {{\n    x.observe(notebookContainer, {childList: true});\n}}\n\n// Listen for the clearing of the current output cell\nvar outputEl = gd.closest('.output');\nif (outputEl) {{\n    x.observe(outputEl, {childList: true});\n}}\n\n                        })                };                });            </script>        </div>"
     },
     "metadata": {}
    }
   ],
   "source": [
    "fig = go.Figure(\n",
    "    data=[go.Bar(y=[2, 1, 3])],\n",
    "    layout_title_text=\"A Figure Displayed with fig.show()\"\n",
    ")\n",
    "fig.show()"
   ]
  },
  {
   "cell_type": "code",
   "execution_count": 16,
   "metadata": {},
   "outputs": [
    {
     "output_type": "display_data",
     "data": {
      "application/vnd.plotly.v1+json": {
       "config": {
        "plotlyServerURL": "https://plot.ly"
       },
       "data": [
        {
         "marker": {
          "color": [
           0.9501761192470797,
           0.5566531881951564,
           0.9156063497662745,
           0.6415662089463375,
           0.39000771414124624,
           0.48599066709690975,
           0.6043104829199732,
           0.5495479215085626,
           0.9261814267064536,
           0.9187334356336061,
           0.3948756129235549,
           0.9632625284407118,
           0.17395566668046436,
           0.12632951943963733,
           0.13507915804673132,
           0.5056621656768967,
           0.021524805274197978,
           0.947970211217681,
           0.8271154711707325,
           0.015018980742122379,
           0.17619625557505525,
           0.332063574366837,
           0.1309968448109169,
           0.8094906921265821,
           0.34473665268329345,
           0.9401074823333672,
           0.58201417994708,
           0.8788319844118441,
           0.8447344453922219,
           0.9053923187086492,
           0.45988026581680697,
           0.5463468160203733,
           0.7986035911520394,
           0.28571885173414757,
           0.4902535226199277,
           0.5991103076458784,
           0.015533275550835723,
           0.5934814081966372,
           0.4336763489894583,
           0.8073605288848414,
           0.31524480309537295,
           0.8928887085251513,
           0.5778572152845355,
           0.18401020162746506,
           0.7879292338255043,
           0.6120311770449339,
           0.053909272073752956,
           0.4201936800011322,
           0.6790688365654296,
           0.9186017779775258,
           0.00040202489135743313,
           0.9767591490310596,
           0.37658031474577447,
           0.9737835383583225,
           0.604716100974053,
           0.828845807980693,
           0.5747115047081023,
           0.6280761983073504,
           0.28557628169569393,
           0.586833340656083,
           0.7500217637026599,
           0.8583138364290424,
           0.7550821884676802,
           0.698057248447303,
           0.8644794300545998,
           0.32268099683674645,
           0.6707887907875872,
           0.45087393641334916,
           0.3821027520315172,
           0.4108113499221856,
           0.4014795834695406,
           0.3173839459582769,
           0.6219193679203014,
           0.43024727082126435,
           0.9738020779272523,
           0.6778008914343111,
           0.19856988842711087,
           0.4267010093480328,
           0.343346239774423,
           0.7976388039585666,
           0.8799982885634318,
           0.903841955826372,
           0.6627198123752622,
           0.2702082620297578,
           0.25236670150458973,
           0.8548979426974024,
           0.5277146463087466,
           0.8021610840045981,
           0.5724885171916063,
           0.7331425252875111,
           0.5190116274640558,
           0.770883910501888,
           0.5688579907047155,
           0.4657098785919809,
           0.3426889079532818,
           0.06820934841670412,
           0.37792417932809985,
           0.07962607769825236,
           0.982817113730445,
           0.18161285133076377
          ],
          "colorscale": [
           [
            0,
            "#440154"
           ],
           [
            0.1111111111111111,
            "#482878"
           ],
           [
            0.2222222222222222,
            "#3e4989"
           ],
           [
            0.3333333333333333,
            "#31688e"
           ],
           [
            0.4444444444444444,
            "#26828e"
           ],
           [
            0.5555555555555556,
            "#1f9e89"
           ],
           [
            0.6666666666666666,
            "#35b779"
           ],
           [
            0.7777777777777778,
            "#6ece58"
           ],
           [
            0.8888888888888888,
            "#b5de2b"
           ],
           [
            1,
            "#fde725"
           ]
          ],
          "opacity": 0.6,
          "size": [
           24.355760931616192,
           26.248849348676945,
           20.652397571578298,
           17.08483238236127,
           4.829143104468264,
           14.006400682899189,
           10.35516153465645,
           6.7511987344225375,
           17.775356062973902,
           9.368095131057508,
           27.48916660405052,
           27.28906574854671,
           7.713548813465886,
           3.3267390223208757,
           5.788881960573385,
           14.987525120366582,
           21.85757003923789,
           6.245833152263744,
           7.441006751316922,
           25.55015624809101,
           12.47546154802582,
           18.500552014657085,
           7.009984177177502,
           3.059017782773923,
           15.475710509055894,
           14.31422961149347,
           4.580149322794897,
           18.654186952212466,
           16.320303564418143,
           19.62412040912233,
           4.336366203739795,
           22.545834514057315,
           6.66147419399768,
           15.58055473098099,
           23.558880846648567,
           0.6699128397541854,
           9.730873791785594,
           26.18767129200333,
           25.341288228062087,
           16.15321777783631,
           25.99824822499539,
           28.494179740608796,
           24.79220992888024,
           25.62346331509616,
           2.9623020546104506,
           19.53912997022973,
           21.105509644579588,
           18.30722437939889,
           23.988457852080842,
           1.0371365961490275,
           23.1071620366494,
           21.95185802218581,
           7.7909517989505925,
           7.712078964664401,
           18.969099522903832,
           10.358923847732447,
           23.897660340218625,
           13.384386960103718,
           23.482482443525157,
           29.71415350871522,
           9.007450186017001,
           4.290174847742981,
           27.039253090478216,
           16.2467813666212,
           29.242211125652467,
           19.098132000056918,
           29.81739073831437,
           16.38212412428855,
           15.792778017165638,
           4.062837092165097,
           10.671155129516434,
           0.7865570188911986,
           4.811855385589473,
           22.36911578122488,
           0.9119906978636649,
           10.99629291731233,
           25.870387585141323,
           20.780331525220628,
           20.728264261985057,
           5.659104028659327,
           13.2571284224527,
           17.447322220328736,
           29.692551229911157,
           6.1171867569936555,
           7.431987052870646,
           7.865192513187358,
           22.505172398939784,
           13.709259823070784,
           1.7078831523328497,
           15.255487218307188,
           6.358804939310279,
           23.958127342806307,
           8.919941445218168,
           0.8281803586351089,
           17.80297348393863,
           25.315212867935664,
           11.430483721866425,
           22.495749321784302,
           15.334244348913845,
           16.22855414886566
          ]
         },
         "mode": "markers",
         "type": "scatter",
         "x": [
          0.417022004702574,
          0.7203244934421581,
          0.00011437481734488664,
          0.30233257263183977,
          0.14675589081711304,
          0.0923385947687978,
          0.1862602113776709,
          0.34556072704304774,
          0.39676747423066994,
          0.538816734003357,
          0.4191945144032948,
          0.6852195003967595,
          0.20445224973151743,
          0.8781174363909454,
          0.027387593197926163,
          0.6704675101784022,
          0.41730480236712697,
          0.5586898284457517,
          0.14038693859523377,
          0.1981014890848788,
          0.8007445686755367,
          0.9682615757193975,
          0.31342417815924284,
          0.6923226156693141,
          0.8763891522960383,
          0.8946066635038473,
          0.08504421136977791,
          0.03905478323288236,
          0.1698304195645689,
          0.8781425034294131,
          0.0983468338330501,
          0.42110762500505217,
          0.9578895301505019,
          0.5331652849730171,
          0.6918771139504734,
          0.31551563100606295,
          0.6865009276815837,
          0.8346256718973729,
          0.018288277344191806,
          0.7501443149449675,
          0.9888610889064947,
          0.7481656543798394,
          0.2804439920644052,
          0.7892793284514885,
          0.10322600657764203,
          0.44789352617590517,
          0.9085955030930956,
          0.2936141483736795,
          0.28777533858634874,
          0.13002857211827767,
          0.019366957870297075,
          0.678835532939891,
          0.21162811600005904,
          0.2655466593722262,
          0.4915731592803383,
          0.053362545117080384,
          0.5741176054920131,
          0.14672857490581015,
          0.5893055369032842,
          0.6997583600209312,
          0.10233442882782584,
          0.4140559878195683,
          0.6944001577277451,
          0.41417926952690265,
          0.04995345894608716,
          0.5358964059155116,
          0.6637946452197888,
          0.5148891120583086,
          0.9445947559908133,
          0.5865550405019929,
          0.9034019152878835,
          0.13747470414623753,
          0.13927634725075855,
          0.8073912887095238,
          0.3976768369855336,
          0.16535419711693278,
          0.9275085803960339,
          0.34776585974550656,
          0.7508121031361555,
          0.7259979853504515,
          0.8833060912058098,
          0.6236722070556089,
          0.7509424340273372,
          0.34889834197784253,
          0.2699278917650261,
          0.8958862181960668,
          0.4280911898712949,
          0.9648400471483856,
          0.6634414978184481,
          0.6216957202091218,
          0.11474597295337519,
          0.9494892587070712,
          0.4499121334799405,
          0.5783896143871318,
          0.40813680276128117,
          0.2370269802430277,
          0.9033795205622538,
          0.5736794866722859,
          0.00287032703115897,
          0.6171449136207239
         ],
         "y": [
          0.32664490177209615,
          0.5270581022576093,
          0.8859420993107745,
          0.35726976000249977,
          0.9085351509197992,
          0.6233601157918027,
          0.015821242846556283,
          0.9294372337437613,
          0.690896917516924,
          0.9973228504514805,
          0.17234050834532855,
          0.13713574962887776,
          0.9325954630371636,
          0.6968181614899002,
          0.06600017272206249,
          0.7554630526024664,
          0.7538761884612464,
          0.9230245355464833,
          0.7115247586284718,
          0.1242709619721647,
          0.01988013383979559,
          0.026210986877719278,
          0.028306488020794607,
          0.2462110676030459,
          0.860027948682888,
          0.5388310643416528,
          0.5528219786857659,
          0.8420308923596057,
          0.12417331511991114,
          0.2791836790111395,
          0.5857592714582879,
          0.9695957483196745,
          0.56103021925571,
          0.01864728937294302,
          0.8006326726806163,
          0.23297427384102043,
          0.8071051956187791,
          0.38786064406417176,
          0.8635418545594287,
          0.7471216427371846,
          0.5562402339904189,
          0.13645522566068502,
          0.05991768951221166,
          0.12134345574073735,
          0.044551878544761725,
          0.1074941291060929,
          0.2257093386078547,
          0.7129889803826767,
          0.5597169820541424,
          0.012555980159115854,
          0.07197427968948678,
          0.967276330000272,
          0.5681004619199421,
          0.20329323466099047,
          0.2523257445703234,
          0.7438258540750929,
          0.1954294811093188,
          0.5813589272732578,
          0.9700199890883123,
          0.8468288014900353,
          0.23984775914758616,
          0.49376971426872995,
          0.6199557183813798,
          0.8289808995501787,
          0.15679139464608427,
          0.018576202177409518,
          0.07002214371922233,
          0.4863451109370318,
          0.6063294616533303,
          0.5688514370864813,
          0.31736240932216075,
          0.9886161544124489,
          0.5797452192457969,
          0.3801411726235504,
          0.5509482191178968,
          0.7453344309065021,
          0.6692328934531846,
          0.2649195576628094,
          0.06633483442844157,
          0.3700841979141063,
          0.6297175070215645,
          0.2101740099148396,
          0.7527555537388139,
          0.06653648135411494,
          0.26031509857854096,
          0.8047545637433454,
          0.19343428262332774,
          0.6394608808799401,
          0.5246703091237337,
          0.9248079703993507,
          0.263296770487111,
          0.06596109068402378,
          0.7350659632886695,
          0.7721780295432468,
          0.907815852503524,
          0.9319720691968373,
          0.013951572975597015,
          0.2343620861214205,
          0.6167783570016576,
          0.9490163206876164
         ]
        }
       ],
       "layout": {
        "template": {
         "data": {
          "bar": [
           {
            "error_x": {
             "color": "#2a3f5f"
            },
            "error_y": {
             "color": "#2a3f5f"
            },
            "marker": {
             "line": {
              "color": "#E5ECF6",
              "width": 0.5
             }
            },
            "type": "bar"
           }
          ],
          "barpolar": [
           {
            "marker": {
             "line": {
              "color": "#E5ECF6",
              "width": 0.5
             }
            },
            "type": "barpolar"
           }
          ],
          "carpet": [
           {
            "aaxis": {
             "endlinecolor": "#2a3f5f",
             "gridcolor": "white",
             "linecolor": "white",
             "minorgridcolor": "white",
             "startlinecolor": "#2a3f5f"
            },
            "baxis": {
             "endlinecolor": "#2a3f5f",
             "gridcolor": "white",
             "linecolor": "white",
             "minorgridcolor": "white",
             "startlinecolor": "#2a3f5f"
            },
            "type": "carpet"
           }
          ],
          "choropleth": [
           {
            "colorbar": {
             "outlinewidth": 0,
             "ticks": ""
            },
            "type": "choropleth"
           }
          ],
          "contour": [
           {
            "colorbar": {
             "outlinewidth": 0,
             "ticks": ""
            },
            "colorscale": [
             [
              0,
              "#0d0887"
             ],
             [
              0.1111111111111111,
              "#46039f"
             ],
             [
              0.2222222222222222,
              "#7201a8"
             ],
             [
              0.3333333333333333,
              "#9c179e"
             ],
             [
              0.4444444444444444,
              "#bd3786"
             ],
             [
              0.5555555555555556,
              "#d8576b"
             ],
             [
              0.6666666666666666,
              "#ed7953"
             ],
             [
              0.7777777777777778,
              "#fb9f3a"
             ],
             [
              0.8888888888888888,
              "#fdca26"
             ],
             [
              1,
              "#f0f921"
             ]
            ],
            "type": "contour"
           }
          ],
          "contourcarpet": [
           {
            "colorbar": {
             "outlinewidth": 0,
             "ticks": ""
            },
            "type": "contourcarpet"
           }
          ],
          "heatmap": [
           {
            "colorbar": {
             "outlinewidth": 0,
             "ticks": ""
            },
            "colorscale": [
             [
              0,
              "#0d0887"
             ],
             [
              0.1111111111111111,
              "#46039f"
             ],
             [
              0.2222222222222222,
              "#7201a8"
             ],
             [
              0.3333333333333333,
              "#9c179e"
             ],
             [
              0.4444444444444444,
              "#bd3786"
             ],
             [
              0.5555555555555556,
              "#d8576b"
             ],
             [
              0.6666666666666666,
              "#ed7953"
             ],
             [
              0.7777777777777778,
              "#fb9f3a"
             ],
             [
              0.8888888888888888,
              "#fdca26"
             ],
             [
              1,
              "#f0f921"
             ]
            ],
            "type": "heatmap"
           }
          ],
          "heatmapgl": [
           {
            "colorbar": {
             "outlinewidth": 0,
             "ticks": ""
            },
            "colorscale": [
             [
              0,
              "#0d0887"
             ],
             [
              0.1111111111111111,
              "#46039f"
             ],
             [
              0.2222222222222222,
              "#7201a8"
             ],
             [
              0.3333333333333333,
              "#9c179e"
             ],
             [
              0.4444444444444444,
              "#bd3786"
             ],
             [
              0.5555555555555556,
              "#d8576b"
             ],
             [
              0.6666666666666666,
              "#ed7953"
             ],
             [
              0.7777777777777778,
              "#fb9f3a"
             ],
             [
              0.8888888888888888,
              "#fdca26"
             ],
             [
              1,
              "#f0f921"
             ]
            ],
            "type": "heatmapgl"
           }
          ],
          "histogram": [
           {
            "marker": {
             "colorbar": {
              "outlinewidth": 0,
              "ticks": ""
             }
            },
            "type": "histogram"
           }
          ],
          "histogram2d": [
           {
            "colorbar": {
             "outlinewidth": 0,
             "ticks": ""
            },
            "colorscale": [
             [
              0,
              "#0d0887"
             ],
             [
              0.1111111111111111,
              "#46039f"
             ],
             [
              0.2222222222222222,
              "#7201a8"
             ],
             [
              0.3333333333333333,
              "#9c179e"
             ],
             [
              0.4444444444444444,
              "#bd3786"
             ],
             [
              0.5555555555555556,
              "#d8576b"
             ],
             [
              0.6666666666666666,
              "#ed7953"
             ],
             [
              0.7777777777777778,
              "#fb9f3a"
             ],
             [
              0.8888888888888888,
              "#fdca26"
             ],
             [
              1,
              "#f0f921"
             ]
            ],
            "type": "histogram2d"
           }
          ],
          "histogram2dcontour": [
           {
            "colorbar": {
             "outlinewidth": 0,
             "ticks": ""
            },
            "colorscale": [
             [
              0,
              "#0d0887"
             ],
             [
              0.1111111111111111,
              "#46039f"
             ],
             [
              0.2222222222222222,
              "#7201a8"
             ],
             [
              0.3333333333333333,
              "#9c179e"
             ],
             [
              0.4444444444444444,
              "#bd3786"
             ],
             [
              0.5555555555555556,
              "#d8576b"
             ],
             [
              0.6666666666666666,
              "#ed7953"
             ],
             [
              0.7777777777777778,
              "#fb9f3a"
             ],
             [
              0.8888888888888888,
              "#fdca26"
             ],
             [
              1,
              "#f0f921"
             ]
            ],
            "type": "histogram2dcontour"
           }
          ],
          "mesh3d": [
           {
            "colorbar": {
             "outlinewidth": 0,
             "ticks": ""
            },
            "type": "mesh3d"
           }
          ],
          "parcoords": [
           {
            "line": {
             "colorbar": {
              "outlinewidth": 0,
              "ticks": ""
             }
            },
            "type": "parcoords"
           }
          ],
          "pie": [
           {
            "automargin": true,
            "type": "pie"
           }
          ],
          "scatter": [
           {
            "marker": {
             "colorbar": {
              "outlinewidth": 0,
              "ticks": ""
             }
            },
            "type": "scatter"
           }
          ],
          "scatter3d": [
           {
            "line": {
             "colorbar": {
              "outlinewidth": 0,
              "ticks": ""
             }
            },
            "marker": {
             "colorbar": {
              "outlinewidth": 0,
              "ticks": ""
             }
            },
            "type": "scatter3d"
           }
          ],
          "scattercarpet": [
           {
            "marker": {
             "colorbar": {
              "outlinewidth": 0,
              "ticks": ""
             }
            },
            "type": "scattercarpet"
           }
          ],
          "scattergeo": [
           {
            "marker": {
             "colorbar": {
              "outlinewidth": 0,
              "ticks": ""
             }
            },
            "type": "scattergeo"
           }
          ],
          "scattergl": [
           {
            "marker": {
             "colorbar": {
              "outlinewidth": 0,
              "ticks": ""
             }
            },
            "type": "scattergl"
           }
          ],
          "scattermapbox": [
           {
            "marker": {
             "colorbar": {
              "outlinewidth": 0,
              "ticks": ""
             }
            },
            "type": "scattermapbox"
           }
          ],
          "scatterpolar": [
           {
            "marker": {
             "colorbar": {
              "outlinewidth": 0,
              "ticks": ""
             }
            },
            "type": "scatterpolar"
           }
          ],
          "scatterpolargl": [
           {
            "marker": {
             "colorbar": {
              "outlinewidth": 0,
              "ticks": ""
             }
            },
            "type": "scatterpolargl"
           }
          ],
          "scatterternary": [
           {
            "marker": {
             "colorbar": {
              "outlinewidth": 0,
              "ticks": ""
             }
            },
            "type": "scatterternary"
           }
          ],
          "surface": [
           {
            "colorbar": {
             "outlinewidth": 0,
             "ticks": ""
            },
            "colorscale": [
             [
              0,
              "#0d0887"
             ],
             [
              0.1111111111111111,
              "#46039f"
             ],
             [
              0.2222222222222222,
              "#7201a8"
             ],
             [
              0.3333333333333333,
              "#9c179e"
             ],
             [
              0.4444444444444444,
              "#bd3786"
             ],
             [
              0.5555555555555556,
              "#d8576b"
             ],
             [
              0.6666666666666666,
              "#ed7953"
             ],
             [
              0.7777777777777778,
              "#fb9f3a"
             ],
             [
              0.8888888888888888,
              "#fdca26"
             ],
             [
              1,
              "#f0f921"
             ]
            ],
            "type": "surface"
           }
          ],
          "table": [
           {
            "cells": {
             "fill": {
              "color": "#EBF0F8"
             },
             "line": {
              "color": "white"
             }
            },
            "header": {
             "fill": {
              "color": "#C8D4E3"
             },
             "line": {
              "color": "white"
             }
            },
            "type": "table"
           }
          ]
         },
         "layout": {
          "annotationdefaults": {
           "arrowcolor": "#2a3f5f",
           "arrowhead": 0,
           "arrowwidth": 1
          },
          "autotypenumbers": "strict",
          "coloraxis": {
           "colorbar": {
            "outlinewidth": 0,
            "ticks": ""
           }
          },
          "colorscale": {
           "diverging": [
            [
             0,
             "#8e0152"
            ],
            [
             0.1,
             "#c51b7d"
            ],
            [
             0.2,
             "#de77ae"
            ],
            [
             0.3,
             "#f1b6da"
            ],
            [
             0.4,
             "#fde0ef"
            ],
            [
             0.5,
             "#f7f7f7"
            ],
            [
             0.6,
             "#e6f5d0"
            ],
            [
             0.7,
             "#b8e186"
            ],
            [
             0.8,
             "#7fbc41"
            ],
            [
             0.9,
             "#4d9221"
            ],
            [
             1,
             "#276419"
            ]
           ],
           "sequential": [
            [
             0,
             "#0d0887"
            ],
            [
             0.1111111111111111,
             "#46039f"
            ],
            [
             0.2222222222222222,
             "#7201a8"
            ],
            [
             0.3333333333333333,
             "#9c179e"
            ],
            [
             0.4444444444444444,
             "#bd3786"
            ],
            [
             0.5555555555555556,
             "#d8576b"
            ],
            [
             0.6666666666666666,
             "#ed7953"
            ],
            [
             0.7777777777777778,
             "#fb9f3a"
            ],
            [
             0.8888888888888888,
             "#fdca26"
            ],
            [
             1,
             "#f0f921"
            ]
           ],
           "sequentialminus": [
            [
             0,
             "#0d0887"
            ],
            [
             0.1111111111111111,
             "#46039f"
            ],
            [
             0.2222222222222222,
             "#7201a8"
            ],
            [
             0.3333333333333333,
             "#9c179e"
            ],
            [
             0.4444444444444444,
             "#bd3786"
            ],
            [
             0.5555555555555556,
             "#d8576b"
            ],
            [
             0.6666666666666666,
             "#ed7953"
            ],
            [
             0.7777777777777778,
             "#fb9f3a"
            ],
            [
             0.8888888888888888,
             "#fdca26"
            ],
            [
             1,
             "#f0f921"
            ]
           ]
          },
          "colorway": [
           "#636efa",
           "#EF553B",
           "#00cc96",
           "#ab63fa",
           "#FFA15A",
           "#19d3f3",
           "#FF6692",
           "#B6E880",
           "#FF97FF",
           "#FECB52"
          ],
          "font": {
           "color": "#2a3f5f"
          },
          "geo": {
           "bgcolor": "white",
           "lakecolor": "white",
           "landcolor": "#E5ECF6",
           "showlakes": true,
           "showland": true,
           "subunitcolor": "white"
          },
          "hoverlabel": {
           "align": "left"
          },
          "hovermode": "closest",
          "mapbox": {
           "style": "light"
          },
          "paper_bgcolor": "white",
          "plot_bgcolor": "#E5ECF6",
          "polar": {
           "angularaxis": {
            "gridcolor": "white",
            "linecolor": "white",
            "ticks": ""
           },
           "bgcolor": "#E5ECF6",
           "radialaxis": {
            "gridcolor": "white",
            "linecolor": "white",
            "ticks": ""
           }
          },
          "scene": {
           "xaxis": {
            "backgroundcolor": "#E5ECF6",
            "gridcolor": "white",
            "gridwidth": 2,
            "linecolor": "white",
            "showbackground": true,
            "ticks": "",
            "zerolinecolor": "white"
           },
           "yaxis": {
            "backgroundcolor": "#E5ECF6",
            "gridcolor": "white",
            "gridwidth": 2,
            "linecolor": "white",
            "showbackground": true,
            "ticks": "",
            "zerolinecolor": "white"
           },
           "zaxis": {
            "backgroundcolor": "#E5ECF6",
            "gridcolor": "white",
            "gridwidth": 2,
            "linecolor": "white",
            "showbackground": true,
            "ticks": "",
            "zerolinecolor": "white"
           }
          },
          "shapedefaults": {
           "line": {
            "color": "#2a3f5f"
           }
          },
          "ternary": {
           "aaxis": {
            "gridcolor": "white",
            "linecolor": "white",
            "ticks": ""
           },
           "baxis": {
            "gridcolor": "white",
            "linecolor": "white",
            "ticks": ""
           },
           "bgcolor": "#E5ECF6",
           "caxis": {
            "gridcolor": "white",
            "linecolor": "white",
            "ticks": ""
           }
          },
          "title": {
           "x": 0.05
          },
          "xaxis": {
           "automargin": true,
           "gridcolor": "white",
           "linecolor": "white",
           "ticks": "",
           "title": {
            "standoff": 15
           },
           "zerolinecolor": "white",
           "zerolinewidth": 2
          },
          "yaxis": {
           "automargin": true,
           "gridcolor": "white",
           "linecolor": "white",
           "ticks": "",
           "title": {
            "standoff": 15
           },
           "zerolinecolor": "white",
           "zerolinewidth": 2
          }
         }
        }
       }
      },
      "text/html": "<div>                            <div id=\"ed036cd3-5702-4862-a8ca-47c387c59c72\" class=\"plotly-graph-div\" style=\"height:525px; width:100%;\"></div>            <script type=\"text/javascript\">                require([\"plotly\"], function(Plotly) {                    window.PLOTLYENV=window.PLOTLYENV || {};                                    if (document.getElementById(\"ed036cd3-5702-4862-a8ca-47c387c59c72\")) {                    Plotly.newPlot(                        \"ed036cd3-5702-4862-a8ca-47c387c59c72\",                        [{\"marker\": {\"color\": [0.9501761192470797, 0.5566531881951564, 0.9156063497662745, 0.6415662089463375, 0.39000771414124624, 0.48599066709690975, 0.6043104829199732, 0.5495479215085626, 0.9261814267064536, 0.9187334356336061, 0.3948756129235549, 0.9632625284407118, 0.17395566668046436, 0.12632951943963733, 0.13507915804673132, 0.5056621656768967, 0.021524805274197978, 0.947970211217681, 0.8271154711707325, 0.015018980742122379, 0.17619625557505525, 0.332063574366837, 0.1309968448109169, 0.8094906921265821, 0.34473665268329345, 0.9401074823333672, 0.58201417994708, 0.8788319844118441, 0.8447344453922219, 0.9053923187086492, 0.45988026581680697, 0.5463468160203733, 0.7986035911520394, 0.28571885173414757, 0.4902535226199277, 0.5991103076458784, 0.015533275550835723, 0.5934814081966372, 0.4336763489894583, 0.8073605288848414, 0.31524480309537295, 0.8928887085251513, 0.5778572152845355, 0.18401020162746506, 0.7879292338255043, 0.6120311770449339, 0.053909272073752956, 0.4201936800011322, 0.6790688365654296, 0.9186017779775258, 0.00040202489135743313, 0.9767591490310596, 0.37658031474577447, 0.9737835383583225, 0.604716100974053, 0.828845807980693, 0.5747115047081023, 0.6280761983073504, 0.28557628169569393, 0.586833340656083, 0.7500217637026599, 0.8583138364290424, 0.7550821884676802, 0.698057248447303, 0.8644794300545998, 0.32268099683674645, 0.6707887907875872, 0.45087393641334916, 0.3821027520315172, 0.4108113499221856, 0.4014795834695406, 0.3173839459582769, 0.6219193679203014, 0.43024727082126435, 0.9738020779272523, 0.6778008914343111, 0.19856988842711087, 0.4267010093480328, 0.343346239774423, 0.7976388039585666, 0.8799982885634318, 0.903841955826372, 0.6627198123752622, 0.2702082620297578, 0.25236670150458973, 0.8548979426974024, 0.5277146463087466, 0.8021610840045981, 0.5724885171916063, 0.7331425252875111, 0.5190116274640558, 0.770883910501888, 0.5688579907047155, 0.4657098785919809, 0.3426889079532818, 0.06820934841670412, 0.37792417932809985, 0.07962607769825236, 0.982817113730445, 0.18161285133076377], \"colorscale\": [[0.0, \"#440154\"], [0.1111111111111111, \"#482878\"], [0.2222222222222222, \"#3e4989\"], [0.3333333333333333, \"#31688e\"], [0.4444444444444444, \"#26828e\"], [0.5555555555555556, \"#1f9e89\"], [0.6666666666666666, \"#35b779\"], [0.7777777777777778, \"#6ece58\"], [0.8888888888888888, \"#b5de2b\"], [1.0, \"#fde725\"]], \"opacity\": 0.6, \"size\": [24.355760931616192, 26.248849348676945, 20.652397571578298, 17.08483238236127, 4.829143104468264, 14.006400682899189, 10.35516153465645, 6.7511987344225375, 17.775356062973902, 9.368095131057508, 27.48916660405052, 27.28906574854671, 7.713548813465886, 3.3267390223208757, 5.788881960573385, 14.987525120366582, 21.85757003923789, 6.245833152263744, 7.441006751316922, 25.55015624809101, 12.47546154802582, 18.500552014657085, 7.009984177177502, 3.059017782773923, 15.475710509055894, 14.31422961149347, 4.580149322794897, 18.654186952212466, 16.320303564418143, 19.62412040912233, 4.336366203739795, 22.545834514057315, 6.66147419399768, 15.58055473098099, 23.558880846648567, 0.6699128397541854, 9.730873791785594, 26.18767129200333, 25.341288228062087, 16.15321777783631, 25.99824822499539, 28.494179740608796, 24.79220992888024, 25.62346331509616, 2.9623020546104506, 19.53912997022973, 21.105509644579588, 18.30722437939889, 23.988457852080842, 1.0371365961490275, 23.1071620366494, 21.95185802218581, 7.7909517989505925, 7.712078964664401, 18.969099522903832, 10.358923847732447, 23.897660340218625, 13.384386960103718, 23.482482443525157, 29.71415350871522, 9.007450186017001, 4.290174847742981, 27.039253090478216, 16.2467813666212, 29.242211125652467, 19.098132000056918, 29.81739073831437, 16.38212412428855, 15.792778017165638, 4.062837092165097, 10.671155129516434, 0.7865570188911986, 4.811855385589473, 22.36911578122488, 0.9119906978636649, 10.99629291731233, 25.870387585141323, 20.780331525220628, 20.728264261985057, 5.659104028659327, 13.2571284224527, 17.447322220328736, 29.692551229911157, 6.1171867569936555, 7.431987052870646, 7.865192513187358, 22.505172398939784, 13.709259823070784, 1.7078831523328497, 15.255487218307188, 6.358804939310279, 23.958127342806307, 8.919941445218168, 0.8281803586351089, 17.80297348393863, 25.315212867935664, 11.430483721866425, 22.495749321784302, 15.334244348913845, 16.22855414886566]}, \"mode\": \"markers\", \"type\": \"scatter\", \"x\": [0.417022004702574, 0.7203244934421581, 0.00011437481734488664, 0.30233257263183977, 0.14675589081711304, 0.0923385947687978, 0.1862602113776709, 0.34556072704304774, 0.39676747423066994, 0.538816734003357, 0.4191945144032948, 0.6852195003967595, 0.20445224973151743, 0.8781174363909454, 0.027387593197926163, 0.6704675101784022, 0.41730480236712697, 0.5586898284457517, 0.14038693859523377, 0.1981014890848788, 0.8007445686755367, 0.9682615757193975, 0.31342417815924284, 0.6923226156693141, 0.8763891522960383, 0.8946066635038473, 0.08504421136977791, 0.03905478323288236, 0.1698304195645689, 0.8781425034294131, 0.0983468338330501, 0.42110762500505217, 0.9578895301505019, 0.5331652849730171, 0.6918771139504734, 0.31551563100606295, 0.6865009276815837, 0.8346256718973729, 0.018288277344191806, 0.7501443149449675, 0.9888610889064947, 0.7481656543798394, 0.2804439920644052, 0.7892793284514885, 0.10322600657764203, 0.44789352617590517, 0.9085955030930956, 0.2936141483736795, 0.28777533858634874, 0.13002857211827767, 0.019366957870297075, 0.678835532939891, 0.21162811600005904, 0.2655466593722262, 0.4915731592803383, 0.053362545117080384, 0.5741176054920131, 0.14672857490581015, 0.5893055369032842, 0.6997583600209312, 0.10233442882782584, 0.4140559878195683, 0.6944001577277451, 0.41417926952690265, 0.04995345894608716, 0.5358964059155116, 0.6637946452197888, 0.5148891120583086, 0.9445947559908133, 0.5865550405019929, 0.9034019152878835, 0.13747470414623753, 0.13927634725075855, 0.8073912887095238, 0.3976768369855336, 0.16535419711693278, 0.9275085803960339, 0.34776585974550656, 0.7508121031361555, 0.7259979853504515, 0.8833060912058098, 0.6236722070556089, 0.7509424340273372, 0.34889834197784253, 0.2699278917650261, 0.8958862181960668, 0.4280911898712949, 0.9648400471483856, 0.6634414978184481, 0.6216957202091218, 0.11474597295337519, 0.9494892587070712, 0.4499121334799405, 0.5783896143871318, 0.40813680276128117, 0.2370269802430277, 0.9033795205622538, 0.5736794866722859, 0.00287032703115897, 0.6171449136207239], \"y\": [0.32664490177209615, 0.5270581022576093, 0.8859420993107745, 0.35726976000249977, 0.9085351509197992, 0.6233601157918027, 0.015821242846556283, 0.9294372337437613, 0.690896917516924, 0.9973228504514805, 0.17234050834532855, 0.13713574962887776, 0.9325954630371636, 0.6968181614899002, 0.06600017272206249, 0.7554630526024664, 0.7538761884612464, 0.9230245355464833, 0.7115247586284718, 0.1242709619721647, 0.01988013383979559, 0.026210986877719278, 0.028306488020794607, 0.2462110676030459, 0.860027948682888, 0.5388310643416528, 0.5528219786857659, 0.8420308923596057, 0.12417331511991114, 0.2791836790111395, 0.5857592714582879, 0.9695957483196745, 0.56103021925571, 0.01864728937294302, 0.8006326726806163, 0.23297427384102043, 0.8071051956187791, 0.38786064406417176, 0.8635418545594287, 0.7471216427371846, 0.5562402339904189, 0.13645522566068502, 0.05991768951221166, 0.12134345574073735, 0.044551878544761725, 0.1074941291060929, 0.2257093386078547, 0.7129889803826767, 0.5597169820541424, 0.012555980159115854, 0.07197427968948678, 0.967276330000272, 0.5681004619199421, 0.20329323466099047, 0.2523257445703234, 0.7438258540750929, 0.1954294811093188, 0.5813589272732578, 0.9700199890883123, 0.8468288014900353, 0.23984775914758616, 0.49376971426872995, 0.6199557183813798, 0.8289808995501787, 0.15679139464608427, 0.018576202177409518, 0.07002214371922233, 0.4863451109370318, 0.6063294616533303, 0.5688514370864813, 0.31736240932216075, 0.9886161544124489, 0.5797452192457969, 0.3801411726235504, 0.5509482191178968, 0.7453344309065021, 0.6692328934531846, 0.2649195576628094, 0.06633483442844157, 0.3700841979141063, 0.6297175070215645, 0.2101740099148396, 0.7527555537388139, 0.06653648135411494, 0.26031509857854096, 0.8047545637433454, 0.19343428262332774, 0.6394608808799401, 0.5246703091237337, 0.9248079703993507, 0.263296770487111, 0.06596109068402378, 0.7350659632886695, 0.7721780295432468, 0.907815852503524, 0.9319720691968373, 0.013951572975597015, 0.2343620861214205, 0.6167783570016576, 0.9490163206876164]}],                        {\"template\": {\"data\": {\"bar\": [{\"error_x\": {\"color\": \"#2a3f5f\"}, \"error_y\": {\"color\": \"#2a3f5f\"}, \"marker\": {\"line\": {\"color\": \"#E5ECF6\", \"width\": 0.5}}, \"type\": \"bar\"}], \"barpolar\": [{\"marker\": {\"line\": {\"color\": \"#E5ECF6\", \"width\": 0.5}}, \"type\": \"barpolar\"}], \"carpet\": [{\"aaxis\": {\"endlinecolor\": \"#2a3f5f\", \"gridcolor\": \"white\", \"linecolor\": \"white\", \"minorgridcolor\": \"white\", \"startlinecolor\": \"#2a3f5f\"}, \"baxis\": {\"endlinecolor\": \"#2a3f5f\", \"gridcolor\": \"white\", \"linecolor\": \"white\", \"minorgridcolor\": \"white\", \"startlinecolor\": \"#2a3f5f\"}, \"type\": \"carpet\"}], \"choropleth\": [{\"colorbar\": {\"outlinewidth\": 0, \"ticks\": \"\"}, \"type\": \"choropleth\"}], \"contour\": [{\"colorbar\": {\"outlinewidth\": 0, \"ticks\": \"\"}, \"colorscale\": [[0.0, \"#0d0887\"], [0.1111111111111111, \"#46039f\"], [0.2222222222222222, \"#7201a8\"], [0.3333333333333333, \"#9c179e\"], [0.4444444444444444, \"#bd3786\"], [0.5555555555555556, \"#d8576b\"], [0.6666666666666666, \"#ed7953\"], [0.7777777777777778, \"#fb9f3a\"], [0.8888888888888888, \"#fdca26\"], [1.0, \"#f0f921\"]], \"type\": \"contour\"}], \"contourcarpet\": [{\"colorbar\": {\"outlinewidth\": 0, \"ticks\": \"\"}, \"type\": \"contourcarpet\"}], \"heatmap\": [{\"colorbar\": {\"outlinewidth\": 0, \"ticks\": \"\"}, \"colorscale\": [[0.0, \"#0d0887\"], [0.1111111111111111, \"#46039f\"], [0.2222222222222222, \"#7201a8\"], [0.3333333333333333, \"#9c179e\"], [0.4444444444444444, \"#bd3786\"], [0.5555555555555556, \"#d8576b\"], [0.6666666666666666, \"#ed7953\"], [0.7777777777777778, \"#fb9f3a\"], [0.8888888888888888, \"#fdca26\"], [1.0, \"#f0f921\"]], \"type\": \"heatmap\"}], \"heatmapgl\": [{\"colorbar\": {\"outlinewidth\": 0, \"ticks\": \"\"}, \"colorscale\": [[0.0, \"#0d0887\"], [0.1111111111111111, \"#46039f\"], [0.2222222222222222, \"#7201a8\"], [0.3333333333333333, \"#9c179e\"], [0.4444444444444444, \"#bd3786\"], [0.5555555555555556, \"#d8576b\"], [0.6666666666666666, \"#ed7953\"], [0.7777777777777778, \"#fb9f3a\"], [0.8888888888888888, \"#fdca26\"], [1.0, \"#f0f921\"]], \"type\": \"heatmapgl\"}], \"histogram\": [{\"marker\": {\"colorbar\": {\"outlinewidth\": 0, \"ticks\": \"\"}}, \"type\": \"histogram\"}], \"histogram2d\": [{\"colorbar\": {\"outlinewidth\": 0, \"ticks\": \"\"}, \"colorscale\": [[0.0, \"#0d0887\"], [0.1111111111111111, \"#46039f\"], [0.2222222222222222, \"#7201a8\"], [0.3333333333333333, \"#9c179e\"], [0.4444444444444444, \"#bd3786\"], [0.5555555555555556, \"#d8576b\"], [0.6666666666666666, \"#ed7953\"], [0.7777777777777778, \"#fb9f3a\"], [0.8888888888888888, \"#fdca26\"], [1.0, \"#f0f921\"]], \"type\": \"histogram2d\"}], \"histogram2dcontour\": [{\"colorbar\": {\"outlinewidth\": 0, \"ticks\": \"\"}, \"colorscale\": [[0.0, \"#0d0887\"], [0.1111111111111111, \"#46039f\"], [0.2222222222222222, \"#7201a8\"], [0.3333333333333333, \"#9c179e\"], [0.4444444444444444, \"#bd3786\"], [0.5555555555555556, \"#d8576b\"], [0.6666666666666666, \"#ed7953\"], [0.7777777777777778, \"#fb9f3a\"], [0.8888888888888888, \"#fdca26\"], [1.0, \"#f0f921\"]], \"type\": \"histogram2dcontour\"}], \"mesh3d\": [{\"colorbar\": {\"outlinewidth\": 0, \"ticks\": \"\"}, \"type\": \"mesh3d\"}], \"parcoords\": [{\"line\": {\"colorbar\": {\"outlinewidth\": 0, \"ticks\": \"\"}}, \"type\": \"parcoords\"}], \"pie\": [{\"automargin\": true, \"type\": \"pie\"}], \"scatter\": [{\"marker\": {\"colorbar\": {\"outlinewidth\": 0, \"ticks\": \"\"}}, \"type\": \"scatter\"}], \"scatter3d\": [{\"line\": {\"colorbar\": {\"outlinewidth\": 0, \"ticks\": \"\"}}, \"marker\": {\"colorbar\": {\"outlinewidth\": 0, \"ticks\": \"\"}}, \"type\": \"scatter3d\"}], \"scattercarpet\": [{\"marker\": {\"colorbar\": {\"outlinewidth\": 0, \"ticks\": \"\"}}, \"type\": \"scattercarpet\"}], \"scattergeo\": [{\"marker\": {\"colorbar\": {\"outlinewidth\": 0, \"ticks\": \"\"}}, \"type\": \"scattergeo\"}], \"scattergl\": [{\"marker\": {\"colorbar\": {\"outlinewidth\": 0, \"ticks\": \"\"}}, \"type\": \"scattergl\"}], \"scattermapbox\": [{\"marker\": {\"colorbar\": {\"outlinewidth\": 0, \"ticks\": \"\"}}, \"type\": \"scattermapbox\"}], \"scatterpolar\": [{\"marker\": {\"colorbar\": {\"outlinewidth\": 0, \"ticks\": \"\"}}, \"type\": \"scatterpolar\"}], \"scatterpolargl\": [{\"marker\": {\"colorbar\": {\"outlinewidth\": 0, \"ticks\": \"\"}}, \"type\": \"scatterpolargl\"}], \"scatterternary\": [{\"marker\": {\"colorbar\": {\"outlinewidth\": 0, \"ticks\": \"\"}}, \"type\": \"scatterternary\"}], \"surface\": [{\"colorbar\": {\"outlinewidth\": 0, \"ticks\": \"\"}, \"colorscale\": [[0.0, \"#0d0887\"], [0.1111111111111111, \"#46039f\"], [0.2222222222222222, \"#7201a8\"], [0.3333333333333333, \"#9c179e\"], [0.4444444444444444, \"#bd3786\"], [0.5555555555555556, \"#d8576b\"], [0.6666666666666666, \"#ed7953\"], [0.7777777777777778, \"#fb9f3a\"], [0.8888888888888888, \"#fdca26\"], [1.0, \"#f0f921\"]], \"type\": \"surface\"}], \"table\": [{\"cells\": {\"fill\": {\"color\": \"#EBF0F8\"}, \"line\": {\"color\": \"white\"}}, \"header\": {\"fill\": {\"color\": \"#C8D4E3\"}, \"line\": {\"color\": \"white\"}}, \"type\": \"table\"}]}, \"layout\": {\"annotationdefaults\": {\"arrowcolor\": \"#2a3f5f\", \"arrowhead\": 0, \"arrowwidth\": 1}, \"autotypenumbers\": \"strict\", \"coloraxis\": {\"colorbar\": {\"outlinewidth\": 0, \"ticks\": \"\"}}, \"colorscale\": {\"diverging\": [[0, \"#8e0152\"], [0.1, \"#c51b7d\"], [0.2, \"#de77ae\"], [0.3, \"#f1b6da\"], [0.4, \"#fde0ef\"], [0.5, \"#f7f7f7\"], [0.6, \"#e6f5d0\"], [0.7, \"#b8e186\"], [0.8, \"#7fbc41\"], [0.9, \"#4d9221\"], [1, \"#276419\"]], \"sequential\": [[0.0, \"#0d0887\"], [0.1111111111111111, \"#46039f\"], [0.2222222222222222, \"#7201a8\"], [0.3333333333333333, \"#9c179e\"], [0.4444444444444444, \"#bd3786\"], [0.5555555555555556, \"#d8576b\"], [0.6666666666666666, \"#ed7953\"], [0.7777777777777778, \"#fb9f3a\"], [0.8888888888888888, \"#fdca26\"], [1.0, \"#f0f921\"]], \"sequentialminus\": [[0.0, \"#0d0887\"], [0.1111111111111111, \"#46039f\"], [0.2222222222222222, \"#7201a8\"], [0.3333333333333333, \"#9c179e\"], [0.4444444444444444, \"#bd3786\"], [0.5555555555555556, \"#d8576b\"], [0.6666666666666666, \"#ed7953\"], [0.7777777777777778, \"#fb9f3a\"], [0.8888888888888888, \"#fdca26\"], [1.0, \"#f0f921\"]]}, \"colorway\": [\"#636efa\", \"#EF553B\", \"#00cc96\", \"#ab63fa\", \"#FFA15A\", \"#19d3f3\", \"#FF6692\", \"#B6E880\", \"#FF97FF\", \"#FECB52\"], \"font\": {\"color\": \"#2a3f5f\"}, \"geo\": {\"bgcolor\": \"white\", \"lakecolor\": \"white\", \"landcolor\": \"#E5ECF6\", \"showlakes\": true, \"showland\": true, \"subunitcolor\": \"white\"}, \"hoverlabel\": {\"align\": \"left\"}, \"hovermode\": \"closest\", \"mapbox\": {\"style\": \"light\"}, \"paper_bgcolor\": \"white\", \"plot_bgcolor\": \"#E5ECF6\", \"polar\": {\"angularaxis\": {\"gridcolor\": \"white\", \"linecolor\": \"white\", \"ticks\": \"\"}, \"bgcolor\": \"#E5ECF6\", \"radialaxis\": {\"gridcolor\": \"white\", \"linecolor\": \"white\", \"ticks\": \"\"}}, \"scene\": {\"xaxis\": {\"backgroundcolor\": \"#E5ECF6\", \"gridcolor\": \"white\", \"gridwidth\": 2, \"linecolor\": \"white\", \"showbackground\": true, \"ticks\": \"\", \"zerolinecolor\": \"white\"}, \"yaxis\": {\"backgroundcolor\": \"#E5ECF6\", \"gridcolor\": \"white\", \"gridwidth\": 2, \"linecolor\": \"white\", \"showbackground\": true, \"ticks\": \"\", \"zerolinecolor\": \"white\"}, \"zaxis\": {\"backgroundcolor\": \"#E5ECF6\", \"gridcolor\": \"white\", \"gridwidth\": 2, \"linecolor\": \"white\", \"showbackground\": true, \"ticks\": \"\", \"zerolinecolor\": \"white\"}}, \"shapedefaults\": {\"line\": {\"color\": \"#2a3f5f\"}}, \"ternary\": {\"aaxis\": {\"gridcolor\": \"white\", \"linecolor\": \"white\", \"ticks\": \"\"}, \"baxis\": {\"gridcolor\": \"white\", \"linecolor\": \"white\", \"ticks\": \"\"}, \"bgcolor\": \"#E5ECF6\", \"caxis\": {\"gridcolor\": \"white\", \"linecolor\": \"white\", \"ticks\": \"\"}}, \"title\": {\"x\": 0.05}, \"xaxis\": {\"automargin\": true, \"gridcolor\": \"white\", \"linecolor\": \"white\", \"ticks\": \"\", \"title\": {\"standoff\": 15}, \"zerolinecolor\": \"white\", \"zerolinewidth\": 2}, \"yaxis\": {\"automargin\": true, \"gridcolor\": \"white\", \"linecolor\": \"white\", \"ticks\": \"\", \"title\": {\"standoff\": 15}, \"zerolinecolor\": \"white\", \"zerolinewidth\": 2}}}},                        {\"responsive\": true}                    ).then(function(){\n                            \nvar gd = document.getElementById('ed036cd3-5702-4862-a8ca-47c387c59c72');\nvar x = new MutationObserver(function (mutations, observer) {{\n        var display = window.getComputedStyle(gd).display;\n        if (!display || display === 'none') {{\n            console.log([gd, 'removed!']);\n            Plotly.purge(gd);\n            observer.disconnect();\n        }}\n}});\n\n// Listen for the removal of the full notebook cells\nvar notebookContainer = gd.closest('#notebook-container');\nif (notebookContainer) {{\n    x.observe(notebookContainer, {childList: true});\n}}\n\n// Listen for the clearing of the current output cell\nvar outputEl = gd.closest('.output');\nif (outputEl) {{\n    x.observe(outputEl, {childList: true});\n}}\n\n                        })                };                });            </script>        </div>"
     },
     "metadata": {}
    }
   ],
   "source": [
    "\n",
    "np.random.seed(1)\n",
    "\n",
    "N = 100\n",
    "x = np.random.rand(N)\n",
    "y = np.random.rand(N)\n",
    "colors = np.random.rand(N)\n",
    "sz = np.random.rand(N) * 30\n",
    "\n",
    "fig = go.Figure()\n",
    "fig.add_trace(go.Scatter(\n",
    "    x=x,\n",
    "    y=y,\n",
    "    mode=\"markers\",\n",
    "    marker=go.scatter.Marker(\n",
    "        size=sz,\n",
    "        color=colors,\n",
    "        opacity=0.6,\n",
    "        colorscale=\"Viridis\"\n",
    "    )\n",
    "))\n",
    "\n",
    "html_file = 'plotly-circles-plot.html'\n",
    "fname = 'plotly-circles-plot'\n",
    "\n",
    "fig.show()"
   ]
  },
  {
   "cell_type": "code",
   "execution_count": 18,
   "metadata": {},
   "outputs": [
    {
     "output_type": "execute_result",
     "data": {
      "text/plain": [
       "'plotly-circles-plot.html'"
      ]
     },
     "metadata": {},
     "execution_count": 18
    }
   ],
   "source": [
    "plot(fig, filename=html_file, auto_open=True,\n",
    "                    image_width=1280, image_height=800,\n",
    "                    image_filename=fname, image='png')"
   ]
  },
  {
   "cell_type": "code",
   "execution_count": 19,
   "metadata": {},
   "outputs": [
    {
     "output_type": "execute_result",
     "data": {
      "text/plain": [
       "'plotly-fruit-plot.html'"
      ]
     },
     "metadata": {},
     "execution_count": 19
    }
   ],
   "source": [
    "import plotly\n",
    "import plotly.graph_objs as go\n",
    "\n",
    "data = [go.Bar(x=['Apples', 'Pears', 'Nectarines', 'Plums', 'Grapes', 'Strawberries'],\n",
    "               y=[5, 3, 4, 2, 4, 6])]\n",
    "\n",
    "html_file = 'plotly-fruit-plot.html'\n",
    "fname = 'plotly-fruit-plot'\n",
    "\n",
    "plotly.offline.plot(data, filename=html_file, auto_open=False,\n",
    "                    image_width=1280, image_height=800,\n",
    "                    image_filename=fname, image='png')"
   ]
  },
  {
   "cell_type": "code",
   "execution_count": null,
   "metadata": {},
   "outputs": [],
   "source": []
  }
 ]
}