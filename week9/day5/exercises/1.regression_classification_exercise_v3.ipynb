{
 "metadata": {
  "language_info": {
   "codemirror_mode": {
    "name": "ipython",
    "version": 3
   },
   "file_extension": ".py",
   "mimetype": "text/x-python",
   "name": "python",
   "nbconvert_exporter": "python",
   "pygments_lexer": "ipython3",
   "version": 3
  },
  "orig_nbformat": 2
 },
 "nbformat": 4,
 "nbformat_minor": 2,
 "cells": [
  {
   "cell_type": "markdown",
   "metadata": {},
   "source": [
    "Añade al archivo \"5.regression_classification_exercise_v2\" del CW9D2/exercises/, todos los algoritmos que hemos visto. Estos son:\n",
    "\n",
    "### Regresión:\n",
    "\n",
    "- Linear Regression\n",
    "- SVM (versión regresión SVR)\n",
    "- Polinominal Regression\n",
    "- Random Forest (versión regresión)\n",
    "\n",
    "### Clasificación:\n",
    "\n",
    "- SVM (versión regresión SVC)\n",
    "- Knn\n",
    "- Random Forest (versión clasificación)\n",
    "- Xgboost (si todo OK)\n",
    "- Logistic regression\n",
    "\n",
    "Haz que se puedan ejecutar de forma genérica para varias features de los algoritmos. Por ejemplo, que se ejecute con \"param\" para diferentes grados del polinomio y para usar diferentes kernels en SVM. \n",
    "\n",
    "Utiliza Grid Search sacar el mejor posible de los algoritmos elegidos con diferentes parámetros."
   ]
  },
  {
   "cell_type": "code",
   "execution_count": null,
   "metadata": {},
   "outputs": [],
   "source": []
  }
 ]
}