{
 "cells": [
  {
   "cell_type": "markdown",
   "metadata": {},
   "source": [
    "![image](images/how.png)"
   ]
  },
  {
   "source": [
    "#### Aquí encontrarás todo lo que necesitas saber: https://www.kaggle.com/t/997162b5cae941f08ac3d3e6ebab504e"
   ],
   "cell_type": "markdown",
   "metadata": {}
  },
  {
   "cell_type": "code",
   "execution_count": 2,
   "metadata": {},
   "outputs": [],
   "source": [
    "import pandas as pd\n",
    "import numpy as np\n",
    "from sklearn import linear_model\n",
    "# la otra forma, pero con mismo resultado: from sklearn.linear_model import LogisticRegression\n",
    "from sklearn.model_selection import train_test_split\n",
    "\n",
    "import warnings\n",
    "warnings.filterwarnings('ignore')"
   ]
  },
  {
   "cell_type": "code",
   "execution_count": 3,
   "metadata": {},
   "outputs": [],
   "source": [
    "### para que funcione necesitas bajarte los archivos de datos de Kaggle :) \n",
    "df = pd.read_csv(\"data/train_set.csv\")"
   ]
  },
  {
   "cell_type": "code",
   "execution_count": 4,
   "metadata": {},
   "outputs": [
    {
     "output_type": "stream",
     "name": "stdout",
     "text": [
      "<class 'pandas.core.frame.DataFrame'>\nRangeIndex: 100000 entries, 0 to 99999\nData columns (total 18 columns):\n #   Column  Non-Null Count   Dtype  \n---  ------  --------------   -----  \n 0   0       100000 non-null  int64  \n 1   1       100000 non-null  int64  \n 2   2       100000 non-null  object \n 3   3       100000 non-null  int64  \n 4   4       100000 non-null  object \n 5   5       100000 non-null  int64  \n 6   6       100000 non-null  object \n 7   7       100000 non-null  object \n 8   8       100000 non-null  object \n 9   9       99967 non-null   float64\n 10  10      100000 non-null  int64  \n 11  11      98517 non-null   float64\n 12  12      100000 non-null  object \n 13  13      100000 non-null  object \n 14  14      100000 non-null  int64  \n 15  15      100000 non-null  object \n 16  16      100000 non-null  float64\n 17  17      100000 non-null  object \ndtypes: float64(3), int64(6), object(9)\nmemory usage: 13.7+ MB\n"
     ]
    }
   ],
   "source": [
    "df.info()"
   ]
  },
  {
   "cell_type": "code",
   "execution_count": 11,
   "metadata": {},
   "outputs": [
    {
     "output_type": "execute_result",
     "data": {
      "text/plain": [
       "        0   1  2  3  4  5           6  7  8    9      10    11         12  \\\n",
       "0  161528   6  a  6  X  2  gynecology  R  F  4.0   45810   2.0     Urgent   \n",
       "1  159472  23  a  6  X  4  gynecology  Q  F  2.0  128565  15.0     Trauma   \n",
       "2  309765   2  c  5  Z  2  anesthesia  S  F  3.0   46565   5.0     Urgent   \n",
       "3  279614  32  f  9  Y  3  gynecology  S  B  4.0  124546   6.0  Emergency   \n",
       "4  147791  14  a  1  X  3  gynecology  S  E  2.0   22729   8.0     Urgent   \n",
       "\n",
       "         13  14     15      16     17  \n",
       "0  Moderate   2  21-30  2817.0   0-10  \n",
       "1  Moderate   4  51-60  4498.0  21-30  \n",
       "2  Moderate   2  71-80  4573.0  11-20  \n",
       "3  Moderate   4  11-20  7202.0  51-60  \n",
       "4  Moderate   2  51-60  3398.0  51-60  "
      ],
      "text/html": "<div>\n<style scoped>\n    .dataframe tbody tr th:only-of-type {\n        vertical-align: middle;\n    }\n\n    .dataframe tbody tr th {\n        vertical-align: top;\n    }\n\n    .dataframe thead th {\n        text-align: right;\n    }\n</style>\n<table border=\"1\" class=\"dataframe\">\n  <thead>\n    <tr style=\"text-align: right;\">\n      <th></th>\n      <th>0</th>\n      <th>1</th>\n      <th>2</th>\n      <th>3</th>\n      <th>4</th>\n      <th>5</th>\n      <th>6</th>\n      <th>7</th>\n      <th>8</th>\n      <th>9</th>\n      <th>10</th>\n      <th>11</th>\n      <th>12</th>\n      <th>13</th>\n      <th>14</th>\n      <th>15</th>\n      <th>16</th>\n      <th>17</th>\n    </tr>\n  </thead>\n  <tbody>\n    <tr>\n      <th>0</th>\n      <td>161528</td>\n      <td>6</td>\n      <td>a</td>\n      <td>6</td>\n      <td>X</td>\n      <td>2</td>\n      <td>gynecology</td>\n      <td>R</td>\n      <td>F</td>\n      <td>4.0</td>\n      <td>45810</td>\n      <td>2.0</td>\n      <td>Urgent</td>\n      <td>Moderate</td>\n      <td>2</td>\n      <td>21-30</td>\n      <td>2817.0</td>\n      <td>0-10</td>\n    </tr>\n    <tr>\n      <th>1</th>\n      <td>159472</td>\n      <td>23</td>\n      <td>a</td>\n      <td>6</td>\n      <td>X</td>\n      <td>4</td>\n      <td>gynecology</td>\n      <td>Q</td>\n      <td>F</td>\n      <td>2.0</td>\n      <td>128565</td>\n      <td>15.0</td>\n      <td>Trauma</td>\n      <td>Moderate</td>\n      <td>4</td>\n      <td>51-60</td>\n      <td>4498.0</td>\n      <td>21-30</td>\n    </tr>\n    <tr>\n      <th>2</th>\n      <td>309765</td>\n      <td>2</td>\n      <td>c</td>\n      <td>5</td>\n      <td>Z</td>\n      <td>2</td>\n      <td>anesthesia</td>\n      <td>S</td>\n      <td>F</td>\n      <td>3.0</td>\n      <td>46565</td>\n      <td>5.0</td>\n      <td>Urgent</td>\n      <td>Moderate</td>\n      <td>2</td>\n      <td>71-80</td>\n      <td>4573.0</td>\n      <td>11-20</td>\n    </tr>\n    <tr>\n      <th>3</th>\n      <td>279614</td>\n      <td>32</td>\n      <td>f</td>\n      <td>9</td>\n      <td>Y</td>\n      <td>3</td>\n      <td>gynecology</td>\n      <td>S</td>\n      <td>B</td>\n      <td>4.0</td>\n      <td>124546</td>\n      <td>6.0</td>\n      <td>Emergency</td>\n      <td>Moderate</td>\n      <td>4</td>\n      <td>11-20</td>\n      <td>7202.0</td>\n      <td>51-60</td>\n    </tr>\n    <tr>\n      <th>4</th>\n      <td>147791</td>\n      <td>14</td>\n      <td>a</td>\n      <td>1</td>\n      <td>X</td>\n      <td>3</td>\n      <td>gynecology</td>\n      <td>S</td>\n      <td>E</td>\n      <td>2.0</td>\n      <td>22729</td>\n      <td>8.0</td>\n      <td>Urgent</td>\n      <td>Moderate</td>\n      <td>2</td>\n      <td>51-60</td>\n      <td>3398.0</td>\n      <td>51-60</td>\n    </tr>\n  </tbody>\n</table>\n</div>"
     },
     "metadata": {},
     "execution_count": 11
    }
   ],
   "source": [
    "df.head()"
   ]
  },
  {
   "cell_type": "code",
   "execution_count": 12,
   "metadata": {},
   "outputs": [],
   "source": [
    "# esto es necesario para evitar futuros errores pero si quitaráis las columnas con Nan no haría falta\n",
    "# Nan no vale pero 0 sí\n",
    "df = df.dropna()\n",
    "# esto quita filas y por tanto no se lo podremos aplicar al dataset de predicción"
   ]
  },
  {
   "cell_type": "code",
   "execution_count": 13,
   "metadata": {},
   "outputs": [],
   "source": [
    "# quitad la primera columna porque corresponde con el case_id y por tanto no le servirá al modelo para aprender...\n",
    "# quitar otras columnas es decisión vuestra como futuros data scientists \n",
    "df.drop(\"0\",1,inplace = True)"
   ]
  },
  {
   "cell_type": "markdown",
   "metadata": {},
   "source": [
    "#### 1. Definir X e y"
   ]
  },
  {
   "cell_type": "code",
   "execution_count": 14,
   "metadata": {},
   "outputs": [
    {
     "output_type": "execute_result",
     "data": {
      "text/plain": [
       "(98484, 4)"
      ]
     },
     "metadata": {},
     "execution_count": 14
    }
   ],
   "source": [
    "# coger las columnas 1, 3, 5, 9 tiene solo valor ilustrativo, NO LO COPIÉIS\n",
    "X = np.array(df[[\"1\",\"3\",\"5\",\"9\"]])\n",
    "y = np.array(df['17'])\n",
    "X.shape"
   ]
  },
  {
   "cell_type": "code",
   "execution_count": 15,
   "metadata": {},
   "outputs": [
    {
     "output_type": "execute_result",
     "data": {
      "text/plain": [
       "(98484,)"
      ]
     },
     "metadata": {},
     "execution_count": 15
    }
   ],
   "source": [
    "y.shape"
   ]
  },
  {
   "cell_type": "markdown",
   "metadata": {},
   "source": [
    "#### 2. Dividir X_train, X_test, y_train, y_test"
   ]
  },
  {
   "cell_type": "code",
   "execution_count": 16,
   "metadata": {},
   "outputs": [],
   "source": [
    "X_train, X_test, y_train, y_test = train_test_split(X, y, test_size=0.20)"
   ]
  },
  {
   "cell_type": "code",
   "execution_count": 17,
   "metadata": {},
   "outputs": [
    {
     "output_type": "execute_result",
     "data": {
      "text/plain": [
       "array([[22.,  9.,  2.,  3.],\n",
       "       [29.,  4.,  2.,  3.],\n",
       "       [21.,  3.,  1.,  2.],\n",
       "       ...,\n",
       "       [28., 11.,  4.,  3.],\n",
       "       [19.,  7.,  3.,  1.],\n",
       "       [ 7.,  4.,  4.,  1.]])"
      ]
     },
     "metadata": {},
     "execution_count": 17
    }
   ],
   "source": [
    "X_train"
   ]
  },
  {
   "cell_type": "markdown",
   "metadata": {},
   "source": [
    "#### 3. Asignar el modelo (vacío) a una variable\n",
    "Aquí meteríais los parámetros"
   ]
  },
  {
   "cell_type": "code",
   "execution_count": 18,
   "metadata": {},
   "outputs": [],
   "source": [
    "model = linear_model.LogisticRegression()\n",
    "# la otra forma, pero lo mismo: model = LogisticRegression()"
   ]
  },
  {
   "cell_type": "markdown",
   "metadata": {},
   "source": [
    "#### 4. Entrenar el modelo con X_train, y_train"
   ]
  },
  {
   "cell_type": "code",
   "execution_count": 19,
   "metadata": {},
   "outputs": [
    {
     "output_type": "execute_result",
     "data": {
      "text/plain": [
       "LogisticRegression()"
      ]
     },
     "metadata": {},
     "execution_count": 19
    }
   ],
   "source": [
    "model.fit(X_train, y_train)"
   ]
  },
  {
   "cell_type": "markdown",
   "metadata": {},
   "source": [
    "#### 5. Predecir con el modelo ya entrenado con X_test"
   ]
  },
  {
   "cell_type": "code",
   "execution_count": 20,
   "metadata": {},
   "outputs": [
    {
     "output_type": "stream",
     "name": "stdout",
     "text": [
      "['21-30' '11-20' '11-20' ... '21-30' '21-30' '21-30']\n"
     ]
    }
   ],
   "source": [
    "predictions = model.predict(X_test)\n",
    "print(predictions)"
   ]
  },
  {
   "cell_type": "markdown",
   "metadata": {},
   "source": [
    "#### 6. Sacar métricas, valorar el modelo "
   ]
  },
  {
   "cell_type": "code",
   "execution_count": 21,
   "metadata": {},
   "outputs": [
    {
     "output_type": "execute_result",
     "data": {
      "text/plain": [
       "0.2909580139107478"
      ]
     },
     "metadata": {},
     "execution_count": 21
    }
   ],
   "source": [
    "model.score(X_test,y_test)"
   ]
  },
  {
   "cell_type": "markdown",
   "metadata": {},
   "source": [
    "## Una vez listo el modelo, toca predecir con el dataset de predicción "
   ]
  },
  {
   "cell_type": "code",
   "execution_count": 22,
   "metadata": {},
   "outputs": [],
   "source": [
    "to_pred = pd.read_csv(\"data/test_set.csv\")"
   ]
  },
  {
   "cell_type": "code",
   "execution_count": 23,
   "metadata": {},
   "outputs": [
    {
     "output_type": "execute_result",
     "data": {
      "text/plain": [
       "             0   1  2   3  4  5                   6  7  8    9      10    11  \\\n",
       "0       314114  19  a   7  Y  4          gynecology  S  C  2.0   59278   8.0   \n",
       "1       208989  15  c   5  Z  3          gynecology  S  F  2.0  102253  15.0   \n",
       "2       305872  17  e   1  X  4          gynecology  R  E  4.0    5828   4.0   \n",
       "3       266099   3  c   3  Z  4  TB & Chest disease  R  A  2.0   56642   9.0   \n",
       "4        13228   6  a   6  X  4          gynecology  R  F  1.0  116266   8.0   \n",
       "...        ...  .. ..  .. .. ..                 ... .. ..  ...     ...   ...   \n",
       "133739  318155  18  d  13  Y  6          anesthesia  Q  B  3.0  123269  25.0   \n",
       "133740  144850  27  a   7  Y  2          gynecology  S  C  2.0    1293   8.0   \n",
       "133741  180676  16  c   3  Z  3          gynecology  R  A  3.0  112921   5.0   \n",
       "133742   39933  28  b  11  X  4          gynecology  R  F  2.0     585   2.0   \n",
       "133743  116673   6  a   6  X  4  TB & Chest disease  Q  F  2.0  119482  12.0   \n",
       "\n",
       "               12        13  14     15      16  \n",
       "0       Emergency     Minor   2  41-50  4778.0  \n",
       "1          Trauma  Moderate   3  31-40  5734.0  \n",
       "2       Emergency     Minor   3  71-80  5064.0  \n",
       "3          Urgent   Extreme   4  31-40  3254.0  \n",
       "4       Emergency     Minor   3  21-30  4639.0  \n",
       "...           ...       ...  ..    ...     ...  \n",
       "133739     Urgent     Minor   4  51-60  5089.0  \n",
       "133740  Emergency  Moderate   3  61-70  6713.0  \n",
       "133741     Trauma     Minor   3  31-40  5326.0  \n",
       "133742     Trauma   Extreme   2  31-40  7072.0  \n",
       "133743     Trauma  Moderate   4  51-60  5221.0  \n",
       "\n",
       "[133744 rows x 17 columns]"
      ],
      "text/html": "<div>\n<style scoped>\n    .dataframe tbody tr th:only-of-type {\n        vertical-align: middle;\n    }\n\n    .dataframe tbody tr th {\n        vertical-align: top;\n    }\n\n    .dataframe thead th {\n        text-align: right;\n    }\n</style>\n<table border=\"1\" class=\"dataframe\">\n  <thead>\n    <tr style=\"text-align: right;\">\n      <th></th>\n      <th>0</th>\n      <th>1</th>\n      <th>2</th>\n      <th>3</th>\n      <th>4</th>\n      <th>5</th>\n      <th>6</th>\n      <th>7</th>\n      <th>8</th>\n      <th>9</th>\n      <th>10</th>\n      <th>11</th>\n      <th>12</th>\n      <th>13</th>\n      <th>14</th>\n      <th>15</th>\n      <th>16</th>\n    </tr>\n  </thead>\n  <tbody>\n    <tr>\n      <th>0</th>\n      <td>314114</td>\n      <td>19</td>\n      <td>a</td>\n      <td>7</td>\n      <td>Y</td>\n      <td>4</td>\n      <td>gynecology</td>\n      <td>S</td>\n      <td>C</td>\n      <td>2.0</td>\n      <td>59278</td>\n      <td>8.0</td>\n      <td>Emergency</td>\n      <td>Minor</td>\n      <td>2</td>\n      <td>41-50</td>\n      <td>4778.0</td>\n    </tr>\n    <tr>\n      <th>1</th>\n      <td>208989</td>\n      <td>15</td>\n      <td>c</td>\n      <td>5</td>\n      <td>Z</td>\n      <td>3</td>\n      <td>gynecology</td>\n      <td>S</td>\n      <td>F</td>\n      <td>2.0</td>\n      <td>102253</td>\n      <td>15.0</td>\n      <td>Trauma</td>\n      <td>Moderate</td>\n      <td>3</td>\n      <td>31-40</td>\n      <td>5734.0</td>\n    </tr>\n    <tr>\n      <th>2</th>\n      <td>305872</td>\n      <td>17</td>\n      <td>e</td>\n      <td>1</td>\n      <td>X</td>\n      <td>4</td>\n      <td>gynecology</td>\n      <td>R</td>\n      <td>E</td>\n      <td>4.0</td>\n      <td>5828</td>\n      <td>4.0</td>\n      <td>Emergency</td>\n      <td>Minor</td>\n      <td>3</td>\n      <td>71-80</td>\n      <td>5064.0</td>\n    </tr>\n    <tr>\n      <th>3</th>\n      <td>266099</td>\n      <td>3</td>\n      <td>c</td>\n      <td>3</td>\n      <td>Z</td>\n      <td>4</td>\n      <td>TB &amp; Chest disease</td>\n      <td>R</td>\n      <td>A</td>\n      <td>2.0</td>\n      <td>56642</td>\n      <td>9.0</td>\n      <td>Urgent</td>\n      <td>Extreme</td>\n      <td>4</td>\n      <td>31-40</td>\n      <td>3254.0</td>\n    </tr>\n    <tr>\n      <th>4</th>\n      <td>13228</td>\n      <td>6</td>\n      <td>a</td>\n      <td>6</td>\n      <td>X</td>\n      <td>4</td>\n      <td>gynecology</td>\n      <td>R</td>\n      <td>F</td>\n      <td>1.0</td>\n      <td>116266</td>\n      <td>8.0</td>\n      <td>Emergency</td>\n      <td>Minor</td>\n      <td>3</td>\n      <td>21-30</td>\n      <td>4639.0</td>\n    </tr>\n    <tr>\n      <th>...</th>\n      <td>...</td>\n      <td>...</td>\n      <td>...</td>\n      <td>...</td>\n      <td>...</td>\n      <td>...</td>\n      <td>...</td>\n      <td>...</td>\n      <td>...</td>\n      <td>...</td>\n      <td>...</td>\n      <td>...</td>\n      <td>...</td>\n      <td>...</td>\n      <td>...</td>\n      <td>...</td>\n      <td>...</td>\n    </tr>\n    <tr>\n      <th>133739</th>\n      <td>318155</td>\n      <td>18</td>\n      <td>d</td>\n      <td>13</td>\n      <td>Y</td>\n      <td>6</td>\n      <td>anesthesia</td>\n      <td>Q</td>\n      <td>B</td>\n      <td>3.0</td>\n      <td>123269</td>\n      <td>25.0</td>\n      <td>Urgent</td>\n      <td>Minor</td>\n      <td>4</td>\n      <td>51-60</td>\n      <td>5089.0</td>\n    </tr>\n    <tr>\n      <th>133740</th>\n      <td>144850</td>\n      <td>27</td>\n      <td>a</td>\n      <td>7</td>\n      <td>Y</td>\n      <td>2</td>\n      <td>gynecology</td>\n      <td>S</td>\n      <td>C</td>\n      <td>2.0</td>\n      <td>1293</td>\n      <td>8.0</td>\n      <td>Emergency</td>\n      <td>Moderate</td>\n      <td>3</td>\n      <td>61-70</td>\n      <td>6713.0</td>\n    </tr>\n    <tr>\n      <th>133741</th>\n      <td>180676</td>\n      <td>16</td>\n      <td>c</td>\n      <td>3</td>\n      <td>Z</td>\n      <td>3</td>\n      <td>gynecology</td>\n      <td>R</td>\n      <td>A</td>\n      <td>3.0</td>\n      <td>112921</td>\n      <td>5.0</td>\n      <td>Trauma</td>\n      <td>Minor</td>\n      <td>3</td>\n      <td>31-40</td>\n      <td>5326.0</td>\n    </tr>\n    <tr>\n      <th>133742</th>\n      <td>39933</td>\n      <td>28</td>\n      <td>b</td>\n      <td>11</td>\n      <td>X</td>\n      <td>4</td>\n      <td>gynecology</td>\n      <td>R</td>\n      <td>F</td>\n      <td>2.0</td>\n      <td>585</td>\n      <td>2.0</td>\n      <td>Trauma</td>\n      <td>Extreme</td>\n      <td>2</td>\n      <td>31-40</td>\n      <td>7072.0</td>\n    </tr>\n    <tr>\n      <th>133743</th>\n      <td>116673</td>\n      <td>6</td>\n      <td>a</td>\n      <td>6</td>\n      <td>X</td>\n      <td>4</td>\n      <td>TB &amp; Chest disease</td>\n      <td>Q</td>\n      <td>F</td>\n      <td>2.0</td>\n      <td>119482</td>\n      <td>12.0</td>\n      <td>Trauma</td>\n      <td>Moderate</td>\n      <td>4</td>\n      <td>51-60</td>\n      <td>5221.0</td>\n    </tr>\n  </tbody>\n</table>\n<p>133744 rows × 17 columns</p>\n</div>"
     },
     "metadata": {},
     "execution_count": 23
    }
   ],
   "source": [
    "# la primera columna es id_case, deberéis quitarla para hacer la predicción si la habéis quitado para entrenar\n",
    "# pero guardarla para incluirla en la submission\n",
    "\n",
    "# IMPORTANTE: APLICAR LO MISMO A ESTOS DATOS QUE HAYÁIS APLICADO A LOS DATOS DE ENTRENAMIENTO\n",
    "# SI EL ARRAY CON EL QUE HICISTEIS .fit() ERA DE 4 COLUMNAS, PARA .predict() DEBEN SER LAS MISMAS\n",
    "# SI AL ARRAY CON EL QUE HICISTEIS .fit() LO NORMALIZASTEIS, PARA .predict() DEBÉIS NORMALIZARLO\n",
    "# TODO IGUAL SALVO BORRAR FILAS, EL NÚMERO DE ROWS SE DEBE MANTENER EN ESTE SET, PUES LA PREDICCIÓN DEBE TENER 133744 FILAS\n",
    "# SI O SI\n",
    "\n",
    "to_pred"
   ]
  },
  {
   "cell_type": "code",
   "execution_count": 24,
   "metadata": {},
   "outputs": [],
   "source": [
    "# para evitar este error ValueError: Input contains NaN, infinity or a value too large for dtype('float64').\n",
    "to_pred = to_pred.fillna(0)"
   ]
  },
  {
   "cell_type": "code",
   "execution_count": 25,
   "metadata": {},
   "outputs": [
    {
     "output_type": "execute_result",
     "data": {
      "text/plain": [
       "array(['21-30', '21-30', '11-20', ..., '21-30', '21-30', '21-30'],\n",
       "      dtype=object)"
      ]
     },
     "metadata": {},
     "execution_count": 25
    }
   ],
   "source": [
    "predictions_submit = model.predict(to_pred[[\"1\",\"3\",\"5\",\"9\"]])\n",
    "predictions_submit"
   ]
  },
  {
   "cell_type": "code",
   "execution_count": 26,
   "metadata": {},
   "outputs": [
    {
     "output_type": "execute_result",
     "data": {
      "text/plain": [
       "            id   days\n",
       "0       314114  21-30\n",
       "1       208989  21-30\n",
       "2       305872  11-20\n",
       "3       266099  21-30\n",
       "4        13228  21-30\n",
       "...        ...    ...\n",
       "133739  318155  21-30\n",
       "133740  144850  21-30\n",
       "133741  180676  21-30\n",
       "133742   39933  21-30\n",
       "133743  116673  21-30\n",
       "\n",
       "[133744 rows x 2 columns]"
      ],
      "text/html": "<div>\n<style scoped>\n    .dataframe tbody tr th:only-of-type {\n        vertical-align: middle;\n    }\n\n    .dataframe tbody tr th {\n        vertical-align: top;\n    }\n\n    .dataframe thead th {\n        text-align: right;\n    }\n</style>\n<table border=\"1\" class=\"dataframe\">\n  <thead>\n    <tr style=\"text-align: right;\">\n      <th></th>\n      <th>id</th>\n      <th>days</th>\n    </tr>\n  </thead>\n  <tbody>\n    <tr>\n      <th>0</th>\n      <td>314114</td>\n      <td>21-30</td>\n    </tr>\n    <tr>\n      <th>1</th>\n      <td>208989</td>\n      <td>21-30</td>\n    </tr>\n    <tr>\n      <th>2</th>\n      <td>305872</td>\n      <td>11-20</td>\n    </tr>\n    <tr>\n      <th>3</th>\n      <td>266099</td>\n      <td>21-30</td>\n    </tr>\n    <tr>\n      <th>4</th>\n      <td>13228</td>\n      <td>21-30</td>\n    </tr>\n    <tr>\n      <th>...</th>\n      <td>...</td>\n      <td>...</td>\n    </tr>\n    <tr>\n      <th>133739</th>\n      <td>318155</td>\n      <td>21-30</td>\n    </tr>\n    <tr>\n      <th>133740</th>\n      <td>144850</td>\n      <td>21-30</td>\n    </tr>\n    <tr>\n      <th>133741</th>\n      <td>180676</td>\n      <td>21-30</td>\n    </tr>\n    <tr>\n      <th>133742</th>\n      <td>39933</td>\n      <td>21-30</td>\n    </tr>\n    <tr>\n      <th>133743</th>\n      <td>116673</td>\n      <td>21-30</td>\n    </tr>\n  </tbody>\n</table>\n<p>133744 rows × 2 columns</p>\n</div>"
     },
     "metadata": {},
     "execution_count": 26
    }
   ],
   "source": [
    "submission = pd.DataFrame({\"id\": to_pred[\"0\"], \"days\": predictions_submit})\n",
    "submission"
   ]
  },
  {
   "cell_type": "code",
   "execution_count": 27,
   "metadata": {},
   "outputs": [],
   "source": [
    "sample = pd.read_csv(\"data/sample_submission.csv\")"
   ]
  },
  {
   "cell_type": "code",
   "execution_count": 28,
   "metadata": {},
   "outputs": [
    {
     "output_type": "execute_result",
     "data": {
      "text/plain": [
       "(133744, 2)"
      ]
     },
     "metadata": {},
     "execution_count": 28
    }
   ],
   "source": [
    "sample.shape"
   ]
  },
  {
   "cell_type": "code",
   "execution_count": 29,
   "metadata": {},
   "outputs": [
    {
     "output_type": "stream",
     "name": "stdout",
     "text": [
      "you're ready to submit!\n"
     ]
    }
   ],
   "source": [
    "if submission.shape == sample.shape:\n",
    "    if submission.columns.all() == sample.columns.all():\n",
    "        if submission.id.all() == sample.id.all():\n",
    "            print(\"you're ready to submit!\")\n",
    "            submission.to_csv(\"output/to_submit.csv\", index = False)\n",
    "            # ¡¡¡¡¡¡¡ADD INDEX = FALSE!!!!!!!!!"
   ]
  }
 ],
 "metadata": {
  "kernelspec": {
   "name": "python3",
   "display_name": "Python 3.8.3 64-bit",
   "metadata": {
    "interpreter": {
     "hash": "885e59b4117422d4ddb743cd3083a9f7c4f583d62da3718482f61dc5ec76cf03"
    }
   }
  },
  "language_info": {
   "codemirror_mode": {
    "name": "ipython",
    "version": 3
   },
   "file_extension": ".py",
   "mimetype": "text/x-python",
   "name": "python",
   "nbconvert_exporter": "python",
   "pygments_lexer": "ipython3",
   "version": "3.8.3-final"
  }
 },
 "nbformat": 4,
 "nbformat_minor": 4
}