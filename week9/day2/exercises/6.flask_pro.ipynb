{
 "metadata": {
  "language_info": {
   "codemirror_mode": {
    "name": "ipython",
    "version": 3
   },
   "file_extension": ".py",
   "mimetype": "text/x-python",
   "name": "python",
   "nbconvert_exporter": "python",
   "pygments_lexer": "ipython3",
   "version": 3
  },
  "orig_nbformat": 2
 },
 "nbformat": 4,
 "nbformat_minor": 2,
 "cells": [
  {
   "cell_type": "markdown",
   "metadata": {},
   "source": [
    "Investiga la forma de mostrar un botón upload en tu servidor flask al entrar en la URL y que permita subir un archivo (csv, json, etc) que se almacene en tu pc. \n",
    "\n",
    "Una vez esté hecho,carga con pandas el archivo y muestra en la web el número de filas y columnas que tiene el dataframe. "
   ]
  },
  {
   "cell_type": "code",
   "execution_count": null,
   "metadata": {},
   "outputs": [],
   "source": []
  }
 ]
}